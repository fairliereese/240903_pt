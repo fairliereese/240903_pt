{
 "cells": [
  {
   "cell_type": "markdown",
   "id": "f862626b-db00-415f-a441-5e4be2ebf1cb",
   "metadata": {
    "editable": true,
    "slideshow": {
     "slide_type": ""
    },
    "tags": []
   },
   "source": [
    "## Goal: update master table with fixed population-sharing values "
   ]
  },
  {
   "cell_type": "code",
   "execution_count": 1,
   "id": "bebf766b-d006-42f5-b6b9-fa61eaa427b9",
   "metadata": {
    "editable": true,
    "slideshow": {
     "slide_type": ""
    },
    "tags": []
   },
   "outputs": [],
   "source": [
    "import pandas as pd\n",
    "import numpy as np\n",
    "import scipy.stats as st\n",
    "import seaborn as sns\n",
    "import sys\n",
    "import upsetplot\n",
    "import os\n",
    "import matplotlib.pyplot as plt\n",
    "import yaml\n",
    "from snakemake.io import expand\n",
    "import pyranges as pr\n",
    "from pyfaidx import Fasta\n",
    "from mizani.formatters import percent_format\n",
    "from scipy import stats\n",
    "\n",
    "\n",
    "p = os.path.dirname(os.getcwd())\n",
    "sys.path.append(p)\n",
    "\n",
    "from scripts.utils import *\n",
    "from scripts.vcf_utils import *\n",
    "from scripts.plotting import *\n",
    "\n",
    "from plotnine import *"
   ]
  },
  {
   "cell_type": "code",
   "execution_count": 2,
   "id": "fd4e4dcb-2518-444e-988b-22f425fcf426",
   "metadata": {
    "editable": true,
    "slideshow": {
     "slide_type": ""
    },
    "tags": []
   },
   "outputs": [],
   "source": [
    "config = load_config()\n",
    "od = '../'\n",
    "\n",
    "def proc_cfg(entry, od):\n",
    "    entry = entry.replace('../../', '')\n",
    "    entry = od+entry\n",
    "    return entry"
   ]
  },
  {
   "cell_type": "code",
   "execution_count": 4,
   "id": "164bdd32-799e-463a-82de-114e22e50c02",
   "metadata": {
    "editable": true,
    "slideshow": {
     "slide_type": ""
    },
    "tags": []
   },
   "outputs": [],
   "source": [
    "mt_df = pd.read_csv('../data/05_mastertable/26062025_PODER_mastertable.tsv', sep='\\t')\n",
    "# mt_df = mt_df.loc[mt_df['filter']=='pass']\n",
    "pops = get_population_colors()[1]\n",
    "mt_df['population_sharing_2'] = (mt_df[pops]>0).sum(axis=1)\n",
    "mt_df['pop_spec_t'] = (mt_df.population_sharing==1)&\\\n",
    "                      (mt_df.sample_sharing>1)\n",
    "mt_df['det_pop'] = mt_df[get_population_colors()[1]].idxmax(axis=1)"
   ]
  },
  {
   "cell_type": "code",
   "execution_count": 5,
   "id": "7f7695ef-3817-42b0-b441-14236ee44564",
   "metadata": {},
   "outputs": [
    {
     "data": {
      "text/html": [
       "<div>\n",
       "<style scoped>\n",
       "    .dataframe tbody tr th:only-of-type {\n",
       "        vertical-align: middle;\n",
       "    }\n",
       "\n",
       "    .dataframe tbody tr th {\n",
       "        vertical-align: top;\n",
       "    }\n",
       "\n",
       "    .dataframe thead th {\n",
       "        text-align: right;\n",
       "    }\n",
       "</style>\n",
       "<table border=\"1\" class=\"dataframe\">\n",
       "  <thead>\n",
       "    <tr style=\"text-align: right;\">\n",
       "      <th></th>\n",
       "      <th>isoform</th>\n",
       "      <th>geneid.v</th>\n",
       "      <th>associated_gene_biotype</th>\n",
       "      <th>proteinv47_Chromosome</th>\n",
       "      <th>proteinv47_Start</th>\n",
       "      <th>proteinv47_Stop</th>\n",
       "      <th>proteinv47_Strand</th>\n",
       "      <th>proteinv47_Source</th>\n",
       "      <th>proteinv47_CDS_Source</th>\n",
       "      <th>proteinv47_CDS_Start</th>\n",
       "      <th>...</th>\n",
       "      <th>perc_A_downstream_TTS</th>\n",
       "      <th>seq_A_downstream_TTS</th>\n",
       "      <th>ORF_seq</th>\n",
       "      <th>annotated</th>\n",
       "      <th>predicted_ORF</th>\n",
       "      <th>proteinv47_predicted_ORF</th>\n",
       "      <th>associated_gene_biotype_sub</th>\n",
       "      <th>population_sharing_2</th>\n",
       "      <th>pop_spec_t</th>\n",
       "      <th>det_pop</th>\n",
       "    </tr>\n",
       "  </thead>\n",
       "  <tbody>\n",
       "  </tbody>\n",
       "</table>\n",
       "<p>0 rows × 118 columns</p>\n",
       "</div>"
      ],
      "text/plain": [
       "Empty DataFrame\n",
       "Columns: [isoform, geneid.v, associated_gene_biotype, proteinv47_Chromosome, proteinv47_Start, proteinv47_Stop, proteinv47_Strand, proteinv47_Source, proteinv47_CDS_Source, proteinv47_CDS_Start, proteinv47_CDS_Stop, proteinv47_tid, proteinv47_pid, proteinv47_blastp_identity, proteinv47_blastp_bitscore, proteinv47_transcript_length_nt, proteinv47_orf_length_nt, proteinv47_protein_length_cd, proteinv47_protein_is_nmd, proteinv47_protein_splice_category, proteinv47_protein_splice_subcategory, proteinv47_protein_has_stop_codon, proteinv47_protein_has_start_codon, proteinv47_protein_sequence, espresso, flair, isoquant, lyric, AJI, CEU, HAC, ITU, LWK, MPC, PEL, YRI, AJI1, AJI2, AJI3, AJI4, AJI5, AJI6, CEU1, CEU2, CEU3, CEU4, CEU5, HAC1, HAC2, HAC3, HAC4, HAC5, HAC6, ITU1, ITU2, ITU3, ITU4, ITU5, LWK1, LWK2, LWK3, LWK4, LWK5, MPC1, MPC2, MPC3, MPC4, PEL1, PEL2, PEL3, PEL4, PEL5, PEL6, YRI1, YRI2, YRI3, YRI5, YRI6, YRI7, population_sharing, sample_sharing, tool_sharing, chrom, strand, length, exons, structural_category, associated_gene, associated_transcript, ref_length, ref_exons, diff_to_TSS, diff_to_TTS, diff_to_gene_TSS, diff_to_gene_TTS, subcategory, RTS_stage, all_canonical, bite, FSM_class, ...]\n",
       "Index: []\n",
       "\n",
       "[0 rows x 118 columns]"
      ]
     },
     "execution_count": 5,
     "metadata": {},
     "output_type": "execute_result"
    }
   ],
   "source": [
    "mt_df.loc[mt_df.population_sharing!=mt_df.population_sharing_2]"
   ]
  },
  {
   "cell_type": "code",
   "execution_count": 6,
   "id": "bfc8afd4-7ec6-4945-9cea-5d49e30020a9",
   "metadata": {},
   "outputs": [],
   "source": [
    "# read in the mt that is on zenodo\n",
    "df = pd.read_csv('04_poder_mt.tsv', sep='\\t')\n",
    "df.to_csv('04_poder_mt_back_250721.tsv', sep='\\t')"
   ]
  },
  {
   "cell_type": "code",
   "execution_count": 7,
   "id": "741550b9-e8ba-4f7a-b8ca-43b81ce97ec6",
   "metadata": {},
   "outputs": [],
   "source": [
    "df.drop('population_sharing', axis=1, inplace=True)"
   ]
  },
  {
   "cell_type": "code",
   "execution_count": 10,
   "id": "5454f333-d360-450e-903d-0a136640f95f",
   "metadata": {},
   "outputs": [],
   "source": [
    "df = df.merge(mt_df[['isoform', 'population_sharing']], how='left', on='isoform')\n",
    "assert len(df.loc[df.population_sharing.isnull()].index) == 0"
   ]
  },
  {
   "cell_type": "code",
   "execution_count": 11,
   "id": "6cfdb5de-056a-4780-b6e8-baff4a8769dd",
   "metadata": {},
   "outputs": [],
   "source": [
    "df.to_csv('04_poder_mt.tsv', sep='\\t')"
   ]
  },
  {
   "cell_type": "code",
   "execution_count": 13,
   "id": "f565b94e-3a6f-480a-bb40-9f0eee411c8f",
   "metadata": {},
   "outputs": [
    {
     "data": {
      "text/html": [
       "<div>\n",
       "<style scoped>\n",
       "    .dataframe tbody tr th:only-of-type {\n",
       "        vertical-align: middle;\n",
       "    }\n",
       "\n",
       "    .dataframe tbody tr th {\n",
       "        vertical-align: top;\n",
       "    }\n",
       "\n",
       "    .dataframe thead th {\n",
       "        text-align: right;\n",
       "    }\n",
       "</style>\n",
       "<table border=\"1\" class=\"dataframe\">\n",
       "  <thead>\n",
       "    <tr style=\"text-align: right;\">\n",
       "      <th></th>\n",
       "      <th>isoform</th>\n",
       "      <th>geneid.v</th>\n",
       "      <th>associated_gene_biotype</th>\n",
       "      <th>proteinv47_Start</th>\n",
       "      <th>proteinv47_Stop</th>\n",
       "      <th>proteinv47_CDS_Source</th>\n",
       "      <th>proteinv47_CDS_Start</th>\n",
       "      <th>proteinv47_CDS_Stop</th>\n",
       "      <th>proteinv47_pid</th>\n",
       "      <th>proteinv47_blastp_identity</th>\n",
       "      <th>...</th>\n",
       "      <th>FSM_class</th>\n",
       "      <th>perc_A_downstream_TTS</th>\n",
       "      <th>seq_A_downstream_TTS</th>\n",
       "      <th>pop_spec_t</th>\n",
       "      <th>trunc_annot_aa</th>\n",
       "      <th>elong_annot_aa</th>\n",
       "      <th>annot_aa</th>\n",
       "      <th>aa_novelty</th>\n",
       "      <th>tau</th>\n",
       "      <th>population_sharing</th>\n",
       "    </tr>\n",
       "  </thead>\n",
       "  <tbody>\n",
       "  </tbody>\n",
       "</table>\n",
       "<p>0 rows × 101 columns</p>\n",
       "</div>"
      ],
      "text/plain": [
       "Empty DataFrame\n",
       "Columns: [isoform, geneid.v, associated_gene_biotype, proteinv47_Start, proteinv47_Stop, proteinv47_CDS_Source, proteinv47_CDS_Start, proteinv47_CDS_Stop, proteinv47_pid, proteinv47_blastp_identity, proteinv47_blastp_bitscore, proteinv47_orf_length_nt, proteinv47_protein_length_cd, proteinv47_protein_is_nmd, proteinv47_protein_has_stop_codon, proteinv47_protein_has_start_codon, proteinv47_protein_sequence, espresso, flair, isoquant, lyric, AJI, CEU, HAC, ITU, LWK, MPC, PEL, YRI, AJI1, AJI2, AJI3, AJI4, AJI5, AJI6, CEU1, CEU2, CEU3, CEU4, CEU5, HAC1, HAC2, HAC3, HAC4, HAC5, HAC6, ITU1, ITU2, ITU3, ITU4, ITU5, LWK1, LWK2, LWK3, LWK4, LWK5, MPC1, MPC2, MPC3, MPC4, PEL1, PEL2, PEL3, PEL4, PEL5, PEL6, YRI1, YRI2, YRI3, YRI5, YRI6, YRI7, sample_sharing, tool_sharing, chrom, strand, length, exons, structural_category, associated_gene, associated_transcript, ref_length, ref_exons, diff_to_TSS, diff_to_TTS, diff_to_gene_TSS, diff_to_gene_TTS, subcategory, RTS_stage, all_canonical, bite, FSM_class, perc_A_downstream_TTS, seq_A_downstream_TTS, pop_spec_t, trunc_annot_aa, elong_annot_aa, annot_aa, aa_novelty, tau, ...]\n",
       "Index: []\n",
       "\n",
       "[0 rows x 101 columns]"
      ]
     },
     "execution_count": 13,
     "metadata": {},
     "output_type": "execute_result"
    }
   ],
   "source": [
    "df.loc[df.population_sharing>df.sample_sharing]"
   ]
  },
  {
   "cell_type": "code",
   "execution_count": 14,
   "id": "aac39a32-5faa-4cf2-8f22-78ecc5240881",
   "metadata": {},
   "outputs": [
    {
     "data": {
      "text/html": [
       "<div>\n",
       "<style scoped>\n",
       "    .dataframe tbody tr th:only-of-type {\n",
       "        vertical-align: middle;\n",
       "    }\n",
       "\n",
       "    .dataframe tbody tr th {\n",
       "        vertical-align: top;\n",
       "    }\n",
       "\n",
       "    .dataframe thead th {\n",
       "        text-align: right;\n",
       "    }\n",
       "</style>\n",
       "<table border=\"1\" class=\"dataframe\">\n",
       "  <thead>\n",
       "    <tr style=\"text-align: right;\">\n",
       "      <th></th>\n",
       "      <th>isoform</th>\n",
       "      <th>geneid.v</th>\n",
       "      <th>associated_gene_biotype</th>\n",
       "      <th>proteinv47_Start</th>\n",
       "      <th>proteinv47_Stop</th>\n",
       "      <th>proteinv47_CDS_Source</th>\n",
       "      <th>proteinv47_CDS_Start</th>\n",
       "      <th>proteinv47_CDS_Stop</th>\n",
       "      <th>proteinv47_pid</th>\n",
       "      <th>proteinv47_blastp_identity</th>\n",
       "      <th>...</th>\n",
       "      <th>perc_A_downstream_TTS</th>\n",
       "      <th>seq_A_downstream_TTS</th>\n",
       "      <th>pop_spec_t</th>\n",
       "      <th>trunc_annot_aa</th>\n",
       "      <th>elong_annot_aa</th>\n",
       "      <th>annot_aa</th>\n",
       "      <th>aa_novelty</th>\n",
       "      <th>tau</th>\n",
       "      <th>population_sharing</th>\n",
       "      <th>population_sharing_2</th>\n",
       "    </tr>\n",
       "  </thead>\n",
       "  <tbody>\n",
       "  </tbody>\n",
       "</table>\n",
       "<p>0 rows × 102 columns</p>\n",
       "</div>"
      ],
      "text/plain": [
       "Empty DataFrame\n",
       "Columns: [isoform, geneid.v, associated_gene_biotype, proteinv47_Start, proteinv47_Stop, proteinv47_CDS_Source, proteinv47_CDS_Start, proteinv47_CDS_Stop, proteinv47_pid, proteinv47_blastp_identity, proteinv47_blastp_bitscore, proteinv47_orf_length_nt, proteinv47_protein_length_cd, proteinv47_protein_is_nmd, proteinv47_protein_has_stop_codon, proteinv47_protein_has_start_codon, proteinv47_protein_sequence, espresso, flair, isoquant, lyric, AJI, CEU, HAC, ITU, LWK, MPC, PEL, YRI, AJI1, AJI2, AJI3, AJI4, AJI5, AJI6, CEU1, CEU2, CEU3, CEU4, CEU5, HAC1, HAC2, HAC3, HAC4, HAC5, HAC6, ITU1, ITU2, ITU3, ITU4, ITU5, LWK1, LWK2, LWK3, LWK4, LWK5, MPC1, MPC2, MPC3, MPC4, PEL1, PEL2, PEL3, PEL4, PEL5, PEL6, YRI1, YRI2, YRI3, YRI5, YRI6, YRI7, sample_sharing, tool_sharing, chrom, strand, length, exons, structural_category, associated_gene, associated_transcript, ref_length, ref_exons, diff_to_TSS, diff_to_TTS, diff_to_gene_TSS, diff_to_gene_TTS, subcategory, RTS_stage, all_canonical, bite, FSM_class, perc_A_downstream_TTS, seq_A_downstream_TTS, pop_spec_t, trunc_annot_aa, elong_annot_aa, annot_aa, aa_novelty, tau, ...]\n",
       "Index: []\n",
       "\n",
       "[0 rows x 102 columns]"
      ]
     },
     "execution_count": 14,
     "metadata": {},
     "output_type": "execute_result"
    }
   ],
   "source": [
    "df['population_sharing_2'] = (df[pops]>0).sum(axis=1)\n",
    "df.loc[df.population_sharing!=df.population_sharing_2]"
   ]
  },
  {
   "cell_type": "markdown",
   "id": "b2025c5b-1c66-4339-a759-8b6dfbf9bada",
   "metadata": {},
   "source": [
    "## also check the UMA master table"
   ]
  },
  {
   "cell_type": "code",
   "execution_count": 17,
   "id": "91769979-53c5-4a3b-94db-0bd2142586f0",
   "metadata": {},
   "outputs": [],
   "source": [
    "df = pd.read_csv('02_uma_mt.tsv', sep='\\t')"
   ]
  },
  {
   "cell_type": "code",
   "execution_count": 18,
   "id": "da955646-1cf1-4376-9f98-46088afb4453",
   "metadata": {},
   "outputs": [
    {
     "data": {
      "text/html": [
       "<div>\n",
       "<style scoped>\n",
       "    .dataframe tbody tr th:only-of-type {\n",
       "        vertical-align: middle;\n",
       "    }\n",
       "\n",
       "    .dataframe tbody tr th {\n",
       "        vertical-align: top;\n",
       "    }\n",
       "\n",
       "    .dataframe thead th {\n",
       "        text-align: right;\n",
       "    }\n",
       "</style>\n",
       "<table border=\"1\" class=\"dataframe\">\n",
       "  <thead>\n",
       "    <tr style=\"text-align: right;\">\n",
       "      <th></th>\n",
       "      <th>associated_transcriptid.v</th>\n",
       "      <th>associated_geneid.v</th>\n",
       "      <th>isoform</th>\n",
       "      <th>flair_total_counts</th>\n",
       "      <th>flair_mean_counts</th>\n",
       "      <th>flair_expressed_samples</th>\n",
       "      <th>flair_min_counts</th>\n",
       "      <th>flair_max_counts</th>\n",
       "      <th>associated_transcript_biotype</th>\n",
       "      <th>associated_gene_biotype</th>\n",
       "      <th>...</th>\n",
       "      <th>start</th>\n",
       "      <th>end</th>\n",
       "      <th>strand</th>\n",
       "      <th>discovered_transcripts_per_gene</th>\n",
       "      <th>old_associated_geneid.v</th>\n",
       "      <th>old_associated_gene_biotype</th>\n",
       "      <th>existsFSMinGene</th>\n",
       "      <th>existsFSMinTranscript</th>\n",
       "      <th>filter</th>\n",
       "      <th>population_sharing_2</th>\n",
       "    </tr>\n",
       "  </thead>\n",
       "  <tbody>\n",
       "  </tbody>\n",
       "</table>\n",
       "<p>0 rows × 98 columns</p>\n",
       "</div>"
      ],
      "text/plain": [
       "Empty DataFrame\n",
       "Columns: [associated_transcriptid.v, associated_geneid.v, isoform, flair_total_counts, flair_mean_counts, flair_expressed_samples, flair_min_counts, flair_max_counts, associated_transcript_biotype, associated_gene_biotype, associated_gene_name, associated_transcripts_per_gene, sj_less_recountsupported_novel_counts, sj_less_recount_counts_novel_info, sj_less_recountsupported_novel_samples, sj_less_recount_samples_novel_info, sj_category_full, sj_recount_counts, sj_less_recountsupported_counts, sj_less_recount_counts_info, sj_less_recountsupported_samples, sj_less_recount_samples_info, length, exons, structural_category, ref_length, ref_exons, subcategory, all_canonical, AJI, CEU, HAC, ITU, LWK, MPC, PEL, YRI, AJI1, AJI2, AJI3, AJI4, AJI5, AJI6, CEU1, CEU2, CEU3, CEU4, CEU5, HAC1, HAC2, HAC3, HAC4, HAC5, HAC6, ITU1, ITU2, ITU3, ITU4, ITU5, LWK1, LWK2, LWK3, LWK4, LWK5, MPC1, MPC2, MPC3, MPC4, PEL1, PEL2, PEL3, PEL4, PEL5, PEL6, YRI1, YRI2, YRI3, YRI5, YRI6, YRI7, sample_sharing, population_sharing, espresso, flair, isoquant, lyric, tool_sharing, contig, start, end, strand, discovered_transcripts_per_gene, old_associated_geneid.v, old_associated_gene_biotype, existsFSMinGene, existsFSMinTranscript, filter, population_sharing_2]\n",
       "Index: []\n",
       "\n",
       "[0 rows x 98 columns]"
      ]
     },
     "execution_count": 18,
     "metadata": {},
     "output_type": "execute_result"
    }
   ],
   "source": [
    "df['population_sharing_2'] = (df[pops]>0).sum(axis=1)\n",
    "df.loc[df.population_sharing!=df.population_sharing_2]"
   ]
  },
  {
   "cell_type": "code",
   "execution_count": null,
   "id": "5d84fc43-d769-46f0-a1ac-55f3d9f72a92",
   "metadata": {},
   "outputs": [],
   "source": []
  }
 ],
 "metadata": {
  "kernelspec": {
   "display_name": "Python 3 (ipykernel)",
   "language": "python",
   "name": "python3"
  },
  "language_info": {
   "codemirror_mode": {
    "name": "ipython",
    "version": 3
   },
   "file_extension": ".py",
   "mimetype": "text/x-python",
   "name": "python",
   "nbconvert_exporter": "python",
   "pygments_lexer": "ipython3",
   "version": "3.12.5"
  }
 },
 "nbformat": 4,
 "nbformat_minor": 5
}
