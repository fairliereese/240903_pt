{
 "cells": [
  {
   "cell_type": "code",
   "execution_count": 1,
   "id": "f63f022f-2770-4613-891f-cb055d82fde9",
   "metadata": {},
   "outputs": [],
   "source": [
    "import pandas as pd\n",
    "import numpy as np\n",
    "import scipy.stats as st\n",
    "import seaborn as sns\n",
    "import sys\n",
    "import os\n",
    "import matplotlib.pyplot as plt\n",
    "import swan_vis as swan\n",
    "import yaml\n",
    "from snakemake.io import expand\n",
    "import cerberus\n",
    "import pyranges as pr\n",
    "import upsetplot\n",
    "\n",
    "p = os.path.dirname(os.getcwd())\n",
    "sys.path.append(p)\n",
    "\n",
    "from scripts.utils import *\n",
    "from scripts.vcf_utils import *\n",
    "from scripts.plotting import *"
   ]
  },
  {
   "cell_type": "code",
   "execution_count": 2,
   "id": "2168620c-12f0-45a6-9f73-6442c9d758b5",
   "metadata": {},
   "outputs": [
    {
     "data": {
      "text/html": [
       "<div>\n",
       "<style scoped>\n",
       "    .dataframe tbody tr th:only-of-type {\n",
       "        vertical-align: middle;\n",
       "    }\n",
       "\n",
       "    .dataframe tbody tr th {\n",
       "        vertical-align: top;\n",
       "    }\n",
       "\n",
       "    .dataframe thead th {\n",
       "        text-align: right;\n",
       "    }\n",
       "</style>\n",
       "<table border=\"1\" class=\"dataframe\">\n",
       "  <thead>\n",
       "    <tr style=\"text-align: right;\">\n",
       "      <th></th>\n",
       "      <th>run_accession</th>\n",
       "      <th>sample_accession</th>\n",
       "      <th>experiment_accession</th>\n",
       "      <th>study_accession</th>\n",
       "      <th>tax_id</th>\n",
       "      <th>scientific_name</th>\n",
       "      <th>instrument_platform</th>\n",
       "      <th>instrument_model</th>\n",
       "      <th>experiment_alias</th>\n",
       "      <th>fastq_bytes</th>\n",
       "      <th>...</th>\n",
       "      <th>bam_bytes</th>\n",
       "      <th>sampleId</th>\n",
       "      <th>indId</th>\n",
       "      <th>batch</th>\n",
       "      <th>pop</th>\n",
       "      <th>continent</th>\n",
       "      <th>sex</th>\n",
       "      <th>sth</th>\n",
       "      <th>sth2</th>\n",
       "      <th>group</th>\n",
       "    </tr>\n",
       "  </thead>\n",
       "  <tbody>\n",
       "    <tr>\n",
       "      <th>0</th>\n",
       "      <td>SRR19762167</td>\n",
       "      <td>SAMN29221552</td>\n",
       "      <td>SRX15806983</td>\n",
       "      <td>PRJNA851328</td>\n",
       "      <td>9606</td>\n",
       "      <td>Homo sapiens</td>\n",
       "      <td>ILLUMINA</td>\n",
       "      <td>Illumina NovaSeq 6000</td>\n",
       "      <td>NA19704_batch11_rep1</td>\n",
       "      <td>1579585821;1583976496</td>\n",
       "      <td>...</td>\n",
       "      <td>NaN</td>\n",
       "      <td>NA19704</td>\n",
       "      <td>NA19704</td>\n",
       "      <td>batch11</td>\n",
       "      <td>ASW</td>\n",
       "      <td>AFR</td>\n",
       "      <td>female</td>\n",
       "      <td>SAMN29221552</td>\n",
       "      <td>SRS13499000</td>\n",
       "      <td>1</td>\n",
       "    </tr>\n",
       "    <tr>\n",
       "      <th>1</th>\n",
       "      <td>SRR19762172</td>\n",
       "      <td>SAMN29221523</td>\n",
       "      <td>SRX15806979</td>\n",
       "      <td>PRJNA851328</td>\n",
       "      <td>9606</td>\n",
       "      <td>Homo sapiens</td>\n",
       "      <td>ILLUMINA</td>\n",
       "      <td>Illumina NovaSeq 6000</td>\n",
       "      <td>NA19332_batch14_rep1</td>\n",
       "      <td>1969985537;1972458971</td>\n",
       "      <td>...</td>\n",
       "      <td>NaN</td>\n",
       "      <td>NA19332</td>\n",
       "      <td>NA19332</td>\n",
       "      <td>batch14</td>\n",
       "      <td>LWK</td>\n",
       "      <td>AFR</td>\n",
       "      <td>female</td>\n",
       "      <td>SAMN29221523</td>\n",
       "      <td>SRS13498996</td>\n",
       "      <td>1</td>\n",
       "    </tr>\n",
       "    <tr>\n",
       "      <th>2</th>\n",
       "      <td>SRR19762173</td>\n",
       "      <td>SAMN29221521</td>\n",
       "      <td>SRX15806977</td>\n",
       "      <td>PRJNA851328</td>\n",
       "      <td>9606</td>\n",
       "      <td>Homo sapiens</td>\n",
       "      <td>ILLUMINA</td>\n",
       "      <td>Illumina NovaSeq 6000</td>\n",
       "      <td>NA19317_batch15_rep1</td>\n",
       "      <td>1387073734;1388216521</td>\n",
       "      <td>...</td>\n",
       "      <td>NaN</td>\n",
       "      <td>NA19317</td>\n",
       "      <td>NA19317</td>\n",
       "      <td>batch15</td>\n",
       "      <td>LWK</td>\n",
       "      <td>AFR</td>\n",
       "      <td>male</td>\n",
       "      <td>SAMN29221521</td>\n",
       "      <td>SRS13498994</td>\n",
       "      <td>1</td>\n",
       "    </tr>\n",
       "    <tr>\n",
       "      <th>3</th>\n",
       "      <td>SRR19762174</td>\n",
       "      <td>SAMN29221520</td>\n",
       "      <td>SRX15806976</td>\n",
       "      <td>PRJNA851328</td>\n",
       "      <td>9606</td>\n",
       "      <td>Homo sapiens</td>\n",
       "      <td>ILLUMINA</td>\n",
       "      <td>Illumina NovaSeq 6000</td>\n",
       "      <td>NA19312_batch05_rep1</td>\n",
       "      <td>2814206811;2808461053</td>\n",
       "      <td>...</td>\n",
       "      <td>NaN</td>\n",
       "      <td>NA19312</td>\n",
       "      <td>NA19312</td>\n",
       "      <td>batch05</td>\n",
       "      <td>LWK</td>\n",
       "      <td>AFR</td>\n",
       "      <td>male</td>\n",
       "      <td>SAMN29221520</td>\n",
       "      <td>SRS13498993</td>\n",
       "      <td>1</td>\n",
       "    </tr>\n",
       "    <tr>\n",
       "      <th>4</th>\n",
       "      <td>SRR19762175</td>\n",
       "      <td>SAMN29221522</td>\n",
       "      <td>SRX15806978</td>\n",
       "      <td>PRJNA851328</td>\n",
       "      <td>9606</td>\n",
       "      <td>Homo sapiens</td>\n",
       "      <td>ILLUMINA</td>\n",
       "      <td>Illumina NovaSeq 6000</td>\n",
       "      <td>NA19323_batch11_rep1</td>\n",
       "      <td>1589064552;1592540862</td>\n",
       "      <td>...</td>\n",
       "      <td>NaN</td>\n",
       "      <td>NA19323</td>\n",
       "      <td>NA19323</td>\n",
       "      <td>batch11</td>\n",
       "      <td>LWK</td>\n",
       "      <td>AFR</td>\n",
       "      <td>female</td>\n",
       "      <td>SAMN29221522</td>\n",
       "      <td>SRS13498995</td>\n",
       "      <td>1</td>\n",
       "    </tr>\n",
       "  </tbody>\n",
       "</table>\n",
       "<p>5 rows × 27 columns</p>\n",
       "</div>"
      ],
      "text/plain": [
       "  run_accession sample_accession experiment_accession study_accession  tax_id  \\\n",
       "0   SRR19762167     SAMN29221552          SRX15806983     PRJNA851328    9606   \n",
       "1   SRR19762172     SAMN29221523          SRX15806979     PRJNA851328    9606   \n",
       "2   SRR19762173     SAMN29221521          SRX15806977     PRJNA851328    9606   \n",
       "3   SRR19762174     SAMN29221520          SRX15806976     PRJNA851328    9606   \n",
       "4   SRR19762175     SAMN29221522          SRX15806978     PRJNA851328    9606   \n",
       "\n",
       "  scientific_name instrument_platform       instrument_model  \\\n",
       "0    Homo sapiens            ILLUMINA  Illumina NovaSeq 6000   \n",
       "1    Homo sapiens            ILLUMINA  Illumina NovaSeq 6000   \n",
       "2    Homo sapiens            ILLUMINA  Illumina NovaSeq 6000   \n",
       "3    Homo sapiens            ILLUMINA  Illumina NovaSeq 6000   \n",
       "4    Homo sapiens            ILLUMINA  Illumina NovaSeq 6000   \n",
       "\n",
       "       experiment_alias            fastq_bytes  ... bam_bytes  sampleId  \\\n",
       "0  NA19704_batch11_rep1  1579585821;1583976496  ...       NaN   NA19704   \n",
       "1  NA19332_batch14_rep1  1969985537;1972458971  ...       NaN   NA19332   \n",
       "2  NA19317_batch15_rep1  1387073734;1388216521  ...       NaN   NA19317   \n",
       "3  NA19312_batch05_rep1  2814206811;2808461053  ...       NaN   NA19312   \n",
       "4  NA19323_batch11_rep1  1589064552;1592540862  ...       NaN   NA19323   \n",
       "\n",
       "     indId    batch  pop continent     sex           sth         sth2 group  \n",
       "0  NA19704  batch11  ASW       AFR  female  SAMN29221552  SRS13499000     1  \n",
       "1  NA19332  batch14  LWK       AFR  female  SAMN29221523  SRS13498996     1  \n",
       "2  NA19317  batch15  LWK       AFR    male  SAMN29221521  SRS13498994     1  \n",
       "3  NA19312  batch05  LWK       AFR    male  SAMN29221520  SRS13498993     1  \n",
       "4  NA19323  batch11  LWK       AFR  female  SAMN29221522  SRS13498995     1  \n",
       "\n",
       "[5 rows x 27 columns]"
      ]
     },
     "execution_count": 2,
     "metadata": {},
     "output_type": "execute_result"
    }
   ],
   "source": [
    "# metadata \n",
    "# get sampleId, indId, group, batch, run from metadata tables\n",
    "meta_file = '../snakemake/mage/filereport_read_run_PRJNA851328_tsv.txt'\n",
    "meta = pd.read_csv(meta_file, sep='\\t')\n",
    "\n",
    "meta['sampleId'] = meta['indId'] = meta.experiment_alias.str.split('_', expand=True)[0]\n",
    "meta['batch'] = meta.experiment_alias.str.split('_', expand=True)[1]\n",
    "\n",
    "\n",
    "meta_file = '../snakemake/mage/sample_metadata_parsed.tsv'\n",
    "df2 = pd.read_csv(meta_file, sep=' ', header=None)\n",
    "df2.columns = ['sampleId', 'pop', 'continent', 'sex', 'sth', 'sth2']\n",
    "\n",
    "meta = meta.merge(df2, how='left',\n",
    "              on='sampleId')\n",
    "meta['group'] = 1 # all the same group because we don't want to call sqtls separately for anything\n",
    "meta[['sampleId', 'indId', 'group', 'batch', 'sex', 'pop', 'continent', 'experiment_alias']].head()\n",
    "meta.head()"
   ]
  },
  {
   "cell_type": "code",
   "execution_count": 3,
   "id": "0961035c-c615-4793-9ba4-7a0bf613fc06",
   "metadata": {},
   "outputs": [],
   "source": [
    "# regular gencode\n",
    "df = pd.read_csv('../data/mage/v47_kallisto/matrix.abundance.tsv', sep='\\t')\n",
    "\n",
    "# sum up counts over all transcripts to get total assigned read count\n",
    "df.set_index('transcript_id', inplace=True)\n",
    "df = df.sum(axis=0)"
   ]
  },
  {
   "cell_type": "code",
   "execution_count": 4,
   "id": "040b4976-cc8a-4eb4-932d-4173dae0d8e4",
   "metadata": {},
   "outputs": [],
   "source": [
    "\n",
    "\n",
    "# enhanced gencode\n",
    "enh_df = pd.read_csv('../data/mage/enh_v47_kallisto/matrix.abundance.tsv', sep='\\t')\n",
    "\n",
    "# sum up counts over all transcripts to get total assigned read count\n",
    "enh_df.set_index('transcript_id', inplace=True)\n",
    "enh_df = enh_df.sum(axis=0)\n",
    "\n",
    "df = df.to_frame()\n",
    "enh_df = enh_df.to_frame()\n",
    "\n",
    "df = df.rename({0: 'v47'}, axis=1)\n",
    "enh_df = enh_df.rename({0: 'enh_v47'}, axis=1)"
   ]
  },
  {
   "cell_type": "code",
   "execution_count": 5,
   "id": "6858b84b-e2b7-491a-9013-b302adc94e8d",
   "metadata": {},
   "outputs": [],
   "source": [
    "# merge \n",
    "l1 = len(df.index)\n",
    "df = df.merge(enh_df, \n",
    "              how='inner',\n",
    "              left_index=True,\n",
    "              right_index=True)\n",
    "l2 = len(df.index)\n",
    "assert l1 == l2"
   ]
  },
  {
   "cell_type": "code",
   "execution_count": 6,
   "id": "976bef56-196b-41bf-ae67-ddde2a5f047b",
   "metadata": {},
   "outputs": [],
   "source": [
    "df['diff'] = df['enh_v47']-df['v47']"
   ]
  },
  {
   "cell_type": "code",
   "execution_count": 7,
   "id": "0638bff3-9452-4923-a81e-46cacda56358",
   "metadata": {},
   "outputs": [
    {
     "data": {
      "text/html": [
       "<div>\n",
       "<style scoped>\n",
       "    .dataframe tbody tr th:only-of-type {\n",
       "        vertical-align: middle;\n",
       "    }\n",
       "\n",
       "    .dataframe tbody tr th {\n",
       "        vertical-align: top;\n",
       "    }\n",
       "\n",
       "    .dataframe thead th {\n",
       "        text-align: right;\n",
       "    }\n",
       "</style>\n",
       "<table border=\"1\" class=\"dataframe\">\n",
       "  <thead>\n",
       "    <tr style=\"text-align: right;\">\n",
       "      <th></th>\n",
       "      <th>v47</th>\n",
       "      <th>enh_v47</th>\n",
       "      <th>diff</th>\n",
       "      <th>run_accession</th>\n",
       "      <th>sample_accession</th>\n",
       "      <th>experiment_accession</th>\n",
       "      <th>study_accession</th>\n",
       "      <th>tax_id</th>\n",
       "      <th>scientific_name</th>\n",
       "      <th>instrument_platform</th>\n",
       "      <th>...</th>\n",
       "      <th>bam_bytes</th>\n",
       "      <th>sampleId</th>\n",
       "      <th>indId</th>\n",
       "      <th>batch</th>\n",
       "      <th>pop</th>\n",
       "      <th>continent</th>\n",
       "      <th>sex</th>\n",
       "      <th>sth</th>\n",
       "      <th>sth2</th>\n",
       "      <th>group</th>\n",
       "    </tr>\n",
       "  </thead>\n",
       "  <tbody>\n",
       "    <tr>\n",
       "      <th>0</th>\n",
       "      <td>2.487025e+07</td>\n",
       "      <td>2.507407e+07</td>\n",
       "      <td>203818.800975</td>\n",
       "      <td>SRR19762167</td>\n",
       "      <td>SAMN29221552</td>\n",
       "      <td>SRX15806983</td>\n",
       "      <td>PRJNA851328</td>\n",
       "      <td>9606</td>\n",
       "      <td>Homo sapiens</td>\n",
       "      <td>ILLUMINA</td>\n",
       "      <td>...</td>\n",
       "      <td>NaN</td>\n",
       "      <td>NA19704</td>\n",
       "      <td>NA19704</td>\n",
       "      <td>batch11</td>\n",
       "      <td>ASW</td>\n",
       "      <td>AFR</td>\n",
       "      <td>female</td>\n",
       "      <td>SAMN29221552</td>\n",
       "      <td>SRS13499000</td>\n",
       "      <td>1</td>\n",
       "    </tr>\n",
       "    <tr>\n",
       "      <th>1</th>\n",
       "      <td>2.944093e+07</td>\n",
       "      <td>2.978841e+07</td>\n",
       "      <td>347478.374569</td>\n",
       "      <td>SRR19762172</td>\n",
       "      <td>SAMN29221523</td>\n",
       "      <td>SRX15806979</td>\n",
       "      <td>PRJNA851328</td>\n",
       "      <td>9606</td>\n",
       "      <td>Homo sapiens</td>\n",
       "      <td>ILLUMINA</td>\n",
       "      <td>...</td>\n",
       "      <td>NaN</td>\n",
       "      <td>NA19332</td>\n",
       "      <td>NA19332</td>\n",
       "      <td>batch14</td>\n",
       "      <td>LWK</td>\n",
       "      <td>AFR</td>\n",
       "      <td>female</td>\n",
       "      <td>SAMN29221523</td>\n",
       "      <td>SRS13498996</td>\n",
       "      <td>1</td>\n",
       "    </tr>\n",
       "    <tr>\n",
       "      <th>2</th>\n",
       "      <td>2.011330e+07</td>\n",
       "      <td>2.027030e+07</td>\n",
       "      <td>157002.961184</td>\n",
       "      <td>SRR19762173</td>\n",
       "      <td>SAMN29221521</td>\n",
       "      <td>SRX15806977</td>\n",
       "      <td>PRJNA851328</td>\n",
       "      <td>9606</td>\n",
       "      <td>Homo sapiens</td>\n",
       "      <td>ILLUMINA</td>\n",
       "      <td>...</td>\n",
       "      <td>NaN</td>\n",
       "      <td>NA19317</td>\n",
       "      <td>NA19317</td>\n",
       "      <td>batch15</td>\n",
       "      <td>LWK</td>\n",
       "      <td>AFR</td>\n",
       "      <td>male</td>\n",
       "      <td>SAMN29221521</td>\n",
       "      <td>SRS13498994</td>\n",
       "      <td>1</td>\n",
       "    </tr>\n",
       "    <tr>\n",
       "      <th>3</th>\n",
       "      <td>4.238001e+07</td>\n",
       "      <td>4.271595e+07</td>\n",
       "      <td>335937.349840</td>\n",
       "      <td>SRR19762174</td>\n",
       "      <td>SAMN29221520</td>\n",
       "      <td>SRX15806976</td>\n",
       "      <td>PRJNA851328</td>\n",
       "      <td>9606</td>\n",
       "      <td>Homo sapiens</td>\n",
       "      <td>ILLUMINA</td>\n",
       "      <td>...</td>\n",
       "      <td>NaN</td>\n",
       "      <td>NA19312</td>\n",
       "      <td>NA19312</td>\n",
       "      <td>batch05</td>\n",
       "      <td>LWK</td>\n",
       "      <td>AFR</td>\n",
       "      <td>male</td>\n",
       "      <td>SAMN29221520</td>\n",
       "      <td>SRS13498993</td>\n",
       "      <td>1</td>\n",
       "    </tr>\n",
       "    <tr>\n",
       "      <th>4</th>\n",
       "      <td>2.393270e+07</td>\n",
       "      <td>2.410084e+07</td>\n",
       "      <td>168138.695071</td>\n",
       "      <td>SRR19762175</td>\n",
       "      <td>SAMN29221522</td>\n",
       "      <td>SRX15806978</td>\n",
       "      <td>PRJNA851328</td>\n",
       "      <td>9606</td>\n",
       "      <td>Homo sapiens</td>\n",
       "      <td>ILLUMINA</td>\n",
       "      <td>...</td>\n",
       "      <td>NaN</td>\n",
       "      <td>NA19323</td>\n",
       "      <td>NA19323</td>\n",
       "      <td>batch11</td>\n",
       "      <td>LWK</td>\n",
       "      <td>AFR</td>\n",
       "      <td>female</td>\n",
       "      <td>SAMN29221522</td>\n",
       "      <td>SRS13498995</td>\n",
       "      <td>1</td>\n",
       "    </tr>\n",
       "  </tbody>\n",
       "</table>\n",
       "<p>5 rows × 30 columns</p>\n",
       "</div>"
      ],
      "text/plain": [
       "            v47       enh_v47           diff run_accession sample_accession  \\\n",
       "0  2.487025e+07  2.507407e+07  203818.800975   SRR19762167     SAMN29221552   \n",
       "1  2.944093e+07  2.978841e+07  347478.374569   SRR19762172     SAMN29221523   \n",
       "2  2.011330e+07  2.027030e+07  157002.961184   SRR19762173     SAMN29221521   \n",
       "3  4.238001e+07  4.271595e+07  335937.349840   SRR19762174     SAMN29221520   \n",
       "4  2.393270e+07  2.410084e+07  168138.695071   SRR19762175     SAMN29221522   \n",
       "\n",
       "  experiment_accession study_accession  tax_id scientific_name  \\\n",
       "0          SRX15806983     PRJNA851328    9606    Homo sapiens   \n",
       "1          SRX15806979     PRJNA851328    9606    Homo sapiens   \n",
       "2          SRX15806977     PRJNA851328    9606    Homo sapiens   \n",
       "3          SRX15806976     PRJNA851328    9606    Homo sapiens   \n",
       "4          SRX15806978     PRJNA851328    9606    Homo sapiens   \n",
       "\n",
       "  instrument_platform  ... bam_bytes sampleId    indId    batch  pop  \\\n",
       "0            ILLUMINA  ...       NaN  NA19704  NA19704  batch11  ASW   \n",
       "1            ILLUMINA  ...       NaN  NA19332  NA19332  batch14  LWK   \n",
       "2            ILLUMINA  ...       NaN  NA19317  NA19317  batch15  LWK   \n",
       "3            ILLUMINA  ...       NaN  NA19312  NA19312  batch05  LWK   \n",
       "4            ILLUMINA  ...       NaN  NA19323  NA19323  batch11  LWK   \n",
       "\n",
       "   continent     sex           sth         sth2  group  \n",
       "0        AFR  female  SAMN29221552  SRS13499000      1  \n",
       "1        AFR  female  SAMN29221523  SRS13498996      1  \n",
       "2        AFR    male  SAMN29221521  SRS13498994      1  \n",
       "3        AFR    male  SAMN29221520  SRS13498993      1  \n",
       "4        AFR  female  SAMN29221522  SRS13498995      1  \n",
       "\n",
       "[5 rows x 30 columns]"
      ]
     },
     "execution_count": 7,
     "metadata": {},
     "output_type": "execute_result"
    }
   ],
   "source": [
    "# add metadata\n",
    "df = df.merge(meta, \n",
    "              how='left',\n",
    "              left_index=True,\n",
    "              right_on='experiment_alias')\n",
    "df.head()"
   ]
  },
  {
   "cell_type": "code",
   "execution_count": 8,
   "id": "4e6ce975-7504-4d99-8420-4d071421a4dd",
   "metadata": {},
   "outputs": [
    {
     "data": {
      "image/png": "[encoded data removed]",
      "text/plain": [
       "<Figure size 432x288 with 1 Axes>"
      ]
     },
     "metadata": {
      "needs_background": "light"
     },
     "output_type": "display_data"
    }
   ],
   "source": [
    "init_plot_settings()\n",
    "ax = sns.boxplot(df, y='diff', x='continent')\n",
    "ax.spines['right'].set_visible(False)\n",
    "ax.spines['top'].set_visible(False)"
   ]
  },
  {
   "cell_type": "code",
   "execution_count": 9,
   "id": "c2f92513-db65-4ef3-b72d-583116d23172",
   "metadata": {},
   "outputs": [
    {
     "name": "stdout",
     "output_type": "stream",
     "text": [
      "\n",
      "AFR\n",
      "Wilcoxon rank-sum test statistic: 0.3807034412532147\n",
      "Wilcoxon rank-sum test pval: 0.3517116575392295\n",
      "\n",
      "EAS\n",
      "Wilcoxon rank-sum test statistic: 0.7395226005924329\n",
      "Wilcoxon rank-sum test pval: 0.22979486061046683\n",
      "\n",
      "SAS\n",
      "Wilcoxon rank-sum test statistic: 1.1781702073927633\n",
      "Wilcoxon rank-sum test pval: 0.11936437863524785\n",
      "\n",
      "AMR\n",
      "Wilcoxon rank-sum test statistic: 0.4331044070438463\n",
      "Wilcoxon rank-sum test pval: 0.33246946063412636\n"
     ]
    }
   ],
   "source": [
    "# wilcoxon between eur and each other pop. \n",
    "# expectation is that gain is higher in non-eur populations\n",
    "\n",
    "for c in df.continent.unique().tolist():\n",
    "    if c != 'EUR':\n",
    "        print()\n",
    "        print(c)\n",
    "        x = df.loc[df.continent == c, 'diff'].tolist() # hypothesis is that this is greater\n",
    "        y = df.loc[df.continent == 'EUR', 'diff'].tolist()\n",
    "\n",
    "        stat, pval = st.ranksums(x, y, alternative='greater')\n",
    "\n",
    "        print(f'Wilcoxon rank-sum test statistic: {stat}')\n",
    "        print(f'Wilcoxon rank-sum test pval: {pval}')"
   ]
  },
  {
   "cell_type": "code",
   "execution_count": 10,
   "id": "c809483e-bc47-4203-bf85-79c756c801ad",
   "metadata": {},
   "outputs": [
    {
     "data": {
      "text/html": [
       "<div>\n",
       "<style scoped>\n",
       "    .dataframe tbody tr th:only-of-type {\n",
       "        vertical-align: middle;\n",
       "    }\n",
       "\n",
       "    .dataframe tbody tr th {\n",
       "        vertical-align: top;\n",
       "    }\n",
       "\n",
       "    .dataframe thead th {\n",
       "        text-align: right;\n",
       "    }\n",
       "</style>\n",
       "<table border=\"1\" class=\"dataframe\">\n",
       "  <thead>\n",
       "    <tr style=\"text-align: right;\">\n",
       "      <th></th>\n",
       "      <th>diff</th>\n",
       "    </tr>\n",
       "    <tr>\n",
       "      <th>continent</th>\n",
       "      <th></th>\n",
       "    </tr>\n",
       "  </thead>\n",
       "  <tbody>\n",
       "    <tr>\n",
       "      <th>AFR</th>\n",
       "      <td>149791.801288</td>\n",
       "    </tr>\n",
       "    <tr>\n",
       "      <th>AMR</th>\n",
       "      <td>154323.077485</td>\n",
       "    </tr>\n",
       "    <tr>\n",
       "      <th>EAS</th>\n",
       "      <td>155730.277163</td>\n",
       "    </tr>\n",
       "    <tr>\n",
       "      <th>EUR</th>\n",
       "      <td>150635.374275</td>\n",
       "    </tr>\n",
       "    <tr>\n",
       "      <th>SAS</th>\n",
       "      <td>160616.820045</td>\n",
       "    </tr>\n",
       "  </tbody>\n",
       "</table>\n",
       "</div>"
      ],
      "text/plain": [
       "                    diff\n",
       "continent               \n",
       "AFR        149791.801288\n",
       "AMR        154323.077485\n",
       "EAS        155730.277163\n",
       "EUR        150635.374275\n",
       "SAS        160616.820045"
      ]
     },
     "execution_count": 10,
     "metadata": {},
     "output_type": "execute_result"
    }
   ],
   "source": [
    "df[['diff', 'continent']].groupby('continent').median()"
   ]
  },
  {
   "cell_type": "markdown",
   "id": "9191f302-650e-49eb-9dc0-a79f24d6a241",
   "metadata": {},
   "source": [
    "## What about when we compute a ratio instead?"
   ]
  },
  {
   "cell_type": "code",
   "execution_count": 11,
   "id": "a05f61c6-1f3a-4e4d-949d-a07debf421fa",
   "metadata": {},
   "outputs": [],
   "source": [
    "df['ratio'] = df['enh_v47']/df['v47']"
   ]
  },
  {
   "cell_type": "code",
   "execution_count": 12,
   "id": "1d41c6d4-e385-48b8-b093-2ec502ef7c84",
   "metadata": {},
   "outputs": [
    {
     "data": {
      "image/png": "[encoded data removed]",
      "text/plain": [
       "<Figure size 360x360 with 1 Axes>"
      ]
     },
     "metadata": {
      "needs_background": "light"
     },
     "output_type": "display_data"
    }
   ],
   "source": [
    "init_plot_settings()\n",
    "\n",
    "ax = sns.boxplot(df, y='ratio', x='continent')\n",
    "ax.spines['right'].set_visible(False)\n",
    "ax.spines['top'].set_visible(False)"
   ]
  },
  {
   "cell_type": "code",
   "execution_count": 13,
   "id": "ae50e977-2f57-43c4-90e5-67ef15f09b3a",
   "metadata": {},
   "outputs": [
    {
     "name": "stdout",
     "output_type": "stream",
     "text": [
      "\n",
      "AFR\n",
      "Wilcoxon rank-sum test statistic: -0.2095699231898706\n",
      "Wilcoxon rank-sum test pval: 0.5829983219264463\n",
      "\n",
      "EAS\n",
      "Wilcoxon rank-sum test statistic: 1.0707798316016053\n",
      "Wilcoxon rank-sum test pval: 0.1421342187275949\n",
      "\n",
      "SAS\n",
      "Wilcoxon rank-sum test statistic: 1.3634170953476004\n",
      "Wilcoxon rank-sum test pval: 0.08637554816906035\n",
      "\n",
      "AMR\n",
      "Wilcoxon rank-sum test statistic: -0.040022849495800976\n",
      "Wilcoxon rank-sum test pval: 0.5159625451890407\n"
     ]
    }
   ],
   "source": [
    "# wilcoxon between eur and each other pop. \n",
    "# expectation is that gain is higher in non-eur populations\n",
    "\n",
    "for c in df.continent.unique().tolist():\n",
    "    if c != 'EUR':\n",
    "        print()\n",
    "        print(c)\n",
    "        x = df.loc[df.continent == c, 'ratio'].tolist() # hypothesis is that this is greater\n",
    "        y = df.loc[df.continent == 'EUR', 'ratio'].tolist()\n",
    "\n",
    "        stat, pval = st.ranksums(x, y, alternative='greater')\n",
    "\n",
    "        print(f'Wilcoxon rank-sum test statistic: {stat}')\n",
    "        print(f'Wilcoxon rank-sum test pval: {pval}')"
   ]
  },
  {
   "cell_type": "code",
   "execution_count": 14,
   "id": "486a89ef-d973-4c4c-85d3-bc8f4049f579",
   "metadata": {},
   "outputs": [
    {
     "data": {
      "text/html": [
       "<div>\n",
       "<style scoped>\n",
       "    .dataframe tbody tr th:only-of-type {\n",
       "        vertical-align: middle;\n",
       "    }\n",
       "\n",
       "    .dataframe tbody tr th {\n",
       "        vertical-align: top;\n",
       "    }\n",
       "\n",
       "    .dataframe thead th {\n",
       "        text-align: right;\n",
       "    }\n",
       "</style>\n",
       "<table border=\"1\" class=\"dataframe\">\n",
       "  <thead>\n",
       "    <tr style=\"text-align: right;\">\n",
       "      <th></th>\n",
       "      <th>ratio</th>\n",
       "    </tr>\n",
       "    <tr>\n",
       "      <th>continent</th>\n",
       "      <th></th>\n",
       "    </tr>\n",
       "  </thead>\n",
       "  <tbody>\n",
       "    <tr>\n",
       "      <th>AFR</th>\n",
       "      <td>1.006545</td>\n",
       "    </tr>\n",
       "    <tr>\n",
       "      <th>AMR</th>\n",
       "      <td>1.006680</td>\n",
       "    </tr>\n",
       "    <tr>\n",
       "      <th>EAS</th>\n",
       "      <td>1.006782</td>\n",
       "    </tr>\n",
       "    <tr>\n",
       "      <th>EUR</th>\n",
       "      <td>1.006659</td>\n",
       "    </tr>\n",
       "    <tr>\n",
       "      <th>SAS</th>\n",
       "      <td>1.006806</td>\n",
       "    </tr>\n",
       "  </tbody>\n",
       "</table>\n",
       "</div>"
      ],
      "text/plain": [
       "              ratio\n",
       "continent          \n",
       "AFR        1.006545\n",
       "AMR        1.006680\n",
       "EAS        1.006782\n",
       "EUR        1.006659\n",
       "SAS        1.006806"
      ]
     },
     "execution_count": 14,
     "metadata": {},
     "output_type": "execute_result"
    }
   ],
   "source": [
    "df[['ratio', 'continent']].groupby('continent').median()"
   ]
  },
  {
   "cell_type": "markdown",
   "id": "72bdcdc0-1666-4de8-bc84-0e1865129a08",
   "metadata": {},
   "source": [
    "## Summary statistics"
   ]
  },
  {
   "cell_type": "code",
   "execution_count": 15,
   "id": "2be1bcfc-5c57-4a60-a384-e9763ed7e984",
   "metadata": {},
   "outputs": [],
   "source": [
    "# % increase\n",
    "df['perc_inc'] = ((df['enh_v47']-df['v47'])/df['v47'])*100"
   ]
  },
  {
   "cell_type": "code",
   "execution_count": 24,
   "id": "b1d9512b-be04-4783-ba2a-c76ecb26de08",
   "metadata": {},
   "outputs": [
    {
     "data": {
      "text/plain": [
       "[Text(0, 0.5, '% more reads quantified\\nin enhanced GENCODE')]"
      ]
     },
     "execution_count": 24,
     "metadata": {},
     "output_type": "execute_result"
    },
    {
     "data": {
      "image/png": "[encoded data removed]",
      "text/plain": [
       "<Figure size 360x360 with 1 Axes>"
      ]
     },
     "metadata": {
      "needs_background": "light"
     },
     "output_type": "display_data"
    }
   ],
   "source": [
    "init_plot_settings()\n",
    "\n",
    "ax = sns.boxplot(df, y='perc_inc', x='continent')\n",
    "ax.spines['right'].set_visible(False)\n",
    "ax.spines['top'].set_visible(False)\n",
    "ax.set(ylabel='% more reads quantified\\nin enhanced GENCODE')"
   ]
  },
  {
   "cell_type": "code",
   "execution_count": 28,
   "id": "ba9bfad1-2e44-4e99-b6d6-69f7e68f354e",
   "metadata": {},
   "outputs": [
    {
     "data": {
      "text/plain": [
       "[Text(0.5, 15.700000000000003, 'Continent 2'),\n",
       " Text(15.7, 0.5, 'Continent 1'),\n",
       " Text(0.5, 1.0, 'Continent differences in % increase\\nof quantified reads')]"
      ]
     },
     "execution_count": 28,
     "metadata": {},
     "output_type": "execute_result"
    },
    {
     "data": {
      "image/png": "[encoded data removed]",
      "text/plain": [
       "<Figure size 360x360 with 2 Axes>"
      ]
     },
     "metadata": {
      "needs_background": "light"
     },
     "output_type": "display_data"
    }
   ],
   "source": [
    "# test -- Mann-Whitney U for each pop. pair with hypothesis greater\n",
    "# continent\n",
    "import itertools\n",
    "\n",
    "stat_df = pd.DataFrame()\n",
    "for p1, p2 in list(itertools.permutations(df.continent.unique(), 2)):\n",
    "    x = df.loc[df.continent==p1,'perc_inc'].tolist() # hyp. --> greater\n",
    "    y = df.loc[df.continent==p2,'perc_inc'].tolist()\n",
    "    \n",
    "    try:\n",
    "        stat, pval = st.mannwhitneyu(x, y, alternative='greater')\n",
    "    except:\n",
    "        break\n",
    "    temp3 = pd.DataFrame(data=[[p1, p2, stat, pval]], \n",
    "                         columns=['pop1', 'pop2', 'stat', 'pval'])\n",
    "    stat_df = pd.concat([stat_df, temp3], axis=0)\n",
    "    del temp3\n",
    "    \n",
    "# fdr correction\n",
    "from statsmodels.stats.multitest import multipletests\n",
    "_, adj_p_vals, _, _ = multipletests(stat_df.pval.tolist(), method='fdr_bh')\n",
    "stat_df['adj_pval'] = adj_p_vals\n",
    "stat_df.head()\n",
    "\n",
    "# add sig. annotation\n",
    "# * <= 0.05\n",
    "# ** <= 0.01\n",
    "# *** <= 0.001\n",
    "stat_df['sig_annot'] = ''\n",
    "# stat_df.loc[stat_df.pval <= 0.05, 'sig_annot'] = '*'\n",
    "# stat_df.loc[stat_df.pval <= 0.01, 'sig_annot'] = '**'\n",
    "# stat_df.loc[stat_df.pval <= 0.001, 'sig_annot'] = '***'\n",
    "stat_df.loc[stat_df.adj_pval <= 0.05, 'sig_annot'] = '*'\n",
    "stat_df.loc[stat_df.adj_pval <= 0.01, 'sig_annot'] = '**'\n",
    "stat_df.loc[stat_df.adj_pval <= 0.001, 'sig_annot'] = '***'\n",
    "\n",
    "# pivot x2 to get a stat and annot df to plot\n",
    "stat_df1 = stat_df.pivot(index='pop1', columns='pop2', values='stat')\n",
    "annot_df = stat_df.pivot(index='pop1', columns='pop2', values='sig_annot')\n",
    "\n",
    "ax = sns.heatmap(stat_df1, cmap='Purples',\n",
    "            annot=annot_df,\n",
    "            fmt='',\n",
    "            cbar_kws={'label': 'Mann-Whitney U\\ntest statistic'})\n",
    "\n",
    "# labels need them\n",
    "ax.set(xlabel='Continent 2',\n",
    "       ylabel='Continent 1',\n",
    "       title='Continent differences in % increase\\nof quantified reads')"
   ]
  },
  {
   "cell_type": "code",
   "execution_count": 35,
   "id": "e87d0a36-1baf-48fc-9602-7917a67b8196",
   "metadata": {},
   "outputs": [
    {
     "data": {
      "text/plain": [
       "[Text(0, 0.5, '% more reads quantified\\nin enhanced GENCODE')]"
      ]
     },
     "execution_count": 35,
     "metadata": {},
     "output_type": "execute_result"
    },
    {
     "data": {
      "image/png": "[encoded data removed]",
      "text/plain": [
       "<Figure size 360x360 with 1 Axes>"
      ]
     },
     "metadata": {
      "needs_background": "light"
     },
     "output_type": "display_data"
    }
   ],
   "source": [
    "init_plot_settings()\n",
    "\n",
    "ax = sns.boxplot(df, y='perc_inc', x='pop')\n",
    "ax.spines['right'].set_visible(False)\n",
    "ax.spines['top'].set_visible(False)\n",
    "ax.tick_params(axis='x', rotation=90)\n",
    "ax.set(ylabel='% more reads quantified\\nin enhanced GENCODE')"
   ]
  },
  {
   "cell_type": "code",
   "execution_count": 39,
   "id": "588471cf-dee6-4909-beb8-3d1158b390ab",
   "metadata": {},
   "outputs": [
    {
     "data": {
      "text/plain": [
       "[Text(0.5, 15.700000000000003, 'Population 2'),\n",
       " Text(15.7, 0.5, 'Population 1'),\n",
       " Text(0.5, 1.0, 'Population differences in % increase\\nof quantified reads')]"
      ]
     },
     "execution_count": 39,
     "metadata": {},
     "output_type": "execute_result"
    },
    {
     "data": {
      "image/png": "[encoded data removed]",
      "text/plain": [
       "<Figure size 360x360 with 2 Axes>"
      ]
     },
     "metadata": {
      "needs_background": "light"
     },
     "output_type": "display_data"
    }
   ],
   "source": [
    "# test -- Mann-Whitney U for each pop. pair with hypothesis greater\n",
    "# continent\n",
    "import itertools\n",
    "\n",
    "stat_df = pd.DataFrame()\n",
    "for p1, p2 in list(itertools.permutations(df['pop'].unique(), 2)):\n",
    "    x = df.loc[df['pop']==p1,'perc_inc'].tolist() # hyp. --> greater\n",
    "    y = df.loc[df['pop']==p2,'perc_inc'].tolist()\n",
    "    \n",
    "    try:\n",
    "        stat, pval = st.mannwhitneyu(x, y, alternative='greater')\n",
    "    except:\n",
    "        break\n",
    "    temp3 = pd.DataFrame(data=[[p1, p2, stat, pval]], \n",
    "                         columns=['pop1', 'pop2', 'stat', 'pval'])\n",
    "    stat_df = pd.concat([stat_df, temp3], axis=0)\n",
    "    del temp3\n",
    "    \n",
    "# fdr correction\n",
    "from statsmodels.stats.multitest import multipletests\n",
    "_, adj_p_vals, _, _ = multipletests(stat_df.pval.tolist(), method='fdr_bh')\n",
    "stat_df['adj_pval'] = adj_p_vals\n",
    "stat_df.head()\n",
    "\n",
    "# add sig. annotation\n",
    "# * <= 0.05\n",
    "# ** <= 0.01\n",
    "# *** <= 0.001\n",
    "stat_df['sig_annot'] = ''\n",
    "# stat_df.loc[stat_df.pval <= 0.05, 'sig_annot'] = '*'\n",
    "# stat_df.loc[stat_df.pval <= 0.01, 'sig_annot'] = '**'\n",
    "# stat_df.loc[stat_df.pval <= 0.001, 'sig_annot'] = '***'\n",
    "stat_df.loc[stat_df.adj_pval <= 0.05, 'sig_annot'] = '*'\n",
    "stat_df.loc[stat_df.adj_pval <= 0.01, 'sig_annot'] = '**'\n",
    "stat_df.loc[stat_df.adj_pval <= 0.001, 'sig_annot'] = '***'\n",
    "\n",
    "# pivot x2 to get a stat and annot df to plot\n",
    "stat_df1 = stat_df.pivot(index='pop1', columns='pop2', values='stat')\n",
    "annot_df = stat_df.pivot(index='pop1', columns='pop2', values='sig_annot')\n",
    "\n",
    "ax = sns.heatmap(stat_df1, cmap='Purples',\n",
    "            annot=annot_df,\n",
    "            fmt='',\n",
    "            cbar_kws={'label': 'Mann-Whitney U\\ntest statistic'})\n",
    "\n",
    "# labels need them\n",
    "ax.set(xlabel='Population 2',\n",
    "       ylabel='Population 1',\n",
    "       title='Population differences in % increase\\nof quantified reads')"
   ]
  },
  {
   "cell_type": "code",
   "execution_count": 21,
   "id": "85b3daaa-1a69-43f8-a364-1c624368c464",
   "metadata": {},
   "outputs": [
    {
     "name": "stdout",
     "output_type": "stream",
     "text": [
      "\n",
      "AFR\n",
      "Wilcoxon rank-sum test statistic: -0.2095699231898706\n",
      "Wilcoxon rank-sum test pval: 0.5829983219264463\n",
      "\n",
      "EAS\n",
      "Wilcoxon rank-sum test statistic: 1.0707798316016053\n",
      "Wilcoxon rank-sum test pval: 0.1421342187275949\n",
      "\n",
      "SAS\n",
      "Wilcoxon rank-sum test statistic: 1.3634170953476004\n",
      "Wilcoxon rank-sum test pval: 0.08637554816906035\n",
      "\n",
      "AMR\n",
      "Wilcoxon rank-sum test statistic: -0.040022849495800976\n",
      "Wilcoxon rank-sum test pval: 0.5159625451890407\n"
     ]
    }
   ],
   "source": [
    "# # wilcoxon between eur and each other pop. \n",
    "# # expectation is that gain is higher in non-eur populations\n",
    "\n",
    "# for c in df.continent.unique().tolist():\n",
    "#     if c != 'EUR':\n",
    "#         print()\n",
    "#         print(c)\n",
    "#         x = df.loc[df.continent == c, 'perc_inc'].tolist() # hypothesis is that this is greater\n",
    "#         y = df.loc[df.continent == 'EUR', 'perc_inc'].tolist()\n",
    "\n",
    "#         stat, pval = st.ranksums(x, y, alternative='greater')\n",
    "\n",
    "#         print(f'Wilcoxon rank-sum test statistic: {stat}')\n",
    "#         print(f'Wilcoxon rank-sum test pval: {pval}')"
   ]
  },
  {
   "cell_type": "code",
   "execution_count": 22,
   "id": "577342c3-ce14-468d-943a-7ab6f21010ea",
   "metadata": {},
   "outputs": [
    {
     "data": {
      "text/plain": [
       "0.667689188303765"
      ]
     },
     "execution_count": 22,
     "metadata": {},
     "output_type": "execute_result"
    }
   ],
   "source": [
    "df.perc_inc.median()"
   ]
  },
  {
   "cell_type": "code",
   "execution_count": 23,
   "id": "76e98b31-bff0-4b4d-9831-b16c71afe22a",
   "metadata": {},
   "outputs": [
    {
     "data": {
      "text/plain": [
       "152787.64885287732"
      ]
     },
     "execution_count": 23,
     "metadata": {},
     "output_type": "execute_result"
    }
   ],
   "source": [
    "df['diff'].median()"
   ]
  },
  {
   "cell_type": "code",
   "execution_count": null,
   "id": "fd0f79c0-0e62-4eef-9701-5cb3844f74a0",
   "metadata": {},
   "outputs": [],
   "source": []
  }
 ],
 "metadata": {
  "kernelspec": {
   "display_name": "Python 3",
   "language": "python",
   "name": "python3"
  },
  "language_info": {
   "codemirror_mode": {
    "name": "ipython",
    "version": 3
   },
   "file_extension": ".py",
   "mimetype": "text/x-python",
   "name": "python",
   "nbconvert_exporter": "python",
   "pygments_lexer": "ipython3",
   "version": "3.7.12"
  }
 },
 "nbformat": 4,
 "nbformat_minor": 5
}
