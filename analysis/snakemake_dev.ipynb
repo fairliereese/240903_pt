{
 "cells": [
  {
   "cell_type": "code",
   "execution_count": 1,
   "id": "52f346ab-4af1-405d-807d-5987f7de6a61",
   "metadata": {},
   "outputs": [],
   "source": [
    "import pandas as pd\n",
    "import numpy as np\n",
    "import scipy.stats as st\n",
    "import seaborn as sns\n",
    "import sys\n",
    "import os\n",
    "import matplotlib.pyplot as plt\n",
    "import swan_vis as swan\n",
    "import yaml\n",
    "from snakemake.io import expand\n",
    "import cerberus\n",
    "import pyranges as pr\n",
    "import upsetplot\n",
    "\n",
    "p = os.path.dirname(os.getcwd())\n",
    "sys.path.append(p)\n",
    "\n",
    "from scripts.utils import *\n",
    "from scripts.vcf_utils import *\n",
    "from scripts.plotting import *"
   ]
  },
  {
   "cell_type": "code",
   "execution_count": 2,
   "id": "d97ede02-4f9b-42e3-905a-ccb7d8a6f299",
   "metadata": {},
   "outputs": [],
   "source": [
    "config = load_config()\n",
    "od = '../'\n",
    "\n",
    "def proc_cfg(entry, od):\n",
    "    entry = entry.replace('../../', '')\n",
    "    entry = od+entry\n",
    "    return entry"
   ]
  },
  {
   "cell_type": "code",
   "execution_count": 33,
   "id": "b0d96247-ec23-4197-8891-de746b254196",
   "metadata": {},
   "outputs": [],
   "source": [
    "sample = 'HG00621_1'\n",
    "sample_1 = sample.split('_')[0]\n",
    "assemblies = ['afr', 'hg38', 't2t']\n",
    "meta = load_meta()\n",
    "pop = meta.loc[meta['sample'] == sample_1, 'population'].values[0]\n",
    "c_dict, _ = get_population_colors()\n",
    "color = c_dict[pop]\n",
    "\n",
    "thresh = 0\n"
   ]
  },
  {
   "cell_type": "code",
   "execution_count": 41,
   "id": "b0825f49-1c99-4a12-b3f9-82bde12026da",
   "metadata": {},
   "outputs": [],
   "source": [
    "files = expand(proc_cfg(config['lr']['map']['bam_mapqs'], od),\n",
    "                          sample=sample,\n",
    "                          assembly=assemblies)"
   ]
  },
  {
   "cell_type": "code",
   "execution_count": 42,
   "id": "9be118e8-0bd3-442f-b72a-3b67ae9ec790",
   "metadata": {},
   "outputs": [],
   "source": [
    "i = 0\n",
    "for f, a in zip(files, assemblies):\n",
    "    temp = pd.read_csv(f, sep='\\t')\n",
    "    temp.rename({'mapq':a}, axis=1, inplace=True)\n",
    "    assert len(temp.index) == len(temp.read_id.unique())\n",
    "    \n",
    "    if i == 0:\n",
    "        df = temp.copy(deep=True)\n",
    "    else:\n",
    "        df = df.merge(temp, how='outer', on='read_id')\n",
    "    i += 1\n",
    "\n",
    "# convert to binary\n",
    "df.fillna(0, inplace=True)\n",
    "df.set_index('read_id', inplace=True)\n",
    "df = df>thresh\n",
    "\n",
    "df.reset_index(inplace=True)\n",
    "df.set_index(assemblies, inplace=True)"
   ]
  },
  {
   "cell_type": "code",
   "execution_count": 43,
   "id": "db27a4cc-d89f-4d76-95fa-d1edc652dcc0",
   "metadata": {},
   "outputs": [
    {
     "data": {
      "text/html": [
       "<div>\n",
       "<style scoped>\n",
       "    .dataframe tbody tr th:only-of-type {\n",
       "        vertical-align: middle;\n",
       "    }\n",
       "\n",
       "    .dataframe tbody tr th {\n",
       "        vertical-align: top;\n",
       "    }\n",
       "\n",
       "    .dataframe thead th {\n",
       "        text-align: right;\n",
       "    }\n",
       "</style>\n",
       "<table border=\"1\" class=\"dataframe\">\n",
       "  <thead>\n",
       "    <tr style=\"text-align: right;\">\n",
       "      <th></th>\n",
       "      <th></th>\n",
       "      <th></th>\n",
       "      <th>read_id</th>\n",
       "    </tr>\n",
       "    <tr>\n",
       "      <th>afr</th>\n",
       "      <th>hg38</th>\n",
       "      <th>t2t</th>\n",
       "      <th></th>\n",
       "    </tr>\n",
       "  </thead>\n",
       "  <tbody>\n",
       "    <tr>\n",
       "      <th rowspan=\"5\" valign=\"top\">True</th>\n",
       "      <th rowspan=\"5\" valign=\"top\">True</th>\n",
       "      <th>True</th>\n",
       "      <td>f87d20ec-f864-44d5-9a24-a7366cd0f9ad:0</td>\n",
       "    </tr>\n",
       "    <tr>\n",
       "      <th>True</th>\n",
       "      <td>5881373b-81a1-42a0-8555-9ac336dae87d:0</td>\n",
       "    </tr>\n",
       "    <tr>\n",
       "      <th>True</th>\n",
       "      <td>6836a82f-88a6-42ba-b52f-f877d3e578da:0_1</td>\n",
       "    </tr>\n",
       "    <tr>\n",
       "      <th>True</th>\n",
       "      <td>f540d9cd-e5cd-4183-bcee-4b78b8aa24ff:0</td>\n",
       "    </tr>\n",
       "    <tr>\n",
       "      <th>True</th>\n",
       "      <td>2357c9be-1000-4835-9bdf-30b0389218e6:0</td>\n",
       "    </tr>\n",
       "  </tbody>\n",
       "</table>\n",
       "</div>"
      ],
      "text/plain": [
       "                                                 read_id\n",
       "afr  hg38 t2t                                           \n",
       "True True True    f87d20ec-f864-44d5-9a24-a7366cd0f9ad:0\n",
       "          True    5881373b-81a1-42a0-8555-9ac336dae87d:0\n",
       "          True  6836a82f-88a6-42ba-b52f-f877d3e578da:0_1\n",
       "          True    f540d9cd-e5cd-4183-bcee-4b78b8aa24ff:0\n",
       "          True    2357c9be-1000-4835-9bdf-30b0389218e6:0"
      ]
     },
     "execution_count": 43,
     "metadata": {},
     "output_type": "execute_result"
    }
   ],
   "source": [
    "df.head()"
   ]
  },
  {
   "cell_type": "markdown",
   "id": "04eedad8-688f-4b13-a460-c2d871ae355b",
   "metadata": {},
   "source": [
    "## which reads map (binary; mapq>0)"
   ]
  },
  {
   "cell_type": "code",
   "execution_count": 35,
   "id": "75f4f5fb-1d6a-4ae7-a3c9-faff144d9e82",
   "metadata": {},
   "outputs": [],
   "source": [
    "\n",
    "# t2t_file = proc_cfg(expand(config['lr']['map']['bam_mapqs'],\n",
    "#                           sample=sample,\n",
    "#                           assembly='t2t')[0], od)\n",
    "# hg38_file = proc_cfg(expand(config['lr']['map']['bam_mapqs'],\n",
    "#                           sample=sample,\n",
    "#                           assembly='hg38')[0], od)\n",
    "# afr_file = proc_cfg(expand(config['lr']['map']['bam_mapqs'],\n",
    "#                           sample=sample,\n",
    "#                           assembly='afr')[0], od)\n",
    "\n",
    "# df = pd.read_csv(hg38_file, sep='\\t')\n",
    "# df.rename({'mapq':'hg38'}, axis=1, inplace=True)\n",
    "# assert len(df.index) == len(df.read_id.unique())\n",
    "\n",
    "# df2 = pd.read_csv(t2t_file, sep='\\t')\n",
    "# df2.rename({'mapq':'t2t'}, axis=1, inplace=True)\n",
    "# assert len(df2.index) == len(df2.read_id.unique())\n",
    "\n",
    "# df3 = pd.read_csv(afr_file, sep='\\t')\n",
    "# df3.rename({'mapq':'afr'}, axis=1, inplace=True)\n",
    "# assert len(df3.index) == len(df3.read_id.unique())\n",
    "\n",
    "# df = df.merge(df2, how='outer', on='read_id')\n",
    "# df = df.merge(df3, how='outer', on='read_id')\n",
    "\n",
    "# # convert to binary\n",
    "# df.fillna(0, inplace=True)\n",
    "# df.set_index('read_id', inplace=True)\n",
    "# df = df>thresh\n",
    "\n",
    "# df.reset_index(inplace=True)\n",
    "# df.set_index(['hg38', 't2t', 'afr'], inplace=True)"
   ]
  },
  {
   "cell_type": "code",
   "execution_count": 44,
   "id": "f5cb12a3-0d85-4a68-8bb2-39971b08a2a7",
   "metadata": {},
   "outputs": [
    {
     "data": {
      "image/png": "[encoded data removed]",
      "text/plain": [
       "<Figure size 384x288 with 4 Axes>"
      ]
     },
     "metadata": {
      "needs_background": "light"
     },
     "output_type": "display_data"
    }
   ],
   "source": [
    "ax_dict = upsetplot.UpSet(df, subset_size='count',\n",
    "                          facecolor=color,\n",
    "                          sort_by='cardinality',\n",
    "                          show_counts=False,\n",
    "                          show_percentages=True).plot()\n",
    "fname = f'{sample}_mapq_{thresh}_binary_upset.pdf'\n",
    "plt.suptitle(f'% of {sample} reads w/ mapq>{thresh}')\n",
    "plt.savefig(fname, dpi=500)"
   ]
  },
  {
   "cell_type": "code",
   "execution_count": 30,
   "id": "9204c350-a001-43c5-8977-dacab75c01ae",
   "metadata": {},
   "outputs": [],
   "source": [
    "# TODO save IDs of reads that uniquely map to afr contigs\n",
    "afr_reads = df.copy(deep=True)\n",
    "afr_reads.reset_index(inplace=True)\n",
    "afr_reads = afr_reads.loc[(afr_reads.afr==True)&\\\n",
    "                          (afr_reads.t2t==False)&\\\n",
    "                          (afr_reads.hg38==False)]\n",
    "afr_reads = afr_reads[['read_id']]\n",
    "afr_reads.to_csv(f'{sample}_afr_reads.txt', index=False)"
   ]
  },
  {
   "cell_type": "code",
   "execution_count": 23,
   "id": "78ee75ef-78c4-4e52-9d73-a72d76fc43db",
   "metadata": {},
   "outputs": [
    {
     "data": {
      "text/html": [
       "<div>\n",
       "<style scoped>\n",
       "    .dataframe tbody tr th:only-of-type {\n",
       "        vertical-align: middle;\n",
       "    }\n",
       "\n",
       "    .dataframe tbody tr th {\n",
       "        vertical-align: top;\n",
       "    }\n",
       "\n",
       "    .dataframe thead th {\n",
       "        text-align: right;\n",
       "    }\n",
       "</style>\n",
       "<table border=\"1\" class=\"dataframe\">\n",
       "  <thead>\n",
       "    <tr style=\"text-align: right;\">\n",
       "      <th></th>\n",
       "      <th>afr</th>\n",
       "      <th>hg38</th>\n",
       "      <th>t2t</th>\n",
       "      <th>n_reads</th>\n",
       "      <th>total_reads</th>\n",
       "      <th>perc</th>\n",
       "      <th>sample</th>\n",
       "    </tr>\n",
       "  </thead>\n",
       "  <tbody>\n",
       "    <tr>\n",
       "      <th>0</th>\n",
       "      <td>False</td>\n",
       "      <td>False</td>\n",
       "      <td>False</td>\n",
       "      <td>184707</td>\n",
       "      <td>26336522</td>\n",
       "      <td>0.701334</td>\n",
       "      <td>HG00621_1</td>\n",
       "    </tr>\n",
       "    <tr>\n",
       "      <th>1</th>\n",
       "      <td>False</td>\n",
       "      <td>False</td>\n",
       "      <td>True</td>\n",
       "      <td>89342</td>\n",
       "      <td>26336522</td>\n",
       "      <td>0.339232</td>\n",
       "      <td>HG00621_1</td>\n",
       "    </tr>\n",
       "    <tr>\n",
       "      <th>2</th>\n",
       "      <td>False</td>\n",
       "      <td>True</td>\n",
       "      <td>False</td>\n",
       "      <td>87922</td>\n",
       "      <td>26336522</td>\n",
       "      <td>0.333841</td>\n",
       "      <td>HG00621_1</td>\n",
       "    </tr>\n",
       "    <tr>\n",
       "      <th>3</th>\n",
       "      <td>False</td>\n",
       "      <td>True</td>\n",
       "      <td>True</td>\n",
       "      <td>25419910</td>\n",
       "      <td>26336522</td>\n",
       "      <td>96.519616</td>\n",
       "      <td>HG00621_1</td>\n",
       "    </tr>\n",
       "    <tr>\n",
       "      <th>4</th>\n",
       "      <td>True</td>\n",
       "      <td>False</td>\n",
       "      <td>False</td>\n",
       "      <td>6601</td>\n",
       "      <td>26336522</td>\n",
       "      <td>0.025064</td>\n",
       "      <td>HG00621_1</td>\n",
       "    </tr>\n",
       "  </tbody>\n",
       "</table>\n",
       "</div>"
      ],
      "text/plain": [
       "     afr   hg38    t2t   n_reads  total_reads       perc     sample\n",
       "0  False  False  False    184707     26336522   0.701334  HG00621_1\n",
       "1  False  False   True     89342     26336522   0.339232  HG00621_1\n",
       "2  False   True  False     87922     26336522   0.333841  HG00621_1\n",
       "3  False   True   True  25419910     26336522  96.519616  HG00621_1\n",
       "4   True  False  False      6601     26336522   0.025064  HG00621_1"
      ]
     },
     "execution_count": 23,
     "metadata": {},
     "output_type": "execute_result"
    }
   ],
   "source": [
    "df['total_reads'] = df.n_reads.sum()\n",
    "df['perc'] = (df.n_reads/df.total_reads)*100\n",
    "df['sample'] = sample\n",
    "df.head()"
   ]
  },
  {
   "cell_type": "code",
   "execution_count": null,
   "id": "66088fe3-2197-4f21-bab6-7871bb503cc7",
   "metadata": {},
   "outputs": [],
   "source": [
    "fname = f'"
   ]
  }
 ],
 "metadata": {
  "kernelspec": {
   "display_name": "Python 3",
   "language": "python",
   "name": "python3"
  },
  "language_info": {
   "codemirror_mode": {
    "name": "ipython",
    "version": 3
   },
   "file_extension": ".py",
   "mimetype": "text/x-python",
   "name": "python",
   "nbconvert_exporter": "python",
   "pygments_lexer": "ipython3",
   "version": "3.7.12"
  }
 },
 "nbformat": 4,
 "nbformat_minor": 5
}
