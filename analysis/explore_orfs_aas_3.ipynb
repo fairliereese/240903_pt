{
 "cells": [
  {
   "cell_type": "code",
   "execution_count": 22,
   "id": "4de600dd-5691-4b9d-85a3-4abc103ec6f1",
   "metadata": {},
   "outputs": [],
   "source": [
    "import pandas as pd\n",
    "import numpy as np\n",
    "import scipy.stats as st\n",
    "import seaborn as sns\n",
    "import sys\n",
    "import os\n",
    "import matplotlib.pyplot as plt\n",
    "import swan_vis as swan\n",
    "import yaml\n",
    "from snakemake.io import expand\n",
    "import cerberus\n",
    "import pyranges as pr\n",
    "from pyfaidx import Fasta\n",
    "import upsetplot\n",
    "from pandarallel import pandarallel\n",
    "\n",
    "p = os.path.dirname(os.getcwd())\n",
    "sys.path.append(p)\n",
    "\n",
    "from scripts.utils import *\n",
    "from scripts.vcf_utils import *\n",
    "from scripts.plotting import *"
   ]
  },
  {
   "cell_type": "code",
   "execution_count": 23,
   "id": "8d7405ed-7c4a-45fe-a8d2-5ccb89fa2df7",
   "metadata": {},
   "outputs": [],
   "source": [
    "config = load_config()\n",
    "od = '../'\n",
    "\n",
    "def proc_cfg(entry, od):\n",
    "    entry = entry.replace('../../', '')\n",
    "    entry = od+entry\n",
    "    return entry"
   ]
  },
  {
   "cell_type": "code",
   "execution_count": 24,
   "id": "9832474b-3cd2-4ddf-831b-003f7749a20e",
   "metadata": {},
   "outputs": [],
   "source": [
    "mt_df = pd.read_csv('../data/05_mastertable/poder_master_table_fixed_genics.tsv', sep='\\t')\n",
    "# mt_df = mt_df.loc[mt_df['filter']=='pass']\n",
    "mt_df['pop_spec_t'] = (mt_df.population_sharing==1)&\\\n",
    "                      (mt_df.sample_sharing>1)"
   ]
  },
  {
   "cell_type": "code",
   "execution_count": 25,
   "id": "48e628cc-4f96-43db-ab9c-faa7fcf43a98",
   "metadata": {},
   "outputs": [],
   "source": [
    "p_df = pd.read_csv(proc_cfg(config['lr']['poder_protein']['protein']['summary'], od), sep='\\t')\n",
    "p_df = p_df.merge(mt_df[['associated_gene_biotype',\n",
    "                         'structural_category', \n",
    "                         'associated_transcript',\n",
    "                         'isoform',\n",
    "                         'associated_gene',\n",
    "                         'length']],\n",
    "                  how='left',\n",
    "                  left_on='tid', \n",
    "                  right_on='isoform')\n",
    "p_df.rename({'associated_gene':'gid',\n",
    "             'protein_sequence':'seq'}, axis=1, inplace=True)\n",
    "assert len(p_df.loc[p_df.isoform.isnull()]) == 0"
   ]
  },
  {
   "cell_type": "markdown",
   "id": "6ce1399c-b7f8-4b54-a63a-eb7e2e10c621",
   "metadata": {},
   "source": [
    "## What % by structural category are high-confidence?\n",
    "* have ORF\n",
    "* no NMD\n",
    "* \\>80% blastp identity"
   ]
  },
  {
   "cell_type": "code",
   "execution_count": 26,
   "id": "28e5bdb3-f3be-44dc-b54a-b87f1e9668eb",
   "metadata": {},
   "outputs": [
    {
     "name": "stdout",
     "output_type": "stream",
     "text": [
      "100666\n"
     ]
    }
   ],
   "source": [
    "# keep only things from annotated protein coding genes\n",
    "p_df = p_df.loc[p_df.associated_gene_biotype=='Protein Coding']\n",
    "n = len(p_df.index)\n",
    "print(len(p_df.index))"
   ]
  },
  {
   "cell_type": "code",
   "execution_count": 27,
   "id": "e39fd3ac-235d-4513-b9c0-4a28bf0a75e4",
   "metadata": {},
   "outputs": [
    {
     "data": {
      "text/html": [
       "<div>\n",
       "<style scoped>\n",
       "    .dataframe tbody tr th:only-of-type {\n",
       "        vertical-align: middle;\n",
       "    }\n",
       "\n",
       "    .dataframe tbody tr th {\n",
       "        vertical-align: top;\n",
       "    }\n",
       "\n",
       "    .dataframe thead th {\n",
       "        text-align: right;\n",
       "    }\n",
       "</style>\n",
       "<table border=\"1\" class=\"dataframe\">\n",
       "  <thead>\n",
       "    <tr style=\"text-align: right;\">\n",
       "      <th></th>\n",
       "      <th>name</th>\n",
       "      <th>seq</th>\n",
       "      <th>gid</th>\n",
       "      <th>tid</th>\n",
       "    </tr>\n",
       "  </thead>\n",
       "  <tbody>\n",
       "    <tr>\n",
       "      <th>0</th>\n",
       "      <td>ENSP00000493376.2|ENST00000641515.2|ENSG000001...</td>\n",
       "      <td>MKKVTAEAISWNESTSETNNSMVTEFIFLGLSDSQELQTFLFMLFF...</td>\n",
       "      <td>ENSG00000186092.7</td>\n",
       "      <td>ENST00000641515.2</td>\n",
       "    </tr>\n",
       "    <tr>\n",
       "      <th>1</th>\n",
       "      <td>ENSP00000409316.1|ENST00000426406.4|ENSG000002...</td>\n",
       "      <td>MDGENHSVVSEFLFLGLTHSWEIQLLLLVFSSVLYVASITGNILIV...</td>\n",
       "      <td>ENSG00000284733.2</td>\n",
       "      <td>ENST00000426406.4</td>\n",
       "    </tr>\n",
       "    <tr>\n",
       "      <th>2</th>\n",
       "      <td>ENSP00000329982.2|ENST00000332831.5|ENSG000002...</td>\n",
       "      <td>MDGENHSVVSEFLFLGLTHSWEIQLLLLVFSSVLYVASITGNILIV...</td>\n",
       "      <td>ENSG00000284662.2</td>\n",
       "      <td>ENST00000332831.5</td>\n",
       "    </tr>\n",
       "    <tr>\n",
       "      <th>3</th>\n",
       "      <td>ENSP00000478421.2|ENST00000616016.5|ENSG000001...</td>\n",
       "      <td>MPAVKKEFPGREDLALALATFHPTLAALPLPPLPGYLAPLPAAAAL...</td>\n",
       "      <td>ENSG00000187634.13</td>\n",
       "      <td>ENST00000616016.5</td>\n",
       "    </tr>\n",
       "    <tr>\n",
       "      <th>4</th>\n",
       "      <td>ENSP00000480678.2|ENST00000618323.5|ENSG000001...</td>\n",
       "      <td>MPAVKKEFPGREDLALALATFHPTLAALPLPPLPGYLAPLPAAAAL...</td>\n",
       "      <td>ENSG00000187634.13</td>\n",
       "      <td>ENST00000618323.5</td>\n",
       "    </tr>\n",
       "  </tbody>\n",
       "</table>\n",
       "</div>"
      ],
      "text/plain": [
       "                                                name  \\\n",
       "0  ENSP00000493376.2|ENST00000641515.2|ENSG000001...   \n",
       "1  ENSP00000409316.1|ENST00000426406.4|ENSG000002...   \n",
       "2  ENSP00000329982.2|ENST00000332831.5|ENSG000002...   \n",
       "3  ENSP00000478421.2|ENST00000616016.5|ENSG000001...   \n",
       "4  ENSP00000480678.2|ENST00000618323.5|ENSG000001...   \n",
       "\n",
       "                                                 seq                 gid  \\\n",
       "0  MKKVTAEAISWNESTSETNNSMVTEFIFLGLSDSQELQTFLFMLFF...   ENSG00000186092.7   \n",
       "1  MDGENHSVVSEFLFLGLTHSWEIQLLLLVFSSVLYVASITGNILIV...   ENSG00000284733.2   \n",
       "2  MDGENHSVVSEFLFLGLTHSWEIQLLLLVFSSVLYVASITGNILIV...   ENSG00000284662.2   \n",
       "3  MPAVKKEFPGREDLALALATFHPTLAALPLPPLPGYLAPLPAAAAL...  ENSG00000187634.13   \n",
       "4  MPAVKKEFPGREDLALALATFHPTLAALPLPPLPGYLAPLPAAAAL...  ENSG00000187634.13   \n",
       "\n",
       "                 tid  \n",
       "0  ENST00000641515.2  \n",
       "1  ENST00000426406.4  \n",
       "2  ENST00000332831.5  \n",
       "3  ENST00000616016.5  \n",
       "4  ENST00000618323.5  "
      ]
     },
     "execution_count": 27,
     "metadata": {},
     "output_type": "execute_result"
    }
   ],
   "source": [
    "# add status of fsm cdss\n",
    "\n",
    "\n",
    "# get annotated AA sequencesa\n",
    "fasta_file = proc_cfg(config['ref']['pc'], od)\n",
    "fasta = Fasta(fasta_file)\n",
    "\n",
    "# Extract each entry's name and sequence\n",
    "ref_orfs = {\n",
    "    \"name\": [entry.name for entry in fasta],\n",
    "    \"seq\": [str(entry) for entry in fasta]\n",
    "}\n",
    "\n",
    "ref_orfs = pd.DataFrame(ref_orfs)\n",
    "ref_orfs['gid'] =  ref_orfs.name.str.split('|', expand=True)[2]\n",
    "ref_orfs['tid'] = ref_orfs.name.str.split('|', expand=True)[1]\n",
    "ref_orfs.head()\n"
   ]
  },
  {
   "cell_type": "code",
   "execution_count": 28,
   "id": "a6253c0b-0751-4cb4-8682-d6f7c8b6abfc",
   "metadata": {},
   "outputs": [],
   "source": [
    "p_df.loc[~(p_df.associated_transcript.isin(ref_orfs.tid.tolist()))&\\\n",
    "         (p_df.structural_category=='FSM'),'structural_category'] = 'FSM w/o CDS'\n",
    "# p_df.loc[(p_df.structural_category=='FSM')&\\\n",
    "#          (p_df.annot_cds==False), 'aa_seq_novelty'] = 'FSM w/o CDS'"
   ]
  },
  {
   "cell_type": "code",
   "execution_count": 29,
   "id": "df817c29-8010-415c-b646-e4aeb5b3c3b5",
   "metadata": {},
   "outputs": [],
   "source": [
    "p_df['high_conf'] = (p_df.blastp_identity>=80)&\\\n",
    "                    (p_df.protein_is_nmd==False)"
   ]
  },
  {
   "cell_type": "code",
   "execution_count": 30,
   "id": "8fe95289-f192-42a1-ac89-9faf0c7931cb",
   "metadata": {},
   "outputs": [],
   "source": [
    "temp = p_df[['high_conf', 'isoform', 'structural_category']].groupby(['structural_category', 'high_conf']).nunique().reset_index().rename({'isoform':'n_t'}, axis=1)"
   ]
  },
  {
   "cell_type": "code",
   "execution_count": 31,
   "id": "cfd544a7-eb16-4ed4-9f4b-bd495032cbe4",
   "metadata": {},
   "outputs": [],
   "source": [
    "temp2 = temp[['n_t', 'structural_category']].groupby('structural_category').sum().reset_index().rename({'n_t':'n_total_t'}, axis=1)\n",
    "temp = temp.merge(temp2, \n",
    "                  how='left',\n",
    "                  on='structural_category')\n",
    "temp['perc'] = (temp['n_t']/temp['n_total_t'])*100"
   ]
  },
  {
   "cell_type": "code",
   "execution_count": 32,
   "id": "6cc1c240-a459-4959-9647-12c6dddf25fb",
   "metadata": {},
   "outputs": [
    {
     "data": {
      "text/html": [
       "<div>\n",
       "<style scoped>\n",
       "    .dataframe tbody tr th:only-of-type {\n",
       "        vertical-align: middle;\n",
       "    }\n",
       "\n",
       "    .dataframe tbody tr th {\n",
       "        vertical-align: top;\n",
       "    }\n",
       "\n",
       "    .dataframe thead th {\n",
       "        text-align: right;\n",
       "    }\n",
       "</style>\n",
       "<table border=\"1\" class=\"dataframe\">\n",
       "  <thead>\n",
       "    <tr style=\"text-align: right;\">\n",
       "      <th></th>\n",
       "      <th>structural_category</th>\n",
       "      <th>high_conf</th>\n",
       "      <th>n_t</th>\n",
       "      <th>n_total_t</th>\n",
       "      <th>perc</th>\n",
       "    </tr>\n",
       "  </thead>\n",
       "  <tbody>\n",
       "    <tr>\n",
       "      <th>0</th>\n",
       "      <td>FSM</td>\n",
       "      <td>False</td>\n",
       "      <td>7366</td>\n",
       "      <td>47281</td>\n",
       "      <td>15.579197</td>\n",
       "    </tr>\n",
       "    <tr>\n",
       "      <th>1</th>\n",
       "      <td>FSM</td>\n",
       "      <td>True</td>\n",
       "      <td>39915</td>\n",
       "      <td>47281</td>\n",
       "      <td>84.420803</td>\n",
       "    </tr>\n",
       "    <tr>\n",
       "      <th>2</th>\n",
       "      <td>FSM w/o CDS</td>\n",
       "      <td>False</td>\n",
       "      <td>6577</td>\n",
       "      <td>20887</td>\n",
       "      <td>31.488486</td>\n",
       "    </tr>\n",
       "    <tr>\n",
       "      <th>3</th>\n",
       "      <td>FSM w/o CDS</td>\n",
       "      <td>True</td>\n",
       "      <td>14310</td>\n",
       "      <td>20887</td>\n",
       "      <td>68.511514</td>\n",
       "    </tr>\n",
       "    <tr>\n",
       "      <th>4</th>\n",
       "      <td>NIC</td>\n",
       "      <td>False</td>\n",
       "      <td>3548</td>\n",
       "      <td>15506</td>\n",
       "      <td>22.881465</td>\n",
       "    </tr>\n",
       "    <tr>\n",
       "      <th>5</th>\n",
       "      <td>NIC</td>\n",
       "      <td>True</td>\n",
       "      <td>11958</td>\n",
       "      <td>15506</td>\n",
       "      <td>77.118535</td>\n",
       "    </tr>\n",
       "    <tr>\n",
       "      <th>6</th>\n",
       "      <td>NNC</td>\n",
       "      <td>False</td>\n",
       "      <td>4033</td>\n",
       "      <td>16992</td>\n",
       "      <td>23.734699</td>\n",
       "    </tr>\n",
       "    <tr>\n",
       "      <th>7</th>\n",
       "      <td>NNC</td>\n",
       "      <td>True</td>\n",
       "      <td>12959</td>\n",
       "      <td>16992</td>\n",
       "      <td>76.265301</td>\n",
       "    </tr>\n",
       "  </tbody>\n",
       "</table>\n",
       "</div>"
      ],
      "text/plain": [
       "  structural_category  high_conf    n_t  n_total_t       perc\n",
       "0                 FSM      False   7366      47281  15.579197\n",
       "1                 FSM       True  39915      47281  84.420803\n",
       "2         FSM w/o CDS      False   6577      20887  31.488486\n",
       "3         FSM w/o CDS       True  14310      20887  68.511514\n",
       "4                 NIC      False   3548      15506  22.881465\n",
       "5                 NIC       True  11958      15506  77.118535\n",
       "6                 NNC      False   4033      16992  23.734699\n",
       "7                 NNC       True  12959      16992  76.265301"
      ]
     },
     "execution_count": 32,
     "metadata": {},
     "output_type": "execute_result"
    }
   ],
   "source": [
    "temp"
   ]
  },
  {
   "cell_type": "markdown",
   "id": "aa23a635-f3c2-4e90-94a6-14993ac17da1",
   "metadata": {},
   "source": [
    "## Filter on high-conf and compute the sankey thing"
   ]
  },
  {
   "cell_type": "code",
   "execution_count": 33,
   "id": "e764de53-72fc-4f11-9121-538d6f8efb1e",
   "metadata": {},
   "outputs": [],
   "source": [
    "hc_p_df = p_df.copy(deep=True)"
   ]
  },
  {
   "cell_type": "code",
   "execution_count": 39,
   "id": "fa702a5d-0bb0-4c84-a2ff-6932d8c49b99",
   "metadata": {},
   "outputs": [],
   "source": [
    "p_df = pd.read_csv('orf_thing.tsv', sep='\\t')\n",
    "\n",
    "p_df['aa_seq_novelty'] = 'Novel'\n",
    "p_df.loc[(p_df.annot_aa==True), 'aa_seq_novelty'] = 'Known'\n",
    "p_df.loc[(p_df.annot_aa==False)&\\\n",
    "         (p_df.trunc_annot_aa==True), 'aa_seq_novelty'] = 'Truncation'"
   ]
  },
  {
   "cell_type": "code",
   "execution_count": 40,
   "id": "8ed57c46-b31e-4811-bccf-cd8c45b034b6",
   "metadata": {},
   "outputs": [
    {
     "name": "stdout",
     "output_type": "stream",
     "text": [
      "86306\n",
      "79142\n"
     ]
    }
   ],
   "source": [
    "hc_tid = hc_p_df.loc[hc_p_df.high_conf==True, 'tid'].tolist()\n",
    "print(len(p_df))\n",
    "p_df = p_df.loc[p_df.tid.isin(hc_tid)]\n",
    "print(len(p_df))"
   ]
  },
  {
   "cell_type": "code",
   "execution_count": 41,
   "id": "70e07320-0fb2-4584-b4d0-7a83e8af614a",
   "metadata": {},
   "outputs": [
    {
     "data": {
      "text/html": [
       "<div>\n",
       "<style scoped>\n",
       "    .dataframe tbody tr th:only-of-type {\n",
       "        vertical-align: middle;\n",
       "    }\n",
       "\n",
       "    .dataframe tbody tr th {\n",
       "        vertical-align: top;\n",
       "    }\n",
       "\n",
       "    .dataframe thead th {\n",
       "        text-align: right;\n",
       "    }\n",
       "</style>\n",
       "<table border=\"1\" class=\"dataframe\">\n",
       "  <thead>\n",
       "    <tr style=\"text-align: right;\">\n",
       "      <th></th>\n",
       "      <th>aa_seq_novelty</th>\n",
       "      <th>structural_category</th>\n",
       "      <th>n_t</th>\n",
       "      <th>n_total_t</th>\n",
       "      <th>perc</th>\n",
       "    </tr>\n",
       "  </thead>\n",
       "  <tbody>\n",
       "    <tr>\n",
       "      <th>0</th>\n",
       "      <td>Known</td>\n",
       "      <td>FSM</td>\n",
       "      <td>34936</td>\n",
       "      <td>54225</td>\n",
       "      <td>64.427847</td>\n",
       "    </tr>\n",
       "    <tr>\n",
       "      <th>1</th>\n",
       "      <td>Known</td>\n",
       "      <td>NIC</td>\n",
       "      <td>2647</td>\n",
       "      <td>11958</td>\n",
       "      <td>22.135809</td>\n",
       "    </tr>\n",
       "    <tr>\n",
       "      <th>2</th>\n",
       "      <td>Known</td>\n",
       "      <td>NNC</td>\n",
       "      <td>2816</td>\n",
       "      <td>12959</td>\n",
       "      <td>21.730072</td>\n",
       "    </tr>\n",
       "    <tr>\n",
       "      <th>3</th>\n",
       "      <td>Novel</td>\n",
       "      <td>FSM</td>\n",
       "      <td>10201</td>\n",
       "      <td>54225</td>\n",
       "      <td>18.812356</td>\n",
       "    </tr>\n",
       "    <tr>\n",
       "      <th>4</th>\n",
       "      <td>Novel</td>\n",
       "      <td>NIC</td>\n",
       "      <td>6267</td>\n",
       "      <td>11958</td>\n",
       "      <td>52.408430</td>\n",
       "    </tr>\n",
       "    <tr>\n",
       "      <th>5</th>\n",
       "      <td>Novel</td>\n",
       "      <td>NNC</td>\n",
       "      <td>7710</td>\n",
       "      <td>12959</td>\n",
       "      <td>59.495331</td>\n",
       "    </tr>\n",
       "    <tr>\n",
       "      <th>6</th>\n",
       "      <td>Truncation</td>\n",
       "      <td>FSM</td>\n",
       "      <td>9088</td>\n",
       "      <td>54225</td>\n",
       "      <td>16.759797</td>\n",
       "    </tr>\n",
       "    <tr>\n",
       "      <th>7</th>\n",
       "      <td>Truncation</td>\n",
       "      <td>NIC</td>\n",
       "      <td>3044</td>\n",
       "      <td>11958</td>\n",
       "      <td>25.455762</td>\n",
       "    </tr>\n",
       "    <tr>\n",
       "      <th>8</th>\n",
       "      <td>Truncation</td>\n",
       "      <td>NNC</td>\n",
       "      <td>2433</td>\n",
       "      <td>12959</td>\n",
       "      <td>18.774597</td>\n",
       "    </tr>\n",
       "  </tbody>\n",
       "</table>\n",
       "</div>"
      ],
      "text/plain": [
       "  aa_seq_novelty structural_category    n_t  n_total_t       perc\n",
       "0          Known                 FSM  34936      54225  64.427847\n",
       "1          Known                 NIC   2647      11958  22.135809\n",
       "2          Known                 NNC   2816      12959  21.730072\n",
       "3          Novel                 FSM  10201      54225  18.812356\n",
       "4          Novel                 NIC   6267      11958  52.408430\n",
       "5          Novel                 NNC   7710      12959  59.495331\n",
       "6     Truncation                 FSM   9088      54225  16.759797\n",
       "7     Truncation                 NIC   3044      11958  25.455762\n",
       "8     Truncation                 NNC   2433      12959  18.774597"
      ]
     },
     "execution_count": 41,
     "metadata": {},
     "output_type": "execute_result"
    }
   ],
   "source": [
    "temp = p_df[['isoform', 'aa_seq_novelty', 'structural_category']].groupby(['aa_seq_novelty', 'structural_category']).nunique().rename({'isoform':'n_t'}, axis=1)\n",
    "temp = temp.reset_index()\n",
    "temp\n",
    "\n",
    "temp2 = p_df[['isoform', 'structural_category']].groupby(['structural_category']).nunique().rename({'isoform':'n_total_t'}, axis=1)\n",
    "temp = temp.merge(temp2, how='left', on='structural_category')\n",
    "temp['perc'] = (temp['n_t']/temp['n_total_t'])*100\n",
    "temp"
   ]
  },
  {
   "cell_type": "code",
   "execution_count": 42,
   "id": "43a0e328-d7b8-4649-801f-c1d5165bd2fd",
   "metadata": {},
   "outputs": [
    {
     "data": {
      "text/plain": [
       "81.187644"
      ]
     },
     "execution_count": 42,
     "metadata": {},
     "output_type": "execute_result"
    }
   ],
   "source": [
    "64.427847+16.759797"
   ]
  },
  {
   "cell_type": "code",
   "execution_count": 44,
   "id": "2cb697c3-2c41-492f-8323-06e8539f5ab3",
   "metadata": {},
   "outputs": [
    {
     "data": {
      "text/plain": [
       "56.0942328530722"
      ]
     },
     "execution_count": 44,
     "metadata": {},
     "output_type": "execute_result"
    }
   ],
   "source": [
    "((6267+7710)/(11958+12959))*100"
   ]
  },
  {
   "cell_type": "code",
   "execution_count": null,
   "id": "25c46ac1-58d7-40cc-b42d-81f73bb1ac91",
   "metadata": {},
   "outputs": [],
   "source": []
  }
 ],
 "metadata": {
  "kernelspec": {
   "display_name": "Python 3",
   "language": "python",
   "name": "python3"
  },
  "language_info": {
   "codemirror_mode": {
    "name": "ipython",
    "version": 3
   },
   "file_extension": ".py",
   "mimetype": "text/x-python",
   "name": "python",
   "nbconvert_exporter": "python",
   "pygments_lexer": "ipython3",
   "version": "3.7.12"
  }
 },
 "nbformat": 4,
 "nbformat_minor": 5
}
