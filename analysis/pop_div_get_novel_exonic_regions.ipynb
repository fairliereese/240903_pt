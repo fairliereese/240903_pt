{
 "cells": [
  {
   "cell_type": "markdown",
   "id": "a786fc59-3b4a-4635-ba9d-991e51488343",
   "metadata": {},
   "source": [
    "## Goal: Get novel exonic regions by doing a reverse intersect of known exons w/ novel exons"
   ]
  },
  {
   "cell_type": "code",
   "execution_count": 1,
   "id": "4e1f86a8-2751-4a6a-bd12-7b91b72e0029",
   "metadata": {},
   "outputs": [],
   "source": [
    "import pandas as pd\n",
    "import numpy as np\n",
    "import scipy.stats as st\n",
    "import seaborn as sns\n",
    "import sys\n",
    "import os\n",
    "import matplotlib.pyplot as plt\n",
    "import swan_vis as swan\n",
    "import yaml\n",
    "from snakemake.io import expand\n",
    "import cerberus\n",
    "import pyranges as pr\n",
    "import upsetplot\n",
    "import math\n",
    "\n",
    "\n",
    "p = os.path.dirname(os.getcwd())\n",
    "sys.path.append(p)\n",
    "\n",
    "from scripts.utils import *\n",
    "from scripts.vcf_utils import *\n",
    "from scripts.plotting import *"
   ]
  },
  {
   "cell_type": "code",
   "execution_count": 30,
   "id": "c5fd3b04-b5b8-433c-b1c9-f6e58b0572b8",
   "metadata": {},
   "outputs": [],
   "source": [
    "config = load_config()\n",
    "od = '../'\n",
    "\n",
    "def proc_cfg(entry, od):\n",
    "    entry = entry.replace('../../', '')\n",
    "    entry = od+entry\n",
    "    return entry"
   ]
  },
  {
   "cell_type": "code",
   "execution_count": 58,
   "id": "d36bd515-1f4c-440d-b45e-81128a23db33",
   "metadata": {},
   "outputs": [],
   "source": [
    "gtf = proc_cfg(config['lr']['gtf_filt_with_genes'],od)\n",
    "ref_gtf = proc_cfg(config['ref']['gtf'],od)"
   ]
  },
  {
   "cell_type": "code",
   "execution_count": 59,
   "id": "2d96d272-1224-47e7-8725-8dcd78f2296d",
   "metadata": {},
   "outputs": [],
   "source": [
    "def make_exon_id(df):\n",
    "    \"\"\"\n",
    "    Get an ID for each unique exon using\n",
    "    Chromosome, Strand, Start, End\n",
    "    \"\"\"\n",
    "    df['eid'] = df['Chromosome'].astype(str)+'_'+\\\n",
    "                df['Strand'].astype(str)+'_'+\\\n",
    "                df['Start'].astype(str)+'_'+\\\n",
    "                df['End'].astype(str)\n",
    "    return df\n",
    "\n",
    "# PODER\n",
    "df = pr.read_gtf(gtf).df\n",
    "df = df.loc[df.Feature=='exon']\n",
    "\n",
    "# remove first and last exons\n",
    "df['first_or_last_exon'] = (~df.duplicated('transcript_id', keep='first'))|\\\n",
    "                           (~df.duplicated('transcript_id', keep='last'))\n",
    "df = df.loc[~df.first_or_last_exon]\n",
    "df = make_exon_id(df)\n",
    "\n",
    "# only keep unique exons\n",
    "df = df[['Chromosome', 'Strand', 'Start', 'End', 'eid']].drop_duplicates(keep='first')\n",
    "\n",
    "# GENCODE\n",
    "ref_df = pr.read_gtf(ref_gtf).df\n",
    "ref_df = ref_df.loc[ref_df.Feature=='exon']\n",
    "\n",
    "# remove first and last exons\n",
    "ref_df['first_or_last_exon'] = (~ref_df.duplicated('transcript_id', keep='first'))|\\\n",
    "                           (~ref_df.duplicated('transcript_id', keep='last'))\n",
    "ref_df = ref_df.loc[~ref_df.first_or_last_exon]\n",
    "ref_df = make_exon_id(ref_df)\n",
    "\n",
    "# only keep unique exons\n",
    "ref_df = ref_df[['Chromosome', 'Strand', 'Start', 'End', 'eid']].drop_duplicates(keep='first')"
   ]
  },
  {
   "cell_type": "code",
   "execution_count": 60,
   "id": "2f3a9d45-4f3d-471e-9846-04aadc08cc5c",
   "metadata": {},
   "outputs": [],
   "source": [
    "df_back = df.copy(deep=True)\n",
    "ref_df_back = ref_df.copy(deep=True)"
   ]
  },
  {
   "cell_type": "code",
   "execution_count": 61,
   "id": "58289052-0448-4c7a-8fb7-839a48c022d5",
   "metadata": {},
   "outputs": [],
   "source": [
    "# get uniq genomic ranges that are in poder compared to gencode\n",
    "df = pr.PyRanges(df)\n",
    "ref_df = pr.PyRanges(ref_df)"
   ]
  },
  {
   "cell_type": "code",
   "execution_count": 62,
   "id": "62c0a55e-b5d8-45c7-855d-89116eb0f380",
   "metadata": {},
   "outputs": [],
   "source": [
    "df = df.intersect(ref_df,\n",
    "                  strandedness='same',\n",
    "                  invert=True)"
   ]
  },
  {
   "cell_type": "code",
   "execution_count": 69,
   "id": "196fae0a-b55c-46b4-8aed-ffe3c4be89e3",
   "metadata": {},
   "outputs": [],
   "source": [
    "# df = df.df\n",
    "df[['Chromosome_og', 'Strand_og', 'Start_og', 'End_og']] = df.eid.str.split('_', expand=True)\n",
    "df.Start_og = df.Start_og.astype(int)\n",
    "df.End_og = df.End_og.astype(int)"
   ]
  },
  {
   "cell_type": "code",
   "execution_count": 70,
   "id": "7639284e-7eb0-489d-a586-171cb14632a3",
   "metadata": {},
   "outputs": [
    {
     "data": {
      "text/html": [
       "<div>\n",
       "<style scoped>\n",
       "    .dataframe tbody tr th:only-of-type {\n",
       "        vertical-align: middle;\n",
       "    }\n",
       "\n",
       "    .dataframe tbody tr th {\n",
       "        vertical-align: top;\n",
       "    }\n",
       "\n",
       "    .dataframe thead th {\n",
       "        text-align: right;\n",
       "    }\n",
       "</style>\n",
       "<table border=\"1\" class=\"dataframe\">\n",
       "  <thead>\n",
       "    <tr style=\"text-align: right;\">\n",
       "      <th></th>\n",
       "      <th>Chromosome</th>\n",
       "      <th>Strand</th>\n",
       "      <th>Start</th>\n",
       "      <th>End</th>\n",
       "      <th>eid</th>\n",
       "      <th>Chromosome_og</th>\n",
       "      <th>Strand_og</th>\n",
       "      <th>Start_og</th>\n",
       "      <th>End_og</th>\n",
       "    </tr>\n",
       "  </thead>\n",
       "  <tbody>\n",
       "  </tbody>\n",
       "</table>\n",
       "</div>"
      ],
      "text/plain": [
       "Empty DataFrame\n",
       "Columns: [Chromosome, Strand, Start, End, eid, Chromosome_og, Strand_og, Start_og, End_og]\n",
       "Index: []"
      ]
     },
     "execution_count": 70,
     "metadata": {},
     "output_type": "execute_result"
    }
   ],
   "source": [
    "df.loc[df.Start!=df.Start_og].head()"
   ]
  },
  {
   "cell_type": "code",
   "execution_count": null,
   "id": "366c2b93-231d-4eee-baeb-e71f838a2c4e",
   "metadata": {},
   "outputs": [],
   "source": []
  },
  {
   "cell_type": "code",
   "execution_count": null,
   "id": "01982848-6340-4f67-9cdb-ecd38f535752",
   "metadata": {},
   "outputs": [],
   "source": []
  },
  {
   "cell_type": "code",
   "execution_count": null,
   "id": "110f05ee-2b52-4534-869b-c8ea55c0ce5c",
   "metadata": {},
   "outputs": [],
   "source": []
  },
  {
   "cell_type": "code",
   "execution_count": null,
   "id": "af1007a1-be5c-4317-8d4c-0d7ba5e6ed98",
   "metadata": {},
   "outputs": [],
   "source": []
  },
  {
   "cell_type": "code",
   "execution_count": null,
   "id": "09c161c6-e003-45df-83e0-83300a1d20fe",
   "metadata": {},
   "outputs": [],
   "source": []
  },
  {
   "cell_type": "code",
   "execution_count": null,
   "id": "0777b6dd-0bdb-43c8-9eef-d351ee875afc",
   "metadata": {},
   "outputs": [],
   "source": []
  },
  {
   "cell_type": "code",
   "execution_count": null,
   "id": "12060315-e09c-4c14-857f-7567ab039996",
   "metadata": {},
   "outputs": [],
   "source": []
  },
  {
   "cell_type": "code",
   "execution_count": null,
   "id": "e7414ab5-d8bf-4f44-a151-5a8bdf79607c",
   "metadata": {},
   "outputs": [],
   "source": []
  },
  {
   "cell_type": "code",
   "execution_count": null,
   "id": "a13aa08d-3a1e-424b-8397-d415d9778aac",
   "metadata": {},
   "outputs": [],
   "source": [
    "## 250214 this is old"
   ]
  },
  {
   "cell_type": "code",
   "execution_count": 31,
   "id": "612cf246-1921-4945-ab92-08972c5fa0eb",
   "metadata": {},
   "outputs": [],
   "source": [
    "df = pd.read_csv(proc_cfg(config['lr']['exon_info'], od), sep='\\t')\n",
    "\n",
    "df[['Chromosome', 'Strand', 'Start', 'End']] = df.eid.str.split('_', expand=True)\n",
    "df = df.drop('transcript_id', axis=1)\n",
    "df = df.drop_duplicates()\n",
    "known_df = df.loc[df.novelty=='Known']\n",
    "nov_df = df.loc[df.novelty!='Known']\n",
    "\n",
    "known_df = pr.PyRanges(known_df)\n",
    "nov_df = pr.PyRanges(nov_df)"
   ]
  },
  {
   "cell_type": "code",
   "execution_count": 38,
   "id": "ea62073e-46a3-42eb-9d41-db94d7a47291",
   "metadata": {},
   "outputs": [
    {
     "data": {
      "text/html": [
       "<div>\n",
       "<style scoped>\n",
       "    .dataframe tbody tr th:only-of-type {\n",
       "        vertical-align: middle;\n",
       "    }\n",
       "\n",
       "    .dataframe tbody tr th {\n",
       "        vertical-align: top;\n",
       "    }\n",
       "\n",
       "    .dataframe thead th {\n",
       "        text-align: right;\n",
       "    }\n",
       "</style>\n",
       "<table border=\"1\" class=\"dataframe\">\n",
       "  <thead>\n",
       "    <tr style=\"text-align: right;\">\n",
       "      <th></th>\n",
       "      <th>Chromosome</th>\n",
       "      <th>Start</th>\n",
       "      <th>End</th>\n",
       "      <th>Strand</th>\n",
       "    </tr>\n",
       "  </thead>\n",
       "  <tbody>\n",
       "    <tr>\n",
       "      <th>0</th>\n",
       "      <td>GL000008.2</td>\n",
       "      <td>83859</td>\n",
       "      <td>84145</td>\n",
       "      <td>+</td>\n",
       "    </tr>\n",
       "    <tr>\n",
       "      <th>1</th>\n",
       "      <td>GL000008.2</td>\n",
       "      <td>85442</td>\n",
       "      <td>85477</td>\n",
       "      <td>+</td>\n",
       "    </tr>\n",
       "    <tr>\n",
       "      <th>2</th>\n",
       "      <td>GL000008.2</td>\n",
       "      <td>85566</td>\n",
       "      <td>85625</td>\n",
       "      <td>+</td>\n",
       "    </tr>\n",
       "    <tr>\n",
       "      <th>3</th>\n",
       "      <td>GL000008.2</td>\n",
       "      <td>88635</td>\n",
       "      <td>88695</td>\n",
       "      <td>+</td>\n",
       "    </tr>\n",
       "    <tr>\n",
       "      <th>4</th>\n",
       "      <td>GL000008.2</td>\n",
       "      <td>135133</td>\n",
       "      <td>135173</td>\n",
       "      <td>+</td>\n",
       "    </tr>\n",
       "    <tr>\n",
       "      <th>5</th>\n",
       "      <td>GL000008.2</td>\n",
       "      <td>155429</td>\n",
       "      <td>155531</td>\n",
       "      <td>+</td>\n",
       "    </tr>\n",
       "    <tr>\n",
       "      <th>6</th>\n",
       "      <td>GL000008.2</td>\n",
       "      <td>173515</td>\n",
       "      <td>173643</td>\n",
       "      <td>+</td>\n",
       "    </tr>\n",
       "    <tr>\n",
       "      <th>7</th>\n",
       "      <td>GL000008.2</td>\n",
       "      <td>163784</td>\n",
       "      <td>163998</td>\n",
       "      <td>-</td>\n",
       "    </tr>\n",
       "  </tbody>\n",
       "</table>\n",
       "</div>"
      ],
      "text/plain": [
       "+------------+--------+--------+---+\n",
       "| Chromosome\n",
       "(category)            |        Start\n",
       "(int64) |        End\n",
       "(int64) | Strand\n",
       "(category)   |\n",
       "|------------+--------+--------+---|\n",
       "| GL000008.2 |  83859 |  84145 | + |\n",
       "| GL000008.2 |  85442 |  85477 | + |\n",
       "| GL000008.2 |  85566 |  85625 | + |\n",
       "| GL000008.2 |  88635 |  88695 | + |\n",
       "| GL000008.2 | 135133 | 135173 | + |\n",
       "| GL000008.2 | 155429 | 155531 | + |\n",
       "| GL000008.2 | 173515 | 173643 | + |\n",
       "| GL000008.2 | 163784 | 163998 | - |\n",
       "+------------+--------+--------+---+\n",
       "Stranded PyRanges object has 8 rows and 4 columns from 1 chromosomes.\n",
       "For printing, the PyRanges was sorted on Chromosome and Strand."
      ]
     },
     "execution_count": 38,
     "metadata": {},
     "output_type": "execute_result"
    }
   ],
   "source": [
    "# collapse all known exons so we don't end up with duplicated entries\n",
    "# when we peform the overlap\n",
    "known_df = known_df.merge(strand=True)\n",
    "known_df = known_df.df\n",
    "known_df = pr.PyRanges(known_df)\n",
    "known_df.head()"
   ]
  },
  {
   "cell_type": "code",
   "execution_count": 39,
   "id": "b32feedd-fd9d-41cd-b072-3aaf2fb1bb32",
   "metadata": {},
   "outputs": [
    {
     "data": {
      "text/plain": [
       "0         +\n",
       "1         +\n",
       "2         +\n",
       "3         +\n",
       "4         +\n",
       "         ..\n",
       "141784    -\n",
       "141785    -\n",
       "141786    -\n",
       "141787    -\n",
       "141788    -\n",
       "Name: Strand, Length: 141789, dtype: category\n",
       "Categories (3, object): ['.' < '-' < '+']"
      ]
     },
     "execution_count": 39,
     "metadata": {},
     "output_type": "execute_result"
    }
   ],
   "source": [
    "known_df.Strand"
   ]
  },
  {
   "cell_type": "code",
   "execution_count": 40,
   "id": "ac734c7b-13bb-42ad-96f3-75de9b236637",
   "metadata": {},
   "outputs": [
    {
     "data": {
      "text/plain": [
       "0        -\n",
       "1        -\n",
       "2        -\n",
       "3        -\n",
       "4        -\n",
       "        ..\n",
       "10366    +\n",
       "10367    +\n",
       "10368    +\n",
       "10369    +\n",
       "10370    -\n",
       "Name: Strand, Length: 10371, dtype: category\n",
       "Categories (3, object): ['.' < '-' < '+']"
      ]
     },
     "execution_count": 40,
     "metadata": {},
     "output_type": "execute_result"
    }
   ],
   "source": [
    "nov_df.Strand"
   ]
  },
  {
   "cell_type": "code",
   "execution_count": 46,
   "id": "2cffca10-a2fb-4abe-9fea-7d25781205a0",
   "metadata": {},
   "outputs": [],
   "source": [
    "# get the reverse overlap of nov df wrt known df\n",
    "# df = nov_df.join(known_df,\n",
    "#                  how='left',\n",
    "#                   strandedness='same',\n",
    "#                 report_overlap=True)\n",
    "# df.head()\n",
    "df = nov_df.intersect(known_df,\n",
    "                      strandedness='same',\n",
    "                      invert=True)"
   ]
  },
  {
   "cell_type": "code",
   "execution_count": 47,
   "id": "11959fed-56e1-4cb8-9c6f-bc6f9c4b446d",
   "metadata": {},
   "outputs": [
    {
     "data": {
      "text/html": [
       "<div>\n",
       "<style scoped>\n",
       "    .dataframe tbody tr th:only-of-type {\n",
       "        vertical-align: middle;\n",
       "    }\n",
       "\n",
       "    .dataframe tbody tr th {\n",
       "        vertical-align: top;\n",
       "    }\n",
       "\n",
       "    .dataframe thead th {\n",
       "        text-align: right;\n",
       "    }\n",
       "</style>\n",
       "<table border=\"1\" class=\"dataframe\">\n",
       "  <thead>\n",
       "    <tr style=\"text-align: right;\">\n",
       "      <th></th>\n",
       "      <th>eid</th>\n",
       "      <th>novelty</th>\n",
       "      <th>Chromosome</th>\n",
       "      <th>Strand</th>\n",
       "      <th>Start</th>\n",
       "      <th>End</th>\n",
       "    </tr>\n",
       "  </thead>\n",
       "  <tbody>\n",
       "    <tr>\n",
       "      <th>48</th>\n",
       "      <td>chr1_+_155738156_155738297</td>\n",
       "      <td>Novel 5'/3'</td>\n",
       "      <td>chr1</td>\n",
       "      <td>+</td>\n",
       "      <td>155738156</td>\n",
       "      <td>155738297</td>\n",
       "    </tr>\n",
       "    <tr>\n",
       "      <th>277</th>\n",
       "      <td>chr1_-_28603527_28603574</td>\n",
       "      <td>Novel 5'/3'</td>\n",
       "      <td>chr1</td>\n",
       "      <td>-</td>\n",
       "      <td>28603527</td>\n",
       "      <td>28603574</td>\n",
       "    </tr>\n",
       "    <tr>\n",
       "      <th>363</th>\n",
       "      <td>chr1_-_38864631_38864714</td>\n",
       "      <td>Novel 5'/3'</td>\n",
       "      <td>chr1</td>\n",
       "      <td>-</td>\n",
       "      <td>38864631</td>\n",
       "      <td>38864714</td>\n",
       "    </tr>\n",
       "    <tr>\n",
       "      <th>371</th>\n",
       "      <td>chr1_-_202001010_202001308</td>\n",
       "      <td>Novel 5'/3'</td>\n",
       "      <td>chr1</td>\n",
       "      <td>-</td>\n",
       "      <td>202001010</td>\n",
       "      <td>202001308</td>\n",
       "    </tr>\n",
       "    <tr>\n",
       "      <th>435</th>\n",
       "      <td>chr2_+_63589911_63590084</td>\n",
       "      <td>Novel 5'/3'</td>\n",
       "      <td>chr2</td>\n",
       "      <td>+</td>\n",
       "      <td>63589911</td>\n",
       "      <td>63590084</td>\n",
       "    </tr>\n",
       "  </tbody>\n",
       "</table>\n",
       "</div>"
      ],
      "text/plain": [
       "                            eid      novelty Chromosome Strand      Start  \\\n",
       "48   chr1_+_155738156_155738297  Novel 5'/3'       chr1      +  155738156   \n",
       "277    chr1_-_28603527_28603574  Novel 5'/3'       chr1      -   28603527   \n",
       "363    chr1_-_38864631_38864714  Novel 5'/3'       chr1      -   38864631   \n",
       "371  chr1_-_202001010_202001308  Novel 5'/3'       chr1      -  202001010   \n",
       "435    chr2_+_63589911_63590084  Novel 5'/3'       chr2      +   63589911   \n",
       "\n",
       "           End  \n",
       "48   155738297  \n",
       "277   28603574  \n",
       "363   38864714  \n",
       "371  202001308  \n",
       "435   63590084  "
      ]
     },
     "execution_count": 47,
     "metadata": {},
     "output_type": "execute_result"
    }
   ],
   "source": [
    "df = df.df\n",
    "df.loc[df.novelty==\"Novel 5'/3'\"].head()"
   ]
  },
  {
   "cell_type": "code",
   "execution_count": 44,
   "id": "9e1c8c58-7a33-463d-86d9-a3f73a4cef6b",
   "metadata": {},
   "outputs": [],
   "source": [
    "df['len'] = df['End']-df['Start']"
   ]
  },
  {
   "cell_type": "code",
   "execution_count": 45,
   "id": "e8ac6061-9ef4-4425-b467-5dfbf278b21b",
   "metadata": {},
   "outputs": [
    {
     "data": {
      "text/html": [
       "<div>\n",
       "<style scoped>\n",
       "    .dataframe tbody tr th:only-of-type {\n",
       "        vertical-align: middle;\n",
       "    }\n",
       "\n",
       "    .dataframe tbody tr th {\n",
       "        vertical-align: top;\n",
       "    }\n",
       "\n",
       "    .dataframe thead th {\n",
       "        text-align: right;\n",
       "    }\n",
       "</style>\n",
       "<table border=\"1\" class=\"dataframe\">\n",
       "  <thead>\n",
       "    <tr style=\"text-align: right;\">\n",
       "      <th></th>\n",
       "      <th>eid</th>\n",
       "      <th>novelty</th>\n",
       "      <th>Chromosome</th>\n",
       "      <th>Strand</th>\n",
       "      <th>Start</th>\n",
       "      <th>End</th>\n",
       "      <th>Start_b</th>\n",
       "      <th>End_b</th>\n",
       "      <th>Strand_b</th>\n",
       "      <th>Overlap</th>\n",
       "      <th>len</th>\n",
       "    </tr>\n",
       "  </thead>\n",
       "  <tbody>\n",
       "    <tr>\n",
       "      <th>5517</th>\n",
       "      <td>chr10_+_102157018_102157328</td>\n",
       "      <td>Novel 5'/3'</td>\n",
       "      <td>chr10</td>\n",
       "      <td>+</td>\n",
       "      <td>102157018</td>\n",
       "      <td>102157328</td>\n",
       "      <td>102157018</td>\n",
       "      <td>102157074</td>\n",
       "      <td>+</td>\n",
       "      <td>56</td>\n",
       "      <td>310</td>\n",
       "    </tr>\n",
       "    <tr>\n",
       "      <th>5518</th>\n",
       "      <td>chr10_+_102157018_102157328</td>\n",
       "      <td>Novel 5'/3'</td>\n",
       "      <td>chr10</td>\n",
       "      <td>+</td>\n",
       "      <td>102157018</td>\n",
       "      <td>102157328</td>\n",
       "      <td>102157185</td>\n",
       "      <td>102157328</td>\n",
       "      <td>+</td>\n",
       "      <td>143</td>\n",
       "      <td>310</td>\n",
       "    </tr>\n",
       "    <tr>\n",
       "      <th>5498</th>\n",
       "      <td>chr10_+_12215739_12217467</td>\n",
       "      <td>Novel 5'/3'</td>\n",
       "      <td>chr10</td>\n",
       "      <td>+</td>\n",
       "      <td>12215739</td>\n",
       "      <td>12217467</td>\n",
       "      <td>12217360</td>\n",
       "      <td>12217467</td>\n",
       "      <td>+</td>\n",
       "      <td>107</td>\n",
       "      <td>1728</td>\n",
       "    </tr>\n",
       "    <tr>\n",
       "      <th>5497</th>\n",
       "      <td>chr10_+_12215739_12217467</td>\n",
       "      <td>Novel 5'/3'</td>\n",
       "      <td>chr10</td>\n",
       "      <td>+</td>\n",
       "      <td>12215739</td>\n",
       "      <td>12217467</td>\n",
       "      <td>12215739</td>\n",
       "      <td>12215835</td>\n",
       "      <td>+</td>\n",
       "      <td>96</td>\n",
       "      <td>1728</td>\n",
       "    </tr>\n",
       "    <tr>\n",
       "      <th>5521</th>\n",
       "      <td>chr10_+_60785663_60788230</td>\n",
       "      <td>Novel 5'/3'</td>\n",
       "      <td>chr10</td>\n",
       "      <td>+</td>\n",
       "      <td>60785663</td>\n",
       "      <td>60788230</td>\n",
       "      <td>60785663</td>\n",
       "      <td>60785787</td>\n",
       "      <td>+</td>\n",
       "      <td>124</td>\n",
       "      <td>2567</td>\n",
       "    </tr>\n",
       "  </tbody>\n",
       "</table>\n",
       "</div>"
      ],
      "text/plain": [
       "                              eid      novelty Chromosome Strand      Start  \\\n",
       "5517  chr10_+_102157018_102157328  Novel 5'/3'      chr10      +  102157018   \n",
       "5518  chr10_+_102157018_102157328  Novel 5'/3'      chr10      +  102157018   \n",
       "5498    chr10_+_12215739_12217467  Novel 5'/3'      chr10      +   12215739   \n",
       "5497    chr10_+_12215739_12217467  Novel 5'/3'      chr10      +   12215739   \n",
       "5521    chr10_+_60785663_60788230  Novel 5'/3'      chr10      +   60785663   \n",
       "\n",
       "            End    Start_b      End_b Strand_b  Overlap   len  \n",
       "5517  102157328  102157018  102157074        +       56   310  \n",
       "5518  102157328  102157185  102157328        +      143   310  \n",
       "5498   12217467   12217360   12217467        +      107  1728  \n",
       "5497   12217467   12215739   12215835        +       96  1728  \n",
       "5521   60788230   60785663   60785787        +      124  2567  "
      ]
     },
     "execution_count": 45,
     "metadata": {},
     "output_type": "execute_result"
    }
   ],
   "source": [
    "df.loc[df.duplicated(subset='eid', keep=False)].sort_values(by='eid').head()"
   ]
  },
  {
   "cell_type": "code",
   "execution_count": null,
   "id": "f85a45d5-97a0-4be5-bd7f-76b33f5adabe",
   "metadata": {},
   "outputs": [],
   "source": []
  }
 ],
 "metadata": {
  "kernelspec": {
   "display_name": "Python 3",
   "language": "python",
   "name": "python3"
  },
  "language_info": {
   "codemirror_mode": {
    "name": "ipython",
    "version": 3
   },
   "file_extension": ".py",
   "mimetype": "text/x-python",
   "name": "python",
   "nbconvert_exporter": "python",
   "pygments_lexer": "ipython3",
   "version": "3.7.12"
  }
 },
 "nbformat": 4,
 "nbformat_minor": 5
}
