{
 "cells": [
  {
   "cell_type": "code",
   "execution_count": 1,
   "id": "9ac7e704-0f3c-4628-80f0-8b238a1941a2",
   "metadata": {},
   "outputs": [],
   "source": [
    "import pandas as pd\n",
    "import numpy as np\n",
    "import scipy.stats as st\n",
    "import seaborn as sns\n",
    "import sys\n",
    "import os\n",
    "import matplotlib.pyplot as plt\n",
    "import swan_vis as swan\n",
    "import yaml\n",
    "from snakemake.io import expand\n",
    "import cerberus\n",
    "import pyranges as pr\n",
    "from pyfaidx import Fasta\n",
    "import upsetplot\n",
    "from pandarallel import pandarallel\n",
    "\n",
    "p = os.path.dirname(os.getcwd())\n",
    "sys.path.append(p)\n",
    "\n",
    "from scripts.utils import *\n",
    "from scripts.vcf_utils import *\n",
    "from scripts.plotting import *"
   ]
  },
  {
   "cell_type": "code",
   "execution_count": 2,
   "id": "40676182-dfca-4a07-b0d2-a56f9d864a0d",
   "metadata": {},
   "outputs": [],
   "source": [
    "config = load_config()\n",
    "od = '../'\n",
    "\n",
    "def proc_cfg(entry, od):\n",
    "    entry = entry.replace('../../', '')\n",
    "    entry = od+entry\n",
    "    return entry"
   ]
  },
  {
   "cell_type": "code",
   "execution_count": 44,
   "id": "29501d19-a3a1-4895-9a26-2f0c13586443",
   "metadata": {},
   "outputs": [],
   "source": [
    "mt_df = pd.read_csv('../data/05_mastertable/poder_master_table_fixed_genics.tsv', sep='\\t')\n",
    "# mt_df = mt_df.loc[mt_df['filter']=='pass']\n",
    "mt_df['pop_spec_t'] = (mt_df.population_sharing==1)&\\\n",
    "                      (mt_df.sample_sharing>1)\n"
   ]
  },
  {
   "cell_type": "code",
   "execution_count": 46,
   "id": "07ab7c4b-f5e1-4a2a-b600-eb50616ff861",
   "metadata": {},
   "outputs": [
    {
     "data": {
      "text/plain": [
       "155875"
      ]
     },
     "execution_count": 46,
     "metadata": {},
     "output_type": "execute_result"
    }
   ],
   "source": [
    "len(mt_df)"
   ]
  },
  {
   "cell_type": "code",
   "execution_count": 47,
   "id": "b950a324-a6a0-4428-9a17-f8a843678343",
   "metadata": {},
   "outputs": [],
   "source": [
    "meta_df = load_meta()\n",
    "samples = meta_df['sample'].unique().tolist()\n",
    "samples = [c for c in samples if c in mt_df.columns]"
   ]
  },
  {
   "cell_type": "code",
   "execution_count": 48,
   "id": "8d3ad322-4418-4cb7-a5c7-578c750625b6",
   "metadata": {},
   "outputs": [],
   "source": [
    "keep_cols = ['isoform', 'structural_category']+samples\n",
    "keep_cols = [c for c in keep_cols if c in mt_df.columns]"
   ]
  },
  {
   "cell_type": "code",
   "execution_count": 49,
   "id": "45eadbfa-9cb2-4f53-ac46-c7a51d302df3",
   "metadata": {},
   "outputs": [],
   "source": [
    "mt_df = mt_df[keep_cols].melt(id_vars=['isoform', 'structural_category'], value_vars=samples)"
   ]
  },
  {
   "cell_type": "code",
   "execution_count": 51,
   "id": "d1d965f2-38dd-45a9-b3a8-b539c624e850",
   "metadata": {},
   "outputs": [
    {
     "name": "stdout",
     "output_type": "stream",
     "text": [
      "6702625\n",
      "2048259\n"
     ]
    }
   ],
   "source": [
    "print(len(mt_df.index))\n",
    "mt_df = mt_df.loc[mt_df.value==1]\n",
    "print(len(mt_df.index))"
   ]
  },
  {
   "cell_type": "code",
   "execution_count": 52,
   "id": "f5841138-ccb3-4936-b6f7-d5e7a103f138",
   "metadata": {},
   "outputs": [
    {
     "name": "stdout",
     "output_type": "stream",
     "text": [
      "2048259\n",
      "524750\n"
     ]
    }
   ],
   "source": [
    "# only noel\n",
    "print(len(mt_df.index))\n",
    "mt_df = mt_df.loc[mt_df.structural_category!='FSM']\n",
    "print(len(mt_df.index))"
   ]
  },
  {
   "cell_type": "code",
   "execution_count": 53,
   "id": "a2011774-7e27-47b3-beda-ec064c0a71b0",
   "metadata": {},
   "outputs": [],
   "source": [
    "mt_df = mt_df[['isoform', 'variable']].groupby('variable').nunique().reset_index().rename({'isoform':'n_novel_iso'}, axis=1)\n"
   ]
  },
  {
   "cell_type": "code",
   "execution_count": 54,
   "id": "325b1c25-c5a8-4e7d-ae98-ea2d3e962043",
   "metadata": {},
   "outputs": [
    {
     "data": {
      "text/plain": [
       "11700.0"
      ]
     },
     "execution_count": 54,
     "metadata": {},
     "output_type": "execute_result"
    }
   ],
   "source": [
    "mt_df.n_novel_iso.median()"
   ]
  },
  {
   "cell_type": "code",
   "execution_count": 55,
   "id": "45d7253a-3cab-4bfa-a456-c4cf6636815e",
   "metadata": {},
   "outputs": [
    {
     "data": {
      "text/html": [
       "<div>\n",
       "<style scoped>\n",
       "    .dataframe tbody tr th:only-of-type {\n",
       "        vertical-align: middle;\n",
       "    }\n",
       "\n",
       "    .dataframe tbody tr th {\n",
       "        vertical-align: top;\n",
       "    }\n",
       "\n",
       "    .dataframe thead th {\n",
       "        text-align: right;\n",
       "    }\n",
       "</style>\n",
       "<table border=\"1\" class=\"dataframe\">\n",
       "  <thead>\n",
       "    <tr style=\"text-align: right;\">\n",
       "      <th></th>\n",
       "      <th>variable</th>\n",
       "      <th>n_novel_iso</th>\n",
       "    </tr>\n",
       "  </thead>\n",
       "  <tbody>\n",
       "    <tr>\n",
       "      <th>0</th>\n",
       "      <td>AJI1</td>\n",
       "      <td>8468</td>\n",
       "    </tr>\n",
       "    <tr>\n",
       "      <th>1</th>\n",
       "      <td>AJI2</td>\n",
       "      <td>11517</td>\n",
       "    </tr>\n",
       "    <tr>\n",
       "      <th>2</th>\n",
       "      <td>AJI3</td>\n",
       "      <td>11942</td>\n",
       "    </tr>\n",
       "    <tr>\n",
       "      <th>3</th>\n",
       "      <td>AJI4</td>\n",
       "      <td>9396</td>\n",
       "    </tr>\n",
       "    <tr>\n",
       "      <th>4</th>\n",
       "      <td>AJI5</td>\n",
       "      <td>13256</td>\n",
       "    </tr>\n",
       "  </tbody>\n",
       "</table>\n",
       "</div>"
      ],
      "text/plain": [
       "  variable  n_novel_iso\n",
       "0     AJI1         8468\n",
       "1     AJI2        11517\n",
       "2     AJI3        11942\n",
       "3     AJI4         9396\n",
       "4     AJI5        13256"
      ]
     },
     "execution_count": 55,
     "metadata": {},
     "output_type": "execute_result"
    }
   ],
   "source": [
    "mt_df.head()"
   ]
  },
  {
   "cell_type": "code",
   "execution_count": 56,
   "id": "1db07d13-21bf-4610-9dd9-932221b5980b",
   "metadata": {},
   "outputs": [
    {
     "ename": "TypeError",
     "evalue": "distplot() got an unexpected keyword argument 'y'",
     "output_type": "error",
     "traceback": [
      "\u001b[0;31m---------------------------------------------------------------------------\u001b[0m",
      "\u001b[0;31mTypeError\u001b[0m                                 Traceback (most recent call last)",
      "\u001b[0;32m<ipython-input-56-afa936b4ba42>\u001b[0m in \u001b[0;36m<module>\u001b[0;34m\u001b[0m\n\u001b[0;32m----> 1\u001b[0;31m \u001b[0msns\u001b[0m\u001b[0;34m.\u001b[0m\u001b[0mdistplot\u001b[0m\u001b[0;34m(\u001b[0m\u001b[0mmt_df\u001b[0m\u001b[0;34m,\u001b[0m \u001b[0my\u001b[0m\u001b[0;34m=\u001b[0m\u001b[0;34m'n_novel_iso'\u001b[0m\u001b[0;34m)\u001b[0m\u001b[0;34m\u001b[0m\u001b[0;34m\u001b[0m\u001b[0m\n\u001b[0m",
      "\u001b[0;31mTypeError\u001b[0m: distplot() got an unexpected keyword argument 'y'"
     ]
    }
   ],
   "source": [
    "sns.distplot(mt_df, y='n_novel_iso')"
   ]
  },
  {
   "cell_type": "code",
   "execution_count": null,
   "id": "5242dcff-36a0-44dc-84fc-ae0bd5af0063",
   "metadata": {},
   "outputs": [],
   "source": []
  }
 ],
 "metadata": {
  "kernelspec": {
   "display_name": "Python 3",
   "language": "python",
   "name": "python3"
  },
  "language_info": {
   "codemirror_mode": {
    "name": "ipython",
    "version": 3
   },
   "file_extension": ".py",
   "mimetype": "text/x-python",
   "name": "python",
   "nbconvert_exporter": "python",
   "pygments_lexer": "ipython3",
   "version": "3.7.12"
  }
 },
 "nbformat": 4,
 "nbformat_minor": 5
}
