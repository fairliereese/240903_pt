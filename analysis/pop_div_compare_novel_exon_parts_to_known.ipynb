{
 "cells": [
  {
   "cell_type": "markdown",
   "id": "8d78c569-b817-40e1-939f-857e119b4c64",
   "metadata": {},
   "source": [
    "## Goal : Compare Fst values in novel exonic regions compared to known"
   ]
  },
  {
   "cell_type": "code",
   "execution_count": 60,
   "id": "4581ef9f-398f-4c4a-b414-02693cd1c311",
   "metadata": {},
   "outputs": [],
   "source": [
    "import pandas as pd\n",
    "import numpy as np\n",
    "import scipy.stats as st\n",
    "import seaborn as sns\n",
    "import sys\n",
    "import os\n",
    "import matplotlib.pyplot as plt\n",
    "import swan_vis as swan\n",
    "import yaml\n",
    "from snakemake.io import expand\n",
    "import cerberus\n",
    "import pyranges as pr\n",
    "import upsetplot\n",
    "import math\n",
    "\n",
    "\n",
    "p = os.path.dirname(os.getcwd())\n",
    "sys.path.append(p)\n",
    "\n",
    "from scripts.utils import *\n",
    "from scripts.vcf_utils import *\n",
    "from scripts.plotting import *"
   ]
  },
  {
   "cell_type": "code",
   "execution_count": 61,
   "id": "77b009ae-72e6-49a8-927c-359ed71c9c93",
   "metadata": {},
   "outputs": [],
   "source": [
    "config = load_config()\n",
    "od = '../'\n",
    "\n",
    "def proc_cfg(entry, od):\n",
    "    entry = entry.replace('../../', '')\n",
    "    entry = od+entry\n",
    "    return entry"
   ]
  },
  {
   "cell_type": "code",
   "execution_count": 62,
   "id": "3d88038d-f03e-42bf-8e78-78ae17f8d982",
   "metadata": {},
   "outputs": [],
   "source": [
    "exon_parts = proc_cfg(config['lr']['exons_novel_part_fsts_summary'],od)\n",
    "ref_exons = proc_cfg(config['ref']['exons_fsts_summary'],od)\n",
    "exon_info = proc_cfg(config['lr']['exon_info'],od)"
   ]
  },
  {
   "cell_type": "code",
   "execution_count": 63,
   "id": "d821b5e9-74e6-4d9b-9188-5ed729127b0c",
   "metadata": {},
   "outputs": [],
   "source": [
    "def read_fst_summ(f):\n",
    "    # print(f)\n",
    "    df = pd.read_csv(f,\n",
    "                 sep='\\t')\n",
    "\n",
    "    # set all <0 fsts --> 0 https://www.biostars.org/p/132253/\n",
    "    df.loc[df.fst<0, 'fst'] = 0\n",
    "\n",
    "    # since this is biallelic snp level, remove all exons that didnt intersect\n",
    "    n = len(df.index)\n",
    "    df = df.loc[df.End_b!=-1]\n",
    "    n2 = len(df.index)\n",
    "    assert n != n2\n",
    "    # print(n2)\n",
    "    \n",
    "    return df"
   ]
  },
  {
   "cell_type": "code",
   "execution_count": 73,
   "id": "7050bd2c-3521-4993-a84c-486bd32dceaa",
   "metadata": {},
   "outputs": [],
   "source": [
    "nov_df = read_fst_summ(exon_parts)\n",
    "known_df = read_fst_summ(ref_exons)\n",
    "df = pd.read_csv(exon_info, sep='\\t')\n",
    "\n",
    "# limit annot. exons to the expressed ones\n",
    "known_df = known_df.loc[known_df.eid.isin(df.eid.tolist())]\n",
    "known_df['novelty'] = 'Known'\n",
    "\n",
    "df = pd.concat([nov_df, known_df], axis=0)"
   ]
  },
  {
   "cell_type": "code",
   "execution_count": 72,
   "id": "1940c99d-aa2d-458d-80fe-42c6f68c0ed2",
   "metadata": {},
   "outputs": [],
   "source": [
    "# init_plot_settings()\n",
    "# ax = sns.displot(df, \n",
    "#             x='fst',\n",
    "#             kind='kde')\n",
    "# plt.show()\n",
    "# plt.clf()\n",
    "\n",
    "# # plot the Fst dists. for pop-spec and non-pop-spec\n",
    "# init_plot_settings()\n",
    "# ax = sns.displot(df, \n",
    "#             x='fst',\n",
    "#             kind='ecdf') \n",
    "# plt.show()\n",
    "# plt.clf()"
   ]
  },
  {
   "cell_type": "code",
   "execution_count": 75,
   "id": "690b62a2-dc4a-41cb-a83a-a06cb157e9b3",
   "metadata": {},
   "outputs": [],
   "source": [
    "# limit only to contrasts that involve CEU\n",
    "# because we know that the annotation, and therefore exon novelty\n",
    "# is eur-biased\n",
    "df = df.loc[(df.pop1=='CEU')|(df.pop2=='CEU')]\n",
    "# print(df.pop1.unique())\n",
    "# print(df.pop2.unique())"
   ]
  },
  {
   "cell_type": "code",
   "execution_count": 77,
   "id": "c4118b59-6632-4686-8bd2-1caeace9e29b",
   "metadata": {},
   "outputs": [],
   "source": [
    "# for each combination of exon, get the std FST of SNPs in the \n",
    "# exon, across the contrasts\n",
    "gb_cols = ['eid', 'novelty'] # exon id stuff\n",
    "keep_cols = gb_cols+['fst']\n",
    "temp = df[keep_cols].groupby(gb_cols).std().reset_index().rename({'fst':'std_fst'}, axis=1)\n",
    "\n",
    "# make sure we have no dupe eid / var. pos. combos\n",
    "assert len(temp.index) == len(temp[['eid']].drop_duplicates().index)"
   ]
  },
  {
   "cell_type": "code",
   "execution_count": 78,
   "id": "e4414fc5-f7c2-4caf-a641-242c5541d847",
   "metadata": {},
   "outputs": [
    {
     "data": {
      "image/png": "[encoded data removed]",
      "text/plain": [
       "<Figure size 360x360 with 1 Axes>"
      ]
     },
     "metadata": {
      "needs_background": "light"
     },
     "output_type": "display_data"
    },
    {
     "data": {
      "text/plain": [
       "<Figure size 360x360 with 0 Axes>"
      ]
     },
     "metadata": {},
     "output_type": "display_data"
    },
    {
     "data": {
      "image/png": "[encoded data removed]",
      "text/plain": [
       "<Figure size 360x360 with 1 Axes>"
      ]
     },
     "metadata": {
      "needs_background": "light"
     },
     "output_type": "display_data"
    },
    {
     "data": {
      "text/plain": [
       "<Figure size 360x360 with 0 Axes>"
      ]
     },
     "metadata": {},
     "output_type": "display_data"
    }
   ],
   "source": [
    "init_plot_settings()\n",
    "ax = sns.displot(temp, \n",
    "            x='std_fst',\n",
    "            kind='kde')  \n",
    "plt.show()\n",
    "plt.clf()\n",
    "\n",
    "# plot the Fst dists. for pop-spec and non-pop-spec\n",
    "init_plot_settings()\n",
    "ax = sns.displot(temp, \n",
    "            x='std_fst',\n",
    "            kind='ecdf') \n",
    "plt.show()\n",
    "plt.clf()"
   ]
  },
  {
   "cell_type": "code",
   "execution_count": 79,
   "id": "562ab5a2-06b5-4cbc-a6f6-a8b3be9406b7",
   "metadata": {},
   "outputs": [],
   "source": [
    "# for each novel exon, get mean fst across \n",
    "# 1. positions\n",
    "# 2. separate pieces (duplicate w/ the prev.) and\n",
    "# 3. fst contrasts\n",
    "\n",
    "\n",
    "# for each combination of exon and variant position, get the mean FST\n",
    "# (which will be the mean between the contrasts)\n",
    "gb_cols = ['eid', 'novelty', # exon id stuff\n",
    "           'End_b', 'Start_b'] # var. pos. stuff\n",
    "keep_cols = gb_cols+['fst']\n",
    "df = df[keep_cols].groupby(gb_cols).mean().reset_index().rename({'fst':'mean_fst'}, axis=1)\n",
    "\n",
    "# make sure we have no dupe eid / var. pos. combos\n",
    "assert len(df.index) == len(df[['eid', 'End_b', 'Start_b']].drop_duplicates().index)\n"
   ]
  },
  {
   "cell_type": "code",
   "execution_count": 80,
   "id": "2912b5b7-ff4c-4aae-aa33-7fef681a1631",
   "metadata": {},
   "outputs": [],
   "source": [
    "# now also take the mean-mean fst across all variant positions for each exon\n",
    "gb_cols = ['eid', 'novelty']\n",
    "keep_cols = gb_cols+['mean_fst']\n",
    "df = df[keep_cols].groupby(gb_cols).mean().reset_index().rename({'mean_fst':'mean_mean_fst'}, axis=1)"
   ]
  },
  {
   "cell_type": "code",
   "execution_count": 81,
   "id": "219bfd67-5745-46fd-8534-f29e24cc0641",
   "metadata": {},
   "outputs": [
    {
     "data": {
      "image/png": "[encoded data removed]",
      "text/plain": [
       "<Figure size 504.235x360 with 1 Axes>"
      ]
     },
     "metadata": {
      "needs_background": "light"
     },
     "output_type": "display_data"
    },
    {
     "data": {
      "text/plain": [
       "<Figure size 360x360 with 0 Axes>"
      ]
     },
     "metadata": {},
     "output_type": "display_data"
    },
    {
     "data": {
      "image/png": "[encoded data removed]",
      "text/plain": [
       "<Figure size 504.235x360 with 1 Axes>"
      ]
     },
     "metadata": {
      "needs_background": "light"
     },
     "output_type": "display_data"
    },
    {
     "name": "stdout",
     "output_type": "stream",
     "text": [
      "1043\n",
      "Novel 5'/3' vs. Known:\n",
      "54708610.5\n",
      "1.4539257161123482e-09\n",
      "\n",
      "2832\n",
      "Novel vs. Known:\n",
      "150055947.5\n",
      "4.403349066745402e-27\n",
      "\n"
     ]
    },
    {
     "data": {
      "text/plain": [
       "<Figure size 360x360 with 0 Axes>"
      ]
     },
     "metadata": {},
     "output_type": "display_data"
    }
   ],
   "source": [
    "# plot the Fst dists. for pop-spec and non-pop-spec\n",
    "init_plot_settings()\n",
    "ax = sns.displot(df, \n",
    "            x='mean_mean_fst',\n",
    "            hue='novelty',\n",
    "            kind='kde',\n",
    "            common_norm=False)  \n",
    "plt.show()\n",
    "plt.clf()\n",
    "\n",
    "# plot the Fst dists. for pop-spec and non-pop-spec\n",
    "init_plot_settings()\n",
    "ax = sns.displot(df, \n",
    "            x='mean_mean_fst',\n",
    "            hue='novelty',\n",
    "            kind='ecdf') \n",
    "plt.show()\n",
    "plt.clf()\n",
    "\n",
    "for nov in [\"Novel 5'/3'\", 'Novel']:\n",
    "\n",
    "\n",
    "    x = df.loc[df.novelty==nov,'mean_mean_fst'].tolist() # hyp. --> greater\n",
    "    print(len(x))\n",
    "    y = df.loc[df.novelty=='Known','mean_mean_fst'].tolist()\n",
    "\n",
    "    # print(f'{pop1} vs {pop2}')\n",
    "    # print(temp.loc[temp.thing2=='unique','fst'].median())\n",
    "    # print(temp.loc[temp.thing2=='shared','fst'].median())\n",
    "    # print()\n",
    "\n",
    "    print(f'{nov} vs. Known:')\n",
    "    stat, pval = st.mannwhitneyu(x, y, alternative='greater')\n",
    "    print(stat)\n",
    "    print(pval)\n",
    "    print()"
   ]
  },
  {
   "cell_type": "code",
   "execution_count": 82,
   "id": "994383b5-2177-4064-bcf6-be8a5f5eded5",
   "metadata": {},
   "outputs": [
    {
     "data": {
      "text/html": [
       "<div>\n",
       "<style scoped>\n",
       "    .dataframe tbody tr th:only-of-type {\n",
       "        vertical-align: middle;\n",
       "    }\n",
       "\n",
       "    .dataframe tbody tr th {\n",
       "        vertical-align: top;\n",
       "    }\n",
       "\n",
       "    .dataframe thead th {\n",
       "        text-align: right;\n",
       "    }\n",
       "</style>\n",
       "<table border=\"1\" class=\"dataframe\">\n",
       "  <thead>\n",
       "    <tr style=\"text-align: right;\">\n",
       "      <th></th>\n",
       "      <th>eid</th>\n",
       "      <th>novelty</th>\n",
       "      <th>mean_mean_fst</th>\n",
       "    </tr>\n",
       "  </thead>\n",
       "  <tbody>\n",
       "    <tr>\n",
       "      <th>0</th>\n",
       "      <td>chr10_+_1000676_1000868</td>\n",
       "      <td>Known</td>\n",
       "      <td>0.012713</td>\n",
       "    </tr>\n",
       "    <tr>\n",
       "      <th>1</th>\n",
       "      <td>chr10_+_1000947_1001013</td>\n",
       "      <td>Known</td>\n",
       "      <td>0.006561</td>\n",
       "    </tr>\n",
       "    <tr>\n",
       "      <th>2</th>\n",
       "      <td>chr10_+_100231245_100231660</td>\n",
       "      <td>Known</td>\n",
       "      <td>0.016604</td>\n",
       "    </tr>\n",
       "    <tr>\n",
       "      <th>3</th>\n",
       "      <td>chr10_+_100233230_100233443</td>\n",
       "      <td>Known</td>\n",
       "      <td>0.026507</td>\n",
       "    </tr>\n",
       "    <tr>\n",
       "      <th>4</th>\n",
       "      <td>chr10_+_100266373_100266499</td>\n",
       "      <td>Known</td>\n",
       "      <td>0.014179</td>\n",
       "    </tr>\n",
       "  </tbody>\n",
       "</table>\n",
       "</div>"
      ],
      "text/plain": [
       "                           eid novelty  mean_mean_fst\n",
       "0      chr10_+_1000676_1000868   Known       0.012713\n",
       "1      chr10_+_1000947_1001013   Known       0.006561\n",
       "2  chr10_+_100231245_100231660   Known       0.016604\n",
       "3  chr10_+_100233230_100233443   Known       0.026507\n",
       "4  chr10_+_100266373_100266499   Known       0.014179"
      ]
     },
     "execution_count": 82,
     "metadata": {},
     "output_type": "execute_result"
    }
   ],
   "source": [
    "df.head()"
   ]
  },
  {
   "cell_type": "code",
   "execution_count": 83,
   "id": "aad59fdc-a0c9-47df-8d2d-d40c92db7b78",
   "metadata": {},
   "outputs": [],
   "source": [
    "df.to_csv('250219_novel_exon_fsts.tsv', sep='\\t', index=False)"
   ]
  },
  {
   "cell_type": "code",
   "execution_count": null,
   "id": "b3d4021c-296d-498d-b82f-fbe2b53cf75f",
   "metadata": {},
   "outputs": [],
   "source": []
  }
 ],
 "metadata": {
  "kernelspec": {
   "display_name": "Python 3",
   "language": "python",
   "name": "python3"
  },
  "language_info": {
   "codemirror_mode": {
    "name": "ipython",
    "version": 3
   },
   "file_extension": ".py",
   "mimetype": "text/x-python",
   "name": "python",
   "nbconvert_exporter": "python",
   "pygments_lexer": "ipython3",
   "version": "3.7.12"
  }
 },
 "nbformat": 4,
 "nbformat_minor": 5
}
