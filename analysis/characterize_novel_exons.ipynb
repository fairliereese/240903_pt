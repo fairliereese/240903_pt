{
 "cells": [
  {
   "cell_type": "markdown",
   "id": "d621822a-7c5c-417c-aaa9-266a4b79c3be",
   "metadata": {},
   "source": [
    "## Characterize novel internal exons that we have in PODER vs. GENCODE"
   ]
  },
  {
   "cell_type": "code",
   "execution_count": 58,
   "id": "55135b99-20f7-4446-a2e0-8a5def913358",
   "metadata": {},
   "outputs": [],
   "source": [
    "import pandas as pd\n",
    "import numpy as np\n",
    "import scipy.stats as st\n",
    "import seaborn as sns\n",
    "import sys\n",
    "import os\n",
    "import matplotlib.pyplot as plt\n",
    "import swan_vis as swan\n",
    "import yaml\n",
    "from snakemake.io import expand\n",
    "import cerberus\n",
    "import pyranges as pr\n",
    "import upsetplot\n",
    "\n",
    "p = os.path.dirname(os.getcwd())\n",
    "sys.path.append(p)\n",
    "\n",
    "from scripts.utils import *\n",
    "from scripts.vcf_utils import *\n",
    "from scripts.plotting import *\n",
    "from scripts.sm_utils import *"
   ]
  },
  {
   "cell_type": "code",
   "execution_count": 59,
   "id": "0bd00a12-df6b-437e-b5c9-604673be6afd",
   "metadata": {},
   "outputs": [],
   "source": [
    "config = load_config()\n",
    "od = '../'\n",
    "\n",
    "def proc_cfg(entry, od):\n",
    "    entry = entry.replace('../../', '')\n",
    "    entry = od+entry\n",
    "    return entry"
   ]
  },
  {
   "cell_type": "code",
   "execution_count": 60,
   "id": "47dee88e-56f5-4374-907a-f862e6021060",
   "metadata": {},
   "outputs": [
    {
     "data": {
      "text/plain": [
       "'../ref/annot.gtf'"
      ]
     },
     "execution_count": 60,
     "metadata": {},
     "output_type": "execute_result"
    }
   ],
   "source": [
    "gtf_file = proc_cfg(config['lr']['gtf_filt_with_genes'], od)\n",
    "gtf_file\n",
    "\n",
    "ref_gtf_file = proc_cfg(config['ref']['gtf'], od)\n",
    "ref_gtf_file\n"
   ]
  },
  {
   "cell_type": "code",
   "execution_count": 61,
   "id": "229246ec-0dc7-47c4-a1c2-b96bb2f8872c",
   "metadata": {},
   "outputs": [],
   "source": [
    "# get internal exons from each annotation"
   ]
  },
  {
   "cell_type": "code",
   "execution_count": 62,
   "id": "46e42c55-a748-4d6c-98e1-9aa512c7d690",
   "metadata": {},
   "outputs": [],
   "source": [
    "def make_exon_id(df):\n",
    "    \"\"\"\n",
    "    Get an ID for each unique exon using \n",
    "    Chromosome, Strand, Start, End\n",
    "    \"\"\"\n",
    "    df['eid'] = df['Chromosome'].astype(str)+'_'+\\\n",
    "                df['Strand'].astype(str)+'_'+\\\n",
    "                df['Start'].astype(str)+'_'+\\\n",
    "                df['End'].astype(str)+'_'\n",
    "    return df\n",
    "    "
   ]
  },
  {
   "cell_type": "code",
   "execution_count": 63,
   "id": "dad9494a-efd7-4e81-a989-617def04a0d4",
   "metadata": {},
   "outputs": [],
   "source": [
    "# PODER\n",
    "df = pr.read_gtf(gtf_file).df\n",
    "df = df.loc[df.Feature=='exon']\n",
    "\n",
    "# remove first and last exons\n",
    "df['first_or_last_exon'] = (~df.duplicated('transcript_id', keep='first'))|\\\n",
    "                           (~df.duplicated('transcript_id', keep='last'))\n",
    "df = df.loc[~df.first_or_last_exon]\n",
    "df = make_exon_id(df)\n",
    "\n",
    "# only keep unique exons\n",
    "df = df[['Chromosome', 'Strand', 'Start', 'End', 'eid']].drop_duplicates(keep='first')"
   ]
  },
  {
   "cell_type": "code",
   "execution_count": 64,
   "id": "7252d92a-d871-4a67-b4b5-e763e422a0fa",
   "metadata": {},
   "outputs": [],
   "source": [
    "# GENCODE\n",
    "ref_df = pr.read_gtf(ref_gtf_file).df\n",
    "ref_df = ref_df.loc[ref_df.Feature=='exon']\n",
    "\n",
    "# remove first and last exons\n",
    "ref_df['first_or_last_exon'] = (~ref_df.duplicated('transcript_id', keep='first'))|\\\n",
    "                           (~ref_df.duplicated('transcript_id', keep='last'))\n",
    "ref_df = ref_df.loc[~ref_df.first_or_last_exon]\n",
    "ref_df = make_exon_id(ref_df)\n",
    "\n",
    "# only keep unique exons\n",
    "ref_df = ref_df[['Chromosome', 'Strand', 'Start', 'End', 'eid']].drop_duplicates(keep='first')"
   ]
  },
  {
   "cell_type": "code",
   "execution_count": 65,
   "id": "ebcac290-637d-4dd9-b1d2-72e76df8358e",
   "metadata": {},
   "outputs": [],
   "source": [
    "# do a pyranges left join w/ PODER \n",
    "df = pr.PyRanges(df)\n",
    "ref_df = pr.PyRanges(ref_df)\n",
    "df = df.join(ref_df,\n",
    "             strandedness='same',\n",
    "             how='left',\n",
    "             report_overlap=True,\n",
    "             slack=0, suffix='_gc')"
   ]
  },
  {
   "cell_type": "markdown",
   "id": "b2005361-69be-4bd9-bfe5-d2582af40df0",
   "metadata": {},
   "source": [
    "## How many uniq exons are there in PODER?"
   ]
  },
  {
   "cell_type": "code",
   "execution_count": 66,
   "id": "4894491a-70b0-4451-9fe9-2e64baff6d06",
   "metadata": {},
   "outputs": [],
   "source": [
    "df = df.df"
   ]
  },
  {
   "cell_type": "code",
   "execution_count": 67,
   "id": "f08fe21c-102c-41dc-861e-80adfdcca32f",
   "metadata": {},
   "outputs": [],
   "source": [
    "df.to_csv('241031_uniq_poder_exons.tsv', sep='\\t')"
   ]
  },
  {
   "cell_type": "code",
   "execution_count": 68,
   "id": "b8485258-6595-491e-a026-4de69954dced",
   "metadata": {},
   "outputs": [
    {
     "name": "stdout",
     "output_type": "stream",
     "text": [
      "169847 unique internal exons in PODER\n"
     ]
    }
   ],
   "source": [
    "n_uniq_poder = len(df.eid.unique())\n",
    "print(f'{n_uniq_poder} unique internal exons in PODER')"
   ]
  },
  {
   "cell_type": "markdown",
   "id": "f411902a-435a-433b-970e-c205df63e482",
   "metadata": {},
   "source": [
    "## How many exons are completely present in GC?"
   ]
  },
  {
   "cell_type": "code",
   "execution_count": 69,
   "id": "2eb91eb4-2ef5-41a5-afad-de0caf9d7663",
   "metadata": {},
   "outputs": [
    {
     "name": "stdout",
     "output_type": "stream",
     "text": [
      "93.89% (159476/169847) internal exons have perfect matches in GENCODE v47\n"
     ]
    }
   ],
   "source": [
    "n_perfect_match = len(list(set(df.eid.tolist())&set(ref_df.eid.tolist())))\n",
    "print(f'{(n_perfect_match/n_uniq_poder)*100:.2f}% ({n_perfect_match}/{n_uniq_poder}) internal exons have perfect matches in GENCODE v47')"
   ]
  },
  {
   "cell_type": "markdown",
   "id": "f718733c-f6ce-4d15-8eaf-cceff3404e79",
   "metadata": {},
   "source": [
    "## How many exons are not in GC (not perfect matches)?"
   ]
  },
  {
   "cell_type": "code",
   "execution_count": 70,
   "id": "e554c1ea-086c-4caf-ae6e-2497a609ba9b",
   "metadata": {},
   "outputs": [
    {
     "name": "stdout",
     "output_type": "stream",
     "text": [
      "6.11% (10371/169847) internal exons have NO perfect matches in GENCODE v47\n"
     ]
    }
   ],
   "source": [
    "no_perfect_match_list = list(set(df.eid.tolist())-set(ref_df.eid.tolist()))\n",
    "n_no_perfect_match = len(no_perfect_match_list)\n",
    "print(f'{(n_no_perfect_match/n_uniq_poder)*100:.2f}% ({n_no_perfect_match}/{n_uniq_poder}) internal exons have NO perfect matches in GENCODE v47')"
   ]
  },
  {
   "cell_type": "markdown",
   "id": "f58749b4-0835-4527-8deb-a1605069c24e",
   "metadata": {},
   "source": [
    "## How many no perfect match exons at least overlap a known GC exon (and thus represent alt. 3'/5' splicing)"
   ]
  },
  {
   "cell_type": "code",
   "execution_count": 71,
   "id": "009612b6-2678-4ab2-94a1-d3aeadbe4138",
   "metadata": {},
   "outputs": [
    {
     "name": "stdout",
     "output_type": "stream",
     "text": [
      "38.75% (4019/10371) internal exons with NO perfect matches in GENCODE v47 DONT overlap w/ a GENCODE exon\n"
     ]
    }
   ],
   "source": [
    "n_no_perfect_match_overlap = len(df.loc[(df.eid.isin(no_perfect_match_list))&\\\n",
    "                      (df.Overlap<=0)].eid.unique())\n",
    "print(f'{(n_no_perfect_match_overlap/n_no_perfect_match)*100:.2f}% ({n_no_perfect_match_overlap}/{n_no_perfect_match}) internal exons with NO perfect matches in GENCODE v47 DONT overlap w/ a GENCODE exon')"
   ]
  },
  {
   "cell_type": "markdown",
   "id": "c886e122-b6a4-438d-a117-12ea4e3d30f1",
   "metadata": {},
   "source": [
    "## Plots"
   ]
  },
  {
   "cell_type": "code",
   "execution_count": 72,
   "id": "76998c0e-cf41-410a-8c56-96e7f168536c",
   "metadata": {},
   "outputs": [],
   "source": [
    "temp = df[['eid']].drop_duplicates()\n",
    "temp['novelty'] = 'Novel'\n",
    "temp.loc[temp.eid.isin(df.loc[df.Overlap>=1].eid.tolist()), 'novelty'] = \"Novel 5'/3'\"\n",
    "temp.loc[temp.eid.isin(df.eid_gc.tolist()), 'novelty'] = 'Known'"
   ]
  },
  {
   "cell_type": "code",
   "execution_count": 73,
   "id": "d28072fc-1507-4f75-a58d-56918f296025",
   "metadata": {},
   "outputs": [
    {
     "data": {
      "text/html": [
       "<div>\n",
       "<style scoped>\n",
       "    .dataframe tbody tr th:only-of-type {\n",
       "        vertical-align: middle;\n",
       "    }\n",
       "\n",
       "    .dataframe tbody tr th {\n",
       "        vertical-align: top;\n",
       "    }\n",
       "\n",
       "    .dataframe thead th {\n",
       "        text-align: right;\n",
       "    }\n",
       "</style>\n",
       "<table border=\"1\" class=\"dataframe\">\n",
       "  <thead>\n",
       "    <tr style=\"text-align: right;\">\n",
       "      <th></th>\n",
       "      <th>novelty</th>\n",
       "      <th>n_e</th>\n",
       "      <th>n_total_e</th>\n",
       "      <th>perc</th>\n",
       "    </tr>\n",
       "  </thead>\n",
       "  <tbody>\n",
       "    <tr>\n",
       "      <th>0</th>\n",
       "      <td>Known</td>\n",
       "      <td>159476</td>\n",
       "      <td>169847</td>\n",
       "      <td>93.893916</td>\n",
       "    </tr>\n",
       "    <tr>\n",
       "      <th>1</th>\n",
       "      <td>Novel</td>\n",
       "      <td>4019</td>\n",
       "      <td>169847</td>\n",
       "      <td>2.366247</td>\n",
       "    </tr>\n",
       "    <tr>\n",
       "      <th>2</th>\n",
       "      <td>Novel 5'/3'</td>\n",
       "      <td>6352</td>\n",
       "      <td>169847</td>\n",
       "      <td>3.739836</td>\n",
       "    </tr>\n",
       "  </tbody>\n",
       "</table>\n",
       "</div>"
      ],
      "text/plain": [
       "       novelty     n_e  n_total_e       perc\n",
       "0        Known  159476     169847  93.893916\n",
       "1        Novel    4019     169847   2.366247\n",
       "2  Novel 5'/3'    6352     169847   3.739836"
      ]
     },
     "execution_count": 73,
     "metadata": {},
     "output_type": "execute_result"
    }
   ],
   "source": [
    "temp = temp.groupby('novelty').count().rename({'eid':'n_e'}, axis=1).reset_index()\n",
    "temp['n_total_e'] = temp.n_e.sum()\n",
    "temp['perc'] = (temp['n_e']/temp['n_total_e'])*100\n",
    "temp"
   ]
  },
  {
   "cell_type": "code",
   "execution_count": 79,
   "id": "895a129c-f24e-4b87-b5b7-38524eca1595",
   "metadata": {},
   "outputs": [],
   "source": [
    "# save table for figure of # uniq exons by novelty\n",
    "temp.to_csv('241029_num_exons_by_novelty.tsv', sep='\\t', index=False)"
   ]
  },
  {
   "cell_type": "code",
   "execution_count": 153,
   "id": "8ab07c1e-a95d-4802-8237-b0988275c302",
   "metadata": {},
   "outputs": [],
   "source": [
    "temp = pd.read_csv('241029_num_exons_by_novelty.tsv', sep='\\t')"
   ]
  },
  {
   "cell_type": "code",
   "execution_count": 154,
   "id": "506f3d55-b72c-4d79-9893-69e20b2fe1f7",
   "metadata": {},
   "outputs": [],
   "source": [
    "def clean_figure(ax):\n",
    "    ax.spines['right'].set_visible(False)\n",
    "    ax.spines['top'].set_visible(False)\n",
    "    ax.tick_params(axis=\"x\", rotation=45)"
   ]
  },
  {
   "cell_type": "code",
   "execution_count": 155,
   "id": "f1de7235-727d-49d6-863f-543b8719f1f0",
   "metadata": {},
   "outputs": [],
   "source": [
    "def add_perc_2(ax, df):\n",
    "    ylim = ax.get_ylim()[1]\n",
    "    n_cats = len(ax.patches)\n",
    "    for p in ax.patches:\n",
    "        h = p.get_height()\n",
    "        tot = df.loc[df.n_e==h, 'perc'].values[0]\n",
    "        x = p.get_x() + p.get_width() / 2 - (0.09)*n_cats\n",
    "        y = p.get_y() + p.get_height() + ylim*0.01\n",
    "        ax.annotate(f'{tot:.2f}%', (x, y), size = 18)"
   ]
  },
  {
   "cell_type": "code",
   "execution_count": 156,
   "id": "98e0a100-9503-4a0b-8892-f5c6238f2c31",
   "metadata": {},
   "outputs": [
    {
     "data": {
      "text/html": [
       "<div>\n",
       "<style scoped>\n",
       "    .dataframe tbody tr th:only-of-type {\n",
       "        vertical-align: middle;\n",
       "    }\n",
       "\n",
       "    .dataframe tbody tr th {\n",
       "        vertical-align: top;\n",
       "    }\n",
       "\n",
       "    .dataframe thead th {\n",
       "        text-align: right;\n",
       "    }\n",
       "</style>\n",
       "<table border=\"1\" class=\"dataframe\">\n",
       "  <thead>\n",
       "    <tr style=\"text-align: right;\">\n",
       "      <th></th>\n",
       "      <th>novelty</th>\n",
       "      <th>n_e</th>\n",
       "      <th>n_total_e</th>\n",
       "      <th>perc</th>\n",
       "    </tr>\n",
       "  </thead>\n",
       "  <tbody>\n",
       "    <tr>\n",
       "      <th>0</th>\n",
       "      <td>Known</td>\n",
       "      <td>159476</td>\n",
       "      <td>169847</td>\n",
       "      <td>93.893916</td>\n",
       "    </tr>\n",
       "    <tr>\n",
       "      <th>1</th>\n",
       "      <td>Novel</td>\n",
       "      <td>4019</td>\n",
       "      <td>169847</td>\n",
       "      <td>2.366247</td>\n",
       "    </tr>\n",
       "    <tr>\n",
       "      <th>2</th>\n",
       "      <td>Novel 5'/3'</td>\n",
       "      <td>6352</td>\n",
       "      <td>169847</td>\n",
       "      <td>3.739836</td>\n",
       "    </tr>\n",
       "  </tbody>\n",
       "</table>\n",
       "</div>"
      ],
      "text/plain": [
       "       novelty     n_e  n_total_e       perc\n",
       "0        Known  159476     169847  93.893916\n",
       "1        Novel    4019     169847   2.366247\n",
       "2  Novel 5'/3'    6352     169847   3.739836"
      ]
     },
     "execution_count": 156,
     "metadata": {},
     "output_type": "execute_result"
    }
   ],
   "source": [
    "temp"
   ]
  },
  {
   "cell_type": "code",
   "execution_count": 20,
   "id": "4acad128-fc64-4ac2-a429-b9b9e1ceaab9",
   "metadata": {},
   "outputs": [
    {
     "data": {
      "image/png": "[encoded data removed]",
      "text/plain": [
       "<Figure size 432x288 with 1 Axes>"
      ]
     },
     "metadata": {
      "needs_background": "light"
     },
     "output_type": "display_data"
    }
   ],
   "source": [
    "# number of known exons,\n",
    "# number of novel exons (3'/5' splicing),\n",
    "# number of novel exons (completely novel)\n",
    "init_plot_settings(aspect='square')\n",
    "ax = sns.barplot(temp, y='n_e', \n",
    "                 x='novelty', order=['Known', \"Novel 5'/3'\", 'Novel'])\n",
    "add_perc_2(ax, temp)\n",
    "ylabel = '# internal exons in PODER'\n",
    "ax.set(ylabel=ylabel, xlabel='', yscale='log')\n",
    "clean_figure(ax)"
   ]
  },
  {
   "cell_type": "markdown",
   "id": "63a1f077-32dd-4a32-a5be-1b53c1f3aca3",
   "metadata": {},
   "source": [
    "## But what % of completely novel exons come from known genes?"
   ]
  },
  {
   "cell_type": "code",
   "execution_count": 85,
   "id": "9b5f66c8-327f-46ab-981f-3ecafd41281f",
   "metadata": {},
   "outputs": [],
   "source": [
    "# df_back = df.copy(deep=True)\n",
    "df = pd.read_csv('241031_uniq_poder_exons.tsv', sep='\\t')"
   ]
  },
  {
   "cell_type": "code",
   "execution_count": 86,
   "id": "2c6fd275-106a-4c70-8b54-d0abbd3b658b",
   "metadata": {},
   "outputs": [],
   "source": [
    "mt_df = pd.read_csv('../data/05_mastertable/poder_master_table.tsv', sep='\\t')\n",
    "# mt_df = mt_df.loc[mt_df['filter']=='pass']\n",
    "# mt_df['pop_spec_t'] = (mt_df.population_sharing==1)&\\\n",
    "#                       (mt_df.sample_sharing>1)"
   ]
  },
  {
   "cell_type": "code",
   "execution_count": 23,
   "id": "979cc0a1-81a9-4fa8-ae66-429cf594805c",
   "metadata": {},
   "outputs": [],
   "source": [
    "# list(mt_df.columns)"
   ]
  },
  {
   "cell_type": "code",
   "execution_count": 88,
   "id": "3af5f42d-bdfe-4d26-b87a-4a898804ba3c",
   "metadata": {},
   "outputs": [],
   "source": [
    "temp = df[['eid']].drop_duplicates()\n",
    "temp['novelty'] = 'Novel'\n",
    "temp.loc[temp.eid.isin(df.loc[df.Overlap>=1].eid.tolist()), 'novelty'] = \"Novel 5'/3'\"\n",
    "temp.loc[temp.eid.isin(df.eid_gc.tolist()), 'novelty'] = 'Known'"
   ]
  },
  {
   "cell_type": "code",
   "execution_count": 89,
   "id": "d2714af1-3906-4e9e-960a-059bd650119b",
   "metadata": {},
   "outputs": [],
   "source": [
    "# df = pr.read_gtf(gtf_file).df\n",
    "# df = df.loc[df.Feature=='exon']\n",
    "\n",
    "# # remove first and last exons\n",
    "# df['first_or_last_exon'] = (~df.duplicated('transcript_id', keep='first'))|\\\n",
    "#                            (~df.duplicated('transcript_id', keep='last'))\n",
    "# df = df.loc[~df.first_or_last_exon]\n",
    "# df = make_exon_id(df)"
   ]
  },
  {
   "cell_type": "code",
   "execution_count": 91,
   "id": "69bd8bca-dedc-456c-a7eb-b94b00be2da2",
   "metadata": {},
   "outputs": [],
   "source": [
    "df = pr.read_gtf(gtf_file).df\n",
    "df = df.loc[df.Feature=='exon']\n",
    "\n",
    "# remove first and last exons\n",
    "df['first_or_last_exon'] = (~df.duplicated('transcript_id', keep='first'))|\\\n",
    "                           (~df.duplicated('transcript_id', keep='last'))\n",
    "df = df.loc[~df.first_or_last_exon]\n",
    "df = make_exon_id(df)"
   ]
  },
  {
   "cell_type": "code",
   "execution_count": 90,
   "id": "8d8bafb2-5d13-4ade-90e0-0886d4c1b29e",
   "metadata": {},
   "outputs": [],
   "source": [
    "# temp = temp.loc[temp.novelty.isin(['Novel', \"Novel 5'/3\"])]"
   ]
  },
  {
   "cell_type": "code",
   "execution_count": 92,
   "id": "7acf58bd-3050-484a-bbb9-9ee8637aa6f1",
   "metadata": {},
   "outputs": [],
   "source": [
    "# add tids from the poder gtfg\n",
    "temp = temp.merge(df[['transcript_id', 'eid']], \n",
    "                  how='left',\n",
    "                  on='eid')"
   ]
  },
  {
   "cell_type": "code",
   "execution_count": 94,
   "id": "29740160-786c-4ce6-9dfa-ccce13367117",
   "metadata": {},
   "outputs": [],
   "source": [
    "# list(mt_df.columns)"
   ]
  },
  {
   "cell_type": "code",
   "execution_count": 95,
   "id": "6a4b3fef-1766-4239-81d9-8308081ef031",
   "metadata": {},
   "outputs": [],
   "source": [
    "# add gene biotype, from master table\n",
    "temp = temp.merge(mt_df[['isoform', 'structural_category', \n",
    "                         'associated_gene', 'associated_gene_biotype']],\n",
    "                  how='left',\n",
    "                  left_on='transcript_id',\n",
    "                  right_on='isoform')"
   ]
  },
  {
   "cell_type": "code",
   "execution_count": 97,
   "id": "d82fbe10-f98e-4661-90d8-fe9146913ca7",
   "metadata": {},
   "outputs": [
    {
     "data": {
      "text/html": [
       "<div>\n",
       "<style scoped>\n",
       "    .dataframe tbody tr th:only-of-type {\n",
       "        vertical-align: middle;\n",
       "    }\n",
       "\n",
       "    .dataframe tbody tr th {\n",
       "        vertical-align: top;\n",
       "    }\n",
       "\n",
       "    .dataframe thead th {\n",
       "        text-align: right;\n",
       "    }\n",
       "</style>\n",
       "<table border=\"1\" class=\"dataframe\">\n",
       "  <thead>\n",
       "    <tr style=\"text-align: right;\">\n",
       "      <th></th>\n",
       "      <th>eid</th>\n",
       "      <th>novelty</th>\n",
       "      <th>transcript_id</th>\n",
       "      <th>isoform</th>\n",
       "      <th>structural_category</th>\n",
       "      <th>associated_gene</th>\n",
       "      <th>associated_gene_biotype</th>\n",
       "    </tr>\n",
       "  </thead>\n",
       "  <tbody>\n",
       "    <tr>\n",
       "      <th>299184</th>\n",
       "      <td>chr8_-_90980362_90980461_</td>\n",
       "      <td>Known</td>\n",
       "      <td>transcript_367606</td>\n",
       "      <td>transcript_367606</td>\n",
       "      <td>FSM</td>\n",
       "      <td>ENSG00000289502.1_ENSG00000253250.3</td>\n",
       "      <td>Protein Coding</td>\n",
       "    </tr>\n",
       "    <tr>\n",
       "      <th>299185</th>\n",
       "      <td>chr8_-_90978578_90978652_</td>\n",
       "      <td>Known</td>\n",
       "      <td>transcript_367606</td>\n",
       "      <td>transcript_367606</td>\n",
       "      <td>FSM</td>\n",
       "      <td>ENSG00000289502.1_ENSG00000253250.3</td>\n",
       "      <td>Protein Coding</td>\n",
       "    </tr>\n",
       "    <tr>\n",
       "      <th>299186</th>\n",
       "      <td>chr8_-_90971065_90971141_</td>\n",
       "      <td>Known</td>\n",
       "      <td>transcript_367606</td>\n",
       "      <td>transcript_367606</td>\n",
       "      <td>FSM</td>\n",
       "      <td>ENSG00000289502.1_ENSG00000253250.3</td>\n",
       "      <td>Protein Coding</td>\n",
       "    </tr>\n",
       "    <tr>\n",
       "      <th>299187</th>\n",
       "      <td>chr8_-_90960741_90960848_</td>\n",
       "      <td>Known</td>\n",
       "      <td>transcript_367606</td>\n",
       "      <td>transcript_367606</td>\n",
       "      <td>FSM</td>\n",
       "      <td>ENSG00000289502.1_ENSG00000253250.3</td>\n",
       "      <td>Protein Coding</td>\n",
       "    </tr>\n",
       "  </tbody>\n",
       "</table>\n",
       "</div>"
      ],
      "text/plain": [
       "                              eid novelty      transcript_id  \\\n",
       "299184  chr8_-_90980362_90980461_   Known  transcript_367606   \n",
       "299185  chr8_-_90978578_90978652_   Known  transcript_367606   \n",
       "299186  chr8_-_90971065_90971141_   Known  transcript_367606   \n",
       "299187  chr8_-_90960741_90960848_   Known  transcript_367606   \n",
       "\n",
       "                  isoform structural_category  \\\n",
       "299184  transcript_367606                 FSM   \n",
       "299185  transcript_367606                 FSM   \n",
       "299186  transcript_367606                 FSM   \n",
       "299187  transcript_367606                 FSM   \n",
       "\n",
       "                            associated_gene associated_gene_biotype  \n",
       "299184  ENSG00000289502.1_ENSG00000253250.3          Protein Coding  \n",
       "299185  ENSG00000289502.1_ENSG00000253250.3          Protein Coding  \n",
       "299186  ENSG00000289502.1_ENSG00000253250.3          Protein Coding  \n",
       "299187  ENSG00000289502.1_ENSG00000253250.3          Protein Coding  "
      ]
     },
     "execution_count": 97,
     "metadata": {},
     "output_type": "execute_result"
    }
   ],
   "source": [
    "temp.loc[temp.transcript_id=='transcript_367606']"
   ]
  },
  {
   "cell_type": "code",
   "execution_count": 99,
   "id": "80b09507-cb78-4c65-8480-f9f718f9838b",
   "metadata": {},
   "outputs": [],
   "source": [
    "# make this into an output table\n",
    "temp[['Chromosome', 'Strand', 'Start', 'End', 'temp']] = temp.eid.str.split('_', expand=True)\n",
    "# temp.to_csv('241028_novel_exon_table.tsv', sep='\\t')\n",
    "# temp.to_csv('241029_novel_exon_table.tsv', sep='\\t')\n",
    "temp.to_csv('241031_novel_exon_table.tsv', sep='\\t')"
   ]
  },
  {
   "cell_type": "code",
   "execution_count": 126,
   "id": "675d220a-0eef-46f9-86ce-82ec4aad33cc",
   "metadata": {},
   "outputs": [],
   "source": [
    "temp = pd.read_csv('241031_novel_exon_table.tsv', sep='\\t')"
   ]
  },
  {
   "cell_type": "code",
   "execution_count": 127,
   "id": "0b82eaa5-cba5-438b-95e5-f223ae09738b",
   "metadata": {},
   "outputs": [],
   "source": [
    "# drop dupe\n",
    "inds = temp.loc[temp.associated_gene_biotype=='Novel/Ambiguous Gene'].index\n",
    "temp.loc[inds, 'associated_gene_biotype'] = temp.loc[inds, 'structural_category']\n",
    "temp = temp[['eid', 'novelty', 'associated_gene', 'associated_gene_biotype']].drop_duplicates()"
   ]
  },
  {
   "cell_type": "code",
   "execution_count": 133,
   "id": "9f104334-2699-4d76-8ece-e0868f5824df",
   "metadata": {},
   "outputs": [],
   "source": [
    "def get_biotype_novelty_colors():\n",
    "    c_dict_1 = {'Protein Coding': '#287373',\n",
    "                'lncRNA': '#f89e5c'}\n",
    "    c_dict, order = get_novelty_colors(['Antisense', 'Fusion', 'Genic', 'Intergenic'])\n",
    "    c_dict = c_dict.update(c_dict_1)\n",
    "    order = ['Protein Coding', 'lncRNA']+order\n",
    "    return c_dict, order"
   ]
  },
  {
   "cell_type": "code",
   "execution_count": 134,
   "id": "2ad7f591-6976-46cd-96bc-49aa932f8c4c",
   "metadata": {},
   "outputs": [],
   "source": [
    "c_dict, order = get_biotype_novelty_colors()"
   ]
  },
  {
   "cell_type": "code",
   "execution_count": 142,
   "id": "6f6d5aaa-ab17-4ff6-a4c1-c4acb2c5ae69",
   "metadata": {},
   "outputs": [],
   "source": [
    "def add_perc_2(ax, df):\n",
    "    ylim = ax.get_ylim()[1]\n",
    "    n_cats = len(ax.patches)\n",
    "    for p in ax.patches:\n",
    "        h = p.get_height()\n",
    "        try:\n",
    "            tot = df.loc[df.n_e_gene==h, 'n_e_gene'].values[0]\n",
    "            x = p.get_x() + p.get_width() / 2 - (0.05)*n_cats\n",
    "            y = p.get_y() + p.get_height() + ylim*0.01\n",
    "            ax.annotate(f'{tot}', (x, y), size = 18)\n",
    "        except: pass"
   ]
  },
  {
   "cell_type": "code",
   "execution_count": 143,
   "id": "745a4e7f-fa18-4486-8a48-3be949e7f2ce",
   "metadata": {},
   "outputs": [
    {
     "data": {
      "text/html": [
       "<div>\n",
       "<style scoped>\n",
       "    .dataframe tbody tr th:only-of-type {\n",
       "        vertical-align: middle;\n",
       "    }\n",
       "\n",
       "    .dataframe tbody tr th {\n",
       "        vertical-align: top;\n",
       "    }\n",
       "\n",
       "    .dataframe thead th {\n",
       "        text-align: right;\n",
       "    }\n",
       "</style>\n",
       "<table border=\"1\" class=\"dataframe\">\n",
       "  <thead>\n",
       "    <tr style=\"text-align: right;\">\n",
       "      <th></th>\n",
       "      <th>eid</th>\n",
       "      <th>novelty</th>\n",
       "      <th>associated_gene</th>\n",
       "      <th>associated_gene_biotype</th>\n",
       "    </tr>\n",
       "  </thead>\n",
       "  <tbody>\n",
       "    <tr>\n",
       "      <th>0</th>\n",
       "      <td>GL000008.2_+_83926_84014_</td>\n",
       "      <td>Known</td>\n",
       "      <td>ENSG00000296732.1</td>\n",
       "      <td>lncRNA</td>\n",
       "    </tr>\n",
       "    <tr>\n",
       "      <th>12</th>\n",
       "      <td>GL000008.2_+_85456_85477_</td>\n",
       "      <td>Known</td>\n",
       "      <td>ENSG00000296732.1</td>\n",
       "      <td>lncRNA</td>\n",
       "    </tr>\n",
       "    <tr>\n",
       "      <th>19</th>\n",
       "      <td>GL000008.2_+_85566_85625_</td>\n",
       "      <td>Known</td>\n",
       "      <td>ENSG00000296732.1</td>\n",
       "      <td>lncRNA</td>\n",
       "    </tr>\n",
       "    <tr>\n",
       "      <th>43</th>\n",
       "      <td>GL000008.2_+_88635_88695_</td>\n",
       "      <td>Known</td>\n",
       "      <td>ENSG00000296732.1</td>\n",
       "      <td>lncRNA</td>\n",
       "    </tr>\n",
       "    <tr>\n",
       "      <th>50</th>\n",
       "      <td>GL000008.2_+_135133_135173_</td>\n",
       "      <td>Known</td>\n",
       "      <td>ENSG00000296732.1</td>\n",
       "      <td>lncRNA</td>\n",
       "    </tr>\n",
       "  </tbody>\n",
       "</table>\n",
       "</div>"
      ],
      "text/plain": [
       "                            eid novelty    associated_gene  \\\n",
       "0     GL000008.2_+_83926_84014_   Known  ENSG00000296732.1   \n",
       "12    GL000008.2_+_85456_85477_   Known  ENSG00000296732.1   \n",
       "19    GL000008.2_+_85566_85625_   Known  ENSG00000296732.1   \n",
       "43    GL000008.2_+_88635_88695_   Known  ENSG00000296732.1   \n",
       "50  GL000008.2_+_135133_135173_   Known  ENSG00000296732.1   \n",
       "\n",
       "   associated_gene_biotype  \n",
       "0                   lncRNA  \n",
       "12                  lncRNA  \n",
       "19                  lncRNA  \n",
       "43                  lncRNA  \n",
       "50                  lncRNA  "
      ]
     },
     "execution_count": 143,
     "metadata": {},
     "output_type": "execute_result"
    }
   ],
   "source": [
    "temp.head()"
   ]
  },
  {
   "cell_type": "code",
   "execution_count": 144,
   "id": "64dafd07-97ac-4eeb-b33d-0825c71803ea",
   "metadata": {},
   "outputs": [
    {
     "data": {
      "image/png": "[encoded data removed]",
      "text/plain": [
       "<Figure size 360x360 with 1 Axes>"
      ]
     },
     "metadata": {
      "needs_background": "light"
     },
     "output_type": "display_data"
    }
   ],
   "source": [
    "# number of novel exons (completely novel)\n",
    "temp2 = temp.loc[temp.novelty=='Novel']\n",
    "temp2 = temp2[['eid', 'associated_gene_biotype']].groupby('associated_gene_biotype').count().reset_index().rename({'eid':'n_e_gene'}, axis=1)\n",
    "\n",
    "init_plot_settings(aspect='square')\n",
    "ax = sns.barplot(temp2, y='n_e_gene', \n",
    "                 x='associated_gene_biotype',\n",
    "                 order=order,\n",
    "                 palette=c_dict)\n",
    "add_perc_2(ax, temp2)\n",
    "ylabel = '# novel internal exon / gene\\npairs in PODER'\n",
    "ax.set(ylabel=ylabel, xlabel='')\n",
    "clean_figure(ax)"
   ]
  },
  {
   "cell_type": "code",
   "execution_count": 146,
   "id": "e8ad2cee-230c-4d45-8873-b0199c89aa1c",
   "metadata": {},
   "outputs": [
    {
     "data": {
      "image/png": "[encoded data removed]",
      "text/plain": [
       "<Figure size 360x360 with 1 Axes>"
      ]
     },
     "metadata": {
      "needs_background": "light"
     },
     "output_type": "display_data"
    }
   ],
   "source": [
    "# number of novel exons (3'/5' splicing),\n",
    "temp2 = temp.loc[temp.novelty==\"Novel 5'/3'\"]\n",
    "temp2 = temp2[['eid', 'associated_gene_biotype']].groupby('associated_gene_biotype').count().reset_index().rename({'eid':'n_e_gene'}, axis=1)\n",
    "\n",
    "init_plot_settings(aspect='square')\n",
    "ax = sns.barplot(temp2, y='n_e_gene', \n",
    "                 x='associated_gene_biotype',\n",
    "                 order=order,\n",
    "                 palette=c_dict)\n",
    "add_perc_2(ax, temp2)\n",
    "ylabel = \"# 5'/3' novel internal exon / gene\\npairs in PODER\"\n",
    "ax.set(ylabel=ylabel, xlabel='')\n",
    "clean_figure(ax)"
   ]
  },
  {
   "cell_type": "code",
   "execution_count": 147,
   "id": "b9309cb8-d085-40f0-a644-d06d523c7cee",
   "metadata": {},
   "outputs": [
    {
     "data": {
      "image/png": "[encoded data removed]",
      "text/plain": [
       "<Figure size 360x360 with 1 Axes>"
      ]
     },
     "metadata": {
      "needs_background": "light"
     },
     "output_type": "display_data"
    }
   ],
   "source": [
    "# number of novel exons 3'5' and completely novel,\n",
    "temp2 = temp.loc[temp.novelty.isin(['Novel', \"Novel 5'/3'\"])]\n",
    "temp2 = temp2[['eid', 'associated_gene_biotype']].groupby('associated_gene_biotype').count().reset_index().rename({'eid':'n_e_gene'}, axis=1)\n",
    "\n",
    "init_plot_settings(aspect='square')\n",
    "ax = sns.barplot(temp2, y='n_e_gene', \n",
    "                 x='associated_gene_biotype',\n",
    "                 order=order,\n",
    "                 palette=c_dict)\n",
    "add_perc_2(ax, temp2)\n",
    "ylabel = \"# Novel internal exon / gene\\npairs in PODER\"\n",
    "ax.set(ylabel=ylabel, xlabel='')\n",
    "clean_figure(ax)"
   ]
  },
  {
   "cell_type": "code",
   "execution_count": 149,
   "id": "46c6ae52-f116-47cc-91f8-96cff801986e",
   "metadata": {},
   "outputs": [
    {
     "data": {
      "image/png": "[encoded data removed]",
      "text/plain": [
       "<Figure size 360x360 with 1 Axes>"
      ]
     },
     "metadata": {
      "needs_background": "light"
     },
     "output_type": "display_data"
    }
   ],
   "source": [
    "# number of novel exons 3'5' and completely novel,\n",
    "# split by novelty\n",
    "temp2 = temp.loc[temp.novelty.isin(['Novel', \"Novel 5'/3'\"])]\n",
    "temp2 = temp2[['eid', 'novelty',\n",
    "               'associated_gene_biotype']].groupby(['associated_gene_biotype',\n",
    "                                                    'novelty']).count().reset_index().rename({'eid':'n_e_gene'}, axis=1)\n",
    "\n",
    "init_plot_settings(aspect='square')\n",
    "ax = sns.barplot(temp2, y='n_e_gene', \n",
    "                 x='associated_gene_biotype',\n",
    "                 hue='novelty',\n",
    "                 order=order,\n",
    "                 palette=c_dict)\n",
    "# add_perc_2(ax, temp2)\n",
    "ylabel = \"# Novel internal exon / gene\\npairs in PODER\"\n",
    "ax.set(ylabel=ylabel, xlabel='')\n",
    "clean_figure(ax)"
   ]
  },
  {
   "cell_type": "code",
   "execution_count": 150,
   "id": "7f39d1ea-5987-46dd-ba83-bdef98a093d8",
   "metadata": {},
   "outputs": [
    {
     "data": {
      "text/html": [
       "<div>\n",
       "<style scoped>\n",
       "    .dataframe tbody tr th:only-of-type {\n",
       "        vertical-align: middle;\n",
       "    }\n",
       "\n",
       "    .dataframe tbody tr th {\n",
       "        vertical-align: top;\n",
       "    }\n",
       "\n",
       "    .dataframe thead th {\n",
       "        text-align: right;\n",
       "    }\n",
       "</style>\n",
       "<table border=\"1\" class=\"dataframe\">\n",
       "  <thead>\n",
       "    <tr style=\"text-align: right;\">\n",
       "      <th></th>\n",
       "      <th>eid</th>\n",
       "      <th>novelty</th>\n",
       "      <th>associated_gene</th>\n",
       "      <th>associated_gene_biotype</th>\n",
       "    </tr>\n",
       "  </thead>\n",
       "  <tbody>\n",
       "    <tr>\n",
       "      <th>0</th>\n",
       "      <td>GL000008.2_+_83926_84014_</td>\n",
       "      <td>Known</td>\n",
       "      <td>ENSG00000296732.1</td>\n",
       "      <td>lncRNA</td>\n",
       "    </tr>\n",
       "    <tr>\n",
       "      <th>12</th>\n",
       "      <td>GL000008.2_+_85456_85477_</td>\n",
       "      <td>Known</td>\n",
       "      <td>ENSG00000296732.1</td>\n",
       "      <td>lncRNA</td>\n",
       "    </tr>\n",
       "    <tr>\n",
       "      <th>19</th>\n",
       "      <td>GL000008.2_+_85566_85625_</td>\n",
       "      <td>Known</td>\n",
       "      <td>ENSG00000296732.1</td>\n",
       "      <td>lncRNA</td>\n",
       "    </tr>\n",
       "    <tr>\n",
       "      <th>43</th>\n",
       "      <td>GL000008.2_+_88635_88695_</td>\n",
       "      <td>Known</td>\n",
       "      <td>ENSG00000296732.1</td>\n",
       "      <td>lncRNA</td>\n",
       "    </tr>\n",
       "    <tr>\n",
       "      <th>50</th>\n",
       "      <td>GL000008.2_+_135133_135173_</td>\n",
       "      <td>Known</td>\n",
       "      <td>ENSG00000296732.1</td>\n",
       "      <td>lncRNA</td>\n",
       "    </tr>\n",
       "  </tbody>\n",
       "</table>\n",
       "</div>"
      ],
      "text/plain": [
       "                            eid novelty    associated_gene  \\\n",
       "0     GL000008.2_+_83926_84014_   Known  ENSG00000296732.1   \n",
       "12    GL000008.2_+_85456_85477_   Known  ENSG00000296732.1   \n",
       "19    GL000008.2_+_85566_85625_   Known  ENSG00000296732.1   \n",
       "43    GL000008.2_+_88635_88695_   Known  ENSG00000296732.1   \n",
       "50  GL000008.2_+_135133_135173_   Known  ENSG00000296732.1   \n",
       "\n",
       "   associated_gene_biotype  \n",
       "0                   lncRNA  \n",
       "12                  lncRNA  \n",
       "19                  lncRNA  \n",
       "43                  lncRNA  \n",
       "50                  lncRNA  "
      ]
     },
     "execution_count": 150,
     "metadata": {},
     "output_type": "execute_result"
    }
   ],
   "source": [
    "temp.head()"
   ]
  },
  {
   "cell_type": "code",
   "execution_count": 151,
   "id": "979968c1-00bc-41ad-becc-7e2f980cc16f",
   "metadata": {},
   "outputs": [],
   "source": [
    "temp.to_csv('241031_exon_novelty_associated_gene.tsv', sep='\\t')"
   ]
  },
  {
   "cell_type": "code",
   "execution_count": null,
   "id": "df9a6727-1972-4a61-aa05-b4ab16373d5d",
   "metadata": {},
   "outputs": [],
   "source": []
  },
  {
   "cell_type": "code",
   "execution_count": null,
   "id": "41bc70bb-7f8a-48f4-9fbf-57558d1e768c",
   "metadata": {},
   "outputs": [],
   "source": []
  },
  {
   "cell_type": "code",
   "execution_count": null,
   "id": "ac0b3563-667d-49a8-93a4-24c7c03c6855",
   "metadata": {},
   "outputs": [],
   "source": []
  },
  {
   "cell_type": "code",
   "execution_count": 23,
   "id": "ebe925a6-0c18-47d3-870c-ad63d93dce68",
   "metadata": {},
   "outputs": [],
   "source": [
    "# df.loc[df.transcript_id=='ENST00000741425.1', ['Feature', 'transcript_id', 'Start', 'End', 'first_or_last_exon']]"
   ]
  },
  {
   "cell_type": "code",
   "execution_count": 31,
   "id": "44fbe8dd-1b4e-4a4c-8654-23ef37ca3278",
   "metadata": {},
   "outputs": [],
   "source": [
    "# def make_exon_id(df):\n",
    "#     \"\"\"\n",
    "#     Get an ID for each unique exon using \n",
    "#     Chromosome, Strand, Start, End\n",
    "#     \"\"\"\n",
    "#     df['eid'] = df['Chromosome'].astype(str)+'_'+\\\n",
    "#                 df['Strand'].astype(str)+'_'+\\\n",
    "#                 df['Start'].astype(str)+'_'+\\\n",
    "#                 df['End'].astype(str)+'_'\n",
    "#     return df\n",
    "    "
   ]
  },
  {
   "cell_type": "code",
   "execution_count": 32,
   "id": "b9bd87b5-3cf9-4b3b-8f58-5b695c752300",
   "metadata": {},
   "outputs": [],
   "source": [
    "# df = make_exon_id(df)"
   ]
  },
  {
   "cell_type": "code",
   "execution_count": 33,
   "id": "1701e44b-9912-4b23-828e-ca2c6073adf6",
   "metadata": {},
   "outputs": [],
   "source": [
    "# df.head()"
   ]
  },
  {
   "cell_type": "code",
   "execution_count": null,
   "id": "8db2a40d-9a01-4bde-b60a-439e92245cab",
   "metadata": {},
   "outputs": [],
   "source": []
  }
 ],
 "metadata": {
  "kernelspec": {
   "display_name": "Python 3",
   "language": "python",
   "name": "python3"
  },
  "language_info": {
   "codemirror_mode": {
    "name": "ipython",
    "version": 3
   },
   "file_extension": ".py",
   "mimetype": "text/x-python",
   "name": "python",
   "nbconvert_exporter": "python",
   "pygments_lexer": "ipython3",
   "version": "3.7.12"
  }
 },
 "nbformat": 4,
 "nbformat_minor": 5
}
