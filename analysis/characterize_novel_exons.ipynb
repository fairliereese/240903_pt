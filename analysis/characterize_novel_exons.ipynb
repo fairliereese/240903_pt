{
 "cells": [
  {
   "cell_type": "markdown",
   "id": "d621822a-7c5c-417c-aaa9-266a4b79c3be",
   "metadata": {},
   "source": [
    "## Characterize novel internal exons that we have in PODER vs. GENCODE"
   ]
  },
  {
   "cell_type": "code",
   "execution_count": 2,
   "id": "55135b99-20f7-4446-a2e0-8a5def913358",
   "metadata": {},
   "outputs": [],
   "source": [
    "import pandas as pd\n",
    "import numpy as np\n",
    "import scipy.stats as st\n",
    "import seaborn as sns\n",
    "import sys\n",
    "import os\n",
    "import matplotlib.pyplot as plt\n",
    "import swan_vis as swan\n",
    "import yaml\n",
    "from snakemake.io import expand\n",
    "import cerberus\n",
    "import pyranges as pr\n",
    "import upsetplot\n",
    "\n",
    "p = os.path.dirname(os.getcwd())\n",
    "sys.path.append(p)\n",
    "\n",
    "from scripts.utils import *\n",
    "from scripts.vcf_utils import *\n",
    "from scripts.plotting import *\n",
    "from scripts.sm_utils import *"
   ]
  },
  {
   "cell_type": "code",
   "execution_count": 6,
   "id": "0bd00a12-df6b-437e-b5c9-604673be6afd",
   "metadata": {},
   "outputs": [],
   "source": [
    "config = load_config()\n",
    "od = '../'\n",
    "\n",
    "def proc_cfg(entry, od):\n",
    "    entry = entry.replace('../../', '')\n",
    "    entry = od+entry\n",
    "    return entry"
   ]
  },
  {
   "cell_type": "code",
   "execution_count": 7,
   "id": "47dee88e-56f5-4374-907a-f862e6021060",
   "metadata": {},
   "outputs": [
    {
     "data": {
      "text/plain": [
       "'../ref/annot.gtf'"
      ]
     },
     "execution_count": 7,
     "metadata": {},
     "output_type": "execute_result"
    }
   ],
   "source": [
    "gtf_file = proc_cfg(config['lr']['gtf_filt_with_genes'], od)\n",
    "gtf_file\n",
    "\n",
    "ref_gtf_file = proc_cfg(config['ref']['gtf'], od)\n",
    "ref_gtf_file\n"
   ]
  },
  {
   "cell_type": "code",
   "execution_count": 9,
   "id": "229246ec-0dc7-47c4-a1c2-b96bb2f8872c",
   "metadata": {},
   "outputs": [],
   "source": [
    "# get internal exons from each annotation\n",
    "df = pr.read_gtf(gtf_file)\n",
    "ic_df = cerberus.get_ic(df)"
   ]
  },
  {
   "cell_type": "code",
   "execution_count": null,
   "id": "dad9494a-efd7-4e81-a989-617def04a0d4",
   "metadata": {},
   "outputs": [],
   "source": []
  }
 ],
 "metadata": {
  "kernelspec": {
   "display_name": "Python 3",
   "language": "python",
   "name": "python3"
  },
  "language_info": {
   "codemirror_mode": {
    "name": "ipython",
    "version": 3
   },
   "file_extension": ".py",
   "mimetype": "text/x-python",
   "name": "python",
   "nbconvert_exporter": "python",
   "pygments_lexer": "ipython3",
   "version": "3.7.12"
  }
 },
 "nbformat": 4,
 "nbformat_minor": 5
}
