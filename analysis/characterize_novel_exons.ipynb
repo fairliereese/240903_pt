{
 "cells": [
  {
   "cell_type": "markdown",
   "id": "d621822a-7c5c-417c-aaa9-266a4b79c3be",
   "metadata": {},
   "source": [
    "## Characterize novel internal exons that we have in PODER vs. GENCODE"
   ]
  },
  {
   "cell_type": "code",
   "execution_count": 1,
   "id": "55135b99-20f7-4446-a2e0-8a5def913358",
   "metadata": {},
   "outputs": [],
   "source": [
    "import pandas as pd\n",
    "import numpy as np\n",
    "import scipy.stats as st\n",
    "import seaborn as sns\n",
    "import sys\n",
    "import os\n",
    "import matplotlib.pyplot as plt\n",
    "import swan_vis as swan\n",
    "import yaml\n",
    "from snakemake.io import expand\n",
    "import cerberus\n",
    "import pyranges as pr\n",
    "import upsetplot\n",
    "\n",
    "p = os.path.dirname(os.getcwd())\n",
    "sys.path.append(p)\n",
    "\n",
    "from scripts.utils import *\n",
    "from scripts.vcf_utils import *\n",
    "from scripts.plotting import *\n",
    "from scripts.sm_utils import *"
   ]
  },
  {
   "cell_type": "code",
   "execution_count": 2,
   "id": "0bd00a12-df6b-437e-b5c9-604673be6afd",
   "metadata": {},
   "outputs": [],
   "source": [
    "config = load_config()\n",
    "od = '../'\n",
    "\n",
    "def proc_cfg(entry, od):\n",
    "    entry = entry.replace('../../', '')\n",
    "    entry = od+entry\n",
    "    return entry"
   ]
  },
  {
   "cell_type": "code",
   "execution_count": null,
   "id": "47dee88e-56f5-4374-907a-f862e6021060",
   "metadata": {},
   "outputs": [],
   "source": [
    "gtf_file = proc_cfg(config['lr']['gtf_filt_with_genes'], od)\n",
    "gtf_file\n",
    "\n",
    "ref_gtf_file = proc_cfg(config['ref']['gtf'], od)\n",
    "ref_gtf_file\n"
   ]
  },
  {
   "cell_type": "code",
   "execution_count": null,
   "id": "229246ec-0dc7-47c4-a1c2-b96bb2f8872c",
   "metadata": {},
   "outputs": [],
   "source": [
    "# get internal exons from each annotation"
   ]
  },
  {
   "cell_type": "code",
   "execution_count": 5,
   "id": "46e42c55-a748-4d6c-98e1-9aa512c7d690",
   "metadata": {},
   "outputs": [],
   "source": [
    "def make_exon_id(df):\n",
    "    \"\"\"\n",
    "    Get an ID for each unique exon using \n",
    "    Chromosome, Strand, Start, End\n",
    "    \"\"\"\n",
    "    df['eid'] = df['Chromosome'].astype(str)+'_'+\\\n",
    "                df['Strand'].astype(str)+'_'+\\\n",
    "                df['Start'].astype(str)+'_'+\\\n",
    "                df['End'].astype(str)+'_'\n",
    "    return df\n",
    "    "
   ]
  },
  {
   "cell_type": "code",
   "execution_count": 6,
   "id": "dad9494a-efd7-4e81-a989-617def04a0d4",
   "metadata": {},
   "outputs": [],
   "source": [
    "# PODER\n",
    "df = pr.read_gtf(gtf_file).df\n",
    "df = df.loc[df.Feature=='exon']\n",
    "\n",
    "# remove first and last exons\n",
    "df['first_or_last_exon'] = (~df.duplicated('transcript_id', keep='first'))|\\\n",
    "                           (~df.duplicated('transcript_id', keep='last'))\n",
    "df = df.loc[~df.first_or_last_exon]\n",
    "df = make_exon_id(df)\n",
    "\n",
    "# only keep unique exons\n",
    "df = df[['Chromosome', 'Strand', 'Start', 'End', 'eid']].drop_duplicates(keep='first')"
   ]
  },
  {
   "cell_type": "code",
   "execution_count": 7,
   "id": "7252d92a-d871-4a67-b4b5-e763e422a0fa",
   "metadata": {},
   "outputs": [],
   "source": [
    "# GENCODE\n",
    "ref_df = pr.read_gtf(ref_gtf_file).df\n",
    "ref_df = ref_df.loc[ref_df.Feature=='exon']\n",
    "\n",
    "# remove first and last exons\n",
    "ref_df['first_or_last_exon'] = (~ref_df.duplicated('transcript_id', keep='first'))|\\\n",
    "                           (~ref_df.duplicated('transcript_id', keep='last'))\n",
    "ref_df = ref_df.loc[~ref_df.first_or_last_exon]\n",
    "ref_df = make_exon_id(ref_df)\n",
    "\n",
    "# only keep unique exons\n",
    "ref_df = ref_df[['Chromosome', 'Strand', 'Start', 'End', 'eid']].drop_duplicates(keep='first')"
   ]
  },
  {
   "cell_type": "code",
   "execution_count": 8,
   "id": "ebcac290-637d-4dd9-b1d2-72e76df8358e",
   "metadata": {},
   "outputs": [],
   "source": [
    "# do a pyranges left join w/ PODER \n",
    "df = pr.PyRanges(df)\n",
    "ref_df = pr.PyRanges(ref_df)\n",
    "df = df.join(ref_df,\n",
    "             strandedness='same',\n",
    "             how='left',\n",
    "             report_overlap=True,\n",
    "             slack=0, suffix='_gc')"
   ]
  },
  {
   "cell_type": "markdown",
   "id": "b2005361-69be-4bd9-bfe5-d2582af40df0",
   "metadata": {},
   "source": [
    "## How many uniq exons are there in PODER?"
   ]
  },
  {
   "cell_type": "code",
   "execution_count": 9,
   "id": "4894491a-70b0-4451-9fe9-2e64baff6d06",
   "metadata": {},
   "outputs": [],
   "source": [
    "df = df.df"
   ]
  },
  {
   "cell_type": "code",
   "execution_count": 10,
   "id": "f08fe21c-102c-41dc-861e-80adfdcca32f",
   "metadata": {},
   "outputs": [],
   "source": [
    "# df.to_csv('241031_uniq_poder_exons.tsv', sep='\\t')\n",
    "df.to_csv('241108_uniq_poder_exons.tsv', sep='\\t')"
   ]
  },
  {
   "cell_type": "code",
   "execution_count": 11,
   "id": "b8485258-6595-491e-a026-4de69954dced",
   "metadata": {},
   "outputs": [
    {
     "name": "stdout",
     "output_type": "stream",
     "text": [
      "169847 unique internal exons in PODER\n"
     ]
    }
   ],
   "source": [
    "n_uniq_poder = len(df.eid.unique())\n",
    "print(f'{n_uniq_poder} unique internal exons in PODER')"
   ]
  },
  {
   "cell_type": "markdown",
   "id": "f411902a-435a-433b-970e-c205df63e482",
   "metadata": {},
   "source": [
    "## How many exons are completely present in GC?"
   ]
  },
  {
   "cell_type": "code",
   "execution_count": 12,
   "id": "2eb91eb4-2ef5-41a5-afad-de0caf9d7663",
   "metadata": {},
   "outputs": [
    {
     "name": "stdout",
     "output_type": "stream",
     "text": [
      "93.89% (159476/169847) internal exons have perfect matches in GENCODE v47\n"
     ]
    }
   ],
   "source": [
    "n_perfect_match = len(list(set(df.eid.tolist())&set(ref_df.eid.tolist())))\n",
    "print(f'{(n_perfect_match/n_uniq_poder)*100:.2f}% ({n_perfect_match}/{n_uniq_poder}) internal exons have perfect matches in GENCODE v47')"
   ]
  },
  {
   "cell_type": "markdown",
   "id": "f718733c-f6ce-4d15-8eaf-cceff3404e79",
   "metadata": {},
   "source": [
    "## How many exons are not in GC (not perfect matches)?"
   ]
  },
  {
   "cell_type": "code",
   "execution_count": 13,
   "id": "e554c1ea-086c-4caf-ae6e-2497a609ba9b",
   "metadata": {},
   "outputs": [
    {
     "name": "stdout",
     "output_type": "stream",
     "text": [
      "6.11% (10371/169847) internal exons have NO perfect matches in GENCODE v47\n"
     ]
    }
   ],
   "source": [
    "no_perfect_match_list = list(set(df.eid.tolist())-set(ref_df.eid.tolist()))\n",
    "n_no_perfect_match = len(no_perfect_match_list)\n",
    "print(f'{(n_no_perfect_match/n_uniq_poder)*100:.2f}% ({n_no_perfect_match}/{n_uniq_poder}) internal exons have NO perfect matches in GENCODE v47')"
   ]
  },
  {
   "cell_type": "markdown",
   "id": "f58749b4-0835-4527-8deb-a1605069c24e",
   "metadata": {},
   "source": [
    "## How many no perfect match exons at least overlap a known GC exon (and thus represent alt. 3'/5' splicing)"
   ]
  },
  {
   "cell_type": "code",
   "execution_count": 14,
   "id": "009612b6-2678-4ab2-94a1-d3aeadbe4138",
   "metadata": {},
   "outputs": [
    {
     "name": "stdout",
     "output_type": "stream",
     "text": [
      "38.75% (4019/10371) internal exons with NO perfect matches in GENCODE v47 DONT overlap w/ a GENCODE exon\n"
     ]
    }
   ],
   "source": [
    "n_no_perfect_match_overlap = len(df.loc[(df.eid.isin(no_perfect_match_list))&\\\n",
    "                      (df.Overlap<=0)].eid.unique())\n",
    "print(f'{(n_no_perfect_match_overlap/n_no_perfect_match)*100:.2f}% ({n_no_perfect_match_overlap}/{n_no_perfect_match}) internal exons with NO perfect matches in GENCODE v47 DONT overlap w/ a GENCODE exon')"
   ]
  },
  {
   "cell_type": "markdown",
   "id": "c886e122-b6a4-438d-a117-12ea4e3d30f1",
   "metadata": {},
   "source": [
    "## Plots"
   ]
  },
  {
   "cell_type": "code",
   "execution_count": 15,
   "id": "76998c0e-cf41-410a-8c56-96e7f168536c",
   "metadata": {},
   "outputs": [],
   "source": [
    "temp = df[['eid']].drop_duplicates()\n",
    "temp['novelty'] = 'Novel'\n",
    "temp.loc[temp.eid.isin(df.loc[df.Overlap>=1].eid.tolist()), 'novelty'] = \"Novel 5'/3'\"\n",
    "temp.loc[temp.eid.isin(df.eid_gc.tolist()), 'novelty'] = 'Known'"
   ]
  },
  {
   "cell_type": "code",
   "execution_count": 16,
   "id": "d28072fc-1507-4f75-a58d-56918f296025",
   "metadata": {},
   "outputs": [
    {
     "data": {
      "text/html": [
       "<div>\n",
       "<style scoped>\n",
       "    .dataframe tbody tr th:only-of-type {\n",
       "        vertical-align: middle;\n",
       "    }\n",
       "\n",
       "    .dataframe tbody tr th {\n",
       "        vertical-align: top;\n",
       "    }\n",
       "\n",
       "    .dataframe thead th {\n",
       "        text-align: right;\n",
       "    }\n",
       "</style>\n",
       "<table border=\"1\" class=\"dataframe\">\n",
       "  <thead>\n",
       "    <tr style=\"text-align: right;\">\n",
       "      <th></th>\n",
       "      <th>novelty</th>\n",
       "      <th>n_e</th>\n",
       "      <th>n_total_e</th>\n",
       "      <th>perc</th>\n",
       "    </tr>\n",
       "  </thead>\n",
       "  <tbody>\n",
       "    <tr>\n",
       "      <th>0</th>\n",
       "      <td>Known</td>\n",
       "      <td>159476</td>\n",
       "      <td>169847</td>\n",
       "      <td>93.893916</td>\n",
       "    </tr>\n",
       "    <tr>\n",
       "      <th>1</th>\n",
       "      <td>Novel</td>\n",
       "      <td>4019</td>\n",
       "      <td>169847</td>\n",
       "      <td>2.366247</td>\n",
       "    </tr>\n",
       "    <tr>\n",
       "      <th>2</th>\n",
       "      <td>Novel 5'/3'</td>\n",
       "      <td>6352</td>\n",
       "      <td>169847</td>\n",
       "      <td>3.739836</td>\n",
       "    </tr>\n",
       "  </tbody>\n",
       "</table>\n",
       "</div>"
      ],
      "text/plain": [
       "       novelty     n_e  n_total_e       perc\n",
       "0        Known  159476     169847  93.893916\n",
       "1        Novel    4019     169847   2.366247\n",
       "2  Novel 5'/3'    6352     169847   3.739836"
      ]
     },
     "execution_count": 16,
     "metadata": {},
     "output_type": "execute_result"
    }
   ],
   "source": [
    "temp = temp.groupby('novelty').count().rename({'eid':'n_e'}, axis=1).reset_index()\n",
    "temp['n_total_e'] = temp.n_e.sum()\n",
    "temp['perc'] = (temp['n_e']/temp['n_total_e'])*100\n",
    "temp"
   ]
  },
  {
   "cell_type": "code",
   "execution_count": 17,
   "id": "895a129c-f24e-4b87-b5b7-38524eca1595",
   "metadata": {},
   "outputs": [],
   "source": [
    "# save table for figure of # uniq exons by novelty\n",
    "# temp.to_csv('241029_num_exons_by_novelty.tsv', sep='\\t', index=False)\n",
    "temp.to_csv('241108_num_exons_by_novelty.tsv', sep='\\t', index=False)"
   ]
  },
  {
   "cell_type": "code",
   "execution_count": 18,
   "id": "8ab07c1e-a95d-4802-8237-b0988275c302",
   "metadata": {},
   "outputs": [],
   "source": [
    "# temp = pd.read_csv('241029_num_exons_by_novelty.tsv', sep='\\t')\n",
    "temp = pd.read_csv('241108_num_exons_by_novelty.tsv', sep='\\t')"
   ]
  },
  {
   "cell_type": "code",
   "execution_count": 19,
   "id": "506f3d55-b72c-4d79-9893-69e20b2fe1f7",
   "metadata": {},
   "outputs": [],
   "source": [
    "def clean_figure(ax):\n",
    "    ax.spines['right'].set_visible(False)\n",
    "    ax.spines['top'].set_visible(False)\n",
    "    ax.tick_params(axis=\"x\", rotation=45)"
   ]
  },
  {
   "cell_type": "code",
   "execution_count": 20,
   "id": "f1de7235-727d-49d6-863f-543b8719f1f0",
   "metadata": {},
   "outputs": [],
   "source": [
    "def add_perc_2(ax, df):\n",
    "    ylim = ax.get_ylim()[1]\n",
    "    n_cats = len(ax.patches)\n",
    "    for p in ax.patches:\n",
    "        h = p.get_height()\n",
    "        tot = df.loc[df.n_e==h, 'perc'].values[0]\n",
    "        x = p.get_x() + p.get_width() / 2 - (0.09)*n_cats\n",
    "        y = p.get_y() + p.get_height() + ylim*0.01\n",
    "        ax.annotate(f'{tot:.2f}%', (x, y), size = 18)"
   ]
  },
  {
   "cell_type": "code",
   "execution_count": 21,
   "id": "98e0a100-9503-4a0b-8892-f5c6238f2c31",
   "metadata": {},
   "outputs": [
    {
     "data": {
      "text/html": [
       "<div>\n",
       "<style scoped>\n",
       "    .dataframe tbody tr th:only-of-type {\n",
       "        vertical-align: middle;\n",
       "    }\n",
       "\n",
       "    .dataframe tbody tr th {\n",
       "        vertical-align: top;\n",
       "    }\n",
       "\n",
       "    .dataframe thead th {\n",
       "        text-align: right;\n",
       "    }\n",
       "</style>\n",
       "<table border=\"1\" class=\"dataframe\">\n",
       "  <thead>\n",
       "    <tr style=\"text-align: right;\">\n",
       "      <th></th>\n",
       "      <th>novelty</th>\n",
       "      <th>n_e</th>\n",
       "      <th>n_total_e</th>\n",
       "      <th>perc</th>\n",
       "    </tr>\n",
       "  </thead>\n",
       "  <tbody>\n",
       "    <tr>\n",
       "      <th>0</th>\n",
       "      <td>Known</td>\n",
       "      <td>159476</td>\n",
       "      <td>169847</td>\n",
       "      <td>93.893916</td>\n",
       "    </tr>\n",
       "    <tr>\n",
       "      <th>1</th>\n",
       "      <td>Novel</td>\n",
       "      <td>4019</td>\n",
       "      <td>169847</td>\n",
       "      <td>2.366247</td>\n",
       "    </tr>\n",
       "    <tr>\n",
       "      <th>2</th>\n",
       "      <td>Novel 5'/3'</td>\n",
       "      <td>6352</td>\n",
       "      <td>169847</td>\n",
       "      <td>3.739836</td>\n",
       "    </tr>\n",
       "  </tbody>\n",
       "</table>\n",
       "</div>"
      ],
      "text/plain": [
       "       novelty     n_e  n_total_e       perc\n",
       "0        Known  159476     169847  93.893916\n",
       "1        Novel    4019     169847   2.366247\n",
       "2  Novel 5'/3'    6352     169847   3.739836"
      ]
     },
     "execution_count": 21,
     "metadata": {},
     "output_type": "execute_result"
    }
   ],
   "source": [
    "temp"
   ]
  },
  {
   "cell_type": "code",
   "execution_count": 22,
   "id": "71ac8d31-0879-4fb1-9231-b52b6a35db2c",
   "metadata": {},
   "outputs": [
    {
     "data": {
      "text/plain": [
       "10371"
      ]
     },
     "execution_count": 22,
     "metadata": {},
     "output_type": "execute_result"
    }
   ],
   "source": [
    "# novel exons \n",
    "4019+6352"
   ]
  },
  {
   "cell_type": "code",
   "execution_count": 23,
   "id": "038aa429-6066-443a-8b32-a4dd49287953",
   "metadata": {},
   "outputs": [
    {
     "data": {
      "text/plain": [
       "0.38752290039533316"
      ]
     },
     "execution_count": 23,
     "metadata": {},
     "output_type": "execute_result"
    }
   ],
   "source": [
    "4019/(4019+6352)"
   ]
  },
  {
   "cell_type": "code",
   "execution_count": 24,
   "id": "25c7b77e-be67-4a24-95bc-a4f050c73409",
   "metadata": {},
   "outputs": [
    {
     "data": {
      "text/plain": [
       "0.6124770996046669"
      ]
     },
     "execution_count": 24,
     "metadata": {},
     "output_type": "execute_result"
    }
   ],
   "source": [
    "6352/(4019+6352)"
   ]
  },
  {
   "cell_type": "code",
   "execution_count": 25,
   "id": "4acad128-fc64-4ac2-a429-b9b9e1ceaab9",
   "metadata": {},
   "outputs": [
    {
     "data": {
      "image/png": "[encoded data removed]",
      "text/plain": [
       "<Figure size 432x288 with 1 Axes>"
      ]
     },
     "metadata": {
      "needs_background": "light"
     },
     "output_type": "display_data"
    }
   ],
   "source": [
    "# number of known exons,\n",
    "# number of novel exons (3'/5' splicing),\n",
    "# number of novel exons (completely novel)\n",
    "init_plot_settings(aspect='square')\n",
    "ax = sns.barplot(temp, y='n_e', \n",
    "                 x='novelty', order=['Known', \"Novel 5'/3'\", 'Novel'])\n",
    "add_perc_2(ax, temp)\n",
    "ylabel = '# internal exons in PODER'\n",
    "ax.set(ylabel=ylabel, xlabel='', yscale='log')\n",
    "clean_figure(ax)"
   ]
  },
  {
   "cell_type": "markdown",
   "id": "63a1f077-32dd-4a32-a5be-1b53c1f3aca3",
   "metadata": {},
   "source": [
    "## But what % of completely novel exons come from known genes?"
   ]
  },
  {
   "cell_type": "code",
   "execution_count": 26,
   "id": "9b5f66c8-327f-46ab-981f-3ecafd41281f",
   "metadata": {},
   "outputs": [],
   "source": [
    "# df_back = df.copy(deep=True)\n",
    "df = pd.read_csv('241031_uniq_poder_exons.tsv', sep='\\t')"
   ]
  },
  {
   "cell_type": "code",
   "execution_count": 27,
   "id": "2c6fd275-106a-4c70-8b54-d0abbd3b658b",
   "metadata": {},
   "outputs": [],
   "source": [
    "mt_df = pd.read_csv('../data/05_mastertable/poder_master_table.tsv', sep='\\t')\n",
    "# mt_df = mt_df.loc[mt_df['filter']=='pass']\n",
    "# mt_df['pop_spec_t'] = (mt_df.population_sharing==1)&\\\n",
    "#                       (mt_df.sample_sharing>1)"
   ]
  },
  {
   "cell_type": "code",
   "execution_count": 28,
   "id": "979cc0a1-81a9-4fa8-ae66-429cf594805c",
   "metadata": {},
   "outputs": [],
   "source": [
    "# list(mt_df.columns)"
   ]
  },
  {
   "cell_type": "code",
   "execution_count": 29,
   "id": "3af5f42d-bdfe-4d26-b87a-4a898804ba3c",
   "metadata": {},
   "outputs": [],
   "source": [
    "temp = df[['eid']].drop_duplicates()\n",
    "temp['novelty'] = 'Novel'\n",
    "temp.loc[temp.eid.isin(df.loc[df.Overlap>=1].eid.tolist()), 'novelty'] = \"Novel 5'/3'\"\n",
    "temp.loc[temp.eid.isin(df.eid_gc.tolist()), 'novelty'] = 'Known'"
   ]
  },
  {
   "cell_type": "code",
   "execution_count": 30,
   "id": "d2714af1-3906-4e9e-960a-059bd650119b",
   "metadata": {},
   "outputs": [],
   "source": [
    "# df = pr.read_gtf(gtf_file).df\n",
    "# df = df.loc[df.Feature=='exon']\n",
    "\n",
    "# # remove first and last exons\n",
    "# df['first_or_last_exon'] = (~df.duplicated('transcript_id', keep='first'))|\\\n",
    "#                            (~df.duplicated('transcript_id', keep='last'))\n",
    "# df = df.loc[~df.first_or_last_exon]\n",
    "# df = make_exon_id(df)"
   ]
  },
  {
   "cell_type": "code",
   "execution_count": 31,
   "id": "69bd8bca-dedc-456c-a7eb-b94b00be2da2",
   "metadata": {},
   "outputs": [
    {
     "ename": "KeyboardInterrupt",
     "evalue": "",
     "output_type": "error",
     "traceback": [
      "\u001b[0;31m---------------------------------------------------------------------------\u001b[0m",
      "\u001b[0;31mKeyboardInterrupt\u001b[0m                         Traceback (most recent call last)",
      "\u001b[0;32m<ipython-input-31-f88fa3c0b9fe>\u001b[0m in \u001b[0;36m<module>\u001b[0;34m\u001b[0m\n\u001b[0;32m----> 1\u001b[0;31m \u001b[0mdf\u001b[0m \u001b[0;34m=\u001b[0m \u001b[0mpr\u001b[0m\u001b[0;34m.\u001b[0m\u001b[0mread_gtf\u001b[0m\u001b[0;34m(\u001b[0m\u001b[0mgtf_file\u001b[0m\u001b[0;34m)\u001b[0m\u001b[0;34m.\u001b[0m\u001b[0mdf\u001b[0m\u001b[0;34m\u001b[0m\u001b[0;34m\u001b[0m\u001b[0m\n\u001b[0m\u001b[1;32m      2\u001b[0m \u001b[0mdf\u001b[0m \u001b[0;34m=\u001b[0m \u001b[0mdf\u001b[0m\u001b[0;34m.\u001b[0m\u001b[0mloc\u001b[0m\u001b[0;34m[\u001b[0m\u001b[0mdf\u001b[0m\u001b[0;34m.\u001b[0m\u001b[0mFeature\u001b[0m\u001b[0;34m==\u001b[0m\u001b[0;34m'exon'\u001b[0m\u001b[0;34m]\u001b[0m\u001b[0;34m\u001b[0m\u001b[0;34m\u001b[0m\u001b[0m\n\u001b[1;32m      3\u001b[0m \u001b[0;34m\u001b[0m\u001b[0m\n\u001b[1;32m      4\u001b[0m \u001b[0;31m# remove first and last exons\u001b[0m\u001b[0;34m\u001b[0m\u001b[0;34m\u001b[0m\u001b[0;34m\u001b[0m\u001b[0m\n\u001b[1;32m      5\u001b[0m \u001b[0mdf\u001b[0m\u001b[0;34m[\u001b[0m\u001b[0;34m'first_or_last_exon'\u001b[0m\u001b[0;34m]\u001b[0m \u001b[0;34m=\u001b[0m \u001b[0;34m(\u001b[0m\u001b[0;34m~\u001b[0m\u001b[0mdf\u001b[0m\u001b[0;34m.\u001b[0m\u001b[0mduplicated\u001b[0m\u001b[0;34m(\u001b[0m\u001b[0;34m'transcript_id'\u001b[0m\u001b[0;34m,\u001b[0m \u001b[0mkeep\u001b[0m\u001b[0;34m=\u001b[0m\u001b[0;34m'first'\u001b[0m\u001b[0;34m)\u001b[0m\u001b[0;34m)\u001b[0m\u001b[0;34m|\u001b[0m\u001b[0;31m\\\u001b[0m\u001b[0;34m\u001b[0m\u001b[0;34m\u001b[0m\u001b[0m\n",
      "\u001b[0;32m~/miniconda3/lib/python3.7/site-packages/pyranges/readers.py\u001b[0m in \u001b[0;36mread_gtf\u001b[0;34m(f, full, as_df, nrows, duplicate_attr, ignore_bad)\u001b[0m\n\u001b[1;32m    319\u001b[0m \u001b[0;34m\u001b[0m\u001b[0m\n\u001b[1;32m    320\u001b[0m     \u001b[0;32mif\u001b[0m \u001b[0mfull\u001b[0m\u001b[0;34m:\u001b[0m\u001b[0;34m\u001b[0m\u001b[0;34m\u001b[0m\u001b[0m\n\u001b[0;32m--> 321\u001b[0;31m         \u001b[0mgr\u001b[0m \u001b[0;34m=\u001b[0m \u001b[0mread_gtf_full\u001b[0m\u001b[0;34m(\u001b[0m\u001b[0mf\u001b[0m\u001b[0;34m,\u001b[0m \u001b[0mas_df\u001b[0m\u001b[0;34m,\u001b[0m \u001b[0mnrows\u001b[0m\u001b[0;34m,\u001b[0m \u001b[0m_skiprows\u001b[0m\u001b[0;34m,\u001b[0m \u001b[0mduplicate_attr\u001b[0m\u001b[0;34m,\u001b[0m \u001b[0mignore_bad\u001b[0m\u001b[0;34m=\u001b[0m\u001b[0mignore_bad\u001b[0m\u001b[0;34m)\u001b[0m\u001b[0;34m\u001b[0m\u001b[0;34m\u001b[0m\u001b[0m\n\u001b[0m\u001b[1;32m    322\u001b[0m     \u001b[0;32melse\u001b[0m\u001b[0;34m:\u001b[0m\u001b[0;34m\u001b[0m\u001b[0;34m\u001b[0m\u001b[0m\n\u001b[1;32m    323\u001b[0m         \u001b[0mgr\u001b[0m \u001b[0;34m=\u001b[0m \u001b[0mread_gtf_restricted\u001b[0m\u001b[0;34m(\u001b[0m\u001b[0mf\u001b[0m\u001b[0;34m,\u001b[0m \u001b[0m_skiprows\u001b[0m\u001b[0;34m,\u001b[0m \u001b[0mas_df\u001b[0m\u001b[0;34m=\u001b[0m\u001b[0;32mFalse\u001b[0m\u001b[0;34m,\u001b[0m \u001b[0mnrows\u001b[0m\u001b[0;34m=\u001b[0m\u001b[0;32mNone\u001b[0m\u001b[0;34m)\u001b[0m\u001b[0;34m\u001b[0m\u001b[0;34m\u001b[0m\u001b[0m\n",
      "\u001b[0;32m~/miniconda3/lib/python3.7/site-packages/pyranges/readers.py\u001b[0m in \u001b[0;36mread_gtf_full\u001b[0;34m(f, as_df, nrows, skiprows, duplicate_attr, ignore_bad, chunksize)\u001b[0m\n\u001b[1;32m    364\u001b[0m \u001b[0;34m\u001b[0m\u001b[0m\n\u001b[1;32m    365\u001b[0m     \u001b[0;32mif\u001b[0m \u001b[0;32mnot\u001b[0m \u001b[0mas_df\u001b[0m\u001b[0;34m:\u001b[0m\u001b[0;34m\u001b[0m\u001b[0;34m\u001b[0m\u001b[0m\n\u001b[0;32m--> 366\u001b[0;31m         \u001b[0;32mreturn\u001b[0m \u001b[0mPyRanges\u001b[0m\u001b[0;34m(\u001b[0m\u001b[0mdf\u001b[0m\u001b[0;34m)\u001b[0m\u001b[0;34m\u001b[0m\u001b[0;34m\u001b[0m\u001b[0m\n\u001b[0m\u001b[1;32m    367\u001b[0m     \u001b[0;32melse\u001b[0m\u001b[0;34m:\u001b[0m\u001b[0;34m\u001b[0m\u001b[0;34m\u001b[0m\u001b[0m\n\u001b[1;32m    368\u001b[0m         \u001b[0;32mreturn\u001b[0m \u001b[0mdf\u001b[0m\u001b[0;34m\u001b[0m\u001b[0;34m\u001b[0m\u001b[0m\n",
      "\u001b[0;32m~/miniconda3/lib/python3.7/site-packages/pyranges/pyranges_main.py\u001b[0m in \u001b[0;36m__init__\u001b[0;34m(self, df, chromosomes, starts, ends, strands, int64, copy_df)\u001b[0m\n\u001b[1;32m    176\u001b[0m             \u001b[0mdf\u001b[0m \u001b[0;34m=\u001b[0m \u001b[0mpd\u001b[0m\u001b[0;34m.\u001b[0m\u001b[0mDataFrame\u001b[0m\u001b[0;34m(\u001b[0m\u001b[0mcolumns\u001b[0m\u001b[0;34m=\u001b[0m\u001b[0;34m\"Chromosome Start End\"\u001b[0m\u001b[0;34m.\u001b[0m\u001b[0msplit\u001b[0m\u001b[0;34m(\u001b[0m\u001b[0;34m)\u001b[0m\u001b[0;34m)\u001b[0m\u001b[0;34m\u001b[0m\u001b[0;34m\u001b[0m\u001b[0m\n\u001b[1;32m    177\u001b[0m \u001b[0;34m\u001b[0m\u001b[0m\n\u001b[0;32m--> 178\u001b[0;31m         \u001b[0m_init\u001b[0m\u001b[0;34m(\u001b[0m\u001b[0mself\u001b[0m\u001b[0;34m,\u001b[0m \u001b[0mdf\u001b[0m\u001b[0;34m,\u001b[0m \u001b[0mchromosomes\u001b[0m\u001b[0;34m,\u001b[0m \u001b[0mstarts\u001b[0m\u001b[0;34m,\u001b[0m \u001b[0mends\u001b[0m\u001b[0;34m,\u001b[0m \u001b[0mstrands\u001b[0m\u001b[0;34m,\u001b[0m \u001b[0mcopy_df\u001b[0m\u001b[0;34m)\u001b[0m\u001b[0;34m\u001b[0m\u001b[0;34m\u001b[0m\u001b[0m\n\u001b[0m\u001b[1;32m    179\u001b[0m \u001b[0;34m\u001b[0m\u001b[0m\n\u001b[1;32m    180\u001b[0m     \u001b[0;32mdef\u001b[0m \u001b[0m__array_ufunc__\u001b[0m\u001b[0;34m(\u001b[0m\u001b[0mself\u001b[0m\u001b[0;34m,\u001b[0m \u001b[0;34m*\u001b[0m\u001b[0margs\u001b[0m\u001b[0;34m,\u001b[0m \u001b[0;34m**\u001b[0m\u001b[0mkwargs\u001b[0m\u001b[0;34m)\u001b[0m\u001b[0;34m:\u001b[0m\u001b[0;34m\u001b[0m\u001b[0;34m\u001b[0m\u001b[0m\n",
      "\u001b[0;32m~/miniconda3/lib/python3.7/site-packages/pyranges/methods/init.py\u001b[0m in \u001b[0;36m_init\u001b[0;34m(self, df, chromosomes, starts, ends, strands, copy_df)\u001b[0m\n\u001b[1;32m    122\u001b[0m         ), \"The dataframe does not have all the columns Chromosome, Start and End.\"\n\u001b[1;32m    123\u001b[0m         \u001b[0;32mif\u001b[0m \u001b[0mcopy_df\u001b[0m\u001b[0;34m:\u001b[0m\u001b[0;34m\u001b[0m\u001b[0;34m\u001b[0m\u001b[0m\n\u001b[0;32m--> 124\u001b[0;31m             \u001b[0mdf\u001b[0m \u001b[0;34m=\u001b[0m \u001b[0mdf\u001b[0m\u001b[0;34m.\u001b[0m\u001b[0mcopy\u001b[0m\u001b[0;34m(\u001b[0m\u001b[0;34m)\u001b[0m\u001b[0;34m\u001b[0m\u001b[0;34m\u001b[0m\u001b[0m\n\u001b[0m\u001b[1;32m    125\u001b[0m \u001b[0;34m\u001b[0m\u001b[0m\n\u001b[1;32m    126\u001b[0m     \u001b[0;32mif\u001b[0m \u001b[0mdf\u001b[0m \u001b[0;32mis\u001b[0m \u001b[0;32mFalse\u001b[0m \u001b[0;32mor\u001b[0m \u001b[0mdf\u001b[0m \u001b[0;32mis\u001b[0m \u001b[0;32mNone\u001b[0m\u001b[0;34m:\u001b[0m\u001b[0;34m\u001b[0m\u001b[0;34m\u001b[0m\u001b[0m\n",
      "\u001b[0;32m~/miniconda3/lib/python3.7/site-packages/pandas/core/generic.py\u001b[0m in \u001b[0;36mcopy\u001b[0;34m(self, deep)\u001b[0m\n\u001b[1;32m   5931\u001b[0m         \u001b[0mdtype\u001b[0m\u001b[0;34m:\u001b[0m \u001b[0mobject\u001b[0m\u001b[0;34m\u001b[0m\u001b[0;34m\u001b[0m\u001b[0m\n\u001b[1;32m   5932\u001b[0m         \"\"\"\n\u001b[0;32m-> 5933\u001b[0;31m         \u001b[0mdata\u001b[0m \u001b[0;34m=\u001b[0m \u001b[0mself\u001b[0m\u001b[0;34m.\u001b[0m\u001b[0m_mgr\u001b[0m\u001b[0;34m.\u001b[0m\u001b[0mcopy\u001b[0m\u001b[0;34m(\u001b[0m\u001b[0mdeep\u001b[0m\u001b[0;34m=\u001b[0m\u001b[0mdeep\u001b[0m\u001b[0;34m)\u001b[0m\u001b[0;34m\u001b[0m\u001b[0;34m\u001b[0m\u001b[0m\n\u001b[0m\u001b[1;32m   5934\u001b[0m         \u001b[0mself\u001b[0m\u001b[0;34m.\u001b[0m\u001b[0m_clear_item_cache\u001b[0m\u001b[0;34m(\u001b[0m\u001b[0;34m)\u001b[0m\u001b[0;34m\u001b[0m\u001b[0;34m\u001b[0m\u001b[0m\n\u001b[1;32m   5935\u001b[0m         \u001b[0;32mreturn\u001b[0m \u001b[0mself\u001b[0m\u001b[0;34m.\u001b[0m\u001b[0m_constructor\u001b[0m\u001b[0;34m(\u001b[0m\u001b[0mdata\u001b[0m\u001b[0;34m)\u001b[0m\u001b[0;34m.\u001b[0m\u001b[0m__finalize__\u001b[0m\u001b[0;34m(\u001b[0m\u001b[0mself\u001b[0m\u001b[0;34m,\u001b[0m \u001b[0mmethod\u001b[0m\u001b[0;34m=\u001b[0m\u001b[0;34m\"copy\"\u001b[0m\u001b[0;34m)\u001b[0m\u001b[0;34m\u001b[0m\u001b[0;34m\u001b[0m\u001b[0m\n",
      "\u001b[0;32m~/miniconda3/lib/python3.7/site-packages/pandas/core/internals/managers.py\u001b[0m in \u001b[0;36mcopy\u001b[0;34m(self, deep)\u001b[0m\n\u001b[1;32m    601\u001b[0m \u001b[0;34m\u001b[0m\u001b[0m\n\u001b[1;32m    602\u001b[0m         \u001b[0;32mif\u001b[0m \u001b[0mdeep\u001b[0m\u001b[0;34m:\u001b[0m\u001b[0;34m\u001b[0m\u001b[0;34m\u001b[0m\u001b[0m\n\u001b[0;32m--> 603\u001b[0;31m             \u001b[0mres\u001b[0m\u001b[0;34m.\u001b[0m\u001b[0m_consolidate_inplace\u001b[0m\u001b[0;34m(\u001b[0m\u001b[0;34m)\u001b[0m\u001b[0;34m\u001b[0m\u001b[0;34m\u001b[0m\u001b[0m\n\u001b[0m\u001b[1;32m    604\u001b[0m         \u001b[0;32mreturn\u001b[0m \u001b[0mres\u001b[0m\u001b[0;34m\u001b[0m\u001b[0;34m\u001b[0m\u001b[0m\n\u001b[1;32m    605\u001b[0m \u001b[0;34m\u001b[0m\u001b[0m\n",
      "\u001b[0;32m~/miniconda3/lib/python3.7/site-packages/pandas/core/internals/managers.py\u001b[0m in \u001b[0;36m_consolidate_inplace\u001b[0;34m(self)\u001b[0m\n\u001b[1;32m    622\u001b[0m     \u001b[0;32mdef\u001b[0m \u001b[0m_consolidate_inplace\u001b[0m\u001b[0;34m(\u001b[0m\u001b[0mself\u001b[0m\u001b[0;34m)\u001b[0m \u001b[0;34m->\u001b[0m \u001b[0;32mNone\u001b[0m\u001b[0;34m:\u001b[0m\u001b[0;34m\u001b[0m\u001b[0;34m\u001b[0m\u001b[0m\n\u001b[1;32m    623\u001b[0m         \u001b[0;32mif\u001b[0m \u001b[0;32mnot\u001b[0m \u001b[0mself\u001b[0m\u001b[0;34m.\u001b[0m\u001b[0mis_consolidated\u001b[0m\u001b[0;34m(\u001b[0m\u001b[0;34m)\u001b[0m\u001b[0;34m:\u001b[0m\u001b[0;34m\u001b[0m\u001b[0;34m\u001b[0m\u001b[0m\n\u001b[0;32m--> 624\u001b[0;31m             \u001b[0mself\u001b[0m\u001b[0;34m.\u001b[0m\u001b[0mblocks\u001b[0m \u001b[0;34m=\u001b[0m \u001b[0mtuple\u001b[0m\u001b[0;34m(\u001b[0m\u001b[0m_consolidate\u001b[0m\u001b[0;34m(\u001b[0m\u001b[0mself\u001b[0m\u001b[0;34m.\u001b[0m\u001b[0mblocks\u001b[0m\u001b[0;34m)\u001b[0m\u001b[0;34m)\u001b[0m\u001b[0;34m\u001b[0m\u001b[0;34m\u001b[0m\u001b[0m\n\u001b[0m\u001b[1;32m    625\u001b[0m             \u001b[0mself\u001b[0m\u001b[0;34m.\u001b[0m\u001b[0m_is_consolidated\u001b[0m \u001b[0;34m=\u001b[0m \u001b[0;32mTrue\u001b[0m\u001b[0;34m\u001b[0m\u001b[0;34m\u001b[0m\u001b[0m\n\u001b[1;32m    626\u001b[0m             \u001b[0mself\u001b[0m\u001b[0;34m.\u001b[0m\u001b[0m_known_consolidated\u001b[0m \u001b[0;34m=\u001b[0m \u001b[0;32mTrue\u001b[0m\u001b[0;34m\u001b[0m\u001b[0;34m\u001b[0m\u001b[0m\n",
      "\u001b[0;32m~/miniconda3/lib/python3.7/site-packages/pandas/core/internals/managers.py\u001b[0m in \u001b[0;36m_consolidate\u001b[0;34m(blocks)\u001b[0m\n\u001b[1;32m   1973\u001b[0m     \u001b[0;32mfor\u001b[0m \u001b[0;34m(\u001b[0m\u001b[0m_can_consolidate\u001b[0m\u001b[0;34m,\u001b[0m \u001b[0mdtype\u001b[0m\u001b[0;34m)\u001b[0m\u001b[0;34m,\u001b[0m \u001b[0mgroup_blocks\u001b[0m \u001b[0;32min\u001b[0m \u001b[0mgrouper\u001b[0m\u001b[0;34m:\u001b[0m\u001b[0;34m\u001b[0m\u001b[0;34m\u001b[0m\u001b[0m\n\u001b[1;32m   1974\u001b[0m         merged_blocks = _merge_blocks(\n\u001b[0;32m-> 1975\u001b[0;31m             \u001b[0mlist\u001b[0m\u001b[0;34m(\u001b[0m\u001b[0mgroup_blocks\u001b[0m\u001b[0;34m)\u001b[0m\u001b[0;34m,\u001b[0m \u001b[0mdtype\u001b[0m\u001b[0;34m=\u001b[0m\u001b[0mdtype\u001b[0m\u001b[0;34m,\u001b[0m \u001b[0mcan_consolidate\u001b[0m\u001b[0;34m=\u001b[0m\u001b[0m_can_consolidate\u001b[0m\u001b[0;34m\u001b[0m\u001b[0;34m\u001b[0m\u001b[0m\n\u001b[0m\u001b[1;32m   1976\u001b[0m         )\n\u001b[1;32m   1977\u001b[0m         \u001b[0mnew_blocks\u001b[0m \u001b[0;34m=\u001b[0m \u001b[0mextend_blocks\u001b[0m\u001b[0;34m(\u001b[0m\u001b[0mmerged_blocks\u001b[0m\u001b[0;34m,\u001b[0m \u001b[0mnew_blocks\u001b[0m\u001b[0;34m)\u001b[0m\u001b[0;34m\u001b[0m\u001b[0;34m\u001b[0m\u001b[0m\n",
      "\u001b[0;32m~/miniconda3/lib/python3.7/site-packages/pandas/core/internals/managers.py\u001b[0m in \u001b[0;36m_merge_blocks\u001b[0;34m(blocks, dtype, can_consolidate)\u001b[0m\n\u001b[1;32m   1999\u001b[0m             \u001b[0;31m# Sequence[Union[int, float, complex, str, bytes, generic]],\u001b[0m\u001b[0;34m\u001b[0m\u001b[0;34m\u001b[0m\u001b[0;34m\u001b[0m\u001b[0m\n\u001b[1;32m   2000\u001b[0m             \u001b[0;31m# Sequence[Sequence[Any]], SupportsArray]]\u001b[0m\u001b[0;34m\u001b[0m\u001b[0;34m\u001b[0m\u001b[0;34m\u001b[0m\u001b[0m\n\u001b[0;32m-> 2001\u001b[0;31m             \u001b[0mnew_values\u001b[0m \u001b[0;34m=\u001b[0m \u001b[0mnp\u001b[0m\u001b[0;34m.\u001b[0m\u001b[0mvstack\u001b[0m\u001b[0;34m(\u001b[0m\u001b[0;34m[\u001b[0m\u001b[0mb\u001b[0m\u001b[0;34m.\u001b[0m\u001b[0mvalues\u001b[0m \u001b[0;32mfor\u001b[0m \u001b[0mb\u001b[0m \u001b[0;32min\u001b[0m \u001b[0mblocks\u001b[0m\u001b[0;34m]\u001b[0m\u001b[0;34m)\u001b[0m  \u001b[0;31m# type: ignore[misc]\u001b[0m\u001b[0;34m\u001b[0m\u001b[0;34m\u001b[0m\u001b[0m\n\u001b[0m\u001b[1;32m   2002\u001b[0m         \u001b[0;32melse\u001b[0m\u001b[0;34m:\u001b[0m\u001b[0;34m\u001b[0m\u001b[0;34m\u001b[0m\u001b[0m\n\u001b[1;32m   2003\u001b[0m             \u001b[0mbvals\u001b[0m \u001b[0;34m=\u001b[0m \u001b[0;34m[\u001b[0m\u001b[0mblk\u001b[0m\u001b[0;34m.\u001b[0m\u001b[0mvalues\u001b[0m \u001b[0;32mfor\u001b[0m \u001b[0mblk\u001b[0m \u001b[0;32min\u001b[0m \u001b[0mblocks\u001b[0m\u001b[0;34m]\u001b[0m\u001b[0;34m\u001b[0m\u001b[0;34m\u001b[0m\u001b[0m\n",
      "\u001b[0;32m<__array_function__ internals>\u001b[0m in \u001b[0;36mvstack\u001b[0;34m(*args, **kwargs)\u001b[0m\n",
      "\u001b[0;32m~/miniconda3/lib/python3.7/site-packages/numpy/core/shape_base.py\u001b[0m in \u001b[0;36mvstack\u001b[0;34m(tup)\u001b[0m\n\u001b[1;32m    280\u001b[0m     \u001b[0;32mif\u001b[0m \u001b[0;32mnot\u001b[0m \u001b[0misinstance\u001b[0m\u001b[0;34m(\u001b[0m\u001b[0marrs\u001b[0m\u001b[0;34m,\u001b[0m \u001b[0mlist\u001b[0m\u001b[0;34m)\u001b[0m\u001b[0;34m:\u001b[0m\u001b[0;34m\u001b[0m\u001b[0;34m\u001b[0m\u001b[0m\n\u001b[1;32m    281\u001b[0m         \u001b[0marrs\u001b[0m \u001b[0;34m=\u001b[0m \u001b[0;34m[\u001b[0m\u001b[0marrs\u001b[0m\u001b[0;34m]\u001b[0m\u001b[0;34m\u001b[0m\u001b[0;34m\u001b[0m\u001b[0m\n\u001b[0;32m--> 282\u001b[0;31m     \u001b[0;32mreturn\u001b[0m \u001b[0m_nx\u001b[0m\u001b[0;34m.\u001b[0m\u001b[0mconcatenate\u001b[0m\u001b[0;34m(\u001b[0m\u001b[0marrs\u001b[0m\u001b[0;34m,\u001b[0m \u001b[0;36m0\u001b[0m\u001b[0;34m)\u001b[0m\u001b[0;34m\u001b[0m\u001b[0;34m\u001b[0m\u001b[0m\n\u001b[0m\u001b[1;32m    283\u001b[0m \u001b[0;34m\u001b[0m\u001b[0m\n\u001b[1;32m    284\u001b[0m \u001b[0;34m\u001b[0m\u001b[0m\n",
      "\u001b[0;32m<__array_function__ internals>\u001b[0m in \u001b[0;36mconcatenate\u001b[0;34m(*args, **kwargs)\u001b[0m\n",
      "\u001b[0;31mKeyboardInterrupt\u001b[0m: "
     ]
    }
   ],
   "source": [
    "df = pr.read_gtf(gtf_file).df\n",
    "df = df.loc[df.Feature=='exon']\n",
    "\n",
    "# remove first and last exons\n",
    "df['first_or_last_exon'] = (~df.duplicated('transcript_id', keep='first'))|\\\n",
    "                           (~df.duplicated('transcript_id', keep='last'))\n",
    "df = df.loc[~df.first_or_last_exon]\n",
    "df = make_exon_id(df)"
   ]
  },
  {
   "cell_type": "code",
   "execution_count": null,
   "id": "8d8bafb2-5d13-4ade-90e0-0886d4c1b29e",
   "metadata": {},
   "outputs": [],
   "source": [
    "# temp = temp.loc[temp.novelty.isin(['Novel', \"Novel 5'/3\"])]"
   ]
  },
  {
   "cell_type": "code",
   "execution_count": null,
   "id": "7acf58bd-3050-484a-bbb9-9ee8637aa6f1",
   "metadata": {},
   "outputs": [],
   "source": [
    "# add tids from the poder gtfg\n",
    "temp = temp.merge(df[['transcript_id', 'eid']], \n",
    "                  how='left',\n",
    "                  on='eid')"
   ]
  },
  {
   "cell_type": "code",
   "execution_count": null,
   "id": "29740160-786c-4ce6-9dfa-ccce13367117",
   "metadata": {},
   "outputs": [],
   "source": [
    "# list(mt_df.columns)"
   ]
  },
  {
   "cell_type": "code",
   "execution_count": null,
   "id": "6a4b3fef-1766-4239-81d9-8308081ef031",
   "metadata": {},
   "outputs": [],
   "source": [
    "# add gene biotype, from master table\n",
    "temp = temp.merge(mt_df[['isoform', 'structural_category', \n",
    "                         'associated_gene', 'associated_gene_biotype']],\n",
    "                  how='left',\n",
    "                  left_on='transcript_id',\n",
    "                  right_on='isoform')"
   ]
  },
  {
   "cell_type": "code",
   "execution_count": null,
   "id": "d82fbe10-f98e-4661-90d8-fe9146913ca7",
   "metadata": {},
   "outputs": [],
   "source": [
    "temp.loc[temp.transcript_id=='transcript_367606']"
   ]
  },
  {
   "cell_type": "code",
   "execution_count": null,
   "id": "80b09507-cb78-4c65-8480-f9f718f9838b",
   "metadata": {},
   "outputs": [],
   "source": [
    "# # make this into an output table\n",
    "# temp[['Chromosome', 'Strand', 'Start', 'End', 'temp']] = temp.eid.str.split('_', expand=True)\n",
    "# # temp.to_csv('241028_novel_exon_table.tsv', sep='\\t')\n",
    "# # temp.to_csv('241029_novel_exon_table.tsv', sep='\\t')\n",
    "# # temp.to_csv('241031_novel_exon_table.tsv', sep='\\t')\n",
    "temp.to_csv('241108_novel_exon_table.tsv', sep='\\t')"
   ]
  },
  {
   "cell_type": "code",
   "execution_count": null,
   "id": "675d220a-0eef-46f9-86ce-82ec4aad33cc",
   "metadata": {},
   "outputs": [],
   "source": [
    "# temp = pd.read_csv('241031_novel_exon_table.tsv', sep='\\t')\n",
    "temp = pd.read_csv('241108_novel_exon_table.tsv', sep='\\t')"
   ]
  },
  {
   "cell_type": "code",
   "execution_count": null,
   "id": "0b82eaa5-cba5-438b-95e5-f223ae09738b",
   "metadata": {},
   "outputs": [],
   "source": [
    "# drop dupe\n",
    "inds = temp.loc[temp.associated_gene_biotype=='Novel/Ambiguous Gene'].index\n",
    "temp.loc[inds, 'associated_gene_biotype'] = temp.loc[inds, 'structural_category']\n",
    "temp = temp[['eid', 'novelty', 'associated_gene', 'associated_gene_biotype']].drop_duplicates()"
   ]
  },
  {
   "cell_type": "code",
   "execution_count": null,
   "id": "9f104334-2699-4d76-8ece-e0868f5824df",
   "metadata": {},
   "outputs": [],
   "source": [
    "def get_biotype_novelty_colors():\n",
    "    c_dict_1 = {'Protein Coding': '#287373',\n",
    "                'lncRNA': '#f89e5c'}\n",
    "    c_dict, order = get_novelty_colors(['Antisense', 'Fusion', 'Genic', 'Intergenic'])\n",
    "    c_dict = c_dict.update(c_dict_1)\n",
    "    order = ['Protein Coding', 'lncRNA']+order\n",
    "    return c_dict, order"
   ]
  },
  {
   "cell_type": "code",
   "execution_count": null,
   "id": "2ad7f591-6976-46cd-96bc-49aa932f8c4c",
   "metadata": {},
   "outputs": [],
   "source": [
    "c_dict, order = get_biotype_novelty_colors()"
   ]
  },
  {
   "cell_type": "code",
   "execution_count": null,
   "id": "6f6d5aaa-ab17-4ff6-a4c1-c4acb2c5ae69",
   "metadata": {},
   "outputs": [],
   "source": [
    "def add_perc_2(ax, df):\n",
    "    ylim = ax.get_ylim()[1]\n",
    "    n_cats = len(ax.patches)\n",
    "    for p in ax.patches:\n",
    "        h = p.get_height()\n",
    "        try:\n",
    "            tot = df.loc[df.n_e_gene==h, 'n_e_gene'].values[0]\n",
    "            x = p.get_x() + p.get_width() / 2 - (0.05)*n_cats\n",
    "            y = p.get_y() + p.get_height() + ylim*0.01\n",
    "            ax.annotate(f'{tot}', (x, y), size = 18)\n",
    "        except: pass"
   ]
  },
  {
   "cell_type": "code",
   "execution_count": null,
   "id": "745a4e7f-fa18-4486-8a48-3be949e7f2ce",
   "metadata": {},
   "outputs": [],
   "source": [
    "temp.head()"
   ]
  },
  {
   "cell_type": "code",
   "execution_count": null,
   "id": "64dafd07-97ac-4eeb-b33d-0825c71803ea",
   "metadata": {},
   "outputs": [],
   "source": [
    "# number of novel exons (completely novel)\n",
    "temp2 = temp.loc[temp.novelty=='Novel']\n",
    "temp2 = temp2[['eid', 'associated_gene_biotype']].groupby('associated_gene_biotype').count().reset_index().rename({'eid':'n_e_gene'}, axis=1)\n",
    "\n",
    "init_plot_settings(aspect='square')\n",
    "ax = sns.barplot(temp2, y='n_e_gene', \n",
    "                 x='associated_gene_biotype',\n",
    "                 order=order,\n",
    "                 palette=c_dict)\n",
    "add_perc_2(ax, temp2)\n",
    "ylabel = '# novel internal exon / gene\\npairs in PODER'\n",
    "ax.set(ylabel=ylabel, xlabel='')\n",
    "clean_figure(ax)"
   ]
  },
  {
   "cell_type": "code",
   "execution_count": null,
   "id": "e8ad2cee-230c-4d45-8873-b0199c89aa1c",
   "metadata": {},
   "outputs": [],
   "source": [
    "# number of novel exons (3'/5' splicing),\n",
    "temp2 = temp.loc[temp.novelty==\"Novel 5'/3'\"]\n",
    "temp2 = temp2[['eid', 'associated_gene_biotype']].groupby('associated_gene_biotype').count().reset_index().rename({'eid':'n_e_gene'}, axis=1)\n",
    "\n",
    "init_plot_settings(aspect='square')\n",
    "ax = sns.barplot(temp2, y='n_e_gene', \n",
    "                 x='associated_gene_biotype',\n",
    "                 order=order,\n",
    "                 palette=c_dict)\n",
    "add_perc_2(ax, temp2)\n",
    "ylabel = \"# 5'/3' novel internal exon / gene\\npairs in PODER\"\n",
    "ax.set(ylabel=ylabel, xlabel='')\n",
    "clean_figure(ax)"
   ]
  },
  {
   "cell_type": "code",
   "execution_count": null,
   "id": "b9309cb8-d085-40f0-a644-d06d523c7cee",
   "metadata": {},
   "outputs": [],
   "source": [
    "# number of novel exons 3'5' and completely novel,\n",
    "temp2 = temp.loc[temp.novelty.isin(['Novel', \"Novel 5'/3'\"])]\n",
    "temp2 = temp2[['eid', 'associated_gene_biotype']].groupby('associated_gene_biotype').count().reset_index().rename({'eid':'n_e_gene'}, axis=1)\n",
    "\n",
    "init_plot_settings(aspect='square')\n",
    "ax = sns.barplot(temp2, y='n_e_gene', \n",
    "                 x='associated_gene_biotype',\n",
    "                 order=order,\n",
    "                 palette=c_dict)\n",
    "add_perc_2(ax, temp2)\n",
    "ylabel = \"# Novel internal exon / gene\\npairs in PODER\"\n",
    "ax.set(ylabel=ylabel, xlabel='')\n",
    "clean_figure(ax)"
   ]
  },
  {
   "cell_type": "code",
   "execution_count": null,
   "id": "46c6ae52-f116-47cc-91f8-96cff801986e",
   "metadata": {},
   "outputs": [],
   "source": [
    "# number of novel exons 3'5' and completely novel,\n",
    "# split by novelty\n",
    "temp2 = temp.loc[temp.novelty.isin(['Novel', \"Novel 5'/3'\"])]\n",
    "temp2 = temp2[['eid', 'novelty',\n",
    "               'associated_gene_biotype']].groupby(['associated_gene_biotype',\n",
    "                                                    'novelty']).count().reset_index().rename({'eid':'n_e_gene'}, axis=1)\n",
    "\n",
    "init_plot_settings(aspect='square')\n",
    "ax = sns.barplot(temp2, y='n_e_gene', \n",
    "                 x='associated_gene_biotype',\n",
    "                 hue='novelty',\n",
    "                 order=order,\n",
    "                 palette=c_dict)\n",
    "# add_perc_2(ax, temp2)\n",
    "ylabel = \"# Novel internal exon / gene\\npairs in PODER\"\n",
    "ax.set(ylabel=ylabel, xlabel='')\n",
    "clean_figure(ax)"
   ]
  },
  {
   "cell_type": "code",
   "execution_count": null,
   "id": "7f39d1ea-5987-46dd-ba83-bdef98a093d8",
   "metadata": {},
   "outputs": [],
   "source": [
    "temp.head()"
   ]
  },
  {
   "cell_type": "code",
   "execution_count": 46,
   "id": "979968c1-00bc-41ad-becc-7e2f980cc16f",
   "metadata": {},
   "outputs": [],
   "source": [
    "# temp.to_csv('241031_exon_novelty_associated_gene.tsv', sep='\\t')\n",
    "temp.to_csv('241108_exon_novelty_associated_gene.tsv', sep='\\t')"
   ]
  },
  {
   "cell_type": "markdown",
   "id": "13a7bc74-2d39-4d85-98c3-703934a9e821",
   "metadata": {},
   "source": [
    "## Get table of exons by novelty category as well as by detected in each sample"
   ]
  },
  {
   "cell_type": "code",
   "execution_count": 3,
   "id": "4f6accda-64a0-4077-bfe5-e03d4a19ebc0",
   "metadata": {},
   "outputs": [],
   "source": [
    "# df = pd.read_csv('241031_novel_exon_table.tsv', sep='\\t')\n",
    "df = pd.read_csv('241108_novel_exon_table.tsv', sep='\\t')"
   ]
  },
  {
   "cell_type": "code",
   "execution_count": 4,
   "id": "f8628370-573e-458f-8a1a-c4f6ee1c2ea8",
   "metadata": {},
   "outputs": [],
   "source": [
    "meta = load_meta()\n",
    "meta = meta.loc[meta.merged_run_mode==True]\n",
    "meta = meta.loc[meta.mixed_samples == False]\n",
    "samples = meta['sample'].tolist()"
   ]
  },
  {
   "cell_type": "code",
   "execution_count": 5,
   "id": "4c34247c-c39f-4f7b-8cc8-332e569c1aac",
   "metadata": {},
   "outputs": [],
   "source": [
    "mt_df = pd.read_csv('../data/05_mastertable/poder_master_table_fixed_genics.tsv', sep='\\t')\n",
    "# meta = load_meta()\n",
    "# meta = meta.loc[meta.merged_run_mode==True]\n",
    "# pops = \n",
    "_, pops = get_population_colors()\n",
    "mt_df = mt_df[['isoform']+samples]\n",
    "mt_df.rename({'isoform':'transcript_id'},\n",
    "             inplace=True,\n",
    "             axis=1)\n",
    "\n",
    "# # melt\n",
    "# mt_df = mt_df.set_index('isoform')\n",
    "# mt_df = mt_df.melt(ignore_index=False, \n",
    "#                    value_name='detected',\n",
    "#                    var_name='population')\n",
    "# print(len(mt_df.index))\n",
    "# mt_df = mt_df.loc[mt_df.detected>0]\n",
    "# print(len(mt_df.index))\n",
    "# mt_df.reset_index(inplace=True)"
   ]
  },
  {
   "cell_type": "code",
   "execution_count": 6,
   "id": "4a58d388-c551-4d81-99de-911f046d068d",
   "metadata": {},
   "outputs": [
    {
     "data": {
      "text/html": [
       "<div>\n",
       "<style scoped>\n",
       "    .dataframe tbody tr th:only-of-type {\n",
       "        vertical-align: middle;\n",
       "    }\n",
       "\n",
       "    .dataframe tbody tr th {\n",
       "        vertical-align: top;\n",
       "    }\n",
       "\n",
       "    .dataframe thead th {\n",
       "        text-align: right;\n",
       "    }\n",
       "</style>\n",
       "<table border=\"1\" class=\"dataframe\">\n",
       "  <thead>\n",
       "    <tr style=\"text-align: right;\">\n",
       "      <th></th>\n",
       "      <th>Unnamed: 0</th>\n",
       "      <th>eid</th>\n",
       "      <th>novelty</th>\n",
       "      <th>transcript_id</th>\n",
       "      <th>isoform</th>\n",
       "      <th>structural_category</th>\n",
       "      <th>associated_gene</th>\n",
       "      <th>associated_gene_biotype</th>\n",
       "      <th>ITU5</th>\n",
       "      <th>ITU4</th>\n",
       "      <th>...</th>\n",
       "      <th>YRI1</th>\n",
       "      <th>CEU5</th>\n",
       "      <th>CEU4</th>\n",
       "      <th>CEU3</th>\n",
       "      <th>CEU2</th>\n",
       "      <th>CEU1</th>\n",
       "      <th>MPC4</th>\n",
       "      <th>MPC3</th>\n",
       "      <th>MPC2</th>\n",
       "      <th>MPC1</th>\n",
       "    </tr>\n",
       "  </thead>\n",
       "  <tbody>\n",
       "    <tr>\n",
       "      <th>0</th>\n",
       "      <td>0</td>\n",
       "      <td>GL000008.2_+_83926_84014_</td>\n",
       "      <td>Known</td>\n",
       "      <td>ENST00000741425.1</td>\n",
       "      <td>ENST00000741425.1</td>\n",
       "      <td>FSM</td>\n",
       "      <td>ENSG00000296732.1</td>\n",
       "      <td>lncRNA</td>\n",
       "      <td>0</td>\n",
       "      <td>0</td>\n",
       "      <td>...</td>\n",
       "      <td>0</td>\n",
       "      <td>0</td>\n",
       "      <td>0</td>\n",
       "      <td>0</td>\n",
       "      <td>0</td>\n",
       "      <td>0</td>\n",
       "      <td>0</td>\n",
       "      <td>0</td>\n",
       "      <td>0</td>\n",
       "      <td>0</td>\n",
       "    </tr>\n",
       "    <tr>\n",
       "      <th>1</th>\n",
       "      <td>1</td>\n",
       "      <td>GL000008.2_+_83926_84014_</td>\n",
       "      <td>Known</td>\n",
       "      <td>transcript_1</td>\n",
       "      <td>transcript_1</td>\n",
       "      <td>FSM</td>\n",
       "      <td>ENSG00000296732.1</td>\n",
       "      <td>lncRNA</td>\n",
       "      <td>0</td>\n",
       "      <td>0</td>\n",
       "      <td>...</td>\n",
       "      <td>0</td>\n",
       "      <td>0</td>\n",
       "      <td>0</td>\n",
       "      <td>0</td>\n",
       "      <td>0</td>\n",
       "      <td>0</td>\n",
       "      <td>0</td>\n",
       "      <td>0</td>\n",
       "      <td>0</td>\n",
       "      <td>0</td>\n",
       "    </tr>\n",
       "    <tr>\n",
       "      <th>2</th>\n",
       "      <td>2</td>\n",
       "      <td>GL000008.2_+_83926_84014_</td>\n",
       "      <td>Known</td>\n",
       "      <td>transcript_10</td>\n",
       "      <td>transcript_10</td>\n",
       "      <td>FSM</td>\n",
       "      <td>ENSG00000296732.1</td>\n",
       "      <td>lncRNA</td>\n",
       "      <td>0</td>\n",
       "      <td>0</td>\n",
       "      <td>...</td>\n",
       "      <td>0</td>\n",
       "      <td>0</td>\n",
       "      <td>0</td>\n",
       "      <td>0</td>\n",
       "      <td>1</td>\n",
       "      <td>0</td>\n",
       "      <td>0</td>\n",
       "      <td>0</td>\n",
       "      <td>0</td>\n",
       "      <td>0</td>\n",
       "    </tr>\n",
       "    <tr>\n",
       "      <th>3</th>\n",
       "      <td>3</td>\n",
       "      <td>GL000008.2_+_83926_84014_</td>\n",
       "      <td>Known</td>\n",
       "      <td>transcript_11</td>\n",
       "      <td>transcript_11</td>\n",
       "      <td>FSM</td>\n",
       "      <td>ENSG00000296732.1</td>\n",
       "      <td>lncRNA</td>\n",
       "      <td>0</td>\n",
       "      <td>0</td>\n",
       "      <td>...</td>\n",
       "      <td>0</td>\n",
       "      <td>1</td>\n",
       "      <td>0</td>\n",
       "      <td>0</td>\n",
       "      <td>0</td>\n",
       "      <td>0</td>\n",
       "      <td>0</td>\n",
       "      <td>0</td>\n",
       "      <td>0</td>\n",
       "      <td>0</td>\n",
       "    </tr>\n",
       "    <tr>\n",
       "      <th>4</th>\n",
       "      <td>4</td>\n",
       "      <td>GL000008.2_+_83926_84014_</td>\n",
       "      <td>Known</td>\n",
       "      <td>transcript_12</td>\n",
       "      <td>transcript_12</td>\n",
       "      <td>FSM</td>\n",
       "      <td>ENSG00000296732.1</td>\n",
       "      <td>lncRNA</td>\n",
       "      <td>0</td>\n",
       "      <td>0</td>\n",
       "      <td>...</td>\n",
       "      <td>0</td>\n",
       "      <td>0</td>\n",
       "      <td>0</td>\n",
       "      <td>0</td>\n",
       "      <td>0</td>\n",
       "      <td>0</td>\n",
       "      <td>0</td>\n",
       "      <td>0</td>\n",
       "      <td>0</td>\n",
       "      <td>0</td>\n",
       "    </tr>\n",
       "  </tbody>\n",
       "</table>\n",
       "<p>5 rows × 51 columns</p>\n",
       "</div>"
      ],
      "text/plain": [
       "   Unnamed: 0                        eid novelty      transcript_id  \\\n",
       "0           0  GL000008.2_+_83926_84014_   Known  ENST00000741425.1   \n",
       "1           1  GL000008.2_+_83926_84014_   Known       transcript_1   \n",
       "2           2  GL000008.2_+_83926_84014_   Known      transcript_10   \n",
       "3           3  GL000008.2_+_83926_84014_   Known      transcript_11   \n",
       "4           4  GL000008.2_+_83926_84014_   Known      transcript_12   \n",
       "\n",
       "             isoform structural_category    associated_gene  \\\n",
       "0  ENST00000741425.1                 FSM  ENSG00000296732.1   \n",
       "1       transcript_1                 FSM  ENSG00000296732.1   \n",
       "2      transcript_10                 FSM  ENSG00000296732.1   \n",
       "3      transcript_11                 FSM  ENSG00000296732.1   \n",
       "4      transcript_12                 FSM  ENSG00000296732.1   \n",
       "\n",
       "  associated_gene_biotype  ITU5  ITU4  ...  YRI1  CEU5  CEU4  CEU3  CEU2  \\\n",
       "0                  lncRNA     0     0  ...     0     0     0     0     0   \n",
       "1                  lncRNA     0     0  ...     0     0     0     0     0   \n",
       "2                  lncRNA     0     0  ...     0     0     0     0     1   \n",
       "3                  lncRNA     0     0  ...     0     1     0     0     0   \n",
       "4                  lncRNA     0     0  ...     0     0     0     0     0   \n",
       "\n",
       "   CEU1  MPC4  MPC3  MPC2  MPC1  \n",
       "0     0     0     0     0     0  \n",
       "1     0     0     0     0     0  \n",
       "2     0     0     0     0     0  \n",
       "3     0     0     0     0     0  \n",
       "4     0     0     0     0     0  \n",
       "\n",
       "[5 rows x 51 columns]"
      ]
     },
     "execution_count": 6,
     "metadata": {},
     "output_type": "execute_result"
    }
   ],
   "source": [
    "# add detection stuff\n",
    "df = df.merge(mt_df, how='left',\n",
    "              on='transcript_id')\n",
    "df.head()"
   ]
  },
  {
   "cell_type": "code",
   "execution_count": 7,
   "id": "7ddf93f3-80c0-49f5-8cb8-38c5721d52b1",
   "metadata": {},
   "outputs": [],
   "source": [
    "df.to_csv('241127_exons_novelty_transcript_sample_det.tsv', sep='\\t')"
   ]
  },
  {
   "cell_type": "code",
   "execution_count": 12,
   "id": "ea15ae5e-93e0-48a3-90e3-c28e0459e9b0",
   "metadata": {},
   "outputs": [
    {
     "name": "stdout",
     "output_type": "stream",
     "text": [
      "169847\n",
      "169847\n"
     ]
    }
   ],
   "source": [
    "print(len(df.eid.unique()))\n",
    "print(len(df[['eid', 'novelty']].drop_duplicates()))"
   ]
  },
  {
   "cell_type": "code",
   "execution_count": 14,
   "id": "a4698c8a-f64a-43d8-b420-b8883d7a85d0",
   "metadata": {},
   "outputs": [],
   "source": [
    "# get the detection status for each exon\n",
    "df = df[['eid', 'novelty']+samples]\n",
    "df = df.groupby(['eid', 'novelty']).max().reset_index()"
   ]
  },
  {
   "cell_type": "code",
   "execution_count": 15,
   "id": "7127764e-7775-4924-b8a3-af177a8da46e",
   "metadata": {},
   "outputs": [],
   "source": [
    "df.to_csv('241126_exons_novelty_sample_det.tsv', sep='\\t')"
   ]
  },
  {
   "cell_type": "code",
   "execution_count": null,
   "id": "eb2a0474-8df0-4efb-a3da-ef4b58dbb877",
   "metadata": {},
   "outputs": [],
   "source": []
  },
  {
   "cell_type": "code",
   "execution_count": null,
   "id": "9f6d854e-bde5-4c13-8935-561d2f32eaff",
   "metadata": {},
   "outputs": [],
   "source": []
  },
  {
   "cell_type": "markdown",
   "id": "53f56e3d-30a8-472b-b422-f0409f07ff6e",
   "metadata": {},
   "source": [
    "## Get table of exons by novelty category as well as by detected in each population"
   ]
  },
  {
   "cell_type": "code",
   "execution_count": null,
   "id": "7119cd64-bac2-4b63-806d-9bb0f98dbcac",
   "metadata": {},
   "outputs": [],
   "source": [
    "# df = pd.read_csv('241031_novel_exon_table.tsv', sep='\\t')\n",
    "df = pd.read_csv('241108_novel_exon_table.tsv', sep='\\t')"
   ]
  },
  {
   "cell_type": "code",
   "execution_count": null,
   "id": "6c19c8c6-45ca-4b6c-9aba-e97d42c0f350",
   "metadata": {},
   "outputs": [],
   "source": [
    "mt_df = pd.read_csv('../data/05_mastertable/poder_master_table_fixed_genics.tsv', sep='\\t')\n",
    "# meta = load_meta()\n",
    "# meta = meta.loc[meta.merged_run_mode==True]\n",
    "# pops = \n",
    "_, pops = get_population_colors()\n",
    "mt_df = mt_df[['isoform']+pops]\n",
    "mt_df.rename({'isoform':'transcript_id'},\n",
    "             inplace=True,\n",
    "             axis=1)\n",
    "\n",
    "# # melt\n",
    "# mt_df = mt_df.set_index('isoform')\n",
    "# mt_df = mt_df.melt(ignore_index=False, \n",
    "#                    value_name='detected',\n",
    "#                    var_name='population')\n",
    "# print(len(mt_df.index))\n",
    "# mt_df = mt_df.loc[mt_df.detected>0]\n",
    "# print(len(mt_df.index))\n",
    "# mt_df.reset_index(inplace=True)"
   ]
  },
  {
   "cell_type": "code",
   "execution_count": 49,
   "id": "c029e0a5-05b8-43d5-9e44-cfc6ce8a9bda",
   "metadata": {},
   "outputs": [
    {
     "data": {
      "text/html": [
       "<div>\n",
       "<style scoped>\n",
       "    .dataframe tbody tr th:only-of-type {\n",
       "        vertical-align: middle;\n",
       "    }\n",
       "\n",
       "    .dataframe tbody tr th {\n",
       "        vertical-align: top;\n",
       "    }\n",
       "\n",
       "    .dataframe thead th {\n",
       "        text-align: right;\n",
       "    }\n",
       "</style>\n",
       "<table border=\"1\" class=\"dataframe\">\n",
       "  <thead>\n",
       "    <tr style=\"text-align: right;\">\n",
       "      <th></th>\n",
       "      <th>transcript_id</th>\n",
       "      <th>AJI</th>\n",
       "      <th>CEU</th>\n",
       "      <th>HAC</th>\n",
       "      <th>ITU</th>\n",
       "      <th>LWK</th>\n",
       "      <th>MPC</th>\n",
       "      <th>PEL</th>\n",
       "      <th>YRI</th>\n",
       "    </tr>\n",
       "  </thead>\n",
       "  <tbody>\n",
       "    <tr>\n",
       "      <th>0</th>\n",
       "      <td>ENST00000741425.1</td>\n",
       "      <td>1</td>\n",
       "      <td>0</td>\n",
       "      <td>0</td>\n",
       "      <td>0</td>\n",
       "      <td>0</td>\n",
       "      <td>0</td>\n",
       "      <td>0</td>\n",
       "      <td>0</td>\n",
       "    </tr>\n",
       "    <tr>\n",
       "      <th>1</th>\n",
       "      <td>transcript_0</td>\n",
       "      <td>1</td>\n",
       "      <td>0</td>\n",
       "      <td>0</td>\n",
       "      <td>0</td>\n",
       "      <td>0</td>\n",
       "      <td>0</td>\n",
       "      <td>0</td>\n",
       "      <td>0</td>\n",
       "    </tr>\n",
       "    <tr>\n",
       "      <th>2</th>\n",
       "      <td>transcript_1</td>\n",
       "      <td>1</td>\n",
       "      <td>0</td>\n",
       "      <td>0</td>\n",
       "      <td>0</td>\n",
       "      <td>0</td>\n",
       "      <td>0</td>\n",
       "      <td>1</td>\n",
       "      <td>0</td>\n",
       "    </tr>\n",
       "    <tr>\n",
       "      <th>3</th>\n",
       "      <td>transcript_10</td>\n",
       "      <td>1</td>\n",
       "      <td>1</td>\n",
       "      <td>0</td>\n",
       "      <td>1</td>\n",
       "      <td>0</td>\n",
       "      <td>0</td>\n",
       "      <td>0</td>\n",
       "      <td>0</td>\n",
       "    </tr>\n",
       "    <tr>\n",
       "      <th>4</th>\n",
       "      <td>transcript_11</td>\n",
       "      <td>2</td>\n",
       "      <td>1</td>\n",
       "      <td>0</td>\n",
       "      <td>1</td>\n",
       "      <td>0</td>\n",
       "      <td>0</td>\n",
       "      <td>2</td>\n",
       "      <td>0</td>\n",
       "    </tr>\n",
       "  </tbody>\n",
       "</table>\n",
       "</div>"
      ],
      "text/plain": [
       "       transcript_id  AJI  CEU  HAC  ITU  LWK  MPC  PEL  YRI\n",
       "0  ENST00000741425.1    1    0    0    0    0    0    0    0\n",
       "1       transcript_0    1    0    0    0    0    0    0    0\n",
       "2       transcript_1    1    0    0    0    0    0    1    0\n",
       "3      transcript_10    1    1    0    1    0    0    0    0\n",
       "4      transcript_11    2    1    0    1    0    0    2    0"
      ]
     },
     "execution_count": 49,
     "metadata": {},
     "output_type": "execute_result"
    }
   ],
   "source": [
    "mt_df.head()"
   ]
  },
  {
   "cell_type": "code",
   "execution_count": 50,
   "id": "efb4993b-515c-41f3-b89e-61c381f329c3",
   "metadata": {},
   "outputs": [
    {
     "data": {
      "text/html": [
       "<div>\n",
       "<style scoped>\n",
       "    .dataframe tbody tr th:only-of-type {\n",
       "        vertical-align: middle;\n",
       "    }\n",
       "\n",
       "    .dataframe tbody tr th {\n",
       "        vertical-align: top;\n",
       "    }\n",
       "\n",
       "    .dataframe thead th {\n",
       "        text-align: right;\n",
       "    }\n",
       "</style>\n",
       "<table border=\"1\" class=\"dataframe\">\n",
       "  <thead>\n",
       "    <tr style=\"text-align: right;\">\n",
       "      <th></th>\n",
       "      <th>Unnamed: 0</th>\n",
       "      <th>eid</th>\n",
       "      <th>novelty</th>\n",
       "      <th>transcript_id</th>\n",
       "      <th>isoform</th>\n",
       "      <th>structural_category</th>\n",
       "      <th>associated_gene</th>\n",
       "      <th>associated_gene_biotype</th>\n",
       "      <th>AJI</th>\n",
       "      <th>CEU</th>\n",
       "      <th>HAC</th>\n",
       "      <th>ITU</th>\n",
       "      <th>LWK</th>\n",
       "      <th>MPC</th>\n",
       "      <th>PEL</th>\n",
       "      <th>YRI</th>\n",
       "    </tr>\n",
       "  </thead>\n",
       "  <tbody>\n",
       "    <tr>\n",
       "      <th>0</th>\n",
       "      <td>0</td>\n",
       "      <td>GL000008.2_+_83926_84014_</td>\n",
       "      <td>Known</td>\n",
       "      <td>ENST00000741425.1</td>\n",
       "      <td>ENST00000741425.1</td>\n",
       "      <td>FSM</td>\n",
       "      <td>ENSG00000296732.1</td>\n",
       "      <td>lncRNA</td>\n",
       "      <td>1</td>\n",
       "      <td>0</td>\n",
       "      <td>0</td>\n",
       "      <td>0</td>\n",
       "      <td>0</td>\n",
       "      <td>0</td>\n",
       "      <td>0</td>\n",
       "      <td>0</td>\n",
       "    </tr>\n",
       "    <tr>\n",
       "      <th>1</th>\n",
       "      <td>1</td>\n",
       "      <td>GL000008.2_+_83926_84014_</td>\n",
       "      <td>Known</td>\n",
       "      <td>transcript_1</td>\n",
       "      <td>transcript_1</td>\n",
       "      <td>FSM</td>\n",
       "      <td>ENSG00000296732.1</td>\n",
       "      <td>lncRNA</td>\n",
       "      <td>1</td>\n",
       "      <td>0</td>\n",
       "      <td>0</td>\n",
       "      <td>0</td>\n",
       "      <td>0</td>\n",
       "      <td>0</td>\n",
       "      <td>1</td>\n",
       "      <td>0</td>\n",
       "    </tr>\n",
       "    <tr>\n",
       "      <th>2</th>\n",
       "      <td>2</td>\n",
       "      <td>GL000008.2_+_83926_84014_</td>\n",
       "      <td>Known</td>\n",
       "      <td>transcript_10</td>\n",
       "      <td>transcript_10</td>\n",
       "      <td>FSM</td>\n",
       "      <td>ENSG00000296732.1</td>\n",
       "      <td>lncRNA</td>\n",
       "      <td>1</td>\n",
       "      <td>1</td>\n",
       "      <td>0</td>\n",
       "      <td>1</td>\n",
       "      <td>0</td>\n",
       "      <td>0</td>\n",
       "      <td>0</td>\n",
       "      <td>0</td>\n",
       "    </tr>\n",
       "    <tr>\n",
       "      <th>3</th>\n",
       "      <td>3</td>\n",
       "      <td>GL000008.2_+_83926_84014_</td>\n",
       "      <td>Known</td>\n",
       "      <td>transcript_11</td>\n",
       "      <td>transcript_11</td>\n",
       "      <td>FSM</td>\n",
       "      <td>ENSG00000296732.1</td>\n",
       "      <td>lncRNA</td>\n",
       "      <td>2</td>\n",
       "      <td>1</td>\n",
       "      <td>0</td>\n",
       "      <td>1</td>\n",
       "      <td>0</td>\n",
       "      <td>0</td>\n",
       "      <td>2</td>\n",
       "      <td>0</td>\n",
       "    </tr>\n",
       "    <tr>\n",
       "      <th>4</th>\n",
       "      <td>4</td>\n",
       "      <td>GL000008.2_+_83926_84014_</td>\n",
       "      <td>Known</td>\n",
       "      <td>transcript_12</td>\n",
       "      <td>transcript_12</td>\n",
       "      <td>FSM</td>\n",
       "      <td>ENSG00000296732.1</td>\n",
       "      <td>lncRNA</td>\n",
       "      <td>2</td>\n",
       "      <td>0</td>\n",
       "      <td>0</td>\n",
       "      <td>1</td>\n",
       "      <td>0</td>\n",
       "      <td>0</td>\n",
       "      <td>2</td>\n",
       "      <td>0</td>\n",
       "    </tr>\n",
       "  </tbody>\n",
       "</table>\n",
       "</div>"
      ],
      "text/plain": [
       "   Unnamed: 0                        eid novelty      transcript_id  \\\n",
       "0           0  GL000008.2_+_83926_84014_   Known  ENST00000741425.1   \n",
       "1           1  GL000008.2_+_83926_84014_   Known       transcript_1   \n",
       "2           2  GL000008.2_+_83926_84014_   Known      transcript_10   \n",
       "3           3  GL000008.2_+_83926_84014_   Known      transcript_11   \n",
       "4           4  GL000008.2_+_83926_84014_   Known      transcript_12   \n",
       "\n",
       "             isoform structural_category    associated_gene  \\\n",
       "0  ENST00000741425.1                 FSM  ENSG00000296732.1   \n",
       "1       transcript_1                 FSM  ENSG00000296732.1   \n",
       "2      transcript_10                 FSM  ENSG00000296732.1   \n",
       "3      transcript_11                 FSM  ENSG00000296732.1   \n",
       "4      transcript_12                 FSM  ENSG00000296732.1   \n",
       "\n",
       "  associated_gene_biotype  AJI  CEU  HAC  ITU  LWK  MPC  PEL  YRI  \n",
       "0                  lncRNA    1    0    0    0    0    0    0    0  \n",
       "1                  lncRNA    1    0    0    0    0    0    1    0  \n",
       "2                  lncRNA    1    1    0    1    0    0    0    0  \n",
       "3                  lncRNA    2    1    0    1    0    0    2    0  \n",
       "4                  lncRNA    2    0    0    1    0    0    2    0  "
      ]
     },
     "execution_count": 50,
     "metadata": {},
     "output_type": "execute_result"
    }
   ],
   "source": [
    "# add detection stuff\n",
    "df = df.merge(mt_df, how='left',\n",
    "              on='transcript_id')\n",
    "df.head()"
   ]
  },
  {
   "cell_type": "code",
   "execution_count": 51,
   "id": "3104a333-3b13-4662-8a9d-fdd7a5c2046c",
   "metadata": {},
   "outputs": [
    {
     "name": "stdout",
     "output_type": "stream",
     "text": [
      "169847\n",
      "169847\n"
     ]
    }
   ],
   "source": [
    "print(len(df.eid.unique()))\n",
    "print(len(df[['eid', 'novelty']].drop_duplicates()))"
   ]
  },
  {
   "cell_type": "code",
   "execution_count": 52,
   "id": "a1dea6c7-1e2f-47c9-bf70-6c1118aafd62",
   "metadata": {},
   "outputs": [],
   "source": [
    "# get the detection status for each exon\n",
    "df = df[['eid', 'novelty']+pops]\n",
    "df = df.groupby(['eid', 'novelty']).max().reset_index()"
   ]
  },
  {
   "cell_type": "code",
   "execution_count": 53,
   "id": "223db43e-f6ea-49ad-9dbe-19ca871e20c8",
   "metadata": {},
   "outputs": [
    {
     "data": {
      "text/plain": [
       "169847"
      ]
     },
     "execution_count": 53,
     "metadata": {},
     "output_type": "execute_result"
    }
   ],
   "source": [
    "len(df.index)"
   ]
  },
  {
   "cell_type": "code",
   "execution_count": 54,
   "id": "3fb6d190-830b-4293-a600-0f32ba287779",
   "metadata": {},
   "outputs": [],
   "source": [
    "# df.to_csv('241103_exons_novelty_pop_det.tsv', sep='\\t')\n",
    "df.to_csv('241108_exons_novelty_pop_det.tsv', sep='\\t')"
   ]
  },
  {
   "cell_type": "code",
   "execution_count": null,
   "id": "14b43d07-1678-495d-ae2f-1e8d45b9a34f",
   "metadata": {},
   "outputs": [],
   "source": []
  }
 ],
 "metadata": {
  "kernelspec": {
   "display_name": "Python 3",
   "language": "python",
   "name": "python3"
  },
  "language_info": {
   "codemirror_mode": {
    "name": "ipython",
    "version": 3
   },
   "file_extension": ".py",
   "mimetype": "text/x-python",
   "name": "python",
   "nbconvert_exporter": "python",
   "pygments_lexer": "ipython3",
   "version": "3.7.12"
  }
 },
 "nbformat": 4,
 "nbformat_minor": 5
}
