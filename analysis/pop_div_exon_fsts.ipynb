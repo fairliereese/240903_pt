{
 "cells": [
  {
   "cell_type": "markdown",
   "id": "95e45254-1125-47b9-b2df-fad1f8d62998",
   "metadata": {},
   "source": [
    "## Goal: What is Fst score per exon + ss (+-2bp)\n",
    "For exons that are \n",
    "* unique to one population or the other\n",
    "* shared between the population"
   ]
  },
  {
   "cell_type": "code",
   "execution_count": 1,
   "id": "0fb56327-9fac-4e37-8493-47b44052d7ff",
   "metadata": {},
   "outputs": [],
   "source": [
    "import pandas as pd\n",
    "import numpy as np\n",
    "import scipy.stats as st\n",
    "import seaborn as sns\n",
    "import sys\n",
    "import os\n",
    "import matplotlib.pyplot as plt\n",
    "import swan_vis as swan\n",
    "import yaml\n",
    "from snakemake.io import expand\n",
    "import cerberus\n",
    "import pyranges as pr\n",
    "import upsetplot\n",
    "\n",
    "\n",
    "p = os.path.dirname(os.getcwd())\n",
    "sys.path.append(p)\n",
    "\n",
    "from scripts.utils import *\n",
    "from scripts.vcf_utils import *\n",
    "from scripts.plotting import *"
   ]
  },
  {
   "cell_type": "code",
   "execution_count": 4,
   "id": "895aac26-c77f-4eea-8547-33123a1e59b9",
   "metadata": {},
   "outputs": [],
   "source": [
    "config = load_config()\n",
    "od = '../'\n",
    "\n",
    "def proc_cfg(entry, od):\n",
    "    entry = entry.replace('../../', '')\n",
    "    entry = od+entry\n",
    "    return entry"
   ]
  },
  {
   "cell_type": "code",
   "execution_count": 6,
   "id": "61031b12-9bfc-4a9c-8f78-9ef681e0c70c",
   "metadata": {},
   "outputs": [
    {
     "data": {
      "text/html": [
       "<div>\n",
       "<style scoped>\n",
       "    .dataframe tbody tr th:only-of-type {\n",
       "        vertical-align: middle;\n",
       "    }\n",
       "\n",
       "    .dataframe tbody tr th {\n",
       "        vertical-align: top;\n",
       "    }\n",
       "\n",
       "    .dataframe thead th {\n",
       "        text-align: right;\n",
       "    }\n",
       "</style>\n",
       "<table border=\"1\" class=\"dataframe\">\n",
       "  <thead>\n",
       "    <tr style=\"text-align: right;\">\n",
       "      <th></th>\n",
       "      <th>Chromosome</th>\n",
       "      <th>Start</th>\n",
       "      <th>End</th>\n",
       "      <th>Name</th>\n",
       "      <th>Score</th>\n",
       "      <th>Strand</th>\n",
       "      <th>eid</th>\n",
       "      <th>novelty</th>\n",
       "      <th>pop1_det</th>\n",
       "      <th>pop2_det</th>\n",
       "      <th>End_b</th>\n",
       "      <th>fst</th>\n",
       "      <th>Start_b</th>\n",
       "      <th>pop1</th>\n",
       "      <th>pop2</th>\n",
       "    </tr>\n",
       "  </thead>\n",
       "  <tbody>\n",
       "    <tr>\n",
       "      <th>0</th>\n",
       "      <td>GL000008.2</td>\n",
       "      <td>135133</td>\n",
       "      <td>135173</td>\n",
       "      <td>.</td>\n",
       "      <td>.</td>\n",
       "      <td>+</td>\n",
       "      <td>GL000008.2_+_135133_135173</td>\n",
       "      <td>Known</td>\n",
       "      <td>True</td>\n",
       "      <td>False</td>\n",
       "      <td>-1</td>\n",
       "      <td>-1.0</td>\n",
       "      <td>-1</td>\n",
       "      <td>PEL</td>\n",
       "      <td>YRI</td>\n",
       "    </tr>\n",
       "    <tr>\n",
       "      <th>1</th>\n",
       "      <td>GL000008.2</td>\n",
       "      <td>155429</td>\n",
       "      <td>155531</td>\n",
       "      <td>.</td>\n",
       "      <td>.</td>\n",
       "      <td>+</td>\n",
       "      <td>GL000008.2_+_155429_155531</td>\n",
       "      <td>Known</td>\n",
       "      <td>True</td>\n",
       "      <td>False</td>\n",
       "      <td>-1</td>\n",
       "      <td>-1.0</td>\n",
       "      <td>-1</td>\n",
       "      <td>PEL</td>\n",
       "      <td>YRI</td>\n",
       "    </tr>\n",
       "    <tr>\n",
       "      <th>2</th>\n",
       "      <td>GL000008.2</td>\n",
       "      <td>83926</td>\n",
       "      <td>84014</td>\n",
       "      <td>.</td>\n",
       "      <td>.</td>\n",
       "      <td>+</td>\n",
       "      <td>GL000008.2_+_83926_84014</td>\n",
       "      <td>Known</td>\n",
       "      <td>True</td>\n",
       "      <td>False</td>\n",
       "      <td>-1</td>\n",
       "      <td>-1.0</td>\n",
       "      <td>-1</td>\n",
       "      <td>PEL</td>\n",
       "      <td>YRI</td>\n",
       "    </tr>\n",
       "    <tr>\n",
       "      <th>3</th>\n",
       "      <td>GL000008.2</td>\n",
       "      <td>83926</td>\n",
       "      <td>84145</td>\n",
       "      <td>.</td>\n",
       "      <td>.</td>\n",
       "      <td>+</td>\n",
       "      <td>GL000008.2_+_83926_84145</td>\n",
       "      <td>Known</td>\n",
       "      <td>True</td>\n",
       "      <td>True</td>\n",
       "      <td>-1</td>\n",
       "      <td>-1.0</td>\n",
       "      <td>-1</td>\n",
       "      <td>PEL</td>\n",
       "      <td>YRI</td>\n",
       "    </tr>\n",
       "    <tr>\n",
       "      <th>4</th>\n",
       "      <td>GL000008.2</td>\n",
       "      <td>85442</td>\n",
       "      <td>85477</td>\n",
       "      <td>.</td>\n",
       "      <td>.</td>\n",
       "      <td>+</td>\n",
       "      <td>GL000008.2_+_85442_85477</td>\n",
       "      <td>Known</td>\n",
       "      <td>True</td>\n",
       "      <td>False</td>\n",
       "      <td>-1</td>\n",
       "      <td>-1.0</td>\n",
       "      <td>-1</td>\n",
       "      <td>PEL</td>\n",
       "      <td>YRI</td>\n",
       "    </tr>\n",
       "  </tbody>\n",
       "</table>\n",
       "</div>"
      ],
      "text/plain": [
       "   Chromosome   Start     End Name Score Strand                         eid  \\\n",
       "0  GL000008.2  135133  135173    .     .      +  GL000008.2_+_135133_135173   \n",
       "1  GL000008.2  155429  155531    .     .      +  GL000008.2_+_155429_155531   \n",
       "2  GL000008.2   83926   84014    .     .      +    GL000008.2_+_83926_84014   \n",
       "3  GL000008.2   83926   84145    .     .      +    GL000008.2_+_83926_84145   \n",
       "4  GL000008.2   85442   85477    .     .      +    GL000008.2_+_85442_85477   \n",
       "\n",
       "  novelty  pop1_det  pop2_det  End_b  fst  Start_b pop1 pop2  \n",
       "0   Known      True     False     -1 -1.0       -1  PEL  YRI  \n",
       "1   Known      True     False     -1 -1.0       -1  PEL  YRI  \n",
       "2   Known      True     False     -1 -1.0       -1  PEL  YRI  \n",
       "3   Known      True      True     -1 -1.0       -1  PEL  YRI  \n",
       "4   Known      True     False     -1 -1.0       -1  PEL  YRI  "
      ]
     },
     "execution_count": 6,
     "metadata": {},
     "output_type": "execute_result"
    }
   ],
   "source": [
    "df = pd.read_csv(proc_cfg(config['lr']['exons_ss_in_pops_fsts_summary'], od),\n",
    "                 sep='\\t')\n",
    "df.rename({'ThickStart':'eid',\n",
    "           'ThickEnd':'novelty',\n",
    "           'ItemRGB':'pop1_det',\n",
    "           'BlockCount':'pop2_det'}, \n",
    "          axis=1, inplace=True)"
   ]
  },
  {
   "cell_type": "code",
   "execution_count": 8,
   "id": "c30b8bf6-cbe7-4308-b337-8ba57be90e2e",
   "metadata": {},
   "outputs": [],
   "source": []
  },
  {
   "cell_type": "code",
   "execution_count": 12,
   "id": "0319c95f-6ef3-4324-92b8-a940ca3dd07d",
   "metadata": {},
   "outputs": [],
   "source": [
    "# set all <0 fsts --> 0 https://www.biostars.org/p/132253/\n",
    "df.loc[df.fst<0, 'fst'] = 0"
   ]
  },
  {
   "cell_type": "code",
   "execution_count": null,
   "id": "f782acff-697b-4060-bbd9-4c774e33bfa0",
   "metadata": {},
   "outputs": [],
   "source": [
    "assert"
   ]
  },
  {
   "cell_type": "code",
   "execution_count": 20,
   "id": "f1e87040-34f5-453c-95e7-8cea84ebb2b7",
   "metadata": {},
   "outputs": [],
   "source": [
    "# add up each fst per contrast and exon\n",
    "gb_cols = ['eid', 'novelty', 'pop1_det', 'pop2_det',\n",
    "            'pop1', 'pop2']\n",
    "keep_cols = gb_cols+['fst']\n",
    "# df = df.groupby(gb_cols)"
   ]
  },
  {
   "cell_type": "code",
   "execution_count": 22,
   "id": "79a3cbad-fcfd-4736-ba86-1c877e7fd82f",
   "metadata": {},
   "outputs": [
    {
     "ename": "AssertionError",
     "evalue": "",
     "output_type": "error",
     "traceback": [
      "\u001b[0;31m---------------------------------------------------------------------------\u001b[0m",
      "\u001b[0;31mAssertionError\u001b[0m                            Traceback (most recent call last)",
      "\u001b[0;32m<ipython-input-22-53011ecd346f>\u001b[0m in \u001b[0;36m<module>\u001b[0;34m\u001b[0m\n\u001b[1;32m      1\u001b[0m \u001b[0;31m# make sure there are no dupe eid + contrast + var. posiition\u001b[0m\u001b[0;34m\u001b[0m\u001b[0;34m\u001b[0m\u001b[0;34m\u001b[0m\u001b[0m\n\u001b[0;32m----> 2\u001b[0;31m \u001b[0;32massert\u001b[0m \u001b[0mlen\u001b[0m\u001b[0;34m(\u001b[0m\u001b[0mdf\u001b[0m\u001b[0;34m[\u001b[0m\u001b[0mgb_cols\u001b[0m\u001b[0;34m+\u001b[0m\u001b[0;34m[\u001b[0m\u001b[0;34m'End_b'\u001b[0m\u001b[0;34m,\u001b[0m \u001b[0;34m'Start_b'\u001b[0m\u001b[0;34m]\u001b[0m\u001b[0;34m]\u001b[0m\u001b[0;34m.\u001b[0m\u001b[0mdrop_duplicates\u001b[0m\u001b[0;34m(\u001b[0m\u001b[0;34m)\u001b[0m\u001b[0;34m.\u001b[0m\u001b[0mindex\u001b[0m\u001b[0;34m)\u001b[0m \u001b[0;34m==\u001b[0m \u001b[0mlen\u001b[0m\u001b[0;34m(\u001b[0m\u001b[0mdf\u001b[0m\u001b[0;34m.\u001b[0m\u001b[0mindex\u001b[0m\u001b[0;34m)\u001b[0m\u001b[0;34m\u001b[0m\u001b[0;34m\u001b[0m\u001b[0m\n\u001b[0m",
      "\u001b[0;31mAssertionError\u001b[0m: "
     ]
    }
   ],
   "source": [
    "# make sure there are no dupe eid + contrast + var. posiition\n",
    "assert len(df[gb_cols+['End_b', 'Start_b']].drop_duplicates().index) == len(df.index)"
   ]
  },
  {
   "cell_type": "code",
   "execution_count": null,
   "id": "124b4a05-dd58-4446-8582-9e09ee2204d5",
   "metadata": {},
   "outputs": [],
   "source": [
    "df.loc[df[gb_cols+['End_b', 'Start_b']].duplicated(keep=True)].sort_values()"
   ]
  },
  {
   "cell_type": "code",
   "execution_count": null,
   "id": "59b2e3a8-58ab-4ea5-9b16-061c6272caf6",
   "metadata": {},
   "outputs": [],
   "source": [
    "# get length of each exon\n",
    "df['elen'] = df['End']-df['Start']"
   ]
  }
 ],
 "metadata": {
  "kernelspec": {
   "display_name": "Python 3",
   "language": "python",
   "name": "python3"
  },
  "language_info": {
   "codemirror_mode": {
    "name": "ipython",
    "version": 3
   },
   "file_extension": ".py",
   "mimetype": "text/x-python",
   "name": "python",
   "nbconvert_exporter": "python",
   "pygments_lexer": "ipython3",
   "version": "3.7.12"
  }
 },
 "nbformat": 4,
 "nbformat_minor": 5
}
