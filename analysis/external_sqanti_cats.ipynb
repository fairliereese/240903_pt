{
 "cells": [
  {
   "cell_type": "code",
   "execution_count": 2,
   "id": "e432ffe5-5f2a-418c-92cc-14b0ce80b79c",
   "metadata": {},
   "outputs": [],
   "source": [
    "import pandas as pd\n",
    "import numpy as np\n",
    "import scipy.stats as st\n",
    "import seaborn as sns\n",
    "import sys\n",
    "import os\n",
    "import matplotlib.pyplot as plt\n",
    "import swan_vis as swan\n",
    "import yaml\n",
    "from snakemake.io import expand\n",
    "import cerberus\n",
    "import pyranges as pr\n",
    "import upsetplot\n",
    "\n",
    "p = os.path.dirname(os.getcwd())\n",
    "sys.path.append(p)\n",
    "\n",
    "from scripts.utils import *\n",
    "from scripts.vcf_utils import *\n",
    "from scripts.plotting import *"
   ]
  },
  {
   "cell_type": "code",
   "execution_count": 3,
   "id": "1e92d095-37be-4233-8960-c5defb09c301",
   "metadata": {},
   "outputs": [],
   "source": [
    "def clean_figure(ax):\n",
    "    ax.spines['right'].set_visible(False)\n",
    "    ax.spines['top'].set_visible(False)\n",
    "    ax.tick_params(axis=\"x\", rotation=45)"
   ]
  },
  {
   "cell_type": "code",
   "execution_count": 5,
   "id": "df6d95a4-067f-44dd-84e3-c553010bee07",
   "metadata": {},
   "outputs": [],
   "source": [
    "config = load_config()\n",
    "od = '../snakemake/compare_external/'"
   ]
  },
  {
   "cell_type": "markdown",
   "id": "ee4a512e-69ec-4ad7-8c28-9410932922f1",
   "metadata": {},
   "source": [
    "## Get novelty compositions of the other things"
   ]
  },
  {
   "cell_type": "code",
   "execution_count": 6,
   "id": "45fa637c-998d-4153-ab55-0069bf8bae7d",
   "metadata": {},
   "outputs": [
    {
     "name": "stdout",
     "output_type": "stream",
     "text": [
      "387944\n",
      "387944\n"
     ]
    }
   ],
   "source": [
    "f_dir = '/Users/fairliereese/Documents/programming/mele_lab/projects/240903_pt/ref/compare_external/'\n",
    "files = [f'{f_dir}gtex_sqanti_classification.txt',\n",
    "     f'{f_dir}enc_sqanti_classification.txt']\n",
    "refs = ['GTEx', 'ENCODE4']\n",
    "for f, r in zip(files, refs):\n",
    "    df = pd.read_csv(f, sep='\\t')\n",
    "    print(len(df))"
   ]
  },
  {
   "cell_type": "code",
   "execution_count": null,
   "id": "e01a3194-4171-433c-a995-2ff0cc91c14f",
   "metadata": {},
   "outputs": [],
   "source": []
  }
 ],
 "metadata": {
  "kernelspec": {
   "display_name": "Python 3",
   "language": "python",
   "name": "python3"
  },
  "language_info": {
   "codemirror_mode": {
    "name": "ipython",
    "version": 3
   },
   "file_extension": ".py",
   "mimetype": "text/x-python",
   "name": "python",
   "nbconvert_exporter": "python",
   "pygments_lexer": "ipython3",
   "version": "3.7.12"
  }
 },
 "nbformat": 4,
 "nbformat_minor": 5
}
