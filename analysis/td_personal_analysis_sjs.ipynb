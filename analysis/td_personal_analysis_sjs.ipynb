{
 "cells": [
  {
   "cell_type": "code",
   "execution_count": 1,
   "id": "89d4c8b1-cfee-4aa8-9123-232f8c782cd4",
   "metadata": {},
   "outputs": [],
   "source": [
    "import pandas as pd\n",
    "import numpy as np\n",
    "import scipy.stats as st\n",
    "import seaborn as sns\n",
    "import sys\n",
    "import os\n",
    "import matplotlib.pyplot as plt\n",
    "import swan_vis as swan\n",
    "import yaml\n",
    "from snakemake.io import expand\n",
    "import cerberus\n",
    "import pyranges as pr\n",
    "import upsetplot\n",
    "\n",
    "p = os.path.dirname(os.getcwd())\n",
    "sys.path.append(p)\n",
    "\n",
    "from scripts.utils import *\n",
    "from scripts.vcf_utils import *\n",
    "from scripts.plotting import *"
   ]
  },
  {
   "cell_type": "code",
   "execution_count": 4,
   "id": "7e5ef781-d0c6-4f5f-bfb2-58e4622e3c29",
   "metadata": {},
   "outputs": [],
   "source": [
    "config = load_config()\n",
    "od = '../'\n",
    "\n",
    "def proc_cfg(entry, od):\n",
    "    entry = entry.replace('../../', '')\n",
    "    entry = od+entry\n",
    "    return entry"
   ]
  },
  {
   "cell_type": "code",
   "execution_count": 5,
   "id": "1cde570c-7ad0-4261-984b-9e706eb2fc65",
   "metadata": {},
   "outputs": [],
   "source": [
    "df = load_meta()\n",
    "df = df.loc[~df['sample'].str.contains('_')]\n",
    "df['lab_sample'] = df['lab_number_sample'].astype(str)+'_'+\\\n",
    "                      df['lab_sampleid'].astype(str)+'_'+\\\n",
    "                      df['cell_line_id'].astype(str)\n",
    "df = df[['cell_line_id', 'sample', 'hapmap_DNA_ID', 'lab_sample', 'population']].drop_duplicates()\n",
    "\n",
    "temp_df = pd.read_csv('../snakemake/transcript_discovery_personal/cell_line_ids.txt', header=None, names=['cell_line_id'])\n",
    "\n",
    "# make a 1000g cell line id col\n",
    "df['cell_line_id_1000g'] = df.cell_line_id\n",
    "\n",
    "inds = df.loc[~df.cell_line_id_1000g.isin(temp_df.cell_line_id.tolist())].index\n",
    "df.loc[inds, 'cell_line_id_1000g'] = df.loc[inds, 'hapmap_DNA_ID']\n",
    "len(df.index)\n",
    "\n",
    "# limit to just those in 1000g\n",
    "df = df.loc[df.cell_line_id_1000g.isin(temp_df.cell_line_id.tolist())]\n",
    "assert len(df.index) == 30\n",
    "\n",
    "# TODO bad sample that hasn't finished on espresso\n",
    "bad_samples = ['NA19328']\n",
    "df = df.loc[~df.cell_line_id_1000g.isin(bad_samples)]\n",
    "\n",
    "hap = ['hap1', 'hap2']\n",
    "\n",
    "meta_df = df.copy(deep=True)"
   ]
  },
  {
   "cell_type": "markdown",
   "id": "d5b3ee7a-3cad-43ca-a309-1b94aff299b4",
   "metadata": {},
   "source": [
    "## Raw # ICs detected per sample per map haplotype"
   ]
  },
  {
   "cell_type": "code",
   "execution_count": 17,
   "id": "292297b0-ad17-43a1-8373-46aadb4e25af",
   "metadata": {},
   "outputs": [
    {
     "name": "stdout",
     "output_type": "stream",
     "text": [
      "24934518\n",
      "8311506\n"
     ]
    }
   ],
   "source": [
    "file = proc_cfg(config['lr']['td_personal']['sqanti']['sj_summary'],od)\n",
    "df = pd.read_csv(file)\n",
    "df.drop('Unnamed: 0', axis=1, inplace=True)\n",
    "\n",
    "# remove sqanti genome and drop dupes\n",
    "# the sqanti genome / sqanti metrics SHOULD be irrelevant here\n",
    "df = df.drop(['sqanti_genome', 'canonical', 'splice_motif'], axis=1)\n",
    "print(len(df.index))\n",
    "df = df.drop_duplicates()\n",
    "print(len(df.index))\n",
    "\n",
    "df.head()\n",
    "\n",
    "# then make sure that there are no dupe. ic+structural cat+sample+map genome\n",
    "temp = df.loc[df[['sj_id', 'junction_novelty',\n",
    "                  'cell_line_id', 'map_genome', 'start_site_novelty',\n",
    "                  'end_site_category']].duplicated(keep=False)]\n",
    "assert len(temp.index) == 0\n",
    "del temp\n",
    "\n",
    "df.rename({'end_site_category': 'end_site_novelty'}, axis=1, inplace=True)\n",
    "\n",
    "# transform to be t/f for each ic per genome\n",
    "temp = pd.crosstab(index=[df.sj_id, df.junction_novelty,\n",
    "                                 df.start_site_novelty,\n",
    "                                 df.end_site_novelty, df.cell_line_id], \n",
    "                          columns=df.map_genome, \n",
    "                          values=df.map_genome, \n",
    "                          aggfunc=lambda x: True).fillna(False).reset_index()"
   ]
  },
  {
   "cell_type": "code",
   "execution_count": 23,
   "id": "599f39ea-e313-41d3-b75c-ed7b2c412369",
   "metadata": {},
   "outputs": [
    {
     "data": {
      "text/plain": [
       "{'matrix': <AxesSubplot:>,\n",
       " 'shading': <AxesSubplot:>,\n",
       " 'totals': <AxesSubplot:>,\n",
       " 'intersections': <AxesSubplot:ylabel='Intersection size'>}"
      ]
     },
     "execution_count": 23,
     "metadata": {},
     "output_type": "execute_result"
    },
    {
     "data": {
      "image/png": "[encoded data removed]",
      "text/plain": [
       "<Figure size 384x288 with 4 Axes>"
      ]
     },
     "metadata": {
      "needs_background": "light"
     },
     "output_type": "display_data"
    }
   ],
   "source": [
    "map_genomes = ['hg38', 'hap1', 'hap2']\n",
    "temp = temp.set_index(map_genomes)\n",
    "\n",
    "c_dict, order = get_novelty_colors()\n",
    "init_plot_settings()\n",
    "upset = upsetplot.UpSet(df_crosstab)\n",
    "upset.plot()"
   ]
  },
  {
   "cell_type": "code",
   "execution_count": 24,
   "id": "f2bdee3f-e71e-4b53-a565-ab1fd86ba641",
   "metadata": {},
   "outputs": [
    {
     "data": {
      "text/html": [
       "<div>\n",
       "<style scoped>\n",
       "    .dataframe tbody tr th:only-of-type {\n",
       "        vertical-align: middle;\n",
       "    }\n",
       "\n",
       "    .dataframe tbody tr th {\n",
       "        vertical-align: top;\n",
       "    }\n",
       "\n",
       "    .dataframe thead th {\n",
       "        text-align: right;\n",
       "    }\n",
       "</style>\n",
       "<table border=\"1\" class=\"dataframe\">\n",
       "  <thead>\n",
       "    <tr style=\"text-align: right;\">\n",
       "      <th></th>\n",
       "      <th>sj_id</th>\n",
       "      <th>junction_novelty</th>\n",
       "      <th>start_site_novelty</th>\n",
       "      <th>end_site_novelty</th>\n",
       "      <th>cell_line_id</th>\n",
       "      <th>map_genome</th>\n",
       "    </tr>\n",
       "  </thead>\n",
       "  <tbody>\n",
       "    <tr>\n",
       "      <th>0</th>\n",
       "      <td>KI270741.1_+_44470_47849</td>\n",
       "      <td>known</td>\n",
       "      <td>known</td>\n",
       "      <td>known</td>\n",
       "      <td>NA12273</td>\n",
       "      <td>hg38</td>\n",
       "    </tr>\n",
       "    <tr>\n",
       "      <th>1</th>\n",
       "      <td>KI270741.1_+_48008_52058</td>\n",
       "      <td>known</td>\n",
       "      <td>known</td>\n",
       "      <td>known</td>\n",
       "      <td>NA12273</td>\n",
       "      <td>hg38</td>\n",
       "    </tr>\n",
       "    <tr>\n",
       "      <th>2</th>\n",
       "      <td>KI270741.1_+_52137_130639</td>\n",
       "      <td>known</td>\n",
       "      <td>known</td>\n",
       "      <td>known</td>\n",
       "      <td>NA12273</td>\n",
       "      <td>hg38</td>\n",
       "    </tr>\n",
       "    <tr>\n",
       "      <th>3</th>\n",
       "      <td>KI270741.1_+_44470_47948</td>\n",
       "      <td>known</td>\n",
       "      <td>known</td>\n",
       "      <td>known</td>\n",
       "      <td>NA12273</td>\n",
       "      <td>hg38</td>\n",
       "    </tr>\n",
       "    <tr>\n",
       "      <th>4</th>\n",
       "      <td>GL000224.1_+_102592_105978</td>\n",
       "      <td>known</td>\n",
       "      <td>known</td>\n",
       "      <td>known</td>\n",
       "      <td>NA12273</td>\n",
       "      <td>hg38</td>\n",
       "    </tr>\n",
       "  </tbody>\n",
       "</table>\n",
       "</div>"
      ],
      "text/plain": [
       "                        sj_id junction_novelty start_site_novelty  \\\n",
       "0    KI270741.1_+_44470_47849            known              known   \n",
       "1    KI270741.1_+_48008_52058            known              known   \n",
       "2   KI270741.1_+_52137_130639            known              known   \n",
       "3    KI270741.1_+_44470_47948            known              known   \n",
       "4  GL000224.1_+_102592_105978            known              known   \n",
       "\n",
       "  end_site_novelty cell_line_id map_genome  \n",
       "0            known      NA12273       hg38  \n",
       "1            known      NA12273       hg38  \n",
       "2            known      NA12273       hg38  \n",
       "3            known      NA12273       hg38  \n",
       "4            known      NA12273       hg38  "
      ]
     },
     "execution_count": 24,
     "metadata": {},
     "output_type": "execute_result"
    }
   ],
   "source": [
    "df.head()"
   ]
  },
  {
   "cell_type": "code",
   "execution_count": 26,
   "id": "dcd60fab-11f1-45a8-b3cb-d761ba5670b8",
   "metadata": {},
   "outputs": [
    {
     "name": "stdout",
     "output_type": "stream",
     "text": [
      "hap1 vs hg38: Wilcoxon stat = 465.0, p-value = 0.000\n",
      "hap2 vs hg38: Wilcoxon stat = 465.0, p-value = 0.000\n"
     ]
    }
   ],
   "source": [
    "# just look at raw counts differences\n",
    "temp = df[['sj_id', 'cell_line_id', 'map_genome']].groupby(['cell_line_id', 'map_genome']).nunique().reset_index().rename({'sj_id':'n_sj'}, axis=1)\n",
    "\n",
    "# do paired wilcoxon tests for each haplotype\n",
    "temp = temp.pivot(index='cell_line_id', columns='map_genome', values='n_sj').reset_index()\n",
    "\n",
    "# Wilcoxon test: hap1 vs hg38. hyp is that hap1 > hg38\n",
    "stat, pval = st.wilcoxon(temp['hap1'].tolist(), temp['hg38'].tolist(), alternative='greater')\n",
    "print(f\"hap1 vs hg38: Wilcoxon stat = {stat}, p-value = {pval:.3f}\")\n",
    "\n",
    "\n",
    "# Wilcoxon test: hap2 vs hg38. hyp is that hap2 > hg38\n",
    "stat, pval = st.wilcoxon(temp['hap2'].tolist(), temp['hg38'].tolist(), alternative='greater')\n",
    "print(f\"hap2 vs hg38: Wilcoxon stat = {stat}, p-value = {pval:.3f}\")"
   ]
  },
  {
   "cell_type": "code",
   "execution_count": 27,
   "id": "e5851817-3093-4f16-86dc-02ec44c21dd5",
   "metadata": {},
   "outputs": [],
   "source": [
    "temp['hap1_diff'] = temp['hap1']-temp['hg38']\n",
    "temp['hap2_diff'] = temp['hap2']-temp['hg38']\n",
    "temp['hap1_perc_diff'] = (temp['hap1_diff']/temp['hg38'])*100\n",
    "temp['hap2_perc_diff'] = (temp['hap2_diff']/temp['hg38'])*100"
   ]
  },
  {
   "cell_type": "code",
   "execution_count": 28,
   "id": "443de5d0-3881-4ebf-b6a2-b7e2b44de985",
   "metadata": {},
   "outputs": [
    {
     "data": {
      "text/plain": [
       "496.0"
      ]
     },
     "execution_count": 28,
     "metadata": {},
     "output_type": "execute_result"
    }
   ],
   "source": [
    "import statistics\n",
    "thing = temp.hap1_diff.tolist()+temp.hap2_diff.tolist()\n",
    "statistics.median(thing)"
   ]
  },
  {
   "cell_type": "code",
   "execution_count": 29,
   "id": "4d8eee27-de25-4e22-8ae8-4719cbf3b666",
   "metadata": {},
   "outputs": [
    {
     "data": {
      "text/plain": [
       "0.551372618109572"
      ]
     },
     "execution_count": 29,
     "metadata": {},
     "output_type": "execute_result"
    }
   ],
   "source": [
    "import statistics\n",
    "thing = temp.hap1_perc_diff.tolist()+temp.hap2_perc_diff.tolist()\n",
    "statistics.median(thing)"
   ]
  },
  {
   "cell_type": "code",
   "execution_count": 30,
   "id": "0b8a5d9f-5f55-4084-900c-c8080eab7971",
   "metadata": {},
   "outputs": [
    {
     "name": "stdout",
     "output_type": "stream",
     "text": [
      "0\n",
      "0\n"
     ]
    }
   ],
   "source": [
    "print(len(temp.loc[temp.hap1_diff<0]))\n",
    "print(len(temp.loc[temp.hap2_diff<0]))"
   ]
  },
  {
   "cell_type": "code",
   "execution_count": 31,
   "id": "37eed203-168a-4854-8b36-794f0140a8cd",
   "metadata": {},
   "outputs": [
    {
     "data": {
      "image/png": "[encoded data removed]",
      "text/plain": [
       "<Figure size 576x360 with 1 Axes>"
      ]
     },
     "metadata": {
      "needs_background": "light"
     },
     "output_type": "display_data"
    }
   ],
   "source": [
    "# visualization\n",
    "init_plot_settings(aspect='square')\n",
    "temp2 = temp.melt(id_vars=['cell_line_id'], \n",
    "                      value_vars=['hap1', 'hap2', 'hg38'], \n",
    "                      var_name='map_genome', \n",
    "                      value_name='n_sj')\n",
    "temp2 = temp2.merge(meta_df[['cell_line_id_1000g', 'population']],\n",
    "                    how='left',\n",
    "                    left_on='cell_line_id',\n",
    "                    right_on='cell_line_id_1000g')\n",
    "\n",
    "# Plot\n",
    "plt.figure(figsize=(8, 5))\n",
    "sns.lineplot(data=temp2, x='map_genome', y='n_sj', hue='cell_line_id', marker='o', palette=\"tab10\",\n",
    "             linewidth=2, alpha=0.6, legend=False)\n",
    "\n",
    "plt.ylabel(\"# SJs\")\n",
    "plt.xlabel(\"Mapping+transcript discovery genome\")\n",
    "plt.grid(True)\n",
    "plt.show()"
   ]
  },
  {
   "cell_type": "code",
   "execution_count": null,
   "id": "82dc468e-f874-494f-9ef7-80012b7ca7be",
   "metadata": {},
   "outputs": [],
   "source": []
  },
  {
   "cell_type": "code",
   "execution_count": null,
   "id": "4a65994d-749e-4f07-a93b-9e47457eebf3",
   "metadata": {},
   "outputs": [],
   "source": []
  },
  {
   "cell_type": "code",
   "execution_count": null,
   "id": "d95bbfcb-938d-4daa-a325-818d1482309d",
   "metadata": {},
   "outputs": [],
   "source": []
  },
  {
   "cell_type": "code",
   "execution_count": null,
   "id": "0f1abe72-535f-4ea6-98ad-a0888efef922",
   "metadata": {},
   "outputs": [],
   "source": []
  },
  {
   "cell_type": "code",
   "execution_count": null,
   "id": "85182ded-f8fe-4328-83f8-173bed3bf412",
   "metadata": {},
   "outputs": [],
   "source": []
  },
  {
   "cell_type": "code",
   "execution_count": null,
   "id": "2122135a-c654-40c8-a554-708a054d4364",
   "metadata": {},
   "outputs": [],
   "source": []
  },
  {
   "cell_type": "code",
   "execution_count": null,
   "id": "9bbeac89-1c0a-4326-91fd-2c52e64ac3cf",
   "metadata": {},
   "outputs": [],
   "source": []
  },
  {
   "cell_type": "code",
   "execution_count": null,
   "id": "cf891d7f-73f0-4d74-9261-c0b4aaeab050",
   "metadata": {},
   "outputs": [],
   "source": []
  },
  {
   "cell_type": "code",
   "execution_count": null,
   "id": "9175a064-104b-4f2b-b427-a2f7742794f4",
   "metadata": {},
   "outputs": [],
   "source": []
  },
  {
   "cell_type": "code",
   "execution_count": null,
   "id": "4c06a0d7-c7f0-4584-9d50-5fe15a987e10",
   "metadata": {},
   "outputs": [],
   "source": []
  },
  {
   "cell_type": "markdown",
   "id": "d53f27c3-a450-456e-9e11-b90b909dca5e",
   "metadata": {},
   "source": []
  }
 ],
 "metadata": {
  "kernelspec": {
   "display_name": "Python 3",
   "language": "python",
   "name": "python3"
  },
  "language_info": {
   "codemirror_mode": {
    "name": "ipython",
    "version": 3
   },
   "file_extension": ".py",
   "mimetype": "text/x-python",
   "name": "python",
   "nbconvert_exporter": "python",
   "pygments_lexer": "ipython3",
   "version": "3.7.12"
  }
 },
 "nbformat": 4,
 "nbformat_minor": 5
}
