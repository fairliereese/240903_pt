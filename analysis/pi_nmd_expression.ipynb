{
 "cells": [
  {
   "cell_type": "markdown",
   "id": "640fb2d6-2289-4406-8650-195f758eda15",
   "metadata": {},
   "source": [
    "## Compute pi values for protein coding genes for isoforms that are NMD vs. not"
   ]
  },
  {
   "cell_type": "code",
   "execution_count": 6,
   "id": "7c273d9b-472b-499d-bf6a-95973bdaf8a7",
   "metadata": {},
   "outputs": [],
   "source": [
    "import pandas as pd\n",
    "import numpy as np\n",
    "import scipy.stats as st\n",
    "import seaborn as sns\n",
    "import sys\n",
    "import os\n",
    "import matplotlib.pyplot as plt\n",
    "import swan_vis as swan\n",
    "import yaml\n",
    "from snakemake.io import expand\n",
    "import cerberus\n",
    "import pyranges as pr\n",
    "import upsetplot\n",
    "\n",
    "p = os.path.dirname(os.getcwd())\n",
    "sys.path.append(p)\n",
    "\n",
    "from scripts.utils import *\n",
    "from scripts.vcf_utils import *\n",
    "from scripts.plotting import *"
   ]
  },
  {
   "cell_type": "code",
   "execution_count": 44,
   "id": "107d5833-2581-4c46-af13-635e2154261c",
   "metadata": {},
   "outputs": [],
   "source": [
    "config = load_config()\n",
    "od = '../'\n",
    "\n",
    "def proc_cfg(entry, od):\n",
    "    entry = entry.replace('../../', '')\n",
    "    entry = od+entry\n",
    "    return entry"
   ]
  },
  {
   "cell_type": "code",
   "execution_count": null,
   "id": "f551260c-f622-483f-bcae-b37cc679712a",
   "metadata": {},
   "outputs": [],
   "source": [
    "# master table\n",
    "mt_df = pd.read_csv('../data/05_mastertable/master_table.tsv', sep='\\t')\n",
    "mt_df = mt_df.loc[mt_df['filter']=='pass']\n",
    "mt_df['pop_spec_t'] = (mt_df.population_sharing==1)&\\\n",
    "                      (mt_df.sample_sharing>1)"
   ]
  },
  {
   "cell_type": "code",
   "execution_count": 46,
   "id": "8a721655-24e7-4942-9570-4a6c082a3ae5",
   "metadata": {},
   "outputs": [],
   "source": [
    "def get_melted_pi_counts_table(ver='poder', min_t_cpm=None):\n",
    "    assemblies = ['same_population_sample', 'afr_sample', 'european_sample']\n",
    "    meta = load_meta()\n",
    "    meta = meta.loc[meta.merged_run_mode==True]\n",
    "    sample_d = dict([(entry.cell_line_id, entry['sample']) \\\n",
    "                     for ind, entry in meta.iterrows()])\n",
    "    \n",
    "    \n",
    "    if ver == 'poder':\n",
    "        f = expand(proc_cfg(config['lr']['kallisto']['quant']['merge_matrix_tpm_tsv'],od))[0]\n",
    "    elif ver == 'v47':\n",
    "        f = expand(proc_cfg(config['lr']['v47_kallisto']['quant']['merge_matrix_tpm_tsv'],od))[0]\n",
    "    df = pd.read_csv(f, sep='\\t')\n",
    "    df.head()\n",
    "    df.columns = [d if d == 'transcript_id' else d.split('_')[0] for d in df.columns]\n",
    "    df.rename({'transcript_id':'tid'}, axis=1, inplace=True)\n",
    "    df.rename(sample_d, axis=1, inplace=True)\n",
    "\n",
    "    \n",
    "    id_vars = ['tid']\n",
    "    sample_columns = list(set(df.columns)-set(id_vars))\n",
    "    tpm_df = df.melt(id_vars=id_vars, value_vars=sample_columns, \n",
    "                      var_name='sample', value_name='t_tpm')\n",
    "    tpm_df = tpm_df.merge(meta[['sample', 'population']],\n",
    "                          how='left', on='sample')\n",
    "    tpm_df.head()\n",
    "    \n",
    "    if ver == 'poder':\n",
    "        f = '../data/analysis/04_relative_abundances_allgenes_pantrx.tsv'\n",
    "    elif ver == 'v47':\n",
    "        f = '../data/analysis/04_relative_abundances_allgenes_gencode.tsv'\n",
    "    df = pd.read_csv(f, sep='\\t')\n",
    "    df.sort_values(by='geneid.v').head()\n",
    "    df.rename({'geneid.v':'gid', 'transcriptid.v':'tid'}, axis=1, inplace=True)\n",
    "    id_vars = ['tid', 'gid']\n",
    "    sample_columns = list(set(df.columns)-set(id_vars))\n",
    "    df = df.melt(id_vars=id_vars, value_vars=sample_columns, \n",
    "                      var_name='sample', value_name='pi')\n",
    "\n",
    "    \n",
    "    # filter based on min. cpm\n",
    "    df = df.merge(tpm_df, how='left',\n",
    "                  on=['tid', 'sample'])\n",
    "    \n",
    "    \n",
    "    # add gene expression\n",
    "    ver = 'poder'\n",
    "    if ver == 'poder':\n",
    "        f = expand(proc_cfg(config['lr']['kallisto']['quant']['gene_tpm_tsv'],od))[0]\n",
    "    elif ver == 'v47':\n",
    "        f = expand(proc_cfg(config['lr']['v47_kallisto']['quant']['gene_tpm_tsv'],od))[0]\n",
    "    gene_df = pd.read_csv(f, sep='\\t')\n",
    "    gene_df.head()\n",
    "    gene_df.sort_values(by='geneid.v').head()\n",
    "    gene_df.rename({'geneid.v':'gid'}, axis=1, inplace=True)\n",
    "    id_vars = ['gid']\n",
    "    sample_columns = list(set(gene_df.columns)-set(id_vars))\n",
    "    gene_df = gene_df.melt(id_vars=id_vars, value_vars=sample_columns, \n",
    "                      var_name='sample', value_name='g_tpm')\n",
    "    gene_df.head()\n",
    "    \n",
    "    # filter based on min. cpm\n",
    "    df = df.merge(gene_df, how='left',\n",
    "                  on=['gid', 'sample'])\n",
    "    \n",
    "    \n",
    "    if min_t_cpm:\n",
    "        df = df.loc[df.t_tpm >= min_t_cpm]\n",
    "        \n",
    "    return df"
   ]
  },
  {
   "cell_type": "code",
   "execution_count": 47,
   "id": "169387fb-9be4-44c9-9d95-39b930283bb4",
   "metadata": {},
   "outputs": [],
   "source": [
    "df = get_melted_pi_counts_table()"
   ]
  },
  {
   "cell_type": "code",
   "execution_count": 49,
   "id": "ecac21d0-845a-4e04-8d8a-2105740c9655",
   "metadata": {},
   "outputs": [],
   "source": [
    "# read in protein table\n",
    "# TODO replace with the new on PODER\n",
    "# master table\n",
    "f = expand(proc_cfg(config['lr']['protein']['summary'],od))[0]\n",
    "p_df = pd.read_csv(f, sep='\\t')"
   ]
  },
  {
   "cell_type": "code",
   "execution_count": 50,
   "id": "87ff8b52-af67-4e78-accc-ef8d8d2cd5c5",
   "metadata": {},
   "outputs": [],
   "source": [
    "p_df = p_df[['tid', 'protein_has_start_codon', 'protein_has_stop_codon', 'protein_is_nmd']]"
   ]
  },
  {
   "cell_type": "code",
   "execution_count": 51,
   "id": "3f0804de-7c96-4583-85bb-86527b8f817a",
   "metadata": {},
   "outputs": [
    {
     "data": {
      "text/html": [
       "<div>\n",
       "<style scoped>\n",
       "    .dataframe tbody tr th:only-of-type {\n",
       "        vertical-align: middle;\n",
       "    }\n",
       "\n",
       "    .dataframe tbody tr th {\n",
       "        vertical-align: top;\n",
       "    }\n",
       "\n",
       "    .dataframe thead th {\n",
       "        text-align: right;\n",
       "    }\n",
       "</style>\n",
       "<table border=\"1\" class=\"dataframe\">\n",
       "  <thead>\n",
       "    <tr style=\"text-align: right;\">\n",
       "      <th></th>\n",
       "      <th>tid</th>\n",
       "      <th>gid</th>\n",
       "      <th>sample</th>\n",
       "      <th>pi</th>\n",
       "      <th>t_tpm</th>\n",
       "      <th>population</th>\n",
       "      <th>g_tpm</th>\n",
       "    </tr>\n",
       "  </thead>\n",
       "  <tbody>\n",
       "    <tr>\n",
       "      <th>0</th>\n",
       "      <td>ENST00000010132.6</td>\n",
       "      <td>ENSG00000010219.14</td>\n",
       "      <td>CEU1</td>\n",
       "      <td>0.362282</td>\n",
       "      <td>10.64560</td>\n",
       "      <td>CEU</td>\n",
       "      <td>29.384669</td>\n",
       "    </tr>\n",
       "    <tr>\n",
       "      <th>1</th>\n",
       "      <td>ENST00000013894.3</td>\n",
       "      <td>ENSG00000011198.10</td>\n",
       "      <td>CEU1</td>\n",
       "      <td>0.000000</td>\n",
       "      <td>0.00000</td>\n",
       "      <td>CEU</td>\n",
       "      <td>4.804048</td>\n",
       "    </tr>\n",
       "    <tr>\n",
       "      <th>2</th>\n",
       "      <td>ENST00000075120.12</td>\n",
       "      <td>ENSG00000059804.18</td>\n",
       "      <td>CEU1</td>\n",
       "      <td>0.446028</td>\n",
       "      <td>4.43585</td>\n",
       "      <td>CEU</td>\n",
       "      <td>9.945228</td>\n",
       "    </tr>\n",
       "    <tr>\n",
       "      <th>3</th>\n",
       "      <td>ENST00000155093.8</td>\n",
       "      <td>ENSG00000067646.12</td>\n",
       "      <td>CEU1</td>\n",
       "      <td>0.000000</td>\n",
       "      <td>0.00000</td>\n",
       "      <td>CEU</td>\n",
       "      <td>0.000000</td>\n",
       "    </tr>\n",
       "    <tr>\n",
       "      <th>4</th>\n",
       "      <td>ENST00000156084.8</td>\n",
       "      <td>ENSG00000068308.15</td>\n",
       "      <td>CEU1</td>\n",
       "      <td>0.000000</td>\n",
       "      <td>0.00000</td>\n",
       "      <td>CEU</td>\n",
       "      <td>4.466921</td>\n",
       "    </tr>\n",
       "  </tbody>\n",
       "</table>\n",
       "</div>"
      ],
      "text/plain": [
       "                  tid                 gid sample        pi     t_tpm  \\\n",
       "0   ENST00000010132.6  ENSG00000010219.14   CEU1  0.362282  10.64560   \n",
       "1   ENST00000013894.3  ENSG00000011198.10   CEU1  0.000000   0.00000   \n",
       "2  ENST00000075120.12  ENSG00000059804.18   CEU1  0.446028   4.43585   \n",
       "3   ENST00000155093.8  ENSG00000067646.12   CEU1  0.000000   0.00000   \n",
       "4   ENST00000156084.8  ENSG00000068308.15   CEU1  0.000000   0.00000   \n",
       "\n",
       "  population      g_tpm  \n",
       "0        CEU  29.384669  \n",
       "1        CEU   4.804048  \n",
       "2        CEU   9.945228  \n",
       "3        CEU   0.000000  \n",
       "4        CEU   4.466921  "
      ]
     },
     "execution_count": 51,
     "metadata": {},
     "output_type": "execute_result"
    }
   ],
   "source": [
    "df.head()"
   ]
  },
  {
   "cell_type": "code",
   "execution_count": 52,
   "id": "b47a9bca-ba5c-4d4a-9afa-328cd35e6fcf",
   "metadata": {},
   "outputs": [],
   "source": [
    "# inner merge, make sure they are the same len before and after (once we have prot. info from full poder)\n",
    "# TODO -- what do we do with transcripts that don't have an ORF? what category do those go into?\n",
    "# need to change to left merge when I have full infromation\n",
    "l1 = len(df.index)\n",
    "df = df.merge(p_df, \n",
    "              how='inner',\n",
    "              on='tid')\n",
    "l2 = len(df.index)\n",
    "# assert l1 == l2"
   ]
  },
  {
   "cell_type": "code",
   "execution_count": 53,
   "id": "65267450-b7cd-4871-88c4-8bbe064fc713",
   "metadata": {},
   "outputs": [],
   "source": [
    "# \n",
    "df['orf_cat'] = 'Incomplete'\n",
    "df.loc[(df.protein_has_start_codon==True)&\\\n",
    "       (df.protein_has_stop_codon==True), 'orf_cat'] = 'Coding'\n",
    "df.loc[df['protein_is_nmd']==True, 'orf_cat'] = 'NMD'\n",
    "\n",
    "# df.loc[(df.protein_has_start_codon.isnull())|\\\n",
    "#        (df.protein_has_stop_codon.isnull()), 'orf_cat'] = 'Incomplete'\n",
    "# df.loc[(df.protein_has_start_codon==False)|\\\n",
    "#        (df.protein_has_stop_codon==False), 'orf_cat'] = 'Incomplete'"
   ]
  },
  {
   "cell_type": "code",
   "execution_count": 54,
   "id": "1b994022-3123-4050-be32-eb3d7d518ab0",
   "metadata": {},
   "outputs": [
    {
     "data": {
      "text/html": [
       "<div>\n",
       "<style scoped>\n",
       "    .dataframe tbody tr th:only-of-type {\n",
       "        vertical-align: middle;\n",
       "    }\n",
       "\n",
       "    .dataframe tbody tr th {\n",
       "        vertical-align: top;\n",
       "    }\n",
       "\n",
       "    .dataframe thead th {\n",
       "        text-align: right;\n",
       "    }\n",
       "</style>\n",
       "<table border=\"1\" class=\"dataframe\">\n",
       "  <thead>\n",
       "    <tr style=\"text-align: right;\">\n",
       "      <th></th>\n",
       "      <th>protein_has_start_codon</th>\n",
       "      <th>protein_has_stop_codon</th>\n",
       "      <th>protein_is_nmd</th>\n",
       "      <th>orf_cat</th>\n",
       "    </tr>\n",
       "  </thead>\n",
       "  <tbody>\n",
       "    <tr>\n",
       "      <th>0</th>\n",
       "      <td>True</td>\n",
       "      <td>True</td>\n",
       "      <td>False</td>\n",
       "      <td>Coding</td>\n",
       "    </tr>\n",
       "    <tr>\n",
       "      <th>387</th>\n",
       "      <td>True</td>\n",
       "      <td>True</td>\n",
       "      <td>True</td>\n",
       "      <td>NMD</td>\n",
       "    </tr>\n",
       "  </tbody>\n",
       "</table>\n",
       "</div>"
      ],
      "text/plain": [
       "     protein_has_start_codon  protein_has_stop_codon  protein_is_nmd orf_cat\n",
       "0                       True                    True           False  Coding\n",
       "387                     True                    True            True     NMD"
      ]
     },
     "execution_count": 54,
     "metadata": {},
     "output_type": "execute_result"
    }
   ],
   "source": [
    "df[['protein_has_start_codon','protein_has_stop_codon','protein_is_nmd','orf_cat']].drop_duplicates()"
   ]
  },
  {
   "cell_type": "code",
   "execution_count": 55,
   "id": "fb006e7f-40c1-4240-84ce-5efa70e133dc",
   "metadata": {},
   "outputs": [
    {
     "data": {
      "text/html": [
       "<div>\n",
       "<style scoped>\n",
       "    .dataframe tbody tr th:only-of-type {\n",
       "        vertical-align: middle;\n",
       "    }\n",
       "\n",
       "    .dataframe tbody tr th {\n",
       "        vertical-align: top;\n",
       "    }\n",
       "\n",
       "    .dataframe thead th {\n",
       "        text-align: right;\n",
       "    }\n",
       "</style>\n",
       "<table border=\"1\" class=\"dataframe\">\n",
       "  <thead>\n",
       "    <tr style=\"text-align: right;\">\n",
       "      <th></th>\n",
       "      <th>tid</th>\n",
       "      <th>gid</th>\n",
       "      <th>sample</th>\n",
       "      <th>pi</th>\n",
       "      <th>t_tpm</th>\n",
       "      <th>population</th>\n",
       "      <th>g_tpm</th>\n",
       "      <th>protein_has_start_codon</th>\n",
       "      <th>protein_has_stop_codon</th>\n",
       "      <th>protein_is_nmd</th>\n",
       "      <th>orf_cat</th>\n",
       "    </tr>\n",
       "  </thead>\n",
       "  <tbody>\n",
       "    <tr>\n",
       "      <th>0</th>\n",
       "      <td>transcript_100</td>\n",
       "      <td>ENSG00000308185.1</td>\n",
       "      <td>CEU1</td>\n",
       "      <td>0.0</td>\n",
       "      <td>0.0</td>\n",
       "      <td>CEU</td>\n",
       "      <td>3.011820</td>\n",
       "      <td>True</td>\n",
       "      <td>True</td>\n",
       "      <td>False</td>\n",
       "      <td>Coding</td>\n",
       "    </tr>\n",
       "    <tr>\n",
       "      <th>1</th>\n",
       "      <td>transcript_100</td>\n",
       "      <td>ENSG00000308185.1</td>\n",
       "      <td>ITU2</td>\n",
       "      <td>0.0</td>\n",
       "      <td>0.0</td>\n",
       "      <td>ITU</td>\n",
       "      <td>1.880657</td>\n",
       "      <td>True</td>\n",
       "      <td>True</td>\n",
       "      <td>False</td>\n",
       "      <td>Coding</td>\n",
       "    </tr>\n",
       "    <tr>\n",
       "      <th>2</th>\n",
       "      <td>transcript_100</td>\n",
       "      <td>ENSG00000308185.1</td>\n",
       "      <td>HAC1</td>\n",
       "      <td>0.0</td>\n",
       "      <td>0.0</td>\n",
       "      <td>HAC</td>\n",
       "      <td>1.591464</td>\n",
       "      <td>True</td>\n",
       "      <td>True</td>\n",
       "      <td>False</td>\n",
       "      <td>Coding</td>\n",
       "    </tr>\n",
       "    <tr>\n",
       "      <th>3</th>\n",
       "      <td>transcript_100</td>\n",
       "      <td>ENSG00000308185.1</td>\n",
       "      <td>HAC2</td>\n",
       "      <td>0.0</td>\n",
       "      <td>0.0</td>\n",
       "      <td>HAC</td>\n",
       "      <td>1.677377</td>\n",
       "      <td>True</td>\n",
       "      <td>True</td>\n",
       "      <td>False</td>\n",
       "      <td>Coding</td>\n",
       "    </tr>\n",
       "    <tr>\n",
       "      <th>4</th>\n",
       "      <td>transcript_100</td>\n",
       "      <td>ENSG00000308185.1</td>\n",
       "      <td>MPC4</td>\n",
       "      <td>0.0</td>\n",
       "      <td>0.0</td>\n",
       "      <td>MPC</td>\n",
       "      <td>1.652327</td>\n",
       "      <td>True</td>\n",
       "      <td>True</td>\n",
       "      <td>False</td>\n",
       "      <td>Coding</td>\n",
       "    </tr>\n",
       "  </tbody>\n",
       "</table>\n",
       "</div>"
      ],
      "text/plain": [
       "              tid                gid sample   pi  t_tpm population     g_tpm  \\\n",
       "0  transcript_100  ENSG00000308185.1   CEU1  0.0    0.0        CEU  3.011820   \n",
       "1  transcript_100  ENSG00000308185.1   ITU2  0.0    0.0        ITU  1.880657   \n",
       "2  transcript_100  ENSG00000308185.1   HAC1  0.0    0.0        HAC  1.591464   \n",
       "3  transcript_100  ENSG00000308185.1   HAC2  0.0    0.0        HAC  1.677377   \n",
       "4  transcript_100  ENSG00000308185.1   MPC4  0.0    0.0        MPC  1.652327   \n",
       "\n",
       "   protein_has_start_codon  protein_has_stop_codon  protein_is_nmd orf_cat  \n",
       "0                     True                    True           False  Coding  \n",
       "1                     True                    True           False  Coding  \n",
       "2                     True                    True           False  Coding  \n",
       "3                     True                    True           False  Coding  \n",
       "4                     True                    True           False  Coding  "
      ]
     },
     "execution_count": 55,
     "metadata": {},
     "output_type": "execute_result"
    }
   ],
   "source": [
    "df.head()"
   ]
  },
  {
   "cell_type": "code",
   "execution_count": 56,
   "id": "c0a11ddb-8d99-406a-b84c-f9d68bb2d41f",
   "metadata": {},
   "outputs": [],
   "source": [
    "# get pi per orf categroy\n",
    "df = df[['gid', 'sample', 'population', 'pi', 'orf_cat']].groupby(['gid', 'orf_cat', 'sample', 'population']).sum().reset_index()"
   ]
  },
  {
   "cell_type": "code",
   "execution_count": 57,
   "id": "7699513d-1613-45be-a2e2-0058c29483b2",
   "metadata": {},
   "outputs": [],
   "source": [
    "# get gene expression values\n",
    "g_df = get_melted_pi_counts_table()"
   ]
  },
  {
   "cell_type": "code",
   "execution_count": 60,
   "id": "fa9336de-b2c6-4bcc-80ee-2f20d5fa7c41",
   "metadata": {},
   "outputs": [],
   "source": [
    "df = df.merge(g_df[['gid', 'sample', 'g_tpm']].drop_duplicates(),\n",
    "              how='left',\n",
    "              on=['sample', 'gid'])"
   ]
  },
  {
   "cell_type": "code",
   "execution_count": 62,
   "id": "b2ce2b12-2bfe-47fd-845c-8d468ab23d15",
   "metadata": {},
   "outputs": [
    {
     "data": {
      "text/plain": [
       "<seaborn.axisgrid.JointGrid at 0x7f81d4c9e150>"
      ]
     },
     "execution_count": 62,
     "metadata": {},
     "output_type": "execute_result"
    },
    {
     "data": {
      "image/png": "[encoded data removed]",
      "text/plain": [
       "<Figure size 432x432 with 3 Axes>"
      ]
     },
     "metadata": {
      "needs_background": "light"
     },
     "output_type": "display_data"
    }
   ],
   "source": [
    "# choose NMD values only\n",
    "df = df.loc[df.orf_cat == 'NMD']\n",
    "sns.jointplot(df, x='pi', y='g_tpm')"
   ]
  },
  {
   "cell_type": "code",
   "execution_count": null,
   "id": "3f721043-19b9-4ac9-8b76-154c128e706f",
   "metadata": {},
   "outputs": [],
   "source": []
  }
 ],
 "metadata": {
  "kernelspec": {
   "display_name": "Python 3",
   "language": "python",
   "name": "python3"
  },
  "language_info": {
   "codemirror_mode": {
    "name": "ipython",
    "version": 3
   },
   "file_extension": ".py",
   "mimetype": "text/x-python",
   "name": "python",
   "nbconvert_exporter": "python",
   "pygments_lexer": "ipython3",
   "version": "3.7.12"
  }
 },
 "nbformat": 4,
 "nbformat_minor": 5
}
