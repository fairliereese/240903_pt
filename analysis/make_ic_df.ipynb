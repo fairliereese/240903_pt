{
 "cells": [
  {
   "cell_type": "code",
   "execution_count": 1,
   "id": "06096a48-b8c1-4ad9-9412-39bae91b2726",
   "metadata": {},
   "outputs": [],
   "source": [
    "import pyranges as pr\n",
    "import cerberus"
   ]
  },
  {
   "cell_type": "code",
   "execution_count": null,
   "id": "360f1cbc-fa2d-480e-8738-8c35c20b0835",
   "metadata": {},
   "outputs": [],
   "source": []
  },
  {
   "cell_type": "code",
   "execution_count": 3,
   "id": "09d773f7-acb6-469c-b892-41d42acded3b",
   "metadata": {},
   "outputs": [],
   "source": [
    "gtf_path = '/Users/fairliereese/Documents/programming/mele_lab/projects/240903_pt/data/transcripts_filt_with_gene.gtf'\n",
    "gtf = pr.read_gtf(gtf_path)\n",
    "\n",
    "# get list of ics from each\n",
    "ics = cerberus.get_ic(gtf)"
   ]
  },
  {
   "cell_type": "code",
   "execution_count": 4,
   "id": "936f3644-c90f-407a-8501-0de529f3de91",
   "metadata": {},
   "outputs": [],
   "source": [
    "ics.to_csv('poder_ics.tsv', sep='\\t', index=False)"
   ]
  },
  {
   "cell_type": "code",
   "execution_count": 9,
   "id": "3389f0e8-38e5-4d2f-840b-f5245d298510",
   "metadata": {},
   "outputs": [
    {
     "data": {
      "text/plain": [
       "['105486972-105487212-105487299-105488165-105488260-105488330-105488388-105488470-105488516-105488662',\n",
       " '105487299-105488165-105488260-105488330-105488388-105488470-105488516-105488662']"
      ]
     },
     "execution_count": 9,
     "metadata": {},
     "output_type": "execute_result"
    }
   ],
   "source": [
    "ics.loc[ics.transcript_id.isin(['transcript_49761', 'transcript_49784'])].ic.tolist()"
   ]
  },
  {
   "cell_type": "code",
   "execution_count": null,
   "id": "99298fbd-ad1c-41a4-adf8-d357af640356",
   "metadata": {},
   "outputs": [],
   "source": []
  }
 ],
 "metadata": {
  "kernelspec": {
   "display_name": "Python 3",
   "language": "python",
   "name": "python3"
  },
  "language_info": {
   "codemirror_mode": {
    "name": "ipython",
    "version": 3
   },
   "file_extension": ".py",
   "mimetype": "text/x-python",
   "name": "python",
   "nbconvert_exporter": "python",
   "pygments_lexer": "ipython3",
   "version": "3.7.12"
  }
 },
 "nbformat": 4,
 "nbformat_minor": 5
}
