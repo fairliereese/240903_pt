{
 "cells": [
  {
   "cell_type": "markdown",
   "id": "1e9d3221-70f5-4a12-8fd9-f9ed722b12ca",
   "metadata": {},
   "source": [
    "## Look at expression levels for the two transcripts w/ novel exons we see in the different populations"
   ]
  },
  {
   "cell_type": "code",
   "execution_count": 1,
   "id": "be6224cf-19ba-4330-84bb-77b9b01aba2c",
   "metadata": {},
   "outputs": [],
   "source": [
    "import pandas as pd\n",
    "import numpy as np\n",
    "import scipy.stats as st\n",
    "import seaborn as sns\n",
    "import sys\n",
    "import os\n",
    "import matplotlib.pyplot as plt\n",
    "import swan_vis as swan\n",
    "import yaml\n",
    "from snakemake.io import expand\n",
    "import cerberus\n",
    "import pyranges as pr\n",
    "import upsetplot\n",
    "\n",
    "p = os.path.dirname(os.getcwd())\n",
    "sys.path.append(p)\n",
    "\n",
    "from scripts.utils import *\n",
    "from scripts.vcf_utils import *\n",
    "from scripts.plotting import *"
   ]
  },
  {
   "cell_type": "code",
   "execution_count": 4,
   "id": "3f6d82dc-9962-40e8-ba2e-5eceafd19f43",
   "metadata": {},
   "outputs": [],
   "source": [
    "config = load_config()\n",
    "od = '../'\n",
    "\n",
    "def proc_cfg(entry, od):\n",
    "    entry = entry.replace('../../', '')\n",
    "    entry = od+entry\n",
    "    return entry"
   ]
  },
  {
   "cell_type": "code",
   "execution_count": 5,
   "id": "740bce06-62d6-4e3d-b2ba-5b20bef172b5",
   "metadata": {},
   "outputs": [],
   "source": [
    "tids = ['transcript_347490', 'transcript_347547']"
   ]
  },
  {
   "cell_type": "code",
   "execution_count": 6,
   "id": "8e6a3293-9856-4e78-a3df-6b1a1157ded7",
   "metadata": {},
   "outputs": [],
   "source": [
    "meta = load_meta()\n",
    "meta = meta.loc[meta.merged_run_mode==True]\n",
    "sample_d = dict([(entry.cell_line_id, entry['sample']) \\\n",
    "                 for ind, entry in meta.iterrows()])\n",
    "    \n",
    "    \n",
    "\n",
    "f = expand(proc_cfg(config['lr']['kallisto']['quant']['merge_matrix_tpm_tsv'],od))[0]\n",
    "df = pd.read_csv(f, sep='\\t')\n",
    "df.head()\n",
    "df.columns = [d if d == 'transcript_id' else d.split('_')[0] for d in df.columns]\n",
    "df.rename({'transcript_id':'tid'}, axis=1, inplace=True)\n",
    "df.rename(sample_d, axis=1, inplace=True)"
   ]
  },
  {
   "cell_type": "code",
   "execution_count": 8,
   "id": "50aa895a-0024-479d-9320-759855d0d797",
   "metadata": {},
   "outputs": [
    {
     "data": {
      "text/html": [
       "<div>\n",
       "<style scoped>\n",
       "    .dataframe tbody tr th:only-of-type {\n",
       "        vertical-align: middle;\n",
       "    }\n",
       "\n",
       "    .dataframe tbody tr th {\n",
       "        vertical-align: top;\n",
       "    }\n",
       "\n",
       "    .dataframe thead th {\n",
       "        text-align: right;\n",
       "    }\n",
       "</style>\n",
       "<table border=\"1\" class=\"dataframe\">\n",
       "  <thead>\n",
       "    <tr style=\"text-align: right;\">\n",
       "      <th></th>\n",
       "      <th>tid</th>\n",
       "      <th>sample</th>\n",
       "      <th>counts</th>\n",
       "    </tr>\n",
       "  </thead>\n",
       "  <tbody>\n",
       "    <tr>\n",
       "      <th>0</th>\n",
       "      <td>ENST00000413811.3</td>\n",
       "      <td>YRI5</td>\n",
       "      <td>0.000000</td>\n",
       "    </tr>\n",
       "    <tr>\n",
       "      <th>1</th>\n",
       "      <td>transcript_6675</td>\n",
       "      <td>YRI5</td>\n",
       "      <td>0.393218</td>\n",
       "    </tr>\n",
       "    <tr>\n",
       "      <th>2</th>\n",
       "      <td>transcript_6676</td>\n",
       "      <td>YRI5</td>\n",
       "      <td>0.956060</td>\n",
       "    </tr>\n",
       "    <tr>\n",
       "      <th>3</th>\n",
       "      <td>transcript_6684</td>\n",
       "      <td>YRI5</td>\n",
       "      <td>0.196609</td>\n",
       "    </tr>\n",
       "    <tr>\n",
       "      <th>4</th>\n",
       "      <td>transcript_6687</td>\n",
       "      <td>YRI5</td>\n",
       "      <td>0.000000</td>\n",
       "    </tr>\n",
       "  </tbody>\n",
       "</table>\n",
       "</div>"
      ],
      "text/plain": [
       "                 tid sample    counts\n",
       "0  ENST00000413811.3   YRI5  0.000000\n",
       "1    transcript_6675   YRI5  0.393218\n",
       "2    transcript_6676   YRI5  0.956060\n",
       "3    transcript_6684   YRI5  0.196609\n",
       "4    transcript_6687   YRI5  0.000000"
      ]
     },
     "execution_count": 8,
     "metadata": {},
     "output_type": "execute_result"
    }
   ],
   "source": [
    "# melt \n",
    "df = df.melt(id_vars=['tid'], var_name='sample', value_name='counts')\n",
    "df.head()"
   ]
  },
  {
   "cell_type": "code",
   "execution_count": 9,
   "id": "dcee5da1-29d1-47c5-8f23-bb5d00c506a3",
   "metadata": {},
   "outputs": [],
   "source": [
    "# merge\n",
    "df = df.merge(meta[['sample', 'population']], \n",
    "              how='left',\n",
    "              on='sample')"
   ]
  },
  {
   "cell_type": "code",
   "execution_count": 12,
   "id": "0037553e-8106-4620-b421-2161897a2a9e",
   "metadata": {},
   "outputs": [
    {
     "data": {
      "text/html": [
       "<div>\n",
       "<style scoped>\n",
       "    .dataframe tbody tr th:only-of-type {\n",
       "        vertical-align: middle;\n",
       "    }\n",
       "\n",
       "    .dataframe tbody tr th {\n",
       "        vertical-align: top;\n",
       "    }\n",
       "\n",
       "    .dataframe thead th {\n",
       "        text-align: right;\n",
       "    }\n",
       "</style>\n",
       "<table border=\"1\" class=\"dataframe\">\n",
       "  <thead>\n",
       "    <tr style=\"text-align: right;\">\n",
       "      <th></th>\n",
       "      <th>tid</th>\n",
       "      <th>sample</th>\n",
       "      <th>counts</th>\n",
       "      <th>population</th>\n",
       "    </tr>\n",
       "  </thead>\n",
       "  <tbody>\n",
       "    <tr>\n",
       "      <th>55052</th>\n",
       "      <td>transcript_347490</td>\n",
       "      <td>YRI5</td>\n",
       "      <td>0.000000</td>\n",
       "      <td>YRI</td>\n",
       "    </tr>\n",
       "    <tr>\n",
       "      <th>210927</th>\n",
       "      <td>transcript_347490</td>\n",
       "      <td>YRI6</td>\n",
       "      <td>0.000031</td>\n",
       "      <td>YRI</td>\n",
       "    </tr>\n",
       "    <tr>\n",
       "      <th>366802</th>\n",
       "      <td>transcript_347490</td>\n",
       "      <td>YRI7</td>\n",
       "      <td>0.000000</td>\n",
       "      <td>YRI</td>\n",
       "    </tr>\n",
       "    <tr>\n",
       "      <th>522677</th>\n",
       "      <td>transcript_347490</td>\n",
       "      <td>HAC1</td>\n",
       "      <td>0.000000</td>\n",
       "      <td>HAC</td>\n",
       "    </tr>\n",
       "    <tr>\n",
       "      <th>678552</th>\n",
       "      <td>transcript_347490</td>\n",
       "      <td>HAC2</td>\n",
       "      <td>0.000000</td>\n",
       "      <td>HAC</td>\n",
       "    </tr>\n",
       "  </tbody>\n",
       "</table>\n",
       "</div>"
      ],
      "text/plain": [
       "                      tid sample    counts population\n",
       "55052   transcript_347490   YRI5  0.000000        YRI\n",
       "210927  transcript_347490   YRI6  0.000031        YRI\n",
       "366802  transcript_347490   YRI7  0.000000        YRI\n",
       "522677  transcript_347490   HAC1  0.000000        HAC\n",
       "678552  transcript_347490   HAC2  0.000000        HAC"
      ]
     },
     "execution_count": 12,
     "metadata": {},
     "output_type": "execute_result"
    }
   ],
   "source": [
    "temp.head()"
   ]
  },
  {
   "cell_type": "code",
   "execution_count": 16,
   "id": "ea4902b9-1b63-49e0-ba3f-00eb092fa46b",
   "metadata": {},
   "outputs": [
    {
     "name": "stderr",
     "output_type": "stream",
     "text": [
      "/Users/fairliereese/miniconda3/lib/python3.7/site-packages/ipykernel_launcher.py:9: FutureWarning: Passing `palette` without assigning `hue` is deprecated.\n",
      "  if __name__ == '__main__':\n",
      "/Users/fairliereese/miniconda3/lib/python3.7/site-packages/seaborn/categorical.py:3544: UserWarning: 16.7% of the points cannot be placed; you may want to decrease the size of the markers or use stripplot.\n",
      "  warnings.warn(msg, UserWarning)\n"
     ]
    },
    {
     "data": {
      "image/png": "[encoded data removed]",
      "text/plain": [
       "<Figure size 360x360 with 1 Axes>"
      ]
     },
     "metadata": {
      "needs_background": "light"
     },
     "output_type": "display_data"
    },
    {
     "name": "stderr",
     "output_type": "stream",
     "text": [
      "/Users/fairliereese/miniconda3/lib/python3.7/site-packages/ipykernel_launcher.py:9: FutureWarning: Passing `palette` without assigning `hue` is deprecated.\n",
      "  if __name__ == '__main__':\n"
     ]
    },
    {
     "data": {
      "image/png": "[encoded data removed]",
      "text/plain": [
       "<Figure size 360x360 with 1 Axes>"
      ]
     },
     "metadata": {
      "needs_background": "light"
     },
     "output_type": "display_data"
    }
   ],
   "source": [
    "c_dict, order = get_population_colors()\n",
    "init_plot_settings()\n",
    "for t in tids:\n",
    "    temp = df.loc[df.tid==t].copy(deep=True)\n",
    "    ax = sns.swarmplot(temp, \n",
    "                y='counts', \n",
    "                x='population', \n",
    "                palette=c_dict, \n",
    "                order=order)\n",
    "    ax.set(title=t)\n",
    "    plt.show()\n",
    "    "
   ]
  },
  {
   "cell_type": "code",
   "execution_count": null,
   "id": "4307238b-196f-4045-96f2-766327f60dea",
   "metadata": {},
   "outputs": [],
   "source": []
  }
 ],
 "metadata": {
  "kernelspec": {
   "display_name": "Python 3",
   "language": "python",
   "name": "python3"
  },
  "language_info": {
   "codemirror_mode": {
    "name": "ipython",
    "version": 3
   },
   "file_extension": ".py",
   "mimetype": "text/x-python",
   "name": "python",
   "nbconvert_exporter": "python",
   "pygments_lexer": "ipython3",
   "version": "3.7.12"
  }
 },
 "nbformat": 4,
 "nbformat_minor": 5
}
