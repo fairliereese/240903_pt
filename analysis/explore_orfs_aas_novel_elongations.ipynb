{
 "cells": [
  {
   "cell_type": "markdown",
   "id": "34a43144-4320-4558-8b71-d29500e29bb8",
   "metadata": {},
   "source": [
    "## Goal: What % of novel AA sequences from novel trancripts represent elongations of annotated ORFs?"
   ]
  },
  {
   "cell_type": "code",
   "execution_count": 1,
   "id": "63a2826f-e525-4ee1-b997-424c8e2bd140",
   "metadata": {},
   "outputs": [],
   "source": [
    "import pandas as pd\n",
    "import numpy as np\n",
    "import scipy.stats as st\n",
    "import seaborn as sns\n",
    "import sys\n",
    "import os\n",
    "import matplotlib.pyplot as plt\n",
    "import swan_vis as swan\n",
    "import yaml\n",
    "from snakemake.io import expand\n",
    "import cerberus\n",
    "import pyranges as pr\n",
    "from pyfaidx import Fasta\n",
    "import upsetplot\n",
    "from pandarallel import pandarallel\n",
    "\n",
    "p = os.path.dirname(os.getcwd())\n",
    "sys.path.append(p)\n",
    "\n",
    "from scripts.utils import *\n",
    "from scripts.vcf_utils import *\n",
    "from scripts.plotting import *"
   ]
  },
  {
   "cell_type": "code",
   "execution_count": 2,
   "id": "e36c342e-bb17-41d8-97f8-8bb88ddb32da",
   "metadata": {},
   "outputs": [],
   "source": [
    "config = load_config()\n",
    "od = '../'\n",
    "\n",
    "def proc_cfg(entry, od):\n",
    "    entry = entry.replace('../../', '')\n",
    "    entry = od+entry\n",
    "    return entry"
   ]
  },
  {
   "cell_type": "code",
   "execution_count": 7,
   "id": "a4f13445-32fa-40e9-8859-e811712e4c29",
   "metadata": {},
   "outputs": [],
   "source": [
    "df = pd.read_csv('241124_long_struct_cat_aa_cat.tsv', sep='\\t')\n",
    "df[['isoform', 'aa_seq_novelty', 'structural_category']].groupby(['aa_seq_novelty', 'structural_category']).nunique().rename({'isoform':'n_t'}, axis=1)\n",
    "\n",
    "# limit to novel transcript --> novel aa\n",
    "df = df.loc[(df.structural_category.isin(['NIC', 'NNC']))&(df.aa_seq_novelty=='Novel')]"
   ]
  },
  {
   "cell_type": "code",
   "execution_count": 9,
   "id": "034f0891-37b7-4bc6-9cc7-0722e71f716a",
   "metadata": {},
   "outputs": [],
   "source": [
    "# get annotated AA sequencesa\n",
    "fasta_file = proc_cfg(config['ref']['pc'], od)\n",
    "fasta = Fasta(fasta_file)\n",
    "\n",
    "# Extract each entry's name and sequence\n",
    "ref_orfs = {\n",
    "    \"name\": [entry.name for entry in fasta],\n",
    "    \"seq\": [str(entry) for entry in fasta]\n",
    "}\n",
    "\n",
    "ref_orfs = pd.DataFrame(ref_orfs)\n",
    "ref_orfs['gid'] =  ref_orfs.name.str.split('|', expand=True)[2]\n",
    "ref_orfs['tid'] = ref_orfs.name.str.split('|', expand=True)[1]"
   ]
  },
  {
   "cell_type": "code",
   "execution_count": 10,
   "id": "70a5fc1d-e9ea-4d7b-abd9-97673b154929",
   "metadata": {},
   "outputs": [],
   "source": [
    "# 2. truncated AA match\n",
    "def get_aa_seq_elongations(x, ref_orfs):\n",
    "    # limit to just references from same gene\n",
    "    temp = ref_orfs.loc[ref_orfs.gid == x.gid]\n",
    "    for ind, entry in temp.iterrows():\n",
    "        if entry.seq in x.seq:\n",
    "            return True\n",
    "    return False\n",
    "\n",
    "df['elong_annot_aa'] = df.apply(lambda x: get_aa_seq_elongations(x, ref_orfs), axis=1)"
   ]
  },
  {
   "cell_type": "code",
   "execution_count": 11,
   "id": "2b53ec2b-8ab9-430d-b932-733079a45b8a",
   "metadata": {},
   "outputs": [
    {
     "name": "stdout",
     "output_type": "stream",
     "text": [
      "Number of novel isoforms w/ novel aa chains that are elongations:\n"
     ]
    },
    {
     "data": {
      "text/html": [
       "<div>\n",
       "<style scoped>\n",
       "    .dataframe tbody tr th:only-of-type {\n",
       "        vertical-align: middle;\n",
       "    }\n",
       "\n",
       "    .dataframe tbody tr th {\n",
       "        vertical-align: top;\n",
       "    }\n",
       "\n",
       "    .dataframe thead th {\n",
       "        text-align: right;\n",
       "    }\n",
       "</style>\n",
       "<table border=\"1\" class=\"dataframe\">\n",
       "  <thead>\n",
       "    <tr style=\"text-align: right;\">\n",
       "      <th></th>\n",
       "      <th>elong_annot_aa</th>\n",
       "      <th>isoform</th>\n",
       "    </tr>\n",
       "  </thead>\n",
       "  <tbody>\n",
       "    <tr>\n",
       "      <th>0</th>\n",
       "      <td>False</td>\n",
       "      <td>13401</td>\n",
       "    </tr>\n",
       "    <tr>\n",
       "      <th>1</th>\n",
       "      <td>True</td>\n",
       "      <td>3793</td>\n",
       "    </tr>\n",
       "  </tbody>\n",
       "</table>\n",
       "</div>"
      ],
      "text/plain": [
       "   elong_annot_aa  isoform\n",
       "0           False    13401\n",
       "1            True     3793"
      ]
     },
     "execution_count": 11,
     "metadata": {},
     "output_type": "execute_result"
    }
   ],
   "source": [
    "print('Number of novel isoforms w/ novel aa chains that are elongations:')\n",
    "df[['isoform', 'elong_annot_aa']].groupby('elong_annot_aa').nunique().reset_index()"
   ]
  },
  {
   "cell_type": "code",
   "execution_count": null,
   "id": "a398d0bb-9ee5-4edb-98fd-bd83cf67c8d6",
   "metadata": {},
   "outputs": [],
   "source": []
  }
 ],
 "metadata": {
  "kernelspec": {
   "display_name": "Python 3",
   "language": "python",
   "name": "python3"
  },
  "language_info": {
   "codemirror_mode": {
    "name": "ipython",
    "version": 3
   },
   "file_extension": ".py",
   "mimetype": "text/x-python",
   "name": "python",
   "nbconvert_exporter": "python",
   "pygments_lexer": "ipython3",
   "version": "3.7.12"
  }
 },
 "nbformat": 4,
 "nbformat_minor": 5
}
