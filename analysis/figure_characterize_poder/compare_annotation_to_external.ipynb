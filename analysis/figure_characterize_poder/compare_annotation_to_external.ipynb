{
 "cells": [
  {
   "cell_type": "code",
   "execution_count": 1,
   "id": "530b691d-899c-432e-80d6-c8990bd52ed8",
   "metadata": {},
   "outputs": [],
   "source": [
    "import pandas as pd\n",
    "import numpy as np\n",
    "import scipy.stats as st\n",
    "import seaborn as sns\n",
    "import sys\n",
    "import os\n",
    "import matplotlib.pyplot as plt\n",
    "import swan_vis as swan\n",
    "import yaml\n",
    "from snakemake.io import expand\n",
    "import cerberus\n",
    "import pyranges as pr\n",
    "import upsetplot\n",
    "\n",
    "p = os.path.dirname(os.path.dirname(os.getcwd()))\n",
    "sys.path.append(p)\n",
    "\n",
    "from scripts.utils import *\n",
    "from scripts.vcf_utils import *\n",
    "from scripts.plotting import *"
   ]
  },
  {
   "cell_type": "code",
   "execution_count": 2,
   "id": "5625831c-9e2e-4ab4-aa66-89f28994e3f6",
   "metadata": {},
   "outputs": [],
   "source": [
    "def clean_figure(ax):\n",
    "    ax.spines['right'].set_visible(False)\n",
    "    ax.spines['top'].set_visible(False)\n",
    "    ax.tick_params(axis=\"x\", rotation=45)"
   ]
  },
  {
   "cell_type": "code",
   "execution_count": 3,
   "id": "99571e7d-ed61-4754-a22e-b402ea55d6fa",
   "metadata": {},
   "outputs": [],
   "source": [
    "config = load_config()\n",
    "od = '../../snakemake/compare_external/'"
   ]
  },
  {
   "cell_type": "code",
   "execution_count": 37,
   "id": "43b3f52f-a9c3-464f-8e19-6e2af847e6c2",
   "metadata": {},
   "outputs": [],
   "source": [
    "df = pd.DataFrame()\n",
    "ics = [od+config['gtex']['cerb']['ics'],\n",
    "       od+config['chess']['cerb']['ics'],\n",
    "       od+config['enc']['cerb']['ics'],\n",
    "       od+config['lr']['cerb']['ics'],\n",
    "       od+config['ref']['cerb']['ics']]\n",
    "sources = ['GTEx', 'CHESS3', 'ENCODE4', 'PODER', 'GENCODE v47']\n",
    "for ic, source in zip(ics, sources):\n",
    "    temp = pd.read_csv(ic, sep='\\t')\n",
    "    \n",
    "    # remove monoexonic, add source, drop name\n",
    "    temp = temp.loc[temp.Coordinates != '-']\n",
    "    temp['source'] = source\n",
    "    temp = temp.drop('Name', axis=1)\n",
    "    \n",
    "    df = pd.concat([df, temp], axis=0)    "
   ]
  },
  {
   "cell_type": "code",
   "execution_count": 38,
   "id": "1693153a-aede-4513-9245-b737f87af749",
   "metadata": {},
   "outputs": [],
   "source": [
    "temp = df.copy(deep=True)"
   ]
  },
  {
   "cell_type": "code",
   "execution_count": 39,
   "id": "38662976-153b-4e72-acf6-d3dff7cbff77",
   "metadata": {},
   "outputs": [],
   "source": [
    "df = df.pivot_table(\n",
    "    index=['Strand', 'Coordinates', 'Chromosome'],\n",
    "    columns='source',\n",
    "    aggfunc=lambda x: True,\n",
    "    fill_value=False).reset_index()\n",
    "# df.columns = ['_'.join(col).strip() if col[1] else col[0] for col in df.columns.values]\n",
    "df.head()\n",
    "df.reset_index(drop=True, inplace=True)"
   ]
  },
  {
   "cell_type": "code",
   "execution_count": 40,
   "id": "20383d9e-e056-44c6-8113-27897be63cde",
   "metadata": {},
   "outputs": [],
   "source": [
    "# df.loc[(df.chess==True)&(df.gtex==True)].Coordinates.tolist()[0]\n"
   ]
  },
  {
   "cell_type": "code",
   "execution_count": 41,
   "id": "324c1308-66df-4f7b-b007-86afa10c2a4f",
   "metadata": {},
   "outputs": [
    {
     "data": {
      "text/html": [
       "<div>\n",
       "<style scoped>\n",
       "    .dataframe tbody tr th:only-of-type {\n",
       "        vertical-align: middle;\n",
       "    }\n",
       "\n",
       "    .dataframe tbody tr th {\n",
       "        vertical-align: top;\n",
       "    }\n",
       "\n",
       "    .dataframe thead th {\n",
       "        text-align: right;\n",
       "    }\n",
       "</style>\n",
       "<table border=\"1\" class=\"dataframe\">\n",
       "  <thead>\n",
       "    <tr style=\"text-align: right;\">\n",
       "      <th></th>\n",
       "      <th>Chromosome</th>\n",
       "      <th>Strand</th>\n",
       "      <th>Coordinates</th>\n",
       "      <th>source</th>\n",
       "    </tr>\n",
       "  </thead>\n",
       "  <tbody>\n",
       "    <tr>\n",
       "      <th>81964</th>\n",
       "      <td>chr7</td>\n",
       "      <td>+</td>\n",
       "      <td>100015726-100019230-100019349-100023418-100023...</td>\n",
       "      <td>GTEx</td>\n",
       "    </tr>\n",
       "    <tr>\n",
       "      <th>122967</th>\n",
       "      <td>chr7</td>\n",
       "      <td>+</td>\n",
       "      <td>100015726-100019230-100019349-100023418-100023...</td>\n",
       "      <td>CHESS3</td>\n",
       "    </tr>\n",
       "  </tbody>\n",
       "</table>\n",
       "</div>"
      ],
      "text/plain": [
       "       Chromosome Strand                                        Coordinates  \\\n",
       "81964        chr7      +  100015726-100019230-100019349-100023418-100023...   \n",
       "122967       chr7      +  100015726-100019230-100019349-100023418-100023...   \n",
       "\n",
       "        source  \n",
       "81964     GTEx  \n",
       "122967  CHESS3  "
      ]
     },
     "execution_count": 41,
     "metadata": {},
     "output_type": "execute_result"
    }
   ],
   "source": [
    "temp.loc[temp.Coordinates=='100015726-100019230-100019349-100023418-100023932-100024153-100024307-100029860-100029952-100030248-100030375-100033304']"
   ]
  },
  {
   "cell_type": "code",
   "execution_count": 42,
   "id": "ced9ddd0-039a-4b80-a2d1-b624eb81a3ef",
   "metadata": {},
   "outputs": [
    {
     "data": {
      "text/html": [
       "<div>\n",
       "<style scoped>\n",
       "    .dataframe tbody tr th:only-of-type {\n",
       "        vertical-align: middle;\n",
       "    }\n",
       "\n",
       "    .dataframe tbody tr th {\n",
       "        vertical-align: top;\n",
       "    }\n",
       "\n",
       "    .dataframe thead th {\n",
       "        text-align: right;\n",
       "    }\n",
       "</style>\n",
       "<table border=\"1\" class=\"dataframe\">\n",
       "  <thead>\n",
       "    <tr style=\"text-align: right;\">\n",
       "      <th>source</th>\n",
       "      <th>Strand</th>\n",
       "      <th>Coordinates</th>\n",
       "      <th>Chromosome</th>\n",
       "      <th>CHESS3</th>\n",
       "      <th>ENCODE4</th>\n",
       "      <th>GENCODE v47</th>\n",
       "      <th>GTEx</th>\n",
       "      <th>PODER</th>\n",
       "    </tr>\n",
       "  </thead>\n",
       "  <tbody>\n",
       "    <tr>\n",
       "      <th>0</th>\n",
       "      <td>+</td>\n",
       "      <td>100000063-100008120-100008322-100011375</td>\n",
       "      <td>chr7</td>\n",
       "      <td>False</td>\n",
       "      <td>False</td>\n",
       "      <td>True</td>\n",
       "      <td>False</td>\n",
       "      <td>False</td>\n",
       "    </tr>\n",
       "    <tr>\n",
       "      <th>1</th>\n",
       "      <td>+</td>\n",
       "      <td>100006296-100007901-100008231-100037527</td>\n",
       "      <td>chr4</td>\n",
       "      <td>False</td>\n",
       "      <td>False</td>\n",
       "      <td>True</td>\n",
       "      <td>False</td>\n",
       "      <td>False</td>\n",
       "    </tr>\n",
       "    <tr>\n",
       "      <th>2</th>\n",
       "      <td>+</td>\n",
       "      <td>1000064-1000611-1000697-1000881-1000989-100146...</td>\n",
       "      <td>chr4</td>\n",
       "      <td>True</td>\n",
       "      <td>False</td>\n",
       "      <td>True</td>\n",
       "      <td>False</td>\n",
       "      <td>True</td>\n",
       "    </tr>\n",
       "    <tr>\n",
       "      <th>3</th>\n",
       "      <td>+</td>\n",
       "      <td>100008231-100024938-100025080-100025281-100025...</td>\n",
       "      <td>chr4</td>\n",
       "      <td>False</td>\n",
       "      <td>False</td>\n",
       "      <td>True</td>\n",
       "      <td>False</td>\n",
       "      <td>False</td>\n",
       "    </tr>\n",
       "    <tr>\n",
       "      <th>4</th>\n",
       "      <td>+</td>\n",
       "      <td>100015726-100019230-100019349-100023418-100023...</td>\n",
       "      <td>chr7</td>\n",
       "      <td>True</td>\n",
       "      <td>True</td>\n",
       "      <td>True</td>\n",
       "      <td>False</td>\n",
       "      <td>False</td>\n",
       "    </tr>\n",
       "  </tbody>\n",
       "</table>\n",
       "</div>"
      ],
      "text/plain": [
       "source Strand                                        Coordinates Chromosome  \\\n",
       "0           +            100000063-100008120-100008322-100011375       chr7   \n",
       "1           +            100006296-100007901-100008231-100037527       chr4   \n",
       "2           +  1000064-1000611-1000697-1000881-1000989-100146...       chr4   \n",
       "3           +  100008231-100024938-100025080-100025281-100025...       chr4   \n",
       "4           +  100015726-100019230-100019349-100023418-100023...       chr7   \n",
       "\n",
       "source CHESS3 ENCODE4 GENCODE v47   GTEx  PODER  \n",
       "0       False   False        True  False  False  \n",
       "1       False   False        True  False  False  \n",
       "2        True   False        True  False   True  \n",
       "3       False   False        True  False  False  \n",
       "4        True    True        True  False  False  "
      ]
     },
     "execution_count": 42,
     "metadata": {},
     "output_type": "execute_result"
    }
   ],
   "source": [
    "df.head()"
   ]
  },
  {
   "cell_type": "code",
   "execution_count": 43,
   "id": "05fb73a1-a77f-400b-b19d-4081a433e1db",
   "metadata": {},
   "outputs": [],
   "source": [
    "# df['id'] = df.Strand+'_'+df.Chromosome+'_'+df.Coordinates\n",
    "# df.drop(['Strand', 'Chromosome', 'Coordinates'], axis=1, inplace=True)\n",
    "# df = df.groupby(['chess', 'gtex']).count().rename({'id':'n_ics'}, axis=1)"
   ]
  },
  {
   "cell_type": "code",
   "execution_count": 44,
   "id": "cd6db513-042e-4c9c-abe4-c5b2e0607df0",
   "metadata": {},
   "outputs": [],
   "source": [
    "temp = df[sources+['Strand']].groupby(sources).count().reset_index()\n",
    "temp.rename({'Strand':'n_ic'}, axis=1, inplace=True)\n",
    "temp.head()\n",
    "df = df.merge(temp[sources+['n_ic']], \n",
    "              how='left',\n",
    "              on=sources)"
   ]
  },
  {
   "cell_type": "code",
   "execution_count": null,
   "id": "52244074-b1ad-46c2-8f3f-77ef9afadbb5",
   "metadata": {},
   "outputs": [],
   "source": []
  },
  {
   "cell_type": "code",
   "execution_count": 45,
   "id": "0ef3c6a1-b10a-4088-aadb-25e16f2a631a",
   "metadata": {},
   "outputs": [],
   "source": [
    "df.set_index(sources, inplace=True)"
   ]
  },
  {
   "cell_type": "code",
   "execution_count": 46,
   "id": "42963088-2c91-4bc5-875b-a6c3f708f584",
   "metadata": {},
   "outputs": [
    {
     "name": "stderr",
     "output_type": "stream",
     "text": [
      "1 extra bytes in post.stringData array\n",
      "'created' timestamp seems very low; regarding as unix timestamp\n",
      "Zapf NOT subset; don't know how to subset; dropped\n",
      "feat NOT subset; don't know how to subset; dropped\n",
      "meta NOT subset; don't know how to subset; dropped\n",
      "morx NOT subset; don't know how to subset; dropped\n"
     ]
    },
    {
     "data": {
      "image/png": "[encoded data removed]",
      "text/plain": [
       "<Figure size 1248x352 with 4 Axes>"
      ]
     },
     "metadata": {
      "needs_background": "light"
     },
     "output_type": "display_data"
    }
   ],
   "source": [
    "init_plot_settings(font_scale=1)\n",
    "upsetplot.plot(df, sort_by='cardinality', show_counts=True)\n",
    "plt.savefig('annot_overlap_upset.pdf', dpi=500)"
   ]
  },
  {
   "cell_type": "code",
   "execution_count": 52,
   "id": "dc5f5740-25eb-4c4e-89b3-727860a8b42f",
   "metadata": {},
   "outputs": [],
   "source": [
    "# remove entries that are past a certain number\n",
    "temp = df.loc[df.n_ic >= 21000].copy(deep=True)"
   ]
  },
  {
   "cell_type": "code",
   "execution_count": 53,
   "id": "21f9090d-0502-47af-bb58-8675290f4211",
   "metadata": {},
   "outputs": [
    {
     "name": "stderr",
     "output_type": "stream",
     "text": [
      "1 extra bytes in post.stringData array\n",
      "'created' timestamp seems very low; regarding as unix timestamp\n",
      "Zapf NOT subset; don't know how to subset; dropped\n",
      "feat NOT subset; don't know how to subset; dropped\n",
      "meta NOT subset; don't know how to subset; dropped\n",
      "morx NOT subset; don't know how to subset; dropped\n"
     ]
    },
    {
     "data": {
      "image/png": "[encoded data removed]",
      "text/plain": [
       "<Figure size 480x352 with 4 Axes>"
      ]
     },
     "metadata": {
      "needs_background": "light"
     },
     "output_type": "display_data"
    }
   ],
   "source": [
    "init_plot_settings(font_scale=1)\n",
    "upsetplot.plot(temp, sort_by='cardinality', show_counts=True)\n",
    "plt.savefig('annot_overlap_upset_short.pdf', dpi=500)"
   ]
  },
  {
   "cell_type": "markdown",
   "id": "5bf81f2f-ba67-4594-8859-efbaf214b306",
   "metadata": {},
   "source": [
    "## What about the % of novel transcripts per de novo annotation that are supported by the other annotations?"
   ]
  },
  {
   "cell_type": "code",
   "execution_count": 32,
   "id": "7a9807fb-c089-495c-be0c-00d15d4da36a",
   "metadata": {},
   "outputs": [
    {
     "data": {
      "text/html": [
       "<div>\n",
       "<style scoped>\n",
       "    .dataframe tbody tr th:only-of-type {\n",
       "        vertical-align: middle;\n",
       "    }\n",
       "\n",
       "    .dataframe tbody tr th {\n",
       "        vertical-align: top;\n",
       "    }\n",
       "\n",
       "    .dataframe thead th {\n",
       "        text-align: right;\n",
       "    }\n",
       "</style>\n",
       "<table border=\"1\" class=\"dataframe\">\n",
       "  <thead>\n",
       "    <tr style=\"text-align: right;\">\n",
       "      <th>source</th>\n",
       "      <th>GTEx</th>\n",
       "      <th>CHESS3</th>\n",
       "      <th>ENCODE4</th>\n",
       "      <th>PODER</th>\n",
       "      <th>GENCODE v47</th>\n",
       "      <th>Strand</th>\n",
       "      <th>Coordinates</th>\n",
       "      <th>Chromosome</th>\n",
       "    </tr>\n",
       "  </thead>\n",
       "  <tbody>\n",
       "    <tr>\n",
       "      <th>0</th>\n",
       "      <td>False</td>\n",
       "      <td>False</td>\n",
       "      <td>False</td>\n",
       "      <td>False</td>\n",
       "      <td>True</td>\n",
       "      <td>+</td>\n",
       "      <td>100000063-100008120-100008322-100011375</td>\n",
       "      <td>chr7</td>\n",
       "    </tr>\n",
       "    <tr>\n",
       "      <th>1</th>\n",
       "      <td>False</td>\n",
       "      <td>False</td>\n",
       "      <td>False</td>\n",
       "      <td>False</td>\n",
       "      <td>True</td>\n",
       "      <td>+</td>\n",
       "      <td>100006296-100007901-100008231-100037527</td>\n",
       "      <td>chr4</td>\n",
       "    </tr>\n",
       "    <tr>\n",
       "      <th>2</th>\n",
       "      <td>False</td>\n",
       "      <td>True</td>\n",
       "      <td>False</td>\n",
       "      <td>True</td>\n",
       "      <td>True</td>\n",
       "      <td>+</td>\n",
       "      <td>1000064-1000611-1000697-1000881-1000989-100146...</td>\n",
       "      <td>chr4</td>\n",
       "    </tr>\n",
       "    <tr>\n",
       "      <th>3</th>\n",
       "      <td>False</td>\n",
       "      <td>False</td>\n",
       "      <td>False</td>\n",
       "      <td>False</td>\n",
       "      <td>True</td>\n",
       "      <td>+</td>\n",
       "      <td>100008231-100024938-100025080-100025281-100025...</td>\n",
       "      <td>chr4</td>\n",
       "    </tr>\n",
       "    <tr>\n",
       "      <th>4</th>\n",
       "      <td>False</td>\n",
       "      <td>True</td>\n",
       "      <td>True</td>\n",
       "      <td>False</td>\n",
       "      <td>True</td>\n",
       "      <td>+</td>\n",
       "      <td>100015726-100019230-100019349-100023418-100023...</td>\n",
       "      <td>chr7</td>\n",
       "    </tr>\n",
       "  </tbody>\n",
       "</table>\n",
       "</div>"
      ],
      "text/plain": [
       "source   GTEx  CHESS3  ENCODE4  PODER  GENCODE v47 Strand  \\\n",
       "0       False   False    False  False         True      +   \n",
       "1       False   False    False  False         True      +   \n",
       "2       False    True    False   True         True      +   \n",
       "3       False   False    False  False         True      +   \n",
       "4       False    True     True  False         True      +   \n",
       "\n",
       "source                                        Coordinates Chromosome  \n",
       "0                 100000063-100008120-100008322-100011375       chr7  \n",
       "1                 100006296-100007901-100008231-100037527       chr4  \n",
       "2       1000064-1000611-1000697-1000881-1000989-100146...       chr4  \n",
       "3       100008231-100024938-100025080-100025281-100025...       chr4  \n",
       "4       100015726-100019230-100019349-100023418-100023...       chr7  "
      ]
     },
     "execution_count": 32,
     "metadata": {},
     "output_type": "execute_result"
    }
   ],
   "source": [
    "df  = df.reset_index()\n",
    "df.head()"
   ]
  },
  {
   "cell_type": "code",
   "execution_count": 33,
   "id": "3d1d96e9-67ed-4887-b3db-5745b6e0b1e6",
   "metadata": {},
   "outputs": [],
   "source": [
    "novel_sources = [s for s in sources if s != 'GENCODE v47']\n",
    "perc_df = pd.DataFrame()\n",
    "for s in novel_sources:\n",
    "    \n",
    "    # get novel transcripts from this annotation\n",
    "    temp = df.loc[(df[s] == True)&(df['GENCODE v47']==False)].copy(deep=True)\n",
    "    \n",
    "    other_nov_sources = [ns for ns in novel_sources if ns != s]\n",
    "    temp['supported_by_external'] = (df[other_nov_sources].sum(axis=1))>0\n",
    "    temp = temp[['supported_by_external', 'Coordinates']]\n",
    "\n",
    "    temp = temp.groupby('supported_by_external').count().reset_index().rename({'Coordinates':'n_ic'}, axis=1)\n",
    "    temp['dataset'] = s\n",
    "    temp['total'] = temp['n_ic'].sum(axis=0)\n",
    "    temp['perc'] = (temp['n_ic']/temp['total'])*100\n",
    "    \n",
    "    temp = temp.loc[temp.supported_by_external==True]\n",
    "    temp = temp[['dataset', 'perc', 'n_ic']]\n",
    "    perc_df = pd.concat([perc_df, temp], axis=0)"
   ]
  },
  {
   "cell_type": "code",
   "execution_count": 34,
   "id": "eeda0cde-414a-446a-a007-b56c59fbb9d9",
   "metadata": {},
   "outputs": [
    {
     "data": {
      "text/html": [
       "<div>\n",
       "<style scoped>\n",
       "    .dataframe tbody tr th:only-of-type {\n",
       "        vertical-align: middle;\n",
       "    }\n",
       "\n",
       "    .dataframe tbody tr th {\n",
       "        vertical-align: top;\n",
       "    }\n",
       "\n",
       "    .dataframe thead th {\n",
       "        text-align: right;\n",
       "    }\n",
       "</style>\n",
       "<table border=\"1\" class=\"dataframe\">\n",
       "  <thead>\n",
       "    <tr style=\"text-align: right;\">\n",
       "      <th>source</th>\n",
       "      <th>dataset</th>\n",
       "      <th>perc</th>\n",
       "      <th>n_ic</th>\n",
       "    </tr>\n",
       "  </thead>\n",
       "  <tbody>\n",
       "    <tr>\n",
       "      <th>1</th>\n",
       "      <td>GTEx</td>\n",
       "      <td>23.099094</td>\n",
       "      <td>14907</td>\n",
       "    </tr>\n",
       "    <tr>\n",
       "      <th>1</th>\n",
       "      <td>CHESS3</td>\n",
       "      <td>19.985522</td>\n",
       "      <td>14080</td>\n",
       "    </tr>\n",
       "    <tr>\n",
       "      <th>1</th>\n",
       "      <td>ENCODE4</td>\n",
       "      <td>35.909172</td>\n",
       "      <td>18044</td>\n",
       "    </tr>\n",
       "    <tr>\n",
       "      <th>1</th>\n",
       "      <td>PODER</td>\n",
       "      <td>24.699131</td>\n",
       "      <td>10200</td>\n",
       "    </tr>\n",
       "  </tbody>\n",
       "</table>\n",
       "</div>"
      ],
      "text/plain": [
       "source  dataset       perc   n_ic\n",
       "1          GTEx  23.099094  14907\n",
       "1        CHESS3  19.985522  14080\n",
       "1       ENCODE4  35.909172  18044\n",
       "1         PODER  24.699131  10200"
      ]
     },
     "execution_count": 34,
     "metadata": {},
     "output_type": "execute_result"
    }
   ],
   "source": [
    "perc_df"
   ]
  },
  {
   "cell_type": "code",
   "execution_count": 35,
   "id": "b7cdd5d6-5fc8-4ea2-9475-bc5fe9798b6d",
   "metadata": {},
   "outputs": [
    {
     "data": {
      "text/html": [
       "<div>\n",
       "<style scoped>\n",
       "    .dataframe tbody tr th:only-of-type {\n",
       "        vertical-align: middle;\n",
       "    }\n",
       "\n",
       "    .dataframe tbody tr th {\n",
       "        vertical-align: top;\n",
       "    }\n",
       "\n",
       "    .dataframe thead th {\n",
       "        text-align: right;\n",
       "    }\n",
       "</style>\n",
       "<table border=\"1\" class=\"dataframe\">\n",
       "  <thead>\n",
       "    <tr style=\"text-align: right;\">\n",
       "      <th>source</th>\n",
       "      <th>ENCODE4</th>\n",
       "      <th>GENCODE v47</th>\n",
       "      <th>Coordinates</th>\n",
       "    </tr>\n",
       "  </thead>\n",
       "  <tbody>\n",
       "    <tr>\n",
       "      <th>0</th>\n",
       "      <td>True</td>\n",
       "      <td>False</td>\n",
       "      <td>50249</td>\n",
       "    </tr>\n",
       "    <tr>\n",
       "      <th>1</th>\n",
       "      <td>True</td>\n",
       "      <td>True</td>\n",
       "      <td>84662</td>\n",
       "    </tr>\n",
       "  </tbody>\n",
       "</table>\n",
       "</div>"
      ],
      "text/plain": [
       "source  ENCODE4  GENCODE v47  Coordinates\n",
       "0          True        False        50249\n",
       "1          True         True        84662"
      ]
     },
     "execution_count": 35,
     "metadata": {},
     "output_type": "execute_result"
    }
   ],
   "source": [
    "temp2 = df.loc[df.ENCODE4==True]\n",
    "temp2[['ENCODE4', 'GENCODE v47', 'Coordinates']].groupby(['ENCODE4', 'GENCODE v47']).count().reset_index()"
   ]
  },
  {
   "cell_type": "code",
   "execution_count": 38,
   "id": "e311fa85-97cd-4ee7-b328-380b48db20bb",
   "metadata": {},
   "outputs": [
    {
     "data": {
      "image/png": "[encoded data removed]",
      "text/plain": [
       "<Figure size 360x360 with 1 Axes>"
      ]
     },
     "metadata": {
      "needs_background": "light"
     },
     "output_type": "display_data"
    }
   ],
   "source": [
    "def add_perc_2(ax, df):\n",
    "    ylim = ax.get_ylim()[1]\n",
    "    n_cats = len(ax.patches)\n",
    "    for p in ax.patches:\n",
    "        h = p.get_height()\n",
    "        tot = df.loc[df.n_ic==h, 'perc'].values[0]\n",
    "        x = p.get_x() + p.get_width() / 2 - (0.09)*n_cats\n",
    "        y = p.get_y() + p.get_height() + ylim*0.01\n",
    "        ax.annotate(f'{tot:.2f}%', (x, y), size = 18)\n",
    "\n",
    "init_plot_settings(aspect='square')\n",
    "ax = sns.barplot(perc_df, y='n_ic', \n",
    "                 x='dataset', order=['PODER', 'ENCODE4', 'CHESS3', 'GTEx'])\n",
    "add_perc_2(ax, perc_df)\n",
    "ax.set(ylabel='# novel transcripts supported\\nby external annotations',xlabel='')\n",
    "clean_figure(ax)"
   ]
  },
  {
   "cell_type": "code",
   "execution_count": 40,
   "id": "8777227b-db99-4f45-af09-78c564a57dcf",
   "metadata": {},
   "outputs": [],
   "source": [
    "perc_df.to_csv('241031_perc_supported_ics_per_annot.tsv', sep='\\t')"
   ]
  },
  {
   "cell_type": "markdown",
   "id": "0797f1fc-30da-4012-932f-e12e6e8d559a",
   "metadata": {},
   "source": [
    "## Now look at support w/ at least one other external annotation by novelty category"
   ]
  },
  {
   "cell_type": "code",
   "execution_count": 41,
   "id": "f3fcaba9-497e-45ad-b38d-b15308cb7858",
   "metadata": {},
   "outputs": [],
   "source": [
    "df.reset_index(inplace=True)\n",
    "df = df.loc[df.PODER==True]"
   ]
  },
  {
   "cell_type": "code",
   "execution_count": 42,
   "id": "213d1bf1-b09c-4125-a97d-480d271a3660",
   "metadata": {},
   "outputs": [],
   "source": [
    "# get ics again from poder, oops\n",
    "od = '../../'\n",
    "\n",
    "def proc_cfg(entry, od):\n",
    "    entry = entry.replace('../../', '')\n",
    "    entry = od+entry\n",
    "    return entry\n",
    "\n",
    "gtf_file = proc_cfg(config['lr']['gtf_filt_with_genes'], od)\n",
    "gtf_df = pr.read_gtf(gtf_file, duplicate_attr=True)"
   ]
  },
  {
   "cell_type": "code",
   "execution_count": 43,
   "id": "9004cd70-1f91-43a1-aee6-7bcccf3cfe16",
   "metadata": {},
   "outputs": [],
   "source": [
    "gtf_df = cerberus.get_ic(gtf_df)"
   ]
  },
  {
   "cell_type": "code",
   "execution_count": 44,
   "id": "e9a25c69-0f2c-478e-84d0-f4d2aa602e82",
   "metadata": {},
   "outputs": [
    {
     "data": {
      "text/html": [
       "<div>\n",
       "<style scoped>\n",
       "    .dataframe tbody tr th:only-of-type {\n",
       "        vertical-align: middle;\n",
       "    }\n",
       "\n",
       "    .dataframe tbody tr th {\n",
       "        vertical-align: top;\n",
       "    }\n",
       "\n",
       "    .dataframe thead th {\n",
       "        text-align: right;\n",
       "    }\n",
       "</style>\n",
       "<table border=\"1\" class=\"dataframe\">\n",
       "  <thead>\n",
       "    <tr style=\"text-align: right;\">\n",
       "      <th></th>\n",
       "      <th>Chromosome</th>\n",
       "      <th>Strand</th>\n",
       "      <th>transcript_id</th>\n",
       "      <th>gene_id</th>\n",
       "      <th>Coordinates</th>\n",
       "    </tr>\n",
       "  </thead>\n",
       "  <tbody>\n",
       "    <tr>\n",
       "      <th>0</th>\n",
       "      <td>GL000008.2</td>\n",
       "      <td>-</td>\n",
       "      <td>transcript_190114</td>\n",
       "      <td>ENSG00000296775.1</td>\n",
       "      <td>170271-163998-163784-162439</td>\n",
       "    </tr>\n",
       "    <tr>\n",
       "      <th>1</th>\n",
       "      <td>GL000008.2</td>\n",
       "      <td>-</td>\n",
       "      <td>transcript_190115</td>\n",
       "      <td>ENSG00000296775.1</td>\n",
       "      <td>170271-164884-164584-163998-163784-162439</td>\n",
       "    </tr>\n",
       "    <tr>\n",
       "      <th>2</th>\n",
       "      <td>GL000008.2</td>\n",
       "      <td>-</td>\n",
       "      <td>transcript_190116</td>\n",
       "      <td>ENSG00000296775.1</td>\n",
       "      <td>170271-164884-164602-157581</td>\n",
       "    </tr>\n",
       "    <tr>\n",
       "      <th>3</th>\n",
       "      <td>GL000008.2</td>\n",
       "      <td>-</td>\n",
       "      <td>transcript_190117</td>\n",
       "      <td>ENSG00000296775.1</td>\n",
       "      <td>170271-164884-164602-163998-163784-157581</td>\n",
       "    </tr>\n",
       "    <tr>\n",
       "      <th>4</th>\n",
       "      <td>GL000008.2</td>\n",
       "      <td>-</td>\n",
       "      <td>transcript_190118</td>\n",
       "      <td>ENSG00000296775.1</td>\n",
       "      <td>170271-164884-164602-163998-163784-162439</td>\n",
       "    </tr>\n",
       "  </tbody>\n",
       "</table>\n",
       "</div>"
      ],
      "text/plain": [
       "   Chromosome Strand      transcript_id            gene_id  \\\n",
       "0  GL000008.2      -  transcript_190114  ENSG00000296775.1   \n",
       "1  GL000008.2      -  transcript_190115  ENSG00000296775.1   \n",
       "2  GL000008.2      -  transcript_190116  ENSG00000296775.1   \n",
       "3  GL000008.2      -  transcript_190117  ENSG00000296775.1   \n",
       "4  GL000008.2      -  transcript_190118  ENSG00000296775.1   \n",
       "\n",
       "                                 Coordinates  \n",
       "0                170271-163998-163784-162439  \n",
       "1  170271-164884-164584-163998-163784-162439  \n",
       "2                170271-164884-164602-157581  \n",
       "3  170271-164884-164602-163998-163784-157581  \n",
       "4  170271-164884-164602-163998-163784-162439  "
      ]
     },
     "execution_count": 44,
     "metadata": {},
     "output_type": "execute_result"
    }
   ],
   "source": [
    "gtf_df.rename({'ic':'Coordinates'}, axis=1, inplace=True)\n",
    "gtf_df.head()"
   ]
  },
  {
   "cell_type": "code",
   "execution_count": 45,
   "id": "02360da9-8717-4959-82bb-d1b704281f77",
   "metadata": {},
   "outputs": [],
   "source": [
    "df = df.merge(gtf_df.drop('gene_id', axis=1),\n",
    "              how='left',\n",
    "              on=['Chromosome', 'Coordinates', 'Strand'])"
   ]
  },
  {
   "cell_type": "code",
   "execution_count": 46,
   "id": "d66324d6-eca1-4670-8315-335643df0011",
   "metadata": {},
   "outputs": [],
   "source": [
    "assert len(df.loc[df.transcript_id.isnull()]) == 0"
   ]
  },
  {
   "cell_type": "code",
   "execution_count": 47,
   "id": "008a7cce-e5e1-4865-8857-886dd599dc6e",
   "metadata": {},
   "outputs": [],
   "source": [
    "# get novelty cats from the mt\n",
    "mt_df = pd.read_csv('../../data/05_mastertable/poder_master_table.tsv', sep='\\t')\n",
    "# mt_df = mt_df.loc[mt_df['filter']=='pass']\n",
    "# mt_df['pop_spec_t'] = (mt_df.population_sharing==1)&\\\n",
    "#                       (mt_df.sample_sharing>1)\n",
    "df = df.merge(mt_df[['structural_category', 'isoform']],\n",
    "              how='left',\n",
    "              left_on='transcript_id',\n",
    "              right_on='isoform')"
   ]
  },
  {
   "cell_type": "code",
   "execution_count": 48,
   "id": "5646212b-7019-4887-abbe-a0bb82ded37d",
   "metadata": {},
   "outputs": [],
   "source": [
    "# Don't need this anymore\n",
    "# make sure our missing things are always ENST\n",
    "# assert len(df.loc[(df.isoform.isnull())]) == len(df.loc[df.transcript_id.str.startswith('ENST')])\n",
    "\n",
    "# # then fill na struct cat w/ FSM\n",
    "# df.loc[df.isoform.isnull(), 'structural_category'] = 'FSM'"
   ]
  },
  {
   "cell_type": "code",
   "execution_count": 49,
   "id": "ec50c92e-225f-404f-96aa-745cf49c050b",
   "metadata": {},
   "outputs": [],
   "source": [
    "df['supported_by_external'] = (df[['GTEx', 'CHESS3', 'ENCODE4']].sum(axis=1))>0"
   ]
  },
  {
   "cell_type": "code",
   "execution_count": 50,
   "id": "43795ff2-f749-4321-891d-b28b58c92767",
   "metadata": {},
   "outputs": [],
   "source": [
    "temp = df[['transcript_id', 'structural_category', 'supported_by_external']].groupby(['structural_category', 'supported_by_external']).count().reset_index().rename({'transcript_id':'n_t'},axis=1)"
   ]
  },
  {
   "cell_type": "code",
   "execution_count": 51,
   "id": "7a0b1912-b858-4994-8fbf-878500de3c3d",
   "metadata": {},
   "outputs": [
    {
     "data": {
      "text/html": [
       "<div>\n",
       "<style scoped>\n",
       "    .dataframe tbody tr th:only-of-type {\n",
       "        vertical-align: middle;\n",
       "    }\n",
       "\n",
       "    .dataframe tbody tr th {\n",
       "        vertical-align: top;\n",
       "    }\n",
       "\n",
       "    .dataframe thead th {\n",
       "        text-align: right;\n",
       "    }\n",
       "</style>\n",
       "<table border=\"1\" class=\"dataframe\">\n",
       "  <thead>\n",
       "    <tr style=\"text-align: right;\">\n",
       "      <th></th>\n",
       "      <th>structural_category</th>\n",
       "      <th>supported_by_external</th>\n",
       "      <th>n_t</th>\n",
       "    </tr>\n",
       "  </thead>\n",
       "  <tbody>\n",
       "    <tr>\n",
       "      <th>0</th>\n",
       "      <td>Antisense</td>\n",
       "      <td>False</td>\n",
       "      <td>948</td>\n",
       "    </tr>\n",
       "    <tr>\n",
       "      <th>1</th>\n",
       "      <td>Antisense</td>\n",
       "      <td>True</td>\n",
       "      <td>54</td>\n",
       "    </tr>\n",
       "    <tr>\n",
       "      <th>2</th>\n",
       "      <td>FSM</td>\n",
       "      <td>False</td>\n",
       "      <td>52676</td>\n",
       "    </tr>\n",
       "    <tr>\n",
       "      <th>3</th>\n",
       "      <td>FSM</td>\n",
       "      <td>True</td>\n",
       "      <td>61902</td>\n",
       "    </tr>\n",
       "    <tr>\n",
       "      <th>4</th>\n",
       "      <td>Fusion</td>\n",
       "      <td>False</td>\n",
       "      <td>914</td>\n",
       "    </tr>\n",
       "  </tbody>\n",
       "</table>\n",
       "</div>"
      ],
      "text/plain": [
       "  structural_category  supported_by_external    n_t\n",
       "0           Antisense                  False    948\n",
       "1           Antisense                   True     54\n",
       "2                 FSM                  False  52676\n",
       "3                 FSM                   True  61902\n",
       "4              Fusion                  False    914"
      ]
     },
     "execution_count": 51,
     "metadata": {},
     "output_type": "execute_result"
    }
   ],
   "source": [
    "temp.head()"
   ]
  },
  {
   "cell_type": "code",
   "execution_count": null,
   "id": "b0061fa1-cf4d-4a9b-9407-489231c6ad69",
   "metadata": {},
   "outputs": [],
   "source": []
  },
  {
   "cell_type": "code",
   "execution_count": 52,
   "id": "7b91bde7-c8c3-407a-9000-4932ad2b951a",
   "metadata": {},
   "outputs": [
    {
     "data": {
      "image/png": "[encoded data removed]",
      "text/plain": [
       "<Figure size 360x360 with 1 Axes>"
      ]
     },
     "metadata": {
      "needs_background": "light"
     },
     "output_type": "display_data"
    }
   ],
   "source": [
    "init_plot_settings(aspect='square')\n",
    "c_dict, order = get_novelty_colors(temp['structural_category'].unique().tolist())\n",
    "ax = sns.barplot(temp, x='structural_category', hue='supported_by_external', \n",
    "            y='n_t', order=order)\n",
    "ylabel = '# PODER transcripts'\n",
    "ax.set(ylabel=ylabel, xlabel='')\n",
    "clean_figure(ax)"
   ]
  },
  {
   "cell_type": "code",
   "execution_count": 54,
   "id": "526b4d26-b1ef-4859-aac4-7c83083605f2",
   "metadata": {},
   "outputs": [],
   "source": [
    "temp.to_csv('241031_n_supported_ics_by_novelty.tsv', sep='\\t')"
   ]
  },
  {
   "cell_type": "markdown",
   "id": "12b49813-4c60-440a-a793-e9ce54313522",
   "metadata": {},
   "source": [
    "## Get GENCODE tid <-> PODER tid correspondences"
   ]
  },
  {
   "cell_type": "code",
   "execution_count": 4,
   "id": "bafad23b-0390-447d-af53-81074b44cff0",
   "metadata": {},
   "outputs": [],
   "source": [
    "# get ics again from poder, oops\n",
    "od = '../../'\n",
    "\n",
    "gtf_file = proc_cfg(config['lr']['gtf_filt_with_genes'], od)\n",
    "gtf_df = pr.read_gtf(gtf_file, duplicate_attr=True)"
   ]
  },
  {
   "cell_type": "code",
   "execution_count": 5,
   "id": "02c16c05-942d-4348-ae15-a661eb2914c7",
   "metadata": {},
   "outputs": [],
   "source": [
    "# get ics again from poder, oops\n",
    "od = '../../'\n",
    "\n",
    "ref_gtf_file = proc_cfg(config['ref']['gtf'], od)\n",
    "ref_gtf_df = pr.read_gtf(ref_gtf_file, duplicate_attr=True)"
   ]
  },
  {
   "cell_type": "code",
   "execution_count": 6,
   "id": "0d8d2ff5-7bdb-4f1c-9f07-011f8bf412ac",
   "metadata": {},
   "outputs": [],
   "source": [
    "gtf_df = cerberus.get_ic(gtf_df)"
   ]
  },
  {
   "cell_type": "code",
   "execution_count": 7,
   "id": "07189ce8-c18f-465d-b23e-14548c1bf026",
   "metadata": {},
   "outputs": [],
   "source": [
    "ref_gtf_df = cerberus.get_ic(ref_gtf_df)"
   ]
  },
  {
   "cell_type": "code",
   "execution_count": 8,
   "id": "c45839ec-2586-42fb-be52-02e5cc29d11e",
   "metadata": {},
   "outputs": [],
   "source": [
    "gtf_df.drop('gene_id', axis=1, inplace=True)"
   ]
  },
  {
   "cell_type": "code",
   "execution_count": 9,
   "id": "d129f66e-324e-494b-ad80-56f1436d93dd",
   "metadata": {},
   "outputs": [],
   "source": [
    "ref_gtf_df.drop('gene_id', axis=1, inplace=True)"
   ]
  },
  {
   "cell_type": "code",
   "execution_count": 10,
   "id": "1b841278-c96f-4ce4-a488-d9bfd7e7987d",
   "metadata": {},
   "outputs": [],
   "source": [
    "tmp = gtf_df.merge(ref_gtf_df,\n",
    "                      how='left',\n",
    "                      on=['Chromosome', 'Strand', 'ic'],\n",
    "                      suffixes=('', '_gencode_v47'))\n",
    "                      "
   ]
  },
  {
   "cell_type": "code",
   "execution_count": 11,
   "id": "87cebd04-5924-463d-a2f2-7e26dc0fd3e4",
   "metadata": {},
   "outputs": [],
   "source": [
    "temp2 = tmp[['transcript_id', 'transcript_id_gencode_v47']].groupby('transcript_id').nunique()"
   ]
  },
  {
   "cell_type": "code",
   "execution_count": 12,
   "id": "f788be5a-eb04-469e-87c9-70b14a76888c",
   "metadata": {},
   "outputs": [
    {
     "data": {
      "text/plain": [
       "155875"
      ]
     },
     "execution_count": 12,
     "metadata": {},
     "output_type": "execute_result"
    }
   ],
   "source": [
    "len(temp2)"
   ]
  },
  {
   "cell_type": "code",
   "execution_count": 13,
   "id": "68614182-bea6-4a1c-bd9c-086a8853d27a",
   "metadata": {},
   "outputs": [
    {
     "data": {
      "text/plain": [
       "1506"
      ]
     },
     "execution_count": 13,
     "metadata": {},
     "output_type": "execute_result"
    }
   ],
   "source": [
    "len(temp2.loc[temp2.transcript_id_gencode_v47>1])"
   ]
  },
  {
   "cell_type": "code",
   "execution_count": 15,
   "id": "73da1b9c-c817-49c7-bbb3-2aa8adfccd99",
   "metadata": {},
   "outputs": [],
   "source": [
    "# add associated gene biotype\n",
    "mt_df = pd.read_csv('../../data/05_mastertable/poder_master_table.tsv', sep='\\t')\n",
    "# mt_df = mt_df.loc[mt_df['filter']=='pass']\n",
    "mt_df['pop_spec_t'] = (mt_df.population_sharing==1)&\\\n",
    "                      (mt_df.sample_sharing>1)\n",
    "mt_df.rename({'isoform': 'transcript_id'}, axis=1, inplace=True)"
   ]
  },
  {
   "cell_type": "code",
   "execution_count": 16,
   "id": "aa62c4d0-e42f-46dc-9dbc-8b31f120da9d",
   "metadata": {},
   "outputs": [],
   "source": [
    "temp2 = temp2.merge(mt_df[['transcript_id', 'associated_gene_biotype']], how='left', on='transcript_id')"
   ]
  },
  {
   "cell_type": "code",
   "execution_count": 17,
   "id": "ab4f80d8-6527-456b-8560-625e09957a3b",
   "metadata": {},
   "outputs": [
    {
     "data": {
      "text/plain": [
       "array(['Protein Coding', 'lncRNA', 'Novel/Ambiguous Gene'], dtype=object)"
      ]
     },
     "execution_count": 17,
     "metadata": {},
     "output_type": "execute_result"
    }
   ],
   "source": [
    "temp2.associated_gene_biotype.unique()"
   ]
  },
  {
   "cell_type": "code",
   "execution_count": 18,
   "id": "96a1c4a3-f1fa-4c91-86eb-374282ea5985",
   "metadata": {},
   "outputs": [],
   "source": [
    "temp2.to_csv('poder_to_gencode_v47_tid.tsv', sep='\\t')"
   ]
  },
  {
   "cell_type": "code",
   "execution_count": 19,
   "id": "8ce257b3-e1ba-4141-8d19-2db521b4120b",
   "metadata": {},
   "outputs": [
    {
     "data": {
      "text/html": [
       "<div>\n",
       "<style scoped>\n",
       "    .dataframe tbody tr th:only-of-type {\n",
       "        vertical-align: middle;\n",
       "    }\n",
       "\n",
       "    .dataframe tbody tr th {\n",
       "        vertical-align: top;\n",
       "    }\n",
       "\n",
       "    .dataframe thead th {\n",
       "        text-align: right;\n",
       "    }\n",
       "</style>\n",
       "<table border=\"1\" class=\"dataframe\">\n",
       "  <thead>\n",
       "    <tr style=\"text-align: right;\">\n",
       "      <th></th>\n",
       "      <th>transcript_id</th>\n",
       "      <th>transcript_id_gencode_v47</th>\n",
       "      <th>associated_gene_biotype</th>\n",
       "    </tr>\n",
       "  </thead>\n",
       "  <tbody>\n",
       "    <tr>\n",
       "      <th>0</th>\n",
       "      <td>ENST00000010132.6</td>\n",
       "      <td>1</td>\n",
       "      <td>Protein Coding</td>\n",
       "    </tr>\n",
       "    <tr>\n",
       "      <th>1</th>\n",
       "      <td>ENST00000013894.3</td>\n",
       "      <td>1</td>\n",
       "      <td>Protein Coding</td>\n",
       "    </tr>\n",
       "    <tr>\n",
       "      <th>2</th>\n",
       "      <td>ENST00000075120.12</td>\n",
       "      <td>2</td>\n",
       "      <td>Protein Coding</td>\n",
       "    </tr>\n",
       "    <tr>\n",
       "      <th>3</th>\n",
       "      <td>ENST00000155093.8</td>\n",
       "      <td>1</td>\n",
       "      <td>Protein Coding</td>\n",
       "    </tr>\n",
       "    <tr>\n",
       "      <th>4</th>\n",
       "      <td>ENST00000156084.8</td>\n",
       "      <td>1</td>\n",
       "      <td>Protein Coding</td>\n",
       "    </tr>\n",
       "  </tbody>\n",
       "</table>\n",
       "</div>"
      ],
      "text/plain": [
       "        transcript_id  transcript_id_gencode_v47 associated_gene_biotype\n",
       "0   ENST00000010132.6                          1          Protein Coding\n",
       "1   ENST00000013894.3                          1          Protein Coding\n",
       "2  ENST00000075120.12                          2          Protein Coding\n",
       "3   ENST00000155093.8                          1          Protein Coding\n",
       "4   ENST00000156084.8                          1          Protein Coding"
      ]
     },
     "execution_count": 19,
     "metadata": {},
     "output_type": "execute_result"
    }
   ],
   "source": [
    "temp2.head()"
   ]
  },
  {
   "cell_type": "code",
   "execution_count": null,
   "id": "46f10584-819a-477e-a229-7b2b07b2fedd",
   "metadata": {},
   "outputs": [],
   "source": []
  }
 ],
 "metadata": {
  "kernelspec": {
   "display_name": "Python 3",
   "language": "python",
   "name": "python3"
  },
  "language_info": {
   "codemirror_mode": {
    "name": "ipython",
    "version": 3
   },
   "file_extension": ".py",
   "mimetype": "text/x-python",
   "name": "python",
   "nbconvert_exporter": "python",
   "pygments_lexer": "ipython3",
   "version": "3.7.12"
  }
 },
 "nbformat": 4,
 "nbformat_minor": 5
}
