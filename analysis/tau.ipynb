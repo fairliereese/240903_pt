{
 "cells": [
  {
   "cell_type": "markdown",
   "id": "7dbf806c-95d6-47fe-a366-ab5ad75b6006",
   "metadata": {},
   "source": [
    "## Compute tau values for each transcript to see how population-specific they are "
   ]
  },
  {
   "cell_type": "code",
   "execution_count": 3,
   "id": "f8fe6584-6edf-41b8-9030-3bc862209e38",
   "metadata": {},
   "outputs": [],
   "source": [
    "import pandas as pd\n",
    "import numpy as np\n",
    "import scipy.stats as st\n",
    "import seaborn as sns\n",
    "import sys\n",
    "import os\n",
    "import matplotlib.pyplot as plt\n",
    "import swan_vis as swan\n",
    "import yaml\n",
    "from snakemake.io import expand\n",
    "import cerberus\n",
    "import pyranges as pr\n",
    "import upsetplot\n",
    "\n",
    "p = os.path.dirname(os.getcwd())\n",
    "sys.path.append(p)\n",
    "\n",
    "from scripts.utils import *\n",
    "from scripts.vcf_utils import *\n",
    "from scripts.plotting import *"
   ]
  },
  {
   "cell_type": "code",
   "execution_count": 4,
   "id": "cf338280-2d60-403a-9a3c-c3ba8bb4b9e9",
   "metadata": {},
   "outputs": [],
   "source": [
    "config = load_config()\n",
    "od = '../'\n",
    "\n",
    "def proc_cfg(entry, od):\n",
    "    entry = entry.replace('../../', '')\n",
    "    entry = od+entry\n",
    "    return entry"
   ]
  },
  {
   "cell_type": "code",
   "execution_count": 5,
   "id": "815bf812-84b0-4b62-bff4-da7ed86a1845",
   "metadata": {},
   "outputs": [],
   "source": [
    "def compute_tau(df):\n",
    "    \"\"\"\n",
    "    Compute tissue-specificity index for an abundance matrix output\n",
    "    from `get_tpm_table`.\n",
    "    \"\"\"\n",
    "    # number of samples \n",
    "    n = len(df.columns)\n",
    "    print(f'Found {n} samples')\n",
    "    \n",
    "    # df.replace([np.inf, -np.inf], np.nan, inplace=True)\n",
    "    \n",
    "    # get max of TPM for transcript across samples\n",
    "    temp = df.max(axis=1)\n",
    "    temp_ind = temp.index.tolist()\n",
    "\n",
    "    df = df.transpose()\n",
    "    df_ind = df.columns.tolist()\n",
    "    assert df_ind==temp_ind\n",
    "\n",
    "    # compute x-hat (TPM / max TPM across tissues)\n",
    "    x_hat = df/temp\n",
    "    \n",
    "    # compute (1-x-hat) \n",
    "    x_hat = 1-x_hat\n",
    "\n",
    "    # compute sum across tissues\n",
    "    x_hat = x_hat.transpose()\n",
    "    x_hat['sum'] = x_hat.sum(axis=1)\n",
    "    \n",
    "    # compute tau for each transcript\n",
    "    x_hat['tau'] = x_hat['sum']/n\n",
    "    tau_df = x_hat[['tau']]\n",
    "    \n",
    "    return tau_df"
   ]
  },
  {
   "cell_type": "code",
   "execution_count": 6,
   "id": "dab63679-7587-42e1-af55-f11b190e505f",
   "metadata": {},
   "outputs": [],
   "source": [
    "f = expand(proc_cfg(config['lr']['kallisto']['quant']['merge_matrix_tpm_tsv'],od))[0]\n",
    "\n",
    "meta = load_meta()\n",
    "meta = meta.loc[meta.merged_run_mode==True]\n",
    "sample_d = dict([(entry.cell_line_id, entry['sample']) \\\n",
    "                 for ind, entry in meta.iterrows()])\n",
    "\n",
    "\n",
    "df = pd.read_csv(f, sep='\\t')\n",
    "df.head()\n",
    "df.columns = [d if d == 'transcript_id' else d.split('_')[0] for d in df.columns]\n",
    "df.rename({'transcript_id':'tid'}, axis=1, inplace=True)\n",
    "df.rename(sample_d, axis=1, inplace=True)\n",
    "df.set_index('tid', inplace=True)"
   ]
  },
  {
   "cell_type": "code",
   "execution_count": 58,
   "id": "671cfdd0-75cf-4803-ab19-460b1a4d26b8",
   "metadata": {},
   "outputs": [
    {
     "name": "stdout",
     "output_type": "stream",
     "text": [
      "155875\n",
      "43013\n"
     ]
    }
   ],
   "source": [
    "# https://academic.oup.com/bib/article/18/2/205/2562739\n",
    "# min_cpm = 0.1\n",
    "min_cpm = 1\n",
    "min_samples = 1\n",
    "\n",
    "# set all transcripts w/ expression <1 CPM --> 0\n",
    "df[df < min_cpm] = 0\n",
    "\n",
    "# remove all genes that are not expressed in at least one tissue\n",
    "# the text must be wrong here because how can we filter \n",
    "# after log normalization for CPM >=1?\n",
    "print(len(df.index))\n",
    "df = df.loc[(df>=min_cpm).sum(axis=1)>=min_samples]\n",
    "print(len(df.index))\n",
    "\n",
    "# log-transform data and add 1 pseudocount\n",
    "df = np.log2(df+1)"
   ]
  },
  {
   "cell_type": "code",
   "execution_count": 7,
   "id": "6a4249e0-d2cb-42fb-af4e-3f91c3863f09",
   "metadata": {},
   "outputs": [
    {
     "data": {
      "text/html": [
       "<div>\n",
       "<style scoped>\n",
       "    .dataframe tbody tr th:only-of-type {\n",
       "        vertical-align: middle;\n",
       "    }\n",
       "\n",
       "    .dataframe tbody tr th {\n",
       "        vertical-align: top;\n",
       "    }\n",
       "\n",
       "    .dataframe thead th {\n",
       "        text-align: right;\n",
       "    }\n",
       "</style>\n",
       "<table border=\"1\" class=\"dataframe\">\n",
       "  <thead>\n",
       "    <tr style=\"text-align: right;\">\n",
       "      <th></th>\n",
       "      <th>YRI5</th>\n",
       "      <th>YRI6</th>\n",
       "      <th>YRI7</th>\n",
       "      <th>HAC1</th>\n",
       "      <th>HAC2</th>\n",
       "      <th>HAC3</th>\n",
       "      <th>HAC4</th>\n",
       "      <th>HAC5</th>\n",
       "      <th>HAC6</th>\n",
       "      <th>LWK1</th>\n",
       "      <th>...</th>\n",
       "      <th>AJI6</th>\n",
       "      <th>CEU1</th>\n",
       "      <th>CEU2</th>\n",
       "      <th>CEU3</th>\n",
       "      <th>CEU4</th>\n",
       "      <th>CEU5</th>\n",
       "      <th>MPC4</th>\n",
       "      <th>YRI1</th>\n",
       "      <th>YRI2</th>\n",
       "      <th>YRI3</th>\n",
       "    </tr>\n",
       "    <tr>\n",
       "      <th>tid</th>\n",
       "      <th></th>\n",
       "      <th></th>\n",
       "      <th></th>\n",
       "      <th></th>\n",
       "      <th></th>\n",
       "      <th></th>\n",
       "      <th></th>\n",
       "      <th></th>\n",
       "      <th></th>\n",
       "      <th></th>\n",
       "      <th></th>\n",
       "      <th></th>\n",
       "      <th></th>\n",
       "      <th></th>\n",
       "      <th></th>\n",
       "      <th></th>\n",
       "      <th></th>\n",
       "      <th></th>\n",
       "      <th></th>\n",
       "      <th></th>\n",
       "      <th></th>\n",
       "    </tr>\n",
       "  </thead>\n",
       "  <tbody>\n",
       "    <tr>\n",
       "      <th>ENST00000413811.3</th>\n",
       "      <td>0.000000</td>\n",
       "      <td>0.000000</td>\n",
       "      <td>0.000000</td>\n",
       "      <td>0.000000</td>\n",
       "      <td>0.000000</td>\n",
       "      <td>0.000000</td>\n",
       "      <td>0.000000</td>\n",
       "      <td>0.000000</td>\n",
       "      <td>0.000000</td>\n",
       "      <td>0.000000</td>\n",
       "      <td>...</td>\n",
       "      <td>0.000000</td>\n",
       "      <td>0.000000</td>\n",
       "      <td>0.000000</td>\n",
       "      <td>0.000000</td>\n",
       "      <td>0.000000</td>\n",
       "      <td>0.000000</td>\n",
       "      <td>0.000000</td>\n",
       "      <td>0.000000</td>\n",
       "      <td>0.000000</td>\n",
       "      <td>0.00000</td>\n",
       "    </tr>\n",
       "    <tr>\n",
       "      <th>transcript_6675</th>\n",
       "      <td>0.393218</td>\n",
       "      <td>0.000000</td>\n",
       "      <td>0.552231</td>\n",
       "      <td>0.127078</td>\n",
       "      <td>0.386482</td>\n",
       "      <td>0.313976</td>\n",
       "      <td>0.498281</td>\n",
       "      <td>0.328355</td>\n",
       "      <td>0.437621</td>\n",
       "      <td>0.385320</td>\n",
       "      <td>...</td>\n",
       "      <td>0.845657</td>\n",
       "      <td>0.269962</td>\n",
       "      <td>0.108892</td>\n",
       "      <td>0.172414</td>\n",
       "      <td>0.405509</td>\n",
       "      <td>0.073628</td>\n",
       "      <td>0.835420</td>\n",
       "      <td>0.214743</td>\n",
       "      <td>0.477583</td>\n",
       "      <td>0.59838</td>\n",
       "    </tr>\n",
       "    <tr>\n",
       "      <th>transcript_6676</th>\n",
       "      <td>0.956060</td>\n",
       "      <td>0.438777</td>\n",
       "      <td>1.184180</td>\n",
       "      <td>0.757060</td>\n",
       "      <td>1.551000</td>\n",
       "      <td>0.266020</td>\n",
       "      <td>0.195867</td>\n",
       "      <td>0.268813</td>\n",
       "      <td>0.351186</td>\n",
       "      <td>0.504766</td>\n",
       "      <td>...</td>\n",
       "      <td>0.977205</td>\n",
       "      <td>0.519386</td>\n",
       "      <td>0.566595</td>\n",
       "      <td>0.495574</td>\n",
       "      <td>1.004550</td>\n",
       "      <td>0.540054</td>\n",
       "      <td>0.397010</td>\n",
       "      <td>0.998557</td>\n",
       "      <td>0.344694</td>\n",
       "      <td>0.18226</td>\n",
       "    </tr>\n",
       "    <tr>\n",
       "      <th>transcript_6684</th>\n",
       "      <td>0.196609</td>\n",
       "      <td>1.245200</td>\n",
       "      <td>0.631121</td>\n",
       "      <td>0.000000</td>\n",
       "      <td>0.552185</td>\n",
       "      <td>0.444888</td>\n",
       "      <td>0.394330</td>\n",
       "      <td>0.492533</td>\n",
       "      <td>0.475874</td>\n",
       "      <td>0.481651</td>\n",
       "      <td>...</td>\n",
       "      <td>0.497695</td>\n",
       "      <td>0.539923</td>\n",
       "      <td>0.000000</td>\n",
       "      <td>0.822254</td>\n",
       "      <td>0.354531</td>\n",
       "      <td>0.441766</td>\n",
       "      <td>0.858465</td>\n",
       "      <td>0.214743</td>\n",
       "      <td>0.477583</td>\n",
       "      <td>0.29919</td>\n",
       "    </tr>\n",
       "    <tr>\n",
       "      <th>transcript_6687</th>\n",
       "      <td>0.000000</td>\n",
       "      <td>0.000000</td>\n",
       "      <td>0.000000</td>\n",
       "      <td>0.055554</td>\n",
       "      <td>0.000000</td>\n",
       "      <td>0.088617</td>\n",
       "      <td>0.000000</td>\n",
       "      <td>0.000000</td>\n",
       "      <td>0.056812</td>\n",
       "      <td>0.000000</td>\n",
       "      <td>...</td>\n",
       "      <td>0.068945</td>\n",
       "      <td>0.000000</td>\n",
       "      <td>0.247031</td>\n",
       "      <td>0.000000</td>\n",
       "      <td>0.000000</td>\n",
       "      <td>0.000000</td>\n",
       "      <td>0.000000</td>\n",
       "      <td>0.000000</td>\n",
       "      <td>0.000000</td>\n",
       "      <td>0.00000</td>\n",
       "    </tr>\n",
       "  </tbody>\n",
       "</table>\n",
       "<p>5 rows × 43 columns</p>\n",
       "</div>"
      ],
      "text/plain": [
       "                       YRI5      YRI6      YRI7      HAC1      HAC2      HAC3  \\\n",
       "tid                                                                             \n",
       "ENST00000413811.3  0.000000  0.000000  0.000000  0.000000  0.000000  0.000000   \n",
       "transcript_6675    0.393218  0.000000  0.552231  0.127078  0.386482  0.313976   \n",
       "transcript_6676    0.956060  0.438777  1.184180  0.757060  1.551000  0.266020   \n",
       "transcript_6684    0.196609  1.245200  0.631121  0.000000  0.552185  0.444888   \n",
       "transcript_6687    0.000000  0.000000  0.000000  0.055554  0.000000  0.088617   \n",
       "\n",
       "                       HAC4      HAC5      HAC6      LWK1  ...      AJI6  \\\n",
       "tid                                                        ...             \n",
       "ENST00000413811.3  0.000000  0.000000  0.000000  0.000000  ...  0.000000   \n",
       "transcript_6675    0.498281  0.328355  0.437621  0.385320  ...  0.845657   \n",
       "transcript_6676    0.195867  0.268813  0.351186  0.504766  ...  0.977205   \n",
       "transcript_6684    0.394330  0.492533  0.475874  0.481651  ...  0.497695   \n",
       "transcript_6687    0.000000  0.000000  0.056812  0.000000  ...  0.068945   \n",
       "\n",
       "                       CEU1      CEU2      CEU3      CEU4      CEU5      MPC4  \\\n",
       "tid                                                                             \n",
       "ENST00000413811.3  0.000000  0.000000  0.000000  0.000000  0.000000  0.000000   \n",
       "transcript_6675    0.269962  0.108892  0.172414  0.405509  0.073628  0.835420   \n",
       "transcript_6676    0.519386  0.566595  0.495574  1.004550  0.540054  0.397010   \n",
       "transcript_6684    0.539923  0.000000  0.822254  0.354531  0.441766  0.858465   \n",
       "transcript_6687    0.000000  0.247031  0.000000  0.000000  0.000000  0.000000   \n",
       "\n",
       "                       YRI1      YRI2     YRI3  \n",
       "tid                                             \n",
       "ENST00000413811.3  0.000000  0.000000  0.00000  \n",
       "transcript_6675    0.214743  0.477583  0.59838  \n",
       "transcript_6676    0.998557  0.344694  0.18226  \n",
       "transcript_6684    0.214743  0.477583  0.29919  \n",
       "transcript_6687    0.000000  0.000000  0.00000  \n",
       "\n",
       "[5 rows x 43 columns]"
      ]
     },
     "execution_count": 7,
     "metadata": {},
     "output_type": "execute_result"
    }
   ],
   "source": [
    "df.head()"
   ]
  },
  {
   "cell_type": "code",
   "execution_count": 59,
   "id": "76a7cd37-2132-45ea-88d2-b2f94fc148d1",
   "metadata": {},
   "outputs": [
    {
     "data": {
      "text/html": [
       "<div>\n",
       "<style scoped>\n",
       "    .dataframe tbody tr th:only-of-type {\n",
       "        vertical-align: middle;\n",
       "    }\n",
       "\n",
       "    .dataframe tbody tr th {\n",
       "        vertical-align: top;\n",
       "    }\n",
       "\n",
       "    .dataframe thead th {\n",
       "        text-align: right;\n",
       "    }\n",
       "</style>\n",
       "<table border=\"1\" class=\"dataframe\">\n",
       "  <thead>\n",
       "    <tr style=\"text-align: right;\">\n",
       "      <th></th>\n",
       "      <th>AJI</th>\n",
       "      <th>CEU</th>\n",
       "      <th>HAC</th>\n",
       "      <th>ITU</th>\n",
       "      <th>LWK</th>\n",
       "      <th>MPC</th>\n",
       "      <th>PEL</th>\n",
       "      <th>YRI</th>\n",
       "    </tr>\n",
       "  </thead>\n",
       "  <tbody>\n",
       "    <tr>\n",
       "      <th>transcript_6675</th>\n",
       "      <td>0.000000</td>\n",
       "      <td>0.000000</td>\n",
       "      <td>0.000000</td>\n",
       "      <td>0.204417</td>\n",
       "      <td>0.000000</td>\n",
       "      <td>0.284241</td>\n",
       "      <td>0.190121</td>\n",
       "      <td>0.000000</td>\n",
       "    </tr>\n",
       "    <tr>\n",
       "      <th>transcript_6676</th>\n",
       "      <td>0.400929</td>\n",
       "      <td>0.200656</td>\n",
       "      <td>0.225177</td>\n",
       "      <td>0.290716</td>\n",
       "      <td>0.216491</td>\n",
       "      <td>0.000000</td>\n",
       "      <td>0.000000</td>\n",
       "      <td>0.187849</td>\n",
       "    </tr>\n",
       "    <tr>\n",
       "      <th>transcript_6684</th>\n",
       "      <td>0.412123</td>\n",
       "      <td>0.000000</td>\n",
       "      <td>0.000000</td>\n",
       "      <td>0.000000</td>\n",
       "      <td>0.281858</td>\n",
       "      <td>0.274586</td>\n",
       "      <td>0.175086</td>\n",
       "      <td>0.194474</td>\n",
       "    </tr>\n",
       "    <tr>\n",
       "      <th>transcript_11363</th>\n",
       "      <td>0.000000</td>\n",
       "      <td>0.231776</td>\n",
       "      <td>0.000000</td>\n",
       "      <td>0.000000</td>\n",
       "      <td>0.000000</td>\n",
       "      <td>0.322736</td>\n",
       "      <td>0.000000</td>\n",
       "      <td>0.000000</td>\n",
       "    </tr>\n",
       "    <tr>\n",
       "      <th>transcript_11368</th>\n",
       "      <td>0.000000</td>\n",
       "      <td>0.000000</td>\n",
       "      <td>0.000000</td>\n",
       "      <td>0.236504</td>\n",
       "      <td>0.000000</td>\n",
       "      <td>0.299576</td>\n",
       "      <td>0.000000</td>\n",
       "      <td>0.194917</td>\n",
       "    </tr>\n",
       "  </tbody>\n",
       "</table>\n",
       "</div>"
      ],
      "text/plain": [
       "                       AJI       CEU       HAC       ITU       LWK       MPC  \\\n",
       "transcript_6675   0.000000  0.000000  0.000000  0.204417  0.000000  0.284241   \n",
       "transcript_6676   0.400929  0.200656  0.225177  0.290716  0.216491  0.000000   \n",
       "transcript_6684   0.412123  0.000000  0.000000  0.000000  0.281858  0.274586   \n",
       "transcript_11363  0.000000  0.231776  0.000000  0.000000  0.000000  0.322736   \n",
       "transcript_11368  0.000000  0.000000  0.000000  0.236504  0.000000  0.299576   \n",
       "\n",
       "                       PEL       YRI  \n",
       "transcript_6675   0.190121  0.000000  \n",
       "transcript_6676   0.000000  0.187849  \n",
       "transcript_6684   0.175086  0.194474  \n",
       "transcript_11363  0.000000  0.000000  \n",
       "transcript_11368  0.000000  0.194917  "
      ]
     },
     "execution_count": 59,
     "metadata": {},
     "output_type": "execute_result"
    }
   ],
   "source": [
    "# get the median expression value across samples from the same populations\n",
    "# using the median because we want to remove the effect \n",
    "# of individual samples expression patterns on the analysis\n",
    "df = df.transpose()\n",
    "df.reset_index(inplace=True)\n",
    "df.rename({'index':'sample'}, axis=1, inplace=True)\n",
    "df = df.merge(meta[['sample', 'population']], \n",
    "              how='left', on='sample')\n",
    "# df = df.groupby('population').median().reset_index()\n",
    "df = df.groupby('population').mean().reset_index()\n",
    "df.set_index('population', inplace=True)\n",
    "df.index.name = ''\n",
    "df = df.transpose()\n",
    "df.head()"
   ]
  },
  {
   "cell_type": "code",
   "execution_count": 60,
   "id": "b0de4c25-4b7a-471d-b3e0-ce48e30dfa67",
   "metadata": {},
   "outputs": [],
   "source": [
    "# # now impose the filter\n",
    "# # 24/10/31 -- Fabien said that we should be filtering the median tau \n",
    "# # values for each transcript as these are what are input into the calculation\n",
    "# # so let's try that instead\n",
    "# # filters \n",
    "# min_cpm = 0.0\n",
    "# min_cpm = 0.1\n",
    "# print(len(df.index))\n",
    "# df = df.loc[(df>=min_cpm).sum(axis=1)>=1]\n",
    "# # df = df.loc[(df>min_cpm).sum(axis=1)>=1]\n",
    "# print(len(df.index))"
   ]
  },
  {
   "cell_type": "code",
   "execution_count": 61,
   "id": "ab111a97-bd10-4ad5-be71-313ede87cf85",
   "metadata": {},
   "outputs": [
    {
     "data": {
      "text/html": [
       "<div>\n",
       "<style scoped>\n",
       "    .dataframe tbody tr th:only-of-type {\n",
       "        vertical-align: middle;\n",
       "    }\n",
       "\n",
       "    .dataframe tbody tr th {\n",
       "        vertical-align: top;\n",
       "    }\n",
       "\n",
       "    .dataframe thead th {\n",
       "        text-align: right;\n",
       "    }\n",
       "</style>\n",
       "<table border=\"1\" class=\"dataframe\">\n",
       "  <thead>\n",
       "    <tr style=\"text-align: right;\">\n",
       "      <th></th>\n",
       "      <th>AJI</th>\n",
       "      <th>CEU</th>\n",
       "      <th>HAC</th>\n",
       "      <th>ITU</th>\n",
       "      <th>LWK</th>\n",
       "      <th>MPC</th>\n",
       "      <th>PEL</th>\n",
       "      <th>YRI</th>\n",
       "    </tr>\n",
       "  </thead>\n",
       "  <tbody>\n",
       "    <tr>\n",
       "      <th>transcript_6675</th>\n",
       "      <td>0.000000</td>\n",
       "      <td>0.000000</td>\n",
       "      <td>0.000000</td>\n",
       "      <td>0.204417</td>\n",
       "      <td>0.000000</td>\n",
       "      <td>0.284241</td>\n",
       "      <td>0.190121</td>\n",
       "      <td>0.000000</td>\n",
       "    </tr>\n",
       "    <tr>\n",
       "      <th>transcript_6676</th>\n",
       "      <td>0.400929</td>\n",
       "      <td>0.200656</td>\n",
       "      <td>0.225177</td>\n",
       "      <td>0.290716</td>\n",
       "      <td>0.216491</td>\n",
       "      <td>0.000000</td>\n",
       "      <td>0.000000</td>\n",
       "      <td>0.187849</td>\n",
       "    </tr>\n",
       "    <tr>\n",
       "      <th>transcript_6684</th>\n",
       "      <td>0.412123</td>\n",
       "      <td>0.000000</td>\n",
       "      <td>0.000000</td>\n",
       "      <td>0.000000</td>\n",
       "      <td>0.281858</td>\n",
       "      <td>0.274586</td>\n",
       "      <td>0.175086</td>\n",
       "      <td>0.194474</td>\n",
       "    </tr>\n",
       "    <tr>\n",
       "      <th>transcript_11363</th>\n",
       "      <td>0.000000</td>\n",
       "      <td>0.231776</td>\n",
       "      <td>0.000000</td>\n",
       "      <td>0.000000</td>\n",
       "      <td>0.000000</td>\n",
       "      <td>0.322736</td>\n",
       "      <td>0.000000</td>\n",
       "      <td>0.000000</td>\n",
       "    </tr>\n",
       "    <tr>\n",
       "      <th>transcript_11368</th>\n",
       "      <td>0.000000</td>\n",
       "      <td>0.000000</td>\n",
       "      <td>0.000000</td>\n",
       "      <td>0.236504</td>\n",
       "      <td>0.000000</td>\n",
       "      <td>0.299576</td>\n",
       "      <td>0.000000</td>\n",
       "      <td>0.194917</td>\n",
       "    </tr>\n",
       "  </tbody>\n",
       "</table>\n",
       "</div>"
      ],
      "text/plain": [
       "                       AJI       CEU       HAC       ITU       LWK       MPC  \\\n",
       "transcript_6675   0.000000  0.000000  0.000000  0.204417  0.000000  0.284241   \n",
       "transcript_6676   0.400929  0.200656  0.225177  0.290716  0.216491  0.000000   \n",
       "transcript_6684   0.412123  0.000000  0.000000  0.000000  0.281858  0.274586   \n",
       "transcript_11363  0.000000  0.231776  0.000000  0.000000  0.000000  0.322736   \n",
       "transcript_11368  0.000000  0.000000  0.000000  0.236504  0.000000  0.299576   \n",
       "\n",
       "                       PEL       YRI  \n",
       "transcript_6675   0.190121  0.000000  \n",
       "transcript_6676   0.000000  0.187849  \n",
       "transcript_6684   0.175086  0.194474  \n",
       "transcript_11363  0.000000  0.000000  \n",
       "transcript_11368  0.000000  0.194917  "
      ]
     },
     "execution_count": 61,
     "metadata": {},
     "output_type": "execute_result"
    }
   ],
   "source": [
    "df.head()"
   ]
  },
  {
   "cell_type": "code",
   "execution_count": 62,
   "id": "20c82e97-a70a-4ee7-b234-f068170f5355",
   "metadata": {},
   "outputs": [
    {
     "name": "stdout",
     "output_type": "stream",
     "text": [
      "Found 8 samples\n"
     ]
    }
   ],
   "source": [
    "tau_df = compute_tau(df)"
   ]
  },
  {
   "cell_type": "code",
   "execution_count": 63,
   "id": "33429d3e-37f2-48f5-9f62-076dbbf1a7df",
   "metadata": {},
   "outputs": [],
   "source": [
    "tau_df.index.name = 'tid'"
   ]
  },
  {
   "cell_type": "code",
   "execution_count": 64,
   "id": "d366147f-3ffd-460b-9f64-3cff1648ea46",
   "metadata": {},
   "outputs": [],
   "source": [
    "tau_df.to_csv(f'241108_{min_cpm}_{min_samples}_mean_tau.tsv', sep='\\t')"
   ]
  },
  {
   "cell_type": "code",
   "execution_count": 65,
   "id": "c13a5c86-a117-41c4-8e83-5143006c29b8",
   "metadata": {},
   "outputs": [],
   "source": [
    "# tau_df.to_csv(f'241031_med_{min_cpm}_tau.tsv', sep='\\t')\n"
   ]
  },
  {
   "cell_type": "code",
   "execution_count": 66,
   "id": "e4b12281-7643-45f5-987e-84a13107ad20",
   "metadata": {},
   "outputs": [],
   "source": [
    "# tau_df.to_csv(f'241023_{min_cpm}_{min_samples}tau.tsv', sep='\\t')"
   ]
  },
  {
   "cell_type": "code",
   "execution_count": 67,
   "id": "c2b541a9-14f0-4a36-bd81-1a18945b7856",
   "metadata": {},
   "outputs": [],
   "source": [
    "# add gene biotypes\n",
    "tau_df = tau_df.merge(mt_df[['isoform', 'associated_gene_biotype']],\n",
    "                      how='left', \n",
    "                      left_index=True,\n",
    "                      right_on='isoform')\n",
    "tau_df.set_index('isoform', inplace=True)\n",
    "tau_df.index.name = 'tid'\n",
    "# tau_df.head()"
   ]
  },
  {
   "cell_type": "code",
   "execution_count": 68,
   "id": "57694a77-483b-40ad-80d8-bffef28e65b1",
   "metadata": {},
   "outputs": [
    {
     "data": {
      "text/plain": [
       "<seaborn.axisgrid.FacetGrid at 0x7fd79166a410>"
      ]
     },
     "execution_count": 68,
     "metadata": {},
     "output_type": "execute_result"
    },
    {
     "data": {
      "image/png": "[encoded data removed]",
      "text/plain": [
       "<Figure size 360x360 with 1 Axes>"
      ]
     },
     "metadata": {
      "needs_background": "light"
     },
     "output_type": "display_data"
    }
   ],
   "source": [
    "init_plot_settings(aspect='square')\n",
    "sns.displot(tau_df, x='tau', kind='hist')"
   ]
  },
  {
   "cell_type": "code",
   "execution_count": 69,
   "id": "157eff04-7e5d-4d49-a8c9-6310045c76b1",
   "metadata": {},
   "outputs": [
    {
     "data": {
      "text/plain": [
       "<seaborn.axisgrid.FacetGrid at 0x7fd7a50e3790>"
      ]
     },
     "execution_count": 69,
     "metadata": {},
     "output_type": "execute_result"
    },
    {
     "data": {
      "image/png": "[encoded data removed]",
      "text/plain": [
       "<Figure size 608.985x360 with 1 Axes>"
      ]
     },
     "metadata": {
      "needs_background": "light"
     },
     "output_type": "display_data"
    }
   ],
   "source": [
    "init_plot_settings(aspect='square')\n",
    "sns.displot(tau_df, x='tau', hue='associated_gene_biotype', kind='kde')"
   ]
  },
  {
   "cell_type": "code",
   "execution_count": 70,
   "id": "b1643b8c-dfbb-41a9-9514-22e21a4fc892",
   "metadata": {},
   "outputs": [
    {
     "data": {
      "text/html": [
       "<div>\n",
       "<style scoped>\n",
       "    .dataframe tbody tr th:only-of-type {\n",
       "        vertical-align: middle;\n",
       "    }\n",
       "\n",
       "    .dataframe tbody tr th {\n",
       "        vertical-align: top;\n",
       "    }\n",
       "\n",
       "    .dataframe thead th {\n",
       "        text-align: right;\n",
       "    }\n",
       "</style>\n",
       "<table border=\"1\" class=\"dataframe\">\n",
       "  <thead>\n",
       "    <tr style=\"text-align: right;\">\n",
       "      <th></th>\n",
       "      <th>tid</th>\n",
       "      <th>tau</th>\n",
       "      <th>associated_gene_biotype</th>\n",
       "    </tr>\n",
       "    <tr>\n",
       "      <th>high_tau</th>\n",
       "      <th></th>\n",
       "      <th></th>\n",
       "      <th></th>\n",
       "    </tr>\n",
       "  </thead>\n",
       "  <tbody>\n",
       "    <tr>\n",
       "      <th>False</th>\n",
       "      <td>34273</td>\n",
       "      <td>34273</td>\n",
       "      <td>34273</td>\n",
       "    </tr>\n",
       "    <tr>\n",
       "      <th>True</th>\n",
       "      <td>8740</td>\n",
       "      <td>8740</td>\n",
       "      <td>8740</td>\n",
       "    </tr>\n",
       "  </tbody>\n",
       "</table>\n",
       "</div>"
      ],
      "text/plain": [
       "            tid    tau  associated_gene_biotype\n",
       "high_tau                                       \n",
       "False     34273  34273                    34273\n",
       "True       8740   8740                     8740"
      ]
     },
     "execution_count": 70,
     "metadata": {},
     "output_type": "execute_result"
    }
   ],
   "source": [
    "tau_df['high_tau'] = tau_df.tau>=.8\n",
    "tau_df.reset_index().groupby('high_tau').count()"
   ]
  },
  {
   "cell_type": "code",
   "execution_count": 71,
   "id": "7d692c77-c805-4521-9a3a-7eb0e5bbaabc",
   "metadata": {},
   "outputs": [
    {
     "data": {
      "text/plain": [
       "0.15805711767154482"
      ]
     },
     "execution_count": 71,
     "metadata": {},
     "output_type": "execute_result"
    }
   ],
   "source": [
    "19365/(103154+19365)"
   ]
  },
  {
   "cell_type": "code",
   "execution_count": 72,
   "id": "9a56d9de-f37d-4b13-85d6-58dce8a78a28",
   "metadata": {},
   "outputs": [],
   "source": [
    "high_tau = tau_df.loc[tau_df.high_tau==True]"
   ]
  },
  {
   "cell_type": "code",
   "execution_count": 73,
   "id": "96b24d9c-b516-4220-a174-53d11108106a",
   "metadata": {},
   "outputs": [],
   "source": [
    "high_tau.head()\n",
    "len(high_tau.index)\n",
    "high_tau.reset_index(inplace=True)\n",
    "high_tau.rename({'index':'tid'}, axis=1, inplace=True)"
   ]
  },
  {
   "cell_type": "code",
   "execution_count": 74,
   "id": "24d1ae14-c621-487f-9744-964bc3032224",
   "metadata": {},
   "outputs": [],
   "source": [
    "## what structural categories are high-tau transcripts?\n",
    "# mt_df = pd.read_csv('../data/05_mastertable/master_table.tsv', sep='\\t')\n",
    "# mt_df = mt_df.loc[mt_df['filter']=='pass']\n",
    "\n",
    "mt_df = pd.read_csv('../data/05_mastertable/poder_master_table.tsv', sep='\\t')\n",
    "mt_df['pop_spec_t'] = (mt_df.population_sharing==1)&\\\n",
    "                      (mt_df.sample_sharing>1)"
   ]
  },
  {
   "cell_type": "code",
   "execution_count": 75,
   "id": "efbf8763-d2b8-459f-8c15-84a6bb8fa7f0",
   "metadata": {},
   "outputs": [
    {
     "data": {
      "text/plain": [
       "155875"
      ]
     },
     "execution_count": 75,
     "metadata": {},
     "output_type": "execute_result"
    }
   ],
   "source": [
    "len(mt_df.isoform.unique())"
   ]
  },
  {
   "cell_type": "code",
   "execution_count": 76,
   "id": "8dcdfecb-2ae5-42ae-9976-c8c91da95f7c",
   "metadata": {},
   "outputs": [],
   "source": [
    "# temp = mt_df.loc[mt_df.isoform.isin(high_tau.index.tolist())]\n",
    "high_tau = high_tau.merge(mt_df[['isoform', 'structural_category']], \n",
    "                how='left',\n",
    "                left_on='tid',\n",
    "                right_on='isoform')\n",
    "assert len(high_tau.loc[high_tau.isoform.isnull()].index) == \\\n",
    "       len(high_tau.loc[(high_tau.tid.str.startswith('ENST'))&\\\n",
    "                        (high_tau.isoform.isnull())].index)"
   ]
  },
  {
   "cell_type": "code",
   "execution_count": 77,
   "id": "9f205114-a47b-4c46-a428-eb7578cba596",
   "metadata": {},
   "outputs": [],
   "source": [
    "# now we can assume everything that's null is FSM\n",
    "high_tau.loc[high_tau.structural_category.isnull(), 'structural_category'] = 'FSM'"
   ]
  },
  {
   "cell_type": "code",
   "execution_count": 78,
   "id": "2b2b532c-b738-4841-91f7-a63663690ff5",
   "metadata": {},
   "outputs": [],
   "source": [
    "c_dict, order = get_novelty_colors()"
   ]
  },
  {
   "cell_type": "code",
   "execution_count": 79,
   "id": "1a88159d-c97c-44a9-97f2-09d82190c0c2",
   "metadata": {},
   "outputs": [],
   "source": [
    "temp = high_tau[['structural_category', 'tid']].groupby('structural_category').count().rename({'tid':'n_t'}, axis=1).reset_index()"
   ]
  },
  {
   "cell_type": "code",
   "execution_count": 80,
   "id": "67d82526-38ff-4a6f-a48e-a169c351f852",
   "metadata": {},
   "outputs": [
    {
     "data": {
      "text/plain": [
       "['FSM', 'ISM', 'NIC', 'NNC', 'Intergenic', 'Genic', 'Fusion', 'Antisense']"
      ]
     },
     "execution_count": 80,
     "metadata": {},
     "output_type": "execute_result"
    }
   ],
   "source": [
    "order"
   ]
  },
  {
   "cell_type": "code",
   "execution_count": 81,
   "id": "328c75d1-354d-4dc2-80b6-7d9afade491c",
   "metadata": {},
   "outputs": [
    {
     "data": {
      "image/png": "[encoded data removed]",
      "text/plain": [
       "<Figure size 360x360 with 1 Axes>"
      ]
     },
     "metadata": {
      "needs_background": "light"
     },
     "output_type": "display_data"
    }
   ],
   "source": [
    "ax = sns.catplot(temp, y='n_t',x='structural_category',\n",
    "            kind='bar', palette=c_dict, order=order, \n",
    "            saturation=1)"
   ]
  },
  {
   "cell_type": "code",
   "execution_count": null,
   "id": "7edc795a-4d3a-4ffb-a75b-223e118a15c7",
   "metadata": {},
   "outputs": [],
   "source": []
  },
  {
   "cell_type": "code",
   "execution_count": 82,
   "id": "edca4643-2a1e-4e4f-9567-3d8131c6f6b5",
   "metadata": {},
   "outputs": [],
   "source": [
    "## BOX plots of expression of high tau transcripts across populations"
   ]
  },
  {
   "cell_type": "code",
   "execution_count": 83,
   "id": "4f432bc6-ef91-4419-af8e-5c3ca33e15bf",
   "metadata": {},
   "outputs": [],
   "source": [
    "f = expand(proc_cfg(config['lr']['kallisto']['quant']['merge_matrix_tpm_tsv'],od))[0]\n",
    "\n",
    "meta = load_meta()\n",
    "meta = meta.loc[meta.merged_run_mode==True]\n",
    "sample_d = dict([(entry.cell_line_id, entry['sample']) \\\n",
    "                 for ind, entry in meta.iterrows()])\n",
    "\n",
    "\n",
    "df = pd.read_csv(f, sep='\\t')\n",
    "df.head()\n",
    "df.columns = [d if d == 'transcript_id' else d.split('_')[0] for d in df.columns]\n",
    "df.rename({'transcript_id':'tid'}, axis=1, inplace=True)\n",
    "df.rename(sample_d, axis=1, inplace=True)\n",
    "df.set_index('tid', inplace=True)"
   ]
  },
  {
   "cell_type": "code",
   "execution_count": 84,
   "id": "c1d13785-f172-4194-af42-6b7101e47f95",
   "metadata": {},
   "outputs": [
    {
     "data": {
      "text/html": [
       "<div>\n",
       "<style scoped>\n",
       "    .dataframe tbody tr th:only-of-type {\n",
       "        vertical-align: middle;\n",
       "    }\n",
       "\n",
       "    .dataframe tbody tr th {\n",
       "        vertical-align: top;\n",
       "    }\n",
       "\n",
       "    .dataframe thead th {\n",
       "        text-align: right;\n",
       "    }\n",
       "</style>\n",
       "<table border=\"1\" class=\"dataframe\">\n",
       "  <thead>\n",
       "    <tr style=\"text-align: right;\">\n",
       "      <th></th>\n",
       "      <th>sample</th>\n",
       "      <th>ENST00000413811.3</th>\n",
       "      <th>transcript_6675</th>\n",
       "      <th>transcript_6676</th>\n",
       "      <th>transcript_6684</th>\n",
       "      <th>transcript_6687</th>\n",
       "      <th>transcript_7913</th>\n",
       "      <th>transcript_11363</th>\n",
       "      <th>transcript_11364</th>\n",
       "      <th>transcript_11365</th>\n",
       "      <th>...</th>\n",
       "      <th>transcript_323</th>\n",
       "      <th>transcript_324</th>\n",
       "      <th>transcript_325</th>\n",
       "      <th>transcript_326</th>\n",
       "      <th>transcript_327</th>\n",
       "      <th>transcript_190970</th>\n",
       "      <th>transcript_190971</th>\n",
       "      <th>transcript_328</th>\n",
       "      <th>transcript_329</th>\n",
       "      <th>population</th>\n",
       "    </tr>\n",
       "    <tr>\n",
       "      <th></th>\n",
       "      <th></th>\n",
       "      <th></th>\n",
       "      <th></th>\n",
       "      <th></th>\n",
       "      <th></th>\n",
       "      <th></th>\n",
       "      <th></th>\n",
       "      <th></th>\n",
       "      <th></th>\n",
       "      <th></th>\n",
       "      <th></th>\n",
       "      <th></th>\n",
       "      <th></th>\n",
       "      <th></th>\n",
       "      <th></th>\n",
       "      <th></th>\n",
       "      <th></th>\n",
       "      <th></th>\n",
       "      <th></th>\n",
       "      <th></th>\n",
       "      <th></th>\n",
       "    </tr>\n",
       "  </thead>\n",
       "  <tbody>\n",
       "    <tr>\n",
       "      <th>0</th>\n",
       "      <td>YRI5</td>\n",
       "      <td>0.0</td>\n",
       "      <td>0.478421</td>\n",
       "      <td>0.967951</td>\n",
       "      <td>0.258952</td>\n",
       "      <td>0.000000</td>\n",
       "      <td>0.00000</td>\n",
       "      <td>0.574507</td>\n",
       "      <td>0.450883</td>\n",
       "      <td>0.166448</td>\n",
       "      <td>...</td>\n",
       "      <td>0.0</td>\n",
       "      <td>0.0</td>\n",
       "      <td>0.0</td>\n",
       "      <td>0.0</td>\n",
       "      <td>0.0</td>\n",
       "      <td>0.0</td>\n",
       "      <td>0.0</td>\n",
       "      <td>0.0</td>\n",
       "      <td>0.000000</td>\n",
       "      <td>YRI</td>\n",
       "    </tr>\n",
       "    <tr>\n",
       "      <th>1</th>\n",
       "      <td>YRI6</td>\n",
       "      <td>0.0</td>\n",
       "      <td>0.000000</td>\n",
       "      <td>0.524843</td>\n",
       "      <td>1.166844</td>\n",
       "      <td>0.000000</td>\n",
       "      <td>0.00000</td>\n",
       "      <td>0.538834</td>\n",
       "      <td>0.294428</td>\n",
       "      <td>0.154713</td>\n",
       "      <td>...</td>\n",
       "      <td>0.0</td>\n",
       "      <td>0.0</td>\n",
       "      <td>0.0</td>\n",
       "      <td>0.0</td>\n",
       "      <td>0.0</td>\n",
       "      <td>0.0</td>\n",
       "      <td>0.0</td>\n",
       "      <td>0.0</td>\n",
       "      <td>0.000000</td>\n",
       "      <td>YRI</td>\n",
       "    </tr>\n",
       "    <tr>\n",
       "      <th>2</th>\n",
       "      <td>YRI7</td>\n",
       "      <td>0.0</td>\n",
       "      <td>0.634343</td>\n",
       "      <td>1.127092</td>\n",
       "      <td>0.705864</td>\n",
       "      <td>0.000000</td>\n",
       "      <td>0.00000</td>\n",
       "      <td>0.529828</td>\n",
       "      <td>0.289101</td>\n",
       "      <td>0.314512</td>\n",
       "      <td>...</td>\n",
       "      <td>0.0</td>\n",
       "      <td>0.0</td>\n",
       "      <td>0.0</td>\n",
       "      <td>0.0</td>\n",
       "      <td>0.0</td>\n",
       "      <td>0.0</td>\n",
       "      <td>0.0</td>\n",
       "      <td>0.0</td>\n",
       "      <td>0.000000</td>\n",
       "      <td>YRI</td>\n",
       "    </tr>\n",
       "    <tr>\n",
       "      <th>3</th>\n",
       "      <td>HAC1</td>\n",
       "      <td>0.0</td>\n",
       "      <td>0.172587</td>\n",
       "      <td>0.813163</td>\n",
       "      <td>0.000000</td>\n",
       "      <td>0.078001</td>\n",
       "      <td>0.06995</td>\n",
       "      <td>0.548518</td>\n",
       "      <td>0.072309</td>\n",
       "      <td>0.324798</td>\n",
       "      <td>...</td>\n",
       "      <td>0.0</td>\n",
       "      <td>0.0</td>\n",
       "      <td>0.0</td>\n",
       "      <td>0.0</td>\n",
       "      <td>0.0</td>\n",
       "      <td>0.0</td>\n",
       "      <td>0.0</td>\n",
       "      <td>0.0</td>\n",
       "      <td>0.035399</td>\n",
       "      <td>HAC</td>\n",
       "    </tr>\n",
       "    <tr>\n",
       "      <th>4</th>\n",
       "      <td>HAC2</td>\n",
       "      <td>0.0</td>\n",
       "      <td>0.471429</td>\n",
       "      <td>1.351063</td>\n",
       "      <td>0.634301</td>\n",
       "      <td>0.000000</td>\n",
       "      <td>0.00000</td>\n",
       "      <td>0.773998</td>\n",
       "      <td>0.131049</td>\n",
       "      <td>0.000000</td>\n",
       "      <td>...</td>\n",
       "      <td>0.0</td>\n",
       "      <td>0.0</td>\n",
       "      <td>0.0</td>\n",
       "      <td>0.0</td>\n",
       "      <td>0.0</td>\n",
       "      <td>0.0</td>\n",
       "      <td>0.0</td>\n",
       "      <td>0.0</td>\n",
       "      <td>0.122673</td>\n",
       "      <td>HAC</td>\n",
       "    </tr>\n",
       "  </tbody>\n",
       "</table>\n",
       "<p>5 rows × 155877 columns</p>\n",
       "</div>"
      ],
      "text/plain": [
       "  sample  ENST00000413811.3  transcript_6675  transcript_6676  \\\n",
       "                                                                \n",
       "0   YRI5                0.0         0.478421         0.967951   \n",
       "1   YRI6                0.0         0.000000         0.524843   \n",
       "2   YRI7                0.0         0.634343         1.127092   \n",
       "3   HAC1                0.0         0.172587         0.813163   \n",
       "4   HAC2                0.0         0.471429         1.351063   \n",
       "\n",
       "   transcript_6684  transcript_6687  transcript_7913  transcript_11363  \\\n",
       "                                                                         \n",
       "0         0.258952         0.000000          0.00000          0.574507   \n",
       "1         1.166844         0.000000          0.00000          0.538834   \n",
       "2         0.705864         0.000000          0.00000          0.529828   \n",
       "3         0.000000         0.078001          0.06995          0.548518   \n",
       "4         0.634301         0.000000          0.00000          0.773998   \n",
       "\n",
       "   transcript_11364  transcript_11365  ...  transcript_323  transcript_324  \\\n",
       "                                       ...                                   \n",
       "0          0.450883          0.166448  ...             0.0             0.0   \n",
       "1          0.294428          0.154713  ...             0.0             0.0   \n",
       "2          0.289101          0.314512  ...             0.0             0.0   \n",
       "3          0.072309          0.324798  ...             0.0             0.0   \n",
       "4          0.131049          0.000000  ...             0.0             0.0   \n",
       "\n",
       "   transcript_325  transcript_326  transcript_327  transcript_190970  \\\n",
       "                                                                       \n",
       "0             0.0             0.0             0.0                0.0   \n",
       "1             0.0             0.0             0.0                0.0   \n",
       "2             0.0             0.0             0.0                0.0   \n",
       "3             0.0             0.0             0.0                0.0   \n",
       "4             0.0             0.0             0.0                0.0   \n",
       "\n",
       "   transcript_190971  transcript_328  transcript_329  population  \n",
       "                                                                  \n",
       "0                0.0             0.0        0.000000         YRI  \n",
       "1                0.0             0.0        0.000000         YRI  \n",
       "2                0.0             0.0        0.000000         YRI  \n",
       "3                0.0             0.0        0.035399         HAC  \n",
       "4                0.0             0.0        0.122673         HAC  \n",
       "\n",
       "[5 rows x 155877 columns]"
      ]
     },
     "execution_count": 84,
     "metadata": {},
     "output_type": "execute_result"
    }
   ],
   "source": [
    "log_df = np.log2(df+1)\n",
    "log_df = log_df.transpose()\n",
    "log_df.reset_index(inplace=True)\n",
    "log_df.rename({'index':'sample'}, axis=1, inplace=True)\n",
    "log_df = log_df.merge(meta[['sample', 'population']], \n",
    "              how='left', on='sample')\n",
    "# log_df.set_index('population', inplace=True)\n",
    "log_df.index.name = ''\n",
    "log_df.head()"
   ]
  },
  {
   "cell_type": "code",
   "execution_count": 85,
   "id": "09ac1171-4c41-484d-9d0b-e10ca2f4e2c1",
   "metadata": {},
   "outputs": [],
   "source": [
    "log_df = log_df.melt(id_vars=['sample', 'population'],\n",
    "            var_name='tid', value_name='log2tpm')"
   ]
  },
  {
   "cell_type": "code",
   "execution_count": 86,
   "id": "fddedd90-db8f-4d05-b55d-f0e93e675f0c",
   "metadata": {},
   "outputs": [
    {
     "data": {
      "text/html": [
       "<div>\n",
       "<style scoped>\n",
       "    .dataframe tbody tr th:only-of-type {\n",
       "        vertical-align: middle;\n",
       "    }\n",
       "\n",
       "    .dataframe tbody tr th {\n",
       "        vertical-align: top;\n",
       "    }\n",
       "\n",
       "    .dataframe thead th {\n",
       "        text-align: right;\n",
       "    }\n",
       "</style>\n",
       "<table border=\"1\" class=\"dataframe\">\n",
       "  <thead>\n",
       "    <tr style=\"text-align: right;\">\n",
       "      <th></th>\n",
       "      <th>sample</th>\n",
       "      <th>population</th>\n",
       "      <th>tid</th>\n",
       "      <th>log2tpm</th>\n",
       "    </tr>\n",
       "  </thead>\n",
       "  <tbody>\n",
       "    <tr>\n",
       "      <th>0</th>\n",
       "      <td>YRI5</td>\n",
       "      <td>YRI</td>\n",
       "      <td>ENST00000413811.3</td>\n",
       "      <td>0.0</td>\n",
       "    </tr>\n",
       "    <tr>\n",
       "      <th>1</th>\n",
       "      <td>YRI6</td>\n",
       "      <td>YRI</td>\n",
       "      <td>ENST00000413811.3</td>\n",
       "      <td>0.0</td>\n",
       "    </tr>\n",
       "    <tr>\n",
       "      <th>2</th>\n",
       "      <td>YRI7</td>\n",
       "      <td>YRI</td>\n",
       "      <td>ENST00000413811.3</td>\n",
       "      <td>0.0</td>\n",
       "    </tr>\n",
       "    <tr>\n",
       "      <th>3</th>\n",
       "      <td>HAC1</td>\n",
       "      <td>HAC</td>\n",
       "      <td>ENST00000413811.3</td>\n",
       "      <td>0.0</td>\n",
       "    </tr>\n",
       "    <tr>\n",
       "      <th>4</th>\n",
       "      <td>HAC2</td>\n",
       "      <td>HAC</td>\n",
       "      <td>ENST00000413811.3</td>\n",
       "      <td>0.0</td>\n",
       "    </tr>\n",
       "  </tbody>\n",
       "</table>\n",
       "</div>"
      ],
      "text/plain": [
       "  sample population                tid  log2tpm\n",
       "0   YRI5        YRI  ENST00000413811.3      0.0\n",
       "1   YRI6        YRI  ENST00000413811.3      0.0\n",
       "2   YRI7        YRI  ENST00000413811.3      0.0\n",
       "3   HAC1        HAC  ENST00000413811.3      0.0\n",
       "4   HAC2        HAC  ENST00000413811.3      0.0"
      ]
     },
     "execution_count": 86,
     "metadata": {},
     "output_type": "execute_result"
    }
   ],
   "source": [
    "log_df.head()"
   ]
  },
  {
   "cell_type": "code",
   "execution_count": 87,
   "id": "84c34a57-0e08-4463-a0d2-26dcf698d387",
   "metadata": {},
   "outputs": [],
   "source": [
    "def plot_thing(df, tid):\n",
    "    temp = df.loc[df.tid==tid]\n",
    "    ax = sns.catplot(temp, kind='box',\n",
    "                     x='population', y='log2tpm',\n",
    "                    palette=c_dict, order=order)\n",
    "    ylabel = 'log2(transcript TPM + 1)'\n",
    "    xlabel = ''\n",
    "    ax.set(ylabel=ylabel, xlabel=xlabel)"
   ]
  },
  {
   "cell_type": "code",
   "execution_count": 88,
   "id": "d3c76904-d20d-4619-a5a0-d269960015e1",
   "metadata": {},
   "outputs": [],
   "source": [
    "c_dict, order = get_population_colors()"
   ]
  },
  {
   "cell_type": "code",
   "execution_count": 89,
   "id": "0faf2831-a335-4870-bbdf-f3d13d693c39",
   "metadata": {},
   "outputs": [
    {
     "data": {
      "text/html": [
       "<div>\n",
       "<style scoped>\n",
       "    .dataframe tbody tr th:only-of-type {\n",
       "        vertical-align: middle;\n",
       "    }\n",
       "\n",
       "    .dataframe tbody tr th {\n",
       "        vertical-align: top;\n",
       "    }\n",
       "\n",
       "    .dataframe thead th {\n",
       "        text-align: right;\n",
       "    }\n",
       "</style>\n",
       "<table border=\"1\" class=\"dataframe\">\n",
       "  <thead>\n",
       "    <tr style=\"text-align: right;\">\n",
       "      <th></th>\n",
       "      <th>tid</th>\n",
       "      <th>tau</th>\n",
       "      <th>associated_gene_biotype</th>\n",
       "      <th>high_tau</th>\n",
       "      <th>isoform</th>\n",
       "      <th>structural_category</th>\n",
       "    </tr>\n",
       "  </thead>\n",
       "  <tbody>\n",
       "    <tr>\n",
       "      <th>10</th>\n",
       "      <td>transcript_13302</td>\n",
       "      <td>0.810044</td>\n",
       "      <td>Protein Coding</td>\n",
       "      <td>True</td>\n",
       "      <td>transcript_13302</td>\n",
       "      <td>FSM</td>\n",
       "    </tr>\n",
       "    <tr>\n",
       "      <th>11</th>\n",
       "      <td>transcript_3353</td>\n",
       "      <td>0.805033</td>\n",
       "      <td>Protein Coding</td>\n",
       "      <td>True</td>\n",
       "      <td>transcript_3353</td>\n",
       "      <td>FSM</td>\n",
       "    </tr>\n",
       "    <tr>\n",
       "      <th>24</th>\n",
       "      <td>transcript_7183</td>\n",
       "      <td>0.802494</td>\n",
       "      <td>Protein Coding</td>\n",
       "      <td>True</td>\n",
       "      <td>transcript_7183</td>\n",
       "      <td>FSM</td>\n",
       "    </tr>\n",
       "    <tr>\n",
       "      <th>44</th>\n",
       "      <td>transcript_7702</td>\n",
       "      <td>0.806948</td>\n",
       "      <td>Protein Coding</td>\n",
       "      <td>True</td>\n",
       "      <td>transcript_7702</td>\n",
       "      <td>NIC</td>\n",
       "    </tr>\n",
       "    <tr>\n",
       "      <th>48</th>\n",
       "      <td>transcript_7055</td>\n",
       "      <td>0.847746</td>\n",
       "      <td>Protein Coding</td>\n",
       "      <td>True</td>\n",
       "      <td>transcript_7055</td>\n",
       "      <td>NNC</td>\n",
       "    </tr>\n",
       "    <tr>\n",
       "      <th>...</th>\n",
       "      <td>...</td>\n",
       "      <td>...</td>\n",
       "      <td>...</td>\n",
       "      <td>...</td>\n",
       "      <td>...</td>\n",
       "      <td>...</td>\n",
       "    </tr>\n",
       "    <tr>\n",
       "      <th>8687</th>\n",
       "      <td>transcript_376572</td>\n",
       "      <td>0.839219</td>\n",
       "      <td>lncRNA</td>\n",
       "      <td>True</td>\n",
       "      <td>transcript_376572</td>\n",
       "      <td>FSM</td>\n",
       "    </tr>\n",
       "    <tr>\n",
       "      <th>8694</th>\n",
       "      <td>transcript_377136</td>\n",
       "      <td>0.805280</td>\n",
       "      <td>lncRNA</td>\n",
       "      <td>True</td>\n",
       "      <td>transcript_377136</td>\n",
       "      <td>FSM</td>\n",
       "    </tr>\n",
       "    <tr>\n",
       "      <th>8725</th>\n",
       "      <td>transcript_190251</td>\n",
       "      <td>0.810938</td>\n",
       "      <td>lncRNA</td>\n",
       "      <td>True</td>\n",
       "      <td>transcript_190251</td>\n",
       "      <td>FSM</td>\n",
       "    </tr>\n",
       "    <tr>\n",
       "      <th>8726</th>\n",
       "      <td>transcript_190258</td>\n",
       "      <td>0.803610</td>\n",
       "      <td>lncRNA</td>\n",
       "      <td>True</td>\n",
       "      <td>transcript_190258</td>\n",
       "      <td>FSM</td>\n",
       "    </tr>\n",
       "    <tr>\n",
       "      <th>8729</th>\n",
       "      <td>transcript_190351</td>\n",
       "      <td>0.825095</td>\n",
       "      <td>lncRNA</td>\n",
       "      <td>True</td>\n",
       "      <td>transcript_190351</td>\n",
       "      <td>FSM</td>\n",
       "    </tr>\n",
       "  </tbody>\n",
       "</table>\n",
       "<p>1094 rows × 6 columns</p>\n",
       "</div>"
      ],
      "text/plain": [
       "                    tid       tau associated_gene_biotype  high_tau  \\\n",
       "10     transcript_13302  0.810044          Protein Coding      True   \n",
       "11      transcript_3353  0.805033          Protein Coding      True   \n",
       "24      transcript_7183  0.802494          Protein Coding      True   \n",
       "44      transcript_7702  0.806948          Protein Coding      True   \n",
       "48      transcript_7055  0.847746          Protein Coding      True   \n",
       "...                 ...       ...                     ...       ...   \n",
       "8687  transcript_376572  0.839219                  lncRNA      True   \n",
       "8694  transcript_377136  0.805280                  lncRNA      True   \n",
       "8725  transcript_190251  0.810938                  lncRNA      True   \n",
       "8726  transcript_190258  0.803610                  lncRNA      True   \n",
       "8729  transcript_190351  0.825095                  lncRNA      True   \n",
       "\n",
       "                isoform structural_category  \n",
       "10     transcript_13302                 FSM  \n",
       "11      transcript_3353                 FSM  \n",
       "24      transcript_7183                 FSM  \n",
       "44      transcript_7702                 NIC  \n",
       "48      transcript_7055                 NNC  \n",
       "...                 ...                 ...  \n",
       "8687  transcript_376572                 FSM  \n",
       "8694  transcript_377136                 FSM  \n",
       "8725  transcript_190251                 FSM  \n",
       "8726  transcript_190258                 FSM  \n",
       "8729  transcript_190351                 FSM  \n",
       "\n",
       "[1094 rows x 6 columns]"
      ]
     },
     "execution_count": 89,
     "metadata": {},
     "output_type": "execute_result"
    }
   ],
   "source": [
    "high_tau.loc[high_tau.tau<0.85]"
   ]
  },
  {
   "cell_type": "code",
   "execution_count": 90,
   "id": "2a5801b8-f6a3-4c68-a5e6-1bf1dc602372",
   "metadata": {},
   "outputs": [
    {
     "data": {
      "image/png": "[encoded data removed]",
      "text/plain": [
       "<Figure size 360x360 with 1 Axes>"
      ]
     },
     "metadata": {
      "needs_background": "light"
     },
     "output_type": "display_data"
    }
   ],
   "source": [
    "tid = 'transcript_8891'\n",
    "plot_thing(log_df, tid)"
   ]
  },
  {
   "cell_type": "code",
   "execution_count": 91,
   "id": "10d92908-1f77-4dc9-9146-9fb1f9f868fd",
   "metadata": {},
   "outputs": [
    {
     "data": {
      "image/png": "[encoded data removed]",
      "text/plain": [
       "<Figure size 360x360 with 1 Axes>"
      ]
     },
     "metadata": {
      "needs_background": "light"
     },
     "output_type": "display_data"
    }
   ],
   "source": [
    "tid = 'transcript_2444'\n",
    "plot_thing(log_df, tid)"
   ]
  },
  {
   "cell_type": "code",
   "execution_count": 92,
   "id": "2b50b64d-fa82-4673-afbf-ff60a3e2f851",
   "metadata": {},
   "outputs": [
    {
     "data": {
      "image/png": "[encoded data removed]",
      "text/plain": [
       "<Figure size 360x360 with 1 Axes>"
      ]
     },
     "metadata": {
      "needs_background": "light"
     },
     "output_type": "display_data"
    }
   ],
   "source": [
    "plot_thing(log_df, 'transcript_14253')"
   ]
  },
  {
   "cell_type": "code",
   "execution_count": 93,
   "id": "0aa71404-cb5a-4cdd-a651-2feff6254f05",
   "metadata": {},
   "outputs": [
    {
     "data": {
      "image/png": "[encoded data removed]",
      "text/plain": [
       "<Figure size 360x360 with 1 Axes>"
      ]
     },
     "metadata": {
      "needs_background": "light"
     },
     "output_type": "display_data"
    }
   ],
   "source": [
    "plot_thing(log_df, 'ENST00000689971.1')"
   ]
  },
  {
   "cell_type": "code",
   "execution_count": 94,
   "id": "acea2d16-204a-4a7b-9977-f1f7e3ac6d03",
   "metadata": {},
   "outputs": [
    {
     "data": {
      "image/png": "[encoded data removed]",
      "text/plain": [
       "<Figure size 360x360 with 1 Axes>"
      ]
     },
     "metadata": {
      "needs_background": "light"
     },
     "output_type": "display_data"
    }
   ],
   "source": [
    "plot_thing(log_df, 'transcript_7913')"
   ]
  },
  {
   "cell_type": "code",
   "execution_count": null,
   "id": "d3ed0738-da0a-4afd-9e3d-973e64b1e9f1",
   "metadata": {},
   "outputs": [],
   "source": []
  },
  {
   "cell_type": "code",
   "execution_count": null,
   "id": "a2181964-adeb-4d43-ba8b-c187e41c0243",
   "metadata": {},
   "outputs": [],
   "source": []
  }
 ],
 "metadata": {
  "kernelspec": {
   "display_name": "Python 3 (ipykernel)",
   "language": "python",
   "name": "python3"
  },
  "language_info": {
   "codemirror_mode": {
    "name": "ipython",
    "version": 3
   },
   "file_extension": ".py",
   "mimetype": "text/x-python",
   "name": "python",
   "nbconvert_exporter": "python",
   "pygments_lexer": "ipython3",
   "version": "3.12.5"
  }
 },
 "nbformat": 4,
 "nbformat_minor": 5
}
