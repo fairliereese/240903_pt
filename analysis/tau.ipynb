{
 "cells": [
  {
   "cell_type": "markdown",
   "id": "7dbf806c-95d6-47fe-a366-ab5ad75b6006",
   "metadata": {},
   "source": [
    "## Compute tau values for each transcript to see how population-specific they are "
   ]
  },
  {
   "cell_type": "code",
   "execution_count": 1,
   "id": "f8fe6584-6edf-41b8-9030-3bc862209e38",
   "metadata": {},
   "outputs": [],
   "source": [
    "import pandas as pd\n",
    "import numpy as np\n",
    "import scipy.stats as st\n",
    "import seaborn as sns\n",
    "import sys\n",
    "import os\n",
    "import matplotlib.pyplot as plt\n",
    "import swan_vis as swan\n",
    "import yaml\n",
    "from snakemake.io import expand\n",
    "import cerberus\n",
    "import pyranges as pr\n",
    "import upsetplot\n",
    "\n",
    "p = os.path.dirname(os.getcwd())\n",
    "sys.path.append(p)\n",
    "\n",
    "from scripts.utils import *\n",
    "from scripts.vcf_utils import *\n",
    "from scripts.plotting import *"
   ]
  },
  {
   "cell_type": "code",
   "execution_count": 2,
   "id": "cf338280-2d60-403a-9a3c-c3ba8bb4b9e9",
   "metadata": {},
   "outputs": [],
   "source": [
    "config = load_config()\n",
    "od = '../'\n",
    "\n",
    "def proc_cfg(entry, od):\n",
    "    entry = entry.replace('../../', '')\n",
    "    entry = od+entry\n",
    "    return entry"
   ]
  },
  {
   "cell_type": "code",
   "execution_count": 72,
   "id": "815bf812-84b0-4b62-bff4-da7ed86a1845",
   "metadata": {},
   "outputs": [],
   "source": [
    "def compute_tau(df):\n",
    "    \"\"\"\n",
    "    Compute tissue-specificity index for an abundance matrix output\n",
    "    from `get_tpm_table`.\n",
    "    \"\"\"\n",
    "    # number of samples \n",
    "    n = len(df.columns)\n",
    "    print(f'Found {n} samples')\n",
    "    \n",
    "    # log-transform data and add 1 pseudocount to data\n",
    "    df = np.log2(df+1)\n",
    "    # df.replace([np.inf, -np.inf], np.nan, inplace=True)\n",
    "    \n",
    "    # get max of TPM for transcript across samples\n",
    "    temp = df.max(axis=1)\n",
    "    temp_ind = temp.index.tolist()\n",
    "\n",
    "    df = df.transpose()\n",
    "    df_ind = df.columns.tolist()\n",
    "    assert df_ind==temp_ind\n",
    "\n",
    "    # compute x-hat (TPM / max TPM across tissues)\n",
    "    x_hat = df/temp\n",
    "    \n",
    "    # compute (1-x-hat) \n",
    "    x_hat = 1-x_hat\n",
    "\n",
    "    # compute sum across tissues\n",
    "    x_hat = x_hat.transpose()\n",
    "    x_hat['sum'] = x_hat.sum(axis=1)\n",
    "    \n",
    "    # compute tau for each transcript\n",
    "    x_hat['tau'] = x_hat['sum']/n\n",
    "    tau_df = x_hat[['tau']]\n",
    "    \n",
    "    return tau_df"
   ]
  },
  {
   "cell_type": "code",
   "execution_count": 73,
   "id": "dab63679-7587-42e1-af55-f11b190e505f",
   "metadata": {},
   "outputs": [],
   "source": [
    "f = expand(proc_cfg(config['lr']['kallisto']['quant']['merge_matrix_tpm_tsv'],od))[0]\n",
    "\n",
    "meta = load_meta()\n",
    "meta = meta.loc[meta.merged_run_mode==True]\n",
    "sample_d = dict([(entry.cell_line_id, entry['sample']) \\\n",
    "                 for ind, entry in meta.iterrows()])\n",
    "\n",
    "\n",
    "df = pd.read_csv(f, sep='\\t')\n",
    "df.head()\n",
    "df.columns = [d if d == 'transcript_id' else d.split('_')[0] for d in df.columns]\n",
    "df.rename({'transcript_id':'tid'}, axis=1, inplace=True)\n",
    "df.rename(sample_d, axis=1, inplace=True)\n",
    "df.set_index('tid', inplace=True)"
   ]
  },
  {
   "cell_type": "code",
   "execution_count": 66,
   "id": "671cfdd0-75cf-4803-ab19-460b1a4d26b8",
   "metadata": {},
   "outputs": [
    {
     "name": "stdout",
     "output_type": "stream",
     "text": [
      "155875\n",
      "108787\n"
     ]
    }
   ],
   "source": [
    "# filters \n",
    "min_samples = 2\n",
    "min_cpm = 0.1\n",
    "print(len(df.index))\n",
    "df = df.loc[(df>=min_cpm).sum(axis=1)>=min_samples]\n",
    "print(len(df.index))"
   ]
  },
  {
   "cell_type": "code",
   "execution_count": 67,
   "id": "76a7cd37-2132-45ea-88d2-b2f94fc148d1",
   "metadata": {},
   "outputs": [
    {
     "data": {
      "text/html": [
       "<div>\n",
       "<style scoped>\n",
       "    .dataframe tbody tr th:only-of-type {\n",
       "        vertical-align: middle;\n",
       "    }\n",
       "\n",
       "    .dataframe tbody tr th {\n",
       "        vertical-align: top;\n",
       "    }\n",
       "\n",
       "    .dataframe thead th {\n",
       "        text-align: right;\n",
       "    }\n",
       "</style>\n",
       "<table border=\"1\" class=\"dataframe\">\n",
       "  <thead>\n",
       "    <tr style=\"text-align: right;\">\n",
       "      <th></th>\n",
       "      <th>AJI</th>\n",
       "      <th>CEU</th>\n",
       "      <th>HAC</th>\n",
       "      <th>ITU</th>\n",
       "      <th>LWK</th>\n",
       "      <th>MPC</th>\n",
       "      <th>PEL</th>\n",
       "      <th>YRI</th>\n",
       "    </tr>\n",
       "  </thead>\n",
       "  <tbody>\n",
       "    <tr>\n",
       "      <th>transcript_6675</th>\n",
       "      <td>0.299724</td>\n",
       "      <td>0.172414</td>\n",
       "      <td>0.357418</td>\n",
       "      <td>0.550844</td>\n",
       "      <td>0.385320</td>\n",
       "      <td>0.706408</td>\n",
       "      <td>0.651034</td>\n",
       "      <td>0.435400</td>\n",
       "    </tr>\n",
       "    <tr>\n",
       "      <th>transcript_6676</th>\n",
       "      <td>0.982259</td>\n",
       "      <td>0.540054</td>\n",
       "      <td>0.309999</td>\n",
       "      <td>0.456469</td>\n",
       "      <td>0.431042</td>\n",
       "      <td>0.569546</td>\n",
       "      <td>0.532116</td>\n",
       "      <td>0.697418</td>\n",
       "    </tr>\n",
       "    <tr>\n",
       "      <th>transcript_6684</th>\n",
       "      <td>0.433248</td>\n",
       "      <td>0.441766</td>\n",
       "      <td>0.460381</td>\n",
       "      <td>0.688555</td>\n",
       "      <td>0.366190</td>\n",
       "      <td>0.639539</td>\n",
       "      <td>0.600679</td>\n",
       "      <td>0.388386</td>\n",
       "    </tr>\n",
       "    <tr>\n",
       "      <th>transcript_6687</th>\n",
       "      <td>0.034472</td>\n",
       "      <td>0.000000</td>\n",
       "      <td>0.027777</td>\n",
       "      <td>0.000000</td>\n",
       "      <td>0.000000</td>\n",
       "      <td>0.059861</td>\n",
       "      <td>0.051411</td>\n",
       "      <td>0.000000</td>\n",
       "    </tr>\n",
       "    <tr>\n",
       "      <th>transcript_11363</th>\n",
       "      <td>0.430140</td>\n",
       "      <td>0.709061</td>\n",
       "      <td>0.596585</td>\n",
       "      <td>0.322114</td>\n",
       "      <td>0.196753</td>\n",
       "      <td>0.432933</td>\n",
       "      <td>0.289803</td>\n",
       "      <td>0.470983</td>\n",
       "    </tr>\n",
       "  </tbody>\n",
       "</table>\n",
       "</div>"
      ],
      "text/plain": [
       "                       AJI       CEU       HAC       ITU       LWK       MPC  \\\n",
       "transcript_6675   0.299724  0.172414  0.357418  0.550844  0.385320  0.706408   \n",
       "transcript_6676   0.982259  0.540054  0.309999  0.456469  0.431042  0.569546   \n",
       "transcript_6684   0.433248  0.441766  0.460381  0.688555  0.366190  0.639539   \n",
       "transcript_6687   0.034472  0.000000  0.027777  0.000000  0.000000  0.059861   \n",
       "transcript_11363  0.430140  0.709061  0.596585  0.322114  0.196753  0.432933   \n",
       "\n",
       "                       PEL       YRI  \n",
       "transcript_6675   0.651034  0.435400  \n",
       "transcript_6676   0.532116  0.697418  \n",
       "transcript_6684   0.600679  0.388386  \n",
       "transcript_6687   0.051411  0.000000  \n",
       "transcript_11363  0.289803  0.470983  "
      ]
     },
     "execution_count": 67,
     "metadata": {},
     "output_type": "execute_result"
    }
   ],
   "source": [
    "# get the median expression value across samples from the same populations\n",
    "# using the median because we want to remove the effect \n",
    "# of individual samples expression patterns on the analysis\n",
    "df = df.transpose()\n",
    "df.reset_index(inplace=True)\n",
    "df.rename({'index':'sample'}, axis=1, inplace=True)\n",
    "df = df.merge(meta[['sample', 'population']], \n",
    "              how='left', on='sample')\n",
    "df = df.groupby('population').median().reset_index()\n",
    "# df = df.groupby('population').mean().reset_index()\n",
    "df.set_index('population', inplace=True)\n",
    "df.index.name = ''\n",
    "df = df.transpose()\n",
    "df.head()"
   ]
  },
  {
   "cell_type": "code",
   "execution_count": 68,
   "id": "20c82e97-a70a-4ee7-b234-f068170f5355",
   "metadata": {},
   "outputs": [
    {
     "name": "stdout",
     "output_type": "stream",
     "text": [
      "Found 8 samples\n"
     ]
    }
   ],
   "source": [
    "tau_df = compute_tau(df)"
   ]
  },
  {
   "cell_type": "code",
   "execution_count": 69,
   "id": "33429d3e-37f2-48f5-9f62-076dbbf1a7df",
   "metadata": {},
   "outputs": [],
   "source": [
    "tau_df.index.name = 'tid'"
   ]
  },
  {
   "cell_type": "code",
   "execution_count": 70,
   "id": "e4b12281-7643-45f5-987e-84a13107ad20",
   "metadata": {},
   "outputs": [],
   "source": [
    "tau_df.to_csv(f'241023_{min_cpm}_{min_samples}tau.tsv', sep='\\t')"
   ]
  },
  {
   "cell_type": "code",
   "execution_count": 71,
   "id": "57694a77-483b-40ad-80d8-bffef28e65b1",
   "metadata": {},
   "outputs": [
    {
     "data": {
      "text/plain": [
       "<seaborn.axisgrid.FacetGrid at 0x7f8303c7cf90>"
      ]
     },
     "execution_count": 71,
     "metadata": {},
     "output_type": "execute_result"
    },
    {
     "data": {
      "image/png": "[encoded data removed]",
      "text/plain": [
       "<Figure size 360x360 with 1 Axes>"
      ]
     },
     "metadata": {
      "needs_background": "light"
     },
     "output_type": "display_data"
    }
   ],
   "source": [
    "init_plot_settings(aspect='square')\n",
    "sns.displot(tau_df, x='tau', kind='hist')"
   ]
  },
  {
   "cell_type": "code",
   "execution_count": 53,
   "id": "b1643b8c-dfbb-41a9-9514-22e21a4fc892",
   "metadata": {},
   "outputs": [],
   "source": [
    "high_tau = tau_df.loc[tau_df.tau>=0.75]"
   ]
  },
  {
   "cell_type": "code",
   "execution_count": 31,
   "id": "96b24d9c-b516-4220-a174-53d11108106a",
   "metadata": {},
   "outputs": [],
   "source": [
    "high_tau.head()\n",
    "len(high_tau.index)\n",
    "high_tau.reset_index(inplace=True)\n",
    "high_tau.rename({'index':'tid'}, axis=1, inplace=True)"
   ]
  },
  {
   "cell_type": "code",
   "execution_count": 32,
   "id": "24d1ae14-c621-487f-9744-964bc3032224",
   "metadata": {},
   "outputs": [],
   "source": [
    "## what structural categories are high-tau transcripts?\n",
    "mt_df = pd.read_csv('../data/05_mastertable/master_table.tsv', sep='\\t')\n",
    "mt_df = mt_df.loc[mt_df['filter']=='pass']\n",
    "mt_df['pop_spec_t'] = (mt_df.population_sharing==1)&\\\n",
    "                      (mt_df.sample_sharing>1)"
   ]
  },
  {
   "cell_type": "code",
   "execution_count": 33,
   "id": "efbf8763-d2b8-459f-8c15-84a6bb8fa7f0",
   "metadata": {},
   "outputs": [
    {
     "data": {
      "text/plain": [
       "162816"
      ]
     },
     "execution_count": 33,
     "metadata": {},
     "output_type": "execute_result"
    }
   ],
   "source": [
    "len(mt_df.isoform.unique())"
   ]
  },
  {
   "cell_type": "code",
   "execution_count": 34,
   "id": "8dcdfecb-2ae5-42ae-9976-c8c91da95f7c",
   "metadata": {},
   "outputs": [],
   "source": [
    "# temp = mt_df.loc[mt_df.isoform.isin(high_tau.index.tolist())]\n",
    "high_tau = high_tau.merge(mt_df[['isoform', 'structural_category']], \n",
    "                how='left',\n",
    "                left_on='tid',\n",
    "                right_on='isoform')\n",
    "assert len(high_tau.loc[high_tau.isoform.isnull()].index) == \\\n",
    "       len(high_tau.loc[(high_tau.tid.str.startswith('ENST'))&\\\n",
    "                        (high_tau.isoform.isnull())].index)"
   ]
  },
  {
   "cell_type": "code",
   "execution_count": 35,
   "id": "9f205114-a47b-4c46-a428-eb7578cba596",
   "metadata": {},
   "outputs": [],
   "source": [
    "# now we can assume everything that's null is FSM\n",
    "high_tau.loc[high_tau.structural_category.isnull(), 'structural_category'] = 'FSM'"
   ]
  },
  {
   "cell_type": "code",
   "execution_count": 36,
   "id": "2b2b532c-b738-4841-91f7-a63663690ff5",
   "metadata": {},
   "outputs": [],
   "source": [
    "c_dict, order = get_novelty_colors()"
   ]
  },
  {
   "cell_type": "code",
   "execution_count": 37,
   "id": "1a88159d-c97c-44a9-97f2-09d82190c0c2",
   "metadata": {},
   "outputs": [],
   "source": [
    "temp = high_tau[['structural_category', 'tid']].groupby('structural_category').count().rename({'tid':'n_t'}, axis=1).reset_index()"
   ]
  },
  {
   "cell_type": "code",
   "execution_count": 38,
   "id": "67d82526-38ff-4a6f-a48e-a169c351f852",
   "metadata": {},
   "outputs": [
    {
     "data": {
      "text/plain": [
       "['FSM', 'ISM', 'NIC', 'NNC', 'Intergenic', 'Genic', 'Fusion', 'Antisense']"
      ]
     },
     "execution_count": 38,
     "metadata": {},
     "output_type": "execute_result"
    }
   ],
   "source": [
    "order"
   ]
  },
  {
   "cell_type": "code",
   "execution_count": 39,
   "id": "328c75d1-354d-4dc2-80b6-7d9afade491c",
   "metadata": {},
   "outputs": [
    {
     "data": {
      "image/png": "[encoded data removed]",
      "text/plain": [
       "<Figure size 360x360 with 1 Axes>"
      ]
     },
     "metadata": {
      "needs_background": "light"
     },
     "output_type": "display_data"
    }
   ],
   "source": [
    "ax = sns.catplot(temp, y='n_t',x='structural_category',\n",
    "            kind='bar', palette=c_dict, order=order, \n",
    "            saturation=1)"
   ]
  },
  {
   "cell_type": "code",
   "execution_count": null,
   "id": "7edc795a-4d3a-4ffb-a75b-223e118a15c7",
   "metadata": {},
   "outputs": [],
   "source": []
  },
  {
   "cell_type": "code",
   "execution_count": 40,
   "id": "edca4643-2a1e-4e4f-9567-3d8131c6f6b5",
   "metadata": {},
   "outputs": [],
   "source": [
    "## BOX plots of expression of high tau transcripts across populations"
   ]
  },
  {
   "cell_type": "code",
   "execution_count": 34,
   "id": "4f432bc6-ef91-4419-af8e-5c3ca33e15bf",
   "metadata": {},
   "outputs": [],
   "source": [
    "f = expand(proc_cfg(config['lr']['kallisto']['quant']['merge_matrix_tpm_tsv'],od))[0]\n",
    "\n",
    "meta = load_meta()\n",
    "meta = meta.loc[meta.merged_run_mode==True]\n",
    "sample_d = dict([(entry.cell_line_id, entry['sample']) \\\n",
    "                 for ind, entry in meta.iterrows()])\n",
    "\n",
    "\n",
    "df = pd.read_csv(f, sep='\\t')\n",
    "df.head()\n",
    "df.columns = [d if d == 'transcript_id' else d.split('_')[0] for d in df.columns]\n",
    "df.rename({'transcript_id':'tid'}, axis=1, inplace=True)\n",
    "df.rename(sample_d, axis=1, inplace=True)\n",
    "df.set_index('tid', inplace=True)"
   ]
  },
  {
   "cell_type": "code",
   "execution_count": 35,
   "id": "c1d13785-f172-4194-af42-6b7101e47f95",
   "metadata": {},
   "outputs": [
    {
     "data": {
      "text/html": [
       "<div>\n",
       "<style scoped>\n",
       "    .dataframe tbody tr th:only-of-type {\n",
       "        vertical-align: middle;\n",
       "    }\n",
       "\n",
       "    .dataframe tbody tr th {\n",
       "        vertical-align: top;\n",
       "    }\n",
       "\n",
       "    .dataframe thead th {\n",
       "        text-align: right;\n",
       "    }\n",
       "</style>\n",
       "<table border=\"1\" class=\"dataframe\">\n",
       "  <thead>\n",
       "    <tr style=\"text-align: right;\">\n",
       "      <th></th>\n",
       "      <th>sample</th>\n",
       "      <th>ENST00000413811.3</th>\n",
       "      <th>transcript_6675</th>\n",
       "      <th>transcript_6676</th>\n",
       "      <th>transcript_6684</th>\n",
       "      <th>transcript_6687</th>\n",
       "      <th>transcript_7913</th>\n",
       "      <th>transcript_11363</th>\n",
       "      <th>transcript_11364</th>\n",
       "      <th>transcript_11365</th>\n",
       "      <th>...</th>\n",
       "      <th>transcript_323</th>\n",
       "      <th>transcript_324</th>\n",
       "      <th>transcript_325</th>\n",
       "      <th>transcript_326</th>\n",
       "      <th>transcript_327</th>\n",
       "      <th>transcript_190970</th>\n",
       "      <th>transcript_190971</th>\n",
       "      <th>transcript_328</th>\n",
       "      <th>transcript_329</th>\n",
       "      <th>population</th>\n",
       "    </tr>\n",
       "    <tr>\n",
       "      <th></th>\n",
       "      <th></th>\n",
       "      <th></th>\n",
       "      <th></th>\n",
       "      <th></th>\n",
       "      <th></th>\n",
       "      <th></th>\n",
       "      <th></th>\n",
       "      <th></th>\n",
       "      <th></th>\n",
       "      <th></th>\n",
       "      <th></th>\n",
       "      <th></th>\n",
       "      <th></th>\n",
       "      <th></th>\n",
       "      <th></th>\n",
       "      <th></th>\n",
       "      <th></th>\n",
       "      <th></th>\n",
       "      <th></th>\n",
       "      <th></th>\n",
       "      <th></th>\n",
       "    </tr>\n",
       "  </thead>\n",
       "  <tbody>\n",
       "    <tr>\n",
       "      <th>0</th>\n",
       "      <td>YRI5</td>\n",
       "      <td>0.0</td>\n",
       "      <td>0.478421</td>\n",
       "      <td>0.967951</td>\n",
       "      <td>0.258952</td>\n",
       "      <td>0.000000</td>\n",
       "      <td>0.00000</td>\n",
       "      <td>0.574507</td>\n",
       "      <td>0.450883</td>\n",
       "      <td>0.166448</td>\n",
       "      <td>...</td>\n",
       "      <td>0.0</td>\n",
       "      <td>0.0</td>\n",
       "      <td>0.0</td>\n",
       "      <td>0.0</td>\n",
       "      <td>0.0</td>\n",
       "      <td>0.0</td>\n",
       "      <td>0.0</td>\n",
       "      <td>0.0</td>\n",
       "      <td>0.000000</td>\n",
       "      <td>YRI</td>\n",
       "    </tr>\n",
       "    <tr>\n",
       "      <th>1</th>\n",
       "      <td>YRI6</td>\n",
       "      <td>0.0</td>\n",
       "      <td>0.000000</td>\n",
       "      <td>0.524843</td>\n",
       "      <td>1.166844</td>\n",
       "      <td>0.000000</td>\n",
       "      <td>0.00000</td>\n",
       "      <td>0.538834</td>\n",
       "      <td>0.294428</td>\n",
       "      <td>0.154713</td>\n",
       "      <td>...</td>\n",
       "      <td>0.0</td>\n",
       "      <td>0.0</td>\n",
       "      <td>0.0</td>\n",
       "      <td>0.0</td>\n",
       "      <td>0.0</td>\n",
       "      <td>0.0</td>\n",
       "      <td>0.0</td>\n",
       "      <td>0.0</td>\n",
       "      <td>0.000000</td>\n",
       "      <td>YRI</td>\n",
       "    </tr>\n",
       "    <tr>\n",
       "      <th>2</th>\n",
       "      <td>YRI7</td>\n",
       "      <td>0.0</td>\n",
       "      <td>0.634343</td>\n",
       "      <td>1.127092</td>\n",
       "      <td>0.705864</td>\n",
       "      <td>0.000000</td>\n",
       "      <td>0.00000</td>\n",
       "      <td>0.529828</td>\n",
       "      <td>0.289101</td>\n",
       "      <td>0.314512</td>\n",
       "      <td>...</td>\n",
       "      <td>0.0</td>\n",
       "      <td>0.0</td>\n",
       "      <td>0.0</td>\n",
       "      <td>0.0</td>\n",
       "      <td>0.0</td>\n",
       "      <td>0.0</td>\n",
       "      <td>0.0</td>\n",
       "      <td>0.0</td>\n",
       "      <td>0.000000</td>\n",
       "      <td>YRI</td>\n",
       "    </tr>\n",
       "    <tr>\n",
       "      <th>3</th>\n",
       "      <td>HAC1</td>\n",
       "      <td>0.0</td>\n",
       "      <td>0.172587</td>\n",
       "      <td>0.813163</td>\n",
       "      <td>0.000000</td>\n",
       "      <td>0.078001</td>\n",
       "      <td>0.06995</td>\n",
       "      <td>0.548518</td>\n",
       "      <td>0.072309</td>\n",
       "      <td>0.324798</td>\n",
       "      <td>...</td>\n",
       "      <td>0.0</td>\n",
       "      <td>0.0</td>\n",
       "      <td>0.0</td>\n",
       "      <td>0.0</td>\n",
       "      <td>0.0</td>\n",
       "      <td>0.0</td>\n",
       "      <td>0.0</td>\n",
       "      <td>0.0</td>\n",
       "      <td>0.035399</td>\n",
       "      <td>HAC</td>\n",
       "    </tr>\n",
       "    <tr>\n",
       "      <th>4</th>\n",
       "      <td>HAC2</td>\n",
       "      <td>0.0</td>\n",
       "      <td>0.471429</td>\n",
       "      <td>1.351063</td>\n",
       "      <td>0.634301</td>\n",
       "      <td>0.000000</td>\n",
       "      <td>0.00000</td>\n",
       "      <td>0.773998</td>\n",
       "      <td>0.131049</td>\n",
       "      <td>0.000000</td>\n",
       "      <td>...</td>\n",
       "      <td>0.0</td>\n",
       "      <td>0.0</td>\n",
       "      <td>0.0</td>\n",
       "      <td>0.0</td>\n",
       "      <td>0.0</td>\n",
       "      <td>0.0</td>\n",
       "      <td>0.0</td>\n",
       "      <td>0.0</td>\n",
       "      <td>0.122673</td>\n",
       "      <td>HAC</td>\n",
       "    </tr>\n",
       "  </tbody>\n",
       "</table>\n",
       "<p>5 rows × 155877 columns</p>\n",
       "</div>"
      ],
      "text/plain": [
       "  sample  ENST00000413811.3  transcript_6675  transcript_6676  \\\n",
       "                                                                \n",
       "0   YRI5                0.0         0.478421         0.967951   \n",
       "1   YRI6                0.0         0.000000         0.524843   \n",
       "2   YRI7                0.0         0.634343         1.127092   \n",
       "3   HAC1                0.0         0.172587         0.813163   \n",
       "4   HAC2                0.0         0.471429         1.351063   \n",
       "\n",
       "   transcript_6684  transcript_6687  transcript_7913  transcript_11363  \\\n",
       "                                                                         \n",
       "0         0.258952         0.000000          0.00000          0.574507   \n",
       "1         1.166844         0.000000          0.00000          0.538834   \n",
       "2         0.705864         0.000000          0.00000          0.529828   \n",
       "3         0.000000         0.078001          0.06995          0.548518   \n",
       "4         0.634301         0.000000          0.00000          0.773998   \n",
       "\n",
       "   transcript_11364  transcript_11365  ...  transcript_323  transcript_324  \\\n",
       "                                       ...                                   \n",
       "0          0.450883          0.166448  ...             0.0             0.0   \n",
       "1          0.294428          0.154713  ...             0.0             0.0   \n",
       "2          0.289101          0.314512  ...             0.0             0.0   \n",
       "3          0.072309          0.324798  ...             0.0             0.0   \n",
       "4          0.131049          0.000000  ...             0.0             0.0   \n",
       "\n",
       "   transcript_325  transcript_326  transcript_327  transcript_190970  \\\n",
       "                                                                       \n",
       "0             0.0             0.0             0.0                0.0   \n",
       "1             0.0             0.0             0.0                0.0   \n",
       "2             0.0             0.0             0.0                0.0   \n",
       "3             0.0             0.0             0.0                0.0   \n",
       "4             0.0             0.0             0.0                0.0   \n",
       "\n",
       "   transcript_190971  transcript_328  transcript_329  population  \n",
       "                                                                  \n",
       "0                0.0             0.0        0.000000         YRI  \n",
       "1                0.0             0.0        0.000000         YRI  \n",
       "2                0.0             0.0        0.000000         YRI  \n",
       "3                0.0             0.0        0.035399         HAC  \n",
       "4                0.0             0.0        0.122673         HAC  \n",
       "\n",
       "[5 rows x 155877 columns]"
      ]
     },
     "execution_count": 35,
     "metadata": {},
     "output_type": "execute_result"
    }
   ],
   "source": [
    "log_df = np.log2(df+1)\n",
    "log_df = log_df.transpose()\n",
    "log_df.reset_index(inplace=True)\n",
    "log_df.rename({'index':'sample'}, axis=1, inplace=True)\n",
    "log_df = log_df.merge(meta[['sample', 'population']], \n",
    "              how='left', on='sample')\n",
    "# log_df.set_index('population', inplace=True)\n",
    "log_df.index.name = ''\n",
    "log_df.head()"
   ]
  },
  {
   "cell_type": "code",
   "execution_count": 36,
   "id": "09ac1171-4c41-484d-9d0b-e10ca2f4e2c1",
   "metadata": {},
   "outputs": [],
   "source": [
    "log_df = log_df.melt(id_vars=['sample', 'population'],\n",
    "            var_name='tid', value_name='log2tpm')"
   ]
  },
  {
   "cell_type": "code",
   "execution_count": 41,
   "id": "fddedd90-db8f-4d05-b55d-f0e93e675f0c",
   "metadata": {},
   "outputs": [
    {
     "data": {
      "text/html": [
       "<div>\n",
       "<style scoped>\n",
       "    .dataframe tbody tr th:only-of-type {\n",
       "        vertical-align: middle;\n",
       "    }\n",
       "\n",
       "    .dataframe tbody tr th {\n",
       "        vertical-align: top;\n",
       "    }\n",
       "\n",
       "    .dataframe thead th {\n",
       "        text-align: right;\n",
       "    }\n",
       "</style>\n",
       "<table border=\"1\" class=\"dataframe\">\n",
       "  <thead>\n",
       "    <tr style=\"text-align: right;\">\n",
       "      <th></th>\n",
       "      <th>sample</th>\n",
       "      <th>population</th>\n",
       "      <th>tid</th>\n",
       "      <th>log2tpm</th>\n",
       "    </tr>\n",
       "  </thead>\n",
       "  <tbody>\n",
       "    <tr>\n",
       "      <th>0</th>\n",
       "      <td>YRI5</td>\n",
       "      <td>YRI</td>\n",
       "      <td>ENST00000413811.3</td>\n",
       "      <td>0.0</td>\n",
       "    </tr>\n",
       "    <tr>\n",
       "      <th>1</th>\n",
       "      <td>YRI6</td>\n",
       "      <td>YRI</td>\n",
       "      <td>ENST00000413811.3</td>\n",
       "      <td>0.0</td>\n",
       "    </tr>\n",
       "    <tr>\n",
       "      <th>2</th>\n",
       "      <td>YRI7</td>\n",
       "      <td>YRI</td>\n",
       "      <td>ENST00000413811.3</td>\n",
       "      <td>0.0</td>\n",
       "    </tr>\n",
       "    <tr>\n",
       "      <th>3</th>\n",
       "      <td>HAC1</td>\n",
       "      <td>HAC</td>\n",
       "      <td>ENST00000413811.3</td>\n",
       "      <td>0.0</td>\n",
       "    </tr>\n",
       "    <tr>\n",
       "      <th>4</th>\n",
       "      <td>HAC2</td>\n",
       "      <td>HAC</td>\n",
       "      <td>ENST00000413811.3</td>\n",
       "      <td>0.0</td>\n",
       "    </tr>\n",
       "  </tbody>\n",
       "</table>\n",
       "</div>"
      ],
      "text/plain": [
       "  sample population                tid  log2tpm\n",
       "0   YRI5        YRI  ENST00000413811.3      0.0\n",
       "1   YRI6        YRI  ENST00000413811.3      0.0\n",
       "2   YRI7        YRI  ENST00000413811.3      0.0\n",
       "3   HAC1        HAC  ENST00000413811.3      0.0\n",
       "4   HAC2        HAC  ENST00000413811.3      0.0"
      ]
     },
     "execution_count": 41,
     "metadata": {},
     "output_type": "execute_result"
    }
   ],
   "source": [
    "log_df.head()"
   ]
  },
  {
   "cell_type": "code",
   "execution_count": 46,
   "id": "84c34a57-0e08-4463-a0d2-26dcf698d387",
   "metadata": {},
   "outputs": [],
   "source": [
    "def plot_thing(df, tid):\n",
    "    temp = df.loc[df.tid==tid]\n",
    "    ax = sns.catplot(temp, kind='box',\n",
    "                     x='population', y='log2tpm',\n",
    "                    palette=c_dict, order=order)\n",
    "    ylabel = 'log2(transcript TPM + 1)'\n",
    "    xlabel = ''\n",
    "    ax.set(ylabel=ylabel, xlabel=xlabel)"
   ]
  },
  {
   "cell_type": "code",
   "execution_count": 37,
   "id": "d3c76904-d20d-4619-a5a0-d269960015e1",
   "metadata": {},
   "outputs": [],
   "source": [
    "c_dict, order = get_population_colors()"
   ]
  },
  {
   "cell_type": "code",
   "execution_count": 49,
   "id": "0faf2831-a335-4870-bbdf-f3d13d693c39",
   "metadata": {},
   "outputs": [
    {
     "data": {
      "text/html": [
       "<div>\n",
       "<style scoped>\n",
       "    .dataframe tbody tr th:only-of-type {\n",
       "        vertical-align: middle;\n",
       "    }\n",
       "\n",
       "    .dataframe tbody tr th {\n",
       "        vertical-align: top;\n",
       "    }\n",
       "\n",
       "    .dataframe thead th {\n",
       "        text-align: right;\n",
       "    }\n",
       "</style>\n",
       "<table border=\"1\" class=\"dataframe\">\n",
       "  <thead>\n",
       "    <tr style=\"text-align: right;\">\n",
       "      <th></th>\n",
       "      <th>tid</th>\n",
       "      <th>tau</th>\n",
       "      <th>isoform</th>\n",
       "      <th>structural_category</th>\n",
       "    </tr>\n",
       "  </thead>\n",
       "  <tbody>\n",
       "    <tr>\n",
       "      <th>15</th>\n",
       "      <td>transcript_8955</td>\n",
       "      <td>0.752413</td>\n",
       "      <td>transcript_8955</td>\n",
       "      <td>FSM</td>\n",
       "    </tr>\n",
       "    <tr>\n",
       "      <th>32</th>\n",
       "      <td>transcript_14253</td>\n",
       "      <td>0.752488</td>\n",
       "      <td>transcript_14253</td>\n",
       "      <td>NNC</td>\n",
       "    </tr>\n",
       "    <tr>\n",
       "      <th>71</th>\n",
       "      <td>transcript_12230</td>\n",
       "      <td>0.754556</td>\n",
       "      <td>transcript_12230</td>\n",
       "      <td>FSM</td>\n",
       "    </tr>\n",
       "    <tr>\n",
       "      <th>107</th>\n",
       "      <td>transcript_2444</td>\n",
       "      <td>0.752435</td>\n",
       "      <td>transcript_2444</td>\n",
       "      <td>NIC</td>\n",
       "    </tr>\n",
       "    <tr>\n",
       "      <th>112</th>\n",
       "      <td>transcript_7452</td>\n",
       "      <td>0.756058</td>\n",
       "      <td>transcript_7452</td>\n",
       "      <td>FSM</td>\n",
       "    </tr>\n",
       "    <tr>\n",
       "      <th>...</th>\n",
       "      <td>...</td>\n",
       "      <td>...</td>\n",
       "      <td>...</td>\n",
       "      <td>...</td>\n",
       "    </tr>\n",
       "    <tr>\n",
       "      <th>29312</th>\n",
       "      <td>transcript_190833</td>\n",
       "      <td>0.759164</td>\n",
       "      <td>transcript_190833</td>\n",
       "      <td>FSM</td>\n",
       "    </tr>\n",
       "    <tr>\n",
       "      <th>29334</th>\n",
       "      <td>transcript_190869</td>\n",
       "      <td>0.758678</td>\n",
       "      <td>transcript_190869</td>\n",
       "      <td>FSM</td>\n",
       "    </tr>\n",
       "    <tr>\n",
       "      <th>29340</th>\n",
       "      <td>transcript_190878</td>\n",
       "      <td>0.758678</td>\n",
       "      <td>transcript_190878</td>\n",
       "      <td>FSM</td>\n",
       "    </tr>\n",
       "    <tr>\n",
       "      <th>29349</th>\n",
       "      <td>transcript_190893</td>\n",
       "      <td>0.758678</td>\n",
       "      <td>transcript_190893</td>\n",
       "      <td>FSM</td>\n",
       "    </tr>\n",
       "    <tr>\n",
       "      <th>29359</th>\n",
       "      <td>transcript_190909</td>\n",
       "      <td>0.758678</td>\n",
       "      <td>transcript_190909</td>\n",
       "      <td>FSM</td>\n",
       "    </tr>\n",
       "  </tbody>\n",
       "</table>\n",
       "<p>1978 rows × 4 columns</p>\n",
       "</div>"
      ],
      "text/plain": [
       "                     tid       tau            isoform structural_category\n",
       "15       transcript_8955  0.752413    transcript_8955                 FSM\n",
       "32      transcript_14253  0.752488   transcript_14253                 NNC\n",
       "71      transcript_12230  0.754556   transcript_12230                 FSM\n",
       "107      transcript_2444  0.752435    transcript_2444                 NIC\n",
       "112      transcript_7452  0.756058    transcript_7452                 FSM\n",
       "...                  ...       ...                ...                 ...\n",
       "29312  transcript_190833  0.759164  transcript_190833                 FSM\n",
       "29334  transcript_190869  0.758678  transcript_190869                 FSM\n",
       "29340  transcript_190878  0.758678  transcript_190878                 FSM\n",
       "29349  transcript_190893  0.758678  transcript_190893                 FSM\n",
       "29359  transcript_190909  0.758678  transcript_190909                 FSM\n",
       "\n",
       "[1978 rows x 4 columns]"
      ]
     },
     "execution_count": 49,
     "metadata": {},
     "output_type": "execute_result"
    }
   ],
   "source": [
    "high_tau.loc[high_tau.tau<0.76]"
   ]
  },
  {
   "cell_type": "code",
   "execution_count": 51,
   "id": "10d92908-1f77-4dc9-9146-9fb1f9f868fd",
   "metadata": {},
   "outputs": [
    {
     "data": {
      "image/png": "[encoded data removed]",
      "text/plain": [
       "<Figure size 360x360 with 1 Axes>"
      ]
     },
     "metadata": {
      "needs_background": "light"
     },
     "output_type": "display_data"
    }
   ],
   "source": [
    "tid = 'transcript_2444'\n",
    "plot_thing(log_df, tid)"
   ]
  },
  {
   "cell_type": "code",
   "execution_count": 50,
   "id": "2b50b64d-fa82-4673-afbf-ff60a3e2f851",
   "metadata": {},
   "outputs": [
    {
     "data": {
      "image/png": "[encoded data removed]",
      "text/plain": [
       "<Figure size 360x360 with 1 Axes>"
      ]
     },
     "metadata": {
      "needs_background": "light"
     },
     "output_type": "display_data"
    }
   ],
   "source": [
    "plot_thing(log_df, 'transcript_14253')"
   ]
  },
  {
   "cell_type": "code",
   "execution_count": 48,
   "id": "0aa71404-cb5a-4cdd-a651-2feff6254f05",
   "metadata": {},
   "outputs": [
    {
     "data": {
      "image/png": "[encoded data removed]",
      "text/plain": [
       "<Figure size 360x360 with 1 Axes>"
      ]
     },
     "metadata": {
      "needs_background": "light"
     },
     "output_type": "display_data"
    }
   ],
   "source": [
    "plot_thing(log_df, 'ENST00000689971.1')"
   ]
  },
  {
   "cell_type": "code",
   "execution_count": 47,
   "id": "acea2d16-204a-4a7b-9977-f1f7e3ac6d03",
   "metadata": {},
   "outputs": [
    {
     "data": {
      "image/png": "[encoded data removed]",
      "text/plain": [
       "<Figure size 360x360 with 1 Axes>"
      ]
     },
     "metadata": {
      "needs_background": "light"
     },
     "output_type": "display_data"
    }
   ],
   "source": [
    "plot_thing(log_df, 'transcript_7913')"
   ]
  },
  {
   "cell_type": "code",
   "execution_count": null,
   "id": "d3ed0738-da0a-4afd-9e3d-973e64b1e9f1",
   "metadata": {},
   "outputs": [],
   "source": []
  }
 ],
 "metadata": {
  "kernelspec": {
   "display_name": "Python 3",
   "language": "python",
   "name": "python3"
  },
  "language_info": {
   "codemirror_mode": {
    "name": "ipython",
    "version": 3
   },
   "file_extension": ".py",
   "mimetype": "text/x-python",
   "name": "python",
   "nbconvert_exporter": "python",
   "pygments_lexer": "ipython3",
   "version": "3.7.12"
  }
 },
 "nbformat": 4,
 "nbformat_minor": 5
}
