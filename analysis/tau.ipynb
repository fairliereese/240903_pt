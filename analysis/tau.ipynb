{
 "cells": [
  {
   "cell_type": "markdown",
   "id": "7dbf806c-95d6-47fe-a366-ab5ad75b6006",
   "metadata": {},
   "source": [
    "## Compute tau values for each transcript to see how population-specific they are "
   ]
  },
  {
   "cell_type": "code",
   "execution_count": 1,
   "id": "f8fe6584-6edf-41b8-9030-3bc862209e38",
   "metadata": {},
   "outputs": [],
   "source": [
    "import pandas as pd\n",
    "import numpy as np\n",
    "import scipy.stats as st\n",
    "import seaborn as sns\n",
    "import sys\n",
    "import os\n",
    "import matplotlib.pyplot as plt\n",
    "import swan_vis as swan\n",
    "import yaml\n",
    "from snakemake.io import expand\n",
    "import cerberus\n",
    "import pyranges as pr\n",
    "import upsetplot\n",
    "\n",
    "p = os.path.dirname(os.getcwd())\n",
    "sys.path.append(p)\n",
    "\n",
    "from scripts.utils import *\n",
    "from scripts.vcf_utils import *\n",
    "from scripts.plotting import *"
   ]
  },
  {
   "cell_type": "code",
   "execution_count": 2,
   "id": "cf338280-2d60-403a-9a3c-c3ba8bb4b9e9",
   "metadata": {},
   "outputs": [],
   "source": [
    "config = load_config()\n",
    "od = '../'\n",
    "\n",
    "def proc_cfg(entry, od):\n",
    "    entry = entry.replace('../../', '')\n",
    "    entry = od+entry\n",
    "    return entry"
   ]
  },
  {
   "cell_type": "code",
   "execution_count": 3,
   "id": "815bf812-84b0-4b62-bff4-da7ed86a1845",
   "metadata": {},
   "outputs": [],
   "source": [
    "def compute_tau(df):\n",
    "    \"\"\"\n",
    "    Compute tissue-specificity index for an abundance matrix output\n",
    "    from `get_tpm_table`.\n",
    "    \"\"\"\n",
    "    # number of samples \n",
    "    n = len(df.columns)\n",
    "    print(f'Found {n} samples')\n",
    "    \n",
    "    # log-transform data and add 1 pseudocount to data\n",
    "    df = np.log2(df+1)\n",
    "    # df.replace([np.inf, -np.inf], np.nan, inplace=True)\n",
    "    \n",
    "    # get max of TPM for transcript across samples\n",
    "    temp = df.max(axis=1)\n",
    "    temp_ind = temp.index.tolist()\n",
    "\n",
    "    df = df.transpose()\n",
    "    df_ind = df.columns.tolist()\n",
    "    assert df_ind==temp_ind\n",
    "\n",
    "    # compute x-hat (TPM / max TPM across tissues)\n",
    "    x_hat = df/temp\n",
    "    \n",
    "    # compute (1-x-hat) \n",
    "    x_hat = 1-x_hat\n",
    "\n",
    "    # compute sum across tissues\n",
    "    x_hat = x_hat.transpose()\n",
    "    x_hat['sum'] = x_hat.sum(axis=1)\n",
    "    \n",
    "    # compute tau for each transcript\n",
    "    x_hat['tau'] = x_hat['sum']/n\n",
    "    tau_df = x_hat[['tau']]\n",
    "    \n",
    "    return tau_df"
   ]
  },
  {
   "cell_type": "code",
   "execution_count": 4,
   "id": "dab63679-7587-42e1-af55-f11b190e505f",
   "metadata": {},
   "outputs": [],
   "source": [
    "f = expand(proc_cfg(config['lr']['kallisto']['quant']['merge_matrix_tpm_tsv'],od))[0]\n",
    "\n",
    "meta = load_meta()\n",
    "meta = meta.loc[meta.merged_run_mode==True]\n",
    "sample_d = dict([(entry.cell_line_id, entry['sample']) \\\n",
    "                 for ind, entry in meta.iterrows()])\n",
    "\n",
    "\n",
    "df = pd.read_csv(f, sep='\\t')\n",
    "df.head()\n",
    "df.columns = [d if d == 'transcript_id' else d.split('_')[0] for d in df.columns]\n",
    "df.rename({'transcript_id':'tid'}, axis=1, inplace=True)\n",
    "df.rename(sample_d, axis=1, inplace=True)\n",
    "df.set_index('tid', inplace=True)"
   ]
  },
  {
   "cell_type": "code",
   "execution_count": 5,
   "id": "76a7cd37-2132-45ea-88d2-b2f94fc148d1",
   "metadata": {},
   "outputs": [
    {
     "data": {
      "text/html": [
       "<div>\n",
       "<style scoped>\n",
       "    .dataframe tbody tr th:only-of-type {\n",
       "        vertical-align: middle;\n",
       "    }\n",
       "\n",
       "    .dataframe tbody tr th {\n",
       "        vertical-align: top;\n",
       "    }\n",
       "\n",
       "    .dataframe thead th {\n",
       "        text-align: right;\n",
       "    }\n",
       "</style>\n",
       "<table border=\"1\" class=\"dataframe\">\n",
       "  <thead>\n",
       "    <tr style=\"text-align: right;\">\n",
       "      <th></th>\n",
       "      <th>AJI</th>\n",
       "      <th>CEU</th>\n",
       "      <th>HAC</th>\n",
       "      <th>ITU</th>\n",
       "      <th>LWK</th>\n",
       "      <th>MPC</th>\n",
       "      <th>PEL</th>\n",
       "      <th>YRI</th>\n",
       "    </tr>\n",
       "  </thead>\n",
       "  <tbody>\n",
       "    <tr>\n",
       "      <th>ENST00000413811.3</th>\n",
       "      <td>0.000000</td>\n",
       "      <td>0.000000</td>\n",
       "      <td>0.000000</td>\n",
       "      <td>0.000000</td>\n",
       "      <td>0.000000</td>\n",
       "      <td>0.000000</td>\n",
       "      <td>0.000000</td>\n",
       "      <td>0.000000</td>\n",
       "    </tr>\n",
       "    <tr>\n",
       "      <th>transcript_6675</th>\n",
       "      <td>0.364595</td>\n",
       "      <td>0.206081</td>\n",
       "      <td>0.348632</td>\n",
       "      <td>0.541199</td>\n",
       "      <td>0.459595</td>\n",
       "      <td>0.675766</td>\n",
       "      <td>0.694056</td>\n",
       "      <td>0.372693</td>\n",
       "    </tr>\n",
       "    <tr>\n",
       "      <th>transcript_6676</th>\n",
       "      <td>0.850381</td>\n",
       "      <td>0.625232</td>\n",
       "      <td>0.564991</td>\n",
       "      <td>0.716487</td>\n",
       "      <td>0.513411</td>\n",
       "      <td>0.570094</td>\n",
       "      <td>0.515104</td>\n",
       "      <td>0.684088</td>\n",
       "    </tr>\n",
       "    <tr>\n",
       "      <th>transcript_6684</th>\n",
       "      <td>0.688726</td>\n",
       "      <td>0.431695</td>\n",
       "      <td>0.393302</td>\n",
       "      <td>0.655868</td>\n",
       "      <td>0.597672</td>\n",
       "      <td>0.650575</td>\n",
       "      <td>0.622874</td>\n",
       "      <td>0.510741</td>\n",
       "    </tr>\n",
       "    <tr>\n",
       "      <th>transcript_6687</th>\n",
       "      <td>0.039410</td>\n",
       "      <td>0.049406</td>\n",
       "      <td>0.033497</td>\n",
       "      <td>0.017817</td>\n",
       "      <td>0.000000</td>\n",
       "      <td>0.087052</td>\n",
       "      <td>0.068709</td>\n",
       "      <td>0.000000</td>\n",
       "    </tr>\n",
       "  </tbody>\n",
       "</table>\n",
       "</div>"
      ],
      "text/plain": [
       "                        AJI       CEU       HAC       ITU       LWK       MPC  \\\n",
       "ENST00000413811.3  0.000000  0.000000  0.000000  0.000000  0.000000  0.000000   \n",
       "transcript_6675    0.364595  0.206081  0.348632  0.541199  0.459595  0.675766   \n",
       "transcript_6676    0.850381  0.625232  0.564991  0.716487  0.513411  0.570094   \n",
       "transcript_6684    0.688726  0.431695  0.393302  0.655868  0.597672  0.650575   \n",
       "transcript_6687    0.039410  0.049406  0.033497  0.017817  0.000000  0.087052   \n",
       "\n",
       "                        PEL       YRI  \n",
       "ENST00000413811.3  0.000000  0.000000  \n",
       "transcript_6675    0.694056  0.372693  \n",
       "transcript_6676    0.515104  0.684088  \n",
       "transcript_6684    0.622874  0.510741  \n",
       "transcript_6687    0.068709  0.000000  "
      ]
     },
     "execution_count": 5,
     "metadata": {},
     "output_type": "execute_result"
    }
   ],
   "source": [
    "# get the mean expression value across samples from the same populations\n",
    "df = df.transpose()\n",
    "df.reset_index(inplace=True)\n",
    "df.rename({'index':'sample'}, axis=1, inplace=True)\n",
    "df = df.merge(meta[['sample', 'population']], \n",
    "              how='left', on='sample')\n",
    "df = df.groupby('population').mean().reset_index()\n",
    "df.set_index('population', inplace=True)\n",
    "df.index.name = ''\n",
    "df = df.transpose()\n",
    "df.head()"
   ]
  },
  {
   "cell_type": "code",
   "execution_count": 6,
   "id": "20c82e97-a70a-4ee7-b234-f068170f5355",
   "metadata": {},
   "outputs": [
    {
     "name": "stdout",
     "output_type": "stream",
     "text": [
      "Found 8 samples\n"
     ]
    }
   ],
   "source": [
    "tau_df = compute_tau(df)"
   ]
  },
  {
   "cell_type": "code",
   "execution_count": 7,
   "id": "57694a77-483b-40ad-80d8-bffef28e65b1",
   "metadata": {},
   "outputs": [
    {
     "data": {
      "text/plain": [
       "<seaborn.axisgrid.FacetGrid at 0x7f95902e3150>"
      ]
     },
     "execution_count": 7,
     "metadata": {},
     "output_type": "execute_result"
    },
    {
     "data": {
      "image/png": "[encoded data removed]",
      "text/plain": [
       "<Figure size 360x360 with 1 Axes>"
      ]
     },
     "metadata": {
      "needs_background": "light"
     },
     "output_type": "display_data"
    }
   ],
   "source": [
    "init_plot_settings(aspect='square')\n",
    "sns.displot(tau_df, x='tau', kind='hist')"
   ]
  },
  {
   "cell_type": "code",
   "execution_count": 8,
   "id": "b1643b8c-dfbb-41a9-9514-22e21a4fc892",
   "metadata": {},
   "outputs": [],
   "source": [
    "high_tau = tau_df.loc[tau_df.tau>=0.75]"
   ]
  },
  {
   "cell_type": "code",
   "execution_count": 9,
   "id": "96b24d9c-b516-4220-a174-53d11108106a",
   "metadata": {},
   "outputs": [],
   "source": [
    "high_tau.head()\n",
    "len(high_tau.index)\n",
    "high_tau.reset_index(inplace=True)\n",
    "high_tau.rename({'index':'tid'}, axis=1, inplace=True)"
   ]
  },
  {
   "cell_type": "code",
   "execution_count": 10,
   "id": "24d1ae14-c621-487f-9744-964bc3032224",
   "metadata": {},
   "outputs": [],
   "source": [
    "## what structural categories are high-tau transcripts?\n",
    "mt_df = pd.read_csv('../data/05_mastertable/master_table.tsv', sep='\\t')\n",
    "mt_df = mt_df.loc[mt_df['filter']=='pass']\n",
    "mt_df['pop_spec_t'] = (mt_df.population_sharing==1)&\\\n",
    "                      (mt_df.sample_sharing>1)"
   ]
  },
  {
   "cell_type": "code",
   "execution_count": 11,
   "id": "efbf8763-d2b8-459f-8c15-84a6bb8fa7f0",
   "metadata": {},
   "outputs": [
    {
     "data": {
      "text/plain": [
       "162816"
      ]
     },
     "execution_count": 11,
     "metadata": {},
     "output_type": "execute_result"
    }
   ],
   "source": [
    "len(mt_df.isoform.unique())"
   ]
  },
  {
   "cell_type": "code",
   "execution_count": 12,
   "id": "8dcdfecb-2ae5-42ae-9976-c8c91da95f7c",
   "metadata": {},
   "outputs": [],
   "source": [
    "# temp = mt_df.loc[mt_df.isoform.isin(high_tau.index.tolist())]\n",
    "high_tau = high_tau.merge(mt_df[['isoform', 'structural_category']], \n",
    "                how='left',\n",
    "                left_on='tid',\n",
    "                right_on='isoform')\n",
    "assert len(high_tau.loc[high_tau.isoform.isnull()].index) == \\\n",
    "       len(high_tau.loc[(high_tau.tid.str.startswith('ENST'))&\\\n",
    "                        (high_tau.isoform.isnull())].index)"
   ]
  },
  {
   "cell_type": "code",
   "execution_count": 13,
   "id": "9f205114-a47b-4c46-a428-eb7578cba596",
   "metadata": {},
   "outputs": [],
   "source": [
    "# now we can assume everything that's null is FSM\n",
    "high_tau.loc[high_tau.structural_category.isnull(), 'structural_category'] = 'FSM'"
   ]
  },
  {
   "cell_type": "code",
   "execution_count": 14,
   "id": "2b2b532c-b738-4841-91f7-a63663690ff5",
   "metadata": {},
   "outputs": [],
   "source": [
    "c_dict, order = get_novelty_colors()"
   ]
  },
  {
   "cell_type": "code",
   "execution_count": 15,
   "id": "1a88159d-c97c-44a9-97f2-09d82190c0c2",
   "metadata": {},
   "outputs": [],
   "source": [
    "temp = high_tau[['structural_category', 'tid']].groupby('structural_category').count().rename({'tid':'n_t'}, axis=1).reset_index()"
   ]
  },
  {
   "cell_type": "code",
   "execution_count": 16,
   "id": "67d82526-38ff-4a6f-a48e-a169c351f852",
   "metadata": {},
   "outputs": [
    {
     "data": {
      "text/plain": [
       "['FSM', 'ISM', 'NIC', 'NNC', 'Intergenic', 'Genic', 'Fusion', 'Antisense']"
      ]
     },
     "execution_count": 16,
     "metadata": {},
     "output_type": "execute_result"
    }
   ],
   "source": [
    "order"
   ]
  },
  {
   "cell_type": "code",
   "execution_count": 18,
   "id": "328c75d1-354d-4dc2-80b6-7d9afade491c",
   "metadata": {},
   "outputs": [
    {
     "data": {
      "image/png": "[encoded data removed]",
      "text/plain": [
       "<Figure size 360x360 with 1 Axes>"
      ]
     },
     "metadata": {
      "needs_background": "light"
     },
     "output_type": "display_data"
    }
   ],
   "source": [
    "ax = sns.catplot(temp, y='n_t',x='structural_category',\n",
    "            kind='bar', palette=c_dict, order=order, \n",
    "            saturation=1)"
   ]
  },
  {
   "cell_type": "code",
   "execution_count": null,
   "id": "7edc795a-4d3a-4ffb-a75b-223e118a15c7",
   "metadata": {},
   "outputs": [],
   "source": []
  },
  {
   "cell_type": "code",
   "execution_count": null,
   "id": "edca4643-2a1e-4e4f-9567-3d8131c6f6b5",
   "metadata": {},
   "outputs": [],
   "source": [
    "## BOX plots of expression of high tau transcripts across populations"
   ]
  },
  {
   "cell_type": "code",
   "execution_count": null,
   "id": "4f432bc6-ef91-4419-af8e-5c3ca33e15bf",
   "metadata": {},
   "outputs": [],
   "source": [
    "f = expand(proc_cfg(config['lr']['kallisto']['quant']['merge_matrix_tpm_tsv'],od))[0]\n",
    "\n",
    "meta = load_meta()\n",
    "meta = meta.loc[meta.merged_run_mode==True]\n",
    "sample_d = dict([(entry.cell_line_id, entry['sample']) \\\n",
    "                 for ind, entry in meta.iterrows()])\n",
    "\n",
    "\n",
    "df = pd.read_csv(f, sep='\\t')\n",
    "df.head()\n",
    "df.columns = [d if d == 'transcript_id' else d.split('_')[0] for d in df.columns]\n",
    "df.rename({'transcript_id':'tid'}, axis=1, inplace=True)\n",
    "df.rename(sample_d, axis=1, inplace=True)\n",
    "df.set_index('tid', inplace=True)"
   ]
  },
  {
   "cell_type": "code",
   "execution_count": 29,
   "id": "c1d13785-f172-4194-af42-6b7101e47f95",
   "metadata": {},
   "outputs": [
    {
     "data": {
      "text/html": [
       "<div>\n",
       "<style scoped>\n",
       "    .dataframe tbody tr th:only-of-type {\n",
       "        vertical-align: middle;\n",
       "    }\n",
       "\n",
       "    .dataframe tbody tr th {\n",
       "        vertical-align: top;\n",
       "    }\n",
       "\n",
       "    .dataframe thead th {\n",
       "        text-align: right;\n",
       "    }\n",
       "</style>\n",
       "<table border=\"1\" class=\"dataframe\">\n",
       "  <thead>\n",
       "    <tr style=\"text-align: right;\">\n",
       "      <th></th>\n",
       "      <th>sample</th>\n",
       "      <th>ENST00000413811.3</th>\n",
       "      <th>transcript_6675</th>\n",
       "      <th>transcript_6676</th>\n",
       "      <th>transcript_6684</th>\n",
       "      <th>transcript_6687</th>\n",
       "      <th>transcript_7913</th>\n",
       "      <th>transcript_11363</th>\n",
       "      <th>transcript_11364</th>\n",
       "      <th>transcript_11365</th>\n",
       "      <th>...</th>\n",
       "      <th>transcript_323</th>\n",
       "      <th>transcript_324</th>\n",
       "      <th>transcript_325</th>\n",
       "      <th>transcript_326</th>\n",
       "      <th>transcript_327</th>\n",
       "      <th>transcript_190970</th>\n",
       "      <th>transcript_190971</th>\n",
       "      <th>transcript_328</th>\n",
       "      <th>transcript_329</th>\n",
       "      <th>population</th>\n",
       "    </tr>\n",
       "    <tr>\n",
       "      <th></th>\n",
       "      <th></th>\n",
       "      <th></th>\n",
       "      <th></th>\n",
       "      <th></th>\n",
       "      <th></th>\n",
       "      <th></th>\n",
       "      <th></th>\n",
       "      <th></th>\n",
       "      <th></th>\n",
       "      <th></th>\n",
       "      <th></th>\n",
       "      <th></th>\n",
       "      <th></th>\n",
       "      <th></th>\n",
       "      <th></th>\n",
       "      <th></th>\n",
       "      <th></th>\n",
       "      <th></th>\n",
       "      <th></th>\n",
       "      <th></th>\n",
       "      <th></th>\n",
       "    </tr>\n",
       "  </thead>\n",
       "  <tbody>\n",
       "    <tr>\n",
       "      <th>0</th>\n",
       "      <td>YRI5</td>\n",
       "      <td>0.0</td>\n",
       "      <td>0.478421</td>\n",
       "      <td>0.967951</td>\n",
       "      <td>0.258952</td>\n",
       "      <td>0.000000</td>\n",
       "      <td>0.00000</td>\n",
       "      <td>0.574507</td>\n",
       "      <td>0.450883</td>\n",
       "      <td>0.166448</td>\n",
       "      <td>...</td>\n",
       "      <td>0.0</td>\n",
       "      <td>0.0</td>\n",
       "      <td>0.0</td>\n",
       "      <td>0.0</td>\n",
       "      <td>0.0</td>\n",
       "      <td>0.0</td>\n",
       "      <td>0.0</td>\n",
       "      <td>0.0</td>\n",
       "      <td>0.000000</td>\n",
       "      <td>YRI</td>\n",
       "    </tr>\n",
       "    <tr>\n",
       "      <th>1</th>\n",
       "      <td>YRI6</td>\n",
       "      <td>0.0</td>\n",
       "      <td>0.000000</td>\n",
       "      <td>0.524843</td>\n",
       "      <td>1.166844</td>\n",
       "      <td>0.000000</td>\n",
       "      <td>0.00000</td>\n",
       "      <td>0.538834</td>\n",
       "      <td>0.294428</td>\n",
       "      <td>0.154713</td>\n",
       "      <td>...</td>\n",
       "      <td>0.0</td>\n",
       "      <td>0.0</td>\n",
       "      <td>0.0</td>\n",
       "      <td>0.0</td>\n",
       "      <td>0.0</td>\n",
       "      <td>0.0</td>\n",
       "      <td>0.0</td>\n",
       "      <td>0.0</td>\n",
       "      <td>0.000000</td>\n",
       "      <td>YRI</td>\n",
       "    </tr>\n",
       "    <tr>\n",
       "      <th>2</th>\n",
       "      <td>YRI7</td>\n",
       "      <td>0.0</td>\n",
       "      <td>0.634343</td>\n",
       "      <td>1.127092</td>\n",
       "      <td>0.705864</td>\n",
       "      <td>0.000000</td>\n",
       "      <td>0.00000</td>\n",
       "      <td>0.529828</td>\n",
       "      <td>0.289101</td>\n",
       "      <td>0.314512</td>\n",
       "      <td>...</td>\n",
       "      <td>0.0</td>\n",
       "      <td>0.0</td>\n",
       "      <td>0.0</td>\n",
       "      <td>0.0</td>\n",
       "      <td>0.0</td>\n",
       "      <td>0.0</td>\n",
       "      <td>0.0</td>\n",
       "      <td>0.0</td>\n",
       "      <td>0.000000</td>\n",
       "      <td>YRI</td>\n",
       "    </tr>\n",
       "    <tr>\n",
       "      <th>3</th>\n",
       "      <td>HAC1</td>\n",
       "      <td>0.0</td>\n",
       "      <td>0.172587</td>\n",
       "      <td>0.813163</td>\n",
       "      <td>0.000000</td>\n",
       "      <td>0.078001</td>\n",
       "      <td>0.06995</td>\n",
       "      <td>0.548518</td>\n",
       "      <td>0.072309</td>\n",
       "      <td>0.324798</td>\n",
       "      <td>...</td>\n",
       "      <td>0.0</td>\n",
       "      <td>0.0</td>\n",
       "      <td>0.0</td>\n",
       "      <td>0.0</td>\n",
       "      <td>0.0</td>\n",
       "      <td>0.0</td>\n",
       "      <td>0.0</td>\n",
       "      <td>0.0</td>\n",
       "      <td>0.035399</td>\n",
       "      <td>HAC</td>\n",
       "    </tr>\n",
       "    <tr>\n",
       "      <th>4</th>\n",
       "      <td>HAC2</td>\n",
       "      <td>0.0</td>\n",
       "      <td>0.471429</td>\n",
       "      <td>1.351063</td>\n",
       "      <td>0.634301</td>\n",
       "      <td>0.000000</td>\n",
       "      <td>0.00000</td>\n",
       "      <td>0.773998</td>\n",
       "      <td>0.131049</td>\n",
       "      <td>0.000000</td>\n",
       "      <td>...</td>\n",
       "      <td>0.0</td>\n",
       "      <td>0.0</td>\n",
       "      <td>0.0</td>\n",
       "      <td>0.0</td>\n",
       "      <td>0.0</td>\n",
       "      <td>0.0</td>\n",
       "      <td>0.0</td>\n",
       "      <td>0.0</td>\n",
       "      <td>0.122673</td>\n",
       "      <td>HAC</td>\n",
       "    </tr>\n",
       "  </tbody>\n",
       "</table>\n",
       "<p>5 rows × 155877 columns</p>\n",
       "</div>"
      ],
      "text/plain": [
       "  sample  ENST00000413811.3  transcript_6675  transcript_6676  \\\n",
       "                                                                \n",
       "0   YRI5                0.0         0.478421         0.967951   \n",
       "1   YRI6                0.0         0.000000         0.524843   \n",
       "2   YRI7                0.0         0.634343         1.127092   \n",
       "3   HAC1                0.0         0.172587         0.813163   \n",
       "4   HAC2                0.0         0.471429         1.351063   \n",
       "\n",
       "   transcript_6684  transcript_6687  transcript_7913  transcript_11363  \\\n",
       "                                                                         \n",
       "0         0.258952         0.000000          0.00000          0.574507   \n",
       "1         1.166844         0.000000          0.00000          0.538834   \n",
       "2         0.705864         0.000000          0.00000          0.529828   \n",
       "3         0.000000         0.078001          0.06995          0.548518   \n",
       "4         0.634301         0.000000          0.00000          0.773998   \n",
       "\n",
       "   transcript_11364  transcript_11365  ...  transcript_323  transcript_324  \\\n",
       "                                       ...                                   \n",
       "0          0.450883          0.166448  ...             0.0             0.0   \n",
       "1          0.294428          0.154713  ...             0.0             0.0   \n",
       "2          0.289101          0.314512  ...             0.0             0.0   \n",
       "3          0.072309          0.324798  ...             0.0             0.0   \n",
       "4          0.131049          0.000000  ...             0.0             0.0   \n",
       "\n",
       "   transcript_325  transcript_326  transcript_327  transcript_190970  \\\n",
       "                                                                       \n",
       "0             0.0             0.0             0.0                0.0   \n",
       "1             0.0             0.0             0.0                0.0   \n",
       "2             0.0             0.0             0.0                0.0   \n",
       "3             0.0             0.0             0.0                0.0   \n",
       "4             0.0             0.0             0.0                0.0   \n",
       "\n",
       "   transcript_190971  transcript_328  transcript_329  population  \n",
       "                                                                  \n",
       "0                0.0             0.0        0.000000         YRI  \n",
       "1                0.0             0.0        0.000000         YRI  \n",
       "2                0.0             0.0        0.000000         YRI  \n",
       "3                0.0             0.0        0.035399         HAC  \n",
       "4                0.0             0.0        0.122673         HAC  \n",
       "\n",
       "[5 rows x 155877 columns]"
      ]
     },
     "execution_count": 29,
     "metadata": {},
     "output_type": "execute_result"
    }
   ],
   "source": [
    "log_df = np.log2(df+1)\n",
    "log_df = log_df.transpose()\n",
    "log_df.reset_index(inplace=True)\n",
    "log_df.rename({'index':'sample'}, axis=1, inplace=True)\n",
    "log_df = log_df.merge(meta[['sample', 'population']], \n",
    "              how='left', on='sample')\n",
    "# log_df.set_index('population', inplace=True)\n",
    "log_df.index.name = ''\n",
    "log_df.head()"
   ]
  },
  {
   "cell_type": "code",
   "execution_count": 32,
   "id": "09ac1171-4c41-484d-9d0b-e10ca2f4e2c1",
   "metadata": {},
   "outputs": [],
   "source": [
    "log_df = log_df.melt(id_vars=['sample', 'population'],\n",
    "            var_name='tid', value_name='log2tpm')"
   ]
  },
  {
   "cell_type": "code",
   "execution_count": 33,
   "id": "d3c76904-d20d-4619-a5a0-d269960015e1",
   "metadata": {},
   "outputs": [],
   "source": [
    "c_dict, order = get_population_colors()"
   ]
  },
  {
   "cell_type": "code",
   "execution_count": null,
   "id": "acea2d16-204a-4a7b-9977-f1f7e3ac6d03",
   "metadata": {},
   "outputs": [],
   "source": [
    "tid = ''"
   ]
  }
 ],
 "metadata": {
  "kernelspec": {
   "display_name": "Python 3",
   "language": "python",
   "name": "python3"
  },
  "language_info": {
   "codemirror_mode": {
    "name": "ipython",
    "version": 3
   },
   "file_extension": ".py",
   "mimetype": "text/x-python",
   "name": "python",
   "nbconvert_exporter": "python",
   "pygments_lexer": "ipython3",
   "version": "3.7.12"
  }
 },
 "nbformat": 4,
 "nbformat_minor": 5
}
