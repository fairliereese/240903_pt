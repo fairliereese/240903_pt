{
 "cells": [
  {
   "cell_type": "code",
   "execution_count": 7,
   "id": "6d8cf0b4-4450-49e5-baf7-2aecaa8781fd",
   "metadata": {},
   "outputs": [],
   "source": [
    "import pandas as pd\n",
    "import numpy as np\n",
    "import scipy.stats as st\n",
    "import seaborn as sns\n",
    "import sys\n",
    "import os\n",
    "import matplotlib.pyplot as plt\n",
    "import swan_vis as swan\n",
    "import yaml\n",
    "from snakemake.io import expand\n",
    "import cerberus\n",
    "import pyranges as pr\n",
    "import upsetplot\n",
    "\n",
    "p = os.path.dirname(os.getcwd())\n",
    "sys.path.append(p)\n",
    "\n",
    "from scripts.utils import *\n",
    "from scripts.vcf_utils import *\n",
    "from scripts.plotting import *\n",
    "from scripts.sm_utils import *"
   ]
  },
  {
   "cell_type": "code",
   "execution_count": 8,
   "id": "bdaf8985-2f8f-469c-abc8-13da08d503bf",
   "metadata": {},
   "outputs": [],
   "source": [
    "config = load_config()\n",
    "od = '../'\n",
    "\n",
    "def proc_cfg(entry, od):\n",
    "    entry = entry.replace('../../', '')\n",
    "    entry = od+entry\n",
    "    return entry"
   ]
  },
  {
   "cell_type": "code",
   "execution_count": 10,
   "id": "beaad911-1bb8-40f5-bb7b-c875dea8774a",
   "metadata": {},
   "outputs": [],
   "source": [
    "meta_file = '../config.tsv'\n",
    "meta_file_2 = '../snakemake/map_personal/config.tsv'\n",
    "genomes_file = '../snakemake/map_personal/genomes_config.tsv'\n",
    "\n",
    "df = parse_config(meta_file)\n",
    "df2 = pd.read_csv(meta_file_2, sep='\\t')\n",
    "df2['tech_rep'] = df2.cell_line_id+'_1'\n",
    "\n",
    "# TODO test\n",
    "# df2 = df2.loc[df2.cell_line_id == 'GM24385']\n",
    "\n",
    "# get the genomes to download\n",
    "g_df = pd.read_csv(genomes_file, sep='\\t')\n",
    "\n",
    "# maternal haplotypes\n",
    "g_df['aws_mat_link'] = g_df['hap2_aws_fasta']\n",
    "g_df = g_df.loc[g_df['aws_mat_link'].notnull()]\n",
    "assert len(g_df.loc[g_df['aws_mat_link'].str.contains('maternal')].index) == len(g_df.index)\n",
    "\n",
    "# paternal haplotypes\n",
    "g_df['aws_pat_link'] = g_df['hap1_aws_fasta']\n",
    "g_df = g_df.loc[g_df['aws_pat_link'].notnull()]\n",
    "assert len(g_df.loc[g_df['aws_pat_link'].str.contains('paternal')].index) == len(g_df.index)\n",
    "\n",
    "\n",
    "genome_cols = ['same_population_sample', 'european_sample',\t'afr_sample']\n",
    "g_df = g_df.loc[(g_df['sample'].isin(df2[genome_cols[0]]))|\n",
    "                (g_df['sample'].isin(df2[genome_cols[1]]))|\n",
    "                (g_df['sample'].isin(df2[genome_cols[2]]))]\n",
    "\n",
    "# a little more df2 formatting\n",
    "df2 = df2[['tech_rep', 'same_population_sample',\n",
    "           'european_sample', 'afr_sample']].melt(id_vars='tech_rep')\n",
    "df2 = df2.reset_index()\n",
    "df2 = df2.rename({'variable':'assembly_status',\n",
    "                  'value': 'assembly_sample'},\n",
    "                  axis=1)\n",
    "\n",
    "# limit just to the samples where we'll do this\n",
    "df = df.loc[df.tech_rep.isin(df2.tech_rep.tolist())]\n",
    "\n",
    "# get a key for assembly status, assembly sample, and actual sample\n",
    "df2['dataset_key'] = df2.assembly_status+'_'+\\\n",
    "                     df2.assembly_sample+'_'+\\\n",
    "                     df2.tech_rep\n"
   ]
  },
  {
   "cell_type": "code",
   "execution_count": 17,
   "id": "631b0279-a96f-494b-b3ed-66c66c209daf",
   "metadata": {},
   "outputs": [],
   "source": [
    "sample = 'HG00621_1' # params.sample\n",
    "sample_1 = sample.split('_')[0]\n",
    "assemblies = ['same_population_sample',\n",
    "              'european_sample',\n",
    "              'afr_sample']\n",
    "meta = load_meta()\n",
    "pop = meta.loc[meta['sample'] == sample_1, 'population'].values[0]\n",
    "c_dict, _ = get_population_colors()\n",
    "color = c_dict[pop]\n",
    "\n",
    "# TODO \n",
    "df2 = df2.loc[df2.tech_rep==sample]"
   ]
  },
  {
   "cell_type": "code",
   "execution_count": 24,
   "id": "89ae8cea-c81f-4ee2-9350-6b5a1bd581e0",
   "metadata": {},
   "outputs": [
    {
     "data": {
      "text/plain": [
       "['../data/map_personal/same_population_sample/HG00673_HG00621_1_mapqs.txt',\n",
       " '../data/map_personal/european_sample/HG002_HG00621_1_mapqs.txt',\n",
       " '../data/map_personal/afr_sample/HG02717_HG00621_1_mapqs.txt']"
      ]
     },
     "execution_count": 24,
     "metadata": {},
     "output_type": "execute_result"
    }
   ],
   "source": [
    "files = expand(expand(proc_cfg(config['lr']['map_personal']['bam_mapqs'],od),\n",
    "       zip,\n",
    "       assembly_status=df2.assembly_status.tolist(),\n",
    "       assembly_sample=df2.assembly_sample.tolist(),\n",
    "       allow_missing=True),\n",
    "       sample=sample)\n",
    "files"
   ]
  },
  {
   "cell_type": "code",
   "execution_count": 23,
   "id": "fddd9efe-a6d7-4964-824e-26e0d22fa158",
   "metadata": {},
   "outputs": [
    {
     "name": "stdout",
     "output_type": "stream",
     "text": [
      "> \u001b[0;32m<ipython-input-23-5e9d05b6f4dc>\u001b[0m(13)\u001b[0;36m<module>\u001b[0;34m()\u001b[0m\n",
      "\u001b[0;32m     11 \u001b[0;31m        \u001b[0mdf\u001b[0m \u001b[0;34m=\u001b[0m \u001b[0mpd\u001b[0m\u001b[0;34m.\u001b[0m\u001b[0mconcat\u001b[0m\u001b[0;34m(\u001b[0m\u001b[0;34m[\u001b[0m\u001b[0mdf\u001b[0m\u001b[0;34m,\u001b[0m \u001b[0mtemp\u001b[0m\u001b[0;34m]\u001b[0m\u001b[0;34m,\u001b[0m \u001b[0maxis\u001b[0m\u001b[0;34m=\u001b[0m\u001b[0;36m0\u001b[0m\u001b[0;34m)\u001b[0m\u001b[0;34m\u001b[0m\u001b[0;34m\u001b[0m\u001b[0m\n",
      "\u001b[0m\u001b[0;32m     12 \u001b[0;31m    \u001b[0;32mimport\u001b[0m \u001b[0mpdb\u001b[0m\u001b[0;34m;\u001b[0m \u001b[0mpdb\u001b[0m\u001b[0;34m.\u001b[0m\u001b[0mset_trace\u001b[0m\u001b[0;34m(\u001b[0m\u001b[0;34m)\u001b[0m\u001b[0;34m\u001b[0m\u001b[0;34m\u001b[0m\u001b[0m\n",
      "\u001b[0m\u001b[0;32m---> 13 \u001b[0;31m    \u001b[0mi\u001b[0m \u001b[0;34m+=\u001b[0m \u001b[0;36m1\u001b[0m\u001b[0;34m\u001b[0m\u001b[0;34m\u001b[0m\u001b[0m\n",
      "\u001b[0m\u001b[0;32m     14 \u001b[0;31m\u001b[0;34m\u001b[0m\u001b[0m\n",
      "\u001b[0m\u001b[0;32m     15 \u001b[0;31m\u001b[0;31m# assert min mapq\u001b[0m\u001b[0;34m\u001b[0m\u001b[0;34m\u001b[0m\u001b[0;34m\u001b[0m\u001b[0m\n",
      "\u001b[0m\n"
     ]
    },
    {
     "name": "stdin",
     "output_type": "stream",
     "text": [
      "ipdb>  df.head()\n"
     ]
    },
    {
     "name": "stdout",
     "output_type": "stream",
     "text": [
      "                                  read_id  mapq                assembly\n",
      "0  2d3a1bfa-c047-4a1c-a16b-2e0d56635468:0    60  same_population_sample\n",
      "1  a61d2725-6667-4bb1-845d-b8be74dd644b:0    36  same_population_sample\n",
      "2  c226fd2f-9701-47bd-b155-c50a3f8ed2d9:0    60  same_population_sample\n",
      "3  db8cd70c-b9b6-405a-9cfb-9a30467f12b7:0    60  same_population_sample\n",
      "4  8ba6f531-eaa2-4132-b031-feadf47ae941:0    60  same_population_sample\n"
     ]
    },
    {
     "name": "stdin",
     "output_type": "stream",
     "text": [
      "ipdb>  c\n"
     ]
    },
    {
     "name": "stdout",
     "output_type": "stream",
     "text": [
      "> \u001b[0;32m<ipython-input-23-5e9d05b6f4dc>\u001b[0m(12)\u001b[0;36m<module>\u001b[0;34m()\u001b[0m\n",
      "\u001b[0;32m     10 \u001b[0;31m    \u001b[0;32melse\u001b[0m\u001b[0;34m:\u001b[0m\u001b[0;34m\u001b[0m\u001b[0;34m\u001b[0m\u001b[0m\n",
      "\u001b[0m\u001b[0;32m     11 \u001b[0;31m        \u001b[0mdf\u001b[0m \u001b[0;34m=\u001b[0m \u001b[0mpd\u001b[0m\u001b[0;34m.\u001b[0m\u001b[0mconcat\u001b[0m\u001b[0;34m(\u001b[0m\u001b[0;34m[\u001b[0m\u001b[0mdf\u001b[0m\u001b[0;34m,\u001b[0m \u001b[0mtemp\u001b[0m\u001b[0;34m]\u001b[0m\u001b[0;34m,\u001b[0m \u001b[0maxis\u001b[0m\u001b[0;34m=\u001b[0m\u001b[0;36m0\u001b[0m\u001b[0;34m)\u001b[0m\u001b[0;34m\u001b[0m\u001b[0;34m\u001b[0m\u001b[0m\n",
      "\u001b[0m\u001b[0;32m---> 12 \u001b[0;31m    \u001b[0;32mimport\u001b[0m \u001b[0mpdb\u001b[0m\u001b[0;34m;\u001b[0m \u001b[0mpdb\u001b[0m\u001b[0;34m.\u001b[0m\u001b[0mset_trace\u001b[0m\u001b[0;34m(\u001b[0m\u001b[0;34m)\u001b[0m\u001b[0;34m\u001b[0m\u001b[0;34m\u001b[0m\u001b[0m\n",
      "\u001b[0m\u001b[0;32m     13 \u001b[0;31m    \u001b[0mi\u001b[0m \u001b[0;34m+=\u001b[0m \u001b[0;36m1\u001b[0m\u001b[0;34m\u001b[0m\u001b[0;34m\u001b[0m\u001b[0m\n",
      "\u001b[0m\u001b[0;32m     14 \u001b[0;31m\u001b[0;34m\u001b[0m\u001b[0m\n",
      "\u001b[0m\n"
     ]
    },
    {
     "name": "stdin",
     "output_type": "stream",
     "text": [
      "ipdb>  df.head()\n"
     ]
    },
    {
     "name": "stdout",
     "output_type": "stream",
     "text": [
      "                                  read_id  mapq                assembly\n",
      "0  2d3a1bfa-c047-4a1c-a16b-2e0d56635468:0    60  same_population_sample\n",
      "1  a61d2725-6667-4bb1-845d-b8be74dd644b:0    36  same_population_sample\n",
      "2  c226fd2f-9701-47bd-b155-c50a3f8ed2d9:0    60  same_population_sample\n",
      "3  db8cd70c-b9b6-405a-9cfb-9a30467f12b7:0    60  same_population_sample\n",
      "4  8ba6f531-eaa2-4132-b031-feadf47ae941:0    60  same_population_sample\n"
     ]
    },
    {
     "name": "stdin",
     "output_type": "stream",
     "text": [
      "ipdb>  df.assembly.unique()\n"
     ]
    },
    {
     "name": "stdout",
     "output_type": "stream",
     "text": [
      "array(['same_population_sample', 'european_sample'], dtype=object)\n"
     ]
    },
    {
     "name": "stdin",
     "output_type": "stream",
     "text": [
      "ipdb>  c\n"
     ]
    },
    {
     "name": "stdout",
     "output_type": "stream",
     "text": [
      "> \u001b[0;32m<ipython-input-23-5e9d05b6f4dc>\u001b[0m(13)\u001b[0;36m<module>\u001b[0;34m()\u001b[0m\n",
      "\u001b[0;32m     11 \u001b[0;31m        \u001b[0mdf\u001b[0m \u001b[0;34m=\u001b[0m \u001b[0mpd\u001b[0m\u001b[0;34m.\u001b[0m\u001b[0mconcat\u001b[0m\u001b[0;34m(\u001b[0m\u001b[0;34m[\u001b[0m\u001b[0mdf\u001b[0m\u001b[0;34m,\u001b[0m \u001b[0mtemp\u001b[0m\u001b[0;34m]\u001b[0m\u001b[0;34m,\u001b[0m \u001b[0maxis\u001b[0m\u001b[0;34m=\u001b[0m\u001b[0;36m0\u001b[0m\u001b[0;34m)\u001b[0m\u001b[0;34m\u001b[0m\u001b[0;34m\u001b[0m\u001b[0m\n",
      "\u001b[0m\u001b[0;32m     12 \u001b[0;31m    \u001b[0;32mimport\u001b[0m \u001b[0mpdb\u001b[0m\u001b[0;34m;\u001b[0m \u001b[0mpdb\u001b[0m\u001b[0;34m.\u001b[0m\u001b[0mset_trace\u001b[0m\u001b[0;34m(\u001b[0m\u001b[0;34m)\u001b[0m\u001b[0;34m\u001b[0m\u001b[0;34m\u001b[0m\u001b[0m\n",
      "\u001b[0m\u001b[0;32m---> 13 \u001b[0;31m    \u001b[0mi\u001b[0m \u001b[0;34m+=\u001b[0m \u001b[0;36m1\u001b[0m\u001b[0;34m\u001b[0m\u001b[0;34m\u001b[0m\u001b[0m\n",
      "\u001b[0m\u001b[0;32m     14 \u001b[0;31m\u001b[0;34m\u001b[0m\u001b[0m\n",
      "\u001b[0m\u001b[0;32m     15 \u001b[0;31m\u001b[0;31m# assert min mapq\u001b[0m\u001b[0;34m\u001b[0m\u001b[0;34m\u001b[0m\u001b[0;34m\u001b[0m\u001b[0m\n",
      "\u001b[0m\n"
     ]
    },
    {
     "name": "stdin",
     "output_type": "stream",
     "text": [
      "ipdb>  c\n"
     ]
    },
    {
     "ename": "NameError",
     "evalue": "name 'thresh' is not defined",
     "output_type": "error",
     "traceback": [
      "\u001b[0;31m---------------------------------------------------------------------------\u001b[0m",
      "\u001b[0;31mNameError\u001b[0m                                 Traceback (most recent call last)",
      "\u001b[0;32m<ipython-input-23-5e9d05b6f4dc>\u001b[0m in \u001b[0;36m<module>\u001b[0;34m\u001b[0m\n\u001b[1;32m     14\u001b[0m \u001b[0;34m\u001b[0m\u001b[0m\n\u001b[1;32m     15\u001b[0m \u001b[0;31m# assert min mapq\u001b[0m\u001b[0;34m\u001b[0m\u001b[0;34m\u001b[0m\u001b[0;34m\u001b[0m\u001b[0m\n\u001b[0;32m---> 16\u001b[0;31m \u001b[0mdf\u001b[0m \u001b[0;34m=\u001b[0m \u001b[0mdf\u001b[0m\u001b[0;34m.\u001b[0m\u001b[0mloc\u001b[0m\u001b[0;34m[\u001b[0m\u001b[0mdf\u001b[0m\u001b[0;34m.\u001b[0m\u001b[0mmapq\u001b[0m\u001b[0;34m>\u001b[0m\u001b[0mthresh\u001b[0m\u001b[0;34m]\u001b[0m\u001b[0;34m\u001b[0m\u001b[0;34m\u001b[0m\u001b[0m\n\u001b[0m\u001b[1;32m     17\u001b[0m \u001b[0;34m\u001b[0m\u001b[0m\n\u001b[1;32m     18\u001b[0m \u001b[0;31m# groupby read id and mapq to find reads that map equally as well\u001b[0m\u001b[0;34m\u001b[0m\u001b[0;34m\u001b[0m\u001b[0;34m\u001b[0m\u001b[0m\n",
      "\u001b[0;31mNameError\u001b[0m: name 'thresh' is not defined"
     ]
    }
   ],
   "source": [
    "# get upset plot table\n",
    "i = 0\n",
    "for f, a in zip(files, assemblies):\n",
    "    temp = pd.read_csv(f, sep='\\t')\n",
    "    # temp.rename({'mapq':a}, axis=1, inplace=True)\n",
    "    assert len(temp.index) == len(temp.read_id.unique())\n",
    "    temp['assembly']=a\n",
    "    if i == 0:\n",
    "        df = temp.copy(deep=True)\n",
    "    else:\n",
    "        df = pd.concat([df, temp], axis=0)\n",
    "    import pdb; pdb.set_trace()\n",
    "    i += 1\n",
    "\n",
    "# assert min mapq\n",
    "df = df.loc[df.mapq>thresh]\n",
    "\n",
    "# groupby read id and mapq to find reads that map equally as well\n",
    "df = df.groupby(['read_id', 'mapq']).agg({\n",
    "    'assembly': lambda x: ','.join(x)})\n",
    "\n",
    "# sort by mapq and dedupe by keeping max\n",
    "df.reset_index(inplace=True)\n",
    "df = df.sort_values(by='mapq', ascending=False)\n",
    "df = df.drop_duplicates(subset=['read_id'], keep='first')\n",
    "\n",
    "# process out using the upset plot stuff\n",
    "df['assembly'] = df.assembly.str.split(',')\n",
    "df = df.explode('assembly')\n",
    "df['val'] = True\n",
    "df = df.pivot(index='read_id', columns='assembly', values='val')\n",
    "df = df.fillna(False)\n",
    "df = df.reset_index()\n",
    "df.set_index(assemblies, inplace=True)\n",
    "\n",
    "# make the upset plot\n",
    "ax_dict = upsetplot.UpSet(df, subset_size='count', facecolor=color, sort_by='cardinality', show_counts=False, show_percentages=True).plot()\n",
    "# ax_dict = upsetplot.UpSet(df, subset_size='count',\n",
    "#                   facecolor=color,\n",
    "#                   sort_by='cardinality',\n",
    "#                   show_counts=False,\n",
    "#                   show_percentages=True).plot()\n",
    "plt.suptitle(f'% of best-mapping {sample} reads w/ mapq>{thresh}')\n",
    "plt.savefig(output.upset, dpi=500)"
   ]
  },
  {
   "cell_type": "code",
   "execution_count": null,
   "id": "7beec451-0772-4420-9246-0087ddeef1da",
   "metadata": {},
   "outputs": [],
   "source": []
  }
 ],
 "metadata": {
  "kernelspec": {
   "display_name": "Python 3",
   "language": "python",
   "name": "python3"
  },
  "language_info": {
   "codemirror_mode": {
    "name": "ipython",
    "version": 3
   },
   "file_extension": ".py",
   "mimetype": "text/x-python",
   "name": "python",
   "nbconvert_exporter": "python",
   "pygments_lexer": "ipython3",
   "version": "3.7.12"
  }
 },
 "nbformat": 4,
 "nbformat_minor": 5
}
