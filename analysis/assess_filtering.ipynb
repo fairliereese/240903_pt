{
 "cells": [
  {
   "cell_type": "code",
   "execution_count": 1,
   "id": "59ee365e-1c43-4596-82b6-f8886c8178bb",
   "metadata": {},
   "outputs": [],
   "source": [
    "import pandas as pd\n",
    "import numpy as np\n",
    "import scipy.stats as st\n",
    "import seaborn as sns\n",
    "import sys\n",
    "import os\n",
    "import matplotlib.pyplot as plt\n",
    "import swan_vis as swan\n",
    "import yaml\n",
    "from snakemake.io import expand\n",
    "import cerberus\n",
    "import pyranges as pr\n",
    "import upsetplot\n",
    "\n",
    "p = os.path.dirname(os.getcwd())\n",
    "sys.path.append(p)\n",
    "\n",
    "from scripts.utils import *\n",
    "from scripts.vcf_utils import *\n",
    "from scripts.plotting import *"
   ]
  },
  {
   "cell_type": "code",
   "execution_count": 2,
   "id": "db6edd22-b66f-4a42-9165-6b53539354c4",
   "metadata": {},
   "outputs": [],
   "source": [
    "config = load_config()\n",
    "od = '../'\n",
    "\n",
    "def proc_cfg(entry, od):\n",
    "    entry = entry.replace('../../', '')\n",
    "    entry = od+entry\n",
    "    return entry"
   ]
  },
  {
   "cell_type": "code",
   "execution_count": 3,
   "id": "29f72850-a5f9-4492-a5c7-ff5f44ea2c01",
   "metadata": {},
   "outputs": [],
   "source": [
    "def clean_figure(ax):\n",
    "    ax.spines['right'].set_visible(False)\n",
    "    ax.spines['top'].set_visible(False)\n",
    "    ax.tick_params(axis=\"x\", rotation=45)"
   ]
  },
  {
   "cell_type": "markdown",
   "id": "97c84b16-9c65-4cb0-a3e0-fe3c5ce4ebf0",
   "metadata": {},
   "source": [
    "## What % of PC / LNC RNA / novel multiexonic transcripts do we remove w/ filtering?"
   ]
  },
  {
   "cell_type": "code",
   "execution_count": 11,
   "id": "9f110e31-e672-40ad-b413-7d85d09023e7",
   "metadata": {},
   "outputs": [],
   "source": [
    "mt_df = pd.read_csv('../data/05_mastertable/master_table.tsv', sep='\\t')\n",
    "mt_df['pop_spec_t'] = (mt_df.population_sharing==1)&\\\n",
    "                      (mt_df.sample_sharing>1)"
   ]
  },
  {
   "cell_type": "code",
   "execution_count": 12,
   "id": "4aa284a7-2fca-4865-ab1f-2a08567afbfe",
   "metadata": {},
   "outputs": [],
   "source": [
    "# limit to PC and lnc and novel\n",
    "mt_df = mt_df.loc[(mt_df.associated_gene_biotype.isin(['lncRNA', 'protein_coding']))|\\\n",
    "                  (mt_df.associated_gene_biotype.isnull())]\n",
    "n = len(mt_df.index)"
   ]
  },
  {
   "cell_type": "code",
   "execution_count": 16,
   "id": "315e93fb-5ba2-4873-a2ed-f0326b58550c",
   "metadata": {},
   "outputs": [],
   "source": [
    "# get things passing filtering\n",
    "mt_df = pd.read_csv('../data/05_mastertable/poder_master_table_fixed_genics.tsv', sep='\\t')\n",
    "mt_df['pop_spec_t'] = (mt_df.population_sharing==1)&\\\n",
    "                      (mt_df.sample_sharing>1)\n",
    "n2 = len(mt_df.index)"
   ]
  },
  {
   "cell_type": "code",
   "execution_count": 19,
   "id": "10506ca6-407d-4846-a02e-2880ddbaaf47",
   "metadata": {},
   "outputs": [
    {
     "name": "stdout",
     "output_type": "stream",
     "text": [
      "We discard 222472/378347 multiexonic PC / lnc / novel gene transcripts (58.801047715456974)\n"
     ]
    }
   ],
   "source": [
    "print(f'We discard {n-n2}/{n} multiexonic PC / lnc / novel gene transcripts ({((n-n2)/n)*100})')"
   ]
  },
  {
   "cell_type": "code",
   "execution_count": 18,
   "id": "30881565-bd50-41c4-824b-c51fe5a7b96d",
   "metadata": {},
   "outputs": [
    {
     "name": "stdout",
     "output_type": "stream",
     "text": [
      "155875\n"
     ]
    }
   ],
   "source": [
    "print(n2)"
   ]
  },
  {
   "cell_type": "markdown",
   "id": "f8c44af0-4b82-435b-ba71-687ff635c379",
   "metadata": {},
   "source": [
    "## How many novel loci do we find ? (minus fusion)"
   ]
  },
  {
   "cell_type": "code",
   "execution_count": 21,
   "id": "e7fe8046-b9cd-4c06-a47d-824cb9bdbe12",
   "metadata": {},
   "outputs": [],
   "source": [
    "# get things passing filtering\n",
    "mt_df = pd.read_csv('../data/05_mastertable/poder_master_table_fixed_genics.tsv', sep='\\t')\n",
    "mt_df['pop_spec_t'] = (mt_df.population_sharing==1)&\\\n",
    "                      (mt_df.sample_sharing>1)\n",
    "\n",
    "# get novel only\\\n",
    "nov_structural_cats = ['Antisense', 'Intergenic', 'Genic']\n",
    "mt_df = mt_df.loc[mt_df.structural_category.isin(nov_structural_cats)]"
   ]
  },
  {
   "cell_type": "code",
   "execution_count": 24,
   "id": "5e8fe920-76ec-4340-b64c-9015a5527643",
   "metadata": {},
   "outputs": [
    {
     "data": {
      "text/plain": [
       "1214"
      ]
     },
     "execution_count": 24,
     "metadata": {},
     "output_type": "execute_result"
    }
   ],
   "source": [
    "len(mt_df['geneid.v'].unique())"
   ]
  },
  {
   "cell_type": "code",
   "execution_count": null,
   "id": "764b8598-7ef7-469b-a049-ca2cd0501bce",
   "metadata": {},
   "outputs": [],
   "source": []
  }
 ],
 "metadata": {
  "kernelspec": {
   "display_name": "Python 3 (ipykernel)",
   "language": "python",
   "name": "python3"
  },
  "language_info": {
   "codemirror_mode": {
    "name": "ipython",
    "version": 3
   },
   "file_extension": ".py",
   "mimetype": "text/x-python",
   "name": "python",
   "nbconvert_exporter": "python",
   "pygments_lexer": "ipython3",
   "version": "3.12.5"
  }
 },
 "nbformat": 4,
 "nbformat_minor": 5
}
