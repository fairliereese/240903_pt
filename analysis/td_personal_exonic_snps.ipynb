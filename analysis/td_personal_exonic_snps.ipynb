{
 "cells": [
  {
   "cell_type": "markdown",
   "id": "a6cc2619-6af2-4314-9982-0c8359694d27",
   "metadata": {},
   "source": [
    "## Goal: look for exonic SNPs close to the SJs (+- 10 bp)"
   ]
  },
  {
   "cell_type": "code",
   "execution_count": 260,
   "id": "53c46ec9-3c91-4223-b015-e68c6dcb73cb",
   "metadata": {},
   "outputs": [],
   "source": [
    "import pandas as pd\n",
    "import numpy as np\n",
    "import scipy.stats as st\n",
    "import seaborn as sns\n",
    "import sys\n",
    "import os\n",
    "import matplotlib.pyplot as plt\n",
    "import swan_vis as swan\n",
    "import yaml\n",
    "from snakemake.io import expand\n",
    "import cerberus\n",
    "import pyranges as pr\n",
    "import upsetplot\n",
    "\n",
    "p = os.path.dirname(os.getcwd())\n",
    "sys.path.append(p)\n",
    "\n",
    "from scripts.utils import *\n",
    "from scripts.vcf_utils import *\n",
    "from scripts.plotting import *"
   ]
  },
  {
   "cell_type": "code",
   "execution_count": 261,
   "id": "2260b6a7-5dfc-4d10-a779-49f42da334e9",
   "metadata": {},
   "outputs": [],
   "source": [
    "config = load_config()\n",
    "od = '../'\n",
    "\n",
    "def proc_cfg(entry, od):\n",
    "    entry = entry.replace('../../', '')\n",
    "    entry = od+entry\n",
    "    return entry"
   ]
  },
  {
   "cell_type": "code",
   "execution_count": 262,
   "id": "4a726e50-381c-4d7c-af37-0868165caba1",
   "metadata": {},
   "outputs": [],
   "source": [
    "df = load_meta()\n",
    "df = df.loc[~df['sample'].str.contains('_')]\n",
    "df['lab_sample'] = df['lab_number_sample'].astype(str)+'_'+\\\n",
    "                      df['lab_sampleid'].astype(str)+'_'+\\\n",
    "                      df['cell_line_id'].astype(str)\n",
    "df.columns\n",
    "df = df[['cell_line_id', 'sample', 'hapmap_DNA_ID',\n",
    "          'map_reads_assemblymap','lab_sample', 'population']].drop_duplicates()\n",
    "\n",
    "temp_df = pd.read_csv('../snakemake/transcript_discovery_personal/cell_line_ids.txt', header=None, names=['cell_line_id'])\n",
    "\n",
    "# make a 1000g cell line id col\n",
    "df['cell_line_id_1000g'] = df.cell_line_id\n",
    "\n",
    "inds = df.loc[~df.cell_line_id_1000g.isin(temp_df.cell_line_id.tolist())].index\n",
    "df.loc[inds, 'cell_line_id_1000g'] = df.loc[inds, 'hapmap_DNA_ID']\n",
    "len(df.index)\n",
    "\n",
    "# limit to just those in 1000g\n",
    "df = df.loc[df.cell_line_id_1000g.isin(temp_df.cell_line_id.tolist())]\n",
    "assert len(df.index) == 30\n",
    "\n",
    "# TODO bad sample that hasn't finished on espresso\n",
    "# bad_samples = ['NA19328']\n",
    "# df = df.loc[~df.cell_line_id_1000g.isin(bad_samples)]\n",
    "\n",
    "hap = ['hap1', 'hap2']\n",
    "\n",
    "meta_df = df.copy(deep=True)"
   ]
  },
  {
   "cell_type": "markdown",
   "id": "39ee21e1-807b-492e-bc97-944fa9c4faa1",
   "metadata": {},
   "source": [
    "## We want to know what % of 1.5 NOVEL sjs that we 1. discover only in personal haplotypes that either have 2. noncanonical splice motifs in hg38 or 3. have snps +- 10 of splice junctions"
   ]
  },
  {
   "cell_type": "code",
   "execution_count": 263,
   "id": "71632d01-1258-495a-b386-0fa57f4199a8",
   "metadata": {},
   "outputs": [],
   "source": [
    "file = proc_cfg(config['lr']['td_personal']['sqanti']['sj_summary'],od)\n",
    "df = pd.read_csv(file)\n",
    "df.drop('Unnamed: 0', axis=1, inplace=True)\n",
    "df['detected'] = True"
   ]
  },
  {
   "cell_type": "code",
   "execution_count": 264,
   "id": "816f88ad-16a5-4e99-b7a7-ade0fa6dd1a5",
   "metadata": {},
   "outputs": [],
   "source": [
    "# 1.5 only novel sjs\n",
    "temp = df.loc[df.junction_novelty=='novel']"
   ]
  },
  {
   "cell_type": "code",
   "execution_count": 265,
   "id": "15023a9f-d60b-44d0-816d-bb5530903497",
   "metadata": {},
   "outputs": [],
   "source": [
    "# get only the detection from mapping\n",
    "temp = temp[['sj_id', 'cell_line_id', 'map_genome', 'detected']]\n",
    "temp = temp.drop_duplicates()\n",
    "temp = temp.pivot(index=['sj_id', 'cell_line_id'], \n",
    "                columns=['map_genome'],\n",
    "                values=['detected'])\n",
    "\n",
    "# flatten\n",
    "temp.columns = temp.columns.get_level_values(1)\n",
    "temp.columns.name = None\n",
    "\n",
    "# reset index to make it a flat DataFrame\n",
    "temp = temp.reset_index()\n",
    "\n",
    "# fill missing values with False\n",
    "temp = temp.fillna(False)"
   ]
  },
  {
   "cell_type": "code",
   "execution_count": 266,
   "id": "c0023ded-ff5c-41e7-a379-8f6869f1d637",
   "metadata": {},
   "outputs": [],
   "source": [
    "# 1. get those that are detected uniquely in hap1/2 \n",
    "# (ie those not in hg38)\n",
    "temp = temp.loc[(temp.hg38==False)&\n",
    "                ((temp.hap1+temp.hap2)>0)]"
   ]
  },
  {
   "cell_type": "code",
   "execution_count": 267,
   "id": "b6a58a75-6509-47f5-8257-a5e259b801dc",
   "metadata": {},
   "outputs": [],
   "source": [
    "# 2. get the hg38 canonicity of each of these sjs\n",
    "temp2 = df[['sj_id', 'splice_motif', 'canonical', 'sqanti_genome']].drop_duplicates()\n",
    "temp2 = temp2.loc[temp2.sqanti_genome=='hg38']\n",
    "assert len(temp2.loc[temp2.sj_id.duplicated()]) == 0\n",
    "temp = temp.merge(temp2, how='left', \n",
    "                  on='sj_id')"
   ]
  },
  {
   "cell_type": "code",
   "execution_count": 268,
   "id": "1abb25dc-1d73-4e0e-b5e3-b246c4218d8e",
   "metadata": {},
   "outputs": [
    {
     "data": {
      "text/html": [
       "<div>\n",
       "<style scoped>\n",
       "    .dataframe tbody tr th:only-of-type {\n",
       "        vertical-align: middle;\n",
       "    }\n",
       "\n",
       "    .dataframe tbody tr th {\n",
       "        vertical-align: top;\n",
       "    }\n",
       "\n",
       "    .dataframe thead th {\n",
       "        text-align: right;\n",
       "    }\n",
       "</style>\n",
       "<table border=\"1\" class=\"dataframe\">\n",
       "  <thead>\n",
       "    <tr style=\"text-align: right;\">\n",
       "      <th></th>\n",
       "      <th>sj_id</th>\n",
       "      <th>cell_line_id</th>\n",
       "      <th>exon_10nt_has_var</th>\n",
       "    </tr>\n",
       "  </thead>\n",
       "  <tbody>\n",
       "    <tr>\n",
       "      <th>0</th>\n",
       "      <td>chr1_+_100133316_100136881</td>\n",
       "      <td>HG04217</td>\n",
       "      <td>True</td>\n",
       "    </tr>\n",
       "    <tr>\n",
       "      <th>30</th>\n",
       "      <td>chr1_+_101371524_101377257</td>\n",
       "      <td>HG04217</td>\n",
       "      <td>True</td>\n",
       "    </tr>\n",
       "    <tr>\n",
       "      <th>55</th>\n",
       "      <td>chr1_+_101371524_101383321</td>\n",
       "      <td>HG04217</td>\n",
       "      <td>True</td>\n",
       "    </tr>\n",
       "    <tr>\n",
       "      <th>62</th>\n",
       "      <td>chr1_+_101371524_101383417</td>\n",
       "      <td>HG04217</td>\n",
       "      <td>True</td>\n",
       "    </tr>\n",
       "    <tr>\n",
       "      <th>87</th>\n",
       "      <td>chr1_+_101371524_101389669</td>\n",
       "      <td>HG04217</td>\n",
       "      <td>True</td>\n",
       "    </tr>\n",
       "  </tbody>\n",
       "</table>\n",
       "</div>"
      ],
      "text/plain": [
       "                         sj_id cell_line_id  exon_10nt_has_var\n",
       "0   chr1_+_100133316_100136881      HG04217               True\n",
       "30  chr1_+_101371524_101377257      HG04217               True\n",
       "55  chr1_+_101371524_101383321      HG04217               True\n",
       "62  chr1_+_101371524_101383417      HG04217               True\n",
       "87  chr1_+_101371524_101389669      HG04217               True"
      ]
     },
     "execution_count": 268,
     "metadata": {},
     "output_type": "execute_result"
    }
   ],
   "source": [
    "# 3. process snp content in each sj\n",
    "sj_snp_df = pd.DataFrame()\n",
    "for c in meta_df['cell_line_id_1000g'].tolist():\n",
    "    file = proc_cfg(expand(config['lr']['td_personal']['exon_vars']['sj_10nt_vcf_intersect'],\n",
    "                cell_line_id=c)[0],\n",
    "                od)\n",
    "    df = pr.read_bed(file).df\n",
    "    df = df.drop_duplicates()\n",
    "    \n",
    "    # just keep uniq. sj_ids\n",
    "    df.rename({'ThickStart': 'sj_id'}, axis=1, inplace=True)\n",
    "    df = df[['sj_id']]\n",
    "    \n",
    "    df['cell_line_id'] = c\n",
    "    df['exon_10nt_has_var'] = True\n",
    "    sj_snp_df = pd.concat([sj_snp_df, df], axis=0)\n",
    "sj_snp_df.head()"
   ]
  },
  {
   "cell_type": "code",
   "execution_count": 269,
   "id": "312d72de-ffae-4f86-84a3-2877f3343136",
   "metadata": {},
   "outputs": [],
   "source": [
    "# # these are dupes from different samples.\n",
    "# len(df.loc[df.sj_id=='chr1_+_100133316_100136881'])"
   ]
  },
  {
   "cell_type": "code",
   "execution_count": 270,
   "id": "8db8995b-c3a0-494d-bb59-d82ad31fb091",
   "metadata": {},
   "outputs": [],
   "source": [
    "temp = temp.merge(sj_snp_df[['sj_id', 'cell_line_id', 'exon_10nt_has_var']],\n",
    "                  how='left',\n",
    "                  on=['sj_id', 'cell_line_id'])\n",
    "temp.exon_10nt_has_var.fillna(False, inplace=True)"
   ]
  },
  {
   "cell_type": "code",
   "execution_count": 250,
   "id": "55759306-3cd5-44e1-be45-702bbafb052d",
   "metadata": {},
   "outputs": [],
   "source": [
    "# temp.exon_10nt_has_var.fillna(False, inplace=True)\n",
    "# temp.head()"
   ]
  },
  {
   "cell_type": "code",
   "execution_count": 271,
   "id": "ddb88895-26cf-4d9b-b633-b76eca505a37",
   "metadata": {},
   "outputs": [
    {
     "data": {
      "text/html": [
       "<div>\n",
       "<style scoped>\n",
       "    .dataframe tbody tr th:only-of-type {\n",
       "        vertical-align: middle;\n",
       "    }\n",
       "\n",
       "    .dataframe tbody tr th {\n",
       "        vertical-align: top;\n",
       "    }\n",
       "\n",
       "    .dataframe thead th {\n",
       "        text-align: right;\n",
       "    }\n",
       "</style>\n",
       "<table border=\"1\" class=\"dataframe\">\n",
       "  <thead>\n",
       "    <tr style=\"text-align: right;\">\n",
       "      <th></th>\n",
       "      <th>sj_id</th>\n",
       "      <th>cell_line_id</th>\n",
       "      <th>hap1</th>\n",
       "      <th>hap2</th>\n",
       "      <th>hg38</th>\n",
       "      <th>splice_motif</th>\n",
       "      <th>canonical</th>\n",
       "      <th>sqanti_genome</th>\n",
       "      <th>exon_10nt_has_var</th>\n",
       "      <th>has_explanation</th>\n",
       "    </tr>\n",
       "  </thead>\n",
       "  <tbody>\n",
       "    <tr>\n",
       "      <th>0</th>\n",
       "      <td>GL000194.1_-_53893_55445</td>\n",
       "      <td>HG03729</td>\n",
       "      <td>False</td>\n",
       "      <td>True</td>\n",
       "      <td>False</td>\n",
       "      <td>GTAG</td>\n",
       "      <td>canonical</td>\n",
       "      <td>hg38</td>\n",
       "      <td>False</td>\n",
       "      <td>False</td>\n",
       "    </tr>\n",
       "    <tr>\n",
       "      <th>1</th>\n",
       "      <td>GL000194.1_-_53893_55445</td>\n",
       "      <td>HG04217</td>\n",
       "      <td>False</td>\n",
       "      <td>True</td>\n",
       "      <td>False</td>\n",
       "      <td>GTAG</td>\n",
       "      <td>canonical</td>\n",
       "      <td>hg38</td>\n",
       "      <td>False</td>\n",
       "      <td>False</td>\n",
       "    </tr>\n",
       "    <tr>\n",
       "      <th>2</th>\n",
       "      <td>GL000194.1_-_54956_55445</td>\n",
       "      <td>HG04217</td>\n",
       "      <td>False</td>\n",
       "      <td>True</td>\n",
       "      <td>False</td>\n",
       "      <td>GTAG</td>\n",
       "      <td>canonical</td>\n",
       "      <td>hg38</td>\n",
       "      <td>False</td>\n",
       "      <td>False</td>\n",
       "    </tr>\n",
       "    <tr>\n",
       "      <th>3</th>\n",
       "      <td>KI270726.1_+_26127_26229</td>\n",
       "      <td>HG02261</td>\n",
       "      <td>True</td>\n",
       "      <td>False</td>\n",
       "      <td>False</td>\n",
       "      <td>GTAG</td>\n",
       "      <td>canonical</td>\n",
       "      <td>hg38</td>\n",
       "      <td>False</td>\n",
       "      <td>False</td>\n",
       "    </tr>\n",
       "    <tr>\n",
       "      <th>4</th>\n",
       "      <td>chr10_+_100987611_100989643</td>\n",
       "      <td>NA19307</td>\n",
       "      <td>True</td>\n",
       "      <td>True</td>\n",
       "      <td>False</td>\n",
       "      <td>GTAG</td>\n",
       "      <td>canonical</td>\n",
       "      <td>hg38</td>\n",
       "      <td>True</td>\n",
       "      <td>True</td>\n",
       "    </tr>\n",
       "  </tbody>\n",
       "</table>\n",
       "</div>"
      ],
      "text/plain": [
       "                         sj_id cell_line_id   hap1   hap2   hg38 splice_motif  \\\n",
       "0     GL000194.1_-_53893_55445      HG03729  False   True  False         GTAG   \n",
       "1     GL000194.1_-_53893_55445      HG04217  False   True  False         GTAG   \n",
       "2     GL000194.1_-_54956_55445      HG04217  False   True  False         GTAG   \n",
       "3     KI270726.1_+_26127_26229      HG02261   True  False  False         GTAG   \n",
       "4  chr10_+_100987611_100989643      NA19307   True   True  False         GTAG   \n",
       "\n",
       "   canonical sqanti_genome  exon_10nt_has_var  has_explanation  \n",
       "0  canonical          hg38              False            False  \n",
       "1  canonical          hg38              False            False  \n",
       "2  canonical          hg38              False            False  \n",
       "3  canonical          hg38              False            False  \n",
       "4  canonical          hg38               True             True  "
      ]
     },
     "execution_count": 271,
     "metadata": {},
     "output_type": "execute_result"
    }
   ],
   "source": [
    "temp['has_explanation'] = (temp.canonical=='non_canonical')|\\\n",
    "                          (temp.exon_10nt_has_var==True)\n",
    "temp.head()"
   ]
  },
  {
   "cell_type": "code",
   "execution_count": 272,
   "id": "07c3d823-5b87-4062-b924-8553898ffceb",
   "metadata": {},
   "outputs": [],
   "source": [
    "# compute the # and % of hap1/hap2-spec sjs (per sample) that are canonical\n",
    "# vs. {non-canonical in hg38 OR hav variants in +-bp}\n",
    "temp = temp[['sj_id', 'cell_line_id', 'has_explanation']]\n",
    "temp = temp.groupby(['cell_line_id', 'has_explanation']).nunique().reset_index().rename({'sj_id':'n_sj'}, axis=1)"
   ]
  },
  {
   "cell_type": "code",
   "execution_count": 273,
   "id": "fbed93bc-76a3-4adb-9ac8-10f67503080d",
   "metadata": {},
   "outputs": [],
   "source": [
    "# add total & compute %\n",
    "temp['total'] = temp.groupby('cell_line_id')['n_sj'].transform('sum')\n",
    "temp['perc'] = (temp.n_sj/temp.total)*100"
   ]
  },
  {
   "cell_type": "code",
   "execution_count": 274,
   "id": "f644907d-d693-43dc-afff-054e4eff4554",
   "metadata": {},
   "outputs": [
    {
     "data": {
      "image/png": "[encoded data removed]",
      "text/plain": [
       "<Figure size 360x360 with 1 Axes>"
      ]
     },
     "metadata": {
      "needs_background": "light"
     },
     "output_type": "display_data"
    }
   ],
   "source": [
    "init_plot_settings(aspect='square')\n",
    "temp = temp.loc[temp.has_explanation==True]\n",
    "ax  = sns.boxplot(temp, \n",
    "                  y='perc', showfliers=False)\n",
    "sns.stripplot(temp,\n",
    "              y='perc',\n",
    "              size=10)\n",
    "ax.set(ylabel='% of novel, hg38 undet. SJs\\nwhich are noncanonical\\nor have exonic variant +-10bp')\n",
    "ax.spines['right'].set_visible(False)\n",
    "ax.spines['top'].set_visible(False)"
   ]
  },
  {
   "cell_type": "code",
   "execution_count": 275,
   "id": "520ca7bc-9256-4d9e-a1dd-549afc5a4ab2",
   "metadata": {},
   "outputs": [
    {
     "data": {
      "text/plain": [
       "38.09321238661245"
      ]
     },
     "execution_count": 275,
     "metadata": {},
     "output_type": "execute_result"
    }
   ],
   "source": [
    "temp.perc.median()"
   ]
  },
  {
   "cell_type": "code",
   "execution_count": 276,
   "id": "3b302616-becb-42c7-8983-abcad9d0054f",
   "metadata": {},
   "outputs": [
    {
     "data": {
      "text/plain": [
       "177.5"
      ]
     },
     "execution_count": 276,
     "metadata": {},
     "output_type": "execute_result"
    }
   ],
   "source": [
    "temp.n_sj.median()"
   ]
  },
  {
   "cell_type": "code",
   "execution_count": 277,
   "id": "25cff1b0-af3e-4e5c-bfdc-6a84b49be790",
   "metadata": {},
   "outputs": [
    {
     "data": {
      "text/plain": [
       "465.0"
      ]
     },
     "execution_count": 277,
     "metadata": {},
     "output_type": "execute_result"
    }
   ],
   "source": [
    "temp.total.median()"
   ]
  },
  {
   "cell_type": "code",
   "execution_count": null,
   "id": "c9d6a5c3-4fc4-4464-8819-87f084fb9bd7",
   "metadata": {},
   "outputs": [],
   "source": []
  },
  {
   "cell_type": "code",
   "execution_count": null,
   "id": "a687bc16-e804-48e5-a0d3-90ff134e1c14",
   "metadata": {},
   "outputs": [],
   "source": []
  },
  {
   "cell_type": "code",
   "execution_count": null,
   "id": "8ae6ad81-124a-4fa9-8212-d0644a36fcf6",
   "metadata": {},
   "outputs": [],
   "source": []
  },
  {
   "cell_type": "code",
   "execution_count": null,
   "id": "465b89e8-5a79-4698-8060-2a9b7d5ace7c",
   "metadata": {},
   "outputs": [],
   "source": []
  },
  {
   "cell_type": "code",
   "execution_count": null,
   "id": "49d84cd1-7599-4799-bbeb-28e357b2e7e1",
   "metadata": {},
   "outputs": [],
   "source": []
  },
  {
   "cell_type": "code",
   "execution_count": null,
   "id": "3b78a9de-81d9-494f-9618-8934df9e50e6",
   "metadata": {},
   "outputs": [],
   "source": []
  },
  {
   "cell_type": "code",
   "execution_count": null,
   "id": "59566235-8820-457d-b822-28ed724ff8de",
   "metadata": {},
   "outputs": [],
   "source": []
  },
  {
   "cell_type": "code",
   "execution_count": null,
   "id": "8f239d40-d02a-4b71-b258-4a4d707c65e3",
   "metadata": {},
   "outputs": [],
   "source": []
  },
  {
   "cell_type": "markdown",
   "id": "c1aea0cf-f391-41e0-b257-d4fb378bf5cc",
   "metadata": {},
   "source": [
    "## dev for geting sjs"
   ]
  },
  {
   "cell_type": "code",
   "execution_count": 109,
   "id": "58640fc9-87cf-49c3-9689-138b8aa570b8",
   "metadata": {},
   "outputs": [],
   "source": [
    "# temp_back = temp.copy(deep=True)"
   ]
  },
  {
   "cell_type": "code",
   "execution_count": 213,
   "id": "9d0e441f-3a78-4525-8ddc-4a2c332f2ae3",
   "metadata": {},
   "outputs": [],
   "source": [
    "temp = temp_back.copy(deep=True)"
   ]
  },
  {
   "cell_type": "code",
   "execution_count": 214,
   "id": "9dad5fd2-f3f3-407d-a43f-9d04b2b4ef8b",
   "metadata": {},
   "outputs": [],
   "source": [
    "# # check w/ just 1 genome + cell line at first so I can \n",
    "# # dl GTF and check it\n",
    "# temp = temp.loc[(temp.cell_line_id=='HG03732')&\\\n",
    "#                 (temp.hap1==True)]"
   ]
  },
  {
   "cell_type": "code",
   "execution_count": 189,
   "id": "44958fd9-72f4-480d-b9a3-48471644b76b",
   "metadata": {},
   "outputs": [],
   "source": [
    "temp[['Chromosome', 'Strand', 'Start', 'End']] = temp.sj_id.str.split('_', expand=True)\n",
    "temp = temp[['Chromosome', 'Strand', 'Start', 'End',\n",
    "             'cell_line_id', 'sj_id']].drop_duplicates()\n",
    "\n",
    "temp.Start = temp.Start.astype(int)\n",
    "temp.End = temp.End.astype(int)\n",
    "assert len(temp.loc[temp.Start>temp.End])==0\n",
    "\n",
    "# melt to 5' and 3'\n",
    "temp = temp.melt(id_vars=['Chromosome', 'Strand', 'cell_line_id', 'sj_id'],\n",
    "                 value_vars=['Start', 'End'])\n",
    "temp['sj_loc'] = ''\n",
    "temp.loc[temp.map_genome=='Start', 'sj_loc'] = 'start'\n",
    "temp.loc[temp.map_genome=='End', 'sj_loc'] = 'end'\n",
    "\n",
    "temp.rename({'value':'Start'}, axis=1, inplace=True)\n",
    "# need to verify that this is working using like one motif or something make\n",
    "# sure I don't have off-by-one errors\n",
    "# verified\n",
    "temp['Start'] = temp.Start-2\n",
    "temp['End'] = temp.Start+1\n",
    "\n",
    "# add 10 to start, rm 10 from end\n",
    "# verified https://trello.com/c/qzMAZpAm\n",
    "temp.loc[temp.sj_loc=='start', 'Start'] = temp.loc[temp.sj_loc=='start', 'Start']-9\n",
    "temp.loc[temp.sj_loc=='end', 'End'] = temp.loc[temp.sj_loc=='end', 'End']+11\n",
    "temp.loc[temp.sj_loc=='end', 'Start'] = temp.loc[temp.sj_loc=='end', 'Start']+2\n",
    "\n",
    "temp.drop(['cell_line_id', 'map_genome'], axis=1, inplace=True)\n",
    "\n",
    "temp['len'] = temp.End-temp.Start\n",
    "assert len(temp.loc[temp.len!=10]) == 0\n",
    "\n",
    "temp = pr.PyRanges(temp)"
   ]
  },
  {
   "cell_type": "code",
   "execution_count": 190,
   "id": "ce993cc8-1e07-47f9-9cfd-e7ffef2aed0c",
   "metadata": {},
   "outputs": [],
   "source": [
    "temp.to_bed('test_10nt.bed')"
   ]
  },
  {
   "cell_type": "code",
   "execution_count": 181,
   "id": "dedbfee0-68e1-46b4-ac83-3ae4c509b962",
   "metadata": {},
   "outputs": [
    {
     "data": {
      "text/html": [
       "<div>\n",
       "<style scoped>\n",
       "    .dataframe tbody tr th:only-of-type {\n",
       "        vertical-align: middle;\n",
       "    }\n",
       "\n",
       "    .dataframe tbody tr th {\n",
       "        vertical-align: top;\n",
       "    }\n",
       "\n",
       "    .dataframe thead th {\n",
       "        text-align: right;\n",
       "    }\n",
       "</style>\n",
       "<table border=\"1\" class=\"dataframe\">\n",
       "  <thead>\n",
       "    <tr style=\"text-align: right;\">\n",
       "      <th></th>\n",
       "      <th>Chromosome</th>\n",
       "      <th>Strand</th>\n",
       "      <th>sj_id</th>\n",
       "      <th>Start</th>\n",
       "      <th>sj_loc</th>\n",
       "      <th>End</th>\n",
       "    </tr>\n",
       "  </thead>\n",
       "  <tbody>\n",
       "    <tr>\n",
       "      <th>0</th>\n",
       "      <td>GL000008.2</td>\n",
       "      <td>+</td>\n",
       "      <td>GL000008.2_+_155532_156720</td>\n",
       "      <td>155521</td>\n",
       "      <td>start</td>\n",
       "      <td>155531</td>\n",
       "    </tr>\n",
       "    <tr>\n",
       "      <th>1</th>\n",
       "      <td>GL000008.2</td>\n",
       "      <td>+</td>\n",
       "      <td>GL000008.2_+_83546_83926</td>\n",
       "      <td>83535</td>\n",
       "      <td>start</td>\n",
       "      <td>83545</td>\n",
       "    </tr>\n",
       "    <tr>\n",
       "      <th>2</th>\n",
       "      <td>GL000008.2</td>\n",
       "      <td>+</td>\n",
       "      <td>GL000008.2_+_83546_83926</td>\n",
       "      <td>83535</td>\n",
       "      <td>start</td>\n",
       "      <td>83545</td>\n",
       "    </tr>\n",
       "    <tr>\n",
       "      <th>3</th>\n",
       "      <td>GL000008.2</td>\n",
       "      <td>+</td>\n",
       "      <td>GL000008.2_+_83546_83926</td>\n",
       "      <td>83535</td>\n",
       "      <td>start</td>\n",
       "      <td>83545</td>\n",
       "    </tr>\n",
       "    <tr>\n",
       "      <th>4</th>\n",
       "      <td>GL000008.2</td>\n",
       "      <td>+</td>\n",
       "      <td>GL000008.2_+_83546_83926</td>\n",
       "      <td>83535</td>\n",
       "      <td>start</td>\n",
       "      <td>83545</td>\n",
       "    </tr>\n",
       "  </tbody>\n",
       "</table>\n",
       "</div>"
      ],
      "text/plain": [
       "   Chromosome Strand                       sj_id   Start sj_loc     End\n",
       "0  GL000008.2      +  GL000008.2_+_155532_156720  155521  start  155531\n",
       "1  GL000008.2      +    GL000008.2_+_83546_83926   83535  start   83545\n",
       "2  GL000008.2      +    GL000008.2_+_83546_83926   83535  start   83545\n",
       "3  GL000008.2      +    GL000008.2_+_83546_83926   83535  start   83545\n",
       "4  GL000008.2      +    GL000008.2_+_83546_83926   83535  start   83545"
      ]
     },
     "execution_count": 181,
     "metadata": {},
     "output_type": "execute_result"
    }
   ],
   "source": [
    "temp.head()\n"
   ]
  },
  {
   "cell_type": "code",
   "execution_count": 163,
   "id": "94567f96-5a5f-445b-a678-5e3ee3bfc55b",
   "metadata": {},
   "outputs": [
    {
     "data": {
      "text/html": [
       "<div>\n",
       "<style scoped>\n",
       "    .dataframe tbody tr th:only-of-type {\n",
       "        vertical-align: middle;\n",
       "    }\n",
       "\n",
       "    .dataframe tbody tr th {\n",
       "        vertical-align: top;\n",
       "    }\n",
       "\n",
       "    .dataframe thead th {\n",
       "        text-align: right;\n",
       "    }\n",
       "</style>\n",
       "<table border=\"1\" class=\"dataframe\">\n",
       "  <thead>\n",
       "    <tr style=\"text-align: right;\">\n",
       "      <th></th>\n",
       "      <th>Chromosome</th>\n",
       "      <th>Strand</th>\n",
       "      <th>cell_line_id</th>\n",
       "      <th>map_genome</th>\n",
       "      <th>Start</th>\n",
       "      <th>sj_loc</th>\n",
       "      <th>End</th>\n",
       "    </tr>\n",
       "  </thead>\n",
       "  <tbody>\n",
       "    <tr>\n",
       "      <th>0</th>\n",
       "      <td>GL000008.2</td>\n",
       "      <td>+</td>\n",
       "      <td>HG03732</td>\n",
       "      <td>Start</td>\n",
       "      <td>155521</td>\n",
       "      <td>start</td>\n",
       "      <td>155531</td>\n",
       "    </tr>\n",
       "    <tr>\n",
       "      <th>1</th>\n",
       "      <td>GL000008.2</td>\n",
       "      <td>+</td>\n",
       "      <td>HG03732</td>\n",
       "      <td>Start</td>\n",
       "      <td>83535</td>\n",
       "      <td>start</td>\n",
       "      <td>83545</td>\n",
       "    </tr>\n",
       "    <tr>\n",
       "      <th>2</th>\n",
       "      <td>GL000008.2</td>\n",
       "      <td>+</td>\n",
       "      <td>HG03732</td>\n",
       "      <td>Start</td>\n",
       "      <td>83535</td>\n",
       "      <td>start</td>\n",
       "      <td>83545</td>\n",
       "    </tr>\n",
       "    <tr>\n",
       "      <th>3</th>\n",
       "      <td>GL000008.2</td>\n",
       "      <td>+</td>\n",
       "      <td>HG03732</td>\n",
       "      <td>Start</td>\n",
       "      <td>84004</td>\n",
       "      <td>start</td>\n",
       "      <td>84014</td>\n",
       "    </tr>\n",
       "    <tr>\n",
       "      <th>4</th>\n",
       "      <td>GL000008.2</td>\n",
       "      <td>+</td>\n",
       "      <td>HG03732</td>\n",
       "      <td>Start</td>\n",
       "      <td>85615</td>\n",
       "      <td>start</td>\n",
       "      <td>85625</td>\n",
       "    </tr>\n",
       "    <tr>\n",
       "      <th>5</th>\n",
       "      <td>GL000008.2</td>\n",
       "      <td>+</td>\n",
       "      <td>HG03732</td>\n",
       "      <td>Start</td>\n",
       "      <td>85615</td>\n",
       "      <td>start</td>\n",
       "      <td>85625</td>\n",
       "    </tr>\n",
       "    <tr>\n",
       "      <th>6</th>\n",
       "      <td>GL000008.2</td>\n",
       "      <td>+</td>\n",
       "      <td>HG03732</td>\n",
       "      <td>Start</td>\n",
       "      <td>85615</td>\n",
       "      <td>start</td>\n",
       "      <td>85625</td>\n",
       "    </tr>\n",
       "    <tr>\n",
       "      <th>7</th>\n",
       "      <td>GL000008.2</td>\n",
       "      <td>+</td>\n",
       "      <td>HG03732</td>\n",
       "      <td>Start</td>\n",
       "      <td>85615</td>\n",
       "      <td>start</td>\n",
       "      <td>85625</td>\n",
       "    </tr>\n",
       "  </tbody>\n",
       "</table>\n",
       "</div>"
      ],
      "text/plain": [
       "+------------+---+---------+-------+--------+-------+--------+\n",
       "| Chromosome\n",
       "(category)            | Strand\n",
       "(category)   | cell_line_id\n",
       "(object)         | map_genome\n",
       "(object)       |        Start\n",
       "(int64) | sj_loc\n",
       "(object)       |        End\n",
       "(int64) |\n",
       "|------------+---+---------+-------+--------+-------+--------|\n",
       "| GL000008.2 | + | HG03732 | Start | 155521 | start | 155531 |\n",
       "| GL000008.2 | + | HG03732 | Start |  83535 | start |  83545 |\n",
       "| GL000008.2 | + | HG03732 | Start |  83535 | start |  83545 |\n",
       "| GL000008.2 | + | HG03732 | Start |  84004 | start |  84014 |\n",
       "| GL000008.2 | + | HG03732 | Start |  85615 | start |  85625 |\n",
       "| GL000008.2 | + | HG03732 | Start |  85615 | start |  85625 |\n",
       "| GL000008.2 | + | HG03732 | Start |  85615 | start |  85625 |\n",
       "| GL000008.2 | + | HG03732 | Start |  85615 | start |  85625 |\n",
       "+------------+---+---------+-------+--------+-------+--------+\n",
       "Stranded PyRanges object has 8 rows and 7 columns from 1 chromosomes.\n",
       "For printing, the PyRanges was sorted on Chromosome and Strand."
      ]
     },
     "execution_count": 163,
     "metadata": {},
     "output_type": "execute_result"
    }
   ],
   "source": []
  },
  {
   "cell_type": "code",
   "execution_count": 164,
   "id": "d4f9c6a4-3351-4f46-a343-c72aec626694",
   "metadata": {},
   "outputs": [],
   "source": [
    "# temp.to_bed('test.bed')\n",
    "# temp.to_bed('test_2.bed')\n"
   ]
  },
  {
   "cell_type": "code",
   "execution_count": null,
   "id": "f3764b21-4a67-40b0-830b-35789582f8a0",
   "metadata": {},
   "outputs": [],
   "source": []
  },
  {
   "cell_type": "code",
   "execution_count": null,
   "id": "b3becdfd-0c68-4f5d-9883-7dae3b99b4d5",
   "metadata": {},
   "outputs": [],
   "source": []
  },
  {
   "cell_type": "code",
   "execution_count": null,
   "id": "1a3d71a9-ea48-4eb1-9cb2-e77d191fbd83",
   "metadata": {},
   "outputs": [],
   "source": []
  },
  {
   "cell_type": "code",
   "execution_count": null,
   "id": "c310b204-c096-45f9-8bc5-439cf720248d",
   "metadata": {},
   "outputs": [],
   "source": []
  },
  {
   "cell_type": "code",
   "execution_count": null,
   "id": "5c3e086f-8eb0-4434-a4ec-e2a91b7c9338",
   "metadata": {},
   "outputs": [],
   "source": []
  },
  {
   "cell_type": "code",
   "execution_count": null,
   "id": "1a3bb136-c3b7-4304-9749-a611af8d3a38",
   "metadata": {},
   "outputs": [],
   "source": []
  }
 ],
 "metadata": {
  "kernelspec": {
   "display_name": "Python 3",
   "language": "python",
   "name": "python3"
  },
  "language_info": {
   "codemirror_mode": {
    "name": "ipython",
    "version": 3
   },
   "file_extension": ".py",
   "mimetype": "text/x-python",
   "name": "python",
   "nbconvert_exporter": "python",
   "pygments_lexer": "ipython3",
   "version": "3.7.12"
  }
 },
 "nbformat": 4,
 "nbformat_minor": 5
}
