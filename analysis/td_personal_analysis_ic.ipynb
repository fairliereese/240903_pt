{
 "cells": [
  {
   "cell_type": "code",
   "execution_count": 2,
   "id": "76d85def-44f5-4d9f-b583-d9a32ba7a9be",
   "metadata": {},
   "outputs": [],
   "source": [
    "import pandas as pd\n",
    "import numpy as np\n",
    "import scipy.stats as st\n",
    "import seaborn as sns\n",
    "import sys\n",
    "import os\n",
    "import matplotlib.pyplot as plt\n",
    "import swan_vis as swan\n",
    "import yaml\n",
    "from snakemake.io import expand\n",
    "import cerberus\n",
    "import pyranges as pr\n",
    "import upsetplot\n",
    "\n",
    "p = os.path.dirname(os.getcwd())\n",
    "sys.path.append(p)\n",
    "\n",
    "from scripts.utils import *\n",
    "from scripts.vcf_utils import *\n",
    "from scripts.plotting import *"
   ]
  },
  {
   "cell_type": "code",
   "execution_count": 3,
   "id": "49834513-3eb2-4e94-96ea-fb34eba56125",
   "metadata": {},
   "outputs": [],
   "source": [
    "config = load_config()\n",
    "od = '../'\n",
    "\n",
    "def proc_cfg(entry, od):\n",
    "    entry = entry.replace('../../', '')\n",
    "    entry = od+entry\n",
    "    return entry"
   ]
  },
  {
   "cell_type": "code",
   "execution_count": 4,
   "id": "588c3846-7b6e-4eab-a50b-a4de649321a6",
   "metadata": {},
   "outputs": [],
   "source": [
    "df = load_meta()\n",
    "df = df.loc[~df['sample'].str.contains('_')]\n",
    "df['lab_sample'] = df['lab_number_sample'].astype(str)+'_'+\\\n",
    "                      df['lab_sampleid'].astype(str)+'_'+\\\n",
    "                      df['cell_line_id'].astype(str)\n",
    "df.columns\n",
    "df = df[['cell_line_id', 'sample', 'hapmap_DNA_ID',\n",
    "          'map_reads_assemblymap','lab_sample', 'population']].drop_duplicates()\n",
    "\n",
    "temp_df = pd.read_csv('../snakemake/transcript_discovery_personal/cell_line_ids.txt', header=None, names=['cell_line_id'])\n",
    "\n",
    "# make a 1000g cell line id col\n",
    "df['cell_line_id_1000g'] = df.cell_line_id\n",
    "\n",
    "inds = df.loc[~df.cell_line_id_1000g.isin(temp_df.cell_line_id.tolist())].index\n",
    "df.loc[inds, 'cell_line_id_1000g'] = df.loc[inds, 'hapmap_DNA_ID']\n",
    "len(df.index)\n",
    "\n",
    "# limit to just those in 1000g\n",
    "df = df.loc[df.cell_line_id_1000g.isin(temp_df.cell_line_id.tolist())]\n",
    "assert len(df.index) == 30\n",
    "\n",
    "# TODO bad sample that hasn't finished on espresso\n",
    "# bad_samples = ['NA19328']\n",
    "# df = df.loc[~df.cell_line_id_1000g.isin(bad_samples)]\n",
    "\n",
    "hap = ['hap1', 'hap2']\n",
    "\n",
    "meta_df = df.copy(deep=True)"
   ]
  },
  {
   "cell_type": "markdown",
   "id": "ea3cfbde-cd88-4fe3-a13f-25ecd0526c24",
   "metadata": {},
   "source": [
    "## Median number of novel ICs added by considering personalized hg38s"
   ]
  },
  {
   "cell_type": "code",
   "execution_count": 5,
   "id": "e0cbd066-aef2-4126-9a9b-bd81ce922730",
   "metadata": {},
   "outputs": [
    {
     "name": "stdout",
     "output_type": "stream",
     "text": [
      "12993951\n",
      "4331317\n"
     ]
    }
   ],
   "source": [
    "file = proc_cfg(config['lr']['td_personal']['cerb']['ic_summary'],od)\n",
    "df = pd.read_csv(file)\n",
    "df.drop('Unnamed: 0', axis=1, inplace=True)\n",
    "\n",
    "# remove sqanti genome and drop dupes\n",
    "# the sqanti genome SHOULD be irrelevant here\n",
    "df = df.drop('sqanti_genome', axis=1)\n",
    "print(len(df.index))\n",
    "df = df.drop_duplicates()\n",
    "print(len(df.index))\n",
    "\n",
    "# then make sure that there are no dupe. ic+structural cat+sample+map genome\n",
    "temp = df.loc[df[['ic_id', 'structural_category',\n",
    "                  'cell_line_id', 'map_genome']].duplicated(keep=False)]\n",
    "assert len(temp.index) == 0\n",
    "del temp\n",
    "\n",
    "# transform to be t/f for each ic per genome\n",
    "df.drop('transcript_id', axis=1, inplace=True)\n",
    "df_crosstab = pd.crosstab(index=[df.ic_id, df.structural_category, df.cell_line_id], \n",
    "                          columns=df.map_genome, \n",
    "                          values=df.map_genome, \n",
    "                          aggfunc=lambda x: True).fillna(False).reset_index()"
   ]
  },
  {
   "cell_type": "code",
   "execution_count": 6,
   "id": "86d50a31-3540-406a-b839-b8ef5f344bc2",
   "metadata": {},
   "outputs": [
    {
     "data": {
      "text/html": [
       "<div>\n",
       "<style scoped>\n",
       "    .dataframe tbody tr th:only-of-type {\n",
       "        vertical-align: middle;\n",
       "    }\n",
       "\n",
       "    .dataframe tbody tr th {\n",
       "        vertical-align: top;\n",
       "    }\n",
       "\n",
       "    .dataframe thead th {\n",
       "        text-align: right;\n",
       "    }\n",
       "</style>\n",
       "<table border=\"1\" class=\"dataframe\">\n",
       "  <thead>\n",
       "    <tr style=\"text-align: right;\">\n",
       "      <th>map_genome</th>\n",
       "      <th>ic_id</th>\n",
       "      <th>structural_category</th>\n",
       "      <th>cell_line_id</th>\n",
       "      <th>hap1</th>\n",
       "      <th>hap2</th>\n",
       "      <th>hg38</th>\n",
       "    </tr>\n",
       "  </thead>\n",
       "  <tbody>\n",
       "    <tr>\n",
       "      <th>0</th>\n",
       "      <td>GL000008.2_+_83545-83926-84014-85456-85477-855...</td>\n",
       "      <td>full-splice_match</td>\n",
       "      <td>HG01567</td>\n",
       "      <td>True</td>\n",
       "      <td>True</td>\n",
       "      <td>True</td>\n",
       "    </tr>\n",
       "    <tr>\n",
       "      <th>1</th>\n",
       "      <td>GL000008.2_+_83545-83926-84014-85566-85625-129984</td>\n",
       "      <td>full-splice_match</td>\n",
       "      <td>HG03732</td>\n",
       "      <td>True</td>\n",
       "      <td>True</td>\n",
       "      <td>True</td>\n",
       "    </tr>\n",
       "    <tr>\n",
       "      <th>2</th>\n",
       "      <td>GL000008.2_+_83545-83926-84014-85566-85625-155...</td>\n",
       "      <td>full-splice_match</td>\n",
       "      <td>HG03732</td>\n",
       "      <td>True</td>\n",
       "      <td>True</td>\n",
       "      <td>True</td>\n",
       "    </tr>\n",
       "    <tr>\n",
       "      <th>3</th>\n",
       "      <td>GL000008.2_+_83545-83926-84014-85566-85625-199427</td>\n",
       "      <td>full-splice_match</td>\n",
       "      <td>HG03732</td>\n",
       "      <td>True</td>\n",
       "      <td>True</td>\n",
       "      <td>True</td>\n",
       "    </tr>\n",
       "    <tr>\n",
       "      <th>4</th>\n",
       "      <td>GL000008.2_+_83545-83926-84014-85566-85625-88635</td>\n",
       "      <td>full-splice_match</td>\n",
       "      <td>HG01567</td>\n",
       "      <td>True</td>\n",
       "      <td>True</td>\n",
       "      <td>True</td>\n",
       "    </tr>\n",
       "  </tbody>\n",
       "</table>\n",
       "</div>"
      ],
      "text/plain": [
       "map_genome                                              ic_id  \\\n",
       "0           GL000008.2_+_83545-83926-84014-85456-85477-855...   \n",
       "1           GL000008.2_+_83545-83926-84014-85566-85625-129984   \n",
       "2           GL000008.2_+_83545-83926-84014-85566-85625-155...   \n",
       "3           GL000008.2_+_83545-83926-84014-85566-85625-199427   \n",
       "4            GL000008.2_+_83545-83926-84014-85566-85625-88635   \n",
       "\n",
       "map_genome structural_category cell_line_id  hap1  hap2  hg38  \n",
       "0            full-splice_match      HG01567  True  True  True  \n",
       "1            full-splice_match      HG03732  True  True  True  \n",
       "2            full-splice_match      HG03732  True  True  True  \n",
       "3            full-splice_match      HG03732  True  True  True  \n",
       "4            full-splice_match      HG01567  True  True  True  "
      ]
     },
     "execution_count": 6,
     "metadata": {},
     "output_type": "execute_result"
    }
   ],
   "source": [
    "# 1.5 only novel sjs\n",
    "temp = df_crosstab.loc[df_crosstab.structural_category!='novel']\n",
    "\n",
    "# 1. get those that are detected uniquely in hap1/2 \n",
    "# (ie those not in hg38)\n",
    "temp = temp.loc[(temp.hg38==False)&\n",
    "                ((temp.hap1+temp.hap2)>0)]\n",
    "temp.head()\n",
    "sj_ids = temp.sj_id.unique().tolist()"
   ]
  },
  {
   "cell_type": "code",
   "execution_count": null,
   "id": "2779402d-3ab7-4bea-977e-3a8aae11a6af",
   "metadata": {},
   "outputs": [],
   "source": []
  },
  {
   "cell_type": "code",
   "execution_count": null,
   "id": "30849ee5-11d5-4aac-8428-c735a29a13c9",
   "metadata": {},
   "outputs": [],
   "source": []
  },
  {
   "cell_type": "code",
   "execution_count": null,
   "id": "2f993124-21c0-4c6e-af68-b4551b8165f8",
   "metadata": {},
   "outputs": [],
   "source": []
  },
  {
   "cell_type": "code",
   "execution_count": null,
   "id": "446d8664-48d5-4b93-8aa3-7f47b1b99341",
   "metadata": {},
   "outputs": [],
   "source": []
  },
  {
   "cell_type": "markdown",
   "id": "75840b11-5299-4bea-a13b-63d74771779f",
   "metadata": {},
   "source": [
    "## Raw # ICs detected per sample per map haplotype"
   ]
  },
  {
   "cell_type": "code",
   "execution_count": 15,
   "id": "0e8579a3-18df-4e6a-b4f0-ea555e517cd2",
   "metadata": {},
   "outputs": [
    {
     "name": "stdout",
     "output_type": "stream",
     "text": [
      "12993951\n",
      "4331317\n"
     ]
    },
    {
     "ename": "KeyboardInterrupt",
     "evalue": "",
     "output_type": "error",
     "traceback": [
      "\u001b[0;31m---------------------------------------------------------------------------\u001b[0m",
      "\u001b[0;31mKeyboardInterrupt\u001b[0m                         Traceback (most recent call last)",
      "\u001b[0;32m<ipython-input-15-469c8231436d>\u001b[0m in \u001b[0;36m<module>\u001b[0;34m\u001b[0m\n\u001b[1;32m     12\u001b[0m \u001b[0;31m# then make sure that there are no dupe. ic+structural cat+sample+map genome\u001b[0m\u001b[0;34m\u001b[0m\u001b[0;34m\u001b[0m\u001b[0;34m\u001b[0m\u001b[0m\n\u001b[1;32m     13\u001b[0m temp = df.loc[df[['ic_id', 'structural_category',\n\u001b[0;32m---> 14\u001b[0;31m                   'cell_line_id', 'map_genome']].duplicated(keep=False)]\n\u001b[0m\u001b[1;32m     15\u001b[0m \u001b[0;32massert\u001b[0m \u001b[0mlen\u001b[0m\u001b[0;34m(\u001b[0m\u001b[0mtemp\u001b[0m\u001b[0;34m.\u001b[0m\u001b[0mindex\u001b[0m\u001b[0;34m)\u001b[0m \u001b[0;34m==\u001b[0m \u001b[0;36m0\u001b[0m\u001b[0;34m\u001b[0m\u001b[0;34m\u001b[0m\u001b[0m\n\u001b[1;32m     16\u001b[0m \u001b[0;32mdel\u001b[0m \u001b[0mtemp\u001b[0m\u001b[0;34m\u001b[0m\u001b[0;34m\u001b[0m\u001b[0m\n",
      "\u001b[0;32m~/miniconda3/lib/python3.7/site-packages/pandas/core/frame.py\u001b[0m in \u001b[0;36mduplicated\u001b[0;34m(self, subset, keep)\u001b[0m\n\u001b[1;32m   6198\u001b[0m \u001b[0;34m\u001b[0m\u001b[0m\n\u001b[1;32m   6199\u001b[0m         \u001b[0mvals\u001b[0m \u001b[0;34m=\u001b[0m \u001b[0;34m(\u001b[0m\u001b[0mcol\u001b[0m\u001b[0;34m.\u001b[0m\u001b[0mvalues\u001b[0m \u001b[0;32mfor\u001b[0m \u001b[0mname\u001b[0m\u001b[0;34m,\u001b[0m \u001b[0mcol\u001b[0m \u001b[0;32min\u001b[0m \u001b[0mself\u001b[0m\u001b[0;34m.\u001b[0m\u001b[0mitems\u001b[0m\u001b[0;34m(\u001b[0m\u001b[0;34m)\u001b[0m \u001b[0;32mif\u001b[0m \u001b[0mname\u001b[0m \u001b[0;32min\u001b[0m \u001b[0msubset\u001b[0m\u001b[0;34m)\u001b[0m\u001b[0;34m\u001b[0m\u001b[0;34m\u001b[0m\u001b[0m\n\u001b[0;32m-> 6200\u001b[0;31m         \u001b[0mlabels\u001b[0m\u001b[0;34m,\u001b[0m \u001b[0mshape\u001b[0m \u001b[0;34m=\u001b[0m \u001b[0mmap\u001b[0m\u001b[0;34m(\u001b[0m\u001b[0mlist\u001b[0m\u001b[0;34m,\u001b[0m \u001b[0mzip\u001b[0m\u001b[0;34m(\u001b[0m\u001b[0;34m*\u001b[0m\u001b[0mmap\u001b[0m\u001b[0;34m(\u001b[0m\u001b[0mf\u001b[0m\u001b[0;34m,\u001b[0m \u001b[0mvals\u001b[0m\u001b[0;34m)\u001b[0m\u001b[0;34m)\u001b[0m\u001b[0;34m)\u001b[0m\u001b[0;34m\u001b[0m\u001b[0;34m\u001b[0m\u001b[0m\n\u001b[0m\u001b[1;32m   6201\u001b[0m \u001b[0;34m\u001b[0m\u001b[0m\n\u001b[1;32m   6202\u001b[0m         ids = get_group_index(\n",
      "\u001b[0;32m~/miniconda3/lib/python3.7/site-packages/pandas/core/frame.py\u001b[0m in \u001b[0;36mf\u001b[0;34m(vals)\u001b[0m\n\u001b[1;32m   6171\u001b[0m \u001b[0;34m\u001b[0m\u001b[0m\n\u001b[1;32m   6172\u001b[0m         \u001b[0;32mdef\u001b[0m \u001b[0mf\u001b[0m\u001b[0;34m(\u001b[0m\u001b[0mvals\u001b[0m\u001b[0;34m)\u001b[0m \u001b[0;34m->\u001b[0m \u001b[0mtuple\u001b[0m\u001b[0;34m[\u001b[0m\u001b[0mnp\u001b[0m\u001b[0;34m.\u001b[0m\u001b[0mndarray\u001b[0m\u001b[0;34m,\u001b[0m \u001b[0mint\u001b[0m\u001b[0;34m]\u001b[0m\u001b[0;34m:\u001b[0m\u001b[0;34m\u001b[0m\u001b[0;34m\u001b[0m\u001b[0m\n\u001b[0;32m-> 6173\u001b[0;31m             \u001b[0mlabels\u001b[0m\u001b[0;34m,\u001b[0m \u001b[0mshape\u001b[0m \u001b[0;34m=\u001b[0m \u001b[0malgorithms\u001b[0m\u001b[0;34m.\u001b[0m\u001b[0mfactorize\u001b[0m\u001b[0;34m(\u001b[0m\u001b[0mvals\u001b[0m\u001b[0;34m,\u001b[0m \u001b[0msize_hint\u001b[0m\u001b[0;34m=\u001b[0m\u001b[0mlen\u001b[0m\u001b[0;34m(\u001b[0m\u001b[0mself\u001b[0m\u001b[0;34m)\u001b[0m\u001b[0;34m)\u001b[0m\u001b[0;34m\u001b[0m\u001b[0;34m\u001b[0m\u001b[0m\n\u001b[0m\u001b[1;32m   6174\u001b[0m             \u001b[0;32mreturn\u001b[0m \u001b[0mlabels\u001b[0m\u001b[0;34m.\u001b[0m\u001b[0mastype\u001b[0m\u001b[0;34m(\u001b[0m\u001b[0;34m\"i8\"\u001b[0m\u001b[0;34m,\u001b[0m \u001b[0mcopy\u001b[0m\u001b[0;34m=\u001b[0m\u001b[0;32mFalse\u001b[0m\u001b[0;34m)\u001b[0m\u001b[0;34m,\u001b[0m \u001b[0mlen\u001b[0m\u001b[0;34m(\u001b[0m\u001b[0mshape\u001b[0m\u001b[0;34m)\u001b[0m\u001b[0;34m\u001b[0m\u001b[0;34m\u001b[0m\u001b[0m\n\u001b[1;32m   6175\u001b[0m \u001b[0;34m\u001b[0m\u001b[0m\n",
      "\u001b[0;32m~/miniconda3/lib/python3.7/site-packages/pandas/core/algorithms.py\u001b[0m in \u001b[0;36mfactorize\u001b[0;34m(values, sort, na_sentinel, size_hint)\u001b[0m\n\u001b[1;32m    760\u001b[0m \u001b[0;34m\u001b[0m\u001b[0m\n\u001b[1;32m    761\u001b[0m         codes, uniques = factorize_array(\n\u001b[0;32m--> 762\u001b[0;31m             \u001b[0mvalues\u001b[0m\u001b[0;34m,\u001b[0m \u001b[0mna_sentinel\u001b[0m\u001b[0;34m=\u001b[0m\u001b[0mna_sentinel\u001b[0m\u001b[0;34m,\u001b[0m \u001b[0msize_hint\u001b[0m\u001b[0;34m=\u001b[0m\u001b[0msize_hint\u001b[0m\u001b[0;34m,\u001b[0m \u001b[0mna_value\u001b[0m\u001b[0;34m=\u001b[0m\u001b[0mna_value\u001b[0m\u001b[0;34m\u001b[0m\u001b[0;34m\u001b[0m\u001b[0m\n\u001b[0m\u001b[1;32m    763\u001b[0m         )\n\u001b[1;32m    764\u001b[0m \u001b[0;34m\u001b[0m\u001b[0m\n",
      "\u001b[0;32m~/miniconda3/lib/python3.7/site-packages/pandas/core/algorithms.py\u001b[0m in \u001b[0;36mfactorize_array\u001b[0;34m(values, na_sentinel, size_hint, na_value, mask)\u001b[0m\n\u001b[1;32m    562\u001b[0m     \u001b[0mtable\u001b[0m \u001b[0;34m=\u001b[0m \u001b[0mhash_klass\u001b[0m\u001b[0;34m(\u001b[0m\u001b[0msize_hint\u001b[0m \u001b[0;32mor\u001b[0m \u001b[0mlen\u001b[0m\u001b[0;34m(\u001b[0m\u001b[0mvalues\u001b[0m\u001b[0;34m)\u001b[0m\u001b[0;34m)\u001b[0m\u001b[0;34m\u001b[0m\u001b[0;34m\u001b[0m\u001b[0m\n\u001b[1;32m    563\u001b[0m     uniques, codes = table.factorize(\n\u001b[0;32m--> 564\u001b[0;31m         \u001b[0mvalues\u001b[0m\u001b[0;34m,\u001b[0m \u001b[0mna_sentinel\u001b[0m\u001b[0;34m=\u001b[0m\u001b[0mna_sentinel\u001b[0m\u001b[0;34m,\u001b[0m \u001b[0mna_value\u001b[0m\u001b[0;34m=\u001b[0m\u001b[0mna_value\u001b[0m\u001b[0;34m,\u001b[0m \u001b[0mmask\u001b[0m\u001b[0;34m=\u001b[0m\u001b[0mmask\u001b[0m\u001b[0;34m\u001b[0m\u001b[0;34m\u001b[0m\u001b[0m\n\u001b[0m\u001b[1;32m    565\u001b[0m     )\n\u001b[1;32m    566\u001b[0m \u001b[0;34m\u001b[0m\u001b[0m\n",
      "\u001b[0;31mKeyboardInterrupt\u001b[0m: "
     ]
    }
   ],
   "source": [
    "file = proc_cfg(config['lr']['td_personal']['cerb']['ic_summary'],od)\n",
    "df = pd.read_csv(file)\n",
    "df.drop('Unnamed: 0', axis=1, inplace=True)\n",
    "\n",
    "# remove sqanti genome and drop dupes\n",
    "# the sqanti genome SHOULD be irrelevant here\n",
    "df = df.drop('sqanti_genome', axis=1)\n",
    "print(len(df.index))\n",
    "df = df.drop_duplicates()\n",
    "print(len(df.index))\n",
    "\n",
    "# then make sure that there are no dupe. ic+structural cat+sample+map genome\n",
    "temp = df.loc[df[['ic_id', 'structural_category',\n",
    "                  'cell_line_id', 'map_genome']].duplicated(keep=False)]\n",
    "assert len(temp.index) == 0\n",
    "del temp\n",
    "\n",
    "# transform to be t/f for each ic per genome\n",
    "df.drop('transcript_id', axis=1, inplace=True)\n",
    "df_crosstab = pd.crosstab(index=[df.ic_id, df.structural_category, df.cell_line_id], \n",
    "                          columns=df.map_genome, \n",
    "                          values=df.map_genome, \n",
    "                          aggfunc=lambda x: True).fillna(False).reset_index()"
   ]
  },
  {
   "cell_type": "code",
   "execution_count": null,
   "id": "0ac5a870-2d66-4cb9-8552-734fe6c9c85e",
   "metadata": {},
   "outputs": [],
   "source": [
    "# df.loc[df.ic_id=='GL000008.2_+_83545-83926-84014-85456-85477-85566-85625-173515']\n",
    "# df_crosstab.tail()\n",
    "# df_crosstab.tail().ic_id.values[3]\n",
    "# df.loc[df.ic_id=='chrY_-_341306-340940-340764-338896-338777-338710-338603-334517']"
   ]
  },
  {
   "cell_type": "code",
   "execution_count": null,
   "id": "79a0bd9f-f31d-44cb-8bab-36841436600c",
   "metadata": {},
   "outputs": [],
   "source": []
  },
  {
   "cell_type": "code",
   "execution_count": null,
   "id": "09fd69f8-82e0-4ed4-b8a2-26b256b9b4c7",
   "metadata": {},
   "outputs": [],
   "source": [
    "map_genomes = ['hg38', 'hap1', 'hap2']\n",
    "df_crosstab = df_crosstab.set_index(map_genomes)\n",
    "\n",
    "# TODO - would like this to have the total # uniq ICs bar plot\n",
    "# and box plot of # ICs per sample\n",
    "\n",
    "c_dict, order = get_novelty_colors()\n",
    "init_plot_settings()\n",
    "upset = upsetplot.UpSet(df_crosstab)  # disable the default bar chart\n",
    "# upset = upsetplot.UpSet(df_crosstab, intersection_plot_elements=0)  # disable the default bar chart\n",
    "# upset.add_stacked_bars(\n",
    "#     by=\"structural_category\", colors=c_dict, title=\"Count by structural category\")\n",
    "upset.plot()"
   ]
  },
  {
   "cell_type": "code",
   "execution_count": null,
   "id": "5cafbde2-a5c5-4139-805a-a8ffeadfab7b",
   "metadata": {},
   "outputs": [],
   "source": []
  },
  {
   "cell_type": "code",
   "execution_count": null,
   "id": "0b13883b-1a23-4790-9bbe-f73a871c7153",
   "metadata": {},
   "outputs": [],
   "source": [
    "# just look at raw counts differences\n",
    "temp = df[['ic_id', 'cell_line_id', 'map_genome']].groupby(['cell_line_id', 'map_genome']).nunique().reset_index().rename({'ic_id':'n_ic'}, axis=1)\n",
    "\n",
    "# do paired wilcoxon tests for each haplotype\n",
    "temp = temp.pivot(index='cell_line_id', columns='map_genome', values='n_ic').reset_index()\n",
    "\n",
    "# Wilcoxon test: hap1 vs hg38. hyp is that hap1 > hg38\n",
    "stat, pval = st.wilcoxon(temp['hap1'].tolist(), temp['hg38'].tolist(), alternative='greater')\n",
    "print(f\"hap1 vs hg38: Wilcoxon stat = {stat}, p-value = {pval:.3f}\")\n",
    "\n",
    "\n",
    "# Wilcoxon test: hap2 vs hg38. hyp is that hap2 > hg38\n",
    "stat, pval = st.wilcoxon(temp['hap2'].tolist(), temp['hg38'].tolist(), alternative='greater')\n",
    "print(f\"hap2 vs hg38: Wilcoxon stat = {stat}, p-value = {pval:.3f}\")"
   ]
  },
  {
   "cell_type": "code",
   "execution_count": null,
   "id": "71dcb193-ef0b-426a-af14-ac1231e045c7",
   "metadata": {},
   "outputs": [],
   "source": [
    "temp['hap1_diff'] = temp['hap1']-temp['hg38']\n",
    "temp['hap2_diff'] = temp['hap2']-temp['hg38']\n",
    "temp['hap1_perc_diff'] = (temp['hap1_diff']/temp['hg38'])*100\n",
    "temp['hap2_perc_diff'] = (temp['hap2_diff']/temp['hg38'])*100"
   ]
  },
  {
   "cell_type": "code",
   "execution_count": null,
   "id": "ca2a5f32-f59f-46c7-890c-c96df20ecf37",
   "metadata": {},
   "outputs": [],
   "source": [
    "import statistics\n",
    "thing = temp.hap1_diff.tolist()+temp.hap2_diff.tolist()\n",
    "statistics.median(thing)"
   ]
  },
  {
   "cell_type": "code",
   "execution_count": null,
   "id": "6d1873ba-20cd-4894-b3fb-cb85316f015d",
   "metadata": {},
   "outputs": [],
   "source": [
    "import statistics\n",
    "thing = temp.hap1_perc_diff.tolist()+temp.hap2_perc_diff.tolist()\n",
    "statistics.median(thing)"
   ]
  },
  {
   "cell_type": "code",
   "execution_count": null,
   "id": "763c000e-4ac5-4a58-baab-082c740e9d51",
   "metadata": {},
   "outputs": [],
   "source": [
    "print(len(temp.loc[temp.hap1_diff<0]))\n",
    "print(len(temp.loc[temp.hap2_diff<0]))"
   ]
  },
  {
   "cell_type": "code",
   "execution_count": null,
   "id": "46044f26-2f7b-4833-b265-bd7251adc5f6",
   "metadata": {},
   "outputs": [],
   "source": [
    "temp.head(9)"
   ]
  },
  {
   "cell_type": "code",
   "execution_count": null,
   "id": "2bf80d7a-13c0-42e3-bf1b-6132783bbfae",
   "metadata": {},
   "outputs": [],
   "source": [
    "# visualization\n",
    "init_plot_settings(aspect='square')\n",
    "temp2 = temp.melt(id_vars=['cell_line_id'], \n",
    "                      value_vars=['hap1', 'hap2', 'hg38'], \n",
    "                      var_name='map_genome', \n",
    "                      value_name='n_ic')\n",
    "temp2 = temp2.merge(meta_df[['cell_line_id_1000g', 'population']],\n",
    "                    how='left',\n",
    "                    left_on='cell_line_id',\n",
    "                    right_on='cell_line_id_1000g')\n",
    "\n",
    "# Plot\n",
    "plt.figure(figsize=(8, 5))\n",
    "sns.lineplot(data=temp2, x='map_genome', y='n_ic', hue='cell_line_id', marker='o', palette=\"tab10\",\n",
    "             linewidth=2, alpha=0.6, legend=False)\n",
    "# plt.title(\"Paired Comparison of n_ic across Genomes\")\n",
    "plt.ylabel(\"# IC\")\n",
    "plt.xlabel(\"Mapping+transcript discovery genome\")\n",
    "plt.grid(True)\n",
    "plt.show()"
   ]
  },
  {
   "cell_type": "code",
   "execution_count": null,
   "id": "a5068f6c-ef1b-4e1f-b29f-8bcd475a1d6b",
   "metadata": {},
   "outputs": [],
   "source": [
    "# temp2.to_csv('250206_personalized_hg38s_n_ic.tsv', sep='\\t', index=False)"
   ]
  },
  {
   "cell_type": "markdown",
   "id": "2a04a55b-5ae2-4306-b1a7-0148218cee46",
   "metadata": {},
   "source": [
    "## Are there any differences that are bigger for different populations?"
   ]
  },
  {
   "cell_type": "code",
   "execution_count": null,
   "id": "7d34144c-b7f2-47a1-b15c-75d70197d0a3",
   "metadata": {},
   "outputs": [],
   "source": [
    "temp = temp.merge(meta_df[['cell_line_id_1000g', 'population']],\n",
    "                    how='left',\n",
    "                    left_on='cell_line_id',\n",
    "                    right_on='cell_line_id_1000g')"
   ]
  },
  {
   "cell_type": "code",
   "execution_count": null,
   "id": "b6466adc-9eff-4c20-b873-a23fc01ccb7c",
   "metadata": {},
   "outputs": [],
   "source": [
    "temp.head()"
   ]
  },
  {
   "cell_type": "code",
   "execution_count": null,
   "id": "97d12596-0d50-4948-8108-fcd80ed0ac8f",
   "metadata": {},
   "outputs": [],
   "source": [
    "init_plot_settings(aspect='rectangle')\n",
    "c_dict, order = get_population_colors(cats=temp.population.unique().tolist())\n",
    "ax = sns.boxplot(temp,\n",
    "            x='population',\n",
    "            y='hap1_perc_diff',\n",
    "            palette=c_dict,\n",
    "            order=order, \n",
    "            saturation=0.75,\n",
    "            showfliers=False)\n",
    "sns.stripplot(x='population', y='hap1_perc_diff', data=temp, jitter=True,\n",
    "              palette=c_dict,\n",
    "              order=order,\n",
    "              size=10,\n",
    "              edgecolor='k')\n",
    "_ = ax.set(xlabel='')\n",
    "ax.spines['right'].set_visible(False)\n",
    "ax.spines['top'].set_visible(False)"
   ]
  },
  {
   "cell_type": "code",
   "execution_count": null,
   "id": "c570028a-7e33-45fa-944f-8b34b0006799",
   "metadata": {},
   "outputs": [],
   "source": [
    "init_plot_settings(aspect='rectangle')\n",
    "c_dict, order = get_population_colors(cats=temp.population.unique().tolist())\n",
    "ax = sns.boxplot(temp,\n",
    "            x='population',\n",
    "            y='hap2_perc_diff',\n",
    "            palette=c_dict,\n",
    "            order=order, \n",
    "            saturation=0.75,\n",
    "            showfliers=False)\n",
    "sns.stripplot(x='population', y='hap2_perc_diff', data=temp, jitter=True,\n",
    "              palette=c_dict,\n",
    "              order=order,\n",
    "              size=10,\n",
    "              edgecolor='k')\n",
    "_ = ax.set(xlabel='')\n",
    "ax.spines['right'].set_visible(False)\n",
    "ax.spines['top'].set_visible(False)"
   ]
  },
  {
   "cell_type": "code",
   "execution_count": null,
   "id": "dfd108df-a582-406c-a69b-4f6e0a452c2b",
   "metadata": {},
   "outputs": [],
   "source": [
    "# put the bois together (melt)\n",
    "temp2 = temp[['hap1_perc_diff', 'hap2_perc_diff', 'population', 'cell_line_id']].melt(id_vars=['population', 'cell_line_id'])\n",
    "init_plot_settings(aspect='rectangle')\n",
    "c_dict, order = get_population_colors(cats=temp.population.unique().tolist())\n",
    "ax = sns.boxplot(temp2,\n",
    "            x='population',\n",
    "            y='value',\n",
    "            palette=c_dict,\n",
    "            order=order, \n",
    "            saturation=0.75,\n",
    "            showfliers=False)\n",
    "sns.stripplot(x='population', y='value', data=temp2, jitter=True,\n",
    "              palette=c_dict,\n",
    "              order=order,\n",
    "              size=10,\n",
    "              edgecolor='k')\n",
    "_ = ax.set(xlabel='', ylabel='% increase in # ICs\\nin synthetic haplotype')\n",
    "ax.spines['right'].set_visible(False)\n",
    "ax.spines['top'].set_visible(False)"
   ]
  },
  {
   "cell_type": "code",
   "execution_count": 441,
   "id": "ab0243aa-0439-491e-8986-dd7638de4380",
   "metadata": {},
   "outputs": [
    {
     "data": {
      "text/plain": [
       "[Text(0.5, 15.700000000000003, 'Population 2'),\n",
       " Text(33.7, 0.5, 'Popluation 1'),\n",
       " Text(0.5, 1.0, 'Population differences in % increase\\nof detected ICs')]"
      ]
     },
     "execution_count": 441,
     "metadata": {},
     "output_type": "execute_result"
    },
    {
     "data": {
      "image/png": "[encoded data removed]",
      "text/plain": [
       "<Figure size 504x360 with 2 Axes>"
      ]
     },
     "metadata": {
      "needs_background": "light"
     },
     "output_type": "display_data"
    }
   ],
   "source": [
    "# test -- Mann-Whitney U for each pop. pair with hypothesis greater\n",
    "import itertools\n",
    "\n",
    "stat_df = pd.DataFrame()\n",
    "for p1, p2 in list(itertools.permutations(temp2.population.unique(), 2)):\n",
    "    x = temp2.loc[temp2.population==p1,'value'].tolist() # hyp. --> greater\n",
    "    y = temp2.loc[temp2.population==p2,'value'].tolist()\n",
    "    \n",
    "    try:\n",
    "        stat, pval = st.mannwhitneyu(x, y, alternative='greater')\n",
    "    except:\n",
    "        break\n",
    "    temp3 = pd.DataFrame(data=[[p1, p2, stat, pval]], \n",
    "                         columns=['pop1', 'pop2', 'stat', 'pval'])\n",
    "    stat_df = pd.concat([stat_df, temp3], axis=0)\n",
    "    del temp3\n",
    "    \n",
    "# fdr correction\n",
    "from statsmodels.stats.multitest import multipletests\n",
    "_, adj_p_vals, _, _ = multipletests(stat_df.pval.tolist(), method='fdr_bh')\n",
    "stat_df['adj_pval'] = adj_p_vals\n",
    "stat_df.head()\n",
    "\n",
    "# add sig. annotation\n",
    "# * <= 0.05\n",
    "# ** <= 0.01\n",
    "# *** <= 0.001\n",
    "stat_df['sig_annot'] = ''\n",
    "# stat_df.loc[stat_df.pval <= 0.05, 'sig_annot'] = '*'\n",
    "# stat_df.loc[stat_df.pval <= 0.01, 'sig_annot'] = '**'\n",
    "# stat_df.loc[stat_df.pval <= 0.001, 'sig_annot'] = '***'\n",
    "stat_df.loc[stat_df.adj_pval <= 0.05, 'sig_annot'] = '*'\n",
    "stat_df.loc[stat_df.adj_pval <= 0.01, 'sig_annot'] = '**'\n",
    "stat_df.loc[stat_df.adj_pval <= 0.001, 'sig_annot'] = '***'\n",
    "\n",
    "# pivot x2 to get a stat and annot df to plot\n",
    "stat_df1 = stat_df.pivot(index='pop1', columns='pop2', values='stat')\n",
    "annot_df = stat_df.pivot(index='pop1', columns='pop2', values='sig_annot')\n",
    "\n",
    "ax = sns.heatmap(stat_df1, cmap='Purples',\n",
    "            annot=annot_df,\n",
    "            fmt='',\n",
    "            cbar_kws={'label': 'Mann-Whitney U\\ntest statistic'})\n",
    "\n",
    "# labels need them\n",
    "ax.set(xlabel='Population 2',\n",
    "       ylabel='Popluation 1',\n",
    "       title='Population differences in % increase\\nof detected ICs')"
   ]
  },
  {
   "cell_type": "code",
   "execution_count": 442,
   "id": "e547e265-a72b-4378-8fcc-4865a51f96a1",
   "metadata": {},
   "outputs": [
    {
     "data": {
      "text/plain": [
       "0.8341101944024978"
      ]
     },
     "execution_count": 442,
     "metadata": {},
     "output_type": "execute_result"
    }
   ],
   "source": [
    "temp2.value.median()"
   ]
  },
  {
   "cell_type": "markdown",
   "id": "9d8cdcd4-d357-4dcb-9dcf-871931207a41",
   "metadata": {},
   "source": [
    "## Are these differences correlated at all to seq. depth?"
   ]
  },
  {
   "cell_type": "code",
   "execution_count": 427,
   "id": "aa43c82c-cf87-4c6e-9043-1617edcd7f1d",
   "metadata": {},
   "outputs": [],
   "source": [
    "temp2 = temp2.merge(meta_df[['cell_line_id_1000g', 'map_reads_assemblymap']],\n",
    "                    how='left',\n",
    "                    left_on='cell_line_id',\n",
    "                    right_on='cell_line_id_1000g')"
   ]
  },
  {
   "cell_type": "code",
   "execution_count": 431,
   "id": "04d8e98e-5dff-4b41-8af3-90b7234bc987",
   "metadata": {},
   "outputs": [
    {
     "data": {
      "image/png": "[encoded data removed]",
      "text/plain": [
       "<Figure size 504x360 with 1 Axes>"
      ]
     },
     "metadata": {
      "needs_background": "light"
     },
     "output_type": "display_data"
    }
   ],
   "source": [
    "ax = sns.scatterplot(temp2, y='value', x='map_reads_assemblymap',\n",
    "                    hue='population',\n",
    "                    palette=c_dict)\n",
    "ax.set(ylabel='% increase in # ICs in synthetic haplotype',\n",
    "       xlabel='# mapped reads')\n",
    "ax.spines['right'].set_visible(False)\n",
    "ax.spines['top'].set_visible(False)\n"
   ]
  },
  {
   "cell_type": "code",
   "execution_count": 432,
   "id": "8871f34c-dd1d-4afc-b38c-e55c4acc87aa",
   "metadata": {},
   "outputs": [
    {
     "name": "stdout",
     "output_type": "stream",
     "text": [
      "0.37062627056228165\n",
      "0.003556228955406646\n",
      "\n",
      "0.39972206393327475\n",
      "0.0015554488760244534\n"
     ]
    }
   ],
   "source": [
    "x = temp2.value.tolist()\n",
    "y = temp2.map_reads_assemblymap.tolist()\n",
    "r, r_p = st.pearsonr(x, y)\n",
    "rho, rho_p = st.spearmanr(x, y)\n",
    "\n",
    "print(r)\n",
    "print(r_p)\n",
    "\n",
    "print()\n",
    "\n",
    "print(rho)\n",
    "print(rho_p)"
   ]
  },
  {
   "cell_type": "markdown",
   "id": "26c7ac8e-6487-460f-a8e7-30ed8265fd86",
   "metadata": {},
   "source": [
    "## Try looking at these differences when normalizing for read depth"
   ]
  },
  {
   "cell_type": "code",
   "execution_count": 440,
   "id": "38d82ade-df65-4676-8b46-619964e69a27",
   "metadata": {},
   "outputs": [
    {
     "name": "stderr",
     "output_type": "stream",
     "text": [
      "/Users/fairliereese/miniconda3/lib/python3.7/site-packages/ipykernel_launcher.py:16: FutureWarning: Passing `palette` without assigning `hue` is deprecated.\n",
      "  app.launch_new_instance()\n"
     ]
    },
    {
     "data": {
      "image/png": "[encoded data removed]",
      "text/plain": [
       "<Figure size 504x360 with 1 Axes>"
      ]
     },
     "metadata": {
      "needs_background": "light"
     },
     "output_type": "display_data"
    }
   ],
   "source": [
    "temp2['value_norm'] = (temp2['value']/temp2['map_reads_assemblymap'])*1e6\n",
    "\n",
    "\n",
    "c_dict, order = get_population_colors(cats=temp.population.unique().tolist())\n",
    "ax = sns.boxplot(temp2,\n",
    "            x='population',\n",
    "            y='value_norm',\n",
    "            palette=c_dict,\n",
    "            order=order, \n",
    "            saturation=0.75,\n",
    "            showfliers=False)\n",
    "sns.stripplot(x='population', y='value_norm', data=temp2, jitter=True,\n",
    "              palette=c_dict,\n",
    "              order=order,\n",
    "              size=10,\n",
    "              edgecolor='k')\n",
    "_ = ax.set(xlabel='', ylabel='% increase in # ICs\\nper million mapped reads\\nin synthetic haplotype')\n",
    "ax.spines['right'].set_visible(False)\n",
    "ax.spines['top'].set_visible(False)"
   ]
  },
  {
   "cell_type": "code",
   "execution_count": 444,
   "id": "10740b09-7314-4ed4-8e06-c7e7ca3c4c80",
   "metadata": {},
   "outputs": [
    {
     "data": {
      "text/plain": [
       "[Text(0.5, 15.700000000000003, 'Population 2'),\n",
       " Text(33.7, 0.5, 'Popluation 1'),\n",
       " Text(0.5, 1.0, 'Population differences in % increase\\nof detected ICs\\nper million mapped reads')]"
      ]
     },
     "execution_count": 444,
     "metadata": {},
     "output_type": "execute_result"
    },
    {
     "data": {
      "image/png": "[encoded data removed]",
      "text/plain": [
       "<Figure size 504x360 with 2 Axes>"
      ]
     },
     "metadata": {
      "needs_background": "light"
     },
     "output_type": "display_data"
    }
   ],
   "source": [
    "# test -- Mann-Whitney U for each pop. pair with hypothesis greater\n",
    "import itertools\n",
    "\n",
    "stat_df = pd.DataFrame()\n",
    "for p1, p2 in list(itertools.permutations(temp2.population.unique(), 2)):\n",
    "    x = temp2.loc[temp2.population==p1,'value_norm'].tolist() # hyp. --> greater\n",
    "    y = temp2.loc[temp2.population==p2,'value_norm'].tolist()\n",
    "    \n",
    "    try:\n",
    "        stat, pval = st.mannwhitneyu(x, y, alternative='greater')\n",
    "    except:\n",
    "        break\n",
    "    temp3 = pd.DataFrame(data=[[p1, p2, stat, pval]], \n",
    "                         columns=['pop1', 'pop2', 'stat', 'pval'])\n",
    "    stat_df = pd.concat([stat_df, temp3], axis=0)\n",
    "    del temp3\n",
    "    ≈\n",
    "# fdr correction\n",
    "from statsmodels.stats.multitest import multipletests\n",
    "_, adj_p_vals, _, _ = multipletests(stat_df.pval.tolist(), method='fdr_bh')\n",
    "stat_df['adj_pval'] = adj_p_vals\n",
    "stat_df.head()\n",
    "\n",
    "# add sig. annotation\n",
    "# * <= 0.05\n",
    "# ** <= 0.01\n",
    "# *** <= 0.001\n",
    "stat_df['sig_annot'] = ''\n",
    "# stat_df.loc[stat_df.pval <= 0.05, 'sig_annot'] = '*'\n",
    "# stat_df.loc[stat_df.pval <= 0.01, 'sig_annot'] = '**'\n",
    "# stat_df.loc[stat_df.pval <= 0.001, 'sig_annot'] = '***'\n",
    "stat_df.loc[stat_df.adj_pval <= 0.05, 'sig_annot'] = '*'\n",
    "stat_df.loc[stat_df.adj_pval <= 0.01, 'sig_annot'] = '**'\n",
    "stat_df.loc[stat_df.adj_pval <= 0.001, 'sig_annot'] = '***'\n",
    "\n",
    "# pivot x2 to get a stat and annot df to plot\n",
    "stat_df1 = stat_df.pivot(index='pop1', columns='pop2', values='stat')\n",
    "annot_df = stat_df.pivot(index='pop1', columns='pop2', values='sig_annot')\n",
    "\n",
    "ax = sns.heatmap(stat_df1, cmap='Purples',\n",
    "            annot=annot_df,\n",
    "            fmt='',\n",
    "            cbar_kws={'label': 'Mann-Whitney U\\ntest statistic'})\n",
    "\n",
    "# labels need them\n",
    "ax.set(xlabel='Population 2',\n",
    "       ylabel='Popluation 1',\n",
    "       title='Population differences in % increase\\nof detected ICs\\nper million mapped reads')"
   ]
  },
  {
   "cell_type": "markdown",
   "id": "e9d251f3-6ca4-4f66-b756-0dc32b548f50",
   "metadata": {},
   "source": [
    "## What do gains look like in terms of different structural categories?"
   ]
  },
  {
   "cell_type": "code",
   "execution_count": 445,
   "id": "e5ed5cb4-3113-4f55-84bf-e68a9774bd85",
   "metadata": {},
   "outputs": [
    {
     "name": "stdout",
     "output_type": "stream",
     "text": [
      "12993951\n",
      "4331317\n"
     ]
    }
   ],
   "source": [
    "file = proc_cfg(config['lr']['td_personal']['cerb']['ic_summary'],od)\n",
    "df = pd.read_csv(file)\n",
    "df.drop('Unnamed: 0', axis=1, inplace=True)\n",
    "\n",
    "# remove sqanti genome and drop dupes\n",
    "# the sqanti genome SHOULD be irrelevant here\n",
    "df = df.drop('sqanti_genome', axis=1)\n",
    "print(len(df.index))\n",
    "df = df.drop_duplicates()\n",
    "print(len(df.index))\n",
    "\n",
    "# then make sure that there are no dupe. ic+structural cat+sample+map genome\n",
    "temp = df.loc[df[['ic_id', 'structural_category',\n",
    "                  'cell_line_id', 'map_genome']].duplicated(keep=False)]\n",
    "assert len(temp.index) == 0\n",
    "del temp\n",
    "\n",
    "# rename struct cats\n",
    "sc_map = {'antisense': 'Antisense',\n",
    "          'full-splice_match': 'FSM',\n",
    "           'fusion': 'Fusion',\n",
    "           'genic': 'Genic',\n",
    "           'incomplete-splice_match': 'ISM',\n",
    "           'intergenic': 'Intergenic',\n",
    "           'novel_in_catalog': 'NIC',\n",
    "           'novel_not_in_catalog': 'NNC'}\n",
    "df.structural_category = df.structural_category.map(sc_map)\n",
    "\n",
    "\n",
    "# transform to be t/f for each ic per genome\n",
    "df.drop('transcript_id', axis=1, inplace=True)\n",
    "df_crosstab = pd.crosstab(index=[df.ic_id, df.structural_category, df.cell_line_id], \n",
    "                          columns=df.map_genome, \n",
    "                          values=df.map_genome, \n",
    "                          aggfunc=lambda x: True).fillna(False).reset_index()"
   ]
  },
  {
   "cell_type": "code",
   "execution_count": 446,
   "id": "23c65198-fe1a-4df3-a4aa-1b4e3df9e6c2",
   "metadata": {},
   "outputs": [
    {
     "data": {
      "text/plain": [
       "array(['FSM', 'NNC', 'NIC', 'Fusion', 'ISM', 'Intergenic', 'Antisense',\n",
       "       'Genic'], dtype=object)"
      ]
     },
     "execution_count": 446,
     "metadata": {},
     "output_type": "execute_result"
    }
   ],
   "source": [
    "df.structural_category.unique()"
   ]
  },
  {
   "cell_type": "markdown",
   "id": "4d39a723-e234-4682-abc5-004b1481bf97",
   "metadata": {},
   "source": [
    "## make the bar plot below but as a boxplot where each point is a hap+cell liine combo"
   ]
  },
  {
   "cell_type": "code",
   "execution_count": 464,
   "id": "233e5911-1e58-4514-97c5-ee2fe7e741c3",
   "metadata": {},
   "outputs": [
    {
     "name": "stderr",
     "output_type": "stream",
     "text": [
      "/Users/fairliereese/miniconda3/lib/python3.7/site-packages/ipykernel_launcher.py:32: FutureWarning: Passing `palette` without assigning `hue` is deprecated.\n"
     ]
    },
    {
     "data": {
      "text/plain": [
       "[Text(0, 0, 'FSM'),\n",
       " Text(1, 0, 'ISM'),\n",
       " Text(2, 0, 'NIC'),\n",
       " Text(3, 0, 'NNC'),\n",
       " Text(4, 0, 'Intergenic'),\n",
       " Text(5, 0, 'Genic'),\n",
       " Text(6, 0, 'Fusion'),\n",
       " Text(7, 0, 'Antisense')]"
      ]
     },
     "execution_count": 464,
     "metadata": {},
     "output_type": "execute_result"
    },
    {
     "data": {
      "image/png": "[encoded data removed]",
      "text/plain": [
       "<Figure size 360x360 with 1 Axes>"
      ]
     },
     "metadata": {
      "needs_background": "light"
     },
     "output_type": "display_data"
    }
   ],
   "source": [
    "# melt to get an entry per ic/cell line/genome\n",
    "init_plot_settings(aspect='square')\n",
    "temp = df_crosstab.loc[df_crosstab.hg38==False] # only things not det. in hg38\n",
    "temp = temp.melt(id_vars=['ic_id', 'structural_category', 'cell_line_id'],\n",
    "                 value_vars=['hap1', 'hap2'],\n",
    "                 value_name='detected')\n",
    "\n",
    "# first restrict only to detected things\n",
    "temp = temp.loc[temp.detected==True]\n",
    "temp.drop('detected', axis=1, inplace=True)\n",
    "\n",
    "# gb to count for each cell line+map_genome+struct. cat\n",
    "temp = temp.groupby(['cell_line_id', 'structural_category', \n",
    "                     'map_genome']).nunique().rename({'ic_id':'n_ic'}, axis=1).reset_index()\n",
    "\n",
    "c_dict, order = get_novelty_colors()\n",
    "ax = sns.boxplot(temp,\n",
    "                 x='structural_category',\n",
    "                 y='n_ic',\n",
    "                 palette=c_dict,\n",
    "                 order=order,\n",
    "                 saturation=0.75,\n",
    "                 showfliers=False)\n",
    "ax = sns.stripplot(temp,\n",
    "                 x='structural_category',\n",
    "                 y='n_ic',\n",
    "                 palette=c_dict,\n",
    "                 order=order,\n",
    "                 jitter=True,\n",
    "                 size=3,\n",
    "                 edgecolor='gray',\n",
    "                 linewidth=0.25)\n",
    "ax.set(ylabel='# ICs not found in hg38', xlabel='')\n",
    "ax.spines['right'].set_visible(False)\n",
    "ax.spines['top'].set_visible(False)\n",
    "ax.set_xticklabels(ax.get_xticklabels(),rotation=90)"
   ]
  },
  {
   "cell_type": "code",
   "execution_count": 177,
   "id": "c4d070ea-d9c7-4a18-a61e-6e547b935bfd",
   "metadata": {},
   "outputs": [
    {
     "data": {
      "text/plain": [
       "[Text(0, 0, 'FSM'),\n",
       " Text(1, 0, 'ISM'),\n",
       " Text(2, 0, 'NIC'),\n",
       " Text(3, 0, 'NNC'),\n",
       " Text(4, 0, 'Intergenic'),\n",
       " Text(5, 0, 'Genic'),\n",
       " Text(6, 0, 'Fusion'),\n",
       " Text(7, 0, 'Antisense')]"
      ]
     },
     "execution_count": 177,
     "metadata": {},
     "output_type": "execute_result"
    },
    {
     "data": {
      "image/png": "[encoded data removed]",
      "text/plain": [
       "<Figure size 360x360 with 1 Axes>"
      ]
     },
     "metadata": {
      "needs_background": "light"
     },
     "output_type": "display_data"
    }
   ],
   "source": [
    "# get just the ics that are not detected (per sample) in hg38\n",
    "temp = df_crosstab.loc[df_crosstab.hg38==False]\n",
    "c_dict, order = get_novelty_colors(cats=temp.structural_category.unique().tolist())\n",
    "temp = temp[['ic_id', 'structural_category']].groupby('structural_category').nunique().reset_index().rename({'ic_id':'n_ic'}, axis=1)\n",
    "ax = sns.barplot(temp, x='structural_category',\n",
    "                 y='n_ic',\n",
    "                 palette=c_dict,\n",
    "                 order=order,\n",
    "                 saturation=1)\n",
    "ax.set(ylabel='# unique ICs\\nnot found in hg38', xlabel='')\n",
    "ax.spines['right'].set_visible(False)\n",
    "ax.spines['top'].set_visible(False)\n",
    "ax.set_xticklabels(ax.get_xticklabels(),rotation=90)\n"
   ]
  },
  {
   "cell_type": "code",
   "execution_count": 178,
   "id": "c34457dc-a100-4afd-9560-a886c2acb3e5",
   "metadata": {},
   "outputs": [
    {
     "data": {
      "text/html": [
       "<div>\n",
       "<style scoped>\n",
       "    .dataframe tbody tr th:only-of-type {\n",
       "        vertical-align: middle;\n",
       "    }\n",
       "\n",
       "    .dataframe tbody tr th {\n",
       "        vertical-align: top;\n",
       "    }\n",
       "\n",
       "    .dataframe thead th {\n",
       "        text-align: right;\n",
       "    }\n",
       "</style>\n",
       "<table border=\"1\" class=\"dataframe\">\n",
       "  <thead>\n",
       "    <tr style=\"text-align: right;\">\n",
       "      <th></th>\n",
       "      <th></th>\n",
       "      <th>map_genome</th>\n",
       "      <th>ic_id</th>\n",
       "      <th>structural_category</th>\n",
       "      <th>cell_line_id</th>\n",
       "    </tr>\n",
       "    <tr>\n",
       "      <th>hg38</th>\n",
       "      <th>hap1</th>\n",
       "      <th>hap2</th>\n",
       "      <th></th>\n",
       "      <th></th>\n",
       "      <th></th>\n",
       "    </tr>\n",
       "  </thead>\n",
       "  <tbody>\n",
       "    <tr>\n",
       "      <th rowspan=\"5\" valign=\"top\">True</th>\n",
       "      <th rowspan=\"5\" valign=\"top\">True</th>\n",
       "      <th>True</th>\n",
       "      <td>GL000008.2_+_83545-83926-84014-85456-85477-855...</td>\n",
       "      <td>FSM</td>\n",
       "      <td>HG01567</td>\n",
       "    </tr>\n",
       "    <tr>\n",
       "      <th>True</th>\n",
       "      <td>GL000008.2_+_83545-83926-84014-85566-85625-129984</td>\n",
       "      <td>FSM</td>\n",
       "      <td>HG03732</td>\n",
       "    </tr>\n",
       "    <tr>\n",
       "      <th>True</th>\n",
       "      <td>GL000008.2_+_83545-83926-84014-85566-85625-155...</td>\n",
       "      <td>FSM</td>\n",
       "      <td>HG03732</td>\n",
       "    </tr>\n",
       "    <tr>\n",
       "      <th>True</th>\n",
       "      <td>GL000008.2_+_83545-83926-84014-85566-85625-199427</td>\n",
       "      <td>FSM</td>\n",
       "      <td>HG03732</td>\n",
       "    </tr>\n",
       "    <tr>\n",
       "      <th>True</th>\n",
       "      <td>GL000008.2_+_83545-83926-84014-85566-85625-88635</td>\n",
       "      <td>FSM</td>\n",
       "      <td>HG01567</td>\n",
       "    </tr>\n",
       "  </tbody>\n",
       "</table>\n",
       "</div>"
      ],
      "text/plain": [
       "map_genome                                                  ic_id  \\\n",
       "hg38 hap1 hap2                                                      \n",
       "True True True  GL000008.2_+_83545-83926-84014-85456-85477-855...   \n",
       "          True  GL000008.2_+_83545-83926-84014-85566-85625-129984   \n",
       "          True  GL000008.2_+_83545-83926-84014-85566-85625-155...   \n",
       "          True  GL000008.2_+_83545-83926-84014-85566-85625-199427   \n",
       "          True   GL000008.2_+_83545-83926-84014-85566-85625-88635   \n",
       "\n",
       "map_genome     structural_category cell_line_id  \n",
       "hg38 hap1 hap2                                   \n",
       "True True True                 FSM      HG01567  \n",
       "          True                 FSM      HG03732  \n",
       "          True                 FSM      HG03732  \n",
       "          True                 FSM      HG03732  \n",
       "          True                 FSM      HG01567  "
      ]
     },
     "execution_count": 178,
     "metadata": {},
     "output_type": "execute_result"
    }
   ],
   "source": [
    "map_genomes = ['hg38', 'hap1', 'hap2']\n",
    "df_crosstab = df_crosstab.set_index(map_genomes)\n",
    "df_crosstab.head()\n"
   ]
  },
  {
   "cell_type": "code",
   "execution_count": 179,
   "id": "d0bf5204-897e-4724-a6a3-1edf978abcd4",
   "metadata": {},
   "outputs": [
    {
     "name": "stderr",
     "output_type": "stream",
     "text": [
      "No artists with labels found to put in legend.  Note that artists whose label start with an underscore are ignored when legend() is called with no argument.\n",
      "1 extra bytes in post.stringData array\n",
      "'created' timestamp seems very low; regarding as unix timestamp\n",
      "Zapf NOT subset; don't know how to subset; dropped\n",
      "feat NOT subset; don't know how to subset; dropped\n",
      "meta NOT subset; don't know how to subset; dropped\n",
      "morx NOT subset; don't know how to subset; dropped\n"
     ]
    },
    {
     "data": {
      "image/png": "[encoded data removed]",
      "text/plain": [
       "<Figure size 360x360 with 1 Axes>"
      ]
     },
     "metadata": {
      "needs_background": "light"
     },
     "output_type": "display_data"
    },
    {
     "data": {
      "image/png": "[encoded data removed]",
      "text/plain": [
       "<Figure size 384x192 with 4 Axes>"
      ]
     },
     "metadata": {
      "needs_background": "light"
     },
     "output_type": "display_data"
    }
   ],
   "source": [
    "# TODO - would like this to have the total # uniq ICs bar plot\n",
    "# and box plot of # ICs per sample\n",
    "c_dict, order = get_novelty_colors()\n",
    "init_plot_settings()\n",
    "upset = upsetplot.UpSet(df_crosstab, intersection_plot_elements=0)  # disable the default bar chart\n",
    "upset.add_stacked_bars(\n",
    "    by=\"structural_category\", title=\"Count by structural category\",\n",
    "    colors=c_dict)\n",
    "ax = plt.gca()\n",
    "plt.legend(bbox_to_anchor=(1.05, 1), loc='upper left')\n",
    "upset.plot()\n",
    "plt.savefig('td_personal_hg38_novelty_barplot.pdf', dpi=500)"
   ]
  },
  {
   "cell_type": "code",
   "execution_count": 171,
   "id": "154f7e09-565a-446b-b1b1-4583c4f8a5d5",
   "metadata": {},
   "outputs": [
    {
     "data": {
      "text/html": [
       "<div>\n",
       "<style scoped>\n",
       "    .dataframe tbody tr th:only-of-type {\n",
       "        vertical-align: middle;\n",
       "    }\n",
       "\n",
       "    .dataframe tbody tr th {\n",
       "        vertical-align: top;\n",
       "    }\n",
       "\n",
       "    .dataframe thead th {\n",
       "        text-align: right;\n",
       "    }\n",
       "</style>\n",
       "<table border=\"1\" class=\"dataframe\">\n",
       "  <thead>\n",
       "    <tr style=\"text-align: right;\">\n",
       "      <th>map_genome</th>\n",
       "      <th>hg38</th>\n",
       "      <th>hap1</th>\n",
       "      <th>hap2</th>\n",
       "      <th>ic_id</th>\n",
       "      <th>structural_category</th>\n",
       "      <th>cell_line_id</th>\n",
       "    </tr>\n",
       "  </thead>\n",
       "  <tbody>\n",
       "    <tr>\n",
       "      <th>39</th>\n",
       "      <td>False</td>\n",
       "      <td>True</td>\n",
       "      <td>False</td>\n",
       "      <td>GL000194.1_-_114985-112838-112791-55676-55445-...</td>\n",
       "      <td>NNC</td>\n",
       "      <td>NA19390</td>\n",
       "    </tr>\n",
       "    <tr>\n",
       "      <th>78</th>\n",
       "      <td>False</td>\n",
       "      <td>False</td>\n",
       "      <td>True</td>\n",
       "      <td>GL000194.1_-_114985-112850-112791-55676-55445-...</td>\n",
       "      <td>NNC</td>\n",
       "      <td>HG03729</td>\n",
       "    </tr>\n",
       "    <tr>\n",
       "      <th>79</th>\n",
       "      <td>False</td>\n",
       "      <td>False</td>\n",
       "      <td>True</td>\n",
       "      <td>GL000194.1_-_114985-112850-112791-55676-55445-...</td>\n",
       "      <td>NNC</td>\n",
       "      <td>HG04217</td>\n",
       "    </tr>\n",
       "    <tr>\n",
       "      <th>118</th>\n",
       "      <td>True</td>\n",
       "      <td>False</td>\n",
       "      <td>True</td>\n",
       "      <td>GL000194.1_-_114985-112850-112791-55676-55445-...</td>\n",
       "      <td>NNC</td>\n",
       "      <td>NA12878</td>\n",
       "    </tr>\n",
       "    <tr>\n",
       "      <th>132</th>\n",
       "      <td>False</td>\n",
       "      <td>False</td>\n",
       "      <td>True</td>\n",
       "      <td>GL000194.1_-_114985-112850-112791-55676-55445-...</td>\n",
       "      <td>NNC</td>\n",
       "      <td>HG04217</td>\n",
       "    </tr>\n",
       "  </tbody>\n",
       "</table>\n",
       "</div>"
      ],
      "text/plain": [
       "map_genome   hg38   hap1   hap2  \\\n",
       "39          False   True  False   \n",
       "78          False  False   True   \n",
       "79          False  False   True   \n",
       "118          True  False   True   \n",
       "132         False  False   True   \n",
       "\n",
       "map_genome                                              ic_id  \\\n",
       "39          GL000194.1_-_114985-112838-112791-55676-55445-...   \n",
       "78          GL000194.1_-_114985-112850-112791-55676-55445-...   \n",
       "79          GL000194.1_-_114985-112850-112791-55676-55445-...   \n",
       "118         GL000194.1_-_114985-112850-112791-55676-55445-...   \n",
       "132         GL000194.1_-_114985-112850-112791-55676-55445-...   \n",
       "\n",
       "map_genome structural_category cell_line_id  \n",
       "39                         NNC      NA19390  \n",
       "78                         NNC      HG03729  \n",
       "79                         NNC      HG04217  \n",
       "118                        NNC      NA12878  \n",
       "132                        NNC      HG04217  "
      ]
     },
     "execution_count": 171,
     "metadata": {},
     "output_type": "execute_result"
    }
   ],
   "source": [
    "# remove the intersection of them all \n",
    "df_crosstab.reset_index(inplace=True)\n",
    "df_crosstab = df_crosstab.loc[~(df_crosstab[map_genomes].sum(axis=1)==3)]\n",
    "df_crosstab.head()"
   ]
  },
  {
   "cell_type": "code",
   "execution_count": 172,
   "id": "9bd8b1be-90e1-453e-842b-a2f68306075f",
   "metadata": {},
   "outputs": [
    {
     "data": {
      "text/html": [
       "<div>\n",
       "<style scoped>\n",
       "    .dataframe tbody tr th:only-of-type {\n",
       "        vertical-align: middle;\n",
       "    }\n",
       "\n",
       "    .dataframe tbody tr th {\n",
       "        vertical-align: top;\n",
       "    }\n",
       "\n",
       "    .dataframe thead th {\n",
       "        text-align: right;\n",
       "    }\n",
       "</style>\n",
       "<table border=\"1\" class=\"dataframe\">\n",
       "  <thead>\n",
       "    <tr style=\"text-align: right;\">\n",
       "      <th></th>\n",
       "      <th></th>\n",
       "      <th>map_genome</th>\n",
       "      <th>ic_id</th>\n",
       "      <th>structural_category</th>\n",
       "      <th>cell_line_id</th>\n",
       "    </tr>\n",
       "    <tr>\n",
       "      <th>hg38</th>\n",
       "      <th>hap1</th>\n",
       "      <th>hap2</th>\n",
       "      <th></th>\n",
       "      <th></th>\n",
       "      <th></th>\n",
       "    </tr>\n",
       "  </thead>\n",
       "  <tbody>\n",
       "    <tr>\n",
       "      <th rowspan=\"3\" valign=\"top\">False</th>\n",
       "      <th>True</th>\n",
       "      <th>False</th>\n",
       "      <td>GL000194.1_-_114985-112838-112791-55676-55445-...</td>\n",
       "      <td>NNC</td>\n",
       "      <td>NA19390</td>\n",
       "    </tr>\n",
       "    <tr>\n",
       "      <th rowspan=\"2\" valign=\"top\">False</th>\n",
       "      <th>True</th>\n",
       "      <td>GL000194.1_-_114985-112850-112791-55676-55445-...</td>\n",
       "      <td>NNC</td>\n",
       "      <td>HG03729</td>\n",
       "    </tr>\n",
       "    <tr>\n",
       "      <th>True</th>\n",
       "      <td>GL000194.1_-_114985-112850-112791-55676-55445-...</td>\n",
       "      <td>NNC</td>\n",
       "      <td>HG04217</td>\n",
       "    </tr>\n",
       "    <tr>\n",
       "      <th>True</th>\n",
       "      <th>False</th>\n",
       "      <th>True</th>\n",
       "      <td>GL000194.1_-_114985-112850-112791-55676-55445-...</td>\n",
       "      <td>NNC</td>\n",
       "      <td>NA12878</td>\n",
       "    </tr>\n",
       "    <tr>\n",
       "      <th>False</th>\n",
       "      <th>False</th>\n",
       "      <th>True</th>\n",
       "      <td>GL000194.1_-_114985-112850-112791-55676-55445-...</td>\n",
       "      <td>NNC</td>\n",
       "      <td>HG04217</td>\n",
       "    </tr>\n",
       "  </tbody>\n",
       "</table>\n",
       "</div>"
      ],
      "text/plain": [
       "map_genome                                                     ic_id  \\\n",
       "hg38  hap1  hap2                                                       \n",
       "False True  False  GL000194.1_-_114985-112838-112791-55676-55445-...   \n",
       "      False True   GL000194.1_-_114985-112850-112791-55676-55445-...   \n",
       "            True   GL000194.1_-_114985-112850-112791-55676-55445-...   \n",
       "True  False True   GL000194.1_-_114985-112850-112791-55676-55445-...   \n",
       "False False True   GL000194.1_-_114985-112850-112791-55676-55445-...   \n",
       "\n",
       "map_genome        structural_category cell_line_id  \n",
       "hg38  hap1  hap2                                    \n",
       "False True  False                 NNC      NA19390  \n",
       "      False True                  NNC      HG03729  \n",
       "            True                  NNC      HG04217  \n",
       "True  False True                  NNC      NA12878  \n",
       "False False True                  NNC      HG04217  "
      ]
     },
     "execution_count": 172,
     "metadata": {},
     "output_type": "execute_result"
    }
   ],
   "source": [
    "map_genomes = ['hg38', 'hap1', 'hap2']\n",
    "df_crosstab = df_crosstab.set_index(map_genomes)\n",
    "df_crosstab.head()\n"
   ]
  },
  {
   "cell_type": "code",
   "execution_count": 174,
   "id": "402fe436-35ba-4c07-9bbe-b2c0f379513e",
   "metadata": {},
   "outputs": [
    {
     "name": "stderr",
     "output_type": "stream",
     "text": [
      "No artists with labels found to put in legend.  Note that artists whose label start with an underscore are ignored when legend() is called with no argument.\n",
      "1 extra bytes in post.stringData array\n",
      "'created' timestamp seems very low; regarding as unix timestamp\n",
      "Zapf NOT subset; don't know how to subset; dropped\n",
      "feat NOT subset; don't know how to subset; dropped\n",
      "meta NOT subset; don't know how to subset; dropped\n",
      "morx NOT subset; don't know how to subset; dropped\n"
     ]
    },
    {
     "data": {
      "image/png": "[encoded data removed]",
      "text/plain": [
       "<Figure size 360x360 with 1 Axes>"
      ]
     },
     "metadata": {
      "needs_background": "light"
     },
     "output_type": "display_data"
    },
    {
     "data": {
      "image/png": "[encoded data removed]",
      "text/plain": [
       "<Figure size 352x192 with 4 Axes>"
      ]
     },
     "metadata": {
      "needs_background": "light"
     },
     "output_type": "display_data"
    }
   ],
   "source": [
    "# TODO - would like this to have the total # uniq ICs bar plot\n",
    "# and box plot of # ICs per sample\n",
    "\n",
    "\n",
    "\n",
    "c_dict, order = get_novelty_colors()\n",
    "init_plot_settings()\n",
    "upset = upsetplot.UpSet(df_crosstab, intersection_plot_elements=0)  # disable the default bar chart\n",
    "upset.add_stacked_bars(\n",
    "    by=\"structural_category\", title=\"Count by structural category\",\n",
    "    colors=c_dict)\n",
    "ax = plt.gca()\n",
    "plt.legend(bbox_to_anchor=(1.05, 1), loc='upper left')\n",
    "upset.plot()\n",
    "plt.savefig('td_personal_hg38_undet_ic_novelty_barplot.pdf', dpi=500)"
   ]
  },
  {
   "cell_type": "markdown",
   "id": "7152a101-8957-4155-ac6d-b7a87fa61e48",
   "metadata": {},
   "source": [
    "## Raw # ICs detected in at least one haplotype vs. hg38 (essentailly do the same as above but allow both personal genome haplotypes to contrubute"
   ]
  },
  {
   "cell_type": "code",
   "execution_count": null,
   "id": "b8fd4fbd-1b6e-4842-aa98-d3f15fe43bc4",
   "metadata": {},
   "outputs": [],
   "source": [
    "# TODO"
   ]
  },
  {
   "cell_type": "code",
   "execution_count": null,
   "id": "0d4de85b-b9b8-42af-9b5f-7e3501b3f630",
   "metadata": {},
   "outputs": [],
   "source": []
  },
  {
   "cell_type": "markdown",
   "id": "1384aa99-f52b-4a79-81fd-7b19e6f52aab",
   "metadata": {},
   "source": [
    "## Now look at splice junctions detection? (no sqanti yet ie dedupe sjs from sqanti_genome). Do we see more splice junctions? More novel splice junctions?  -- TODO"
   ]
  },
  {
   "cell_type": "code",
   "execution_count": 163,
   "id": "f2071559-324f-4d13-be78-9129fce3de64",
   "metadata": {},
   "outputs": [],
   "source": [
    "file = proc_cfg(config['lr']['td_personal']['sqanti']['sj_summary'],od)\n",
    "df = pd.read_csv(file)\n",
    "df.drop('Unnamed: 0', axis=1, inplace=True)"
   ]
  },
  {
   "cell_type": "code",
   "execution_count": 164,
   "id": "ce45b28f-4b13-49a9-aabe-5e12f91066ff",
   "metadata": {},
   "outputs": [
    {
     "name": "stdout",
     "output_type": "stream",
     "text": [
      "24934518\n",
      "8318481\n"
     ]
    }
   ],
   "source": [
    "# remove sqanti genome and drop dupes\n",
    "# the sqanti genome / splice motif SHOULD be irrelevant here\n",
    "df = df.drop(['sqanti_genome', 'splice_motif'], axis=1)\n",
    "print(len(df.index))\n",
    "df = df.drop_duplicates()\n",
    "print(len(df.index))"
   ]
  },
  {
   "cell_type": "code",
   "execution_count": 165,
   "id": "cca70910-6c9b-486e-a82d-527e4bd76cd6",
   "metadata": {},
   "outputs": [
    {
     "data": {
      "text/html": [
       "<div>\n",
       "<style scoped>\n",
       "    .dataframe tbody tr th:only-of-type {\n",
       "        vertical-align: middle;\n",
       "    }\n",
       "\n",
       "    .dataframe tbody tr th {\n",
       "        vertical-align: top;\n",
       "    }\n",
       "\n",
       "    .dataframe thead th {\n",
       "        text-align: right;\n",
       "    }\n",
       "</style>\n",
       "<table border=\"1\" class=\"dataframe\">\n",
       "  <thead>\n",
       "    <tr style=\"text-align: right;\">\n",
       "      <th></th>\n",
       "      <th>sj_id</th>\n",
       "      <th>canonical</th>\n",
       "      <th>cell_line_id</th>\n",
       "      <th>map_genome</th>\n",
       "    </tr>\n",
       "  </thead>\n",
       "  <tbody>\n",
       "    <tr>\n",
       "      <th>0</th>\n",
       "      <td>KI270741.1_+_44470_47849</td>\n",
       "      <td>canonical</td>\n",
       "      <td>NA12273</td>\n",
       "      <td>hg38</td>\n",
       "    </tr>\n",
       "    <tr>\n",
       "      <th>1</th>\n",
       "      <td>KI270741.1_+_48008_52058</td>\n",
       "      <td>canonical</td>\n",
       "      <td>NA12273</td>\n",
       "      <td>hg38</td>\n",
       "    </tr>\n",
       "    <tr>\n",
       "      <th>2</th>\n",
       "      <td>KI270741.1_+_52137_130639</td>\n",
       "      <td>canonical</td>\n",
       "      <td>NA12273</td>\n",
       "      <td>hg38</td>\n",
       "    </tr>\n",
       "    <tr>\n",
       "      <th>3</th>\n",
       "      <td>KI270741.1_+_44470_47948</td>\n",
       "      <td>canonical</td>\n",
       "      <td>NA12273</td>\n",
       "      <td>hg38</td>\n",
       "    </tr>\n",
       "    <tr>\n",
       "      <th>4</th>\n",
       "      <td>GL000224.1_+_102592_105978</td>\n",
       "      <td>canonical</td>\n",
       "      <td>NA12273</td>\n",
       "      <td>hg38</td>\n",
       "    </tr>\n",
       "  </tbody>\n",
       "</table>\n",
       "</div>"
      ],
      "text/plain": [
       "                        sj_id  canonical cell_line_id map_genome\n",
       "0    KI270741.1_+_44470_47849  canonical      NA12273       hg38\n",
       "1    KI270741.1_+_48008_52058  canonical      NA12273       hg38\n",
       "2   KI270741.1_+_52137_130639  canonical      NA12273       hg38\n",
       "3    KI270741.1_+_44470_47948  canonical      NA12273       hg38\n",
       "4  GL000224.1_+_102592_105978  canonical      NA12273       hg38"
      ]
     },
     "execution_count": 165,
     "metadata": {},
     "output_type": "execute_result"
    }
   ],
   "source": [
    "df.head()"
   ]
  },
  {
   "cell_type": "code",
   "execution_count": null,
   "id": "624e6a5b-e038-46ac-a30a-61495ebe1cf2",
   "metadata": {},
   "outputs": [],
   "source": [
    "\n",
    "# # remove sqanti genome and drop dupes\n",
    "# # the sqanti genome SHOULD be irrelevant here\n",
    "# df = df.drop('sqanti_genome', axis=1)\n",
    "# print(len(df.index))\n",
    "# df = df.drop_duplicates()\n",
    "# print(len(df.index))\n",
    "\n",
    "# # then make sure that there are no dupe. ic+structural cat+sample+map genome\n",
    "# temp = df.loc[df[['ic_id', 'structural_category',\n",
    "#                   'cell_line_id', 'map_genome']].duplicated(keep=False)]\n",
    "# assert len(temp.index) == 0\n",
    "# del temp\n",
    "\n",
    "# # rename struct cats\n",
    "# sc_map = {'antisense': 'Antisense',\n",
    "#           'full-splice_match': 'FSM',\n",
    "#            'fusion': 'Fusion',\n",
    "#            'genic': 'Genic',\n",
    "#            'incomplete-splice_match': 'ISM',\n",
    "#            'intergenic': 'Intergenic',\n",
    "#            'novel_in_catalog': 'NIC',\n",
    "#            'novel_not_in_catalog': 'NNC'}\n",
    "# df.structural_category = df.structural_category.map(sc_map)\n",
    "\n",
    "\n",
    "# # transform to be t/f for each ic per genome\n",
    "# df.drop('transcript_id', axis=1, inplace=True)\n",
    "# df_crosstab = pd.crosstab(index=[df.ic_id, df.structural_category, df.cell_line_id], \n",
    "#                           columns=df.map_genome, \n",
    "#                           values=df.map_genome, \n",
    "#                           aggfunc=lambda x: True).fillna(False).reset_index()"
   ]
  },
  {
   "cell_type": "code",
   "execution_count": null,
   "id": "44ec1ad1-6294-4885-9638-57de514af14b",
   "metadata": {},
   "outputs": [],
   "source": []
  },
  {
   "cell_type": "code",
   "execution_count": null,
   "id": "c41c86ba-40a5-463f-82bb-013aac05538f",
   "metadata": {},
   "outputs": [],
   "source": []
  },
  {
   "cell_type": "code",
   "execution_count": null,
   "id": "4c92e7ea-b5fe-4f2f-a41d-2021aaa42c07",
   "metadata": {},
   "outputs": [],
   "source": []
  },
  {
   "cell_type": "code",
   "execution_count": null,
   "id": "a4d8a5bc-c1a9-4136-9d9e-9b3ae062e0f9",
   "metadata": {},
   "outputs": [],
   "source": []
  },
  {
   "cell_type": "code",
   "execution_count": null,
   "id": "5b5085af-51c3-4b33-85e2-8cc32777d3ed",
   "metadata": {},
   "outputs": [],
   "source": []
  },
  {
   "cell_type": "code",
   "execution_count": null,
   "id": "8cbe6c02-dfa2-4da6-a0fd-0879ff98e214",
   "metadata": {},
   "outputs": [],
   "source": []
  },
  {
   "cell_type": "code",
   "execution_count": null,
   "id": "a409efbf-d1f2-47d8-8994-6959befb77f7",
   "metadata": {},
   "outputs": [],
   "source": []
  },
  {
   "cell_type": "code",
   "execution_count": null,
   "id": "8f30545a-3fed-4ad0-a536-07d05498c028",
   "metadata": {},
   "outputs": [],
   "source": []
  },
  {
   "cell_type": "markdown",
   "id": "e8843b5e-0078-423c-a0ca-7773bdbfe6e2",
   "metadata": {},
   "source": [
    "## Are there splice junctions that 1. uniquely detected by hap 1/2 (map_genome) 1.5 novel, and 2. are NC in hg38 (sqanti_genome)\n",
    "\n",
    "This is on the sample level so for the SJ to be included, it just needs to be uniquely detected in hap1/hap2 in just one sample"
   ]
  },
  {
   "cell_type": "code",
   "execution_count": 304,
   "id": "02901495-e770-4d58-8949-98111fc90353",
   "metadata": {},
   "outputs": [],
   "source": [
    "file = proc_cfg(config['lr']['td_personal']['sqanti']['sj_summary'],od)\n",
    "df = pd.read_csv(file)\n",
    "df.drop('Unnamed: 0', axis=1, inplace=True)\n",
    "df['detected'] = True"
   ]
  },
  {
   "cell_type": "code",
   "execution_count": 308,
   "id": "68ee805c-85c0-41ad-a7ec-f3993e9b8ea8",
   "metadata": {},
   "outputs": [],
   "source": [
    "# 1.5 only novel sjs\n",
    "temp = df.loc[df.junction_novelty=='novel']"
   ]
  },
  {
   "cell_type": "code",
   "execution_count": 310,
   "id": "caa4b6be-802b-4bdb-b41f-6ad226201b84",
   "metadata": {},
   "outputs": [],
   "source": [
    "# get only the detection from mapping\n",
    "temp = temp[['sj_id', 'cell_line_id', 'map_genome', 'detected']]\n",
    "temp = temp.drop_duplicates()\n",
    "temp = temp.pivot(index=['sj_id', 'cell_line_id'], \n",
    "                columns=['map_genome'],\n",
    "                values=['detected'])\n",
    "\n",
    "# flatten\n",
    "temp.columns = temp.columns.get_level_values(1)\n",
    "temp.columns.name = None\n",
    "\n",
    "# reset index to make it a flat DataFrame\n",
    "temp = temp.reset_index()\n",
    "\n",
    "# fill missing values with False\n",
    "temp = temp.fillna(False)"
   ]
  },
  {
   "cell_type": "code",
   "execution_count": 311,
   "id": "6b9fcbfe-d84d-428a-94dd-a0e715881cfb",
   "metadata": {},
   "outputs": [],
   "source": [
    "# 1. get those that are detected uniquely in hap1/2 \n",
    "# (ie those not in hg38)\n",
    "temp = temp.loc[(temp.hg38==False)&\n",
    "                ((temp.hap1+temp.hap2)>0)]\n",
    "temp.head()\n",
    "sj_ids = temp.sj_id.unique().tolist()"
   ]
  },
  {
   "cell_type": "code",
   "execution_count": 312,
   "id": "b302f06b-e492-4e8b-b050-254eca75c222",
   "metadata": {},
   "outputs": [],
   "source": [
    "# 2. get canonicity in hg38 of those ss\n",
    "# requires only one entry per sj and sqanti genome == hg38\n",
    "df.head()\n",
    "temp2 = df.loc[(df.sqanti_genome=='hg38')&\n",
    "               (df.sj_id.isin(sj_ids))][['sj_id', 'splice_motif', 'canonical']].drop_duplicates()\n",
    "\n",
    "# make sure that there are no dupe sj_id\n",
    "assert len(temp2.loc[temp2.duplicated(subset='sj_id')].index) == 0"
   ]
  },
  {
   "cell_type": "code",
   "execution_count": 313,
   "id": "23c547e7-f763-4363-95e4-14758252cb2d",
   "metadata": {},
   "outputs": [
    {
     "data": {
      "text/html": [
       "<div>\n",
       "<style scoped>\n",
       "    .dataframe tbody tr th:only-of-type {\n",
       "        vertical-align: middle;\n",
       "    }\n",
       "\n",
       "    .dataframe tbody tr th {\n",
       "        vertical-align: top;\n",
       "    }\n",
       "\n",
       "    .dataframe thead th {\n",
       "        text-align: right;\n",
       "    }\n",
       "</style>\n",
       "<table border=\"1\" class=\"dataframe\">\n",
       "  <thead>\n",
       "    <tr style=\"text-align: right;\">\n",
       "      <th></th>\n",
       "      <th>canonical</th>\n",
       "      <th>n_sjs</th>\n",
       "    </tr>\n",
       "  </thead>\n",
       "  <tbody>\n",
       "    <tr>\n",
       "      <th>0</th>\n",
       "      <td>canonical</td>\n",
       "      <td>5254</td>\n",
       "    </tr>\n",
       "    <tr>\n",
       "      <th>1</th>\n",
       "      <td>non_canonical</td>\n",
       "      <td>514</td>\n",
       "    </tr>\n",
       "  </tbody>\n",
       "</table>\n",
       "</div>"
      ],
      "text/plain": [
       "       canonical  n_sjs\n",
       "0      canonical   5254\n",
       "1  non_canonical    514"
      ]
     },
     "execution_count": 313,
     "metadata": {},
     "output_type": "execute_result"
    }
   ],
   "source": [
    "# plot \n",
    "temp3 = temp2[['sj_id', 'canonical']].groupby('canonical').nunique().reset_index().rename({'sj_id': 'n_sjs'}, axis=1)\n",
    "temp3.head()"
   ]
  },
  {
   "cell_type": "code",
   "execution_count": 316,
   "id": "772296fe-fab1-4c76-b4c5-43acce269aad",
   "metadata": {},
   "outputs": [
    {
     "data": {
      "text/plain": [
       "5768"
      ]
     },
     "execution_count": 316,
     "metadata": {},
     "output_type": "execute_result"
    }
   ],
   "source": [
    "# w/ only novel sjs\n",
    "5254+514"
   ]
  },
  {
   "cell_type": "code",
   "execution_count": 314,
   "id": "0413a77b-8b73-4757-8005-1d146c36df28",
   "metadata": {},
   "outputs": [
    {
     "data": {
      "text/plain": [
       "10273"
      ]
     },
     "execution_count": 314,
     "metadata": {},
     "output_type": "execute_result"
    }
   ],
   "source": [
    "# 9742+531 # w/o novelty filtering"
   ]
  },
  {
   "cell_type": "code",
   "execution_count": 315,
   "id": "601ba659-2f12-404f-894c-14f10d4a1fba",
   "metadata": {},
   "outputs": [],
   "source": [
    "# # make sure that these Sjs (only det in hap1 / hap2 in a sample) were canonical in their haplotypes as well\n",
    "# # (where map_genome == sqanti_genome .isin(['hap1', 'hap2'])\n",
    "# temp4 = temp.merge(df[['sj_id', 'canonical', 'sqanti_genome', 'map_genome', 'cell_line_id']],\n",
    "#                    how='left',\n",
    "#                    on=['sj_id', 'cell_line_id'])\n",
    "# # temp4.head()\n",
    "\n",
    "# temp4 = temp4.loc[(temp4.sqanti_genome==temp4.map_genome)&\n",
    "#                   (temp4.sqanti_genome.isin(['hap1', 'hap2']))]\n",
    "# temp4.loc[temp4.canonical==True]\n",
    "\n",
    "# sike this won't work rn because we don't have the novelty status"
   ]
  },
  {
   "cell_type": "markdown",
   "id": "58185813-1f1a-4b9b-9257-5a837dd451a3",
   "metadata": {},
   "source": [
    "## Are there splice junctions that 1. uniquely detected by hap 1/2 (map_genome) and 2. are NC in hg38 (sqanti_genome)?\n",
    "measure this on a per-sample basis!"
   ]
  },
  {
   "cell_type": "code",
   "execution_count": 14,
   "id": "49d74d49-46bb-4a7d-9a65-e4f4624f6e2b",
   "metadata": {},
   "outputs": [],
   "source": [
    "file = proc_cfg(config['lr']['td_personal']['sqanti']['sj_summary'],od)\n",
    "df = pd.read_csv(file)\n",
    "df.drop('Unnamed: 0', axis=1, inplace=True)\n",
    "df['detected'] = True"
   ]
  },
  {
   "cell_type": "code",
   "execution_count": 6,
   "id": "8b03574f-0855-461e-bd5a-dac4365bd19c",
   "metadata": {},
   "outputs": [],
   "source": [
    "# 1.5 only novel sjs\n",
    "temp = df.loc[df.junction_novelty=='novel']"
   ]
  },
  {
   "cell_type": "code",
   "execution_count": 7,
   "id": "3d30c52c-b284-4bc2-ad5c-f075ae690202",
   "metadata": {},
   "outputs": [],
   "source": [
    "# get only the detection from mapping\n",
    "temp = temp[['sj_id', 'cell_line_id', 'map_genome', 'detected']]\n",
    "temp = temp.drop_duplicates()\n",
    "temp = temp.pivot(index=['sj_id', 'cell_line_id'], \n",
    "                columns=['map_genome'],\n",
    "                values=['detected'])\n",
    "\n",
    "# flatten\n",
    "temp.columns = temp.columns.get_level_values(1)\n",
    "temp.columns.name = None\n",
    "\n",
    "# reset index to make it a flat DataFrame\n",
    "temp = temp.reset_index()\n",
    "\n",
    "# fill missing values with False\n",
    "temp = temp.fillna(False)"
   ]
  },
  {
   "cell_type": "code",
   "execution_count": 8,
   "id": "ac2bca9d-3c43-4a28-ad3a-131794b72389",
   "metadata": {},
   "outputs": [],
   "source": [
    "# 1. get those that are detected uniquely in hap1/2 \n",
    "# (ie those not in hg38)\n",
    "temp = temp.loc[(temp.hg38==False)&\n",
    "                ((temp.hap1+temp.hap2)>0)]"
   ]
  },
  {
   "cell_type": "code",
   "execution_count": 13,
   "id": "17a896bd-00fc-4604-88db-534adb071db0",
   "metadata": {},
   "outputs": [
    {
     "ename": "KeyError",
     "evalue": "'sj_id'",
     "output_type": "error",
     "traceback": [
      "\u001b[0;31m---------------------------------------------------------------------------\u001b[0m",
      "\u001b[0;31mKeyError\u001b[0m                                  Traceback (most recent call last)",
      "\u001b[0;32m<ipython-input-13-91ea10387004>\u001b[0m in \u001b[0;36m<module>\u001b[0;34m\u001b[0m\n\u001b[1;32m      4\u001b[0m \u001b[0;32massert\u001b[0m \u001b[0mlen\u001b[0m\u001b[0;34m(\u001b[0m\u001b[0mtemp2\u001b[0m\u001b[0;34m.\u001b[0m\u001b[0mloc\u001b[0m\u001b[0;34m[\u001b[0m\u001b[0mtemp2\u001b[0m\u001b[0;34m.\u001b[0m\u001b[0msj_id\u001b[0m\u001b[0;34m.\u001b[0m\u001b[0mduplicated\u001b[0m\u001b[0;34m(\u001b[0m\u001b[0;34m)\u001b[0m\u001b[0;34m]\u001b[0m\u001b[0;34m)\u001b[0m \u001b[0;34m==\u001b[0m \u001b[0;36m0\u001b[0m\u001b[0;34m\u001b[0m\u001b[0;34m\u001b[0m\u001b[0m\n\u001b[1;32m      5\u001b[0m temp = temp.merge(temp2, how='left', \n\u001b[0;32m----> 6\u001b[0;31m                   on='sj_id')\n\u001b[0m",
      "\u001b[0;32m~/miniconda3/lib/python3.7/site-packages/pandas/core/frame.py\u001b[0m in \u001b[0;36mmerge\u001b[0;34m(self, right, how, on, left_on, right_on, left_index, right_index, sort, suffixes, copy, indicator, validate)\u001b[0m\n\u001b[1;32m   9201\u001b[0m             \u001b[0mcopy\u001b[0m\u001b[0;34m=\u001b[0m\u001b[0mcopy\u001b[0m\u001b[0;34m,\u001b[0m\u001b[0;34m\u001b[0m\u001b[0;34m\u001b[0m\u001b[0m\n\u001b[1;32m   9202\u001b[0m             \u001b[0mindicator\u001b[0m\u001b[0;34m=\u001b[0m\u001b[0mindicator\u001b[0m\u001b[0;34m,\u001b[0m\u001b[0;34m\u001b[0m\u001b[0;34m\u001b[0m\u001b[0m\n\u001b[0;32m-> 9203\u001b[0;31m             \u001b[0mvalidate\u001b[0m\u001b[0;34m=\u001b[0m\u001b[0mvalidate\u001b[0m\u001b[0;34m,\u001b[0m\u001b[0;34m\u001b[0m\u001b[0;34m\u001b[0m\u001b[0m\n\u001b[0m\u001b[1;32m   9204\u001b[0m         )\n\u001b[1;32m   9205\u001b[0m \u001b[0;34m\u001b[0m\u001b[0m\n",
      "\u001b[0;32m~/miniconda3/lib/python3.7/site-packages/pandas/core/reshape/merge.py\u001b[0m in \u001b[0;36mmerge\u001b[0;34m(left, right, how, on, left_on, right_on, left_index, right_index, sort, suffixes, copy, indicator, validate)\u001b[0m\n\u001b[1;32m    117\u001b[0m         \u001b[0mcopy\u001b[0m\u001b[0;34m=\u001b[0m\u001b[0mcopy\u001b[0m\u001b[0;34m,\u001b[0m\u001b[0;34m\u001b[0m\u001b[0;34m\u001b[0m\u001b[0m\n\u001b[1;32m    118\u001b[0m         \u001b[0mindicator\u001b[0m\u001b[0;34m=\u001b[0m\u001b[0mindicator\u001b[0m\u001b[0;34m,\u001b[0m\u001b[0;34m\u001b[0m\u001b[0;34m\u001b[0m\u001b[0m\n\u001b[0;32m--> 119\u001b[0;31m         \u001b[0mvalidate\u001b[0m\u001b[0;34m=\u001b[0m\u001b[0mvalidate\u001b[0m\u001b[0;34m,\u001b[0m\u001b[0;34m\u001b[0m\u001b[0;34m\u001b[0m\u001b[0m\n\u001b[0m\u001b[1;32m    120\u001b[0m     )\n\u001b[1;32m    121\u001b[0m     \u001b[0;32mreturn\u001b[0m \u001b[0mop\u001b[0m\u001b[0;34m.\u001b[0m\u001b[0mget_result\u001b[0m\u001b[0;34m(\u001b[0m\u001b[0;34m)\u001b[0m\u001b[0;34m\u001b[0m\u001b[0;34m\u001b[0m\u001b[0m\n",
      "\u001b[0;32m~/miniconda3/lib/python3.7/site-packages/pandas/core/reshape/merge.py\u001b[0m in \u001b[0;36m__init__\u001b[0;34m(self, left, right, how, on, left_on, right_on, axis, left_index, right_index, sort, suffixes, copy, indicator, validate)\u001b[0m\n\u001b[1;32m    697\u001b[0m             \u001b[0mself\u001b[0m\u001b[0;34m.\u001b[0m\u001b[0mright_join_keys\u001b[0m\u001b[0;34m,\u001b[0m\u001b[0;34m\u001b[0m\u001b[0;34m\u001b[0m\u001b[0m\n\u001b[1;32m    698\u001b[0m             \u001b[0mself\u001b[0m\u001b[0;34m.\u001b[0m\u001b[0mjoin_names\u001b[0m\u001b[0;34m,\u001b[0m\u001b[0;34m\u001b[0m\u001b[0;34m\u001b[0m\u001b[0m\n\u001b[0;32m--> 699\u001b[0;31m         ) = self._get_merge_keys()\n\u001b[0m\u001b[1;32m    700\u001b[0m \u001b[0;34m\u001b[0m\u001b[0m\n\u001b[1;32m    701\u001b[0m         \u001b[0;31m# validate the merge keys dtypes. We may need to coerce\u001b[0m\u001b[0;34m\u001b[0m\u001b[0;34m\u001b[0m\u001b[0;34m\u001b[0m\u001b[0m\n",
      "\u001b[0;32m~/miniconda3/lib/python3.7/site-packages/pandas/core/reshape/merge.py\u001b[0m in \u001b[0;36m_get_merge_keys\u001b[0;34m(self)\u001b[0m\n\u001b[1;32m   1107\u001b[0m                         \u001b[0mright_keys\u001b[0m\u001b[0;34m.\u001b[0m\u001b[0mappend\u001b[0m\u001b[0;34m(\u001b[0m\u001b[0mrk\u001b[0m\u001b[0;34m)\u001b[0m\u001b[0;34m\u001b[0m\u001b[0;34m\u001b[0m\u001b[0m\n\u001b[1;32m   1108\u001b[0m                     \u001b[0;32mif\u001b[0m \u001b[0mlk\u001b[0m \u001b[0;32mis\u001b[0m \u001b[0;32mnot\u001b[0m \u001b[0;32mNone\u001b[0m\u001b[0;34m:\u001b[0m\u001b[0;34m\u001b[0m\u001b[0;34m\u001b[0m\u001b[0m\n\u001b[0;32m-> 1109\u001b[0;31m                         \u001b[0mleft_keys\u001b[0m\u001b[0;34m.\u001b[0m\u001b[0mappend\u001b[0m\u001b[0;34m(\u001b[0m\u001b[0mleft\u001b[0m\u001b[0;34m.\u001b[0m\u001b[0m_get_label_or_level_values\u001b[0m\u001b[0;34m(\u001b[0m\u001b[0mlk\u001b[0m\u001b[0;34m)\u001b[0m\u001b[0;34m)\u001b[0m\u001b[0;34m\u001b[0m\u001b[0;34m\u001b[0m\u001b[0m\n\u001b[0m\u001b[1;32m   1110\u001b[0m                         \u001b[0mjoin_names\u001b[0m\u001b[0;34m.\u001b[0m\u001b[0mappend\u001b[0m\u001b[0;34m(\u001b[0m\u001b[0mlk\u001b[0m\u001b[0;34m)\u001b[0m\u001b[0;34m\u001b[0m\u001b[0;34m\u001b[0m\u001b[0m\n\u001b[1;32m   1111\u001b[0m                     \u001b[0;32melse\u001b[0m\u001b[0;34m:\u001b[0m\u001b[0;34m\u001b[0m\u001b[0;34m\u001b[0m\u001b[0m\n",
      "\u001b[0;32m~/miniconda3/lib/python3.7/site-packages/pandas/core/generic.py\u001b[0m in \u001b[0;36m_get_label_or_level_values\u001b[0;34m(self, key, axis)\u001b[0m\n\u001b[1;32m   1777\u001b[0m             \u001b[0mvalues\u001b[0m \u001b[0;34m=\u001b[0m \u001b[0mself\u001b[0m\u001b[0;34m.\u001b[0m\u001b[0maxes\u001b[0m\u001b[0;34m[\u001b[0m\u001b[0maxis\u001b[0m\u001b[0;34m]\u001b[0m\u001b[0;34m.\u001b[0m\u001b[0mget_level_values\u001b[0m\u001b[0;34m(\u001b[0m\u001b[0mkey\u001b[0m\u001b[0;34m)\u001b[0m\u001b[0;34m.\u001b[0m\u001b[0m_values\u001b[0m\u001b[0;34m\u001b[0m\u001b[0;34m\u001b[0m\u001b[0m\n\u001b[1;32m   1778\u001b[0m         \u001b[0;32melse\u001b[0m\u001b[0;34m:\u001b[0m\u001b[0;34m\u001b[0m\u001b[0;34m\u001b[0m\u001b[0m\n\u001b[0;32m-> 1779\u001b[0;31m             \u001b[0;32mraise\u001b[0m \u001b[0mKeyError\u001b[0m\u001b[0;34m(\u001b[0m\u001b[0mkey\u001b[0m\u001b[0;34m)\u001b[0m\u001b[0;34m\u001b[0m\u001b[0;34m\u001b[0m\u001b[0m\n\u001b[0m\u001b[1;32m   1780\u001b[0m \u001b[0;34m\u001b[0m\u001b[0m\n\u001b[1;32m   1781\u001b[0m         \u001b[0;31m# Check for duplicates\u001b[0m\u001b[0;34m\u001b[0m\u001b[0;34m\u001b[0m\u001b[0;34m\u001b[0m\u001b[0m\n",
      "\u001b[0;31mKeyError\u001b[0m: 'sj_id'"
     ]
    }
   ],
   "source": [
    "# 2. get the hg38 canonicity of each of these sjs\n",
    "temp2 = df[['sj_id', 'splice_motif', 'canonical', 'sqanti_genome']].drop_duplicates()\n",
    "temp2 = temp2.loc[temp2.sqanti_genome=='hg38']\n",
    "assert len(temp2.loc[temp2.sj_id.duplicated()]) == 0\n",
    "temp = temp.merge(temp2, how='left', \n",
    "                  on='sj_id')\n"
   ]
  },
  {
   "cell_type": "code",
   "execution_count": null,
   "id": "947126c5-89bb-477e-92d3-a84547b233d2",
   "metadata": {},
   "outputs": [],
   "source": [
    "# compute the # and % of hap1/hap2-spec sjs (per sample) that are canonical\n",
    "# vs. non-canonical in hg38\n",
    "temp.drop(['hap1', 'hap2', 'hg38', 'sqanti_genome', 'splice_motif'], axis=1, inplace=True)\n",
    "temp = temp.groupby(['cell_line_id', 'canonical']).nunique().reset_index().rename({'sj_id':'n_sj'}, axis=1)"
   ]
  },
  {
   "cell_type": "code",
   "execution_count": null,
   "id": "08f5fa21-a2ba-4fdd-a108-9497879c07d1",
   "metadata": {},
   "outputs": [],
   "source": [
    "# add total & compute %\n",
    "temp['total'] = temp.groupby('cell_line_id')['n_sj'].transform('sum')\n",
    "temp['perc'] = (temp.n_sj/temp.total)*100"
   ]
  },
  {
   "cell_type": "code",
   "execution_count": null,
   "id": "7f52d883-f87a-4972-a641-f0e3a6254f5d",
   "metadata": {},
   "outputs": [],
   "source": [
    "temp = temp.loc[temp.canonical=='non_canonical']\n",
    "ax  = sns.boxplot(temp, \n",
    "                  y='perc', showfliers=False)\n",
    "sns.stripplot(temp,\n",
    "              y='perc',\n",
    "              size=10)\n",
    "ax.set(ylabel='% of hg38 undet. ICs\\nwhich are noncanonical')\n",
    "ax.spines['right'].set_visible(False)\n",
    "ax.spines['top'].set_visible(False)"
   ]
  },
  {
   "cell_type": "code",
   "execution_count": null,
   "id": "be278c4c-c1fd-4e2a-8eb6-c6b3339b0e59",
   "metadata": {},
   "outputs": [],
   "source": [
    "temp.perc.median()"
   ]
  },
  {
   "cell_type": "code",
   "execution_count": null,
   "id": "1466e8f0-22d3-4584-8a6e-14ac8bb4ec66",
   "metadata": {},
   "outputs": [],
   "source": [
    "temp.n_sj.median()"
   ]
  },
  {
   "cell_type": "code",
   "execution_count": null,
   "id": "34eb3d49-c22f-4908-8aa0-729ab247c009",
   "metadata": {},
   "outputs": [],
   "source": [
    "temp.total.median()"
   ]
  },
  {
   "cell_type": "code",
   "execution_count": null,
   "id": "210ae6b9-5bb5-4240-ac8b-72dec47934a7",
   "metadata": {},
   "outputs": [],
   "source": [
    "## "
   ]
  },
  {
   "cell_type": "code",
   "execution_count": null,
   "id": "16f7c35a-2807-450d-8159-57eae5769c06",
   "metadata": {},
   "outputs": [],
   "source": []
  },
  {
   "cell_type": "code",
   "execution_count": null,
   "id": "1c2a79bb-4283-4fd7-b0e1-f50a1c00a6f2",
   "metadata": {},
   "outputs": [],
   "source": []
  },
  {
   "cell_type": "code",
   "execution_count": null,
   "id": "639998b4-7510-483e-bbdf-a29590916d69",
   "metadata": {},
   "outputs": [],
   "source": []
  },
  {
   "cell_type": "code",
   "execution_count": null,
   "id": "a43b8e12-b506-4dab-aa26-03a73c5a4034",
   "metadata": {},
   "outputs": [],
   "source": []
  },
  {
   "cell_type": "code",
   "execution_count": null,
   "id": "5da3d6a4-1882-4202-bdc4-27358d29342b",
   "metadata": {},
   "outputs": [],
   "source": []
  },
  {
   "cell_type": "code",
   "execution_count": null,
   "id": "de8ed941-8e20-4910-82d9-32473bd9486a",
   "metadata": {},
   "outputs": [],
   "source": []
  },
  {
   "cell_type": "code",
   "execution_count": null,
   "id": "a1fe7a9d-6128-4f6d-8870-81636a864f33",
   "metadata": {},
   "outputs": [],
   "source": []
  },
  {
   "cell_type": "code",
   "execution_count": null,
   "id": "517637a0-64d9-4dd5-a985-6dd53e29265d",
   "metadata": {},
   "outputs": [],
   "source": []
  },
  {
   "cell_type": "code",
   "execution_count": null,
   "id": "bf0bc794-e26e-4f87-b664-4285f4669087",
   "metadata": {},
   "outputs": [],
   "source": []
  },
  {
   "cell_type": "code",
   "execution_count": null,
   "id": "85a2b731-bbdc-472a-9d0b-a016ff316276",
   "metadata": {},
   "outputs": [],
   "source": []
  },
  {
   "cell_type": "code",
   "execution_count": 206,
   "id": "7f96ab54-fada-40fd-82d1-3e6025338994",
   "metadata": {},
   "outputs": [
    {
     "data": {
      "text/html": [
       "<div>\n",
       "<style scoped>\n",
       "    .dataframe tbody tr th:only-of-type {\n",
       "        vertical-align: middle;\n",
       "    }\n",
       "\n",
       "    .dataframe tbody tr th {\n",
       "        vertical-align: top;\n",
       "    }\n",
       "\n",
       "    .dataframe thead th {\n",
       "        text-align: right;\n",
       "    }\n",
       "</style>\n",
       "<table border=\"1\" class=\"dataframe\">\n",
       "  <thead>\n",
       "    <tr style=\"text-align: right;\">\n",
       "      <th></th>\n",
       "      <th>sj_id</th>\n",
       "      <th>splice_motif</th>\n",
       "      <th>canonical</th>\n",
       "      <th>cell_line_id</th>\n",
       "      <th>map_genome</th>\n",
       "      <th>sqanti_genome</th>\n",
       "    </tr>\n",
       "  </thead>\n",
       "  <tbody>\n",
       "    <tr>\n",
       "      <th>0</th>\n",
       "      <td>KI270741.1_+_44470_47849</td>\n",
       "      <td>GTAG</td>\n",
       "      <td>canonical</td>\n",
       "      <td>NA12273</td>\n",
       "      <td>hg38</td>\n",
       "      <td>hg38</td>\n",
       "    </tr>\n",
       "    <tr>\n",
       "      <th>86907</th>\n",
       "      <td>KI270741.1_+_44470_47849</td>\n",
       "      <td>GTAG</td>\n",
       "      <td>canonical</td>\n",
       "      <td>NA12273</td>\n",
       "      <td>hg38</td>\n",
       "      <td>hap2</td>\n",
       "    </tr>\n",
       "    <tr>\n",
       "      <th>173814</th>\n",
       "      <td>KI270741.1_+_44470_47849</td>\n",
       "      <td>GTAG</td>\n",
       "      <td>canonical</td>\n",
       "      <td>NA12273</td>\n",
       "      <td>hg38</td>\n",
       "      <td>hap1</td>\n",
       "    </tr>\n",
       "    <tr>\n",
       "      <th>8330170</th>\n",
       "      <td>KI270741.1_+_44470_47849</td>\n",
       "      <td>GTAG</td>\n",
       "      <td>canonical</td>\n",
       "      <td>NA12273</td>\n",
       "      <td>hap2</td>\n",
       "      <td>hg38</td>\n",
       "    </tr>\n",
       "    <tr>\n",
       "      <th>8417497</th>\n",
       "      <td>KI270741.1_+_44470_47849</td>\n",
       "      <td>GTAG</td>\n",
       "      <td>canonical</td>\n",
       "      <td>NA12273</td>\n",
       "      <td>hap2</td>\n",
       "      <td>hap2</td>\n",
       "    </tr>\n",
       "    <tr>\n",
       "      <th>8504824</th>\n",
       "      <td>KI270741.1_+_44470_47849</td>\n",
       "      <td>GTAG</td>\n",
       "      <td>canonical</td>\n",
       "      <td>NA12273</td>\n",
       "      <td>hap2</td>\n",
       "      <td>hap1</td>\n",
       "    </tr>\n",
       "    <tr>\n",
       "      <th>8581593</th>\n",
       "      <td>KI270741.1_+_44470_47849</td>\n",
       "      <td>GTAG</td>\n",
       "      <td>canonical</td>\n",
       "      <td>NA12273</td>\n",
       "      <td>hap1</td>\n",
       "      <td>hg38</td>\n",
       "    </tr>\n",
       "    <tr>\n",
       "      <th>8668901</th>\n",
       "      <td>KI270741.1_+_44470_47849</td>\n",
       "      <td>GTAG</td>\n",
       "      <td>canonical</td>\n",
       "      <td>NA12273</td>\n",
       "      <td>hap1</td>\n",
       "      <td>hap2</td>\n",
       "    </tr>\n",
       "    <tr>\n",
       "      <th>8756209</th>\n",
       "      <td>KI270741.1_+_44470_47849</td>\n",
       "      <td>GTAG</td>\n",
       "      <td>canonical</td>\n",
       "      <td>NA12273</td>\n",
       "      <td>hap1</td>\n",
       "      <td>hap1</td>\n",
       "    </tr>\n",
       "  </tbody>\n",
       "</table>\n",
       "</div>"
      ],
      "text/plain": [
       "                            sj_id splice_motif  canonical cell_line_id  \\\n",
       "0        KI270741.1_+_44470_47849         GTAG  canonical      NA12273   \n",
       "86907    KI270741.1_+_44470_47849         GTAG  canonical      NA12273   \n",
       "173814   KI270741.1_+_44470_47849         GTAG  canonical      NA12273   \n",
       "8330170  KI270741.1_+_44470_47849         GTAG  canonical      NA12273   \n",
       "8417497  KI270741.1_+_44470_47849         GTAG  canonical      NA12273   \n",
       "8504824  KI270741.1_+_44470_47849         GTAG  canonical      NA12273   \n",
       "8581593  KI270741.1_+_44470_47849         GTAG  canonical      NA12273   \n",
       "8668901  KI270741.1_+_44470_47849         GTAG  canonical      NA12273   \n",
       "8756209  KI270741.1_+_44470_47849         GTAG  canonical      NA12273   \n",
       "\n",
       "        map_genome sqanti_genome  \n",
       "0             hg38          hg38  \n",
       "86907         hg38          hap2  \n",
       "173814        hg38          hap1  \n",
       "8330170       hap2          hg38  \n",
       "8417497       hap2          hap2  \n",
       "8504824       hap2          hap1  \n",
       "8581593       hap1          hg38  \n",
       "8668901       hap1          hap2  \n",
       "8756209       hap1          hap1  "
      ]
     },
     "execution_count": 206,
     "metadata": {},
     "output_type": "execute_result"
    }
   ],
   "source": [
    "df.loc[(df.cell_line_id=='NA12273')&(df.sj_id=='KI270741.1_+_44470_47849')]"
   ]
  },
  {
   "cell_type": "code",
   "execution_count": 207,
   "id": "e70cd41e-e268-4142-9dd0-eadd33c07c1e",
   "metadata": {},
   "outputs": [
    {
     "data": {
      "text/html": [
       "<div>\n",
       "<style scoped>\n",
       "    .dataframe tbody tr th:only-of-type {\n",
       "        vertical-align: middle;\n",
       "    }\n",
       "\n",
       "    .dataframe tbody tr th {\n",
       "        vertical-align: top;\n",
       "    }\n",
       "\n",
       "    .dataframe thead th {\n",
       "        text-align: right;\n",
       "    }\n",
       "</style>\n",
       "<table border=\"1\" class=\"dataframe\">\n",
       "  <thead>\n",
       "    <tr style=\"text-align: right;\">\n",
       "      <th></th>\n",
       "      <th>sj_id</th>\n",
       "      <th>cell_line_id</th>\n",
       "      <th>canonical</th>\n",
       "      <th>genome_type</th>\n",
       "      <th>genome</th>\n",
       "    </tr>\n",
       "  </thead>\n",
       "  <tbody>\n",
       "    <tr>\n",
       "      <th>0</th>\n",
       "      <td>KI270741.1_+_44470_47849</td>\n",
       "      <td>NA12273</td>\n",
       "      <td>canonical</td>\n",
       "      <td>map_genome_hg38</td>\n",
       "      <td>hg38</td>\n",
       "    </tr>\n",
       "    <tr>\n",
       "      <th>86907</th>\n",
       "      <td>KI270741.1_+_44470_47849</td>\n",
       "      <td>NA12273</td>\n",
       "      <td>canonical</td>\n",
       "      <td>map_genome_hg38</td>\n",
       "      <td>hg38</td>\n",
       "    </tr>\n",
       "    <tr>\n",
       "      <th>173814</th>\n",
       "      <td>KI270741.1_+_44470_47849</td>\n",
       "      <td>NA12273</td>\n",
       "      <td>canonical</td>\n",
       "      <td>map_genome_hg38</td>\n",
       "      <td>hg38</td>\n",
       "    </tr>\n",
       "    <tr>\n",
       "      <th>8330170</th>\n",
       "      <td>KI270741.1_+_44470_47849</td>\n",
       "      <td>NA12273</td>\n",
       "      <td>canonical</td>\n",
       "      <td>map_genome_hap2</td>\n",
       "      <td>hap2</td>\n",
       "    </tr>\n",
       "    <tr>\n",
       "      <th>8417497</th>\n",
       "      <td>KI270741.1_+_44470_47849</td>\n",
       "      <td>NA12273</td>\n",
       "      <td>canonical</td>\n",
       "      <td>map_genome_hap2</td>\n",
       "      <td>hap2</td>\n",
       "    </tr>\n",
       "    <tr>\n",
       "      <th>8504824</th>\n",
       "      <td>KI270741.1_+_44470_47849</td>\n",
       "      <td>NA12273</td>\n",
       "      <td>canonical</td>\n",
       "      <td>map_genome_hap2</td>\n",
       "      <td>hap2</td>\n",
       "    </tr>\n",
       "    <tr>\n",
       "      <th>8581593</th>\n",
       "      <td>KI270741.1_+_44470_47849</td>\n",
       "      <td>NA12273</td>\n",
       "      <td>canonical</td>\n",
       "      <td>map_genome_hap1</td>\n",
       "      <td>hap1</td>\n",
       "    </tr>\n",
       "    <tr>\n",
       "      <th>8668901</th>\n",
       "      <td>KI270741.1_+_44470_47849</td>\n",
       "      <td>NA12273</td>\n",
       "      <td>canonical</td>\n",
       "      <td>map_genome_hap1</td>\n",
       "      <td>hap1</td>\n",
       "    </tr>\n",
       "    <tr>\n",
       "      <th>8756209</th>\n",
       "      <td>KI270741.1_+_44470_47849</td>\n",
       "      <td>NA12273</td>\n",
       "      <td>canonical</td>\n",
       "      <td>map_genome_hap1</td>\n",
       "      <td>hap1</td>\n",
       "    </tr>\n",
       "    <tr>\n",
       "      <th>24934518</th>\n",
       "      <td>KI270741.1_+_44470_47849</td>\n",
       "      <td>NA12273</td>\n",
       "      <td>canonical</td>\n",
       "      <td>sqanti_genome_hg38</td>\n",
       "      <td>hg38</td>\n",
       "    </tr>\n",
       "    <tr>\n",
       "      <th>25021425</th>\n",
       "      <td>KI270741.1_+_44470_47849</td>\n",
       "      <td>NA12273</td>\n",
       "      <td>canonical</td>\n",
       "      <td>sqanti_genome_hap2</td>\n",
       "      <td>hap2</td>\n",
       "    </tr>\n",
       "    <tr>\n",
       "      <th>25108332</th>\n",
       "      <td>KI270741.1_+_44470_47849</td>\n",
       "      <td>NA12273</td>\n",
       "      <td>canonical</td>\n",
       "      <td>sqanti_genome_hap1</td>\n",
       "      <td>hap1</td>\n",
       "    </tr>\n",
       "    <tr>\n",
       "      <th>33264688</th>\n",
       "      <td>KI270741.1_+_44470_47849</td>\n",
       "      <td>NA12273</td>\n",
       "      <td>canonical</td>\n",
       "      <td>sqanti_genome_hg38</td>\n",
       "      <td>hg38</td>\n",
       "    </tr>\n",
       "    <tr>\n",
       "      <th>33352015</th>\n",
       "      <td>KI270741.1_+_44470_47849</td>\n",
       "      <td>NA12273</td>\n",
       "      <td>canonical</td>\n",
       "      <td>sqanti_genome_hap2</td>\n",
       "      <td>hap2</td>\n",
       "    </tr>\n",
       "    <tr>\n",
       "      <th>33439342</th>\n",
       "      <td>KI270741.1_+_44470_47849</td>\n",
       "      <td>NA12273</td>\n",
       "      <td>canonical</td>\n",
       "      <td>sqanti_genome_hap1</td>\n",
       "      <td>hap1</td>\n",
       "    </tr>\n",
       "    <tr>\n",
       "      <th>33516111</th>\n",
       "      <td>KI270741.1_+_44470_47849</td>\n",
       "      <td>NA12273</td>\n",
       "      <td>canonical</td>\n",
       "      <td>sqanti_genome_hg38</td>\n",
       "      <td>hg38</td>\n",
       "    </tr>\n",
       "    <tr>\n",
       "      <th>33603419</th>\n",
       "      <td>KI270741.1_+_44470_47849</td>\n",
       "      <td>NA12273</td>\n",
       "      <td>canonical</td>\n",
       "      <td>sqanti_genome_hap2</td>\n",
       "      <td>hap2</td>\n",
       "    </tr>\n",
       "    <tr>\n",
       "      <th>33690727</th>\n",
       "      <td>KI270741.1_+_44470_47849</td>\n",
       "      <td>NA12273</td>\n",
       "      <td>canonical</td>\n",
       "      <td>sqanti_genome_hap1</td>\n",
       "      <td>hap1</td>\n",
       "    </tr>\n",
       "  </tbody>\n",
       "</table>\n",
       "</div>"
      ],
      "text/plain": [
       "                             sj_id cell_line_id  canonical  \\\n",
       "0         KI270741.1_+_44470_47849      NA12273  canonical   \n",
       "86907     KI270741.1_+_44470_47849      NA12273  canonical   \n",
       "173814    KI270741.1_+_44470_47849      NA12273  canonical   \n",
       "8330170   KI270741.1_+_44470_47849      NA12273  canonical   \n",
       "8417497   KI270741.1_+_44470_47849      NA12273  canonical   \n",
       "8504824   KI270741.1_+_44470_47849      NA12273  canonical   \n",
       "8581593   KI270741.1_+_44470_47849      NA12273  canonical   \n",
       "8668901   KI270741.1_+_44470_47849      NA12273  canonical   \n",
       "8756209   KI270741.1_+_44470_47849      NA12273  canonical   \n",
       "24934518  KI270741.1_+_44470_47849      NA12273  canonical   \n",
       "25021425  KI270741.1_+_44470_47849      NA12273  canonical   \n",
       "25108332  KI270741.1_+_44470_47849      NA12273  canonical   \n",
       "33264688  KI270741.1_+_44470_47849      NA12273  canonical   \n",
       "33352015  KI270741.1_+_44470_47849      NA12273  canonical   \n",
       "33439342  KI270741.1_+_44470_47849      NA12273  canonical   \n",
       "33516111  KI270741.1_+_44470_47849      NA12273  canonical   \n",
       "33603419  KI270741.1_+_44470_47849      NA12273  canonical   \n",
       "33690727  KI270741.1_+_44470_47849      NA12273  canonical   \n",
       "\n",
       "                 genome_type genome  \n",
       "0            map_genome_hg38   hg38  \n",
       "86907        map_genome_hg38   hg38  \n",
       "173814       map_genome_hg38   hg38  \n",
       "8330170      map_genome_hap2   hap2  \n",
       "8417497      map_genome_hap2   hap2  \n",
       "8504824      map_genome_hap2   hap2  \n",
       "8581593      map_genome_hap1   hap1  \n",
       "8668901      map_genome_hap1   hap1  \n",
       "8756209      map_genome_hap1   hap1  \n",
       "24934518  sqanti_genome_hg38   hg38  \n",
       "25021425  sqanti_genome_hap2   hap2  \n",
       "25108332  sqanti_genome_hap1   hap1  \n",
       "33264688  sqanti_genome_hg38   hg38  \n",
       "33352015  sqanti_genome_hap2   hap2  \n",
       "33439342  sqanti_genome_hap1   hap1  \n",
       "33516111  sqanti_genome_hg38   hg38  \n",
       "33603419  sqanti_genome_hap2   hap2  \n",
       "33690727  sqanti_genome_hap1   hap1  "
      ]
     },
     "execution_count": 207,
     "metadata": {},
     "output_type": "execute_result"
    }
   ],
   "source": [
    "temp.loc[(temp.sj_id=='KI270741.1_+_44470_47849')&(temp.cell_line_id=='NA12273')]"
   ]
  },
  {
   "cell_type": "code",
   "execution_count": 198,
   "id": "64dccb5b-365f-40f9-a4c7-cf7087284264",
   "metadata": {},
   "outputs": [],
   "source": [
    "# transform to be t/f for each ss per map / sqanti genome\n",
    "# Melt the map_genome and sqanti_genome columns into long form\n",
    "temp = df.melt(id_vars=['sj_id', 'cell_line_id', 'canonical'],\n",
    "                  value_vars=['map_genome', 'sqanti_genome'],\n",
    "                  var_name='genome_type',\n",
    "                  value_name='genome')"
   ]
  },
  {
   "cell_type": "code",
   "execution_count": 199,
   "id": "efa1ba3f-bcd6-4d57-8513-40bc367cf2a2",
   "metadata": {},
   "outputs": [
    {
     "data": {
      "text/html": [
       "<div>\n",
       "<style scoped>\n",
       "    .dataframe tbody tr th:only-of-type {\n",
       "        vertical-align: middle;\n",
       "    }\n",
       "\n",
       "    .dataframe tbody tr th {\n",
       "        vertical-align: top;\n",
       "    }\n",
       "\n",
       "    .dataframe thead th {\n",
       "        text-align: right;\n",
       "    }\n",
       "</style>\n",
       "<table border=\"1\" class=\"dataframe\">\n",
       "  <thead>\n",
       "    <tr style=\"text-align: right;\">\n",
       "      <th></th>\n",
       "      <th>sj_id</th>\n",
       "      <th>cell_line_id</th>\n",
       "      <th>canonical</th>\n",
       "      <th>genome_type</th>\n",
       "      <th>genome</th>\n",
       "    </tr>\n",
       "  </thead>\n",
       "  <tbody>\n",
       "    <tr>\n",
       "      <th>0</th>\n",
       "      <td>KI270741.1_+_44470_47849</td>\n",
       "      <td>NA12273</td>\n",
       "      <td>canonical</td>\n",
       "      <td>map_genome_hg38</td>\n",
       "      <td>hg38</td>\n",
       "    </tr>\n",
       "    <tr>\n",
       "      <th>1</th>\n",
       "      <td>KI270741.1_+_48008_52058</td>\n",
       "      <td>NA12273</td>\n",
       "      <td>canonical</td>\n",
       "      <td>map_genome_hg38</td>\n",
       "      <td>hg38</td>\n",
       "    </tr>\n",
       "    <tr>\n",
       "      <th>2</th>\n",
       "      <td>KI270741.1_+_52137_130639</td>\n",
       "      <td>NA12273</td>\n",
       "      <td>canonical</td>\n",
       "      <td>map_genome_hg38</td>\n",
       "      <td>hg38</td>\n",
       "    </tr>\n",
       "    <tr>\n",
       "      <th>3</th>\n",
       "      <td>KI270741.1_+_44470_47948</td>\n",
       "      <td>NA12273</td>\n",
       "      <td>canonical</td>\n",
       "      <td>map_genome_hg38</td>\n",
       "      <td>hg38</td>\n",
       "    </tr>\n",
       "    <tr>\n",
       "      <th>4</th>\n",
       "      <td>GL000224.1_+_102592_105978</td>\n",
       "      <td>NA12273</td>\n",
       "      <td>canonical</td>\n",
       "      <td>map_genome_hg38</td>\n",
       "      <td>hg38</td>\n",
       "    </tr>\n",
       "  </tbody>\n",
       "</table>\n",
       "</div>"
      ],
      "text/plain": [
       "                        sj_id cell_line_id  canonical      genome_type genome\n",
       "0    KI270741.1_+_44470_47849      NA12273  canonical  map_genome_hg38   hg38\n",
       "1    KI270741.1_+_48008_52058      NA12273  canonical  map_genome_hg38   hg38\n",
       "2   KI270741.1_+_52137_130639      NA12273  canonical  map_genome_hg38   hg38\n",
       "3    KI270741.1_+_44470_47948      NA12273  canonical  map_genome_hg38   hg38\n",
       "4  GL000224.1_+_102592_105978      NA12273  canonical  map_genome_hg38   hg38"
      ]
     },
     "execution_count": 199,
     "metadata": {},
     "output_type": "execute_result"
    }
   ],
   "source": [
    "# Create the new column with the \"map_\" or \"sqanti_\" prefix\n",
    "temp['genome_type'] = temp['genome_type'] + '_' + temp['genome']\n",
    "temp.head()"
   ]
  },
  {
   "cell_type": "code",
   "execution_count": 204,
   "id": "11d2d1e5-b8ae-42e4-a98a-df10ee8ce5f5",
   "metadata": {},
   "outputs": [
    {
     "ename": "AssertionError",
     "evalue": "",
     "output_type": "error",
     "traceback": [
      "\u001b[0;31m---------------------------------------------------------------------------\u001b[0m",
      "\u001b[0;31mAssertionError\u001b[0m                            Traceback (most recent call last)",
      "\u001b[0;32m<ipython-input-204-b428962623c4>\u001b[0m in \u001b[0;36m<module>\u001b[0;34m\u001b[0m\n\u001b[1;32m      1\u001b[0m \u001b[0;31m# make sure no dupes first\u001b[0m\u001b[0;34m\u001b[0m\u001b[0;34m\u001b[0m\u001b[0;34m\u001b[0m\u001b[0m\n\u001b[0;32m----> 2\u001b[0;31m \u001b[0;32massert\u001b[0m \u001b[0mlen\u001b[0m\u001b[0;34m(\u001b[0m\u001b[0mtemp\u001b[0m\u001b[0;34m.\u001b[0m\u001b[0mloc\u001b[0m\u001b[0;34m[\u001b[0m\u001b[0mtemp\u001b[0m\u001b[0;34m.\u001b[0m\u001b[0mduplicated\u001b[0m\u001b[0;34m(\u001b[0m\u001b[0msubset\u001b[0m\u001b[0;34m=\u001b[0m\u001b[0;34m[\u001b[0m\u001b[0;34m'sj_id'\u001b[0m\u001b[0;34m,\u001b[0m \u001b[0;34m'cell_line_id'\u001b[0m\u001b[0;34m,\u001b[0m \u001b[0;34m'canonical'\u001b[0m\u001b[0;34m,\u001b[0m \u001b[0;34m'genome_type'\u001b[0m\u001b[0;34m,\u001b[0m \u001b[0;34m'genome'\u001b[0m\u001b[0;34m]\u001b[0m\u001b[0;34m)\u001b[0m\u001b[0;34m]\u001b[0m\u001b[0;34m)\u001b[0m \u001b[0;34m==\u001b[0m \u001b[0;36m0\u001b[0m\u001b[0;34m\u001b[0m\u001b[0;34m\u001b[0m\u001b[0m\n\u001b[0m",
      "\u001b[0;31mAssertionError\u001b[0m: "
     ]
    }
   ],
   "source": [
    "# make sure no dupes first\n",
    "assert len(temp.loc[temp.duplicated(subset=['sj_id', 'cell_line_id', 'canonical', 'genome_type', 'genome'])]) == 0"
   ]
  },
  {
   "cell_type": "code",
   "execution_count": 205,
   "id": "9aa31256-b180-4a2a-9a64-fa2c463dc5ab",
   "metadata": {},
   "outputs": [
    {
     "data": {
      "text/html": [
       "<div>\n",
       "<style scoped>\n",
       "    .dataframe tbody tr th:only-of-type {\n",
       "        vertical-align: middle;\n",
       "    }\n",
       "\n",
       "    .dataframe tbody tr th {\n",
       "        vertical-align: top;\n",
       "    }\n",
       "\n",
       "    .dataframe thead th {\n",
       "        text-align: right;\n",
       "    }\n",
       "</style>\n",
       "<table border=\"1\" class=\"dataframe\">\n",
       "  <thead>\n",
       "    <tr style=\"text-align: right;\">\n",
       "      <th></th>\n",
       "      <th>sj_id</th>\n",
       "      <th>cell_line_id</th>\n",
       "      <th>canonical</th>\n",
       "      <th>genome_type</th>\n",
       "      <th>genome</th>\n",
       "    </tr>\n",
       "  </thead>\n",
       "  <tbody>\n",
       "    <tr>\n",
       "      <th>23710225</th>\n",
       "      <td>GL000008.2_+_155532_156720</td>\n",
       "      <td>HG03732</td>\n",
       "      <td>canonical</td>\n",
       "      <td>map_genome_hap1</td>\n",
       "      <td>hap1</td>\n",
       "    </tr>\n",
       "    <tr>\n",
       "      <th>23794042</th>\n",
       "      <td>GL000008.2_+_155532_156720</td>\n",
       "      <td>HG03732</td>\n",
       "      <td>canonical</td>\n",
       "      <td>map_genome_hap1</td>\n",
       "      <td>hap1</td>\n",
       "    </tr>\n",
       "    <tr>\n",
       "      <th>23504334</th>\n",
       "      <td>GL000008.2_+_155532_156720</td>\n",
       "      <td>HG03732</td>\n",
       "      <td>canonical</td>\n",
       "      <td>map_genome_hap2</td>\n",
       "      <td>hap2</td>\n",
       "    </tr>\n",
       "    <tr>\n",
       "      <th>23588040</th>\n",
       "      <td>GL000008.2_+_155532_156720</td>\n",
       "      <td>HG03732</td>\n",
       "      <td>canonical</td>\n",
       "      <td>map_genome_hap2</td>\n",
       "      <td>hap2</td>\n",
       "    </tr>\n",
       "    <tr>\n",
       "      <th>7614218</th>\n",
       "      <td>GL000008.2_+_155532_156720</td>\n",
       "      <td>HG03732</td>\n",
       "      <td>canonical</td>\n",
       "      <td>map_genome_hg38</td>\n",
       "      <td>hg38</td>\n",
       "    </tr>\n",
       "  </tbody>\n",
       "</table>\n",
       "</div>"
      ],
      "text/plain": [
       "                               sj_id cell_line_id  canonical      genome_type  \\\n",
       "23710225  GL000008.2_+_155532_156720      HG03732  canonical  map_genome_hap1   \n",
       "23794042  GL000008.2_+_155532_156720      HG03732  canonical  map_genome_hap1   \n",
       "23504334  GL000008.2_+_155532_156720      HG03732  canonical  map_genome_hap2   \n",
       "23588040  GL000008.2_+_155532_156720      HG03732  canonical  map_genome_hap2   \n",
       "7614218   GL000008.2_+_155532_156720      HG03732  canonical  map_genome_hg38   \n",
       "\n",
       "         genome  \n",
       "23710225   hap1  \n",
       "23794042   hap1  \n",
       "23504334   hap2  \n",
       "23588040   hap2  \n",
       "7614218    hg38  "
      ]
     },
     "execution_count": 205,
     "metadata": {},
     "output_type": "execute_result"
    }
   ],
   "source": [
    "temp.loc[temp.duplicated(subset=['sj_id', 'cell_line_id', 'canonical', 'genome_type', 'genome'])].sort_values(by=['sj_id', 'cell_line_id', 'canonical', 'genome_type', 'genome']).head()"
   ]
  },
  {
   "cell_type": "code",
   "execution_count": 195,
   "id": "21e48808-f881-4a2c-9c79-18be790dafc4",
   "metadata": {},
   "outputs": [],
   "source": []
  },
  {
   "cell_type": "code",
   "execution_count": 194,
   "id": "aee92731-c661-424a-99d2-01f10dfd1620",
   "metadata": {},
   "outputs": [
    {
     "data": {
      "text/html": [
       "<div>\n",
       "<style scoped>\n",
       "    .dataframe tbody tr th:only-of-type {\n",
       "        vertical-align: middle;\n",
       "    }\n",
       "\n",
       "    .dataframe tbody tr th {\n",
       "        vertical-align: top;\n",
       "    }\n",
       "\n",
       "    .dataframe thead th {\n",
       "        text-align: right;\n",
       "    }\n",
       "</style>\n",
       "<table border=\"1\" class=\"dataframe\">\n",
       "  <thead>\n",
       "    <tr style=\"text-align: right;\">\n",
       "      <th></th>\n",
       "      <th>sj_id</th>\n",
       "      <th>splice_motif</th>\n",
       "      <th>canonical</th>\n",
       "      <th>cell_line_id</th>\n",
       "      <th>map_genome</th>\n",
       "      <th>sqanti_genome</th>\n",
       "    </tr>\n",
       "  </thead>\n",
       "  <tbody>\n",
       "    <tr>\n",
       "      <th>0</th>\n",
       "      <td>KI270741.1_+_44470_47849</td>\n",
       "      <td>GTAG</td>\n",
       "      <td>canonical</td>\n",
       "      <td>NA12273</td>\n",
       "      <td>hg38</td>\n",
       "      <td>hg38</td>\n",
       "    </tr>\n",
       "    <tr>\n",
       "      <th>86907</th>\n",
       "      <td>KI270741.1_+_44470_47849</td>\n",
       "      <td>GTAG</td>\n",
       "      <td>canonical</td>\n",
       "      <td>NA12273</td>\n",
       "      <td>hg38</td>\n",
       "      <td>hap2</td>\n",
       "    </tr>\n",
       "    <tr>\n",
       "      <th>173814</th>\n",
       "      <td>KI270741.1_+_44470_47849</td>\n",
       "      <td>GTAG</td>\n",
       "      <td>canonical</td>\n",
       "      <td>NA12273</td>\n",
       "      <td>hg38</td>\n",
       "      <td>hap1</td>\n",
       "    </tr>\n",
       "    <tr>\n",
       "      <th>8330170</th>\n",
       "      <td>KI270741.1_+_44470_47849</td>\n",
       "      <td>GTAG</td>\n",
       "      <td>canonical</td>\n",
       "      <td>NA12273</td>\n",
       "      <td>hap2</td>\n",
       "      <td>hg38</td>\n",
       "    </tr>\n",
       "    <tr>\n",
       "      <th>8417497</th>\n",
       "      <td>KI270741.1_+_44470_47849</td>\n",
       "      <td>GTAG</td>\n",
       "      <td>canonical</td>\n",
       "      <td>NA12273</td>\n",
       "      <td>hap2</td>\n",
       "      <td>hap2</td>\n",
       "    </tr>\n",
       "    <tr>\n",
       "      <th>8504824</th>\n",
       "      <td>KI270741.1_+_44470_47849</td>\n",
       "      <td>GTAG</td>\n",
       "      <td>canonical</td>\n",
       "      <td>NA12273</td>\n",
       "      <td>hap2</td>\n",
       "      <td>hap1</td>\n",
       "    </tr>\n",
       "    <tr>\n",
       "      <th>8581593</th>\n",
       "      <td>KI270741.1_+_44470_47849</td>\n",
       "      <td>GTAG</td>\n",
       "      <td>canonical</td>\n",
       "      <td>NA12273</td>\n",
       "      <td>hap1</td>\n",
       "      <td>hg38</td>\n",
       "    </tr>\n",
       "    <tr>\n",
       "      <th>8668901</th>\n",
       "      <td>KI270741.1_+_44470_47849</td>\n",
       "      <td>GTAG</td>\n",
       "      <td>canonical</td>\n",
       "      <td>NA12273</td>\n",
       "      <td>hap1</td>\n",
       "      <td>hap2</td>\n",
       "    </tr>\n",
       "    <tr>\n",
       "      <th>8756209</th>\n",
       "      <td>KI270741.1_+_44470_47849</td>\n",
       "      <td>GTAG</td>\n",
       "      <td>canonical</td>\n",
       "      <td>NA12273</td>\n",
       "      <td>hap1</td>\n",
       "      <td>hap1</td>\n",
       "    </tr>\n",
       "  </tbody>\n",
       "</table>\n",
       "</div>"
      ],
      "text/plain": [
       "                            sj_id splice_motif  canonical cell_line_id  \\\n",
       "0        KI270741.1_+_44470_47849         GTAG  canonical      NA12273   \n",
       "86907    KI270741.1_+_44470_47849         GTAG  canonical      NA12273   \n",
       "173814   KI270741.1_+_44470_47849         GTAG  canonical      NA12273   \n",
       "8330170  KI270741.1_+_44470_47849         GTAG  canonical      NA12273   \n",
       "8417497  KI270741.1_+_44470_47849         GTAG  canonical      NA12273   \n",
       "8504824  KI270741.1_+_44470_47849         GTAG  canonical      NA12273   \n",
       "8581593  KI270741.1_+_44470_47849         GTAG  canonical      NA12273   \n",
       "8668901  KI270741.1_+_44470_47849         GTAG  canonical      NA12273   \n",
       "8756209  KI270741.1_+_44470_47849         GTAG  canonical      NA12273   \n",
       "\n",
       "        map_genome sqanti_genome  \n",
       "0             hg38          hg38  \n",
       "86907         hg38          hap2  \n",
       "173814        hg38          hap1  \n",
       "8330170       hap2          hg38  \n",
       "8417497       hap2          hap2  \n",
       "8504824       hap2          hap1  \n",
       "8581593       hap1          hg38  \n",
       "8668901       hap1          hap2  \n",
       "8756209       hap1          hap1  "
      ]
     },
     "execution_count": 194,
     "metadata": {},
     "output_type": "execute_result"
    }
   ],
   "source": []
  },
  {
   "cell_type": "code",
   "execution_count": 196,
   "id": "091af152-2bcd-491e-930c-1150f6ba98b2",
   "metadata": {},
   "outputs": [],
   "source": [
    "# mark all as present because this is how it works\n",
    "temp['presence'] = True"
   ]
  },
  {
   "cell_type": "code",
   "execution_count": 197,
   "id": "c1c8e4c1-3e0a-4138-9b0e-0c17c0c6e845",
   "metadata": {},
   "outputs": [
    {
     "data": {
      "text/html": [
       "<div>\n",
       "<style scoped>\n",
       "    .dataframe tbody tr th:only-of-type {\n",
       "        vertical-align: middle;\n",
       "    }\n",
       "\n",
       "    .dataframe tbody tr th {\n",
       "        vertical-align: top;\n",
       "    }\n",
       "\n",
       "    .dataframe thead th {\n",
       "        text-align: right;\n",
       "    }\n",
       "</style>\n",
       "<table border=\"1\" class=\"dataframe\">\n",
       "  <thead>\n",
       "    <tr style=\"text-align: right;\">\n",
       "      <th></th>\n",
       "      <th>sj_id</th>\n",
       "      <th>cell_line_id</th>\n",
       "      <th>canonical</th>\n",
       "      <th>genome_type</th>\n",
       "      <th>genome</th>\n",
       "      <th>presence</th>\n",
       "    </tr>\n",
       "  </thead>\n",
       "  <tbody>\n",
       "    <tr>\n",
       "      <th>0</th>\n",
       "      <td>KI270741.1_+_44470_47849</td>\n",
       "      <td>NA12273</td>\n",
       "      <td>canonical</td>\n",
       "      <td>map_genome_hg38</td>\n",
       "      <td>hg38</td>\n",
       "      <td>True</td>\n",
       "    </tr>\n",
       "    <tr>\n",
       "      <th>1</th>\n",
       "      <td>KI270741.1_+_48008_52058</td>\n",
       "      <td>NA12273</td>\n",
       "      <td>canonical</td>\n",
       "      <td>map_genome_hg38</td>\n",
       "      <td>hg38</td>\n",
       "      <td>True</td>\n",
       "    </tr>\n",
       "    <tr>\n",
       "      <th>2</th>\n",
       "      <td>KI270741.1_+_52137_130639</td>\n",
       "      <td>NA12273</td>\n",
       "      <td>canonical</td>\n",
       "      <td>map_genome_hg38</td>\n",
       "      <td>hg38</td>\n",
       "      <td>True</td>\n",
       "    </tr>\n",
       "    <tr>\n",
       "      <th>3</th>\n",
       "      <td>KI270741.1_+_44470_47948</td>\n",
       "      <td>NA12273</td>\n",
       "      <td>canonical</td>\n",
       "      <td>map_genome_hg38</td>\n",
       "      <td>hg38</td>\n",
       "      <td>True</td>\n",
       "    </tr>\n",
       "    <tr>\n",
       "      <th>4</th>\n",
       "      <td>GL000224.1_+_102592_105978</td>\n",
       "      <td>NA12273</td>\n",
       "      <td>canonical</td>\n",
       "      <td>map_genome_hg38</td>\n",
       "      <td>hg38</td>\n",
       "      <td>True</td>\n",
       "    </tr>\n",
       "  </tbody>\n",
       "</table>\n",
       "</div>"
      ],
      "text/plain": [
       "                        sj_id cell_line_id  canonical      genome_type genome  \\\n",
       "0    KI270741.1_+_44470_47849      NA12273  canonical  map_genome_hg38   hg38   \n",
       "1    KI270741.1_+_48008_52058      NA12273  canonical  map_genome_hg38   hg38   \n",
       "2   KI270741.1_+_52137_130639      NA12273  canonical  map_genome_hg38   hg38   \n",
       "3    KI270741.1_+_44470_47948      NA12273  canonical  map_genome_hg38   hg38   \n",
       "4  GL000224.1_+_102592_105978      NA12273  canonical  map_genome_hg38   hg38   \n",
       "\n",
       "   presence  \n",
       "0      True  \n",
       "1      True  \n",
       "2      True  \n",
       "3      True  \n",
       "4      True  "
      ]
     },
     "execution_count": 197,
     "metadata": {},
     "output_type": "execute_result"
    }
   ],
   "source": [
    "temp.head()"
   ]
  },
  {
   "cell_type": "code",
   "execution_count": null,
   "id": "5368efab-0f61-4cf0-b8c3-ee1ddc4086d0",
   "metadata": {},
   "outputs": [],
   "source": [
    "\n",
    "\n",
    "\n",
    "\n",
    "# Pivot the table to get separate columns for each genome type\n",
    "temp = temp.pivot_table(index=['sj_id', 'cell_line_id', 'canonical'],\n",
    "                              columns='genome_type',\n",
    "                              values='presence',\n",
    "                              aggfunc='first',\n",
    "                              fill_value=False)\n",
    "\n",
    "# Reset index for a cleaner output\n",
    "temp = temp.reset_index()\n",
    "\n",
    "# Rename columns for clarity\n",
    "temp.columns.name = None\n",
    "print(temp.head())"
   ]
  },
  {
   "cell_type": "code",
   "execution_count": null,
   "id": "47b61eb3-38de-4270-a2f5-658796081906",
   "metadata": {},
   "outputs": [],
   "source": [
    "# filter for those that are \n",
    "# 1 uniquely detected by hap 1/2"
   ]
  }
 ],
 "metadata": {
  "kernelspec": {
   "display_name": "Python 3",
   "language": "python",
   "name": "python3"
  },
  "language_info": {
   "codemirror_mode": {
    "name": "ipython",
    "version": 3
   },
   "file_extension": ".py",
   "mimetype": "text/x-python",
   "name": "python",
   "nbconvert_exporter": "python",
   "pygments_lexer": "ipython3",
   "version": "3.7.12"
  }
 },
 "nbformat": 4,
 "nbformat_minor": 5
}
