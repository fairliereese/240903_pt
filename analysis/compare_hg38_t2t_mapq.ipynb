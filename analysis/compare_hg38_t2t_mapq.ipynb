{
 "cells": [
  {
   "cell_type": "code",
   "execution_count": 1,
   "id": "79c60dd7-3470-4bf1-bce1-7564fd2ec863",
   "metadata": {},
   "outputs": [],
   "source": [
    "# compare mapping stats between different assemblies using the same\n",
    "# mapping methods (hg38, T2T)"
   ]
  },
  {
   "cell_type": "code",
   "execution_count": 10,
   "id": "c6077e8a-0d0b-49a0-8721-92be34b4ddf7",
   "metadata": {},
   "outputs": [],
   "source": [
    "import pandas as pd\n",
    "import numpy as np\n",
    "import scipy.stats as st\n",
    "import seaborn as sns\n",
    "import sys\n",
    "import os\n",
    "import matplotlib.pyplot as plt\n",
    "import swan_vis as swan\n",
    "import yaml\n",
    "from snakemake.io import expand\n",
    "import cerberus\n",
    "import pyranges as pr\n",
    "import upsetplot\n",
    "\n",
    "p = os.path.dirname(os.getcwd())\n",
    "sys.path.append(p)\n",
    "\n",
    "from scripts.utils import *\n",
    "from scripts.vcf_utils import *\n",
    "from scripts.plotting import *"
   ]
  },
  {
   "cell_type": "code",
   "execution_count": 11,
   "id": "3224886a-e6a9-4a18-a15c-0a0ed178e9ff",
   "metadata": {},
   "outputs": [],
   "source": [
    "config = load_config()\n",
    "od = '../'\n",
    "\n",
    "def proc_cfg(entry, od):\n",
    "    entry = entry.replace('../../', '')\n",
    "    entry = od+entry\n",
    "    return entry"
   ]
  },
  {
   "cell_type": "code",
   "execution_count": 12,
   "id": "14e729cb-a53f-4499-b037-4c28937c9529",
   "metadata": {},
   "outputs": [],
   "source": [
    "sample = 'HG00621_1'\n",
    "assemblies = ['afr', 'hg38', 't2t']"
   ]
  },
  {
   "cell_type": "markdown",
   "id": "f460623c-b686-4937-b76e-f74eafc3b2b8",
   "metadata": {},
   "source": [
    "## Compare mapping rate between t2t and hg38 (no thresh)"
   ]
  },
  {
   "cell_type": "code",
   "execution_count": 16,
   "id": "71382bb9-a56e-45e3-b8ab-52eda4c2154a",
   "metadata": {},
   "outputs": [],
   "source": [
    "fq_reads_file = proc_cfg(config['lr']['fastq_n_reads_summary'], od)\n",
    "t2t_file = proc_cfg(expand(config['lr']['map']['bam_mapqs'],\n",
    "                          sample=sample,\n",
    "                          assembly='t2t')[0], od)\n",
    "hg38_file = proc_cfg(expand(config['lr']['map']['bam_mapqs'],\n",
    "                          sample=sample,\n",
    "                          assembly='hg38')[0], od)"
   ]
  },
  {
   "cell_type": "code",
   "execution_count": 30,
   "id": "dded22c9-13ef-4e37-ac1a-6cc985d44766",
   "metadata": {},
   "outputs": [],
   "source": [
    "summ_df = pd.read_csv(fq_reads_file, sep='\\t')\n",
    "summ_df = summ_df.loc[summ_df.dataset==sample]\n",
    "summ_df.rename({'n_reads':'raw_reads'}, axis=1, inplace=True)"
   ]
  },
  {
   "cell_type": "code",
   "execution_count": 31,
   "id": "350492b5-58ff-4a96-a6d3-4da33b4a807e",
   "metadata": {},
   "outputs": [],
   "source": [
    "thresh = 0\n",
    "\n",
    "assemblies = ['hg38', 't2t']\n",
    "for a, f in zip(assemblies, [hg38_file, t2t_file]):\n",
    "    col = f'{a}_mapped_reads'\n",
    "    df = pd.read_csv(f, sep='\\t')\n",
    "    assert len(df.index) == len(df.read_id.unique())\n",
    "    df.set_index('read_id', inplace=True)\n",
    "    df = df.loc[df.mapq>=thresh]\n",
    "    n = len(df.index)\n",
    "    summ_df[col] = n"
   ]
  },
  {
   "cell_type": "code",
   "execution_count": 32,
   "id": "4bdcf022-2e77-4402-ba3d-7c90e007a7b0",
   "metadata": {},
   "outputs": [],
   "source": [
    "thresh = 10\n",
    "\n",
    "assemblies = ['hg38', 't2t']\n",
    "for a, f in zip(assemblies, [hg38_file, t2t_file]):\n",
    "    col = f'{a}_{thresh}_mapped_reads'\n",
    "    df = pd.read_csv(f, sep='\\t')\n",
    "    assert len(df.index) == len(df.read_id.unique())\n",
    "    df.set_index('read_id', inplace=True)\n",
    "    df = df.loc[df.mapq>=thresh]\n",
    "    n = len(df.index)\n",
    "    summ_df[col] = n"
   ]
  },
  {
   "cell_type": "code",
   "execution_count": 33,
   "id": "d795a0ef-d54a-42e8-b66c-bb6040c11341",
   "metadata": {},
   "outputs": [
    {
     "data": {
      "text/html": [
       "<div>\n",
       "<style scoped>\n",
       "    .dataframe tbody tr th:only-of-type {\n",
       "        vertical-align: middle;\n",
       "    }\n",
       "\n",
       "    .dataframe tbody tr th {\n",
       "        vertical-align: top;\n",
       "    }\n",
       "\n",
       "    .dataframe thead th {\n",
       "        text-align: right;\n",
       "    }\n",
       "</style>\n",
       "<table border=\"1\" class=\"dataframe\">\n",
       "  <thead>\n",
       "    <tr style=\"text-align: right;\">\n",
       "      <th></th>\n",
       "      <th>dataset</th>\n",
       "      <th>raw_reads</th>\n",
       "      <th>hg38_mapped_reads</th>\n",
       "      <th>t2t_mapped_reads</th>\n",
       "      <th>hg38_10_mapped_reads</th>\n",
       "      <th>t2t_10_mapped_reads</th>\n",
       "    </tr>\n",
       "  </thead>\n",
       "  <tbody>\n",
       "    <tr>\n",
       "      <th>8</th>\n",
       "      <td>HG00621_1</td>\n",
       "      <td>27257062</td>\n",
       "      <td>26328632</td>\n",
       "      <td>26329010</td>\n",
       "      <td>24386859</td>\n",
       "      <td>24364656</td>\n",
       "    </tr>\n",
       "  </tbody>\n",
       "</table>\n",
       "</div>"
      ],
      "text/plain": [
       "     dataset  raw_reads  hg38_mapped_reads  t2t_mapped_reads  \\\n",
       "8  HG00621_1   27257062           26328632          26329010   \n",
       "\n",
       "   hg38_10_mapped_reads  t2t_10_mapped_reads  \n",
       "8              24386859             24364656  "
      ]
     },
     "execution_count": 33,
     "metadata": {},
     "output_type": "execute_result"
    }
   ],
   "source": [
    "summ_df.head()"
   ]
  },
  {
   "cell_type": "code",
   "execution_count": null,
   "id": "f4ad44fc-8f2a-495e-96ff-47cd5d35d7c7",
   "metadata": {},
   "outputs": [],
   "source": [
    "df['hg38_perc_mapped'] = (df['hg38_mapped_reads']/df['raw_reads'])*100\n",
    "df['t2t_perc_mapped'] = (df['t2t_mapped_reads']/df['raw_reads'])*100\n",
    "\n",
    "\n",
    "df['hg38_10_perc_mapped'] = (df['hg38_10_mapped_reads']/df['raw_reads'])*100\n",
    "df['t2t_10_perc_mapped'] = (df['t2t_10_mapped_reads']/df['raw_reads'])*100\n",
    "df"
   ]
  },
  {
   "cell_type": "markdown",
   "id": "ce21379a-76c1-4478-b2ed-4735edc956de",
   "metadata": {},
   "source": [
    "## Compare mapqs between t2g and hg38"
   ]
  },
  {
   "cell_type": "code",
   "execution_count": 70,
   "id": "4a44b242-dc1f-4a3e-82ea-a80dd5c60627",
   "metadata": {},
   "outputs": [],
   "source": [
    "t2t_file = proc_cfg(expand(config['lr']['map']['bam_mapqs'],\n",
    "                          sample=sample,\n",
    "                          assembly='t2t')[0], od)\n",
    "hg38_file = proc_cfg(expand(config['lr']['map']['bam_mapqs'],\n",
    "                          sample=sample,\n",
    "                          assembly='hg38')[0], od)"
   ]
  },
  {
   "cell_type": "code",
   "execution_count": 76,
   "id": "f5cdf2fb-9344-4c90-944d-09a00da2730e",
   "metadata": {},
   "outputs": [
    {
     "data": {
      "text/html": [
       "<div>\n",
       "<style scoped>\n",
       "    .dataframe tbody tr th:only-of-type {\n",
       "        vertical-align: middle;\n",
       "    }\n",
       "\n",
       "    .dataframe tbody tr th {\n",
       "        vertical-align: top;\n",
       "    }\n",
       "\n",
       "    .dataframe thead th {\n",
       "        text-align: right;\n",
       "    }\n",
       "</style>\n",
       "<table border=\"1\" class=\"dataframe\">\n",
       "  <thead>\n",
       "    <tr style=\"text-align: right;\">\n",
       "      <th></th>\n",
       "      <th>read_id</th>\n",
       "      <th>mapq</th>\n",
       "      <th>assembly</th>\n",
       "    </tr>\n",
       "  </thead>\n",
       "  <tbody>\n",
       "    <tr>\n",
       "      <th>0</th>\n",
       "      <td>656f1899-097a-4d0e-a956-eb0f9dd040e2:0</td>\n",
       "      <td>20</td>\n",
       "      <td>hg38</td>\n",
       "    </tr>\n",
       "    <tr>\n",
       "      <th>1</th>\n",
       "      <td>39c58a50-2e13-4bd7-9484-008563de3916:0</td>\n",
       "      <td>27</td>\n",
       "      <td>hg38</td>\n",
       "    </tr>\n",
       "    <tr>\n",
       "      <th>2</th>\n",
       "      <td>c6e18f10-2b77-4112-a2ee-7157c0a8c8a0:0</td>\n",
       "      <td>27</td>\n",
       "      <td>hg38</td>\n",
       "    </tr>\n",
       "    <tr>\n",
       "      <th>3</th>\n",
       "      <td>8c3d82da-fc2c-4667-b5d3-82098f206e7f:0</td>\n",
       "      <td>0</td>\n",
       "      <td>hg38</td>\n",
       "    </tr>\n",
       "    <tr>\n",
       "      <th>4</th>\n",
       "      <td>28327cc7-7153-4190-8087-560d3ffccbab:0</td>\n",
       "      <td>0</td>\n",
       "      <td>hg38</td>\n",
       "    </tr>\n",
       "  </tbody>\n",
       "</table>\n",
       "</div>"
      ],
      "text/plain": [
       "                                  read_id  mapq assembly\n",
       "0  656f1899-097a-4d0e-a956-eb0f9dd040e2:0    20     hg38\n",
       "1  39c58a50-2e13-4bd7-9484-008563de3916:0    27     hg38\n",
       "2  c6e18f10-2b77-4112-a2ee-7157c0a8c8a0:0    27     hg38\n",
       "3  8c3d82da-fc2c-4667-b5d3-82098f206e7f:0     0     hg38\n",
       "4  28327cc7-7153-4190-8087-560d3ffccbab:0     0     hg38"
      ]
     },
     "execution_count": 76,
     "metadata": {},
     "output_type": "execute_result"
    }
   ],
   "source": [
    "df = pd.read_csv(hg38_file, sep='\\t')\n",
    "df.rename({'mapq':'hg38'}, axis=1, inplace=True)\n",
    "assert len(df.index) == len(df.read_id.unique())\n",
    "\n",
    "df2 = pd.read_csv(t2t_file, sep='\\t')\n",
    "df2.rename({'mapq':'t2t'}, axis=1, inplace=True)\n",
    "assert len(df2.index) == len(df2.read_id.unique())"
   ]
  },
  {
   "cell_type": "code",
   "execution_count": 91,
   "id": "f9d97e52-a9cf-48af-9b03-ab22a54dd8fd",
   "metadata": {},
   "outputs": [],
   "source": [
    "init_plot_settings(aspect='square')\n",
    "# sns.boxplot(df, y='mapq', x='assembly') not useful lol"
   ]
  },
  {
   "cell_type": "code",
   "execution_count": 81,
   "id": "47dcb2e2-3c8a-4ecf-99f4-f41fad1ed824",
   "metadata": {},
   "outputs": [],
   "source": [
    "# compute % of alignments that are 60\n",
    "df['max_mapq'] = df.mapq>=60\n",
    "df = df[['read_id', 'assembly', 'max_mapq']].groupby(['assembly', 'max_mapq']).nunique().reset_index()"
   ]
  },
  {
   "cell_type": "code",
   "execution_count": 85,
   "id": "a9c98084-41e4-46cd-b3c1-4cc3aa62dbfd",
   "metadata": {},
   "outputs": [],
   "source": [
    "df['total'] = df.groupby('assembly')['read_id'].transform('sum')\n",
    "df['perc'] = (df.read_id/df.total)*100"
   ]
  },
  {
   "cell_type": "code",
   "execution_count": 86,
   "id": "e5159760-3663-4262-a0c8-80affa686d2b",
   "metadata": {},
   "outputs": [
    {
     "data": {
      "text/html": [
       "<div>\n",
       "<style scoped>\n",
       "    .dataframe tbody tr th:only-of-type {\n",
       "        vertical-align: middle;\n",
       "    }\n",
       "\n",
       "    .dataframe tbody tr th {\n",
       "        vertical-align: top;\n",
       "    }\n",
       "\n",
       "    .dataframe thead th {\n",
       "        text-align: right;\n",
       "    }\n",
       "</style>\n",
       "<table border=\"1\" class=\"dataframe\">\n",
       "  <thead>\n",
       "    <tr style=\"text-align: right;\">\n",
       "      <th></th>\n",
       "      <th>assembly</th>\n",
       "      <th>max_mapq</th>\n",
       "      <th>read_id</th>\n",
       "      <th>total</th>\n",
       "      <th>perc</th>\n",
       "    </tr>\n",
       "  </thead>\n",
       "  <tbody>\n",
       "    <tr>\n",
       "      <th>0</th>\n",
       "      <td>hg38</td>\n",
       "      <td>False</td>\n",
       "      <td>6416479</td>\n",
       "      <td>26328632</td>\n",
       "      <td>24.370727</td>\n",
       "    </tr>\n",
       "    <tr>\n",
       "      <th>1</th>\n",
       "      <td>hg38</td>\n",
       "      <td>True</td>\n",
       "      <td>19912153</td>\n",
       "      <td>26328632</td>\n",
       "      <td>75.629273</td>\n",
       "    </tr>\n",
       "    <tr>\n",
       "      <th>2</th>\n",
       "      <td>t2t</td>\n",
       "      <td>False</td>\n",
       "      <td>6321409</td>\n",
       "      <td>26329010</td>\n",
       "      <td>24.009292</td>\n",
       "    </tr>\n",
       "    <tr>\n",
       "      <th>3</th>\n",
       "      <td>t2t</td>\n",
       "      <td>True</td>\n",
       "      <td>20007601</td>\n",
       "      <td>26329010</td>\n",
       "      <td>75.990708</td>\n",
       "    </tr>\n",
       "  </tbody>\n",
       "</table>\n",
       "</div>"
      ],
      "text/plain": [
       "  assembly  max_mapq   read_id     total       perc\n",
       "0     hg38     False   6416479  26328632  24.370727\n",
       "1     hg38      True  19912153  26328632  75.629273\n",
       "2      t2t     False   6321409  26329010  24.009292\n",
       "3      t2t      True  20007601  26329010  75.990708"
      ]
     },
     "execution_count": 86,
     "metadata": {},
     "output_type": "execute_result"
    }
   ],
   "source": [
    "df.head()"
   ]
  },
  {
   "cell_type": "markdown",
   "id": "cd7072d8-378d-4b23-8273-ba28d0e9ea96",
   "metadata": {},
   "source": [
    "## Compare mapqs between t2g and hg38"
   ]
  },
  {
   "cell_type": "code",
   "execution_count": 98,
   "id": "ca3c665d-1b26-4b24-8af7-c0c28138e6e1",
   "metadata": {},
   "outputs": [],
   "source": [
    "t2t_file = proc_cfg(expand(config['lr']['map']['bam_query_covs'],\n",
    "                          sample=sample,\n",
    "                          assembly='t2t')[0], od)\n",
    "hg38_file = proc_cfg(expand(config['lr']['map']['bam_query_covs'],\n",
    "                          sample=sample,\n",
    "                          assembly='hg38')[0], od)"
   ]
  },
  {
   "cell_type": "code",
   "execution_count": 99,
   "id": "37adba5e-0441-45c6-afd9-64f7379f282f",
   "metadata": {},
   "outputs": [
    {
     "data": {
      "text/html": [
       "<div>\n",
       "<style scoped>\n",
       "    .dataframe tbody tr th:only-of-type {\n",
       "        vertical-align: middle;\n",
       "    }\n",
       "\n",
       "    .dataframe tbody tr th {\n",
       "        vertical-align: top;\n",
       "    }\n",
       "\n",
       "    .dataframe thead th {\n",
       "        text-align: right;\n",
       "    }\n",
       "</style>\n",
       "<table border=\"1\" class=\"dataframe\">\n",
       "  <thead>\n",
       "    <tr style=\"text-align: right;\">\n",
       "      <th></th>\n",
       "      <th>read_id</th>\n",
       "      <th>query_cov</th>\n",
       "      <th>read_len</th>\n",
       "      <th>chr</th>\n",
       "      <th>assembly</th>\n",
       "    </tr>\n",
       "  </thead>\n",
       "  <tbody>\n",
       "    <tr>\n",
       "      <th>0</th>\n",
       "      <td>656f1899-097a-4d0e-a956-eb0f9dd040e2:0</td>\n",
       "      <td>0.981723</td>\n",
       "      <td>383.0</td>\n",
       "      <td>chr1</td>\n",
       "      <td>hg38</td>\n",
       "    </tr>\n",
       "    <tr>\n",
       "      <th>1</th>\n",
       "      <td>39c58a50-2e13-4bd7-9484-008563de3916:0</td>\n",
       "      <td>0.991903</td>\n",
       "      <td>1729.0</td>\n",
       "      <td>chr1</td>\n",
       "      <td>hg38</td>\n",
       "    </tr>\n",
       "    <tr>\n",
       "      <th>2</th>\n",
       "      <td>c6e18f10-2b77-4112-a2ee-7157c0a8c8a0:0</td>\n",
       "      <td>0.999430</td>\n",
       "      <td>1753.0</td>\n",
       "      <td>chr1</td>\n",
       "      <td>hg38</td>\n",
       "    </tr>\n",
       "    <tr>\n",
       "      <th>3</th>\n",
       "      <td>8c3d82da-fc2c-4667-b5d3-82098f206e7f:0</td>\n",
       "      <td>0.934783</td>\n",
       "      <td>92.0</td>\n",
       "      <td>chr1</td>\n",
       "      <td>hg38</td>\n",
       "    </tr>\n",
       "    <tr>\n",
       "      <th>4</th>\n",
       "      <td>28327cc7-7153-4190-8087-560d3ffccbab:0</td>\n",
       "      <td>1.000000</td>\n",
       "      <td>84.0</td>\n",
       "      <td>chr1</td>\n",
       "      <td>hg38</td>\n",
       "    </tr>\n",
       "  </tbody>\n",
       "</table>\n",
       "</div>"
      ],
      "text/plain": [
       "                                  read_id  query_cov  read_len   chr assembly\n",
       "0  656f1899-097a-4d0e-a956-eb0f9dd040e2:0   0.981723     383.0  chr1     hg38\n",
       "1  39c58a50-2e13-4bd7-9484-008563de3916:0   0.991903    1729.0  chr1     hg38\n",
       "2  c6e18f10-2b77-4112-a2ee-7157c0a8c8a0:0   0.999430    1753.0  chr1     hg38\n",
       "3  8c3d82da-fc2c-4667-b5d3-82098f206e7f:0   0.934783      92.0  chr1     hg38\n",
       "4  28327cc7-7153-4190-8087-560d3ffccbab:0   1.000000      84.0  chr1     hg38"
      ]
     },
     "execution_count": 99,
     "metadata": {},
     "output_type": "execute_result"
    }
   ],
   "source": [
    "df = pd.read_csv(hg38_file, sep='\\t')\n",
    "df['assembly'] = 'hg38'\n",
    "assert len(df.index) == len(df.read_id.unique())\n",
    "df2 = pd.read_csv(t2t_file, sep='\\t')\n",
    "df2['assembly'] = 't2t'\n",
    "assert len(df2.index) == len(df2.read_id.unique())\n",
    "df = pd.concat([df, df2], axis=0)\n",
    "df.head()"
   ]
  },
  {
   "cell_type": "code",
   "execution_count": 94,
   "id": "617e22fb-0f96-47d5-804f-0e9ab436f607",
   "metadata": {},
   "outputs": [
    {
     "data": {
      "image/png": "[encoded data removed]",
      "text/plain": [
       "<Figure size 360x360 with 1 Axes>"
      ]
     },
     "metadata": {
      "needs_background": "light"
     },
     "output_type": "display_data"
    }
   ],
   "source": [
    "init_plot_settings(aspect='square')\n",
    "sns.boxplot(df, y='query_cov', x='assembly') \n",
    "plt.yscale('log')"
   ]
  },
  {
   "cell_type": "code",
   "execution_count": 100,
   "id": "97eecc3e-4bff-4363-8216-2d800608ae0b",
   "metadata": {},
   "outputs": [],
   "source": [
    "# compute % of alignments that >90%\n",
    "df['high_qcov'] = df.query_cov>=.90\n",
    "df = df[['read_id', 'assembly', 'high_qcov']].groupby(['assembly', 'high_qcov']).nunique().reset_index()"
   ]
  },
  {
   "cell_type": "code",
   "execution_count": 101,
   "id": "12d74aae-b4f3-4a80-a24f-d949ad815bff",
   "metadata": {},
   "outputs": [
    {
     "data": {
      "text/html": [
       "<div>\n",
       "<style scoped>\n",
       "    .dataframe tbody tr th:only-of-type {\n",
       "        vertical-align: middle;\n",
       "    }\n",
       "\n",
       "    .dataframe tbody tr th {\n",
       "        vertical-align: top;\n",
       "    }\n",
       "\n",
       "    .dataframe thead th {\n",
       "        text-align: right;\n",
       "    }\n",
       "</style>\n",
       "<table border=\"1\" class=\"dataframe\">\n",
       "  <thead>\n",
       "    <tr style=\"text-align: right;\">\n",
       "      <th></th>\n",
       "      <th>assembly</th>\n",
       "      <th>high_qcov</th>\n",
       "      <th>read_id</th>\n",
       "      <th>total</th>\n",
       "      <th>perc</th>\n",
       "    </tr>\n",
       "  </thead>\n",
       "  <tbody>\n",
       "    <tr>\n",
       "      <th>0</th>\n",
       "      <td>hg38</td>\n",
       "      <td>False</td>\n",
       "      <td>1309514</td>\n",
       "      <td>26328632</td>\n",
       "      <td>4.973726</td>\n",
       "    </tr>\n",
       "    <tr>\n",
       "      <th>1</th>\n",
       "      <td>hg38</td>\n",
       "      <td>True</td>\n",
       "      <td>25019118</td>\n",
       "      <td>26328632</td>\n",
       "      <td>95.026274</td>\n",
       "    </tr>\n",
       "    <tr>\n",
       "      <th>2</th>\n",
       "      <td>t2t</td>\n",
       "      <td>False</td>\n",
       "      <td>1306006</td>\n",
       "      <td>26329010</td>\n",
       "      <td>4.960331</td>\n",
       "    </tr>\n",
       "    <tr>\n",
       "      <th>3</th>\n",
       "      <td>t2t</td>\n",
       "      <td>True</td>\n",
       "      <td>25023004</td>\n",
       "      <td>26329010</td>\n",
       "      <td>95.039669</td>\n",
       "    </tr>\n",
       "  </tbody>\n",
       "</table>\n",
       "</div>"
      ],
      "text/plain": [
       "  assembly  high_qcov   read_id     total       perc\n",
       "0     hg38      False   1309514  26328632   4.973726\n",
       "1     hg38       True  25019118  26328632  95.026274\n",
       "2      t2t      False   1306006  26329010   4.960331\n",
       "3      t2t       True  25023004  26329010  95.039669"
      ]
     },
     "execution_count": 101,
     "metadata": {},
     "output_type": "execute_result"
    }
   ],
   "source": [
    "df['total'] = df.groupby('assembly')['read_id'].transform('sum')\n",
    "df['perc'] = (df.read_id/df.total)*100\n",
    "df.head()"
   ]
  },
  {
   "cell_type": "markdown",
   "id": "b99f2c9f-5c59-4909-8b4b-5bd65f263abc",
   "metadata": {},
   "source": [
    "## Compute delta between qcov for the same reads"
   ]
  },
  {
   "cell_type": "code",
   "execution_count": 102,
   "id": "87683664-5875-4eaa-a805-239c55641a55",
   "metadata": {},
   "outputs": [],
   "source": [
    "t2t_file = proc_cfg(expand(config['lr']['map']['bam_query_covs'],\n",
    "                          sample=sample,\n",
    "                          assembly='t2t')[0], od)\n",
    "hg38_file = proc_cfg(expand(config['lr']['map']['bam_query_covs'],\n",
    "                          sample=sample,\n",
    "                          assembly='hg38')[0], od)"
   ]
  },
  {
   "cell_type": "code",
   "execution_count": 103,
   "id": "262ceb77-569b-4b3e-9716-e998b89640cf",
   "metadata": {},
   "outputs": [
    {
     "data": {
      "text/html": [
       "<div>\n",
       "<style scoped>\n",
       "    .dataframe tbody tr th:only-of-type {\n",
       "        vertical-align: middle;\n",
       "    }\n",
       "\n",
       "    .dataframe tbody tr th {\n",
       "        vertical-align: top;\n",
       "    }\n",
       "\n",
       "    .dataframe thead th {\n",
       "        text-align: right;\n",
       "    }\n",
       "</style>\n",
       "<table border=\"1\" class=\"dataframe\">\n",
       "  <thead>\n",
       "    <tr style=\"text-align: right;\">\n",
       "      <th></th>\n",
       "      <th>read_id</th>\n",
       "      <th>query_cov</th>\n",
       "      <th>read_len</th>\n",
       "      <th>chr</th>\n",
       "      <th>assembly</th>\n",
       "    </tr>\n",
       "  </thead>\n",
       "  <tbody>\n",
       "    <tr>\n",
       "      <th>0</th>\n",
       "      <td>656f1899-097a-4d0e-a956-eb0f9dd040e2:0</td>\n",
       "      <td>0.981723</td>\n",
       "      <td>383.0</td>\n",
       "      <td>chr1</td>\n",
       "      <td>hg38</td>\n",
       "    </tr>\n",
       "    <tr>\n",
       "      <th>1</th>\n",
       "      <td>39c58a50-2e13-4bd7-9484-008563de3916:0</td>\n",
       "      <td>0.991903</td>\n",
       "      <td>1729.0</td>\n",
       "      <td>chr1</td>\n",
       "      <td>hg38</td>\n",
       "    </tr>\n",
       "    <tr>\n",
       "      <th>2</th>\n",
       "      <td>c6e18f10-2b77-4112-a2ee-7157c0a8c8a0:0</td>\n",
       "      <td>0.999430</td>\n",
       "      <td>1753.0</td>\n",
       "      <td>chr1</td>\n",
       "      <td>hg38</td>\n",
       "    </tr>\n",
       "    <tr>\n",
       "      <th>3</th>\n",
       "      <td>8c3d82da-fc2c-4667-b5d3-82098f206e7f:0</td>\n",
       "      <td>0.934783</td>\n",
       "      <td>92.0</td>\n",
       "      <td>chr1</td>\n",
       "      <td>hg38</td>\n",
       "    </tr>\n",
       "    <tr>\n",
       "      <th>4</th>\n",
       "      <td>28327cc7-7153-4190-8087-560d3ffccbab:0</td>\n",
       "      <td>1.000000</td>\n",
       "      <td>84.0</td>\n",
       "      <td>chr1</td>\n",
       "      <td>hg38</td>\n",
       "    </tr>\n",
       "  </tbody>\n",
       "</table>\n",
       "</div>"
      ],
      "text/plain": [
       "                                  read_id  query_cov  read_len   chr assembly\n",
       "0  656f1899-097a-4d0e-a956-eb0f9dd040e2:0   0.981723     383.0  chr1     hg38\n",
       "1  39c58a50-2e13-4bd7-9484-008563de3916:0   0.991903    1729.0  chr1     hg38\n",
       "2  c6e18f10-2b77-4112-a2ee-7157c0a8c8a0:0   0.999430    1753.0  chr1     hg38\n",
       "3  8c3d82da-fc2c-4667-b5d3-82098f206e7f:0   0.934783      92.0  chr1     hg38\n",
       "4  28327cc7-7153-4190-8087-560d3ffccbab:0   1.000000      84.0  chr1     hg38"
      ]
     },
     "execution_count": 103,
     "metadata": {},
     "output_type": "execute_result"
    }
   ],
   "source": [
    "df = pd.read_csv(hg38_file, sep='\\t')\n",
    "df['assembly'] = 'hg38'\n",
    "assert len(df.index) == len(df.read_id.unique())\n",
    "df2 = pd.read_csv(t2t_file, sep='\\t')\n",
    "df2['assembly'] = 't2t'\n",
    "assert len(df2.index) == len(df2.read_id.unique())\n",
    "df.head()"
   ]
  },
  {
   "cell_type": "code",
   "execution_count": null,
   "id": "e6ab0fb7-7a4f-419a-90ec-1f5538d014a6",
   "metadata": {},
   "outputs": [],
   "source": [
    "df.drop(['assembly', 'read_len', 'chr'], axis=1, inplace=True)\n",
    "df2.drop(['assembly', 'read_len', 'chr'], axis=1, inplace=True)"
   ]
  },
  {
   "cell_type": "code",
   "execution_count": 107,
   "id": "49c2b24d-eff2-409a-9020-d10fad1b6370",
   "metadata": {},
   "outputs": [],
   "source": [
    "# merge on read id\n",
    "df = df.merge(df2, on='read_id', how='outer', suffixes=('_hg38', '_t2t'))"
   ]
  },
  {
   "cell_type": "code",
   "execution_count": null,
   "id": "ebbaa451-b2db-4522-9705-8e2e6bfee25d",
   "metadata": {},
   "outputs": [],
   "source": [
    "# # label nulls in one or the other\n",
    "# # makybe just do this on mn5\n",
    "# df['category'] = 'shared'\n",
    "# df.loc[(df.query_cov_t2t.notnull())&\\\n",
    "#        (df.query_cov_hg38.isnull()), 'shared'] = 't2t_only'\n",
    "# df.loc[(df.query_cov_t2t.isnull())&\\\n",
    "#        (df.query_cov_hg38.notnull()), 'shared'] = 'hg38_only'\n",
    "\n",
    "# g = sns.jointplot(df, x='query_cov_hg38', \n",
    "#                       y='query_cov_t2t',\n",
    "#                       hue='category')\n",
    "    \n",
    "# # Get the axis object\n",
    "# ax = g.ax_joint\n",
    "\n",
    "# # Plot the x = y line\n",
    "# lims = [min(ax.get_xlim()[0], ax.get_ylim()[0]), max(ax.get_xlim()[1], ax.get_ylim()[1])]\n",
    "# ax.plot(lims, lims, ':k')  # ':k' is a black dashed line\n",
    "\n",
    "# # Set the same limits for x and y axes\n",
    "# ax.set_xlim(lims)\n",
    "# ax.set_ylim(lims)\n",
    "\n",
    "# # Show plot\n",
    "# plt.show()"
   ]
  },
  {
   "cell_type": "code",
   "execution_count": 112,
   "id": "cc941e86-470e-4453-a8bc-d9cb1d7a98b5",
   "metadata": {},
   "outputs": [],
   "source": [
    "df['qcov_diff'] = df['query_cov_t2t']-df['query_cov_hg38']"
   ]
  },
  {
   "cell_type": "code",
   "execution_count": 113,
   "id": "5d986eeb-2046-4cc2-87b2-fbc22e4fe835",
   "metadata": {},
   "outputs": [
    {
     "data": {
      "text/plain": [
       "<seaborn.axisgrid.FacetGrid at 0x7fd8b707f990>"
      ]
     },
     "execution_count": 113,
     "metadata": {},
     "output_type": "execute_result"
    },
    {
     "data": {
      "image/png": "[encoded data removed]",
      "text/plain": [
       "<Figure size 360x360 with 1 Axes>"
      ]
     },
     "metadata": {
      "needs_background": "light"
     },
     "output_type": "display_data"
    }
   ],
   "source": [
    "sns.displot(df, kind='kde', x='qcov_diff')\n",
    "# negative means  higher in hg38; positive means higher in t2t"
   ]
  },
  {
   "cell_type": "code",
   "execution_count": 115,
   "id": "ae2a2c25-bdbc-4554-abe2-19260de9e265",
   "metadata": {},
   "outputs": [
    {
     "data": {
      "text/plain": [
       "<seaborn.axisgrid.FacetGrid at 0x7fd46d4cd310>"
      ]
     },
     "execution_count": 115,
     "metadata": {},
     "output_type": "execute_result"
    },
    {
     "data": {
      "image/png": "[encoded data removed]",
      "text/plain": [
       "<Figure size 360x360 with 1 Axes>"
      ]
     },
     "metadata": {
      "needs_background": "light"
     },
     "output_type": "display_data"
    }
   ],
   "source": [
    "# with removing the 0 diffs\n",
    "temp = df.loc[df.qcov_diff!=0]\n",
    "sns.displot(temp, kind='kde', x='qcov_diff')\n",
    "# negative means  higher in hg38; positive means higher in t2t"
   ]
  },
  {
   "cell_type": "code",
   "execution_count": 111,
   "id": "2ee98d11-f699-4cc0-922b-a90fd259cba8",
   "metadata": {},
   "outputs": [
    {
     "name": "stdout",
     "output_type": "stream",
     "text": [
      "591281 reads have higher qcov in hg38 than t2t\n",
      "508560 reads have higher qcov in t2t than hg38\n"
     ]
    }
   ],
   "source": [
    "# number that are higher in hg38 vs. t2t and vice versa\n",
    "# from reads that aligned in both\n",
    "temp = df.loc[(df.query_cov_hg38.notnull())&\\\n",
    "              (df.query_cov_t2t.notnull())]\n",
    "n = len(temp.loc[temp.query_cov_hg38>temp.query_cov_t2t].index)\n",
    "print(f'{n} reads have higher qcov in hg38 than t2t')\n",
    "\n",
    "n = len(temp.loc[temp.query_cov_hg38<temp.query_cov_t2t].index)\n",
    "print(f'{n} reads have higher qcov in t2t than hg38')"
   ]
  },
  {
   "cell_type": "code",
   "execution_count": 116,
   "id": "68192c63-d917-4d25-9914-faf3b97510af",
   "metadata": {},
   "outputs": [
    {
     "name": "stdout",
     "output_type": "stream",
     "text": [
      "1931 reads mapped in t2t that didnt in hg38\n"
     ]
    }
   ],
   "source": [
    "# number of reads that didn't align in hg38\n",
    "n = len(df.loc[(df.query_cov_t2t.notnull())&\\\n",
    "               (df.query_cov_hg38.isnull())].index)\n",
    "print(f'{n} reads mapped in t2t that didnt in hg38')\n"
   ]
  },
  {
   "cell_type": "code",
   "execution_count": 117,
   "id": "03dcbfb3-f3ca-4770-9f8c-19a5219a69b2",
   "metadata": {},
   "outputs": [
    {
     "name": "stdout",
     "output_type": "stream",
     "text": [
      "1553 reads mapped in hg38 that didnt in t2t\n"
     ]
    }
   ],
   "source": [
    "# number of reads that didn't align in t2t\n",
    "n = len(df.loc[(df.query_cov_t2t.isnull())&\\\n",
    "               (df.query_cov_hg38.notnull())].index)\n",
    "print(f'{n} reads mapped in hg38 that didnt in t2t')"
   ]
  },
  {
   "cell_type": "markdown",
   "id": "49b73e14-f008-4265-bee6-63447820f66f",
   "metadata": {},
   "source": [
    "## Compute delta between mapq for the same reads"
   ]
  },
  {
   "cell_type": "code",
   "execution_count": 123,
   "id": "02ad3b6f-1502-436b-97c4-0ea9b13910cc",
   "metadata": {},
   "outputs": [],
   "source": [
    "t2t_file = proc_cfg(expand(config['lr']['map']['bam_mapqs'],\n",
    "                          sample=sample,\n",
    "                          assembly='t2t')[0], od)\n",
    "hg38_file = proc_cfg(expand(config['lr']['map']['bam_mapqs'],\n",
    "                          sample=sample,\n",
    "                          assembly='hg38')[0], od)"
   ]
  },
  {
   "cell_type": "code",
   "execution_count": 124,
   "id": "e30b154c-7094-4112-ab88-bf6c0514d7cb",
   "metadata": {},
   "outputs": [
    {
     "data": {
      "text/html": [
       "<div>\n",
       "<style scoped>\n",
       "    .dataframe tbody tr th:only-of-type {\n",
       "        vertical-align: middle;\n",
       "    }\n",
       "\n",
       "    .dataframe tbody tr th {\n",
       "        vertical-align: top;\n",
       "    }\n",
       "\n",
       "    .dataframe thead th {\n",
       "        text-align: right;\n",
       "    }\n",
       "</style>\n",
       "<table border=\"1\" class=\"dataframe\">\n",
       "  <thead>\n",
       "    <tr style=\"text-align: right;\">\n",
       "      <th></th>\n",
       "      <th>read_id</th>\n",
       "      <th>mapq</th>\n",
       "      <th>assembly</th>\n",
       "    </tr>\n",
       "  </thead>\n",
       "  <tbody>\n",
       "    <tr>\n",
       "      <th>0</th>\n",
       "      <td>656f1899-097a-4d0e-a956-eb0f9dd040e2:0</td>\n",
       "      <td>20</td>\n",
       "      <td>hg38</td>\n",
       "    </tr>\n",
       "    <tr>\n",
       "      <th>1</th>\n",
       "      <td>39c58a50-2e13-4bd7-9484-008563de3916:0</td>\n",
       "      <td>27</td>\n",
       "      <td>hg38</td>\n",
       "    </tr>\n",
       "    <tr>\n",
       "      <th>2</th>\n",
       "      <td>c6e18f10-2b77-4112-a2ee-7157c0a8c8a0:0</td>\n",
       "      <td>27</td>\n",
       "      <td>hg38</td>\n",
       "    </tr>\n",
       "    <tr>\n",
       "      <th>3</th>\n",
       "      <td>8c3d82da-fc2c-4667-b5d3-82098f206e7f:0</td>\n",
       "      <td>0</td>\n",
       "      <td>hg38</td>\n",
       "    </tr>\n",
       "    <tr>\n",
       "      <th>4</th>\n",
       "      <td>28327cc7-7153-4190-8087-560d3ffccbab:0</td>\n",
       "      <td>0</td>\n",
       "      <td>hg38</td>\n",
       "    </tr>\n",
       "  </tbody>\n",
       "</table>\n",
       "</div>"
      ],
      "text/plain": [
       "                                  read_id  mapq assembly\n",
       "0  656f1899-097a-4d0e-a956-eb0f9dd040e2:0    20     hg38\n",
       "1  39c58a50-2e13-4bd7-9484-008563de3916:0    27     hg38\n",
       "2  c6e18f10-2b77-4112-a2ee-7157c0a8c8a0:0    27     hg38\n",
       "3  8c3d82da-fc2c-4667-b5d3-82098f206e7f:0     0     hg38\n",
       "4  28327cc7-7153-4190-8087-560d3ffccbab:0     0     hg38"
      ]
     },
     "execution_count": 124,
     "metadata": {},
     "output_type": "execute_result"
    }
   ],
   "source": [
    "df = pd.read_csv(hg38_file, sep='\\t')\n",
    "df['assembly'] = 'hg38'\n",
    "assert len(df.index) == len(df.read_id.unique())\n",
    "df2 = pd.read_csv(t2t_file, sep='\\t')\n",
    "df2['assembly'] = 't2t'\n",
    "assert len(df2.index) == len(df2.read_id.unique())\n",
    "df.head()"
   ]
  },
  {
   "cell_type": "code",
   "execution_count": 126,
   "id": "08ad5726-68ff-4e79-aa6c-a31861ceebab",
   "metadata": {},
   "outputs": [],
   "source": [
    "df.drop(['assembly'], axis=1, inplace=True)\n",
    "df2.drop(['assembly'], axis=1, inplace=True)"
   ]
  },
  {
   "cell_type": "code",
   "execution_count": 127,
   "id": "d1aa726c-8894-4cd1-ae85-fbcfcb6cc907",
   "metadata": {},
   "outputs": [],
   "source": [
    "# merge on read id\n",
    "df = df.merge(df2, on='read_id', how='outer', suffixes=('_hg38', '_t2t'))"
   ]
  },
  {
   "cell_type": "code",
   "execution_count": 128,
   "id": "d1d57a6f-9568-495e-9acb-31bbdf3b35de",
   "metadata": {},
   "outputs": [],
   "source": [
    "# # label nulls in one or the other\n",
    "# df['category'] = 'shared'\n",
    "# df.loc[(df.mapq_t2t.notnull())&\\\n",
    "#        (df.mapq_hg38.isnull()), 'shared'] = 't2t_only'\n",
    "# df.loc[(df.mapq_t2t.isnull())&\\\n",
    "#        (df.mapq_hg38.notnull()), 'shared'] = 'hg38_only'\n",
    "\n",
    "# g = sns.jointplot(df, x='mapq_hg38', \n",
    "#                       y='mapq_t2t',\n",
    "#                       hue='category')\n",
    "    \n",
    "# # Get the axis object\n",
    "# ax = g.ax_joint\n",
    "\n",
    "# # Plot the x = y line\n",
    "# lims = [min(ax.get_xlim()[0], ax.get_ylim()[0]), max(ax.get_xlim()[1], ax.get_ylim()[1])]\n",
    "# ax.plot(lims, lims, ':k')  # ':k' is a black dashed line\n",
    "\n",
    "# # Set the same limits for x and y axes\n",
    "# ax.set_xlim(lims)\n",
    "# ax.set_ylim(lims)\n",
    "\n",
    "# # Show plot\n",
    "# plt.show()"
   ]
  },
  {
   "cell_type": "code",
   "execution_count": 129,
   "id": "57e3e48d-85f6-4bc4-8b92-9d1b385f8e8c",
   "metadata": {},
   "outputs": [],
   "source": [
    "df['mapq_diff'] = df['mapq_t2t']-df['mapq_hg38']"
   ]
  },
  {
   "cell_type": "code",
   "execution_count": 130,
   "id": "6642d7c8-94d0-4105-a63b-8b257fb2ab7c",
   "metadata": {},
   "outputs": [
    {
     "data": {
      "text/plain": [
       "<seaborn.axisgrid.FacetGrid at 0x7fe04df40e50>"
      ]
     },
     "execution_count": 130,
     "metadata": {},
     "output_type": "execute_result"
    },
    {
     "data": {
      "image/png": "[encoded data removed]",
      "text/plain": [
       "<Figure size 360x360 with 1 Axes>"
      ]
     },
     "metadata": {
      "needs_background": "light"
     },
     "output_type": "display_data"
    }
   ],
   "source": [
    "sns.displot(df, kind='kde', x='mapq_diff')\n",
    "# negative means  higher in hg38; positive means higher in t2t"
   ]
  },
  {
   "cell_type": "code",
   "execution_count": 131,
   "id": "292389fc-38d1-4b9e-b11f-626446281820",
   "metadata": {},
   "outputs": [
    {
     "data": {
      "text/plain": [
       "<seaborn.axisgrid.FacetGrid at 0x7fd46d4e8ed0>"
      ]
     },
     "execution_count": 131,
     "metadata": {},
     "output_type": "execute_result"
    },
    {
     "data": {
      "image/png": "[encoded data removed]",
      "text/plain": [
       "<Figure size 360x360 with 1 Axes>"
      ]
     },
     "metadata": {
      "needs_background": "light"
     },
     "output_type": "display_data"
    }
   ],
   "source": [
    "# with removing the 0 diffs\n",
    "temp = df.loc[df.qcov_diff!=0]\n",
    "sns.displot(temp, kind='kde', x='qcov_diff')\n",
    "# negative means  higher in hg38; positive means higher in t2t"
   ]
  },
  {
   "cell_type": "code",
   "execution_count": 132,
   "id": "123c3d90-e5a3-451d-aa76-6df1be1e76ce",
   "metadata": {},
   "outputs": [
    {
     "name": "stdout",
     "output_type": "stream",
     "text": [
      "1286783 reads have higher qcov in hg38 than t2t\n",
      "1631409 reads have higher qcov in t2t than hg38\n"
     ]
    }
   ],
   "source": [
    "# number that are higher in hg38 vs. t2t and vice versa\n",
    "# from reads that aligned in both\n",
    "temp = df.loc[(df.mapq_hg38.notnull())&\\\n",
    "              (df.mapq_t2t.notnull())]\n",
    "n = len(temp.loc[temp.mapq_hg38>temp.mapq_t2t].index)\n",
    "print(f'{n} reads have higher qcov in hg38 than t2t')\n",
    "\n",
    "n = len(temp.loc[temp.mapq_hg38<temp.mapq_t2t].index)\n",
    "print(f'{n} reads have higher qcov in t2t than hg38')"
   ]
  },
  {
   "cell_type": "code",
   "execution_count": 133,
   "id": "d0e92ddd-1a2b-4b3a-a97b-830c094a6854",
   "metadata": {},
   "outputs": [
    {
     "name": "stdout",
     "output_type": "stream",
     "text": [
      "1931 reads mapped in t2t that didnt in hg38\n"
     ]
    }
   ],
   "source": [
    "# number of reads that didn't align in hg38\n",
    "n = len(df.loc[(df.mapq_t2t.notnull())&\\\n",
    "               (df.mapq_hg38.isnull())].index)\n",
    "print(f'{n} reads mapped in t2t that didnt in hg38')\n"
   ]
  },
  {
   "cell_type": "code",
   "execution_count": 134,
   "id": "afc4ed98-38d1-4274-8b94-97a0722b623c",
   "metadata": {},
   "outputs": [
    {
     "name": "stdout",
     "output_type": "stream",
     "text": [
      "1553 reads mapped in hg38 that didnt in t2t\n"
     ]
    }
   ],
   "source": [
    "# number of reads that didn't align in t2t\n",
    "n = len(df.loc[(df.mapq_t2t.isnull())&\\\n",
    "               (df.mapq_hg38.notnull())].index)\n",
    "print(f'{n} reads mapped in hg38 that didnt in t2t')"
   ]
  },
  {
   "cell_type": "code",
   "execution_count": null,
   "id": "196c6226-9b62-4b64-82c6-6fd3c8ebb2a3",
   "metadata": {},
   "outputs": [],
   "source": []
  }
 ],
 "metadata": {
  "kernelspec": {
   "display_name": "Python 3",
   "language": "python",
   "name": "python3"
  },
  "language_info": {
   "codemirror_mode": {
    "name": "ipython",
    "version": 3
   },
   "file_extension": ".py",
   "mimetype": "text/x-python",
   "name": "python",
   "nbconvert_exporter": "python",
   "pygments_lexer": "ipython3",
   "version": "3.7.12"
  }
 },
 "nbformat": 4,
 "nbformat_minor": 5
}
