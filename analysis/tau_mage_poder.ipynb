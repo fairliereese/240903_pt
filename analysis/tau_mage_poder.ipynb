{
 "cells": [
  {
   "cell_type": "markdown",
   "id": "1cc5aace-28ac-4eab-b705-861ba47e1bd8",
   "metadata": {},
   "source": [
    "## Compute Tau values for MAGE data and call either population or continent-specific transcripts. Overlap w/ our pop-specific transcritps."
   ]
  },
  {
   "cell_type": "code",
   "execution_count": 1,
   "id": "c22ecd8c-098f-4a9e-9acd-2b7b73375a13",
   "metadata": {},
   "outputs": [],
   "source": [
    "import pandas as pd\n",
    "import numpy as np\n",
    "import scipy.stats as st\n",
    "import seaborn as sns\n",
    "import sys\n",
    "import os\n",
    "import matplotlib.pyplot as plt\n",
    "import swan_vis as swan\n",
    "import yaml\n",
    "from snakemake.io import expand\n",
    "import cerberus\n",
    "import pyranges as pr\n",
    "import upsetplot\n",
    "\n",
    "p = os.path.dirname(os.getcwd())\n",
    "sys.path.append(p)\n",
    "\n",
    "from scripts.utils import *\n",
    "from scripts.vcf_utils import *\n",
    "from scripts.plotting import *"
   ]
  },
  {
   "cell_type": "code",
   "execution_count": 2,
   "id": "be1dcf2e-03dd-4bae-b016-caf131205c3c",
   "metadata": {},
   "outputs": [],
   "source": [
    "config = load_config()\n",
    "od = '../'\n",
    "\n",
    "def proc_cfg(entry, od):\n",
    "    entry = entry.replace('../../', '')\n",
    "    entry = od+entry\n",
    "    return entry"
   ]
  },
  {
   "cell_type": "code",
   "execution_count": 3,
   "id": "9dc19d77-0463-45bc-8de1-456d819edd88",
   "metadata": {},
   "outputs": [],
   "source": [
    "def compute_tau(df):\n",
    "    \"\"\"\n",
    "    Compute tissue-specificity index for an abundance matrix output\n",
    "    from `get_tpm_table`.\n",
    "    \"\"\"\n",
    "    # number of samples \n",
    "    n = len(df.columns)\n",
    "    print(f'Found {n} samples')\n",
    "    \n",
    "    # df.replace([np.inf, -np.inf], np.nan, inplace=True)\n",
    "    \n",
    "    # get max of TPM for transcript across samples\n",
    "    temp = df.max(axis=1)\n",
    "    temp_ind = temp.index.tolist()\n",
    "\n",
    "    df = df.transpose()\n",
    "    df_ind = df.columns.tolist()\n",
    "    assert df_ind==temp_ind\n",
    "\n",
    "    # compute x-hat (TPM / max TPM across tissues)\n",
    "    x_hat = df/temp\n",
    "    \n",
    "    # compute (1-x-hat) \n",
    "    x_hat = 1-x_hat\n",
    "\n",
    "    # compute sum across tissues\n",
    "    x_hat = x_hat.transpose()\n",
    "    x_hat['sum'] = x_hat.sum(axis=1)\n",
    "    \n",
    "    # compute tau for each transcript\n",
    "    x_hat['tau'] = x_hat['sum']/n\n",
    "    tau_df = x_hat[['tau']]\n",
    "    \n",
    "    return tau_df"
   ]
  },
  {
   "cell_type": "code",
   "execution_count": 4,
   "id": "c32a40cd-9cc9-4df0-9f5b-20c889c564d0",
   "metadata": {},
   "outputs": [
    {
     "data": {
      "text/html": [
       "<div>\n",
       "<style scoped>\n",
       "    .dataframe tbody tr th:only-of-type {\n",
       "        vertical-align: middle;\n",
       "    }\n",
       "\n",
       "    .dataframe tbody tr th {\n",
       "        vertical-align: top;\n",
       "    }\n",
       "\n",
       "    .dataframe thead th {\n",
       "        text-align: right;\n",
       "    }\n",
       "</style>\n",
       "<table border=\"1\" class=\"dataframe\">\n",
       "  <thead>\n",
       "    <tr style=\"text-align: right;\">\n",
       "      <th></th>\n",
       "      <th>sampleId</th>\n",
       "      <th>indId</th>\n",
       "      <th>group</th>\n",
       "      <th>batch</th>\n",
       "      <th>sex</th>\n",
       "      <th>pop</th>\n",
       "      <th>continent</th>\n",
       "      <th>experiment_alias</th>\n",
       "    </tr>\n",
       "  </thead>\n",
       "  <tbody>\n",
       "    <tr>\n",
       "      <th>0</th>\n",
       "      <td>NA19704</td>\n",
       "      <td>NA19704</td>\n",
       "      <td>1</td>\n",
       "      <td>batch11</td>\n",
       "      <td>female</td>\n",
       "      <td>ASW</td>\n",
       "      <td>AFR</td>\n",
       "      <td>NA19704_batch11_rep1</td>\n",
       "    </tr>\n",
       "    <tr>\n",
       "      <th>1</th>\n",
       "      <td>NA19332</td>\n",
       "      <td>NA19332</td>\n",
       "      <td>1</td>\n",
       "      <td>batch14</td>\n",
       "      <td>female</td>\n",
       "      <td>LWK</td>\n",
       "      <td>AFR</td>\n",
       "      <td>NA19332_batch14_rep1</td>\n",
       "    </tr>\n",
       "    <tr>\n",
       "      <th>2</th>\n",
       "      <td>NA19317</td>\n",
       "      <td>NA19317</td>\n",
       "      <td>1</td>\n",
       "      <td>batch15</td>\n",
       "      <td>male</td>\n",
       "      <td>LWK</td>\n",
       "      <td>AFR</td>\n",
       "      <td>NA19317_batch15_rep1</td>\n",
       "    </tr>\n",
       "    <tr>\n",
       "      <th>3</th>\n",
       "      <td>NA19312</td>\n",
       "      <td>NA19312</td>\n",
       "      <td>1</td>\n",
       "      <td>batch05</td>\n",
       "      <td>male</td>\n",
       "      <td>LWK</td>\n",
       "      <td>AFR</td>\n",
       "      <td>NA19312_batch05_rep1</td>\n",
       "    </tr>\n",
       "    <tr>\n",
       "      <th>4</th>\n",
       "      <td>NA19323</td>\n",
       "      <td>NA19323</td>\n",
       "      <td>1</td>\n",
       "      <td>batch11</td>\n",
       "      <td>female</td>\n",
       "      <td>LWK</td>\n",
       "      <td>AFR</td>\n",
       "      <td>NA19323_batch11_rep1</td>\n",
       "    </tr>\n",
       "  </tbody>\n",
       "</table>\n",
       "</div>"
      ],
      "text/plain": [
       "  sampleId    indId  group    batch     sex  pop continent  \\\n",
       "0  NA19704  NA19704      1  batch11  female  ASW       AFR   \n",
       "1  NA19332  NA19332      1  batch14  female  LWK       AFR   \n",
       "2  NA19317  NA19317      1  batch15    male  LWK       AFR   \n",
       "3  NA19312  NA19312      1  batch05    male  LWK       AFR   \n",
       "4  NA19323  NA19323      1  batch11  female  LWK       AFR   \n",
       "\n",
       "       experiment_alias  \n",
       "0  NA19704_batch11_rep1  \n",
       "1  NA19332_batch14_rep1  \n",
       "2  NA19317_batch15_rep1  \n",
       "3  NA19312_batch05_rep1  \n",
       "4  NA19323_batch11_rep1  "
      ]
     },
     "execution_count": 4,
     "metadata": {},
     "output_type": "execute_result"
    }
   ],
   "source": [
    "# metadata \n",
    "# metadata \n",
    "# get sampleId, indId, group, batch, run from metadata tables\n",
    "meta_file = '../snakemake/mage/filereport_read_run_PRJNA851328_tsv.txt'\n",
    "meta = pd.read_csv(meta_file, sep='\\t')\n",
    "\n",
    "meta['sampleId'] = meta['indId'] = meta.experiment_alias.str.split('_', expand=True)[0]\n",
    "meta['batch'] = meta.experiment_alias.str.split('_', expand=True)[1]\n",
    "\n",
    "\n",
    "meta_file = '../snakemake/mage/sample_metadata_parsed.tsv'\n",
    "df2 = pd.read_csv(meta_file, sep=' ', header=None)\n",
    "df2.columns = ['sampleId', 'pop', 'continent', 'sex', 'sth', 'sth2']\n",
    "\n",
    "meta = meta.merge(df2, how='left',\n",
    "              on='sampleId')\n",
    "meta['group'] = 1 # all the same group because we don't want to call sqtls separately for anything\n",
    "meta[['sampleId', 'indId', 'group', 'batch', 'sex', 'pop', 'continent', 'experiment_alias']].head()"
   ]
  },
  {
   "cell_type": "markdown",
   "id": "78b477f7-cca1-4faa-a5b7-a23ca0c1329c",
   "metadata": {},
   "source": [
    "## Compute Tau in MAGE (population)"
   ]
  },
  {
   "cell_type": "code",
   "execution_count": 6,
   "id": "6b50ec84-c3e4-4ec7-86b2-5562a3d5eefc",
   "metadata": {},
   "outputs": [],
   "source": [
    "# enhanced gencode\n",
    "df = pd.read_csv('../data/mage/poder_kallisto/matrix.abundance.tsv', sep='\\t')\n",
    "df.rename({'transcript_id':'tid'},axis=1, inplace=True)\n",
    "df.set_index('tid', inplace=True)"
   ]
  },
  {
   "cell_type": "code",
   "execution_count": 7,
   "id": "2dd44ba2-e681-4fca-814e-c34214119d0d",
   "metadata": {},
   "outputs": [
    {
     "name": "stdout",
     "output_type": "stream",
     "text": [
      "429241\n",
      "384947\n"
     ]
    }
   ],
   "source": [
    "# filter things to keep to compute Tau for\n",
    "# https://academic.oup.com/bib/article/18/2/205/2562739\n",
    "# min_cpm = 0.1\n",
    "min_cpm = 1\n",
    "min_samples = 1\n",
    "\n",
    "# set all transcripts w/ expression <1 CPM --> 0\n",
    "df[df < min_cpm] = 0\n",
    "\n",
    "# remove all genes that are not expressed in at least one tissue\n",
    "# the text must be wrong here because how can we filter \n",
    "# after log normalization for CPM >=1?\n",
    "print(len(df.index))\n",
    "df = df.loc[(df>=min_cpm).sum(axis=1)>=min_samples]\n",
    "print(len(df.index))\n",
    "\n",
    "# log-transform data and add 1 pseudocount\n",
    "df = np.log2(df+1)"
   ]
  },
  {
   "cell_type": "code",
   "execution_count": 8,
   "id": "85b03818-8870-479b-9923-39c6d9e1c08d",
   "metadata": {},
   "outputs": [
    {
     "data": {
      "text/html": [
       "<div>\n",
       "<style scoped>\n",
       "    .dataframe tbody tr th:only-of-type {\n",
       "        vertical-align: middle;\n",
       "    }\n",
       "\n",
       "    .dataframe tbody tr th {\n",
       "        vertical-align: top;\n",
       "    }\n",
       "\n",
       "    .dataframe thead th {\n",
       "        text-align: right;\n",
       "    }\n",
       "</style>\n",
       "<table border=\"1\" class=\"dataframe\">\n",
       "  <thead>\n",
       "    <tr style=\"text-align: right;\">\n",
       "      <th></th>\n",
       "      <th>ACB</th>\n",
       "      <th>ASW</th>\n",
       "      <th>BEB</th>\n",
       "      <th>CDX</th>\n",
       "      <th>CEU</th>\n",
       "      <th>CHB</th>\n",
       "      <th>CHS</th>\n",
       "      <th>CLM</th>\n",
       "      <th>ESN</th>\n",
       "      <th>FIN</th>\n",
       "      <th>...</th>\n",
       "      <th>KHV</th>\n",
       "      <th>LWK</th>\n",
       "      <th>MSL</th>\n",
       "      <th>MXL</th>\n",
       "      <th>PEL</th>\n",
       "      <th>PJL</th>\n",
       "      <th>PUR</th>\n",
       "      <th>STU</th>\n",
       "      <th>TSI</th>\n",
       "      <th>YRI</th>\n",
       "    </tr>\n",
       "  </thead>\n",
       "  <tbody>\n",
       "    <tr>\n",
       "      <th>ENST00000000233.10</th>\n",
       "      <td>10.956639</td>\n",
       "      <td>10.864409</td>\n",
       "      <td>10.832426</td>\n",
       "      <td>10.723404</td>\n",
       "      <td>10.817292</td>\n",
       "      <td>10.878368</td>\n",
       "      <td>10.700603</td>\n",
       "      <td>10.767908</td>\n",
       "      <td>10.973518</td>\n",
       "      <td>10.776996</td>\n",
       "      <td>...</td>\n",
       "      <td>10.740337</td>\n",
       "      <td>10.906914</td>\n",
       "      <td>10.999432</td>\n",
       "      <td>10.848788</td>\n",
       "      <td>10.834558</td>\n",
       "      <td>10.867115</td>\n",
       "      <td>10.863667</td>\n",
       "      <td>10.801483</td>\n",
       "      <td>10.830975</td>\n",
       "      <td>10.902992</td>\n",
       "    </tr>\n",
       "    <tr>\n",
       "      <th>ENST00000000412.8</th>\n",
       "      <td>11.739429</td>\n",
       "      <td>11.563582</td>\n",
       "      <td>11.579697</td>\n",
       "      <td>11.501242</td>\n",
       "      <td>11.419910</td>\n",
       "      <td>11.657485</td>\n",
       "      <td>11.345467</td>\n",
       "      <td>11.604045</td>\n",
       "      <td>11.636071</td>\n",
       "      <td>11.551743</td>\n",
       "      <td>...</td>\n",
       "      <td>11.549233</td>\n",
       "      <td>11.681664</td>\n",
       "      <td>11.635187</td>\n",
       "      <td>11.661282</td>\n",
       "      <td>11.695151</td>\n",
       "      <td>11.611383</td>\n",
       "      <td>11.638267</td>\n",
       "      <td>11.561969</td>\n",
       "      <td>11.535709</td>\n",
       "      <td>11.558802</td>\n",
       "    </tr>\n",
       "    <tr>\n",
       "      <th>ENST00000000442.11</th>\n",
       "      <td>8.807953</td>\n",
       "      <td>8.656374</td>\n",
       "      <td>8.726805</td>\n",
       "      <td>8.794797</td>\n",
       "      <td>8.649162</td>\n",
       "      <td>8.882632</td>\n",
       "      <td>8.788288</td>\n",
       "      <td>8.843201</td>\n",
       "      <td>8.843931</td>\n",
       "      <td>8.733103</td>\n",
       "      <td>...</td>\n",
       "      <td>8.895431</td>\n",
       "      <td>8.728889</td>\n",
       "      <td>8.780196</td>\n",
       "      <td>8.843007</td>\n",
       "      <td>8.877331</td>\n",
       "      <td>8.869431</td>\n",
       "      <td>8.867352</td>\n",
       "      <td>8.788570</td>\n",
       "      <td>8.830260</td>\n",
       "      <td>8.712942</td>\n",
       "    </tr>\n",
       "    <tr>\n",
       "      <th>ENST00000001008.6</th>\n",
       "      <td>9.676583</td>\n",
       "      <td>9.534807</td>\n",
       "      <td>9.662397</td>\n",
       "      <td>9.549438</td>\n",
       "      <td>9.663192</td>\n",
       "      <td>9.723823</td>\n",
       "      <td>9.606482</td>\n",
       "      <td>9.704621</td>\n",
       "      <td>9.530207</td>\n",
       "      <td>9.750616</td>\n",
       "      <td>...</td>\n",
       "      <td>9.781899</td>\n",
       "      <td>9.430417</td>\n",
       "      <td>9.578974</td>\n",
       "      <td>9.738086</td>\n",
       "      <td>9.755286</td>\n",
       "      <td>9.800159</td>\n",
       "      <td>9.853169</td>\n",
       "      <td>9.619298</td>\n",
       "      <td>9.465679</td>\n",
       "      <td>9.680258</td>\n",
       "    </tr>\n",
       "    <tr>\n",
       "      <th>ENST00000001146.7</th>\n",
       "      <td>0.491624</td>\n",
       "      <td>0.539354</td>\n",
       "      <td>0.536506</td>\n",
       "      <td>0.282977</td>\n",
       "      <td>0.483752</td>\n",
       "      <td>0.542708</td>\n",
       "      <td>0.674766</td>\n",
       "      <td>0.276695</td>\n",
       "      <td>0.641516</td>\n",
       "      <td>0.464029</td>\n",
       "      <td>...</td>\n",
       "      <td>0.811722</td>\n",
       "      <td>0.502886</td>\n",
       "      <td>0.734736</td>\n",
       "      <td>0.250083</td>\n",
       "      <td>0.499181</td>\n",
       "      <td>0.381949</td>\n",
       "      <td>0.309330</td>\n",
       "      <td>0.215871</td>\n",
       "      <td>0.576713</td>\n",
       "      <td>0.389836</td>\n",
       "    </tr>\n",
       "  </tbody>\n",
       "</table>\n",
       "<p>5 rows × 26 columns</p>\n",
       "</div>"
      ],
      "text/plain": [
       "                          ACB        ASW        BEB        CDX        CEU  \\\n",
       "ENST00000000233.10  10.956639  10.864409  10.832426  10.723404  10.817292   \n",
       "ENST00000000412.8   11.739429  11.563582  11.579697  11.501242  11.419910   \n",
       "ENST00000000442.11   8.807953   8.656374   8.726805   8.794797   8.649162   \n",
       "ENST00000001008.6    9.676583   9.534807   9.662397   9.549438   9.663192   \n",
       "ENST00000001146.7    0.491624   0.539354   0.536506   0.282977   0.483752   \n",
       "\n",
       "                          CHB        CHS        CLM        ESN        FIN  \\\n",
       "ENST00000000233.10  10.878368  10.700603  10.767908  10.973518  10.776996   \n",
       "ENST00000000412.8   11.657485  11.345467  11.604045  11.636071  11.551743   \n",
       "ENST00000000442.11   8.882632   8.788288   8.843201   8.843931   8.733103   \n",
       "ENST00000001008.6    9.723823   9.606482   9.704621   9.530207   9.750616   \n",
       "ENST00000001146.7    0.542708   0.674766   0.276695   0.641516   0.464029   \n",
       "\n",
       "                    ...        KHV        LWK        MSL        MXL  \\\n",
       "ENST00000000233.10  ...  10.740337  10.906914  10.999432  10.848788   \n",
       "ENST00000000412.8   ...  11.549233  11.681664  11.635187  11.661282   \n",
       "ENST00000000442.11  ...   8.895431   8.728889   8.780196   8.843007   \n",
       "ENST00000001008.6   ...   9.781899   9.430417   9.578974   9.738086   \n",
       "ENST00000001146.7   ...   0.811722   0.502886   0.734736   0.250083   \n",
       "\n",
       "                          PEL        PJL        PUR        STU        TSI  \\\n",
       "ENST00000000233.10  10.834558  10.867115  10.863667  10.801483  10.830975   \n",
       "ENST00000000412.8   11.695151  11.611383  11.638267  11.561969  11.535709   \n",
       "ENST00000000442.11   8.877331   8.869431   8.867352   8.788570   8.830260   \n",
       "ENST00000001008.6    9.755286   9.800159   9.853169   9.619298   9.465679   \n",
       "ENST00000001146.7    0.499181   0.381949   0.309330   0.215871   0.576713   \n",
       "\n",
       "                          YRI  \n",
       "ENST00000000233.10  10.902992  \n",
       "ENST00000000412.8   11.558802  \n",
       "ENST00000000442.11   8.712942  \n",
       "ENST00000001008.6    9.680258  \n",
       "ENST00000001146.7    0.389836  \n",
       "\n",
       "[5 rows x 26 columns]"
      ]
     },
     "execution_count": 8,
     "metadata": {},
     "output_type": "execute_result"
    }
   ],
   "source": [
    "# get the median expression value across samples from the same populations\n",
    "# using the median because we want to remove the effect \n",
    "# of individual samples expression patterns on the analysis\n",
    "df = df.transpose()\n",
    "df.reset_index(inplace=True)\n",
    "df.rename({'index':'experiment_alias'}, axis=1, inplace=True)\n",
    "df = df.merge(meta[['experiment_alias', 'pop']], \n",
    "              how='left', on='experiment_alias')\n",
    "# df = df.groupby('population').median().reset_index()\n",
    "df = df.groupby('pop').mean().reset_index()\n",
    "df.set_index('pop', inplace=True)\n",
    "df.index.name = ''\n",
    "df = df.transpose()\n",
    "df.head()"
   ]
  },
  {
   "cell_type": "code",
   "execution_count": 9,
   "id": "39d1b9e1-a66b-4ff6-9bcc-0659207aa32b",
   "metadata": {},
   "outputs": [
    {
     "name": "stdout",
     "output_type": "stream",
     "text": [
      "Found 26 samples\n"
     ]
    },
    {
     "data": {
      "text/html": [
       "<div>\n",
       "<style scoped>\n",
       "    .dataframe tbody tr th:only-of-type {\n",
       "        vertical-align: middle;\n",
       "    }\n",
       "\n",
       "    .dataframe tbody tr th {\n",
       "        vertical-align: top;\n",
       "    }\n",
       "\n",
       "    .dataframe thead th {\n",
       "        text-align: right;\n",
       "    }\n",
       "</style>\n",
       "<table border=\"1\" class=\"dataframe\">\n",
       "  <thead>\n",
       "    <tr style=\"text-align: right;\">\n",
       "      <th></th>\n",
       "      <th>tau</th>\n",
       "    </tr>\n",
       "    <tr>\n",
       "      <th>tid</th>\n",
       "      <th></th>\n",
       "    </tr>\n",
       "  </thead>\n",
       "  <tbody>\n",
       "    <tr>\n",
       "      <th>ENST00000000233.10</th>\n",
       "      <td>0.014637</td>\n",
       "    </tr>\n",
       "    <tr>\n",
       "      <th>ENST00000000412.8</th>\n",
       "      <td>0.013598</td>\n",
       "    </tr>\n",
       "    <tr>\n",
       "      <th>ENST00000000442.11</th>\n",
       "      <td>0.012769</td>\n",
       "    </tr>\n",
       "    <tr>\n",
       "      <th>ENST00000001008.6</th>\n",
       "      <td>0.028120</td>\n",
       "    </tr>\n",
       "    <tr>\n",
       "      <th>ENST00000001146.7</th>\n",
       "      <td>0.413573</td>\n",
       "    </tr>\n",
       "  </tbody>\n",
       "</table>\n",
       "</div>"
      ],
      "text/plain": [
       "                         tau\n",
       "tid                         \n",
       "ENST00000000233.10  0.014637\n",
       "ENST00000000412.8   0.013598\n",
       "ENST00000000442.11  0.012769\n",
       "ENST00000001008.6   0.028120\n",
       "ENST00000001146.7   0.413573"
      ]
     },
     "execution_count": 9,
     "metadata": {},
     "output_type": "execute_result"
    }
   ],
   "source": [
    "tau_df = compute_tau(df)\n",
    "tau_df.index.name = 'tid'\n",
    "tau_df.head()"
   ]
  },
  {
   "cell_type": "code",
   "execution_count": 10,
   "id": "85bf73c3-30bd-4a15-ae64-616df48037f5",
   "metadata": {},
   "outputs": [],
   "source": [
    "tau_df.to_csv(f'250127_{min_cpm}_{min_samples}_mage_population_mean_tau.tsv', sep='\\t')"
   ]
  },
  {
   "cell_type": "code",
   "execution_count": 30,
   "id": "3949b66d-4043-498e-9c69-6d68136a069d",
   "metadata": {},
   "outputs": [],
   "source": [
    "tau_df = pd.read_csv(f'250127_{min_cpm}_{min_samples}_mage_population_mean_tau.tsv', sep='\\t')"
   ]
  },
  {
   "cell_type": "code",
   "execution_count": 31,
   "id": "5185cd71-833e-41cd-ab36-63c2efb15ca6",
   "metadata": {},
   "outputs": [
    {
     "data": {
      "text/plain": [
       "<seaborn.axisgrid.FacetGrid at 0x7fc072eae150>"
      ]
     },
     "execution_count": 31,
     "metadata": {},
     "output_type": "execute_result"
    },
    {
     "data": {
      "image/png": "[encoded data removed]",
      "text/plain": [
       "<Figure size 360x360 with 1 Axes>"
      ]
     },
     "metadata": {
      "needs_background": "light"
     },
     "output_type": "display_data"
    }
   ],
   "source": [
    "init_plot_settings(aspect='square')\n",
    "sns.displot(tau_df, x='tau', kind='hist')"
   ]
  },
  {
   "cell_type": "code",
   "execution_count": 32,
   "id": "f486fdb9-52ad-4b27-9c86-6888c77a23d1",
   "metadata": {},
   "outputs": [
    {
     "data": {
      "text/plain": [
       "<seaborn.axisgrid.FacetGrid at 0x7fc029796290>"
      ]
     },
     "execution_count": 32,
     "metadata": {},
     "output_type": "execute_result"
    },
    {
     "data": {
      "image/png": "[encoded data removed]",
      "text/plain": [
       "<Figure size 360x360 with 1 Axes>"
      ]
     },
     "metadata": {
      "needs_background": "light"
     },
     "output_type": "display_data"
    }
   ],
   "source": [
    "init_plot_settings(aspect='square')\n",
    "sns.displot(tau_df, x='tau', kind='kde')"
   ]
  },
  {
   "cell_type": "markdown",
   "id": "4489aefe-b1e8-492a-8768-8212801f4bb3",
   "metadata": {},
   "source": [
    "## get population-specific transcripts from PODER"
   ]
  },
  {
   "cell_type": "code",
   "execution_count": 33,
   "id": "2f61b674-025a-469d-90f1-538bafd2ebd3",
   "metadata": {},
   "outputs": [],
   "source": [
    "# plot tau value vs. population specific transcripts\n",
    "mt_df = pd.read_csv('../data/05_mastertable/poder_master_table_fixed_genics.tsv', sep='\\t')\n",
    "# mt_df = mt_df.loc[mt_df['filter']=='pass']\n",
    "mt_df['pop_spec_t'] = (mt_df.population_sharing==1)&\\\n",
    "                      (mt_df.sample_sharing>1)"
   ]
  },
  {
   "cell_type": "code",
   "execution_count": 34,
   "id": "f05dfbaa-89b2-4a40-81b3-3fea82c509a3",
   "metadata": {},
   "outputs": [],
   "source": [
    "tau_df = tau_df.merge(mt_df[['isoform', 'pop_spec_t']], \n",
    "                      how='left', \n",
    "                      left_on='tid',\n",
    "                      right_on='isoform')"
   ]
  },
  {
   "cell_type": "code",
   "execution_count": 35,
   "id": "a485df52-0009-4179-941e-af358f4597f0",
   "metadata": {},
   "outputs": [
    {
     "data": {
      "text/html": [
       "<div>\n",
       "<style scoped>\n",
       "    .dataframe tbody tr th:only-of-type {\n",
       "        vertical-align: middle;\n",
       "    }\n",
       "\n",
       "    .dataframe tbody tr th {\n",
       "        vertical-align: top;\n",
       "    }\n",
       "\n",
       "    .dataframe thead th {\n",
       "        text-align: right;\n",
       "    }\n",
       "</style>\n",
       "<table border=\"1\" class=\"dataframe\">\n",
       "  <thead>\n",
       "    <tr style=\"text-align: right;\">\n",
       "      <th></th>\n",
       "      <th>tid</th>\n",
       "      <th>tau</th>\n",
       "      <th>isoform</th>\n",
       "      <th>pop_spec_t</th>\n",
       "    </tr>\n",
       "  </thead>\n",
       "  <tbody>\n",
       "    <tr>\n",
       "      <th>0</th>\n",
       "      <td>ENST00000000233.10</td>\n",
       "      <td>0.014637</td>\n",
       "      <td>NaN</td>\n",
       "      <td>NaN</td>\n",
       "    </tr>\n",
       "    <tr>\n",
       "      <th>1</th>\n",
       "      <td>ENST00000000412.8</td>\n",
       "      <td>0.013598</td>\n",
       "      <td>NaN</td>\n",
       "      <td>NaN</td>\n",
       "    </tr>\n",
       "    <tr>\n",
       "      <th>2</th>\n",
       "      <td>ENST00000000442.11</td>\n",
       "      <td>0.012769</td>\n",
       "      <td>NaN</td>\n",
       "      <td>NaN</td>\n",
       "    </tr>\n",
       "    <tr>\n",
       "      <th>3</th>\n",
       "      <td>ENST00000001008.6</td>\n",
       "      <td>0.028120</td>\n",
       "      <td>NaN</td>\n",
       "      <td>NaN</td>\n",
       "    </tr>\n",
       "    <tr>\n",
       "      <th>4</th>\n",
       "      <td>ENST00000001146.7</td>\n",
       "      <td>0.413573</td>\n",
       "      <td>NaN</td>\n",
       "      <td>NaN</td>\n",
       "    </tr>\n",
       "  </tbody>\n",
       "</table>\n",
       "</div>"
      ],
      "text/plain": [
       "                  tid       tau isoform pop_spec_t\n",
       "0  ENST00000000233.10  0.014637     NaN        NaN\n",
       "1   ENST00000000412.8  0.013598     NaN        NaN\n",
       "2  ENST00000000442.11  0.012769     NaN        NaN\n",
       "3   ENST00000001008.6  0.028120     NaN        NaN\n",
       "4   ENST00000001146.7  0.413573     NaN        NaN"
      ]
     },
     "execution_count": 35,
     "metadata": {},
     "output_type": "execute_result"
    }
   ],
   "source": [
    "tau_df.head()"
   ]
  },
  {
   "cell_type": "code",
   "execution_count": 36,
   "id": "691e631d-1e72-4d60-8810-fe7d809cbe08",
   "metadata": {},
   "outputs": [
    {
     "data": {
      "text/html": [
       "<div>\n",
       "<style scoped>\n",
       "    .dataframe tbody tr th:only-of-type {\n",
       "        vertical-align: middle;\n",
       "    }\n",
       "\n",
       "    .dataframe tbody tr th {\n",
       "        vertical-align: top;\n",
       "    }\n",
       "\n",
       "    .dataframe thead th {\n",
       "        text-align: right;\n",
       "    }\n",
       "</style>\n",
       "<table border=\"1\" class=\"dataframe\">\n",
       "  <thead>\n",
       "    <tr style=\"text-align: right;\">\n",
       "      <th></th>\n",
       "      <th>tid</th>\n",
       "      <th>tau</th>\n",
       "      <th>isoform</th>\n",
       "      <th>pop_spec_t</th>\n",
       "    </tr>\n",
       "  </thead>\n",
       "  <tbody>\n",
       "    <tr>\n",
       "      <th>61</th>\n",
       "      <td>ENST00000010132.6</td>\n",
       "      <td>0.082240</td>\n",
       "      <td>ENST00000010132.6</td>\n",
       "      <td>False</td>\n",
       "    </tr>\n",
       "    <tr>\n",
       "      <th>80</th>\n",
       "      <td>ENST00000013894.3</td>\n",
       "      <td>0.171998</td>\n",
       "      <td>ENST00000013894.3</td>\n",
       "      <td>False</td>\n",
       "    </tr>\n",
       "    <tr>\n",
       "      <th>155</th>\n",
       "      <td>ENST00000075120.12</td>\n",
       "      <td>0.043303</td>\n",
       "      <td>ENST00000075120.12</td>\n",
       "      <td>False</td>\n",
       "    </tr>\n",
       "    <tr>\n",
       "      <th>172</th>\n",
       "      <td>ENST00000155093.8</td>\n",
       "      <td>0.258973</td>\n",
       "      <td>ENST00000155093.8</td>\n",
       "      <td>False</td>\n",
       "    </tr>\n",
       "    <tr>\n",
       "      <th>176</th>\n",
       "      <td>ENST00000156084.8</td>\n",
       "      <td>0.098634</td>\n",
       "      <td>ENST00000156084.8</td>\n",
       "      <td>False</td>\n",
       "    </tr>\n",
       "  </tbody>\n",
       "</table>\n",
       "</div>"
      ],
      "text/plain": [
       "                    tid       tau             isoform pop_spec_t\n",
       "61    ENST00000010132.6  0.082240   ENST00000010132.6      False\n",
       "80    ENST00000013894.3  0.171998   ENST00000013894.3      False\n",
       "155  ENST00000075120.12  0.043303  ENST00000075120.12      False\n",
       "172   ENST00000155093.8  0.258973   ENST00000155093.8      False\n",
       "176   ENST00000156084.8  0.098634   ENST00000156084.8      False"
      ]
     },
     "execution_count": 36,
     "metadata": {},
     "output_type": "execute_result"
    }
   ],
   "source": [
    "tau_df.loc[tau_df.pop_spec_t.notnull()].head()"
   ]
  },
  {
   "cell_type": "code",
   "execution_count": 41,
   "id": "15898c6e-c0b8-4b9e-99ba-b82bbcbe7113",
   "metadata": {},
   "outputs": [],
   "source": [
    "tau_df['tau_pop_spec_t'] = tau_df.tau>=0.8"
   ]
  },
  {
   "cell_type": "code",
   "execution_count": 42,
   "id": "58fbbb7c-dcce-41ce-aa79-601091aeb11f",
   "metadata": {},
   "outputs": [
    {
     "data": {
      "text/html": [
       "<div>\n",
       "<style scoped>\n",
       "    .dataframe tbody tr th:only-of-type {\n",
       "        vertical-align: middle;\n",
       "    }\n",
       "\n",
       "    .dataframe tbody tr th {\n",
       "        vertical-align: top;\n",
       "    }\n",
       "\n",
       "    .dataframe thead th {\n",
       "        text-align: right;\n",
       "    }\n",
       "</style>\n",
       "<table border=\"1\" class=\"dataframe\">\n",
       "  <thead>\n",
       "    <tr style=\"text-align: right;\">\n",
       "      <th></th>\n",
       "      <th></th>\n",
       "      <th>tid</th>\n",
       "    </tr>\n",
       "    <tr>\n",
       "      <th>pop_spec_t</th>\n",
       "      <th>tau_pop_spec_t</th>\n",
       "      <th></th>\n",
       "    </tr>\n",
       "  </thead>\n",
       "  <tbody>\n",
       "    <tr>\n",
       "      <th rowspan=\"2\" valign=\"top\">False</th>\n",
       "      <th>False</th>\n",
       "      <td>49495</td>\n",
       "    </tr>\n",
       "    <tr>\n",
       "      <th>True</th>\n",
       "      <td>1066</td>\n",
       "    </tr>\n",
       "    <tr>\n",
       "      <th rowspan=\"2\" valign=\"top\">True</th>\n",
       "      <th>False</th>\n",
       "      <td>805</td>\n",
       "    </tr>\n",
       "    <tr>\n",
       "      <th>True</th>\n",
       "      <td>46</td>\n",
       "    </tr>\n",
       "    <tr>\n",
       "      <th rowspan=\"2\" valign=\"top\">Absent from PODER</th>\n",
       "      <th>False</th>\n",
       "      <td>246055</td>\n",
       "    </tr>\n",
       "    <tr>\n",
       "      <th>True</th>\n",
       "      <td>87480</td>\n",
       "    </tr>\n",
       "  </tbody>\n",
       "</table>\n",
       "</div>"
      ],
      "text/plain": [
       "                                     tid\n",
       "pop_spec_t        tau_pop_spec_t        \n",
       "False             False            49495\n",
       "                  True              1066\n",
       "True              False              805\n",
       "                  True                46\n",
       "Absent from PODER False           246055\n",
       "                  True             87480"
      ]
     },
     "execution_count": 42,
     "metadata": {},
     "output_type": "execute_result"
    }
   ],
   "source": [
    "tau_df[['tau_pop_spec_t',\n",
    "        'pop_spec_t', 'tid']].groupby(['pop_spec_t',\n",
    "                                       'tau_pop_spec_t']).nunique()"
   ]
  },
  {
   "cell_type": "code",
   "execution_count": 37,
   "id": "26479f80-9d9d-40f3-bfe5-93c1e45fb1c4",
   "metadata": {},
   "outputs": [],
   "source": [
    "tau_df['pop_spec_t'] = tau_df['pop_spec_t'].fillna('Absent from PODER') # these are the transcripts that are in GENCODE but not in our anotation"
   ]
  },
  {
   "cell_type": "code",
   "execution_count": 38,
   "id": "8c48f8b4-3383-4692-83dc-15d56cfb61ef",
   "metadata": {},
   "outputs": [
    {
     "data": {
      "text/plain": [
       "<matplotlib.lines.Line2D at 0x7fc1b922ea90>"
      ]
     },
     "execution_count": 38,
     "metadata": {},
     "output_type": "execute_result"
    },
    {
     "data": {
      "image/png": "[encoded data removed]",
      "text/plain": [
       "<Figure size 585.235x360 with 1 Axes>"
      ]
     },
     "metadata": {
      "needs_background": "light"
     },
     "output_type": "display_data"
    }
   ],
   "source": [
    "ax = sns.displot(tau_df, x='tau', hue='pop_spec_t', kind='kde',\n",
    "            common_norm=False)\n",
    "plt.axvline(0.8, color='k', linestyle='--')"
   ]
  },
  {
   "cell_type": "code",
   "execution_count": 39,
   "id": "3054c2c1-b08d-49dc-9048-bcc086e3eb47",
   "metadata": {},
   "outputs": [
    {
     "data": {
      "text/plain": [
       "<matplotlib.lines.Line2D at 0x7fc02979e890>"
      ]
     },
     "execution_count": 39,
     "metadata": {},
     "output_type": "execute_result"
    },
    {
     "data": {
      "image/png": "[encoded data removed]",
      "text/plain": [
       "<Figure size 360x360 with 1 Axes>"
      ]
     },
     "metadata": {
      "needs_background": "light"
     },
     "output_type": "display_data"
    }
   ],
   "source": [
    "ax = sns.violinplot(tau_df, y='tau', x='pop_spec_t')\n",
    "plt.axhline(0.8, color='k', linestyle='--')"
   ]
  },
  {
   "cell_type": "code",
   "execution_count": 40,
   "id": "696e1538-723d-49b6-ac38-f469ae197950",
   "metadata": {},
   "outputs": [
    {
     "name": "stdout",
     "output_type": "stream",
     "text": [
      "Hypoth: Absent from PODER transcripts tau > false pop-spec. disc. transcripts\n",
      "Wilcoxon Rank Sum Test Statistic: 165.63479257119968\n",
      "P-value: 0.0\n",
      "\n",
      "Hypoth: True transcripts tau > false pop-spec. disc. transcripts\n",
      "Wilcoxon Rank Sum Test Statistic: 11.440308463599727\n",
      "P-value: 1.3147448453267717e-30\n",
      "\n"
     ]
    }
   ],
   "source": [
    "# first, wilcoxon\n",
    " \n",
    "# hypotheses are that absent transcripts, and pop_spec transcritps have higher tau values than non-pop-spec\n",
    "\n",
    "for higher_cat in ['Absent from PODER', True]:\n",
    "    # Split the data based on \"pop_spec_t\"\n",
    "    x = tau_df[tau_df['pop_spec_t'] == higher_cat]['tau'] # these should be higher\n",
    "    y = tau_df[tau_df['pop_spec_t'] == False]['tau'] # these should be lower\n",
    "\n",
    "    # alt hypothesis is that y > x or x < y\n",
    "\n",
    "    # ‘two-sided’: one of the distributions (underlying x or y) is stochastically greater than the other.\n",
    "\n",
    "    # ‘less’:  x < y.\n",
    "\n",
    "    # ‘greater’:  x > y.\n",
    "\n",
    "    # do the test\n",
    "    stat, p_value = st.ranksums(x, y,\n",
    "                                alternative='greater')\n",
    "\n",
    "\n",
    "    print(f'Hypoth: {higher_cat} transcripts tau > false pop-spec. disc. transcripts')\n",
    "    print(f'Wilcoxon Rank Sum Test Statistic: {stat}')\n",
    "    print(f'P-value: {p_value}')\n",
    "    print()"
   ]
  },
  {
   "cell_type": "code",
   "execution_count": 45,
   "id": "637bb75c-d3d7-4576-a4cd-6484b832bb74",
   "metadata": {},
   "outputs": [
    {
     "name": "stdout",
     "output_type": "stream",
     "text": [
      "Hypoth: Absent from PODER transcripts are enriched in pop-spec called by expression\n",
      "Odds Ratio: 16.50747710694649\n",
      "P-value: 0.0\n",
      "\n",
      "Hypoth: True transcripts are enriched in pop-spec called by expression\n",
      "Odds Ratio: 2.6531760922004826\n",
      "P-value: 2.0673072274775012e-08\n",
      "\n"
     ]
    }
   ],
   "source": [
    "## Fischer's exact test\n",
    "# hypotheses are that absent transcripts and pop-spec disc. transcripts\n",
    "# are enriched for pop-spec tau values in mage\n",
    "\n",
    "for higher_cat in ['Absent from PODER', True]:\n",
    "    temp = tau_df.loc[tau_df.pop_spec_t.isin([higher_cat, False])]\n",
    "\n",
    "    temp = temp[['tau_pop_spec_t',\n",
    "            'pop_spec_t', 'tid']].groupby(['pop_spec_t',\n",
    "                                           'tau_pop_spec_t']).nunique().reset_index()\n",
    "\n",
    "    temp.head()\n",
    "    temp = temp.pivot(index='tau_pop_spec_t',\n",
    "                      values = 'tid',\n",
    "                      columns = 'pop_spec_t')\n",
    "    temp = temp.values\n",
    "    temp\n",
    "    # Perform Fisher's Exact Test\n",
    "    odds_ratio, p_value = st.fisher_exact(temp, alternative='greater')\n",
    "\n",
    "\n",
    "    # # get the CI of these results\n",
    "    # result = st.contingency.odds_ratio(temp, kind='conditional')\n",
    "    # odds_ratio_value = result.statistic\n",
    "    # confidence_interval = result.confidence_interval(confidence_level=0.95)\n",
    "\n",
    "    print(f'Hypoth: {higher_cat} transcripts are enriched in pop-spec called by expression')\n",
    "    print(\"Odds Ratio:\", odds_ratio)\n",
    "    print(\"P-value:\", p_value)\n",
    "    print()\n",
    "    # print(\"Conditional Odds Ratio:\", odds_ratio_value)\n",
    "    # print(\"95% Confidence Interval:\", confidence_interval)"
   ]
  },
  {
   "cell_type": "code",
   "execution_count": null,
   "id": "3705e214-3fdf-41a7-9b5c-1d5ff5dd228b",
   "metadata": {},
   "outputs": [],
   "source": []
  }
 ],
 "metadata": {
  "kernelspec": {
   "display_name": "Python 3",
   "language": "python",
   "name": "python3"
  },
  "language_info": {
   "codemirror_mode": {
    "name": "ipython",
    "version": 3
   },
   "file_extension": ".py",
   "mimetype": "text/x-python",
   "name": "python",
   "nbconvert_exporter": "python",
   "pygments_lexer": "ipython3",
   "version": "3.7.12"
  }
 },
 "nbformat": 4,
 "nbformat_minor": 5
}
