{
 "cells": [
  {
   "cell_type": "markdown",
   "id": "1cc5aace-28ac-4eab-b705-861ba47e1bd8",
   "metadata": {},
   "source": [
    "## Compute Tau values for MAGE data and call either population or continent-specific transcripts. Overlap w/ our pop-specific transcritps."
   ]
  },
  {
   "cell_type": "code",
   "execution_count": 1,
   "id": "c22ecd8c-098f-4a9e-9acd-2b7b73375a13",
   "metadata": {},
   "outputs": [],
   "source": [
    "import pandas as pd\n",
    "import numpy as np\n",
    "import scipy.stats as st\n",
    "import seaborn as sns\n",
    "import sys\n",
    "import os\n",
    "import matplotlib.pyplot as plt\n",
    "import swan_vis as swan\n",
    "import yaml\n",
    "from snakemake.io import expand\n",
    "import cerberus\n",
    "import pyranges as pr\n",
    "import upsetplot\n",
    "\n",
    "p = os.path.dirname(os.getcwd())\n",
    "sys.path.append(p)\n",
    "\n",
    "from scripts.utils import *\n",
    "from scripts.vcf_utils import *\n",
    "from scripts.plotting import *"
   ]
  },
  {
   "cell_type": "code",
   "execution_count": 2,
   "id": "be1dcf2e-03dd-4bae-b016-caf131205c3c",
   "metadata": {},
   "outputs": [],
   "source": [
    "config = load_config()\n",
    "od = '../'\n",
    "\n",
    "def proc_cfg(entry, od):\n",
    "    entry = entry.replace('../../', '')\n",
    "    entry = od+entry\n",
    "    return entry"
   ]
  },
  {
   "cell_type": "code",
   "execution_count": 3,
   "id": "9dc19d77-0463-45bc-8de1-456d819edd88",
   "metadata": {},
   "outputs": [],
   "source": [
    "def compute_tau(df):\n",
    "    \"\"\"\n",
    "    Compute tissue-specificity index for an abundance matrix output\n",
    "    from `get_tpm_table`.\n",
    "    \"\"\"\n",
    "    # number of samples \n",
    "    n = len(df.columns)\n",
    "    print(f'Found {n} samples')\n",
    "    \n",
    "    # df.replace([np.inf, -np.inf], np.nan, inplace=True)\n",
    "    \n",
    "    # get max of TPM for transcript across samples\n",
    "    temp = df.max(axis=1)\n",
    "    temp_ind = temp.index.tolist()\n",
    "\n",
    "    df = df.transpose()\n",
    "    df_ind = df.columns.tolist()\n",
    "    assert df_ind==temp_ind\n",
    "\n",
    "    # compute x-hat (TPM / max TPM across tissues)\n",
    "    x_hat = df/temp\n",
    "    \n",
    "    # compute (1-x-hat) \n",
    "    x_hat = 1-x_hat\n",
    "\n",
    "    # compute sum across tissues\n",
    "    x_hat = x_hat.transpose()\n",
    "    x_hat['sum'] = x_hat.sum(axis=1)\n",
    "    \n",
    "    # compute tau for each transcript\n",
    "    x_hat['tau'] = x_hat['sum']/n\n",
    "    tau_df = x_hat[['tau']]\n",
    "    \n",
    "    return tau_df"
   ]
  },
  {
   "cell_type": "code",
   "execution_count": 4,
   "id": "c32a40cd-9cc9-4df0-9f5b-20c889c564d0",
   "metadata": {},
   "outputs": [
    {
     "data": {
      "text/html": [
       "<div>\n",
       "<style scoped>\n",
       "    .dataframe tbody tr th:only-of-type {\n",
       "        vertical-align: middle;\n",
       "    }\n",
       "\n",
       "    .dataframe tbody tr th {\n",
       "        vertical-align: top;\n",
       "    }\n",
       "\n",
       "    .dataframe thead th {\n",
       "        text-align: right;\n",
       "    }\n",
       "</style>\n",
       "<table border=\"1\" class=\"dataframe\">\n",
       "  <thead>\n",
       "    <tr style=\"text-align: right;\">\n",
       "      <th></th>\n",
       "      <th>sampleId</th>\n",
       "      <th>indId</th>\n",
       "      <th>group</th>\n",
       "      <th>batch</th>\n",
       "      <th>sex</th>\n",
       "      <th>pop</th>\n",
       "      <th>continent</th>\n",
       "      <th>experiment_alias</th>\n",
       "    </tr>\n",
       "  </thead>\n",
       "  <tbody>\n",
       "    <tr>\n",
       "      <th>0</th>\n",
       "      <td>NA19704</td>\n",
       "      <td>NA19704</td>\n",
       "      <td>1</td>\n",
       "      <td>batch11</td>\n",
       "      <td>female</td>\n",
       "      <td>ASW</td>\n",
       "      <td>AFR</td>\n",
       "      <td>NA19704_batch11_rep1</td>\n",
       "    </tr>\n",
       "    <tr>\n",
       "      <th>1</th>\n",
       "      <td>NA19332</td>\n",
       "      <td>NA19332</td>\n",
       "      <td>1</td>\n",
       "      <td>batch14</td>\n",
       "      <td>female</td>\n",
       "      <td>LWK</td>\n",
       "      <td>AFR</td>\n",
       "      <td>NA19332_batch14_rep1</td>\n",
       "    </tr>\n",
       "    <tr>\n",
       "      <th>2</th>\n",
       "      <td>NA19317</td>\n",
       "      <td>NA19317</td>\n",
       "      <td>1</td>\n",
       "      <td>batch15</td>\n",
       "      <td>male</td>\n",
       "      <td>LWK</td>\n",
       "      <td>AFR</td>\n",
       "      <td>NA19317_batch15_rep1</td>\n",
       "    </tr>\n",
       "    <tr>\n",
       "      <th>3</th>\n",
       "      <td>NA19312</td>\n",
       "      <td>NA19312</td>\n",
       "      <td>1</td>\n",
       "      <td>batch05</td>\n",
       "      <td>male</td>\n",
       "      <td>LWK</td>\n",
       "      <td>AFR</td>\n",
       "      <td>NA19312_batch05_rep1</td>\n",
       "    </tr>\n",
       "    <tr>\n",
       "      <th>4</th>\n",
       "      <td>NA19323</td>\n",
       "      <td>NA19323</td>\n",
       "      <td>1</td>\n",
       "      <td>batch11</td>\n",
       "      <td>female</td>\n",
       "      <td>LWK</td>\n",
       "      <td>AFR</td>\n",
       "      <td>NA19323_batch11_rep1</td>\n",
       "    </tr>\n",
       "  </tbody>\n",
       "</table>\n",
       "</div>"
      ],
      "text/plain": [
       "  sampleId    indId  group    batch     sex  pop continent  \\\n",
       "0  NA19704  NA19704      1  batch11  female  ASW       AFR   \n",
       "1  NA19332  NA19332      1  batch14  female  LWK       AFR   \n",
       "2  NA19317  NA19317      1  batch15    male  LWK       AFR   \n",
       "3  NA19312  NA19312      1  batch05    male  LWK       AFR   \n",
       "4  NA19323  NA19323      1  batch11  female  LWK       AFR   \n",
       "\n",
       "       experiment_alias  \n",
       "0  NA19704_batch11_rep1  \n",
       "1  NA19332_batch14_rep1  \n",
       "2  NA19317_batch15_rep1  \n",
       "3  NA19312_batch05_rep1  \n",
       "4  NA19323_batch11_rep1  "
      ]
     },
     "execution_count": 4,
     "metadata": {},
     "output_type": "execute_result"
    }
   ],
   "source": [
    "# metadata \n",
    "# metadata \n",
    "# get sampleId, indId, group, batch, run from metadata tables\n",
    "meta_file = '../snakemake/mage/filereport_read_run_PRJNA851328_tsv.txt'\n",
    "meta = pd.read_csv(meta_file, sep='\\t')\n",
    "\n",
    "meta['sampleId'] = meta['indId'] = meta.experiment_alias.str.split('_', expand=True)[0]\n",
    "meta['batch'] = meta.experiment_alias.str.split('_', expand=True)[1]\n",
    "\n",
    "\n",
    "meta_file = '../snakemake/mage/sample_metadata_parsed.tsv'\n",
    "df2 = pd.read_csv(meta_file, sep=' ', header=None)\n",
    "df2.columns = ['sampleId', 'pop', 'continent', 'sex', 'sth', 'sth2']\n",
    "\n",
    "meta = meta.merge(df2, how='left',\n",
    "              on='sampleId')\n",
    "meta['group'] = 1 # all the same group because we don't want to call sqtls separately for anything\n",
    "meta[['sampleId', 'indId', 'group', 'batch', 'sex', 'pop', 'continent', 'experiment_alias']].head()"
   ]
  },
  {
   "cell_type": "markdown",
   "id": "78b477f7-cca1-4faa-a5b7-a23ca0c1329c",
   "metadata": {},
   "source": [
    "## Compute Tau in MAGE (population)"
   ]
  },
  {
   "cell_type": "code",
   "execution_count": 7,
   "id": "6b50ec84-c3e4-4ec7-86b2-5562a3d5eefc",
   "metadata": {},
   "outputs": [],
   "source": [
    "# enhanced gencode\n",
    "df = pd.read_csv('../data/mage/poder_kallisto/matrix.abundance.tsv', sep='\\t')\n",
    "df.rename({'transcript_id':'tid'},axis=1, inplace=True)\n",
    "df.set_index('tid', inplace=True)"
   ]
  },
  {
   "cell_type": "code",
   "execution_count": 8,
   "id": "2dd44ba2-e681-4fca-814e-c34214119d0d",
   "metadata": {},
   "outputs": [
    {
     "name": "stdout",
     "output_type": "stream",
     "text": [
      "155875\n",
      "155230\n"
     ]
    }
   ],
   "source": [
    "# filter things to keep to compute Tau for\n",
    "# https://academic.oup.com/bib/article/18/2/205/2562739\n",
    "# min_cpm = 0.1\n",
    "min_cpm = 1\n",
    "min_samples = 1\n",
    "\n",
    "# set all transcripts w/ expression <1 CPM --> 0\n",
    "df[df < min_cpm] = 0\n",
    "\n",
    "# remove all genes that are not expressed in at least one tissue\n",
    "# the text must be wrong here because how can we filter \n",
    "# after log normalization for CPM >=1?\n",
    "print(len(df.index))\n",
    "df = df.loc[(df>=min_cpm).sum(axis=1)>=min_samples]\n",
    "print(len(df.index))\n",
    "\n",
    "# log-transform data and add 1 pseudocount\n",
    "df = np.log2(df+1)"
   ]
  },
  {
   "cell_type": "code",
   "execution_count": 9,
   "id": "85b03818-8870-479b-9923-39c6d9e1c08d",
   "metadata": {},
   "outputs": [
    {
     "data": {
      "text/html": [
       "<div>\n",
       "<style scoped>\n",
       "    .dataframe tbody tr th:only-of-type {\n",
       "        vertical-align: middle;\n",
       "    }\n",
       "\n",
       "    .dataframe tbody tr th {\n",
       "        vertical-align: top;\n",
       "    }\n",
       "\n",
       "    .dataframe thead th {\n",
       "        text-align: right;\n",
       "    }\n",
       "</style>\n",
       "<table border=\"1\" class=\"dataframe\">\n",
       "  <thead>\n",
       "    <tr style=\"text-align: right;\">\n",
       "      <th></th>\n",
       "      <th>ACB</th>\n",
       "      <th>ASW</th>\n",
       "      <th>BEB</th>\n",
       "      <th>CDX</th>\n",
       "      <th>CEU</th>\n",
       "      <th>CHB</th>\n",
       "      <th>CHS</th>\n",
       "      <th>CLM</th>\n",
       "      <th>ESN</th>\n",
       "      <th>FIN</th>\n",
       "      <th>...</th>\n",
       "      <th>KHV</th>\n",
       "      <th>LWK</th>\n",
       "      <th>MSL</th>\n",
       "      <th>MXL</th>\n",
       "      <th>PEL</th>\n",
       "      <th>PJL</th>\n",
       "      <th>PUR</th>\n",
       "      <th>STU</th>\n",
       "      <th>TSI</th>\n",
       "      <th>YRI</th>\n",
       "    </tr>\n",
       "  </thead>\n",
       "  <tbody>\n",
       "    <tr>\n",
       "      <th>ENST00000010132.6</th>\n",
       "      <td>4.606798</td>\n",
       "      <td>4.715326</td>\n",
       "      <td>3.942034</td>\n",
       "      <td>4.553029</td>\n",
       "      <td>4.534779</td>\n",
       "      <td>4.833937</td>\n",
       "      <td>4.057397</td>\n",
       "      <td>4.263926</td>\n",
       "      <td>4.746702</td>\n",
       "      <td>4.188297</td>\n",
       "      <td>...</td>\n",
       "      <td>4.011795</td>\n",
       "      <td>4.858107</td>\n",
       "      <td>4.890173</td>\n",
       "      <td>4.697094</td>\n",
       "      <td>4.851644</td>\n",
       "      <td>4.956123</td>\n",
       "      <td>4.213273</td>\n",
       "      <td>4.950100</td>\n",
       "      <td>4.532337</td>\n",
       "      <td>4.751172</td>\n",
       "    </tr>\n",
       "    <tr>\n",
       "      <th>ENST00000013894.3</th>\n",
       "      <td>2.138115</td>\n",
       "      <td>2.113123</td>\n",
       "      <td>2.318716</td>\n",
       "      <td>1.957901</td>\n",
       "      <td>1.670014</td>\n",
       "      <td>2.399553</td>\n",
       "      <td>2.345971</td>\n",
       "      <td>2.659435</td>\n",
       "      <td>2.484787</td>\n",
       "      <td>2.359563</td>\n",
       "      <td>...</td>\n",
       "      <td>2.406762</td>\n",
       "      <td>2.528307</td>\n",
       "      <td>2.842165</td>\n",
       "      <td>2.271695</td>\n",
       "      <td>2.545637</td>\n",
       "      <td>2.126250</td>\n",
       "      <td>2.312493</td>\n",
       "      <td>2.625532</td>\n",
       "      <td>2.260684</td>\n",
       "      <td>2.396051</td>\n",
       "    </tr>\n",
       "    <tr>\n",
       "      <th>ENST00000075120.12</th>\n",
       "      <td>11.198226</td>\n",
       "      <td>10.886534</td>\n",
       "      <td>11.526728</td>\n",
       "      <td>11.494778</td>\n",
       "      <td>10.500350</td>\n",
       "      <td>11.529458</td>\n",
       "      <td>11.546166</td>\n",
       "      <td>11.512626</td>\n",
       "      <td>11.224656</td>\n",
       "      <td>11.244556</td>\n",
       "      <td>...</td>\n",
       "      <td>11.679175</td>\n",
       "      <td>11.129600</td>\n",
       "      <td>11.110181</td>\n",
       "      <td>11.318014</td>\n",
       "      <td>11.659387</td>\n",
       "      <td>11.288696</td>\n",
       "      <td>11.495247</td>\n",
       "      <td>11.325327</td>\n",
       "      <td>11.075188</td>\n",
       "      <td>10.815553</td>\n",
       "    </tr>\n",
       "    <tr>\n",
       "      <th>ENST00000155093.8</th>\n",
       "      <td>4.968452</td>\n",
       "      <td>3.193618</td>\n",
       "      <td>3.631482</td>\n",
       "      <td>3.103534</td>\n",
       "      <td>3.225653</td>\n",
       "      <td>4.338551</td>\n",
       "      <td>4.714133</td>\n",
       "      <td>3.757941</td>\n",
       "      <td>4.245798</td>\n",
       "      <td>5.218466</td>\n",
       "      <td>...</td>\n",
       "      <td>2.918403</td>\n",
       "      <td>4.455855</td>\n",
       "      <td>3.674542</td>\n",
       "      <td>4.084179</td>\n",
       "      <td>3.660468</td>\n",
       "      <td>3.441799</td>\n",
       "      <td>3.630896</td>\n",
       "      <td>3.891191</td>\n",
       "      <td>4.662668</td>\n",
       "      <td>3.716456</td>\n",
       "    </tr>\n",
       "    <tr>\n",
       "      <th>ENST00000156084.8</th>\n",
       "      <td>5.894066</td>\n",
       "      <td>5.636659</td>\n",
       "      <td>6.727707</td>\n",
       "      <td>6.198356</td>\n",
       "      <td>5.075342</td>\n",
       "      <td>5.861227</td>\n",
       "      <td>5.991725</td>\n",
       "      <td>6.382440</td>\n",
       "      <td>5.971821</td>\n",
       "      <td>6.458669</td>\n",
       "      <td>...</td>\n",
       "      <td>5.281643</td>\n",
       "      <td>6.147742</td>\n",
       "      <td>5.984298</td>\n",
       "      <td>5.797167</td>\n",
       "      <td>6.683708</td>\n",
       "      <td>6.562064</td>\n",
       "      <td>6.470532</td>\n",
       "      <td>5.996012</td>\n",
       "      <td>5.883356</td>\n",
       "      <td>6.186450</td>\n",
       "    </tr>\n",
       "  </tbody>\n",
       "</table>\n",
       "<p>5 rows × 26 columns</p>\n",
       "</div>"
      ],
      "text/plain": [
       "                          ACB        ASW        BEB        CDX        CEU  \\\n",
       "ENST00000010132.6    4.606798   4.715326   3.942034   4.553029   4.534779   \n",
       "ENST00000013894.3    2.138115   2.113123   2.318716   1.957901   1.670014   \n",
       "ENST00000075120.12  11.198226  10.886534  11.526728  11.494778  10.500350   \n",
       "ENST00000155093.8    4.968452   3.193618   3.631482   3.103534   3.225653   \n",
       "ENST00000156084.8    5.894066   5.636659   6.727707   6.198356   5.075342   \n",
       "\n",
       "                          CHB        CHS        CLM        ESN        FIN  \\\n",
       "ENST00000010132.6    4.833937   4.057397   4.263926   4.746702   4.188297   \n",
       "ENST00000013894.3    2.399553   2.345971   2.659435   2.484787   2.359563   \n",
       "ENST00000075120.12  11.529458  11.546166  11.512626  11.224656  11.244556   \n",
       "ENST00000155093.8    4.338551   4.714133   3.757941   4.245798   5.218466   \n",
       "ENST00000156084.8    5.861227   5.991725   6.382440   5.971821   6.458669   \n",
       "\n",
       "                    ...        KHV        LWK        MSL        MXL  \\\n",
       "ENST00000010132.6   ...   4.011795   4.858107   4.890173   4.697094   \n",
       "ENST00000013894.3   ...   2.406762   2.528307   2.842165   2.271695   \n",
       "ENST00000075120.12  ...  11.679175  11.129600  11.110181  11.318014   \n",
       "ENST00000155093.8   ...   2.918403   4.455855   3.674542   4.084179   \n",
       "ENST00000156084.8   ...   5.281643   6.147742   5.984298   5.797167   \n",
       "\n",
       "                          PEL        PJL        PUR        STU        TSI  \\\n",
       "ENST00000010132.6    4.851644   4.956123   4.213273   4.950100   4.532337   \n",
       "ENST00000013894.3    2.545637   2.126250   2.312493   2.625532   2.260684   \n",
       "ENST00000075120.12  11.659387  11.288696  11.495247  11.325327  11.075188   \n",
       "ENST00000155093.8    3.660468   3.441799   3.630896   3.891191   4.662668   \n",
       "ENST00000156084.8    6.683708   6.562064   6.470532   5.996012   5.883356   \n",
       "\n",
       "                          YRI  \n",
       "ENST00000010132.6    4.751172  \n",
       "ENST00000013894.3    2.396051  \n",
       "ENST00000075120.12  10.815553  \n",
       "ENST00000155093.8    3.716456  \n",
       "ENST00000156084.8    6.186450  \n",
       "\n",
       "[5 rows x 26 columns]"
      ]
     },
     "execution_count": 9,
     "metadata": {},
     "output_type": "execute_result"
    }
   ],
   "source": [
    "# get the median expression value across samples from the same populations\n",
    "# using the median because we want to remove the effect \n",
    "# of individual samples expression patterns on the analysis\n",
    "df = df.transpose()\n",
    "df.reset_index(inplace=True)\n",
    "df.rename({'index':'experiment_alias'}, axis=1, inplace=True)\n",
    "df = df.merge(meta[['experiment_alias', 'pop']], \n",
    "              how='left', on='experiment_alias')\n",
    "# df = df.groupby('population').median().reset_index()\n",
    "df = df.groupby('pop').mean().reset_index()\n",
    "df.set_index('pop', inplace=True)\n",
    "df.index.name = ''\n",
    "df = df.transpose()\n",
    "df.head()"
   ]
  },
  {
   "cell_type": "code",
   "execution_count": 10,
   "id": "39d1b9e1-a66b-4ff6-9bcc-0659207aa32b",
   "metadata": {},
   "outputs": [
    {
     "name": "stdout",
     "output_type": "stream",
     "text": [
      "Found 26 samples\n"
     ]
    },
    {
     "data": {
      "text/html": [
       "<div>\n",
       "<style scoped>\n",
       "    .dataframe tbody tr th:only-of-type {\n",
       "        vertical-align: middle;\n",
       "    }\n",
       "\n",
       "    .dataframe tbody tr th {\n",
       "        vertical-align: top;\n",
       "    }\n",
       "\n",
       "    .dataframe thead th {\n",
       "        text-align: right;\n",
       "    }\n",
       "</style>\n",
       "<table border=\"1\" class=\"dataframe\">\n",
       "  <thead>\n",
       "    <tr style=\"text-align: right;\">\n",
       "      <th></th>\n",
       "      <th>tau</th>\n",
       "    </tr>\n",
       "    <tr>\n",
       "      <th>tid</th>\n",
       "      <th></th>\n",
       "    </tr>\n",
       "  </thead>\n",
       "  <tbody>\n",
       "    <tr>\n",
       "      <th>ENST00000010132.6</th>\n",
       "      <td>0.080575</td>\n",
       "    </tr>\n",
       "    <tr>\n",
       "      <th>ENST00000013894.3</th>\n",
       "      <td>0.176715</td>\n",
       "    </tr>\n",
       "    <tr>\n",
       "      <th>ENST00000075120.12</th>\n",
       "      <td>0.037998</td>\n",
       "    </tr>\n",
       "    <tr>\n",
       "      <th>ENST00000155093.8</th>\n",
       "      <td>0.253669</td>\n",
       "    </tr>\n",
       "    <tr>\n",
       "      <th>ENST00000156084.8</th>\n",
       "      <td>0.101522</td>\n",
       "    </tr>\n",
       "  </tbody>\n",
       "</table>\n",
       "</div>"
      ],
      "text/plain": [
       "                         tau\n",
       "tid                         \n",
       "ENST00000010132.6   0.080575\n",
       "ENST00000013894.3   0.176715\n",
       "ENST00000075120.12  0.037998\n",
       "ENST00000155093.8   0.253669\n",
       "ENST00000156084.8   0.101522"
      ]
     },
     "execution_count": 10,
     "metadata": {},
     "output_type": "execute_result"
    }
   ],
   "source": [
    "tau_df = compute_tau(df)\n",
    "tau_df.index.name = 'tid'\n",
    "tau_df.head()"
   ]
  },
  {
   "cell_type": "code",
   "execution_count": 11,
   "id": "85bf73c3-30bd-4a15-ae64-616df48037f5",
   "metadata": {},
   "outputs": [],
   "source": [
    "tau_df.to_csv(f'250127_{min_cpm}_{min_samples}_mage_population_mean_tau.tsv', sep='\\t')"
   ]
  },
  {
   "cell_type": "code",
   "execution_count": 12,
   "id": "3949b66d-4043-498e-9c69-6d68136a069d",
   "metadata": {},
   "outputs": [],
   "source": [
    "tau_df = pd.read_csv(f'250127_{min_cpm}_{min_samples}_mage_population_mean_tau.tsv', sep='\\t')"
   ]
  },
  {
   "cell_type": "code",
   "execution_count": 13,
   "id": "5185cd71-833e-41cd-ab36-63c2efb15ca6",
   "metadata": {},
   "outputs": [
    {
     "data": {
      "text/plain": [
       "<seaborn.axisgrid.FacetGrid at 0x7f81f88fe050>"
      ]
     },
     "execution_count": 13,
     "metadata": {},
     "output_type": "execute_result"
    },
    {
     "data": {
      "image/png": "[encoded data removed]",
      "text/plain": [
       "<Figure size 360x360 with 1 Axes>"
      ]
     },
     "metadata": {
      "needs_background": "light"
     },
     "output_type": "display_data"
    }
   ],
   "source": [
    "init_plot_settings(aspect='square')\n",
    "sns.displot(tau_df, x='tau', kind='hist')"
   ]
  },
  {
   "cell_type": "code",
   "execution_count": 14,
   "id": "f486fdb9-52ad-4b27-9c86-6888c77a23d1",
   "metadata": {},
   "outputs": [
    {
     "data": {
      "text/plain": [
       "<seaborn.axisgrid.FacetGrid at 0x7f820b778dd0>"
      ]
     },
     "execution_count": 14,
     "metadata": {},
     "output_type": "execute_result"
    },
    {
     "data": {
      "image/png": "[encoded data removed]",
      "text/plain": [
       "<Figure size 360x360 with 1 Axes>"
      ]
     },
     "metadata": {
      "needs_background": "light"
     },
     "output_type": "display_data"
    }
   ],
   "source": [
    "init_plot_settings(aspect='square')\n",
    "sns.displot(tau_df, x='tau', kind='kde')"
   ]
  },
  {
   "cell_type": "markdown",
   "id": "4489aefe-b1e8-492a-8768-8212801f4bb3",
   "metadata": {},
   "source": [
    "## get population-specific transcripts from PODER"
   ]
  },
  {
   "cell_type": "code",
   "execution_count": 15,
   "id": "2f61b674-025a-469d-90f1-538bafd2ebd3",
   "metadata": {},
   "outputs": [],
   "source": [
    "# plot tau value vs. population specific transcripts\n",
    "mt_df = pd.read_csv('../data/05_mastertable/poder_master_table_fixed_genics.tsv', sep='\\t')\n",
    "# mt_df = mt_df.loc[mt_df['filter']=='pass']\n",
    "mt_df['pop_spec_t'] = (mt_df.population_sharing==1)&\\\n",
    "                      (mt_df.sample_sharing>1)"
   ]
  },
  {
   "cell_type": "code",
   "execution_count": 16,
   "id": "f05dfbaa-89b2-4a40-81b3-3fea82c509a3",
   "metadata": {},
   "outputs": [],
   "source": [
    "tau_df = tau_df.merge(mt_df[['isoform', 'pop_spec_t']], \n",
    "                      how='left', \n",
    "                      left_on='tid',\n",
    "                      right_on='isoform')"
   ]
  },
  {
   "cell_type": "code",
   "execution_count": 17,
   "id": "a485df52-0009-4179-941e-af358f4597f0",
   "metadata": {},
   "outputs": [
    {
     "data": {
      "text/html": [
       "<div>\n",
       "<style scoped>\n",
       "    .dataframe tbody tr th:only-of-type {\n",
       "        vertical-align: middle;\n",
       "    }\n",
       "\n",
       "    .dataframe tbody tr th {\n",
       "        vertical-align: top;\n",
       "    }\n",
       "\n",
       "    .dataframe thead th {\n",
       "        text-align: right;\n",
       "    }\n",
       "</style>\n",
       "<table border=\"1\" class=\"dataframe\">\n",
       "  <thead>\n",
       "    <tr style=\"text-align: right;\">\n",
       "      <th></th>\n",
       "      <th>tid</th>\n",
       "      <th>tau</th>\n",
       "      <th>isoform</th>\n",
       "      <th>pop_spec_t</th>\n",
       "    </tr>\n",
       "  </thead>\n",
       "  <tbody>\n",
       "    <tr>\n",
       "      <th>0</th>\n",
       "      <td>ENST00000010132.6</td>\n",
       "      <td>0.080575</td>\n",
       "      <td>ENST00000010132.6</td>\n",
       "      <td>False</td>\n",
       "    </tr>\n",
       "    <tr>\n",
       "      <th>1</th>\n",
       "      <td>ENST00000013894.3</td>\n",
       "      <td>0.176715</td>\n",
       "      <td>ENST00000013894.3</td>\n",
       "      <td>False</td>\n",
       "    </tr>\n",
       "    <tr>\n",
       "      <th>2</th>\n",
       "      <td>ENST00000075120.12</td>\n",
       "      <td>0.037998</td>\n",
       "      <td>ENST00000075120.12</td>\n",
       "      <td>False</td>\n",
       "    </tr>\n",
       "    <tr>\n",
       "      <th>3</th>\n",
       "      <td>ENST00000155093.8</td>\n",
       "      <td>0.253669</td>\n",
       "      <td>ENST00000155093.8</td>\n",
       "      <td>False</td>\n",
       "    </tr>\n",
       "    <tr>\n",
       "      <th>4</th>\n",
       "      <td>ENST00000156084.8</td>\n",
       "      <td>0.101522</td>\n",
       "      <td>ENST00000156084.8</td>\n",
       "      <td>False</td>\n",
       "    </tr>\n",
       "  </tbody>\n",
       "</table>\n",
       "</div>"
      ],
      "text/plain": [
       "                  tid       tau             isoform  pop_spec_t\n",
       "0   ENST00000010132.6  0.080575   ENST00000010132.6       False\n",
       "1   ENST00000013894.3  0.176715   ENST00000013894.3       False\n",
       "2  ENST00000075120.12  0.037998  ENST00000075120.12       False\n",
       "3   ENST00000155093.8  0.253669   ENST00000155093.8       False\n",
       "4   ENST00000156084.8  0.101522   ENST00000156084.8       False"
      ]
     },
     "execution_count": 17,
     "metadata": {},
     "output_type": "execute_result"
    }
   ],
   "source": [
    "tau_df.head()"
   ]
  },
  {
   "cell_type": "code",
   "execution_count": 18,
   "id": "691e631d-1e72-4d60-8810-fe7d809cbe08",
   "metadata": {},
   "outputs": [
    {
     "data": {
      "text/html": [
       "<div>\n",
       "<style scoped>\n",
       "    .dataframe tbody tr th:only-of-type {\n",
       "        vertical-align: middle;\n",
       "    }\n",
       "\n",
       "    .dataframe tbody tr th {\n",
       "        vertical-align: top;\n",
       "    }\n",
       "\n",
       "    .dataframe thead th {\n",
       "        text-align: right;\n",
       "    }\n",
       "</style>\n",
       "<table border=\"1\" class=\"dataframe\">\n",
       "  <thead>\n",
       "    <tr style=\"text-align: right;\">\n",
       "      <th></th>\n",
       "      <th>tid</th>\n",
       "      <th>tau</th>\n",
       "      <th>isoform</th>\n",
       "      <th>pop_spec_t</th>\n",
       "    </tr>\n",
       "  </thead>\n",
       "  <tbody>\n",
       "    <tr>\n",
       "      <th>0</th>\n",
       "      <td>ENST00000010132.6</td>\n",
       "      <td>0.080575</td>\n",
       "      <td>ENST00000010132.6</td>\n",
       "      <td>False</td>\n",
       "    </tr>\n",
       "    <tr>\n",
       "      <th>1</th>\n",
       "      <td>ENST00000013894.3</td>\n",
       "      <td>0.176715</td>\n",
       "      <td>ENST00000013894.3</td>\n",
       "      <td>False</td>\n",
       "    </tr>\n",
       "    <tr>\n",
       "      <th>2</th>\n",
       "      <td>ENST00000075120.12</td>\n",
       "      <td>0.037998</td>\n",
       "      <td>ENST00000075120.12</td>\n",
       "      <td>False</td>\n",
       "    </tr>\n",
       "    <tr>\n",
       "      <th>3</th>\n",
       "      <td>ENST00000155093.8</td>\n",
       "      <td>0.253669</td>\n",
       "      <td>ENST00000155093.8</td>\n",
       "      <td>False</td>\n",
       "    </tr>\n",
       "    <tr>\n",
       "      <th>4</th>\n",
       "      <td>ENST00000156084.8</td>\n",
       "      <td>0.101522</td>\n",
       "      <td>ENST00000156084.8</td>\n",
       "      <td>False</td>\n",
       "    </tr>\n",
       "  </tbody>\n",
       "</table>\n",
       "</div>"
      ],
      "text/plain": [
       "                  tid       tau             isoform  pop_spec_t\n",
       "0   ENST00000010132.6  0.080575   ENST00000010132.6       False\n",
       "1   ENST00000013894.3  0.176715   ENST00000013894.3       False\n",
       "2  ENST00000075120.12  0.037998  ENST00000075120.12       False\n",
       "3   ENST00000155093.8  0.253669   ENST00000155093.8       False\n",
       "4   ENST00000156084.8  0.101522   ENST00000156084.8       False"
      ]
     },
     "execution_count": 18,
     "metadata": {},
     "output_type": "execute_result"
    }
   ],
   "source": [
    "tau_df.loc[tau_df.pop_spec_t.notnull()].head()"
   ]
  },
  {
   "cell_type": "code",
   "execution_count": 19,
   "id": "15898c6e-c0b8-4b9e-99ba-b82bbcbe7113",
   "metadata": {},
   "outputs": [],
   "source": [
    "tau_df['tau_pop_spec_t'] = tau_df.tau>=0.8"
   ]
  },
  {
   "cell_type": "code",
   "execution_count": 20,
   "id": "58fbbb7c-dcce-41ce-aa79-601091aeb11f",
   "metadata": {},
   "outputs": [
    {
     "data": {
      "text/html": [
       "<div>\n",
       "<style scoped>\n",
       "    .dataframe tbody tr th:only-of-type {\n",
       "        vertical-align: middle;\n",
       "    }\n",
       "\n",
       "    .dataframe tbody tr th {\n",
       "        vertical-align: top;\n",
       "    }\n",
       "\n",
       "    .dataframe thead th {\n",
       "        text-align: right;\n",
       "    }\n",
       "</style>\n",
       "<table border=\"1\" class=\"dataframe\">\n",
       "  <thead>\n",
       "    <tr style=\"text-align: right;\">\n",
       "      <th></th>\n",
       "      <th></th>\n",
       "      <th>tid</th>\n",
       "    </tr>\n",
       "    <tr>\n",
       "      <th>pop_spec_t</th>\n",
       "      <th>tau_pop_spec_t</th>\n",
       "      <th></th>\n",
       "    </tr>\n",
       "  </thead>\n",
       "  <tbody>\n",
       "    <tr>\n",
       "      <th rowspan=\"2\" valign=\"top\">False</th>\n",
       "      <th>False</th>\n",
       "      <td>147863</td>\n",
       "    </tr>\n",
       "    <tr>\n",
       "      <th>True</th>\n",
       "      <td>5108</td>\n",
       "    </tr>\n",
       "    <tr>\n",
       "      <th rowspan=\"2\" valign=\"top\">True</th>\n",
       "      <th>False</th>\n",
       "      <td>2115</td>\n",
       "    </tr>\n",
       "    <tr>\n",
       "      <th>True</th>\n",
       "      <td>144</td>\n",
       "    </tr>\n",
       "  </tbody>\n",
       "</table>\n",
       "</div>"
      ],
      "text/plain": [
       "                              tid\n",
       "pop_spec_t tau_pop_spec_t        \n",
       "False      False           147863\n",
       "           True              5108\n",
       "True       False             2115\n",
       "           True               144"
      ]
     },
     "execution_count": 20,
     "metadata": {},
     "output_type": "execute_result"
    }
   ],
   "source": [
    "tau_df[['tau_pop_spec_t',\n",
    "        'pop_spec_t', 'tid']].groupby(['pop_spec_t',\n",
    "                                       'tau_pop_spec_t']).nunique()"
   ]
  },
  {
   "cell_type": "code",
   "execution_count": 21,
   "id": "26479f80-9d9d-40f3-bfe5-93c1e45fb1c4",
   "metadata": {},
   "outputs": [],
   "source": [
    "tau_df['pop_spec_t'] = tau_df['pop_spec_t'].fillna('Absent from PODER') # these are the transcripts that are in GENCODE but not in our anotation"
   ]
  },
  {
   "cell_type": "code",
   "execution_count": 22,
   "id": "8c48f8b4-3383-4692-83dc-15d56cfb61ef",
   "metadata": {},
   "outputs": [
    {
     "data": {
      "text/plain": [
       "<matplotlib.lines.Line2D at 0x7f81d8396190>"
      ]
     },
     "execution_count": 22,
     "metadata": {},
     "output_type": "execute_result"
    },
    {
     "data": {
      "image/png": "[encoded data removed]",
      "text/plain": [
       "<Figure size 473.33x360 with 1 Axes>"
      ]
     },
     "metadata": {
      "needs_background": "light"
     },
     "output_type": "display_data"
    }
   ],
   "source": [
    "ax = sns.displot(tau_df, x='tau', hue='pop_spec_t', kind='kde',\n",
    "            common_norm=False)\n",
    "plt.axvline(0.8, color='k', linestyle='--')"
   ]
  },
  {
   "cell_type": "code",
   "execution_count": 23,
   "id": "3054c2c1-b08d-49dc-9048-bcc086e3eb47",
   "metadata": {},
   "outputs": [
    {
     "data": {
      "text/plain": [
       "<matplotlib.lines.Line2D at 0x7f81f8890610>"
      ]
     },
     "execution_count": 23,
     "metadata": {},
     "output_type": "execute_result"
    },
    {
     "data": {
      "image/png": "[encoded data removed]",
      "text/plain": [
       "<Figure size 360x360 with 1 Axes>"
      ]
     },
     "metadata": {
      "needs_background": "light"
     },
     "output_type": "display_data"
    }
   ],
   "source": [
    "ax = sns.violinplot(tau_df, y='tau', x='pop_spec_t')\n",
    "plt.axhline(0.8, color='k', linestyle='--')"
   ]
  },
  {
   "cell_type": "code",
   "execution_count": 24,
   "id": "696e1538-723d-49b6-ac38-f469ae197950",
   "metadata": {},
   "outputs": [
    {
     "name": "stdout",
     "output_type": "stream",
     "text": [
      "Hypoth: Absent from PODER transcripts tau > false pop-spec. disc. transcripts\n",
      "Wilcoxon Rank Sum Test Statistic: nan\n",
      "P-value: nan\n",
      "\n",
      "Hypoth: True transcripts tau > false pop-spec. disc. transcripts\n",
      "Wilcoxon Rank Sum Test Statistic: 17.259790917491948\n",
      "P-value: 4.7226153984517965e-67\n",
      "\n"
     ]
    },
    {
     "name": "stderr",
     "output_type": "stream",
     "text": [
      "/Users/fairliereese/miniconda3/lib/python3.7/site-packages/scipy/stats/stats.py:7784: RuntimeWarning: invalid value encountered in double_scalars\n",
      "  z = (s - expected) / np.sqrt(n1*n2*(n1+n2+1)/12.0)\n"
     ]
    }
   ],
   "source": [
    "# first, wilcoxon\n",
    " \n",
    "# hypotheses are that absent transcripts, and pop_spec transcritps have higher tau values than non-pop-spec\n",
    "\n",
    "for higher_cat in [True]:\n",
    "    # Split the data based on \"pop_spec_t\"\n",
    "    x = tau_df[tau_df['pop_spec_t'] == higher_cat]['tau'] # these should be higher\n",
    "    y = tau_df[tau_df['pop_spec_t'] == False]['tau'] # these should be lower\n",
    "\n",
    "    # alt hypothesis is that y > x or x < y\n",
    "\n",
    "    # ‘two-sided’: one of the distributions (underlying x or y) is stochastically greater than the other.\n",
    "\n",
    "    # ‘less’:  x < y.\n",
    "\n",
    "    # ‘greater’:  x > y.\n",
    "\n",
    "    # do the test\n",
    "    stat, p_value = st.ranksums(x, y,\n",
    "                                alternative='greater')\n",
    "\n",
    "\n",
    "    print(f'Hypoth: {higher_cat} transcripts tau > false pop-spec. disc. transcripts')\n",
    "    print(f'Wilcoxon Rank Sum Test Statistic: {stat}')\n",
    "    print(f'P-value: {p_value}')\n",
    "    print()"
   ]
  },
  {
   "cell_type": "code",
   "execution_count": 26,
   "id": "637bb75c-d3d7-4576-a4cd-6484b832bb74",
   "metadata": {},
   "outputs": [
    {
     "name": "stdout",
     "output_type": "stream",
     "text": [
      "Hypoth: True transcripts are enriched in pop-spec called by expression\n",
      "Odds Ratio: 1.970882553857945\n",
      "P-value: 8.240909327241965e-13\n",
      "\n"
     ]
    }
   ],
   "source": [
    "## Fischer's exact test\n",
    "# hypotheses are that absent transcripts and pop-spec disc. transcripts\n",
    "# are enriched for pop-spec tau values in mage\n",
    "\n",
    "for higher_cat in [True]:\n",
    "    temp = tau_df.loc[tau_df.pop_spec_t.isin([higher_cat, False])]\n",
    "\n",
    "    temp = temp[['tau_pop_spec_t',\n",
    "            'pop_spec_t', 'tid']].groupby(['pop_spec_t',\n",
    "                                           'tau_pop_spec_t']).nunique().reset_index()\n",
    "\n",
    "    temp.head()\n",
    "    temp = temp.pivot(index='tau_pop_spec_t',\n",
    "                      values = 'tid',\n",
    "                      columns = 'pop_spec_t')\n",
    "    temp = temp.values\n",
    "    temp\n",
    "    # Perform Fisher's Exact Test\n",
    "    odds_ratio, p_value = st.fisher_exact(temp, alternative='greater')\n",
    "\n",
    "\n",
    "    # # get the CI of these results\n",
    "    # result = st.contingency.odds_ratio(temp, kind='conditional')\n",
    "    # odds_ratio_value = result.statistic\n",
    "    # confidence_interval = result.confidence_interval(confidence_level=0.95)\n",
    "\n",
    "    print(f'Hypoth: {higher_cat} transcripts are enriched in pop-spec called by expression')\n",
    "    print(\"Odds Ratio:\", odds_ratio)\n",
    "    print(\"P-value:\", p_value)\n",
    "    print()\n",
    "    # print(\"Conditional Odds Ratio:\", odds_ratio_value)\n",
    "    # print(\"95% Confidence Interval:\", confidence_interval)"
   ]
  },
  {
   "cell_type": "code",
   "execution_count": null,
   "id": "3705e214-3fdf-41a7-9b5c-1d5ff5dd228b",
   "metadata": {},
   "outputs": [],
   "source": []
  }
 ],
 "metadata": {
  "kernelspec": {
   "display_name": "Python 3",
   "language": "python",
   "name": "python3"
  },
  "language_info": {
   "codemirror_mode": {
    "name": "ipython",
    "version": 3
   },
   "file_extension": ".py",
   "mimetype": "text/x-python",
   "name": "python",
   "nbconvert_exporter": "python",
   "pygments_lexer": "ipython3",
   "version": "3.7.12"
  }
 },
 "nbformat": 4,
 "nbformat_minor": 5
}
