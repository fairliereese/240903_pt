{
 "cells": [
  {
   "cell_type": "markdown",
   "id": "10a96a76-914b-4465-8d55-04b335a5dc91",
   "metadata": {},
   "source": [
    "## Goal: What is the ratio of novel, not hg38 transcripts (hap. union) : novel transcripts in hg38?"
   ]
  },
  {
   "cell_type": "code",
   "execution_count": 1,
   "id": "311831bc-6577-4907-b85a-3d2998881b99",
   "metadata": {},
   "outputs": [],
   "source": [
    "import pandas as pd\n",
    "import numpy as np\n",
    "import scipy.stats as st\n",
    "import seaborn as sns\n",
    "import sys\n",
    "import os\n",
    "import matplotlib.pyplot as plt\n",
    "import swan_vis as swan\n",
    "import yaml\n",
    "from snakemake.io import expand\n",
    "import cerberus\n",
    "import pyranges as pr\n",
    "import upsetplot\n",
    "\n",
    "p = os.path.dirname(os.getcwd())\n",
    "sys.path.append(p)\n",
    "\n",
    "from scripts.utils import *\n",
    "from scripts.vcf_utils import *\n",
    "from scripts.plotting import *"
   ]
  },
  {
   "cell_type": "code",
   "execution_count": 2,
   "id": "b3dccb6d-2b61-4192-88a1-d10ccd4c555a",
   "metadata": {},
   "outputs": [],
   "source": [
    "config = load_config()\n",
    "od = '../'\n",
    "\n",
    "def proc_cfg(entry, od):\n",
    "    entry = entry.replace('../../', '')\n",
    "    entry = od+entry\n",
    "    return entry"
   ]
  },
  {
   "cell_type": "code",
   "execution_count": 3,
   "id": "f27e4cfa-ec95-4665-bc3b-ebbc0709be6d",
   "metadata": {},
   "outputs": [],
   "source": [
    "df = load_meta()\n",
    "df = df.loc[~df['sample'].str.contains('_')]\n",
    "df['lab_sample'] = df['lab_number_sample'].astype(str)+'_'+\\\n",
    "                      df['lab_sampleid'].astype(str)+'_'+\\\n",
    "                      df['cell_line_id'].astype(str)\n",
    "df.columns\n",
    "df = df[['cell_line_id', 'sample', 'hapmap_DNA_ID',\n",
    "          'map_reads_assemblymap','lab_sample', 'population']].drop_duplicates()\n",
    "\n",
    "temp_df = pd.read_csv('../snakemake/transcript_discovery_personal/cell_line_ids.txt', header=None, names=['cell_line_id'])\n",
    "\n",
    "# make a 1000g cell line id col\n",
    "df['cell_line_id_1000g'] = df.cell_line_id\n",
    "\n",
    "inds = df.loc[~df.cell_line_id_1000g.isin(temp_df.cell_line_id.tolist())].index\n",
    "df.loc[inds, 'cell_line_id_1000g'] = df.loc[inds, 'hapmap_DNA_ID']\n",
    "len(df.index)\n",
    "\n",
    "# limit to just those in 1000g\n",
    "df = df.loc[df.cell_line_id_1000g.isin(temp_df.cell_line_id.tolist())]\n",
    "assert len(df.index) == 30\n",
    "\n",
    "# TODO bad sample that hasn't finished on espresso\n",
    "# bad_samples = ['NA19328']\n",
    "# df = df.loc[~df.cell_line_id_1000g.isin(bad_samples)]\n",
    "\n",
    "hap = ['hap1', 'hap2']\n",
    "\n",
    "meta_df = df.copy(deep=True)"
   ]
  },
  {
   "cell_type": "code",
   "execution_count": 4,
   "id": "2543cf30-7128-4a9f-a650-2a713fa09fc9",
   "metadata": {},
   "outputs": [],
   "source": [
    "file = proc_cfg(config['lr']['td_personal']['cerb']['ic_summary'],od)\n",
    "df = pd.read_csv(file)\n",
    "df.drop('Unnamed: 0', axis=1, inplace=True)\n",
    "df['detected'] = True\n",
    "\n",
    "# 1.5 only novel ics and count per cell line\n",
    "temp = df.loc[df.structural_category!='full-splice_match']\n",
    "\n",
    "# get only the detection from mapping\n",
    "temp = temp[['ic_id', 'cell_line_id', 'map_genome', 'detected']]\n",
    "temp = temp.drop_duplicates()\n",
    "temp = temp.pivot(index=['ic_id', 'cell_line_id'], \n",
    "                columns=['map_genome'],\n",
    "                values=['detected'])\n",
    "\n",
    "# flatten\n",
    "temp.columns = temp.columns.get_level_values(1)\n",
    "temp.columns.name = None\n",
    "\n",
    "# reset index to make it a flat DataFrame\n",
    "temp = temp.reset_index()\n",
    "\n",
    "# fill missing values with False\n",
    "temp = temp.fillna(False)\n",
    "\n",
    "# 1.75. get those that are detected  in hap1/2 \n",
    "temp = temp.loc[(temp.hap1+temp.hap2)>0]\n",
    "temp['n_novel_ic'] = temp.groupby('cell_line_id')['ic_id'].transform('nunique')\n",
    "\n",
    "\n",
    "# 1. get those that are detected uniquely in hap1/2 \n",
    "# (ie those not in hg38)\n",
    "temp = temp.loc[(temp.hg38==False)&\n",
    "                ((temp.hap1+temp.hap2)>0)]\n",
    "\n",
    "# get total unique per cell line \n",
    "temp['n_non_hg38_novel_ic'] = temp.groupby('cell_line_id')['ic_id'].transform('nunique')\n",
    "\n",
    "temp = temp[['cell_line_id', 'n_novel_ic', 'n_non_hg38_novel_ic']].drop_duplicates()\n",
    "assert len(temp.index) == len(temp.cell_line_id.unique())\n"
   ]
  },
  {
   "cell_type": "code",
   "execution_count": 5,
   "id": "046a14af-c726-4721-888f-0df43555e2ee",
   "metadata": {},
   "outputs": [],
   "source": [
    "temp2 = temp.copy(deep=True)"
   ]
  },
  {
   "cell_type": "code",
   "execution_count": 6,
   "id": "5667df30-b811-41e9-b543-05e8fb6da5d7",
   "metadata": {},
   "outputs": [],
   "source": [
    "# get n novel for hg38\n",
    "file = proc_cfg(config['lr']['td_personal']['cerb']['ic_summary'],od)\n",
    "df = pd.read_csv(file)\n",
    "df.drop('Unnamed: 0', axis=1, inplace=True)\n",
    "df['detected'] = True\n",
    "\n",
    "# 1.5 only novel ics and count per cell line\n",
    "temp = df.loc[df.structural_category!='full-splice_match']\n",
    "\n",
    "# get only the detection from mapping\n",
    "temp = temp[['ic_id', 'cell_line_id', 'map_genome', 'detected']]\n",
    "temp = temp.drop_duplicates()\n",
    "temp = temp.pivot(index=['ic_id', 'cell_line_id'], \n",
    "                columns=['map_genome'],\n",
    "                values=['detected'])\n",
    "\n",
    "# flatten\n",
    "temp.columns = temp.columns.get_level_values(1)\n",
    "temp.columns.name = None\n",
    "\n",
    "# reset index to make it a flat DataFrame\n",
    "temp = temp.reset_index()\n",
    "\n",
    "# fill missing values with False\n",
    "temp = temp.fillna(False)\n",
    "\n",
    "# 1.75. get those that are detected  in hg38\n",
    "temp = temp.loc[temp.hg38==True]\n",
    "temp['n_novel_ic_hg38'] = temp.groupby('cell_line_id')['ic_id'].transform('nunique')\n"
   ]
  },
  {
   "cell_type": "code",
   "execution_count": 7,
   "id": "2b6c84e7-a982-47be-86de-f2e8aef10766",
   "metadata": {},
   "outputs": [
    {
     "data": {
      "text/html": [
       "<div>\n",
       "<style scoped>\n",
       "    .dataframe tbody tr th:only-of-type {\n",
       "        vertical-align: middle;\n",
       "    }\n",
       "\n",
       "    .dataframe tbody tr th {\n",
       "        vertical-align: top;\n",
       "    }\n",
       "\n",
       "    .dataframe thead th {\n",
       "        text-align: right;\n",
       "    }\n",
       "</style>\n",
       "<table border=\"1\" class=\"dataframe\">\n",
       "  <thead>\n",
       "    <tr style=\"text-align: right;\">\n",
       "      <th></th>\n",
       "      <th>cell_line_id</th>\n",
       "      <th>n_novel_ic</th>\n",
       "      <th>n_non_hg38_novel_ic</th>\n",
       "    </tr>\n",
       "  </thead>\n",
       "  <tbody>\n",
       "    <tr>\n",
       "      <th>10</th>\n",
       "      <td>NA19390</td>\n",
       "      <td>19718</td>\n",
       "      <td>678</td>\n",
       "    </tr>\n",
       "    <tr>\n",
       "      <th>29</th>\n",
       "      <td>HG03729</td>\n",
       "      <td>20681</td>\n",
       "      <td>800</td>\n",
       "    </tr>\n",
       "    <tr>\n",
       "      <th>30</th>\n",
       "      <td>HG04217</td>\n",
       "      <td>20687</td>\n",
       "      <td>729</td>\n",
       "    </tr>\n",
       "    <tr>\n",
       "      <th>550</th>\n",
       "      <td>HG02261</td>\n",
       "      <td>26337</td>\n",
       "      <td>964</td>\n",
       "    </tr>\n",
       "    <tr>\n",
       "      <th>608</th>\n",
       "      <td>NA19307</td>\n",
       "      <td>15807</td>\n",
       "      <td>692</td>\n",
       "    </tr>\n",
       "  </tbody>\n",
       "</table>\n",
       "</div>"
      ],
      "text/plain": [
       "    cell_line_id  n_novel_ic  n_non_hg38_novel_ic\n",
       "10       NA19390       19718                  678\n",
       "29       HG03729       20681                  800\n",
       "30       HG04217       20687                  729\n",
       "550      HG02261       26337                  964\n",
       "608      NA19307       15807                  692"
      ]
     },
     "execution_count": 7,
     "metadata": {},
     "output_type": "execute_result"
    }
   ],
   "source": [
    "temp2.head()"
   ]
  },
  {
   "cell_type": "code",
   "execution_count": 9,
   "id": "bd19268d-a7d7-4cd6-9ed6-fc6cc7c49611",
   "metadata": {},
   "outputs": [
    {
     "data": {
      "text/html": [
       "<div>\n",
       "<style scoped>\n",
       "    .dataframe tbody tr th:only-of-type {\n",
       "        vertical-align: middle;\n",
       "    }\n",
       "\n",
       "    .dataframe tbody tr th {\n",
       "        vertical-align: top;\n",
       "    }\n",
       "\n",
       "    .dataframe thead th {\n",
       "        text-align: right;\n",
       "    }\n",
       "</style>\n",
       "<table border=\"1\" class=\"dataframe\">\n",
       "  <thead>\n",
       "    <tr style=\"text-align: right;\">\n",
       "      <th></th>\n",
       "      <th>cell_line_id</th>\n",
       "      <th>n_novel_ic_hg38</th>\n",
       "    </tr>\n",
       "  </thead>\n",
       "  <tbody>\n",
       "    <tr>\n",
       "      <th>0</th>\n",
       "      <td>NA18561</td>\n",
       "      <td>14205</td>\n",
       "    </tr>\n",
       "    <tr>\n",
       "      <th>1</th>\n",
       "      <td>HG03719</td>\n",
       "      <td>17042</td>\n",
       "    </tr>\n",
       "    <tr>\n",
       "      <th>2</th>\n",
       "      <td>HG03729</td>\n",
       "      <td>19893</td>\n",
       "    </tr>\n",
       "    <tr>\n",
       "      <th>3</th>\n",
       "      <td>NA18542</td>\n",
       "      <td>21624</td>\n",
       "    </tr>\n",
       "    <tr>\n",
       "      <th>4</th>\n",
       "      <td>HG01975</td>\n",
       "      <td>17816</td>\n",
       "    </tr>\n",
       "  </tbody>\n",
       "</table>\n",
       "</div>"
      ],
      "text/plain": [
       "  cell_line_id  n_novel_ic_hg38\n",
       "0      NA18561            14205\n",
       "1      HG03719            17042\n",
       "2      HG03729            19893\n",
       "3      NA18542            21624\n",
       "4      HG01975            17816"
      ]
     },
     "execution_count": 9,
     "metadata": {},
     "output_type": "execute_result"
    }
   ],
   "source": [
    "temp = temp[['cell_line_id', 'n_novel_ic_hg38']].drop_duplicates()\n",
    "temp.head()"
   ]
  },
  {
   "cell_type": "code",
   "execution_count": 10,
   "id": "92004c96-dd0c-44c4-b6a3-27520a4faca8",
   "metadata": {},
   "outputs": [],
   "source": [
    "temp2 = temp2.merge(temp, how='left', on='cell_line_id')"
   ]
  },
  {
   "cell_type": "code",
   "execution_count": 11,
   "id": "5c4a63c3-d36f-4fff-8c07-340fb3045e11",
   "metadata": {},
   "outputs": [
    {
     "data": {
      "text/html": [
       "<div>\n",
       "<style scoped>\n",
       "    .dataframe tbody tr th:only-of-type {\n",
       "        vertical-align: middle;\n",
       "    }\n",
       "\n",
       "    .dataframe tbody tr th {\n",
       "        vertical-align: top;\n",
       "    }\n",
       "\n",
       "    .dataframe thead th {\n",
       "        text-align: right;\n",
       "    }\n",
       "</style>\n",
       "<table border=\"1\" class=\"dataframe\">\n",
       "  <thead>\n",
       "    <tr style=\"text-align: right;\">\n",
       "      <th></th>\n",
       "      <th>cell_line_id</th>\n",
       "      <th>n_novel_ic</th>\n",
       "      <th>n_non_hg38_novel_ic</th>\n",
       "      <th>n_novel_ic_hg38</th>\n",
       "    </tr>\n",
       "  </thead>\n",
       "  <tbody>\n",
       "    <tr>\n",
       "      <th>0</th>\n",
       "      <td>NA19390</td>\n",
       "      <td>19718</td>\n",
       "      <td>678</td>\n",
       "      <td>19107</td>\n",
       "    </tr>\n",
       "    <tr>\n",
       "      <th>1</th>\n",
       "      <td>HG03729</td>\n",
       "      <td>20681</td>\n",
       "      <td>800</td>\n",
       "      <td>19893</td>\n",
       "    </tr>\n",
       "    <tr>\n",
       "      <th>2</th>\n",
       "      <td>HG04217</td>\n",
       "      <td>20687</td>\n",
       "      <td>729</td>\n",
       "      <td>19984</td>\n",
       "    </tr>\n",
       "    <tr>\n",
       "      <th>3</th>\n",
       "      <td>HG02261</td>\n",
       "      <td>26337</td>\n",
       "      <td>964</td>\n",
       "      <td>25406</td>\n",
       "    </tr>\n",
       "    <tr>\n",
       "      <th>4</th>\n",
       "      <td>NA19307</td>\n",
       "      <td>15807</td>\n",
       "      <td>692</td>\n",
       "      <td>15133</td>\n",
       "    </tr>\n",
       "  </tbody>\n",
       "</table>\n",
       "</div>"
      ],
      "text/plain": [
       "  cell_line_id  n_novel_ic  n_non_hg38_novel_ic  n_novel_ic_hg38\n",
       "0      NA19390       19718                  678            19107\n",
       "1      HG03729       20681                  800            19893\n",
       "2      HG04217       20687                  729            19984\n",
       "3      HG02261       26337                  964            25406\n",
       "4      NA19307       15807                  692            15133"
      ]
     },
     "execution_count": 11,
     "metadata": {},
     "output_type": "execute_result"
    }
   ],
   "source": [
    "temp2.head()"
   ]
  },
  {
   "cell_type": "code",
   "execution_count": 12,
   "id": "2dd26962-9080-4e59-9c39-942eae094e19",
   "metadata": {},
   "outputs": [],
   "source": [
    "temp2['ratio_novel'] = temp2['n_novel_ic']/temp2['n_novel_ic_hg38']\n"
   ]
  },
  {
   "cell_type": "code",
   "execution_count": 29,
   "id": "7858bece-b4ac-44f4-8155-9ec23e73a5bd",
   "metadata": {},
   "outputs": [
    {
     "data": {
      "text/plain": [
       "<seaborn.axisgrid.FacetGrid at 0x7fb015157d10>"
      ]
     },
     "execution_count": 29,
     "metadata": {},
     "output_type": "execute_result"
    },
    {
     "data": {
      "image/png": "[encoded data removed]",
      "text/plain": [
       "<Figure size 360x360 with 1 Axes>"
      ]
     },
     "metadata": {
      "needs_background": "light"
     },
     "output_type": "display_data"
    }
   ],
   "source": [
    "init_plot_settings(aspect='square')\n",
    "ax = sns.displot(temp2, \n",
    "            x='ratio_novel')\n",
    "ax.set(xlabel='# novel hap1+hap2 ICs / # novel hg38 ICs')"
   ]
  },
  {
   "cell_type": "code",
   "execution_count": 20,
   "id": "7263b078-bf7f-4a6c-9d2a-2ceac7fb4048",
   "metadata": {},
   "outputs": [],
   "source": [
    "temp2['diff'] = temp2['n_novel_ic'] - temp2['n_novel_ic_hg38']"
   ]
  },
  {
   "cell_type": "code",
   "execution_count": 23,
   "id": "106c010e-3dd5-4945-8cb1-efea0f1fc7e6",
   "metadata": {},
   "outputs": [
    {
     "data": {
      "text/html": [
       "<div>\n",
       "<style scoped>\n",
       "    .dataframe tbody tr th:only-of-type {\n",
       "        vertical-align: middle;\n",
       "    }\n",
       "\n",
       "    .dataframe tbody tr th {\n",
       "        vertical-align: top;\n",
       "    }\n",
       "\n",
       "    .dataframe thead th {\n",
       "        text-align: right;\n",
       "    }\n",
       "</style>\n",
       "<table border=\"1\" class=\"dataframe\">\n",
       "  <thead>\n",
       "    <tr style=\"text-align: right;\">\n",
       "      <th></th>\n",
       "      <th>cell_line_id</th>\n",
       "      <th>n_novel_ic</th>\n",
       "      <th>n_non_hg38_novel_ic</th>\n",
       "      <th>n_novel_ic_hg38</th>\n",
       "      <th>ratio_novel</th>\n",
       "      <th>diff</th>\n",
       "    </tr>\n",
       "  </thead>\n",
       "  <tbody>\n",
       "  </tbody>\n",
       "</table>\n",
       "</div>"
      ],
      "text/plain": [
       "Empty DataFrame\n",
       "Columns: [cell_line_id, n_novel_ic, n_non_hg38_novel_ic, n_novel_ic_hg38, ratio_novel, diff]\n",
       "Index: []"
      ]
     },
     "execution_count": 23,
     "metadata": {},
     "output_type": "execute_result"
    }
   ],
   "source": [
    "temp2.loc[temp2['diff']>temp2.n_non_hg38_novel_ic]\n",
    "# sanity check"
   ]
  },
  {
   "cell_type": "code",
   "execution_count": 24,
   "id": "b70062d7-c1c1-4e72-9752-1164e43d9ad5",
   "metadata": {},
   "outputs": [
    {
     "data": {
      "text/html": [
       "<div>\n",
       "<style scoped>\n",
       "    .dataframe tbody tr th:only-of-type {\n",
       "        vertical-align: middle;\n",
       "    }\n",
       "\n",
       "    .dataframe tbody tr th {\n",
       "        vertical-align: top;\n",
       "    }\n",
       "\n",
       "    .dataframe thead th {\n",
       "        text-align: right;\n",
       "    }\n",
       "</style>\n",
       "<table border=\"1\" class=\"dataframe\">\n",
       "  <thead>\n",
       "    <tr style=\"text-align: right;\">\n",
       "      <th></th>\n",
       "      <th>cell_line_id</th>\n",
       "      <th>n_novel_ic</th>\n",
       "      <th>n_non_hg38_novel_ic</th>\n",
       "      <th>n_novel_ic_hg38</th>\n",
       "      <th>ratio_novel</th>\n",
       "      <th>diff</th>\n",
       "    </tr>\n",
       "  </thead>\n",
       "  <tbody>\n",
       "    <tr>\n",
       "      <th>0</th>\n",
       "      <td>NA19390</td>\n",
       "      <td>19718</td>\n",
       "      <td>678</td>\n",
       "      <td>19107</td>\n",
       "      <td>1.031978</td>\n",
       "      <td>611</td>\n",
       "    </tr>\n",
       "    <tr>\n",
       "      <th>1</th>\n",
       "      <td>HG03729</td>\n",
       "      <td>20681</td>\n",
       "      <td>800</td>\n",
       "      <td>19893</td>\n",
       "      <td>1.039612</td>\n",
       "      <td>788</td>\n",
       "    </tr>\n",
       "    <tr>\n",
       "      <th>2</th>\n",
       "      <td>HG04217</td>\n",
       "      <td>20687</td>\n",
       "      <td>729</td>\n",
       "      <td>19984</td>\n",
       "      <td>1.035178</td>\n",
       "      <td>703</td>\n",
       "    </tr>\n",
       "    <tr>\n",
       "      <th>3</th>\n",
       "      <td>HG02261</td>\n",
       "      <td>26337</td>\n",
       "      <td>964</td>\n",
       "      <td>25406</td>\n",
       "      <td>1.036645</td>\n",
       "      <td>931</td>\n",
       "    </tr>\n",
       "    <tr>\n",
       "      <th>4</th>\n",
       "      <td>NA19307</td>\n",
       "      <td>15807</td>\n",
       "      <td>692</td>\n",
       "      <td>15133</td>\n",
       "      <td>1.044538</td>\n",
       "      <td>674</td>\n",
       "    </tr>\n",
       "  </tbody>\n",
       "</table>\n",
       "</div>"
      ],
      "text/plain": [
       "  cell_line_id  n_novel_ic  n_non_hg38_novel_ic  n_novel_ic_hg38  ratio_novel  \\\n",
       "0      NA19390       19718                  678            19107     1.031978   \n",
       "1      HG03729       20681                  800            19893     1.039612   \n",
       "2      HG04217       20687                  729            19984     1.035178   \n",
       "3      HG02261       26337                  964            25406     1.036645   \n",
       "4      NA19307       15807                  692            15133     1.044538   \n",
       "\n",
       "   diff  \n",
       "0   611  \n",
       "1   788  \n",
       "2   703  \n",
       "3   931  \n",
       "4   674  "
      ]
     },
     "execution_count": 24,
     "metadata": {},
     "output_type": "execute_result"
    }
   ],
   "source": [
    "temp2.head()\n"
   ]
  },
  {
   "cell_type": "markdown",
   "id": "f64fd59f-e321-4981-8e17-a89f34b6e7a7",
   "metadata": {},
   "source": [
    "## First, let's just look at the ratio between novels"
   ]
  },
  {
   "cell_type": "code",
   "execution_count": 30,
   "id": "db45c780-7db9-4157-949c-372f3a57638a",
   "metadata": {},
   "outputs": [
    {
     "name": "stderr",
     "output_type": "stream",
     "text": [
      "/Users/fairliereese/miniconda3/lib/python3.7/site-packages/ipykernel_launcher.py:19: FutureWarning: Passing `palette` without assigning `hue` is deprecated.\n"
     ]
    },
    {
     "data": {
      "image/png": "[encoded data removed]",
      "text/plain": [
       "<Figure size 504x360 with 1 Axes>"
      ]
     },
     "metadata": {
      "needs_background": "light"
     },
     "output_type": "display_data"
    }
   ],
   "source": [
    "# do the plot by population too just because\n",
    "temp2 = temp2.merge(meta_df[['cell_line_id_1000g', 'population']],\n",
    "                    how='left',\n",
    "                    left_on='cell_line_id',\n",
    "                    right_on='cell_line_id_1000g')\n",
    "init_plot_settings(aspect='rectangle')\n",
    "c_dict, order = get_population_colors(cats=temp.population.unique().tolist())\n",
    "ax = sns.boxplot(temp2,\n",
    "            x='population',\n",
    "            y='ratio_novel',\n",
    "            palette=c_dict,\n",
    "            order=order, \n",
    "            saturation=0.75,\n",
    "            showfliers=False)\n",
    "sns.stripplot(x='population', y='ratio_novel', data=temp2, jitter=True,\n",
    "              palette=c_dict,\n",
    "              order=order,\n",
    "              size=10,\n",
    "              edgecolor='k')\n",
    "_ = ax.set(xlabel='', ylabel='# novel hap1+hap2 ICs / # novel hg38 ICs')\n",
    "ax.spines['right'].set_visible(False)\n",
    "ax.spines['top'].set_visible(False)"
   ]
  },
  {
   "cell_type": "markdown",
   "id": "212929cf-0abf-4c0a-ab8e-7623ec90b28b",
   "metadata": {},
   "source": [
    "#### Are these differences correlated at all to seq. depth?"
   ]
  },
  {
   "cell_type": "code",
   "execution_count": 31,
   "id": "e9d9a765-10db-4261-8ecb-6a696c0b9dcb",
   "metadata": {},
   "outputs": [
    {
     "name": "stderr",
     "output_type": "stream",
     "text": [
      "/Users/fairliereese/miniconda3/lib/python3.7/site-packages/pandas/core/frame.py:9203: FutureWarning: Passing 'suffixes' which cause duplicate columns {'cell_line_id_1000g_x'} in the result is deprecated and will raise a MergeError in a future version.\n",
      "  validate=validate,\n"
     ]
    }
   ],
   "source": [
    "temp = temp2.copy(deep=True)\n",
    "temp = temp.merge(meta_df[['cell_line_id_1000g', 'map_reads_assemblymap']],\n",
    "                    how='left',\n",
    "                    left_on='cell_line_id',\n",
    "                    right_on='cell_line_id_1000g')"
   ]
  },
  {
   "cell_type": "code",
   "execution_count": 36,
   "id": "c160ff35-b203-4683-b1ae-cad35c80e1c9",
   "metadata": {},
   "outputs": [
    {
     "data": {
      "image/png": "[encoded data removed]",
      "text/plain": [
       "<Figure size 504x360 with 1 Axes>"
      ]
     },
     "metadata": {
      "needs_background": "light"
     },
     "output_type": "display_data"
    }
   ],
   "source": [
    "ax = sns.scatterplot(temp, y='ratio_novel', x='map_reads_assemblymap',\n",
    "                    hue='population',\n",
    "                    palette=c_dict)\n",
    "ax.set(ylabel='# novel hap1+hap2 ICs / # novel hg38 ICs',\n",
    "       xlabel='# mapped reads')\n",
    "ax.spines['right'].set_visible(False)\n",
    "ax.spines['top'].set_visible(False)"
   ]
  },
  {
   "cell_type": "code",
   "execution_count": 33,
   "id": "1bc8860c-b84b-40e0-b217-b7b3d95a1f4f",
   "metadata": {},
   "outputs": [
    {
     "name": "stdout",
     "output_type": "stream",
     "text": [
      "-0.024323405500706025\n",
      "0.8984793978541536\n",
      "\n",
      "0.07007786429365963\n",
      "0.7128914578943152\n"
     ]
    }
   ],
   "source": [
    "x = temp.ratio_novel.tolist()\n",
    "y = temp.map_reads_assemblymap.tolist()\n",
    "r, r_p = st.pearsonr(x, y)\n",
    "rho, rho_p = st.spearmanr(x, y)\n",
    "\n",
    "print(r)\n",
    "print(r_p)\n",
    "\n",
    "print()\n",
    "\n",
    "print(rho)\n",
    "print(rho_p)"
   ]
  },
  {
   "cell_type": "code",
   "execution_count": 34,
   "id": "2d46fd8a-8b50-4b0a-bfb4-e841aff172ea",
   "metadata": {},
   "outputs": [],
   "source": [
    "# no, they're not correlated"
   ]
  },
  {
   "cell_type": "code",
   "execution_count": 37,
   "id": "fa9f787e-b44b-4520-98c2-6eb742ee40aa",
   "metadata": {},
   "outputs": [
    {
     "data": {
      "text/plain": [
       "[Text(0.5, 15.700000000000003, 'Population 2'),\n",
       " Text(33.7, 0.5, 'Popluation 1'),\n",
       " Text(0.5, 1.0, 'Population differences in (# novel hap1+hap2 ICs / # novel hg38 ICs)')]"
      ]
     },
     "execution_count": 37,
     "metadata": {},
     "output_type": "execute_result"
    },
    {
     "data": {
      "image/png": "[encoded data removed]",
      "text/plain": [
       "<Figure size 504x360 with 2 Axes>"
      ]
     },
     "metadata": {
      "needs_background": "light"
     },
     "output_type": "display_data"
    }
   ],
   "source": [
    "# test -- Mann-Whitney U for each pop. pair with hypothesis greater\n",
    "import itertools\n",
    "\n",
    "stat_df = pd.DataFrame()\n",
    "for p1, p2 in list(itertools.permutations(temp.population.unique(), 2)):\n",
    "    x = temp.loc[temp.population==p1,'ratio_novel'].tolist() # hyp. --> greater\n",
    "    y = temp.loc[temp.population==p2,'ratio_novel'].tolist()\n",
    "    \n",
    "    try:\n",
    "        stat, pval = st.mannwhitneyu(x, y, alternative='greater')\n",
    "    except:\n",
    "        break\n",
    "    temp3 = pd.DataFrame(data=[[p1, p2, stat, pval]], \n",
    "                         columns=['pop1', 'pop2', 'stat', 'pval'])\n",
    "    stat_df = pd.concat([stat_df, temp3], axis=0)\n",
    "    del temp3\n",
    "    \n",
    "# fdr correction\n",
    "from statsmodels.stats.multitest import multipletests\n",
    "_, adj_p_vals, _, _ = multipletests(stat_df.pval.tolist(), method='fdr_bh')\n",
    "stat_df['adj_pval'] = adj_p_vals\n",
    "stat_df.head()\n",
    "\n",
    "# add sig. annotation\n",
    "# * <= 0.05\n",
    "# ** <= 0.01\n",
    "# *** <= 0.001\n",
    "stat_df['sig_annot'] = ''\n",
    "# stat_df.loc[stat_df.pval <= 0.05, 'sig_annot'] = '*'\n",
    "# stat_df.loc[stat_df.pval <= 0.01, 'sig_annot'] = '**'\n",
    "# stat_df.loc[stat_df.pval <= 0.001, 'sig_annot'] = '***'\n",
    "stat_df.loc[stat_df.adj_pval <= 0.05, 'sig_annot'] = '*'\n",
    "stat_df.loc[stat_df.adj_pval <= 0.01, 'sig_annot'] = '**'\n",
    "stat_df.loc[stat_df.adj_pval <= 0.001, 'sig_annot'] = '***'\n",
    "\n",
    "# pivot x2 to get a stat and annot df to plot\n",
    "stat_df1 = stat_df.pivot(index='pop1', columns='pop2', values='stat')\n",
    "annot_df = stat_df.pivot(index='pop1', columns='pop2', values='sig_annot')\n",
    "\n",
    "ax = sns.heatmap(stat_df1, cmap='Purples',\n",
    "            annot=annot_df,\n",
    "            fmt='',\n",
    "            cbar_kws={'label': 'Mann-Whitney U\\ntest statistic'})\n",
    "\n",
    "# labels need them\n",
    "ax.set(xlabel='Population 2',\n",
    "       ylabel='Popluation 1',\n",
    "       title='Population differences in (# novel hap1+hap2 ICs / # novel hg38 ICs)')"
   ]
  },
  {
   "cell_type": "code",
   "execution_count": null,
   "id": "29549655-cf99-407a-b749-cd945ca0df02",
   "metadata": {},
   "outputs": [],
   "source": []
  }
 ],
 "metadata": {
  "kernelspec": {
   "display_name": "Python 3",
   "language": "python",
   "name": "python3"
  },
  "language_info": {
   "codemirror_mode": {
    "name": "ipython",
    "version": 3
   },
   "file_extension": ".py",
   "mimetype": "text/x-python",
   "name": "python",
   "nbconvert_exporter": "python",
   "pygments_lexer": "ipython3",
   "version": "3.7.12"
  }
 },
 "nbformat": 4,
 "nbformat_minor": 5
}
