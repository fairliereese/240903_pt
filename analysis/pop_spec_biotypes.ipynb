{
 "cells": [
  {
   "cell_type": "code",
   "execution_count": 1,
   "id": "b60a0763-f49f-4457-aba2-0477de0d38af",
   "metadata": {},
   "outputs": [],
   "source": [
    "import pandas as pd\n",
    "import numpy as np\n",
    "import scipy.stats as st\n",
    "import seaborn as sns\n",
    "import sys\n",
    "import os\n",
    "import matplotlib.pyplot as plt\n",
    "import swan_vis as swan\n",
    "import yaml\n",
    "from snakemake.io import expand\n",
    "import cerberus\n",
    "import pyranges as pr\n",
    "from pyfaidx import Fasta\n",
    "import upsetplot\n",
    "\n",
    "p = os.path.dirname(os.getcwd())\n",
    "sys.path.append(p)\n",
    "\n",
    "from scripts.utils import *\n",
    "from scripts.vcf_utils import *\n",
    "from scripts.plotting import *"
   ]
  },
  {
   "cell_type": "code",
   "execution_count": 2,
   "id": "eeb348f4-da22-4778-968a-07839e70444b",
   "metadata": {},
   "outputs": [],
   "source": [
    "config = load_config()\n",
    "od = '../'\n",
    "\n",
    "def proc_cfg(entry, od):\n",
    "    entry = entry.replace('../../', '')\n",
    "    entry = od+entry\n",
    "    return entry"
   ]
  },
  {
   "cell_type": "code",
   "execution_count": 8,
   "id": "45e805af-accf-4de6-a13f-9a658f60dc02",
   "metadata": {},
   "outputs": [],
   "source": [
    "mt_df = pd.read_csv('../data/05_mastertable/poder_master_table_fixed_genics.tsv', sep='\\t')\n",
    "# mt_df = mt_df.loc[mt_df['filter']=='pass']\n",
    "mt_df['pop_spec_t'] = (mt_df.population_sharing==1)&\\\n",
    "                      (mt_df.sample_sharing>1)\n",
    "mt_df['det_pop'] = mt_df[get_population_colors()[1]].idxmax(axis=1)"
   ]
  },
  {
   "cell_type": "markdown",
   "id": "cfb7a59f-c747-4ce8-803d-336f890b4d41",
   "metadata": {},
   "source": [
    "## What biotypes are population-specific transcripts generally? "
   ]
  },
  {
   "cell_type": "code",
   "execution_count": 10,
   "id": "70c46c95-3f13-43d0-b9d7-ead3a76e69a6",
   "metadata": {},
   "outputs": [
    {
     "data": {
      "text/html": [
       "<div>\n",
       "<style scoped>\n",
       "    .dataframe tbody tr th:only-of-type {\n",
       "        vertical-align: middle;\n",
       "    }\n",
       "\n",
       "    .dataframe tbody tr th {\n",
       "        vertical-align: top;\n",
       "    }\n",
       "\n",
       "    .dataframe thead th {\n",
       "        text-align: right;\n",
       "    }\n",
       "</style>\n",
       "<table border=\"1\" class=\"dataframe\">\n",
       "  <thead>\n",
       "    <tr style=\"text-align: right;\">\n",
       "      <th></th>\n",
       "      <th>isoform</th>\n",
       "    </tr>\n",
       "    <tr>\n",
       "      <th>associated_gene_biotype</th>\n",
       "      <th></th>\n",
       "    </tr>\n",
       "  </thead>\n",
       "  <tbody>\n",
       "    <tr>\n",
       "      <th>Novel/Ambiguous Gene</th>\n",
       "      <td>103</td>\n",
       "    </tr>\n",
       "    <tr>\n",
       "      <th>Protein Coding</th>\n",
       "      <td>1343</td>\n",
       "    </tr>\n",
       "    <tr>\n",
       "      <th>lncRNA</th>\n",
       "      <td>821</td>\n",
       "    </tr>\n",
       "  </tbody>\n",
       "</table>\n",
       "</div>"
      ],
      "text/plain": [
       "                         isoform\n",
       "associated_gene_biotype         \n",
       "Novel/Ambiguous Gene         103\n",
       "Protein Coding              1343\n",
       "lncRNA                       821"
      ]
     },
     "execution_count": 10,
     "metadata": {},
     "output_type": "execute_result"
    },
    {
     "data": {
      "image/png": "[encoded data removed]",
      "text/plain": [
       "<Figure size 432x288 with 1 Axes>"
      ]
     },
     "metadata": {
      "needs_background": "light"
     },
     "output_type": "display_data"
    }
   ],
   "source": [
    "temp = mt_df.loc[mt_df.pop_spec_t==True]\n",
    "sns.countplot(temp, x='associated_gene_biotype')\n",
    "temp[['isoform', 'associated_gene_biotype']].groupby('associated_gene_biotype').nunique()"
   ]
  },
  {
   "cell_type": "markdown",
   "id": "c3da7be8-9073-4cc9-94a6-313dff76cb80",
   "metadata": {},
   "source": [
    "## What's the breakdown of these biotypes per population where the thing was found in ? "
   ]
  },
  {
   "cell_type": "code",
   "execution_count": 9,
   "id": "5c078592-fdd8-4d67-bd64-533ab321f023",
   "metadata": {},
   "outputs": [
    {
     "data": {
      "text/plain": [
       "<AxesSubplot:xlabel='det_pop', ylabel='count'>"
      ]
     },
     "execution_count": 9,
     "metadata": {},
     "output_type": "execute_result"
    },
    {
     "data": {
      "image/png": "[encoded data removed]",
      "text/plain": [
       "<Figure size 432x288 with 1 Axes>"
      ]
     },
     "metadata": {
      "needs_background": "light"
     },
     "output_type": "display_data"
    }
   ],
   "source": [
    "temp = mt_df.loc[mt_df.pop_spec_t==True]\n",
    "temp = temp[['isoform', 'det_pop', 'associated_gene_biotype']]\n",
    "sns.countplot(temp, x='det_pop', hue='associated_gene_biotype')"
   ]
  },
  {
   "cell_type": "code",
   "execution_count": null,
   "id": "7caba2d8-14ea-4ac5-b8fa-414c3bec9dee",
   "metadata": {},
   "outputs": [],
   "source": []
  }
 ],
 "metadata": {
  "kernelspec": {
   "display_name": "Python 3",
   "language": "python",
   "name": "python3"
  },
  "language_info": {
   "codemirror_mode": {
    "name": "ipython",
    "version": 3
   },
   "file_extension": ".py",
   "mimetype": "text/x-python",
   "name": "python",
   "nbconvert_exporter": "python",
   "pygments_lexer": "ipython3",
   "version": "3.7.12"
  }
 },
 "nbformat": 4,
 "nbformat_minor": 5
}
