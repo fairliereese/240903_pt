{
 "cells": [
  {
   "cell_type": "markdown",
   "id": "4d016a59-48f4-4ae5-9de6-4fe81941e0b3",
   "metadata": {},
   "source": [
    "## Goal: We want to know to what extent highly-divergent variant positions in non-European populations are responsible for the appearance of novel exons\n",
    "We'll limit this analyses to the contrasts that have CEU in them, because we know that the annotation is European-biased, and therefore the novelty of exons is dependent on this bias"
   ]
  },
  {
   "cell_type": "code",
   "execution_count": 1,
   "id": "fc76a063-9f75-4b77-91ed-de7af2bd1a26",
   "metadata": {},
   "outputs": [],
   "source": [
    "import pandas as pd\n",
    "import numpy as np\n",
    "import scipy.stats as st\n",
    "import seaborn as sns\n",
    "import sys\n",
    "import os\n",
    "import matplotlib.pyplot as plt\n",
    "import swan_vis as swan\n",
    "import yaml\n",
    "from snakemake.io import expand\n",
    "import cerberus\n",
    "import pyranges as pr\n",
    "import upsetplot\n",
    "import math\n",
    "\n",
    "\n",
    "p = os.path.dirname(os.getcwd())\n",
    "sys.path.append(p)\n",
    "\n",
    "from scripts.utils import *\n",
    "from scripts.vcf_utils import *\n",
    "from scripts.plotting import *"
   ]
  },
  {
   "cell_type": "code",
   "execution_count": 2,
   "id": "23dbdecf-3ec4-4534-9c8a-1b309fd79256",
   "metadata": {},
   "outputs": [],
   "source": [
    "config = load_config()\n",
    "od = '../'\n",
    "\n",
    "def proc_cfg(entry, od):\n",
    "    entry = entry.replace('../../', '')\n",
    "    entry = od+entry\n",
    "    return entry"
   ]
  },
  {
   "cell_type": "code",
   "execution_count": 3,
   "id": "4feb7033-5624-44dc-a73e-0476667e6cc9",
   "metadata": {},
   "outputs": [
    {
     "name": "stdout",
     "output_type": "stream",
     "text": [
      "2943235\n",
      "1719222\n"
     ]
    },
    {
     "data": {
      "text/html": [
       "<div>\n",
       "<style scoped>\n",
       "    .dataframe tbody tr th:only-of-type {\n",
       "        vertical-align: middle;\n",
       "    }\n",
       "\n",
       "    .dataframe tbody tr th {\n",
       "        vertical-align: top;\n",
       "    }\n",
       "\n",
       "    .dataframe thead th {\n",
       "        text-align: right;\n",
       "    }\n",
       "</style>\n",
       "<table border=\"1\" class=\"dataframe\">\n",
       "  <thead>\n",
       "    <tr style=\"text-align: right;\">\n",
       "      <th></th>\n",
       "      <th>eid</th>\n",
       "      <th>novelty</th>\n",
       "      <th>pop1_det</th>\n",
       "      <th>pop2_det</th>\n",
       "      <th>Chromosome</th>\n",
       "      <th>Strand</th>\n",
       "      <th>Start</th>\n",
       "      <th>End</th>\n",
       "      <th>pop1</th>\n",
       "      <th>pop2</th>\n",
       "      <th>End_b</th>\n",
       "      <th>fst</th>\n",
       "      <th>Start_b</th>\n",
       "    </tr>\n",
       "  </thead>\n",
       "  <tbody>\n",
       "    <tr>\n",
       "      <th>197</th>\n",
       "      <td>chr1_+_100007033_100007156</td>\n",
       "      <td>Known</td>\n",
       "      <td>True</td>\n",
       "      <td>True</td>\n",
       "      <td>chr1</td>\n",
       "      <td>+</td>\n",
       "      <td>100007031</td>\n",
       "      <td>100007158</td>\n",
       "      <td>HAC</td>\n",
       "      <td>YRI</td>\n",
       "      <td>100007048</td>\n",
       "      <td>0.393014</td>\n",
       "      <td>100007047</td>\n",
       "    </tr>\n",
       "    <tr>\n",
       "      <th>198</th>\n",
       "      <td>chr1_+_100043072_100043229</td>\n",
       "      <td>Known</td>\n",
       "      <td>True</td>\n",
       "      <td>True</td>\n",
       "      <td>chr1</td>\n",
       "      <td>+</td>\n",
       "      <td>100043070</td>\n",
       "      <td>100043231</td>\n",
       "      <td>HAC</td>\n",
       "      <td>YRI</td>\n",
       "      <td>100043099</td>\n",
       "      <td>0.041198</td>\n",
       "      <td>100043098</td>\n",
       "    </tr>\n",
       "    <tr>\n",
       "      <th>199</th>\n",
       "      <td>chr1_+_100043072_100043229</td>\n",
       "      <td>Known</td>\n",
       "      <td>True</td>\n",
       "      <td>True</td>\n",
       "      <td>chr1</td>\n",
       "      <td>+</td>\n",
       "      <td>100043070</td>\n",
       "      <td>100043231</td>\n",
       "      <td>HAC</td>\n",
       "      <td>YRI</td>\n",
       "      <td>100043213</td>\n",
       "      <td>0.000000</td>\n",
       "      <td>100043212</td>\n",
       "    </tr>\n",
       "    <tr>\n",
       "      <th>200</th>\n",
       "      <td>chr1_+_100049908_100050004</td>\n",
       "      <td>Known</td>\n",
       "      <td>True</td>\n",
       "      <td>True</td>\n",
       "      <td>chr1</td>\n",
       "      <td>+</td>\n",
       "      <td>100049906</td>\n",
       "      <td>100050006</td>\n",
       "      <td>HAC</td>\n",
       "      <td>YRI</td>\n",
       "      <td>100049941</td>\n",
       "      <td>0.018298</td>\n",
       "      <td>100049940</td>\n",
       "    </tr>\n",
       "    <tr>\n",
       "      <th>201</th>\n",
       "      <td>chr1_+_100140407_100141019</td>\n",
       "      <td>Known</td>\n",
       "      <td>True</td>\n",
       "      <td>True</td>\n",
       "      <td>chr1</td>\n",
       "      <td>+</td>\n",
       "      <td>100140405</td>\n",
       "      <td>100141021</td>\n",
       "      <td>HAC</td>\n",
       "      <td>YRI</td>\n",
       "      <td>100140797</td>\n",
       "      <td>0.047965</td>\n",
       "      <td>100140796</td>\n",
       "    </tr>\n",
       "  </tbody>\n",
       "</table>\n",
       "</div>"
      ],
      "text/plain": [
       "                            eid novelty  pop1_det  pop2_det Chromosome Strand  \\\n",
       "197  chr1_+_100007033_100007156   Known      True      True       chr1      +   \n",
       "198  chr1_+_100043072_100043229   Known      True      True       chr1      +   \n",
       "199  chr1_+_100043072_100043229   Known      True      True       chr1      +   \n",
       "200  chr1_+_100049908_100050004   Known      True      True       chr1      +   \n",
       "201  chr1_+_100140407_100141019   Known      True      True       chr1      +   \n",
       "\n",
       "         Start        End pop1 pop2      End_b       fst    Start_b  \n",
       "197  100007031  100007158  HAC  YRI  100007048  0.393014  100007047  \n",
       "198  100043070  100043231  HAC  YRI  100043099  0.041198  100043098  \n",
       "199  100043070  100043231  HAC  YRI  100043213  0.000000  100043212  \n",
       "200  100049906  100050006  HAC  YRI  100049941  0.018298  100049940  \n",
       "201  100140405  100141021  HAC  YRI  100140797  0.047965  100140796  "
      ]
     },
     "execution_count": 3,
     "metadata": {},
     "output_type": "execute_result"
    }
   ],
   "source": [
    "df = pd.read_csv(proc_cfg(config['lr']['exons_ss_in_pops_fsts_summary'], od),\n",
    "                 sep='\\t')\n",
    "df.rename({'pop2_der':'pop2_det'}, \n",
    "          axis=1, inplace=True)\n",
    "\n",
    "# set all <0 fsts --> 0 https://www.biostars.org/p/132253/\n",
    "df.loc[df.fst<0, 'fst'] = 0\n",
    "\n",
    "# since this is biallelic snp level, remove all exons that didnt intersect\n",
    "print(len(df.index))\n",
    "df = df.loc[df.End_b!=-1]\n",
    "print(len(df.index))"
   ]
  },
  {
   "cell_type": "code",
   "execution_count": 5,
   "id": "98bae8a9-3a90-4a94-892a-c82831038181",
   "metadata": {},
   "outputs": [
    {
     "data": {
      "text/html": [
       "<div>\n",
       "<style scoped>\n",
       "    .dataframe tbody tr th:only-of-type {\n",
       "        vertical-align: middle;\n",
       "    }\n",
       "\n",
       "    .dataframe tbody tr th {\n",
       "        vertical-align: top;\n",
       "    }\n",
       "\n",
       "    .dataframe thead th {\n",
       "        text-align: right;\n",
       "    }\n",
       "</style>\n",
       "<table border=\"1\" class=\"dataframe\">\n",
       "  <thead>\n",
       "    <tr style=\"text-align: right;\">\n",
       "      <th></th>\n",
       "      <th>eid</th>\n",
       "      <th>novelty</th>\n",
       "      <th>pop1_det</th>\n",
       "      <th>pop2_det</th>\n",
       "      <th>Chromosome</th>\n",
       "      <th>Strand</th>\n",
       "      <th>Start</th>\n",
       "      <th>End</th>\n",
       "      <th>pop1</th>\n",
       "      <th>pop2</th>\n",
       "      <th>End_b</th>\n",
       "      <th>fst</th>\n",
       "      <th>Start_b</th>\n",
       "    </tr>\n",
       "  </thead>\n",
       "  <tbody>\n",
       "    <tr>\n",
       "      <th>771951</th>\n",
       "      <td>chr1_+_100007033_100007156</td>\n",
       "      <td>Known</td>\n",
       "      <td>True</td>\n",
       "      <td>True</td>\n",
       "      <td>chr1</td>\n",
       "      <td>+</td>\n",
       "      <td>100007031</td>\n",
       "      <td>100007158</td>\n",
       "      <td>HAC</td>\n",
       "      <td>CEU</td>\n",
       "      <td>100007048</td>\n",
       "      <td>0.043518</td>\n",
       "      <td>100007047</td>\n",
       "    </tr>\n",
       "    <tr>\n",
       "      <th>771952</th>\n",
       "      <td>chr1_+_100043072_100043229</td>\n",
       "      <td>Known</td>\n",
       "      <td>True</td>\n",
       "      <td>True</td>\n",
       "      <td>chr1</td>\n",
       "      <td>+</td>\n",
       "      <td>100043070</td>\n",
       "      <td>100043231</td>\n",
       "      <td>HAC</td>\n",
       "      <td>CEU</td>\n",
       "      <td>100043099</td>\n",
       "      <td>0.018770</td>\n",
       "      <td>100043098</td>\n",
       "    </tr>\n",
       "    <tr>\n",
       "      <th>771953</th>\n",
       "      <td>chr1_+_100049908_100050004</td>\n",
       "      <td>Known</td>\n",
       "      <td>True</td>\n",
       "      <td>True</td>\n",
       "      <td>chr1</td>\n",
       "      <td>+</td>\n",
       "      <td>100049906</td>\n",
       "      <td>100050006</td>\n",
       "      <td>HAC</td>\n",
       "      <td>CEU</td>\n",
       "      <td>100049941</td>\n",
       "      <td>0.035394</td>\n",
       "      <td>100049940</td>\n",
       "    </tr>\n",
       "    <tr>\n",
       "      <th>771954</th>\n",
       "      <td>chr1_+_100049908_100050004</td>\n",
       "      <td>Known</td>\n",
       "      <td>True</td>\n",
       "      <td>True</td>\n",
       "      <td>chr1</td>\n",
       "      <td>+</td>\n",
       "      <td>100049906</td>\n",
       "      <td>100050006</td>\n",
       "      <td>HAC</td>\n",
       "      <td>CEU</td>\n",
       "      <td>100049981</td>\n",
       "      <td>0.000000</td>\n",
       "      <td>100049980</td>\n",
       "    </tr>\n",
       "    <tr>\n",
       "      <th>771955</th>\n",
       "      <td>chr1_+_100140407_100141019</td>\n",
       "      <td>Known</td>\n",
       "      <td>True</td>\n",
       "      <td>True</td>\n",
       "      <td>chr1</td>\n",
       "      <td>+</td>\n",
       "      <td>100140405</td>\n",
       "      <td>100141021</td>\n",
       "      <td>HAC</td>\n",
       "      <td>CEU</td>\n",
       "      <td>100140998</td>\n",
       "      <td>0.002820</td>\n",
       "      <td>100140997</td>\n",
       "    </tr>\n",
       "  </tbody>\n",
       "</table>\n",
       "</div>"
      ],
      "text/plain": [
       "                               eid novelty  pop1_det  pop2_det Chromosome  \\\n",
       "771951  chr1_+_100007033_100007156   Known      True      True       chr1   \n",
       "771952  chr1_+_100043072_100043229   Known      True      True       chr1   \n",
       "771953  chr1_+_100049908_100050004   Known      True      True       chr1   \n",
       "771954  chr1_+_100049908_100050004   Known      True      True       chr1   \n",
       "771955  chr1_+_100140407_100141019   Known      True      True       chr1   \n",
       "\n",
       "       Strand      Start        End pop1 pop2      End_b       fst    Start_b  \n",
       "771951      +  100007031  100007158  HAC  CEU  100007048  0.043518  100007047  \n",
       "771952      +  100043070  100043231  HAC  CEU  100043099  0.018770  100043098  \n",
       "771953      +  100049906  100050006  HAC  CEU  100049941  0.035394  100049940  \n",
       "771954      +  100049906  100050006  HAC  CEU  100049981  0.000000  100049980  \n",
       "771955      +  100140405  100141021  HAC  CEU  100140998  0.002820  100140997  "
      ]
     },
     "execution_count": 5,
     "metadata": {},
     "output_type": "execute_result"
    }
   ],
   "source": [
    "# 1. limit to just contrasts that involve CEU\n",
    "df = df.loc[(df.pop1=='CEU')|(df.pop2=='CEU')]"
   ]
  },
  {
   "cell_type": "code",
   "execution_count": 8,
   "id": "a609078d-e0d5-4c83-b20f-4ff718dc597a",
   "metadata": {},
   "outputs": [
    {
     "data": {
      "image/png": "[encoded data removed]",
      "text/plain": [
       "<Figure size 508.61x360 with 1 Axes>"
      ]
     },
     "metadata": {
      "needs_background": "light"
     },
     "output_type": "display_data"
    }
   ],
   "source": [
    "# plot distribution of Fsts\n",
    "df['contrast'] = df.pop1+'_'+df.pop2\n",
    "init_plot_settings()\n",
    "ax = sns.displot(df, \n",
    "            x='fst',\n",
    "            hue='contrast',\n",
    "            kind='kde')      "
   ]
  },
  {
   "cell_type": "code",
   "execution_count": 10,
   "id": "00c817dc-2fd7-4d94-8c84-b64b03dbcd26",
   "metadata": {},
   "outputs": [
    {
     "data": {
      "image/png": "[encoded data removed]",
      "text/plain": [
       "<Figure size 508.61x360 with 1 Axes>"
      ]
     },
     "metadata": {
      "needs_background": "light"
     },
     "output_type": "display_data"
    }
   ],
   "source": [
    "# plot distribution of Fsts\n",
    "df['contrast'] = df.pop1+'_'+df.pop2\n",
    "init_plot_settings()\n",
    "ax = sns.displot(df, \n",
    "            x='fst',\n",
    "            hue='contrast',\n",
    "            kind='ecdf')      "
   ]
  },
  {
   "cell_type": "code",
   "execution_count": 9,
   "id": "d24d1bfe-65d1-4624-88e1-6aa6be7c03b0",
   "metadata": {},
   "outputs": [
    {
     "data": {
      "image/png": "[encoded data removed]",
      "text/plain": [
       "<Figure size 508.61x360 with 1 Axes>"
      ]
     },
     "metadata": {
      "needs_background": "light"
     },
     "output_type": "display_data"
    }
   ],
   "source": [
    "# plot distribution of Fsts\n",
    "temp = df.loc[df.fst<0.5]\n",
    "init_plot_settings()\n",
    "ax = sns.displot(temp, \n",
    "            x='fst',\n",
    "            hue='contrast',\n",
    "            kind='kde')      "
   ]
  },
  {
   "cell_type": "code",
   "execution_count": 11,
   "id": "5be1e5c5-c776-4773-8bf2-54a83370e047",
   "metadata": {},
   "outputs": [],
   "source": [
    "# 2. call variant positions as divergent or non-divergent\n",
    "div_thresh = 0.2\n",
    "df['divergent'] = df.fst>=div_thresh"
   ]
  },
  {
   "cell_type": "code",
   "execution_count": 99,
   "id": "a2f852c1-c0d0-435e-ab1e-f81863f0dda2",
   "metadata": {
    "tags": []
   },
   "outputs": [
    {
     "name": "stdout",
     "output_type": "stream",
     "text": [
      "label      HAC-CEU shared  Novel 5'/3', HAC-unique\n",
      "divergent                                         \n",
      "False               60554                     1725\n",
      "True                 2700                       98\n",
      "HAC vs. CEU\n",
      "Hypoth: variant positions intersecting Novel 5'/3' exons are enriched for being divergent\n",
      "Odds Ratio: 1.2741367686527107\n",
      "P-value: 0.014680523125825155\n",
      "\n",
      "label      YRI-CEU shared  Novel 5'/3', YRI-unique\n",
      "divergent                                         \n",
      "False               91423                     1902\n",
      "True                 4987                      135\n",
      "CEU vs. YRI\n",
      "Hypoth: variant positions intersecting Novel 5'/3' exons are enriched for being divergent\n",
      "Odds Ratio: 1.3011859225152589\n",
      "P-value: 0.0027051860456251443\n",
      "\n",
      "label      PEL-CEU shared  Novel 5'/3', PEL-unique\n",
      "divergent                                         \n",
      "False               59424                     1621\n",
      "True                 1943                       45\n",
      "CEU vs. PEL\n",
      "Hypoth: variant positions intersecting Novel 5'/3' exons are enriched for being divergent\n",
      "Odds Ratio: 0.8490212893498006\n",
      "P-value: 0.8750336534204789\n",
      "\n",
      "label      LWK-CEU shared  Novel 5'/3', LWK-unique\n",
      "divergent                                         \n",
      "False               84422                     1657\n",
      "True                 4966                      110\n",
      "CEU vs. LWK\n",
      "Hypoth: variant positions intersecting Novel 5'/3' exons are enriched for being divergent\n",
      "Odds Ratio: 1.1285455642727822\n",
      "P-value: 0.12330574772392992\n",
      "\n",
      "label      ITU-CEU shared  Novel 5'/3', ITU-unique\n",
      "divergent                                         \n",
      "False               61915                     1384\n",
      "True                  496                       12\n",
      "CEU vs. ITU\n",
      "Hypoth: variant positions intersecting Novel 5'/3' exons are enriched for being divergent\n",
      "Odds Ratio: 1.082329153458885\n",
      "P-value: 0.4345622971504705\n",
      "\n",
      "label      HAC-CEU shared  Novel, HAC-unique\n",
      "divergent                                   \n",
      "False               60554               1526\n",
      "True                 2700                 73\n",
      "HAC vs. CEU\n",
      "Hypoth: variant positions intersecting Novel exons are enriched for being divergent\n",
      "Odds Ratio: 1.0728707344303674\n",
      "P-value: 0.2980185185603983\n",
      "\n",
      "label      YRI-CEU shared  Novel, YRI-unique\n",
      "divergent                                   \n",
      "False               91423               2014\n",
      "True                 4987                115\n",
      "CEU vs. YRI\n",
      "Hypoth: variant positions intersecting Novel exons are enriched for being divergent\n",
      "Odds Ratio: 1.0467777293455536\n",
      "P-value: 0.33228690685266393\n",
      "\n",
      "label      PEL-CEU shared  Novel, PEL-unique\n",
      "divergent                                   \n",
      "False               59424               1552\n",
      "True                 1943                 43\n",
      "CEU vs. PEL\n",
      "Hypoth: variant positions intersecting Novel exons are enriched for being divergent\n",
      "Odds Ratio: 0.847355826625847\n",
      "P-value: 0.8730258732865904\n",
      "\n",
      "label      LWK-CEU shared  Novel, LWK-unique\n",
      "divergent                                   \n",
      "False               84422               1279\n",
      "True                 4966                 90\n",
      "CEU vs. LWK\n",
      "Hypoth: variant positions intersecting Novel exons are enriched for being divergent\n",
      "Odds Ratio: 1.1962470680218922\n",
      "P-value: 0.06073493877004667\n",
      "\n",
      "label      ITU-CEU shared  Novel, ITU-unique\n",
      "divergent                                   \n",
      "False               61915               1416\n",
      "True                  496                 12\n",
      "CEU vs. ITU\n",
      "Hypoth: variant positions intersecting Novel exons are enriched for being divergent\n",
      "Odds Ratio: 1.057869737561509\n",
      "P-value: 0.46467118173502137\n",
      "\n"
     ]
    }
   ],
   "source": [
    "# loop through each contrast\n",
    "cont_df = pd.DataFrame()\n",
    "stat_df = pd.DataFrame()\n",
    "for nov in [\"Novel 5'/3'\", 'Novel']:\n",
    "    for pop1, pop2 in zip(df[['pop1', 'pop2']].drop_duplicates()['pop1'].tolist(),\n",
    "                          df[['pop1', 'pop2']].drop_duplicates()['pop2'].tolist()):\n",
    "        temp = df.loc[(df.pop1==pop1)&(df.pop2==pop2)]\n",
    "        temp.rename({'pop1_det':pop1,\n",
    "                 'pop2_det':pop2}, axis=1, inplace=True)\n",
    "        \n",
    "        # ensure we're always talking about uniq exon+variant pos pairs\n",
    "        assert len(temp.index) == len(temp[['eid', 'End_b', 'Start_b']].drop_duplicates())\n",
    "\n",
    "        # 3. compute contingency table and test\n",
    "        # columns --> intersects novel exon; intersects any exon\n",
    "        # rows --> highly divergent vs. not divergent\n",
    "\n",
    "        non_ceu_pop = [p for p in [pop1, pop2] if p != 'CEU'][0]\n",
    "\n",
    "        # testing variants\n",
    "        # - intersecting novel exons ONLY detected in the non-CEU pop\n",
    "        nov_uniq_df = temp.loc[(temp[non_ceu_pop]==True)&\\\n",
    "                               (temp['CEU']==False)&\\\n",
    "                               (temp.novelty==nov)]\n",
    "        nov_uniq_df = nov_uniq_df[['divergent', 'eid']].groupby('divergent').count().rename({'eid':'n_var_exon_pairs'}, axis=1).reset_index()\n",
    "        nov_uniq_col = f'{nov}, {non_ceu_pop}-unique'\n",
    "        nov_uniq_df['label'] = nov_uniq_col\n",
    "\n",
    "        # background varians\n",
    "        # - intersecting known or novel exons which are detected in both\n",
    "        bg_df = temp.loc[(temp[non_ceu_pop]==True)&\\\n",
    "                         (temp['CEU']==True)]\n",
    "        bg_df = bg_df[['divergent', 'eid']].groupby('divergent').count().rename({'eid':'n_var_exon_pairs'}, axis=1).reset_index()\n",
    "        bg_col = f'{non_ceu_pop}-CEU shared'\n",
    "        bg_df['label'] = bg_col\n",
    "\n",
    "        temp = pd.concat([nov_uniq_df, bg_df], axis=0)\n",
    "\n",
    "        temp = temp.pivot(index='divergent',\n",
    "                          values = 'n_var_exon_pairs',\n",
    "                          columns = 'label')\n",
    "        temp = temp.sort_index()\n",
    "        temp = temp[[bg_col, nov_uniq_col]]\n",
    "        print(temp)\n",
    "        \n",
    "        temp = temp.values\n",
    "\n",
    "        # Perform Fisher's Exact Test\n",
    "        odds_ratio, p_value = st.fisher_exact(temp, alternative='greater')\n",
    "\n",
    "        print(f'{pop1} vs. {pop2}')\n",
    "        print(f'Hypoth: variant positions intersecting {nov} exons are enriched for being divergent')\n",
    "        print(\"Odds Ratio:\", odds_ratio)\n",
    "        print(\"P-value:\", p_value)\n",
    "        print()\n",
    "        \n",
    "        temp3 = pd.DataFrame(data=[[pop1, pop2, odds_ratio, p_value, nov]], \n",
    "                         columns=['pop1', 'pop2', 'odds_ratio', 'pval', 'novelty'])\n",
    "        stat_df = pd.concat([stat_df, temp3], axis=0)        "
   ]
  },
  {
   "cell_type": "code",
   "execution_count": 101,
   "id": "87f3c912-1554-4ee9-8dbf-c3794802f31a",
   "metadata": {},
   "outputs": [
    {
     "data": {
      "text/html": [
       "<div>\n",
       "<style scoped>\n",
       "    .dataframe tbody tr th:only-of-type {\n",
       "        vertical-align: middle;\n",
       "    }\n",
       "\n",
       "    .dataframe tbody tr th {\n",
       "        vertical-align: top;\n",
       "    }\n",
       "\n",
       "    .dataframe thead th {\n",
       "        text-align: right;\n",
       "    }\n",
       "</style>\n",
       "<table border=\"1\" class=\"dataframe\">\n",
       "  <thead>\n",
       "    <tr style=\"text-align: right;\">\n",
       "      <th></th>\n",
       "      <th>pop1</th>\n",
       "      <th>pop2</th>\n",
       "      <th>odds_ratio</th>\n",
       "      <th>pval</th>\n",
       "      <th>novelty</th>\n",
       "      <th>contrast</th>\n",
       "    </tr>\n",
       "  </thead>\n",
       "  <tbody>\n",
       "    <tr>\n",
       "      <th>0</th>\n",
       "      <td>HAC</td>\n",
       "      <td>CEU</td>\n",
       "      <td>1.274137</td>\n",
       "      <td>0.014681</td>\n",
       "      <td>Novel 5'/3'</td>\n",
       "      <td>HAC_CEU</td>\n",
       "    </tr>\n",
       "    <tr>\n",
       "      <th>0</th>\n",
       "      <td>CEU</td>\n",
       "      <td>YRI</td>\n",
       "      <td>1.301186</td>\n",
       "      <td>0.002705</td>\n",
       "      <td>Novel 5'/3'</td>\n",
       "      <td>CEU_YRI</td>\n",
       "    </tr>\n",
       "    <tr>\n",
       "      <th>0</th>\n",
       "      <td>CEU</td>\n",
       "      <td>PEL</td>\n",
       "      <td>0.849021</td>\n",
       "      <td>0.875034</td>\n",
       "      <td>Novel 5'/3'</td>\n",
       "      <td>CEU_PEL</td>\n",
       "    </tr>\n",
       "    <tr>\n",
       "      <th>0</th>\n",
       "      <td>CEU</td>\n",
       "      <td>LWK</td>\n",
       "      <td>1.128546</td>\n",
       "      <td>0.123306</td>\n",
       "      <td>Novel 5'/3'</td>\n",
       "      <td>CEU_LWK</td>\n",
       "    </tr>\n",
       "    <tr>\n",
       "      <th>0</th>\n",
       "      <td>CEU</td>\n",
       "      <td>ITU</td>\n",
       "      <td>1.082329</td>\n",
       "      <td>0.434562</td>\n",
       "      <td>Novel 5'/3'</td>\n",
       "      <td>CEU_ITU</td>\n",
       "    </tr>\n",
       "  </tbody>\n",
       "</table>\n",
       "</div>"
      ],
      "text/plain": [
       "  pop1 pop2  odds_ratio      pval      novelty contrast\n",
       "0  HAC  CEU    1.274137  0.014681  Novel 5'/3'  HAC_CEU\n",
       "0  CEU  YRI    1.301186  0.002705  Novel 5'/3'  CEU_YRI\n",
       "0  CEU  PEL    0.849021  0.875034  Novel 5'/3'  CEU_PEL\n",
       "0  CEU  LWK    1.128546  0.123306  Novel 5'/3'  CEU_LWK\n",
       "0  CEU  ITU    1.082329  0.434562  Novel 5'/3'  CEU_ITU"
      ]
     },
     "execution_count": 101,
     "metadata": {},
     "output_type": "execute_result"
    }
   ],
   "source": [
    "stat_df.head()\n",
    "stat_df['contrast'] = stat_df.pop1+'_'+stat_df.pop2\n",
    "stat_df.head()"
   ]
  },
  {
   "cell_type": "code",
   "execution_count": 105,
   "id": "1bdf203b-ee0e-498e-8ca6-39b602570044",
   "metadata": {},
   "outputs": [
    {
     "data": {
      "image/png": "[encoded data removed]",
      "text/plain": [
       "<Figure size 360x360 with 1 Axes>"
      ]
     },
     "metadata": {
      "needs_background": "light"
     },
     "output_type": "display_data"
    }
   ],
   "source": [
    "ax = sns.barplot(stat_df, \n",
    "            y='odds_ratio', \n",
    "            hue='novelty',\n",
    "            x='contrast')\n",
    "ax.spines['right'].set_visible(False)\n",
    "ax.spines['top'].set_visible(False)\n",
    "ax.tick_params(axis='x', rotation=45)"
   ]
  },
  {
   "cell_type": "code",
   "execution_count": 106,
   "id": "3f7ff329-c3d5-4947-9185-410355f443e8",
   "metadata": {},
   "outputs": [
    {
     "data": {
      "image/png": "[encoded data removed]",
      "text/plain": [
       "<Figure size 360x360 with 1 Axes>"
      ]
     },
     "metadata": {
      "needs_background": "light"
     },
     "output_type": "display_data"
    }
   ],
   "source": [
    "ax = sns.barplot(stat_df, \n",
    "            y='pval', \n",
    "            hue='novelty',\n",
    "            x='contrast')\n",
    "ax.spines['right'].set_visible(False)\n",
    "ax.spines['top'].set_visible(False)\n",
    "ax.tick_params(axis='x', rotation=45)"
   ]
  },
  {
   "cell_type": "code",
   "execution_count": 119,
   "id": "fcc4542c-3fac-4513-87cf-400349364260",
   "metadata": {},
   "outputs": [
    {
     "data": {
      "text/html": [
       "<div>\n",
       "<style scoped>\n",
       "    .dataframe tbody tr th:only-of-type {\n",
       "        vertical-align: middle;\n",
       "    }\n",
       "\n",
       "    .dataframe tbody tr th {\n",
       "        vertical-align: top;\n",
       "    }\n",
       "\n",
       "    .dataframe thead th {\n",
       "        text-align: right;\n",
       "    }\n",
       "</style>\n",
       "<table border=\"1\" class=\"dataframe\">\n",
       "  <thead>\n",
       "    <tr style=\"text-align: right;\">\n",
       "      <th></th>\n",
       "      <th>pop1</th>\n",
       "      <th>pop2</th>\n",
       "      <th>odds_ratio</th>\n",
       "      <th>pval</th>\n",
       "      <th>novelty</th>\n",
       "      <th>contrast</th>\n",
       "    </tr>\n",
       "  </thead>\n",
       "  <tbody>\n",
       "    <tr>\n",
       "      <th>0</th>\n",
       "      <td>HAC</td>\n",
       "      <td>CEU</td>\n",
       "      <td>1.274137</td>\n",
       "      <td>0.014681</td>\n",
       "      <td>Novel 5'/3'</td>\n",
       "      <td>HAC_CEU</td>\n",
       "    </tr>\n",
       "    <tr>\n",
       "      <th>0</th>\n",
       "      <td>CEU</td>\n",
       "      <td>YRI</td>\n",
       "      <td>1.301186</td>\n",
       "      <td>0.002705</td>\n",
       "      <td>Novel 5'/3'</td>\n",
       "      <td>CEU_YRI</td>\n",
       "    </tr>\n",
       "    <tr>\n",
       "      <th>0</th>\n",
       "      <td>CEU</td>\n",
       "      <td>PEL</td>\n",
       "      <td>0.849021</td>\n",
       "      <td>0.875034</td>\n",
       "      <td>Novel 5'/3'</td>\n",
       "      <td>CEU_PEL</td>\n",
       "    </tr>\n",
       "    <tr>\n",
       "      <th>0</th>\n",
       "      <td>CEU</td>\n",
       "      <td>LWK</td>\n",
       "      <td>1.128546</td>\n",
       "      <td>0.123306</td>\n",
       "      <td>Novel 5'/3'</td>\n",
       "      <td>CEU_LWK</td>\n",
       "    </tr>\n",
       "    <tr>\n",
       "      <th>0</th>\n",
       "      <td>CEU</td>\n",
       "      <td>ITU</td>\n",
       "      <td>1.082329</td>\n",
       "      <td>0.434562</td>\n",
       "      <td>Novel 5'/3'</td>\n",
       "      <td>CEU_ITU</td>\n",
       "    </tr>\n",
       "    <tr>\n",
       "      <th>0</th>\n",
       "      <td>HAC</td>\n",
       "      <td>CEU</td>\n",
       "      <td>1.072871</td>\n",
       "      <td>0.298019</td>\n",
       "      <td>Novel</td>\n",
       "      <td>HAC_CEU</td>\n",
       "    </tr>\n",
       "    <tr>\n",
       "      <th>0</th>\n",
       "      <td>CEU</td>\n",
       "      <td>YRI</td>\n",
       "      <td>1.046778</td>\n",
       "      <td>0.332287</td>\n",
       "      <td>Novel</td>\n",
       "      <td>CEU_YRI</td>\n",
       "    </tr>\n",
       "    <tr>\n",
       "      <th>0</th>\n",
       "      <td>CEU</td>\n",
       "      <td>PEL</td>\n",
       "      <td>0.847356</td>\n",
       "      <td>0.873026</td>\n",
       "      <td>Novel</td>\n",
       "      <td>CEU_PEL</td>\n",
       "    </tr>\n",
       "    <tr>\n",
       "      <th>0</th>\n",
       "      <td>CEU</td>\n",
       "      <td>LWK</td>\n",
       "      <td>1.196247</td>\n",
       "      <td>0.060735</td>\n",
       "      <td>Novel</td>\n",
       "      <td>CEU_LWK</td>\n",
       "    </tr>\n",
       "    <tr>\n",
       "      <th>0</th>\n",
       "      <td>CEU</td>\n",
       "      <td>ITU</td>\n",
       "      <td>1.057870</td>\n",
       "      <td>0.464671</td>\n",
       "      <td>Novel</td>\n",
       "      <td>CEU_ITU</td>\n",
       "    </tr>\n",
       "  </tbody>\n",
       "</table>\n",
       "</div>"
      ],
      "text/plain": [
       "  pop1 pop2  odds_ratio      pval      novelty contrast\n",
       "0  HAC  CEU    1.274137  0.014681  Novel 5'/3'  HAC_CEU\n",
       "0  CEU  YRI    1.301186  0.002705  Novel 5'/3'  CEU_YRI\n",
       "0  CEU  PEL    0.849021  0.875034  Novel 5'/3'  CEU_PEL\n",
       "0  CEU  LWK    1.128546  0.123306  Novel 5'/3'  CEU_LWK\n",
       "0  CEU  ITU    1.082329  0.434562  Novel 5'/3'  CEU_ITU\n",
       "0  HAC  CEU    1.072871  0.298019        Novel  HAC_CEU\n",
       "0  CEU  YRI    1.046778  0.332287        Novel  CEU_YRI\n",
       "0  CEU  PEL    0.847356  0.873026        Novel  CEU_PEL\n",
       "0  CEU  LWK    1.196247  0.060735        Novel  CEU_LWK\n",
       "0  CEU  ITU    1.057870  0.464671        Novel  CEU_ITU"
      ]
     },
     "execution_count": 119,
     "metadata": {},
     "output_type": "execute_result"
    }
   ],
   "source": [
    "stat_df"
   ]
  },
  {
   "cell_type": "code",
   "execution_count": 120,
   "id": "b29e0afb-b469-44a2-a355-95fb60211ce3",
   "metadata": {},
   "outputs": [],
   "source": [
    "stat_df['sig'] = stat_df.pval<=0.05"
   ]
  },
  {
   "cell_type": "code",
   "execution_count": 121,
   "id": "c9e0d3e3-70a7-459f-9961-caf823929398",
   "metadata": {},
   "outputs": [
    {
     "data": {
      "text/plain": [
       "<seaborn.axisgrid.FacetGrid at 0x7fe182482a90>"
      ]
     },
     "execution_count": 121,
     "metadata": {},
     "output_type": "execute_result"
    },
    {
     "data": {
      "image/png": "[encoded data removed]",
      "text/plain": [
       "<Figure size 826.485x360 with 2 Axes>"
      ]
     },
     "metadata": {
      "needs_background": "light"
     },
     "output_type": "display_data"
    }
   ],
   "source": [
    "sns.relplot(stat_df,\n",
    "                y='contrast',\n",
    "                x='odds_ratio', \n",
    "                hue='sig', \n",
    "                col='novelty',\n",
    "                sizes=(100, 100))\n",
    "                "
   ]
  },
  {
   "cell_type": "code",
   "execution_count": null,
   "id": "5426e67c-7cec-41d4-a947-728c3c0c25c8",
   "metadata": {},
   "outputs": [],
   "source": []
  },
  {
   "cell_type": "code",
   "execution_count": null,
   "id": "5e63944f-3bd9-414e-b4e1-31dc44e4bea1",
   "metadata": {},
   "outputs": [],
   "source": []
  },
  {
   "cell_type": "code",
   "execution_count": null,
   "id": "801beeac-0f60-4943-8f4f-828572fb2852",
   "metadata": {},
   "outputs": [],
   "source": []
  },
  {
   "cell_type": "code",
   "execution_count": null,
   "id": "645e1fb3-d91d-47a7-afd8-b4ff16e712ed",
   "metadata": {},
   "outputs": [],
   "source": []
  },
  {
   "cell_type": "code",
   "execution_count": null,
   "id": "eacab6ca-5d39-42fc-9df1-a7cf1ef112b3",
   "metadata": {},
   "outputs": [],
   "source": []
  },
  {
   "cell_type": "code",
   "execution_count": null,
   "id": "8d71d7af-ac21-4e03-9c7c-c04fac09adc7",
   "metadata": {},
   "outputs": [],
   "source": []
  },
  {
   "cell_type": "code",
   "execution_count": 92,
   "id": "f9419814-39d3-4f12-aa23-149a018cec9e",
   "metadata": {},
   "outputs": [],
   "source": [
    "# loop through each contrast\n",
    "stat_df = pd.DataFrame()\n",
    "for nov in [\"Novel 5'/3'\", 'Novel']:\n",
    "    for pop1, pop2 in zip(df[['pop1', 'pop2']].drop_duplicates()['pop1'].tolist(),\n",
    "                          df[['pop1', 'pop2']].drop_duplicates()['pop2'].tolist()):\n",
    "        temp = df.loc[(df.pop1==pop1)&(df.pop2==pop2)]\n",
    "        temp.rename({'pop1_det':pop1,\n",
    "                 'pop2_det':pop2}, axis=1, inplace=True)\n",
    "        \n",
    "        # ensure we're always talking about uniq exon+variant pos pairs\n",
    "        assert len(temp.index) == len(temp[['eid', 'End_b', 'Start_b']].drop_duplicates())\n",
    "        \n",
    "        temp = temp.loc[temp.novelty.isin([nov, 'Known'])]\n",
    "        break\n",
    "    break"
   ]
  },
  {
   "cell_type": "code",
   "execution_count": 93,
   "id": "15b9d831-3d3c-4cf5-a2d8-262af960c83f",
   "metadata": {},
   "outputs": [
    {
     "data": {
      "text/html": [
       "<div>\n",
       "<style scoped>\n",
       "    .dataframe tbody tr th:only-of-type {\n",
       "        vertical-align: middle;\n",
       "    }\n",
       "\n",
       "    .dataframe tbody tr th {\n",
       "        vertical-align: top;\n",
       "    }\n",
       "\n",
       "    .dataframe thead th {\n",
       "        text-align: right;\n",
       "    }\n",
       "</style>\n",
       "<table border=\"1\" class=\"dataframe\">\n",
       "  <thead>\n",
       "    <tr style=\"text-align: right;\">\n",
       "      <th>novelty</th>\n",
       "      <th>Known</th>\n",
       "      <th>Novel 5'/3'</th>\n",
       "    </tr>\n",
       "    <tr>\n",
       "      <th>divergent</th>\n",
       "      <th></th>\n",
       "      <th></th>\n",
       "    </tr>\n",
       "  </thead>\n",
       "  <tbody>\n",
       "    <tr>\n",
       "      <th>False</th>\n",
       "      <td>81798</td>\n",
       "      <td>4851</td>\n",
       "    </tr>\n",
       "    <tr>\n",
       "      <th>True</th>\n",
       "      <td>3724</td>\n",
       "      <td>266</td>\n",
       "    </tr>\n",
       "  </tbody>\n",
       "</table>\n",
       "</div>"
      ],
      "text/plain": [
       "novelty    Known  Novel 5'/3'\n",
       "divergent                    \n",
       "False      81798         4851\n",
       "True        3724          266"
      ]
     },
     "execution_count": 93,
     "metadata": {},
     "output_type": "execute_result"
    }
   ],
   "source": [
    "temp = temp[['eid', 'novelty', 'divergent']].groupby(['novelty', 'divergent']).count().reset_index().rename({'eid':'n_var_exon_pairs'},axis=1)\n",
    "temp\n",
    "temp = temp.pivot(index='divergent',\n",
    "                  values = 'n_var_exon_pairs',\n",
    "                  columns = 'novelty')\n",
    "temp"
   ]
  },
  {
   "cell_type": "code",
   "execution_count": 94,
   "id": "cd02cf8c-75e7-4334-b520-f2a8bbf6139d",
   "metadata": {},
   "outputs": [],
   "source": [
    "# temp.loc[temp[['Start_b', 'End_b']].duplicated(keep=False)].sort_values(by=['Start_b', 'End_b']) # there are dupe. var. pos."
   ]
  },
  {
   "cell_type": "code",
   "execution_count": 67,
   "id": "6b3ec72d-b57a-4845-88ec-1cdbbcf0bc22",
   "metadata": {},
   "outputs": [],
   "source": []
  },
  {
   "cell_type": "code",
   "execution_count": 68,
   "id": "fb16849f-d173-4012-b533-6e0a53848431",
   "metadata": {},
   "outputs": [
    {
     "name": "stdout",
     "output_type": "stream",
     "text": [
      "divergent                False  True\n",
      "label                               \n",
      "HAC-CEU shared           60554  2700\n",
      "Novel 5'/3', HAC-unique   1725    98\n"
     ]
    }
   ],
   "source": []
  },
  {
   "cell_type": "code",
   "execution_count": 69,
   "id": "ce83a1a8-7df0-4df0-aa2c-d83211aaf29d",
   "metadata": {},
   "outputs": [
    {
     "name": "stdout",
     "output_type": "stream",
     "text": [
      "HAC vs. CEU\n",
      "Hypoth: variant positions intersecting Novel 5'/3' exons are enriched for being divergent\n",
      "Odds Ratio: 1.2741367686527107\n",
      "P-value: 0.014680523126554525\n",
      "\n"
     ]
    }
   ],
   "source": []
  },
  {
   "cell_type": "code",
   "execution_count": null,
   "id": "085f3fd2-0b1f-4cd7-bb55-e4e205c17f4d",
   "metadata": {},
   "outputs": [],
   "source": []
  }
 ],
 "metadata": {
  "kernelspec": {
   "display_name": "Python 3",
   "language": "python",
   "name": "python3"
  },
  "language_info": {
   "codemirror_mode": {
    "name": "ipython",
    "version": 3
   },
   "file_extension": ".py",
   "mimetype": "text/x-python",
   "name": "python",
   "nbconvert_exporter": "python",
   "pygments_lexer": "ipython3",
   "version": "3.7.12"
  }
 },
 "nbformat": 4,
 "nbformat_minor": 5
}
