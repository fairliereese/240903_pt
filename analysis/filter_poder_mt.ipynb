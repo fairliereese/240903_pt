{
 "cells": [
  {
   "cell_type": "markdown",
   "id": "8da74ed9-93f7-4b5b-b5c3-66330903e87a",
   "metadata": {},
   "source": [
    "## Get rid of the results from SQANTI's ORF prediction in the master table so it's not confusing"
   ]
  },
  {
   "cell_type": "code",
   "execution_count": 1,
   "id": "3927309c-c378-4725-8002-97038fdae755",
   "metadata": {},
   "outputs": [],
   "source": [
    "import pandas as pd\n",
    "import numpy as np\n",
    "import scipy.stats as st\n",
    "import seaborn as sns\n",
    "import sys\n",
    "import os\n",
    "import matplotlib.pyplot as plt\n",
    "import swan_vis as swan\n",
    "import yaml\n",
    "from snakemake.io import expand\n",
    "import cerberus\n",
    "import pyranges as pr\n",
    "from pyfaidx import Fasta\n",
    "import upsetplot\n",
    "from pandarallel import pandarallel\n",
    "\n",
    "p = os.path.dirname(os.getcwd())\n",
    "sys.path.append(p)\n",
    "\n",
    "from scripts.utils import *\n",
    "from scripts.vcf_utils import *\n",
    "from scripts.plotting import *"
   ]
  },
  {
   "cell_type": "code",
   "execution_count": 2,
   "id": "6376ade2-4eaa-4db0-aef7-bde6cb8afe7e",
   "metadata": {},
   "outputs": [],
   "source": [
    "config = load_config()\n",
    "od = '../'\n",
    "\n",
    "def proc_cfg(entry, od):\n",
    "    entry = entry.replace('../../', '')\n",
    "    entry = od+entry\n",
    "    return entry"
   ]
  },
  {
   "cell_type": "code",
   "execution_count": 3,
   "id": "ae76e901-e0a0-4347-91ea-e3632c5794c1",
   "metadata": {},
   "outputs": [],
   "source": [
    "mt_df = pd.read_csv('../data/05_mastertable/poder_master_table_fixed_genics.tsv', sep='\\t')\n",
    "# mt_df = mt_df.loc[mt_df['filter']=='pass']\n",
    "mt_df['pop_spec_t'] = (mt_df.population_sharing==1)&\\\n",
    "                      (mt_df.sample_sharing>1)"
   ]
  },
  {
   "cell_type": "code",
   "execution_count": 4,
   "id": "cfb9745e-fcc9-4b96-98d8-9afebfadcca6",
   "metadata": {},
   "outputs": [],
   "source": [
    "rm_cols = ['coding', 'ORF_length', 'CDS_length',\n",
    "           'CDS_start', 'CDS_end', 'CDS_genomic_start',\n",
    "           'CDS_genomic_end', 'predicted_NMD']\n",
    "mt_df.drop(rm_cols, axis=1, inplace=True)\n",
    "\n",
    "mt_df.to_csv('../data/05_mastertable/poder_master_table_fixed_genics_no_sqanti_orf.tsv', sep='\\t')"
   ]
  },
  {
   "cell_type": "code",
   "execution_count": null,
   "id": "d9c38cdf-312f-4d38-ab57-7f58840a8d8d",
   "metadata": {},
   "outputs": [],
   "source": []
  }
 ],
 "metadata": {
  "kernelspec": {
   "display_name": "Python 3",
   "language": "python",
   "name": "python3"
  },
  "language_info": {
   "codemirror_mode": {
    "name": "ipython",
    "version": 3
   },
   "file_extension": ".py",
   "mimetype": "text/x-python",
   "name": "python",
   "nbconvert_exporter": "python",
   "pygments_lexer": "ipython3",
   "version": "3.7.12"
  }
 },
 "nbformat": 4,
 "nbformat_minor": 5
}
