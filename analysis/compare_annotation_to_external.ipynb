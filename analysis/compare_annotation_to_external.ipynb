{
 "cells": [
  {
   "cell_type": "code",
   "execution_count": 13,
   "id": "530b691d-899c-432e-80d6-c8990bd52ed8",
   "metadata": {},
   "outputs": [],
   "source": [
    "import pandas as pd\n",
    "import numpy as np\n",
    "import scipy.stats as st\n",
    "import seaborn as sns\n",
    "import sys\n",
    "import os\n",
    "import matplotlib.pyplot as plt\n",
    "import swan_vis as swan\n",
    "import yaml\n",
    "from snakemake.io import expand\n",
    "import cerberus\n",
    "import pyranges as pr\n",
    "import upsetplot\n",
    "\n",
    "p = os.path.dirname(os.getcwd())\n",
    "sys.path.append(p)\n",
    "\n",
    "from scripts.utils import *\n",
    "from scripts.vcf_utils import *\n",
    "from scripts.plotting import *"
   ]
  },
  {
   "cell_type": "code",
   "execution_count": 14,
   "id": "99571e7d-ed61-4754-a22e-b402ea55d6fa",
   "metadata": {},
   "outputs": [],
   "source": [
    "config = load_config()\n",
    "od = '../snakemake/gtex/'"
   ]
  },
  {
   "cell_type": "code",
   "execution_count": 15,
   "id": "43b3f52f-a9c3-464f-8e19-6e2af847e6c2",
   "metadata": {},
   "outputs": [],
   "source": [
    "df = pd.DataFrame()\n",
    "ics = [od+config['gtex']['cerb']['ics'],\n",
    "       od+config['chess']['cerb']['ics'],\n",
    "       od+config['enc']['cerb']['ics'],\n",
    "       od+config['lr']['cerb']['ics']]\n",
    "sources = ['gtex', 'chess', 'enc', 'us']\n",
    "for ic, source in zip(ics, sources):\n",
    "    temp = pd.read_csv(ic, sep='\\t')\n",
    "    \n",
    "    # remove monoexonic, add source, drop name\n",
    "    temp = temp.loc[temp.Coordinates != '-']\n",
    "    temp['source'] = source\n",
    "    temp = temp.drop('Name', axis=1)\n",
    "    \n",
    "    df = pd.concat([df, temp], axis=0)    "
   ]
  },
  {
   "cell_type": "code",
   "execution_count": 16,
   "id": "1693153a-aede-4513-9245-b737f87af749",
   "metadata": {},
   "outputs": [],
   "source": [
    "temp = df.copy(deep=True)"
   ]
  },
  {
   "cell_type": "code",
   "execution_count": 17,
   "id": "38662976-153b-4e72-acf6-d3dff7cbff77",
   "metadata": {},
   "outputs": [],
   "source": [
    "df = df.pivot_table(\n",
    "    index=['Strand', 'Coordinates', 'Chromosome'],\n",
    "    columns='source',\n",
    "    aggfunc=lambda x: True,\n",
    "    fill_value=False).reset_index()\n",
    "# df.columns = ['_'.join(col).strip() if col[1] else col[0] for col in df.columns.values]\n",
    "df.head()\n",
    "df.reset_index(drop=True, inplace=True)"
   ]
  },
  {
   "cell_type": "code",
   "execution_count": 18,
   "id": "20383d9e-e056-44c6-8113-27897be63cde",
   "metadata": {},
   "outputs": [
    {
     "data": {
      "text/plain": [
       "'100015726-100019230-100019349-100023418-100023932-100024153-100024307-100029860-100029952-100030248-100030375-100033304'"
      ]
     },
     "execution_count": 18,
     "metadata": {},
     "output_type": "execute_result"
    }
   ],
   "source": [
    "df.loc[(df.chess==True)&(df.gtex==True)].Coordinates.tolist()[0]\n"
   ]
  },
  {
   "cell_type": "code",
   "execution_count": 19,
   "id": "324c1308-66df-4f7b-b007-86afa10c2a4f",
   "metadata": {},
   "outputs": [
    {
     "data": {
      "text/html": [
       "<div>\n",
       "<style scoped>\n",
       "    .dataframe tbody tr th:only-of-type {\n",
       "        vertical-align: middle;\n",
       "    }\n",
       "\n",
       "    .dataframe tbody tr th {\n",
       "        vertical-align: top;\n",
       "    }\n",
       "\n",
       "    .dataframe thead th {\n",
       "        text-align: right;\n",
       "    }\n",
       "</style>\n",
       "<table border=\"1\" class=\"dataframe\">\n",
       "  <thead>\n",
       "    <tr style=\"text-align: right;\">\n",
       "      <th></th>\n",
       "      <th>Chromosome</th>\n",
       "      <th>Strand</th>\n",
       "      <th>Coordinates</th>\n",
       "      <th>source</th>\n",
       "    </tr>\n",
       "  </thead>\n",
       "  <tbody>\n",
       "    <tr>\n",
       "      <th>81964</th>\n",
       "      <td>chr7</td>\n",
       "      <td>+</td>\n",
       "      <td>100015726-100019230-100019349-100023418-100023...</td>\n",
       "      <td>gtex</td>\n",
       "    </tr>\n",
       "    <tr>\n",
       "      <th>122967</th>\n",
       "      <td>chr7</td>\n",
       "      <td>+</td>\n",
       "      <td>100015726-100019230-100019349-100023418-100023...</td>\n",
       "      <td>chess</td>\n",
       "    </tr>\n",
       "  </tbody>\n",
       "</table>\n",
       "</div>"
      ],
      "text/plain": [
       "       Chromosome Strand                                        Coordinates  \\\n",
       "81964        chr7      +  100015726-100019230-100019349-100023418-100023...   \n",
       "122967       chr7      +  100015726-100019230-100019349-100023418-100023...   \n",
       "\n",
       "       source  \n",
       "81964    gtex  \n",
       "122967  chess  "
      ]
     },
     "execution_count": 19,
     "metadata": {},
     "output_type": "execute_result"
    }
   ],
   "source": [
    "temp.loc[temp.Coordinates=='100015726-100019230-100019349-100023418-100023932-100024153-100024307-100029860-100029952-100030248-100030375-100033304']"
   ]
  },
  {
   "cell_type": "code",
   "execution_count": 20,
   "id": "ced9ddd0-039a-4b80-a2d1-b624eb81a3ef",
   "metadata": {},
   "outputs": [
    {
     "data": {
      "text/html": [
       "<div>\n",
       "<style scoped>\n",
       "    .dataframe tbody tr th:only-of-type {\n",
       "        vertical-align: middle;\n",
       "    }\n",
       "\n",
       "    .dataframe tbody tr th {\n",
       "        vertical-align: top;\n",
       "    }\n",
       "\n",
       "    .dataframe thead th {\n",
       "        text-align: right;\n",
       "    }\n",
       "</style>\n",
       "<table border=\"1\" class=\"dataframe\">\n",
       "  <thead>\n",
       "    <tr style=\"text-align: right;\">\n",
       "      <th>source</th>\n",
       "      <th>Strand</th>\n",
       "      <th>Coordinates</th>\n",
       "      <th>Chromosome</th>\n",
       "      <th>chess</th>\n",
       "      <th>enc</th>\n",
       "      <th>gtex</th>\n",
       "      <th>us</th>\n",
       "    </tr>\n",
       "  </thead>\n",
       "  <tbody>\n",
       "    <tr>\n",
       "      <th>0</th>\n",
       "      <td>+</td>\n",
       "      <td>1000064-1000611-1000697-1000881-1000989-100146...</td>\n",
       "      <td>chr4</td>\n",
       "      <td>True</td>\n",
       "      <td>False</td>\n",
       "      <td>False</td>\n",
       "      <td>True</td>\n",
       "    </tr>\n",
       "    <tr>\n",
       "      <th>1</th>\n",
       "      <td>+</td>\n",
       "      <td>100015726-100019230-100019349-100023418-100023...</td>\n",
       "      <td>chr7</td>\n",
       "      <td>True</td>\n",
       "      <td>True</td>\n",
       "      <td>False</td>\n",
       "      <td>False</td>\n",
       "    </tr>\n",
       "    <tr>\n",
       "      <th>2</th>\n",
       "      <td>+</td>\n",
       "      <td>100015726-100019230-100019349-100023418-100023...</td>\n",
       "      <td>chr7</td>\n",
       "      <td>True</td>\n",
       "      <td>False</td>\n",
       "      <td>True</td>\n",
       "      <td>False</td>\n",
       "    </tr>\n",
       "    <tr>\n",
       "      <th>3</th>\n",
       "      <td>+</td>\n",
       "      <td>100015726-100023418-100023461-100023551-100023...</td>\n",
       "      <td>chr7</td>\n",
       "      <td>False</td>\n",
       "      <td>False</td>\n",
       "      <td>True</td>\n",
       "      <td>False</td>\n",
       "    </tr>\n",
       "    <tr>\n",
       "      <th>4</th>\n",
       "      <td>+</td>\n",
       "      <td>100015726-100023418-100023461-100023551-100023...</td>\n",
       "      <td>chr7</td>\n",
       "      <td>True</td>\n",
       "      <td>False</td>\n",
       "      <td>True</td>\n",
       "      <td>False</td>\n",
       "    </tr>\n",
       "  </tbody>\n",
       "</table>\n",
       "</div>"
      ],
      "text/plain": [
       "source Strand                                        Coordinates Chromosome  \\\n",
       "0           +  1000064-1000611-1000697-1000881-1000989-100146...       chr4   \n",
       "1           +  100015726-100019230-100019349-100023418-100023...       chr7   \n",
       "2           +  100015726-100019230-100019349-100023418-100023...       chr7   \n",
       "3           +  100015726-100023418-100023461-100023551-100023...       chr7   \n",
       "4           +  100015726-100023418-100023461-100023551-100023...       chr7   \n",
       "\n",
       "source  chess    enc   gtex     us  \n",
       "0        True  False  False   True  \n",
       "1        True   True  False  False  \n",
       "2        True  False   True  False  \n",
       "3       False  False   True  False  \n",
       "4        True  False   True  False  "
      ]
     },
     "execution_count": 20,
     "metadata": {},
     "output_type": "execute_result"
    }
   ],
   "source": [
    "df.head()"
   ]
  },
  {
   "cell_type": "code",
   "execution_count": 21,
   "id": "05fb73a1-a77f-400b-b19d-4081a433e1db",
   "metadata": {},
   "outputs": [],
   "source": [
    "# df['id'] = df.Strand+'_'+df.Chromosome+'_'+df.Coordinates\n",
    "# df.drop(['Strand', 'Chromosome', 'Coordinates'], axis=1, inplace=True)\n",
    "# df = df.groupby(['chess', 'gtex']).count().rename({'id':'n_ics'}, axis=1)"
   ]
  },
  {
   "cell_type": "code",
   "execution_count": 22,
   "id": "0ef3c6a1-b10a-4088-aadb-25e16f2a631a",
   "metadata": {},
   "outputs": [],
   "source": [
    "df.set_index(['chess', 'gtex', 'enc', 'us'], inplace=True)"
   ]
  },
  {
   "cell_type": "code",
   "execution_count": 25,
   "id": "42963088-2c91-4bc5-875b-a6c3f708f584",
   "metadata": {},
   "outputs": [
    {
     "data": {
      "text/plain": [
       "{'matrix': <AxesSubplot:>,\n",
       " 'shading': <AxesSubplot:>,\n",
       " 'totals': <AxesSubplot:>,\n",
       " 'intersections': <AxesSubplot:ylabel='Intersection size'>}"
      ]
     },
     "execution_count": 25,
     "metadata": {},
     "output_type": "execute_result"
    },
    {
     "data": {
      "image/png": "[encoded data removed]",
      "text/plain": [
       "<Figure size 640x320 with 4 Axes>"
      ]
     },
     "metadata": {
      "needs_background": "light"
     },
     "output_type": "display_data"
    }
   ],
   "source": [
    "upsetplot.plot(df, sort_by='cardinality')\n"
   ]
  },
  {
   "cell_type": "code",
   "execution_count": 24,
   "id": "83a68121-da35-4fff-b018-6f0fce26080e",
   "metadata": {},
   "outputs": [
    {
     "data": {
      "text/html": [
       "<div>\n",
       "<style scoped>\n",
       "    .dataframe tbody tr th:only-of-type {\n",
       "        vertical-align: middle;\n",
       "    }\n",
       "\n",
       "    .dataframe tbody tr th {\n",
       "        vertical-align: top;\n",
       "    }\n",
       "\n",
       "    .dataframe thead th {\n",
       "        text-align: right;\n",
       "    }\n",
       "</style>\n",
       "<table border=\"1\" class=\"dataframe\">\n",
       "  <thead>\n",
       "    <tr style=\"text-align: right;\">\n",
       "      <th></th>\n",
       "      <th></th>\n",
       "      <th></th>\n",
       "      <th>source</th>\n",
       "      <th>Strand</th>\n",
       "      <th>Coordinates</th>\n",
       "      <th>Chromosome</th>\n",
       "    </tr>\n",
       "    <tr>\n",
       "      <th>chess</th>\n",
       "      <th>gtex</th>\n",
       "      <th>enc</th>\n",
       "      <th>us</th>\n",
       "      <th></th>\n",
       "      <th></th>\n",
       "      <th></th>\n",
       "    </tr>\n",
       "  </thead>\n",
       "  <tbody>\n",
       "    <tr>\n",
       "      <th rowspan=\"3\" valign=\"top\">True</th>\n",
       "      <th rowspan=\"2\" valign=\"top\">False</th>\n",
       "      <th>False</th>\n",
       "      <th>True</th>\n",
       "      <td>+</td>\n",
       "      <td>1000064-1000611-1000697-1000881-1000989-100146...</td>\n",
       "      <td>chr4</td>\n",
       "    </tr>\n",
       "    <tr>\n",
       "      <th>True</th>\n",
       "      <th>False</th>\n",
       "      <td>+</td>\n",
       "      <td>100015726-100019230-100019349-100023418-100023...</td>\n",
       "      <td>chr7</td>\n",
       "    </tr>\n",
       "    <tr>\n",
       "      <th>True</th>\n",
       "      <th>False</th>\n",
       "      <th>False</th>\n",
       "      <td>+</td>\n",
       "      <td>100015726-100019230-100019349-100023418-100023...</td>\n",
       "      <td>chr7</td>\n",
       "    </tr>\n",
       "    <tr>\n",
       "      <th>False</th>\n",
       "      <th>True</th>\n",
       "      <th>False</th>\n",
       "      <th>False</th>\n",
       "      <td>+</td>\n",
       "      <td>100015726-100023418-100023461-100023551-100023...</td>\n",
       "      <td>chr7</td>\n",
       "    </tr>\n",
       "    <tr>\n",
       "      <th>True</th>\n",
       "      <th>True</th>\n",
       "      <th>False</th>\n",
       "      <th>False</th>\n",
       "      <td>+</td>\n",
       "      <td>100015726-100023418-100023461-100023551-100023...</td>\n",
       "      <td>chr7</td>\n",
       "    </tr>\n",
       "  </tbody>\n",
       "</table>\n",
       "</div>"
      ],
      "text/plain": [
       "source                  Strand  \\\n",
       "chess gtex  enc   us             \n",
       "True  False False True       +   \n",
       "            True  False      +   \n",
       "      True  False False      +   \n",
       "False True  False False      +   \n",
       "True  True  False False      +   \n",
       "\n",
       "source                                                         Coordinates  \\\n",
       "chess gtex  enc   us                                                         \n",
       "True  False False True   1000064-1000611-1000697-1000881-1000989-100146...   \n",
       "            True  False  100015726-100019230-100019349-100023418-100023...   \n",
       "      True  False False  100015726-100019230-100019349-100023418-100023...   \n",
       "False True  False False  100015726-100023418-100023461-100023551-100023...   \n",
       "True  True  False False  100015726-100023418-100023461-100023551-100023...   \n",
       "\n",
       "source                  Chromosome  \n",
       "chess gtex  enc   us                \n",
       "True  False False True        chr4  \n",
       "            True  False       chr7  \n",
       "      True  False False       chr7  \n",
       "False True  False False       chr7  \n",
       "True  True  False False       chr7  "
      ]
     },
     "execution_count": 24,
     "metadata": {},
     "output_type": "execute_result"
    }
   ],
   "source": [
    "df.head()"
   ]
  },
  {
   "cell_type": "code",
   "execution_count": null,
   "id": "f495ffc3-56a4-40d7-87f1-b6d08759ad22",
   "metadata": {},
   "outputs": [],
   "source": []
  },
  {
   "cell_type": "code",
   "execution_count": null,
   "id": "f3fcaba9-497e-45ad-b38d-b15308cb7858",
   "metadata": {},
   "outputs": [],
   "source": []
  },
  {
   "cell_type": "code",
   "execution_count": null,
   "id": "213d1bf1-b09c-4125-a97d-480d271a3660",
   "metadata": {},
   "outputs": [],
   "source": []
  },
  {
   "cell_type": "code",
   "execution_count": null,
   "id": "9004cd70-1f91-43a1-aee6-7bcccf3cfe16",
   "metadata": {},
   "outputs": [],
   "source": []
  },
  {
   "cell_type": "code",
   "execution_count": null,
   "id": "e9a25c69-0f2c-478e-84d0-f4d2aa602e82",
   "metadata": {},
   "outputs": [],
   "source": []
  },
  {
   "cell_type": "code",
   "execution_count": null,
   "id": "02360da9-8717-4959-82bb-d1b704281f77",
   "metadata": {},
   "outputs": [],
   "source": []
  }
 ],
 "metadata": {
  "kernelspec": {
   "display_name": "Python 3",
   "language": "python",
   "name": "python3"
  },
  "language_info": {
   "codemirror_mode": {
    "name": "ipython",
    "version": 3
   },
   "file_extension": ".py",
   "mimetype": "text/x-python",
   "name": "python",
   "nbconvert_exporter": "python",
   "pygments_lexer": "ipython3",
   "version": "3.7.12"
  }
 },
 "nbformat": 4,
 "nbformat_minor": 5
}
