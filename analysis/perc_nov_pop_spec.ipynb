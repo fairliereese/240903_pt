{
 "cells": [
  {
   "cell_type": "markdown",
   "id": "691aa816-1ae7-4447-b485-be5c505c7b46",
   "metadata": {},
   "source": [
    "## Goal: What % of novel transcripts are pop-spec? What about for the different novelty categories?"
   ]
  },
  {
   "cell_type": "code",
   "execution_count": 1,
   "id": "b2773d86-3a28-4928-9f14-4389f49d9fa9",
   "metadata": {},
   "outputs": [],
   "source": [
    "import pandas as pd\n",
    "import numpy as np\n",
    "import scipy.stats as st\n",
    "import seaborn as sns\n",
    "import sys\n",
    "import itertools\n",
    "import os\n",
    "import matplotlib.pyplot as plt\n",
    "import yaml\n",
    "from snakemake.io import expand\n",
    "import pyranges as pr\n",
    "from pyfaidx import Fasta\n",
    "from mizani.formatters import percent_format\n",
    "from scipy import stats\n",
    "\n",
    "\n",
    "p = os.path.dirname(os.getcwd())\n",
    "sys.path.append(p)\n",
    "\n",
    "from scripts.utils import *\n",
    "from scripts.vcf_utils import *\n",
    "from scripts.plotting import *\n",
    "\n",
    "from plotnine import *"
   ]
  },
  {
   "cell_type": "code",
   "execution_count": 2,
   "id": "74a34c10-f396-4781-b222-8cf213b0abb2",
   "metadata": {},
   "outputs": [],
   "source": [
    "def my_theme(base_size=11, w=4, h=3):\n",
    "    \"\"\"\n",
    "    Custom plotnine theme with:\n",
    "    - White background\n",
    "    - Clean styling\n",
    "    - Axes and ticks retained\n",
    "\n",
    "    Parameters:\n",
    "    - base_size: Base font size\n",
    "\n",
    "    Returns:\n",
    "    - plotnine.theme object\n",
    "    \"\"\"\n",
    "    return (\n",
    "        theme_minimal(base_size=base_size)\n",
    "        + theme(\n",
    "            # White background\n",
    "            panel_background=element_rect(fill='white', color=None),\n",
    "            plot_background=element_rect(fill='white', color=None),\n",
    "\n",
    "            # Remove grid lines\n",
    "            panel_grid_major=element_blank(),\n",
    "            panel_grid_minor=element_blank(),\n",
    "            panel_border=element_blank(),\n",
    "\n",
    "            # Keep axis lines & ticks (don't blank them)\n",
    "            axis_line=element_line(color='black'),\n",
    "            axis_ticks=element_line(color='black'),\n",
    "\n",
    "            plot_title=element_text(hjust=0.5, family='Helvetica'),\n",
    "            axis_title_x=element_text(hjust=0.5, family='Helvetica'),\n",
    "            axis_title_y=element_text(hjust=0.5, margin={'t':0, 'r':-2, 'b':0, 'l':0}, family='Helvetica'),\n",
    "            \n",
    "            # Styling text\n",
    "            legend_title=element_blank(),\n",
    "            axis_title=element_text(size=base_size + 1, family='Helvetica'),\n",
    "            legend_text=element_text(size=base_size-2, family='Helvetica'),\n",
    "            axis_text=element_text(size=base_size, color='black', family='Helvetica'),\n",
    "            strip_text_x=element_text(size=base_size-1),\n",
    "            strip_text_y=element_text(size=base_size-1),\n",
    "            figure_size=(w, h),  # Controls plot dimensions (width x height in inches)\n",
    "            plot_margin=0.05      # Shrinks surrounding white space\n",
    "        )\n",
    "    )"
   ]
  },
  {
   "cell_type": "code",
   "execution_count": 4,
   "id": "17c84075-716e-4ab4-bedc-2c358009b843",
   "metadata": {},
   "outputs": [],
   "source": [
    "config = load_config()\n",
    "od = '../'\n",
    "\n",
    "def proc_cfg(entry, od):\n",
    "    entry = entry.replace('../../', '')\n",
    "    entry = od+entry\n",
    "    return entry"
   ]
  },
  {
   "cell_type": "code",
   "execution_count": 5,
   "id": "8dccf6db-ff3b-44b8-9e9c-75b934f29e05",
   "metadata": {},
   "outputs": [],
   "source": [
    "mt_df = pd.read_csv('../data/05_mastertable/26062025_PODER_mastertable.tsv', sep='\\t')\n",
    "# mt_df = mt_df.loc[mt_df['filter']=='pass']\n",
    "pops = get_population_colors()[1]\n",
    "# mt_df['population_sharing'] = (mt_df[pops]>0).sum(axis=1)\n",
    "mt_df['pop_spec_t'] = (mt_df.population_sharing==1)&\\\n",
    "                      (mt_df.sample_sharing>1)\n",
    "mt_df['det_pop'] = mt_df[get_population_colors()[1]].idxmax(axis=1)"
   ]
  },
  {
   "cell_type": "code",
   "execution_count": 10,
   "id": "8be969c6-32ec-464d-8879-209b0202e044",
   "metadata": {},
   "outputs": [],
   "source": [
    "# get total number of transcripts per novelty cat\n",
    "mt_df['n_t_nov'] = mt_df.groupby('structural_category')['isoform'].transform('nunique')"
   ]
  },
  {
   "cell_type": "code",
   "execution_count": 11,
   "id": "1c6d2963-10ab-40b0-8218-932d19771428",
   "metadata": {},
   "outputs": [
    {
     "data": {
      "text/html": [
       "<div>\n",
       "<style scoped>\n",
       "    .dataframe tbody tr th:only-of-type {\n",
       "        vertical-align: middle;\n",
       "    }\n",
       "\n",
       "    .dataframe tbody tr th {\n",
       "        vertical-align: top;\n",
       "    }\n",
       "\n",
       "    .dataframe thead th {\n",
       "        text-align: right;\n",
       "    }\n",
       "</style>\n",
       "<table border=\"1\" class=\"dataframe\">\n",
       "  <thead>\n",
       "    <tr style=\"text-align: right;\">\n",
       "      <th></th>\n",
       "      <th>isoform</th>\n",
       "    </tr>\n",
       "    <tr>\n",
       "      <th>structural_category</th>\n",
       "      <th></th>\n",
       "    </tr>\n",
       "  </thead>\n",
       "  <tbody>\n",
       "    <tr>\n",
       "      <th>Antisense</th>\n",
       "      <td>1002</td>\n",
       "    </tr>\n",
       "    <tr>\n",
       "      <th>FSM</th>\n",
       "      <td>114578</td>\n",
       "    </tr>\n",
       "    <tr>\n",
       "      <th>Fusion</th>\n",
       "      <td>1066</td>\n",
       "    </tr>\n",
       "    <tr>\n",
       "      <th>Genic</th>\n",
       "      <td>114</td>\n",
       "    </tr>\n",
       "    <tr>\n",
       "      <th>Intergenic</th>\n",
       "      <td>731</td>\n",
       "    </tr>\n",
       "    <tr>\n",
       "      <th>NIC</th>\n",
       "      <td>17425</td>\n",
       "    </tr>\n",
       "    <tr>\n",
       "      <th>NNC</th>\n",
       "      <td>20959</td>\n",
       "    </tr>\n",
       "  </tbody>\n",
       "</table>\n",
       "</div>"
      ],
      "text/plain": [
       "                     isoform\n",
       "structural_category         \n",
       "Antisense               1002\n",
       "FSM                   114578\n",
       "Fusion                  1066\n",
       "Genic                    114\n",
       "Intergenic               731\n",
       "NIC                    17425\n",
       "NNC                    20959"
      ]
     },
     "execution_count": 11,
     "metadata": {},
     "output_type": "execute_result"
    }
   ],
   "source": [
    "mt_df[['isoform', 'structural_category']].groupby('structural_category').nunique()"
   ]
  },
  {
   "cell_type": "code",
   "execution_count": 12,
   "id": "564cab42-ac29-447c-a297-aec4b9c88132",
   "metadata": {},
   "outputs": [],
   "source": [
    "mt_df['n_t_pop_spec_nov'] = mt_df.groupby(['structural_category', 'pop_spec_t'])['isoform'].transform('nunique')\n"
   ]
  },
  {
   "cell_type": "code",
   "execution_count": 15,
   "id": "b8211d2b-d0f5-4854-80ab-c3707eae21b5",
   "metadata": {},
   "outputs": [],
   "source": [
    "temp = mt_df[['structural_category', 'pop_spec_t', 'n_t_nov', 'n_t_pop_spec_nov']].drop_duplicates()"
   ]
  },
  {
   "cell_type": "code",
   "execution_count": 17,
   "id": "adba4531-2740-45e7-a85c-2c63eb4bb795",
   "metadata": {},
   "outputs": [],
   "source": [
    "temp['perc'] = (temp['n_t_pop_spec_nov']/temp['n_t_nov'])*100"
   ]
  },
  {
   "cell_type": "code",
   "execution_count": 19,
   "id": "be587c0d-4980-4244-a41f-9da7bb61627d",
   "metadata": {},
   "outputs": [
    {
     "data": {
      "text/html": [
       "<div>\n",
       "<style scoped>\n",
       "    .dataframe tbody tr th:only-of-type {\n",
       "        vertical-align: middle;\n",
       "    }\n",
       "\n",
       "    .dataframe tbody tr th {\n",
       "        vertical-align: top;\n",
       "    }\n",
       "\n",
       "    .dataframe thead th {\n",
       "        text-align: right;\n",
       "    }\n",
       "</style>\n",
       "<table border=\"1\" class=\"dataframe\">\n",
       "  <thead>\n",
       "    <tr style=\"text-align: right;\">\n",
       "      <th></th>\n",
       "      <th>structural_category</th>\n",
       "      <th>pop_spec_t</th>\n",
       "      <th>n_t_nov</th>\n",
       "      <th>n_t_pop_spec_nov</th>\n",
       "      <th>perc</th>\n",
       "    </tr>\n",
       "  </thead>\n",
       "  <tbody>\n",
       "    <tr>\n",
       "      <th>14</th>\n",
       "      <td>FSM</td>\n",
       "      <td>True</td>\n",
       "      <td>114578</td>\n",
       "      <td>1568</td>\n",
       "      <td>1.368500</td>\n",
       "    </tr>\n",
       "    <tr>\n",
       "      <th>109</th>\n",
       "      <td>NNC</td>\n",
       "      <td>True</td>\n",
       "      <td>20959</td>\n",
       "      <td>443</td>\n",
       "      <td>2.113650</td>\n",
       "    </tr>\n",
       "    <tr>\n",
       "      <th>2372</th>\n",
       "      <td>NIC</td>\n",
       "      <td>True</td>\n",
       "      <td>17425</td>\n",
       "      <td>305</td>\n",
       "      <td>1.750359</td>\n",
       "    </tr>\n",
       "    <tr>\n",
       "      <th>5080</th>\n",
       "      <td>Intergenic</td>\n",
       "      <td>True</td>\n",
       "      <td>731</td>\n",
       "      <td>29</td>\n",
       "      <td>3.967168</td>\n",
       "    </tr>\n",
       "    <tr>\n",
       "      <th>5229</th>\n",
       "      <td>Antisense</td>\n",
       "      <td>True</td>\n",
       "      <td>1002</td>\n",
       "      <td>38</td>\n",
       "      <td>3.792415</td>\n",
       "    </tr>\n",
       "    <tr>\n",
       "      <th>9100</th>\n",
       "      <td>Fusion</td>\n",
       "      <td>True</td>\n",
       "      <td>1066</td>\n",
       "      <td>33</td>\n",
       "      <td>3.095685</td>\n",
       "    </tr>\n",
       "    <tr>\n",
       "      <th>27356</th>\n",
       "      <td>Genic</td>\n",
       "      <td>True</td>\n",
       "      <td>114</td>\n",
       "      <td>3</td>\n",
       "      <td>2.631579</td>\n",
       "    </tr>\n",
       "  </tbody>\n",
       "</table>\n",
       "</div>"
      ],
      "text/plain": [
       "      structural_category  pop_spec_t  n_t_nov  n_t_pop_spec_nov      perc\n",
       "14                    FSM        True   114578              1568  1.368500\n",
       "109                   NNC        True    20959               443  2.113650\n",
       "2372                  NIC        True    17425               305  1.750359\n",
       "5080           Intergenic        True      731                29  3.967168\n",
       "5229            Antisense        True     1002                38  3.792415\n",
       "9100               Fusion        True     1066                33  3.095685\n",
       "27356               Genic        True      114                 3  2.631579"
      ]
     },
     "execution_count": 19,
     "metadata": {},
     "output_type": "execute_result"
    }
   ],
   "source": [
    "temp.loc[temp.pop_spec_t==True]"
   ]
  },
  {
   "cell_type": "code",
   "execution_count": 21,
   "id": "cebb3694-bc16-4fa1-af5c-512ecbfbe27f",
   "metadata": {},
   "outputs": [
    {
     "data": {
      "text/plain": [
       "np.int64(41297)"
      ]
     },
     "execution_count": 21,
     "metadata": {},
     "output_type": "execute_result"
    }
   ],
   "source": [
    "n1 = temp.loc[(temp.pop_spec_t==True)&(temp.structural_category!='FSM')].n_t_nov.sum()\n",
    "n1"
   ]
  },
  {
   "cell_type": "code",
   "execution_count": 22,
   "id": "851644c6-eba9-4cde-828a-ae37b64287ef",
   "metadata": {},
   "outputs": [],
   "source": [
    "n2 = temp.loc[(temp.pop_spec_t==True)&(temp.structural_category!='FSM')].n_t_pop_spec_nov.sum()"
   ]
  },
  {
   "cell_type": "code",
   "execution_count": 25,
   "id": "e611b080-ba27-4f54-b5bd-9d2b226aa224",
   "metadata": {},
   "outputs": [
    {
     "data": {
      "text/plain": [
       "np.float64(0.02060682374022326)"
      ]
     },
     "execution_count": 25,
     "metadata": {},
     "output_type": "execute_result"
    }
   ],
   "source": [
    "n2/n1"
   ]
  },
  {
   "cell_type": "code",
   "execution_count": 24,
   "id": "47e294bb-b418-45bd-8e4e-10e91689a9cf",
   "metadata": {},
   "outputs": [
    {
     "data": {
      "text/plain": [
       "np.int64(851)"
      ]
     },
     "execution_count": 24,
     "metadata": {},
     "output_type": "execute_result"
    }
   ],
   "source": [
    "n2"
   ]
  },
  {
   "cell_type": "code",
   "execution_count": null,
   "id": "8afdd8a4-70dd-4246-9b19-85b82f6dcd62",
   "metadata": {},
   "outputs": [],
   "source": []
  }
 ],
 "metadata": {
  "kernelspec": {
   "display_name": "Python 3 (ipykernel)",
   "language": "python",
   "name": "python3"
  },
  "language_info": {
   "codemirror_mode": {
    "name": "ipython",
    "version": 3
   },
   "file_extension": ".py",
   "mimetype": "text/x-python",
   "name": "python",
   "nbconvert_exporter": "python",
   "pygments_lexer": "ipython3",
   "version": "3.12.5"
  }
 },
 "nbformat": 4,
 "nbformat_minor": 5
}
