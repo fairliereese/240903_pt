{
 "cells": [
  {
   "cell_type": "code",
   "execution_count": 1,
   "id": "30a3dca7-1563-43a2-b68c-b7a50946a7a3",
   "metadata": {},
   "outputs": [],
   "source": [
    "import pandas as pd\n",
    "import numpy as np\n",
    "import scipy.stats as st\n",
    "import seaborn as sns\n",
    "import sys\n",
    "import os\n",
    "import matplotlib.pyplot as plt\n",
    "import swan_vis as swan\n",
    "import yaml\n",
    "from snakemake.io import expand\n",
    "import cerberus\n",
    "import pyranges as pr\n",
    "from pyfaidx import Fasta\n",
    "import upsetplot\n",
    "from pandarallel import pandarallel\n",
    "\n",
    "p = os.path.dirname(os.getcwd())\n",
    "sys.path.append(p)\n",
    "\n",
    "from scripts.utils import *\n",
    "from scripts.vcf_utils import *\n",
    "from scripts.plotting import *"
   ]
  },
  {
   "cell_type": "code",
   "execution_count": 2,
   "id": "ff010081-73ee-48b2-a540-ac99e4c7165c",
   "metadata": {},
   "outputs": [],
   "source": [
    "config = load_config()\n",
    "od = '../'\n",
    "\n",
    "def proc_cfg(entry, od):\n",
    "    entry = entry.replace('../../', '')\n",
    "    entry = od+entry\n",
    "    return entry"
   ]
  },
  {
   "cell_type": "code",
   "execution_count": 3,
   "id": "08bcb503-b109-4a4a-9b26-6a7efb98c1ce",
   "metadata": {},
   "outputs": [],
   "source": [
    "mt_df = pd.read_csv('../data/05_mastertable/poder_master_table_fixed_genics.tsv', sep='\\t')\n",
    "# mt_df = mt_df.loc[mt_df['filter']=='pass']\n",
    "mt_df['pop_spec_t'] = (mt_df.population_sharing==1)&\\\n",
    "                      (mt_df.sample_sharing>1)"
   ]
  },
  {
   "cell_type": "code",
   "execution_count": 4,
   "id": "ebbb37bd-629a-4df5-a4ec-41700572de83",
   "metadata": {},
   "outputs": [],
   "source": [
    "p_df = pd.read_csv(proc_cfg(config['lr']['poder_protein']['protein']['summary'], od), sep='\\t')\n",
    "p_df = p_df.merge(mt_df[['associated_gene_biotype',\n",
    "                         'structural_category', \n",
    "                         'associated_transcript',\n",
    "                         'isoform',\n",
    "                         'associated_gene',\n",
    "                         'length']],\n",
    "                  how='left',\n",
    "                  left_on='tid', \n",
    "                  right_on='isoform')\n",
    "p_df.rename({'associated_gene':'gid',\n",
    "             'protein_sequence':'seq'}, axis=1, inplace=True)\n",
    "assert len(p_df.loc[p_df.isoform.isnull()]) == 0"
   ]
  },
  {
   "cell_type": "markdown",
   "id": "a26fb302-697f-43fe-aa7b-7723450d5e33",
   "metadata": {},
   "source": [
    "## Limit to protein coding genes"
   ]
  },
  {
   "cell_type": "code",
   "execution_count": 5,
   "id": "445e74a6-64fc-4b9f-a6a2-1b0fa4c966e6",
   "metadata": {},
   "outputs": [
    {
     "name": "stdout",
     "output_type": "stream",
     "text": [
      "100666\n",
      "100666\n"
     ]
    }
   ],
   "source": [
    "# keep only things from annotated protein coding genes\n",
    "p_df = p_df.loc[p_df.associated_gene_biotype=='Protein Coding']\n",
    "n = len(p_df.index)\n",
    "print(len(p_df.index))\n",
    "\n",
    "# keep only things w/ full ORFs\n",
    "p_df = p_df.loc[(p_df.protein_has_start_codon==True)&\\\n",
    "                (p_df.protein_has_stop_codon==True)]\n",
    "print(len(p_df.index))"
   ]
  },
  {
   "cell_type": "markdown",
   "id": "b0bab944-bc94-4cd1-adc2-d4c3efea628b",
   "metadata": {},
   "source": [
    "## Get reference AA sequences and merge on gid + sequence"
   ]
  },
  {
   "cell_type": "code",
   "execution_count": 19,
   "id": "ae0cb705-d73f-410a-a43f-1ade871ed9e2",
   "metadata": {},
   "outputs": [],
   "source": [
    "# get annotated AA sequencesa\n",
    "fasta_file = proc_cfg(config['ref']['pc'], od)\n",
    "fasta = Fasta(fasta_file)\n",
    "\n",
    "# Extract each entry's name and sequence\n",
    "ref_orfs = {\n",
    "    \"name\": [entry.name for entry in fasta],\n",
    "    \"seq\": [str(entry) for entry in fasta]\n",
    "}\n",
    "\n",
    "ref_orfs = pd.DataFrame(ref_orfs)\n",
    "ref_orfs['gid'] =  ref_orfs.name.str.split('|', expand=True)[2]\n",
    "ref_orfs['tid'] =  ref_orfs.name.str.split('|', expand=True)[1]\n",
    "\n",
    "ref_orfs = ref_orfs[['seq', 'gid']]\n",
    "ref_orfs['annot_aa'] = True\n",
    "ref_orfs.drop_duplicates(inplace=True)"
   ]
  },
  {
   "cell_type": "code",
   "execution_count": 7,
   "id": "0eed140b-79fb-4e7d-b0e2-4ec30ebe8b0a",
   "metadata": {},
   "outputs": [],
   "source": [
    "# also add orf completeness as info!\n",
    "gtf_file = proc_cfg(config['ref']['gtf'], od)\n",
    "gtf_df = pr.read_gtf(gtf_file).df\n",
    "\n",
    "start_codon_tids = gtf_df.loc[gtf_df.Feature=='start_codon', 'transcript_id'].unique().tolist()\n",
    "stop_codon_tids = gtf_df.loc[gtf_df.Feature=='stop_codon', 'transcript_id'].unique().tolist()\n",
    "gtf_df = gtf_df[['transcript_id']].drop_duplicates()\n",
    "\n",
    "gtf_df['has_start_codon'] = gtf_df.transcript_id.isin(start_codon_tids)\n",
    "gtf_df['has_stop_codon'] = gtf_df.transcript_id.isin(stop_codon_tids)\n",
    "\n",
    "gtf_df = gtf_df.loc[gtf_df.transcript_id.notnull()]\n",
    "gtf_df['has_complete_orf'] = (gtf_df.has_start_codon)&(gtf_df.has_stop_codon)\n",
    "\n",
    "assert len(gtf_df.transcript_id.unique()) == len(gtf_df.index)"
   ]
  },
  {
   "cell_type": "code",
   "execution_count": 20,
   "id": "a2604dd9-5c4b-4869-9ef9-933cf4473bea",
   "metadata": {},
   "outputs": [
    {
     "name": "stdout",
     "output_type": "stream",
     "text": [
      "100666\n",
      "100666\n"
     ]
    }
   ],
   "source": [
    "# just going to call novel aas as those that are not in the \n",
    "# pc translations gencode file\n",
    "l1 = len(p_df.index)\n",
    "p_df = p_df.merge(ref_orfs, how='left', on=['gid', 'seq'])\n",
    "l2 = len(p_df.index)\n",
    "assert l1 == l2\n",
    "p_df['annot_aa'] = p_df['annot_aa'].fillna(False)"
   ]
  },
  {
   "cell_type": "code",
   "execution_count": 24,
   "id": "fb8936a5-8a9a-4c1b-9ae8-85730bdc0bea",
   "metadata": {},
   "outputs": [],
   "source": [
    "# merge in information of if there was a complete annotated orf to begin with\n",
    "p_df = p_df.merge(gtf_df, \n",
    "                  how='left', \n",
    "                  left_on='associated_transcript',\n",
    "                  right_on='transcript_id')"
   ]
  },
  {
   "cell_type": "code",
   "execution_count": 26,
   "id": "c339af0b-7876-47c9-a637-67b4599660d5",
   "metadata": {},
   "outputs": [
    {
     "data": {
      "text/html": [
       "<div>\n",
       "<style scoped>\n",
       "    .dataframe tbody tr th:only-of-type {\n",
       "        vertical-align: middle;\n",
       "    }\n",
       "\n",
       "    .dataframe tbody tr th {\n",
       "        vertical-align: top;\n",
       "    }\n",
       "\n",
       "    .dataframe thead th {\n",
       "        text-align: right;\n",
       "    }\n",
       "</style>\n",
       "<table border=\"1\" class=\"dataframe\">\n",
       "  <thead>\n",
       "    <tr style=\"text-align: right;\">\n",
       "      <th></th>\n",
       "      <th></th>\n",
       "      <th></th>\n",
       "      <th>isoform</th>\n",
       "    </tr>\n",
       "    <tr>\n",
       "      <th>annot_aa</th>\n",
       "      <th>has_complete_orf</th>\n",
       "      <th>structural_category</th>\n",
       "      <th></th>\n",
       "    </tr>\n",
       "  </thead>\n",
       "  <tbody>\n",
       "    <tr>\n",
       "      <th rowspan=\"2\" valign=\"top\">False</th>\n",
       "      <th>False</th>\n",
       "      <th>FSM</th>\n",
       "      <td>25834</td>\n",
       "    </tr>\n",
       "    <tr>\n",
       "      <th>True</th>\n",
       "      <th>FSM</th>\n",
       "      <td>3315</td>\n",
       "    </tr>\n",
       "    <tr>\n",
       "      <th rowspan=\"2\" valign=\"top\">True</th>\n",
       "      <th>False</th>\n",
       "      <th>FSM</th>\n",
       "      <td>1315</td>\n",
       "    </tr>\n",
       "    <tr>\n",
       "      <th>True</th>\n",
       "      <th>FSM</th>\n",
       "      <td>37704</td>\n",
       "    </tr>\n",
       "  </tbody>\n",
       "</table>\n",
       "</div>"
      ],
      "text/plain": [
       "                                               isoform\n",
       "annot_aa has_complete_orf structural_category         \n",
       "False    False            FSM                    25834\n",
       "         True             FSM                     3315\n",
       "True     False            FSM                     1315\n",
       "         True             FSM                    37704"
      ]
     },
     "execution_count": 26,
     "metadata": {},
     "output_type": "execute_result"
    }
   ],
   "source": [
    "p_df[['isoform', 'annot_aa', 'structural_category', 'has_complete_orf']].groupby(['annot_aa', 'has_complete_orf', 'structural_category']).nunique()"
   ]
  },
  {
   "cell_type": "markdown",
   "id": "97dbeb63-9c01-4df3-bece-a5cf0f93203c",
   "metadata": {},
   "source": [
    "So most FSMs w/o a matching full-length ORF don't have a matching AA"
   ]
  },
  {
   "cell_type": "code",
   "execution_count": null,
   "id": "3c90731b-90b7-4171-9a6b-c17814c6e3f0",
   "metadata": {},
   "outputs": [],
   "source": [
    "p_df[['isoform', 'annot_aa', 'structural_category']].groupby(['annot_aa', 'structural_category']).nunique()"
   ]
  },
  {
   "cell_type": "markdown",
   "id": "66820cca-4093-4f09-b5f0-aeca5cbf82fd",
   "metadata": {},
   "source": [
    "## Get our own protein sequence novelty categories\n",
    "1. exact AA match\n",
    "2. truncated AA match\n",
    "3. novel, non-truncation AA seq"
   ]
  },
  {
   "cell_type": "code",
   "execution_count": null,
   "id": "0f60c28b-e5c8-4a9f-92d6-23d173590e7f",
   "metadata": {},
   "outputs": [],
   "source": [
    "# 2. truncated AA match\n",
    "def get_aa_seq_truncations(x, ref_orfs):\n",
    "    # limit to just references from same gene\n",
    "    temp = ref_orfs.loc[ref_orfs.gid == x.gid]\n",
    "    for ind, entry in temp.iterrows():\n",
    "        if x.seq in entry.seq:\n",
    "            return True\n",
    "    return False\n",
    "\n",
    "p_df['trunc_annot_aa'] = p_df.apply(lambda x: get_aa_seq_truncations(x, ref_orfs), axis=1)"
   ]
  },
  {
   "cell_type": "code",
   "execution_count": null,
   "id": "88b9f40e-837b-4473-95dd-152e13a02a5b",
   "metadata": {},
   "outputs": [],
   "source": [
    "p_df.to_csv('temp.tsv', sep='\\t')"
   ]
  },
  {
   "cell_type": "code",
   "execution_count": null,
   "id": "4f5878da-aa76-4f87-b48d-89680c602a55",
   "metadata": {},
   "outputs": [],
   "source": []
  }
 ],
 "metadata": {
  "kernelspec": {
   "display_name": "Python 3",
   "language": "python",
   "name": "python3"
  },
  "language_info": {
   "codemirror_mode": {
    "name": "ipython",
    "version": 3
   },
   "file_extension": ".py",
   "mimetype": "text/x-python",
   "name": "python",
   "nbconvert_exporter": "python",
   "pygments_lexer": "ipython3",
   "version": "3.7.12"
  }
 },
 "nbformat": 4,
 "nbformat_minor": 5
}
