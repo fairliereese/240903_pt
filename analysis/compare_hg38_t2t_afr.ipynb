{
 "cells": [
  {
   "cell_type": "code",
   "execution_count": 1,
   "id": "c51d46df-8cd7-4fb6-b834-d798bfe01714",
   "metadata": {},
   "outputs": [],
   "source": [
    "import pandas as pd\n",
    "import numpy as np\n",
    "import scipy.stats as st\n",
    "import seaborn as sns\n",
    "import sys\n",
    "import os\n",
    "import matplotlib.pyplot as plt\n",
    "import swan_vis as swan\n",
    "import yaml\n",
    "from snakemake.io import expand\n",
    "import cerberus\n",
    "import pyranges as pr\n",
    "import upsetplot\n",
    "\n",
    "p = os.path.dirname(os.getcwd())\n",
    "sys.path.append(p)\n",
    "\n",
    "from scripts.utils import *\n",
    "from scripts.vcf_utils import *\n",
    "from scripts.plotting import *"
   ]
  },
  {
   "cell_type": "code",
   "execution_count": 2,
   "id": "d8f6fbff-9b99-428e-a47b-2dcff0e484fb",
   "metadata": {},
   "outputs": [],
   "source": [
    "config = load_config()\n",
    "od = '../'\n",
    "\n",
    "def proc_cfg(entry, od):\n",
    "    entry = entry.replace('../../', '')\n",
    "    entry = od+entry\n",
    "    return entry"
   ]
  },
  {
   "cell_type": "code",
   "execution_count": 6,
   "id": "96e32338-e227-4510-b84f-7521f64c2a0b",
   "metadata": {},
   "outputs": [
    {
     "data": {
      "text/plain": [
       "'#4cb33e'"
      ]
     },
     "execution_count": 6,
     "metadata": {},
     "output_type": "execute_result"
    }
   ],
   "source": [
    "sample = 'HG00621_1'\n",
    "sample_1 = sample.split('_')[0]\n",
    "assemblies = ['afr', 'hg38', 't2t']\n",
    "meta = load_meta()\n",
    "pop = meta.loc[meta['sample'] == sample_1, 'population'].values[0]\n",
    "c_dict, _ = get_population_colors()\n",
    "color = c_dict[pop]"
   ]
  },
  {
   "cell_type": "markdown",
   "id": "5fbefa43-0a03-47ef-a3ea-2d13ec7e3e7b",
   "metadata": {},
   "source": [
    "## upset plot showing (binary) which reads mapped to where? starting from the fastq reads"
   ]
  },
  {
   "cell_type": "code",
   "execution_count": 7,
   "id": "11ed6bcd-f525-4440-b8d6-1da2c77838b5",
   "metadata": {},
   "outputs": [],
   "source": [
    "t2t_file = proc_cfg(expand(config['lr']['map']['bam_mapqs'],\n",
    "                          sample=sample,\n",
    "                          assembly='t2t')[0], od)\n",
    "hg38_file = proc_cfg(expand(config['lr']['map']['bam_mapqs'],\n",
    "                          sample=sample,\n",
    "                          assembly='hg38')[0], od)\n",
    "afr_file = proc_cfg(expand(config['lr']['map']['bam_mapqs'],\n",
    "                          sample=sample,\n",
    "                          assembly='afr')[0], od)"
   ]
  },
  {
   "cell_type": "code",
   "execution_count": 8,
   "id": "0bfa0e10-4dea-40e8-bfce-18fb8db2b0e2",
   "metadata": {},
   "outputs": [
    {
     "data": {
      "text/html": [
       "<div>\n",
       "<style scoped>\n",
       "    .dataframe tbody tr th:only-of-type {\n",
       "        vertical-align: middle;\n",
       "    }\n",
       "\n",
       "    .dataframe tbody tr th {\n",
       "        vertical-align: top;\n",
       "    }\n",
       "\n",
       "    .dataframe thead th {\n",
       "        text-align: right;\n",
       "    }\n",
       "</style>\n",
       "<table border=\"1\" class=\"dataframe\">\n",
       "  <thead>\n",
       "    <tr style=\"text-align: right;\">\n",
       "      <th></th>\n",
       "      <th>read_id</th>\n",
       "      <th>mapq</th>\n",
       "      <th>assembly</th>\n",
       "    </tr>\n",
       "  </thead>\n",
       "  <tbody>\n",
       "    <tr>\n",
       "      <th>0</th>\n",
       "      <td>656f1899-097a-4d0e-a956-eb0f9dd040e2:0</td>\n",
       "      <td>20</td>\n",
       "      <td>hg38</td>\n",
       "    </tr>\n",
       "    <tr>\n",
       "      <th>1</th>\n",
       "      <td>39c58a50-2e13-4bd7-9484-008563de3916:0</td>\n",
       "      <td>27</td>\n",
       "      <td>hg38</td>\n",
       "    </tr>\n",
       "    <tr>\n",
       "      <th>2</th>\n",
       "      <td>c6e18f10-2b77-4112-a2ee-7157c0a8c8a0:0</td>\n",
       "      <td>27</td>\n",
       "      <td>hg38</td>\n",
       "    </tr>\n",
       "    <tr>\n",
       "      <th>3</th>\n",
       "      <td>8c3d82da-fc2c-4667-b5d3-82098f206e7f:0</td>\n",
       "      <td>0</td>\n",
       "      <td>hg38</td>\n",
       "    </tr>\n",
       "    <tr>\n",
       "      <th>4</th>\n",
       "      <td>28327cc7-7153-4190-8087-560d3ffccbab:0</td>\n",
       "      <td>0</td>\n",
       "      <td>hg38</td>\n",
       "    </tr>\n",
       "  </tbody>\n",
       "</table>\n",
       "</div>"
      ],
      "text/plain": [
       "                                  read_id  mapq assembly\n",
       "0  656f1899-097a-4d0e-a956-eb0f9dd040e2:0    20     hg38\n",
       "1  39c58a50-2e13-4bd7-9484-008563de3916:0    27     hg38\n",
       "2  c6e18f10-2b77-4112-a2ee-7157c0a8c8a0:0    27     hg38\n",
       "3  8c3d82da-fc2c-4667-b5d3-82098f206e7f:0     0     hg38\n",
       "4  28327cc7-7153-4190-8087-560d3ffccbab:0     0     hg38"
      ]
     },
     "execution_count": 8,
     "metadata": {},
     "output_type": "execute_result"
    }
   ],
   "source": [
    "df = pd.read_csv(hg38_file, sep='\\t')\n",
    "df['assembly'] = 'hg38'\n",
    "assert len(df.index) == len(df.read_id.unique())\n",
    "\n",
    "df2 = pd.read_csv(t2t_file, sep='\\t')\n",
    "df2['assembly'] = 't2t'\n",
    "assert len(df2.index) == len(df2.read_id.unique())\n",
    "\n",
    "df3 = pd.read_csv(afr_file, sep='\\t')\n",
    "df3['assembly'] = 'afr'\n",
    "assert len(df3.index) == len(df3.read_id.unique())\n",
    "\n",
    "df = pd.concat([df, df2, df3], axis=0)\n",
    "df.head()"
   ]
  },
  {
   "cell_type": "code",
   "execution_count": 11,
   "id": "af101b5f-452c-4a26-9467-dc278e17c50a",
   "metadata": {},
   "outputs": [],
   "source": [
    "fastq_file = proc_cfg(expand(config['lr']['fastq_reads'],\n",
    "                          sample=sample,\n",
    "                          assembly='afr')[0], od)\n",
    "df2 = pd.read_csv(fastq_file, sep='\\t', header=None, names=['read_id'])"
   ]
  },
  {
   "cell_type": "markdown",
   "id": "c92a902e-3a6c-4094-b08f-d87ab5d4a713",
   "metadata": {},
   "source": [
    "## upset plot showing which reads mapped to where? Binary (min mapq >0)"
   ]
  },
  {
   "cell_type": "code",
   "execution_count": 7,
   "id": "cc493d76-7392-486c-ac8d-de6f1456931e",
   "metadata": {},
   "outputs": [],
   "source": [
    "t2t_file = proc_cfg(expand(config['lr']['map']['bam_mapqs'],\n",
    "                          sample=sample,\n",
    "                          assembly='t2t')[0], od)\n",
    "hg38_file = proc_cfg(expand(config['lr']['map']['bam_mapqs'],\n",
    "                          sample=sample,\n",
    "                          assembly='hg38')[0], od)\n",
    "afr_file = proc_cfg(expand(config['lr']['map']['bam_mapqs'],\n",
    "                          sample=sample,\n",
    "                          assembly='afr')[0], od)"
   ]
  },
  {
   "cell_type": "code",
   "execution_count": null,
   "id": "135e2e11-1599-486c-98ff-d306cc661258",
   "metadata": {},
   "outputs": [],
   "source": [
    "df = pd.read_csv(hg38_file, sep='\\t')\n",
    "df.rename({'mapq':'mapq_hg38'}, axis=1, inplace=True)\n",
    "assert len(df.index) == len(df.read_id.unique())\n",
    "\n",
    "df2 = pd.read_csv(t2t_file, sep='\\t')\n",
    "df2.rename({'mapq':'mapq_t2t'}, axis=1, inplace=True)\n",
    "assert len(df2.index) == len(df2.read_id.unique())\n",
    "\n",
    "df3 = pd.read_csv(afr_file, sep='\\t')\n",
    "df3.rename({'mapq':'mapq_afr'}, axis=1, inplace=True)\n",
    "assert len(df3.index) == len(df3.read_id.unique())"
   ]
  },
  {
   "cell_type": "code",
   "execution_count": null,
   "id": "3eeb75fc-a33c-4b88-b33f-e35bbd9a6145",
   "metadata": {},
   "outputs": [],
   "source": [
    "df = df.merge(df2, how='outer', on='read_id')\n",
    "df = df.merge(df3, how='outer', on='read_id')"
   ]
  },
  {
   "cell_type": "code",
   "execution_count": null,
   "id": "4bbcfbab-f7ba-4de3-a703-b1ce27b515d2",
   "metadata": {},
   "outputs": [],
   "source": [
    "df_back = df.copy(deep=True)"
   ]
  },
  {
   "cell_type": "code",
   "execution_count": null,
   "id": "90428884-b1ca-4cb9-aa0b-abc196998d2b",
   "metadata": {},
   "outputs": [],
   "source": [
    "# convert to binary\n",
    "df.fillna(0, inplace=True)\n",
    "df.set_index('read_id', inplace=True)\n",
    "df = df>0"
   ]
  },
  {
   "cell_type": "code",
   "execution_count": null,
   "id": "44ad37af-4344-4844-b515-4c5fc1568824",
   "metadata": {},
   "outputs": [],
   "source": [
    "df.reset_index(inplace=True)\n",
    "df.set_index(['mapq_hg38', 'mapq_t2t', 'mapq_afr'], inplace=True)"
   ]
  },
  {
   "cell_type": "code",
   "execution_count": null,
   "id": "bab7534e-b62a-4826-9e00-5e191e516f23",
   "metadata": {},
   "outputs": [],
   "source": [
    "ax_dict = upsetplot.UpSet(df, subset_size='count',\n",
    "                          show_counts=True,\n",
    "                          facecolor=color).plot()"
   ]
  },
  {
   "cell_type": "code",
   "execution_count": null,
   "id": "a0709c63-c179-4961-9eed-4ccc0cba0536",
   "metadata": {},
   "outputs": [],
   "source": [
    "## bar plot showing which reads mapped best (mapq)"
   ]
  },
  {
   "cell_type": "code",
   "execution_count": null,
   "id": "ccec997a-199f-45e0-b997-74a61c9c0565",
   "metadata": {},
   "outputs": [],
   "source": [
    "## bar plot showing which reads mapped best (qcov)"
   ]
  }
 ],
 "metadata": {
  "kernelspec": {
   "display_name": "Python 3",
   "language": "python",
   "name": "python3"
  },
  "language_info": {
   "codemirror_mode": {
    "name": "ipython",
    "version": 3
   },
   "file_extension": ".py",
   "mimetype": "text/x-python",
   "name": "python",
   "nbconvert_exporter": "python",
   "pygments_lexer": "ipython3",
   "version": "3.7.12"
  }
 },
 "nbformat": 4,
 "nbformat_minor": 5
}
