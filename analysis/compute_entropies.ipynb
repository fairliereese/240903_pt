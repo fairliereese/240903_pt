{
 "cells": [
  {
   "cell_type": "code",
   "execution_count": 82,
   "id": "1ac1512c-0b91-475f-93e7-d2a7d42d2553",
   "metadata": {},
   "outputs": [],
   "source": [
    "import pandas as pd\n",
    "import numpy as np\n",
    "import scipy.stats as st\n",
    "import seaborn as sns\n",
    "import sys\n",
    "import os\n",
    "import matplotlib.pyplot as plt\n",
    "import swan_vis as swan\n",
    "import yaml\n",
    "from snakemake.io import expand\n",
    "import cerberus\n",
    "import pyranges as pr\n",
    "import upsetplot\n",
    "\n",
    "p = os.path.dirname(os.getcwd())\n",
    "sys.path.append(p)\n",
    "\n",
    "from scripts.utils import *\n",
    "from scripts.vcf_utils import *\n",
    "from scripts.plotting import *"
   ]
  },
  {
   "cell_type": "code",
   "execution_count": 107,
   "id": "38aac8e8-dacc-4169-991f-a73295b02ce6",
   "metadata": {},
   "outputs": [],
   "source": [
    "config = load_config()\n",
    "od = '../'\n",
    "\n",
    "def proc_cfg(entry, od):\n",
    "    entry = entry.replace('../../', '')\n",
    "    entry = od+entry\n",
    "    return entry"
   ]
  },
  {
   "cell_type": "code",
   "execution_count": 165,
   "id": "e1917148-3f07-4a45-8cc0-49f3b47791f7",
   "metadata": {},
   "outputs": [],
   "source": [
    "def get_melted_pi_counts_table(ver='poder', min_t_cpm=None):\n",
    "    assemblies = ['same_population_sample', 'afr_sample', 'european_sample']\n",
    "    meta = load_meta()\n",
    "    meta = meta.loc[meta.merged_run_mode==True]\n",
    "    sample_d = dict([(entry.cell_line_id, entry['sample']) \\\n",
    "                     for ind, entry in meta.iterrows()])\n",
    "    \n",
    "    \n",
    "    if ver == 'poder':\n",
    "        f = expand(proc_cfg(config['lr']['kallisto']['quant']['merge_matrix_tpm_tsv'],od))[0]\n",
    "    elif ver == 'v47':\n",
    "        f = expand(proc_cfg(config['lr']['v47_kallisto']['quant']['merge_matrix_tpm_tsv'],od))[0]\n",
    "    df = pd.read_csv(f, sep='\\t')\n",
    "    df.head()\n",
    "    df.columns = [d if d == 'transcript_id' else d.split('_')[0] for d in df.columns]\n",
    "    df.rename({'transcript_id':'tid'}, axis=1, inplace=True)\n",
    "    df.rename(sample_d, axis=1, inplace=True)\n",
    "\n",
    "    \n",
    "    id_vars = ['tid']\n",
    "    sample_columns = list(set(df.columns)-set(id_vars))\n",
    "    tpm_df = df.melt(id_vars=id_vars, value_vars=sample_columns, \n",
    "                      var_name='sample', value_name='t_tpm')\n",
    "    tpm_df = tpm_df.merge(meta[['sample', 'population']],\n",
    "                          how='left', on='sample')\n",
    "    tpm_df.head()\n",
    "    \n",
    "    if ver == 'poder':\n",
    "        f = '../data/analysis/04_relative_abundances_allgenes_pantrx.tsv'\n",
    "    elif ver == 'v47':\n",
    "        f = '../data/analysis/04_relative_abundances_allgenes_gencode.tsv'\n",
    "    df = pd.read_csv(f, sep='\\t')\n",
    "    df.sort_values(by='geneid.v').head()\n",
    "    df.rename({'geneid.v':'gid', 'transcriptid.v':'tid'}, axis=1, inplace=True)\n",
    "    id_vars = ['tid', 'gid']\n",
    "    sample_columns = list(set(df.columns)-set(id_vars))\n",
    "    df = df.melt(id_vars=id_vars, value_vars=sample_columns, \n",
    "                      var_name='sample', value_name='pi')\n",
    "\n",
    "    \n",
    "    # filter based on min. cpm\n",
    "    df = df.merge(tpm_df, how='left',\n",
    "                  on=['tid', 'sample'])\n",
    "    \n",
    "    \n",
    "    # add gene expression\n",
    "    ver = 'poder'\n",
    "    if ver == 'poder':\n",
    "        f = expand(proc_cfg(config['lr']['kallisto']['quant']['gene_tsv'],od))[0]\n",
    "    elif ver == 'v47':\n",
    "        f = expand(proc_cfg(config['lr']['v47_kallisto']['quant']['gene_tsv'],od))[0]\n",
    "    gene_df = pd.read_csv(f, sep='\\t')\n",
    "    gene_df.head()\n",
    "    gene_df.sort_values(by='geneid.v').head()\n",
    "    gene_df.rename({'geneid.v':'gid'}, axis=1, inplace=True)\n",
    "    id_vars = ['gid']\n",
    "    sample_columns = list(set(gene_df.columns)-set(id_vars))\n",
    "    gene_df = gene_df.melt(id_vars=id_vars, value_vars=sample_columns, \n",
    "                      var_name='sample', value_name='g_counts')\n",
    "    gene_df.head()\n",
    "    \n",
    "    # filter based on min. cpm\n",
    "    df = df.merge(gene_df, how='left',\n",
    "                  on=['gid', 'sample'])\n",
    "    \n",
    "    \n",
    "    if min_t_cpm:\n",
    "        df = df.loc[df.t_tpm >= min_t_cpm]\n",
    "        \n",
    "    return df"
   ]
  },
  {
   "cell_type": "code",
   "execution_count": 174,
   "id": "d68d238d-23a2-483f-8331-974a09dbec8f",
   "metadata": {},
   "outputs": [],
   "source": [
    "# get predominant transcripts for poder\n",
    "df = get_melted_pi_counts_table('poder')"
   ]
  },
  {
   "cell_type": "code",
   "execution_count": 175,
   "id": "6850bfbb-5357-4f6a-8a9b-de0ca0a242cd",
   "metadata": {},
   "outputs": [],
   "source": [
    "# remove anything w/ 0 pi val\n",
    "# can adjust this threshold later if needed\n",
    "df = df.loc[df.pi>0]\n",
    "\n",
    "# keep transcripts that have at least 11 samples with more than 0.1 cpm\n",
    "t_cpm_thresh = 0.1\n",
    "n_t_sample_thresh = 11\n",
    "temp = df[['sample', 'tid', 't_tpm']]\n",
    "temp = temp.loc[temp['t_tpm']>=t_cpm_thresh]\n",
    "temp = temp.drop('t_tpm', axis=1)\n",
    "temp = temp.groupby('tid').nunique().reset_index().rename({'sample':'n_t_samples'}, axis=1)\n",
    "df = df.merge(temp, how='left', on='tid')\n",
    "\n",
    "# keep genes with at least 11 samples with at least 10 counts\n",
    "g_counts_thresh = 10\n",
    "n_g_sample_thresh = 11\n",
    "temp = df[['sample', 'gid', 'g_counts']]\n",
    "temp = temp.loc[temp.g_counts>=g_counts_thresh]\n",
    "temp = temp.drop('g_counts', axis=1)\n",
    "temp = temp.groupby('gid').nunique().reset_index().rename({'sample':'n_g_samples'}, axis=1)\n",
    "df = df.merge(temp, how='left', on='gid')\n",
    "\n",
    "# keep genes with more than 1 transcript\n",
    "temp = df[['tid', 'gid']].groupby('gid').nunique().reset_index().rename({'tid':'n_t'}, axis=1)\n",
    "df = df.merge(temp, how='left', on='gid')\n",
    "\n",
    "# perform the filtering\n",
    "df = df.loc[df.n_t_samples>=n_t_sample_thresh]\n",
    "df = df.loc[df.n_g_samples>=n_g_sample_thresh]\n",
    "df = df.loc[df.n_t>1]"
   ]
  },
  {
   "cell_type": "code",
   "execution_count": 178,
   "id": "6a99c478-a189-4400-9dbc-3fdc94620806",
   "metadata": {},
   "outputs": [
    {
     "data": {
      "text/html": [
       "<div>\n",
       "<style scoped>\n",
       "    .dataframe tbody tr th:only-of-type {\n",
       "        vertical-align: middle;\n",
       "    }\n",
       "\n",
       "    .dataframe tbody tr th {\n",
       "        vertical-align: top;\n",
       "    }\n",
       "\n",
       "    .dataframe thead th {\n",
       "        text-align: right;\n",
       "    }\n",
       "</style>\n",
       "<table border=\"1\" class=\"dataframe\">\n",
       "  <thead>\n",
       "    <tr style=\"text-align: right;\">\n",
       "      <th></th>\n",
       "      <th>tid</th>\n",
       "      <th>gid</th>\n",
       "      <th>sample</th>\n",
       "      <th>pi</th>\n",
       "      <th>t_tpm</th>\n",
       "      <th>population</th>\n",
       "      <th>g_counts</th>\n",
       "      <th>n_t_samples</th>\n",
       "      <th>n_g_samples</th>\n",
       "      <th>n_t</th>\n",
       "    </tr>\n",
       "  </thead>\n",
       "  <tbody>\n",
       "    <tr>\n",
       "      <th>0</th>\n",
       "      <td>ENST00000010132.6</td>\n",
       "      <td>ENSG00000010219.14</td>\n",
       "      <td>CEU3</td>\n",
       "      <td>0.309327</td>\n",
       "      <td>10.340900</td>\n",
       "      <td>CEU</td>\n",
       "      <td>333.594840</td>\n",
       "      <td>43.0</td>\n",
       "      <td>43.0</td>\n",
       "      <td>17</td>\n",
       "    </tr>\n",
       "    <tr>\n",
       "      <th>3</th>\n",
       "      <td>ENST00000214893.10</td>\n",
       "      <td>ENSG00000099219.15</td>\n",
       "      <td>CEU3</td>\n",
       "      <td>0.857143</td>\n",
       "      <td>1.546140</td>\n",
       "      <td>CEU</td>\n",
       "      <td>18.000025</td>\n",
       "      <td>38.0</td>\n",
       "      <td>16.0</td>\n",
       "      <td>7</td>\n",
       "    </tr>\n",
       "    <tr>\n",
       "      <th>4</th>\n",
       "      <td>ENST00000217961.5</td>\n",
       "      <td>ENSG00000101846.9</td>\n",
       "      <td>CEU3</td>\n",
       "      <td>0.125000</td>\n",
       "      <td>0.125266</td>\n",
       "      <td>CEU</td>\n",
       "      <td>10.000000</td>\n",
       "      <td>20.0</td>\n",
       "      <td>26.0</td>\n",
       "      <td>4</td>\n",
       "    </tr>\n",
       "    <tr>\n",
       "      <th>6</th>\n",
       "      <td>ENST00000220966.10</td>\n",
       "      <td>ENSG00000104524.14</td>\n",
       "      <td>CEU3</td>\n",
       "      <td>0.500000</td>\n",
       "      <td>1.202550</td>\n",
       "      <td>CEU</td>\n",
       "      <td>24.000000</td>\n",
       "      <td>30.0</td>\n",
       "      <td>31.0</td>\n",
       "      <td>4</td>\n",
       "    </tr>\n",
       "    <tr>\n",
       "      <th>8</th>\n",
       "      <td>ENST00000222572.8</td>\n",
       "      <td>ENSG00000105854.13</td>\n",
       "      <td>CEU3</td>\n",
       "      <td>0.291667</td>\n",
       "      <td>0.233830</td>\n",
       "      <td>CEU</td>\n",
       "      <td>7.999990</td>\n",
       "      <td>15.0</td>\n",
       "      <td>11.0</td>\n",
       "      <td>5</td>\n",
       "    </tr>\n",
       "  </tbody>\n",
       "</table>\n",
       "</div>"
      ],
      "text/plain": [
       "                  tid                 gid sample        pi      t_tpm  \\\n",
       "0   ENST00000010132.6  ENSG00000010219.14   CEU3  0.309327  10.340900   \n",
       "3  ENST00000214893.10  ENSG00000099219.15   CEU3  0.857143   1.546140   \n",
       "4   ENST00000217961.5   ENSG00000101846.9   CEU3  0.125000   0.125266   \n",
       "6  ENST00000220966.10  ENSG00000104524.14   CEU3  0.500000   1.202550   \n",
       "8   ENST00000222572.8  ENSG00000105854.13   CEU3  0.291667   0.233830   \n",
       "\n",
       "  population    g_counts  n_t_samples  n_g_samples  n_t  \n",
       "0        CEU  333.594840         43.0         43.0   17  \n",
       "3        CEU   18.000025         38.0         16.0    7  \n",
       "4        CEU   10.000000         20.0         26.0    4  \n",
       "6        CEU   24.000000         30.0         31.0    4  \n",
       "8        CEU    7.999990         15.0         11.0    5  "
      ]
     },
     "execution_count": 178,
     "metadata": {},
     "output_type": "execute_result"
    }
   ],
   "source": [
    "df.head()"
   ]
  },
  {
   "cell_type": "code",
   "execution_count": 176,
   "id": "d344aa6a-8acd-412c-8364-0012b22cdc9f",
   "metadata": {},
   "outputs": [],
   "source": [
    "# # verify gene transform\n",
    "# len(df.loc[(df.gid=='ENSG00000000419.14')&(df.g_counts>=g_cpm_thresh)]['sample'].unique())\n",
    "# gid = 'ENSG00000002016.18'\n",
    "# len(df.loc[(df.gid==gid)&(df.g_counts>=g_cpm_thresh)]['sample'].unique())\n",
    "# gid = 'ENSG00000038427.16'\n",
    "# len(df.loc[(df.gid==gid)&(df.g_counts>=g_cpm_thresh)]['sample'].unique())"
   ]
  },
  {
   "cell_type": "code",
   "execution_count": 177,
   "id": "3b8deb7d-78c5-4c24-8176-da01209beafa",
   "metadata": {},
   "outputs": [],
   "source": [
    "# # verify t transform\n",
    "# len(df.loc[(df.tid=='ENST00000010132.6')&(df.tpm>=t_cpm_thresh)])\n",
    "# len(df.loc[(df.tid=='ENST00000155093.8')&(df.tpm>=t_cpm_thresh)])"
   ]
  },
  {
   "cell_type": "code",
   "execution_count": null,
   "id": "09320c6a-8da8-4702-8bd0-9fb8799428d4",
   "metadata": {},
   "outputs": [],
   "source": [
    "# groupby sample and gene to compute entropy \n",
    "# over pi values\n",
    "e_df = df[['gid', 'sample',\n",
    "           'pi', 'population']].groupby(['gid', 'sample',\n",
    "                                         'population']).apply(lambda x: st.entropy(x.pi))\n",
    "e_df = e_df.reset_index().rename({0:'entropy'}, axis=1)"
   ]
  },
  {
   "cell_type": "code",
   "execution_count": 85,
   "id": "9e16c624-aff9-4dbc-a152-4313b0968eef",
   "metadata": {},
   "outputs": [
    {
     "data": {
      "text/html": [
       "<div>\n",
       "<style scoped>\n",
       "    .dataframe tbody tr th:only-of-type {\n",
       "        vertical-align: middle;\n",
       "    }\n",
       "\n",
       "    .dataframe tbody tr th {\n",
       "        vertical-align: top;\n",
       "    }\n",
       "\n",
       "    .dataframe thead th {\n",
       "        text-align: right;\n",
       "    }\n",
       "</style>\n",
       "<table border=\"1\" class=\"dataframe\">\n",
       "  <thead>\n",
       "    <tr style=\"text-align: right;\">\n",
       "      <th></th>\n",
       "      <th>gid</th>\n",
       "      <th>sample</th>\n",
       "      <th>population</th>\n",
       "      <th>entropy</th>\n",
       "    </tr>\n",
       "  </thead>\n",
       "  <tbody>\n",
       "    <tr>\n",
       "      <th>0</th>\n",
       "      <td>ENSG00000000419.14</td>\n",
       "      <td>AJI1</td>\n",
       "      <td>AJI</td>\n",
       "      <td>0.619132</td>\n",
       "    </tr>\n",
       "  </tbody>\n",
       "</table>\n",
       "</div>"
      ],
      "text/plain": [
       "                  gid sample population   entropy\n",
       "0  ENSG00000000419.14   AJI1        AJI  0.619132"
      ]
     },
     "execution_count": 85,
     "metadata": {},
     "output_type": "execute_result"
    }
   ],
   "source": [
    "e_df.head(1)"
   ]
  },
  {
   "cell_type": "code",
   "execution_count": 86,
   "id": "7a7885a0-97ea-440e-9223-af429151b125",
   "metadata": {},
   "outputs": [
    {
     "data": {
      "text/plain": [
       "0.6191324068842047"
      ]
     },
     "execution_count": 86,
     "metadata": {},
     "output_type": "execute_result"
    }
   ],
   "source": [
    "# validate that this worked\n",
    "temp_list = df.loc[(df['sample']=='AJI1')&(df.gid=='ENSG00000000419.14')].pi.tolist()\n",
    "st.entropy(temp_list)"
   ]
  },
  {
   "cell_type": "code",
   "execution_count": 23,
   "id": "12e55e99-ae1a-4a50-995e-de0a83514b0c",
   "metadata": {},
   "outputs": [
    {
     "data": {
      "text/plain": [
       "<seaborn.axisgrid.FacetGrid at 0x7f7870d4d850>"
      ]
     },
     "execution_count": 23,
     "metadata": {},
     "output_type": "execute_result"
    },
    {
     "data": {
      "image/png": "[encoded data removed]",
      "text/plain": [
       "<Figure size 360x360 with 1 Axes>"
      ]
     },
     "metadata": {
      "needs_background": "light"
     },
     "output_type": "display_data"
    }
   ],
   "source": [
    "# plot distribution of entropies\n",
    "sns.displot(e_df, kind='kde', x='entropy')"
   ]
  },
  {
   "cell_type": "code",
   "execution_count": 24,
   "id": "9f57dded-e075-422a-8f21-b7347652b6cd",
   "metadata": {},
   "outputs": [
    {
     "data": {
      "text/plain": [
       "<seaborn.axisgrid.FacetGrid at 0x7f7870cddfd0>"
      ]
     },
     "execution_count": 24,
     "metadata": {},
     "output_type": "execute_result"
    },
    {
     "data": {
      "image/png": "[encoded data removed]",
      "text/plain": [
       "<Figure size 360x360 with 1 Axes>"
      ]
     },
     "metadata": {
      "needs_background": "light"
     },
     "output_type": "display_data"
    }
   ],
   "source": [
    "# plot distribution of entropies\n",
    "sns.displot(e_df, kind='hist', x='entropy')\n",
    "# peaks are probably at the different theoretical maxes maybe?"
   ]
  },
  {
   "cell_type": "code",
   "execution_count": 87,
   "id": "1a98cb45-bc63-4346-840f-8bacdb00d1f9",
   "metadata": {},
   "outputs": [],
   "source": [
    "# get # isoforms expressed vs. entropy\n",
    "n_t_df = df[['tid', 'gid', 'sample']].groupby(['gid', 'sample']).nunique().reset_index().rename({'tid': 'n_t'}, axis=1)\n",
    "e_df = e_df.merge(n_t_df, on=['gid', 'sample'])"
   ]
  },
  {
   "cell_type": "code",
   "execution_count": 101,
   "id": "8cf715ba-7025-48c4-a895-30dbade0f056",
   "metadata": {},
   "outputs": [
    {
     "name": "stdout",
     "output_type": "stream",
     "text": [
      "602839\n",
      "449774\n"
     ]
    }
   ],
   "source": [
    "# remove genes w/ just one isofomr\n",
    "print(len(e_df.index))\n",
    "e_df = e_df.loc[e_df.n_t!=1]\n",
    "print(len(e_df.index))"
   ]
  },
  {
   "cell_type": "code",
   "execution_count": 102,
   "id": "1d29319b-18e5-4992-9587-cfd361da934e",
   "metadata": {},
   "outputs": [
    {
     "data": {
      "text/html": [
       "<div>\n",
       "<style scoped>\n",
       "    .dataframe tbody tr th:only-of-type {\n",
       "        vertical-align: middle;\n",
       "    }\n",
       "\n",
       "    .dataframe tbody tr th {\n",
       "        vertical-align: top;\n",
       "    }\n",
       "\n",
       "    .dataframe thead th {\n",
       "        text-align: right;\n",
       "    }\n",
       "</style>\n",
       "<table border=\"1\" class=\"dataframe\">\n",
       "  <thead>\n",
       "    <tr style=\"text-align: right;\">\n",
       "      <th></th>\n",
       "      <th>tid</th>\n",
       "      <th>gid</th>\n",
       "      <th>sample</th>\n",
       "      <th>pi</th>\n",
       "      <th>tpm</th>\n",
       "      <th>population</th>\n",
       "    </tr>\n",
       "  </thead>\n",
       "  <tbody>\n",
       "    <tr>\n",
       "      <th>4258829</th>\n",
       "      <td>transcript_204923</td>\n",
       "      <td>ENSG00000238260.4</td>\n",
       "      <td>AJI2</td>\n",
       "      <td>0.5</td>\n",
       "      <td>0.039442</td>\n",
       "      <td>AJI</td>\n",
       "    </tr>\n",
       "    <tr>\n",
       "      <th>4258833</th>\n",
       "      <td>transcript_204927</td>\n",
       "      <td>ENSG00000238260.4</td>\n",
       "      <td>AJI2</td>\n",
       "      <td>0.5</td>\n",
       "      <td>0.039442</td>\n",
       "      <td>AJI</td>\n",
       "    </tr>\n",
       "  </tbody>\n",
       "</table>\n",
       "</div>"
      ],
      "text/plain": [
       "                       tid                gid sample   pi       tpm population\n",
       "4258829  transcript_204923  ENSG00000238260.4   AJI2  0.5  0.039442        AJI\n",
       "4258833  transcript_204927  ENSG00000238260.4   AJI2  0.5  0.039442        AJI"
      ]
     },
     "execution_count": 102,
     "metadata": {},
     "output_type": "execute_result"
    }
   ],
   "source": [
    "df.loc[(df.gid=='ENSG00000238260.4')&(df['sample']=='AJI2')]"
   ]
  },
  {
   "cell_type": "code",
   "execution_count": 103,
   "id": "7dda59f9-6a9e-4218-824a-904a68a89a2e",
   "metadata": {},
   "outputs": [
    {
     "data": {
      "text/html": [
       "<div>\n",
       "<style scoped>\n",
       "    .dataframe tbody tr th:only-of-type {\n",
       "        vertical-align: middle;\n",
       "    }\n",
       "\n",
       "    .dataframe tbody tr th {\n",
       "        vertical-align: top;\n",
       "    }\n",
       "\n",
       "    .dataframe thead th {\n",
       "        text-align: right;\n",
       "    }\n",
       "</style>\n",
       "<table border=\"1\" class=\"dataframe\">\n",
       "  <thead>\n",
       "    <tr style=\"text-align: right;\">\n",
       "      <th></th>\n",
       "      <th>gid</th>\n",
       "      <th>sample</th>\n",
       "      <th>population</th>\n",
       "      <th>entropy</th>\n",
       "      <th>n_t</th>\n",
       "      <th>norm_entropy</th>\n",
       "    </tr>\n",
       "  </thead>\n",
       "  <tbody>\n",
       "    <tr>\n",
       "      <th>475263</th>\n",
       "      <td>ENSG00000238260.4</td>\n",
       "      <td>AJI2</td>\n",
       "      <td>AJI</td>\n",
       "      <td>0.693147</td>\n",
       "      <td>2</td>\n",
       "      <td>1.0</td>\n",
       "    </tr>\n",
       "  </tbody>\n",
       "</table>\n",
       "</div>"
      ],
      "text/plain": [
       "                      gid sample population   entropy  n_t  norm_entropy\n",
       "475263  ENSG00000238260.4   AJI2        AJI  0.693147    2           1.0"
      ]
     },
     "execution_count": 103,
     "metadata": {},
     "output_type": "execute_result"
    }
   ],
   "source": [
    "e_df.loc[(e_df.gid=='ENSG00000238260.4')&(e_df['sample']=='AJI2')]"
   ]
  },
  {
   "cell_type": "code",
   "execution_count": 104,
   "id": "db5ddff3-3f48-4f45-9db7-7183801bf6f3",
   "metadata": {},
   "outputs": [],
   "source": [
    "# e_df.rename({'n_t_x':'n_t'}, axis=1, inplace=True)\n",
    "# e_df.drop('n_t_y', axis=1, inplace=True)"
   ]
  },
  {
   "cell_type": "code",
   "execution_count": 92,
   "id": "690ae594-4a77-4631-85e4-871a395c9806",
   "metadata": {},
   "outputs": [],
   "source": [
    "# normalize entropy values to max entropy values computed using \n",
    "# this stragtegy\n",
    "# https://mc-stan.org/posterior/reference/entropy.html\n",
    "e_df['norm_entropy'] = e_df.entropy/np.log(e_df.n_t)"
   ]
  },
  {
   "cell_type": "code",
   "execution_count": 93,
   "id": "2e3dc758-8c16-4fc1-986d-35eed4ef7083",
   "metadata": {},
   "outputs": [
    {
     "name": "stdout",
     "output_type": "stream",
     "text": [
      "0.24138176381491552\n",
      "                  gid sample population   entropy  n_t  norm_entropy\n",
      "0  ENSG00000000419.14   AJI1        AJI  0.619132   13      0.241382\n",
      "1  ENSG00000000419.14   AJI2        AJI  0.845254   14      0.320286\n",
      "2  ENSG00000000419.14   AJI3        AJI  0.725509   17      0.256073\n",
      "3  ENSG00000000419.14   AJI4        AJI  0.670090   12      0.269664\n",
      "4  ENSG00000000419.14   AJI5        AJI  0.794382   17      0.280382\n"
     ]
    }
   ],
   "source": [
    "# check to make sure it worked\n",
    "print(0.619132/np.log(13))\n",
    "print(e_df.head())"
   ]
  },
  {
   "cell_type": "code",
   "execution_count": 69,
   "id": "5f65cf8f-87ce-4779-a497-a183e1d9707e",
   "metadata": {},
   "outputs": [
    {
     "data": {
      "text/plain": [
       "<seaborn.axisgrid.JointGrid at 0x7f78335684d0>"
      ]
     },
     "execution_count": 69,
     "metadata": {},
     "output_type": "execute_result"
    },
    {
     "name": "stderr",
     "output_type": "stream",
     "text": [
      "/Users/fairliereese/miniconda3/lib/python3.7/site-packages/IPython/core/events.py:89: UserWarning: Creating legend with loc=\"best\" can be slow with large amounts of data.\n",
      "  func(*args, **kwargs)\n",
      "/Users/fairliereese/miniconda3/lib/python3.7/site-packages/IPython/core/pylabtools.py:132: UserWarning: Creating legend with loc=\"best\" can be slow with large amounts of data.\n",
      "  fig.canvas.print_figure(bytes_io, **kw)\n"
     ]
    },
    {
     "data": {
      "image/png": "[encoded data removed]",
      "text/plain": [
       "<Figure size 432x432 with 3 Axes>"
      ]
     },
     "metadata": {
      "needs_background": "light"
     },
     "output_type": "display_data"
    }
   ],
   "source": [
    "# plot\n",
    "c_dict, order = get_population_colors()\n",
    "sns.jointplot(e_df, x='entropy', y='n_t', hue='population', palette=c_dict,\n",
    "              alpha=0.75, s=7)"
   ]
  },
  {
   "cell_type": "code",
   "execution_count": 70,
   "id": "df363a73-2c08-43ae-b4bb-1c80a39826a7",
   "metadata": {},
   "outputs": [
    {
     "data": {
      "text/plain": [
       "Text(2, 95, 'y = 1.48 + 5.009x')"
      ]
     },
     "execution_count": 70,
     "metadata": {},
     "output_type": "execute_result"
    },
    {
     "data": {
      "image/png": "[encoded data removed]",
      "text/plain": [
       "<Figure size 360x360 with 1 Axes>"
      ]
     },
     "metadata": {
      "needs_background": "light"
     },
     "output_type": "display_data"
    }
   ],
   "source": [
    "# plot\n",
    "init_plot_settings(aspect='square')\n",
    "p = sns.regplot(e_df, x='entropy', y='n_t', scatter_kws={'s': 2,\n",
    "                                                         'alpha': 0.6})\n",
    "\n",
    "#calculate slope and intercept of regression equation\n",
    "slope, intercept, r, p, sterr = st.linregress(x=p.get_lines()[0].get_xdata(),\n",
    "                                                       y=p.get_lines()[0].get_ydata())\n",
    "\n",
    "#add regression equation to plot\n",
    "plt.text(2, 95, 'y = ' + str(round(intercept,3)) + ' + ' + str(round(slope,3)) + 'x')"
   ]
  },
  {
   "cell_type": "code",
   "execution_count": 45,
   "id": "be0d9225-8ca2-4a85-ad01-7c5fbfae624e",
   "metadata": {},
   "outputs": [
    {
     "name": "stdout",
     "output_type": "stream",
     "text": [
      "49\n",
      "2\n",
      "['ENSG00000226777.10' 'ENSG00000234741.11']\n",
      "                    sample\n",
      "gid                       \n",
      "ENSG00000226777.10       7\n",
      "ENSG00000234741.11      42\n"
     ]
    }
   ],
   "source": [
    "# what are these outliers?\n",
    "print(len(e_df.loc[e_df.n_t>150]))\n",
    "print(len(e_df.loc[e_df.n_t>150].gid.unique()))\n",
    "print(e_df.loc[e_df.n_t>150].gid.unique())\n",
    "print(e_df.loc[e_df.n_t>150][['sample', 'gid']].groupby('gid').count())"
   ]
  },
  {
   "cell_type": "code",
   "execution_count": 57,
   "id": "d2fc5059-08cf-4e26-af4a-ed013db5b06d",
   "metadata": {},
   "outputs": [
    {
     "name": "stdout",
     "output_type": "stream",
     "text": [
      "775\n",
      "440\n"
     ]
    },
    {
     "data": {
      "text/html": [
       "<div>\n",
       "<style scoped>\n",
       "    .dataframe tbody tr th:only-of-type {\n",
       "        vertical-align: middle;\n",
       "    }\n",
       "\n",
       "    .dataframe tbody tr th {\n",
       "        vertical-align: top;\n",
       "    }\n",
       "\n",
       "    .dataframe thead th {\n",
       "        text-align: right;\n",
       "    }\n",
       "</style>\n",
       "<table border=\"1\" class=\"dataframe\">\n",
       "  <thead>\n",
       "    <tr style=\"text-align: right;\">\n",
       "      <th></th>\n",
       "      <th>gid</th>\n",
       "      <th>sample</th>\n",
       "      <th>population</th>\n",
       "      <th>entropy</th>\n",
       "      <th>n_t</th>\n",
       "    </tr>\n",
       "  </thead>\n",
       "  <tbody>\n",
       "    <tr>\n",
       "      <th>522</th>\n",
       "      <td>ENSG00000001631.17</td>\n",
       "      <td>CEU1</td>\n",
       "      <td>CEU</td>\n",
       "      <td>2.058253</td>\n",
       "      <td>9</td>\n",
       "    </tr>\n",
       "    <tr>\n",
       "      <th>524</th>\n",
       "      <td>ENSG00000001631.17</td>\n",
       "      <td>CEU3</td>\n",
       "      <td>CEU</td>\n",
       "      <td>2.029161</td>\n",
       "      <td>9</td>\n",
       "    </tr>\n",
       "    <tr>\n",
       "      <th>550</th>\n",
       "      <td>ENSG00000001631.17</td>\n",
       "      <td>PEL4</td>\n",
       "      <td>PEL</td>\n",
       "      <td>2.083215</td>\n",
       "      <td>9</td>\n",
       "    </tr>\n",
       "    <tr>\n",
       "      <th>619</th>\n",
       "      <td>ENSG00000002330.14</td>\n",
       "      <td>LWK1</td>\n",
       "      <td>LWK</td>\n",
       "      <td>2.064235</td>\n",
       "      <td>8</td>\n",
       "    </tr>\n",
       "    <tr>\n",
       "      <th>4499</th>\n",
       "      <td>ENSG00000007038.11</td>\n",
       "      <td>MPC1</td>\n",
       "      <td>MPC</td>\n",
       "      <td>2.079442</td>\n",
       "      <td>8</td>\n",
       "    </tr>\n",
       "  </tbody>\n",
       "</table>\n",
       "</div>"
      ],
      "text/plain": [
       "                     gid sample population   entropy  n_t\n",
       "522   ENSG00000001631.17   CEU1        CEU  2.058253    9\n",
       "524   ENSG00000001631.17   CEU3        CEU  2.029161    9\n",
       "550   ENSG00000001631.17   PEL4        PEL  2.083215    9\n",
       "619   ENSG00000002330.14   LWK1        LWK  2.064235    8\n",
       "4499  ENSG00000007038.11   MPC1        MPC  2.079442    8"
      ]
     },
     "execution_count": 57,
     "metadata": {},
     "output_type": "execute_result"
    }
   ],
   "source": [
    "# lets try to look at some more reasonable exmples,\n",
    "# maybe genes w/ <10 transcripts and high entropy\n",
    "# lets say >2\n",
    "temp = e_df.loc[e_df.n_t<10]\n",
    "temp = temp.loc[temp.entropy>2]\n",
    "temp.sort_values(by='entropy', ascending=False).head()\n",
    "print(len(temp.index))\n",
    "print(len(temp.gid.unique()))\n",
    "\n",
    "# nearly half of genes in this category are repeated across samples\n",
    "temp.head()"
   ]
  },
  {
   "cell_type": "code",
   "execution_count": 71,
   "id": "d62dea66-51dc-458b-89d4-d60f98d151d7",
   "metadata": {},
   "outputs": [
    {
     "data": {
      "text/html": [
       "<div>\n",
       "<style scoped>\n",
       "    .dataframe tbody tr th:only-of-type {\n",
       "        vertical-align: middle;\n",
       "    }\n",
       "\n",
       "    .dataframe tbody tr th {\n",
       "        vertical-align: top;\n",
       "    }\n",
       "\n",
       "    .dataframe thead th {\n",
       "        text-align: right;\n",
       "    }\n",
       "</style>\n",
       "<table border=\"1\" class=\"dataframe\">\n",
       "  <thead>\n",
       "    <tr style=\"text-align: right;\">\n",
       "      <th></th>\n",
       "      <th>gid</th>\n",
       "      <th>sample</th>\n",
       "      <th>population</th>\n",
       "      <th>entropy</th>\n",
       "      <th>n_t</th>\n",
       "      <th>norm_entropy</th>\n",
       "    </tr>\n",
       "  </thead>\n",
       "  <tbody>\n",
       "    <tr>\n",
       "      <th>0</th>\n",
       "      <td>ENSG00000000419.14</td>\n",
       "      <td>AJI1</td>\n",
       "      <td>AJI</td>\n",
       "      <td>0.619132</td>\n",
       "      <td>13</td>\n",
       "      <td>0.241382</td>\n",
       "    </tr>\n",
       "    <tr>\n",
       "      <th>1</th>\n",
       "      <td>ENSG00000000419.14</td>\n",
       "      <td>AJI2</td>\n",
       "      <td>AJI</td>\n",
       "      <td>0.845254</td>\n",
       "      <td>14</td>\n",
       "      <td>0.320286</td>\n",
       "    </tr>\n",
       "    <tr>\n",
       "      <th>2</th>\n",
       "      <td>ENSG00000000419.14</td>\n",
       "      <td>AJI3</td>\n",
       "      <td>AJI</td>\n",
       "      <td>0.725509</td>\n",
       "      <td>17</td>\n",
       "      <td>0.256073</td>\n",
       "    </tr>\n",
       "    <tr>\n",
       "      <th>3</th>\n",
       "      <td>ENSG00000000419.14</td>\n",
       "      <td>AJI4</td>\n",
       "      <td>AJI</td>\n",
       "      <td>0.670090</td>\n",
       "      <td>12</td>\n",
       "      <td>0.269664</td>\n",
       "    </tr>\n",
       "    <tr>\n",
       "      <th>4</th>\n",
       "      <td>ENSG00000000419.14</td>\n",
       "      <td>AJI5</td>\n",
       "      <td>AJI</td>\n",
       "      <td>0.794382</td>\n",
       "      <td>17</td>\n",
       "      <td>0.280382</td>\n",
       "    </tr>\n",
       "  </tbody>\n",
       "</table>\n",
       "</div>"
      ],
      "text/plain": [
       "                  gid sample population   entropy  n_t  norm_entropy\n",
       "0  ENSG00000000419.14   AJI1        AJI  0.619132   13      0.241382\n",
       "1  ENSG00000000419.14   AJI2        AJI  0.845254   14      0.320286\n",
       "2  ENSG00000000419.14   AJI3        AJI  0.725509   17      0.256073\n",
       "3  ENSG00000000419.14   AJI4        AJI  0.670090   12      0.269664\n",
       "4  ENSG00000000419.14   AJI5        AJI  0.794382   17      0.280382"
      ]
     },
     "execution_count": 71,
     "metadata": {},
     "output_type": "execute_result"
    }
   ],
   "source": [
    "e_df.head()"
   ]
  },
  {
   "cell_type": "code",
   "execution_count": 94,
   "id": "6f3d1837-e7a4-492b-a3b6-78445f3d69f8",
   "metadata": {},
   "outputs": [
    {
     "data": {
      "text/plain": [
       "<seaborn.axisgrid.JointGrid at 0x7f7839645c90>"
      ]
     },
     "execution_count": 94,
     "metadata": {},
     "output_type": "execute_result"
    },
    {
     "name": "stderr",
     "output_type": "stream",
     "text": [
      "/Users/fairliereese/miniconda3/lib/python3.7/site-packages/IPython/core/events.py:89: UserWarning: Creating legend with loc=\"best\" can be slow with large amounts of data.\n",
      "  func(*args, **kwargs)\n",
      "/Users/fairliereese/miniconda3/lib/python3.7/site-packages/IPython/core/pylabtools.py:132: UserWarning: Creating legend with loc=\"best\" can be slow with large amounts of data.\n",
      "  fig.canvas.print_figure(bytes_io, **kw)\n"
     ]
    },
    {
     "data": {
      "image/png": "[encoded data removed]",
      "text/plain": [
       "<Figure size 432x432 with 3 Axes>"
      ]
     },
     "metadata": {
      "needs_background": "light"
     },
     "output_type": "display_data"
    }
   ],
   "source": [
    "# normalized\n",
    "# plot\n",
    "c_dict, order = get_population_colors()\n",
    "sns.jointplot(e_df, x='norm_entropy', y='n_t', hue='population', palette=c_dict,\n",
    "              alpha=0.75, s=7)"
   ]
  },
  {
   "cell_type": "code",
   "execution_count": 95,
   "id": "497d9381-9d3a-4630-99cf-d32597cc0e31",
   "metadata": {},
   "outputs": [
    {
     "data": {
      "text/plain": [
       "<seaborn.axisgrid.FacetGrid at 0x7f7842c55910>"
      ]
     },
     "execution_count": 95,
     "metadata": {},
     "output_type": "execute_result"
    },
    {
     "data": {
      "image/png": "[encoded data removed]",
      "text/plain": [
       "<Figure size 360x360 with 1 Axes>"
      ]
     },
     "metadata": {
      "needs_background": "light"
     },
     "output_type": "display_data"
    }
   ],
   "source": [
    "# plot distribution of entropies\n",
    "sns.displot(e_df, kind='kde', x='norm_entropy')"
   ]
  },
  {
   "cell_type": "code",
   "execution_count": 96,
   "id": "90cd50cb-1ff5-47c6-aace-d65fc3a74123",
   "metadata": {},
   "outputs": [
    {
     "data": {
      "text/plain": [
       "<seaborn.axisgrid.FacetGrid at 0x7f77228e3c10>"
      ]
     },
     "execution_count": 96,
     "metadata": {},
     "output_type": "execute_result"
    },
    {
     "data": {
      "image/png": "[encoded data removed]",
      "text/plain": [
       "<Figure size 360x360 with 1 Axes>"
      ]
     },
     "metadata": {
      "needs_background": "light"
     },
     "output_type": "display_data"
    }
   ],
   "source": [
    "# plot distribution of entropies\n",
    "sns.displot(e_df, kind='hist', x='norm_entropy')\n",
    "# peaks are probably at the different theoretical maxes maybe?"
   ]
  },
  {
   "cell_type": "code",
   "execution_count": 97,
   "id": "a2ddc7e3-919b-470f-8119-f60f480b2c2c",
   "metadata": {},
   "outputs": [
    {
     "data": {
      "text/html": [
       "<div>\n",
       "<style scoped>\n",
       "    .dataframe tbody tr th:only-of-type {\n",
       "        vertical-align: middle;\n",
       "    }\n",
       "\n",
       "    .dataframe tbody tr th {\n",
       "        vertical-align: top;\n",
       "    }\n",
       "\n",
       "    .dataframe thead th {\n",
       "        text-align: right;\n",
       "    }\n",
       "</style>\n",
       "<table border=\"1\" class=\"dataframe\">\n",
       "  <thead>\n",
       "    <tr style=\"text-align: right;\">\n",
       "      <th></th>\n",
       "      <th>gid</th>\n",
       "      <th>sample</th>\n",
       "      <th>population</th>\n",
       "      <th>entropy</th>\n",
       "      <th>n_t</th>\n",
       "      <th>norm_entropy</th>\n",
       "    </tr>\n",
       "  </thead>\n",
       "  <tbody>\n",
       "    <tr>\n",
       "      <th>0</th>\n",
       "      <td>ENSG00000000419.14</td>\n",
       "      <td>AJI1</td>\n",
       "      <td>AJI</td>\n",
       "      <td>0.619132</td>\n",
       "      <td>13</td>\n",
       "      <td>0.241382</td>\n",
       "    </tr>\n",
       "    <tr>\n",
       "      <th>1</th>\n",
       "      <td>ENSG00000000419.14</td>\n",
       "      <td>AJI2</td>\n",
       "      <td>AJI</td>\n",
       "      <td>0.845254</td>\n",
       "      <td>14</td>\n",
       "      <td>0.320286</td>\n",
       "    </tr>\n",
       "    <tr>\n",
       "      <th>2</th>\n",
       "      <td>ENSG00000000419.14</td>\n",
       "      <td>AJI3</td>\n",
       "      <td>AJI</td>\n",
       "      <td>0.725509</td>\n",
       "      <td>17</td>\n",
       "      <td>0.256073</td>\n",
       "    </tr>\n",
       "    <tr>\n",
       "      <th>3</th>\n",
       "      <td>ENSG00000000419.14</td>\n",
       "      <td>AJI4</td>\n",
       "      <td>AJI</td>\n",
       "      <td>0.670090</td>\n",
       "      <td>12</td>\n",
       "      <td>0.269664</td>\n",
       "    </tr>\n",
       "    <tr>\n",
       "      <th>4</th>\n",
       "      <td>ENSG00000000419.14</td>\n",
       "      <td>AJI5</td>\n",
       "      <td>AJI</td>\n",
       "      <td>0.794382</td>\n",
       "      <td>17</td>\n",
       "      <td>0.280382</td>\n",
       "    </tr>\n",
       "  </tbody>\n",
       "</table>\n",
       "</div>"
      ],
      "text/plain": [
       "                  gid sample population   entropy  n_t  norm_entropy\n",
       "0  ENSG00000000419.14   AJI1        AJI  0.619132   13      0.241382\n",
       "1  ENSG00000000419.14   AJI2        AJI  0.845254   14      0.320286\n",
       "2  ENSG00000000419.14   AJI3        AJI  0.725509   17      0.256073\n",
       "3  ENSG00000000419.14   AJI4        AJI  0.670090   12      0.269664\n",
       "4  ENSG00000000419.14   AJI5        AJI  0.794382   17      0.280382"
      ]
     },
     "execution_count": 97,
     "metadata": {},
     "output_type": "execute_result"
    }
   ],
   "source": [
    "e_df.head()"
   ]
  },
  {
   "cell_type": "code",
   "execution_count": 98,
   "id": "004b5cfe-7383-44fc-a856-f2a8b893bf6d",
   "metadata": {},
   "outputs": [
    {
     "data": {
      "text/html": [
       "<div>\n",
       "<style scoped>\n",
       "    .dataframe tbody tr th:only-of-type {\n",
       "        vertical-align: middle;\n",
       "    }\n",
       "\n",
       "    .dataframe tbody tr th {\n",
       "        vertical-align: top;\n",
       "    }\n",
       "\n",
       "    .dataframe thead th {\n",
       "        text-align: right;\n",
       "    }\n",
       "</style>\n",
       "<table border=\"1\" class=\"dataframe\">\n",
       "  <thead>\n",
       "    <tr style=\"text-align: right;\">\n",
       "      <th></th>\n",
       "      <th>gid</th>\n",
       "      <th>sample</th>\n",
       "      <th>population</th>\n",
       "      <th>entropy</th>\n",
       "      <th>n_t</th>\n",
       "      <th>norm_entropy</th>\n",
       "    </tr>\n",
       "  </thead>\n",
       "  <tbody>\n",
       "    <tr>\n",
       "      <th>554861</th>\n",
       "      <td>ENSG00000291176.2</td>\n",
       "      <td>AJI2</td>\n",
       "      <td>AJI</td>\n",
       "      <td>4.343805</td>\n",
       "      <td>77</td>\n",
       "      <td>1.0</td>\n",
       "    </tr>\n",
       "    <tr>\n",
       "      <th>475264</th>\n",
       "      <td>ENSG00000238260.4</td>\n",
       "      <td>AJI3</td>\n",
       "      <td>AJI</td>\n",
       "      <td>1.609438</td>\n",
       "      <td>5</td>\n",
       "      <td>1.0</td>\n",
       "    </tr>\n",
       "    <tr>\n",
       "      <th>550434</th>\n",
       "      <td>ENSG00000290922.2</td>\n",
       "      <td>HAC4</td>\n",
       "      <td>HAC</td>\n",
       "      <td>1.609438</td>\n",
       "      <td>5</td>\n",
       "      <td>1.0</td>\n",
       "    </tr>\n",
       "    <tr>\n",
       "      <th>513959</th>\n",
       "      <td>ENSG00000266970.4</td>\n",
       "      <td>LWK4</td>\n",
       "      <td>LWK</td>\n",
       "      <td>1.609438</td>\n",
       "      <td>5</td>\n",
       "      <td>1.0</td>\n",
       "    </tr>\n",
       "    <tr>\n",
       "      <th>508369</th>\n",
       "      <td>ENSG00000261390.9</td>\n",
       "      <td>CEU1</td>\n",
       "      <td>CEU</td>\n",
       "      <td>1.609438</td>\n",
       "      <td>5</td>\n",
       "      <td>1.0</td>\n",
       "    </tr>\n",
       "    <tr>\n",
       "      <th>...</th>\n",
       "      <td>...</td>\n",
       "      <td>...</td>\n",
       "      <td>...</td>\n",
       "      <td>...</td>\n",
       "      <td>...</td>\n",
       "      <td>...</td>\n",
       "    </tr>\n",
       "    <tr>\n",
       "      <th>602788</th>\n",
       "      <td>novelGene_ENSG00000309324.1_AS</td>\n",
       "      <td>PEL4</td>\n",
       "      <td>PEL</td>\n",
       "      <td>0.000000</td>\n",
       "      <td>1</td>\n",
       "      <td>NaN</td>\n",
       "    </tr>\n",
       "    <tr>\n",
       "      <th>602791</th>\n",
       "      <td>novelGene_ENSG00000309324.1_AS</td>\n",
       "      <td>YRI2</td>\n",
       "      <td>YRI</td>\n",
       "      <td>0.000000</td>\n",
       "      <td>1</td>\n",
       "      <td>NaN</td>\n",
       "    </tr>\n",
       "    <tr>\n",
       "      <th>602792</th>\n",
       "      <td>novelGene_ENSG00000309324.1_AS</td>\n",
       "      <td>YRI3</td>\n",
       "      <td>YRI</td>\n",
       "      <td>0.000000</td>\n",
       "      <td>1</td>\n",
       "      <td>NaN</td>\n",
       "    </tr>\n",
       "    <tr>\n",
       "      <th>602794</th>\n",
       "      <td>novelGene_ENSG00000309324.1_AS</td>\n",
       "      <td>YRI6</td>\n",
       "      <td>YRI</td>\n",
       "      <td>0.000000</td>\n",
       "      <td>1</td>\n",
       "      <td>NaN</td>\n",
       "    </tr>\n",
       "    <tr>\n",
       "      <th>602795</th>\n",
       "      <td>novelGene_ENSG00000309324.1_AS</td>\n",
       "      <td>YRI7</td>\n",
       "      <td>YRI</td>\n",
       "      <td>0.000000</td>\n",
       "      <td>1</td>\n",
       "      <td>NaN</td>\n",
       "    </tr>\n",
       "  </tbody>\n",
       "</table>\n",
       "<p>602839 rows × 6 columns</p>\n",
       "</div>"
      ],
      "text/plain": [
       "                                   gid sample population   entropy  n_t  \\\n",
       "554861               ENSG00000291176.2   AJI2        AJI  4.343805   77   \n",
       "475264               ENSG00000238260.4   AJI3        AJI  1.609438    5   \n",
       "550434               ENSG00000290922.2   HAC4        HAC  1.609438    5   \n",
       "513959               ENSG00000266970.4   LWK4        LWK  1.609438    5   \n",
       "508369               ENSG00000261390.9   CEU1        CEU  1.609438    5   \n",
       "...                                ...    ...        ...       ...  ...   \n",
       "602788  novelGene_ENSG00000309324.1_AS   PEL4        PEL  0.000000    1   \n",
       "602791  novelGene_ENSG00000309324.1_AS   YRI2        YRI  0.000000    1   \n",
       "602792  novelGene_ENSG00000309324.1_AS   YRI3        YRI  0.000000    1   \n",
       "602794  novelGene_ENSG00000309324.1_AS   YRI6        YRI  0.000000    1   \n",
       "602795  novelGene_ENSG00000309324.1_AS   YRI7        YRI  0.000000    1   \n",
       "\n",
       "        norm_entropy  \n",
       "554861           1.0  \n",
       "475264           1.0  \n",
       "550434           1.0  \n",
       "513959           1.0  \n",
       "508369           1.0  \n",
       "...              ...  \n",
       "602788           NaN  \n",
       "602791           NaN  \n",
       "602792           NaN  \n",
       "602794           NaN  \n",
       "602795           NaN  \n",
       "\n",
       "[602839 rows x 6 columns]"
      ]
     },
     "execution_count": 98,
     "metadata": {},
     "output_type": "execute_result"
    }
   ],
   "source": [
    "e_df.sort_values(by='norm_entropy', ascending=False)"
   ]
  },
  {
   "cell_type": "code",
   "execution_count": 99,
   "id": "4bd8210c-26a1-431c-b074-2d1df65c68d2",
   "metadata": {},
   "outputs": [
    {
     "data": {
      "text/html": [
       "<div>\n",
       "<style scoped>\n",
       "    .dataframe tbody tr th:only-of-type {\n",
       "        vertical-align: middle;\n",
       "    }\n",
       "\n",
       "    .dataframe tbody tr th {\n",
       "        vertical-align: top;\n",
       "    }\n",
       "\n",
       "    .dataframe thead th {\n",
       "        text-align: right;\n",
       "    }\n",
       "</style>\n",
       "<table border=\"1\" class=\"dataframe\">\n",
       "  <thead>\n",
       "    <tr style=\"text-align: right;\">\n",
       "      <th></th>\n",
       "      <th>tid</th>\n",
       "      <th>gid</th>\n",
       "      <th>sample</th>\n",
       "      <th>pi</th>\n",
       "      <th>tpm</th>\n",
       "      <th>population</th>\n",
       "    </tr>\n",
       "  </thead>\n",
       "  <tbody>\n",
       "    <tr>\n",
       "      <th>3388187</th>\n",
       "      <td>transcript_204923</td>\n",
       "      <td>ENSG00000238260.4</td>\n",
       "      <td>AJI3</td>\n",
       "      <td>0.2</td>\n",
       "      <td>0.030543</td>\n",
       "      <td>AJI</td>\n",
       "    </tr>\n",
       "    <tr>\n",
       "      <th>3388188</th>\n",
       "      <td>transcript_204924</td>\n",
       "      <td>ENSG00000238260.4</td>\n",
       "      <td>AJI3</td>\n",
       "      <td>0.2</td>\n",
       "      <td>0.030543</td>\n",
       "      <td>AJI</td>\n",
       "    </tr>\n",
       "    <tr>\n",
       "      <th>3388189</th>\n",
       "      <td>transcript_204925</td>\n",
       "      <td>ENSG00000238260.4</td>\n",
       "      <td>AJI3</td>\n",
       "      <td>0.2</td>\n",
       "      <td>0.030543</td>\n",
       "      <td>AJI</td>\n",
       "    </tr>\n",
       "    <tr>\n",
       "      <th>3388190</th>\n",
       "      <td>transcript_204926</td>\n",
       "      <td>ENSG00000238260.4</td>\n",
       "      <td>AJI3</td>\n",
       "      <td>0.2</td>\n",
       "      <td>0.030543</td>\n",
       "      <td>AJI</td>\n",
       "    </tr>\n",
       "    <tr>\n",
       "      <th>3388191</th>\n",
       "      <td>transcript_204927</td>\n",
       "      <td>ENSG00000238260.4</td>\n",
       "      <td>AJI3</td>\n",
       "      <td>0.2</td>\n",
       "      <td>0.030543</td>\n",
       "      <td>AJI</td>\n",
       "    </tr>\n",
       "  </tbody>\n",
       "</table>\n",
       "</div>"
      ],
      "text/plain": [
       "                       tid                gid sample   pi       tpm population\n",
       "3388187  transcript_204923  ENSG00000238260.4   AJI3  0.2  0.030543        AJI\n",
       "3388188  transcript_204924  ENSG00000238260.4   AJI3  0.2  0.030543        AJI\n",
       "3388189  transcript_204925  ENSG00000238260.4   AJI3  0.2  0.030543        AJI\n",
       "3388190  transcript_204926  ENSG00000238260.4   AJI3  0.2  0.030543        AJI\n",
       "3388191  transcript_204927  ENSG00000238260.4   AJI3  0.2  0.030543        AJI"
      ]
     },
     "execution_count": 99,
     "metadata": {},
     "output_type": "execute_result"
    }
   ],
   "source": [
    "df.loc[(df.gid=='ENSG00000238260.4')&(df['sample']=='AJI3')]"
   ]
  },
  {
   "cell_type": "code",
   "execution_count": null,
   "id": "cade95fe-f59f-4e88-8014-d8fe95a9e267",
   "metadata": {},
   "outputs": [],
   "source": []
  }
 ],
 "metadata": {
  "kernelspec": {
   "display_name": "Python 3",
   "language": "python",
   "name": "python3"
  },
  "language_info": {
   "codemirror_mode": {
    "name": "ipython",
    "version": 3
   },
   "file_extension": ".py",
   "mimetype": "text/x-python",
   "name": "python",
   "nbconvert_exporter": "python",
   "pygments_lexer": "ipython3",
   "version": "3.7.12"
  }
 },
 "nbformat": 4,
 "nbformat_minor": 5
}
