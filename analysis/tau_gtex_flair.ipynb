{
 "cells": [
  {
   "cell_type": "markdown",
   "id": "0e8ac075-8dcd-4ef2-83f7-09acf6731c7e",
   "metadata": {},
   "source": [
    "To me, what would have made sense would have been to requantify GTEx with PODER and then get a sense of how many of the newly discovered transcripts were tissue specific or found in only a few tissues. The statement we are after is that most of the ancestyr-specif transcripts discoverted are tissue-specif (or more tissue-specif than the annotated ones! and so, we anticipate that this bias extends to many more tissues and cell types and needs to be fixed. The other way to do this would be  to look at hte tissue specificity distribution of the annotated transcripts that have similar expression levels as the newly discovered ones, show that the majority are tissue specific (which they probably will be) and then state since they have similar expression levels, we anticipate that many more ancestry-specific transcripts will be discovered once we  sequence more cell types and tissues"
   ]
  },
  {
   "cell_type": "code",
   "execution_count": 31,
   "id": "ff28ba1b-caa8-4ea8-aefb-6ef07b36c547",
   "metadata": {},
   "outputs": [],
   "source": [
    "import pandas as pd\n",
    "import numpy as np\n",
    "import scipy.stats as st\n",
    "import seaborn as sns\n",
    "import sys\n",
    "import os\n",
    "import matplotlib.pyplot as plt\n",
    "import swan_vis as swan\n",
    "import yaml\n",
    "from snakemake.io import expand\n",
    "import cerberus\n",
    "import pyranges as pr\n",
    "import upsetplot\n",
    "\n",
    "p = os.path.dirname(os.getcwd())\n",
    "sys.path.append(p)\n",
    "\n",
    "from scripts.utils import *\n",
    "from scripts.vcf_utils import *\n",
    "from scripts.plotting import *"
   ]
  },
  {
   "cell_type": "code",
   "execution_count": 32,
   "id": "90d18b56-eb1f-4e28-9e23-fa1a314d319d",
   "metadata": {},
   "outputs": [],
   "source": [
    "config = load_config()\n",
    "od = '../'\n",
    "\n",
    "def proc_cfg(entry, od):\n",
    "    entry = entry.replace('../../', '')\n",
    "    entry = od+entry\n",
    "    return entry"
   ]
  },
  {
   "cell_type": "code",
   "execution_count": 33,
   "id": "650a6afb-0a4e-46d8-87dc-68b6dec83d81",
   "metadata": {},
   "outputs": [],
   "source": [
    "def compute_tau(df):\n",
    "    \"\"\"\n",
    "    Compute tissue-specificity index for an abundance matrix output\n",
    "    from `get_tpm_table`.\n",
    "    \"\"\"\n",
    "    # number of samples \n",
    "    n = len(df.columns)\n",
    "    print(f'Found {n} samples')\n",
    "    \n",
    "    # df.replace([np.inf, -np.inf], np.nan, inplace=True)\n",
    "    \n",
    "    # get max of TPM for transcript across samples\n",
    "    temp = df.max(axis=1)\n",
    "    temp_ind = temp.index.tolist()\n",
    "\n",
    "    df = df.transpose()\n",
    "    df_ind = df.columns.tolist()\n",
    "    assert df_ind==temp_ind\n",
    "\n",
    "    # compute x-hat (TPM / max TPM across tissues)\n",
    "    x_hat = df/temp\n",
    "    \n",
    "    # compute (1-x-hat) \n",
    "    x_hat = 1-x_hat\n",
    "\n",
    "    # compute sum across tissues\n",
    "    x_hat = x_hat.transpose()\n",
    "    x_hat['sum'] = x_hat.sum(axis=1)\n",
    "    \n",
    "    # compute tau for each transcript\n",
    "    x_hat['tau'] = x_hat['sum']/n\n",
    "    tau_df = x_hat[['tau']]\n",
    "    \n",
    "    return tau_df"
   ]
  },
  {
   "cell_type": "code",
   "execution_count": 34,
   "id": "15d2ff9c-e5e4-4d58-8581-1fda7f029404",
   "metadata": {},
   "outputs": [],
   "source": [
    "\n",
    "\n",
    "f = '/Users/fairliereese/Documents/programming/mele_lab/projects/240903_pt/data/gtex/quantification_gencode.tpm.txt'\n",
    "# f = expand(proc_cfg(config['gtex']['kallisto']['quant']['merge_matrix_tpm_tsv'],od))[0]\n",
    "\n",
    "df = pd.read_csv(f, sep='\\t')\n",
    "df.head()\n",
    "# df.columns = [d if d == 'transcript' else d.split('GTEx_v9_ONT_data_sequence_data_')[1].split('.')[0] for d in df.columns]\n",
    "df.rename({'transcript':'tid'}, axis=1, inplace=True)\n",
    "# # df.rename(sample_d, axis=1, inplace=True)\n",
    "df.set_index('tid', inplace=True)"
   ]
  },
  {
   "cell_type": "code",
   "execution_count": 35,
   "id": "3f633c89-544f-4b83-ad26-66e6c51f5cd1",
   "metadata": {},
   "outputs": [
    {
     "name": "stdout",
     "output_type": "stream",
     "text": [
      "149837\n",
      "149711\n"
     ]
    }
   ],
   "source": [
    "# https://academic.oup.com/bib/article/18/2/205/2562739\n",
    "min_cpm = 0.1\n",
    "min_samples = 1\n",
    "\n",
    "# set all genes w/ expression <1 CPM --> 0\n",
    "df[df < min_cpm] = 0\n",
    "\n",
    "# remove all genes that are not expressed in at least one tissue\n",
    "# the text must be wrong here because how can we filter \n",
    "# after log normalization for CPM >=1?\n",
    "print(len(df.index))\n",
    "df = df.loc[(df>=min_cpm).sum(axis=1)>=min_samples]\n",
    "print(len(df.index))\n",
    "\n",
    "# log-transform data and add 1 pseudocount\n",
    "df = np.log2(df+1)"
   ]
  },
  {
   "cell_type": "code",
   "execution_count": 36,
   "id": "3fd215f5-3a56-424e-80d4-ba813e2b5cc8",
   "metadata": {},
   "outputs": [],
   "source": [
    "# add sample information so I can groupby different tissues\n",
    "df = df.transpose()\n",
    "meta_file = '/Users/fairliereese/Documents/programming/mele_lab/projects/240903_pt/snakemake/gtex_lr-kallisto/GTEx_v9_metadata_with_ancestry.txt'\n",
    "meta = pd.read_csv(meta_file, sep='\\t')\n",
    "df = df.merge(meta[['sample_id', 'tissue']], how='left',\n",
    "                  left_index=True, \n",
    "                  right_on='sample_id')\n",
    "\n",
    "tissue_map = {'Brain - Frontal Cortex (BA9)': 'Brain',\n",
    "              'Brain - Cerebellar Hemisphere': 'Brain',\n",
    "              'Brain - Putamen (basal ganglia)': 'Brain',\n",
    "              'Lung': 'Lung',\n",
    "              'Heart - Left Ventricle': 'Heart',\n",
    "              'Muscle - Skeletal': 'Muscle',\n",
    "              'Brain - Anterior cingulate cortex (BA24)': 'Brain',\n",
    "              'Heart - Atrial Appendage': 'Heart',\n",
    "              'Brain - Caudate (basal ganglia)': 'Brain',\n",
    "              'Adipose - Subcutaneous': 'Adipose', \n",
    "              'Cells - Cultured fibroblasts': 'Fibroblasts', \n",
    "              'Liver': 'Liver',\n",
    "              'Breast - Mammary Tissue': 'Breast', \n",
    "              'Pancreas': 'Pancrease', \n",
    "              'K562': 'Lymphblasts'}\n",
    "df['sample'] = df.tissue.map(tissue_map)\n",
    "\n",
    "df.drop(['sample_id', 'tissue'], axis=1, inplace=True)"
   ]
  },
  {
   "cell_type": "code",
   "execution_count": 37,
   "id": "9dfaddcd-6ae5-4488-a780-8ace292ff404",
   "metadata": {},
   "outputs": [],
   "source": [
    "# compute the mean value per tissue\n",
    "df = df.groupby('sample').mean()\n",
    "df = df.transpose()"
   ]
  },
  {
   "cell_type": "code",
   "execution_count": 38,
   "id": "1fb824c4-b5bb-4b11-97d6-3ca098b71df6",
   "metadata": {},
   "outputs": [
    {
     "name": "stdout",
     "output_type": "stream",
     "text": [
      "Found 10 samples\n"
     ]
    }
   ],
   "source": [
    "tau_df = compute_tau(df)"
   ]
  },
  {
   "cell_type": "code",
   "execution_count": 39,
   "id": "df51068b-5beb-494e-af45-0b080bef40e8",
   "metadata": {},
   "outputs": [],
   "source": [
    "tau_df.index.name = 'tid'"
   ]
  },
  {
   "cell_type": "code",
   "execution_count": 40,
   "id": "97269c65-1045-4b1f-9ef3-c59f410522a5",
   "metadata": {},
   "outputs": [],
   "source": [
    "tau_df.to_csv(f'241108_gtex_flair_mean_{min_cpm}_tau.tsv', sep='\\t')"
   ]
  },
  {
   "cell_type": "code",
   "execution_count": 41,
   "id": "d819459c-0e07-4274-a796-6e5917e09d4a",
   "metadata": {},
   "outputs": [
    {
     "data": {
      "text/plain": [
       "<seaborn.axisgrid.FacetGrid at 0x7fa2f25139d0>"
      ]
     },
     "execution_count": 41,
     "metadata": {},
     "output_type": "execute_result"
    },
    {
     "data": {
      "image/png": "[encoded data removed]",
      "text/plain": [
       "<Figure size 360x360 with 1 Axes>"
      ]
     },
     "metadata": {
      "needs_background": "light"
     },
     "output_type": "display_data"
    }
   ],
   "source": [
    "init_plot_settings(aspect='square')\n",
    "sns.displot(tau_df, x='tau', kind='hist')"
   ]
  },
  {
   "cell_type": "code",
   "execution_count": 42,
   "id": "e9081587-43c2-443d-9faf-5024cb626f8a",
   "metadata": {},
   "outputs": [
    {
     "data": {
      "text/plain": [
       "<seaborn.axisgrid.FacetGrid at 0x7fa2f1105790>"
      ]
     },
     "execution_count": 42,
     "metadata": {},
     "output_type": "execute_result"
    },
    {
     "data": {
      "image/png": "[encoded data removed]",
      "text/plain": [
       "<Figure size 360x360 with 1 Axes>"
      ]
     },
     "metadata": {
      "needs_background": "light"
     },
     "output_type": "display_data"
    }
   ],
   "source": [
    "init_plot_settings(aspect='square')\n",
    "sns.displot(tau_df, x='tau', kind='kde')"
   ]
  },
  {
   "cell_type": "code",
   "execution_count": 43,
   "id": "c9265384-4f4b-4742-a74e-667587532d8a",
   "metadata": {},
   "outputs": [
    {
     "data": {
      "text/html": [
       "<div>\n",
       "<style scoped>\n",
       "    .dataframe tbody tr th:only-of-type {\n",
       "        vertical-align: middle;\n",
       "    }\n",
       "\n",
       "    .dataframe tbody tr th {\n",
       "        vertical-align: top;\n",
       "    }\n",
       "\n",
       "    .dataframe thead th {\n",
       "        text-align: right;\n",
       "    }\n",
       "</style>\n",
       "<table border=\"1\" class=\"dataframe\">\n",
       "  <thead>\n",
       "    <tr style=\"text-align: right;\">\n",
       "      <th>sample</th>\n",
       "      <th>tid</th>\n",
       "      <th>tau</th>\n",
       "    </tr>\n",
       "    <tr>\n",
       "      <th>high_tau</th>\n",
       "      <th></th>\n",
       "      <th></th>\n",
       "    </tr>\n",
       "  </thead>\n",
       "  <tbody>\n",
       "    <tr>\n",
       "      <th>False</th>\n",
       "      <td>70441</td>\n",
       "      <td>70441</td>\n",
       "    </tr>\n",
       "    <tr>\n",
       "      <th>True</th>\n",
       "      <td>79270</td>\n",
       "      <td>79270</td>\n",
       "    </tr>\n",
       "  </tbody>\n",
       "</table>\n",
       "</div>"
      ],
      "text/plain": [
       "sample      tid    tau\n",
       "high_tau              \n",
       "False     70441  70441\n",
       "True      79270  79270"
      ]
     },
     "execution_count": 43,
     "metadata": {},
     "output_type": "execute_result"
    }
   ],
   "source": [
    "tau_df['high_tau'] = tau_df.tau>=.8\n",
    "tau_df.reset_index().groupby('high_tau').count()"
   ]
  },
  {
   "cell_type": "code",
   "execution_count": null,
   "id": "83f69234-17dc-4f1f-97c6-27a57d59c941",
   "metadata": {},
   "outputs": [],
   "source": []
  },
  {
   "cell_type": "code",
   "execution_count": null,
   "id": "cdd83bab-9678-4e7a-8924-32699696331c",
   "metadata": {},
   "outputs": [],
   "source": []
  },
  {
   "cell_type": "code",
   "execution_count": null,
   "id": "5af88ecb-10ce-442c-84cd-626c50407425",
   "metadata": {},
   "outputs": [],
   "source": []
  }
 ],
 "metadata": {
  "kernelspec": {
   "display_name": "Python 3",
   "language": "python",
   "name": "python3"
  },
  "language_info": {
   "codemirror_mode": {
    "name": "ipython",
    "version": 3
   },
   "file_extension": ".py",
   "mimetype": "text/x-python",
   "name": "python",
   "nbconvert_exporter": "python",
   "pygments_lexer": "ipython3",
   "version": "3.7.12"
  }
 },
 "nbformat": 4,
 "nbformat_minor": 5
}
