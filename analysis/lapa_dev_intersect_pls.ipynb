{
 "cells": [
  {
   "cell_type": "markdown",
   "id": "609c7e3e-f379-4614-9758-5615299fa712",
   "metadata": {},
   "source": [
    "## Goal: intersect PLSs w/ TSSs called by LAPA for each sample"
   ]
  },
  {
   "cell_type": "code",
   "execution_count": 97,
   "id": "fa65c092-3fd4-46ce-b27a-6f68f34ae007",
   "metadata": {},
   "outputs": [],
   "source": [
    "import pandas as pd\n",
    "import numpy as np\n",
    "import scipy.stats as st\n",
    "import seaborn as sns\n",
    "import sys\n",
    "import os\n",
    "import matplotlib.pyplot as plt\n",
    "import swan_vis as swan\n",
    "import yaml\n",
    "from snakemake.io import expand\n",
    "import cerberus\n",
    "import pyranges as pr\n",
    "import upsetplot\n",
    "\n",
    "p = os.path.dirname(os.getcwd())\n",
    "sys.path.append(p)\n",
    "\n",
    "from scripts.utils import *\n",
    "from scripts.vcf_utils import *\n",
    "from scripts.plotting import *"
   ]
  },
  {
   "cell_type": "code",
   "execution_count": 98,
   "id": "8244056b-f73c-41d0-aaa2-c8914abf5d34",
   "metadata": {},
   "outputs": [],
   "source": [
    "config = load_config()\n",
    "od = '../'\n",
    "\n",
    "def proc_cfg(entry, od):\n",
    "    entry = entry.replace('../../', '')\n",
    "    entry = od+entry\n",
    "    return entry"
   ]
  },
  {
   "cell_type": "code",
   "execution_count": 151,
   "id": "2a170efa-d09d-46ee-bbbc-03aa68b29c03",
   "metadata": {},
   "outputs": [],
   "source": [
    "df = load_meta()\n",
    "df = df.loc[~df['sample'].str.contains('_')]\n",
    "df['lab_sample'] = df['lab_number_sample'].astype(str)+'_'+\\\n",
    "                      df['lab_sampleid'].astype(str)+'_'+\\\n",
    "                      df['cell_line_id'].astype(str)\n",
    "df = df.loc[df.mixed_samples==False]\n",
    "df = df[['cell_line_id', 'sample', 'hapmap_DNA_ID', 'lab_sample']].drop_duplicates()"
   ]
  },
  {
   "cell_type": "code",
   "execution_count": 152,
   "id": "0a5b760e-5c2f-4e4b-bf90-32716b0af709",
   "metadata": {},
   "outputs": [],
   "source": [
    "pls_file = proc_cfg(config['ref']['ccre']['pls_bed'], od)\n",
    "pls = pr.read_bed(pls_file)"
   ]
  },
  {
   "cell_type": "code",
   "execution_count": 153,
   "id": "b2b971a0-d929-47ce-8009-309983ca5af5",
   "metadata": {},
   "outputs": [],
   "source": [
    "bed_files = expand(proc_cfg(config['lr']['lapa']['sample_tss'], od),\n",
    "                   sample=df['sample'].tolist())"
   ]
  },
  {
   "cell_type": "code",
   "execution_count": 154,
   "id": "65a8cf8d-d5ab-45b1-b0bc-c1c00d824c0a",
   "metadata": {},
   "outputs": [],
   "source": [
    "f = bed_files[0]\n",
    "f = '../data/lapa/sample/LWK1.bed'\n",
    "tss = pr.read_bed(f)\n",
    "\n",
    "tss = tss.df\n",
    "tss.rename({'ItemRGB': 'tpm'}, axis=1, inplace=True)\n",
    "tss['rid'] = tss['Chromosome'].astype(str)+'_'+\\\n",
    "             tss['Start'].astype(str)+'_'+\\\n",
    "             tss['Strand'].astype(str)+'_'+\\\n",
    "             tss['End'].astype(str)\n",
    "tss = tss[['Chromosome', 'Start', 'End', 'Strand', 'tpm', 'rid']]\n",
    "tss = tss.drop_duplicates()\n",
    "l1 = len(tss.index)"
   ]
  },
  {
   "cell_type": "code",
   "execution_count": 155,
   "id": "8aa1c09a-8d7f-4232-bac2-367e71012c22",
   "metadata": {},
   "outputs": [
    {
     "data": {
      "text/html": [
       "<div>\n",
       "<style scoped>\n",
       "    .dataframe tbody tr th:only-of-type {\n",
       "        vertical-align: middle;\n",
       "    }\n",
       "\n",
       "    .dataframe tbody tr th {\n",
       "        vertical-align: top;\n",
       "    }\n",
       "\n",
       "    .dataframe thead th {\n",
       "        text-align: right;\n",
       "    }\n",
       "</style>\n",
       "<table border=\"1\" class=\"dataframe\">\n",
       "  <thead>\n",
       "    <tr style=\"text-align: right;\">\n",
       "      <th></th>\n",
       "      <th>Chromosome</th>\n",
       "      <th>Start</th>\n",
       "      <th>End</th>\n",
       "      <th>Strand</th>\n",
       "      <th>tpm</th>\n",
       "      <th>rid</th>\n",
       "    </tr>\n",
       "  </thead>\n",
       "  <tbody>\n",
       "  </tbody>\n",
       "</table>\n",
       "</div>"
      ],
      "text/plain": [
       "Empty DataFrame\n",
       "Columns: [Chromosome, Start, End, Strand, tpm, rid]\n",
       "Index: []"
      ]
     },
     "execution_count": 155,
     "metadata": {},
     "output_type": "execute_result"
    }
   ],
   "source": [
    "# assert len(tss) == len(tss.rid.unique())\n",
    "tss.loc[tss.rid.duplicated(keep=False)].sort_values(by='rid').head()"
   ]
  },
  {
   "cell_type": "code",
   "execution_count": 156,
   "id": "8289620d-792e-4c02-a7e1-6078da6a9c08",
   "metadata": {},
   "outputs": [],
   "source": [
    "tss = pr.PyRanges(tss)\n",
    "tss = tss.join(pls,\n",
    "               strandedness=None,\n",
    "               how='left')"
   ]
  },
  {
   "cell_type": "code",
   "execution_count": 157,
   "id": "2c6a2998-85dc-46c5-bd3a-055306d61a3c",
   "metadata": {},
   "outputs": [],
   "source": [
    "# deduplicate entries from original TSSs by whether the intersect\n",
    "# at least one ccre \n",
    "tss = tss.df\n",
    "tss['int_pls'] = False\n",
    "tss.loc[tss.Start_b != -1, 'int_pls'] = True\n",
    "gb_cols = ['Chromosome', 'Start', 'End', 'Strand', 'tpm', 'rid']\n",
    "keep_cols = gb_cols+['int_pls']\n",
    "tss = tss[keep_cols].groupby(gb_cols, observed=True).max().reset_index()"
   ]
  },
  {
   "cell_type": "code",
   "execution_count": 158,
   "id": "34c40421-748d-40b8-919b-26090dc80466",
   "metadata": {},
   "outputs": [
    {
     "data": {
      "text/html": [
       "<div>\n",
       "<style scoped>\n",
       "    .dataframe tbody tr th:only-of-type {\n",
       "        vertical-align: middle;\n",
       "    }\n",
       "\n",
       "    .dataframe tbody tr th {\n",
       "        vertical-align: top;\n",
       "    }\n",
       "\n",
       "    .dataframe thead th {\n",
       "        text-align: right;\n",
       "    }\n",
       "</style>\n",
       "<table border=\"1\" class=\"dataframe\">\n",
       "  <thead>\n",
       "    <tr style=\"text-align: right;\">\n",
       "      <th></th>\n",
       "      <th>Chromosome</th>\n",
       "      <th>Start</th>\n",
       "      <th>End</th>\n",
       "      <th>tpm</th>\n",
       "      <th>rid</th>\n",
       "      <th>int_pls</th>\n",
       "    </tr>\n",
       "  </thead>\n",
       "  <tbody>\n",
       "    <tr>\n",
       "      <th>0</th>\n",
       "      <td>GL000194.1</td>\n",
       "      <td>115043</td>\n",
       "      <td>115086</td>\n",
       "      <td>12.18</td>\n",
       "      <td>GL000194.1_115043_-_115086</td>\n",
       "      <td>False</td>\n",
       "    </tr>\n",
       "    <tr>\n",
       "      <th>1</th>\n",
       "      <td>GL000195.1</td>\n",
       "      <td>86661</td>\n",
       "      <td>86727</td>\n",
       "      <td>8.62</td>\n",
       "      <td>GL000195.1_86661_-_86727</td>\n",
       "      <td>False</td>\n",
       "    </tr>\n",
       "    <tr>\n",
       "      <th>2</th>\n",
       "      <td>GL000195.1</td>\n",
       "      <td>137913</td>\n",
       "      <td>138001</td>\n",
       "      <td>31.40</td>\n",
       "      <td>GL000195.1_137913_+_138001</td>\n",
       "      <td>False</td>\n",
       "    </tr>\n",
       "    <tr>\n",
       "      <th>3</th>\n",
       "      <td>GL000205.2</td>\n",
       "      <td>63600</td>\n",
       "      <td>63601</td>\n",
       "      <td>14.06</td>\n",
       "      <td>GL000205.2_63600_-_63601</td>\n",
       "      <td>False</td>\n",
       "    </tr>\n",
       "    <tr>\n",
       "      <th>4</th>\n",
       "      <td>GL000205.2</td>\n",
       "      <td>63674</td>\n",
       "      <td>63679</td>\n",
       "      <td>7.53</td>\n",
       "      <td>GL000205.2_63674_-_63679</td>\n",
       "      <td>False</td>\n",
       "    </tr>\n",
       "    <tr>\n",
       "      <th>...</th>\n",
       "      <td>...</td>\n",
       "      <td>...</td>\n",
       "      <td>...</td>\n",
       "      <td>...</td>\n",
       "      <td>...</td>\n",
       "      <td>...</td>\n",
       "    </tr>\n",
       "    <tr>\n",
       "      <th>8217</th>\n",
       "      <td>chrY</td>\n",
       "      <td>19567005</td>\n",
       "      <td>19567091</td>\n",
       "      <td>3.66</td>\n",
       "      <td>chrY_19567005_-_19567091</td>\n",
       "      <td>True</td>\n",
       "    </tr>\n",
       "    <tr>\n",
       "      <th>8218</th>\n",
       "      <td>chrY</td>\n",
       "      <td>19567311</td>\n",
       "      <td>19567380</td>\n",
       "      <td>12.78</td>\n",
       "      <td>chrY_19567311_+_19567380</td>\n",
       "      <td>True</td>\n",
       "    </tr>\n",
       "    <tr>\n",
       "      <th>8219</th>\n",
       "      <td>chrY</td>\n",
       "      <td>19567903</td>\n",
       "      <td>19567904</td>\n",
       "      <td>1.68</td>\n",
       "      <td>chrY_19567903_+_19567904</td>\n",
       "      <td>False</td>\n",
       "    </tr>\n",
       "    <tr>\n",
       "      <th>8220</th>\n",
       "      <td>chrY</td>\n",
       "      <td>20575690</td>\n",
       "      <td>20575798</td>\n",
       "      <td>277.72</td>\n",
       "      <td>chrY_20575690_+_20575798</td>\n",
       "      <td>True</td>\n",
       "    </tr>\n",
       "    <tr>\n",
       "      <th>8221</th>\n",
       "      <td>chrY</td>\n",
       "      <td>21228130</td>\n",
       "      <td>21228142</td>\n",
       "      <td>0.99</td>\n",
       "      <td>chrY_21228130_+_21228142</td>\n",
       "      <td>False</td>\n",
       "    </tr>\n",
       "  </tbody>\n",
       "</table>\n",
       "<p>8222 rows × 6 columns</p>\n",
       "</div>"
      ],
      "text/plain": [
       "      Chromosome     Start       End     tpm                         rid  \\\n",
       "0     GL000194.1    115043    115086   12.18  GL000194.1_115043_-_115086   \n",
       "1     GL000195.1     86661     86727    8.62    GL000195.1_86661_-_86727   \n",
       "2     GL000195.1    137913    138001   31.40  GL000195.1_137913_+_138001   \n",
       "3     GL000205.2     63600     63601   14.06    GL000205.2_63600_-_63601   \n",
       "4     GL000205.2     63674     63679    7.53    GL000205.2_63674_-_63679   \n",
       "...          ...       ...       ...     ...                         ...   \n",
       "8217        chrY  19567005  19567091    3.66    chrY_19567005_-_19567091   \n",
       "8218        chrY  19567311  19567380   12.78    chrY_19567311_+_19567380   \n",
       "8219        chrY  19567903  19567904    1.68    chrY_19567903_+_19567904   \n",
       "8220        chrY  20575690  20575798  277.72    chrY_20575690_+_20575798   \n",
       "8221        chrY  21228130  21228142    0.99    chrY_21228130_+_21228142   \n",
       "\n",
       "      int_pls  \n",
       "0       False  \n",
       "1       False  \n",
       "2       False  \n",
       "3       False  \n",
       "4       False  \n",
       "...       ...  \n",
       "8217     True  \n",
       "8218     True  \n",
       "8219    False  \n",
       "8220     True  \n",
       "8221    False  \n",
       "\n",
       "[8222 rows x 6 columns]"
      ]
     },
     "execution_count": 158,
     "metadata": {},
     "output_type": "execute_result"
    }
   ],
   "source": [
    "tss"
   ]
  },
  {
   "cell_type": "code",
   "execution_count": 92,
   "id": "c967821f-52f4-4b86-a4bd-8fbee13d65e7",
   "metadata": {},
   "outputs": [
    {
     "ename": "AssertionError",
     "evalue": "",
     "output_type": "error",
     "traceback": [
      "\u001b[0;31m---------------------------------------------------------------------------\u001b[0m",
      "\u001b[0;31mAssertionError\u001b[0m                            Traceback (most recent call last)",
      "\u001b[0;32m<ipython-input-92-97d36bb3b93a>\u001b[0m in \u001b[0;36m<module>\u001b[0;34m\u001b[0m\n\u001b[1;32m      2\u001b[0m \u001b[0;32massert\u001b[0m \u001b[0mlen\u001b[0m\u001b[0;34m(\u001b[0m\u001b[0mtss\u001b[0m\u001b[0;34m)\u001b[0m \u001b[0;34m==\u001b[0m \u001b[0mlen\u001b[0m\u001b[0;34m(\u001b[0m\u001b[0mtss\u001b[0m\u001b[0;34m.\u001b[0m\u001b[0mrid\u001b[0m\u001b[0;34m.\u001b[0m\u001b[0munique\u001b[0m\u001b[0;34m(\u001b[0m\u001b[0;34m)\u001b[0m\u001b[0;34m)\u001b[0m\u001b[0;34m\u001b[0m\u001b[0;34m\u001b[0m\u001b[0m\n\u001b[1;32m      3\u001b[0m \u001b[0ml2\u001b[0m \u001b[0;34m=\u001b[0m \u001b[0mlen\u001b[0m\u001b[0;34m(\u001b[0m\u001b[0mtss\u001b[0m\u001b[0;34m.\u001b[0m\u001b[0mindex\u001b[0m\u001b[0;34m)\u001b[0m\u001b[0;34m\u001b[0m\u001b[0;34m\u001b[0m\u001b[0m\n\u001b[0;32m----> 4\u001b[0;31m \u001b[0;32massert\u001b[0m \u001b[0ml1\u001b[0m \u001b[0;34m==\u001b[0m \u001b[0ml2\u001b[0m\u001b[0;34m\u001b[0m\u001b[0;34m\u001b[0m\u001b[0m\n\u001b[0m",
      "\u001b[0;31mAssertionError\u001b[0m: "
     ]
    }
   ],
   "source": [
    "# make sure there are no dupes\n",
    "assert len(tss) == len(tss.rid.unique())\n",
    "l2 = len(tss.index)\n",
    "assert l1 == l2"
   ]
  },
  {
   "cell_type": "code",
   "execution_count": 93,
   "id": "0c5d9933-db0c-4e72-9a5d-703f4cc94c3e",
   "metadata": {},
   "outputs": [
    {
     "data": {
      "text/plain": [
       "8222"
      ]
     },
     "execution_count": 93,
     "metadata": {},
     "output_type": "execute_result"
    }
   ],
   "source": [
    "l1"
   ]
  },
  {
   "cell_type": "code",
   "execution_count": 94,
   "id": "52908ac1-e9f1-48ef-afb7-a9229cf03f6f",
   "metadata": {},
   "outputs": [
    {
     "data": {
      "text/plain": [
       "0"
      ]
     },
     "execution_count": 94,
     "metadata": {},
     "output_type": "execute_result"
    }
   ],
   "source": [
    "l2"
   ]
  },
  {
   "cell_type": "code",
   "execution_count": null,
   "id": "7a046b38-8b71-4881-aba3-4140ce4d3212",
   "metadata": {},
   "outputs": [],
   "source": []
  }
 ],
 "metadata": {
  "kernelspec": {
   "display_name": "Python 3",
   "language": "python",
   "name": "python3"
  },
  "language_info": {
   "codemirror_mode": {
    "name": "ipython",
    "version": 3
   },
   "file_extension": ".py",
   "mimetype": "text/x-python",
   "name": "python",
   "nbconvert_exporter": "python",
   "pygments_lexer": "ipython3",
   "version": "3.7.12"
  }
 },
 "nbformat": 4,
 "nbformat_minor": 5
}
