{
 "cells": [
  {
   "cell_type": "markdown",
   "id": "609c7e3e-f379-4614-9758-5615299fa712",
   "metadata": {},
   "source": [
    "## Goal: intersect PLSs w/ TSSs called by LAPA for each sample"
   ]
  },
  {
   "cell_type": "code",
   "execution_count": 2,
   "id": "fa65c092-3fd4-46ce-b27a-6f68f34ae007",
   "metadata": {},
   "outputs": [],
   "source": [
    "import pandas as pd\n",
    "import numpy as np\n",
    "import scipy.stats as st\n",
    "import seaborn as sns\n",
    "import sys\n",
    "import os\n",
    "import matplotlib.pyplot as plt\n",
    "import swan_vis as swan\n",
    "import yaml\n",
    "from snakemake.io import expand\n",
    "import cerberus\n",
    "import pyranges as pr\n",
    "import upsetplot\n",
    "\n",
    "p = os.path.dirname(os.getcwd())\n",
    "sys.path.append(p)\n",
    "\n",
    "from scripts.utils import *\n",
    "from scripts.vcf_utils import *\n",
    "from scripts.plotting import *"
   ]
  },
  {
   "cell_type": "code",
   "execution_count": 61,
   "id": "8244056b-f73c-41d0-aaa2-c8914abf5d34",
   "metadata": {},
   "outputs": [],
   "source": [
    "config = load_config()\n",
    "od = '../'\n",
    "\n",
    "def proc_cfg(entry, od):\n",
    "    entry = entry.replace('../../', '')\n",
    "    entry = od+entry\n",
    "    return entry"
   ]
  },
  {
   "cell_type": "code",
   "execution_count": 74,
   "id": "2a170efa-d09d-46ee-bbbc-03aa68b29c03",
   "metadata": {},
   "outputs": [],
   "source": [
    "df = load_meta()\n",
    "df = df.loc[~df['sample'].str.contains('_')]\n",
    "df['lab_sample'] = df['lab_number_sample'].astype(str)+'_'+\\\n",
    "                      df['lab_sampleid'].astype(str)+'_'+\\\n",
    "                      df['cell_line_id'].astype(str)\n",
    "df = df.loc[df.mixed_samples==False]\n",
    "df = df[['cell_line_id', 'sample', 'hapmap_DNA_ID', 'lab_sample']].drop_duplicates()"
   ]
  },
  {
   "cell_type": "code",
   "execution_count": 75,
   "id": "0a5b760e-5c2f-4e4b-bf90-32716b0af709",
   "metadata": {},
   "outputs": [],
   "source": [
    "pls_file = proc_cfg(config['ref']['ccre']['pls_bed'], od)\n",
    "pls = pr.read_bed(pls_file)"
   ]
  },
  {
   "cell_type": "code",
   "execution_count": 76,
   "id": "b2b971a0-d929-47ce-8009-309983ca5af5",
   "metadata": {},
   "outputs": [],
   "source": [
    "bed_files = expand(proc_cfg(config['lr']['lapa']['sample_tss'], od),\n",
    "                   sample=df['sample'].tolist())"
   ]
  },
  {
   "cell_type": "code",
   "execution_count": 77,
   "id": "65a8cf8d-d5ab-45b1-b0bc-c1c00d824c0a",
   "metadata": {},
   "outputs": [],
   "source": [
    "f = bed_files[0]\n",
    "f = '../data/lapa/sample/YRI7.bed'\n",
    "tss = pr.read_bed(f)\n",
    "\n",
    "tss = tss.df\n",
    "tss.rename({'ItemRGB': 'tpm'}, axis=1, inplace=True)\n",
    "tss['rid'] = tss['Chromosome'].astype(str)+'_'+\\\n",
    "             tss['Start'].astype(str)+'_'+\\\n",
    "             tss['End'].astype(str)\n",
    "tss = tss[['Chromosome', 'Start', 'End', 'tpm', 'rid']]\n",
    "tss = tss.drop_duplicates()\n",
    "l1 = len(tss.index)"
   ]
  },
  {
   "cell_type": "code",
   "execution_count": 79,
   "id": "8aa1c09a-8d7f-4232-bac2-367e71012c22",
   "metadata": {},
   "outputs": [
    {
     "data": {
      "text/html": [
       "<div>\n",
       "<style scoped>\n",
       "    .dataframe tbody tr th:only-of-type {\n",
       "        vertical-align: middle;\n",
       "    }\n",
       "\n",
       "    .dataframe tbody tr th {\n",
       "        vertical-align: top;\n",
       "    }\n",
       "\n",
       "    .dataframe thead th {\n",
       "        text-align: right;\n",
       "    }\n",
       "</style>\n",
       "<table border=\"1\" class=\"dataframe\">\n",
       "  <thead>\n",
       "    <tr style=\"text-align: right;\">\n",
       "      <th></th>\n",
       "      <th>Chromosome</th>\n",
       "      <th>Start</th>\n",
       "      <th>End</th>\n",
       "      <th>Strand</th>\n",
       "      <th>tpm</th>\n",
       "      <th>rid</th>\n",
       "    </tr>\n",
       "  </thead>\n",
       "  <tbody>\n",
       "    <tr>\n",
       "      <th>26148</th>\n",
       "      <td>chrM</td>\n",
       "      <td>14490</td>\n",
       "      <td>14491</td>\n",
       "      <td>+</td>\n",
       "      <td>4.03</td>\n",
       "      <td>chrM_14490_14491</td>\n",
       "    </tr>\n",
       "    <tr>\n",
       "      <th>26151</th>\n",
       "      <td>chrM</td>\n",
       "      <td>14490</td>\n",
       "      <td>14491</td>\n",
       "      <td>-</td>\n",
       "      <td>4.03</td>\n",
       "      <td>chrM_14490_14491</td>\n",
       "    </tr>\n",
       "  </tbody>\n",
       "</table>\n",
       "</div>"
      ],
      "text/plain": [
       "      Chromosome  Start    End Strand   tpm               rid\n",
       "26148       chrM  14490  14491      +  4.03  chrM_14490_14491\n",
       "26151       chrM  14490  14491      -  4.03  chrM_14490_14491"
      ]
     },
     "execution_count": 79,
     "metadata": {},
     "output_type": "execute_result"
    }
   ],
   "source": [
    "# assert len(tss) == len(tss.rid.unique())\n",
    "tss.loc[tss.rid.duplicated(keep=False)].sort_values(by='rid').head()\n"
   ]
  },
  {
   "cell_type": "code",
   "execution_count": 67,
   "id": "8289620d-792e-4c02-a7e1-6078da6a9c08",
   "metadata": {},
   "outputs": [],
   "source": [
    "tss = pr.PyRanges(tss)\n",
    "tss = tss.join(pls,\n",
    "               strandedness=None,\n",
    "               how='left')"
   ]
  },
  {
   "cell_type": "code",
   "execution_count": 68,
   "id": "2be44cb9-092b-4f3b-ac70-c55d119ea7a2",
   "metadata": {},
   "outputs": [],
   "source": [
    "# tss.loc[tss.Start_b != -1]"
   ]
  },
  {
   "cell_type": "code",
   "execution_count": 69,
   "id": "2c6a2998-85dc-46c5-bd3a-055306d61a3c",
   "metadata": {},
   "outputs": [],
   "source": [
    "# deduplicate entries from original TSSs by whether the intersect\n",
    "# at least one ccre \n",
    "tss = tss.df\n",
    "tss['int_pls'] = False\n",
    "tss.loc[tss.Start_b != -1, 'int_pls'] = True\n",
    "gb_cols = ['Chromosome', 'Start', 'End', 'Strand', 'tpm', 'rid']\n",
    "keep_cols = gb_cols+['int_pls']\n",
    "tss = tss[keep_cols].groupby(gb_cols, observed=True).max().reset_index()"
   ]
  },
  {
   "cell_type": "code",
   "execution_count": 70,
   "id": "c967821f-52f4-4b86-a4bd-8fbee13d65e7",
   "metadata": {},
   "outputs": [],
   "source": [
    "# make sure there are no dupes\n",
    "assert len(tss) == len(tss.rid.unique())\n",
    "l2 = len(tss.index)\n",
    "assert l1 == l2"
   ]
  },
  {
   "cell_type": "code",
   "execution_count": 71,
   "id": "0c5d9933-db0c-4e72-9a5d-703f4cc94c3e",
   "metadata": {},
   "outputs": [
    {
     "data": {
      "text/html": [
       "<div>\n",
       "<style scoped>\n",
       "    .dataframe tbody tr th:only-of-type {\n",
       "        vertical-align: middle;\n",
       "    }\n",
       "\n",
       "    .dataframe tbody tr th {\n",
       "        vertical-align: top;\n",
       "    }\n",
       "\n",
       "    .dataframe thead th {\n",
       "        text-align: right;\n",
       "    }\n",
       "</style>\n",
       "<table border=\"1\" class=\"dataframe\">\n",
       "  <thead>\n",
       "    <tr style=\"text-align: right;\">\n",
       "      <th></th>\n",
       "      <th>Chromosome</th>\n",
       "      <th>Start</th>\n",
       "      <th>End</th>\n",
       "      <th>Strand</th>\n",
       "      <th>tpm</th>\n",
       "      <th>rid</th>\n",
       "      <th>int_pls</th>\n",
       "    </tr>\n",
       "  </thead>\n",
       "  <tbody>\n",
       "    <tr>\n",
       "      <th>0</th>\n",
       "      <td>GL000194.1</td>\n",
       "      <td>53585</td>\n",
       "      <td>53595</td>\n",
       "      <td>+</td>\n",
       "      <td>6.18</td>\n",
       "      <td>GL000194.1_53585_53595</td>\n",
       "      <td>False</td>\n",
       "    </tr>\n",
       "    <tr>\n",
       "      <th>1</th>\n",
       "      <td>GL000194.1</td>\n",
       "      <td>61655</td>\n",
       "      <td>61675</td>\n",
       "      <td>+</td>\n",
       "      <td>5.47</td>\n",
       "      <td>GL000194.1_61655_61675</td>\n",
       "      <td>False</td>\n",
       "    </tr>\n",
       "    <tr>\n",
       "      <th>2</th>\n",
       "      <td>GL000194.1</td>\n",
       "      <td>62358</td>\n",
       "      <td>62365</td>\n",
       "      <td>+</td>\n",
       "      <td>2.97</td>\n",
       "      <td>GL000194.1_62358_62365</td>\n",
       "      <td>False</td>\n",
       "    </tr>\n",
       "    <tr>\n",
       "      <th>3</th>\n",
       "      <td>GL000194.1</td>\n",
       "      <td>62628</td>\n",
       "      <td>62636</td>\n",
       "      <td>+</td>\n",
       "      <td>3.99</td>\n",
       "      <td>GL000194.1_62628_62636</td>\n",
       "      <td>False</td>\n",
       "    </tr>\n",
       "    <tr>\n",
       "      <th>4</th>\n",
       "      <td>GL000194.1</td>\n",
       "      <td>62665</td>\n",
       "      <td>62676</td>\n",
       "      <td>+</td>\n",
       "      <td>8.21</td>\n",
       "      <td>GL000194.1_62665_62676</td>\n",
       "      <td>False</td>\n",
       "    </tr>\n",
       "  </tbody>\n",
       "</table>\n",
       "</div>"
      ],
      "text/plain": [
       "   Chromosome  Start    End Strand   tpm                     rid  int_pls\n",
       "0  GL000194.1  53585  53595      +  6.18  GL000194.1_53585_53595    False\n",
       "1  GL000194.1  61655  61675      +  5.47  GL000194.1_61655_61675    False\n",
       "2  GL000194.1  62358  62365      +  2.97  GL000194.1_62358_62365    False\n",
       "3  GL000194.1  62628  62636      +  3.99  GL000194.1_62628_62636    False\n",
       "4  GL000194.1  62665  62676      +  8.21  GL000194.1_62665_62676    False"
      ]
     },
     "execution_count": 71,
     "metadata": {},
     "output_type": "execute_result"
    }
   ],
   "source": []
  },
  {
   "cell_type": "code",
   "execution_count": null,
   "id": "52908ac1-e9f1-48ef-afb7-a9229cf03f6f",
   "metadata": {},
   "outputs": [],
   "source": []
  }
 ],
 "metadata": {
  "kernelspec": {
   "display_name": "Python 3",
   "language": "python",
   "name": "python3"
  },
  "language_info": {
   "codemirror_mode": {
    "name": "ipython",
    "version": 3
   },
   "file_extension": ".py",
   "mimetype": "text/x-python",
   "name": "python",
   "nbconvert_exporter": "python",
   "pygments_lexer": "ipython3",
   "version": "3.7.12"
  }
 },
 "nbformat": 4,
 "nbformat_minor": 5
}
