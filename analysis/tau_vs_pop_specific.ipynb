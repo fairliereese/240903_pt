{
 "cells": [
  {
   "cell_type": "markdown",
   "id": "182172b6-3e69-4006-9f07-8f8cf182e834",
   "metadata": {},
   "source": [
    "## Compare population specific transcript identities \n",
    "## between Tau metric and discovery metric"
   ]
  },
  {
   "cell_type": "code",
   "execution_count": 1,
   "id": "66612c2b-c436-4d1d-a3f6-e3a890fb429f",
   "metadata": {},
   "outputs": [],
   "source": [
    "import pandas as pd\n",
    "import numpy as np\n",
    "import scipy.stats as st\n",
    "import seaborn as sns\n",
    "import sys\n",
    "import os\n",
    "import matplotlib.pyplot as plt\n",
    "import swan_vis as swan\n",
    "import yaml\n",
    "from snakemake.io import expand\n",
    "import cerberus\n",
    "import pyranges as pr\n",
    "import upsetplot\n",
    "\n",
    "p = os.path.dirname(os.getcwd())\n",
    "sys.path.append(p)\n",
    "\n",
    "from scripts.utils import *\n",
    "from scripts.vcf_utils import *\n",
    "from scripts.plotting import *"
   ]
  },
  {
   "cell_type": "code",
   "execution_count": 2,
   "id": "4c3f5ffc-1f21-4aaf-9bc0-75faae17dcc0",
   "metadata": {},
   "outputs": [
    {
     "name": "stdout",
     "output_type": "stream",
     "text": [
      "test\n"
     ]
    }
   ],
   "source": [
    "print('test')"
   ]
  },
  {
   "cell_type": "code",
   "execution_count": 3,
   "id": "20f8657d-5b90-415b-8970-e68a8fbba0b6",
   "metadata": {},
   "outputs": [],
   "source": [
    "config = load_config()\n",
    "od = '../'\n",
    "\n",
    "def proc_cfg(entry, od):\n",
    "    entry = entry.replace('../../', '')\n",
    "    entry = od+entry\n",
    "    return entry"
   ]
  },
  {
   "cell_type": "code",
   "execution_count": 4,
   "id": "1fc67355-1c5f-4661-a6c5-1154896cfa07",
   "metadata": {},
   "outputs": [
    {
     "name": "stdout",
     "output_type": "stream",
     "text": [
      "241108_1_1_mean_tau.tsv\n"
     ]
    }
   ],
   "source": [
    "# min_samples = 2\n",
    "# min_cpm = 0.1\n",
    "# tau_df = pd.read_csv(f'241023_{min_cpm}_{min_samples}tau.tsv', sep='\\t')\n",
    "# min_cpm = 0.1\n",
    "min_cpm = 1\n",
    "min_samples = 1\n",
    "# tau_df = pd.read_csv(f'241031_med_{min_cpm}_tau.tsv', sep='\\t')\n",
    "f = f'241108_{min_cpm}_{min_samples}_mean_tau.tsv'\n",
    "print(f)\n",
    "tau_df = pd.read_csv(f, sep='\\t')"
   ]
  },
  {
   "cell_type": "code",
   "execution_count": 5,
   "id": "0be999d4-bf42-4698-a050-3f4402a1f55b",
   "metadata": {},
   "outputs": [],
   "source": [
    "# plot tau value vs. population specific transcripts\n",
    "mt_df = pd.read_csv('../data/05_mastertable/poder_master_table_fixed_genics.tsv', sep='\\t')\n",
    "# mt_df = mt_df.loc[mt_df['filter']=='pass']\n",
    "mt_df['pop_spec_t'] = (mt_df.population_sharing==1)&\\\n",
    "                      (mt_df.sample_sharing>1)"
   ]
  },
  {
   "cell_type": "code",
   "execution_count": 6,
   "id": "710f6149-cce1-4c6a-840b-30bce349af31",
   "metadata": {},
   "outputs": [
    {
     "data": {
      "text/html": [
       "<div>\n",
       "<style scoped>\n",
       "    .dataframe tbody tr th:only-of-type {\n",
       "        vertical-align: middle;\n",
       "    }\n",
       "\n",
       "    .dataframe tbody tr th {\n",
       "        vertical-align: top;\n",
       "    }\n",
       "\n",
       "    .dataframe thead th {\n",
       "        text-align: right;\n",
       "    }\n",
       "</style>\n",
       "<table border=\"1\" class=\"dataframe\">\n",
       "  <thead>\n",
       "    <tr style=\"text-align: right;\">\n",
       "      <th></th>\n",
       "      <th>tid</th>\n",
       "      <th>tau</th>\n",
       "    </tr>\n",
       "  </thead>\n",
       "  <tbody>\n",
       "    <tr>\n",
       "      <th>0</th>\n",
       "      <td>transcript_6675</td>\n",
       "      <td>0.701495</td>\n",
       "    </tr>\n",
       "    <tr>\n",
       "      <th>1</th>\n",
       "      <td>transcript_6676</td>\n",
       "      <td>0.525534</td>\n",
       "    </tr>\n",
       "    <tr>\n",
       "      <th>2</th>\n",
       "      <td>transcript_6684</td>\n",
       "      <td>0.594136</td>\n",
       "    </tr>\n",
       "    <tr>\n",
       "      <th>3</th>\n",
       "      <td>transcript_11363</td>\n",
       "      <td>0.785230</td>\n",
       "    </tr>\n",
       "    <tr>\n",
       "      <th>4</th>\n",
       "      <td>transcript_11368</td>\n",
       "      <td>0.694987</td>\n",
       "    </tr>\n",
       "  </tbody>\n",
       "</table>\n",
       "</div>"
      ],
      "text/plain": [
       "                tid       tau\n",
       "0   transcript_6675  0.701495\n",
       "1   transcript_6676  0.525534\n",
       "2   transcript_6684  0.594136\n",
       "3  transcript_11363  0.785230\n",
       "4  transcript_11368  0.694987"
      ]
     },
     "execution_count": 6,
     "metadata": {},
     "output_type": "execute_result"
    }
   ],
   "source": [
    "tau_df.head()"
   ]
  },
  {
   "cell_type": "code",
   "execution_count": 7,
   "id": "3ea7753c-01a3-44ad-a2a4-6240d23cb87f",
   "metadata": {},
   "outputs": [],
   "source": [
    "tau_df = tau_df.merge(mt_df[['isoform', 'pop_spec_t']], \n",
    "                      how='left', \n",
    "                      left_on='tid',\n",
    "                      right_on='isoform')"
   ]
  },
  {
   "cell_type": "code",
   "execution_count": 8,
   "id": "5df34ddd-c49d-49d6-a638-3e125f79d36e",
   "metadata": {},
   "outputs": [
    {
     "data": {
      "text/html": [
       "<div>\n",
       "<style scoped>\n",
       "    .dataframe tbody tr th:only-of-type {\n",
       "        vertical-align: middle;\n",
       "    }\n",
       "\n",
       "    .dataframe tbody tr th {\n",
       "        vertical-align: top;\n",
       "    }\n",
       "\n",
       "    .dataframe thead th {\n",
       "        text-align: right;\n",
       "    }\n",
       "</style>\n",
       "<table border=\"1\" class=\"dataframe\">\n",
       "  <thead>\n",
       "    <tr style=\"text-align: right;\">\n",
       "      <th></th>\n",
       "      <th>tid</th>\n",
       "      <th>tau</th>\n",
       "      <th>isoform</th>\n",
       "      <th>pop_spec_t</th>\n",
       "    </tr>\n",
       "  </thead>\n",
       "  <tbody>\n",
       "    <tr>\n",
       "      <th>0</th>\n",
       "      <td>transcript_6675</td>\n",
       "      <td>0.701495</td>\n",
       "      <td>transcript_6675</td>\n",
       "      <td>False</td>\n",
       "    </tr>\n",
       "    <tr>\n",
       "      <th>1</th>\n",
       "      <td>transcript_6676</td>\n",
       "      <td>0.525534</td>\n",
       "      <td>transcript_6676</td>\n",
       "      <td>False</td>\n",
       "    </tr>\n",
       "    <tr>\n",
       "      <th>2</th>\n",
       "      <td>transcript_6684</td>\n",
       "      <td>0.594136</td>\n",
       "      <td>transcript_6684</td>\n",
       "      <td>False</td>\n",
       "    </tr>\n",
       "    <tr>\n",
       "      <th>3</th>\n",
       "      <td>transcript_11363</td>\n",
       "      <td>0.785230</td>\n",
       "      <td>transcript_11363</td>\n",
       "      <td>False</td>\n",
       "    </tr>\n",
       "    <tr>\n",
       "      <th>4</th>\n",
       "      <td>transcript_11368</td>\n",
       "      <td>0.694987</td>\n",
       "      <td>transcript_11368</td>\n",
       "      <td>False</td>\n",
       "    </tr>\n",
       "  </tbody>\n",
       "</table>\n",
       "</div>"
      ],
      "text/plain": [
       "                tid       tau           isoform  pop_spec_t\n",
       "0   transcript_6675  0.701495   transcript_6675       False\n",
       "1   transcript_6676  0.525534   transcript_6676       False\n",
       "2   transcript_6684  0.594136   transcript_6684       False\n",
       "3  transcript_11363  0.785230  transcript_11363       False\n",
       "4  transcript_11368  0.694987  transcript_11368       False"
      ]
     },
     "execution_count": 8,
     "metadata": {},
     "output_type": "execute_result"
    }
   ],
   "source": [
    "tau_df.head()"
   ]
  },
  {
   "cell_type": "code",
   "execution_count": 9,
   "id": "dde92a70-3670-4d94-a17e-eda05b964c2c",
   "metadata": {},
   "outputs": [],
   "source": [
    "tau_df['pop_spec_t'] = tau_df['pop_spec_t'].fillna('Undefined')"
   ]
  },
  {
   "cell_type": "code",
   "execution_count": 10,
   "id": "7857363b-193a-4962-bb5e-73aa29470a8e",
   "metadata": {},
   "outputs": [
    {
     "data": {
      "text/plain": [
       "43013"
      ]
     },
     "execution_count": 10,
     "metadata": {},
     "output_type": "execute_result"
    }
   ],
   "source": [
    "len(tau_df.index)"
   ]
  },
  {
   "cell_type": "code",
   "execution_count": 11,
   "id": "19b7b775-0afe-4309-acb6-7f74e39045f6",
   "metadata": {},
   "outputs": [
    {
     "data": {
      "text/plain": [
       "<matplotlib.lines.Line2D at 0x7f8b704335d0>"
      ]
     },
     "execution_count": 11,
     "metadata": {},
     "output_type": "execute_result"
    },
    {
     "data": {
      "image/png": "[encoded data removed]",
      "text/plain": [
       "<Figure size 423.5x360 with 1 Axes>"
      ]
     },
     "metadata": {
      "needs_background": "light"
     },
     "output_type": "display_data"
    }
   ],
   "source": [
    "ax = sns.displot(tau_df, x='tau', hue='pop_spec_t', kind='kde',\n",
    "            common_norm=False)\n",
    "plt.axvline(0.8, color='k', linestyle='--')"
   ]
  },
  {
   "cell_type": "code",
   "execution_count": 13,
   "id": "47a85c7d-0339-428f-aa64-89a9e75008e8",
   "metadata": {},
   "outputs": [
    {
     "data": {
      "text/plain": [
       "43013"
      ]
     },
     "execution_count": 13,
     "metadata": {},
     "output_type": "execute_result"
    }
   ],
   "source": [
    "len(tau_df.index)"
   ]
  },
  {
   "cell_type": "code",
   "execution_count": 12,
   "id": "e58a130d-cc68-4d93-b6c8-7bb7208c7fed",
   "metadata": {},
   "outputs": [
    {
     "data": {
      "text/plain": [
       "<matplotlib.lines.Line2D at 0x7f8631ec85d0>"
      ]
     },
     "execution_count": 12,
     "metadata": {},
     "output_type": "execute_result"
    },
    {
     "data": {
      "image/png": "[encoded data removed]",
      "text/plain": [
       "<Figure size 432x288 with 1 Axes>"
      ]
     },
     "metadata": {
      "needs_background": "light"
     },
     "output_type": "display_data"
    }
   ],
   "source": [
    "ax = sns.violinplot(tau_df, y='tau', x='pop_spec_t')\n",
    "plt.axhline(0.8, color='k', linestyle='--')"
   ]
  },
  {
   "cell_type": "code",
   "execution_count": 13,
   "id": "931b29b2-863a-4b9a-942b-09c170e3a463",
   "metadata": {},
   "outputs": [
    {
     "data": {
      "text/plain": [
       "<matplotlib.lines.Line2D at 0x7f867211c210>"
      ]
     },
     "execution_count": 13,
     "metadata": {},
     "output_type": "execute_result"
    },
    {
     "data": {
      "image/png": "[encoded data removed]",
      "text/plain": [
       "<Figure size 423.5x360 with 1 Axes>"
      ]
     },
     "metadata": {
      "needs_background": "light"
     },
     "output_type": "display_data"
    }
   ],
   "source": [
    "ax = sns.displot(tau_df, x='tau', hue='pop_spec_t')\n",
    "plt.axvline(0.8, color='k', linestyle='--')"
   ]
  },
  {
   "cell_type": "code",
   "execution_count": 14,
   "id": "2e6d5099-2ccb-4da3-904a-b2dc4b0ae32a",
   "metadata": {},
   "outputs": [
    {
     "data": {
      "text/plain": [
       "<matplotlib.lines.Line2D at 0x7f86532c8950>"
      ]
     },
     "execution_count": 14,
     "metadata": {},
     "output_type": "execute_result"
    },
    {
     "data": {
      "image/png": "[encoded data removed]",
      "text/plain": [
       "<Figure size 423.5x360 with 1 Axes>"
      ]
     },
     "metadata": {
      "needs_background": "light"
     },
     "output_type": "display_data"
    }
   ],
   "source": [
    "temp = tau_df.loc[tau_df.pop_spec_t!='Undefined']\n",
    "ax = sns.displot(temp, x='tau', hue='pop_spec_t', kind='kde',\n",
    "            common_norm=False)\n",
    "plt.axvline(0.9, color='k', linestyle='--')"
   ]
  },
  {
   "cell_type": "code",
   "execution_count": 15,
   "id": "c8733e45-afe3-4774-9695-1ae30b85ed90",
   "metadata": {},
   "outputs": [
    {
     "data": {
      "text/plain": [
       "<matplotlib.lines.Line2D at 0x7f86217f8b50>"
      ]
     },
     "execution_count": 15,
     "metadata": {},
     "output_type": "execute_result"
    },
    {
     "data": {
      "image/png": "[encoded data removed]",
      "text/plain": [
       "<Figure size 423.5x360 with 1 Axes>"
      ]
     },
     "metadata": {
      "needs_background": "light"
     },
     "output_type": "display_data"
    }
   ],
   "source": [
    "ax = sns.displot(temp, x='tau', hue='pop_spec_t',\n",
    "                 multiple='dodge', edgecolor=None)\n",
    "plt.axvline(0.8, color='k', linestyle='--')"
   ]
  },
  {
   "cell_type": "code",
   "execution_count": 14,
   "id": "e2ffd5e1-bdc4-4c0c-936f-09f98c11b4c6",
   "metadata": {},
   "outputs": [],
   "source": [
    "tau_df['tau_pop_spec_t'] = tau_df.tau>=0.8"
   ]
  },
  {
   "cell_type": "code",
   "execution_count": 15,
   "id": "b1d2c870-3911-4751-b21d-4bcf143c4a0a",
   "metadata": {},
   "outputs": [
    {
     "data": {
      "text/html": [
       "<div>\n",
       "<style scoped>\n",
       "    .dataframe tbody tr th:only-of-type {\n",
       "        vertical-align: middle;\n",
       "    }\n",
       "\n",
       "    .dataframe tbody tr th {\n",
       "        vertical-align: top;\n",
       "    }\n",
       "\n",
       "    .dataframe thead th {\n",
       "        text-align: right;\n",
       "    }\n",
       "</style>\n",
       "<table border=\"1\" class=\"dataframe\">\n",
       "  <thead>\n",
       "    <tr style=\"text-align: right;\">\n",
       "      <th></th>\n",
       "      <th></th>\n",
       "      <th>tid</th>\n",
       "    </tr>\n",
       "    <tr>\n",
       "      <th>pop_spec_t</th>\n",
       "      <th>tau_pop_spec_t</th>\n",
       "      <th></th>\n",
       "    </tr>\n",
       "  </thead>\n",
       "  <tbody>\n",
       "    <tr>\n",
       "      <th rowspan=\"2\" valign=\"top\">False</th>\n",
       "      <th>False</th>\n",
       "      <td>34141</td>\n",
       "    </tr>\n",
       "    <tr>\n",
       "      <th>True</th>\n",
       "      <td>8626</td>\n",
       "    </tr>\n",
       "    <tr>\n",
       "      <th rowspan=\"2\" valign=\"top\">True</th>\n",
       "      <th>False</th>\n",
       "      <td>132</td>\n",
       "    </tr>\n",
       "    <tr>\n",
       "      <th>True</th>\n",
       "      <td>114</td>\n",
       "    </tr>\n",
       "  </tbody>\n",
       "</table>\n",
       "</div>"
      ],
      "text/plain": [
       "                             tid\n",
       "pop_spec_t tau_pop_spec_t       \n",
       "False      False           34141\n",
       "           True             8626\n",
       "True       False             132\n",
       "           True              114"
      ]
     },
     "execution_count": 15,
     "metadata": {},
     "output_type": "execute_result"
    }
   ],
   "source": [
    "tau_df[['tau_pop_spec_t',\n",
    "        'pop_spec_t', 'tid']].groupby(['pop_spec_t',\n",
    "                                       'tau_pop_spec_t']).nunique()"
   ]
  },
  {
   "cell_type": "code",
   "execution_count": 16,
   "id": "763c4404-c8c7-444c-95ba-15284c2730c5",
   "metadata": {},
   "outputs": [
    {
     "data": {
      "text/html": [
       "<div>\n",
       "<style scoped>\n",
       "    .dataframe tbody tr th:only-of-type {\n",
       "        vertical-align: middle;\n",
       "    }\n",
       "\n",
       "    .dataframe tbody tr th {\n",
       "        vertical-align: top;\n",
       "    }\n",
       "\n",
       "    .dataframe thead th {\n",
       "        text-align: right;\n",
       "    }\n",
       "</style>\n",
       "<table border=\"1\" class=\"dataframe\">\n",
       "  <thead>\n",
       "    <tr style=\"text-align: right;\">\n",
       "      <th></th>\n",
       "      <th>tid</th>\n",
       "    </tr>\n",
       "    <tr>\n",
       "      <th>tau_pop_spec_t</th>\n",
       "      <th></th>\n",
       "    </tr>\n",
       "  </thead>\n",
       "  <tbody>\n",
       "    <tr>\n",
       "      <th>False</th>\n",
       "      <td>34273</td>\n",
       "    </tr>\n",
       "    <tr>\n",
       "      <th>True</th>\n",
       "      <td>8740</td>\n",
       "    </tr>\n",
       "  </tbody>\n",
       "</table>\n",
       "</div>"
      ],
      "text/plain": [
       "                  tid\n",
       "tau_pop_spec_t       \n",
       "False           34273\n",
       "True             8740"
      ]
     },
     "execution_count": 16,
     "metadata": {},
     "output_type": "execute_result"
    }
   ],
   "source": [
    "tau_df[['tau_pop_spec_t', 'tid']].groupby(['tau_pop_spec_t']).nunique()"
   ]
  },
  {
   "cell_type": "code",
   "execution_count": 21,
   "id": "73f13aa2-c7e2-4fa4-8cf9-015666a30ec1",
   "metadata": {},
   "outputs": [
    {
     "name": "stderr",
     "output_type": "stream",
     "text": [
      "/Users/fairliereese/miniconda3/lib/python3.7/site-packages/pandas/core/frame.py:9203: FutureWarning: Passing 'suffixes' which cause duplicate columns {'isoform_x'} in the result is deprecated and will raise a MergeError in a future version.\n",
      "  validate=validate,\n"
     ]
    },
    {
     "data": {
      "text/html": [
       "<div>\n",
       "<style scoped>\n",
       "    .dataframe tbody tr th:only-of-type {\n",
       "        vertical-align: middle;\n",
       "    }\n",
       "\n",
       "    .dataframe tbody tr th {\n",
       "        vertical-align: top;\n",
       "    }\n",
       "\n",
       "    .dataframe thead th {\n",
       "        text-align: right;\n",
       "    }\n",
       "</style>\n",
       "<table border=\"1\" class=\"dataframe\">\n",
       "  <thead>\n",
       "    <tr style=\"text-align: right;\">\n",
       "      <th></th>\n",
       "      <th></th>\n",
       "      <th>tid</th>\n",
       "    </tr>\n",
       "    <tr>\n",
       "      <th>novelty</th>\n",
       "      <th>tau_pop_spec_t</th>\n",
       "      <th></th>\n",
       "    </tr>\n",
       "  </thead>\n",
       "  <tbody>\n",
       "    <tr>\n",
       "      <th rowspan=\"2\" valign=\"top\">Known</th>\n",
       "      <th>False</th>\n",
       "      <td>22092</td>\n",
       "    </tr>\n",
       "    <tr>\n",
       "      <th>True</th>\n",
       "      <td>4586</td>\n",
       "    </tr>\n",
       "    <tr>\n",
       "      <th rowspan=\"2\" valign=\"top\">Novel</th>\n",
       "      <th>False</th>\n",
       "      <td>12181</td>\n",
       "    </tr>\n",
       "    <tr>\n",
       "      <th>True</th>\n",
       "      <td>4154</td>\n",
       "    </tr>\n",
       "  </tbody>\n",
       "</table>\n",
       "</div>"
      ],
      "text/plain": [
       "                          tid\n",
       "novelty tau_pop_spec_t       \n",
       "Known   False           22092\n",
       "        True             4586\n",
       "Novel   False           12181\n",
       "        True             4154"
      ]
     },
     "execution_count": 21,
     "metadata": {},
     "output_type": "execute_result"
    }
   ],
   "source": [
    "tau_df = tau_df.merge(mt_df[['isoform', 'structural_category']],\n",
    "                      how='left',\n",
    "                      left_on='tid',\n",
    "                      right_on='isoform')\n",
    "tau_df['novelty'] = 'Novel'\n",
    "tau_df.loc[tau_df.structural_category=='FSM', 'novelty'] = 'Known'\n",
    "tau_df[['tau_pop_spec_t',\n",
    "        'novelty', 'tid']].groupby(['novelty',\n",
    "                                       'tau_pop_spec_t']).nunique()"
   ]
  },
  {
   "cell_type": "code",
   "execution_count": 18,
   "id": "c3cdfaed-0b06-4041-9f34-4d4379d2dae1",
   "metadata": {},
   "outputs": [
    {
     "data": {
      "text/plain": [
       "0.8000027546516313"
      ]
     },
     "execution_count": 18,
     "metadata": {},
     "output_type": "execute_result"
    }
   ],
   "source": [
    "tau_df.loc[tau_df.tau_pop_spec_t, 'tau'].min()"
   ]
  },
  {
   "cell_type": "code",
   "execution_count": 19,
   "id": "03ee3b71-fb7f-4fb1-9d75-2800e5c4baa9",
   "metadata": {},
   "outputs": [],
   "source": [
    "# tau_df.to_csv('241031_tau_0.1_min_cpm_0.8_min_tau.tsv', sep='\\t')\n",
    "tau_df.to_csv('241110_tau_1_min_cpm_0.8_min_tau.tsv', sep='\\t')"
   ]
  },
  {
   "cell_type": "code",
   "execution_count": 20,
   "id": "287882ba-d04b-450d-b008-c9664bd24434",
   "metadata": {},
   "outputs": [
    {
     "name": "stdout",
     "output_type": "stream",
     "text": [
      "Odds Ratio: 3.4182018422106526\n",
      "P-value: 3.76753603645694e-20\n"
     ]
    }
   ],
   "source": [
    "## Fischer's exact test\n",
    "temp = tau_df[['tau_pop_spec_t',\n",
    "        'pop_spec_t', 'tid']].groupby(['pop_spec_t',\n",
    "                                       'tau_pop_spec_t']).nunique().reset_index()\n",
    "\n",
    "temp.head()\n",
    "temp = temp.pivot(index='tau_pop_spec_t',\n",
    "                  values = 'tid',\n",
    "                  columns = 'pop_spec_t')\n",
    "temp = temp.values\n",
    "temp\n",
    "# Perform Fisher's Exact Test\n",
    "odds_ratio, p_value = st.fisher_exact(temp, alternative='greater')\n",
    "\n",
    "\n",
    "# # get the CI of these results\n",
    "# result = st.contingency.odds_ratio(temp, kind='conditional')\n",
    "# odds_ratio_value = result.statistic\n",
    "# confidence_interval = result.confidence_interval(confidence_level=0.95)\n",
    "\n",
    "\n",
    "print(\"Odds Ratio:\", odds_ratio)\n",
    "print(\"P-value:\", p_value)\n",
    "# print(\"Conditional Odds Ratio:\", odds_ratio_value)\n",
    "# print(\"95% Confidence Interval:\", confidence_interval)"
   ]
  },
  {
   "cell_type": "code",
   "execution_count": 21,
   "id": "ba62d0f4-b7b2-4eeb-920e-b76650d9b8ce",
   "metadata": {},
   "outputs": [
    {
     "data": {
      "text/plain": [
       "array([[34141,   132],\n",
       "       [ 8626,   114]])"
      ]
     },
     "execution_count": 21,
     "metadata": {},
     "output_type": "execute_result"
    }
   ],
   "source": [
    "temp"
   ]
  },
  {
   "cell_type": "code",
   "execution_count": 22,
   "id": "145ad5d7-0bac-4328-9e27-9ff66fc7b5e9",
   "metadata": {},
   "outputs": [
    {
     "data": {
      "text/plain": [
       "'1.7.3'"
      ]
     },
     "execution_count": 22,
     "metadata": {},
     "output_type": "execute_result"
    }
   ],
   "source": [
    "import scipy\n",
    "scipy.__version__"
   ]
  },
  {
   "cell_type": "code",
   "execution_count": 23,
   "id": "5649e3f7-2e7c-44da-9959-cd70a4680a98",
   "metadata": {},
   "outputs": [
    {
     "name": "stdout",
     "output_type": "stream",
     "text": [
      "Wilcoxon Rank Sum Test Statistic: 10.225375272178116\n",
      "P-value: 7.631780591274807e-25\n"
     ]
    }
   ],
   "source": [
    "# Split the data based on \"pop_spec_t\"\n",
    "x = tau_df[tau_df['pop_spec_t'] == True]['tau'] # these should be higher\n",
    "y = tau_df[tau_df['pop_spec_t'] == False]['tau'] # these should be lower\n",
    "\n",
    "# alt hypothesis is that y > x or x < y\n",
    "\n",
    "# ‘two-sided’: one of the distributions (underlying x or y) is stochastically greater than the other.\n",
    "\n",
    "# ‘less’:  x < y.\n",
    "\n",
    "# ‘greater’:  x > y.\n",
    "\n",
    "# do the test\n",
    "stat, p_value = st.ranksums(x, y,\n",
    "                            alternative='greater')\n",
    "\n",
    "\n",
    "print(f'Wilcoxon Rank Sum Test Statistic: {stat}')\n",
    "print(f'P-value: {p_value}')\n"
   ]
  },
  {
   "cell_type": "code",
   "execution_count": 24,
   "id": "910fae68-8a43-477a-90f6-14e318f12a81",
   "metadata": {},
   "outputs": [
    {
     "name": "stdout",
     "output_type": "stream",
     "text": [
      "Mann-Whitney U Test Statistic: 7246049.5\n",
      "P-value: 5.674788192079838e-25\n"
     ]
    }
   ],
   "source": [
    "# Split the data based on \"pop_spec_t\"\n",
    "x = tau_df[tau_df['pop_spec_t'] == True]['tau']\n",
    "y = tau_df[tau_df['pop_spec_t'] == False]['tau']\n",
    "\n",
    "# Perform the Mann-Whitney U test\n",
    "stat, p_value = st.mannwhitneyu(x, y,\n",
    "                                alternative='greater')\n",
    "\n",
    "print(f'Mann-Whitney U Test Statistic: {stat}')\n",
    "print(f'P-value: {p_value}')"
   ]
  },
  {
   "cell_type": "code",
   "execution_count": 25,
   "id": "0d854c36-5fdb-49c0-969e-aa02f792f0a2",
   "metadata": {},
   "outputs": [
    {
     "name": "stdout",
     "output_type": "stream",
     "text": [
      "Mann-Whitney U Test Statistic: 7246049.5\n",
      "P-value: 1.1349576384159675e-24\n"
     ]
    }
   ],
   "source": [
    "# Split the data based on \"pop_spec_t\"\n",
    "x = tau_df[tau_df['pop_spec_t'] == True]['tau']\n",
    "y = tau_df[tau_df['pop_spec_t'] == False]['tau']\n",
    "\n",
    "# Perform the Mann-Whitney U test\n",
    "stat, p_value = st.mannwhitneyu(x, y,\n",
    "                                alternative='two-sided')\n",
    "\n",
    "print(f'Mann-Whitney U Test Statistic: {stat}')\n",
    "print(f'P-value: {p_value}')"
   ]
  },
  {
   "cell_type": "code",
   "execution_count": 26,
   "id": "1ced4590-6fc2-437c-8c4d-225e9d36dfc4",
   "metadata": {},
   "outputs": [],
   "source": [
    "# can I get which population is the specific one? --> tune in next time in tau_post_hoc (I am great at naming notebooks)?"
   ]
  },
  {
   "cell_type": "markdown",
   "id": "d0c1232a-458e-4e39-a365-868d3cfa3a65",
   "metadata": {},
   "source": [
    "## Which transcripts are pop specific via detction and via expression?"
   ]
  },
  {
   "cell_type": "code",
   "execution_count": 28,
   "id": "cebcf316-6e19-40fd-8ec6-7fd60df3553f",
   "metadata": {},
   "outputs": [
    {
     "data": {
      "text/html": [
       "<div>\n",
       "<style scoped>\n",
       "    .dataframe tbody tr th:only-of-type {\n",
       "        vertical-align: middle;\n",
       "    }\n",
       "\n",
       "    .dataframe tbody tr th {\n",
       "        vertical-align: top;\n",
       "    }\n",
       "\n",
       "    .dataframe thead th {\n",
       "        text-align: right;\n",
       "    }\n",
       "</style>\n",
       "<table border=\"1\" class=\"dataframe\">\n",
       "  <thead>\n",
       "    <tr style=\"text-align: right;\">\n",
       "      <th></th>\n",
       "      <th>tid</th>\n",
       "      <th>tau</th>\n",
       "      <th>isoform</th>\n",
       "      <th>pop_spec_t</th>\n",
       "      <th>tau_pop_spec_t</th>\n",
       "    </tr>\n",
       "  </thead>\n",
       "  <tbody>\n",
       "    <tr>\n",
       "      <th>11289</th>\n",
       "      <td>transcript_148736</td>\n",
       "      <td>0.875</td>\n",
       "      <td>transcript_148736</td>\n",
       "      <td>True</td>\n",
       "      <td>True</td>\n",
       "    </tr>\n",
       "  </tbody>\n",
       "</table>\n",
       "</div>"
      ],
      "text/plain": [
       "                     tid    tau            isoform  pop_spec_t  tau_pop_spec_t\n",
       "11289  transcript_148736  0.875  transcript_148736        True            True"
      ]
     },
     "execution_count": 28,
     "metadata": {},
     "output_type": "execute_result"
    }
   ],
   "source": [
    "tau_df.loc[tau_df.tid == 'transcript_148736']"
   ]
  },
  {
   "cell_type": "code",
   "execution_count": null,
   "id": "9e4da591-6d4b-4a11-83cb-bdce8c2cdc7d",
   "metadata": {},
   "outputs": [],
   "source": []
  }
 ],
 "metadata": {
  "kernelspec": {
   "display_name": "Python 3",
   "language": "python",
   "name": "python3"
  },
  "language_info": {
   "codemirror_mode": {
    "name": "ipython",
    "version": 3
   },
   "file_extension": ".py",
   "mimetype": "text/x-python",
   "name": "python",
   "nbconvert_exporter": "python",
   "pygments_lexer": "ipython3",
   "version": "3.7.12"
  }
 },
 "nbformat": 4,
 "nbformat_minor": 5
}
