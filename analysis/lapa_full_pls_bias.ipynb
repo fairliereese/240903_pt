{
 "cells": [
  {
   "cell_type": "markdown",
   "id": "94414260-5fe8-4695-93d4-1df72fe081a5",
   "metadata": {},
   "source": [
    "## Goal: Using the full dataset, can we say if the ENCODE PLS cCRE promoters "
   ]
  },
  {
   "cell_type": "code",
   "execution_count": 1,
   "id": "1e4923ee-7fa3-40dd-a84c-a0f93eccb62a",
   "metadata": {},
   "outputs": [],
   "source": [
    "import pandas as pd\n",
    "import numpy as np\n",
    "import scipy.stats as st\n",
    "import seaborn as sns\n",
    "import sys\n",
    "import os\n",
    "import matplotlib.pyplot as plt\n",
    "import swan_vis as swan\n",
    "import yaml\n",
    "from snakemake.io import expand\n",
    "import cerberus\n",
    "import pyranges as pr\n",
    "import upsetplot\n",
    "\n",
    "p = os.path.dirname(os.getcwd())\n",
    "sys.path.append(p)\n",
    "\n",
    "from scripts.utils import *\n",
    "from scripts.vcf_utils import *\n",
    "from scripts.plotting import *"
   ]
  },
  {
   "cell_type": "code",
   "execution_count": 2,
   "id": "6026932a-27b9-4d76-98bc-996ec9c7e5ba",
   "metadata": {},
   "outputs": [],
   "source": [
    "config = load_config()\n",
    "od = '../'\n",
    "\n",
    "def proc_cfg(entry, od):\n",
    "    entry = entry.replace('../../', '')\n",
    "    entry = od+entry\n",
    "    return entry"
   ]
  },
  {
   "cell_type": "code",
   "execution_count": 3,
   "id": "1a84edab-e506-4ca9-9aa9-8660eadfed99",
   "metadata": {},
   "outputs": [],
   "source": [
    "df = load_meta()\n",
    "df = df.loc[~df['sample'].str.contains('_')]\n",
    "df['lab_sample'] = df['lab_number_sample'].astype(str)+'_'+\\\n",
    "                      df['lab_sampleid'].astype(str)+'_'+\\\n",
    "                      df['cell_line_id'].astype(str)\n",
    "df = df.loc[df.mixed_samples==False]\n",
    "df = df[['cell_line_id', 'sample', 'hapmap_DNA_ID', 'lab_sample']].drop_duplicates()"
   ]
  },
  {
   "cell_type": "code",
   "execution_count": 4,
   "id": "5f7b22ee-f1d9-44e1-81fd-5bec71de907f",
   "metadata": {},
   "outputs": [],
   "source": [
    "# make parent table\n",
    "files  = expand(proc_cfg(config['lr']['lapa']['pls_int'], od),\n",
    "                   sample=df['sample'].tolist())\n",
    "big_df = pd.DataFrame()\n",
    "for f, s in zip(files, df['sample'].tolist()):\n",
    "    assert s in f\n",
    "    temp = pd.read_csv(f, sep='\\t')\n",
    "    temp['sample'] = s\n",
    "    big_df = pd.concat([big_df, temp], axis=0)"
   ]
  },
  {
   "cell_type": "code",
   "execution_count": 5,
   "id": "85065b8b-3b2e-42c4-8fd6-afe877cb35b5",
   "metadata": {},
   "outputs": [],
   "source": [
    "# merge w/ population information\n",
    "meta_df = load_meta()\n",
    "meta_df['eur'] = 'Non-European'\n",
    "meta_df.loc[meta_df['population'].isin(['AJI', 'CEU']), 'eur'] = 'European'\n",
    "big_df = big_df.merge(meta_df[['sample', 'population',\n",
    "                               'map_reads_assemblymap', \n",
    "                               'ooa', 'eur']], \n",
    "                      how='left',\n",
    "                      on='sample')"
   ]
  },
  {
   "cell_type": "code",
   "execution_count": 6,
   "id": "3bae1ee4-cb0b-4dff-bd83-1c4f8053eb66",
   "metadata": {},
   "outputs": [
    {
     "data": {
      "text/html": [
       "<div>\n",
       "<style scoped>\n",
       "    .dataframe tbody tr th:only-of-type {\n",
       "        vertical-align: middle;\n",
       "    }\n",
       "\n",
       "    .dataframe tbody tr th {\n",
       "        vertical-align: top;\n",
       "    }\n",
       "\n",
       "    .dataframe thead th {\n",
       "        text-align: right;\n",
       "    }\n",
       "</style>\n",
       "<table border=\"1\" class=\"dataframe\">\n",
       "  <thead>\n",
       "    <tr style=\"text-align: right;\">\n",
       "      <th></th>\n",
       "      <th>int_pls</th>\n",
       "      <th>sample</th>\n",
       "      <th>ooa</th>\n",
       "      <th>eur</th>\n",
       "      <th>population</th>\n",
       "      <th>map_reads_assemblymap</th>\n",
       "      <th>n_tss</th>\n",
       "    </tr>\n",
       "  </thead>\n",
       "  <tbody>\n",
       "    <tr>\n",
       "      <th>0</th>\n",
       "      <td>False</td>\n",
       "      <td>AJI1</td>\n",
       "      <td>OOA</td>\n",
       "      <td>European</td>\n",
       "      <td>AJI</td>\n",
       "      <td>12033035.0</td>\n",
       "      <td>2391</td>\n",
       "    </tr>\n",
       "    <tr>\n",
       "      <th>1</th>\n",
       "      <td>False</td>\n",
       "      <td>AJI2</td>\n",
       "      <td>OOA</td>\n",
       "      <td>European</td>\n",
       "      <td>AJI</td>\n",
       "      <td>13693804.0</td>\n",
       "      <td>2002</td>\n",
       "    </tr>\n",
       "    <tr>\n",
       "      <th>2</th>\n",
       "      <td>False</td>\n",
       "      <td>AJI3</td>\n",
       "      <td>OOA</td>\n",
       "      <td>European</td>\n",
       "      <td>AJI</td>\n",
       "      <td>14486506.0</td>\n",
       "      <td>3915</td>\n",
       "    </tr>\n",
       "    <tr>\n",
       "      <th>3</th>\n",
       "      <td>False</td>\n",
       "      <td>AJI4</td>\n",
       "      <td>OOA</td>\n",
       "      <td>European</td>\n",
       "      <td>AJI</td>\n",
       "      <td>9599380.0</td>\n",
       "      <td>1910</td>\n",
       "    </tr>\n",
       "    <tr>\n",
       "      <th>4</th>\n",
       "      <td>False</td>\n",
       "      <td>AJI5</td>\n",
       "      <td>OOA</td>\n",
       "      <td>European</td>\n",
       "      <td>AJI</td>\n",
       "      <td>19455494.0</td>\n",
       "      <td>5000</td>\n",
       "    </tr>\n",
       "  </tbody>\n",
       "</table>\n",
       "</div>"
      ],
      "text/plain": [
       "   int_pls sample  ooa       eur population  map_reads_assemblymap  n_tss\n",
       "0    False   AJI1  OOA  European        AJI             12033035.0   2391\n",
       "1    False   AJI2  OOA  European        AJI             13693804.0   2002\n",
       "2    False   AJI3  OOA  European        AJI             14486506.0   3915\n",
       "3    False   AJI4  OOA  European        AJI              9599380.0   1910\n",
       "4    False   AJI5  OOA  European        AJI             19455494.0   5000"
      ]
     },
     "execution_count": 6,
     "metadata": {},
     "output_type": "execute_result"
    }
   ],
   "source": [
    "# count number of known / novel per sample\n",
    "gb_cols = ['int_pls', 'sample', 'ooa', 'eur',\n",
    "           'population', 'map_reads_assemblymap']\n",
    "keep_cols = gb_cols+['rid']\n",
    "big_df = big_df[keep_cols].groupby(gb_cols).nunique().reset_index().rename({'rid':'n_tss'}, axis=1)\n",
    "big_df.head()"
   ]
  },
  {
   "cell_type": "code",
   "execution_count": 7,
   "id": "deb30e43-2988-4760-905b-9cbcd531e42d",
   "metadata": {},
   "outputs": [],
   "source": [
    "# first, number of tss split by known and novel per million mapped reads\n",
    "big_df['norm_n_tss'] = (big_df.n_tss/(big_df.map_reads_assemblymap/1e6))\n",
    "big_df['novelty'] = 'Novel'\n",
    "big_df.loc[big_df.int_pls==True, 'novelty'] = 'Known'"
   ]
  },
  {
   "cell_type": "code",
   "execution_count": 8,
   "id": "393cc7ac-8469-455f-a7f9-52831dd63e55",
   "metadata": {},
   "outputs": [
    {
     "data": {
      "image/png": "[encoded data removed]",
      "text/plain": [
       "<Figure size 432x288 with 1 Axes>"
      ]
     },
     "metadata": {
      "needs_background": "light"
     },
     "output_type": "display_data"
    }
   ],
   "source": [
    "# c_dict, order = gt\n",
    "ax = sns.boxplot(data=big_df, x='novelty',\n",
    "                 y='norm_n_tss',\n",
    "                 hue='eur')"
   ]
  },
  {
   "cell_type": "code",
   "execution_count": 17,
   "id": "ea76fcf4-cac1-4ae2-8a90-f62ad6dc9e4f",
   "metadata": {},
   "outputs": [
    {
     "data": {
      "image/png": "[encoded data removed]",
      "text/plain": [
       "<Figure size 432x288 with 1 Axes>"
      ]
     },
     "metadata": {
      "needs_background": "light"
     },
     "output_type": "display_data"
    }
   ],
   "source": [
    "c_dict, order = get_afr_colors()\n",
    "ax = sns.boxplot(data=big_df, x='novelty',\n",
    "                 y='norm_n_tss',\n",
    "                 hue='ooa',\n",
    "                 palette=c_dict,\n",
    "                 saturation=1)\n",
    "c_dict, order = get_afr_colors()\n",
    "ax = sns.swarmplot(data=big_df, x='novelty',\n",
    "                 y='norm_n_tss',\n",
    "                 hue='ooa', ax=ax)"
   ]
  },
  {
   "cell_type": "code",
   "execution_count": 18,
   "id": "4d90bd0c-34e3-4357-a03d-f493098faf3e",
   "metadata": {},
   "outputs": [
    {
     "data": {
      "text/html": [
       "<div>\n",
       "<style scoped>\n",
       "    .dataframe tbody tr th:only-of-type {\n",
       "        vertical-align: middle;\n",
       "    }\n",
       "\n",
       "    .dataframe tbody tr th {\n",
       "        vertical-align: top;\n",
       "    }\n",
       "\n",
       "    .dataframe thead th {\n",
       "        text-align: right;\n",
       "    }\n",
       "</style>\n",
       "<table border=\"1\" class=\"dataframe\">\n",
       "  <thead>\n",
       "    <tr style=\"text-align: right;\">\n",
       "      <th></th>\n",
       "      <th>int_pls</th>\n",
       "      <th>sample</th>\n",
       "      <th>ooa</th>\n",
       "      <th>eur</th>\n",
       "      <th>population</th>\n",
       "      <th>map_reads_assemblymap</th>\n",
       "      <th>n_tss</th>\n",
       "      <th>norm_n_tss</th>\n",
       "      <th>novelty</th>\n",
       "    </tr>\n",
       "  </thead>\n",
       "  <tbody>\n",
       "    <tr>\n",
       "      <th>0</th>\n",
       "      <td>False</td>\n",
       "      <td>AJI1</td>\n",
       "      <td>OOA</td>\n",
       "      <td>European</td>\n",
       "      <td>AJI</td>\n",
       "      <td>12033035.0</td>\n",
       "      <td>2391</td>\n",
       "      <td>198.702987</td>\n",
       "      <td>Novel</td>\n",
       "    </tr>\n",
       "    <tr>\n",
       "      <th>1</th>\n",
       "      <td>False</td>\n",
       "      <td>AJI2</td>\n",
       "      <td>OOA</td>\n",
       "      <td>European</td>\n",
       "      <td>AJI</td>\n",
       "      <td>13693804.0</td>\n",
       "      <td>2002</td>\n",
       "      <td>146.197507</td>\n",
       "      <td>Novel</td>\n",
       "    </tr>\n",
       "    <tr>\n",
       "      <th>2</th>\n",
       "      <td>False</td>\n",
       "      <td>AJI3</td>\n",
       "      <td>OOA</td>\n",
       "      <td>European</td>\n",
       "      <td>AJI</td>\n",
       "      <td>14486506.0</td>\n",
       "      <td>3915</td>\n",
       "      <td>270.251502</td>\n",
       "      <td>Novel</td>\n",
       "    </tr>\n",
       "    <tr>\n",
       "      <th>3</th>\n",
       "      <td>False</td>\n",
       "      <td>AJI4</td>\n",
       "      <td>OOA</td>\n",
       "      <td>European</td>\n",
       "      <td>AJI</td>\n",
       "      <td>9599380.0</td>\n",
       "      <td>1910</td>\n",
       "      <td>198.971184</td>\n",
       "      <td>Novel</td>\n",
       "    </tr>\n",
       "    <tr>\n",
       "      <th>4</th>\n",
       "      <td>False</td>\n",
       "      <td>AJI5</td>\n",
       "      <td>OOA</td>\n",
       "      <td>European</td>\n",
       "      <td>AJI</td>\n",
       "      <td>19455494.0</td>\n",
       "      <td>5000</td>\n",
       "      <td>256.996815</td>\n",
       "      <td>Novel</td>\n",
       "    </tr>\n",
       "  </tbody>\n",
       "</table>\n",
       "</div>"
      ],
      "text/plain": [
       "   int_pls sample  ooa       eur population  map_reads_assemblymap  n_tss  \\\n",
       "0    False   AJI1  OOA  European        AJI             12033035.0   2391   \n",
       "1    False   AJI2  OOA  European        AJI             13693804.0   2002   \n",
       "2    False   AJI3  OOA  European        AJI             14486506.0   3915   \n",
       "3    False   AJI4  OOA  European        AJI              9599380.0   1910   \n",
       "4    False   AJI5  OOA  European        AJI             19455494.0   5000   \n",
       "\n",
       "   norm_n_tss novelty  \n",
       "0  198.702987   Novel  \n",
       "1  146.197507   Novel  \n",
       "2  270.251502   Novel  \n",
       "3  198.971184   Novel  \n",
       "4  256.996815   Novel  "
      ]
     },
     "execution_count": 18,
     "metadata": {},
     "output_type": "execute_result"
    }
   ],
   "source": [
    "big_df.head()"
   ]
  },
  {
   "cell_type": "code",
   "execution_count": 19,
   "id": "edcd9bd6-01f6-4baa-b3eb-651cf3d605ce",
   "metadata": {},
   "outputs": [],
   "source": [
    "big_df.to_csv('250327_lapa_full_pls_support.tsv', sep='\\t')"
   ]
  },
  {
   "cell_type": "code",
   "execution_count": null,
   "id": "8cb4402a-beed-47d8-91e9-98395b655792",
   "metadata": {},
   "outputs": [],
   "source": []
  },
  {
   "cell_type": "code",
   "execution_count": null,
   "id": "c9bcf390-3230-4b95-9232-cc202437a0e3",
   "metadata": {},
   "outputs": [],
   "source": []
  }
 ],
 "metadata": {
  "kernelspec": {
   "display_name": "Python 3",
   "language": "python",
   "name": "python3"
  },
  "language_info": {
   "codemirror_mode": {
    "name": "ipython",
    "version": 3
   },
   "file_extension": ".py",
   "mimetype": "text/x-python",
   "name": "python",
   "nbconvert_exporter": "python",
   "pygments_lexer": "ipython3",
   "version": "3.7.12"
  }
 },
 "nbformat": 4,
 "nbformat_minor": 5
}
