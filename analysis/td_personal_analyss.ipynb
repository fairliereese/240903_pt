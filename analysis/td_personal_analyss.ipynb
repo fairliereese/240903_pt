{
 "cells": [
  {
   "cell_type": "code",
   "execution_count": 1,
   "id": "cef4ea77-5ae5-4c18-9867-5d12d0edab68",
   "metadata": {},
   "outputs": [],
   "source": [
    "import pandas as pd\n",
    "import numpy as np\n",
    "import scipy.stats as st\n",
    "import seaborn as sns\n",
    "import sys\n",
    "import os\n",
    "import matplotlib.pyplot as plt\n",
    "import swan_vis as swan\n",
    "import yaml\n",
    "from snakemake.io import expand\n",
    "import cerberus\n",
    "import pyranges as pr\n",
    "import upsetplot\n",
    "\n",
    "p = os.path.dirname(os.getcwd())\n",
    "sys.path.append(p)\n",
    "\n",
    "from scripts.utils import *\n",
    "from scripts.vcf_utils import *\n",
    "from scripts.plotting import *"
   ]
  },
  {
   "cell_type": "code",
   "execution_count": 2,
   "id": "9887c238-03c2-4393-8fbf-26f744b41170",
   "metadata": {},
   "outputs": [],
   "source": [
    "config = load_config()\n",
    "od = '../'\n",
    "\n",
    "def proc_cfg(entry, od):\n",
    "    entry = entry.replace('../../', '')\n",
    "    entry = od+entry\n",
    "    return entry"
   ]
  },
  {
   "cell_type": "code",
   "execution_count": 15,
   "id": "8783956d-19ce-4a26-8fb9-439ccb114f59",
   "metadata": {},
   "outputs": [],
   "source": [
    "df = load_meta()\n",
    "df = df.loc[~df['sample'].str.contains('_')]\n",
    "df['lab_sample'] = df['lab_number_sample'].astype(str)+'_'+\\\n",
    "                      df['lab_sampleid'].astype(str)+'_'+\\\n",
    "                      df['cell_line_id'].astype(str)\n",
    "df = df[['cell_line_id', 'sample', 'hapmap_DNA_ID', 'lab_sample', 'population']].drop_duplicates()\n",
    "\n",
    "temp_df = pd.read_csv('../snakemake/transcript_discovery_personal/cell_line_ids.txt', header=None, names=['cell_line_id'])\n",
    "\n",
    "# make a 1000g cell line id col\n",
    "df['cell_line_id_1000g'] = df.cell_line_id\n",
    "\n",
    "inds = df.loc[~df.cell_line_id_1000g.isin(temp_df.cell_line_id.tolist())].index\n",
    "df.loc[inds, 'cell_line_id_1000g'] = df.loc[inds, 'hapmap_DNA_ID']\n",
    "len(df.index)\n",
    "\n",
    "# limit to just those in 1000g\n",
    "df = df.loc[df.cell_line_id_1000g.isin(temp_df.cell_line_id.tolist())]\n",
    "assert len(df.index) == 30\n",
    "\n",
    "# TODO bad sample that hasn't finished on espresso\n",
    "bad_samples = ['NA19328']\n",
    "df = df.loc[~df.cell_line_id_1000g.isin(bad_samples)]\n",
    "\n",
    "hap = ['hap1', 'hap2']\n",
    "\n",
    "meta_df = df.copy(deep=True)"
   ]
  },
  {
   "cell_type": "code",
   "execution_count": 16,
   "id": "a826b885-9b7e-43dc-b0a0-d3b07b60b5fd",
   "metadata": {},
   "outputs": [
    {
     "data": {
      "text/html": [
       "<div>\n",
       "<style scoped>\n",
       "    .dataframe tbody tr th:only-of-type {\n",
       "        vertical-align: middle;\n",
       "    }\n",
       "\n",
       "    .dataframe tbody tr th {\n",
       "        vertical-align: top;\n",
       "    }\n",
       "\n",
       "    .dataframe thead th {\n",
       "        text-align: right;\n",
       "    }\n",
       "</style>\n",
       "<table border=\"1\" class=\"dataframe\">\n",
       "  <thead>\n",
       "    <tr style=\"text-align: right;\">\n",
       "      <th></th>\n",
       "      <th>cell_line_id</th>\n",
       "      <th>sample</th>\n",
       "      <th>hapmap_DNA_ID</th>\n",
       "      <th>lab_sample</th>\n",
       "      <th>population</th>\n",
       "      <th>cell_line_id_1000g</th>\n",
       "    </tr>\n",
       "  </thead>\n",
       "  <tbody>\n",
       "    <tr>\n",
       "      <th>0</th>\n",
       "      <td>HG04217</td>\n",
       "      <td>ITU5</td>\n",
       "      <td>no_hapmap</td>\n",
       "      <td>39_IN5_HG04217</td>\n",
       "      <td>ITU</td>\n",
       "      <td>HG04217</td>\n",
       "    </tr>\n",
       "    <tr>\n",
       "      <th>1</th>\n",
       "      <td>HG04216</td>\n",
       "      <td>ITU4</td>\n",
       "      <td>no_hapmap</td>\n",
       "      <td>38_IN4_HG04216</td>\n",
       "      <td>ITU</td>\n",
       "      <td>HG04216</td>\n",
       "    </tr>\n",
       "    <tr>\n",
       "      <th>2</th>\n",
       "      <td>HG03732</td>\n",
       "      <td>ITU3</td>\n",
       "      <td>no_hapmap</td>\n",
       "      <td>37_IN3_HG03732</td>\n",
       "      <td>ITU</td>\n",
       "      <td>HG03732</td>\n",
       "    </tr>\n",
       "    <tr>\n",
       "      <th>3</th>\n",
       "      <td>HG03729</td>\n",
       "      <td>ITU2</td>\n",
       "      <td>no_hapmap</td>\n",
       "      <td>36_IN2_HG03729</td>\n",
       "      <td>ITU</td>\n",
       "      <td>HG03729</td>\n",
       "    </tr>\n",
       "    <tr>\n",
       "      <th>4</th>\n",
       "      <td>HG03719</td>\n",
       "      <td>ITU1</td>\n",
       "      <td>no_hapmap</td>\n",
       "      <td>35_IN1_HG03719</td>\n",
       "      <td>ITU</td>\n",
       "      <td>HG03719</td>\n",
       "    </tr>\n",
       "  </tbody>\n",
       "</table>\n",
       "</div>"
      ],
      "text/plain": [
       "  cell_line_id sample hapmap_DNA_ID      lab_sample population  \\\n",
       "0      HG04217   ITU5     no_hapmap  39_IN5_HG04217        ITU   \n",
       "1      HG04216   ITU4     no_hapmap  38_IN4_HG04216        ITU   \n",
       "2      HG03732   ITU3     no_hapmap  37_IN3_HG03732        ITU   \n",
       "3      HG03729   ITU2     no_hapmap  36_IN2_HG03729        ITU   \n",
       "4      HG03719   ITU1     no_hapmap  35_IN1_HG03719        ITU   \n",
       "\n",
       "  cell_line_id_1000g  \n",
       "0            HG04217  \n",
       "1            HG04216  \n",
       "2            HG03732  \n",
       "3            HG03729  \n",
       "4            HG03719  "
      ]
     },
     "execution_count": 16,
     "metadata": {},
     "output_type": "execute_result"
    }
   ],
   "source": [
    "df.head()"
   ]
  },
  {
   "cell_type": "markdown",
   "id": "fc43f850-0819-4385-bcfe-fc516b91a4ab",
   "metadata": {},
   "source": [
    "## How does IC sharing differ for the different genotypes?"
   ]
  },
  {
   "cell_type": "code",
   "execution_count": 23,
   "id": "ee02b8f7-989c-45eb-896c-6ea7aa52e4da",
   "metadata": {},
   "outputs": [
    {
     "name": "stdout",
     "output_type": "stream",
     "text": [
      "4549058\n",
      "4549056\n"
     ]
    }
   ],
   "source": [
    "file = proc_cfg(config['lr']['td_personal']['cerb']['ic_summary'],od)\n",
    "df = pd.read_csv(file, sep='\\t')\n",
    "\n",
    "# remove chromosomes that aren't represented in normal hg38 alignmnts\n",
    "hg38_chrs = df.loc[df.genome=='hg38', 'Chromosome'].unique().tolist()\n",
    "print(len(df.index))\n",
    "df = df.loc[df.Chromosome.isin(hg38_chrs)]\n",
    "print(len(df.index))"
   ]
  },
  {
   "cell_type": "code",
   "execution_count": 26,
   "id": "2dd8bec3-2ffb-4cc2-8c84-d82ebb50ff26",
   "metadata": {},
   "outputs": [
    {
     "data": {
      "text/html": [
       "<div>\n",
       "<style scoped>\n",
       "    .dataframe tbody tr th:only-of-type {\n",
       "        vertical-align: middle;\n",
       "    }\n",
       "\n",
       "    .dataframe tbody tr th {\n",
       "        vertical-align: top;\n",
       "    }\n",
       "\n",
       "    .dataframe thead th {\n",
       "        text-align: right;\n",
       "    }\n",
       "</style>\n",
       "<table border=\"1\" class=\"dataframe\">\n",
       "  <thead>\n",
       "    <tr style=\"text-align: right;\">\n",
       "      <th></th>\n",
       "      <th>Unnamed: 0</th>\n",
       "      <th>Chromosome</th>\n",
       "      <th>Strand</th>\n",
       "      <th>Coordinates</th>\n",
       "      <th>Name</th>\n",
       "      <th>genome</th>\n",
       "      <th>cell_line_id</th>\n",
       "      <th>ic_id</th>\n",
       "    </tr>\n",
       "  </thead>\n",
       "  <tbody>\n",
       "    <tr>\n",
       "      <th>0</th>\n",
       "      <td>0</td>\n",
       "      <td>GL000195.1</td>\n",
       "      <td>-</td>\n",
       "      <td>86517-49092-48954-44923</td>\n",
       "      <td>ENSG00000276256_1</td>\n",
       "      <td>hg38</td>\n",
       "      <td>HG04217</td>\n",
       "      <td>GL000195.1_-_86517-49092-48954-44923</td>\n",
       "    </tr>\n",
       "    <tr>\n",
       "      <th>1</th>\n",
       "      <td>1</td>\n",
       "      <td>GL000195.1</td>\n",
       "      <td>-</td>\n",
       "      <td>86517-49119-48954-44923</td>\n",
       "      <td>ENSG00000276256_2</td>\n",
       "      <td>hg38</td>\n",
       "      <td>HG04217</td>\n",
       "      <td>GL000195.1_-_86517-49119-48954-44923</td>\n",
       "    </tr>\n",
       "    <tr>\n",
       "      <th>2</th>\n",
       "      <td>2</td>\n",
       "      <td>GL000195.1</td>\n",
       "      <td>-</td>\n",
       "      <td>86517-74180-74120-49119-48954-44923</td>\n",
       "      <td>ENSG00000303853_1</td>\n",
       "      <td>hg38</td>\n",
       "      <td>HG04217</td>\n",
       "      <td>GL000195.1_-_86517-74180-74120-49119-48954-44923</td>\n",
       "    </tr>\n",
       "    <tr>\n",
       "      <th>3</th>\n",
       "      <td>3</td>\n",
       "      <td>GL000195.1</td>\n",
       "      <td>-</td>\n",
       "      <td>86517-83958</td>\n",
       "      <td>ENSG00000303853_2</td>\n",
       "      <td>hg38</td>\n",
       "      <td>HG04217</td>\n",
       "      <td>GL000195.1_-_86517-83958</td>\n",
       "    </tr>\n",
       "    <tr>\n",
       "      <th>4</th>\n",
       "      <td>4</td>\n",
       "      <td>GL000195.1</td>\n",
       "      <td>-</td>\n",
       "      <td>86517-84116</td>\n",
       "      <td>ENSG00000303853_3</td>\n",
       "      <td>hg38</td>\n",
       "      <td>HG04217</td>\n",
       "      <td>GL000195.1_-_86517-84116</td>\n",
       "    </tr>\n",
       "  </tbody>\n",
       "</table>\n",
       "</div>"
      ],
      "text/plain": [
       "   Unnamed: 0  Chromosome Strand                          Coordinates  \\\n",
       "0           0  GL000195.1      -              86517-49092-48954-44923   \n",
       "1           1  GL000195.1      -              86517-49119-48954-44923   \n",
       "2           2  GL000195.1      -  86517-74180-74120-49119-48954-44923   \n",
       "3           3  GL000195.1      -                          86517-83958   \n",
       "4           4  GL000195.1      -                          86517-84116   \n",
       "\n",
       "                Name genome cell_line_id  \\\n",
       "0  ENSG00000276256_1   hg38      HG04217   \n",
       "1  ENSG00000276256_2   hg38      HG04217   \n",
       "2  ENSG00000303853_1   hg38      HG04217   \n",
       "3  ENSG00000303853_2   hg38      HG04217   \n",
       "4  ENSG00000303853_3   hg38      HG04217   \n",
       "\n",
       "                                              ic_id  \n",
       "0              GL000195.1_-_86517-49092-48954-44923  \n",
       "1              GL000195.1_-_86517-49119-48954-44923  \n",
       "2  GL000195.1_-_86517-74180-74120-49119-48954-44923  \n",
       "3                          GL000195.1_-_86517-83958  \n",
       "4                          GL000195.1_-_86517-84116  "
      ]
     },
     "execution_count": 26,
     "metadata": {},
     "output_type": "execute_result"
    }
   ],
   "source": [
    "df['ic_id'] = df.Chromosome.astype(str)+'_'+\\\n",
    "              df.Strand.astype(str)+'_'+\\\n",
    "              df.Coordinates.astype(str)\n",
    "df.head()"
   ]
  },
  {
   "cell_type": "code",
   "execution_count": 93,
   "id": "da7ac078-ce20-4613-9c56-ad21bdadb2d0",
   "metadata": {},
   "outputs": [],
   "source": [
    "# what percentage of ics by cell line (personal haplotypes) \n",
    "# are found also by the reference genome?\n",
    "big_df = pd.DataFrame()\n",
    "for cl in df.cell_line_id.unique():\n",
    "    temp = df.loc[df.cell_line_id==cl]\n",
    "    temp = temp[['ic_id', 'genome']]\n",
    "    temp['hg38'] = temp['hap1'] = temp['hap2'] = False\n",
    "    temp.loc[temp.genome=='hg38', 'hg38'] = True\n",
    "    temp.loc[temp.genome=='hap1', 'hap1'] = True\n",
    "    temp.loc[temp.genome=='hap2', 'hap2'] = True\n",
    "\n",
    "    temp = temp[['ic_id', 'hg38', 'hap1', 'hap2']].groupby('ic_id').max().reset_index()\n",
    "    \n",
    "    for h in ['hap1', 'hap2']:\n",
    "        haplotypes = ['hg38', h]\n",
    "        temp2 = temp[['ic_id'] + haplotypes]\n",
    "        temp2 = temp2.loc[temp2[haplotypes].sum(axis=1)>=1]\n",
    "        temp2 = temp2.groupby(haplotypes).nunique().reset_index()\n",
    "        temp2.rename({'ic_id':'n_ic'}, axis=1, inplace=True)\n",
    "        temp2['total'] = temp2.n_ic.sum()\n",
    "        temp2['perc'] = (temp2.n_ic/temp2.total)*100\n",
    "        temp2['haplotype'] = h\n",
    "        temp2['cell_line_id'] = cl\n",
    "        temp2.rename({h:'personal_haplotype'}, axis=1, inplace=True)\n",
    "        big_df = pd.concat([big_df, temp2], axis=0)\n",
    "#     # temp['personal'] = temp.hap1|temp.hap2\n",
    "#     temp = temp.groupby(['hg38', 'hap1', 'hap2']).nunique().reset_index()\n",
    "#     temp.rename({'ic_id':'n_ic'}, axis=1, inplace=True)\n",
    "#     temp['total'] = temp['n_ic'].sum()\n",
    "#     temp['perc'] = (temp.n_ic/temp.total)*100\n",
    "    \n",
    "#     # one haplotype at a time\n",
    "#     temp2 = temp[['hg38', 'hap1', 'n_ic']]\n",
    "#     temp2['total'] = temp2['n_ic'].sum()\n",
    "#     temp2 = temp2.groupby(['hg38', 'hap1']).sum().reset_index()\n",
    "#     temp2['haplotype'] = 'hap1'\n",
    "#     temp2.rename({'hap1': 'personal_haplotype'}, axis=1, inplace=True)\n",
    "#     temp2\n",
    "\n",
    "#     # one haplotype at a time\n",
    "#     temp3 = temp[['hg38', 'hap2', 'n_ic']]\n",
    "#     temp3['total'] = temp3['n_ic'].sum()\n",
    "#     temp3 = temp3.groupby(['hg38', 'hap2']).sum().reset_index()\n",
    "#     temp3['haplotype'] = 'hap2'\n",
    "#     temp3.rename({'hap2': 'personal_haplotype'}, axis=1, inplace=True)\n",
    "#     temp3\n",
    "\n",
    "#     temp2 = pd.concat([temp2, temp3], axis=0)\n",
    "#     temp2['perc'] = (temp2['n_ic']/temp2['total'])*100\n",
    "#     temp2\n",
    "    \n",
    "#     temp2['cell_line_id'] = cl\n",
    "#     big_df = pd.concat([temp2, big_df], axis=0)"
   ]
  },
  {
   "cell_type": "code",
   "execution_count": 94,
   "id": "3077cfab-ed0c-4653-9107-ebb306970b9f",
   "metadata": {},
   "outputs": [],
   "source": [
    "for h in ['hap1', 'hap2']:\n",
    "    haplotypes = ['hg38', h]\n",
    "    temp2 = temp[['ic_id'] + haplotypes]\n",
    "    temp2 = temp2.loc[temp2[haplotypes].sum(axis=1)>=1]\n",
    "    temp2 = temp2.groupby(haplotypes).nunique().reset_index()\n",
    "    temp2.rename({'ic_id':'n_ic'}, axis=1, inplace=True)\n",
    "    temp2['total'] = temp2.n_ic.sum()\n",
    "    temp2['perc'] = (temp2.n_ic/temp2.total)*100\n",
    "    break"
   ]
  },
  {
   "cell_type": "code",
   "execution_count": 95,
   "id": "5d19742a-3476-4fea-8cfd-103d6d4aef86",
   "metadata": {},
   "outputs": [
    {
     "data": {
      "text/html": [
       "<div>\n",
       "<style scoped>\n",
       "    .dataframe tbody tr th:only-of-type {\n",
       "        vertical-align: middle;\n",
       "    }\n",
       "\n",
       "    .dataframe tbody tr th {\n",
       "        vertical-align: top;\n",
       "    }\n",
       "\n",
       "    .dataframe thead th {\n",
       "        text-align: right;\n",
       "    }\n",
       "</style>\n",
       "<table border=\"1\" class=\"dataframe\">\n",
       "  <thead>\n",
       "    <tr style=\"text-align: right;\">\n",
       "      <th></th>\n",
       "      <th>hg38</th>\n",
       "      <th>hap1</th>\n",
       "      <th>n_ic</th>\n",
       "      <th>total</th>\n",
       "      <th>perc</th>\n",
       "    </tr>\n",
       "  </thead>\n",
       "  <tbody>\n",
       "    <tr>\n",
       "      <th>0</th>\n",
       "      <td>False</td>\n",
       "      <td>True</td>\n",
       "      <td>2167</td>\n",
       "      <td>55535</td>\n",
       "      <td>3.902044</td>\n",
       "    </tr>\n",
       "    <tr>\n",
       "      <th>1</th>\n",
       "      <td>True</td>\n",
       "      <td>False</td>\n",
       "      <td>210</td>\n",
       "      <td>55535</td>\n",
       "      <td>0.378140</td>\n",
       "    </tr>\n",
       "    <tr>\n",
       "      <th>2</th>\n",
       "      <td>True</td>\n",
       "      <td>True</td>\n",
       "      <td>53158</td>\n",
       "      <td>55535</td>\n",
       "      <td>95.719816</td>\n",
       "    </tr>\n",
       "  </tbody>\n",
       "</table>\n",
       "</div>"
      ],
      "text/plain": [
       "    hg38   hap1   n_ic  total       perc\n",
       "0  False   True   2167  55535   3.902044\n",
       "1   True  False    210  55535   0.378140\n",
       "2   True   True  53158  55535  95.719816"
      ]
     },
     "execution_count": 95,
     "metadata": {},
     "output_type": "execute_result"
    }
   ],
   "source": [
    "temp2.head()"
   ]
  },
  {
   "cell_type": "code",
   "execution_count": 76,
   "id": "f84dccda-3dc3-4df0-9cd7-98cc17be0242",
   "metadata": {},
   "outputs": [],
   "source": [
    "# distribution of F-T vs. F-T (hg38-personal haplotype ics)\n",
    "big_df = big_df.loc[~((big_df.hg38==False)&(big_df.personal_haplotype==False))]\n",
    "big_df['plot_cat'] = 'hg38 unique'\n",
    "big_df.loc[(big_df.hg38==False)&(big_df.personal_haplotype==True), 'plot_cat'] = 'personal haplotype unique'\n",
    "big_df.loc[(big_df.hg38==True)&(big_df.personal_haplotype==True), 'plot_cat'] = 'shared'"
   ]
  },
  {
   "cell_type": "code",
   "execution_count": 77,
   "id": "68abbc2b-3179-46da-a30e-3bba1f199243",
   "metadata": {},
   "outputs": [
    {
     "data": {
      "text/html": [
       "<div>\n",
       "<style scoped>\n",
       "    .dataframe tbody tr th:only-of-type {\n",
       "        vertical-align: middle;\n",
       "    }\n",
       "\n",
       "    .dataframe tbody tr th {\n",
       "        vertical-align: top;\n",
       "    }\n",
       "\n",
       "    .dataframe thead th {\n",
       "        text-align: right;\n",
       "    }\n",
       "</style>\n",
       "<table border=\"1\" class=\"dataframe\">\n",
       "  <thead>\n",
       "    <tr style=\"text-align: right;\">\n",
       "      <th></th>\n",
       "      <th>hg38</th>\n",
       "      <th>personal_haplotype</th>\n",
       "      <th>n_ic</th>\n",
       "      <th>total</th>\n",
       "      <th>haplotype</th>\n",
       "      <th>perc</th>\n",
       "      <th>cell_line_id</th>\n",
       "      <th>plot_cat</th>\n",
       "    </tr>\n",
       "  </thead>\n",
       "  <tbody>\n",
       "    <tr>\n",
       "      <th>1</th>\n",
       "      <td>False</td>\n",
       "      <td>True</td>\n",
       "      <td>1960</td>\n",
       "      <td>91212</td>\n",
       "      <td>hap1</td>\n",
       "      <td>2.148840</td>\n",
       "      <td>NA12273</td>\n",
       "      <td>personal haplotype unique</td>\n",
       "    </tr>\n",
       "    <tr>\n",
       "      <th>2</th>\n",
       "      <td>True</td>\n",
       "      <td>False</td>\n",
       "      <td>190</td>\n",
       "      <td>91212</td>\n",
       "      <td>hap1</td>\n",
       "      <td>0.208306</td>\n",
       "      <td>NA12273</td>\n",
       "      <td>hg38 unique</td>\n",
       "    </tr>\n",
       "    <tr>\n",
       "      <th>3</th>\n",
       "      <td>True</td>\n",
       "      <td>True</td>\n",
       "      <td>43332</td>\n",
       "      <td>91212</td>\n",
       "      <td>hap1</td>\n",
       "      <td>47.506907</td>\n",
       "      <td>NA12273</td>\n",
       "      <td>shared</td>\n",
       "    </tr>\n",
       "    <tr>\n",
       "      <th>1</th>\n",
       "      <td>False</td>\n",
       "      <td>True</td>\n",
       "      <td>1964</td>\n",
       "      <td>91212</td>\n",
       "      <td>hap2</td>\n",
       "      <td>2.153225</td>\n",
       "      <td>NA12273</td>\n",
       "      <td>personal haplotype unique</td>\n",
       "    </tr>\n",
       "    <tr>\n",
       "      <th>2</th>\n",
       "      <td>True</td>\n",
       "      <td>False</td>\n",
       "      <td>190</td>\n",
       "      <td>91212</td>\n",
       "      <td>hap2</td>\n",
       "      <td>0.208306</td>\n",
       "      <td>NA12273</td>\n",
       "      <td>hg38 unique</td>\n",
       "    </tr>\n",
       "  </tbody>\n",
       "</table>\n",
       "</div>"
      ],
      "text/plain": [
       "    hg38  personal_haplotype   n_ic  total haplotype       perc cell_line_id  \\\n",
       "1  False                True   1960  91212      hap1   2.148840      NA12273   \n",
       "2   True               False    190  91212      hap1   0.208306      NA12273   \n",
       "3   True                True  43332  91212      hap1  47.506907      NA12273   \n",
       "1  False                True   1964  91212      hap2   2.153225      NA12273   \n",
       "2   True               False    190  91212      hap2   0.208306      NA12273   \n",
       "\n",
       "                    plot_cat  \n",
       "1  personal haplotype unique  \n",
       "2                hg38 unique  \n",
       "3                     shared  \n",
       "1  personal haplotype unique  \n",
       "2                hg38 unique  "
      ]
     },
     "execution_count": 77,
     "metadata": {},
     "output_type": "execute_result"
    }
   ],
   "source": [
    "big_df.head()"
   ]
  },
  {
   "cell_type": "code",
   "execution_count": 78,
   "id": "fd5f4441-2e27-4031-8125-f273debcb30d",
   "metadata": {},
   "outputs": [
    {
     "data": {
      "text/plain": [
       "<AxesSubplot:xlabel='plot_cat', ylabel='perc'>"
      ]
     },
     "execution_count": 78,
     "metadata": {},
     "output_type": "execute_result"
    },
    {
     "data": {
      "image/png": "[encoded data removed]",
      "text/plain": [
       "<Figure size 360x360 with 1 Axes>"
      ]
     },
     "metadata": {
      "needs_background": "light"
     },
     "output_type": "display_data"
    }
   ],
   "source": [
    "# sns.displot(big_df, x='perc', hue='plot_cat', kind='kde', common_norm=False)\n",
    "# sns.boxplot(big_df, y='perc', hue='plot_cat', kind='kde', common_norm=False)\n",
    "\n",
    "sns.boxplot(x='plot_cat', y='perc', data=big_df, showfliers=False)\n",
    "sns.stripplot(x='plot_cat', y='perc', data=big_df, jitter=True)"
   ]
  },
  {
   "cell_type": "code",
   "execution_count": 73,
   "id": "18789f8f-791f-4474-b4a9-527afb6b801a",
   "metadata": {},
   "outputs": [
    {
     "name": "stdout",
     "output_type": "stream",
     "text": [
      "Median of 95.20212779566577% ICs are shared between each personal haplotype and hg38\n"
     ]
    }
   ],
   "source": [
    "med_shared = big_df.loc[big_df.plot_cat=='shared', 'perc'].median()\n",
    "print(f'Median of {med_shared}% ICs are shared between each personal haplotype and hg38')"
   ]
  },
  {
   "cell_type": "code",
   "execution_count": 70,
   "id": "75b3662b-0b5f-4b4e-9c8d-161b8dd8bfce",
   "metadata": {},
   "outputs": [
    {
     "data": {
      "text/plain": [
       "<AxesSubplot:xlabel='plot_cat', ylabel='perc'>"
      ]
     },
     "execution_count": 70,
     "metadata": {},
     "output_type": "execute_result"
    },
    {
     "data": {
      "image/png": "[encoded data removed]",
      "text/plain": [
       "<Figure size 360x360 with 1 Axes>"
      ]
     },
     "metadata": {
      "needs_background": "light"
     },
     "output_type": "display_data"
    }
   ],
   "source": [
    "init_plot_settings()\n",
    "temp = big_df.loc[big_df.plot_cat.isin(['personal haplotype unique', 'hg38 unique'])]\n",
    "sns.boxplot(x='plot_cat', y='perc', data=temp, showfliers=False)\n",
    "ax =sns.stripplot(x='plot_cat', y='perc', data=temp, jitter=True)\n",
    "ax.set(xlabel='', ylabel='% total ICs')"
   ]
  },
  {
   "cell_type": "markdown",
   "id": "175758ef-5470-4415-8dbe-61db5709c653",
   "metadata": {},
   "source": [
    "## Do we get more NNC (novel splice site) when we look at the personal haploytpes versus the hg38?"
   ]
  },
  {
   "cell_type": "code",
   "execution_count": null,
   "id": "3f32bf56-9ed0-4b59-93cb-e57e94504f43",
   "metadata": {},
   "outputs": [],
   "source": []
  }
 ],
 "metadata": {
  "kernelspec": {
   "display_name": "Python 3",
   "language": "python",
   "name": "python3"
  },
  "language_info": {
   "codemirror_mode": {
    "name": "ipython",
    "version": 3
   },
   "file_extension": ".py",
   "mimetype": "text/x-python",
   "name": "python",
   "nbconvert_exporter": "python",
   "pygments_lexer": "ipython3",
   "version": "3.7.12"
  }
 },
 "nbformat": 4,
 "nbformat_minor": 5
}
