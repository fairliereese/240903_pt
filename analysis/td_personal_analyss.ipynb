{
 "cells": [
  {
   "cell_type": "code",
   "execution_count": 207,
   "id": "cef4ea77-5ae5-4c18-9867-5d12d0edab68",
   "metadata": {},
   "outputs": [],
   "source": [
    "import pandas as pd\n",
    "import numpy as np\n",
    "import scipy.stats as st\n",
    "import seaborn as sns\n",
    "import sys\n",
    "import os\n",
    "import matplotlib.pyplot as plt\n",
    "import swan_vis as swan\n",
    "import yaml\n",
    "from snakemake.io import expand\n",
    "import cerberus\n",
    "import pyranges as pr\n",
    "import upsetplot\n",
    "\n",
    "p = os.path.dirname(os.getcwd())\n",
    "sys.path.append(p)\n",
    "\n",
    "from scripts.utils import *\n",
    "from scripts.vcf_utils import *\n",
    "from scripts.plotting import *"
   ]
  },
  {
   "cell_type": "code",
   "execution_count": 208,
   "id": "9887c238-03c2-4393-8fbf-26f744b41170",
   "metadata": {},
   "outputs": [],
   "source": [
    "config = load_config()\n",
    "od = '../'\n",
    "\n",
    "def proc_cfg(entry, od):\n",
    "    entry = entry.replace('../../', '')\n",
    "    entry = od+entry\n",
    "    return entry"
   ]
  },
  {
   "cell_type": "code",
   "execution_count": 209,
   "id": "8783956d-19ce-4a26-8fb9-439ccb114f59",
   "metadata": {},
   "outputs": [],
   "source": [
    "df = load_meta()\n",
    "df = df.loc[~df['sample'].str.contains('_')]\n",
    "df['lab_sample'] = df['lab_number_sample'].astype(str)+'_'+\\\n",
    "                      df['lab_sampleid'].astype(str)+'_'+\\\n",
    "                      df['cell_line_id'].astype(str)\n",
    "df = df[['cell_line_id', 'sample', 'hapmap_DNA_ID', 'lab_sample', 'population']].drop_duplicates()\n",
    "\n",
    "temp_df = pd.read_csv('../snakemake/transcript_discovery_personal/cell_line_ids.txt', header=None, names=['cell_line_id'])\n",
    "\n",
    "# make a 1000g cell line id col\n",
    "df['cell_line_id_1000g'] = df.cell_line_id\n",
    "\n",
    "inds = df.loc[~df.cell_line_id_1000g.isin(temp_df.cell_line_id.tolist())].index\n",
    "df.loc[inds, 'cell_line_id_1000g'] = df.loc[inds, 'hapmap_DNA_ID']\n",
    "len(df.index)\n",
    "\n",
    "# limit to just those in 1000g\n",
    "df = df.loc[df.cell_line_id_1000g.isin(temp_df.cell_line_id.tolist())]\n",
    "assert len(df.index) == 30\n",
    "\n",
    "# TODO bad sample that hasn't finished on espresso\n",
    "bad_samples = ['NA19328']\n",
    "df = df.loc[~df.cell_line_id_1000g.isin(bad_samples)]\n",
    "\n",
    "hap = ['hap1', 'hap2']\n",
    "\n",
    "meta_df = df.copy(deep=True)"
   ]
  },
  {
   "cell_type": "code",
   "execution_count": 210,
   "id": "a826b885-9b7e-43dc-b0a0-d3b07b60b5fd",
   "metadata": {},
   "outputs": [
    {
     "data": {
      "text/html": [
       "<div>\n",
       "<style scoped>\n",
       "    .dataframe tbody tr th:only-of-type {\n",
       "        vertical-align: middle;\n",
       "    }\n",
       "\n",
       "    .dataframe tbody tr th {\n",
       "        vertical-align: top;\n",
       "    }\n",
       "\n",
       "    .dataframe thead th {\n",
       "        text-align: right;\n",
       "    }\n",
       "</style>\n",
       "<table border=\"1\" class=\"dataframe\">\n",
       "  <thead>\n",
       "    <tr style=\"text-align: right;\">\n",
       "      <th></th>\n",
       "      <th>cell_line_id</th>\n",
       "      <th>sample</th>\n",
       "      <th>hapmap_DNA_ID</th>\n",
       "      <th>lab_sample</th>\n",
       "      <th>population</th>\n",
       "      <th>cell_line_id_1000g</th>\n",
       "    </tr>\n",
       "  </thead>\n",
       "  <tbody>\n",
       "    <tr>\n",
       "      <th>0</th>\n",
       "      <td>HG04217</td>\n",
       "      <td>ITU5</td>\n",
       "      <td>no_hapmap</td>\n",
       "      <td>39_IN5_HG04217</td>\n",
       "      <td>ITU</td>\n",
       "      <td>HG04217</td>\n",
       "    </tr>\n",
       "    <tr>\n",
       "      <th>1</th>\n",
       "      <td>HG04216</td>\n",
       "      <td>ITU4</td>\n",
       "      <td>no_hapmap</td>\n",
       "      <td>38_IN4_HG04216</td>\n",
       "      <td>ITU</td>\n",
       "      <td>HG04216</td>\n",
       "    </tr>\n",
       "    <tr>\n",
       "      <th>2</th>\n",
       "      <td>HG03732</td>\n",
       "      <td>ITU3</td>\n",
       "      <td>no_hapmap</td>\n",
       "      <td>37_IN3_HG03732</td>\n",
       "      <td>ITU</td>\n",
       "      <td>HG03732</td>\n",
       "    </tr>\n",
       "    <tr>\n",
       "      <th>3</th>\n",
       "      <td>HG03729</td>\n",
       "      <td>ITU2</td>\n",
       "      <td>no_hapmap</td>\n",
       "      <td>36_IN2_HG03729</td>\n",
       "      <td>ITU</td>\n",
       "      <td>HG03729</td>\n",
       "    </tr>\n",
       "    <tr>\n",
       "      <th>4</th>\n",
       "      <td>HG03719</td>\n",
       "      <td>ITU1</td>\n",
       "      <td>no_hapmap</td>\n",
       "      <td>35_IN1_HG03719</td>\n",
       "      <td>ITU</td>\n",
       "      <td>HG03719</td>\n",
       "    </tr>\n",
       "  </tbody>\n",
       "</table>\n",
       "</div>"
      ],
      "text/plain": [
       "  cell_line_id sample hapmap_DNA_ID      lab_sample population  \\\n",
       "0      HG04217   ITU5     no_hapmap  39_IN5_HG04217        ITU   \n",
       "1      HG04216   ITU4     no_hapmap  38_IN4_HG04216        ITU   \n",
       "2      HG03732   ITU3     no_hapmap  37_IN3_HG03732        ITU   \n",
       "3      HG03729   ITU2     no_hapmap  36_IN2_HG03729        ITU   \n",
       "4      HG03719   ITU1     no_hapmap  35_IN1_HG03719        ITU   \n",
       "\n",
       "  cell_line_id_1000g  \n",
       "0            HG04217  \n",
       "1            HG04216  \n",
       "2            HG03732  \n",
       "3            HG03729  \n",
       "4            HG03719  "
      ]
     },
     "execution_count": 210,
     "metadata": {},
     "output_type": "execute_result"
    }
   ],
   "source": [
    "df.head()"
   ]
  },
  {
   "cell_type": "markdown",
   "id": "fc43f850-0819-4385-bcfe-fc516b91a4ab",
   "metadata": {},
   "source": [
    "## How does IC sharing differ for the different genotypes?"
   ]
  },
  {
   "cell_type": "code",
   "execution_count": 211,
   "id": "ee02b8f7-989c-45eb-896c-6ea7aa52e4da",
   "metadata": {},
   "outputs": [
    {
     "name": "stdout",
     "output_type": "stream",
     "text": [
      "4549058\n",
      "4549056\n"
     ]
    }
   ],
   "source": [
    "file = proc_cfg(config['lr']['td_personal']['cerb']['ic_summary'],od)\n",
    "df = pd.read_csv(file, sep='\\t')\n",
    "\n",
    "# remove chromosomes that aren't represented in normal hg38 alignmnts\n",
    "hg38_chrs = df.loc[df.genome=='hg38', 'Chromosome'].unique().tolist()\n",
    "print(len(df.index))\n",
    "df = df.loc[df.Chromosome.isin(hg38_chrs)]\n",
    "print(len(df.index))"
   ]
  },
  {
   "cell_type": "code",
   "execution_count": 213,
   "id": "cf593dc6-9a39-4e8d-bcae-e20bb1495698",
   "metadata": {},
   "outputs": [
    {
     "name": "stdout",
     "output_type": "stream",
     "text": [
      "4549056\n",
      "4269257\n"
     ]
    }
   ],
   "source": [
    "# remove unspliced\n",
    "print(len(df.index))\n",
    "df = df.loc[df.Coordinates != '-']\n",
    "print(len(df.index))"
   ]
  },
  {
   "cell_type": "code",
   "execution_count": 214,
   "id": "2dd8bec3-2ffb-4cc2-8c84-d82ebb50ff26",
   "metadata": {},
   "outputs": [
    {
     "data": {
      "text/html": [
       "<div>\n",
       "<style scoped>\n",
       "    .dataframe tbody tr th:only-of-type {\n",
       "        vertical-align: middle;\n",
       "    }\n",
       "\n",
       "    .dataframe tbody tr th {\n",
       "        vertical-align: top;\n",
       "    }\n",
       "\n",
       "    .dataframe thead th {\n",
       "        text-align: right;\n",
       "    }\n",
       "</style>\n",
       "<table border=\"1\" class=\"dataframe\">\n",
       "  <thead>\n",
       "    <tr style=\"text-align: right;\">\n",
       "      <th></th>\n",
       "      <th>Unnamed: 0</th>\n",
       "      <th>Chromosome</th>\n",
       "      <th>Strand</th>\n",
       "      <th>Coordinates</th>\n",
       "      <th>Name</th>\n",
       "      <th>genome</th>\n",
       "      <th>cell_line_id</th>\n",
       "      <th>ic_id</th>\n",
       "    </tr>\n",
       "  </thead>\n",
       "  <tbody>\n",
       "    <tr>\n",
       "      <th>0</th>\n",
       "      <td>0</td>\n",
       "      <td>GL000195.1</td>\n",
       "      <td>-</td>\n",
       "      <td>86517-49092-48954-44923</td>\n",
       "      <td>ENSG00000276256_1</td>\n",
       "      <td>hg38</td>\n",
       "      <td>HG04217</td>\n",
       "      <td>GL000195.1_-_86517-49092-48954-44923</td>\n",
       "    </tr>\n",
       "    <tr>\n",
       "      <th>1</th>\n",
       "      <td>1</td>\n",
       "      <td>GL000195.1</td>\n",
       "      <td>-</td>\n",
       "      <td>86517-49119-48954-44923</td>\n",
       "      <td>ENSG00000276256_2</td>\n",
       "      <td>hg38</td>\n",
       "      <td>HG04217</td>\n",
       "      <td>GL000195.1_-_86517-49119-48954-44923</td>\n",
       "    </tr>\n",
       "    <tr>\n",
       "      <th>2</th>\n",
       "      <td>2</td>\n",
       "      <td>GL000195.1</td>\n",
       "      <td>-</td>\n",
       "      <td>86517-74180-74120-49119-48954-44923</td>\n",
       "      <td>ENSG00000303853_1</td>\n",
       "      <td>hg38</td>\n",
       "      <td>HG04217</td>\n",
       "      <td>GL000195.1_-_86517-74180-74120-49119-48954-44923</td>\n",
       "    </tr>\n",
       "    <tr>\n",
       "      <th>3</th>\n",
       "      <td>3</td>\n",
       "      <td>GL000195.1</td>\n",
       "      <td>-</td>\n",
       "      <td>86517-83958</td>\n",
       "      <td>ENSG00000303853_2</td>\n",
       "      <td>hg38</td>\n",
       "      <td>HG04217</td>\n",
       "      <td>GL000195.1_-_86517-83958</td>\n",
       "    </tr>\n",
       "    <tr>\n",
       "      <th>4</th>\n",
       "      <td>4</td>\n",
       "      <td>GL000195.1</td>\n",
       "      <td>-</td>\n",
       "      <td>86517-84116</td>\n",
       "      <td>ENSG00000303853_3</td>\n",
       "      <td>hg38</td>\n",
       "      <td>HG04217</td>\n",
       "      <td>GL000195.1_-_86517-84116</td>\n",
       "    </tr>\n",
       "  </tbody>\n",
       "</table>\n",
       "</div>"
      ],
      "text/plain": [
       "   Unnamed: 0  Chromosome Strand                          Coordinates  \\\n",
       "0           0  GL000195.1      -              86517-49092-48954-44923   \n",
       "1           1  GL000195.1      -              86517-49119-48954-44923   \n",
       "2           2  GL000195.1      -  86517-74180-74120-49119-48954-44923   \n",
       "3           3  GL000195.1      -                          86517-83958   \n",
       "4           4  GL000195.1      -                          86517-84116   \n",
       "\n",
       "                Name genome cell_line_id  \\\n",
       "0  ENSG00000276256_1   hg38      HG04217   \n",
       "1  ENSG00000276256_2   hg38      HG04217   \n",
       "2  ENSG00000303853_1   hg38      HG04217   \n",
       "3  ENSG00000303853_2   hg38      HG04217   \n",
       "4  ENSG00000303853_3   hg38      HG04217   \n",
       "\n",
       "                                              ic_id  \n",
       "0              GL000195.1_-_86517-49092-48954-44923  \n",
       "1              GL000195.1_-_86517-49119-48954-44923  \n",
       "2  GL000195.1_-_86517-74180-74120-49119-48954-44923  \n",
       "3                          GL000195.1_-_86517-83958  \n",
       "4                          GL000195.1_-_86517-84116  "
      ]
     },
     "execution_count": 214,
     "metadata": {},
     "output_type": "execute_result"
    }
   ],
   "source": [
    "df['ic_id'] = df.Chromosome.astype(str)+'_'+\\\n",
    "              df.Strand.astype(str)+'_'+\\\n",
    "              df.Coordinates.astype(str)\n",
    "df.head()"
   ]
  },
  {
   "cell_type": "code",
   "execution_count": 215,
   "id": "da7ac078-ce20-4613-9c56-ad21bdadb2d0",
   "metadata": {},
   "outputs": [],
   "source": [
    "# what percentage of ics by cell line (personal haplotypes) \n",
    "# are found also by the reference genome?\n",
    "big_df = pd.DataFrame()\n",
    "for cl in df.cell_line_id.unique():\n",
    "    temp = df.loc[df.cell_line_id==cl]\n",
    "    temp = temp[['ic_id', 'genome']]\n",
    "    temp['hg38'] = temp['hap1'] = temp['hap2'] = False\n",
    "    temp.loc[temp.genome=='hg38', 'hg38'] = True\n",
    "    temp.loc[temp.genome=='hap1', 'hap1'] = True\n",
    "    temp.loc[temp.genome=='hap2', 'hap2'] = True\n",
    "\n",
    "    temp = temp[['ic_id', 'hg38', 'hap1', 'hap2']].groupby('ic_id').max().reset_index()\n",
    "    \n",
    "    for h in ['hap1', 'hap2']:\n",
    "        haplotypes = ['hg38', h]\n",
    "        temp2 = temp[['ic_id'] + haplotypes]\n",
    "        temp2 = temp2.loc[temp2[haplotypes].sum(axis=1)>=1]\n",
    "        temp2 = temp2.groupby(haplotypes).nunique().reset_index()\n",
    "        temp2.rename({'ic_id':'n_ic'}, axis=1, inplace=True)\n",
    "        temp2['total'] = temp2.n_ic.sum()\n",
    "        temp2['perc'] = (temp2.n_ic/temp2.total)*100\n",
    "        temp2['haplotype'] = h\n",
    "        temp2['cell_line_id'] = cl\n",
    "        temp2.rename({h:'personal_haplotype'}, axis=1, inplace=True)\n",
    "        big_df = pd.concat([big_df, temp2], axis=0)\n",
    "#     # temp['personal'] = temp.hap1|temp.hap2\n",
    "#     temp = temp.groupby(['hg38', 'hap1', 'hap2']).nunique().reset_index()\n",
    "#     temp.rename({'ic_id':'n_ic'}, axis=1, inplace=True)\n",
    "#     temp['total'] = temp['n_ic'].sum()\n",
    "#     temp['perc'] = (temp.n_ic/temp.total)*100\n",
    "    \n",
    "#     # one haplotype at a time\n",
    "#     temp2 = temp[['hg38', 'hap1', 'n_ic']]\n",
    "#     temp2['total'] = temp2['n_ic'].sum()\n",
    "#     temp2 = temp2.groupby(['hg38', 'hap1']).sum().reset_index()\n",
    "#     temp2['haplotype'] = 'hap1'\n",
    "#     temp2.rename({'hap1': 'personal_haplotype'}, axis=1, inplace=True)\n",
    "#     temp2\n",
    "\n",
    "#     # one haplotype at a time\n",
    "#     temp3 = temp[['hg38', 'hap2', 'n_ic']]\n",
    "#     temp3['total'] = temp3['n_ic'].sum()\n",
    "#     temp3 = temp3.groupby(['hg38', 'hap2']).sum().reset_index()\n",
    "#     temp3['haplotype'] = 'hap2'\n",
    "#     temp3.rename({'hap2': 'personal_haplotype'}, axis=1, inplace=True)\n",
    "#     temp3\n",
    "\n",
    "#     temp2 = pd.concat([temp2, temp3], axis=0)\n",
    "#     temp2['perc'] = (temp2['n_ic']/temp2['total'])*100\n",
    "#     temp2\n",
    "    \n",
    "#     temp2['cell_line_id'] = cl\n",
    "#     big_df = pd.concat([temp2, big_df], axis=0)"
   ]
  },
  {
   "cell_type": "code",
   "execution_count": 216,
   "id": "3077cfab-ed0c-4653-9107-ebb306970b9f",
   "metadata": {},
   "outputs": [
    {
     "data": {
      "text/html": [
       "<div>\n",
       "<style scoped>\n",
       "    .dataframe tbody tr th:only-of-type {\n",
       "        vertical-align: middle;\n",
       "    }\n",
       "\n",
       "    .dataframe tbody tr th {\n",
       "        vertical-align: top;\n",
       "    }\n",
       "\n",
       "    .dataframe thead th {\n",
       "        text-align: right;\n",
       "    }\n",
       "</style>\n",
       "<table border=\"1\" class=\"dataframe\">\n",
       "  <thead>\n",
       "    <tr style=\"text-align: right;\">\n",
       "      <th></th>\n",
       "      <th>hg38</th>\n",
       "      <th>personal_haplotype</th>\n",
       "      <th>n_ic</th>\n",
       "      <th>total</th>\n",
       "      <th>perc</th>\n",
       "      <th>haplotype</th>\n",
       "      <th>cell_line_id</th>\n",
       "    </tr>\n",
       "  </thead>\n",
       "  <tbody>\n",
       "    <tr>\n",
       "      <th>0</th>\n",
       "      <td>False</td>\n",
       "      <td>True</td>\n",
       "      <td>2165</td>\n",
       "      <td>55486</td>\n",
       "      <td>3.901885</td>\n",
       "      <td>hap1</td>\n",
       "      <td>HG04217</td>\n",
       "    </tr>\n",
       "    <tr>\n",
       "      <th>1</th>\n",
       "      <td>True</td>\n",
       "      <td>False</td>\n",
       "      <td>210</td>\n",
       "      <td>55486</td>\n",
       "      <td>0.378474</td>\n",
       "      <td>hap1</td>\n",
       "      <td>HG04217</td>\n",
       "    </tr>\n",
       "    <tr>\n",
       "      <th>2</th>\n",
       "      <td>True</td>\n",
       "      <td>True</td>\n",
       "      <td>53111</td>\n",
       "      <td>55486</td>\n",
       "      <td>95.719641</td>\n",
       "      <td>hap1</td>\n",
       "      <td>HG04217</td>\n",
       "    </tr>\n",
       "    <tr>\n",
       "      <th>0</th>\n",
       "      <td>False</td>\n",
       "      <td>True</td>\n",
       "      <td>2181</td>\n",
       "      <td>55502</td>\n",
       "      <td>3.929588</td>\n",
       "      <td>hap2</td>\n",
       "      <td>HG04217</td>\n",
       "    </tr>\n",
       "    <tr>\n",
       "      <th>1</th>\n",
       "      <td>True</td>\n",
       "      <td>False</td>\n",
       "      <td>196</td>\n",
       "      <td>55502</td>\n",
       "      <td>0.353140</td>\n",
       "      <td>hap2</td>\n",
       "      <td>HG04217</td>\n",
       "    </tr>\n",
       "  </tbody>\n",
       "</table>\n",
       "</div>"
      ],
      "text/plain": [
       "    hg38  personal_haplotype   n_ic  total       perc haplotype cell_line_id\n",
       "0  False                True   2165  55486   3.901885      hap1      HG04217\n",
       "1   True               False    210  55486   0.378474      hap1      HG04217\n",
       "2   True                True  53111  55486  95.719641      hap1      HG04217\n",
       "0  False                True   2181  55502   3.929588      hap2      HG04217\n",
       "1   True               False    196  55502   0.353140      hap2      HG04217"
      ]
     },
     "execution_count": 216,
     "metadata": {},
     "output_type": "execute_result"
    }
   ],
   "source": [
    "big_df.head()"
   ]
  },
  {
   "cell_type": "code",
   "execution_count": 217,
   "id": "f84dccda-3dc3-4df0-9cd7-98cc17be0242",
   "metadata": {},
   "outputs": [],
   "source": [
    "# distribution of F-T vs. F-T (hg38-personal haplotype ics)\n",
    "big_df = big_df.loc[~((big_df.hg38==False)&(big_df.personal_haplotype==False))]\n",
    "big_df['plot_cat'] = 'hg38 unique'\n",
    "big_df.loc[(big_df.hg38==False)&(big_df.personal_haplotype==True), 'plot_cat'] = 'personal hap. unique'\n",
    "big_df.loc[(big_df.hg38==True)&(big_df.personal_haplotype==True), 'plot_cat'] = 'shared'"
   ]
  },
  {
   "cell_type": "code",
   "execution_count": 218,
   "id": "68abbc2b-3179-46da-a30e-3bba1f199243",
   "metadata": {},
   "outputs": [
    {
     "data": {
      "text/html": [
       "<div>\n",
       "<style scoped>\n",
       "    .dataframe tbody tr th:only-of-type {\n",
       "        vertical-align: middle;\n",
       "    }\n",
       "\n",
       "    .dataframe tbody tr th {\n",
       "        vertical-align: top;\n",
       "    }\n",
       "\n",
       "    .dataframe thead th {\n",
       "        text-align: right;\n",
       "    }\n",
       "</style>\n",
       "<table border=\"1\" class=\"dataframe\">\n",
       "  <thead>\n",
       "    <tr style=\"text-align: right;\">\n",
       "      <th></th>\n",
       "      <th>hg38</th>\n",
       "      <th>personal_haplotype</th>\n",
       "      <th>n_ic</th>\n",
       "      <th>total</th>\n",
       "      <th>perc</th>\n",
       "      <th>haplotype</th>\n",
       "      <th>cell_line_id</th>\n",
       "      <th>plot_cat</th>\n",
       "    </tr>\n",
       "  </thead>\n",
       "  <tbody>\n",
       "    <tr>\n",
       "      <th>0</th>\n",
       "      <td>False</td>\n",
       "      <td>True</td>\n",
       "      <td>2165</td>\n",
       "      <td>55486</td>\n",
       "      <td>3.901885</td>\n",
       "      <td>hap1</td>\n",
       "      <td>HG04217</td>\n",
       "      <td>personal hap. unique</td>\n",
       "    </tr>\n",
       "    <tr>\n",
       "      <th>1</th>\n",
       "      <td>True</td>\n",
       "      <td>False</td>\n",
       "      <td>210</td>\n",
       "      <td>55486</td>\n",
       "      <td>0.378474</td>\n",
       "      <td>hap1</td>\n",
       "      <td>HG04217</td>\n",
       "      <td>hg38 unique</td>\n",
       "    </tr>\n",
       "    <tr>\n",
       "      <th>2</th>\n",
       "      <td>True</td>\n",
       "      <td>True</td>\n",
       "      <td>53111</td>\n",
       "      <td>55486</td>\n",
       "      <td>95.719641</td>\n",
       "      <td>hap1</td>\n",
       "      <td>HG04217</td>\n",
       "      <td>shared</td>\n",
       "    </tr>\n",
       "    <tr>\n",
       "      <th>0</th>\n",
       "      <td>False</td>\n",
       "      <td>True</td>\n",
       "      <td>2181</td>\n",
       "      <td>55502</td>\n",
       "      <td>3.929588</td>\n",
       "      <td>hap2</td>\n",
       "      <td>HG04217</td>\n",
       "      <td>personal hap. unique</td>\n",
       "    </tr>\n",
       "    <tr>\n",
       "      <th>1</th>\n",
       "      <td>True</td>\n",
       "      <td>False</td>\n",
       "      <td>196</td>\n",
       "      <td>55502</td>\n",
       "      <td>0.353140</td>\n",
       "      <td>hap2</td>\n",
       "      <td>HG04217</td>\n",
       "      <td>hg38 unique</td>\n",
       "    </tr>\n",
       "  </tbody>\n",
       "</table>\n",
       "</div>"
      ],
      "text/plain": [
       "    hg38  personal_haplotype   n_ic  total       perc haplotype cell_line_id  \\\n",
       "0  False                True   2165  55486   3.901885      hap1      HG04217   \n",
       "1   True               False    210  55486   0.378474      hap1      HG04217   \n",
       "2   True                True  53111  55486  95.719641      hap1      HG04217   \n",
       "0  False                True   2181  55502   3.929588      hap2      HG04217   \n",
       "1   True               False    196  55502   0.353140      hap2      HG04217   \n",
       "\n",
       "               plot_cat  \n",
       "0  personal hap. unique  \n",
       "1           hg38 unique  \n",
       "2                shared  \n",
       "0  personal hap. unique  \n",
       "1           hg38 unique  "
      ]
     },
     "execution_count": 218,
     "metadata": {},
     "output_type": "execute_result"
    }
   ],
   "source": [
    "big_df.head()"
   ]
  },
  {
   "cell_type": "code",
   "execution_count": 219,
   "id": "fd5f4441-2e27-4031-8125-f273debcb30d",
   "metadata": {},
   "outputs": [
    {
     "data": {
      "text/plain": [
       "<AxesSubplot:xlabel='plot_cat', ylabel='perc'>"
      ]
     },
     "execution_count": 219,
     "metadata": {},
     "output_type": "execute_result"
    },
    {
     "data": {
      "image/png": "[encoded data removed]",
      "text/plain": [
       "<Figure size 360x360 with 1 Axes>"
      ]
     },
     "metadata": {
      "needs_background": "light"
     },
     "output_type": "display_data"
    }
   ],
   "source": [
    "# sns.displot(big_df, x='perc', hue='plot_cat', kind='kde', common_norm=False)\n",
    "# sns.boxplot(big_df, y='perc', hue='plot_cat', kind='kde', common_norm=False)\n",
    "\n",
    "sns.boxplot(x='plot_cat', y='perc', data=big_df, showfliers=False)\n",
    "sns.stripplot(x='plot_cat', y='perc', data=big_df, jitter=True)"
   ]
  },
  {
   "cell_type": "code",
   "execution_count": 220,
   "id": "18789f8f-791f-4474-b4a9-527afb6b801a",
   "metadata": {},
   "outputs": [
    {
     "name": "stdout",
     "output_type": "stream",
     "text": [
      "Median of 95.6528713520484% ICs (union of each hg38+personal hap. pair) are shared between each personal haplotype and hg38\n"
     ]
    }
   ],
   "source": [
    "med_shared = big_df.loc[big_df.plot_cat=='shared', 'perc'].median()\n",
    "print(f'Median of {med_shared}% ICs (union of each hg38+personal hap. pair) are shared between each personal haplotype and hg38')"
   ]
  },
  {
   "cell_type": "code",
   "execution_count": 221,
   "id": "75b3662b-0b5f-4b4e-9c8d-161b8dd8bfce",
   "metadata": {},
   "outputs": [
    {
     "data": {
      "image/png": "[encoded data removed]",
      "text/plain": [
       "<Figure size 360x360 with 1 Axes>"
      ]
     },
     "metadata": {
      "needs_background": "light"
     },
     "output_type": "display_data"
    }
   ],
   "source": [
    "init_plot_settings()\n",
    "temp = big_df.loc[big_df.plot_cat.isin(['personal hap. unique', 'hg38 unique'])]\n",
    "sns.boxplot(x='plot_cat', y='perc', data=temp, showfliers=False, palette='Set2')\n",
    "ax =sns.stripplot(x='plot_cat', y='perc', data=temp, jitter=True, color='k')\n",
    "ax.set(xlabel='', ylabel='% union ICs')\n",
    "ax.set_xticklabels(ax.get_xticklabels(),rotation=90)\n",
    "ax.spines['right'].set_visible(False)\n",
    "ax.spines['top'].set_visible(False)"
   ]
  },
  {
   "cell_type": "code",
   "execution_count": 222,
   "id": "036bf698-494f-4717-9594-368a0ecd80ae",
   "metadata": {},
   "outputs": [
    {
     "name": "stdout",
     "output_type": "stream",
     "text": [
      "Wilcoxon rank-sum test statistic: 9.287432920695053\n",
      "Wilcoxon rank-sum test pval: 7.902712076699272e-21\n"
     ]
    }
   ],
   "source": [
    "x = temp.loc[temp.plot_cat == 'personal hap. unique', 'perc'].tolist() # hypothesis is that this is greater\n",
    "y = temp.loc[temp.plot_cat == 'hg38 unique', 'perc'].tolist()\n",
    "\n",
    "stat, pval = st.ranksums(x, y, alternative='greater')\n",
    "\n",
    "print(f'Wilcoxon rank-sum test statistic: {stat}')\n",
    "print(f'Wilcoxon rank-sum test pval: {pval}')"
   ]
  },
  {
   "cell_type": "code",
   "execution_count": 223,
   "id": "b21e581c-cbd0-400d-9303-5ab33e810e4a",
   "metadata": {},
   "outputs": [
    {
     "data": {
      "text/plain": [
       "174"
      ]
     },
     "execution_count": 223,
     "metadata": {},
     "output_type": "execute_result"
    }
   ],
   "source": [
    "len(big_df.index)"
   ]
  },
  {
   "cell_type": "markdown",
   "id": "6d0f53aa-e080-48ed-a514-7bec2fee660c",
   "metadata": {},
   "source": [
    "## How many ICs overall when we use personal haplotypes versus hg38?"
   ]
  },
  {
   "cell_type": "code",
   "execution_count": 224,
   "id": "e82429bb-1b94-4300-b00c-65d16b88d818",
   "metadata": {},
   "outputs": [
    {
     "name": "stdout",
     "output_type": "stream",
     "text": [
      "4549058\n",
      "4549056\n",
      "4549056\n",
      "4269257\n"
     ]
    }
   ],
   "source": [
    "file = proc_cfg(config['lr']['td_personal']['cerb']['ic_summary'],od)\n",
    "df = pd.read_csv(file, sep='\\t')\n",
    "\n",
    "# remove chromosomes that aren't represented in normal hg38 alignmnts\n",
    "hg38_chrs = df.loc[df.genome=='hg38', 'Chromosome'].unique().tolist()\n",
    "print(len(df.index))\n",
    "df = df.loc[df.Chromosome.isin(hg38_chrs)]\n",
    "print(len(df.index))\n",
    "\n",
    "# remove unspliced\n",
    "print(len(df.index))\n",
    "df = df.loc[df.Coordinates != '-']\n",
    "print(len(df.index))\n",
    "\n",
    "df['ic_id'] = df.Chromosome.astype(str)+'_'+\\\n",
    "              df.Strand.astype(str)+'_'+\\\n",
    "              df.Coordinates.astype(str)\n",
    "\n",
    "df = df[['genome', 'ic_id', 'cell_line_id']].groupby(['genome', 'cell_line_id']).nunique().reset_index()\n",
    "df.rename({'ic_id':'n_ic'}, axis=1, inplace=True)"
   ]
  },
  {
   "cell_type": "code",
   "execution_count": 225,
   "id": "631c1beb-73e0-47f2-9d3a-c5cf683cb3a4",
   "metadata": {},
   "outputs": [
    {
     "data": {
      "text/html": [
       "<div>\n",
       "<style scoped>\n",
       "    .dataframe tbody tr th:only-of-type {\n",
       "        vertical-align: middle;\n",
       "    }\n",
       "\n",
       "    .dataframe tbody tr th {\n",
       "        vertical-align: top;\n",
       "    }\n",
       "\n",
       "    .dataframe thead th {\n",
       "        text-align: right;\n",
       "    }\n",
       "</style>\n",
       "<table border=\"1\" class=\"dataframe\">\n",
       "  <thead>\n",
       "    <tr style=\"text-align: right;\">\n",
       "      <th></th>\n",
       "      <th>genome</th>\n",
       "      <th>cell_line_id</th>\n",
       "      <th>n_ic</th>\n",
       "    </tr>\n",
       "  </thead>\n",
       "  <tbody>\n",
       "    <tr>\n",
       "      <th>0</th>\n",
       "      <td>hap1</td>\n",
       "      <td>HG00621</td>\n",
       "      <td>64178</td>\n",
       "    </tr>\n",
       "    <tr>\n",
       "      <th>29</th>\n",
       "      <td>hap2</td>\n",
       "      <td>HG00621</td>\n",
       "      <td>64120</td>\n",
       "    </tr>\n",
       "    <tr>\n",
       "      <th>58</th>\n",
       "      <td>hg38</td>\n",
       "      <td>HG00621</td>\n",
       "      <td>62241</td>\n",
       "    </tr>\n",
       "  </tbody>\n",
       "</table>\n",
       "</div>"
      ],
      "text/plain": [
       "   genome cell_line_id   n_ic\n",
       "0    hap1      HG00621  64178\n",
       "29   hap2      HG00621  64120\n",
       "58   hg38      HG00621  62241"
      ]
     },
     "execution_count": 225,
     "metadata": {},
     "output_type": "execute_result"
    }
   ],
   "source": [
    "df.loc[df.cell_line_id=='HG00621']"
   ]
  },
  {
   "cell_type": "code",
   "execution_count": 226,
   "id": "addd67c4-2c0d-40d4-823b-b96ba9af97e9",
   "metadata": {},
   "outputs": [
    {
     "data": {
      "image/png": "[encoded data removed]",
      "text/plain": [
       "<Figure size 360x360 with 1 Axes>"
      ]
     },
     "metadata": {
      "needs_background": "light"
     },
     "output_type": "display_data"
    }
   ],
   "source": [
    "init_plot_settings()\n",
    "sns.boxplot(x='genome', y='n_ic', data=df, showfliers=False)\n",
    "ax =sns.stripplot(x='genome', y='n_ic', data=df, jitter=True, color='k')\n",
    "ax.set(xlabel='', ylabel='# ICs')\n",
    "# ax.set_xticklabels(ax.get_xticklabels(),rotation=90)\n",
    "ax.spines['right'].set_visible(False)\n",
    "ax.spines['top'].set_visible(False)"
   ]
  },
  {
   "cell_type": "code",
   "execution_count": 227,
   "id": "ac923528-2147-4fb5-baed-72ba5bae8c49",
   "metadata": {},
   "outputs": [
    {
     "data": {
      "text/html": [
       "<div>\n",
       "<style scoped>\n",
       "    .dataframe tbody tr th:only-of-type {\n",
       "        vertical-align: middle;\n",
       "    }\n",
       "\n",
       "    .dataframe tbody tr th {\n",
       "        vertical-align: top;\n",
       "    }\n",
       "\n",
       "    .dataframe thead th {\n",
       "        text-align: right;\n",
       "    }\n",
       "</style>\n",
       "<table border=\"1\" class=\"dataframe\">\n",
       "  <thead>\n",
       "    <tr style=\"text-align: right;\">\n",
       "      <th></th>\n",
       "      <th>n_ic</th>\n",
       "    </tr>\n",
       "    <tr>\n",
       "      <th>genome</th>\n",
       "      <th></th>\n",
       "    </tr>\n",
       "  </thead>\n",
       "  <tbody>\n",
       "    <tr>\n",
       "      <th>hap1</th>\n",
       "      <td>50099.0</td>\n",
       "    </tr>\n",
       "    <tr>\n",
       "      <th>hap2</th>\n",
       "      <td>50119.0</td>\n",
       "    </tr>\n",
       "    <tr>\n",
       "      <th>hg38</th>\n",
       "      <td>48367.0</td>\n",
       "    </tr>\n",
       "  </tbody>\n",
       "</table>\n",
       "</div>"
      ],
      "text/plain": [
       "           n_ic\n",
       "genome         \n",
       "hap1    50099.0\n",
       "hap2    50119.0\n",
       "hg38    48367.0"
      ]
     },
     "execution_count": 227,
     "metadata": {},
     "output_type": "execute_result"
    }
   ],
   "source": [
    "df[['genome', 'n_ic']].groupby('genome').median()"
   ]
  },
  {
   "cell_type": "code",
   "execution_count": 228,
   "id": "e7cf0fa4-3da7-4609-b5d7-a3e4bab38f09",
   "metadata": {},
   "outputs": [
    {
     "name": "stdout",
     "output_type": "stream",
     "text": [
      "\n",
      "hap1\n",
      "[64178, 52594, 44180, 51650, 49738]\n",
      "Wilcoxon rank-sum test statistic: 1.0808151506109642\n",
      "Wilcoxon rank-sum test pval: 0.13988967384108586\n",
      "\n",
      "hap2\n",
      "[64120, 52592, 44184, 51606, 49769]\n",
      "Wilcoxon rank-sum test statistic: 1.0808151506109642\n",
      "Wilcoxon rank-sum test pval: 0.13988967384108586\n"
     ]
    }
   ],
   "source": [
    "for h in ['hap1', 'hap2']:\n",
    "    x = df.loc[df.genome == h, 'n_ic'].tolist() # hypothesis is that this is greater\n",
    "    y = df.loc[df.genome == 'hg38', 'n_ic'].tolist()\n",
    "\n",
    "    stat, pval = st.ranksums(x, y, alternative='greater')\n",
    "    print()\n",
    "    print(h)\n",
    "    print(x[:5])\n",
    "    \n",
    "    print(f'Wilcoxon rank-sum test statistic: {stat}')\n",
    "    print(f'Wilcoxon rank-sum test pval: {pval}')"
   ]
  },
  {
   "cell_type": "markdown",
   "id": "b5d4d82d-e0eb-4898-87ad-094c59d22a0f",
   "metadata": {},
   "source": [
    "## How many ICs overall when we use personal haplotypes versus hg38? Are the differences more prominent based on different populations?"
   ]
  },
  {
   "cell_type": "code",
   "execution_count": 229,
   "id": "ec260533-a365-4f46-9748-e318b2ce3390",
   "metadata": {},
   "outputs": [
    {
     "data": {
      "text/html": [
       "<div>\n",
       "<style scoped>\n",
       "    .dataframe tbody tr th:only-of-type {\n",
       "        vertical-align: middle;\n",
       "    }\n",
       "\n",
       "    .dataframe tbody tr th {\n",
       "        vertical-align: top;\n",
       "    }\n",
       "\n",
       "    .dataframe thead th {\n",
       "        text-align: right;\n",
       "    }\n",
       "</style>\n",
       "<table border=\"1\" class=\"dataframe\">\n",
       "  <thead>\n",
       "    <tr style=\"text-align: right;\">\n",
       "      <th></th>\n",
       "      <th>genome</th>\n",
       "      <th>cell_line_id</th>\n",
       "      <th>n_ic</th>\n",
       "      <th>cell_line_id_1000g</th>\n",
       "      <th>population</th>\n",
       "    </tr>\n",
       "  </thead>\n",
       "  <tbody>\n",
       "    <tr>\n",
       "      <th>0</th>\n",
       "      <td>hap1</td>\n",
       "      <td>HG00621</td>\n",
       "      <td>64178</td>\n",
       "      <td>HG00621</td>\n",
       "      <td>HAC</td>\n",
       "    </tr>\n",
       "    <tr>\n",
       "      <th>1</th>\n",
       "      <td>hap1</td>\n",
       "      <td>HG01567</td>\n",
       "      <td>52594</td>\n",
       "      <td>HG01567</td>\n",
       "      <td>PEL</td>\n",
       "    </tr>\n",
       "    <tr>\n",
       "      <th>2</th>\n",
       "      <td>hap1</td>\n",
       "      <td>HG01928</td>\n",
       "      <td>44180</td>\n",
       "      <td>HG01928</td>\n",
       "      <td>PEL</td>\n",
       "    </tr>\n",
       "    <tr>\n",
       "      <th>3</th>\n",
       "      <td>hap1</td>\n",
       "      <td>HG01952</td>\n",
       "      <td>51650</td>\n",
       "      <td>HG01952</td>\n",
       "      <td>PEL</td>\n",
       "    </tr>\n",
       "    <tr>\n",
       "      <th>4</th>\n",
       "      <td>hap1</td>\n",
       "      <td>HG01975</td>\n",
       "      <td>49738</td>\n",
       "      <td>HG01975</td>\n",
       "      <td>PEL</td>\n",
       "    </tr>\n",
       "  </tbody>\n",
       "</table>\n",
       "</div>"
      ],
      "text/plain": [
       "  genome cell_line_id   n_ic cell_line_id_1000g population\n",
       "0   hap1      HG00621  64178            HG00621        HAC\n",
       "1   hap1      HG01567  52594            HG01567        PEL\n",
       "2   hap1      HG01928  44180            HG01928        PEL\n",
       "3   hap1      HG01952  51650            HG01952        PEL\n",
       "4   hap1      HG01975  49738            HG01975        PEL"
      ]
     },
     "execution_count": 229,
     "metadata": {},
     "output_type": "execute_result"
    }
   ],
   "source": [
    "df = df.merge(meta_df[['cell_line_id_1000g', 'population']],\n",
    "              how='left',\n",
    "              left_on='cell_line_id',\n",
    "              right_on='cell_line_id_1000g')\n",
    "df.head()"
   ]
  },
  {
   "cell_type": "code",
   "execution_count": 230,
   "id": "77e2a673-bd09-458c-a45a-54c12ca6f3a4",
   "metadata": {},
   "outputs": [
    {
     "data": {
      "text/plain": [
       "<matplotlib.legend.Legend at 0x7ff32705e110>"
      ]
     },
     "execution_count": 230,
     "metadata": {},
     "output_type": "execute_result"
    },
    {
     "data": {
      "image/png": "[encoded data removed]",
      "text/plain": [
       "<Figure size 360x360 with 1 Axes>"
      ]
     },
     "metadata": {
      "needs_background": "light"
     },
     "output_type": "display_data"
    }
   ],
   "source": [
    "init_plot_settings()\n",
    "ax = sns.swarmplot(x='population', hue='genome', y='n_ic', data=df)\n",
    "# ax =sns.stripplot(x='population', hue='genome', y='n_ic', data=df, jitter=False, color='k')\n",
    "ax.set(xlabel='', ylabel='# ICs')\n",
    "# ax.set_xticklabels(ax.get_xticklabels(),rotation=90)\n",
    "ax.spines['right'].set_visible(False)\n",
    "ax.spines['top'].set_visible(False)\n",
    "ax.legend(loc='upper center', bbox_to_anchor=(1.25, 1.05))\n"
   ]
  },
  {
   "cell_type": "markdown",
   "id": "97a82798-866e-410d-96ee-046e43c609a1",
   "metadata": {},
   "source": [
    "## Do it with ratios instead"
   ]
  },
  {
   "cell_type": "code",
   "execution_count": 231,
   "id": "01fc0b09-3f04-40a2-be11-3353a668c5f1",
   "metadata": {},
   "outputs": [
    {
     "name": "stdout",
     "output_type": "stream",
     "text": [
      "4549058\n",
      "4549056\n",
      "4549056\n",
      "4269257\n"
     ]
    }
   ],
   "source": [
    "file = proc_cfg(config['lr']['td_personal']['cerb']['ic_summary'],od)\n",
    "df = pd.read_csv(file, sep='\\t')\n",
    "\n",
    "# remove chromosomes that aren't represented in normal hg38 alignmnts\n",
    "hg38_chrs = df.loc[df.genome=='hg38', 'Chromosome'].unique().tolist()\n",
    "print(len(df.index))\n",
    "df = df.loc[df.Chromosome.isin(hg38_chrs)]\n",
    "print(len(df.index))\n",
    "\n",
    "# remove unspliced\n",
    "print(len(df.index))\n",
    "df = df.loc[df.Coordinates != '-']\n",
    "print(len(df.index))\n",
    "\n",
    "df['ic_id'] = df.Chromosome.astype(str)+'_'+\\\n",
    "              df.Strand.astype(str)+'_'+\\\n",
    "              df.Coordinates.astype(str)\n",
    "\n",
    "df = df[['genome', 'ic_id', 'cell_line_id']].groupby(['genome', 'cell_line_id']).nunique().reset_index()\n",
    "df.rename({'ic_id':'n_ic'}, axis=1, inplace=True)"
   ]
  },
  {
   "cell_type": "code",
   "execution_count": 232,
   "id": "8d72a109-0d92-4004-9754-3ffe3449ebe9",
   "metadata": {},
   "outputs": [],
   "source": [
    "df = df.pivot(index='cell_line_id', columns='genome', values='n_ic').reset_index()\n",
    "df['hap1_ratio'] = df['hap1']/df['hg38']\n",
    "df['hap2_ratio'] = df['hap2']/df['hg38']"
   ]
  },
  {
   "cell_type": "code",
   "execution_count": 233,
   "id": "ab07c73d-9dd6-4089-b48a-0cc00f4e0877",
   "metadata": {},
   "outputs": [],
   "source": [
    "temp = df[['cell_line_id', 'hap1_ratio', 'hap2_ratio']]\n",
    "temp = temp.melt(id_vars='cell_line_id')\n",
    "temp.rename({'value':'ratio'}, axis=1, inplace=True)"
   ]
  },
  {
   "cell_type": "code",
   "execution_count": 234,
   "id": "adcf7589-4f7f-44be-806f-81950ce8b115",
   "metadata": {},
   "outputs": [
    {
     "data": {
      "text/html": [
       "<div>\n",
       "<style scoped>\n",
       "    .dataframe tbody tr th:only-of-type {\n",
       "        vertical-align: middle;\n",
       "    }\n",
       "\n",
       "    .dataframe tbody tr th {\n",
       "        vertical-align: top;\n",
       "    }\n",
       "\n",
       "    .dataframe thead th {\n",
       "        text-align: right;\n",
       "    }\n",
       "</style>\n",
       "<table border=\"1\" class=\"dataframe\">\n",
       "  <thead>\n",
       "    <tr style=\"text-align: right;\">\n",
       "      <th></th>\n",
       "      <th>cell_line_id</th>\n",
       "      <th>genome</th>\n",
       "      <th>ratio</th>\n",
       "    </tr>\n",
       "  </thead>\n",
       "  <tbody>\n",
       "    <tr>\n",
       "      <th>0</th>\n",
       "      <td>HG00621</td>\n",
       "      <td>hap1_ratio</td>\n",
       "      <td>1.031121</td>\n",
       "    </tr>\n",
       "    <tr>\n",
       "      <th>1</th>\n",
       "      <td>HG01567</td>\n",
       "      <td>hap1_ratio</td>\n",
       "      <td>1.039839</td>\n",
       "    </tr>\n",
       "    <tr>\n",
       "      <th>2</th>\n",
       "      <td>HG01928</td>\n",
       "      <td>hap1_ratio</td>\n",
       "      <td>1.032605</td>\n",
       "    </tr>\n",
       "    <tr>\n",
       "      <th>3</th>\n",
       "      <td>HG01952</td>\n",
       "      <td>hap1_ratio</td>\n",
       "      <td>1.024497</td>\n",
       "    </tr>\n",
       "    <tr>\n",
       "      <th>4</th>\n",
       "      <td>HG01975</td>\n",
       "      <td>hap1_ratio</td>\n",
       "      <td>1.031181</td>\n",
       "    </tr>\n",
       "  </tbody>\n",
       "</table>\n",
       "</div>"
      ],
      "text/plain": [
       "  cell_line_id      genome     ratio\n",
       "0      HG00621  hap1_ratio  1.031121\n",
       "1      HG01567  hap1_ratio  1.039839\n",
       "2      HG01928  hap1_ratio  1.032605\n",
       "3      HG01952  hap1_ratio  1.024497\n",
       "4      HG01975  hap1_ratio  1.031181"
      ]
     },
     "execution_count": 234,
     "metadata": {},
     "output_type": "execute_result"
    }
   ],
   "source": [
    "temp.head()"
   ]
  },
  {
   "cell_type": "code",
   "execution_count": 235,
   "id": "e670e714-c724-4820-bc78-e336a42912d5",
   "metadata": {},
   "outputs": [
    {
     "data": {
      "image/png": "[encoded data removed]",
      "text/plain": [
       "<Figure size 360x360 with 1 Axes>"
      ]
     },
     "metadata": {
      "needs_background": "light"
     },
     "output_type": "display_data"
    }
   ],
   "source": [
    "init_plot_settings()\n",
    "sns.boxplot(x='genome', y='ratio', data=temp, showfliers=False)\n",
    "ax =sns.stripplot(x='genome', y='ratio', data=temp, jitter=True, color='k')\n",
    "ax.set(xlabel='', ylabel='# ICs personal haplotype/hg38')\n",
    "# ax.set_xticklabels(ax.get_xticklabels(),rotation=90)\n",
    "ax.spines['right'].set_visible(False)\n",
    "ax.spines['top'].set_visible(False)"
   ]
  },
  {
   "cell_type": "code",
   "execution_count": 236,
   "id": "55616a44-5a13-4b87-a760-c79f6925b59d",
   "metadata": {},
   "outputs": [
    {
     "data": {
      "image/png": "[encoded data removed]",
      "text/plain": [
       "<Figure size 360x360 with 1 Axes>"
      ]
     },
     "metadata": {
      "needs_background": "light"
     },
     "output_type": "display_data"
    }
   ],
   "source": [
    "init_plot_settings()\n",
    "sns.boxplot(y='ratio', data=temp, showfliers=False)\n",
    "ax =sns.stripplot(y='ratio', data=temp, jitter=True, color='k')\n",
    "ax.set(xlabel='', ylabel='# ICs personal haplotype/hg38')\n",
    "# ax.set_xticklabels(ax.get_xticklabels(),rotation=90)\n",
    "ax.spines['right'].set_visible(False)\n",
    "ax.spines['top'].set_visible(False)"
   ]
  },
  {
   "cell_type": "code",
   "execution_count": 237,
   "id": "95b9abd0-b7d8-42f7-8490-046a4332aeee",
   "metadata": {},
   "outputs": [
    {
     "name": "stdout",
     "output_type": "stream",
     "text": [
      "Median ratio of personal genome # ics / hg38 # ics: 1.0355949619475164\n"
     ]
    }
   ],
   "source": [
    "med = temp.ratio.median()\n",
    "print(f'Median ratio of personal genome # ics / hg38 # ics: {med}')"
   ]
  },
  {
   "cell_type": "markdown",
   "id": "175758ef-5470-4415-8dbe-61db5709c653",
   "metadata": {},
   "source": [
    "## Do we get more NNC (novel splice site) when we look at the personal haploytpes versus the hg38?"
   ]
  },
  {
   "cell_type": "code",
   "execution_count": 241,
   "id": "3f32bf56-9ed0-4b59-93cb-e57e94504f43",
   "metadata": {},
   "outputs": [
    {
     "name": "stdout",
     "output_type": "stream",
     "text": [
      "4592884\n",
      "4592882\n",
      "4592882\n",
      "4307119\n"
     ]
    }
   ],
   "source": [
    "file = proc_cfg(config['lr']['td_personal']['sqanti']['cl_summary'],od)\n",
    "df = pd.read_csv(file, sep='\\t')\n",
    "df.head()\n",
    "\n",
    "# remove chromosomes that aren't represented in normal hg38 alignmnts\n",
    "hg38_chrs = df.loc[df.genome=='hg38', 'chrom'].unique().tolist()\n",
    "print(len(df.index))\n",
    "df = df.loc[df.chrom.isin(hg38_chrs)]\n",
    "print(len(df.index))\n",
    "\n",
    "# remove unspliced\n",
    "print(len(df.index))\n",
    "df = df.loc[df.exons != 1]\n",
    "print(len(df.index))"
   ]
  },
  {
   "cell_type": "code",
   "execution_count": 242,
   "id": "b0d1f737-21f9-4b69-b2e9-60d12c7d2f13",
   "metadata": {},
   "outputs": [
    {
     "data": {
      "text/html": [
       "<div>\n",
       "<style scoped>\n",
       "    .dataframe tbody tr th:only-of-type {\n",
       "        vertical-align: middle;\n",
       "    }\n",
       "\n",
       "    .dataframe tbody tr th {\n",
       "        vertical-align: top;\n",
       "    }\n",
       "\n",
       "    .dataframe thead th {\n",
       "        text-align: right;\n",
       "    }\n",
       "</style>\n",
       "<table border=\"1\" class=\"dataframe\">\n",
       "  <thead>\n",
       "    <tr style=\"text-align: right;\">\n",
       "      <th></th>\n",
       "      <th>Unnamed: 0</th>\n",
       "      <th>isoform</th>\n",
       "      <th>chrom</th>\n",
       "      <th>strand</th>\n",
       "      <th>length</th>\n",
       "      <th>exons</th>\n",
       "      <th>structural_category</th>\n",
       "      <th>associated_gene</th>\n",
       "      <th>associated_transcript</th>\n",
       "      <th>ref_length</th>\n",
       "      <th>...</th>\n",
       "      <th>within_CAGE_peak</th>\n",
       "      <th>dist_to_polyA_site</th>\n",
       "      <th>within_polyA_site</th>\n",
       "      <th>polyA_motif</th>\n",
       "      <th>polyA_dist</th>\n",
       "      <th>polyA_motif_found</th>\n",
       "      <th>ORF_seq</th>\n",
       "      <th>ratio_TSS</th>\n",
       "      <th>genome</th>\n",
       "      <th>cell_line_id</th>\n",
       "    </tr>\n",
       "  </thead>\n",
       "  <tbody>\n",
       "    <tr>\n",
       "      <th>0</th>\n",
       "      <td>0</td>\n",
       "      <td>ENST00000400754.4</td>\n",
       "      <td>GL000194.1</td>\n",
       "      <td>-</td>\n",
       "      <td>1599</td>\n",
       "      <td>4</td>\n",
       "      <td>full-splice_match</td>\n",
       "      <td>ENSG00000274847.1</td>\n",
       "      <td>ENST00000400754.4</td>\n",
       "      <td>1599.0</td>\n",
       "      <td>...</td>\n",
       "      <td>NaN</td>\n",
       "      <td>NaN</td>\n",
       "      <td>NaN</td>\n",
       "      <td>NaN</td>\n",
       "      <td>NaN</td>\n",
       "      <td>NaN</td>\n",
       "      <td>NaN</td>\n",
       "      <td>NaN</td>\n",
       "      <td>hg38</td>\n",
       "      <td>HG04217</td>\n",
       "    </tr>\n",
       "    <tr>\n",
       "      <th>1</th>\n",
       "      <td>1</td>\n",
       "      <td>ENST00000613230.1</td>\n",
       "      <td>GL000194.1</td>\n",
       "      <td>-</td>\n",
       "      <td>2179</td>\n",
       "      <td>3</td>\n",
       "      <td>full-splice_match</td>\n",
       "      <td>ENSG00000277400.1</td>\n",
       "      <td>ENST00000613230.1</td>\n",
       "      <td>2179.0</td>\n",
       "      <td>...</td>\n",
       "      <td>NaN</td>\n",
       "      <td>NaN</td>\n",
       "      <td>NaN</td>\n",
       "      <td>NaN</td>\n",
       "      <td>NaN</td>\n",
       "      <td>NaN</td>\n",
       "      <td>NaN</td>\n",
       "      <td>NaN</td>\n",
       "      <td>hg38</td>\n",
       "      <td>HG04217</td>\n",
       "    </tr>\n",
       "    <tr>\n",
       "      <th>2</th>\n",
       "      <td>2</td>\n",
       "      <td>ESPRESSO:GL000194.1:0:0</td>\n",
       "      <td>GL000194.1</td>\n",
       "      <td>-</td>\n",
       "      <td>713</td>\n",
       "      <td>3</td>\n",
       "      <td>novel_not_in_catalog</td>\n",
       "      <td>ENSG00000277400.1</td>\n",
       "      <td>novel</td>\n",
       "      <td>2179.0</td>\n",
       "      <td>...</td>\n",
       "      <td>NaN</td>\n",
       "      <td>NaN</td>\n",
       "      <td>NaN</td>\n",
       "      <td>NaN</td>\n",
       "      <td>NaN</td>\n",
       "      <td>NaN</td>\n",
       "      <td>NaN</td>\n",
       "      <td>NaN</td>\n",
       "      <td>hg38</td>\n",
       "      <td>HG04217</td>\n",
       "    </tr>\n",
       "    <tr>\n",
       "      <th>3</th>\n",
       "      <td>3</td>\n",
       "      <td>ESPRESSO:GL000194.1:0:1</td>\n",
       "      <td>GL000194.1</td>\n",
       "      <td>-</td>\n",
       "      <td>462</td>\n",
       "      <td>3</td>\n",
       "      <td>novel_not_in_catalog</td>\n",
       "      <td>ENSG00000277400.1</td>\n",
       "      <td>novel</td>\n",
       "      <td>2179.0</td>\n",
       "      <td>...</td>\n",
       "      <td>NaN</td>\n",
       "      <td>NaN</td>\n",
       "      <td>NaN</td>\n",
       "      <td>NaN</td>\n",
       "      <td>NaN</td>\n",
       "      <td>NaN</td>\n",
       "      <td>NaN</td>\n",
       "      <td>NaN</td>\n",
       "      <td>hg38</td>\n",
       "      <td>HG04217</td>\n",
       "    </tr>\n",
       "    <tr>\n",
       "      <th>4</th>\n",
       "      <td>4</td>\n",
       "      <td>ESPRESSO:GL000194.1:0:2</td>\n",
       "      <td>GL000194.1</td>\n",
       "      <td>-</td>\n",
       "      <td>456</td>\n",
       "      <td>3</td>\n",
       "      <td>novel_not_in_catalog</td>\n",
       "      <td>ENSG00000277400.1</td>\n",
       "      <td>novel</td>\n",
       "      <td>2179.0</td>\n",
       "      <td>...</td>\n",
       "      <td>NaN</td>\n",
       "      <td>NaN</td>\n",
       "      <td>NaN</td>\n",
       "      <td>NaN</td>\n",
       "      <td>NaN</td>\n",
       "      <td>NaN</td>\n",
       "      <td>NaN</td>\n",
       "      <td>NaN</td>\n",
       "      <td>hg38</td>\n",
       "      <td>HG04217</td>\n",
       "    </tr>\n",
       "  </tbody>\n",
       "</table>\n",
       "<p>5 rows × 51 columns</p>\n",
       "</div>"
      ],
      "text/plain": [
       "   Unnamed: 0                  isoform       chrom strand  length  exons  \\\n",
       "0           0        ENST00000400754.4  GL000194.1      -    1599      4   \n",
       "1           1        ENST00000613230.1  GL000194.1      -    2179      3   \n",
       "2           2  ESPRESSO:GL000194.1:0:0  GL000194.1      -     713      3   \n",
       "3           3  ESPRESSO:GL000194.1:0:1  GL000194.1      -     462      3   \n",
       "4           4  ESPRESSO:GL000194.1:0:2  GL000194.1      -     456      3   \n",
       "\n",
       "    structural_category    associated_gene associated_transcript  ref_length  \\\n",
       "0     full-splice_match  ENSG00000274847.1     ENST00000400754.4      1599.0   \n",
       "1     full-splice_match  ENSG00000277400.1     ENST00000613230.1      2179.0   \n",
       "2  novel_not_in_catalog  ENSG00000277400.1                 novel      2179.0   \n",
       "3  novel_not_in_catalog  ENSG00000277400.1                 novel      2179.0   \n",
       "4  novel_not_in_catalog  ENSG00000277400.1                 novel      2179.0   \n",
       "\n",
       "   ...  within_CAGE_peak  dist_to_polyA_site  within_polyA_site  polyA_motif  \\\n",
       "0  ...               NaN                 NaN                NaN          NaN   \n",
       "1  ...               NaN                 NaN                NaN          NaN   \n",
       "2  ...               NaN                 NaN                NaN          NaN   \n",
       "3  ...               NaN                 NaN                NaN          NaN   \n",
       "4  ...               NaN                 NaN                NaN          NaN   \n",
       "\n",
       "   polyA_dist polyA_motif_found  ORF_seq ratio_TSS  genome  cell_line_id  \n",
       "0         NaN               NaN      NaN       NaN    hg38       HG04217  \n",
       "1         NaN               NaN      NaN       NaN    hg38       HG04217  \n",
       "2         NaN               NaN      NaN       NaN    hg38       HG04217  \n",
       "3         NaN               NaN      NaN       NaN    hg38       HG04217  \n",
       "4         NaN               NaN      NaN       NaN    hg38       HG04217  \n",
       "\n",
       "[5 rows x 51 columns]"
      ]
     },
     "execution_count": 242,
     "metadata": {},
     "output_type": "execute_result"
    }
   ],
   "source": [
    "df.head()"
   ]
  },
  {
   "cell_type": "code",
   "execution_count": 243,
   "id": "3e33bf42-5507-40bf-bd0c-9eba8cdc761b",
   "metadata": {},
   "outputs": [],
   "source": [
    "# count the number of isoforms per structural cateogry in each cell line / genome\n",
    "df = df[['genome', 'cell_line_id', 'structural_category', 'isoform']]\n",
    "df = df.reset_index()df = df.groupby(['genome', 'cell_line_id', 'structural_category']).nunique().rename({'isoform':'n_t'}, axis=1)"
   ]
  },
  {
   "cell_type": "code",
   "execution_count": 244,
   "id": "69e66635-2e21-4518-acf3-750a078e4b2f",
   "metadata": {},
   "outputs": [],
   "source": []
  },
  {
   "cell_type": "code",
   "execution_count": 245,
   "id": "88165b18-4751-429f-8b71-8552eb07feab",
   "metadata": {},
   "outputs": [],
   "source": [
    "df['total_n_t'] = df.groupby(['genome', 'cell_line_id'])['n_t'].transform('sum')\n",
    "df['perc'] = (df['n_t']/df['total_n_t'])*100"
   ]
  },
  {
   "cell_type": "code",
   "execution_count": 246,
   "id": "4b38e2e4-5850-45dc-8aa6-89f39fc9069b",
   "metadata": {},
   "outputs": [
    {
     "data": {
      "text/plain": [
       "<seaborn.axisgrid.FacetGrid at 0x7feee9543c50>"
      ]
     },
     "execution_count": 246,
     "metadata": {},
     "output_type": "execute_result"
    },
    {
     "data": {
      "image/png": "[encoded data removed]",
      "text/plain": [
       "<Figure size 1440x720 with 8 Axes>"
      ]
     },
     "metadata": {
      "needs_background": "light"
     },
     "output_type": "display_data"
    }
   ],
   "source": [
    "sns.catplot(\n",
    "    data=df, x='genome', y='n_t',\n",
    "    col='structural_category', kind='box',\n",
    "    col_wrap=4, sharey=False\n",
    ")"
   ]
  },
  {
   "cell_type": "markdown",
   "id": "19436ce4-85a5-4640-ab4c-d0a9142cb796",
   "metadata": {},
   "source": [
    "## What about number of transcripts w/ all splice sites canonical"
   ]
  },
  {
   "cell_type": "code",
   "execution_count": 247,
   "id": "62af4af7-ca52-464f-aa50-c34cd007c8eb",
   "metadata": {},
   "outputs": [
    {
     "name": "stdout",
     "output_type": "stream",
     "text": [
      "4592884\n",
      "4592882\n",
      "4592882\n",
      "4307119\n"
     ]
    }
   ],
   "source": [
    "file = proc_cfg(config['lr']['td_personal']['sqanti']['cl_summary'],od)\n",
    "df = pd.read_csv(file, sep='\\t')\n",
    "df.head()\n",
    "\n",
    "# remove chromosomes that aren't represented in normal hg38 alignmnts\n",
    "hg38_chrs = df.loc[df.genome=='hg38', 'chrom'].unique().tolist()\n",
    "print(len(df.index))\n",
    "df = df.loc[df.chrom.isin(hg38_chrs)]\n",
    "print(len(df.index))\n",
    "\n",
    "# remove unspliced\n",
    "print(len(df.index))\n",
    "df = df.loc[df.exons != 1]\n",
    "print(len(df.index))"
   ]
  },
  {
   "cell_type": "code",
   "execution_count": 248,
   "id": "d68cdf31-ce4e-406d-a700-dccb7eff64e3",
   "metadata": {},
   "outputs": [
    {
     "data": {
      "text/plain": [
       "array(['canonical', 'non_canonical'], dtype=object)"
      ]
     },
     "execution_count": 248,
     "metadata": {},
     "output_type": "execute_result"
    }
   ],
   "source": [
    "df.all_canonical.unique()"
   ]
  },
  {
   "cell_type": "code",
   "execution_count": 249,
   "id": "15052872-1c5f-444f-8480-8b0a710170cf",
   "metadata": {},
   "outputs": [
    {
     "data": {
      "text/html": [
       "<div>\n",
       "<style scoped>\n",
       "    .dataframe tbody tr th:only-of-type {\n",
       "        vertical-align: middle;\n",
       "    }\n",
       "\n",
       "    .dataframe tbody tr th {\n",
       "        vertical-align: top;\n",
       "    }\n",
       "\n",
       "    .dataframe thead th {\n",
       "        text-align: right;\n",
       "    }\n",
       "</style>\n",
       "<table border=\"1\" class=\"dataframe\">\n",
       "  <thead>\n",
       "    <tr style=\"text-align: right;\">\n",
       "      <th></th>\n",
       "      <th>Unnamed: 0</th>\n",
       "      <th>isoform</th>\n",
       "      <th>chrom</th>\n",
       "      <th>strand</th>\n",
       "      <th>length</th>\n",
       "      <th>exons</th>\n",
       "      <th>structural_category</th>\n",
       "      <th>associated_gene</th>\n",
       "      <th>associated_transcript</th>\n",
       "      <th>ref_length</th>\n",
       "      <th>...</th>\n",
       "      <th>within_CAGE_peak</th>\n",
       "      <th>dist_to_polyA_site</th>\n",
       "      <th>within_polyA_site</th>\n",
       "      <th>polyA_motif</th>\n",
       "      <th>polyA_dist</th>\n",
       "      <th>polyA_motif_found</th>\n",
       "      <th>ORF_seq</th>\n",
       "      <th>ratio_TSS</th>\n",
       "      <th>genome</th>\n",
       "      <th>cell_line_id</th>\n",
       "    </tr>\n",
       "  </thead>\n",
       "  <tbody>\n",
       "    <tr>\n",
       "      <th>0</th>\n",
       "      <td>0</td>\n",
       "      <td>ENST00000400754.4</td>\n",
       "      <td>GL000194.1</td>\n",
       "      <td>-</td>\n",
       "      <td>1599</td>\n",
       "      <td>4</td>\n",
       "      <td>full-splice_match</td>\n",
       "      <td>ENSG00000274847.1</td>\n",
       "      <td>ENST00000400754.4</td>\n",
       "      <td>1599.0</td>\n",
       "      <td>...</td>\n",
       "      <td>NaN</td>\n",
       "      <td>NaN</td>\n",
       "      <td>NaN</td>\n",
       "      <td>NaN</td>\n",
       "      <td>NaN</td>\n",
       "      <td>NaN</td>\n",
       "      <td>NaN</td>\n",
       "      <td>NaN</td>\n",
       "      <td>hg38</td>\n",
       "      <td>HG04217</td>\n",
       "    </tr>\n",
       "    <tr>\n",
       "      <th>1</th>\n",
       "      <td>1</td>\n",
       "      <td>ENST00000613230.1</td>\n",
       "      <td>GL000194.1</td>\n",
       "      <td>-</td>\n",
       "      <td>2179</td>\n",
       "      <td>3</td>\n",
       "      <td>full-splice_match</td>\n",
       "      <td>ENSG00000277400.1</td>\n",
       "      <td>ENST00000613230.1</td>\n",
       "      <td>2179.0</td>\n",
       "      <td>...</td>\n",
       "      <td>NaN</td>\n",
       "      <td>NaN</td>\n",
       "      <td>NaN</td>\n",
       "      <td>NaN</td>\n",
       "      <td>NaN</td>\n",
       "      <td>NaN</td>\n",
       "      <td>NaN</td>\n",
       "      <td>NaN</td>\n",
       "      <td>hg38</td>\n",
       "      <td>HG04217</td>\n",
       "    </tr>\n",
       "    <tr>\n",
       "      <th>2</th>\n",
       "      <td>2</td>\n",
       "      <td>ESPRESSO:GL000194.1:0:0</td>\n",
       "      <td>GL000194.1</td>\n",
       "      <td>-</td>\n",
       "      <td>713</td>\n",
       "      <td>3</td>\n",
       "      <td>novel_not_in_catalog</td>\n",
       "      <td>ENSG00000277400.1</td>\n",
       "      <td>novel</td>\n",
       "      <td>2179.0</td>\n",
       "      <td>...</td>\n",
       "      <td>NaN</td>\n",
       "      <td>NaN</td>\n",
       "      <td>NaN</td>\n",
       "      <td>NaN</td>\n",
       "      <td>NaN</td>\n",
       "      <td>NaN</td>\n",
       "      <td>NaN</td>\n",
       "      <td>NaN</td>\n",
       "      <td>hg38</td>\n",
       "      <td>HG04217</td>\n",
       "    </tr>\n",
       "    <tr>\n",
       "      <th>3</th>\n",
       "      <td>3</td>\n",
       "      <td>ESPRESSO:GL000194.1:0:1</td>\n",
       "      <td>GL000194.1</td>\n",
       "      <td>-</td>\n",
       "      <td>462</td>\n",
       "      <td>3</td>\n",
       "      <td>novel_not_in_catalog</td>\n",
       "      <td>ENSG00000277400.1</td>\n",
       "      <td>novel</td>\n",
       "      <td>2179.0</td>\n",
       "      <td>...</td>\n",
       "      <td>NaN</td>\n",
       "      <td>NaN</td>\n",
       "      <td>NaN</td>\n",
       "      <td>NaN</td>\n",
       "      <td>NaN</td>\n",
       "      <td>NaN</td>\n",
       "      <td>NaN</td>\n",
       "      <td>NaN</td>\n",
       "      <td>hg38</td>\n",
       "      <td>HG04217</td>\n",
       "    </tr>\n",
       "    <tr>\n",
       "      <th>4</th>\n",
       "      <td>4</td>\n",
       "      <td>ESPRESSO:GL000194.1:0:2</td>\n",
       "      <td>GL000194.1</td>\n",
       "      <td>-</td>\n",
       "      <td>456</td>\n",
       "      <td>3</td>\n",
       "      <td>novel_not_in_catalog</td>\n",
       "      <td>ENSG00000277400.1</td>\n",
       "      <td>novel</td>\n",
       "      <td>2179.0</td>\n",
       "      <td>...</td>\n",
       "      <td>NaN</td>\n",
       "      <td>NaN</td>\n",
       "      <td>NaN</td>\n",
       "      <td>NaN</td>\n",
       "      <td>NaN</td>\n",
       "      <td>NaN</td>\n",
       "      <td>NaN</td>\n",
       "      <td>NaN</td>\n",
       "      <td>hg38</td>\n",
       "      <td>HG04217</td>\n",
       "    </tr>\n",
       "  </tbody>\n",
       "</table>\n",
       "<p>5 rows × 51 columns</p>\n",
       "</div>"
      ],
      "text/plain": [
       "   Unnamed: 0                  isoform       chrom strand  length  exons  \\\n",
       "0           0        ENST00000400754.4  GL000194.1      -    1599      4   \n",
       "1           1        ENST00000613230.1  GL000194.1      -    2179      3   \n",
       "2           2  ESPRESSO:GL000194.1:0:0  GL000194.1      -     713      3   \n",
       "3           3  ESPRESSO:GL000194.1:0:1  GL000194.1      -     462      3   \n",
       "4           4  ESPRESSO:GL000194.1:0:2  GL000194.1      -     456      3   \n",
       "\n",
       "    structural_category    associated_gene associated_transcript  ref_length  \\\n",
       "0     full-splice_match  ENSG00000274847.1     ENST00000400754.4      1599.0   \n",
       "1     full-splice_match  ENSG00000277400.1     ENST00000613230.1      2179.0   \n",
       "2  novel_not_in_catalog  ENSG00000277400.1                 novel      2179.0   \n",
       "3  novel_not_in_catalog  ENSG00000277400.1                 novel      2179.0   \n",
       "4  novel_not_in_catalog  ENSG00000277400.1                 novel      2179.0   \n",
       "\n",
       "   ...  within_CAGE_peak  dist_to_polyA_site  within_polyA_site  polyA_motif  \\\n",
       "0  ...               NaN                 NaN                NaN          NaN   \n",
       "1  ...               NaN                 NaN                NaN          NaN   \n",
       "2  ...               NaN                 NaN                NaN          NaN   \n",
       "3  ...               NaN                 NaN                NaN          NaN   \n",
       "4  ...               NaN                 NaN                NaN          NaN   \n",
       "\n",
       "   polyA_dist polyA_motif_found  ORF_seq ratio_TSS  genome  cell_line_id  \n",
       "0         NaN               NaN      NaN       NaN    hg38       HG04217  \n",
       "1         NaN               NaN      NaN       NaN    hg38       HG04217  \n",
       "2         NaN               NaN      NaN       NaN    hg38       HG04217  \n",
       "3         NaN               NaN      NaN       NaN    hg38       HG04217  \n",
       "4         NaN               NaN      NaN       NaN    hg38       HG04217  \n",
       "\n",
       "[5 rows x 51 columns]"
      ]
     },
     "execution_count": 249,
     "metadata": {},
     "output_type": "execute_result"
    }
   ],
   "source": [
    "df.head()"
   ]
  },
  {
   "cell_type": "code",
   "execution_count": 252,
   "id": "522c6155-067a-4646-9fd5-4f83d9e3c178",
   "metadata": {},
   "outputs": [],
   "source": [
    "# count the number of isoforms per structural cateogry in each cell line / genome\n",
    "df = df[['genome', 'cell_line_id', 'all_canonical', 'isoform']]\n",
    "df = df.groupby(['genome', 'cell_line_id', 'all_canonical']).nunique().rename({'isoform': 'n_t'}, axis=1).reset_index()"
   ]
  },
  {
   "cell_type": "code",
   "execution_count": 254,
   "id": "5832fc21-4ecc-4317-abea-6b518e596e2b",
   "metadata": {},
   "outputs": [
    {
     "data": {
      "text/html": [
       "<div>\n",
       "<style scoped>\n",
       "    .dataframe tbody tr th:only-of-type {\n",
       "        vertical-align: middle;\n",
       "    }\n",
       "\n",
       "    .dataframe tbody tr th {\n",
       "        vertical-align: top;\n",
       "    }\n",
       "\n",
       "    .dataframe thead th {\n",
       "        text-align: right;\n",
       "    }\n",
       "</style>\n",
       "<table border=\"1\" class=\"dataframe\">\n",
       "  <thead>\n",
       "    <tr style=\"text-align: right;\">\n",
       "      <th></th>\n",
       "      <th>genome</th>\n",
       "      <th>cell_line_id</th>\n",
       "      <th>all_canonical</th>\n",
       "      <th>n_t</th>\n",
       "      <th>total_n_t</th>\n",
       "      <th>perc</th>\n",
       "    </tr>\n",
       "  </thead>\n",
       "  <tbody>\n",
       "    <tr>\n",
       "      <th>0</th>\n",
       "      <td>hap1</td>\n",
       "      <td>HG00621</td>\n",
       "      <td>canonical</td>\n",
       "      <td>64536</td>\n",
       "      <td>64674</td>\n",
       "      <td>99.786622</td>\n",
       "    </tr>\n",
       "    <tr>\n",
       "      <th>1</th>\n",
       "      <td>hap1</td>\n",
       "      <td>HG00621</td>\n",
       "      <td>non_canonical</td>\n",
       "      <td>138</td>\n",
       "      <td>64674</td>\n",
       "      <td>0.213378</td>\n",
       "    </tr>\n",
       "    <tr>\n",
       "      <th>2</th>\n",
       "      <td>hap1</td>\n",
       "      <td>HG01567</td>\n",
       "      <td>canonical</td>\n",
       "      <td>52928</td>\n",
       "      <td>53052</td>\n",
       "      <td>99.766267</td>\n",
       "    </tr>\n",
       "    <tr>\n",
       "      <th>3</th>\n",
       "      <td>hap1</td>\n",
       "      <td>HG01567</td>\n",
       "      <td>non_canonical</td>\n",
       "      <td>124</td>\n",
       "      <td>53052</td>\n",
       "      <td>0.233733</td>\n",
       "    </tr>\n",
       "    <tr>\n",
       "      <th>4</th>\n",
       "      <td>hap1</td>\n",
       "      <td>HG01928</td>\n",
       "      <td>canonical</td>\n",
       "      <td>44516</td>\n",
       "      <td>44616</td>\n",
       "      <td>99.775865</td>\n",
       "    </tr>\n",
       "  </tbody>\n",
       "</table>\n",
       "</div>"
      ],
      "text/plain": [
       "  genome cell_line_id  all_canonical    n_t  total_n_t       perc\n",
       "0   hap1      HG00621      canonical  64536      64674  99.786622\n",
       "1   hap1      HG00621  non_canonical    138      64674   0.213378\n",
       "2   hap1      HG01567      canonical  52928      53052  99.766267\n",
       "3   hap1      HG01567  non_canonical    124      53052   0.233733\n",
       "4   hap1      HG01928      canonical  44516      44616  99.775865"
      ]
     },
     "execution_count": 254,
     "metadata": {},
     "output_type": "execute_result"
    }
   ],
   "source": [
    "# get % non canonical\n",
    "df['total_n_t'] = df.groupby(['genome', 'cell_line_id'])['n_t'].transform('sum')\n",
    "df['perc'] = (df['n_t']/df['total_n_t'])*100\n",
    "df.head()"
   ]
  },
  {
   "cell_type": "code",
   "execution_count": 256,
   "id": "d0431e33-a1ce-4e81-817e-2ab06972b3d7",
   "metadata": {},
   "outputs": [
    {
     "data": {
      "image/png": "[encoded data removed]",
      "text/plain": [
       "<Figure size 360x360 with 1 Axes>"
      ]
     },
     "metadata": {
      "needs_background": "light"
     },
     "output_type": "display_data"
    }
   ],
   "source": [
    "# just noncanonical\n",
    "df = df.loc[df.all_canonical=='canonical']\n",
    "init_plot_settings()\n",
    "sns.boxplot(x='genome', y='perc', data=df, showfliers=False)\n",
    "ax =sns.stripplot(x='genome', y='perc', data=df, jitter=True, color='k')\n",
    "ax.set(xlabel='', ylabel='% spliced transcripts w/\\ncanonical splicing')\n",
    "# ax.set_xticklabels(ax.get_xticklabels(),rotation=90)\n",
    "ax.spines['right'].set_visible(False)\n",
    "ax.spines['top'].set_visible(False)"
   ]
  },
  {
   "cell_type": "markdown",
   "id": "def8c7d7-ac37-4800-9f41-5d6cd51b1803",
   "metadata": {},
   "source": [
    "## What about just raw number / percentage of novel splice sites"
   ]
  },
  {
   "cell_type": "code",
   "execution_count": 262,
   "id": "f6b968e8-6392-4053-bdad-f564672ba347",
   "metadata": {},
   "outputs": [
    {
     "data": {
      "text/html": [
       "<div>\n",
       "<style scoped>\n",
       "    .dataframe tbody tr th:only-of-type {\n",
       "        vertical-align: middle;\n",
       "    }\n",
       "\n",
       "    .dataframe tbody tr th {\n",
       "        vertical-align: top;\n",
       "    }\n",
       "\n",
       "    .dataframe thead th {\n",
       "        text-align: right;\n",
       "    }\n",
       "</style>\n",
       "<table border=\"1\" class=\"dataframe\">\n",
       "  <thead>\n",
       "    <tr style=\"text-align: right;\">\n",
       "      <th></th>\n",
       "      <th>Unnamed: 0</th>\n",
       "      <th>isoform</th>\n",
       "      <th>chrom</th>\n",
       "      <th>strand</th>\n",
       "      <th>junction_number</th>\n",
       "      <th>genomic_start_coord</th>\n",
       "      <th>genomic_end_coord</th>\n",
       "      <th>transcript_coord</th>\n",
       "      <th>junction_category</th>\n",
       "      <th>start_site_category</th>\n",
       "      <th>...</th>\n",
       "      <th>canonical</th>\n",
       "      <th>RTS_junction</th>\n",
       "      <th>indel_near_junct</th>\n",
       "      <th>phyloP_start</th>\n",
       "      <th>phyloP_end</th>\n",
       "      <th>sample_with_cov</th>\n",
       "      <th>total_coverage_unique</th>\n",
       "      <th>total_coverage_multi</th>\n",
       "      <th>genome</th>\n",
       "      <th>cell_line_id</th>\n",
       "    </tr>\n",
       "  </thead>\n",
       "  <tbody>\n",
       "    <tr>\n",
       "      <th>0</th>\n",
       "      <td>0</td>\n",
       "      <td>ENST00000613230.1</td>\n",
       "      <td>GL000194.1</td>\n",
       "      <td>-</td>\n",
       "      <td>junction_1</td>\n",
       "      <td>55677</td>\n",
       "      <td>112791</td>\n",
       "      <td>?????</td>\n",
       "      <td>known</td>\n",
       "      <td>known</td>\n",
       "      <td>...</td>\n",
       "      <td>canonical</td>\n",
       "      <td>False</td>\n",
       "      <td>NaN</td>\n",
       "      <td>NaN</td>\n",
       "      <td>NaN</td>\n",
       "      <td>NaN</td>\n",
       "      <td>NaN</td>\n",
       "      <td>NaN</td>\n",
       "      <td>hg38</td>\n",
       "      <td>HG04217</td>\n",
       "    </tr>\n",
       "    <tr>\n",
       "      <th>1</th>\n",
       "      <td>1</td>\n",
       "      <td>ENST00000613230.1</td>\n",
       "      <td>GL000194.1</td>\n",
       "      <td>-</td>\n",
       "      <td>junction_2</td>\n",
       "      <td>112851</td>\n",
       "      <td>114985</td>\n",
       "      <td>?????</td>\n",
       "      <td>known</td>\n",
       "      <td>known</td>\n",
       "      <td>...</td>\n",
       "      <td>canonical</td>\n",
       "      <td>False</td>\n",
       "      <td>NaN</td>\n",
       "      <td>NaN</td>\n",
       "      <td>NaN</td>\n",
       "      <td>NaN</td>\n",
       "      <td>NaN</td>\n",
       "      <td>NaN</td>\n",
       "      <td>hg38</td>\n",
       "      <td>HG04217</td>\n",
       "    </tr>\n",
       "    <tr>\n",
       "      <th>2</th>\n",
       "      <td>2</td>\n",
       "      <td>ENST00000400754.4</td>\n",
       "      <td>GL000194.1</td>\n",
       "      <td>-</td>\n",
       "      <td>junction_1</td>\n",
       "      <td>54833</td>\n",
       "      <td>55445</td>\n",
       "      <td>?????</td>\n",
       "      <td>known</td>\n",
       "      <td>known</td>\n",
       "      <td>...</td>\n",
       "      <td>canonical</td>\n",
       "      <td>False</td>\n",
       "      <td>NaN</td>\n",
       "      <td>NaN</td>\n",
       "      <td>NaN</td>\n",
       "      <td>NaN</td>\n",
       "      <td>NaN</td>\n",
       "      <td>NaN</td>\n",
       "      <td>hg38</td>\n",
       "      <td>HG04217</td>\n",
       "    </tr>\n",
       "    <tr>\n",
       "      <th>3</th>\n",
       "      <td>3</td>\n",
       "      <td>ENST00000400754.4</td>\n",
       "      <td>GL000194.1</td>\n",
       "      <td>-</td>\n",
       "      <td>junction_2</td>\n",
       "      <td>55677</td>\n",
       "      <td>112791</td>\n",
       "      <td>?????</td>\n",
       "      <td>known</td>\n",
       "      <td>known</td>\n",
       "      <td>...</td>\n",
       "      <td>canonical</td>\n",
       "      <td>False</td>\n",
       "      <td>NaN</td>\n",
       "      <td>NaN</td>\n",
       "      <td>NaN</td>\n",
       "      <td>NaN</td>\n",
       "      <td>NaN</td>\n",
       "      <td>NaN</td>\n",
       "      <td>hg38</td>\n",
       "      <td>HG04217</td>\n",
       "    </tr>\n",
       "    <tr>\n",
       "      <th>4</th>\n",
       "      <td>4</td>\n",
       "      <td>ENST00000400754.4</td>\n",
       "      <td>GL000194.1</td>\n",
       "      <td>-</td>\n",
       "      <td>junction_3</td>\n",
       "      <td>112851</td>\n",
       "      <td>114985</td>\n",
       "      <td>?????</td>\n",
       "      <td>known</td>\n",
       "      <td>known</td>\n",
       "      <td>...</td>\n",
       "      <td>canonical</td>\n",
       "      <td>False</td>\n",
       "      <td>NaN</td>\n",
       "      <td>NaN</td>\n",
       "      <td>NaN</td>\n",
       "      <td>NaN</td>\n",
       "      <td>NaN</td>\n",
       "      <td>NaN</td>\n",
       "      <td>hg38</td>\n",
       "      <td>HG04217</td>\n",
       "    </tr>\n",
       "  </tbody>\n",
       "</table>\n",
       "<p>5 rows × 25 columns</p>\n",
       "</div>"
      ],
      "text/plain": [
       "   Unnamed: 0            isoform       chrom strand junction_number  \\\n",
       "0           0  ENST00000613230.1  GL000194.1      -      junction_1   \n",
       "1           1  ENST00000613230.1  GL000194.1      -      junction_2   \n",
       "2           2  ENST00000400754.4  GL000194.1      -      junction_1   \n",
       "3           3  ENST00000400754.4  GL000194.1      -      junction_2   \n",
       "4           4  ENST00000400754.4  GL000194.1      -      junction_3   \n",
       "\n",
       "   genomic_start_coord  genomic_end_coord transcript_coord junction_category  \\\n",
       "0                55677             112791            ?????             known   \n",
       "1               112851             114985            ?????             known   \n",
       "2                54833              55445            ?????             known   \n",
       "3                55677             112791            ?????             known   \n",
       "4               112851             114985            ?????             known   \n",
       "\n",
       "  start_site_category  ...  canonical  RTS_junction  indel_near_junct  \\\n",
       "0               known  ...  canonical         False               NaN   \n",
       "1               known  ...  canonical         False               NaN   \n",
       "2               known  ...  canonical         False               NaN   \n",
       "3               known  ...  canonical         False               NaN   \n",
       "4               known  ...  canonical         False               NaN   \n",
       "\n",
       "   phyloP_start phyloP_end sample_with_cov  total_coverage_unique  \\\n",
       "0           NaN        NaN             NaN                    NaN   \n",
       "1           NaN        NaN             NaN                    NaN   \n",
       "2           NaN        NaN             NaN                    NaN   \n",
       "3           NaN        NaN             NaN                    NaN   \n",
       "4           NaN        NaN             NaN                    NaN   \n",
       "\n",
       "   total_coverage_multi  genome  cell_line_id  \n",
       "0                   NaN    hg38       HG04217  \n",
       "1                   NaN    hg38       HG04217  \n",
       "2                   NaN    hg38       HG04217  \n",
       "3                   NaN    hg38       HG04217  \n",
       "4                   NaN    hg38       HG04217  \n",
       "\n",
       "[5 rows x 25 columns]"
      ]
     },
     "execution_count": 262,
     "metadata": {},
     "output_type": "execute_result"
    }
   ],
   "source": [
    "file = proc_cfg(config['lr']['td_personal']['sqanti']['sj_summary'],od)\n",
    "df = pd.read_csv(file, sep='\\t')\n",
    "\n",
    "df['sj_id'] = df['chrom'].astype(str)+'_'+\\\n",
    "              df['strand'].astype(str)+'_'+\\\n",
    "              df['genomic_start_coord'].astype(str)+'_'+\\\n",
    "              df['genomic_end_coord'].astype(str)"
   ]
  },
  {
   "cell_type": "code",
   "execution_count": 263,
   "id": "c3258127-ceec-42a5-9c2a-d969b5a07579",
   "metadata": {},
   "outputs": [],
   "source": [
    "df['sj_id'] = df['chrom'].astype(str)+'_'+\\\n",
    "              df['strand'].astype(str)+'_'+\\\n",
    "              df['genomic_start_coord'].astype(str)+'_'+\\\n",
    "              df['genomic_end_coord'].astype(str)"
   ]
  },
  {
   "cell_type": "code",
   "execution_count": 264,
   "id": "7ab1aed4-f50d-4685-afd0-2b9bc2f6fdf3",
   "metadata": {},
   "outputs": [],
   "source": [
    "df = df[['sj_id', 'canonical', 'genome', 'cell_line_id']]\n",
    "df = df.groupby(['canonical', 'genome', 'cell_line_id']).nunique().reset_index().rename({'sj_id':'n_sj'}, axis=1)"
   ]
  },
  {
   "cell_type": "code",
   "execution_count": 266,
   "id": "0de09301-0839-438a-92f5-2fd08f756d97",
   "metadata": {},
   "outputs": [
    {
     "data": {
      "text/html": [
       "<div>\n",
       "<style scoped>\n",
       "    .dataframe tbody tr th:only-of-type {\n",
       "        vertical-align: middle;\n",
       "    }\n",
       "\n",
       "    .dataframe tbody tr th {\n",
       "        vertical-align: top;\n",
       "    }\n",
       "\n",
       "    .dataframe thead th {\n",
       "        text-align: right;\n",
       "    }\n",
       "</style>\n",
       "<table border=\"1\" class=\"dataframe\">\n",
       "  <thead>\n",
       "    <tr style=\"text-align: right;\">\n",
       "      <th></th>\n",
       "      <th>canonical</th>\n",
       "      <th>genome</th>\n",
       "      <th>cell_line_id</th>\n",
       "      <th>n_sj</th>\n",
       "      <th>total_n_sj</th>\n",
       "      <th>perc</th>\n",
       "    </tr>\n",
       "  </thead>\n",
       "  <tbody>\n",
       "    <tr>\n",
       "      <th>0</th>\n",
       "      <td>canonical</td>\n",
       "      <td>hap1</td>\n",
       "      <td>HG00621</td>\n",
       "      <td>109149</td>\n",
       "      <td>109247</td>\n",
       "      <td>99.910295</td>\n",
       "    </tr>\n",
       "    <tr>\n",
       "      <th>1</th>\n",
       "      <td>canonical</td>\n",
       "      <td>hap1</td>\n",
       "      <td>HG01567</td>\n",
       "      <td>100244</td>\n",
       "      <td>100334</td>\n",
       "      <td>99.910300</td>\n",
       "    </tr>\n",
       "    <tr>\n",
       "      <th>2</th>\n",
       "      <td>canonical</td>\n",
       "      <td>hap1</td>\n",
       "      <td>HG01928</td>\n",
       "      <td>85082</td>\n",
       "      <td>85157</td>\n",
       "      <td>99.911927</td>\n",
       "    </tr>\n",
       "    <tr>\n",
       "      <th>3</th>\n",
       "      <td>canonical</td>\n",
       "      <td>hap1</td>\n",
       "      <td>HG01952</td>\n",
       "      <td>94170</td>\n",
       "      <td>94250</td>\n",
       "      <td>99.915119</td>\n",
       "    </tr>\n",
       "    <tr>\n",
       "      <th>4</th>\n",
       "      <td>canonical</td>\n",
       "      <td>hap1</td>\n",
       "      <td>HG01975</td>\n",
       "      <td>91621</td>\n",
       "      <td>91709</td>\n",
       "      <td>99.904044</td>\n",
       "    </tr>\n",
       "  </tbody>\n",
       "</table>\n",
       "</div>"
      ],
      "text/plain": [
       "   canonical genome cell_line_id    n_sj  total_n_sj       perc\n",
       "0  canonical   hap1      HG00621  109149      109247  99.910295\n",
       "1  canonical   hap1      HG01567  100244      100334  99.910300\n",
       "2  canonical   hap1      HG01928   85082       85157  99.911927\n",
       "3  canonical   hap1      HG01952   94170       94250  99.915119\n",
       "4  canonical   hap1      HG01975   91621       91709  99.904044"
      ]
     },
     "execution_count": 266,
     "metadata": {},
     "output_type": "execute_result"
    }
   ],
   "source": [
    "# get % non canonical\n",
    "df['total_n_sj'] = df.groupby(['genome', 'cell_line_id'])['n_sj'].transform('sum')\n",
    "df['perc'] = (df['n_sj']/df['total_n_sj'])*100\n",
    "df.head()"
   ]
  },
  {
   "cell_type": "code",
   "execution_count": 267,
   "id": "a51dcbaf-5743-4a79-af3d-5aa8fcc9c378",
   "metadata": {},
   "outputs": [
    {
     "data": {
      "image/png": "[encoded data removed]",
      "text/plain": [
       "<Figure size 360x360 with 1 Axes>"
      ]
     },
     "metadata": {
      "needs_background": "light"
     },
     "output_type": "display_data"
    }
   ],
   "source": [
    "# just noncanonical\n",
    "df = df.loc[df.canonical=='canonical']\n",
    "init_plot_settings()\n",
    "sns.boxplot(x='genome', y='perc', data=df, showfliers=False)\n",
    "ax =sns.stripplot(x='genome', y='perc', data=df, jitter=True, color='k')\n",
    "ax.set(xlabel='', ylabel='% canonical splice junctions')\n",
    "# ax.set_xticklabels(ax.get_xticklabels(),rotation=90)\n",
    "ax.spines['right'].set_visible(False)\n",
    "ax.spines['top'].set_visible(False)"
   ]
  },
  {
   "cell_type": "markdown",
   "id": "eeb88f63-876c-45f6-a8ec-0dd642ee49a0",
   "metadata": {},
   "source": [
    "## Are there any splice junctions that go from having canonical to non canonical ? Sankey plots?"
   ]
  },
  {
   "cell_type": "code",
   "execution_count": 285,
   "id": "a6d14f3e-408f-4753-b2a4-179a66e4ff3a",
   "metadata": {},
   "outputs": [],
   "source": [
    "file = proc_cfg(config['lr']['td_personal']['sqanti']['sj_summary'],od)\n",
    "df = pd.read_csv(file, sep='\\t')\n",
    "\n",
    "df['sj_id'] = df['chrom'].astype(str)+'_'+\\\n",
    "              df['strand'].astype(str)+'_'+\\\n",
    "              df['genomic_start_coord'].astype(str)+'_'+\\\n",
    "              df['genomic_end_coord'].astype(str)"
   ]
  },
  {
   "cell_type": "code",
   "execution_count": 286,
   "id": "a31378e2-f76f-4354-b5e5-5103af32f86e",
   "metadata": {},
   "outputs": [],
   "source": [
    "df = df[['canonical', 'genome', 'cell_line_id', 'sj_id']]\n",
    "\n",
    "hg38 = df.loc[df.genome=='hg38'].copy(deep=True)\n",
    "hg38 = hg38[['canonical', 'genome', 'sj_id']].drop_duplicates()\n",
    "personal = df.loc[df.genome!='hg38'].copy(deep=True)"
   ]
  },
  {
   "cell_type": "code",
   "execution_count": 287,
   "id": "cdf62a55-624a-4e0f-91b7-27a10de8736b",
   "metadata": {},
   "outputs": [
    {
     "data": {
      "text/html": [
       "<div>\n",
       "<style scoped>\n",
       "    .dataframe tbody tr th:only-of-type {\n",
       "        vertical-align: middle;\n",
       "    }\n",
       "\n",
       "    .dataframe tbody tr th {\n",
       "        vertical-align: top;\n",
       "    }\n",
       "\n",
       "    .dataframe thead th {\n",
       "        text-align: right;\n",
       "    }\n",
       "</style>\n",
       "<table border=\"1\" class=\"dataframe\">\n",
       "  <thead>\n",
       "    <tr style=\"text-align: right;\">\n",
       "      <th></th>\n",
       "      <th>canonical</th>\n",
       "      <th>genome</th>\n",
       "      <th>sj_id</th>\n",
       "    </tr>\n",
       "  </thead>\n",
       "  <tbody>\n",
       "    <tr>\n",
       "      <th>0</th>\n",
       "      <td>canonical</td>\n",
       "      <td>hg38</td>\n",
       "      <td>GL000194.1_-_55677_112791</td>\n",
       "    </tr>\n",
       "    <tr>\n",
       "      <th>1</th>\n",
       "      <td>canonical</td>\n",
       "      <td>hg38</td>\n",
       "      <td>GL000194.1_-_112851_114985</td>\n",
       "    </tr>\n",
       "    <tr>\n",
       "      <th>2</th>\n",
       "      <td>canonical</td>\n",
       "      <td>hg38</td>\n",
       "      <td>GL000194.1_-_54833_55445</td>\n",
       "    </tr>\n",
       "    <tr>\n",
       "      <th>5</th>\n",
       "      <td>canonical</td>\n",
       "      <td>hg38</td>\n",
       "      <td>GL000194.1_-_53863_54677</td>\n",
       "    </tr>\n",
       "    <tr>\n",
       "      <th>9</th>\n",
       "      <td>canonical</td>\n",
       "      <td>hg38</td>\n",
       "      <td>GL000194.1_-_53893_54677</td>\n",
       "    </tr>\n",
       "  </tbody>\n",
       "</table>\n",
       "</div>"
      ],
      "text/plain": [
       "   canonical genome                       sj_id\n",
       "0  canonical   hg38   GL000194.1_-_55677_112791\n",
       "1  canonical   hg38  GL000194.1_-_112851_114985\n",
       "2  canonical   hg38    GL000194.1_-_54833_55445\n",
       "5  canonical   hg38    GL000194.1_-_53863_54677\n",
       "9  canonical   hg38    GL000194.1_-_53893_54677"
      ]
     },
     "execution_count": 287,
     "metadata": {},
     "output_type": "execute_result"
    }
   ],
   "source": [
    "hg38.head()"
   ]
  },
  {
   "cell_type": "code",
   "execution_count": 288,
   "id": "df18f08a-48c6-426e-b448-b430c2d5ce4d",
   "metadata": {},
   "outputs": [],
   "source": [
    "assert len(hg38.loc[hg38.sj_id.duplicated(keep=False)].sort_values(by='sj_id')) ==0"
   ]
  },
  {
   "cell_type": "code",
   "execution_count": 289,
   "id": "3a2337f9-ec9e-4202-86e8-8dbc9ba7875f",
   "metadata": {},
   "outputs": [],
   "source": [
    "hg38['canonical_in_personal_haplotype'] = hg38.sj_id.isin(personal.loc[personal.canonical=='canonical'].sj_id.tolist())"
   ]
  },
  {
   "cell_type": "code",
   "execution_count": 292,
   "id": "58b9dcdf-6455-4333-83c8-a63b4e379cd7",
   "metadata": {},
   "outputs": [],
   "source": [
    "hg38['canonical_in_personal_haplotype'] = hg38['canonical_in_personal_haplotype'].map({True:'canonical', False: 'non_canonical'})"
   ]
  },
  {
   "cell_type": "code",
   "execution_count": 296,
   "id": "7062b842-180d-4eaf-a80d-74cd3c05d8cb",
   "metadata": {},
   "outputs": [],
   "source": [
    "hg38.loc[hg38.canonical!=hg38.canonical_in_personal_haplotype]\n",
    "hg38 = hg38[['canonical', 'canonical_in_personal_haplotype', 'sj_id']]\n",
    "df= hg38.groupby(['canonical', 'canonical_in_personal_haplotype']).nunique().reset_index().rename({'sj_id':'n_sj'}, axis=1)"
   ]
  },
  {
   "cell_type": "code",
   "execution_count": 303,
   "id": "d5586acb-83c1-40a9-a626-faae52fa4053",
   "metadata": {},
   "outputs": [
    {
     "data": {
      "text/plain": [
       "[Text(0, 0.5, '# SJs'), Text(0.5, 0, '')]"
      ]
     },
     "execution_count": 303,
     "metadata": {},
     "output_type": "execute_result"
    },
    {
     "data": {
      "image/png": "[encoded data removed]",
      "text/plain": [
       "<Figure size 360x360 with 1 Axes>"
      ]
     },
     "metadata": {
      "needs_background": "light"
     },
     "output_type": "display_data"
    }
   ],
   "source": [
    "df['cat'] = df['canonical']+'->\\n'+df['canonical_in_personal_haplotype']\n",
    "ax = sns.barplot(df, x='cat', y='n_sj')\n",
    "ax.set_yscale('log')\n",
    "_ = ax.set_xticklabels(ax.get_xticklabels(),rotation=45)\n",
    "ax.set(ylabel='# SJs', xlabel='')\n"
   ]
  },
  {
   "cell_type": "markdown",
   "id": "b5b11145-f8af-4ff2-867d-297a19d08f3f",
   "metadata": {},
   "source": [
    "## Why are we detecting a lot more transcripts in the personal genomes versus the others?"
   ]
  },
  {
   "cell_type": "code",
   "execution_count": null,
   "id": "8e3aeb7d-29fa-4631-b477-642e00f45c9e",
   "metadata": {},
   "outputs": [],
   "source": []
  }
 ],
 "metadata": {
  "kernelspec": {
   "display_name": "Python 3",
   "language": "python",
   "name": "python3"
  },
  "language_info": {
   "codemirror_mode": {
    "name": "ipython",
    "version": 3
   },
   "file_extension": ".py",
   "mimetype": "text/x-python",
   "name": "python",
   "nbconvert_exporter": "python",
   "pygments_lexer": "ipython3",
   "version": "3.7.12"
  }
 },
 "nbformat": 4,
 "nbformat_minor": 5
}
