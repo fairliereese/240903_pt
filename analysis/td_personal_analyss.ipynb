{
 "cells": [
  {
   "cell_type": "code",
   "execution_count": 1,
   "id": "cef4ea77-5ae5-4c18-9867-5d12d0edab68",
   "metadata": {},
   "outputs": [],
   "source": [
    "import pandas as pd\n",
    "import numpy as np\n",
    "import scipy.stats as st\n",
    "import seaborn as sns\n",
    "import sys\n",
    "import os\n",
    "import matplotlib.pyplot as plt\n",
    "import swan_vis as swan\n",
    "import yaml\n",
    "from snakemake.io import expand\n",
    "import cerberus\n",
    "import pyranges as pr\n",
    "import upsetplot\n",
    "\n",
    "p = os.path.dirname(os.getcwd())\n",
    "sys.path.append(p)\n",
    "\n",
    "from scripts.utils import *\n",
    "from scripts.vcf_utils import *\n",
    "from scripts.plotting import *"
   ]
  },
  {
   "cell_type": "code",
   "execution_count": 2,
   "id": "9887c238-03c2-4393-8fbf-26f744b41170",
   "metadata": {},
   "outputs": [],
   "source": [
    "config = load_config()\n",
    "od = '../'\n",
    "\n",
    "def proc_cfg(entry, od):\n",
    "    entry = entry.replace('../../', '')\n",
    "    entry = od+entry\n",
    "    return entry"
   ]
  },
  {
   "cell_type": "code",
   "execution_count": 6,
   "id": "8783956d-19ce-4a26-8fb9-439ccb114f59",
   "metadata": {},
   "outputs": [],
   "source": [
    "meta = load_meta()\n",
    "meta = meta.loc[meta.merged_run_mode==True]\n",
    "sample_d = dict([(entry.cell_line_id, entry['sample']) \\\n",
    "                 for ind, entry in meta.iterrows()])\n",
    "    \n",
    "    \n",
    "\n",
    "f = expand(proc_cfg(config['lr']['kallisto']['quant']['merge_matrix_tpm_tsv'],od))[0]\n",
    "df = pd.read_csv(f, sep='\\t')\n",
    "df.head()\n",
    "df.columns = [d if d == 'transcript_id' else d.split('_')[0] for d in df.columns]\n",
    "df.rename({'transcript_id':'tid'}, axis=1, inplace=True)\n",
    "df.rename(sample_d, axis=1, inplace=True)"
   ]
  },
  {
   "cell_type": "code",
   "execution_count": null,
   "id": "6a2f6e31-6486-42d0-82a9-5d78a8e2cad7",
   "metadata": {},
   "outputs": [],
   "source": [
    "## How does IC sharing differ for the different genotypes?"
   ]
  },
  {
   "cell_type": "code",
   "execution_count": null,
   "id": "fc6916ad-072e-4872-bf97-3fdd8fded327",
   "metadata": {},
   "outputs": [],
   "source": []
  },
  {
   "cell_type": "code",
   "execution_count": 3,
   "id": "ee02b8f7-989c-45eb-896c-6ea7aa52e4da",
   "metadata": {},
   "outputs": [],
   "source": [
    "file = proc_cfg(config['lr']['td_personal']['cerb']['ic_summary'],od)"
   ]
  },
  {
   "cell_type": "code",
   "execution_count": 4,
   "id": "4bd39ce0-cf19-42aa-b34d-3e172298e449",
   "metadata": {},
   "outputs": [],
   "source": [
    "df = pd.read_csv(file, sep='\\t')"
   ]
  },
  {
   "cell_type": "code",
   "execution_count": 5,
   "id": "30deb379-0a9a-42d2-9aef-deb5ec8e5764",
   "metadata": {},
   "outputs": [
    {
     "data": {
      "text/html": [
       "<div>\n",
       "<style scoped>\n",
       "    .dataframe tbody tr th:only-of-type {\n",
       "        vertical-align: middle;\n",
       "    }\n",
       "\n",
       "    .dataframe tbody tr th {\n",
       "        vertical-align: top;\n",
       "    }\n",
       "\n",
       "    .dataframe thead th {\n",
       "        text-align: right;\n",
       "    }\n",
       "</style>\n",
       "<table border=\"1\" class=\"dataframe\">\n",
       "  <thead>\n",
       "    <tr style=\"text-align: right;\">\n",
       "      <th></th>\n",
       "      <th>Unnamed: 0</th>\n",
       "      <th>Chromosome</th>\n",
       "      <th>Strand</th>\n",
       "      <th>Coordinates</th>\n",
       "      <th>Name</th>\n",
       "      <th>genome</th>\n",
       "      <th>cell_line_id</th>\n",
       "    </tr>\n",
       "  </thead>\n",
       "  <tbody>\n",
       "    <tr>\n",
       "      <th>0</th>\n",
       "      <td>0</td>\n",
       "      <td>GL000195.1</td>\n",
       "      <td>-</td>\n",
       "      <td>86517-49092-48954-44923</td>\n",
       "      <td>ENSG00000276256_1</td>\n",
       "      <td>hg38</td>\n",
       "      <td>HG04217</td>\n",
       "    </tr>\n",
       "    <tr>\n",
       "      <th>1</th>\n",
       "      <td>1</td>\n",
       "      <td>GL000195.1</td>\n",
       "      <td>-</td>\n",
       "      <td>86517-49119-48954-44923</td>\n",
       "      <td>ENSG00000276256_2</td>\n",
       "      <td>hg38</td>\n",
       "      <td>HG04217</td>\n",
       "    </tr>\n",
       "    <tr>\n",
       "      <th>2</th>\n",
       "      <td>2</td>\n",
       "      <td>GL000195.1</td>\n",
       "      <td>-</td>\n",
       "      <td>86517-74180-74120-49119-48954-44923</td>\n",
       "      <td>ENSG00000303853_1</td>\n",
       "      <td>hg38</td>\n",
       "      <td>HG04217</td>\n",
       "    </tr>\n",
       "    <tr>\n",
       "      <th>3</th>\n",
       "      <td>3</td>\n",
       "      <td>GL000195.1</td>\n",
       "      <td>-</td>\n",
       "      <td>86517-83958</td>\n",
       "      <td>ENSG00000303853_2</td>\n",
       "      <td>hg38</td>\n",
       "      <td>HG04217</td>\n",
       "    </tr>\n",
       "    <tr>\n",
       "      <th>4</th>\n",
       "      <td>4</td>\n",
       "      <td>GL000195.1</td>\n",
       "      <td>-</td>\n",
       "      <td>86517-84116</td>\n",
       "      <td>ENSG00000303853_3</td>\n",
       "      <td>hg38</td>\n",
       "      <td>HG04217</td>\n",
       "    </tr>\n",
       "  </tbody>\n",
       "</table>\n",
       "</div>"
      ],
      "text/plain": [
       "   Unnamed: 0  Chromosome Strand                          Coordinates  \\\n",
       "0           0  GL000195.1      -              86517-49092-48954-44923   \n",
       "1           1  GL000195.1      -              86517-49119-48954-44923   \n",
       "2           2  GL000195.1      -  86517-74180-74120-49119-48954-44923   \n",
       "3           3  GL000195.1      -                          86517-83958   \n",
       "4           4  GL000195.1      -                          86517-84116   \n",
       "\n",
       "                Name genome cell_line_id  \n",
       "0  ENSG00000276256_1   hg38      HG04217  \n",
       "1  ENSG00000276256_2   hg38      HG04217  \n",
       "2  ENSG00000303853_1   hg38      HG04217  \n",
       "3  ENSG00000303853_2   hg38      HG04217  \n",
       "4  ENSG00000303853_3   hg38      HG04217  "
      ]
     },
     "execution_count": 5,
     "metadata": {},
     "output_type": "execute_result"
    }
   ],
   "source": [
    "df.head()"
   ]
  },
  {
   "cell_type": "markdown",
   "id": "175758ef-5470-4415-8dbe-61db5709c653",
   "metadata": {},
   "source": [
    "## Do we get more NNC (novel splice site) when we look at the personal haploytpes versus the hg38?"
   ]
  },
  {
   "cell_type": "code",
   "execution_count": null,
   "id": "3f32bf56-9ed0-4b59-93cb-e57e94504f43",
   "metadata": {},
   "outputs": [],
   "source": []
  }
 ],
 "metadata": {
  "kernelspec": {
   "display_name": "Python 3",
   "language": "python",
   "name": "python3"
  },
  "language_info": {
   "codemirror_mode": {
    "name": "ipython",
    "version": 3
   },
   "file_extension": ".py",
   "mimetype": "text/x-python",
   "name": "python",
   "nbconvert_exporter": "python",
   "pygments_lexer": "ipython3",
   "version": "3.7.12"
  }
 },
 "nbformat": 4,
 "nbformat_minor": 5
}
