{
 "cells": [
  {
   "cell_type": "code",
   "execution_count": 1,
   "id": "269ddbd7-df4b-4bad-9cd4-2c9bc32858f0",
   "metadata": {},
   "outputs": [],
   "source": [
    "import pandas as pd\n",
    "import numpy as np\n",
    "import scipy.stats as st\n",
    "import seaborn as sns\n",
    "import sys\n",
    "import os\n",
    "import matplotlib.pyplot as plt\n",
    "import swan_vis as swan\n",
    "import yaml\n",
    "from snakemake.io import expand\n",
    "import cerberus\n",
    "import pyranges as pr\n",
    "import upsetplot\n",
    "\n",
    "p = os.path.dirname(os.getcwd())\n",
    "sys.path.append(p)\n",
    "\n",
    "from scripts.utils import *\n",
    "from scripts.vcf_utils import *\n",
    "from scripts.plotting import *"
   ]
  },
  {
   "cell_type": "code",
   "execution_count": 2,
   "id": "ce27bd5b-5c75-4908-a71d-fea761a54edf",
   "metadata": {},
   "outputs": [],
   "source": [
    "config = load_config()\n",
    "od = '../'\n",
    "\n",
    "def proc_cfg(entry, od):\n",
    "    entry = entry.replace('../../', '')\n",
    "    entry = od+entry\n",
    "    return entry"
   ]
  },
  {
   "cell_type": "markdown",
   "id": "c6ce6ff3-70e1-4ae1-94ca-0c3e6b64d88f",
   "metadata": {},
   "source": [
    "## plot samples"
   ]
  },
  {
   "cell_type": "code",
   "execution_count": 3,
   "id": "af3d9d6f-724e-47df-83c7-76b8b60da31a",
   "metadata": {},
   "outputs": [],
   "source": [
    "df = load_meta()"
   ]
  },
  {
   "cell_type": "code",
   "execution_count": 5,
   "id": "b924d56a-92c0-4cc5-89da-0170e9103fe1",
   "metadata": {},
   "outputs": [],
   "source": [
    "df = df[['population', 'sex', 'cell_line_id']]\n",
    "df = df.groupby(['population', 'sex']).nunique().reset_index()\n",
    "df['sex_sh'] = df.sex.map({'Male': 'M', 'Female': 'F'})"
   ]
  },
  {
   "cell_type": "code",
   "execution_count": 8,
   "id": "78e3d227-5ea1-46e1-a9aa-0d0cc9d25532",
   "metadata": {},
   "outputs": [
    {
     "data": {
      "text/plain": [
       "0.07789999999999997"
      ]
     },
     "execution_count": 8,
     "metadata": {},
     "output_type": "execute_result"
    }
   ],
   "source": [
    "0.6148-0.5369"
   ]
  },
  {
   "cell_type": "code",
   "execution_count": 10,
   "id": "c29b919a-62a4-488a-ab35-44a1e5b94815",
   "metadata": {},
   "outputs": [
    {
     "data": {
      "text/plain": [
       "0.0354000000000001"
      ]
     },
     "execution_count": 10,
     "metadata": {},
     "output_type": "execute_result"
    }
   ],
   "source": [
    "5.3663-5.3309"
   ]
  },
  {
   "cell_type": "code",
   "execution_count": 6,
   "id": "95ac877d-b0ef-4ca5-8612-1834e73ef4b6",
   "metadata": {},
   "outputs": [
    {
     "name": "stderr",
     "output_type": "stream",
     "text": [
      "1 extra bytes in post.stringData array\n",
      "'created' timestamp seems very low; regarding as unix timestamp\n",
      "Zapf NOT subset; don't know how to subset; dropped\n",
      "feat NOT subset; don't know how to subset; dropped\n",
      "meta NOT subset; don't know how to subset; dropped\n",
      "morx NOT subset; don't know how to subset; dropped\n"
     ]
    },
    {
     "data": {
      "image/png": "[encoded data removed]",
      "text/plain": [
       "<Figure size 1152x288 with 8 Axes>"
      ]
     },
     "metadata": {
      "needs_background": "light"
     },
     "output_type": "display_data"
    }
   ],
   "source": [
    "c_dict, order = get_population_colors(df.population.unique().tolist())\n",
    "init_plot_settings()\n",
    "g = sns.catplot(\n",
    "    df, kind=\"bar\",\n",
    "    x=\"sex_sh\", y=\"cell_line_id\", col=\"population\",\n",
    "    height=4, aspect=.5\n",
    ")\n",
    "g.set_titles(\"{col_name}\")\n",
    "g.set_axis_labels(\"\", \"# samples\")\n",
    "\n",
    "plt.savefig('n_samples_sex_pop.pdf', dpi=500)"
   ]
  },
  {
   "cell_type": "code",
   "execution_count": null,
   "id": "56375e64-902e-4dfe-8597-0c1ee8650e5a",
   "metadata": {},
   "outputs": [],
   "source": []
  }
 ],
 "metadata": {
  "kernelspec": {
   "display_name": "Python 3",
   "language": "python",
   "name": "python3"
  },
  "language_info": {
   "codemirror_mode": {
    "name": "ipython",
    "version": 3
   },
   "file_extension": ".py",
   "mimetype": "text/x-python",
   "name": "python",
   "nbconvert_exporter": "python",
   "pygments_lexer": "ipython3",
   "version": "3.7.12"
  }
 },
 "nbformat": 4,
 "nbformat_minor": 5
}
