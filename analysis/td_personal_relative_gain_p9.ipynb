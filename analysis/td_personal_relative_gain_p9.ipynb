{
 "cells": [
  {
   "cell_type": "markdown",
   "id": "6f5a9061-fb3f-46a1-8a76-27d4ce9ef536",
   "metadata": {},
   "source": [
    "## Goal: How many unique transcripts do we add for each additional sample? \n",
    "* also split by all and novel\n",
    "* somewhere should color / order by population?  ideally would see jumps @ each pop transition\n",
    "* also should order by total uniq"
   ]
  },
  {
   "cell_type": "code",
   "execution_count": 1,
   "id": "b3441c8f-6ef6-47e4-a7f9-3d559a821b0f",
   "metadata": {},
   "outputs": [],
   "source": [
    "import pandas as pd\n",
    "import numpy as np\n",
    "import scipy.stats as st\n",
    "import seaborn as sns\n",
    "import sys\n",
    "import os\n",
    "import matplotlib.pyplot as plt\n",
    "import yaml\n",
    "from snakemake.io import expand\n",
    "import pyranges as pr\n",
    "from pyfaidx import Fasta\n",
    "from mizani.formatters import percent_format\n",
    "from scipy import stats\n",
    "\n",
    "\n",
    "p = os.path.dirname(os.getcwd())\n",
    "sys.path.append(p)\n",
    "\n",
    "from scripts.utils import *\n",
    "from scripts.vcf_utils import *\n",
    "from scripts.plotting import *\n",
    "\n",
    "from plotnine import *"
   ]
  },
  {
   "cell_type": "code",
   "execution_count": 2,
   "id": "414db4b1-3b97-4f7a-a99a-ac31a61f2ed4",
   "metadata": {},
   "outputs": [],
   "source": [
    "def my_theme(base_size=11, w=4, h=3):\n",
    "    \"\"\"\n",
    "    Custom plotnine theme with:\n",
    "    - White background\n",
    "    - Clean styling\n",
    "    - Axes and ticks retained\n",
    "\n",
    "    Parameters:\n",
    "    - base_size: Base font size\n",
    "\n",
    "    Returns:\n",
    "    - plotnine.theme object\n",
    "    \"\"\"\n",
    "    return (\n",
    "        theme_minimal(base_size=base_size)\n",
    "        + theme(\n",
    "            # White background\n",
    "            panel_background=element_rect(fill='white', color=None),\n",
    "            plot_background=element_rect(fill='white', color=None),\n",
    "\n",
    "            # Remove grid lines\n",
    "            panel_grid_major=element_blank(),\n",
    "            panel_grid_minor=element_blank(),\n",
    "            panel_border=element_blank(),\n",
    "\n",
    "            # Keep axis lines & ticks (don't blank them)\n",
    "            axis_line=element_line(color='black'),\n",
    "            axis_ticks=element_line(color='black'),\n",
    "\n",
    "            plot_title=element_text(hjust=0.5, family='Helvetica'),\n",
    "            axis_title_x=element_text(hjust=0.5, family='Helvetica'),\n",
    "            axis_title_y=element_text(hjust=0.5, margin={'t':0, 'r':-2, 'b':0, 'l':0}, family='Helvetica'),\n",
    "            \n",
    "            # Styling text\n",
    "            legend_title=element_blank(),\n",
    "            axis_title=element_text(size=base_size + 1, family='Helvetica'),\n",
    "            legend_text=element_text(size=base_size-2, family='Helvetica'),\n",
    "            axis_text=element_text(size=base_size, color='black', family='Helvetica'),\n",
    "            figure_size=(w, h),  # Controls plot dimensions (width x height in inches)\n",
    "            plot_margin=0.05      # Shrinks surrounding white space\n",
    "        )\n",
    "    )\n",
    "\n",
    "def clean_figure(ax):\n",
    "    ax.spines['right'].set_visible(False)\n",
    "    ax.spines['top'].set_visible(False)\n",
    "    ax.tick_params(axis=\"x\", rotation=45)"
   ]
  },
  {
   "cell_type": "code",
   "execution_count": 3,
   "id": "e87a57f2-cc6e-4a99-8ee5-820319d9a3c1",
   "metadata": {},
   "outputs": [],
   "source": [
    "config = load_config()\n",
    "od = '../'\n",
    "\n",
    "def proc_cfg(entry, od):\n",
    "    entry = entry.replace('../../', '')\n",
    "    entry = od+entry\n",
    "    return entry"
   ]
  },
  {
   "cell_type": "code",
   "execution_count": 4,
   "id": "06739679-51d2-4330-9180-67417d09ff99",
   "metadata": {},
   "outputs": [],
   "source": [
    "df = load_meta()\n",
    "df = df.loc[~df['sample'].str.contains('_')]\n",
    "df['lab_sample'] = df['lab_number_sample'].astype(str)+'_'+\\\n",
    "                      df['lab_sampleid'].astype(str)+'_'+\\\n",
    "                      df['cell_line_id'].astype(str)\n",
    "df.columns\n",
    "df = df[['cell_line_id', 'sample', 'hapmap_DNA_ID',\n",
    "          'map_reads_assemblymap','lab_sample', 'population']].drop_duplicates()\n",
    "\n",
    "temp_df = pd.read_csv('../snakemake/transcript_discovery_personal/cell_line_ids.txt', header=None, names=['cell_line_id'])\n",
    "\n",
    "# make a 1000g cell line id col\n",
    "df['cell_line_id_1000g'] = df.cell_line_id\n",
    "\n",
    "inds = df.loc[~df.cell_line_id_1000g.isin(temp_df.cell_line_id.tolist())].index\n",
    "df.loc[inds, 'cell_line_id_1000g'] = df.loc[inds, 'hapmap_DNA_ID']\n",
    "len(df.index)\n",
    "\n",
    "# limit to just those in 1000g\n",
    "df = df.loc[df.cell_line_id_1000g.isin(temp_df.cell_line_id.tolist())]\n",
    "assert len(df.index) == 30\n",
    "\n",
    "# TODO bad sample that hasn't finished on espresso\n",
    "# bad_samples = ['NA19328']\n",
    "# df = df.loc[~df.cell_line_id_1000g.isin(bad_samples)]\n",
    "\n",
    "hap = ['hap1', 'hap2']\n",
    "\n",
    "meta_df = df.copy(deep=True)"
   ]
  },
  {
   "cell_type": "code",
   "execution_count": 23,
   "id": "ad86a84d-0006-4bdf-a071-ddbcf980dd10",
   "metadata": {},
   "outputs": [],
   "source": [
    "p_c_dict, p_order = get_population_colors()"
   ]
  },
  {
   "cell_type": "markdown",
   "id": "3b3a5557-01fa-4d3c-9d54-085c9fc62bc3",
   "metadata": {},
   "source": [
    "## First -- all transcripts"
   ]
  },
  {
   "cell_type": "code",
   "execution_count": 10,
   "id": "bcf8ec66-a55e-4476-91fe-9f84c38d7cf9",
   "metadata": {},
   "outputs": [
    {
     "name": "stdout",
     "output_type": "stream",
     "text": [
      "12993951\n",
      "12993951\n"
     ]
    },
    {
     "name": "stderr",
     "output_type": "stream",
     "text": [
      "/var/folders/ch/bc1lrgbd1fn_3gxz886mxjz00000gn/T/ipykernel_4078/442663657.py:28: FutureWarning: Downcasting object dtype arrays on .fillna, .ffill, .bfill is deprecated and will change in a future version. Call result.infer_objects(copy=False) instead. To opt-in to the future behavior, set `pd.set_option('future.no_silent_downcasting', True)`\n"
     ]
    }
   ],
   "source": [
    "file = proc_cfg(config['lr']['td_personal']['cerb']['ic_summary'],od)\n",
    "df = pd.read_csv(file)\n",
    "df.drop('Unnamed: 0', axis=1, inplace=True)\n",
    "df['detected'] = True\n",
    "\n",
    "# 1.5 only novel ics and count per cell line\n",
    "print(len(df.index))\n",
    "temp = df.copy(deep=True)\n",
    "# temp = df.loc[(df.structural_category!='full-splice_match')&\\\n",
    "#               (df.structural_category!='incomplete-splice_match')]\n",
    "print(len(temp.index))\n",
    "\n",
    "# get only the detection from mapping\n",
    "temp = temp[['ic_id', 'cell_line_id', 'map_genome', 'detected']]\n",
    "temp = temp.drop_duplicates()\n",
    "temp = temp.pivot(index=['ic_id', 'cell_line_id'], \n",
    "                columns=['map_genome'],\n",
    "                values=['detected'])\n",
    "\n",
    "# flatten\n",
    "temp.columns = temp.columns.get_level_values(1)\n",
    "temp.columns.name = None\n",
    "\n",
    "# reset index to make it a flat DataFrame\n",
    "temp = temp.reset_index()\n",
    "\n",
    "# fill missing values with False\n",
    "temp = temp.fillna(False)\n",
    "\n",
    "# 1.75. get those that are detected  in hap1/2 \n",
    "temp = temp.loc[(temp.hap1+temp.hap2)>0]\n",
    "temp['n_ic'] = temp.groupby('cell_line_id')['ic_id'].transform('nunique')\n",
    "\n",
    "temp2 = temp[['cell_line_id', 'n_ic']]"
   ]
  },
  {
   "cell_type": "code",
   "execution_count": 11,
   "id": "c73bc183-7521-44fb-9592-fbacb3802bd6",
   "metadata": {},
   "outputs": [
    {
     "data": {
      "text/html": [
       "<div>\n",
       "<style scoped>\n",
       "    .dataframe tbody tr th:only-of-type {\n",
       "        vertical-align: middle;\n",
       "    }\n",
       "\n",
       "    .dataframe tbody tr th {\n",
       "        vertical-align: top;\n",
       "    }\n",
       "\n",
       "    .dataframe thead th {\n",
       "        text-align: right;\n",
       "    }\n",
       "</style>\n",
       "<table border=\"1\" class=\"dataframe\">\n",
       "  <thead>\n",
       "    <tr style=\"text-align: right;\">\n",
       "      <th></th>\n",
       "      <th>cell_line_id</th>\n",
       "      <th>n_ic</th>\n",
       "    </tr>\n",
       "  </thead>\n",
       "  <tbody>\n",
       "    <tr>\n",
       "      <th>0</th>\n",
       "      <td>HG01567</td>\n",
       "      <td>51334</td>\n",
       "    </tr>\n",
       "    <tr>\n",
       "      <th>1</th>\n",
       "      <td>HG03732</td>\n",
       "      <td>44634</td>\n",
       "    </tr>\n",
       "    <tr>\n",
       "      <th>2</th>\n",
       "      <td>HG03732</td>\n",
       "      <td>44634</td>\n",
       "    </tr>\n",
       "    <tr>\n",
       "      <th>3</th>\n",
       "      <td>HG03732</td>\n",
       "      <td>44634</td>\n",
       "    </tr>\n",
       "    <tr>\n",
       "      <th>4</th>\n",
       "      <td>HG01567</td>\n",
       "      <td>51334</td>\n",
       "    </tr>\n",
       "  </tbody>\n",
       "</table>\n",
       "</div>"
      ],
      "text/plain": [
       "  cell_line_id   n_ic\n",
       "0      HG01567  51334\n",
       "1      HG03732  44634\n",
       "2      HG03732  44634\n",
       "3      HG03732  44634\n",
       "4      HG01567  51334"
      ]
     },
     "execution_count": 11,
     "metadata": {},
     "output_type": "execute_result"
    }
   ],
   "source": [
    "temp2.head()"
   ]
  },
  {
   "cell_type": "code",
   "execution_count": 12,
   "id": "72e7c85c-8f23-4a88-9e35-d907c72b5f86",
   "metadata": {},
   "outputs": [
    {
     "name": "stderr",
     "output_type": "stream",
     "text": [
      "/var/folders/ch/bc1lrgbd1fn_3gxz886mxjz00000gn/T/ipykernel_4078/1554135618.py:10: FutureWarning: Downcasting object dtype arrays on .fillna, .ffill, .bfill is deprecated and will change in a future version. Call result.infer_objects(copy=False) instead. To opt-in to the future behavior, set `pd.set_option('future.no_silent_downcasting', True)`\n"
     ]
    }
   ],
   "source": [
    "temp2 = temp2.sort_values(by='n_ic', ascending=False)\n",
    "temp2.drop_duplicates(inplace=True)\n",
    "order = temp2.cell_line_id.tolist()\n",
    "temp.drop(['hap1', 'hap2', 'hg38', 'n_ic'], axis=1, inplace=True)\n",
    "\n",
    "temp['detected'] = True\n",
    "temp = temp.pivot(index='ic_id', columns='cell_line_id')\n",
    "temp.columns.name = None\n",
    "temp.columns = temp.columns.get_level_values(1)\n",
    "temp.fillna(False, inplace=True)"
   ]
  },
  {
   "cell_type": "code",
   "execution_count": 36,
   "id": "dcbc2a3b-d9ba-496f-96be-e51c9ed743f6",
   "metadata": {},
   "outputs": [],
   "source": [
    "temp = temp[order]\n",
    "prev_ics = []\n",
    "big_df = pd.DataFrame()\n",
    "for i, c in enumerate(temp.columns):\n",
    "    temp2 = temp.loc[temp[c]==True]\n",
    "    pop = meta_df.loc[meta_df.cell_line_id_1000g==c, 'population'].values[0]\n",
    "    ics = temp2.index.tolist()\n",
    "    n = len(list(set(ics)-set(prev_ics)))\n",
    "    prev_ics += ics\n",
    "    # print(len(prev_ics))\n",
    "    temp3 = pd.DataFrame(data=[[n,i,pop]], columns=['n_added_uniq', 'n_samples', 'population'])\n",
    "    big_df = pd.concat([big_df, temp3], axis=0)"
   ]
  },
  {
   "cell_type": "code",
   "execution_count": 38,
   "id": "b228ca23-0f07-4cd6-9166-3661ee8f0f22",
   "metadata": {},
   "outputs": [],
   "source": [
    "# init_plot_settings(aspect='rectangle')\n",
    "# ax = sns.lineplot(data=big_df,\n",
    "#              x=\"n_samples\",\n",
    "#              y=\"n_added_uniq\", marker=\"o\")\n",
    "# ax.set(xlabel='Samples (ranked by IC discovery)', \n",
    "#        ylabel='# unique ICs added by sample')\n",
    "# plt.axhline(y=big_df.n_added_uniq.min(), color=\"k\",\n",
    "#             linestyle=\"--\", linewidth=1.5, label=f\"y = {big_df.n_added_uniq.min()}\")\n",
    "# print(big_df.n_added_uniq.min())"
   ]
  },
  {
   "cell_type": "code",
   "execution_count": 72,
   "id": "b3a431fd-2a10-4ce7-b2cd-d6e99c07e750",
   "metadata": {},
   "outputs": [
    {
     "data": {
      "text/plain": [
       "n_added_uniq            1081\n",
       "n_samples                 29\n",
       "population               ITU\n",
       "min_label       Min. = 1,081\n",
       "Name: 0, dtype: object"
      ]
     },
     "execution_count": 72,
     "metadata": {},
     "output_type": "execute_result"
    }
   ],
   "source": [
    "min_row"
   ]
  },
  {
   "cell_type": "code",
   "execution_count": 101,
   "id": "71d5af0f-4417-4617-8df7-26e793c8adb4",
   "metadata": {},
   "outputs": [
    {
     "data": {
      "image/png": "[encoded data removed]"
     },
     "metadata": {
      "image/png": {
       "height": 300,
       "width": 400
      }
     },
     "output_type": "display_data"
    }
   ],
   "source": [
    "min_val = big_df.n_added_uniq.min()\n",
    "min_row = big_df[big_df.n_added_uniq == min_val].iloc[0]  # just one row for label\n",
    "big_df['min_label'] = 'Min. = '+f'{min_val:,}'\n",
    "\n",
    "(\n",
    "    ggplot(big_df, aes(x='n_samples', y='n_added_uniq'))\n",
    "    + geom_hline(\n",
    "        yintercept=big_df.n_added_uniq.min(),\n",
    "        linetype='dashed',\n",
    "        color='black',\n",
    "        size=0.5\n",
    "    )\n",
    "    + geom_line()\n",
    "    + geom_point(aes(color='population'))\n",
    "    + scale_color_manual(values=p_c_dict)\n",
    "    + labs(\n",
    "        x='Samples (ranked by # discovered ICs)',\n",
    "        y='# unique ICs added by sample'\n",
    "    )\n",
    "    + geom_text(\n",
    "        aes(x=min_row.n_samples, y=min_row.n_added_uniq, label='min_label'),\n",
    "        ha='left', va='bottom',\n",
    "        nudge_x=-5, nudge_y=-6000,\n",
    "        size=8,\n",
    "        inherit_aes=False\n",
    "    )\n",
    "    + my_theme(w=4, h=3)\n",
    "    + theme(legend_position='none')\n",
    "    + ylim(0-5000, big_df['n_added_uniq'].max())\n",
    ")\n"
   ]
  },
  {
   "cell_type": "code",
   "execution_count": null,
   "id": "09da72d5-9225-4d70-b9cd-34825e4da7b1",
   "metadata": {},
   "outputs": [],
   "source": []
  }
 ],
 "metadata": {
  "kernelspec": {
   "display_name": "Python 3 (ipykernel)",
   "language": "python",
   "name": "python3"
  },
  "language_info": {
   "codemirror_mode": {
    "name": "ipython",
    "version": 3
   },
   "file_extension": ".py",
   "mimetype": "text/x-python",
   "name": "python",
   "nbconvert_exporter": "python",
   "pygments_lexer": "ipython3",
   "version": "3.12.5"
  }
 },
 "nbformat": 4,
 "nbformat_minor": 5
}
