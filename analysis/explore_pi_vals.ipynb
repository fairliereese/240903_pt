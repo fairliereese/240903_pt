{
 "cells": [
  {
   "cell_type": "code",
   "execution_count": 1,
   "id": "b90cc5d0-c2d6-4391-b112-040b13581115",
   "metadata": {},
   "outputs": [],
   "source": [
    "import pandas as pd\n",
    "import numpy as np\n",
    "import scipy.stats as st\n",
    "import seaborn as sns\n",
    "import sys\n",
    "import os\n",
    "import matplotlib.pyplot as plt\n",
    "import swan_vis as swan\n",
    "import yaml\n",
    "from snakemake.io import expand\n",
    "import cerberus\n",
    "import pyranges as pr\n",
    "import upsetplot\n",
    "\n",
    "p = os.path.dirname(os.getcwd())\n",
    "sys.path.append(p)\n",
    "\n",
    "from scripts.utils import *\n",
    "from scripts.vcf_utils import *\n",
    "from scripts.plotting import *"
   ]
  },
  {
   "cell_type": "code",
   "execution_count": 33,
   "id": "8446b8d0-b58f-4f3c-8d5f-0d35c7b3e846",
   "metadata": {},
   "outputs": [],
   "source": [
    "config = load_config()\n",
    "od = '../'\n",
    "\n",
    "def proc_cfg(entry, od):\n",
    "    entry = entry.replace('../../', '')\n",
    "    entry = od+entry\n",
    "    return entry"
   ]
  },
  {
   "cell_type": "code",
   "execution_count": 142,
   "id": "11ef200c-f86c-4719-aa9d-7d9d8edca991",
   "metadata": {},
   "outputs": [],
   "source": [
    "def get_melted_pi_tpm_table(min_cpm=None):\n",
    "    assemblies = ['same_population_sample', 'afr_sample', 'european_sample']\n",
    "    meta = load_meta()\n",
    "    meta = meta.loc[meta.merged_run_mode==True]\n",
    "    sample_d = dict([(entry.cell_line_id, entry['sample']) \\\n",
    "                     for ind, entry in meta.iterrows()])\n",
    "    \n",
    "    f = expand(proc_cfg(config['lr']['kallisto']['quant']['merge_matrix_tpm_tsv'],od))[0]\n",
    "    df = pd.read_csv(f, sep='\\t')\n",
    "    df.head()\n",
    "    df.columns = [d if d == 'transcript_id' else d.split('_')[0] for d in df.columns]\n",
    "    df.rename({'transcript_id':'tid'}, axis=1, inplace=True)\n",
    "    df.rename(sample_d, axis=1, inplace=True)\n",
    "\n",
    "    \n",
    "    id_vars = ['tid']\n",
    "    sample_columns = list(set(df.columns)-set(id_vars))\n",
    "    tpm_df = df.melt(id_vars=id_vars, value_vars=sample_columns, \n",
    "                      var_name='sample', value_name='tpm')\n",
    "    tpm_df = tpm_df.merge(meta[['sample', 'population']],\n",
    "                          how='left', on='sample')\n",
    "    tpm_df.head()\n",
    "    \n",
    "    f = '../data/analysis/04_relative_abundances_allgenes_pantrx.tsv'\n",
    "    df = pd.read_csv(f, sep='\\t')\n",
    "    df.sort_values(by='geneid.v').head()\n",
    "    df.rename({'geneid.v':'gid', 'transcriptid.v':'tid'}, axis=1, inplace=True)\n",
    "\n",
    "    # get predominant transcripts per sample\n",
    "    id_vars = ['tid', 'gid']\n",
    "    sample_columns = list(set(df.columns)-set(id_vars))\n",
    "    df = df.melt(id_vars=id_vars, value_vars=sample_columns, \n",
    "                      var_name='sample', value_name='pi')\n",
    "\n",
    "    \n",
    "    # filter based on min. cpm\n",
    "    df = df.merge(tpm_df, how='left',\n",
    "                  on=['tid', 'sample'])\n",
    "    \n",
    "    if min_cpm:\n",
    "        df = df.loc[df.tpm >= min_cpm]\n",
    "        \n",
    "    return df"
   ]
  },
  {
   "cell_type": "code",
   "execution_count": 143,
   "id": "14ec9408-aec6-424c-b777-d81790dc2762",
   "metadata": {},
   "outputs": [],
   "source": [
    "df = get_melted_pi_tpm_table(5)\n",
    "\n",
    "df = df.sort_values(by='pi', ascending=False)\n",
    "df = df.drop_duplicates(subset=['gid', 'sample'], keep='first')"
   ]
  },
  {
   "cell_type": "code",
   "execution_count": 144,
   "id": "143a948b-0039-4837-ae64-edead4a6373a",
   "metadata": {},
   "outputs": [
    {
     "data": {
      "text/html": [
       "<div>\n",
       "<style scoped>\n",
       "    .dataframe tbody tr th:only-of-type {\n",
       "        vertical-align: middle;\n",
       "    }\n",
       "\n",
       "    .dataframe tbody tr th {\n",
       "        vertical-align: top;\n",
       "    }\n",
       "\n",
       "    .dataframe thead th {\n",
       "        text-align: right;\n",
       "    }\n",
       "</style>\n",
       "<table border=\"1\" class=\"dataframe\">\n",
       "  <thead>\n",
       "    <tr style=\"text-align: right;\">\n",
       "      <th></th>\n",
       "      <th>gid</th>\n",
       "      <th>n_t</th>\n",
       "    </tr>\n",
       "  </thead>\n",
       "  <tbody>\n",
       "    <tr>\n",
       "      <th>0</th>\n",
       "      <td>ENSG00000000419.14</td>\n",
       "      <td>1</td>\n",
       "    </tr>\n",
       "    <tr>\n",
       "      <th>1</th>\n",
       "      <td>ENSG00000000938.13</td>\n",
       "      <td>1</td>\n",
       "    </tr>\n",
       "    <tr>\n",
       "      <th>2</th>\n",
       "      <td>ENSG00000001036.14</td>\n",
       "      <td>1</td>\n",
       "    </tr>\n",
       "    <tr>\n",
       "      <th>3</th>\n",
       "      <td>ENSG00000001497.18</td>\n",
       "      <td>1</td>\n",
       "    </tr>\n",
       "    <tr>\n",
       "      <th>4</th>\n",
       "      <td>ENSG00000001630.18</td>\n",
       "      <td>1</td>\n",
       "    </tr>\n",
       "  </tbody>\n",
       "</table>\n",
       "</div>"
      ],
      "text/plain": [
       "                  gid  n_t\n",
       "0  ENSG00000000419.14    1\n",
       "1  ENSG00000000938.13    1\n",
       "2  ENSG00000001036.14    1\n",
       "3  ENSG00000001497.18    1\n",
       "4  ENSG00000001630.18    1"
      ]
     },
     "execution_count": 144,
     "metadata": {},
     "output_type": "execute_result"
    }
   ],
   "source": [
    "# count the number of unique predominant transcripts per gene\n",
    "# across individuals (ie not across populations)~!\n",
    "temp = df[['gid', 'tid']].drop_duplicates()\n",
    "temp = temp.groupby('gid').nunique().reset_index().rename({'tid':'n_t'}, axis=1)\n",
    "temp.head()"
   ]
  },
  {
   "cell_type": "code",
   "execution_count": 145,
   "id": "97b6712a-a053-40f6-bda2-ba84deb01c9d",
   "metadata": {},
   "outputs": [
    {
     "data": {
      "text/plain": [
       "<seaborn.axisgrid.FacetGrid at 0x7f885d799cd0>"
      ]
     },
     "execution_count": 145,
     "metadata": {},
     "output_type": "execute_result"
    },
    {
     "data": {
      "image/png": "[encoded data removed]",
      "text/plain": [
       "<Figure size 411.25x360 with 1 Axes>"
      ]
     },
     "metadata": {
      "needs_background": "light"
     },
     "output_type": "display_data"
    }
   ],
   "source": [
    "sns.displot(temp, kind='hist', discrete=True)"
   ]
  },
  {
   "cell_type": "code",
   "execution_count": 146,
   "id": "929883eb-d306-43e6-913d-b2a6be989487",
   "metadata": {},
   "outputs": [
    {
     "data": {
      "text/plain": [
       "0"
      ]
     },
     "execution_count": 146,
     "metadata": {},
     "output_type": "execute_result"
    }
   ],
   "source": [
    "df.loc[df['gid']=='ENSG00000000460.17']\n",
    "len(df.loc[df['gid']=='ENSG00000000460.17'])"
   ]
  },
  {
   "cell_type": "code",
   "execution_count": 147,
   "id": "9d7b9338-cdc7-4b5b-9971-eff318a4f17d",
   "metadata": {},
   "outputs": [
    {
     "data": {
      "text/html": [
       "<div>\n",
       "<style scoped>\n",
       "    .dataframe tbody tr th:only-of-type {\n",
       "        vertical-align: middle;\n",
       "    }\n",
       "\n",
       "    .dataframe tbody tr th {\n",
       "        vertical-align: top;\n",
       "    }\n",
       "\n",
       "    .dataframe thead th {\n",
       "        text-align: right;\n",
       "    }\n",
       "</style>\n",
       "<table border=\"1\" class=\"dataframe\">\n",
       "  <thead>\n",
       "    <tr style=\"text-align: right;\">\n",
       "      <th></th>\n",
       "      <th>gid</th>\n",
       "      <th>n_t</th>\n",
       "    </tr>\n",
       "  </thead>\n",
       "  <tbody>\n",
       "    <tr>\n",
       "      <th>12</th>\n",
       "      <td>ENSG00000003402.21</td>\n",
       "      <td>2</td>\n",
       "    </tr>\n",
       "    <tr>\n",
       "      <th>45</th>\n",
       "      <td>ENSG00000005893.17</td>\n",
       "      <td>2</td>\n",
       "    </tr>\n",
       "    <tr>\n",
       "      <th>47</th>\n",
       "      <td>ENSG00000006015.18</td>\n",
       "      <td>2</td>\n",
       "    </tr>\n",
       "    <tr>\n",
       "      <th>50</th>\n",
       "      <td>ENSG00000006576.17</td>\n",
       "      <td>2</td>\n",
       "    </tr>\n",
       "    <tr>\n",
       "      <th>51</th>\n",
       "      <td>ENSG00000006625.18</td>\n",
       "      <td>2</td>\n",
       "    </tr>\n",
       "    <tr>\n",
       "      <th>...</th>\n",
       "      <td>...</td>\n",
       "      <td>...</td>\n",
       "    </tr>\n",
       "    <tr>\n",
       "      <th>6972</th>\n",
       "      <td>ENSG00000310496.1</td>\n",
       "      <td>2</td>\n",
       "    </tr>\n",
       "    <tr>\n",
       "      <th>6979</th>\n",
       "      <td>LOC_000000000096</td>\n",
       "      <td>2</td>\n",
       "    </tr>\n",
       "    <tr>\n",
       "      <th>6981</th>\n",
       "      <td>LOC_000000000433</td>\n",
       "      <td>2</td>\n",
       "    </tr>\n",
       "    <tr>\n",
       "      <th>6990</th>\n",
       "      <td>LOC_000000001550</td>\n",
       "      <td>2</td>\n",
       "    </tr>\n",
       "    <tr>\n",
       "      <th>6999</th>\n",
       "      <td>novelGene_ENSG00000172081.14_AS</td>\n",
       "      <td>2</td>\n",
       "    </tr>\n",
       "  </tbody>\n",
       "</table>\n",
       "<p>1032 rows × 2 columns</p>\n",
       "</div>"
      ],
      "text/plain": [
       "                                  gid  n_t\n",
       "12                 ENSG00000003402.21    2\n",
       "45                 ENSG00000005893.17    2\n",
       "47                 ENSG00000006015.18    2\n",
       "50                 ENSG00000006576.17    2\n",
       "51                 ENSG00000006625.18    2\n",
       "...                               ...  ...\n",
       "6972                ENSG00000310496.1    2\n",
       "6979                 LOC_000000000096    2\n",
       "6981                 LOC_000000000433    2\n",
       "6990                 LOC_000000001550    2\n",
       "6999  novelGene_ENSG00000172081.14_AS    2\n",
       "\n",
       "[1032 rows x 2 columns]"
      ]
     },
     "execution_count": 147,
     "metadata": {},
     "output_type": "execute_result"
    }
   ],
   "source": [
    "temp.loc[temp.n_t==2]"
   ]
  },
  {
   "cell_type": "code",
   "execution_count": 148,
   "id": "ce37a9ca-5f5e-4dd4-9daa-018d9250a888",
   "metadata": {},
   "outputs": [
    {
     "data": {
      "text/html": [
       "<div>\n",
       "<style scoped>\n",
       "    .dataframe tbody tr th:only-of-type {\n",
       "        vertical-align: middle;\n",
       "    }\n",
       "\n",
       "    .dataframe tbody tr th {\n",
       "        vertical-align: top;\n",
       "    }\n",
       "\n",
       "    .dataframe thead th {\n",
       "        text-align: right;\n",
       "    }\n",
       "</style>\n",
       "<table border=\"1\" class=\"dataframe\">\n",
       "  <thead>\n",
       "    <tr style=\"text-align: right;\">\n",
       "      <th></th>\n",
       "      <th>tid</th>\n",
       "      <th>gid</th>\n",
       "      <th>sample</th>\n",
       "      <th>pi</th>\n",
       "      <th>tpm</th>\n",
       "      <th>population</th>\n",
       "    </tr>\n",
       "  </thead>\n",
       "  <tbody>\n",
       "  </tbody>\n",
       "</table>\n",
       "</div>"
      ],
      "text/plain": [
       "Empty DataFrame\n",
       "Columns: [tid, gid, sample, pi, tpm, population]\n",
       "Index: []"
      ]
     },
     "execution_count": 148,
     "metadata": {},
     "output_type": "execute_result"
    }
   ],
   "source": [
    "df.loc[df['gid']=='ENSG00000001167.15'].sort_values(by='sample')"
   ]
  },
  {
   "cell_type": "code",
   "execution_count": 149,
   "id": "46ce6fd9-cf97-4913-8761-d148ccee2e11",
   "metadata": {},
   "outputs": [
    {
     "data": {
      "text/html": [
       "<div>\n",
       "<style scoped>\n",
       "    .dataframe tbody tr th:only-of-type {\n",
       "        vertical-align: middle;\n",
       "    }\n",
       "\n",
       "    .dataframe tbody tr th {\n",
       "        vertical-align: top;\n",
       "    }\n",
       "\n",
       "    .dataframe thead th {\n",
       "        text-align: right;\n",
       "    }\n",
       "</style>\n",
       "<table border=\"1\" class=\"dataframe\">\n",
       "  <thead>\n",
       "    <tr style=\"text-align: right;\">\n",
       "      <th></th>\n",
       "      <th>gid</th>\n",
       "      <th>mean_predom_tpm</th>\n",
       "    </tr>\n",
       "  </thead>\n",
       "  <tbody>\n",
       "    <tr>\n",
       "      <th>0</th>\n",
       "      <td>ENSG00000000419.14</td>\n",
       "      <td>72.217237</td>\n",
       "    </tr>\n",
       "    <tr>\n",
       "      <th>1</th>\n",
       "      <td>ENSG00000000938.13</td>\n",
       "      <td>7.412230</td>\n",
       "    </tr>\n",
       "    <tr>\n",
       "      <th>2</th>\n",
       "      <td>ENSG00000001036.14</td>\n",
       "      <td>14.337569</td>\n",
       "    </tr>\n",
       "    <tr>\n",
       "      <th>3</th>\n",
       "      <td>ENSG00000001497.18</td>\n",
       "      <td>6.590717</td>\n",
       "    </tr>\n",
       "    <tr>\n",
       "      <th>4</th>\n",
       "      <td>ENSG00000001630.18</td>\n",
       "      <td>8.170092</td>\n",
       "    </tr>\n",
       "  </tbody>\n",
       "</table>\n",
       "</div>"
      ],
      "text/plain": [
       "                  gid  mean_predom_tpm\n",
       "0  ENSG00000000419.14        72.217237\n",
       "1  ENSG00000000938.13         7.412230\n",
       "2  ENSG00000001036.14        14.337569\n",
       "3  ENSG00000001497.18         6.590717\n",
       "4  ENSG00000001630.18         8.170092"
      ]
     },
     "execution_count": 149,
     "metadata": {},
     "output_type": "execute_result"
    }
   ],
   "source": [
    "# plot number of unique dominant transcripts by the avg. expression \n",
    "temp2 = df[['gid', 'tpm']].groupby('gid').mean().reset_index().rename({'tpm':'mean_predom_tpm'}, axis=1)\n",
    "temp2.head()"
   ]
  },
  {
   "cell_type": "code",
   "execution_count": 150,
   "id": "65786c0b-8a5f-49f9-8d6f-43ef37d9100a",
   "metadata": {},
   "outputs": [
    {
     "data": {
      "text/html": [
       "<div>\n",
       "<style scoped>\n",
       "    .dataframe tbody tr th:only-of-type {\n",
       "        vertical-align: middle;\n",
       "    }\n",
       "\n",
       "    .dataframe tbody tr th {\n",
       "        vertical-align: top;\n",
       "    }\n",
       "\n",
       "    .dataframe thead th {\n",
       "        text-align: right;\n",
       "    }\n",
       "</style>\n",
       "<table border=\"1\" class=\"dataframe\">\n",
       "  <thead>\n",
       "    <tr style=\"text-align: right;\">\n",
       "      <th></th>\n",
       "      <th>gid</th>\n",
       "      <th>n_t</th>\n",
       "      <th>mean_predom_tpm</th>\n",
       "    </tr>\n",
       "  </thead>\n",
       "  <tbody>\n",
       "    <tr>\n",
       "      <th>0</th>\n",
       "      <td>ENSG00000000419.14</td>\n",
       "      <td>1</td>\n",
       "      <td>72.217237</td>\n",
       "    </tr>\n",
       "    <tr>\n",
       "      <th>1</th>\n",
       "      <td>ENSG00000000938.13</td>\n",
       "      <td>1</td>\n",
       "      <td>7.412230</td>\n",
       "    </tr>\n",
       "    <tr>\n",
       "      <th>2</th>\n",
       "      <td>ENSG00000001036.14</td>\n",
       "      <td>1</td>\n",
       "      <td>14.337569</td>\n",
       "    </tr>\n",
       "    <tr>\n",
       "      <th>3</th>\n",
       "      <td>ENSG00000001497.18</td>\n",
       "      <td>1</td>\n",
       "      <td>6.590717</td>\n",
       "    </tr>\n",
       "    <tr>\n",
       "      <th>4</th>\n",
       "      <td>ENSG00000001630.18</td>\n",
       "      <td>1</td>\n",
       "      <td>8.170092</td>\n",
       "    </tr>\n",
       "  </tbody>\n",
       "</table>\n",
       "</div>"
      ],
      "text/plain": [
       "                  gid  n_t  mean_predom_tpm\n",
       "0  ENSG00000000419.14    1        72.217237\n",
       "1  ENSG00000000938.13    1         7.412230\n",
       "2  ENSG00000001036.14    1        14.337569\n",
       "3  ENSG00000001497.18    1         6.590717\n",
       "4  ENSG00000001630.18    1         8.170092"
      ]
     },
     "execution_count": 150,
     "metadata": {},
     "output_type": "execute_result"
    }
   ],
   "source": [
    "temp = temp.merge(temp2, on='gid', how='left')\n",
    "temp.head()"
   ]
  },
  {
   "cell_type": "code",
   "execution_count": 151,
   "id": "b97d34c5-7393-4acd-abb3-aaf63edd8f1c",
   "metadata": {},
   "outputs": [
    {
     "data": {
      "text/plain": [
       "<seaborn.axisgrid.JointGrid at 0x7f86b0549450>"
      ]
     },
     "execution_count": 151,
     "metadata": {},
     "output_type": "execute_result"
    },
    {
     "data": {
      "image/png": "[encoded data removed]",
      "text/plain": [
       "<Figure size 432x432 with 3 Axes>"
      ]
     },
     "metadata": {
      "needs_background": "light"
     },
     "output_type": "display_data"
    }
   ],
   "source": [
    "sns.jointplot(temp, x='n_t', y='mean_predom_tpm')"
   ]
  },
  {
   "cell_type": "code",
   "execution_count": 158,
   "id": "0bc7559c-4132-45d9-a166-798e704c58b8",
   "metadata": {},
   "outputs": [
    {
     "data": {
      "text/html": [
       "<div>\n",
       "<style scoped>\n",
       "    .dataframe tbody tr th:only-of-type {\n",
       "        vertical-align: middle;\n",
       "    }\n",
       "\n",
       "    .dataframe tbody tr th {\n",
       "        vertical-align: top;\n",
       "    }\n",
       "\n",
       "    .dataframe thead th {\n",
       "        text-align: right;\n",
       "    }\n",
       "</style>\n",
       "<table border=\"1\" class=\"dataframe\">\n",
       "  <thead>\n",
       "    <tr style=\"text-align: right;\">\n",
       "      <th></th>\n",
       "      <th>gid</th>\n",
       "      <th>n_t</th>\n",
       "      <th>mean_predom_tpm</th>\n",
       "    </tr>\n",
       "  </thead>\n",
       "  <tbody>\n",
       "    <tr>\n",
       "      <th>5959</th>\n",
       "      <td>ENSG00000205542.11</td>\n",
       "      <td>2</td>\n",
       "      <td>8025.804186</td>\n",
       "    </tr>\n",
       "    <tr>\n",
       "      <th>3248</th>\n",
       "      <td>ENSG00000140264.22</td>\n",
       "      <td>2</td>\n",
       "      <td>2021.268605</td>\n",
       "    </tr>\n",
       "    <tr>\n",
       "      <th>6463</th>\n",
       "      <td>ENSG00000251562.12</td>\n",
       "      <td>2</td>\n",
       "      <td>1740.738116</td>\n",
       "    </tr>\n",
       "    <tr>\n",
       "      <th>4419</th>\n",
       "      <td>ENSG00000164919.11</td>\n",
       "      <td>2</td>\n",
       "      <td>1675.390616</td>\n",
       "    </tr>\n",
       "    <tr>\n",
       "      <th>4613</th>\n",
       "      <td>ENSG00000167526.15</td>\n",
       "      <td>2</td>\n",
       "      <td>1471.231149</td>\n",
       "    </tr>\n",
       "  </tbody>\n",
       "</table>\n",
       "</div>"
      ],
      "text/plain": [
       "                     gid  n_t  mean_predom_tpm\n",
       "5959  ENSG00000205542.11    2      8025.804186\n",
       "3248  ENSG00000140264.22    2      2021.268605\n",
       "6463  ENSG00000251562.12    2      1740.738116\n",
       "4419  ENSG00000164919.11    2      1675.390616\n",
       "4613  ENSG00000167526.15    2      1471.231149"
      ]
     },
     "execution_count": 158,
     "metadata": {},
     "output_type": "execute_result"
    }
   ],
   "source": [
    "temp.loc[temp.n_t>1].sort_values(by='mean_predom_tpm', ascending=False).head()"
   ]
  },
  {
   "cell_type": "code",
   "execution_count": 173,
   "id": "ee331558-bb44-42c2-9298-e0d3b2f7fa82",
   "metadata": {},
   "outputs": [
    {
     "data": {
      "text/html": [
       "<div>\n",
       "<style scoped>\n",
       "    .dataframe tbody tr th:only-of-type {\n",
       "        vertical-align: middle;\n",
       "    }\n",
       "\n",
       "    .dataframe tbody tr th {\n",
       "        vertical-align: top;\n",
       "    }\n",
       "\n",
       "    .dataframe thead th {\n",
       "        text-align: right;\n",
       "    }\n",
       "</style>\n",
       "<table border=\"1\" class=\"dataframe\">\n",
       "  <thead>\n",
       "    <tr style=\"text-align: right;\">\n",
       "      <th></th>\n",
       "      <th>gid</th>\n",
       "      <th>n_t</th>\n",
       "      <th>mean_predom_tpm</th>\n",
       "    </tr>\n",
       "  </thead>\n",
       "  <tbody>\n",
       "    <tr>\n",
       "      <th>5500</th>\n",
       "      <td>ENSG00000185885.17</td>\n",
       "      <td>3</td>\n",
       "      <td>784.030442</td>\n",
       "    </tr>\n",
       "    <tr>\n",
       "      <th>6273</th>\n",
       "      <td>ENSG00000234745.14</td>\n",
       "      <td>7</td>\n",
       "      <td>572.618035</td>\n",
       "    </tr>\n",
       "    <tr>\n",
       "      <th>6374</th>\n",
       "      <td>ENSG00000243466.1_ENSG00000211592.8</td>\n",
       "      <td>3</td>\n",
       "      <td>544.662727</td>\n",
       "    </tr>\n",
       "    <tr>\n",
       "      <th>5627</th>\n",
       "      <td>ENSG00000196126.12</td>\n",
       "      <td>7</td>\n",
       "      <td>440.675600</td>\n",
       "    </tr>\n",
       "    <tr>\n",
       "      <th>1897</th>\n",
       "      <td>ENSG00000116288.13</td>\n",
       "      <td>3</td>\n",
       "      <td>422.423698</td>\n",
       "    </tr>\n",
       "  </tbody>\n",
       "</table>\n",
       "</div>"
      ],
      "text/plain": [
       "                                      gid  n_t  mean_predom_tpm\n",
       "5500                   ENSG00000185885.17    3       784.030442\n",
       "6273                   ENSG00000234745.14    7       572.618035\n",
       "6374  ENSG00000243466.1_ENSG00000211592.8    3       544.662727\n",
       "5627                   ENSG00000196126.12    7       440.675600\n",
       "1897                   ENSG00000116288.13    3       422.423698"
      ]
     },
     "execution_count": 173,
     "metadata": {},
     "output_type": "execute_result"
    }
   ],
   "source": [
    "temp.loc[temp.n_t>2].sort_values(by='mean_predom_tpm', ascending=False).head()"
   ]
  },
  {
   "cell_type": "code",
   "execution_count": 162,
   "id": "9b61b155-dbbf-47f6-85ec-cb47ae576414",
   "metadata": {},
   "outputs": [
    {
     "data": {
      "text/plain": [
       "array(['transcript_185218', 'transcript_185237'], dtype=object)"
      ]
     },
     "execution_count": 162,
     "metadata": {},
     "output_type": "execute_result"
    }
   ],
   "source": [
    "df.loc[df.gid=='ENSG00000205542.11', 'tid'].unique()"
   ]
  },
  {
   "cell_type": "code",
   "execution_count": 183,
   "id": "28139232-eb05-4f3b-a0bf-dba72d1a112d",
   "metadata": {},
   "outputs": [],
   "source": [
    "def plot_thing(df, gid, tids=[]):\n",
    "    temp = df.loc[df.gid==gid].copy(deep=True)\n",
    "    \n",
    "    if len(tids) > 0:\n",
    "        temp = df.loc[df.tid.isin(tids)]\n",
    "    \n",
    "    # ax = sns.stripplot(temp, hue='tid', x='population', y='pi', alpha=0.5)\n",
    "    ax = sns.boxplot(temp, hue='tid', x='population', y='pi')\n",
    "    \n",
    "    sns.move_legend(ax, \"upper left\", bbox_to_anchor=(1, 1))  "
   ]
  },
  {
   "cell_type": "code",
   "execution_count": 184,
   "id": "79c1d6b3-4500-4505-acbd-cca0cf2f4f99",
   "metadata": {},
   "outputs": [],
   "source": [
    "# unfilt_df = get_melted_pi_tpm_table()"
   ]
  },
  {
   "cell_type": "code",
   "execution_count": 185,
   "id": "263bd067-a5b8-4c04-9b7f-7d6499c929f7",
   "metadata": {},
   "outputs": [
    {
     "data": {
      "image/png": "[encoded data removed]",
      "text/plain": [
       "<Figure size 432x288 with 1 Axes>"
      ]
     },
     "metadata": {
      "needs_background": "light"
     },
     "output_type": "display_data"
    }
   ],
   "source": [
    "gid = 'ENSG00000185885.17'\n",
    "tids = df.loc[df.gid==gid, 'tid'].unique()\n",
    "plot_thing(unfilt_df, gid, tids)"
   ]
  },
  {
   "cell_type": "code",
   "execution_count": null,
   "id": "71ed92ee-99b8-498d-a583-58fab3692bbd",
   "metadata": {},
   "outputs": [],
   "source": []
  }
 ],
 "metadata": {
  "kernelspec": {
   "display_name": "Python 3",
   "language": "python",
   "name": "python3"
  },
  "language_info": {
   "codemirror_mode": {
    "name": "ipython",
    "version": 3
   },
   "file_extension": ".py",
   "mimetype": "text/x-python",
   "name": "python",
   "nbconvert_exporter": "python",
   "pygments_lexer": "ipython3",
   "version": "3.7.12"
  }
 },
 "nbformat": 4,
 "nbformat_minor": 5
}
