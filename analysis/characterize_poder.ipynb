{
 "cells": [
  {
   "cell_type": "code",
   "execution_count": 1,
   "id": "0d1f4854-73e8-4760-961b-14349472dee3",
   "metadata": {},
   "outputs": [],
   "source": [
    "import pandas as pd\n",
    "import numpy as np\n",
    "import scipy.stats as st\n",
    "import seaborn as sns\n",
    "import sys\n",
    "import os\n",
    "import matplotlib.pyplot as plt\n",
    "import swan_vis as swan\n",
    "import yaml\n",
    "from snakemake.io import expand\n",
    "import cerberus\n",
    "import pyranges as pr\n",
    "from pyfaidx import Fasta\n",
    "import upsetplot\n",
    "\n",
    "p = os.path.dirname(os.getcwd())\n",
    "sys.path.append(p)\n",
    "\n",
    "from scripts.utils import *\n",
    "from scripts.vcf_utils import *\n",
    "from scripts.plotting import *"
   ]
  },
  {
   "cell_type": "code",
   "execution_count": 2,
   "id": "f0b9a717-db1a-42da-a373-61a512568aae",
   "metadata": {},
   "outputs": [],
   "source": [
    "config = load_config()\n",
    "od = '../'\n",
    "\n",
    "def proc_cfg(entry, od):\n",
    "    entry = entry.replace('../../', '')\n",
    "    entry = od+entry\n",
    "    return entry"
   ]
  },
  {
   "cell_type": "code",
   "execution_count": 3,
   "id": "5552cf5a-aee6-4679-8936-4cb7bdb33b9a",
   "metadata": {},
   "outputs": [],
   "source": [
    "mt_df = pd.read_csv('../data/05_mastertable/poder_master_table_fixed_genics.tsv', sep='\\t')\n",
    "# mt_df = mt_df.loc[mt_df['filter']=='pass']\n",
    "mt_df['pop_spec_t'] = (mt_df.population_sharing==1)&\\\n",
    "                      (mt_df.sample_sharing>1)"
   ]
  },
  {
   "cell_type": "code",
   "execution_count": 4,
   "id": "91e38c9f-396d-46c2-a852-c41afa738541",
   "metadata": {},
   "outputs": [
    {
     "data": {
      "text/html": [
       "<div>\n",
       "<style scoped>\n",
       "    .dataframe tbody tr th:only-of-type {\n",
       "        vertical-align: middle;\n",
       "    }\n",
       "\n",
       "    .dataframe tbody tr th {\n",
       "        vertical-align: top;\n",
       "    }\n",
       "\n",
       "    .dataframe thead th {\n",
       "        text-align: right;\n",
       "    }\n",
       "</style>\n",
       "<table border=\"1\" class=\"dataframe\">\n",
       "  <thead>\n",
       "    <tr style=\"text-align: right;\">\n",
       "      <th></th>\n",
       "      <th>isoform</th>\n",
       "    </tr>\n",
       "    <tr>\n",
       "      <th>structural_category</th>\n",
       "      <th></th>\n",
       "    </tr>\n",
       "  </thead>\n",
       "  <tbody>\n",
       "    <tr>\n",
       "      <th>Antisense</th>\n",
       "      <td>1002</td>\n",
       "    </tr>\n",
       "    <tr>\n",
       "      <th>FSM</th>\n",
       "      <td>114578</td>\n",
       "    </tr>\n",
       "    <tr>\n",
       "      <th>Fusion</th>\n",
       "      <td>1066</td>\n",
       "    </tr>\n",
       "    <tr>\n",
       "      <th>Genic</th>\n",
       "      <td>114</td>\n",
       "    </tr>\n",
       "    <tr>\n",
       "      <th>Intergenic</th>\n",
       "      <td>731</td>\n",
       "    </tr>\n",
       "    <tr>\n",
       "      <th>NIC</th>\n",
       "      <td>17425</td>\n",
       "    </tr>\n",
       "    <tr>\n",
       "      <th>NNC</th>\n",
       "      <td>20959</td>\n",
       "    </tr>\n",
       "  </tbody>\n",
       "</table>\n",
       "</div>"
      ],
      "text/plain": [
       "                     isoform\n",
       "structural_category         \n",
       "Antisense               1002\n",
       "FSM                   114578\n",
       "Fusion                  1066\n",
       "Genic                    114\n",
       "Intergenic               731\n",
       "NIC                    17425\n",
       "NNC                    20959"
      ]
     },
     "execution_count": 4,
     "metadata": {},
     "output_type": "execute_result"
    }
   ],
   "source": [
    "mt_df[['isoform', 'structural_category']].groupby('structural_category').nunique()"
   ]
  },
  {
   "cell_type": "code",
   "execution_count": 7,
   "id": "ba5719ba-b31b-4639-8305-553f534e8bae",
   "metadata": {},
   "outputs": [
    {
     "data": {
      "text/html": [
       "<div>\n",
       "<style scoped>\n",
       "    .dataframe tbody tr th:only-of-type {\n",
       "        vertical-align: middle;\n",
       "    }\n",
       "\n",
       "    .dataframe tbody tr th {\n",
       "        vertical-align: top;\n",
       "    }\n",
       "\n",
       "    .dataframe thead th {\n",
       "        text-align: right;\n",
       "    }\n",
       "</style>\n",
       "<table border=\"1\" class=\"dataframe\">\n",
       "  <thead>\n",
       "    <tr style=\"text-align: right;\">\n",
       "      <th></th>\n",
       "      <th>geneid.v</th>\n",
       "    </tr>\n",
       "    <tr>\n",
       "      <th>structural_category</th>\n",
       "      <th></th>\n",
       "    </tr>\n",
       "  </thead>\n",
       "  <tbody>\n",
       "    <tr>\n",
       "      <th>Antisense</th>\n",
       "      <td>648</td>\n",
       "    </tr>\n",
       "    <tr>\n",
       "      <th>FSM</th>\n",
       "      <td>22383</td>\n",
       "    </tr>\n",
       "    <tr>\n",
       "      <th>Fusion</th>\n",
       "      <td>584</td>\n",
       "    </tr>\n",
       "    <tr>\n",
       "      <th>Genic</th>\n",
       "      <td>90</td>\n",
       "    </tr>\n",
       "    <tr>\n",
       "      <th>Intergenic</th>\n",
       "      <td>476</td>\n",
       "    </tr>\n",
       "    <tr>\n",
       "      <th>NIC</th>\n",
       "      <td>4884</td>\n",
       "    </tr>\n",
       "    <tr>\n",
       "      <th>NNC</th>\n",
       "      <td>6229</td>\n",
       "    </tr>\n",
       "  </tbody>\n",
       "</table>\n",
       "</div>"
      ],
      "text/plain": [
       "                     geneid.v\n",
       "structural_category          \n",
       "Antisense                 648\n",
       "FSM                     22383\n",
       "Fusion                    584\n",
       "Genic                      90\n",
       "Intergenic                476\n",
       "NIC                      4884\n",
       "NNC                      6229"
      ]
     },
     "execution_count": 7,
     "metadata": {},
     "output_type": "execute_result"
    }
   ],
   "source": [
    "mt_df[['geneid.v', 'structural_category']].groupby('structural_category').nunique()"
   ]
  },
  {
   "cell_type": "code",
   "execution_count": 6,
   "id": "b1981c39-4861-4185-a08b-ddb9ea0e3e3f",
   "metadata": {},
   "outputs": [
    {
     "data": {
      "text/plain": [
       "Index(['isoform', 'geneid.v', 'associated_gene_biotype',\n",
       "       'proteinv47_Chromosome', 'proteinv47_Start', 'proteinv47_Stop',\n",
       "       'proteinv47_Strand', 'proteinv47_Source', 'proteinv47_CDS_Source',\n",
       "       'proteinv47_CDS_Start',\n",
       "       ...\n",
       "       'CDS_genomic_end', 'predicted_NMD', 'perc_A_downstream_TTS',\n",
       "       'seq_A_downstream_TTS', 'ORF_seq', 'annotated', 'predicted_ORF',\n",
       "       'proteinv47_predicted_ORF', 'associated_gene_biotype_sub',\n",
       "       'pop_spec_t'],\n",
       "      dtype='object', length=116)"
      ]
     },
     "execution_count": 6,
     "metadata": {},
     "output_type": "execute_result"
    }
   ],
   "source": [
    "mt_df.columns"
   ]
  },
  {
   "cell_type": "markdown",
   "id": "842c85ff-2f9f-402e-ac94-ed0eeba2c2b9",
   "metadata": {},
   "source": [
    "## Number of transcripts per gene by gene type"
   ]
  },
  {
   "cell_type": "code",
   "execution_count": 16,
   "id": "c6949300-ec07-4178-917d-8e21323006f4",
   "metadata": {},
   "outputs": [
    {
     "data": {
      "image/png": "[encoded data removed]",
      "text/plain": [
       "<Figure size 360x360 with 1 Axes>"
      ]
     },
     "metadata": {
      "needs_background": "light"
     },
     "output_type": "display_data"
    },
    {
     "data": {
      "image/png": "[encoded data removed]",
      "text/plain": [
       "<Figure size 360x360 with 1 Axes>"
      ]
     },
     "metadata": {
      "needs_background": "light"
     },
     "output_type": "display_data"
    }
   ],
   "source": [
    "mt_df['gene_novelty'] = 'Novel'\n",
    "things = ['FSM', 'NIC', 'NNC']\n",
    "mt_df.loc[mt_df.structural_category.isin(things), 'gene_novelty'] = 'Known'\n",
    "\n",
    "temp = mt_df[['gene_novelty', 'geneid.v', 'isoform']].groupby(['gene_novelty', 'geneid.v']).nunique().reset_index().rename({'isoform':'n_t'}, axis=1)\n",
    " \n",
    "max_t = 10\n",
    "temp['n_t_2'] = temp.n_t\n",
    "temp.loc[temp.n_t >= 10, 'n_t_2'] = 10\n",
    "\n",
    "init_plot_settings(aspect='square')\n",
    "\n",
    "for t in temp.gene_novelty.unique().tolist():\n",
    "    temp2 = temp.loc[temp.gene_novelty==t]\n",
    "    ax = sns.histplot(temp2, \n",
    "                 x='n_t_2',\n",
    "                 discrete=True,\n",
    "                 edgecolor=None)\n",
    "    ax.set(title=f'{t} genes')\n",
    "    plt.show()\n",
    "    "
   ]
  },
  {
   "cell_type": "code",
   "execution_count": null,
   "id": "1b2e8499-dd8e-4296-b8bc-9149b135a9f8",
   "metadata": {},
   "outputs": [],
   "source": []
  }
 ],
 "metadata": {
  "kernelspec": {
   "display_name": "Python 3",
   "language": "python",
   "name": "python3"
  },
  "language_info": {
   "codemirror_mode": {
    "name": "ipython",
    "version": 3
   },
   "file_extension": ".py",
   "mimetype": "text/x-python",
   "name": "python",
   "nbconvert_exporter": "python",
   "pygments_lexer": "ipython3",
   "version": "3.7.12"
  }
 },
 "nbformat": 4,
 "nbformat_minor": 5
}
