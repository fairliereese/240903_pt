{
 "cells": [
  {
   "cell_type": "code",
   "execution_count": 4,
   "id": "b90cc5d0-c2d6-4391-b112-040b13581115",
   "metadata": {},
   "outputs": [],
   "source": [
    "import pandas as pd\n",
    "import numpy as np\n",
    "import scipy.stats as st\n",
    "import seaborn as sns\n",
    "import sys\n",
    "import os\n",
    "import matplotlib.pyplot as plt\n",
    "import swan_vis as swan\n",
    "import yaml\n",
    "from snakemake.io import expand\n",
    "import cerberus\n",
    "import pyranges as pr\n",
    "import upsetplot\n",
    "\n",
    "p = os.path.dirname(os.getcwd())\n",
    "sys.path.append(p)\n",
    "\n",
    "from scripts.utils import *\n",
    "from scripts.vcf_utils import *\n",
    "from scripts.plotting import *"
   ]
  },
  {
   "cell_type": "code",
   "execution_count": 5,
   "id": "8446b8d0-b58f-4f3c-8d5f-0d35c7b3e846",
   "metadata": {},
   "outputs": [],
   "source": [
    "config = load_config()\n",
    "od = '../'\n",
    "\n",
    "def proc_cfg(entry, od):\n",
    "    entry = entry.replace('../../', '')\n",
    "    entry = od+entry\n",
    "    return entry"
   ]
  },
  {
   "cell_type": "code",
   "execution_count": 6,
   "id": "11ef200c-f86c-4719-aa9d-7d9d8edca991",
   "metadata": {},
   "outputs": [],
   "source": [
    "def get_melted_pi_tpm_table(ver='poder', min_cpm=None):\n",
    "    assemblies = ['same_population_sample', 'afr_sample', 'european_sample']\n",
    "    meta = load_meta()\n",
    "    meta = meta.loc[meta.merged_run_mode==True]\n",
    "    sample_d = dict([(entry.cell_line_id, entry['sample']) \\\n",
    "                     for ind, entry in meta.iterrows()])\n",
    "    \n",
    "    \n",
    "    if ver == 'poder':\n",
    "        f = expand(proc_cfg(config['lr']['kallisto']['quant']['merge_matrix_tpm_tsv'],od))[0]\n",
    "    elif ver == 'v47':\n",
    "        f = expand(proc_cfg(config['lr']['v47_kallisto']['quant']['merge_matrix_tpm_tsv'],od))[0]\n",
    "    df = pd.read_csv(f, sep='\\t')\n",
    "    df.head()\n",
    "    df.columns = [d if d == 'transcript_id' else d.split('_')[0] for d in df.columns]\n",
    "    df.rename({'transcript_id':'tid'}, axis=1, inplace=True)\n",
    "    df.rename(sample_d, axis=1, inplace=True)\n",
    "\n",
    "    \n",
    "    id_vars = ['tid']\n",
    "    sample_columns = list(set(df.columns)-set(id_vars))\n",
    "    tpm_df = df.melt(id_vars=id_vars, value_vars=sample_columns, \n",
    "                      var_name='sample', value_name='tpm')\n",
    "    tpm_df = tpm_df.merge(meta[['sample', 'population']],\n",
    "                          how='left', on='sample')\n",
    "    tpm_df.head()\n",
    "    \n",
    "    if ver == 'poder':\n",
    "        f = '../data/analysis/04_relative_abundances_allgenes_pantrx.tsv'\n",
    "    elif ver == 'v47':\n",
    "        f = '../data/analysis/04_relative_abundances_allgenes_gencode.tsv'\n",
    "    df = pd.read_csv(f, sep='\\t')\n",
    "    df.sort_values(by='geneid.v').head()\n",
    "    df.rename({'geneid.v':'gid', 'transcriptid.v':'tid'}, axis=1, inplace=True)\n",
    "\n",
    "    # get predominant transcripts per sample\n",
    "    id_vars = ['tid', 'gid']\n",
    "    sample_columns = list(set(df.columns)-set(id_vars))\n",
    "    df = df.melt(id_vars=id_vars, value_vars=sample_columns, \n",
    "                      var_name='sample', value_name='pi')\n",
    "\n",
    "    \n",
    "    # filter based on min. cpm\n",
    "    df = df.merge(tpm_df, how='left',\n",
    "                  on=['tid', 'sample'])\n",
    "    \n",
    "    if min_cpm:\n",
    "        df = df.loc[df.tpm >= min_cpm]\n",
    "        \n",
    "    return df"
   ]
  },
  {
   "cell_type": "code",
   "execution_count": 10,
   "id": "14ec9408-aec6-424c-b777-d81790dc2762",
   "metadata": {},
   "outputs": [
    {
     "data": {
      "text/html": [
       "<div>\n",
       "<style scoped>\n",
       "    .dataframe tbody tr th:only-of-type {\n",
       "        vertical-align: middle;\n",
       "    }\n",
       "\n",
       "    .dataframe tbody tr th {\n",
       "        vertical-align: top;\n",
       "    }\n",
       "\n",
       "    .dataframe thead th {\n",
       "        text-align: right;\n",
       "    }\n",
       "</style>\n",
       "<table border=\"1\" class=\"dataframe\">\n",
       "  <thead>\n",
       "    <tr style=\"text-align: right;\">\n",
       "      <th></th>\n",
       "      <th>gid</th>\n",
       "      <th>n_t</th>\n",
       "    </tr>\n",
       "  </thead>\n",
       "  <tbody>\n",
       "    <tr>\n",
       "      <th>0</th>\n",
       "      <td>ENSG00000000419.14</td>\n",
       "      <td>1</td>\n",
       "    </tr>\n",
       "    <tr>\n",
       "      <th>1</th>\n",
       "      <td>ENSG00000000938.13</td>\n",
       "      <td>1</td>\n",
       "    </tr>\n",
       "    <tr>\n",
       "      <th>2</th>\n",
       "      <td>ENSG00000001036.14</td>\n",
       "      <td>1</td>\n",
       "    </tr>\n",
       "    <tr>\n",
       "      <th>3</th>\n",
       "      <td>ENSG00000001497.18</td>\n",
       "      <td>1</td>\n",
       "    </tr>\n",
       "    <tr>\n",
       "      <th>4</th>\n",
       "      <td>ENSG00000001630.18</td>\n",
       "      <td>1</td>\n",
       "    </tr>\n",
       "  </tbody>\n",
       "</table>\n",
       "</div>"
      ],
      "text/plain": [
       "                  gid  n_t\n",
       "0  ENSG00000000419.14    1\n",
       "1  ENSG00000000938.13    1\n",
       "2  ENSG00000001036.14    1\n",
       "3  ENSG00000001497.18    1\n",
       "4  ENSG00000001630.18    1"
      ]
     },
     "execution_count": 10,
     "metadata": {},
     "output_type": "execute_result"
    }
   ],
   "source": [
    "# get predominant transcripts for poder\n",
    "df = get_melted_pi_tpm_table('poder', 5)\n",
    "\n",
    "df = df.sort_values(by='pi', ascending=False)\n",
    "df = df.drop_duplicates(subset=['gid', 'sample'], keep='first')\n",
    "\n",
    "# count the number of unique predominant transcripts per gene\n",
    "# across individuals (ie not across populations)~!\n",
    "temp = df[['gid', 'tid']].drop_duplicates()\n",
    "temp = temp.groupby('gid').nunique().reset_index().rename({'tid':'n_t'}, axis=1)\n",
    "temp.head()"
   ]
  },
  {
   "cell_type": "code",
   "execution_count": 11,
   "id": "bec3db0f-6494-432c-8d2b-4c3c47f8d205",
   "metadata": {},
   "outputs": [
    {
     "data": {
      "text/html": [
       "<div>\n",
       "<style scoped>\n",
       "    .dataframe tbody tr th:only-of-type {\n",
       "        vertical-align: middle;\n",
       "    }\n",
       "\n",
       "    .dataframe tbody tr th {\n",
       "        vertical-align: top;\n",
       "    }\n",
       "\n",
       "    .dataframe thead th {\n",
       "        text-align: right;\n",
       "    }\n",
       "</style>\n",
       "<table border=\"1\" class=\"dataframe\">\n",
       "  <thead>\n",
       "    <tr style=\"text-align: right;\">\n",
       "      <th></th>\n",
       "      <th>gid</th>\n",
       "      <th>n_t</th>\n",
       "    </tr>\n",
       "  </thead>\n",
       "  <tbody>\n",
       "    <tr>\n",
       "      <th>0</th>\n",
       "      <td>ENSG00000000419.14</td>\n",
       "      <td>1</td>\n",
       "    </tr>\n",
       "    <tr>\n",
       "      <th>1</th>\n",
       "      <td>ENSG00000000938.13</td>\n",
       "      <td>2</td>\n",
       "    </tr>\n",
       "    <tr>\n",
       "      <th>2</th>\n",
       "      <td>ENSG00000001036.14</td>\n",
       "      <td>1</td>\n",
       "    </tr>\n",
       "    <tr>\n",
       "      <th>3</th>\n",
       "      <td>ENSG00000001630.18</td>\n",
       "      <td>1</td>\n",
       "    </tr>\n",
       "    <tr>\n",
       "      <th>4</th>\n",
       "      <td>ENSG00000002330.14</td>\n",
       "      <td>1</td>\n",
       "    </tr>\n",
       "  </tbody>\n",
       "</table>\n",
       "</div>"
      ],
      "text/plain": [
       "                  gid  n_t\n",
       "0  ENSG00000000419.14    1\n",
       "1  ENSG00000000938.13    2\n",
       "2  ENSG00000001036.14    1\n",
       "3  ENSG00000001630.18    1\n",
       "4  ENSG00000002330.14    1"
      ]
     },
     "execution_count": 11,
     "metadata": {},
     "output_type": "execute_result"
    }
   ],
   "source": [
    "# get predominant transcripts for v47\n",
    "gc_df = get_melted_pi_tpm_table('v47', 5)\n",
    "\n",
    "gc_df = gc_df.sort_values(by='pi', ascending=False)\n",
    "gc_df = gc_df.drop_duplicates(subset=['gid', 'sample'], keep='first')\n",
    "\n",
    "# count the number of unique predominant transcripts per gene\n",
    "# across individuals (ie not across populations)~!\n",
    "gc_temp = gc_df[['gid', 'tid']].drop_duplicates()\n",
    "gc_temp = gc_temp.groupby('gid').nunique().reset_index().rename({'tid':'n_t'}, axis=1)\n",
    "gc_temp.head()"
   ]
  },
  {
   "cell_type": "code",
   "execution_count": 14,
   "id": "1e3ca152-ab58-41a1-a897-4ab6236520b5",
   "metadata": {},
   "outputs": [],
   "source": [
    "# plot the number of predominant transcripts / gene in gc vs. poder\n",
    "# only use genes where both were detected\n",
    "predom_df = temp.merge(gc_temp, how='inner',\n",
    "                       on='gid',\n",
    "                       suffixes=('_poder', '_v47'))"
   ]
  },
  {
   "cell_type": "code",
   "execution_count": 21,
   "id": "c286eec0-1010-4aa9-b5e6-be0d5b89d0b7",
   "metadata": {},
   "outputs": [
    {
     "data": {
      "text/plain": [
       "<seaborn.axisgrid.JointGrid at 0x7fb2aaee0d50>"
      ]
     },
     "execution_count": 21,
     "metadata": {},
     "output_type": "execute_result"
    },
    {
     "data": {
      "image/png": "[encoded data removed]",
      "text/plain": [
       "<Figure size 432x432 with 3 Axes>"
      ]
     },
     "metadata": {
      "needs_background": "light"
     },
     "output_type": "display_data"
    }
   ],
   "source": [
    "temp3 = predom_df.loc[(predom_df.n_t_poder!=1)|(predom_df.n_t_v47!=1)]\n",
    "sns.jointplot(temp3, x='n_t_poder', y='n_t_v47', kind='hex')"
   ]
  },
  {
   "cell_type": "code",
   "execution_count": 22,
   "id": "c730c3fb-de2f-4e7d-b0d7-030d2955a472",
   "metadata": {},
   "outputs": [
    {
     "data": {
      "text/html": [
       "<div>\n",
       "<style scoped>\n",
       "    .dataframe tbody tr th:only-of-type {\n",
       "        vertical-align: middle;\n",
       "    }\n",
       "\n",
       "    .dataframe tbody tr th {\n",
       "        vertical-align: top;\n",
       "    }\n",
       "\n",
       "    .dataframe thead th {\n",
       "        text-align: right;\n",
       "    }\n",
       "</style>\n",
       "<table border=\"1\" class=\"dataframe\">\n",
       "  <thead>\n",
       "    <tr style=\"text-align: right;\">\n",
       "      <th></th>\n",
       "      <th>n_genes</th>\n",
       "    </tr>\n",
       "    <tr>\n",
       "      <th>more_predom_poder</th>\n",
       "      <th></th>\n",
       "    </tr>\n",
       "  </thead>\n",
       "  <tbody>\n",
       "    <tr>\n",
       "      <th>False</th>\n",
       "      <td>6107</td>\n",
       "    </tr>\n",
       "    <tr>\n",
       "      <th>True</th>\n",
       "      <td>539</td>\n",
       "    </tr>\n",
       "  </tbody>\n",
       "</table>\n",
       "</div>"
      ],
      "text/plain": [
       "                   n_genes\n",
       "more_predom_poder         \n",
       "False                 6107\n",
       "True                   539"
      ]
     },
     "execution_count": 22,
     "metadata": {},
     "output_type": "execute_result"
    }
   ],
   "source": [
    "predom_df['more_predom_poder'] = predom_df.n_t_poder>predom_df.n_t_v47\n",
    "predom_df[['more_predom_poder', 'gid']].groupby('more_predom_poder').nunique().rename({'gid':'n_genes'},axis=1)"
   ]
  },
  {
   "cell_type": "markdown",
   "id": "e2d72bf3-d7ef-48fd-8052-c9eb9f8c8463",
   "metadata": {},
   "source": [
    "## Compare the pi values of predominant isoforms per gene in v47 and gencode\n"
   ]
  },
  {
   "cell_type": "code",
   "execution_count": null,
   "id": "06e1ef0d-141d-4f57-8da0-baf5f17cb5e1",
   "metadata": {},
   "outputs": [],
   "source": [
    "# get predominant transcripts for v47\n",
    "gc_df = get_melted_pi_tpm_table('v47', 5)\n",
    "\n",
    "gc_df = gc_df.sort_values(by='pi', ascending=False)\n",
    "gc_df = gc_df.drop_duplicates(subset=['gid', 'sample'], keep='first')\n"
   ]
  },
  {
   "cell_type": "code",
   "execution_count": null,
   "id": "8cfa7f94-d9cd-4d74-9d0b-a3142d01f91d",
   "metadata": {},
   "outputs": [],
   "source": []
  }
 ],
 "metadata": {
  "kernelspec": {
   "display_name": "Python 3",
   "language": "python",
   "name": "python3"
  },
  "language_info": {
   "codemirror_mode": {
    "name": "ipython",
    "version": 3
   },
   "file_extension": ".py",
   "mimetype": "text/x-python",
   "name": "python",
   "nbconvert_exporter": "python",
   "pygments_lexer": "ipython3",
   "version": "3.7.12"
  }
 },
 "nbformat": 4,
 "nbformat_minor": 5
}
