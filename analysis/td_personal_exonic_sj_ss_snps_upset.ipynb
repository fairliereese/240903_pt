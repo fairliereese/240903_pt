{
 "cells": [
  {
   "cell_type": "markdown",
   "id": "e37eadce-999b-4724-9167-7e217889faf8",
   "metadata": {},
   "source": [
    "## Goal: get SNPs both CLOSE to SJs (exonic, +- 10 bp) and within SSs themselves\n",
    "\n",
    "* 1. Use these to compute what % of novel SJs only in hap1/hap2 have a +- 10bp SNP OR SNP in the SS (should be very close to another I'm computing) AND\n",
    "* 2. Subset on just known SJs to compute a known SJ-proximal SNP density score that I can use to correlate against the % increase in ICs / SJs detected to predict how much novel splicing we're missing in populations / samples that we actually didn't profile here\n",
    "* Here, I want to get the indivdual set of info abotu % for each category (10bp OR ss)\n"
   ]
  },
  {
   "cell_type": "code",
   "execution_count": 8,
   "id": "dbc533b0-60c2-4035-b8fe-72feb6195524",
   "metadata": {},
   "outputs": [],
   "source": [
    "import pandas as pd\n",
    "import numpy as np\n",
    "import scipy.stats as st\n",
    "import seaborn as sns\n",
    "import sys\n",
    "import os\n",
    "import matplotlib.pyplot as plt\n",
    "import swan_vis as swan\n",
    "import yaml\n",
    "from snakemake.io import expand\n",
    "import cerberus\n",
    "import pyranges as pr\n",
    "import upsetplot\n",
    "\n",
    "p = os.path.dirname(os.getcwd())\n",
    "sys.path.append(p)\n",
    "\n",
    "from scripts.utils import *\n",
    "from scripts.vcf_utils import *\n",
    "from scripts.plotting import *"
   ]
  },
  {
   "cell_type": "code",
   "execution_count": 9,
   "id": "35e85518-8800-495f-88ea-b5472ec60696",
   "metadata": {},
   "outputs": [],
   "source": [
    "config = load_config()\n",
    "od = '../'\n",
    "\n",
    "def proc_cfg(entry, od):\n",
    "    entry = entry.replace('../../', '')\n",
    "    entry = od+entry\n",
    "    return entry"
   ]
  },
  {
   "cell_type": "code",
   "execution_count": 10,
   "id": "2d74219b-bb2a-4a9a-8114-df9e6656a831",
   "metadata": {},
   "outputs": [],
   "source": [
    "df = load_meta()\n",
    "df = df.loc[~df['sample'].str.contains('_')]\n",
    "df['lab_sample'] = df['lab_number_sample'].astype(str)+'_'+\\\n",
    "                      df['lab_sampleid'].astype(str)+'_'+\\\n",
    "                      df['cell_line_id'].astype(str)\n",
    "df.columns\n",
    "df = df[['cell_line_id', 'sample', 'hapmap_DNA_ID',\n",
    "          'map_reads_assemblymap','lab_sample', 'population']].drop_duplicates()\n",
    "\n",
    "temp_df = pd.read_csv('../snakemake/transcript_discovery_personal/cell_line_ids.txt', header=None, names=['cell_line_id'])\n",
    "\n",
    "# make a 1000g cell line id col\n",
    "df['cell_line_id_1000g'] = df.cell_line_id\n",
    "\n",
    "inds = df.loc[~df.cell_line_id_1000g.isin(temp_df.cell_line_id.tolist())].index\n",
    "df.loc[inds, 'cell_line_id_1000g'] = df.loc[inds, 'hapmap_DNA_ID']\n",
    "len(df.index)\n",
    "\n",
    "# limit to just those in 1000g\n",
    "df = df.loc[df.cell_line_id_1000g.isin(temp_df.cell_line_id.tolist())]\n",
    "assert len(df.index) == 30\n",
    "\n",
    "# TODO bad sample that hasn't finished on espresso\n",
    "# bad_samples = ['NA19328']\n",
    "# df = df.loc[~df.cell_line_id_1000g.isin(bad_samples)]\n",
    "\n",
    "hap = ['hap1', 'hap2']\n",
    "\n",
    "meta_df = df.copy(deep=True)"
   ]
  },
  {
   "cell_type": "markdown",
   "id": "04f7573b-520f-4a50-85b4-55aef8d1ab36",
   "metadata": {},
   "source": [
    "## We want to know what % of 1.5 NOVEL sjs that we 1. discover only in personal haplotypes that have snps +- 10 of splice junctions OR in splice sites"
   ]
  },
  {
   "cell_type": "code",
   "execution_count": 55,
   "id": "a54f8d36-3858-4dc7-b35a-1a90e3d7985b",
   "metadata": {},
   "outputs": [],
   "source": [
    "file = proc_cfg(config['lr']['td_personal']['sqanti']['sj_summary'],od)\n",
    "df = pd.read_csv(file)\n",
    "df.drop('Unnamed: 0', axis=1, inplace=True)\n",
    "df['detected'] = True\n",
    "\n",
    "# 1.5 only novel sjs\n",
    "temp = df.loc[df.junction_novelty=='novel']\n",
    "\n",
    "# get only the detection from mapping\n",
    "temp = temp[['sj_id', 'cell_line_id', 'map_genome', 'detected']]\n",
    "temp = temp.drop_duplicates()\n",
    "temp = temp.pivot(index=['sj_id', 'cell_line_id'], \n",
    "                columns=['map_genome'],\n",
    "                values=['detected'])\n",
    "\n",
    "# flatten\n",
    "temp.columns = temp.columns.get_level_values(1)\n",
    "temp.columns.name = None\n",
    "\n",
    "# reset index to make it a flat DataFrame\n",
    "temp = temp.reset_index()\n",
    "\n",
    "# fill missing values with False\n",
    "temp = temp.fillna(False)\n",
    "\n",
    "# 1. get those that are detected uniquely in hap1/2 \n",
    "# (ie those not in hg38)\n",
    "temp = temp.loc[(temp.hg38==False)&\n",
    "                ((temp.hap1+temp.hap2)>0)]"
   ]
  },
  {
   "cell_type": "code",
   "execution_count": 60,
   "id": "f47c70dd-dbff-4d5c-8895-4acb4645b033",
   "metadata": {},
   "outputs": [
    {
     "data": {
      "text/plain": [
       "14298"
      ]
     },
     "execution_count": 60,
     "metadata": {},
     "output_type": "execute_result"
    }
   ],
   "source": [
    "temp.head()\n",
    "assert len(temp.index) == len(temp[['sj_id', 'cell_line_id']].drop_duplicates().index)\n",
    "len(temp.index)"
   ]
  },
  {
   "cell_type": "code",
   "execution_count": 62,
   "id": "0bcc19ca-b6cd-4002-9066-27946e6e0524",
   "metadata": {},
   "outputs": [],
   "source": [
    "# 3. process snp content in each sj\n",
    "sj_snp_df = pd.DataFrame()\n",
    "for c in meta_df['cell_line_id_1000g'].tolist():\n",
    "    file = proc_cfg(expand(config['lr']['td_personal']['exon_vars']['sj_10nt_vcf_intersect'],\n",
    "                cell_line_id=c)[0],\n",
    "                od)\n",
    "    df = pr.read_bed(file).df\n",
    "    \n",
    "    # just keep uniq. sj_ids\n",
    "    df.rename({'ThickStart': 'sj_id'}, axis=1, inplace=True)\n",
    "    df = df[['sj_id']]\n",
    "    df = df.drop_duplicates()\n",
    "    \n",
    "    df['cell_line_id'] = c\n",
    "    df['exon_10nt_has_var'] = True\n",
    "    sj_snp_df = pd.concat([sj_snp_df, df], axis=0)"
   ]
  },
  {
   "cell_type": "code",
   "execution_count": 64,
   "id": "7ad5c785-6d97-4e74-8034-5c54c62466fd",
   "metadata": {},
   "outputs": [],
   "source": [
    "assert len(sj_snp_df.index) == len(sj_snp_df[['sj_id', 'cell_line_id']].drop_duplicates().index)\n",
    "assert len(sj_snp_df.index) == len(sj_snp_df.drop_duplicates().index)"
   ]
  },
  {
   "cell_type": "code",
   "execution_count": 65,
   "id": "5aa9a77b-91c4-45fd-8f32-14127ed7f587",
   "metadata": {},
   "outputs": [],
   "source": [
    "temp = temp.merge(sj_snp_df[['sj_id', 'cell_line_id', 'exon_10nt_has_var']],\n",
    "                  how='left',\n",
    "                  on=['sj_id', 'cell_line_id'])\n",
    "temp.exon_10nt_has_var.fillna(False, inplace=True)"
   ]
  },
  {
   "cell_type": "code",
   "execution_count": 66,
   "id": "150f0d83-070e-4eda-aa41-e0089dc6e2b7",
   "metadata": {},
   "outputs": [],
   "source": [
    "# 3. process snp content in each sj\n",
    "sj_snp_df = pd.DataFrame()\n",
    "for c in meta_df['cell_line_id_1000g'].tolist():\n",
    "    file = proc_cfg(expand(config['lr']['td_personal']['exon_vars']['ss_2nt_vcf_intersect'],\n",
    "                cell_line_id=c)[0],\n",
    "                od)\n",
    "    df = pr.read_bed(file).df\n",
    "\n",
    "    # just keep uniq. sj_ids\n",
    "    df.rename({'ThickStart': 'sj_id'}, axis=1, inplace=True)\n",
    "    df = df[['sj_id']]\n",
    "    df = df.drop_duplicates()\n",
    "    \n",
    "    df['cell_line_id'] = c\n",
    "    df['ss_2nt_has_var'] = True\n",
    "    sj_snp_df = pd.concat([sj_snp_df, df], axis=0)"
   ]
  },
  {
   "cell_type": "code",
   "execution_count": 67,
   "id": "e55a858b-8ae2-4369-955b-703f9376491c",
   "metadata": {},
   "outputs": [],
   "source": [
    "assert len(sj_snp_df.index) == len(sj_snp_df[['sj_id', 'cell_line_id']].drop_duplicates().index)\n",
    "assert len(sj_snp_df.index) == len(sj_snp_df.drop_duplicates().index)"
   ]
  },
  {
   "cell_type": "code",
   "execution_count": 68,
   "id": "230f49fa-c4f3-4868-be34-90e83b7e58eb",
   "metadata": {},
   "outputs": [],
   "source": [
    "temp = temp.merge(sj_snp_df[['sj_id', 'cell_line_id', 'ss_2nt_has_var']],\n",
    "                  how='left',\n",
    "                  on=['sj_id', 'cell_line_id'])\n",
    "temp.ss_2nt_has_var.fillna(False, inplace=True)"
   ]
  },
  {
   "cell_type": "code",
   "execution_count": 74,
   "id": "d893fe71-9175-4f8c-9131-8e56be80025c",
   "metadata": {},
   "outputs": [
    {
     "data": {
      "text/html": [
       "<div>\n",
       "<style scoped>\n",
       "    .dataframe tbody tr th:only-of-type {\n",
       "        vertical-align: middle;\n",
       "    }\n",
       "\n",
       "    .dataframe tbody tr th {\n",
       "        vertical-align: top;\n",
       "    }\n",
       "\n",
       "    .dataframe thead th {\n",
       "        text-align: right;\n",
       "    }\n",
       "</style>\n",
       "<table border=\"1\" class=\"dataframe\">\n",
       "  <thead>\n",
       "    <tr style=\"text-align: right;\">\n",
       "      <th></th>\n",
       "      <th>sj_id</th>\n",
       "      <th>cell_line_id</th>\n",
       "      <th>hap1</th>\n",
       "      <th>hap2</th>\n",
       "      <th>hg38</th>\n",
       "      <th>exon_10nt_has_var</th>\n",
       "      <th>ss_2nt_has_var</th>\n",
       "      <th>has_expl</th>\n",
       "    </tr>\n",
       "  </thead>\n",
       "  <tbody>\n",
       "    <tr>\n",
       "      <th>0</th>\n",
       "      <td>GL000194.1_-_53893_55445</td>\n",
       "      <td>HG03729</td>\n",
       "      <td>False</td>\n",
       "      <td>True</td>\n",
       "      <td>False</td>\n",
       "      <td>False</td>\n",
       "      <td>False</td>\n",
       "      <td>False</td>\n",
       "    </tr>\n",
       "    <tr>\n",
       "      <th>1</th>\n",
       "      <td>GL000194.1_-_53893_55445</td>\n",
       "      <td>HG04217</td>\n",
       "      <td>False</td>\n",
       "      <td>True</td>\n",
       "      <td>False</td>\n",
       "      <td>False</td>\n",
       "      <td>False</td>\n",
       "      <td>False</td>\n",
       "    </tr>\n",
       "    <tr>\n",
       "      <th>2</th>\n",
       "      <td>GL000194.1_-_54956_55445</td>\n",
       "      <td>HG04217</td>\n",
       "      <td>False</td>\n",
       "      <td>True</td>\n",
       "      <td>False</td>\n",
       "      <td>False</td>\n",
       "      <td>False</td>\n",
       "      <td>False</td>\n",
       "    </tr>\n",
       "    <tr>\n",
       "      <th>3</th>\n",
       "      <td>KI270726.1_+_26127_26229</td>\n",
       "      <td>HG02261</td>\n",
       "      <td>True</td>\n",
       "      <td>False</td>\n",
       "      <td>False</td>\n",
       "      <td>False</td>\n",
       "      <td>False</td>\n",
       "      <td>False</td>\n",
       "    </tr>\n",
       "    <tr>\n",
       "      <th>4</th>\n",
       "      <td>chr10_+_100987611_100989643</td>\n",
       "      <td>NA19307</td>\n",
       "      <td>True</td>\n",
       "      <td>True</td>\n",
       "      <td>False</td>\n",
       "      <td>True</td>\n",
       "      <td>False</td>\n",
       "      <td>True</td>\n",
       "    </tr>\n",
       "  </tbody>\n",
       "</table>\n",
       "</div>"
      ],
      "text/plain": [
       "                         sj_id cell_line_id   hap1   hap2   hg38  \\\n",
       "0     GL000194.1_-_53893_55445      HG03729  False   True  False   \n",
       "1     GL000194.1_-_53893_55445      HG04217  False   True  False   \n",
       "2     GL000194.1_-_54956_55445      HG04217  False   True  False   \n",
       "3     KI270726.1_+_26127_26229      HG02261   True  False  False   \n",
       "4  chr10_+_100987611_100989643      NA19307   True   True  False   \n",
       "\n",
       "   exon_10nt_has_var  ss_2nt_has_var  has_expl  \n",
       "0              False           False     False  \n",
       "1              False           False     False  \n",
       "2              False           False     False  \n",
       "3              False           False     False  \n",
       "4               True           False      True  "
      ]
     },
     "execution_count": 74,
     "metadata": {},
     "output_type": "execute_result"
    }
   ],
   "source": [
    "temp['has_expl'] = temp.exon_10nt_has_var|temp.ss_2nt_has_var\n",
    "\n",
    "temp.head()"
   ]
  },
  {
   "cell_type": "markdown",
   "id": "228a9675-c74c-4dbb-9c6e-0cf93d8fefcd",
   "metadata": {},
   "source": [
    "## testing"
   ]
  },
  {
   "cell_type": "code",
   "execution_count": null,
   "id": "e36dc094-3517-42e6-a47c-8ae7cb1ea5a3",
   "metadata": {},
   "outputs": [],
   "source": []
  },
  {
   "cell_type": "code",
   "execution_count": 75,
   "id": "27902c5b-5dfa-427b-ab3b-fc2cdb718391",
   "metadata": {},
   "outputs": [],
   "source": [
    "temp2 = pd.read_csv('250223_thing.tsv', sep='\\t')\n",
    "temp = temp.merge(temp2[['sj_id', 'cell_line_id', 'exon_12nt_has_var']],\n",
    "                  how='left',\n",
    "                  on=['sj_id', 'cell_line_id'])"
   ]
  },
  {
   "cell_type": "code",
   "execution_count": 79,
   "id": "866b4d4f-9894-4624-a684-ef43c41de970",
   "metadata": {},
   "outputs": [
    {
     "data": {
      "text/html": [
       "<div>\n",
       "<style scoped>\n",
       "    .dataframe tbody tr th:only-of-type {\n",
       "        vertical-align: middle;\n",
       "    }\n",
       "\n",
       "    .dataframe tbody tr th {\n",
       "        vertical-align: top;\n",
       "    }\n",
       "\n",
       "    .dataframe thead th {\n",
       "        text-align: right;\n",
       "    }\n",
       "</style>\n",
       "<table border=\"1\" class=\"dataframe\">\n",
       "  <thead>\n",
       "    <tr style=\"text-align: right;\">\n",
       "      <th></th>\n",
       "      <th>sj_id</th>\n",
       "      <th>cell_line_id</th>\n",
       "      <th>hap1</th>\n",
       "      <th>hap2</th>\n",
       "      <th>hg38</th>\n",
       "      <th>exon_10nt_has_var</th>\n",
       "      <th>ss_2nt_has_var</th>\n",
       "      <th>has_expl</th>\n",
       "      <th>exon_12nt_has_var</th>\n",
       "    </tr>\n",
       "  </thead>\n",
       "  <tbody>\n",
       "    <tr>\n",
       "      <th>99</th>\n",
       "      <td>chr10_+_60792054_60792122</td>\n",
       "      <td>HG00621</td>\n",
       "      <td>True</td>\n",
       "      <td>True</td>\n",
       "      <td>False</td>\n",
       "      <td>False</td>\n",
       "      <td>False</td>\n",
       "      <td>False</td>\n",
       "      <td>True</td>\n",
       "    </tr>\n",
       "    <tr>\n",
       "      <th>1109</th>\n",
       "      <td>chr11_-_47143562_47176515</td>\n",
       "      <td>HG00621</td>\n",
       "      <td>True</td>\n",
       "      <td>False</td>\n",
       "      <td>False</td>\n",
       "      <td>False</td>\n",
       "      <td>False</td>\n",
       "      <td>False</td>\n",
       "      <td>True</td>\n",
       "    </tr>\n",
       "    <tr>\n",
       "      <th>1942</th>\n",
       "      <td>chr12_-_53665429_53667572</td>\n",
       "      <td>HG00621</td>\n",
       "      <td>True</td>\n",
       "      <td>True</td>\n",
       "      <td>False</td>\n",
       "      <td>False</td>\n",
       "      <td>False</td>\n",
       "      <td>False</td>\n",
       "      <td>True</td>\n",
       "    </tr>\n",
       "    <tr>\n",
       "      <th>2097</th>\n",
       "      <td>chr13_+_21176718_21176861</td>\n",
       "      <td>HG00621</td>\n",
       "      <td>True</td>\n",
       "      <td>True</td>\n",
       "      <td>False</td>\n",
       "      <td>False</td>\n",
       "      <td>False</td>\n",
       "      <td>False</td>\n",
       "      <td>True</td>\n",
       "    </tr>\n",
       "    <tr>\n",
       "      <th>2147</th>\n",
       "      <td>chr13_+_33752690_33752814</td>\n",
       "      <td>HG00621</td>\n",
       "      <td>False</td>\n",
       "      <td>True</td>\n",
       "      <td>False</td>\n",
       "      <td>False</td>\n",
       "      <td>False</td>\n",
       "      <td>False</td>\n",
       "      <td>True</td>\n",
       "    </tr>\n",
       "  </tbody>\n",
       "</table>\n",
       "</div>"
      ],
      "text/plain": [
       "                          sj_id cell_line_id   hap1   hap2   hg38  \\\n",
       "99    chr10_+_60792054_60792122      HG00621   True   True  False   \n",
       "1109  chr11_-_47143562_47176515      HG00621   True  False  False   \n",
       "1942  chr12_-_53665429_53667572      HG00621   True   True  False   \n",
       "2097  chr13_+_21176718_21176861      HG00621   True   True  False   \n",
       "2147  chr13_+_33752690_33752814      HG00621  False   True  False   \n",
       "\n",
       "      exon_10nt_has_var  ss_2nt_has_var  has_expl  exon_12nt_has_var  \n",
       "99                False           False     False               True  \n",
       "1109              False           False     False               True  \n",
       "1942              False           False     False               True  \n",
       "2097              False           False     False               True  \n",
       "2147              False           False     False               True  "
      ]
     },
     "execution_count": 79,
     "metadata": {},
     "output_type": "execute_result"
    }
   ],
   "source": [
    "temp.loc[(temp.has_expl!=temp.exon_12nt_has_var)&(temp.cell_line_id=='HG00621')].head()"
   ]
  },
  {
   "cell_type": "code",
   "execution_count": 80,
   "id": "433e661d-c798-43e9-82a9-3330390c521a",
   "metadata": {},
   "outputs": [],
   "source": [
    "# 3. process snp content in each sj\n",
    "sj_snp_df = pd.DataFrame()\n",
    "for c in meta_df['cell_line_id_1000g'].tolist():\n",
    "    file = proc_cfg(expand(config['lr']['td_personal']['exon_vars']['ss_2nt_vcf_intersect'],\n",
    "                cell_line_id=c)[0],\n",
    "                od)\n",
    "    df = pr.read_bed(file).df\n",
    "\n",
    "    # just keep uniq. sj_ids\n",
    "    df.rename({'ThickStart': 'sj_id'}, axis=1, inplace=True)\n",
    "    \n",
    "    df['cell_line_id'] = c\n",
    "    df['ss_2nt_has_var'] = True\n",
    "    sj_snp_df = pd.concat([sj_snp_df, df], axis=0)"
   ]
  },
  {
   "cell_type": "code",
   "execution_count": 81,
   "id": "916ba914-dad7-42c7-b048-8a1d56a2afd8",
   "metadata": {},
   "outputs": [
    {
     "data": {
      "text/html": [
       "<div>\n",
       "<style scoped>\n",
       "    .dataframe tbody tr th:only-of-type {\n",
       "        vertical-align: middle;\n",
       "    }\n",
       "\n",
       "    .dataframe tbody tr th {\n",
       "        vertical-align: top;\n",
       "    }\n",
       "\n",
       "    .dataframe thead th {\n",
       "        text-align: right;\n",
       "    }\n",
       "</style>\n",
       "<table border=\"1\" class=\"dataframe\">\n",
       "  <thead>\n",
       "    <tr style=\"text-align: right;\">\n",
       "      <th></th>\n",
       "      <th>Chromosome</th>\n",
       "      <th>Start</th>\n",
       "      <th>End</th>\n",
       "      <th>Name</th>\n",
       "      <th>Score</th>\n",
       "      <th>Strand</th>\n",
       "      <th>sj_id</th>\n",
       "      <th>ThickEnd</th>\n",
       "      <th>ItemRGB</th>\n",
       "      <th>cell_line_id</th>\n",
       "      <th>ss_2nt_has_var</th>\n",
       "    </tr>\n",
       "  </thead>\n",
       "  <tbody>\n",
       "  </tbody>\n",
       "</table>\n",
       "</div>"
      ],
      "text/plain": [
       "Empty DataFrame\n",
       "Columns: [Chromosome, Start, End, Name, Score, Strand, sj_id, ThickEnd, ItemRGB, cell_line_id, ss_2nt_has_var]\n",
       "Index: []"
      ]
     },
     "execution_count": 81,
     "metadata": {},
     "output_type": "execute_result"
    }
   ],
   "source": [
    "sj_snp_df.loc[(sj_snp_df.cell_line_id=='HG00621')&(sj_snp_df.sj_id=='chr10_+_60792054_60792122')]"
   ]
  },
  {
   "cell_type": "code",
   "execution_count": 82,
   "id": "227d69fa-1a3f-4c22-91bf-e2ec72700969",
   "metadata": {},
   "outputs": [],
   "source": [
    "# 3. process snp content in each sj\n",
    "sj_snp_df = pd.DataFrame()\n",
    "for c in meta_df['cell_line_id_1000g'].tolist():\n",
    "    file = proc_cfg(expand(config['lr']['td_personal']['exon_vars']['sj_10nt_vcf_intersect'],\n",
    "                cell_line_id=c)[0],\n",
    "                od)\n",
    "    df = pr.read_bed(file).df\n",
    "    \n",
    "    # just keep uniq. sj_ids\n",
    "    df.rename({'ThickStart': 'sj_id'}, axis=1, inplace=True)\n",
    "    \n",
    "    df['cell_line_id'] = c\n",
    "    df['exon_10nt_has_var'] = True\n",
    "    sj_snp_df = pd.concat([sj_snp_df, df], axis=0)"
   ]
  },
  {
   "cell_type": "code",
   "execution_count": 83,
   "id": "4399e551-2992-40d1-b4a9-2f934072c7c7",
   "metadata": {},
   "outputs": [
    {
     "data": {
      "text/html": [
       "<div>\n",
       "<style scoped>\n",
       "    .dataframe tbody tr th:only-of-type {\n",
       "        vertical-align: middle;\n",
       "    }\n",
       "\n",
       "    .dataframe tbody tr th {\n",
       "        vertical-align: top;\n",
       "    }\n",
       "\n",
       "    .dataframe thead th {\n",
       "        text-align: right;\n",
       "    }\n",
       "</style>\n",
       "<table border=\"1\" class=\"dataframe\">\n",
       "  <thead>\n",
       "    <tr style=\"text-align: right;\">\n",
       "      <th></th>\n",
       "      <th>Chromosome</th>\n",
       "      <th>Start</th>\n",
       "      <th>End</th>\n",
       "      <th>Name</th>\n",
       "      <th>Score</th>\n",
       "      <th>Strand</th>\n",
       "      <th>sj_id</th>\n",
       "      <th>ThickEnd</th>\n",
       "      <th>ItemRGB</th>\n",
       "      <th>cell_line_id</th>\n",
       "      <th>exon_10nt_has_var</th>\n",
       "    </tr>\n",
       "  </thead>\n",
       "  <tbody>\n",
       "  </tbody>\n",
       "</table>\n",
       "</div>"
      ],
      "text/plain": [
       "Empty DataFrame\n",
       "Columns: [Chromosome, Start, End, Name, Score, Strand, sj_id, ThickEnd, ItemRGB, cell_line_id, exon_10nt_has_var]\n",
       "Index: []"
      ]
     },
     "execution_count": 83,
     "metadata": {},
     "output_type": "execute_result"
    }
   ],
   "source": [
    "sj_snp_df.loc[(sj_snp_df.cell_line_id=='HG00621')&(sj_snp_df.sj_id=='chr10_+_60792054_60792122')]"
   ]
  },
  {
   "cell_type": "code",
   "execution_count": null,
   "id": "73c7f6e4-5c83-4f79-aaf7-63b3e27d6bca",
   "metadata": {},
   "outputs": [],
   "source": []
  },
  {
   "cell_type": "markdown",
   "id": "3ac11de4-4ceb-424d-b649-888251f98602",
   "metadata": {},
   "source": [
    "## First do a boxplot w/ just total % that have a variant"
   ]
  },
  {
   "cell_type": "code",
   "execution_count": 47,
   "id": "bb37c770-1d2d-4b24-9abc-74cc45ec151b",
   "metadata": {},
   "outputs": [],
   "source": [
    "\n",
    "# how many vars are we talking per cell line?\n",
    "temp['n_sj'] = temp.groupby(['cell_line_id'])['sj_id'].transform('nunique')\n",
    "\n",
    "# get # sjs that have explanation and perc\n",
    "temp['n_sj_exp'] = temp.groupby(['cell_line_id', 'has_expl'])['sj_id'].transform('nunique')\n",
    "temp['perc'] = (temp.n_sj_exp/temp.n_sj)*100\n",
    "\n",
    "temp2 = temp[['cell_line_id', 'has_expl', 'n_sj', 'n_sj_exp', 'perc']].drop_duplicates()"
   ]
  },
  {
   "cell_type": "code",
   "execution_count": 50,
   "id": "157d161d-b672-4ccd-8e98-f8754edccbad",
   "metadata": {},
   "outputs": [
    {
     "data": {
      "text/plain": [
       "30"
      ]
     },
     "execution_count": 50,
     "metadata": {},
     "output_type": "execute_result"
    }
   ],
   "source": [
    "temp2 = temp2.loc[temp2.has_expl==True]\n",
    "len(temp2.index)"
   ]
  },
  {
   "cell_type": "code",
   "execution_count": 53,
   "id": "5024dd8c-b14a-4f4e-8efb-04d12b6284f7",
   "metadata": {},
   "outputs": [
    {
     "data": {
      "text/html": [
       "<div>\n",
       "<style scoped>\n",
       "    .dataframe tbody tr th:only-of-type {\n",
       "        vertical-align: middle;\n",
       "    }\n",
       "\n",
       "    .dataframe tbody tr th {\n",
       "        vertical-align: top;\n",
       "    }\n",
       "\n",
       "    .dataframe thead th {\n",
       "        text-align: right;\n",
       "    }\n",
       "</style>\n",
       "<table border=\"1\" class=\"dataframe\">\n",
       "  <thead>\n",
       "    <tr style=\"text-align: right;\">\n",
       "      <th></th>\n",
       "      <th>cell_line_id</th>\n",
       "      <th>has_expl</th>\n",
       "      <th>n_sj</th>\n",
       "      <th>n_sj_exp</th>\n",
       "      <th>perc</th>\n",
       "    </tr>\n",
       "  </thead>\n",
       "  <tbody>\n",
       "    <tr>\n",
       "      <th>4</th>\n",
       "      <td>NA19307</td>\n",
       "      <td>True</td>\n",
       "      <td>467</td>\n",
       "      <td>189</td>\n",
       "      <td>40.471092</td>\n",
       "    </tr>\n",
       "    <tr>\n",
       "      <th>5</th>\n",
       "      <td>HG01952</td>\n",
       "      <td>True</td>\n",
       "      <td>577</td>\n",
       "      <td>206</td>\n",
       "      <td>35.701906</td>\n",
       "    </tr>\n",
       "    <tr>\n",
       "      <th>6</th>\n",
       "      <td>HG02261</td>\n",
       "      <td>True</td>\n",
       "      <td>695</td>\n",
       "      <td>267</td>\n",
       "      <td>38.417266</td>\n",
       "    </tr>\n",
       "    <tr>\n",
       "      <th>7</th>\n",
       "      <td>HG04217</td>\n",
       "      <td>True</td>\n",
       "      <td>514</td>\n",
       "      <td>184</td>\n",
       "      <td>35.797665</td>\n",
       "    </tr>\n",
       "    <tr>\n",
       "      <th>8</th>\n",
       "      <td>NA12878</td>\n",
       "      <td>True</td>\n",
       "      <td>463</td>\n",
       "      <td>209</td>\n",
       "      <td>45.140389</td>\n",
       "    </tr>\n",
       "  </tbody>\n",
       "</table>\n",
       "</div>"
      ],
      "text/plain": [
       "  cell_line_id  has_expl  n_sj  n_sj_exp       perc\n",
       "4      NA19307      True   467       189  40.471092\n",
       "5      HG01952      True   577       206  35.701906\n",
       "6      HG02261      True   695       267  38.417266\n",
       "7      HG04217      True   514       184  35.797665\n",
       "8      NA12878      True   463       209  45.140389"
      ]
     },
     "execution_count": 53,
     "metadata": {},
     "output_type": "execute_result"
    }
   ],
   "source": [
    "temp2.head()"
   ]
  },
  {
   "cell_type": "code",
   "execution_count": 54,
   "id": "75c19136-a6b2-42cc-a01e-f8abe4d8f410",
   "metadata": {},
   "outputs": [
    {
     "data": {
      "text/html": [
       "<div>\n",
       "<style scoped>\n",
       "    .dataframe tbody tr th:only-of-type {\n",
       "        vertical-align: middle;\n",
       "    }\n",
       "\n",
       "    .dataframe tbody tr th {\n",
       "        vertical-align: top;\n",
       "    }\n",
       "\n",
       "    .dataframe thead th {\n",
       "        text-align: right;\n",
       "    }\n",
       "</style>\n",
       "<table border=\"1\" class=\"dataframe\">\n",
       "  <thead>\n",
       "    <tr style=\"text-align: right;\">\n",
       "      <th></th>\n",
       "      <th>cell_line_id</th>\n",
       "      <th>has_expl</th>\n",
       "      <th>n_sj</th>\n",
       "      <th>n_sj_exp</th>\n",
       "      <th>perc</th>\n",
       "    </tr>\n",
       "  </thead>\n",
       "  <tbody>\n",
       "    <tr>\n",
       "      <th>55</th>\n",
       "      <td>HG00621</td>\n",
       "      <td>True</td>\n",
       "      <td>764</td>\n",
       "      <td>284</td>\n",
       "      <td>37.172775</td>\n",
       "    </tr>\n",
       "  </tbody>\n",
       "</table>\n",
       "</div>"
      ],
      "text/plain": [
       "   cell_line_id  has_expl  n_sj  n_sj_exp       perc\n",
       "55      HG00621      True   764       284  37.172775"
      ]
     },
     "execution_count": 54,
     "metadata": {},
     "output_type": "execute_result"
    }
   ],
   "source": [
    "temp2.loc[temp2.cell_line_id=='HG00621']"
   ]
  },
  {
   "cell_type": "code",
   "execution_count": 52,
   "id": "2ce2dac6-dd39-482f-9ff6-21aa6a580f3d",
   "metadata": {},
   "outputs": [
    {
     "data": {
      "text/plain": [
       "<AxesSubplot:ylabel='perc'>"
      ]
     },
     "execution_count": 52,
     "metadata": {},
     "output_type": "execute_result"
    },
    {
     "data": {
      "image/png": "[encoded data removed]",
      "text/plain": [
       "<Figure size 360x360 with 1 Axes>"
      ]
     },
     "metadata": {
      "needs_background": "light"
     },
     "output_type": "display_data"
    }
   ],
   "source": [
    "sns.boxplot(temp2,\n",
    "            y='perc')"
   ]
  },
  {
   "cell_type": "code",
   "execution_count": 23,
   "id": "9cc814f3-2d21-469b-8b3a-0ea3806207c8",
   "metadata": {},
   "outputs": [],
   "source": [
    "temp2.to_csv('250210_perc_novel_hg38_absent_sjs_w_variant_per_cell_line.tsv', sep='\\t', index=False)"
   ]
  },
  {
   "cell_type": "code",
   "execution_count": null,
   "id": "a108af1e-6454-4ce6-87f2-ecb345f54d19",
   "metadata": {},
   "outputs": [],
   "source": []
  },
  {
   "cell_type": "code",
   "execution_count": null,
   "id": "e84937da-f8d2-4358-a45e-d26b8d2afe9c",
   "metadata": {},
   "outputs": [],
   "source": []
  },
  {
   "cell_type": "code",
   "execution_count": null,
   "id": "1c4c3b74-e319-492d-bc3f-312651a92ba5",
   "metadata": {},
   "outputs": [],
   "source": []
  },
  {
   "cell_type": "code",
   "execution_count": 24,
   "id": "7a9ea161-03ca-4fdb-add6-f1a975d6dc46",
   "metadata": {},
   "outputs": [
    {
     "data": {
      "text/html": [
       "<div>\n",
       "<style scoped>\n",
       "    .dataframe tbody tr th:only-of-type {\n",
       "        vertical-align: middle;\n",
       "    }\n",
       "\n",
       "    .dataframe tbody tr th {\n",
       "        vertical-align: top;\n",
       "    }\n",
       "\n",
       "    .dataframe thead th {\n",
       "        text-align: right;\n",
       "    }\n",
       "</style>\n",
       "<table border=\"1\" class=\"dataframe\">\n",
       "  <thead>\n",
       "    <tr style=\"text-align: right;\">\n",
       "      <th></th>\n",
       "      <th>exon_10nt_has_var</th>\n",
       "      <th>ss_2nt_has_var</th>\n",
       "    </tr>\n",
       "  </thead>\n",
       "  <tbody>\n",
       "    <tr>\n",
       "      <th>0</th>\n",
       "      <td>False</td>\n",
       "      <td>False</td>\n",
       "    </tr>\n",
       "    <tr>\n",
       "      <th>4</th>\n",
       "      <td>True</td>\n",
       "      <td>False</td>\n",
       "    </tr>\n",
       "    <tr>\n",
       "      <th>13</th>\n",
       "      <td>False</td>\n",
       "      <td>True</td>\n",
       "    </tr>\n",
       "    <tr>\n",
       "      <th>93</th>\n",
       "      <td>True</td>\n",
       "      <td>True</td>\n",
       "    </tr>\n",
       "  </tbody>\n",
       "</table>\n",
       "</div>"
      ],
      "text/plain": [
       "    exon_10nt_has_var  ss_2nt_has_var\n",
       "0               False           False\n",
       "4                True           False\n",
       "13              False            True\n",
       "93               True            True"
      ]
     },
     "execution_count": 24,
     "metadata": {},
     "output_type": "execute_result"
    }
   ],
   "source": [
    "# what detection categories do we even have? \n",
    "temp[['exon_10nt_has_var', 'ss_2nt_has_var']].drop_duplicates()"
   ]
  },
  {
   "cell_type": "code",
   "execution_count": 25,
   "id": "86b4e01a-201c-4c4d-afd9-cc389e02c45f",
   "metadata": {},
   "outputs": [],
   "source": [
    "# how many vars are we talking per cell line?\n",
    "temp['n_sj'] = temp.groupby(['cell_line_id'])['sj_id'].transform('nunique')\n",
    "\n",
    "# for each combination of explanations, what % of sjs are explained?\n",
    "# (and for each cell line)\n",
    "temp['n_sj_w_explanation'] = temp.groupby(['cell_line_id', 'exon_10nt_has_var', 'ss_2nt_has_var'])['sj_id'].transform('nunique')\n",
    "temp['perc_sj_w_explanation'] = (temp['n_sj_w_explanation']/temp['n_sj'])*100"
   ]
  },
  {
   "cell_type": "code",
   "execution_count": 26,
   "id": "7275d203-5c06-49e4-b800-1cd1fdf34b57",
   "metadata": {},
   "outputs": [
    {
     "name": "stdout",
     "output_type": "stream",
     "text": [
      "14456\n",
      "119\n"
     ]
    }
   ],
   "source": [
    "keep_cols = ['exon_10nt_has_var', 'ss_2nt_has_var', \n",
    "              'n_sj', 'n_sj_w_explanation', 'perc_sj_w_explanation',\n",
    "             'cell_line_id']\n",
    "temp = temp[keep_cols]\n",
    "print(len(temp.index))\n",
    "temp = temp.drop_duplicates()\n",
    "print(len(temp.index))"
   ]
  },
  {
   "cell_type": "code",
   "execution_count": 27,
   "id": "9e016c7c-1019-49c7-8a3f-5fee82587ee7",
   "metadata": {},
   "outputs": [],
   "source": [
    "temp['# SJs'] = temp.n_sj\n",
    "temp['% SJs'] = temp.perc_sj_w_explanation"
   ]
  },
  {
   "cell_type": "code",
   "execution_count": 28,
   "id": "08f2a860-8cca-4216-b2c7-f969b7d26133",
   "metadata": {},
   "outputs": [],
   "source": [
    "temp.rename({'exon_10nt_has_var': 'Exonic variant\\n+-10bp from SJ', \n",
    "             'ss_2nt_has_var': 'SS variant'}, axis=1, inplace=True)"
   ]
  },
  {
   "cell_type": "code",
   "execution_count": 29,
   "id": "086966cf-763f-46d8-a63a-39a3521c5eaa",
   "metadata": {},
   "outputs": [
    {
     "data": {
      "text/html": [
       "<div>\n",
       "<style scoped>\n",
       "    .dataframe tbody tr th:only-of-type {\n",
       "        vertical-align: middle;\n",
       "    }\n",
       "\n",
       "    .dataframe tbody tr th {\n",
       "        vertical-align: top;\n",
       "    }\n",
       "\n",
       "    .dataframe thead th {\n",
       "        text-align: right;\n",
       "    }\n",
       "</style>\n",
       "<table border=\"1\" class=\"dataframe\">\n",
       "  <thead>\n",
       "    <tr style=\"text-align: right;\">\n",
       "      <th></th>\n",
       "      <th></th>\n",
       "      <th>n_sj</th>\n",
       "      <th>n_sj_w_explanation</th>\n",
       "      <th>perc_sj_w_explanation</th>\n",
       "      <th>cell_line_id</th>\n",
       "      <th># SJs</th>\n",
       "      <th>% SJs</th>\n",
       "    </tr>\n",
       "    <tr>\n",
       "      <th>Exonic variant\n",
       "+-10bp from SJ</th>\n",
       "      <th>SS variant</th>\n",
       "      <th></th>\n",
       "      <th></th>\n",
       "      <th></th>\n",
       "      <th></th>\n",
       "      <th></th>\n",
       "      <th></th>\n",
       "    </tr>\n",
       "  </thead>\n",
       "  <tbody>\n",
       "    <tr>\n",
       "      <th rowspan=\"3\" valign=\"top\">False</th>\n",
       "      <th>False</th>\n",
       "      <td>575</td>\n",
       "      <td>356</td>\n",
       "      <td>61.913043</td>\n",
       "      <td>HG03729</td>\n",
       "      <td>575</td>\n",
       "      <td>61.913043</td>\n",
       "    </tr>\n",
       "    <tr>\n",
       "      <th>False</th>\n",
       "      <td>514</td>\n",
       "      <td>330</td>\n",
       "      <td>64.202335</td>\n",
       "      <td>HG04217</td>\n",
       "      <td>514</td>\n",
       "      <td>64.202335</td>\n",
       "    </tr>\n",
       "    <tr>\n",
       "      <th>False</th>\n",
       "      <td>695</td>\n",
       "      <td>428</td>\n",
       "      <td>61.582734</td>\n",
       "      <td>HG02261</td>\n",
       "      <td>695</td>\n",
       "      <td>61.582734</td>\n",
       "    </tr>\n",
       "    <tr>\n",
       "      <th rowspan=\"2\" valign=\"top\">True</th>\n",
       "      <th>False</th>\n",
       "      <td>467</td>\n",
       "      <td>124</td>\n",
       "      <td>26.552463</td>\n",
       "      <td>NA19307</td>\n",
       "      <td>467</td>\n",
       "      <td>26.552463</td>\n",
       "    </tr>\n",
       "    <tr>\n",
       "      <th>False</th>\n",
       "      <td>577</td>\n",
       "      <td>145</td>\n",
       "      <td>25.129983</td>\n",
       "      <td>HG01952</td>\n",
       "      <td>577</td>\n",
       "      <td>25.129983</td>\n",
       "    </tr>\n",
       "  </tbody>\n",
       "</table>\n",
       "</div>"
      ],
      "text/plain": [
       "                                           n_sj  n_sj_w_explanation  \\\n",
       "Exonic variant\\n+-10bp from SJ SS variant                             \n",
       "False                          False        575                 356   \n",
       "                               False        514                 330   \n",
       "                               False        695                 428   \n",
       "True                           False        467                 124   \n",
       "                               False        577                 145   \n",
       "\n",
       "                                           perc_sj_w_explanation cell_line_id  \\\n",
       "Exonic variant\\n+-10bp from SJ SS variant                                       \n",
       "False                          False                   61.913043      HG03729   \n",
       "                               False                   64.202335      HG04217   \n",
       "                               False                   61.582734      HG02261   \n",
       "True                           False                   26.552463      NA19307   \n",
       "                               False                   25.129983      HG01952   \n",
       "\n",
       "                                           # SJs      % SJs  \n",
       "Exonic variant\\n+-10bp from SJ SS variant                    \n",
       "False                          False         575  61.913043  \n",
       "                               False         514  64.202335  \n",
       "                               False         695  61.582734  \n",
       "True                           False         467  26.552463  \n",
       "                               False         577  25.129983  "
      ]
     },
     "execution_count": 29,
     "metadata": {},
     "output_type": "execute_result"
    }
   ],
   "source": [
    "temp.set_index(['Exonic variant\\n+-10bp from SJ', 'SS variant'], inplace=True)\n",
    "temp.head()"
   ]
  },
  {
   "cell_type": "code",
   "execution_count": 30,
   "id": "f8cef4d8-0c28-4c68-a291-8ee327d29dc2",
   "metadata": {},
   "outputs": [
    {
     "name": "stderr",
     "output_type": "stream",
     "text": [
      "1 extra bytes in post.stringData array\n",
      "'created' timestamp seems very low; regarding as unix timestamp\n",
      "Zapf NOT subset; don't know how to subset; dropped\n",
      "feat NOT subset; don't know how to subset; dropped\n",
      "meta NOT subset; don't know how to subset; dropped\n",
      "morx NOT subset; don't know how to subset; dropped\n"
     ]
    },
    {
     "data": {
      "image/png": "[encoded data removed]",
      "text/plain": [
       "<Figure size 384x160 with 4 Axes>"
      ]
     },
     "metadata": {
      "needs_background": "light"
     },
     "output_type": "display_data"
    }
   ],
   "source": [
    "init_plot_settings()\n",
    "fig = plt.figure(figsize=(10, 16))\n",
    "# plot(example, fig=fig, element_size=None)\n",
    "upset = upsetplot.UpSet(temp, intersection_plot_elements=0)  # disable the default bar chart\n",
    "upset.add_catplot(\n",
    "    kind='box',\n",
    "    value='% SJs')\n",
    "upset.plot(fig=fig)\n",
    "# plt.suptitle('Novel personalized-GRCh38\\nexclusive SJs')\n",
    "plt.savefig('td_personal_perc_novel_pers_spec_sjs.pdf', dpi=500)"
   ]
  },
  {
   "cell_type": "code",
   "execution_count": 31,
   "id": "82d87467-2551-45f6-9c17-e255051a1c09",
   "metadata": {},
   "outputs": [
    {
     "name": "stderr",
     "output_type": "stream",
     "text": [
      "1 extra bytes in post.stringData array\n",
      "'created' timestamp seems very low; regarding as unix timestamp\n",
      "Zapf NOT subset; don't know how to subset; dropped\n",
      "feat NOT subset; don't know how to subset; dropped\n",
      "meta NOT subset; don't know how to subset; dropped\n",
      "morx NOT subset; don't know how to subset; dropped\n"
     ]
    },
    {
     "data": {
      "image/png": "[encoded data removed]",
      "text/plain": [
       "<Figure size 432x288 with 4 Axes>"
      ]
     },
     "metadata": {
      "needs_background": "light"
     },
     "output_type": "display_data"
    }
   ],
   "source": [
    "init_plot_settings()\n",
    "fig = plt.figure(figsize=(6, 4))\n",
    "# plot(example, fig=fig, element_size=None)\n",
    "upset = upsetplot.UpSet(temp, intersection_plot_elements=0, element_size=None)  # disable the default bar chart\n",
    "upset.add_catplot(\n",
    "    kind='box',\n",
    "    value='% SJs')\n",
    "upset.plot(fig=fig)\n",
    "# plt.suptitle('Novel personalized-GRCh38\\nexclusive SJs')\n",
    "plt.savefig('td_personal_perc_novel_pers_spec_sjs.pdf', dpi=500)"
   ]
  },
  {
   "cell_type": "code",
   "execution_count": 32,
   "id": "773dfc69-b5fe-4ed0-9d42-bc03a8478b01",
   "metadata": {},
   "outputs": [
    {
     "data": {
      "text/html": [
       "<div>\n",
       "<style scoped>\n",
       "    .dataframe tbody tr th:only-of-type {\n",
       "        vertical-align: middle;\n",
       "    }\n",
       "\n",
       "    .dataframe tbody tr th {\n",
       "        vertical-align: top;\n",
       "    }\n",
       "\n",
       "    .dataframe thead th {\n",
       "        text-align: right;\n",
       "    }\n",
       "</style>\n",
       "<table border=\"1\" class=\"dataframe\">\n",
       "  <thead>\n",
       "    <tr style=\"text-align: right;\">\n",
       "      <th></th>\n",
       "      <th></th>\n",
       "      <th>n_sj</th>\n",
       "      <th>n_sj_w_explanation</th>\n",
       "      <th>perc_sj_w_explanation</th>\n",
       "      <th>cell_line_id</th>\n",
       "      <th># SJs</th>\n",
       "      <th>% SJs</th>\n",
       "    </tr>\n",
       "    <tr>\n",
       "      <th>Exonic variant\n",
       "+-10bp from SJ</th>\n",
       "      <th>SS variant</th>\n",
       "      <th></th>\n",
       "      <th></th>\n",
       "      <th></th>\n",
       "      <th></th>\n",
       "      <th></th>\n",
       "      <th></th>\n",
       "    </tr>\n",
       "  </thead>\n",
       "  <tbody>\n",
       "    <tr>\n",
       "      <th rowspan=\"3\" valign=\"top\">False</th>\n",
       "      <th>False</th>\n",
       "      <td>575</td>\n",
       "      <td>356</td>\n",
       "      <td>61.913043</td>\n",
       "      <td>HG03729</td>\n",
       "      <td>575</td>\n",
       "      <td>61.913043</td>\n",
       "    </tr>\n",
       "    <tr>\n",
       "      <th>False</th>\n",
       "      <td>514</td>\n",
       "      <td>330</td>\n",
       "      <td>64.202335</td>\n",
       "      <td>HG04217</td>\n",
       "      <td>514</td>\n",
       "      <td>64.202335</td>\n",
       "    </tr>\n",
       "    <tr>\n",
       "      <th>False</th>\n",
       "      <td>695</td>\n",
       "      <td>428</td>\n",
       "      <td>61.582734</td>\n",
       "      <td>HG02261</td>\n",
       "      <td>695</td>\n",
       "      <td>61.582734</td>\n",
       "    </tr>\n",
       "    <tr>\n",
       "      <th rowspan=\"2\" valign=\"top\">True</th>\n",
       "      <th>False</th>\n",
       "      <td>467</td>\n",
       "      <td>124</td>\n",
       "      <td>26.552463</td>\n",
       "      <td>NA19307</td>\n",
       "      <td>467</td>\n",
       "      <td>26.552463</td>\n",
       "    </tr>\n",
       "    <tr>\n",
       "      <th>False</th>\n",
       "      <td>577</td>\n",
       "      <td>145</td>\n",
       "      <td>25.129983</td>\n",
       "      <td>HG01952</td>\n",
       "      <td>577</td>\n",
       "      <td>25.129983</td>\n",
       "    </tr>\n",
       "  </tbody>\n",
       "</table>\n",
       "</div>"
      ],
      "text/plain": [
       "                                           n_sj  n_sj_w_explanation  \\\n",
       "Exonic variant\\n+-10bp from SJ SS variant                             \n",
       "False                          False        575                 356   \n",
       "                               False        514                 330   \n",
       "                               False        695                 428   \n",
       "True                           False        467                 124   \n",
       "                               False        577                 145   \n",
       "\n",
       "                                           perc_sj_w_explanation cell_line_id  \\\n",
       "Exonic variant\\n+-10bp from SJ SS variant                                       \n",
       "False                          False                   61.913043      HG03729   \n",
       "                               False                   64.202335      HG04217   \n",
       "                               False                   61.582734      HG02261   \n",
       "True                           False                   26.552463      NA19307   \n",
       "                               False                   25.129983      HG01952   \n",
       "\n",
       "                                           # SJs      % SJs  \n",
       "Exonic variant\\n+-10bp from SJ SS variant                    \n",
       "False                          False         575  61.913043  \n",
       "                               False         514  64.202335  \n",
       "                               False         695  61.582734  \n",
       "True                           False         467  26.552463  \n",
       "                               False         577  25.129983  "
      ]
     },
     "execution_count": 32,
     "metadata": {},
     "output_type": "execute_result"
    }
   ],
   "source": [
    "temp.head()"
   ]
  },
  {
   "cell_type": "code",
   "execution_count": 33,
   "id": "ffb35ba0-4fe5-44be-86c1-3ce42a8e1db9",
   "metadata": {},
   "outputs": [],
   "source": [
    "temp.to_csv('250221_personal_hg38_unique_novel_explainability.tsv', sep='\\t')\n"
   ]
  },
  {
   "cell_type": "code",
   "execution_count": null,
   "id": "a56c5af6-0745-4b4e-be71-e285eeb448c0",
   "metadata": {},
   "outputs": [],
   "source": []
  }
 ],
 "metadata": {
  "kernelspec": {
   "display_name": "Python 3",
   "language": "python",
   "name": "python3"
  },
  "language_info": {
   "codemirror_mode": {
    "name": "ipython",
    "version": 3
   },
   "file_extension": ".py",
   "mimetype": "text/x-python",
   "name": "python",
   "nbconvert_exporter": "python",
   "pygments_lexer": "ipython3",
   "version": "3.7.12"
  }
 },
 "nbformat": 4,
 "nbformat_minor": 5
}
