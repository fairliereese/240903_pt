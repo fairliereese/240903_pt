{
 "cells": [
  {
   "cell_type": "markdown",
   "id": "95b9bda3-82ee-488e-b9da-39b90334d62f",
   "metadata": {},
   "source": [
    "## I want to know if ISMs with or without corresponding detected FSMs have a longer assc. GENCODE transcript length"
   ]
  },
  {
   "cell_type": "code",
   "execution_count": 1,
   "id": "e776675e-108b-46b7-9e8f-ce2ccfd0ea5d",
   "metadata": {},
   "outputs": [],
   "source": [
    "import pandas as pd\n",
    "import numpy as np\n",
    "import scipy.stats as st\n",
    "import seaborn as sns\n",
    "import sys\n",
    "import os\n",
    "import matplotlib.pyplot as plt\n",
    "import swan_vis as swan\n",
    "import yaml\n",
    "from snakemake.io import expand\n",
    "import cerberus\n",
    "import pyranges as pr\n",
    "import upsetplot\n",
    "\n",
    "p = os.path.dirname(os.getcwd())\n",
    "sys.path.append(p)\n",
    "\n",
    "from scripts.utils import *\n",
    "from scripts.vcf_utils import *\n",
    "from scripts.plotting import *"
   ]
  },
  {
   "cell_type": "code",
   "execution_count": 2,
   "id": "0a27423d-468b-4a7b-9008-571752d05db8",
   "metadata": {},
   "outputs": [],
   "source": [
    "config = load_config()\n",
    "od = '../'\n",
    "\n",
    "def proc_cfg(entry, od):\n",
    "    entry = entry.replace('../../', '')\n",
    "    entry = od+entry\n",
    "    return entry"
   ]
  },
  {
   "cell_type": "code",
   "execution_count": 10,
   "id": "527d36c7-9548-4a6a-b53d-b4d0ede429d5",
   "metadata": {},
   "outputs": [],
   "source": [
    "# master table, no filtering (except gc biotype?)\n",
    "mt_df = pd.read_csv('../data/05_mastertable/master_table.tsv', sep='\\t')\n",
    "mt_df = mt_df.loc[mt_df.associated_gene_biotype.isin(['lncRNA', 'protein_coding'])]\n",
    "# mt_df = mt_df.loc[mt_df['filter']=='pass']\n",
    "# mt_df['pop_spec_t'] = (mt_df.population_sharing==1)&\\\n",
    "#                       (mt_df.sample_sharing>1)"
   ]
  },
  {
   "cell_type": "code",
   "execution_count": 11,
   "id": "f0cf36d8-0d22-499c-8c1d-fad44da63cb4",
   "metadata": {},
   "outputs": [
    {
     "name": "stdout",
     "output_type": "stream",
     "text": [
      "104323\n"
     ]
    }
   ],
   "source": [
    "# get GENCODE IDs of all detected FSMs\n",
    "fsm_gc_ids = mt_df.loc[mt_df.structural_category=='FSM', 'associated_transcriptid.v'].unique().tolist()\n",
    "print(len(fsm_gc_ids))"
   ]
  },
  {
   "cell_type": "code",
   "execution_count": 12,
   "id": "c8eef854-3546-4302-90b6-0411fd22403c",
   "metadata": {},
   "outputs": [],
   "source": [
    "# get ISM-GENCODE pairs w/ unique GENCODE transcripts\n",
    "ism_df = mt_df.loc[mt_df.structural_category=='ISM', ['structural_category', 'isoform', 'associated_transcriptid.v']].copy(deep=True)\n",
    "ism_df['fsm_detected'] = ism_df['associated_transcriptid.v'].isin(fsm_gc_ids)"
   ]
  },
  {
   "cell_type": "code",
   "execution_count": 13,
   "id": "379fc6d5-1c08-4160-94f5-92097e4efc38",
   "metadata": {},
   "outputs": [
    {
     "data": {
      "text/html": [
       "<div>\n",
       "<style scoped>\n",
       "    .dataframe tbody tr th:only-of-type {\n",
       "        vertical-align: middle;\n",
       "    }\n",
       "\n",
       "    .dataframe tbody tr th {\n",
       "        vertical-align: top;\n",
       "    }\n",
       "\n",
       "    .dataframe thead th {\n",
       "        text-align: right;\n",
       "    }\n",
       "</style>\n",
       "<table border=\"1\" class=\"dataframe\">\n",
       "  <thead>\n",
       "    <tr style=\"text-align: right;\">\n",
       "      <th></th>\n",
       "      <th>isoform</th>\n",
       "    </tr>\n",
       "    <tr>\n",
       "      <th>fsm_detected</th>\n",
       "      <th></th>\n",
       "    </tr>\n",
       "  </thead>\n",
       "  <tbody>\n",
       "    <tr>\n",
       "      <th>False</th>\n",
       "      <td>17196</td>\n",
       "    </tr>\n",
       "    <tr>\n",
       "      <th>True</th>\n",
       "      <td>39809</td>\n",
       "    </tr>\n",
       "  </tbody>\n",
       "</table>\n",
       "</div>"
      ],
      "text/plain": [
       "              isoform\n",
       "fsm_detected         \n",
       "False           17196\n",
       "True            39809"
      ]
     },
     "execution_count": 13,
     "metadata": {},
     "output_type": "execute_result"
    }
   ],
   "source": [
    "# how many isms do we have the fsm detected vs. not detected?\n",
    "ism_df[['fsm_detected', 'isoform']].groupby('fsm_detected').nunique()"
   ]
  },
  {
   "cell_type": "code",
   "execution_count": 14,
   "id": "f97301b0-ebe5-4cec-a2b0-0d6aa113cdba",
   "metadata": {},
   "outputs": [
    {
     "data": {
      "text/html": [
       "<div>\n",
       "<style scoped>\n",
       "    .dataframe tbody tr th:only-of-type {\n",
       "        vertical-align: middle;\n",
       "    }\n",
       "\n",
       "    .dataframe tbody tr th {\n",
       "        vertical-align: top;\n",
       "    }\n",
       "\n",
       "    .dataframe thead th {\n",
       "        text-align: right;\n",
       "    }\n",
       "</style>\n",
       "<table border=\"1\" class=\"dataframe\">\n",
       "  <thead>\n",
       "    <tr style=\"text-align: right;\">\n",
       "      <th></th>\n",
       "      <th>associated_transcriptid.v</th>\n",
       "    </tr>\n",
       "    <tr>\n",
       "      <th>fsm_detected</th>\n",
       "      <th></th>\n",
       "    </tr>\n",
       "  </thead>\n",
       "  <tbody>\n",
       "    <tr>\n",
       "      <th>False</th>\n",
       "      <td>10255</td>\n",
       "    </tr>\n",
       "    <tr>\n",
       "      <th>True</th>\n",
       "      <td>21838</td>\n",
       "    </tr>\n",
       "  </tbody>\n",
       "</table>\n",
       "</div>"
      ],
      "text/plain": [
       "              associated_transcriptid.v\n",
       "fsm_detected                           \n",
       "False                             10255\n",
       "True                              21838"
      ]
     },
     "execution_count": 14,
     "metadata": {},
     "output_type": "execute_result"
    }
   ],
   "source": [
    "# how many isms w/ uniq assc. tid do we have the fsm detected vs. not detected?\n",
    "ism_df[['fsm_detected', 'associated_transcriptid.v']].groupby('fsm_detected').nunique()"
   ]
  },
  {
   "cell_type": "code",
   "execution_count": null,
   "id": "f694bb76-78d8-4578-a009-2dceb9e3e257",
   "metadata": {},
   "outputs": [],
   "source": [
    "# get length of gencode transcripts \n",
    "ref_gtf_file = proc_cfg(config['ref']['gtf'], od)\n",
    "gc_t_df = get_transcript_info(ref_gtf_file)"
   ]
  },
  {
   "cell_type": "code",
   "execution_count": 15,
   "id": "cdaa2425-b8e3-42b2-b611-b700c90adea4",
   "metadata": {},
   "outputs": [],
   "source": [
    "# merge in the lengths of transcripts w/ the ISMs\n",
    "ism_df = ism_df.merge(gc_t_df[['tid', 't_len']], \n",
    "                      how='left', \n",
    "                      left_on='associated_transcriptid.v',\n",
    "                      right_on='tid')"
   ]
  },
  {
   "cell_type": "code",
   "execution_count": 17,
   "id": "9a57b355-7bd2-46c6-97a3-4375ab75d44a",
   "metadata": {},
   "outputs": [
    {
     "name": "stdout",
     "output_type": "stream",
     "text": [
      "57005\n",
      "32093\n"
     ]
    }
   ],
   "source": [
    "# get only unique fsm det assc. tid pairs\n",
    "print(len(ism_df.index))\n",
    "ism_df = ism_df[['associated_transcriptid.v', 'fsm_detected', 't_len']].drop_duplicates()\n",
    "print(len(ism_df.index))"
   ]
  },
  {
   "cell_type": "code",
   "execution_count": null,
   "id": "e6865a56-db3d-484d-aef0-4e3e5e997d61",
   "metadata": {},
   "outputs": [],
   "source": []
  },
  {
   "cell_type": "code",
   "execution_count": 22,
   "id": "ea91cc6e-8a95-4740-ad3f-f9283a9d3c95",
   "metadata": {},
   "outputs": [
    {
     "name": "stdout",
     "output_type": "stream",
     "text": [
      "#8EDE95\n"
     ]
    }
   ],
   "source": [
    "init_plot_settings(aspect='square')\n",
    "c_dict, order = get_novelty_colors(['ISM'])\n",
    "c = c_dict['ISM']\n",
    "print(c)\n",
    "c_dict, order = get_shade_colors(c, [True, False])"
   ]
  },
  {
   "cell_type": "code",
   "execution_count": 31,
   "id": "4b77b036-e51f-4866-83cc-432845781d55",
   "metadata": {},
   "outputs": [
    {
     "data": {
      "text/plain": [
       "<seaborn.axisgrid.FacetGrid at 0x7fafb71f8690>"
      ]
     },
     "execution_count": 31,
     "metadata": {},
     "output_type": "execute_result"
    },
    {
     "data": {
      "image/png": "[encoded data removed]",
      "text/plain": [
       "<Figure size 489.955x360 with 1 Axes>"
      ]
     },
     "metadata": {
      "needs_background": "light"
     },
     "output_type": "display_data"
    }
   ],
   "source": [
    "ax = sns.displot(ism_df, x='t_len',\n",
    "                 hue='fsm_detected',\n",
    "                 kind='kde',\n",
    "                 linewidth=3,\n",
    "                 palette=c_dict, \n",
    "                 common_norm=False)\n",
    "xlabel = 'GENCODE v47 transcript length'\n",
    "title = 'Length of detected vs. undetected\\n'+\\\n",
    "         'GENCODE transcripts from detected ISMs'\n",
    "ax.set(xlabel=xlabel, title=title, xlim=(-100,10000))"
   ]
  },
  {
   "cell_type": "code",
   "execution_count": 38,
   "id": "d510118d-dbdc-48ec-9ec7-195da5d9ed87",
   "metadata": {},
   "outputs": [
    {
     "data": {
      "text/plain": [
       "MannwhitneyuResult(statistic=118329565.0, pvalue=0.9999999999999999)"
      ]
     },
     "execution_count": 38,
     "metadata": {},
     "output_type": "execute_result"
    }
   ],
   "source": [
    "# test whether ISMs w/ detected FSMs have shorter associated transcripts\n",
    "# this means null hypothesis is that detected FSM transcripts are longer \n",
    "\n",
    "fsm_det = x = ism_df.loc[ism_df.fsm_detected==True, 't_len'].tolist() # should be shorter # null = longer\n",
    "fsm_undet = y = ism_df.loc[ism_df.fsm_detected==False, 't_len'].tolist() # should be longer\n",
    "\n",
    "st.mannwhitneyu(fsm_det, fsm_undet,\n",
    "                      alternative='less')\n",
    "\n",
    "# not significant"
   ]
  },
  {
   "cell_type": "code",
   "execution_count": null,
   "id": "14673e5c-82a9-4098-8ad2-05dfc763deff",
   "metadata": {},
   "outputs": [],
   "source": []
  }
 ],
 "metadata": {
  "kernelspec": {
   "display_name": "Python 3",
   "language": "python",
   "name": "python3"
  },
  "language_info": {
   "codemirror_mode": {
    "name": "ipython",
    "version": 3
   },
   "file_extension": ".py",
   "mimetype": "text/x-python",
   "name": "python",
   "nbconvert_exporter": "python",
   "pygments_lexer": "ipython3",
   "version": "3.7.12"
  }
 },
 "nbformat": 4,
 "nbformat_minor": 5
}
