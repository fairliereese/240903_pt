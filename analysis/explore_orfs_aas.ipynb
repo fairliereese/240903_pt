{
 "cells": [
  {
   "cell_type": "code",
   "execution_count": 193,
   "id": "7e20cbc3-7d90-42ab-ba09-74d949a0ee2f",
   "metadata": {},
   "outputs": [],
   "source": [
    "import pandas as pd\n",
    "import numpy as np\n",
    "import scipy.stats as st\n",
    "import seaborn as sns\n",
    "import sys\n",
    "import os\n",
    "import matplotlib.pyplot as plt\n",
    "import swan_vis as swan\n",
    "import yaml\n",
    "from snakemake.io import expand\n",
    "import cerberus\n",
    "import pyranges as pr\n",
    "from pyfaidx import Fasta\n",
    "import upsetplot\n",
    "\n",
    "p = os.path.dirname(os.getcwd())\n",
    "sys.path.append(p)\n",
    "\n",
    "from scripts.utils import *\n",
    "from scripts.vcf_utils import *\n",
    "from scripts.plotting import *"
   ]
  },
  {
   "cell_type": "code",
   "execution_count": 194,
   "id": "192a1b3b-c75c-4043-af5f-e632be72fd43",
   "metadata": {},
   "outputs": [],
   "source": [
    "config = load_config()\n",
    "od = '../'\n",
    "\n",
    "def proc_cfg(entry, od):\n",
    "    entry = entry.replace('../../', '')\n",
    "    entry = od+entry\n",
    "    return entry"
   ]
  },
  {
   "cell_type": "code",
   "execution_count": 195,
   "id": "410f6b03-0d53-4b1e-881a-3a98c75849e0",
   "metadata": {},
   "outputs": [],
   "source": [
    "mt_df = pd.read_csv('../data/05_mastertable/poder_master_table.tsv', sep='\\t')\n",
    "# mt_df = mt_df.loc[mt_df['filter']=='pass']\n",
    "mt_df['pop_spec_t'] = (mt_df.population_sharing==1)&\\\n",
    "                      (mt_df.sample_sharing>1)"
   ]
  },
  {
   "cell_type": "code",
   "execution_count": 196,
   "id": "73d018bb-149e-48cd-a785-c2a5d1e13b46",
   "metadata": {},
   "outputs": [],
   "source": [
    "p_df = pd.read_csv(proc_cfg(config['lr']['poder_protein']['protein']['summary'], od), sep='\\t')\n",
    "p_df = p_df.merge(mt_df[['associated_gene_biotype', 'structural_category', 'isoform', 'associated_gene']],\n",
    "                  how='left',\n",
    "                  left_on='tid', \n",
    "                  right_on='isoform')\n",
    "p_df.rename({'associated_gene':'gid',\n",
    "             'protein_sequence':'seq'}, axis=1, inplace=True)\n",
    "assert len(p_df.loc[p_df.isoform.isnull()]) == 0"
   ]
  },
  {
   "cell_type": "markdown",
   "id": "c3e8b7bf-1a66-47b7-a073-62bb9bcb91a6",
   "metadata": {},
   "source": [
    "## First, need to filter"
   ]
  },
  {
   "cell_type": "code",
   "execution_count": 197,
   "id": "ef16a348-d6e2-4b34-8d26-9091fcc406ca",
   "metadata": {},
   "outputs": [
    {
     "name": "stdout",
     "output_type": "stream",
     "text": [
      "86332\n"
     ]
    }
   ],
   "source": [
    "# remove NMD things\n",
    "p_df = p_df.loc[p_df.protein_is_nmd == False]\n",
    "\n",
    "# keep only things w/ full ORFs\n",
    "p_df = p_df.loc[(p_df.protein_has_start_codon==True)&\\\n",
    "                (p_df.protein_has_stop_codon==True)]\n",
    "\n",
    "# keep only things from annotated protein coding genes\n",
    "p_df = p_df.loc[p_df.associated_gene_biotype=='Protein Coding']\n",
    "\n",
    "# length minimum?? maybe not\n",
    "print(len(p_df.index))"
   ]
  },
  {
   "cell_type": "code",
   "execution_count": 198,
   "id": "c58cf2e3-e314-434b-b30f-d81a47be44c4",
   "metadata": {},
   "outputs": [
    {
     "data": {
      "text/html": [
       "<div>\n",
       "<style scoped>\n",
       "    .dataframe tbody tr th:only-of-type {\n",
       "        vertical-align: middle;\n",
       "    }\n",
       "\n",
       "    .dataframe tbody tr th {\n",
       "        vertical-align: top;\n",
       "    }\n",
       "\n",
       "    .dataframe thead th {\n",
       "        text-align: right;\n",
       "    }\n",
       "</style>\n",
       "<table border=\"1\" class=\"dataframe\">\n",
       "  <thead>\n",
       "    <tr style=\"text-align: right;\">\n",
       "      <th></th>\n",
       "      <th>perfect_blast_match</th>\n",
       "      <th>n_tid</th>\n",
       "    </tr>\n",
       "  </thead>\n",
       "  <tbody>\n",
       "    <tr>\n",
       "      <th>0</th>\n",
       "      <td>False</td>\n",
       "      <td>21003</td>\n",
       "    </tr>\n",
       "    <tr>\n",
       "      <th>1</th>\n",
       "      <td>True</td>\n",
       "      <td>65329</td>\n",
       "    </tr>\n",
       "  </tbody>\n",
       "</table>\n",
       "</div>"
      ],
      "text/plain": [
       "   perfect_blast_match  n_tid\n",
       "0                False  21003\n",
       "1                 True  65329"
      ]
     },
     "execution_count": 198,
     "metadata": {},
     "output_type": "execute_result"
    },
    {
     "data": {
      "image/png": "[encoded data removed]",
      "text/plain": [
       "<Figure size 360x360 with 1 Axes>"
      ]
     },
     "metadata": {
      "needs_background": "light"
     },
     "output_type": "display_data"
    }
   ],
   "source": [
    "# lengths of 100% blastp matches vs. not to pick length filter\n",
    "p_df['perfect_blast_match'] = p_df.blastp_identity==100\n",
    "init_plot_settings(aspect='square')\n",
    "ax = sns.violinplot(p_df, y='orf_length_nt', x='perfect_blast_match')\n",
    "ax.set(yscale='log')\n",
    "\n",
    "p_df[['perfect_blast_match', 'tid']].groupby('perfect_blast_match').nunique().reset_index().rename({'tid':'n_tid'}, axis=1)"
   ]
  },
  {
   "cell_type": "code",
   "execution_count": 199,
   "id": "00cf8550-ac2b-4db5-9126-2929911deaf4",
   "metadata": {},
   "outputs": [
    {
     "data": {
      "text/plain": [
       "<seaborn.axisgrid.FacetGrid at 0x7fda225937d0>"
      ]
     },
     "execution_count": 199,
     "metadata": {},
     "output_type": "execute_result"
    },
    {
     "data": {
      "image/png": "[encoded data removed]",
      "text/plain": [
       "<Figure size 547.705x360 with 1 Axes>"
      ]
     },
     "metadata": {
      "needs_background": "light"
     },
     "output_type": "display_data"
    }
   ],
   "source": [
    "ax = sns.displot(p_df, x='orf_length_nt', hue='perfect_blast_match',\n",
    "            kind='kde',\n",
    "            common_norm=False)\n",
    "ax.set(xscale='log')"
   ]
  },
  {
   "cell_type": "code",
   "execution_count": 200,
   "id": "3e422173-c429-439e-a53a-5d23c523cd07",
   "metadata": {},
   "outputs": [
    {
     "data": {
      "text/html": [
       "<div>\n",
       "<style scoped>\n",
       "    .dataframe tbody tr th:only-of-type {\n",
       "        vertical-align: middle;\n",
       "    }\n",
       "\n",
       "    .dataframe tbody tr th {\n",
       "        vertical-align: top;\n",
       "    }\n",
       "\n",
       "    .dataframe thead th {\n",
       "        text-align: right;\n",
       "    }\n",
       "</style>\n",
       "<table border=\"1\" class=\"dataframe\">\n",
       "  <thead>\n",
       "    <tr style=\"text-align: right;\">\n",
       "      <th></th>\n",
       "      <th>orf_length_nt</th>\n",
       "    </tr>\n",
       "    <tr>\n",
       "      <th>perfect_blast_match</th>\n",
       "      <th></th>\n",
       "    </tr>\n",
       "  </thead>\n",
       "  <tbody>\n",
       "    <tr>\n",
       "      <th>False</th>\n",
       "      <td>102</td>\n",
       "    </tr>\n",
       "    <tr>\n",
       "      <th>True</th>\n",
       "      <td>102</td>\n",
       "    </tr>\n",
       "  </tbody>\n",
       "</table>\n",
       "</div>"
      ],
      "text/plain": [
       "                     orf_length_nt\n",
       "perfect_blast_match               \n",
       "False                          102\n",
       "True                           102"
      ]
     },
     "execution_count": 200,
     "metadata": {},
     "output_type": "execute_result"
    }
   ],
   "source": [
    "p_df[['orf_length_nt', 'perfect_blast_match']].groupby('perfect_blast_match').min()"
   ]
  },
  {
   "cell_type": "code",
   "execution_count": 201,
   "id": "d8c38b86-76f5-4cc9-bc4e-fe907b71f156",
   "metadata": {},
   "outputs": [
    {
     "data": {
      "text/html": [
       "<div>\n",
       "<style scoped>\n",
       "    .dataframe tbody tr th:only-of-type {\n",
       "        vertical-align: middle;\n",
       "    }\n",
       "\n",
       "    .dataframe tbody tr th {\n",
       "        vertical-align: top;\n",
       "    }\n",
       "\n",
       "    .dataframe thead th {\n",
       "        text-align: right;\n",
       "    }\n",
       "</style>\n",
       "<table border=\"1\" class=\"dataframe\">\n",
       "  <thead>\n",
       "    <tr style=\"text-align: right;\">\n",
       "      <th></th>\n",
       "      <th>Chromosome</th>\n",
       "      <th>Start</th>\n",
       "      <th>Stop</th>\n",
       "      <th>Strand</th>\n",
       "      <th>Source</th>\n",
       "      <th>CDS_Source</th>\n",
       "      <th>CDS_Start</th>\n",
       "      <th>CDS_Stop</th>\n",
       "      <th>tid</th>\n",
       "      <th>pid</th>\n",
       "      <th>...</th>\n",
       "      <th>protein_splice_category</th>\n",
       "      <th>protein_splice_subcategory</th>\n",
       "      <th>protein_has_stop_codon</th>\n",
       "      <th>protein_has_start_codon</th>\n",
       "      <th>seq</th>\n",
       "      <th>associated_gene_biotype</th>\n",
       "      <th>structural_category</th>\n",
       "      <th>isoform</th>\n",
       "      <th>gid</th>\n",
       "      <th>perfect_blast_match</th>\n",
       "    </tr>\n",
       "  </thead>\n",
       "  <tbody>\n",
       "    <tr>\n",
       "      <th>0</th>\n",
       "      <td>chr12</td>\n",
       "      <td>4590319</td>\n",
       "      <td>4613888</td>\n",
       "      <td>+</td>\n",
       "      <td>ENSEMBL</td>\n",
       "      <td>ORFanage</td>\n",
       "      <td>4591180</td>\n",
       "      <td>4613750</td>\n",
       "      <td>ENST00000010132.6</td>\n",
       "      <td>ENSP00000010132.5</td>\n",
       "      <td>...</td>\n",
       "      <td>full-splice_match</td>\n",
       "      <td>multi-exon</td>\n",
       "      <td>True</td>\n",
       "      <td>True</td>\n",
       "      <td>MPASELKASEIPFHPSIKTQDPKAEEKSPKKQKVTLTAAEALKLFK...</td>\n",
       "      <td>Protein Coding</td>\n",
       "      <td>FSM</td>\n",
       "      <td>ENST00000010132.6</td>\n",
       "      <td>ENSG00000010219.14</td>\n",
       "      <td>True</td>\n",
       "    </tr>\n",
       "    <tr>\n",
       "      <th>2</th>\n",
       "      <td>chr12</td>\n",
       "      <td>7919229</td>\n",
       "      <td>7936187</td>\n",
       "      <td>-</td>\n",
       "      <td>HAVANA</td>\n",
       "      <td>ORFanage</td>\n",
       "      <td>7921415</td>\n",
       "      <td>7936034</td>\n",
       "      <td>ENST00000075120.12</td>\n",
       "      <td>ENSP00000516774.1</td>\n",
       "      <td>...</td>\n",
       "      <td>full-splice_match</td>\n",
       "      <td>multi-exon</td>\n",
       "      <td>True</td>\n",
       "      <td>True</td>\n",
       "      <td>MGTQKVTPALIFAITVATIGSFQFGYNTGVINAPEKIIKEFINKTL...</td>\n",
       "      <td>Protein Coding</td>\n",
       "      <td>FSM</td>\n",
       "      <td>ENST00000075120.12</td>\n",
       "      <td>ENSG00000059804.18</td>\n",
       "      <td>True</td>\n",
       "    </tr>\n",
       "    <tr>\n",
       "      <th>3</th>\n",
       "      <td>chrY</td>\n",
       "      <td>2935380</td>\n",
       "      <td>2982506</td>\n",
       "      <td>+</td>\n",
       "      <td>HAVANA</td>\n",
       "      <td>ORFanage</td>\n",
       "      <td>2953936</td>\n",
       "      <td>2979990</td>\n",
       "      <td>ENST00000155093.8</td>\n",
       "      <td>ENSP00000155093.3</td>\n",
       "      <td>...</td>\n",
       "      <td>full-splice_match</td>\n",
       "      <td>multi-exon</td>\n",
       "      <td>True</td>\n",
       "      <td>True</td>\n",
       "      <td>MDEDEFELQPQEPNSFFDGIGADATHMDGDQIVVEIQEAVFVSNIV...</td>\n",
       "      <td>Protein Coding</td>\n",
       "      <td>FSM</td>\n",
       "      <td>ENST00000155093.8</td>\n",
       "      <td>ENSG00000067646.12</td>\n",
       "      <td>True</td>\n",
       "    </tr>\n",
       "    <tr>\n",
       "      <th>4</th>\n",
       "      <td>chrX</td>\n",
       "      <td>48922210</td>\n",
       "      <td>48957631</td>\n",
       "      <td>-</td>\n",
       "      <td>HAVANA</td>\n",
       "      <td>ORFanage</td>\n",
       "      <td>48923176</td>\n",
       "      <td>48957570</td>\n",
       "      <td>ENST00000156084.8</td>\n",
       "      <td>ENSP00000156084.4</td>\n",
       "      <td>...</td>\n",
       "      <td>full-splice_match</td>\n",
       "      <td>multi-exon</td>\n",
       "      <td>True</td>\n",
       "      <td>True</td>\n",
       "      <td>MTILPKKKPPPPDADPANEPPPPGPMPPAPRRGGGVGVGGGGTGVG...</td>\n",
       "      <td>Protein Coding</td>\n",
       "      <td>FSM</td>\n",
       "      <td>ENST00000156084.8</td>\n",
       "      <td>ENSG00000068308.15</td>\n",
       "      <td>True</td>\n",
       "    </tr>\n",
       "    <tr>\n",
       "      <th>5</th>\n",
       "      <td>chr6</td>\n",
       "      <td>155395367</td>\n",
       "      <td>155455839</td>\n",
       "      <td>-</td>\n",
       "      <td>HAVANA</td>\n",
       "      <td>ORFanage</td>\n",
       "      <td>155396838</td>\n",
       "      <td>155455800</td>\n",
       "      <td>ENST00000159060.3</td>\n",
       "      <td>ENSP00000159060.2</td>\n",
       "      <td>...</td>\n",
       "      <td>full-splice_match</td>\n",
       "      <td>multi-exon</td>\n",
       "      <td>True</td>\n",
       "      <td>True</td>\n",
       "      <td>MMGCWILNEGLSTILVLSWLGINFYLFIDTFYWYEEEESFHYTRVI...</td>\n",
       "      <td>Protein Coding</td>\n",
       "      <td>FSM</td>\n",
       "      <td>ENST00000159060.3</td>\n",
       "      <td>ENSG00000074771.4</td>\n",
       "      <td>True</td>\n",
       "    </tr>\n",
       "  </tbody>\n",
       "</table>\n",
       "<p>5 rows × 26 columns</p>\n",
       "</div>"
      ],
      "text/plain": [
       "  Chromosome      Start       Stop Strand   Source CDS_Source  CDS_Start  \\\n",
       "0      chr12    4590319    4613888      +  ENSEMBL   ORFanage    4591180   \n",
       "2      chr12    7919229    7936187      -   HAVANA   ORFanage    7921415   \n",
       "3       chrY    2935380    2982506      +   HAVANA   ORFanage    2953936   \n",
       "4       chrX   48922210   48957631      -   HAVANA   ORFanage   48923176   \n",
       "5       chr6  155395367  155455839      -   HAVANA   ORFanage  155396838   \n",
       "\n",
       "    CDS_Stop                 tid                pid  ...  \\\n",
       "0    4613750   ENST00000010132.6  ENSP00000010132.5  ...   \n",
       "2    7936034  ENST00000075120.12  ENSP00000516774.1  ...   \n",
       "3    2979990   ENST00000155093.8  ENSP00000155093.3  ...   \n",
       "4   48957570   ENST00000156084.8  ENSP00000156084.4  ...   \n",
       "5  155455800   ENST00000159060.3  ENSP00000159060.2  ...   \n",
       "\n",
       "   protein_splice_category  protein_splice_subcategory  \\\n",
       "0        full-splice_match                  multi-exon   \n",
       "2        full-splice_match                  multi-exon   \n",
       "3        full-splice_match                  multi-exon   \n",
       "4        full-splice_match                  multi-exon   \n",
       "5        full-splice_match                  multi-exon   \n",
       "\n",
       "   protein_has_stop_codon  protein_has_start_codon  \\\n",
       "0                    True                     True   \n",
       "2                    True                     True   \n",
       "3                    True                     True   \n",
       "4                    True                     True   \n",
       "5                    True                     True   \n",
       "\n",
       "                                                 seq  associated_gene_biotype  \\\n",
       "0  MPASELKASEIPFHPSIKTQDPKAEEKSPKKQKVTLTAAEALKLFK...           Protein Coding   \n",
       "2  MGTQKVTPALIFAITVATIGSFQFGYNTGVINAPEKIIKEFINKTL...           Protein Coding   \n",
       "3  MDEDEFELQPQEPNSFFDGIGADATHMDGDQIVVEIQEAVFVSNIV...           Protein Coding   \n",
       "4  MTILPKKKPPPPDADPANEPPPPGPMPPAPRRGGGVGVGGGGTGVG...           Protein Coding   \n",
       "5  MMGCWILNEGLSTILVLSWLGINFYLFIDTFYWYEEEESFHYTRVI...           Protein Coding   \n",
       "\n",
       "  structural_category             isoform                 gid  \\\n",
       "0                 FSM   ENST00000010132.6  ENSG00000010219.14   \n",
       "2                 FSM  ENST00000075120.12  ENSG00000059804.18   \n",
       "3                 FSM   ENST00000155093.8  ENSG00000067646.12   \n",
       "4                 FSM   ENST00000156084.8  ENSG00000068308.15   \n",
       "5                 FSM   ENST00000159060.3   ENSG00000074771.4   \n",
       "\n",
       "   perfect_blast_match  \n",
       "0                 True  \n",
       "2                 True  \n",
       "3                 True  \n",
       "4                 True  \n",
       "5                 True  \n",
       "\n",
       "[5 rows x 26 columns]"
      ]
     },
     "execution_count": 201,
     "metadata": {},
     "output_type": "execute_result"
    }
   ],
   "source": [
    "p_df.head()"
   ]
  },
  {
   "cell_type": "markdown",
   "id": "7493b25b-3c11-4e17-8f5b-9219fe3fd276",
   "metadata": {},
   "source": [
    "## How many novel AA sequences do we add?"
   ]
  },
  {
   "cell_type": "code",
   "execution_count": 202,
   "id": "5f4d35b7-fc7a-44e4-bdf2-4b24c37bcdba",
   "metadata": {},
   "outputs": [],
   "source": [
    "# get annotated AA sequences\n",
    "fasta_file = proc_cfg(config['ref']['pc'], od)\n",
    "fasta = Fasta(fasta_file)\n",
    "\n",
    "# Extract each entry's name and sequence\n",
    "ref_orfs = {\n",
    "    \"name\": [entry.name for entry in fasta],\n",
    "    \"seq\": [str(entry) for entry in fasta]\n",
    "}\n",
    "\n",
    "ref_orfs = pd.DataFrame(ref_orfs)\n",
    "ref_orfs['gid'] =  ref_orfs.name.str.split('|', expand=True)[2]\n",
    "ref_orfs = ref_orfs[['seq', 'gid']]\n",
    "ref_orfs['annot_aa'] = True\n",
    "ref_orfs.drop_duplicates(inplace=True)"
   ]
  },
  {
   "cell_type": "code",
   "execution_count": 203,
   "id": "e58a9c51-14fd-40ef-bcd7-097d7ce38722",
   "metadata": {},
   "outputs": [
    {
     "name": "stdout",
     "output_type": "stream",
     "text": [
      "86332\n",
      "86332\n"
     ]
    }
   ],
   "source": [
    "# what are novel AA? \n",
    "# p_df.loc[p_df.blastp_identity==100][['tid','protein_splice_category']].groupby('protein_splice_category').nunique().rename({'tid':'n_tid'}, axis=1)\n",
    "\n",
    "# just going to call novel aas as those that are not in the \n",
    "# pc translations gencode file\n",
    "print(len(p_df))\n",
    "p_df = p_df.merge(ref_orfs, how='left', on=['gid', 'seq'])\n",
    "print(len(p_df))\n",
    "p_df['annot_aa'] = p_df['annot_aa'].fillna(False)"
   ]
  },
  {
   "cell_type": "code",
   "execution_count": 204,
   "id": "318f2246-9a1f-46aa-b940-ed5d5d19b732",
   "metadata": {},
   "outputs": [
    {
     "data": {
      "text/html": [
       "<div>\n",
       "<style scoped>\n",
       "    .dataframe tbody tr th:only-of-type {\n",
       "        vertical-align: middle;\n",
       "    }\n",
       "\n",
       "    .dataframe tbody tr th {\n",
       "        vertical-align: top;\n",
       "    }\n",
       "\n",
       "    .dataframe thead th {\n",
       "        text-align: right;\n",
       "    }\n",
       "</style>\n",
       "<table border=\"1\" class=\"dataframe\">\n",
       "  <thead>\n",
       "    <tr style=\"text-align: right;\">\n",
       "      <th></th>\n",
       "      <th></th>\n",
       "      <th>tid</th>\n",
       "    </tr>\n",
       "    <tr>\n",
       "      <th>annot_aa</th>\n",
       "      <th>perfect_blast_match</th>\n",
       "      <th></th>\n",
       "    </tr>\n",
       "  </thead>\n",
       "  <tbody>\n",
       "    <tr>\n",
       "      <th rowspan=\"2\" valign=\"top\">False</th>\n",
       "      <th>False</th>\n",
       "      <td>20938</td>\n",
       "    </tr>\n",
       "    <tr>\n",
       "      <th>True</th>\n",
       "      <td>24993</td>\n",
       "    </tr>\n",
       "    <tr>\n",
       "      <th rowspan=\"2\" valign=\"top\">True</th>\n",
       "      <th>False</th>\n",
       "      <td>65</td>\n",
       "    </tr>\n",
       "    <tr>\n",
       "      <th>True</th>\n",
       "      <td>40336</td>\n",
       "    </tr>\n",
       "  </tbody>\n",
       "</table>\n",
       "</div>"
      ],
      "text/plain": [
       "                                tid\n",
       "annot_aa perfect_blast_match       \n",
       "False    False                20938\n",
       "         True                 24993\n",
       "True     False                   65\n",
       "         True                 40336"
      ]
     },
     "execution_count": 204,
     "metadata": {},
     "output_type": "execute_result"
    }
   ],
   "source": [
    "p_df[['perfect_blast_match', 'annot_aa', 'tid']].groupby(['annot_aa', 'perfect_blast_match']).nunique()"
   ]
  },
  {
   "cell_type": "code",
   "execution_count": 205,
   "id": "8e3e955d-f7ff-4a2f-a803-c7aacd9f70da",
   "metadata": {},
   "outputs": [
    {
     "data": {
      "text/html": [
       "<div>\n",
       "<style scoped>\n",
       "    .dataframe tbody tr th:only-of-type {\n",
       "        vertical-align: middle;\n",
       "    }\n",
       "\n",
       "    .dataframe tbody tr th {\n",
       "        vertical-align: top;\n",
       "    }\n",
       "\n",
       "    .dataframe thead th {\n",
       "        text-align: right;\n",
       "    }\n",
       "</style>\n",
       "<table border=\"1\" class=\"dataframe\">\n",
       "  <thead>\n",
       "    <tr style=\"text-align: right;\">\n",
       "      <th></th>\n",
       "      <th>n_aa_gid</th>\n",
       "    </tr>\n",
       "    <tr>\n",
       "      <th>annot_aa</th>\n",
       "      <th></th>\n",
       "    </tr>\n",
       "  </thead>\n",
       "  <tbody>\n",
       "    <tr>\n",
       "      <th>False</th>\n",
       "      <td>39104</td>\n",
       "    </tr>\n",
       "    <tr>\n",
       "      <th>True</th>\n",
       "      <td>28073</td>\n",
       "    </tr>\n",
       "  </tbody>\n",
       "</table>\n",
       "</div>"
      ],
      "text/plain": [
       "          n_aa_gid\n",
       "annot_aa          \n",
       "False        39104\n",
       "True         28073"
      ]
     },
     "execution_count": 205,
     "metadata": {},
     "output_type": "execute_result"
    }
   ],
   "source": [
    "p_df['aa_id'] = p_df.gid+'_'+p_df.seq\n",
    "p_df[['aa_id', 'annot_aa']].groupby('annot_aa').nunique().rename({'aa_id': 'n_aa_gid'}, axis=1)"
   ]
  },
  {
   "cell_type": "code",
   "execution_count": 150,
   "id": "7342f9dc-d77a-421e-930a-e1128c1ab362",
   "metadata": {},
   "outputs": [],
   "source": [
    "# how many unique novel AAs do we add per gene?\n",
    "temp = p_df[['seq', 'annot_aa', 'gid']].groupby(['gid', 'annot_aa']).nunique().reset_index().rename({'seq':'n_aa'}, axis=1)"
   ]
  },
  {
   "cell_type": "code",
   "execution_count": 151,
   "id": "2d1bd1cd-0188-486e-b5c9-2355da80a545",
   "metadata": {},
   "outputs": [
    {
     "data": {
      "image/png": "[encoded data removed]",
      "text/plain": [
       "<Figure size 360x360 with 1 Axes>"
      ]
     },
     "metadata": {
      "needs_background": "light"
     },
     "output_type": "display_data"
    }
   ],
   "source": [
    "init_plot_settings(aspect='square')\n",
    "ax = sns.boxplot(temp, y='n_aa', x='annot_aa')"
   ]
  },
  {
   "cell_type": "code",
   "execution_count": 152,
   "id": "6d315d28-9fc1-4338-9970-90ef32c479d8",
   "metadata": {},
   "outputs": [
    {
     "data": {
      "text/html": [
       "<div>\n",
       "<style scoped>\n",
       "    .dataframe tbody tr th:only-of-type {\n",
       "        vertical-align: middle;\n",
       "    }\n",
       "\n",
       "    .dataframe tbody tr th {\n",
       "        vertical-align: top;\n",
       "    }\n",
       "\n",
       "    .dataframe thead th {\n",
       "        text-align: right;\n",
       "    }\n",
       "</style>\n",
       "<table border=\"1\" class=\"dataframe\">\n",
       "  <thead>\n",
       "    <tr style=\"text-align: right;\">\n",
       "      <th></th>\n",
       "      <th>n_aa</th>\n",
       "    </tr>\n",
       "    <tr>\n",
       "      <th>annot_aa</th>\n",
       "      <th></th>\n",
       "    </tr>\n",
       "  </thead>\n",
       "  <tbody>\n",
       "    <tr>\n",
       "      <th>False</th>\n",
       "      <td>3.865560</td>\n",
       "    </tr>\n",
       "    <tr>\n",
       "      <th>True</th>\n",
       "      <td>2.175358</td>\n",
       "    </tr>\n",
       "  </tbody>\n",
       "</table>\n",
       "</div>"
      ],
      "text/plain": [
       "              n_aa\n",
       "annot_aa          \n",
       "False     3.865560\n",
       "True      2.175358"
      ]
     },
     "execution_count": 152,
     "metadata": {},
     "output_type": "execute_result"
    }
   ],
   "source": [
    "# mean number of added AAs per protein coding gene\n",
    "temp[['n_aa', 'annot_aa']].groupby('annot_aa').mean()"
   ]
  },
  {
   "cell_type": "code",
   "execution_count": 155,
   "id": "f9708683-714d-45e6-9a63-d45f503173a8",
   "metadata": {},
   "outputs": [
    {
     "name": "stdout",
     "output_type": "stream",
     "text": [
      "86332\n",
      "67014\n"
     ]
    },
    {
     "data": {
      "text/plain": [
       "<AxesSubplot:ylabel='blastp_identity'>"
      ]
     },
     "execution_count": 155,
     "metadata": {},
     "output_type": "execute_result"
    },
    {
     "data": {
      "image/png": "[encoded data removed]",
      "text/plain": [
       "<Figure size 360x360 with 1 Axes>"
      ]
     },
     "metadata": {
      "needs_background": "light"
     },
     "output_type": "display_data"
    }
   ],
   "source": [
    "# for the uniq aas that we add that are new, what do the blast identities look like?\n",
    "temp = p_df[['annot_aa', 'seq', 'blastp_identity']]\n",
    "print(len(temp))\n",
    "temp = temp.drop_duplicates()\n",
    "print(len(temp))\n",
    "\n",
    "sns.violinplot(temp, y='blastp_identity')"
   ]
  },
  {
   "cell_type": "code",
   "execution_count": 159,
   "id": "e9473e13-f26f-491e-9476-01b1c5a219c4",
   "metadata": {},
   "outputs": [
    {
     "data": {
      "text/plain": [
       "<seaborn.axisgrid.JointGrid at 0x7fda3ebb25d0>"
      ]
     },
     "execution_count": 159,
     "metadata": {},
     "output_type": "execute_result"
    },
    {
     "data": {
      "image/png": "[encoded data removed]",
      "text/plain": [
       "<Figure size 432x432 with 3 Axes>"
      ]
     },
     "metadata": {
      "needs_background": "light"
     },
     "output_type": "display_data"
    }
   ],
   "source": [
    "# unique transcripts vs. # unique transcripts per gene total (jointplot)\n",
    "\n",
    "# transcripts / gene\n",
    "p_df['n_tid_per_gene'] = p_df.groupby('gid')['tid'].transform('nunique')\n",
    "\n",
    "# aa / gene\n",
    "p_df['n_aa_per_gene'] = p_df.groupby('gid')['seq'].transform('nunique')\n",
    "\n",
    "temp = p_df[['gid', 'n_tid_per_gene', 'n_aa_per_gene']].drop_duplicates()\n",
    "sns.jointplot(temp, x='n_tid_per_gene', y='n_aa_per_gene')"
   ]
  },
  {
   "cell_type": "markdown",
   "id": "4850b471-47cb-48eb-a874-104f5669fe35",
   "metadata": {},
   "source": [
    "## How many novel AA sequences do we add?"
   ]
  },
  {
   "cell_type": "code",
   "execution_count": 231,
   "id": "3550c5c7-9789-4bdf-a159-bdca2790276b",
   "metadata": {},
   "outputs": [],
   "source": [
    "# how many total novel AAs do we add? how many do we detect? how many were already annotated?\n",
    "# bar plot\n",
    "p_df['aa_id'] = p_df.gid+'_'+p_df.seq\n",
    "temp = p_df[['aa_id']].drop_duplicates()\n",
    "temp['PODER'] = True\n",
    "\n",
    "ref_orfs['aa_id'] = ref_orfs.gid+'_'+ref_orfs.seq\n",
    "temp2 = ref_orfs[['aa_id']].drop_duplicates()\n",
    "temp2['GENCODE v47'] = True\n",
    "\n",
    "temp = temp.merge(temp2, \n",
    "                  how='outer',\n",
    "                  on='aa_id')\n",
    "temp.fillna(False, inplace=True)\n",
    "temp.set_index(['GENCODE v47', 'PODER'], inplace=True)\n",
    "\n",
    "\n",
    "# temp2 = temp.groupby(['annot_aa']).nunique().reset_index().rename({'aa_id':'n_aa'},axis=1)\n",
    "# temp2['PODER'] = True\n",
    "\n",
    "# ref_orfs['aa_id'] = ref_orfs.gid+'_'+ref_orfs.seq\n",
    "\n",
    "# n = len(ref_orfs.aa_id.unique())\n",
    "# temp = pd.DataFrame().from_dict({'annotation':['GENCODE v47'], 'n_aa':[n]})\n",
    "# temp['GENCODE v47'] = True\n",
    "# temp2 = pd.concat([temp, temp2], axis=0)\n",
    "# temp2[['n_aa', 'GENCODE v47', 'PODER']]\n",
    "\n",
    "# temp2.fillna(False, inplace=True)\n",
    "# temp2.set_index(['GENCODE v47', 'PODER'], inplace=True)\n",
    "# temp2 = temp2[['n_aa']]"
   ]
  },
  {
   "cell_type": "code",
   "execution_count": 236,
   "id": "1b0a20e7-e38c-48a2-b371-c6c1453d03c1",
   "metadata": {},
   "outputs": [
    {
     "data": {
      "text/plain": [
       "{'matrix': <AxesSubplot:>,\n",
       " 'shading': <AxesSubplot:>,\n",
       " 'totals': <AxesSubplot:>,\n",
       " 'intersections': <AxesSubplot:ylabel='Intersection size'>}"
      ]
     },
     "execution_count": 236,
     "metadata": {},
     "output_type": "execute_result"
    },
    {
     "data": {
      "image/png": "[encoded data removed]",
      "text/plain": [
       "<Figure size 352x256 with 4 Axes>"
      ]
     },
     "metadata": {
      "needs_background": "light"
     },
     "output_type": "display_data"
    }
   ],
   "source": [
    "init_plot_settings(aspect='rectangle', font_scale=1)\n",
    "upsetplot.plot(temp, sort_by='cardinality', show_counts=True)\n"
   ]
  },
  {
   "cell_type": "code",
   "execution_count": null,
   "id": "3089740a-c3c8-4007-a340-240ca31e85ab",
   "metadata": {},
   "outputs": [],
   "source": []
  },
  {
   "cell_type": "code",
   "execution_count": null,
   "id": "c6439be1-c934-4d07-a057-71bae898d798",
   "metadata": {},
   "outputs": [],
   "source": []
  },
  {
   "cell_type": "code",
   "execution_count": null,
   "id": "b5ceaed2-a5c8-455c-9b37-14c97ed70884",
   "metadata": {},
   "outputs": [],
   "source": []
  }
 ],
 "metadata": {
  "kernelspec": {
   "display_name": "Python 3",
   "language": "python",
   "name": "python3"
  },
  "language_info": {
   "codemirror_mode": {
    "name": "ipython",
    "version": 3
   },
   "file_extension": ".py",
   "mimetype": "text/x-python",
   "name": "python",
   "nbconvert_exporter": "python",
   "pygments_lexer": "ipython3",
   "version": "3.7.12"
  }
 },
 "nbformat": 4,
 "nbformat_minor": 5
}
