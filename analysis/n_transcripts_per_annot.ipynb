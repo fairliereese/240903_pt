{
 "cells": [
  {
   "cell_type": "code",
   "execution_count": 1,
   "id": "9dca7124-3aab-4d27-9f84-37f3bfe4521e",
   "metadata": {},
   "outputs": [],
   "source": [
    "import pandas as pd\n",
    "import numpy as np\n",
    "import scipy.stats as st\n",
    "import seaborn as sns\n",
    "import sys\n",
    "import upsetplot\n",
    "import os\n",
    "import matplotlib.pyplot as plt\n",
    "import yaml\n",
    "from snakemake.io import expand\n",
    "import pyranges as pr\n",
    "from pyfaidx import Fasta\n",
    "from mizani.formatters import percent_format\n",
    "from scipy import stats\n",
    "\n",
    "\n",
    "p = os.path.dirname(os.getcwd())\n",
    "sys.path.append(p)\n",
    "\n",
    "from scripts.utils import *\n",
    "from scripts.vcf_utils import *\n",
    "from scripts.plotting import *\n",
    "\n",
    "from plotnine import *"
   ]
  },
  {
   "cell_type": "code",
   "execution_count": 2,
   "id": "9f55774b-6530-4175-af5e-be1e3c1b803c",
   "metadata": {},
   "outputs": [],
   "source": [
    "def my_theme(base_size=11, w=4, h=3):\n",
    "    \"\"\"\n",
    "    Custom plotnine theme with:\n",
    "    - White background\n",
    "    - Clean styling\n",
    "    - Axes and ticks retained\n",
    "\n",
    "    Parameters:\n",
    "    - base_size: Base font size\n",
    "\n",
    "    Returns:\n",
    "    - plotnine.theme object\n",
    "    \"\"\"\n",
    "    return (\n",
    "        theme_minimal(base_size=base_size)\n",
    "        + theme(\n",
    "            # White background\n",
    "            panel_background=element_rect(fill='white', color=None),\n",
    "            plot_background=element_rect(fill='white', color=None),\n",
    "\n",
    "            # Remove grid lines\n",
    "            panel_grid_major=element_blank(),\n",
    "            panel_grid_minor=element_blank(),\n",
    "            panel_border=element_blank(),\n",
    "\n",
    "            # Keep axis lines & ticks (don't blank them)\n",
    "            axis_line=element_line(color='black'),\n",
    "            axis_ticks=element_line(color='black'),\n",
    "\n",
    "            plot_title=element_text(hjust=0.5, family='Helvetica'),\n",
    "            axis_title_x=element_text(hjust=0.5, family='Helvetica'),\n",
    "            axis_title_y=element_text(hjust=0.5, margin={'t':0, 'r':-2, 'b':0, 'l':0}, family='Helvetica'),\n",
    "            \n",
    "            # Styling text\n",
    "            legend_title=element_blank(),\n",
    "            axis_title=element_text(size=base_size + 1, family='Helvetica'),\n",
    "            legend_text=element_text(size=base_size-2, family='Helvetica'),\n",
    "            axis_text=element_text(size=base_size, color='black', family='Helvetica'),\n",
    "            strip_text_x=element_text(size=base_size-1),\n",
    "            strip_text_y=element_text(size=base_size-1),\n",
    "            figure_size=(w, h),  # Controls plot dimensions (width x height in inches)\n",
    "            plot_margin=0.05      # Shrinks surrounding white space\n",
    "        )\n",
    "    )"
   ]
  },
  {
   "cell_type": "code",
   "execution_count": 3,
   "id": "dd5d1b4f-f2f7-4aad-8258-74ed7148c0b1",
   "metadata": {},
   "outputs": [],
   "source": [
    "config = load_config()\n",
    "od = '../'\n",
    "\n",
    "def proc_cfg(entry, od):\n",
    "    entry = entry.replace('../../', '')\n",
    "    entry = od+entry\n",
    "    return entry"
   ]
  },
  {
   "cell_type": "code",
   "execution_count": 4,
   "id": "03a94bbf-ed5a-44f1-be91-841a4e4adc0e",
   "metadata": {},
   "outputs": [],
   "source": [
    "# different gtfs to look at\n",
    "gc_gtf = proc_cfg(config['ref']['gtf'], od)\n",
    "poder_gtf = proc_cfg(config['lr']['gtf_filt_with_genes'], od)\n",
    "enh_gc_gtf = proc_cfg(config['lr']['gtf_gc_poder'], od)\n",
    "\n"
   ]
  },
  {
   "cell_type": "code",
   "execution_count": 5,
   "id": "67903109-fa43-4abf-a1ba-860ddfa6c6f5",
   "metadata": {},
   "outputs": [],
   "source": [
    "annots = ['GENCODE', 'PODER', 'Enhanced\\nGENCODE']\n",
    "gtfs = [gc_gtf, poder_gtf, enh_gc_gtf]\n",
    "\n",
    "n_t = []\n",
    "for annot, gtf in zip(annots, gtfs):\n",
    "    df = pr.read_gtf(gtf).df\n",
    "    n_t.append(len(df.loc[df.Feature=='transcript'].transcript_id.unique()))\n"
   ]
  },
  {
   "cell_type": "code",
   "execution_count": 6,
   "id": "d0509cf6-42fa-41fb-b5b2-0893f403ffe6",
   "metadata": {},
   "outputs": [
    {
     "data": {
      "text/plain": [
       "[387944, 155875, 429241]"
      ]
     },
     "execution_count": 6,
     "metadata": {},
     "output_type": "execute_result"
    }
   ],
   "source": [
    "n_t"
   ]
  },
  {
   "cell_type": "code",
   "execution_count": 7,
   "id": "b2e9fbc8-bf97-4f15-9920-a327384c80e7",
   "metadata": {},
   "outputs": [
    {
     "data": {
      "text/html": [
       "<div>\n",
       "<style scoped>\n",
       "    .dataframe tbody tr th:only-of-type {\n",
       "        vertical-align: middle;\n",
       "    }\n",
       "\n",
       "    .dataframe tbody tr th {\n",
       "        vertical-align: top;\n",
       "    }\n",
       "\n",
       "    .dataframe thead th {\n",
       "        text-align: right;\n",
       "    }\n",
       "</style>\n",
       "<table border=\"1\" class=\"dataframe\">\n",
       "  <thead>\n",
       "    <tr style=\"text-align: right;\">\n",
       "      <th></th>\n",
       "      <th>annot</th>\n",
       "      <th>n_t</th>\n",
       "    </tr>\n",
       "  </thead>\n",
       "  <tbody>\n",
       "    <tr>\n",
       "      <th>0</th>\n",
       "      <td>GENCODE</td>\n",
       "      <td>387944</td>\n",
       "    </tr>\n",
       "    <tr>\n",
       "      <th>1</th>\n",
       "      <td>PODER</td>\n",
       "      <td>155875</td>\n",
       "    </tr>\n",
       "    <tr>\n",
       "      <th>2</th>\n",
       "      <td>Enhanced\\nGENCODE</td>\n",
       "      <td>429241</td>\n",
       "    </tr>\n",
       "  </tbody>\n",
       "</table>\n",
       "</div>"
      ],
      "text/plain": [
       "               annot     n_t\n",
       "0            GENCODE  387944\n",
       "1              PODER  155875\n",
       "2  Enhanced\\nGENCODE  429241"
      ]
     },
     "execution_count": 7,
     "metadata": {},
     "output_type": "execute_result"
    }
   ],
   "source": [
    "df = pd.DataFrame()\n",
    "df['annot'] = annots\n",
    "df['n_t'] = n_t\n",
    "df.head()"
   ]
  },
  {
   "cell_type": "code",
   "execution_count": 14,
   "id": "3439c395-84f0-4af9-9d9f-bbdb363aa9a3",
   "metadata": {},
   "outputs": [
    {
     "data": {
      "text/plain": [
       "0.40179768213969025"
      ]
     },
     "execution_count": 14,
     "metadata": {},
     "output_type": "execute_result"
    }
   ],
   "source": [
    "155875/387944"
   ]
  },
  {
   "cell_type": "code",
   "execution_count": 9,
   "id": "3c6460db-996e-4fcd-8071-35d9dc398ad8",
   "metadata": {},
   "outputs": [],
   "source": [
    "c_dict, order = get_annot_colors(list(df.annot.unique()))\n"
   ]
  },
  {
   "cell_type": "code",
   "execution_count": 13,
   "id": "d15a096c-b7ae-4617-a740-df3fa4a5a416",
   "metadata": {},
   "outputs": [
    {
     "data": {
      "image/png": "[encoded data removed]"
     },
     "metadata": {
      "image/png": {
       "height": 300,
       "width": 400
      }
     },
     "output_type": "display_data"
    },
    {
     "name": "stderr",
     "output_type": "stream",
     "text": [
      "/Users/fairliereese/miniconda3/envs/plotnine_test/lib/python3.12/site-packages/plotnine/ggplot.py:606: PlotnineWarning: Saving 4 x 3 in image.\n",
      "/Users/fairliereese/miniconda3/envs/plotnine_test/lib/python3.12/site-packages/plotnine/ggplot.py:607: PlotnineWarning: Filename: n_t_per_annotation.pdf\n"
     ]
    }
   ],
   "source": [
    "df['annot'] = pd.Categorical(df['annot'], categories=order, ordered=True)\n",
    "\n",
    "p = (ggplot(df, aes(x='annot', y='n_t', fill='annot'))\n",
    "    + geom_bar(stat='identity')\n",
    "    + scale_fill_manual(values=c_dict)\n",
    "    + my_theme(w=4, h=3)\n",
    "    + labs(y='# transcripts',\n",
    "          x='')\n",
    "    + theme(legend_position='none')\n",
    " \n",
    ")\n",
    "p.show()\n",
    "p.save('n_t_per_annotation.pdf', width=4, height=3, dpi=500)\n"
   ]
  },
  {
   "cell_type": "code",
   "execution_count": null,
   "id": "fc278044-92e5-40aa-b9b6-60ac82bb5174",
   "metadata": {},
   "outputs": [],
   "source": []
  }
 ],
 "metadata": {
  "kernelspec": {
   "display_name": "Python 3 (ipykernel)",
   "language": "python",
   "name": "python3"
  },
  "language_info": {
   "codemirror_mode": {
    "name": "ipython",
    "version": 3
   },
   "file_extension": ".py",
   "mimetype": "text/x-python",
   "name": "python",
   "nbconvert_exporter": "python",
   "pygments_lexer": "ipython3",
   "version": "3.12.5"
  }
 },
 "nbformat": 4,
 "nbformat_minor": 5
}
