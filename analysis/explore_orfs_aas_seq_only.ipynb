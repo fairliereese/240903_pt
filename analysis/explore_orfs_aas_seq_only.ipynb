{
 "cells": [
  {
   "cell_type": "code",
   "execution_count": 1,
   "id": "7e20cbc3-7d90-42ab-ba09-74d949a0ee2f",
   "metadata": {},
   "outputs": [],
   "source": [
    "import pandas as pd\n",
    "import numpy as np\n",
    "import scipy.stats as st\n",
    "import seaborn as sns\n",
    "import sys\n",
    "import os\n",
    "import matplotlib.pyplot as plt\n",
    "import swan_vis as swan\n",
    "import yaml\n",
    "from snakemake.io import expand\n",
    "import cerberus\n",
    "import pyranges as pr\n",
    "from pyfaidx import Fasta\n",
    "import upsetplot\n",
    "\n",
    "p = os.path.dirname(os.getcwd())\n",
    "sys.path.append(p)\n",
    "\n",
    "from scripts.utils import *\n",
    "from scripts.vcf_utils import *\n",
    "from scripts.plotting import *"
   ]
  },
  {
   "cell_type": "markdown",
   "id": "2f7d1144-97cf-451c-973d-e8df945b426e",
   "metadata": {},
   "source": [
    "## Same analysis as before but now we only care about the AAs existing at all instead of belonging to the same gene"
   ]
  },
  {
   "cell_type": "code",
   "execution_count": 2,
   "id": "192a1b3b-c75c-4043-af5f-e632be72fd43",
   "metadata": {},
   "outputs": [],
   "source": [
    "config = load_config()\n",
    "od = '../'\n",
    "\n",
    "def proc_cfg(entry, od):\n",
    "    entry = entry.replace('../../', '')\n",
    "    entry = od+entry\n",
    "    return entry"
   ]
  },
  {
   "cell_type": "code",
   "execution_count": 3,
   "id": "410f6b03-0d53-4b1e-881a-3a98c75849e0",
   "metadata": {},
   "outputs": [],
   "source": [
    "mt_df = pd.read_csv('../data/05_mastertable/poder_master_table.tsv', sep='\\t')\n",
    "# mt_df = mt_df.loc[mt_df['filter']=='pass']\n",
    "mt_df['pop_spec_t'] = (mt_df.population_sharing==1)&\\\n",
    "                      (mt_df.sample_sharing>1)"
   ]
  },
  {
   "cell_type": "code",
   "execution_count": 4,
   "id": "73d018bb-149e-48cd-a785-c2a5d1e13b46",
   "metadata": {},
   "outputs": [],
   "source": [
    "p_df = pd.read_csv(proc_cfg(config['lr']['poder_protein']['protein']['summary'], od), sep='\\t')\n",
    "p_df = p_df.merge(mt_df[['associated_gene_biotype', 'structural_category', 'isoform', 'associated_gene']],\n",
    "                  how='left',\n",
    "                  left_on='tid', \n",
    "                  right_on='isoform')\n",
    "p_df.rename({'associated_gene':'gid',\n",
    "             'protein_sequence':'seq'}, axis=1, inplace=True)\n",
    "assert len(p_df.loc[p_df.isoform.isnull()]) == 0"
   ]
  },
  {
   "cell_type": "markdown",
   "id": "c3e8b7bf-1a66-47b7-a073-62bb9bcb91a6",
   "metadata": {},
   "source": [
    "## First, need to filter"
   ]
  },
  {
   "cell_type": "code",
   "execution_count": 5,
   "id": "ef16a348-d6e2-4b34-8d26-9091fcc406ca",
   "metadata": {},
   "outputs": [
    {
     "name": "stdout",
     "output_type": "stream",
     "text": [
      "86332\n"
     ]
    }
   ],
   "source": [
    "# remove NMD things\n",
    "p_df = p_df.loc[p_df.protein_is_nmd == False]\n",
    "\n",
    "# keep only things w/ full ORFs\n",
    "p_df = p_df.loc[(p_df.protein_has_start_codon==True)&\\\n",
    "                (p_df.protein_has_stop_codon==True)]\n",
    "\n",
    "# keep only things from annotated protein coding genes\n",
    "p_df = p_df.loc[p_df.associated_gene_biotype=='Protein Coding']\n",
    "\n",
    "# length minimum?? maybe not\n",
    "print(len(p_df.index))"
   ]
  },
  {
   "cell_type": "markdown",
   "id": "7493b25b-3c11-4e17-8f5b-9219fe3fd276",
   "metadata": {},
   "source": [
    "## How many novel AA sequences do we add?"
   ]
  },
  {
   "cell_type": "code",
   "execution_count": 8,
   "id": "5f4d35b7-fc7a-44e4-bdf2-4b24c37bcdba",
   "metadata": {},
   "outputs": [],
   "source": [
    "# get annotated AA sequences\n",
    "fasta_file = proc_cfg(config['ref']['pc'], od)\n",
    "fasta = Fasta(fasta_file)\n",
    "\n",
    "# Extract each entry's name and sequence\n",
    "ref_orfs = {\n",
    "    \"name\": [entry.name for entry in fasta],\n",
    "    \"seq\": [str(entry) for entry in fasta]\n",
    "}\n",
    "\n",
    "ref_orfs = pd.DataFrame(ref_orfs)\n",
    "ref_orfs['gid'] =  ref_orfs.name.str.split('|', expand=True)[2]\n",
    "ref_orfs = ref_orfs[['seq']]\n",
    "ref_orfs['annot_aa'] = True\n",
    "ref_orfs.drop_duplicates(inplace=True)"
   ]
  },
  {
   "cell_type": "code",
   "execution_count": 10,
   "id": "e58a9c51-14fd-40ef-bcd7-097d7ce38722",
   "metadata": {},
   "outputs": [
    {
     "name": "stdout",
     "output_type": "stream",
     "text": [
      "86332\n",
      "86332\n"
     ]
    }
   ],
   "source": [
    "# what are novel AA? \n",
    "# p_df.loc[p_df.blastp_identity==100][['tid','protein_splice_category']].groupby('protein_splice_category').nunique().rename({'tid':'n_tid'}, axis=1)\n",
    "\n",
    "# just going to call novel aas as those that are not in the \n",
    "# pc translations gencode file\n",
    "print(len(p_df))\n",
    "p_df = p_df.merge(ref_orfs, how='left', on=['seq'])\n",
    "print(len(p_df))\n",
    "p_df['annot_aa'] = p_df['annot_aa'].fillna(False)"
   ]
  },
  {
   "cell_type": "code",
   "execution_count": 11,
   "id": "318f2246-9a1f-46aa-b940-ed5d5d19b732",
   "metadata": {},
   "outputs": [
    {
     "data": {
      "text/html": [
       "<div>\n",
       "<style scoped>\n",
       "    .dataframe tbody tr th:only-of-type {\n",
       "        vertical-align: middle;\n",
       "    }\n",
       "\n",
       "    .dataframe tbody tr th {\n",
       "        vertical-align: top;\n",
       "    }\n",
       "\n",
       "    .dataframe thead th {\n",
       "        text-align: right;\n",
       "    }\n",
       "</style>\n",
       "<table border=\"1\" class=\"dataframe\">\n",
       "  <thead>\n",
       "    <tr style=\"text-align: right;\">\n",
       "      <th></th>\n",
       "      <th></th>\n",
       "      <th>tid</th>\n",
       "    </tr>\n",
       "    <tr>\n",
       "      <th>annot_aa</th>\n",
       "      <th>perfect_blast_match</th>\n",
       "      <th></th>\n",
       "    </tr>\n",
       "  </thead>\n",
       "  <tbody>\n",
       "    <tr>\n",
       "      <th rowspan=\"2\" valign=\"top\">False</th>\n",
       "      <th>False</th>\n",
       "      <td>20937</td>\n",
       "    </tr>\n",
       "    <tr>\n",
       "      <th>True</th>\n",
       "      <td>24773</td>\n",
       "    </tr>\n",
       "    <tr>\n",
       "      <th rowspan=\"2\" valign=\"top\">True</th>\n",
       "      <th>False</th>\n",
       "      <td>66</td>\n",
       "    </tr>\n",
       "    <tr>\n",
       "      <th>True</th>\n",
       "      <td>40556</td>\n",
       "    </tr>\n",
       "  </tbody>\n",
       "</table>\n",
       "</div>"
      ],
      "text/plain": [
       "                                tid\n",
       "annot_aa perfect_blast_match       \n",
       "False    False                20937\n",
       "         True                 24773\n",
       "True     False                   66\n",
       "         True                 40556"
      ]
     },
     "execution_count": 11,
     "metadata": {},
     "output_type": "execute_result"
    }
   ],
   "source": [
    "p_df[['perfect_blast_match', 'annot_aa', 'tid']].groupby(['annot_aa', 'perfect_blast_match']).nunique()"
   ]
  },
  {
   "cell_type": "code",
   "execution_count": 12,
   "id": "8e3e955d-f7ff-4a2f-a803-c7aacd9f70da",
   "metadata": {},
   "outputs": [
    {
     "data": {
      "text/html": [
       "<div>\n",
       "<style scoped>\n",
       "    .dataframe tbody tr th:only-of-type {\n",
       "        vertical-align: middle;\n",
       "    }\n",
       "\n",
       "    .dataframe tbody tr th {\n",
       "        vertical-align: top;\n",
       "    }\n",
       "\n",
       "    .dataframe thead th {\n",
       "        text-align: right;\n",
       "    }\n",
       "</style>\n",
       "<table border=\"1\" class=\"dataframe\">\n",
       "  <thead>\n",
       "    <tr style=\"text-align: right;\">\n",
       "      <th></th>\n",
       "      <th>n_aa</th>\n",
       "    </tr>\n",
       "    <tr>\n",
       "      <th>annot_aa</th>\n",
       "      <th></th>\n",
       "    </tr>\n",
       "  </thead>\n",
       "  <tbody>\n",
       "    <tr>\n",
       "      <th>False</th>\n",
       "      <td>38873</td>\n",
       "    </tr>\n",
       "    <tr>\n",
       "      <th>True</th>\n",
       "      <td>28043</td>\n",
       "    </tr>\n",
       "  </tbody>\n",
       "</table>\n",
       "</div>"
      ],
      "text/plain": [
       "           n_aa\n",
       "annot_aa       \n",
       "False     38873\n",
       "True      28043"
      ]
     },
     "execution_count": 12,
     "metadata": {},
     "output_type": "execute_result"
    }
   ],
   "source": [
    "p_df[['seq', 'annot_aa']].groupby('annot_aa').nunique().rename({'seq': 'n_aa'}, axis=1)"
   ]
  },
  {
   "cell_type": "code",
   "execution_count": 13,
   "id": "7342f9dc-d77a-421e-930a-e1128c1ab362",
   "metadata": {},
   "outputs": [],
   "source": [
    "# how many unique novel AAs do we add per gene?\n",
    "temp = p_df[['seq', 'annot_aa', 'gid']].groupby(['gid', 'annot_aa']).nunique().reset_index().rename({'seq':'n_aa'}, axis=1)"
   ]
  },
  {
   "cell_type": "code",
   "execution_count": 14,
   "id": "2d1bd1cd-0188-486e-b5c9-2355da80a545",
   "metadata": {},
   "outputs": [
    {
     "data": {
      "image/png": "[encoded data removed]",
      "text/plain": [
       "<Figure size 360x360 with 1 Axes>"
      ]
     },
     "metadata": {
      "needs_background": "light"
     },
     "output_type": "display_data"
    }
   ],
   "source": [
    "init_plot_settings(aspect='square')\n",
    "ax = sns.boxplot(temp, y='n_aa', x='annot_aa')"
   ]
  },
  {
   "cell_type": "code",
   "execution_count": 15,
   "id": "6d315d28-9fc1-4338-9970-90ef32c479d8",
   "metadata": {},
   "outputs": [
    {
     "data": {
      "text/html": [
       "<div>\n",
       "<style scoped>\n",
       "    .dataframe tbody tr th:only-of-type {\n",
       "        vertical-align: middle;\n",
       "    }\n",
       "\n",
       "    .dataframe tbody tr th {\n",
       "        vertical-align: top;\n",
       "    }\n",
       "\n",
       "    .dataframe thead th {\n",
       "        text-align: right;\n",
       "    }\n",
       "</style>\n",
       "<table border=\"1\" class=\"dataframe\">\n",
       "  <thead>\n",
       "    <tr style=\"text-align: right;\">\n",
       "      <th></th>\n",
       "      <th>n_aa</th>\n",
       "    </tr>\n",
       "    <tr>\n",
       "      <th>annot_aa</th>\n",
       "      <th></th>\n",
       "    </tr>\n",
       "  </thead>\n",
       "  <tbody>\n",
       "    <tr>\n",
       "      <th>False</th>\n",
       "      <td>3.883714</td>\n",
       "    </tr>\n",
       "    <tr>\n",
       "      <th>True</th>\n",
       "      <td>2.171923</td>\n",
       "    </tr>\n",
       "  </tbody>\n",
       "</table>\n",
       "</div>"
      ],
      "text/plain": [
       "              n_aa\n",
       "annot_aa          \n",
       "False     3.883714\n",
       "True      2.171923"
      ]
     },
     "execution_count": 15,
     "metadata": {},
     "output_type": "execute_result"
    }
   ],
   "source": [
    "# mean number of added AAs per protein coding gene\n",
    "temp[['n_aa', 'annot_aa']].groupby('annot_aa').mean()"
   ]
  },
  {
   "cell_type": "markdown",
   "id": "4850b471-47cb-48eb-a874-104f5669fe35",
   "metadata": {},
   "source": [
    "## How many novel AA sequences do we add?"
   ]
  },
  {
   "cell_type": "code",
   "execution_count": 16,
   "id": "3550c5c7-9789-4bdf-a159-bdca2790276b",
   "metadata": {},
   "outputs": [],
   "source": [
    "# how many total novel AAs do we add? how many do we detect? how many were already annotated?\n",
    "# bar plot\n",
    "temp = p_df[['seq']].drop_duplicates()\n",
    "temp['PODER'] = True\n",
    "\n",
    "temp2 = ref_orfs[['seq']].drop_duplicates()\n",
    "temp2['GENCODE v47'] = True\n",
    "\n",
    "temp = temp.merge(temp2, \n",
    "                  how='outer',\n",
    "                  on='seq')\n",
    "temp.fillna(False, inplace=True)\n",
    "temp.set_index(['GENCODE v47', 'PODER'], inplace=True)\n",
    "\n",
    "\n",
    "# temp2 = temp.groupby(['annot_aa']).nunique().reset_index().rename({'aa_id':'n_aa'},axis=1)\n",
    "# temp2['PODER'] = True\n",
    "\n",
    "# ref_orfs['aa_id'] = ref_orfs.gid+'_'+ref_orfs.seq\n",
    "\n",
    "# n = len(ref_orfs.aa_id.unique())\n",
    "# temp = pd.DataFrame().from_dict({'annotation':['GENCODE v47'], 'n_aa':[n]})\n",
    "# temp['GENCODE v47'] = True\n",
    "# temp2 = pd.concat([temp, temp2], axis=0)\n",
    "# temp2[['n_aa', 'GENCODE v47', 'PODER']]\n",
    "\n",
    "# temp2.fillna(False, inplace=True)\n",
    "# temp2.set_index(['GENCODE v47', 'PODER'], inplace=True)\n",
    "# temp2 = temp2[['n_aa']]"
   ]
  },
  {
   "cell_type": "code",
   "execution_count": 17,
   "id": "1b0a20e7-e38c-48a2-b371-c6c1453d03c1",
   "metadata": {},
   "outputs": [
    {
     "data": {
      "text/plain": [
       "{'matrix': <AxesSubplot:>,\n",
       " 'shading': <AxesSubplot:>,\n",
       " 'totals': <AxesSubplot:>,\n",
       " 'intersections': <AxesSubplot:ylabel='Intersection size'>}"
      ]
     },
     "execution_count": 17,
     "metadata": {},
     "output_type": "execute_result"
    },
    {
     "data": {
      "image/png": "[encoded data removed]",
      "text/plain": [
       "<Figure size 352x256 with 4 Axes>"
      ]
     },
     "metadata": {
      "needs_background": "light"
     },
     "output_type": "display_data"
    }
   ],
   "source": [
    "init_plot_settings(aspect='rectangle', font_scale=1)\n",
    "plt.rcParams.update({'font.size': 12})\n",
    "upsetplot.plot(temp, sort_by='cardinality', show_counts=True)\n"
   ]
  },
  {
   "cell_type": "markdown",
   "id": "c7bdd4f1-070e-4fff-999a-734114d61ea7",
   "metadata": {},
   "source": [
    "## What novelty categories are novel ORFs from generally? "
   ]
  },
  {
   "cell_type": "code",
   "execution_count": 18,
   "id": "c6439be1-c934-4d07-a057-71bae898d798",
   "metadata": {},
   "outputs": [
    {
     "data": {
      "text/plain": [
       "<AxesSubplot:xlabel='structural_category', ylabel='count'>"
      ]
     },
     "execution_count": 18,
     "metadata": {},
     "output_type": "execute_result"
    },
    {
     "data": {
      "image/png": "[encoded data removed]",
      "text/plain": [
       "<Figure size 504x360 with 1 Axes>"
      ]
     },
     "metadata": {
      "needs_background": "light"
     },
     "output_type": "display_data"
    }
   ],
   "source": [
    "c_dict, order = get_novelty_colors()\n",
    "temp = p_df[['tid',  'structural_category',\n",
    "      'annot_aa']]\n",
    "# .groupby(['structural_category', 'annot_aa']).nunique().rename({'tid':'n_t'}, axis=1).reset_index()\n",
    "\n",
    "# g = sns.FacetGrid(temp, col='annot_aa')\n",
    "# g.map(sns.countplot, x='structural_category', palette=c_dict, order=order)\n",
    "sns.countplot(temp, hue='annot_aa', x='structural_category')"
   ]
  },
  {
   "cell_type": "code",
   "execution_count": null,
   "id": "b5ceaed2-a5c8-455c-9b37-14c97ed70884",
   "metadata": {},
   "outputs": [],
   "source": []
  }
 ],
 "metadata": {
  "kernelspec": {
   "display_name": "Python 3",
   "language": "python",
   "name": "python3"
  },
  "language_info": {
   "codemirror_mode": {
    "name": "ipython",
    "version": 3
   },
   "file_extension": ".py",
   "mimetype": "text/x-python",
   "name": "python",
   "nbconvert_exporter": "python",
   "pygments_lexer": "ipython3",
   "version": "3.7.12"
  }
 },
 "nbformat": 4,
 "nbformat_minor": 5
}
