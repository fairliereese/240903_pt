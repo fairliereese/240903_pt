{
 "cells": [
  {
   "cell_type": "code",
   "execution_count": 1,
   "id": "fc1bdf95-1353-4545-bbdf-7c6cff516849",
   "metadata": {},
   "outputs": [],
   "source": [
    "import pandas as pd\n",
    "import numpy as np\n",
    "import scipy.stats as st\n",
    "import seaborn as sns\n",
    "import sys\n",
    "import os\n",
    "import matplotlib.pyplot as plt\n",
    "import swan_vis as swan\n",
    "import yaml\n",
    "from snakemake.io import expand\n",
    "import cerberus\n",
    "import pyranges as pr\n",
    "import upsetplot\n",
    "\n",
    "p = os.path.dirname(os.getcwd())\n",
    "sys.path.append(p)\n",
    "\n",
    "from scripts.utils import *\n",
    "from scripts.vcf_utils import *\n",
    "from scripts.plotting import *"
   ]
  },
  {
   "cell_type": "code",
   "execution_count": 2,
   "id": "ceee9112-1246-4cff-873a-369884452f94",
   "metadata": {},
   "outputs": [],
   "source": [
    "config = load_config()\n",
    "od = '../'\n",
    "\n",
    "def proc_cfg(entry, od):\n",
    "    entry = entry.replace('../../', '')\n",
    "    entry = od+entry\n",
    "    return entry"
   ]
  },
  {
   "cell_type": "code",
   "execution_count": 218,
   "id": "6a39e29d-d156-4a53-bdc2-4ae79fec3590",
   "metadata": {},
   "outputs": [],
   "source": [
    "df = load_meta()\n",
    "df = df.loc[~df['sample'].str.contains('_')]\n",
    "df['lab_sample'] = df['lab_number_sample'].astype(str)+'_'+\\\n",
    "                      df['lab_sampleid'].astype(str)+'_'+\\\n",
    "                      df['cell_line_id'].astype(str)\n",
    "df.columns\n",
    "df = df[['cell_line_id', 'sample', 'hapmap_DNA_ID',\n",
    "          'map_reads_assemblymap','lab_sample', 'population']].drop_duplicates()\n",
    "\n",
    "temp_df = pd.read_csv('../snakemake/transcript_discovery_personal/cell_line_ids.txt', header=None, names=['cell_line_id'])\n",
    "\n",
    "# make a 1000g cell line id col\n",
    "df['cell_line_id_1000g'] = df.cell_line_id\n",
    "\n",
    "inds = df.loc[~df.cell_line_id_1000g.isin(temp_df.cell_line_id.tolist())].index\n",
    "df.loc[inds, 'cell_line_id_1000g'] = df.loc[inds, 'hapmap_DNA_ID']\n",
    "len(df.index)\n",
    "\n",
    "# limit to just those in 1000g\n",
    "df = df.loc[df.cell_line_id_1000g.isin(temp_df.cell_line_id.tolist())]\n",
    "assert len(df.index) == 30\n",
    "\n",
    "# TODO bad sample that hasn't finished on espresso\n",
    "# bad_samples = ['NA19328']\n",
    "# df = df.loc[~df.cell_line_id_1000g.isin(bad_samples)]\n",
    "\n",
    "hap = ['hap1', 'hap2']\n",
    "\n",
    "meta_df = df.copy(deep=True)"
   ]
  },
  {
   "cell_type": "markdown",
   "id": "8245d369-d2cb-465e-8659-3314acf89042",
   "metadata": {},
   "source": [
    "## Try again"
   ]
  },
  {
   "cell_type": "code",
   "execution_count": 219,
   "id": "1a026de1-c03a-488e-9950-c1feb88dc357",
   "metadata": {},
   "outputs": [],
   "source": [
    "file = proc_cfg(config['lr']['td_personal']['cerb']['ic_summary'],od)\n",
    "df = pd.read_csv(file)\n",
    "df.drop('Unnamed: 0', axis=1, inplace=True)\n",
    "df['detected'] = True"
   ]
  },
  {
   "cell_type": "code",
   "execution_count": 220,
   "id": "0c31d957-da54-4dde-9150-f2dba5683519",
   "metadata": {},
   "outputs": [
    {
     "name": "stdout",
     "output_type": "stream",
     "text": [
      "12993951\n",
      "4280955\n",
      "1426985\n"
     ]
    }
   ],
   "source": [
    "# 1.5 only novel ics and count per cell line\n",
    "print(len(df.index))\n",
    "temp = df.loc[(df.structural_category!='full-splice_match')&\\\n",
    "              (df.structural_category!='incomplete-splice_match')]\n",
    "print(len(temp.index))\n",
    "\n",
    "# get only the detection from mapping\n",
    "temp = temp[['ic_id', 'cell_line_id', 'map_genome', 'detected']]\n",
    "temp = temp.drop_duplicates()\n",
    "print(len(temp.index))\n",
    "\n",
    "temp = temp.pivot(index=['ic_id', 'cell_line_id'], \n",
    "                columns=['map_genome'],\n",
    "                values=['detected'])\n",
    "\n",
    "# flatten\n",
    "temp.columns = temp.columns.get_level_values(1)\n",
    "temp.columns.name = None\n",
    "\n",
    "# reset index to make it a flat DataFrame\n",
    "temp = temp.reset_index()\n",
    "\n",
    "# fill missing values with False\n",
    "temp = temp.fillna(False)\n",
    "\n",
    "# det. in personal haps? \n",
    "temp['pers_hap'] = (temp.hap1==True)|(temp.hap2==True)\n",
    "temp.drop(['hap1', 'hap2'], axis=1, inplace=True)"
   ]
  },
  {
   "cell_type": "code",
   "execution_count": 221,
   "id": "ebf05d49-40ed-4bbe-abca-0157afe477b7",
   "metadata": {},
   "outputs": [],
   "source": [
    "# count number of novel ICs det pers cell line\n",
    "temp['n_novel_ic'] = temp.groupby('cell_line_id')['ic_id'].transform('nunique')\n",
    "temp2 = temp[['cell_line_id', 'n_novel_ic']]\n",
    "temp2 = temp2.sort_values(by='n_novel_ic', ascending=False).drop_duplicates()\n",
    "order = temp2.cell_line_id.tolist()\n",
    "samples_28 = order[:28]\n",
    "samples_2 = order[-2:]"
   ]
  },
  {
   "cell_type": "code",
   "execution_count": 222,
   "id": "38f56b24-8a6e-40c3-ae6b-7cfa735a2815",
   "metadata": {},
   "outputs": [],
   "source": [
    "# first try to recreate the saturation / increases curves\n",
    "ic_ids_hg38 = []\n",
    "ic_ids_pers = []\n",
    "\n",
    "cols = ['n_samples', 'genome', 'diff', 'n_cum_uniq']\n",
    "df = pd.DataFrame()\n",
    "\n",
    "for i, c in enumerate(order):\n",
    "    \n",
    "    # HG38\n",
    "    \n",
    "    things = [i, 'hg38']\n",
    "    \n",
    "    # get ics for hg38\n",
    "    curr_ics = temp.loc[(temp.cell_line_id==c)&\n",
    "                        (temp.hg38==True)].ic_id.unique().tolist()\n",
    "    \n",
    "    # difference between last and this one\n",
    "    things.append(len(list(set(curr_ics)-set(ic_ids_hg38)))) # difference \n",
    "    \n",
    "    # cumulative\n",
    "    ic_ids_hg38 = list(set(curr_ics)|set(ic_ids_hg38)) # union\n",
    "    things.append(len(ic_ids_hg38))\n",
    "    \n",
    "    temp3 = pd.DataFrame(data=[things], columns=cols)\n",
    "    df = pd.concat([df, temp3], axis=0)\n",
    "    \n",
    "    # PERS\n",
    "    \n",
    "    things = [i, 'pers']\n",
    "    \n",
    "    # get ics for pers\n",
    "    curr_ics = temp.loc[(temp.cell_line_id==c)&\n",
    "                        (temp.pers_hap==True)].ic_id.unique().tolist()\n",
    "    \n",
    "    # difference between last and this one\n",
    "    things.append(len(list(set(curr_ics)-set(ic_ids_pers)))) # difference \n",
    "    \n",
    "    # cumulative\n",
    "    ic_ids_pers = list(set(curr_ics)|set(ic_ids_pers)) # union\n",
    "    things.append(len(ic_ids_pers))\n",
    "    \n",
    "    temp3 = pd.DataFrame(data=[things], columns=cols)\n",
    "    df = pd.concat([df, temp3], axis=0)"
   ]
  },
  {
   "cell_type": "code",
   "execution_count": 223,
   "id": "35c18a62-3fbb-4622-973d-bb188753693b",
   "metadata": {},
   "outputs": [
    {
     "data": {
      "text/html": [
       "<div>\n",
       "<style scoped>\n",
       "    .dataframe tbody tr th:only-of-type {\n",
       "        vertical-align: middle;\n",
       "    }\n",
       "\n",
       "    .dataframe tbody tr th {\n",
       "        vertical-align: top;\n",
       "    }\n",
       "\n",
       "    .dataframe thead th {\n",
       "        text-align: right;\n",
       "    }\n",
       "</style>\n",
       "<table border=\"1\" class=\"dataframe\">\n",
       "  <thead>\n",
       "    <tr style=\"text-align: right;\">\n",
       "      <th></th>\n",
       "      <th>n_samples</th>\n",
       "      <th>genome</th>\n",
       "      <th>diff</th>\n",
       "      <th>n_cum_uniq</th>\n",
       "    </tr>\n",
       "  </thead>\n",
       "  <tbody>\n",
       "    <tr>\n",
       "      <th>0</th>\n",
       "      <td>29</td>\n",
       "      <td>hg38</td>\n",
       "      <td>658</td>\n",
       "      <td>99551</td>\n",
       "    </tr>\n",
       "    <tr>\n",
       "      <th>0</th>\n",
       "      <td>29</td>\n",
       "      <td>pers</td>\n",
       "      <td>694</td>\n",
       "      <td>103365</td>\n",
       "    </tr>\n",
       "  </tbody>\n",
       "</table>\n",
       "</div>"
      ],
      "text/plain": [
       "   n_samples genome  diff  n_cum_uniq\n",
       "0         29   hg38   658       99551\n",
       "0         29   pers   694      103365"
      ]
     },
     "execution_count": 223,
     "metadata": {},
     "output_type": "execute_result"
    }
   ],
   "source": [
    "df.loc[df.n_samples==29]"
   ]
  },
  {
   "cell_type": "code",
   "execution_count": 224,
   "id": "1b506fbd-63f1-4e33-81af-0835ae64a05d",
   "metadata": {},
   "outputs": [],
   "source": [
    "assert len(temp.loc[temp.pers_hap==True].ic_id.unique()) == df.loc[(df.n_samples==29)&(df.genome=='pers')]['n_cum_uniq'].values[0]\n",
    "assert len(temp.loc[temp.hg38==True].ic_id.unique()) == df.loc[(df.n_samples==29)&(df.genome=='hg38')]['n_cum_uniq'].values[0]"
   ]
  },
  {
   "cell_type": "code",
   "execution_count": 225,
   "id": "42e96c1f-3b28-4094-85e5-9440c4432959",
   "metadata": {},
   "outputs": [
    {
     "data": {
      "text/html": [
       "<div>\n",
       "<style scoped>\n",
       "    .dataframe tbody tr th:only-of-type {\n",
       "        vertical-align: middle;\n",
       "    }\n",
       "\n",
       "    .dataframe tbody tr th {\n",
       "        vertical-align: top;\n",
       "    }\n",
       "\n",
       "    .dataframe thead th {\n",
       "        text-align: right;\n",
       "    }\n",
       "</style>\n",
       "<table border=\"1\" class=\"dataframe\">\n",
       "  <thead>\n",
       "    <tr style=\"text-align: right;\">\n",
       "      <th></th>\n",
       "      <th>n_samples</th>\n",
       "      <th>genome</th>\n",
       "      <th>diff</th>\n",
       "      <th>n_cum_uniq</th>\n",
       "    </tr>\n",
       "  </thead>\n",
       "  <tbody>\n",
       "    <tr>\n",
       "      <th>0</th>\n",
       "      <td>27</td>\n",
       "      <td>pers</td>\n",
       "      <td>639</td>\n",
       "      <td>101900</td>\n",
       "    </tr>\n",
       "    <tr>\n",
       "      <th>0</th>\n",
       "      <td>28</td>\n",
       "      <td>hg38</td>\n",
       "      <td>767</td>\n",
       "      <td>98893</td>\n",
       "    </tr>\n",
       "    <tr>\n",
       "      <th>0</th>\n",
       "      <td>28</td>\n",
       "      <td>pers</td>\n",
       "      <td>771</td>\n",
       "      <td>102671</td>\n",
       "    </tr>\n",
       "    <tr>\n",
       "      <th>0</th>\n",
       "      <td>29</td>\n",
       "      <td>hg38</td>\n",
       "      <td>658</td>\n",
       "      <td>99551</td>\n",
       "    </tr>\n",
       "    <tr>\n",
       "      <th>0</th>\n",
       "      <td>29</td>\n",
       "      <td>pers</td>\n",
       "      <td>694</td>\n",
       "      <td>103365</td>\n",
       "    </tr>\n",
       "  </tbody>\n",
       "</table>\n",
       "</div>"
      ],
      "text/plain": [
       "   n_samples genome  diff  n_cum_uniq\n",
       "0         27   pers   639      101900\n",
       "0         28   hg38   767       98893\n",
       "0         28   pers   771      102671\n",
       "0         29   hg38   658       99551\n",
       "0         29   pers   694      103365"
      ]
     },
     "execution_count": 225,
     "metadata": {},
     "output_type": "execute_result"
    }
   ],
   "source": [
    "df.tail()"
   ]
  },
  {
   "cell_type": "code",
   "execution_count": 226,
   "id": "54fde1a6-15eb-4b16-a6ff-7b2459c079cd",
   "metadata": {},
   "outputs": [
    {
     "name": "stdout",
     "output_type": "stream",
     "text": [
      "613\n"
     ]
    },
    {
     "data": {
      "image/png": "[encoded data removed]",
      "text/plain": [
       "<Figure size 504x360 with 1 Axes>"
      ]
     },
     "metadata": {
      "needs_background": "light"
     },
     "output_type": "display_data"
    }
   ],
   "source": [
    "init_plot_settings(aspect='rectangle')\n",
    "ax = sns.lineplot(data=df,\n",
    "             x=\"n_samples\",\n",
    "             y=\"diff\", hue='genome',\n",
    "                marker=\"o\")\n",
    "ax.set(xlabel='Samples (ranked by IC discovery)', \n",
    "       ylabel='# unique ICs added by sample')\n",
    "plt.axhline(y=df['diff'].min(), color=\"k\",\n",
    "            linestyle=\"--\", linewidth=1.5, label=f\"y = {df['diff'].min()}\")\n",
    "print(df['diff'].min())"
   ]
  },
  {
   "cell_type": "code",
   "execution_count": 227,
   "id": "8cc8849b-4cf2-42d6-8948-ee475842461d",
   "metadata": {},
   "outputs": [
    {
     "data": {
      "text/plain": [
       "[Text(0.5, 0, 'Samples (ranked by IC discovery)'),\n",
       " Text(0, 0.5, '# cumulative ICs added by sample')]"
      ]
     },
     "execution_count": 227,
     "metadata": {},
     "output_type": "execute_result"
    },
    {
     "data": {
      "image/png": "[encoded data removed]",
      "text/plain": [
       "<Figure size 504x360 with 1 Axes>"
      ]
     },
     "metadata": {
      "needs_background": "light"
     },
     "output_type": "display_data"
    }
   ],
   "source": [
    "init_plot_settings(aspect='rectangle')\n",
    "ax = sns.lineplot(data=df,\n",
    "             x=\"n_samples\",\n",
    "             y=\"n_cum_uniq\", hue='genome',\n",
    "                marker=\"o\")\n",
    "ax.set(xlabel='Samples (ranked by IC discovery)', \n",
    "       ylabel='# cumulative ICs added by sample')"
   ]
  },
  {
   "cell_type": "code",
   "execution_count": 265,
   "id": "4c72b767-e7cc-4fec-ad82-3911e9a4f67c",
   "metadata": {},
   "outputs": [
    {
     "ename": "AttributeError",
     "evalue": "'DataFrame' object has no attribute 'cell_line_id'",
     "output_type": "error",
     "traceback": [
      "\u001b[0;31m---------------------------------------------------------------------------\u001b[0m",
      "\u001b[0;31mAttributeError\u001b[0m                            Traceback (most recent call last)",
      "\u001b[0;32m<ipython-input-265-68c4c508b21e>\u001b[0m in \u001b[0;36m<module>\u001b[0;34m\u001b[0m\n\u001b[1;32m     85\u001b[0m \u001b[0;34m\u001b[0m\u001b[0m\n\u001b[1;32m     86\u001b[0m     \u001b[0;31m# number of novel ICs det. w/ hg38 / pers in 28 samples\u001b[0m\u001b[0;34m\u001b[0m\u001b[0;34m\u001b[0m\u001b[0;34m\u001b[0m\u001b[0m\n\u001b[0;32m---> 87\u001b[0;31m     ics_28_hg38 = temp.loc[(temp.cell_line_id.isin(comb))&\\\n\u001b[0m\u001b[1;32m     88\u001b[0m                   (temp.hg38==True)].ic_id.unique().tolist()\n\u001b[1;32m     89\u001b[0m     ics_28_pers = temp.loc[(temp.cell_line_id.isin(comb))&\\\n",
      "\u001b[0;32m~/miniconda3/lib/python3.7/site-packages/pandas/core/generic.py\u001b[0m in \u001b[0;36m__getattr__\u001b[0;34m(self, name)\u001b[0m\n\u001b[1;32m   5485\u001b[0m         ):\n\u001b[1;32m   5486\u001b[0m             \u001b[0;32mreturn\u001b[0m \u001b[0mself\u001b[0m\u001b[0;34m[\u001b[0m\u001b[0mname\u001b[0m\u001b[0;34m]\u001b[0m\u001b[0;34m\u001b[0m\u001b[0;34m\u001b[0m\u001b[0m\n\u001b[0;32m-> 5487\u001b[0;31m         \u001b[0;32mreturn\u001b[0m \u001b[0mobject\u001b[0m\u001b[0;34m.\u001b[0m\u001b[0m__getattribute__\u001b[0m\u001b[0;34m(\u001b[0m\u001b[0mself\u001b[0m\u001b[0;34m,\u001b[0m \u001b[0mname\u001b[0m\u001b[0;34m)\u001b[0m\u001b[0;34m\u001b[0m\u001b[0;34m\u001b[0m\u001b[0m\n\u001b[0m\u001b[1;32m   5488\u001b[0m \u001b[0;34m\u001b[0m\u001b[0m\n\u001b[1;32m   5489\u001b[0m     \u001b[0;32mdef\u001b[0m \u001b[0m__setattr__\u001b[0m\u001b[0;34m(\u001b[0m\u001b[0mself\u001b[0m\u001b[0;34m,\u001b[0m \u001b[0mname\u001b[0m\u001b[0;34m:\u001b[0m \u001b[0mstr\u001b[0m\u001b[0;34m,\u001b[0m \u001b[0mvalue\u001b[0m\u001b[0;34m)\u001b[0m \u001b[0;34m->\u001b[0m \u001b[0;32mNone\u001b[0m\u001b[0;34m:\u001b[0m\u001b[0;34m\u001b[0m\u001b[0;34m\u001b[0m\u001b[0m\n",
      "\u001b[0;31mAttributeError\u001b[0m: 'DataFrame' object has no attribute 'cell_line_id'"
     ]
    }
   ],
   "source": [
    "# columns = ['sample_28_index',\n",
    "#            'n_ic_28_hg38', \n",
    "#            'n_ic_28_pers',\n",
    "#            'n_ic_2_sample_rna_hg38',\n",
    "#            'n_ic_2_sample_rna_pers',\n",
    "#            'n_ic_1_sample_wgs_hg38',\n",
    "#            'n_ic_1_sample_wgs_pers',\n",
    "#            'sample_2_index']\n",
    "\n",
    "# df = pd.DataFrame()\n",
    "\n",
    "# # loop through each combination\n",
    "# combinations = list(itertools.combinations(order, 28))\n",
    "# for i, comb in enumerate(combinations):\n",
    "#     vals = [i]\n",
    "\n",
    "#     # number of novel ICs det. w/ hg38 in 28 samples\n",
    "#     ics_28_hg38 = temp.loc[(temp.cell_line_id.isin(comb))&\\\n",
    "#                   (temp.hg38==True)].ic_id.unique().tolist()\n",
    "#     n = len(ics_28_hg38)\n",
    "#     vals.append(n)\n",
    "\n",
    "#     # number of novel ICs det. w/ pers in 28 samples\n",
    "#     ics_28_pers = temp.loc[(temp.cell_line_id.isin(comb))&\\\n",
    "#                   (temp.pers_hap==True)].ic_id.unique().tolist()\n",
    "#     n = len(ics_28_pers)\n",
    "#     vals.append(n)\n",
    "    \n",
    "#     # addition of things\n",
    "#     samples_2 = list(set(order)-set(comb))  \n",
    "\n",
    "#     # when we add 2 more samples by rna-seq only \n",
    "#     # (ie only using hg38)\n",
    "#     ics_2_rna = temp.loc[(temp.cell_line_id.isin(samples_2))&\\\n",
    "#                   (temp.hg38==True)].ic_id.unique().tolist()\n",
    "#     n = len(list(set(ics_2_rna)-set(ics_28_hg38))) # increase in number, set difference\n",
    "#     vals.append(n)\n",
    "#     n = len(list(set(ics_2_rna)-set(ics_28_pers))) # increase in number, set difference\n",
    "#     vals.append(n)\n",
    "\n",
    "#     # # assert this when hitting the exact combination\n",
    "#     # assert vals[1] + vals[3] == len(temp.loc[temp.hg38==True].ic_id.unique())\n",
    "\n",
    "#     # then loop through last 2 missing samples\n",
    "#     for j, c_id in enumerate(samples_2):\n",
    "#         vals2 =[]\n",
    "\n",
    "#         # when we add this sample by wgs+rna\n",
    "#         # (ie using personal genomes)\n",
    "#         ics_1_wgs = temp.loc[(temp.cell_line_id==c_id)&\\\n",
    "#                    (temp.hg38==True)].ic_id.unique().tolist()\n",
    "#         n = len(list(set(ics_1_wgs)-set(ics_28_hg38))) # increase in number, set difference\n",
    "#         vals2.append(n)\n",
    "#         n = len(list(set(ics_1_wgs)-set(ics_28_pers))) # increase in number, set difference\n",
    "#         vals2.append(n)\n",
    "#         vals2.append(j)\n",
    "        \n",
    "#         temp3 = pd.DataFrame(data=[vals+vals2], columns=columns)\n",
    "#         df = pd.concat([df, temp3], axis=0)\n",
    "\n",
    "columns = ['sample_28_index',\n",
    "           'start_n_reads',\n",
    "           'n_ic_start', \n",
    "           'start_genome',\n",
    "           'n_ic_new',\n",
    "           'new_strat',\n",
    "           'wgs_sample_2_index',\n",
    "           'new_n_reads']\n",
    "\n",
    "df = pd.DataFrame()\n",
    "           \n",
    "def add_vals(df, vals, columns):\n",
    "    df2 = pd.DataFrame(data=[vals], columns=columns)\n",
    "    df = pd.concat([df, df2], axis=0)\n",
    "    return df\n",
    "\n",
    "# loop through each combination\n",
    "combinations = list(itertools.combinations(order, 28))\n",
    "for i, comb in enumerate(combinations[:5]):\n",
    "    \n",
    "    # # reads 28 samples\n",
    "    n_reads = meta_df.loc[meta_df['cell_line_id_1000g'].isin(comb)]\n",
    "    assert len(n_reads.index) == 28\n",
    "    start_n_reads = n_reads['map_reads_assemblymap'].sum()\n",
    "    \n",
    "    # number of novel ICs det. w/ hg38 / pers in 28 samples\n",
    "    ics_28_hg38 = temp.loc[(temp.cell_line_id.isin(comb))&\\\n",
    "                  (temp.hg38==True)].ic_id.unique().tolist()\n",
    "    ics_28_pers = temp.loc[(temp.cell_line_id.isin(comb))&\\\n",
    "                  (temp.pers_hap==True)].ic_id.unique().tolist()\n",
    "    \n",
    "    # missing samples\n",
    "    samples_2 = list(set(order)-set(comb))  \n",
    "    \n",
    "    # # reads 2 samples\n",
    "    n_reads = meta_df.loc[meta_df['cell_line_id_1000g'].isin(samples_2)]\n",
    "    assert len(n_reads.index) == 2\n",
    "    new_n_reads = n_reads['map_reads_assemblymap'].sum()\n",
    "    \n",
    "    # when we add 2 more samples by rna-seq only \n",
    "    # (ie only using hg38)\n",
    "    ics_2_rna = temp.loc[(temp.cell_line_id.isin(samples_2))&\\\n",
    "                  (temp.hg38==True)].ic_id.unique().tolist()\n",
    "           \n",
    "    # add entries for hg38 and pers\n",
    "    vals = [i, start_n_reads,\n",
    "            len(ics_28_hg38), 'hg38', \n",
    "       len(list(set(ics_2_rna)-set(ics_28_hg38))), # increase in number, set difference\n",
    "       'rna_2_samples', np.nan, new_n_reads]\n",
    "    df = add_vals(df, vals, columns)\n",
    "    \n",
    "    vals = [i, start_n_reads,\n",
    "            len(ics_28_pers), 'pers', \n",
    "       len(list(set(ics_2_rna)-set(ics_28_pers))), # increase in number, set difference\n",
    "       'rna_2_samples', np.nan, new_n_reads]\n",
    "    df = add_vals(df, vals, columns)\n",
    "\n",
    "           \n",
    "    # then loop through last 2 missing samples\n",
    "    for j, c_id in enumerate(samples_2):\n",
    "        \n",
    "        # # reads 1 sample1\n",
    "        n_reads = meta_df.loc[meta_df['cell_line_id_1000g'].isin([c_id])]\n",
    "        assert len(n_reads.index) == 1\n",
    "        new_n_reads = n_reads['map_reads_assemblymap'].sum()\n",
    "\n",
    "        # when we add this sample by wgs+rna\n",
    "        # (ie using personal genomes)\n",
    "        ics_1_wgs = temp.loc[(temp.cell_line_id==c_id)&\\\n",
    "                    (temp.pers_hap==True)].ic_id.unique().tolist()\n",
    "        \n",
    "        # add entries for hg38 and pers\n",
    "        vals = [i, start_n_reads,\n",
    "                len(ics_28_hg38), 'hg38', \n",
    "               len(list(set(ics_1_wgs)-set(ics_28_hg38))), # increase in number, set difference\n",
    "               'wgs_1_sample', j, new_n_reads]\n",
    "        df = add_vals(df, vals, columns)\n",
    "        \n",
    "        vals = [i, start_n_reads,\n",
    "                len(ics_28_pers), 'pers', \n",
    "               len(list(set(ics_1_wgs)-set(ics_28_pers))), # increase in number, set difference\n",
    "               'wgs_1_sample', j, new_n_reads]\n",
    "        df = add_vals(df, vals, columns)"
   ]
  },
  {
   "cell_type": "code",
   "execution_count": 264,
   "id": "c4087eb1-eaba-4ecc-ab68-20fad3e5e4b4",
   "metadata": {},
   "outputs": [
    {
     "data": {
      "text/plain": [
       "30"
      ]
     },
     "execution_count": 264,
     "metadata": {},
     "output_type": "execute_result"
    }
   ],
   "source": [
    "len(n_reads)"
   ]
  },
  {
   "cell_type": "code",
   "execution_count": 247,
   "id": "97d08e0a-02a3-4196-9fd3-1354470c1028",
   "metadata": {},
   "outputs": [
    {
     "data": {
      "text/html": [
       "<div>\n",
       "<style scoped>\n",
       "    .dataframe tbody tr th:only-of-type {\n",
       "        vertical-align: middle;\n",
       "    }\n",
       "\n",
       "    .dataframe tbody tr th {\n",
       "        vertical-align: top;\n",
       "    }\n",
       "\n",
       "    .dataframe thead th {\n",
       "        text-align: right;\n",
       "    }\n",
       "</style>\n",
       "<table border=\"1\" class=\"dataframe\">\n",
       "  <thead>\n",
       "    <tr style=\"text-align: right;\">\n",
       "      <th></th>\n",
       "      <th>sample_28_index</th>\n",
       "      <th>n_ic_start</th>\n",
       "      <th>start_genome</th>\n",
       "      <th>n_ic_new</th>\n",
       "      <th>new_strat</th>\n",
       "      <th>wgs_sample_2_index</th>\n",
       "    </tr>\n",
       "  </thead>\n",
       "  <tbody>\n",
       "    <tr>\n",
       "      <th>0</th>\n",
       "      <td>0</td>\n",
       "      <td>98126</td>\n",
       "      <td>hg38</td>\n",
       "      <td>1425</td>\n",
       "      <td>rna_2_samples</td>\n",
       "      <td>NaN</td>\n",
       "    </tr>\n",
       "    <tr>\n",
       "      <th>0</th>\n",
       "      <td>1</td>\n",
       "      <td>98285</td>\n",
       "      <td>hg38</td>\n",
       "      <td>1266</td>\n",
       "      <td>rna_2_samples</td>\n",
       "      <td>NaN</td>\n",
       "    </tr>\n",
       "    <tr>\n",
       "      <th>0</th>\n",
       "      <td>2</td>\n",
       "      <td>98183</td>\n",
       "      <td>hg38</td>\n",
       "      <td>1368</td>\n",
       "      <td>rna_2_samples</td>\n",
       "      <td>NaN</td>\n",
       "    </tr>\n",
       "    <tr>\n",
       "      <th>0</th>\n",
       "      <td>3</td>\n",
       "      <td>98214</td>\n",
       "      <td>hg38</td>\n",
       "      <td>1337</td>\n",
       "      <td>rna_2_samples</td>\n",
       "      <td>NaN</td>\n",
       "    </tr>\n",
       "    <tr>\n",
       "      <th>0</th>\n",
       "      <td>4</td>\n",
       "      <td>98110</td>\n",
       "      <td>hg38</td>\n",
       "      <td>1441</td>\n",
       "      <td>rna_2_samples</td>\n",
       "      <td>NaN</td>\n",
       "    </tr>\n",
       "    <tr>\n",
       "      <th>0</th>\n",
       "      <td>5</td>\n",
       "      <td>98266</td>\n",
       "      <td>hg38</td>\n",
       "      <td>1285</td>\n",
       "      <td>rna_2_samples</td>\n",
       "      <td>NaN</td>\n",
       "    </tr>\n",
       "    <tr>\n",
       "      <th>0</th>\n",
       "      <td>6</td>\n",
       "      <td>98250</td>\n",
       "      <td>hg38</td>\n",
       "      <td>1301</td>\n",
       "      <td>rna_2_samples</td>\n",
       "      <td>NaN</td>\n",
       "    </tr>\n",
       "    <tr>\n",
       "      <th>0</th>\n",
       "      <td>7</td>\n",
       "      <td>98151</td>\n",
       "      <td>hg38</td>\n",
       "      <td>1400</td>\n",
       "      <td>rna_2_samples</td>\n",
       "      <td>NaN</td>\n",
       "    </tr>\n",
       "    <tr>\n",
       "      <th>0</th>\n",
       "      <td>8</td>\n",
       "      <td>98302</td>\n",
       "      <td>hg38</td>\n",
       "      <td>1249</td>\n",
       "      <td>rna_2_samples</td>\n",
       "      <td>NaN</td>\n",
       "    </tr>\n",
       "    <tr>\n",
       "      <th>0</th>\n",
       "      <td>9</td>\n",
       "      <td>98233</td>\n",
       "      <td>hg38</td>\n",
       "      <td>1318</td>\n",
       "      <td>rna_2_samples</td>\n",
       "      <td>NaN</td>\n",
       "    </tr>\n",
       "    <tr>\n",
       "      <th>0</th>\n",
       "      <td>10</td>\n",
       "      <td>97752</td>\n",
       "      <td>hg38</td>\n",
       "      <td>1799</td>\n",
       "      <td>rna_2_samples</td>\n",
       "      <td>NaN</td>\n",
       "    </tr>\n",
       "    <tr>\n",
       "      <th>0</th>\n",
       "      <td>11</td>\n",
       "      <td>97657</td>\n",
       "      <td>hg38</td>\n",
       "      <td>1894</td>\n",
       "      <td>rna_2_samples</td>\n",
       "      <td>NaN</td>\n",
       "    </tr>\n",
       "    <tr>\n",
       "      <th>0</th>\n",
       "      <td>12</td>\n",
       "      <td>97813</td>\n",
       "      <td>hg38</td>\n",
       "      <td>1738</td>\n",
       "      <td>rna_2_samples</td>\n",
       "      <td>NaN</td>\n",
       "    </tr>\n",
       "    <tr>\n",
       "      <th>0</th>\n",
       "      <td>13</td>\n",
       "      <td>97740</td>\n",
       "      <td>hg38</td>\n",
       "      <td>1811</td>\n",
       "      <td>rna_2_samples</td>\n",
       "      <td>NaN</td>\n",
       "    </tr>\n",
       "    <tr>\n",
       "      <th>0</th>\n",
       "      <td>14</td>\n",
       "      <td>97778</td>\n",
       "      <td>hg38</td>\n",
       "      <td>1773</td>\n",
       "      <td>rna_2_samples</td>\n",
       "      <td>NaN</td>\n",
       "    </tr>\n",
       "    <tr>\n",
       "      <th>0</th>\n",
       "      <td>15</td>\n",
       "      <td>98213</td>\n",
       "      <td>hg38</td>\n",
       "      <td>1338</td>\n",
       "      <td>rna_2_samples</td>\n",
       "      <td>NaN</td>\n",
       "    </tr>\n",
       "    <tr>\n",
       "      <th>0</th>\n",
       "      <td>16</td>\n",
       "      <td>98115</td>\n",
       "      <td>hg38</td>\n",
       "      <td>1436</td>\n",
       "      <td>rna_2_samples</td>\n",
       "      <td>NaN</td>\n",
       "    </tr>\n",
       "    <tr>\n",
       "      <th>0</th>\n",
       "      <td>17</td>\n",
       "      <td>98267</td>\n",
       "      <td>hg38</td>\n",
       "      <td>1284</td>\n",
       "      <td>rna_2_samples</td>\n",
       "      <td>NaN</td>\n",
       "    </tr>\n",
       "    <tr>\n",
       "      <th>0</th>\n",
       "      <td>18</td>\n",
       "      <td>98203</td>\n",
       "      <td>hg38</td>\n",
       "      <td>1348</td>\n",
       "      <td>rna_2_samples</td>\n",
       "      <td>NaN</td>\n",
       "    </tr>\n",
       "    <tr>\n",
       "      <th>0</th>\n",
       "      <td>19</td>\n",
       "      <td>98241</td>\n",
       "      <td>hg38</td>\n",
       "      <td>1310</td>\n",
       "      <td>rna_2_samples</td>\n",
       "      <td>NaN</td>\n",
       "    </tr>\n",
       "  </tbody>\n",
       "</table>\n",
       "</div>"
      ],
      "text/plain": [
       "   sample_28_index  n_ic_start start_genome  n_ic_new      new_strat  \\\n",
       "0                0       98126         hg38      1425  rna_2_samples   \n",
       "0                1       98285         hg38      1266  rna_2_samples   \n",
       "0                2       98183         hg38      1368  rna_2_samples   \n",
       "0                3       98214         hg38      1337  rna_2_samples   \n",
       "0                4       98110         hg38      1441  rna_2_samples   \n",
       "0                5       98266         hg38      1285  rna_2_samples   \n",
       "0                6       98250         hg38      1301  rna_2_samples   \n",
       "0                7       98151         hg38      1400  rna_2_samples   \n",
       "0                8       98302         hg38      1249  rna_2_samples   \n",
       "0                9       98233         hg38      1318  rna_2_samples   \n",
       "0               10       97752         hg38      1799  rna_2_samples   \n",
       "0               11       97657         hg38      1894  rna_2_samples   \n",
       "0               12       97813         hg38      1738  rna_2_samples   \n",
       "0               13       97740         hg38      1811  rna_2_samples   \n",
       "0               14       97778         hg38      1773  rna_2_samples   \n",
       "0               15       98213         hg38      1338  rna_2_samples   \n",
       "0               16       98115         hg38      1436  rna_2_samples   \n",
       "0               17       98267         hg38      1284  rna_2_samples   \n",
       "0               18       98203         hg38      1348  rna_2_samples   \n",
       "0               19       98241         hg38      1310  rna_2_samples   \n",
       "\n",
       "   wgs_sample_2_index  \n",
       "0                 NaN  \n",
       "0                 NaN  \n",
       "0                 NaN  \n",
       "0                 NaN  \n",
       "0                 NaN  \n",
       "0                 NaN  \n",
       "0                 NaN  \n",
       "0                 NaN  \n",
       "0                 NaN  \n",
       "0                 NaN  \n",
       "0                 NaN  \n",
       "0                 NaN  \n",
       "0                 NaN  \n",
       "0                 NaN  \n",
       "0                 NaN  \n",
       "0                 NaN  \n",
       "0                 NaN  \n",
       "0                 NaN  \n",
       "0                 NaN  \n",
       "0                 NaN  "
      ]
     },
     "execution_count": 247,
     "metadata": {},
     "output_type": "execute_result"
    }
   ],
   "source": [
    "df.loc[(df.start_genome=='hg38')&(df.new_strat=='rna_2_samples')].tail()\n",
    "df.loc[(df.start_genome=='hg38')&(df.new_strat=='rna_2_samples')].head(20)"
   ]
  },
  {
   "cell_type": "code",
   "execution_count": 241,
   "id": "0ad83fe9-2aa2-4b67-a642-864fcd0dd643",
   "metadata": {},
   "outputs": [
    {
     "data": {
      "text/plain": [
       "3415.0"
      ]
     },
     "execution_count": 241,
     "metadata": {},
     "output_type": "execute_result"
    }
   ],
   "source": [
    "df.loc[(df.start_genome=='hg38')&(df.new_strat=='rna_2_samples')].n_ic_new.median()"
   ]
  },
  {
   "cell_type": "code",
   "execution_count": 242,
   "id": "7417c29d-5e10-4288-a625-cd4092615594",
   "metadata": {},
   "outputs": [
    {
     "data": {
      "text/plain": [
       "3484.5172413793102"
      ]
     },
     "execution_count": 242,
     "metadata": {},
     "output_type": "execute_result"
    }
   ],
   "source": [
    "df.loc[(df.start_genome=='hg38')&(df.new_strat=='rna_2_samples')].n_ic_new.mean()"
   ]
  },
  {
   "cell_type": "code",
   "execution_count": 250,
   "id": "940acadc-2399-45c6-b146-dbef7a3d78ea",
   "metadata": {},
   "outputs": [
    {
     "data": {
      "image/png": "[encoded data removed]",
      "text/plain": [
       "<Figure size 903.86x360 with 2 Axes>"
      ]
     },
     "metadata": {
      "needs_background": "light"
     },
     "output_type": "display_data"
    }
   ],
   "source": [
    "init_plot_settings(aspect='rectangle')\n",
    "ax = sns.displot(df,\n",
    "            col='start_genome',\n",
    "            x='n_ic_new',\n",
    "            hue='new_strat',\n",
    "            kind='kde', common_norm=False)"
   ]
  },
  {
   "cell_type": "code",
   "execution_count": 259,
   "id": "0c1383e5-53fa-4699-943f-c590ad5efc87",
   "metadata": {},
   "outputs": [
    {
     "data": {
      "text/html": [
       "<div>\n",
       "<style scoped>\n",
       "    .dataframe tbody tr th:only-of-type {\n",
       "        vertical-align: middle;\n",
       "    }\n",
       "\n",
       "    .dataframe tbody tr th {\n",
       "        vertical-align: top;\n",
       "    }\n",
       "\n",
       "    .dataframe thead th {\n",
       "        text-align: right;\n",
       "    }\n",
       "</style>\n",
       "<table border=\"1\" class=\"dataframe\">\n",
       "  <thead>\n",
       "    <tr style=\"text-align: right;\">\n",
       "      <th></th>\n",
       "      <th>sample_28_index</th>\n",
       "      <th>n_ic_start</th>\n",
       "      <th>start_genome</th>\n",
       "      <th>n_ic_new</th>\n",
       "      <th>new_strat</th>\n",
       "      <th>wgs_sample_2_index</th>\n",
       "    </tr>\n",
       "  </thead>\n",
       "  <tbody>\n",
       "    <tr>\n",
       "      <th>0</th>\n",
       "      <td>0</td>\n",
       "      <td>98126</td>\n",
       "      <td>hg38</td>\n",
       "      <td>1425</td>\n",
       "      <td>rna_2_samples</td>\n",
       "      <td>NaN</td>\n",
       "    </tr>\n",
       "    <tr>\n",
       "      <th>0</th>\n",
       "      <td>0</td>\n",
       "      <td>98126</td>\n",
       "      <td>hg38</td>\n",
       "      <td>840</td>\n",
       "      <td>wgs_1_sample</td>\n",
       "      <td>0.0</td>\n",
       "    </tr>\n",
       "    <tr>\n",
       "      <th>0</th>\n",
       "      <td>0</td>\n",
       "      <td>98126</td>\n",
       "      <td>hg38</td>\n",
       "      <td>899</td>\n",
       "      <td>wgs_1_sample</td>\n",
       "      <td>1.0</td>\n",
       "    </tr>\n",
       "    <tr>\n",
       "      <th>0</th>\n",
       "      <td>1</td>\n",
       "      <td>98285</td>\n",
       "      <td>hg38</td>\n",
       "      <td>1266</td>\n",
       "      <td>rna_2_samples</td>\n",
       "      <td>NaN</td>\n",
       "    </tr>\n",
       "    <tr>\n",
       "      <th>0</th>\n",
       "      <td>1</td>\n",
       "      <td>98285</td>\n",
       "      <td>hg38</td>\n",
       "      <td>766</td>\n",
       "      <td>wgs_1_sample</td>\n",
       "      <td>0.0</td>\n",
       "    </tr>\n",
       "  </tbody>\n",
       "</table>\n",
       "</div>"
      ],
      "text/plain": [
       "   sample_28_index  n_ic_start start_genome  n_ic_new      new_strat  \\\n",
       "0                0       98126         hg38      1425  rna_2_samples   \n",
       "0                0       98126         hg38       840   wgs_1_sample   \n",
       "0                0       98126         hg38       899   wgs_1_sample   \n",
       "0                1       98285         hg38      1266  rna_2_samples   \n",
       "0                1       98285         hg38       766   wgs_1_sample   \n",
       "\n",
       "   wgs_sample_2_index  \n",
       "0                 NaN  \n",
       "0                 0.0  \n",
       "0                 1.0  \n",
       "0                 NaN  \n",
       "0                 0.0  "
      ]
     },
     "execution_count": 259,
     "metadata": {},
     "output_type": "execute_result"
    },
    {
     "data": {
      "image/png": "[encoded data removed]",
      "text/plain": [
       "<Figure size 504x360 with 1 Axes>"
      ]
     },
     "metadata": {
      "needs_background": "light"
     },
     "output_type": "display_data"
    }
   ],
   "source": [
    "init_plot_settings(aspect='rectangle')\n",
    "temp = df.loc[df.start_genome=='hg38']\n",
    "ax = sns.lineplot(temp,\n",
    "            x='sample_28_index',\n",
    "            y='n_ic_new',\n",
    "            hue='new_strat')\n",
    "temp.head()"
   ]
  },
  {
   "cell_type": "code",
   "execution_count": 252,
   "id": "6a8fe5bd-2ee7-451a-857d-5673502d0f1a",
   "metadata": {},
   "outputs": [
    {
     "data": {
      "image/png": "[encoded data removed]",
      "text/plain": [
       "<Figure size 504x360 with 1 Axes>"
      ]
     },
     "metadata": {
      "needs_background": "light"
     },
     "output_type": "display_data"
    }
   ],
   "source": [
    "init_plot_settings(aspect='rectangle')\n",
    "ax = sns.boxplot(df,\n",
    "            x='start_genome',\n",
    "            y='n_ic_new',\n",
    "            hue='new_strat',\n",
    "            saturation=1)\n",
    "_ = ax.set(xlabel='Starting genome (28 samples)', ylabel='# added unique ICs')\n",
    "ax.spines['right'].set_visible(False)\n",
    "ax.spines['top'].set_visible(False)"
   ]
  },
  {
   "cell_type": "code",
   "execution_count": 231,
   "id": "c0030de9-05f5-4fff-a512-a1e2016b872d",
   "metadata": {},
   "outputs": [],
   "source": [
    "# df.to_csv('250307_28_sample_experiment.tsv', sep='\\t')"
   ]
  },
  {
   "cell_type": "code",
   "execution_count": 233,
   "id": "f68bc577-a5a0-47c8-99c9-acfdd5eec724",
   "metadata": {},
   "outputs": [
    {
     "data": {
      "text/html": [
       "<div>\n",
       "<style scoped>\n",
       "    .dataframe tbody tr th:only-of-type {\n",
       "        vertical-align: middle;\n",
       "    }\n",
       "\n",
       "    .dataframe tbody tr th {\n",
       "        vertical-align: top;\n",
       "    }\n",
       "\n",
       "    .dataframe thead th {\n",
       "        text-align: right;\n",
       "    }\n",
       "</style>\n",
       "<table border=\"1\" class=\"dataframe\">\n",
       "  <thead>\n",
       "    <tr style=\"text-align: right;\">\n",
       "      <th></th>\n",
       "      <th>sample_28_index</th>\n",
       "      <th>n_ic_start</th>\n",
       "      <th>start_genome</th>\n",
       "      <th>n_ic_new</th>\n",
       "      <th>new_strat</th>\n",
       "      <th>wgs_sample_2_index</th>\n",
       "    </tr>\n",
       "  </thead>\n",
       "  <tbody>\n",
       "    <tr>\n",
       "      <th>0</th>\n",
       "      <td>0</td>\n",
       "      <td>98126</td>\n",
       "      <td>hg38</td>\n",
       "      <td>1425</td>\n",
       "      <td>rna_2_samples</td>\n",
       "      <td>NaN</td>\n",
       "    </tr>\n",
       "    <tr>\n",
       "      <th>0</th>\n",
       "      <td>0</td>\n",
       "      <td>101900</td>\n",
       "      <td>pers</td>\n",
       "      <td>1401</td>\n",
       "      <td>rna_2_samples</td>\n",
       "      <td>NaN</td>\n",
       "    </tr>\n",
       "    <tr>\n",
       "      <th>0</th>\n",
       "      <td>0</td>\n",
       "      <td>98126</td>\n",
       "      <td>hg38</td>\n",
       "      <td>840</td>\n",
       "      <td>wgs_1_sample</td>\n",
       "      <td>0.0</td>\n",
       "    </tr>\n",
       "    <tr>\n",
       "      <th>0</th>\n",
       "      <td>0</td>\n",
       "      <td>101900</td>\n",
       "      <td>pers</td>\n",
       "      <td>701</td>\n",
       "      <td>wgs_1_sample</td>\n",
       "      <td>0.0</td>\n",
       "    </tr>\n",
       "    <tr>\n",
       "      <th>0</th>\n",
       "      <td>0</td>\n",
       "      <td>98126</td>\n",
       "      <td>hg38</td>\n",
       "      <td>899</td>\n",
       "      <td>wgs_1_sample</td>\n",
       "      <td>1.0</td>\n",
       "    </tr>\n",
       "  </tbody>\n",
       "</table>\n",
       "</div>"
      ],
      "text/plain": [
       "   sample_28_index  n_ic_start start_genome  n_ic_new      new_strat  \\\n",
       "0                0       98126         hg38      1425  rna_2_samples   \n",
       "0                0      101900         pers      1401  rna_2_samples   \n",
       "0                0       98126         hg38       840   wgs_1_sample   \n",
       "0                0      101900         pers       701   wgs_1_sample   \n",
       "0                0       98126         hg38       899   wgs_1_sample   \n",
       "\n",
       "   wgs_sample_2_index  \n",
       "0                 NaN  \n",
       "0                 NaN  \n",
       "0                 0.0  \n",
       "0                 0.0  \n",
       "0                 1.0  "
      ]
     },
     "execution_count": 233,
     "metadata": {},
     "output_type": "execute_result"
    }
   ],
   "source": []
  },
  {
   "cell_type": "code",
   "execution_count": null,
   "id": "933b80bc-d3a8-48bc-8543-837875e0c33a",
   "metadata": {},
   "outputs": [],
   "source": []
  },
  {
   "cell_type": "code",
   "execution_count": null,
   "id": "392b09ad-8d80-4493-9313-be4987485dc9",
   "metadata": {},
   "outputs": [],
   "source": []
  },
  {
   "cell_type": "code",
   "execution_count": null,
   "id": "843b214d-47f1-49f4-9c27-2b652a23de96",
   "metadata": {},
   "outputs": [],
   "source": []
  },
  {
   "cell_type": "code",
   "execution_count": null,
   "id": "ede66b24-9f9b-4295-a8b1-fec0e426c33a",
   "metadata": {},
   "outputs": [],
   "source": []
  },
  {
   "cell_type": "code",
   "execution_count": null,
   "id": "7d708f52-c86e-4fbb-8a6a-2a27e2501b11",
   "metadata": {},
   "outputs": [],
   "source": []
  },
  {
   "cell_type": "code",
   "execution_count": null,
   "id": "a33bf5fe-cf79-4b68-89a2-e43b4722e5e9",
   "metadata": {},
   "outputs": [],
   "source": []
  },
  {
   "cell_type": "code",
   "execution_count": null,
   "id": "d9762423-61b0-423e-a18b-66604dedc2f4",
   "metadata": {},
   "outputs": [],
   "source": []
  },
  {
   "cell_type": "code",
   "execution_count": null,
   "id": "3fcae6c3-5221-404c-b43c-4076ea128e68",
   "metadata": {},
   "outputs": [],
   "source": []
  },
  {
   "cell_type": "code",
   "execution_count": null,
   "id": "27004a92-8c57-4ecf-bd21-7e62166a4cff",
   "metadata": {},
   "outputs": [],
   "source": []
  },
  {
   "cell_type": "code",
   "execution_count": null,
   "id": "09c88e83-34b6-4c94-8d95-6677877d1020",
   "metadata": {},
   "outputs": [],
   "source": []
  },
  {
   "cell_type": "code",
   "execution_count": null,
   "id": "d4e8178d-5da0-468b-9639-a1b4e092b628",
   "metadata": {},
   "outputs": [],
   "source": []
  },
  {
   "cell_type": "code",
   "execution_count": null,
   "id": "f5a65d90-9c84-4504-a86c-05100becfdbd",
   "metadata": {},
   "outputs": [],
   "source": []
  },
  {
   "cell_type": "code",
   "execution_count": null,
   "id": "687157cf-b9ef-400e-8821-2f8f0a85024d",
   "metadata": {},
   "outputs": [],
   "source": []
  },
  {
   "cell_type": "code",
   "execution_count": 174,
   "id": "5d9aebfb-f411-4b76-9199-0dc47700a1eb",
   "metadata": {},
   "outputs": [],
   "source": [
    "# df.to_csv('250306_28_sample_experiment.tsv', sep='\\t')"
   ]
  },
  {
   "cell_type": "code",
   "execution_count": 232,
   "id": "d0789756-94ab-4777-96fb-dfc708d03dd6",
   "metadata": {},
   "outputs": [],
   "source": [
    "# temp = pd.read_csv('250306_28_sample_experiment.tsv', sep='\\t')\n",
    "# temp.head()"
   ]
  },
  {
   "cell_type": "code",
   "execution_count": 176,
   "id": "a56687a9-b985-4503-993a-2cc364be456c",
   "metadata": {},
   "outputs": [
    {
     "data": {
      "text/plain": [
       "<seaborn.axisgrid.FacetGrid at 0x7f9ce9026d10>"
      ]
     },
     "execution_count": 176,
     "metadata": {},
     "output_type": "execute_result"
    },
    {
     "data": {
      "image/png": "[encoded data removed]",
      "text/plain": [
       "<Figure size 360x360 with 1 Axes>"
      ]
     },
     "metadata": {
      "needs_background": "light"
     },
     "output_type": "display_data"
    }
   ],
   "source": [
    "temp = df.drop(['sample_2_index', 'n_ic_1_sample_wgs_hg38', 'n_ic_1_sample_wgs_pers'], axis=1).drop_duplicates()\n",
    "sns.displot(temp, kind='hist', x='n_ic_2_sample_rna_hg38')"
   ]
  },
  {
   "cell_type": "code",
   "execution_count": 191,
   "id": "10b2d3ee-442a-497c-a4d7-f39bf3c89918",
   "metadata": {},
   "outputs": [
    {
     "data": {
      "text/plain": [
       "<matplotlib.lines.Line2D at 0x7f9c781818d0>"
      ]
     },
     "execution_count": 191,
     "metadata": {},
     "output_type": "execute_result"
    },
    {
     "data": {
      "image/png": "[encoded data removed]",
      "text/plain": [
       "<Figure size 360x360 with 1 Axes>"
      ]
     },
     "metadata": {
      "needs_background": "light"
     },
     "output_type": "display_data"
    }
   ],
   "source": [
    "# plot relative gain in ICs for 1 WGS+RNA-seq vs. 2 RNA-seq\n",
    "# for comparing to pers only ICs\n",
    "temp = df[['sample_28_index', 'n_ic_28_pers', 'n_ic_2_sample_rna_pers', 'n_ic_1_sample_wgs_pers', 'sample_2_index']]\n",
    "temp['diff_rna_pers'] = temp['n_ic_2_sample_rna_pers']-temp['n_ic_1_sample_wgs_pers']\n",
    "temp.head()\n",
    "ax = sns.displot(temp, x='diff_rna_pers')\n",
    "plt.axvline(x=0)"
   ]
  },
  {
   "cell_type": "code",
   "execution_count": 192,
   "id": "b0465a97-8070-4759-afb0-0e53c52c7a61",
   "metadata": {},
   "outputs": [
    {
     "data": {
      "text/plain": [
       "<matplotlib.lines.Line2D at 0x7f9cde661110>"
      ]
     },
     "execution_count": 192,
     "metadata": {},
     "output_type": "execute_result"
    },
    {
     "data": {
      "image/png": "[encoded data removed]",
      "text/plain": [
       "<Figure size 360x360 with 1 Axes>"
      ]
     },
     "metadata": {
      "needs_background": "light"
     },
     "output_type": "display_data"
    }
   ],
   "source": [
    "# plot relative gain in ICs for 1 WGS+RNA-seq vs. 2 RNA-seq\n",
    "# for comparing to hg38 only ICs\n",
    "temp = df[['sample_28_index', 'n_ic_28_hg38', 'n_ic_2_sample_rna_hg38', 'n_ic_1_sample_wgs_hg38', 'sample_2_index']]\n",
    "temp['diff_rna_hg38'] = temp['n_ic_2_sample_rna_hg38']-temp['n_ic_1_sample_wgs_hg38']\n",
    "temp.head()\n",
    "ax = sns.displot(temp, x='diff_rna_hg38')\n",
    "plt.axvline(x=0)"
   ]
  },
  {
   "cell_type": "code",
   "execution_count": 193,
   "id": "3fcd2499-77f6-4132-bb3d-1615e3157850",
   "metadata": {},
   "outputs": [
    {
     "data": {
      "text/html": [
       "<div>\n",
       "<style scoped>\n",
       "    .dataframe tbody tr th:only-of-type {\n",
       "        vertical-align: middle;\n",
       "    }\n",
       "\n",
       "    .dataframe tbody tr th {\n",
       "        vertical-align: top;\n",
       "    }\n",
       "\n",
       "    .dataframe thead th {\n",
       "        text-align: right;\n",
       "    }\n",
       "</style>\n",
       "<table border=\"1\" class=\"dataframe\">\n",
       "  <thead>\n",
       "    <tr style=\"text-align: right;\">\n",
       "      <th></th>\n",
       "      <th>sample_28_index</th>\n",
       "      <th>n_ic_28_hg38</th>\n",
       "      <th>n_ic_28_pers</th>\n",
       "      <th>n_ic_2_sample_rna_hg38</th>\n",
       "      <th>n_ic_2_sample_rna_pers</th>\n",
       "      <th>n_ic_1_sample_wgs_hg38</th>\n",
       "      <th>n_ic_1_sample_wgs_pers</th>\n",
       "      <th>sample_2_index</th>\n",
       "    </tr>\n",
       "  </thead>\n",
       "  <tbody>\n",
       "    <tr>\n",
       "      <th>0</th>\n",
       "      <td>0</td>\n",
       "      <td>98126</td>\n",
       "      <td>101900</td>\n",
       "      <td>1425</td>\n",
       "      <td>1401</td>\n",
       "      <td>667</td>\n",
       "      <td>656</td>\n",
       "      <td>0</td>\n",
       "    </tr>\n",
       "    <tr>\n",
       "      <th>0</th>\n",
       "      <td>0</td>\n",
       "      <td>98126</td>\n",
       "      <td>101900</td>\n",
       "      <td>1425</td>\n",
       "      <td>1401</td>\n",
       "      <td>767</td>\n",
       "      <td>756</td>\n",
       "      <td>1</td>\n",
       "    </tr>\n",
       "    <tr>\n",
       "      <th>0</th>\n",
       "      <td>1</td>\n",
       "      <td>98285</td>\n",
       "      <td>102041</td>\n",
       "      <td>1266</td>\n",
       "      <td>1251</td>\n",
       "      <td>608</td>\n",
       "      <td>602</td>\n",
       "      <td>0</td>\n",
       "    </tr>\n",
       "    <tr>\n",
       "      <th>0</th>\n",
       "      <td>1</td>\n",
       "      <td>98285</td>\n",
       "      <td>102041</td>\n",
       "      <td>1266</td>\n",
       "      <td>1251</td>\n",
       "      <td>661</td>\n",
       "      <td>652</td>\n",
       "      <td>1</td>\n",
       "    </tr>\n",
       "    <tr>\n",
       "      <th>0</th>\n",
       "      <td>2</td>\n",
       "      <td>98183</td>\n",
       "      <td>101966</td>\n",
       "      <td>1368</td>\n",
       "      <td>1355</td>\n",
       "      <td>610</td>\n",
       "      <td>605</td>\n",
       "      <td>0</td>\n",
       "    </tr>\n",
       "  </tbody>\n",
       "</table>\n",
       "</div>"
      ],
      "text/plain": [
       "   sample_28_index  n_ic_28_hg38  n_ic_28_pers  n_ic_2_sample_rna_hg38  \\\n",
       "0                0         98126        101900                    1425   \n",
       "0                0         98126        101900                    1425   \n",
       "0                1         98285        102041                    1266   \n",
       "0                1         98285        102041                    1266   \n",
       "0                2         98183        101966                    1368   \n",
       "\n",
       "   n_ic_2_sample_rna_pers  n_ic_1_sample_wgs_hg38  n_ic_1_sample_wgs_pers  \\\n",
       "0                    1401                     667                     656   \n",
       "0                    1401                     767                     756   \n",
       "0                    1251                     608                     602   \n",
       "0                    1251                     661                     652   \n",
       "0                    1355                     610                     605   \n",
       "\n",
       "   sample_2_index  \n",
       "0               0  \n",
       "0               1  \n",
       "0               0  \n",
       "0               1  \n",
       "0               0  "
      ]
     },
     "execution_count": 193,
     "metadata": {},
     "output_type": "execute_result"
    }
   ],
   "source": [
    "# plot 4 dists (rna, hg38 vs. pers) together but need to melt\n",
    "df.head()"
   ]
  },
  {
   "cell_type": "code",
   "execution_count": null,
   "id": "68ecee3f-6dbd-4864-a812-556d346d657a",
   "metadata": {},
   "outputs": [],
   "source": []
  },
  {
   "cell_type": "code",
   "execution_count": null,
   "id": "23b4ee0e-efa8-45dd-9e75-8aa14537e861",
   "metadata": {},
   "outputs": [],
   "source": []
  },
  {
   "cell_type": "code",
   "execution_count": null,
   "id": "ec09d759-a0ae-4053-821f-274dfd6d85bb",
   "metadata": {},
   "outputs": [],
   "source": []
  },
  {
   "cell_type": "code",
   "execution_count": null,
   "id": "76e4cb96-af07-442f-83bd-7c28bc02a288",
   "metadata": {},
   "outputs": [],
   "source": []
  },
  {
   "cell_type": "code",
   "execution_count": null,
   "id": "da632edb-9b69-40ab-b0e3-e1676fdad6dc",
   "metadata": {},
   "outputs": [],
   "source": []
  },
  {
   "cell_type": "markdown",
   "id": "ce815ebe-0b3c-432a-bedf-ac9501e4e1b1",
   "metadata": {},
   "source": [
    "## ICs w/ novel splicing"
   ]
  },
  {
   "cell_type": "code",
   "execution_count": 50,
   "id": "8c8b2e88-e752-486b-92a1-f3de9a397040",
   "metadata": {},
   "outputs": [
    {
     "name": "stdout",
     "output_type": "stream",
     "text": [
      "12993951\n",
      "4280955\n"
     ]
    }
   ],
   "source": [
    "file = proc_cfg(config['lr']['td_personal']['cerb']['ic_summary'],od)\n",
    "df = pd.read_csv(file)\n",
    "df.drop('Unnamed: 0', axis=1, inplace=True)\n",
    "df['detected'] = True\n",
    "\n",
    "# 1.5 only novel ics and count per cell line\n",
    "print(len(df.index))\n",
    "temp = df.loc[(df.structural_category!='full-splice_match')&\\\n",
    "              (df.structural_category!='incomplete-splice_match')]\n",
    "print(len(temp.index))\n",
    "\n",
    "# get only the detection from mapping\n",
    "temp = temp[['ic_id', 'cell_line_id', 'map_genome', 'detected']]\n",
    "temp = temp.drop_duplicates()\n",
    "temp = temp.pivot(index=['ic_id', 'cell_line_id'], \n",
    "                columns=['map_genome'],\n",
    "                values=['detected'])\n",
    "\n",
    "# flatten\n",
    "temp.columns = temp.columns.get_level_values(1)\n",
    "temp.columns.name = None\n",
    "\n",
    "# reset index to make it a flat DataFrame\n",
    "temp = temp.reset_index()\n",
    "\n",
    "# fill missing values with False\n",
    "temp = temp.fillna(False)"
   ]
  },
  {
   "cell_type": "code",
   "execution_count": 51,
   "id": "8724d521-ce66-4873-9830-71665ff92624",
   "metadata": {},
   "outputs": [],
   "source": [
    "cell_line_ids = temp.cell_line_id.unique().tolist()"
   ]
  },
  {
   "cell_type": "code",
   "execution_count": 52,
   "id": "d57fa3c7-016e-4189-9831-d474906fa1bf",
   "metadata": {},
   "outputs": [
    {
     "data": {
      "text/plain": [
       "103547"
      ]
     },
     "execution_count": 52,
     "metadata": {},
     "output_type": "execute_result"
    }
   ],
   "source": [
    "len(temp.ic_id.unique())"
   ]
  },
  {
   "cell_type": "code",
   "execution_count": 37,
   "id": "0575d5d9-2afc-4906-91a8-6db2ea6a99ec",
   "metadata": {},
   "outputs": [],
   "source": [
    "import itertools\n",
    "\n",
    "big_df = pd.DataFrame()\n",
    "# each group of 28\n",
    "combinations = list(itertools.combinations(cell_line_ids, 28))\n",
    "for i, comb in enumerate(combinations[:5]):\n",
    "    \n",
    "    # how many ICs do we detect w/ hg38 for these?\n",
    "    ic_hg38 = temp.loc[(temp.cell_line_id.isin(comb))&\\\n",
    "                              (temp.hg38==True)].ic_id.unique()\n",
    "    n_ic_hg38 = len(ic_hg38)\n",
    "    \n",
    "    # how many ICs do we detect w/ pers. haps for these?\n",
    "    ic_pers = temp.loc[(temp.cell_line_id.isin(comb))&\\\n",
    "                          ((temp.hap1+temp.hap2)>0)].ic_id.unique()\n",
    "    n_ic_pers = len(ic_pers)\n",
    "    \n",
    "    \n",
    "    # addition of things\n",
    "    missing_ids = list(set(cell_line_ids)-set(comb))    \n",
    "    # how many ics would we get by adding 2 rna-seq samples \n",
    "    # (ie hg38 samples, both missing)\n",
    "    ics_rna_seq = temp.loc[(temp.cell_line_id.isin(missing_ids))&\\\n",
    "                          (temp.hg38==True)].ic_id.unique()\n",
    "    n_ics_rna_seq_hg38 = len(list(set(ics_rna_seq)-set(ic_hg38)))\n",
    "    n_ics_rna_seq_pers = len(list(set(ics_rna_seq)-set(ic_pers)))\n",
    "    \n",
    "    # how many ics would we get by adding 1 rna-seq sample\n",
    "    # w/ personalized haplotype?\n",
    "    # (ie hap1/hap2 samples, 1 missing sample at a time)\n",
    "    for j, missing_cell_line_id in enumerate(missing_ids):\n",
    "        # how many ics would we get by adding 2 rna-seq samples \n",
    "        ics_rna_wgs_seq = temp.loc[(temp.cell_line_id==missing_cell_line_id)&\\\n",
    "                              (temp.hg38==True)].ic_id.unique()\n",
    "        n_ics_rna_wgs_seq_hg38 = len(list(set(ics_rna_wgs_seq)-set(ic_hg38)))\n",
    "        n_ics_rna_wgs_seq_pers = len(list(set(ics_rna_wgs_seq)-set(ic_pers)))\n",
    "        \n",
    "        \n",
    "        data = [[i, j, n_ic_hg38, n_ic_pers,\n",
    "                n_ics_rna_seq_hg38, n_ics_rna_seq_pers,\n",
    "                n_ics_rna_wgs_seq_hg38, n_ics_rna_wgs_seq_pers]]\n",
    "        cols = ['iter_28_samples', 'iter_missing_samples', 'n_ic_hg38', 'n_ic_pers',\n",
    "                'n_ics_rna_seq_hg38', 'n_ics_rna_seq_pers',\n",
    "                'n_ics_rna_wgs_seq_hg38', 'n_ics_rna_wgs_seq_pers']\n",
    "        temp3 = pd.DataFrame(data=data, columns=cols)\n",
    "        big_df = pd.concat([temp3, big_df], axis=0)"
   ]
  },
  {
   "cell_type": "code",
   "execution_count": 47,
   "id": "e42fb5f4-7f7c-45bf-90aa-0a9708af6fd2",
   "metadata": {},
   "outputs": [],
   "source": [
    "# big_df.to_csv('250305_28_sample_experiment.tsv', sep='\\t') # this one was saved w/ all 434 combinations"
   ]
  },
  {
   "cell_type": "code",
   "execution_count": 33,
   "id": "1a187b51-1b2f-4da5-8fdb-3e2e3fb91f57",
   "metadata": {},
   "outputs": [
    {
     "data": {
      "text/plain": [
       "95997"
      ]
     },
     "execution_count": 33,
     "metadata": {},
     "output_type": "execute_result"
    }
   ],
   "source": [
    "len(temp.loc[(temp.cell_line_id.isin(comb))&\\\n",
    "          (temp.hg38==True)].ic_id.unique())"
   ]
  },
  {
   "cell_type": "code",
   "execution_count": 41,
   "id": "651bb1df-19e3-49a5-aea4-064917162e5b",
   "metadata": {},
   "outputs": [],
   "source": [
    "temp = big_df.drop(['iter_missing_samples', 'n_ics_rna_wgs_seq_hg38', 'n_ics_rna_wgs_seq_pers'], axis=1).drop_duplicates()\n",
    "sns.displot(temp, kind='hist', x='n_ics_rna_seq_hg38')"
   ]
  },
  {
   "cell_type": "code",
   "execution_count": 42,
   "id": "7f0a2518-6a55-4f95-b210-cc634505b2f2",
   "metadata": {},
   "outputs": [
    {
     "data": {
      "text/plain": [
       "870"
      ]
     },
     "execution_count": 42,
     "metadata": {},
     "output_type": "execute_result"
    }
   ],
   "source": [
    "len(big_df.index)"
   ]
  },
  {
   "cell_type": "code",
   "execution_count": 43,
   "id": "f3e86492-bc1d-4cfc-ba00-6620ad6fe1bc",
   "metadata": {},
   "outputs": [
    {
     "data": {
      "text/plain": [
       "435"
      ]
     },
     "execution_count": 43,
     "metadata": {},
     "output_type": "execute_result"
    }
   ],
   "source": [
    "len(temp.index)"
   ]
  },
  {
   "cell_type": "code",
   "execution_count": 46,
   "id": "4d22d371-c4e1-4dfd-a2e4-9f38591f3ca8",
   "metadata": {},
   "outputs": [
    {
     "data": {
      "text/plain": [
       "<seaborn.axisgrid.FacetGrid at 0x7f9cbd5ab310>"
      ]
     },
     "execution_count": 46,
     "metadata": {},
     "output_type": "execute_result"
    },
    {
     "data": {
      "image/png": "[encoded data removed]",
      "text/plain": [
       "<Figure size 360x360 with 1 Axes>"
      ]
     },
     "metadata": {
      "needs_background": "light"
     },
     "output_type": "display_data"
    }
   ],
   "source": []
  },
  {
   "cell_type": "code",
   "execution_count": 53,
   "id": "10dfcaf5-6d3d-4fd7-b875-536ffa8271c4",
   "metadata": {},
   "outputs": [],
   "source": [
    "# debugging\n",
    "import itertools\n",
    "\n",
    "big_df = pd.DataFrame()\n",
    "# each group of 28\n",
    "combinations = list(itertools.combinations(cell_line_ids, 28))\n",
    "for i, comb in enumerate(combinations[:5]):\n",
    "    break"
   ]
  },
  {
   "cell_type": "code",
   "execution_count": 54,
   "id": "98053960-ec26-463d-ac13-7b623d811092",
   "metadata": {},
   "outputs": [
    {
     "data": {
      "text/html": [
       "<div>\n",
       "<style scoped>\n",
       "    .dataframe tbody tr th:only-of-type {\n",
       "        vertical-align: middle;\n",
       "    }\n",
       "\n",
       "    .dataframe tbody tr th {\n",
       "        vertical-align: top;\n",
       "    }\n",
       "\n",
       "    .dataframe thead th {\n",
       "        text-align: right;\n",
       "    }\n",
       "</style>\n",
       "<table border=\"1\" class=\"dataframe\">\n",
       "  <thead>\n",
       "    <tr style=\"text-align: right;\">\n",
       "      <th></th>\n",
       "      <th>ic_id</th>\n",
       "      <th>cell_line_id</th>\n",
       "      <th>hap1</th>\n",
       "      <th>hap2</th>\n",
       "      <th>hg38</th>\n",
       "    </tr>\n",
       "  </thead>\n",
       "  <tbody>\n",
       "    <tr>\n",
       "      <th>0</th>\n",
       "      <td>GL000194.1_-_112791-62949</td>\n",
       "      <td>NA18561</td>\n",
       "      <td>True</td>\n",
       "      <td>True</td>\n",
       "      <td>True</td>\n",
       "    </tr>\n",
       "    <tr>\n",
       "      <th>1</th>\n",
       "      <td>GL000194.1_-_113533-112850-112791-62949</td>\n",
       "      <td>HG03719</td>\n",
       "      <td>True</td>\n",
       "      <td>True</td>\n",
       "      <td>True</td>\n",
       "    </tr>\n",
       "    <tr>\n",
       "      <th>2</th>\n",
       "      <td>GL000194.1_-_114262-112850-112791-62949</td>\n",
       "      <td>HG03729</td>\n",
       "      <td>True</td>\n",
       "      <td>True</td>\n",
       "      <td>True</td>\n",
       "    </tr>\n",
       "    <tr>\n",
       "      <th>3</th>\n",
       "      <td>GL000194.1_-_114778-112850-112791-62949</td>\n",
       "      <td>NA18542</td>\n",
       "      <td>True</td>\n",
       "      <td>True</td>\n",
       "      <td>True</td>\n",
       "    </tr>\n",
       "    <tr>\n",
       "      <th>4</th>\n",
       "      <td>GL000194.1_-_114981-112850-112791-62949</td>\n",
       "      <td>HG01975</td>\n",
       "      <td>True</td>\n",
       "      <td>True</td>\n",
       "      <td>True</td>\n",
       "    </tr>\n",
       "  </tbody>\n",
       "</table>\n",
       "</div>"
      ],
      "text/plain": [
       "                                     ic_id cell_line_id  hap1  hap2  hg38\n",
       "0                GL000194.1_-_112791-62949      NA18561  True  True  True\n",
       "1  GL000194.1_-_113533-112850-112791-62949      HG03719  True  True  True\n",
       "2  GL000194.1_-_114262-112850-112791-62949      HG03729  True  True  True\n",
       "3  GL000194.1_-_114778-112850-112791-62949      NA18542  True  True  True\n",
       "4  GL000194.1_-_114981-112850-112791-62949      HG01975  True  True  True"
      ]
     },
     "execution_count": 54,
     "metadata": {},
     "output_type": "execute_result"
    }
   ],
   "source": [
    "temp.head()"
   ]
  },
  {
   "cell_type": "code",
   "execution_count": 57,
   "id": "647e61db-6fe6-4455-9b9f-6987d20eb0aa",
   "metadata": {},
   "outputs": [],
   "source": [
    "# number / identity of the ICs discovered in this combination\n",
    "\n",
    "# in pers. haps\n",
    "temp2 = temp.loc[(temp.cell_line_id.isin(comb))&\n",
    "               (temp.hap1+temp.hap2)>0]"
   ]
  },
  {
   "cell_type": "code",
   "execution_count": 58,
   "id": "db37d86e-2968-4498-8ba6-d99a3c55e900",
   "metadata": {},
   "outputs": [
    {
     "data": {
      "text/plain": [
       "486801"
      ]
     },
     "execution_count": 58,
     "metadata": {},
     "output_type": "execute_result"
    }
   ],
   "source": [
    "len(temp.index)"
   ]
  },
  {
   "cell_type": "code",
   "execution_count": 60,
   "id": "bfb36c75-259b-40bf-8ea0-c88e417ac8a4",
   "metadata": {},
   "outputs": [
    {
     "data": {
      "text/plain": [
       "456041"
      ]
     },
     "execution_count": 60,
     "metadata": {},
     "output_type": "execute_result"
    }
   ],
   "source": [
    "len(temp2.index)"
   ]
  },
  {
   "cell_type": "code",
   "execution_count": 61,
   "id": "8561d538-8c19-4864-bc60-2279b5022f07",
   "metadata": {},
   "outputs": [
    {
     "data": {
      "text/plain": [
       "99701"
      ]
     },
     "execution_count": 61,
     "metadata": {},
     "output_type": "execute_result"
    }
   ],
   "source": [
    "len(temp2.ic_id.unique())"
   ]
  },
  {
   "cell_type": "code",
   "execution_count": null,
   "id": "f128de4b-3b55-4cd6-aefa-a999954c68c8",
   "metadata": {},
   "outputs": [],
   "source": []
  }
 ],
 "metadata": {
  "kernelspec": {
   "display_name": "Python 3",
   "language": "python",
   "name": "python3"
  },
  "language_info": {
   "codemirror_mode": {
    "name": "ipython",
    "version": 3
   },
   "file_extension": ".py",
   "mimetype": "text/x-python",
   "name": "python",
   "nbconvert_exporter": "python",
   "pygments_lexer": "ipython3",
   "version": "3.7.12"
  }
 },
 "nbformat": 4,
 "nbformat_minor": 5
}
