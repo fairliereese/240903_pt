{
 "cells": [
  {
   "cell_type": "code",
   "execution_count": 1,
   "id": "fc1bdf95-1353-4545-bbdf-7c6cff516849",
   "metadata": {},
   "outputs": [],
   "source": [
    "import pandas as pd\n",
    "import numpy as np\n",
    "import scipy.stats as st\n",
    "import seaborn as sns\n",
    "import sys\n",
    "import os\n",
    "import matplotlib.pyplot as plt\n",
    "import swan_vis as swan\n",
    "import yaml\n",
    "from snakemake.io import expand\n",
    "import cerberus\n",
    "import pyranges as pr\n",
    "import upsetplot\n",
    "\n",
    "p = os.path.dirname(os.getcwd())\n",
    "sys.path.append(p)\n",
    "\n",
    "from scripts.utils import *\n",
    "from scripts.vcf_utils import *\n",
    "from scripts.plotting import *"
   ]
  },
  {
   "cell_type": "code",
   "execution_count": 2,
   "id": "ceee9112-1246-4cff-873a-369884452f94",
   "metadata": {},
   "outputs": [],
   "source": [
    "config = load_config()\n",
    "od = '../'\n",
    "\n",
    "def proc_cfg(entry, od):\n",
    "    entry = entry.replace('../../', '')\n",
    "    entry = od+entry\n",
    "    return entry"
   ]
  },
  {
   "cell_type": "code",
   "execution_count": 3,
   "id": "6a39e29d-d156-4a53-bdc2-4ae79fec3590",
   "metadata": {},
   "outputs": [],
   "source": [
    "df = load_meta()\n",
    "df = df.loc[~df['sample'].str.contains('_')]\n",
    "df['lab_sample'] = df['lab_number_sample'].astype(str)+'_'+\\\n",
    "                      df['lab_sampleid'].astype(str)+'_'+\\\n",
    "                      df['cell_line_id'].astype(str)\n",
    "df.columns\n",
    "df = df[['cell_line_id', 'sample', 'hapmap_DNA_ID',\n",
    "          'map_reads_assemblymap','lab_sample', 'population']].drop_duplicates()\n",
    "\n",
    "temp_df = pd.read_csv('../snakemake/transcript_discovery_personal/cell_line_ids.txt', header=None, names=['cell_line_id'])\n",
    "\n",
    "# make a 1000g cell line id col\n",
    "df['cell_line_id_1000g'] = df.cell_line_id\n",
    "\n",
    "inds = df.loc[~df.cell_line_id_1000g.isin(temp_df.cell_line_id.tolist())].index\n",
    "df.loc[inds, 'cell_line_id_1000g'] = df.loc[inds, 'hapmap_DNA_ID']\n",
    "len(df.index)\n",
    "\n",
    "# limit to just those in 1000g\n",
    "df = df.loc[df.cell_line_id_1000g.isin(temp_df.cell_line_id.tolist())]\n",
    "assert len(df.index) == 30\n",
    "\n",
    "# TODO bad sample that hasn't finished on espresso\n",
    "# bad_samples = ['NA19328']\n",
    "# df = df.loc[~df.cell_line_id_1000g.isin(bad_samples)]\n",
    "\n",
    "hap = ['hap1', 'hap2']\n",
    "\n",
    "meta_df = df.copy(deep=True)"
   ]
  },
  {
   "cell_type": "markdown",
   "id": "8245d369-d2cb-465e-8659-3314acf89042",
   "metadata": {},
   "source": [
    "## Try again"
   ]
  },
  {
   "cell_type": "code",
   "execution_count": 109,
   "id": "1a026de1-c03a-488e-9950-c1feb88dc357",
   "metadata": {},
   "outputs": [],
   "source": [
    "file = proc_cfg(config['lr']['td_personal']['cerb']['ic_summary'],od)\n",
    "df = pd.read_csv(file)\n",
    "df.drop('Unnamed: 0', axis=1, inplace=True)\n",
    "df['detected'] = True"
   ]
  },
  {
   "cell_type": "code",
   "execution_count": 110,
   "id": "0c31d957-da54-4dde-9150-f2dba5683519",
   "metadata": {},
   "outputs": [
    {
     "name": "stdout",
     "output_type": "stream",
     "text": [
      "12993951\n",
      "4280955\n",
      "1426985\n"
     ]
    }
   ],
   "source": [
    "# 1.5 only novel ics and count per cell line\n",
    "print(len(df.index))\n",
    "temp = df.loc[(df.structural_category!='full-splice_match')&\\\n",
    "              (df.structural_category!='incomplete-splice_match')]\n",
    "print(len(temp.index))\n",
    "\n",
    "# get only the detection from mapping\n",
    "temp = temp[['ic_id', 'cell_line_id', 'map_genome', 'detected']]\n",
    "temp = temp.drop_duplicates()\n",
    "print(len(temp.index))\n",
    "\n",
    "temp = temp.pivot(index=['ic_id', 'cell_line_id'], \n",
    "                columns=['map_genome'],\n",
    "                values=['detected'])\n",
    "\n",
    "# flatten\n",
    "temp.columns = temp.columns.get_level_values(1)\n",
    "temp.columns.name = None\n",
    "\n",
    "# reset index to make it a flat DataFrame\n",
    "temp = temp.reset_index()\n",
    "\n",
    "# fill missing values with False\n",
    "temp = temp.fillna(False)\n",
    "\n",
    "# det. in personal haps? \n",
    "temp['pers_hap'] = (temp.hap1==True)|(temp.hap2==True)\n",
    "temp.drop(['hap1', 'hap2'], axis=1, inplace=True)"
   ]
  },
  {
   "cell_type": "code",
   "execution_count": 111,
   "id": "ebf05d49-40ed-4bbe-abca-0157afe477b7",
   "metadata": {},
   "outputs": [],
   "source": [
    "# count number of novel ICs det pers cell line\n",
    "temp['n_novel_ic'] = temp.groupby('cell_line_id')['ic_id'].transform('nunique')\n",
    "temp2 = temp[['cell_line_id', 'n_novel_ic']]\n",
    "temp2 = temp2.sort_values(by='n_novel_ic', ascending=False).drop_duplicates()\n",
    "order = temp2.cell_line_id.tolist()\n",
    "samples_28 = order[:28]\n",
    "samples_2 = order[-2:]"
   ]
  },
  {
   "cell_type": "code",
   "execution_count": 120,
   "id": "38f56b24-8a6e-40c3-ae6b-7cfa735a2815",
   "metadata": {},
   "outputs": [],
   "source": [
    "# first try to recreate the saturation / increases curves\n",
    "ic_ids_hg38 = []\n",
    "ic_ids_pers = []\n",
    "\n",
    "cols = ['n_samples', 'diff_hg38', 'n_cum_uniq_hg38', \n",
    "        'diff_pers', 'n_cum_uniq_pers']\n",
    "df = pd.DataFrame()\n",
    "\n",
    "for i, c in enumerate(order):\n",
    "    \n",
    "    things = [i]\n",
    "    \n",
    "    # get ics for hg38\n",
    "    curr_ics = temp.loc[(temp.cell_line_id==c)&\n",
    "                        (temp.hg38==True)].ic_id.unique().tolist()\n",
    "    \n",
    "    # difference between last and this one\n",
    "    things.append(len(list(set(curr_ics)-set(ic_ids_hg38)))) # difference \n",
    "    \n",
    "    # cumulative\n",
    "    ic_ids_hg38 = list(set(curr_ics)|set(ic_ids_hg38)) # union\n",
    "    things.append(len(ic_ids_hg38))\n",
    "    \n",
    "    # get ics for pers\n",
    "    curr_ics = temp.loc[(temp.cell_line_id==c)&\n",
    "                        (temp.pers_hap==True)].ic_id.unique().tolist()\n",
    "    \n",
    "    # difference between last and this one\n",
    "    things.append(len(list(set(curr_ics)-set(ic_ids_pers)))) # difference \n",
    "    \n",
    "    # cumulative\n",
    "    ic_ids_pers = list(set(curr_ics)|set(ic_ids_pers)) # union\n",
    "    things.append(len(ic_ids_pers))\n",
    "    \n",
    "    temp3 = pd.DataFrame(data=[things], columns=cols)\n",
    "    df = pd.concat([df, temp3], axis=0)"
   ]
  },
  {
   "cell_type": "code",
   "execution_count": 121,
   "id": "35c18a62-3fbb-4622-973d-bb188753693b",
   "metadata": {},
   "outputs": [
    {
     "data": {
      "text/html": [
       "<div>\n",
       "<style scoped>\n",
       "    .dataframe tbody tr th:only-of-type {\n",
       "        vertical-align: middle;\n",
       "    }\n",
       "\n",
       "    .dataframe tbody tr th {\n",
       "        vertical-align: top;\n",
       "    }\n",
       "\n",
       "    .dataframe thead th {\n",
       "        text-align: right;\n",
       "    }\n",
       "</style>\n",
       "<table border=\"1\" class=\"dataframe\">\n",
       "  <thead>\n",
       "    <tr style=\"text-align: right;\">\n",
       "      <th></th>\n",
       "      <th>n_samples</th>\n",
       "      <th>diff_hg38</th>\n",
       "      <th>n_cum_uniq_hg38</th>\n",
       "      <th>diff_pers</th>\n",
       "      <th>n_cum_uniq_pers</th>\n",
       "    </tr>\n",
       "  </thead>\n",
       "  <tbody>\n",
       "    <tr>\n",
       "      <th>0</th>\n",
       "      <td>0</td>\n",
       "      <td>25851</td>\n",
       "      <td>25851</td>\n",
       "      <td>26749</td>\n",
       "      <td>26749</td>\n",
       "    </tr>\n",
       "    <tr>\n",
       "      <th>0</th>\n",
       "      <td>1</td>\n",
       "      <td>11292</td>\n",
       "      <td>37143</td>\n",
       "      <td>11678</td>\n",
       "      <td>38427</td>\n",
       "    </tr>\n",
       "    <tr>\n",
       "      <th>0</th>\n",
       "      <td>2</td>\n",
       "      <td>6550</td>\n",
       "      <td>43693</td>\n",
       "      <td>6865</td>\n",
       "      <td>45292</td>\n",
       "    </tr>\n",
       "    <tr>\n",
       "      <th>0</th>\n",
       "      <td>3</td>\n",
       "      <td>5019</td>\n",
       "      <td>48712</td>\n",
       "      <td>5202</td>\n",
       "      <td>50494</td>\n",
       "    </tr>\n",
       "    <tr>\n",
       "      <th>0</th>\n",
       "      <td>4</td>\n",
       "      <td>3809</td>\n",
       "      <td>52521</td>\n",
       "      <td>3909</td>\n",
       "      <td>54403</td>\n",
       "    </tr>\n",
       "  </tbody>\n",
       "</table>\n",
       "</div>"
      ],
      "text/plain": [
       "   n_samples  diff_hg38  n_cum_uniq_hg38  diff_pers  n_cum_uniq_pers\n",
       "0          0      25851            25851      26749            26749\n",
       "0          1      11292            37143      11678            38427\n",
       "0          2       6550            43693       6865            45292\n",
       "0          3       5019            48712       5202            50494\n",
       "0          4       3809            52521       3909            54403"
      ]
     },
     "execution_count": 121,
     "metadata": {},
     "output_type": "execute_result"
    }
   ],
   "source": [
    "df.head()"
   ]
  },
  {
   "cell_type": "code",
   "execution_count": 122,
   "id": "1b506fbd-63f1-4e33-81af-0835ae64a05d",
   "metadata": {},
   "outputs": [],
   "source": [
    "assert len(temp.loc[temp.pers_hap==True].ic_id.unique()) == df.loc[df.n_samples==29]['n_cum_uniq_pers'].values[0]\n",
    "assert len(temp.loc[temp.hg38==True].ic_id.unique()) == df.loc[df.n_samples==29]['n_cum_uniq_hg38'].values[0]"
   ]
  },
  {
   "cell_type": "code",
   "execution_count": 124,
   "id": "42e96c1f-3b28-4094-85e5-9440c4432959",
   "metadata": {},
   "outputs": [
    {
     "data": {
      "text/html": [
       "<div>\n",
       "<style scoped>\n",
       "    .dataframe tbody tr th:only-of-type {\n",
       "        vertical-align: middle;\n",
       "    }\n",
       "\n",
       "    .dataframe tbody tr th {\n",
       "        vertical-align: top;\n",
       "    }\n",
       "\n",
       "    .dataframe thead th {\n",
       "        text-align: right;\n",
       "    }\n",
       "</style>\n",
       "<table border=\"1\" class=\"dataframe\">\n",
       "  <thead>\n",
       "    <tr style=\"text-align: right;\">\n",
       "      <th></th>\n",
       "      <th>n_samples</th>\n",
       "      <th>diff_hg38</th>\n",
       "      <th>n_cum_uniq_hg38</th>\n",
       "      <th>diff_pers</th>\n",
       "      <th>n_cum_uniq_pers</th>\n",
       "    </tr>\n",
       "  </thead>\n",
       "  <tbody>\n",
       "    <tr>\n",
       "      <th>0</th>\n",
       "      <td>25</td>\n",
       "      <td>663</td>\n",
       "      <td>96817</td>\n",
       "      <td>681</td>\n",
       "      <td>100539</td>\n",
       "    </tr>\n",
       "    <tr>\n",
       "      <th>0</th>\n",
       "      <td>26</td>\n",
       "      <td>696</td>\n",
       "      <td>97513</td>\n",
       "      <td>722</td>\n",
       "      <td>101261</td>\n",
       "    </tr>\n",
       "    <tr>\n",
       "      <th>0</th>\n",
       "      <td>27</td>\n",
       "      <td>613</td>\n",
       "      <td>98126</td>\n",
       "      <td>639</td>\n",
       "      <td>101900</td>\n",
       "    </tr>\n",
       "    <tr>\n",
       "      <th>0</th>\n",
       "      <td>28</td>\n",
       "      <td>767</td>\n",
       "      <td>98893</td>\n",
       "      <td>771</td>\n",
       "      <td>102671</td>\n",
       "    </tr>\n",
       "    <tr>\n",
       "      <th>0</th>\n",
       "      <td>29</td>\n",
       "      <td>658</td>\n",
       "      <td>99551</td>\n",
       "      <td>694</td>\n",
       "      <td>103365</td>\n",
       "    </tr>\n",
       "  </tbody>\n",
       "</table>\n",
       "</div>"
      ],
      "text/plain": [
       "   n_samples  diff_hg38  n_cum_uniq_hg38  diff_pers  n_cum_uniq_pers\n",
       "0         25        663            96817        681           100539\n",
       "0         26        696            97513        722           101261\n",
       "0         27        613            98126        639           101900\n",
       "0         28        767            98893        771           102671\n",
       "0         29        658            99551        694           103365"
      ]
     },
     "execution_count": 124,
     "metadata": {},
     "output_type": "execute_result"
    }
   ],
   "source": [
    "df.tail()"
   ]
  },
  {
   "cell_type": "code",
   "execution_count": 92,
   "id": "4c72b767-e7cc-4fec-ad82-3911e9a4f67c",
   "metadata": {},
   "outputs": [
    {
     "name": "stdout",
     "output_type": "stream",
     "text": [
      "98126\n"
     ]
    }
   ],
   "source": [
    "# columns = ['n_ic_28_hg38', \n",
    "#            'n_ic_28_pers']\n",
    "# vals = []\n",
    "\n",
    "# # number of novel ICs det. w/ hg38 in 28 samples\n",
    "# n = len(temp.loc[(temp.cell_line_id.isin(samples_28))&\\\n",
    "#              (temp.hg38==True)].ic_id.unique().tolist())\n",
    "# print(n)"
   ]
  },
  {
   "cell_type": "code",
   "execution_count": null,
   "id": "5d9aebfb-f411-4b76-9199-0dc47700a1eb",
   "metadata": {},
   "outputs": [],
   "source": []
  },
  {
   "cell_type": "code",
   "execution_count": null,
   "id": "ca5d2e6c-3495-4f50-9f91-c97cb6c610db",
   "metadata": {},
   "outputs": [],
   "source": []
  },
  {
   "cell_type": "code",
   "execution_count": null,
   "id": "c3137a02-8cb9-4a20-9d2f-acb08c5d7b1d",
   "metadata": {},
   "outputs": [],
   "source": []
  },
  {
   "cell_type": "code",
   "execution_count": null,
   "id": "a56687a9-b985-4503-993a-2cc364be456c",
   "metadata": {},
   "outputs": [],
   "source": []
  },
  {
   "cell_type": "code",
   "execution_count": null,
   "id": "10b2d3ee-442a-497c-a4d7-f39bf3c89918",
   "metadata": {},
   "outputs": [],
   "source": []
  },
  {
   "cell_type": "code",
   "execution_count": null,
   "id": "b0465a97-8070-4759-afb0-0e53c52c7a61",
   "metadata": {},
   "outputs": [],
   "source": []
  },
  {
   "cell_type": "code",
   "execution_count": null,
   "id": "3fcd2499-77f6-4132-bb3d-1615e3157850",
   "metadata": {},
   "outputs": [],
   "source": []
  },
  {
   "cell_type": "code",
   "execution_count": null,
   "id": "68ecee3f-6dbd-4864-a812-556d346d657a",
   "metadata": {},
   "outputs": [],
   "source": []
  },
  {
   "cell_type": "code",
   "execution_count": null,
   "id": "23b4ee0e-efa8-45dd-9e75-8aa14537e861",
   "metadata": {},
   "outputs": [],
   "source": []
  },
  {
   "cell_type": "code",
   "execution_count": null,
   "id": "ec09d759-a0ae-4053-821f-274dfd6d85bb",
   "metadata": {},
   "outputs": [],
   "source": []
  },
  {
   "cell_type": "code",
   "execution_count": null,
   "id": "76e4cb96-af07-442f-83bd-7c28bc02a288",
   "metadata": {},
   "outputs": [],
   "source": []
  },
  {
   "cell_type": "code",
   "execution_count": null,
   "id": "da632edb-9b69-40ab-b0e3-e1676fdad6dc",
   "metadata": {},
   "outputs": [],
   "source": []
  },
  {
   "cell_type": "markdown",
   "id": "ce815ebe-0b3c-432a-bedf-ac9501e4e1b1",
   "metadata": {},
   "source": [
    "## ICs w/ novel splicing"
   ]
  },
  {
   "cell_type": "code",
   "execution_count": 50,
   "id": "8c8b2e88-e752-486b-92a1-f3de9a397040",
   "metadata": {},
   "outputs": [
    {
     "name": "stdout",
     "output_type": "stream",
     "text": [
      "12993951\n",
      "4280955\n"
     ]
    }
   ],
   "source": [
    "file = proc_cfg(config['lr']['td_personal']['cerb']['ic_summary'],od)\n",
    "df = pd.read_csv(file)\n",
    "df.drop('Unnamed: 0', axis=1, inplace=True)\n",
    "df['detected'] = True\n",
    "\n",
    "# 1.5 only novel ics and count per cell line\n",
    "print(len(df.index))\n",
    "temp = df.loc[(df.structural_category!='full-splice_match')&\\\n",
    "              (df.structural_category!='incomplete-splice_match')]\n",
    "print(len(temp.index))\n",
    "\n",
    "# get only the detection from mapping\n",
    "temp = temp[['ic_id', 'cell_line_id', 'map_genome', 'detected']]\n",
    "temp = temp.drop_duplicates()\n",
    "temp = temp.pivot(index=['ic_id', 'cell_line_id'], \n",
    "                columns=['map_genome'],\n",
    "                values=['detected'])\n",
    "\n",
    "# flatten\n",
    "temp.columns = temp.columns.get_level_values(1)\n",
    "temp.columns.name = None\n",
    "\n",
    "# reset index to make it a flat DataFrame\n",
    "temp = temp.reset_index()\n",
    "\n",
    "# fill missing values with False\n",
    "temp = temp.fillna(False)"
   ]
  },
  {
   "cell_type": "code",
   "execution_count": 51,
   "id": "8724d521-ce66-4873-9830-71665ff92624",
   "metadata": {},
   "outputs": [],
   "source": [
    "cell_line_ids = temp.cell_line_id.unique().tolist()"
   ]
  },
  {
   "cell_type": "code",
   "execution_count": 52,
   "id": "d57fa3c7-016e-4189-9831-d474906fa1bf",
   "metadata": {},
   "outputs": [
    {
     "data": {
      "text/plain": [
       "103547"
      ]
     },
     "execution_count": 52,
     "metadata": {},
     "output_type": "execute_result"
    }
   ],
   "source": [
    "len(temp.ic_id.unique())"
   ]
  },
  {
   "cell_type": "code",
   "execution_count": 37,
   "id": "0575d5d9-2afc-4906-91a8-6db2ea6a99ec",
   "metadata": {},
   "outputs": [],
   "source": [
    "import itertools\n",
    "\n",
    "big_df = pd.DataFrame()\n",
    "# each group of 28\n",
    "combinations = list(itertools.combinations(cell_line_ids, 28))\n",
    "for i, comb in enumerate(combinations[:5]):\n",
    "    \n",
    "    # how many ICs do we detect w/ hg38 for these?\n",
    "    ic_hg38 = temp.loc[(temp.cell_line_id.isin(comb))&\\\n",
    "                              (temp.hg38==True)].ic_id.unique()\n",
    "    n_ic_hg38 = len(ic_hg38)\n",
    "    \n",
    "    # how many ICs do we detect w/ pers. haps for these?\n",
    "    ic_pers = temp.loc[(temp.cell_line_id.isin(comb))&\\\n",
    "                          ((temp.hap1+temp.hap2)>0)].ic_id.unique()\n",
    "    n_ic_pers = len(ic_pers)\n",
    "    \n",
    "    \n",
    "    # addition of things\n",
    "    missing_ids = list(set(cell_line_ids)-set(comb))    \n",
    "    # how many ics would we get by adding 2 rna-seq samples \n",
    "    # (ie hg38 samples, both missing)\n",
    "    ics_rna_seq = temp.loc[(temp.cell_line_id.isin(missing_ids))&\\\n",
    "                          (temp.hg38==True)].ic_id.unique()\n",
    "    n_ics_rna_seq_hg38 = len(list(set(ics_rna_seq)-set(ic_hg38)))\n",
    "    n_ics_rna_seq_pers = len(list(set(ics_rna_seq)-set(ic_pers)))\n",
    "    \n",
    "    # how many ics would we get by adding 1 rna-seq sample\n",
    "    # w/ personalized haplotype?\n",
    "    # (ie hap1/hap2 samples, 1 missing sample at a time)\n",
    "    for j, missing_cell_line_id in enumerate(missing_ids):\n",
    "        # how many ics would we get by adding 2 rna-seq samples \n",
    "        ics_rna_wgs_seq = temp.loc[(temp.cell_line_id==missing_cell_line_id)&\\\n",
    "                              (temp.hg38==True)].ic_id.unique()\n",
    "        n_ics_rna_wgs_seq_hg38 = len(list(set(ics_rna_wgs_seq)-set(ic_hg38)))\n",
    "        n_ics_rna_wgs_seq_pers = len(list(set(ics_rna_wgs_seq)-set(ic_pers)))\n",
    "        \n",
    "        \n",
    "        data = [[i, j, n_ic_hg38, n_ic_pers,\n",
    "                n_ics_rna_seq_hg38, n_ics_rna_seq_pers,\n",
    "                n_ics_rna_wgs_seq_hg38, n_ics_rna_wgs_seq_pers]]\n",
    "        cols = ['iter_28_samples', 'iter_missing_samples', 'n_ic_hg38', 'n_ic_pers',\n",
    "                'n_ics_rna_seq_hg38', 'n_ics_rna_seq_pers',\n",
    "                'n_ics_rna_wgs_seq_hg38', 'n_ics_rna_wgs_seq_pers']\n",
    "        temp3 = pd.DataFrame(data=data, columns=cols)\n",
    "        big_df = pd.concat([temp3, big_df], axis=0)"
   ]
  },
  {
   "cell_type": "code",
   "execution_count": 47,
   "id": "e42fb5f4-7f7c-45bf-90aa-0a9708af6fd2",
   "metadata": {},
   "outputs": [],
   "source": [
    "# big_df.to_csv('250305_28_sample_experiment.tsv', sep='\\t') # this one was saved w/ all 434 combinations"
   ]
  },
  {
   "cell_type": "code",
   "execution_count": 33,
   "id": "1a187b51-1b2f-4da5-8fdb-3e2e3fb91f57",
   "metadata": {},
   "outputs": [
    {
     "data": {
      "text/plain": [
       "95997"
      ]
     },
     "execution_count": 33,
     "metadata": {},
     "output_type": "execute_result"
    }
   ],
   "source": [
    "len(temp.loc[(temp.cell_line_id.isin(comb))&\\\n",
    "          (temp.hg38==True)].ic_id.unique())"
   ]
  },
  {
   "cell_type": "code",
   "execution_count": 41,
   "id": "651bb1df-19e3-49a5-aea4-064917162e5b",
   "metadata": {},
   "outputs": [],
   "source": [
    "temp = big_df.drop(['iter_missing_samples', 'n_ics_rna_wgs_seq_hg38', 'n_ics_rna_wgs_seq_pers'], axis=1).drop_duplicates()"
   ]
  },
  {
   "cell_type": "code",
   "execution_count": 42,
   "id": "7f0a2518-6a55-4f95-b210-cc634505b2f2",
   "metadata": {},
   "outputs": [
    {
     "data": {
      "text/plain": [
       "870"
      ]
     },
     "execution_count": 42,
     "metadata": {},
     "output_type": "execute_result"
    }
   ],
   "source": [
    "len(big_df.index)"
   ]
  },
  {
   "cell_type": "code",
   "execution_count": 43,
   "id": "f3e86492-bc1d-4cfc-ba00-6620ad6fe1bc",
   "metadata": {},
   "outputs": [
    {
     "data": {
      "text/plain": [
       "435"
      ]
     },
     "execution_count": 43,
     "metadata": {},
     "output_type": "execute_result"
    }
   ],
   "source": [
    "len(temp.index)"
   ]
  },
  {
   "cell_type": "code",
   "execution_count": 46,
   "id": "4d22d371-c4e1-4dfd-a2e4-9f38591f3ca8",
   "metadata": {},
   "outputs": [
    {
     "data": {
      "text/plain": [
       "<seaborn.axisgrid.FacetGrid at 0x7f9cbd5ab310>"
      ]
     },
     "execution_count": 46,
     "metadata": {},
     "output_type": "execute_result"
    },
    {
     "data": {
      "image/png": "[encoded data removed]",
      "text/plain": [
       "<Figure size 360x360 with 1 Axes>"
      ]
     },
     "metadata": {
      "needs_background": "light"
     },
     "output_type": "display_data"
    }
   ],
   "source": [
    "sns.displot(temp, kind='hist', x='n_ics_rna_seq_hg38')"
   ]
  },
  {
   "cell_type": "code",
   "execution_count": 53,
   "id": "10dfcaf5-6d3d-4fd7-b875-536ffa8271c4",
   "metadata": {},
   "outputs": [],
   "source": [
    "# debugging\n",
    "import itertools\n",
    "\n",
    "big_df = pd.DataFrame()\n",
    "# each group of 28\n",
    "combinations = list(itertools.combinations(cell_line_ids, 28))\n",
    "for i, comb in enumerate(combinations[:5]):\n",
    "    break"
   ]
  },
  {
   "cell_type": "code",
   "execution_count": 54,
   "id": "98053960-ec26-463d-ac13-7b623d811092",
   "metadata": {},
   "outputs": [
    {
     "data": {
      "text/html": [
       "<div>\n",
       "<style scoped>\n",
       "    .dataframe tbody tr th:only-of-type {\n",
       "        vertical-align: middle;\n",
       "    }\n",
       "\n",
       "    .dataframe tbody tr th {\n",
       "        vertical-align: top;\n",
       "    }\n",
       "\n",
       "    .dataframe thead th {\n",
       "        text-align: right;\n",
       "    }\n",
       "</style>\n",
       "<table border=\"1\" class=\"dataframe\">\n",
       "  <thead>\n",
       "    <tr style=\"text-align: right;\">\n",
       "      <th></th>\n",
       "      <th>ic_id</th>\n",
       "      <th>cell_line_id</th>\n",
       "      <th>hap1</th>\n",
       "      <th>hap2</th>\n",
       "      <th>hg38</th>\n",
       "    </tr>\n",
       "  </thead>\n",
       "  <tbody>\n",
       "    <tr>\n",
       "      <th>0</th>\n",
       "      <td>GL000194.1_-_112791-62949</td>\n",
       "      <td>NA18561</td>\n",
       "      <td>True</td>\n",
       "      <td>True</td>\n",
       "      <td>True</td>\n",
       "    </tr>\n",
       "    <tr>\n",
       "      <th>1</th>\n",
       "      <td>GL000194.1_-_113533-112850-112791-62949</td>\n",
       "      <td>HG03719</td>\n",
       "      <td>True</td>\n",
       "      <td>True</td>\n",
       "      <td>True</td>\n",
       "    </tr>\n",
       "    <tr>\n",
       "      <th>2</th>\n",
       "      <td>GL000194.1_-_114262-112850-112791-62949</td>\n",
       "      <td>HG03729</td>\n",
       "      <td>True</td>\n",
       "      <td>True</td>\n",
       "      <td>True</td>\n",
       "    </tr>\n",
       "    <tr>\n",
       "      <th>3</th>\n",
       "      <td>GL000194.1_-_114778-112850-112791-62949</td>\n",
       "      <td>NA18542</td>\n",
       "      <td>True</td>\n",
       "      <td>True</td>\n",
       "      <td>True</td>\n",
       "    </tr>\n",
       "    <tr>\n",
       "      <th>4</th>\n",
       "      <td>GL000194.1_-_114981-112850-112791-62949</td>\n",
       "      <td>HG01975</td>\n",
       "      <td>True</td>\n",
       "      <td>True</td>\n",
       "      <td>True</td>\n",
       "    </tr>\n",
       "  </tbody>\n",
       "</table>\n",
       "</div>"
      ],
      "text/plain": [
       "                                     ic_id cell_line_id  hap1  hap2  hg38\n",
       "0                GL000194.1_-_112791-62949      NA18561  True  True  True\n",
       "1  GL000194.1_-_113533-112850-112791-62949      HG03719  True  True  True\n",
       "2  GL000194.1_-_114262-112850-112791-62949      HG03729  True  True  True\n",
       "3  GL000194.1_-_114778-112850-112791-62949      NA18542  True  True  True\n",
       "4  GL000194.1_-_114981-112850-112791-62949      HG01975  True  True  True"
      ]
     },
     "execution_count": 54,
     "metadata": {},
     "output_type": "execute_result"
    }
   ],
   "source": [
    "temp.head()"
   ]
  },
  {
   "cell_type": "code",
   "execution_count": 57,
   "id": "647e61db-6fe6-4455-9b9f-6987d20eb0aa",
   "metadata": {},
   "outputs": [],
   "source": [
    "# number / identity of the ICs discovered in this combination\n",
    "\n",
    "# in pers. haps\n",
    "temp2 = temp.loc[(temp.cell_line_id.isin(comb))&\n",
    "               (temp.hap1+temp.hap2)>0]"
   ]
  },
  {
   "cell_type": "code",
   "execution_count": 58,
   "id": "db37d86e-2968-4498-8ba6-d99a3c55e900",
   "metadata": {},
   "outputs": [
    {
     "data": {
      "text/plain": [
       "486801"
      ]
     },
     "execution_count": 58,
     "metadata": {},
     "output_type": "execute_result"
    }
   ],
   "source": [
    "len(temp.index)"
   ]
  },
  {
   "cell_type": "code",
   "execution_count": 60,
   "id": "bfb36c75-259b-40bf-8ea0-c88e417ac8a4",
   "metadata": {},
   "outputs": [
    {
     "data": {
      "text/plain": [
       "456041"
      ]
     },
     "execution_count": 60,
     "metadata": {},
     "output_type": "execute_result"
    }
   ],
   "source": [
    "len(temp2.index)"
   ]
  },
  {
   "cell_type": "code",
   "execution_count": 61,
   "id": "8561d538-8c19-4864-bc60-2279b5022f07",
   "metadata": {},
   "outputs": [
    {
     "data": {
      "text/plain": [
       "99701"
      ]
     },
     "execution_count": 61,
     "metadata": {},
     "output_type": "execute_result"
    }
   ],
   "source": [
    "len(temp2.ic_id.unique())"
   ]
  },
  {
   "cell_type": "code",
   "execution_count": null,
   "id": "f128de4b-3b55-4cd6-aefa-a999954c68c8",
   "metadata": {},
   "outputs": [],
   "source": []
  }
 ],
 "metadata": {
  "kernelspec": {
   "display_name": "Python 3",
   "language": "python",
   "name": "python3"
  },
  "language_info": {
   "codemirror_mode": {
    "name": "ipython",
    "version": 3
   },
   "file_extension": ".py",
   "mimetype": "text/x-python",
   "name": "python",
   "nbconvert_exporter": "python",
   "pygments_lexer": "ipython3",
   "version": "3.7.12"
  }
 },
 "nbformat": 4,
 "nbformat_minor": 5
}
