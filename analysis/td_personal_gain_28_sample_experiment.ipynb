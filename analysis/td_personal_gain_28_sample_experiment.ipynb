{
 "cells": [
  {
   "cell_type": "code",
   "execution_count": 1,
   "id": "fc1bdf95-1353-4545-bbdf-7c6cff516849",
   "metadata": {},
   "outputs": [],
   "source": [
    "import pandas as pd\n",
    "import numpy as np\n",
    "import scipy.stats as st\n",
    "import seaborn as sns\n",
    "import sys\n",
    "import os\n",
    "import matplotlib.pyplot as plt\n",
    "import swan_vis as swan\n",
    "import yaml\n",
    "from snakemake.io import expand\n",
    "import cerberus\n",
    "import pyranges as pr\n",
    "import upsetplot\n",
    "\n",
    "p = os.path.dirname(os.getcwd())\n",
    "sys.path.append(p)\n",
    "\n",
    "from scripts.utils import *\n",
    "from scripts.vcf_utils import *\n",
    "from scripts.plotting import *"
   ]
  },
  {
   "cell_type": "code",
   "execution_count": 2,
   "id": "ceee9112-1246-4cff-873a-369884452f94",
   "metadata": {},
   "outputs": [],
   "source": [
    "config = load_config()\n",
    "od = '../'\n",
    "\n",
    "def proc_cfg(entry, od):\n",
    "    entry = entry.replace('../../', '')\n",
    "    entry = od+entry\n",
    "    return entry"
   ]
  },
  {
   "cell_type": "code",
   "execution_count": 3,
   "id": "6a39e29d-d156-4a53-bdc2-4ae79fec3590",
   "metadata": {},
   "outputs": [],
   "source": [
    "df = load_meta()\n",
    "df = df.loc[~df['sample'].str.contains('_')]\n",
    "df['lab_sample'] = df['lab_number_sample'].astype(str)+'_'+\\\n",
    "                      df['lab_sampleid'].astype(str)+'_'+\\\n",
    "                      df['cell_line_id'].astype(str)\n",
    "df.columns\n",
    "df = df[['cell_line_id', 'sample', 'hapmap_DNA_ID',\n",
    "          'map_reads_assemblymap','lab_sample', 'population']].drop_duplicates()\n",
    "\n",
    "temp_df = pd.read_csv('../snakemake/transcript_discovery_personal/cell_line_ids.txt', header=None, names=['cell_line_id'])\n",
    "\n",
    "# make a 1000g cell line id col\n",
    "df['cell_line_id_1000g'] = df.cell_line_id\n",
    "\n",
    "inds = df.loc[~df.cell_line_id_1000g.isin(temp_df.cell_line_id.tolist())].index\n",
    "df.loc[inds, 'cell_line_id_1000g'] = df.loc[inds, 'hapmap_DNA_ID']\n",
    "len(df.index)\n",
    "\n",
    "# limit to just those in 1000g\n",
    "df = df.loc[df.cell_line_id_1000g.isin(temp_df.cell_line_id.tolist())]\n",
    "assert len(df.index) == 30\n",
    "\n",
    "# TODO bad sample that hasn't finished on espresso\n",
    "# bad_samples = ['NA19328']\n",
    "# df = df.loc[~df.cell_line_id_1000g.isin(bad_samples)]\n",
    "\n",
    "hap = ['hap1', 'hap2']\n",
    "\n",
    "meta_df = df.copy(deep=True)"
   ]
  },
  {
   "cell_type": "markdown",
   "id": "ce815ebe-0b3c-432a-bedf-ac9501e4e1b1",
   "metadata": {},
   "source": [
    "## ICs w/ novel splicing"
   ]
  },
  {
   "cell_type": "code",
   "execution_count": 10,
   "id": "8c8b2e88-e752-486b-92a1-f3de9a397040",
   "metadata": {},
   "outputs": [
    {
     "name": "stdout",
     "output_type": "stream",
     "text": [
      "12993951\n",
      "4280955\n"
     ]
    }
   ],
   "source": [
    "file = proc_cfg(config['lr']['td_personal']['cerb']['ic_summary'],od)\n",
    "df = pd.read_csv(file)\n",
    "df.drop('Unnamed: 0', axis=1, inplace=True)\n",
    "df['detected'] = True\n",
    "\n",
    "# 1.5 only novel ics and count per cell line\n",
    "print(len(df.index))\n",
    "temp = df.loc[(df.structural_category!='full-splice_match')&\\\n",
    "              (df.structural_category!='incomplete-splice_match')]\n",
    "print(len(temp.index))\n",
    "\n",
    "# get only the detection from mapping\n",
    "temp = temp[['ic_id', 'cell_line_id', 'map_genome', 'detected']]\n",
    "temp = temp.drop_duplicates()\n",
    "temp = temp.pivot(index=['ic_id', 'cell_line_id'], \n",
    "                columns=['map_genome'],\n",
    "                values=['detected'])\n",
    "\n",
    "# flatten\n",
    "temp.columns = temp.columns.get_level_values(1)\n",
    "temp.columns.name = None\n",
    "\n",
    "# reset index to make it a flat DataFrame\n",
    "temp = temp.reset_index()\n",
    "\n",
    "# fill missing values with False\n",
    "temp = temp.fillna(False)"
   ]
  },
  {
   "cell_type": "code",
   "execution_count": 11,
   "id": "8724d521-ce66-4873-9830-71665ff92624",
   "metadata": {},
   "outputs": [],
   "source": [
    "cell_line_ids = temp.cell_line_id.unique().tolist()"
   ]
  },
  {
   "cell_type": "code",
   "execution_count": 28,
   "id": "d57fa3c7-016e-4189-9831-d474906fa1bf",
   "metadata": {},
   "outputs": [
    {
     "data": {
      "text/plain": [
       "103547"
      ]
     },
     "execution_count": 28,
     "metadata": {},
     "output_type": "execute_result"
    }
   ],
   "source": [
    "len(temp.ic_id.unique())"
   ]
  },
  {
   "cell_type": "code",
   "execution_count": 37,
   "id": "0575d5d9-2afc-4906-91a8-6db2ea6a99ec",
   "metadata": {},
   "outputs": [],
   "source": [
    "import itertools\n",
    "\n",
    "big_df = pd.DataFrame()\n",
    "# each group of 28\n",
    "combinations = list(itertools.combinations(cell_line_ids, 28))\n",
    "for i, comb in enumerate(combinations[:5]):\n",
    "    \n",
    "    # how many ICs do we detect w/ hg38 for these?\n",
    "    ic_hg38 = temp.loc[(temp.cell_line_id.isin(comb))&\\\n",
    "                              (temp.hg38==True)].ic_id.unique()\n",
    "    n_ic_hg38 = len(ic_hg38)\n",
    "    \n",
    "    # how many ICs do we detect w/ pers. haps for these?\n",
    "    ic_pers = temp.loc[(temp.cell_line_id.isin(comb))&\\\n",
    "                          ((temp.hap1+temp.hap2)>0)].ic_id.unique()\n",
    "    n_ic_pers = len(ic_pers)\n",
    "    \n",
    "    \n",
    "    # addition of things\n",
    "    missing_ids = list(set(cell_line_ids)-set(comb))    \n",
    "    # how many ics would we get by adding 2 rna-seq samples \n",
    "    # (ie hg38 samples, both missing)\n",
    "    ics_rna_seq = temp.loc[(temp.cell_line_id.isin(missing_ids))&\\\n",
    "                          (temp.hg38==True)].ic_id.unique()\n",
    "    n_ics_rna_seq_hg38 = len(list(set(ics_rna_seq)-set(ic_hg38)))\n",
    "    n_ics_rna_seq_pers = len(list(set(ics_rna_seq)-set(ic_pers)))\n",
    "    \n",
    "    # how many ics would we get by adding 1 rna-seq sample\n",
    "    # w/ personalized haplotype?\n",
    "    # (ie hap1/hap2 samples, 1 missing sample at a time)\n",
    "    for j, missing_cell_line_id in enumerate(missing_ids):\n",
    "        # how many ics would we get by adding 2 rna-seq samples \n",
    "        ics_rna_wgs_seq = temp.loc[(temp.cell_line_id==missing_cell_line_id)&\\\n",
    "                              (temp.hg38==True)].ic_id.unique()\n",
    "        n_ics_rna_wgs_seq_hg38 = len(list(set(ics_rna_wgs_seq)-set(ic_hg38)))\n",
    "        n_ics_rna_wgs_seq_pers = len(list(set(ics_rna_wgs_seq)-set(ic_pers)))\n",
    "        \n",
    "        \n",
    "        data = [[i, j, n_ic_hg38, n_ic_pers,\n",
    "                n_ics_rna_seq_hg38, n_ics_rna_seq_pers,\n",
    "                n_ics_rna_wgs_seq_hg38, n_ics_rna_wgs_seq_pers]]\n",
    "        cols = ['iter_28_samples', 'iter_missing_samples', 'n_ic_hg38', 'n_ic_pers',\n",
    "                'n_ics_rna_seq_hg38', 'n_ics_rna_seq_pers',\n",
    "                'n_ics_rna_wgs_seq_hg38', 'n_ics_rna_wgs_seq_pers']\n",
    "        temp3 = pd.DataFrame(data=data, columns=cols)\n",
    "        big_df = pd.concat([temp3, big_df], axis=0)"
   ]
  },
  {
   "cell_type": "code",
   "execution_count": 47,
   "id": "e42fb5f4-7f7c-45bf-90aa-0a9708af6fd2",
   "metadata": {},
   "outputs": [],
   "source": [
    "# big_df.to_csv('250305_28_sample_experiment.tsv', sep='\\t') # this one was saved w/ all 434 combinations"
   ]
  },
  {
   "cell_type": "code",
   "execution_count": 33,
   "id": "1a187b51-1b2f-4da5-8fdb-3e2e3fb91f57",
   "metadata": {},
   "outputs": [
    {
     "data": {
      "text/plain": [
       "95997"
      ]
     },
     "execution_count": 33,
     "metadata": {},
     "output_type": "execute_result"
    }
   ],
   "source": [
    "len(temp.loc[(temp.cell_line_id.isin(comb))&\\\n",
    "          (temp.hg38==True)].ic_id.unique())"
   ]
  },
  {
   "cell_type": "code",
   "execution_count": 41,
   "id": "651bb1df-19e3-49a5-aea4-064917162e5b",
   "metadata": {},
   "outputs": [],
   "source": [
    "temp = big_df.drop(['iter_missing_samples', 'n_ics_rna_wgs_seq_hg38', 'n_ics_rna_wgs_seq_pers'], axis=1).drop_duplicates()"
   ]
  },
  {
   "cell_type": "code",
   "execution_count": 42,
   "id": "7f0a2518-6a55-4f95-b210-cc634505b2f2",
   "metadata": {},
   "outputs": [
    {
     "data": {
      "text/plain": [
       "870"
      ]
     },
     "execution_count": 42,
     "metadata": {},
     "output_type": "execute_result"
    }
   ],
   "source": [
    "len(big_df.index)"
   ]
  },
  {
   "cell_type": "code",
   "execution_count": 43,
   "id": "f3e86492-bc1d-4cfc-ba00-6620ad6fe1bc",
   "metadata": {},
   "outputs": [
    {
     "data": {
      "text/plain": [
       "435"
      ]
     },
     "execution_count": 43,
     "metadata": {},
     "output_type": "execute_result"
    }
   ],
   "source": [
    "len(temp.index)"
   ]
  },
  {
   "cell_type": "code",
   "execution_count": 46,
   "id": "4d22d371-c4e1-4dfd-a2e4-9f38591f3ca8",
   "metadata": {},
   "outputs": [
    {
     "data": {
      "text/plain": [
       "<seaborn.axisgrid.FacetGrid at 0x7f9cbd5ab310>"
      ]
     },
     "execution_count": 46,
     "metadata": {},
     "output_type": "execute_result"
    },
    {
     "data": {
      "image/png": "[encoded data removed]",
      "text/plain": [
       "<Figure size 360x360 with 1 Axes>"
      ]
     },
     "metadata": {
      "needs_background": "light"
     },
     "output_type": "display_data"
    }
   ],
   "source": [
    "sns.displot(temp, kind='hist', x='n_ics_rna_seq_hg38')"
   ]
  },
  {
   "cell_type": "code",
   "execution_count": null,
   "id": "10dfcaf5-6d3d-4fd7-b875-536ffa8271c4",
   "metadata": {},
   "outputs": [],
   "source": [
    "# debugging"
   ]
  }
 ],
 "metadata": {
  "kernelspec": {
   "display_name": "Python 3",
   "language": "python",
   "name": "python3"
  },
  "language_info": {
   "codemirror_mode": {
    "name": "ipython",
    "version": 3
   },
   "file_extension": ".py",
   "mimetype": "text/x-python",
   "name": "python",
   "nbconvert_exporter": "python",
   "pygments_lexer": "ipython3",
   "version": "3.7.12"
  }
 },
 "nbformat": 4,
 "nbformat_minor": 5
}
