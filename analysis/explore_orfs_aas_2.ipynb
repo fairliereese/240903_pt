{
 "cells": [
  {
   "cell_type": "code",
   "execution_count": 8,
   "id": "07118ba9-e23f-44ac-96bf-fa9d5e1d8d08",
   "metadata": {},
   "outputs": [],
   "source": [
    "import pandas as pd\n",
    "import numpy as np\n",
    "import scipy.stats as st\n",
    "import seaborn as sns\n",
    "import sys\n",
    "import os\n",
    "import matplotlib.pyplot as plt\n",
    "import swan_vis as swan\n",
    "import yaml\n",
    "from snakemake.io import expand\n",
    "import cerberus\n",
    "import pyranges as pr\n",
    "from pyfaidx import Fasta\n",
    "import upsetplot\n",
    "from pandarallel import pandarallel\n",
    "\n",
    "p = os.path.dirname(os.getcwd())\n",
    "sys.path.append(p)\n",
    "\n",
    "from scripts.utils import *\n",
    "from scripts.vcf_utils import *\n",
    "from scripts.plotting import *"
   ]
  },
  {
   "cell_type": "code",
   "execution_count": 2,
   "id": "acc383d0-2487-4a6c-aa49-652f89a8340c",
   "metadata": {},
   "outputs": [],
   "source": [
    "config = load_config()\n",
    "od = '../'\n",
    "\n",
    "def proc_cfg(entry, od):\n",
    "    entry = entry.replace('../../', '')\n",
    "    entry = od+entry\n",
    "    return entry"
   ]
  },
  {
   "cell_type": "code",
   "execution_count": 3,
   "id": "b1869713-f99c-4f44-ae2c-813c58f829c1",
   "metadata": {},
   "outputs": [],
   "source": [
    "mt_df = pd.read_csv('../data/05_mastertable/poder_master_table_fixed_genics.tsv', sep='\\t')\n",
    "# mt_df = mt_df.loc[mt_df['filter']=='pass']\n",
    "mt_df['pop_spec_t'] = (mt_df.population_sharing==1)&\\\n",
    "                      (mt_df.sample_sharing>1)"
   ]
  },
  {
   "cell_type": "code",
   "execution_count": 4,
   "id": "3ed19993-38b6-487f-a10c-cdea6aa8c6cc",
   "metadata": {},
   "outputs": [],
   "source": [
    "p_df = pd.read_csv(proc_cfg(config['lr']['poder_protein']['protein']['summary'], od), sep='\\t')\n",
    "p_df = p_df.merge(mt_df[['associated_gene_biotype',\n",
    "                         'structural_category', \n",
    "                         'associated_transcript',\n",
    "                         'isoform',\n",
    "                         'associated_gene',\n",
    "                         'length']],\n",
    "                  how='left',\n",
    "                  left_on='tid', \n",
    "                  right_on='isoform')\n",
    "p_df.rename({'associated_gene':'gid',\n",
    "             'protein_sequence':'seq'}, axis=1, inplace=True)\n",
    "assert len(p_df.loc[p_df.isoform.isnull()]) == 0"
   ]
  },
  {
   "cell_type": "markdown",
   "id": "ee47b119-b187-4205-8ac2-d36b2e570c68",
   "metadata": {},
   "source": [
    "## First, need to filter"
   ]
  },
  {
   "cell_type": "code",
   "execution_count": 5,
   "id": "d7d1a7b9-4c4b-439f-b12a-455e2016a5d8",
   "metadata": {},
   "outputs": [
    {
     "name": "stdout",
     "output_type": "stream",
     "text": [
      "86306\n"
     ]
    }
   ],
   "source": [
    "# remove NMD things\n",
    "p_df = p_df.loc[p_df.protein_is_nmd == False]\n",
    "\n",
    "# keep only things w/ full ORFs\n",
    "p_df = p_df.loc[(p_df.protein_has_start_codon==True)&\\\n",
    "                (p_df.protein_has_stop_codon==True)]\n",
    "\n",
    "# keep only things from annotated protein coding genes\n",
    "p_df = p_df.loc[p_df.associated_gene_biotype=='Protein Coding']\n",
    "\n",
    "# length minimum?? maybe not\n",
    "print(len(p_df.index))"
   ]
  },
  {
   "cell_type": "markdown",
   "id": "d646222d-270f-48f5-96be-806c0722db3a",
   "metadata": {},
   "source": [
    "## Merge reference AA sequences on gid + sequence"
   ]
  },
  {
   "cell_type": "code",
   "execution_count": 6,
   "id": "66a3635f-24a4-4ba0-9dbb-0ed9815168a1",
   "metadata": {},
   "outputs": [
    {
     "name": "stdout",
     "output_type": "stream",
     "text": [
      "86306\n",
      "86306\n"
     ]
    },
    {
     "data": {
      "text/html": [
       "<div>\n",
       "<style scoped>\n",
       "    .dataframe tbody tr th:only-of-type {\n",
       "        vertical-align: middle;\n",
       "    }\n",
       "\n",
       "    .dataframe tbody tr th {\n",
       "        vertical-align: top;\n",
       "    }\n",
       "\n",
       "    .dataframe thead th {\n",
       "        text-align: right;\n",
       "    }\n",
       "</style>\n",
       "<table border=\"1\" class=\"dataframe\">\n",
       "  <thead>\n",
       "    <tr style=\"text-align: right;\">\n",
       "      <th></th>\n",
       "      <th>Chromosome</th>\n",
       "      <th>Start</th>\n",
       "      <th>Stop</th>\n",
       "      <th>Strand</th>\n",
       "      <th>Source</th>\n",
       "      <th>CDS_Source</th>\n",
       "      <th>CDS_Start</th>\n",
       "      <th>CDS_Stop</th>\n",
       "      <th>tid</th>\n",
       "      <th>pid</th>\n",
       "      <th>...</th>\n",
       "      <th>protein_has_stop_codon</th>\n",
       "      <th>protein_has_start_codon</th>\n",
       "      <th>seq</th>\n",
       "      <th>associated_gene_biotype</th>\n",
       "      <th>structural_category</th>\n",
       "      <th>associated_transcript</th>\n",
       "      <th>isoform</th>\n",
       "      <th>gid</th>\n",
       "      <th>length</th>\n",
       "      <th>annot_aa</th>\n",
       "    </tr>\n",
       "  </thead>\n",
       "  <tbody>\n",
       "    <tr>\n",
       "      <th>0</th>\n",
       "      <td>chr12</td>\n",
       "      <td>4590319</td>\n",
       "      <td>4613888</td>\n",
       "      <td>+</td>\n",
       "      <td>ENSEMBL</td>\n",
       "      <td>ORFanage</td>\n",
       "      <td>4591180</td>\n",
       "      <td>4613750</td>\n",
       "      <td>ENST00000010132.6</td>\n",
       "      <td>ENSP00000010132.5</td>\n",
       "      <td>...</td>\n",
       "      <td>True</td>\n",
       "      <td>True</td>\n",
       "      <td>MPASELKASEIPFHPSIKTQDPKAEEKSPKKQKVTLTAAEALKLFK...</td>\n",
       "      <td>Protein Coding</td>\n",
       "      <td>FSM</td>\n",
       "      <td>ENST00000010132.6</td>\n",
       "      <td>ENST00000010132.6</td>\n",
       "      <td>ENSG00000010219.14</td>\n",
       "      <td>1840</td>\n",
       "      <td>True</td>\n",
       "    </tr>\n",
       "    <tr>\n",
       "      <th>1</th>\n",
       "      <td>chr12</td>\n",
       "      <td>7919229</td>\n",
       "      <td>7936187</td>\n",
       "      <td>-</td>\n",
       "      <td>HAVANA</td>\n",
       "      <td>ORFanage</td>\n",
       "      <td>7921415</td>\n",
       "      <td>7936034</td>\n",
       "      <td>ENST00000075120.12</td>\n",
       "      <td>ENSP00000516774.1</td>\n",
       "      <td>...</td>\n",
       "      <td>True</td>\n",
       "      <td>True</td>\n",
       "      <td>MGTQKVTPALIFAITVATIGSFQFGYNTGVINAPEKIIKEFINKTL...</td>\n",
       "      <td>Protein Coding</td>\n",
       "      <td>FSM</td>\n",
       "      <td>ENST00000075120.12</td>\n",
       "      <td>ENST00000075120.12</td>\n",
       "      <td>ENSG00000059804.18</td>\n",
       "      <td>3827</td>\n",
       "      <td>True</td>\n",
       "    </tr>\n",
       "    <tr>\n",
       "      <th>2</th>\n",
       "      <td>chrY</td>\n",
       "      <td>2935380</td>\n",
       "      <td>2982506</td>\n",
       "      <td>+</td>\n",
       "      <td>HAVANA</td>\n",
       "      <td>ORFanage</td>\n",
       "      <td>2953936</td>\n",
       "      <td>2979990</td>\n",
       "      <td>ENST00000155093.8</td>\n",
       "      <td>ENSP00000155093.3</td>\n",
       "      <td>...</td>\n",
       "      <td>True</td>\n",
       "      <td>True</td>\n",
       "      <td>MDEDEFELQPQEPNSFFDGIGADATHMDGDQIVVEIQEAVFVSNIV...</td>\n",
       "      <td>Protein Coding</td>\n",
       "      <td>FSM</td>\n",
       "      <td>ENST00000155093.8</td>\n",
       "      <td>ENST00000155093.8</td>\n",
       "      <td>ENSG00000067646.12</td>\n",
       "      <td>5336</td>\n",
       "      <td>True</td>\n",
       "    </tr>\n",
       "    <tr>\n",
       "      <th>3</th>\n",
       "      <td>chrX</td>\n",
       "      <td>48922210</td>\n",
       "      <td>48957631</td>\n",
       "      <td>-</td>\n",
       "      <td>HAVANA</td>\n",
       "      <td>ORFanage</td>\n",
       "      <td>48923176</td>\n",
       "      <td>48957570</td>\n",
       "      <td>ENST00000156084.8</td>\n",
       "      <td>ENSP00000156084.4</td>\n",
       "      <td>...</td>\n",
       "      <td>True</td>\n",
       "      <td>True</td>\n",
       "      <td>MTILPKKKPPPPDADPANEPPPPGPMPPAPRRGGGVGVGGGGTGVG...</td>\n",
       "      <td>Protein Coding</td>\n",
       "      <td>FSM</td>\n",
       "      <td>ENST00000156084.8</td>\n",
       "      <td>ENST00000156084.8</td>\n",
       "      <td>ENSG00000068308.15</td>\n",
       "      <td>2740</td>\n",
       "      <td>True</td>\n",
       "    </tr>\n",
       "    <tr>\n",
       "      <th>4</th>\n",
       "      <td>chr6</td>\n",
       "      <td>155395367</td>\n",
       "      <td>155455839</td>\n",
       "      <td>-</td>\n",
       "      <td>HAVANA</td>\n",
       "      <td>ORFanage</td>\n",
       "      <td>155396838</td>\n",
       "      <td>155455800</td>\n",
       "      <td>ENST00000159060.3</td>\n",
       "      <td>ENSP00000159060.2</td>\n",
       "      <td>...</td>\n",
       "      <td>True</td>\n",
       "      <td>True</td>\n",
       "      <td>MMGCWILNEGLSTILVLSWLGINFYLFIDTFYWYEEEESFHYTRVI...</td>\n",
       "      <td>Protein Coding</td>\n",
       "      <td>FSM</td>\n",
       "      <td>ENST00000159060.3</td>\n",
       "      <td>ENST00000159060.3</td>\n",
       "      <td>ENSG00000074771.4</td>\n",
       "      <td>1980</td>\n",
       "      <td>True</td>\n",
       "    </tr>\n",
       "  </tbody>\n",
       "</table>\n",
       "<p>5 rows × 28 columns</p>\n",
       "</div>"
      ],
      "text/plain": [
       "  Chromosome      Start       Stop Strand   Source CDS_Source  CDS_Start  \\\n",
       "0      chr12    4590319    4613888      +  ENSEMBL   ORFanage    4591180   \n",
       "1      chr12    7919229    7936187      -   HAVANA   ORFanage    7921415   \n",
       "2       chrY    2935380    2982506      +   HAVANA   ORFanage    2953936   \n",
       "3       chrX   48922210   48957631      -   HAVANA   ORFanage   48923176   \n",
       "4       chr6  155395367  155455839      -   HAVANA   ORFanage  155396838   \n",
       "\n",
       "    CDS_Stop                 tid                pid  ...  \\\n",
       "0    4613750   ENST00000010132.6  ENSP00000010132.5  ...   \n",
       "1    7936034  ENST00000075120.12  ENSP00000516774.1  ...   \n",
       "2    2979990   ENST00000155093.8  ENSP00000155093.3  ...   \n",
       "3   48957570   ENST00000156084.8  ENSP00000156084.4  ...   \n",
       "4  155455800   ENST00000159060.3  ENSP00000159060.2  ...   \n",
       "\n",
       "   protein_has_stop_codon  protein_has_start_codon  \\\n",
       "0                    True                     True   \n",
       "1                    True                     True   \n",
       "2                    True                     True   \n",
       "3                    True                     True   \n",
       "4                    True                     True   \n",
       "\n",
       "                                                 seq  associated_gene_biotype  \\\n",
       "0  MPASELKASEIPFHPSIKTQDPKAEEKSPKKQKVTLTAAEALKLFK...           Protein Coding   \n",
       "1  MGTQKVTPALIFAITVATIGSFQFGYNTGVINAPEKIIKEFINKTL...           Protein Coding   \n",
       "2  MDEDEFELQPQEPNSFFDGIGADATHMDGDQIVVEIQEAVFVSNIV...           Protein Coding   \n",
       "3  MTILPKKKPPPPDADPANEPPPPGPMPPAPRRGGGVGVGGGGTGVG...           Protein Coding   \n",
       "4  MMGCWILNEGLSTILVLSWLGINFYLFIDTFYWYEEEESFHYTRVI...           Protein Coding   \n",
       "\n",
       "   structural_category  associated_transcript             isoform  \\\n",
       "0                  FSM      ENST00000010132.6   ENST00000010132.6   \n",
       "1                  FSM     ENST00000075120.12  ENST00000075120.12   \n",
       "2                  FSM      ENST00000155093.8   ENST00000155093.8   \n",
       "3                  FSM      ENST00000156084.8   ENST00000156084.8   \n",
       "4                  FSM      ENST00000159060.3   ENST00000159060.3   \n",
       "\n",
       "                  gid  length  annot_aa  \n",
       "0  ENSG00000010219.14    1840      True  \n",
       "1  ENSG00000059804.18    3827      True  \n",
       "2  ENSG00000067646.12    5336      True  \n",
       "3  ENSG00000068308.15    2740      True  \n",
       "4   ENSG00000074771.4    1980      True  \n",
       "\n",
       "[5 rows x 28 columns]"
      ]
     },
     "execution_count": 6,
     "metadata": {},
     "output_type": "execute_result"
    }
   ],
   "source": [
    "# get annotated AA sequencesa\n",
    "fasta_file = proc_cfg(config['ref']['pc'], od)\n",
    "fasta = Fasta(fasta_file)\n",
    "\n",
    "# Extract each entry's name and sequence\n",
    "ref_orfs = {\n",
    "    \"name\": [entry.name for entry in fasta],\n",
    "    \"seq\": [str(entry) for entry in fasta]\n",
    "}\n",
    "\n",
    "ref_orfs = pd.DataFrame(ref_orfs)\n",
    "ref_orfs['gid'] =  ref_orfs.name.str.split('|', expand=True)[2]\n",
    "ref_orfs = ref_orfs[['seq', 'gid']]\n",
    "ref_orfs['annot_aa'] = True\n",
    "ref_orfs.drop_duplicates(inplace=True)\n",
    "\n",
    "# just going to call novel aas as those that are not in the \n",
    "# pc translations gencode file\n",
    "print(len(p_df))\n",
    "p_df = p_df.merge(ref_orfs, how='left', on=['gid', 'seq'])\n",
    "print(len(p_df))\n",
    "p_df['annot_aa'] = p_df['annot_aa'].fillna(False)\n",
    "p_df.head()"
   ]
  },
  {
   "cell_type": "code",
   "execution_count": 45,
   "id": "2e5fab36-5863-46a4-b6c3-bfa0ee8ad3d4",
   "metadata": {},
   "outputs": [
    {
     "data": {
      "text/html": [
       "<div>\n",
       "<style scoped>\n",
       "    .dataframe tbody tr th:only-of-type {\n",
       "        vertical-align: middle;\n",
       "    }\n",
       "\n",
       "    .dataframe tbody tr th {\n",
       "        vertical-align: top;\n",
       "    }\n",
       "\n",
       "    .dataframe thead th {\n",
       "        text-align: right;\n",
       "    }\n",
       "</style>\n",
       "<table border=\"1\" class=\"dataframe\">\n",
       "  <thead>\n",
       "    <tr style=\"text-align: right;\">\n",
       "      <th></th>\n",
       "      <th></th>\n",
       "      <th>isoform</th>\n",
       "    </tr>\n",
       "    <tr>\n",
       "      <th>annot_aa</th>\n",
       "      <th>structural_category</th>\n",
       "      <th></th>\n",
       "    </tr>\n",
       "  </thead>\n",
       "  <tbody>\n",
       "    <tr>\n",
       "      <th rowspan=\"3\" valign=\"top\">False</th>\n",
       "      <th>FSM</th>\n",
       "      <td>23236</td>\n",
       "    </tr>\n",
       "    <tr>\n",
       "      <th>NIC</th>\n",
       "      <td>10369</td>\n",
       "    </tr>\n",
       "    <tr>\n",
       "      <th>NNC</th>\n",
       "      <td>12302</td>\n",
       "    </tr>\n",
       "    <tr>\n",
       "      <th rowspan=\"3\" valign=\"top\">True</th>\n",
       "      <th>FSM</th>\n",
       "      <td>34936</td>\n",
       "    </tr>\n",
       "    <tr>\n",
       "      <th>NIC</th>\n",
       "      <td>2647</td>\n",
       "    </tr>\n",
       "    <tr>\n",
       "      <th>NNC</th>\n",
       "      <td>2816</td>\n",
       "    </tr>\n",
       "  </tbody>\n",
       "</table>\n",
       "</div>"
      ],
      "text/plain": [
       "                              isoform\n",
       "annot_aa structural_category         \n",
       "False    FSM                    23236\n",
       "         NIC                    10369\n",
       "         NNC                    12302\n",
       "True     FSM                    34936\n",
       "         NIC                     2647\n",
       "         NNC                     2816"
      ]
     },
     "execution_count": 45,
     "metadata": {},
     "output_type": "execute_result"
    }
   ],
   "source": [
    "p_df[['isoform', 'annot_aa', 'structural_category']].groupby(['annot_aa', 'structural_category']).nunique()"
   ]
  },
  {
   "cell_type": "markdown",
   "id": "1f471b56-3e90-4d8d-af36-24ff82c6a77c",
   "metadata": {},
   "source": [
    "## Get our own protein sequence novelty categories\n",
    "1. exact AA match\n",
    "2. truncated AA match\n",
    "3. novel, non-truncation AA seq"
   ]
  },
  {
   "cell_type": "code",
   "execution_count": 30,
   "id": "f5865ead-0227-4494-9efe-1607b973356c",
   "metadata": {},
   "outputs": [],
   "source": [
    "# 2. truncated AA match\n",
    "def get_aa_seq_truncations(x, ref_orfs):\n",
    "    # limit to just references from same gene\n",
    "    temp = ref_orfs.loc[ref_orfs.gid == x.gid]\n",
    "    for ind, entry in temp.iterrows():\n",
    "        if x.seq in entry.seq:\n",
    "            return True\n",
    "    return False\n",
    "\n",
    "p_df['trunc_annot_aa'] = p_df.apply(lambda x: get_aa_seq_truncations(x, ref_orfs), axis=1)\n",
    "\n",
    "\n",
    "# smol_p_df = p_df.loc[p_df.annot_aa==False].head(20)\n",
    "# smol_p_df['trunc_annot_aa'] = smol_p_df.apply(lambda x: get_aa_seq_truncations(x, ref_orfs), axis=1)\n",
    "# pandarallel.initialize(nb_workers=8, verbose=1)\n",
    "# p_df = p_df.parallel_apply(get_aa_seq_truncations, args=(ref_orfs), axis=1, progress_bar=False)"
   ]
  },
  {
   "cell_type": "code",
   "execution_count": 27,
   "id": "3dc898d3-aec8-483a-9ad1-69c125825edc",
   "metadata": {},
   "outputs": [],
   "source": [
    "# seq = smol_p_df.loc[smol_p_df.trunc_annot_aa==True].head(1).seq.tolist()[0]\n",
    "# gid = smol_p_df.loc[smol_p_df.trunc_annot_aa==True].head(1).gid.tolist()[0]\n",
    "# temp_ref_orfs = ref_orfs.loc[ref_orfs.gid==gid, 'seq'].tolist()"
   ]
  },
  {
   "cell_type": "code",
   "execution_count": 31,
   "id": "a4869632-556b-4a10-80b7-1fa8b9994479",
   "metadata": {},
   "outputs": [],
   "source": [
    "# 3. the rest are non-matching"
   ]
  },
  {
   "cell_type": "code",
   "execution_count": 32,
   "id": "f9406c26-ee70-4a61-85ee-38898b607587",
   "metadata": {},
   "outputs": [],
   "source": [
    "p_df.to_csv('orf_thing.tsv', sep='\\t')"
   ]
  },
  {
   "cell_type": "code",
   "execution_count": 34,
   "id": "fd0d0cb6-3fbe-4075-b273-86d05655cd14",
   "metadata": {},
   "outputs": [],
   "source": [
    "p_df['aa_seq_novelty'] = 'Novel'\n",
    "p_df.loc[(p_df.annot_aa==True), 'aa_seq_novelty'] = 'Known'\n",
    "p_df.loc[(p_df.annot_aa==False)&\\\n",
    "         (p_df.trunc_annot_aa==True), 'aa_seq_novelty'] = 'Truncation'"
   ]
  },
  {
   "cell_type": "code",
   "execution_count": 41,
   "id": "16d1d2a7-7a38-498b-ab25-ac79e3789607",
   "metadata": {},
   "outputs": [
    {
     "data": {
      "text/html": [
       "<div>\n",
       "<style scoped>\n",
       "    .dataframe tbody tr th:only-of-type {\n",
       "        vertical-align: middle;\n",
       "    }\n",
       "\n",
       "    .dataframe tbody tr th {\n",
       "        vertical-align: top;\n",
       "    }\n",
       "\n",
       "    .dataframe thead th {\n",
       "        text-align: right;\n",
       "    }\n",
       "</style>\n",
       "<table border=\"1\" class=\"dataframe\">\n",
       "  <thead>\n",
       "    <tr style=\"text-align: right;\">\n",
       "      <th></th>\n",
       "      <th>aa_seq_novelty</th>\n",
       "      <th>structural_category</th>\n",
       "      <th>n_t</th>\n",
       "    </tr>\n",
       "  </thead>\n",
       "  <tbody>\n",
       "    <tr>\n",
       "      <th>0</th>\n",
       "      <td>Known</td>\n",
       "      <td>FSM</td>\n",
       "      <td>34936</td>\n",
       "    </tr>\n",
       "    <tr>\n",
       "      <th>1</th>\n",
       "      <td>Known</td>\n",
       "      <td>NIC</td>\n",
       "      <td>2647</td>\n",
       "    </tr>\n",
       "    <tr>\n",
       "      <th>2</th>\n",
       "      <td>Known</td>\n",
       "      <td>NNC</td>\n",
       "      <td>2816</td>\n",
       "    </tr>\n",
       "    <tr>\n",
       "      <th>3</th>\n",
       "      <td>Novel</td>\n",
       "      <td>FSM</td>\n",
       "      <td>14148</td>\n",
       "    </tr>\n",
       "    <tr>\n",
       "      <th>4</th>\n",
       "      <td>Novel</td>\n",
       "      <td>NIC</td>\n",
       "      <td>7325</td>\n",
       "    </tr>\n",
       "    <tr>\n",
       "      <th>5</th>\n",
       "      <td>Novel</td>\n",
       "      <td>NNC</td>\n",
       "      <td>9869</td>\n",
       "    </tr>\n",
       "    <tr>\n",
       "      <th>6</th>\n",
       "      <td>Truncation</td>\n",
       "      <td>FSM</td>\n",
       "      <td>9088</td>\n",
       "    </tr>\n",
       "    <tr>\n",
       "      <th>7</th>\n",
       "      <td>Truncation</td>\n",
       "      <td>NIC</td>\n",
       "      <td>3044</td>\n",
       "    </tr>\n",
       "    <tr>\n",
       "      <th>8</th>\n",
       "      <td>Truncation</td>\n",
       "      <td>NNC</td>\n",
       "      <td>2433</td>\n",
       "    </tr>\n",
       "  </tbody>\n",
       "</table>\n",
       "</div>"
      ],
      "text/plain": [
       "  aa_seq_novelty structural_category    n_t\n",
       "0          Known                 FSM  34936\n",
       "1          Known                 NIC   2647\n",
       "2          Known                 NNC   2816\n",
       "3          Novel                 FSM  14148\n",
       "4          Novel                 NIC   7325\n",
       "5          Novel                 NNC   9869\n",
       "6     Truncation                 FSM   9088\n",
       "7     Truncation                 NIC   3044\n",
       "8     Truncation                 NNC   2433"
      ]
     },
     "execution_count": 41,
     "metadata": {},
     "output_type": "execute_result"
    }
   ],
   "source": [
    "temp = p_df[['isoform', 'aa_seq_novelty', 'structural_category']].groupby(['aa_seq_novelty', 'structural_category']).nunique().rename({'isoform':'n_t'}, axis=1)\n",
    "temp = temp.reset_index()\n",
    "temp"
   ]
  },
  {
   "cell_type": "code",
   "execution_count": 42,
   "id": "d2fe311e-b881-49f3-bbde-59b8cb6e6228",
   "metadata": {},
   "outputs": [
    {
     "data": {
      "text/plain": [
       "<AxesSubplot:xlabel='structural_category', ylabel='n_t'>"
      ]
     },
     "execution_count": 42,
     "metadata": {},
     "output_type": "execute_result"
    },
    {
     "data": {
      "image/png": "[encoded data removed]",
      "text/plain": [
       "<Figure size 432x288 with 1 Axes>"
      ]
     },
     "metadata": {
      "needs_background": "light"
     },
     "output_type": "display_data"
    }
   ],
   "source": [
    "sns.barplot(temp, x='structural_category', hue='aa_seq_novelty', y='n_t')"
   ]
  },
  {
   "cell_type": "code",
   "execution_count": 43,
   "id": "bbcc07f2-06b5-4244-b022-132a6e4c2dda",
   "metadata": {},
   "outputs": [],
   "source": [
    "# what about by % from each category\n",
    "temp2 = p_df[['isoform', 'structural_category']].groupby('structural_category').nunique().rename({'isoform':'n_total_t'}, axis=1).reset_index()\n",
    "temp = temp.merge(temp2, how='left', on='structural_category')\n",
    "temp['perc'] = (temp['n_t']/temp['n_total_t'])*100"
   ]
  },
  {
   "cell_type": "code",
   "execution_count": 44,
   "id": "1cfb006b-aadd-43cd-97cf-96e2d2417295",
   "metadata": {},
   "outputs": [
    {
     "data": {
      "text/plain": [
       "<AxesSubplot:xlabel='structural_category', ylabel='perc'>"
      ]
     },
     "execution_count": 44,
     "metadata": {},
     "output_type": "execute_result"
    },
    {
     "data": {
      "image/png": "[encoded data removed]",
      "text/plain": [
       "<Figure size 432x288 with 1 Axes>"
      ]
     },
     "metadata": {
      "needs_background": "light"
     },
     "output_type": "display_data"
    }
   ],
   "source": [
    "sns.barplot(temp, x='structural_category', hue='aa_seq_novelty', y='perc')"
   ]
  },
  {
   "cell_type": "markdown",
   "id": "09d4abf0-6bba-4efd-b356-1c640bdca70f",
   "metadata": {},
   "source": [
    "## Number of unique gene+aa combos detected by population"
   ]
  },
  {
   "cell_type": "code",
   "execution_count": 59,
   "id": "d51faccd-b849-43f3-9361-4d78c3c78865",
   "metadata": {},
   "outputs": [],
   "source": [
    "p_df['aa_id'] = p_df.gid+'_'+p_df.seq\n",
    "\n",
    "meta = load_meta()\n",
    "meta = meta.loc[meta.merged_run_mode==True]\n",
    "sample_d = dict([(entry.cell_line_id, entry['sample']) \\\n",
    "                 for ind, entry in meta.iterrows()])\n",
    "samples = [s for s in meta['sample'].tolist() if s in mt_df.columns]\n",
    "\n",
    "temp = mt_df[['isoform']+samples]\n",
    "temp.rename({'isoform': 'tid'}, axis=1, inplace=True)\n",
    "temp.set_index('tid', inplace=True)\n",
    "temp = temp.melt(ignore_index=False, var_name='sample', value_name='detected')\n",
    "temp.reset_index(inplace=True)\n",
    "temp = temp.merge(meta[['sample', 'map_reads_assemblymap']], \n",
    "                  how='left',\n",
    "                  on='sample')\n",
    "\n",
    "# remove undetected things\n",
    "temp = temp.loc[temp.detected!=0]\n",
    "\n",
    "# merge in the gid_seq key and aa novelty status from p_df\n",
    "temp = temp.merge(p_df[['annot_aa', 'tid', 'aa_id', 'aa_seq_novelty']],\n",
    "                  how='inner', #limit to only the things we care about which are already in p_df\n",
    "                  on='tid')\n",
    "\n",
    "temp.drop(['detected', 'tid'], axis=1, inplace=True)\n",
    "temp = temp.groupby(['annot_aa', 'map_reads_assemblymap', 'sample', 'aa_seq_novelty']).nunique().rename({'aa_id':'n_aa'}, axis=1).reset_index()\n",
    "temp['eur_noneur'] = 'Non-European'\n",
    "temp.loc[(temp['sample'].str.startswith('AJI'))|\\\n",
    "         (temp['sample'].str.startswith('CEU')), 'eur_noneur'] = 'European'\n",
    "temp['n_aa_per_million'] = (temp.n_aa/temp.map_reads_assemblymap)*1e6\n"
   ]
  },
  {
   "cell_type": "code",
   "execution_count": 60,
   "id": "719d5a9c-b310-4c23-a809-853ccee36a39",
   "metadata": {},
   "outputs": [
    {
     "data": {
      "text/plain": [
       "<AxesSubplot:xlabel='annot_aa', ylabel='n_aa'>"
      ]
     },
     "execution_count": 60,
     "metadata": {},
     "output_type": "execute_result"
    },
    {
     "data": {
      "image/png": "[encoded data removed]",
      "text/plain": [
       "<Figure size 432x288 with 1 Axes>"
      ]
     },
     "metadata": {
      "needs_background": "light"
     },
     "output_type": "display_data"
    }
   ],
   "source": [
    "sns.violinplot(temp, y='n_aa', x='annot_aa', hue='eur_noneur')"
   ]
  },
  {
   "cell_type": "code",
   "execution_count": 61,
   "id": "ed4f678d-55cc-48f3-9264-baf167b3a892",
   "metadata": {},
   "outputs": [
    {
     "data": {
      "text/plain": [
       "<AxesSubplot:xlabel='annot_aa', ylabel='n_aa'>"
      ]
     },
     "execution_count": 61,
     "metadata": {},
     "output_type": "execute_result"
    },
    {
     "data": {
      "image/png": "[encoded data removed]",
      "text/plain": [
       "<Figure size 432x288 with 1 Axes>"
      ]
     },
     "metadata": {
      "needs_background": "light"
     },
     "output_type": "display_data"
    }
   ],
   "source": [
    "sns.boxplot(temp, y='n_aa', x='annot_aa', hue='eur_noneur')"
   ]
  },
  {
   "cell_type": "code",
   "execution_count": 62,
   "id": "de5cb2a9-f603-446b-8069-991cc102fd14",
   "metadata": {},
   "outputs": [
    {
     "name": "stdout",
     "output_type": "stream",
     "text": [
      "Two-sided Wilcoxon rank-sum test stat: -0.04858127067234718\n",
      "pval: 0.9612529961768728\n"
     ]
    }
   ],
   "source": [
    "x = temp.loc[temp.eur_noneur=='European', 'n_aa_per_million'].tolist()\n",
    "y = temp.loc[temp.eur_noneur=='Non-European', 'n_aa_per_million'].tolist()\n",
    "stat, pval = st.ranksums(x, y, alternative='two-sided')\n",
    "print(f'Two-sided Wilcoxon rank-sum test stat: {stat}')\n",
    "print(f'pval: {pval}')"
   ]
  },
  {
   "cell_type": "code",
   "execution_count": 63,
   "id": "ee6c6747-7c61-485a-9c30-499cd42c9682",
   "metadata": {},
   "outputs": [
    {
     "data": {
      "text/plain": [
       "<AxesSubplot:xlabel='aa_seq_novelty', ylabel='n_aa'>"
      ]
     },
     "execution_count": 63,
     "metadata": {},
     "output_type": "execute_result"
    },
    {
     "data": {
      "image/png": "[encoded data removed]",
      "text/plain": [
       "<Figure size 432x288 with 1 Axes>"
      ]
     },
     "metadata": {
      "needs_background": "light"
     },
     "output_type": "display_data"
    }
   ],
   "source": [
    "sns.violinplot(temp, y='n_aa', x='aa_seq_novelty', hue='eur_noneur')"
   ]
  },
  {
   "cell_type": "code",
   "execution_count": 65,
   "id": "c5421a04-26bc-4a08-b80b-b5777560bdeb",
   "metadata": {},
   "outputs": [
    {
     "name": "stdout",
     "output_type": "stream",
     "text": [
      "Novel\n",
      "Two-sided Wilcoxon rank-sum test stat: -0.6680426571226848\n",
      "pval: 0.5041063636520798\n",
      "\n",
      "Truncation\n",
      "Two-sided Wilcoxon rank-sum test stat: 0.3340213285613424\n",
      "pval: 0.7383634642235701\n",
      "\n",
      "Known\n",
      "Two-sided Wilcoxon rank-sum test stat: 0.0\n",
      "pval: 1.0\n",
      "\n"
     ]
    }
   ],
   "source": [
    "for n in temp.aa_seq_novelty.unique().tolist():\n",
    "    temp2 = temp.loc[temp.aa_seq_novelty==n].copy(deep=True)\n",
    "    x = temp2.loc[temp2.eur_noneur=='European', 'n_aa_per_million'].tolist()\n",
    "    y = temp2.loc[temp2.eur_noneur=='Non-European', 'n_aa_per_million'].tolist()\n",
    "    stat, pval = st.ranksums(x, y, alternative='two-sided')\n",
    "    print(n)\n",
    "    print(f'Two-sided Wilcoxon rank-sum test stat: {stat}')\n",
    "    print(f'pval: {pval}')\n",
    "    print()"
   ]
  },
  {
   "cell_type": "code",
   "execution_count": 66,
   "id": "ff70ce80-2024-41a0-a2bb-73d9605acfa5",
   "metadata": {},
   "outputs": [
    {
     "name": "stdout",
     "output_type": "stream",
     "text": [
      "Novel\n",
      "Two-sided Wilcoxon rank-sum test stat: -0.6680426571226848\n",
      "pval: 0.5041063636520798\n",
      "\n",
      "Known\n",
      "Two-sided Wilcoxon rank-sum test stat: 0.11877113736973437\n",
      "pval: 0.9054566758336993\n",
      "\n"
     ]
    }
   ],
   "source": [
    "# what about combining FSMs and Knowns together?\n",
    "temp['aa_seq_novelty_2'] = 'Known'\n",
    "temp.loc[temp.aa_seq_novelty=='Novel', 'aa_seq_novelty_2'] = 'Novel'\n",
    "\n",
    "for n in temp.aa_seq_novelty_2.unique().tolist():\n",
    "    temp2 = temp.loc[temp.aa_seq_novelty_2==n].copy(deep=True)\n",
    "    x = temp2.loc[temp2.eur_noneur=='European', 'n_aa_per_million'].tolist()\n",
    "    y = temp2.loc[temp2.eur_noneur=='Non-European', 'n_aa_per_million'].tolist()\n",
    "    stat, pval = st.ranksums(x, y, alternative='two-sided')\n",
    "    print(n)\n",
    "    print(f'Two-sided Wilcoxon rank-sum test stat: {stat}')\n",
    "    print(f'pval: {pval}')\n",
    "    print()"
   ]
  },
  {
   "cell_type": "code",
   "execution_count": 67,
   "id": "106cc7ee-f60e-4601-ba90-f1f7d3473392",
   "metadata": {},
   "outputs": [
    {
     "data": {
      "text/plain": [
       "<AxesSubplot:xlabel='aa_seq_novelty_2', ylabel='n_aa'>"
      ]
     },
     "execution_count": 67,
     "metadata": {},
     "output_type": "execute_result"
    },
    {
     "data": {
      "image/png": "[encoded data removed]",
      "text/plain": [
       "<Figure size 432x288 with 1 Axes>"
      ]
     },
     "metadata": {
      "needs_background": "light"
     },
     "output_type": "display_data"
    }
   ],
   "source": [
    "sns.violinplot(temp, y='n_aa', x='aa_seq_novelty_2', hue='eur_noneur')"
   ]
  },
  {
   "cell_type": "code",
   "execution_count": null,
   "id": "024d18af-0925-4242-8c53-c1c32f9fd9d1",
   "metadata": {},
   "outputs": [],
   "source": []
  }
 ],
 "metadata": {
  "kernelspec": {
   "display_name": "Python 3",
   "language": "python",
   "name": "python3"
  },
  "language_info": {
   "codemirror_mode": {
    "name": "ipython",
    "version": 3
   },
   "file_extension": ".py",
   "mimetype": "text/x-python",
   "name": "python",
   "nbconvert_exporter": "python",
   "pygments_lexer": "ipython3",
   "version": "3.7.12"
  }
 },
 "nbformat": 4,
 "nbformat_minor": 5
}
