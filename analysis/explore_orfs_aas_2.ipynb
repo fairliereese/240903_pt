{
 "cells": [
  {
   "cell_type": "code",
   "execution_count": 58,
   "id": "07118ba9-e23f-44ac-96bf-fa9d5e1d8d08",
   "metadata": {},
   "outputs": [],
   "source": [
    "import pandas as pd\n",
    "import numpy as np\n",
    "import scipy.stats as st\n",
    "import seaborn as sns\n",
    "import sys\n",
    "import os\n",
    "import matplotlib.pyplot as plt\n",
    "import swan_vis as swan\n",
    "import yaml\n",
    "from snakemake.io import expand\n",
    "import cerberus\n",
    "import pyranges as pr\n",
    "from pyfaidx import Fasta\n",
    "import upsetplot\n",
    "from pandarallel import pandarallel\n",
    "\n",
    "p = os.path.dirname(os.getcwd())\n",
    "sys.path.append(p)\n",
    "\n",
    "from scripts.utils import *\n",
    "from scripts.vcf_utils import *\n",
    "from scripts.plotting import *"
   ]
  },
  {
   "cell_type": "code",
   "execution_count": 59,
   "id": "acc383d0-2487-4a6c-aa49-652f89a8340c",
   "metadata": {},
   "outputs": [],
   "source": [
    "config = load_config()\n",
    "od = '../'\n",
    "\n",
    "def proc_cfg(entry, od):\n",
    "    entry = entry.replace('../../', '')\n",
    "    entry = od+entry\n",
    "    return entry"
   ]
  },
  {
   "cell_type": "code",
   "execution_count": 60,
   "id": "b1869713-f99c-4f44-ae2c-813c58f829c1",
   "metadata": {},
   "outputs": [],
   "source": [
    "mt_df = pd.read_csv('../data/05_mastertable/poder_master_table_fixed_genics.tsv', sep='\\t')\n",
    "# mt_df = mt_df.loc[mt_df['filter']=='pass']\n",
    "mt_df['pop_spec_t'] = (mt_df.population_sharing==1)&\\\n",
    "                      (mt_df.sample_sharing>1)"
   ]
  },
  {
   "cell_type": "code",
   "execution_count": 61,
   "id": "3ed19993-38b6-487f-a10c-cdea6aa8c6cc",
   "metadata": {},
   "outputs": [],
   "source": [
    "p_df = pd.read_csv(proc_cfg(config['lr']['poder_protein']['protein']['summary'], od), sep='\\t')\n",
    "p_df = p_df.merge(mt_df[['associated_gene_biotype',\n",
    "                         'structural_category', \n",
    "                         'associated_transcript',\n",
    "                         'isoform',\n",
    "                         'associated_gene',\n",
    "                         'length']],\n",
    "                  how='left',\n",
    "                  left_on='tid', \n",
    "                  right_on='isoform')\n",
    "p_df.rename({'associated_gene':'gid',\n",
    "             'protein_sequence':'seq'}, axis=1, inplace=True)\n",
    "assert len(p_df.loc[p_df.isoform.isnull()]) == 0"
   ]
  },
  {
   "cell_type": "markdown",
   "id": "ee47b119-b187-4205-8ac2-d36b2e570c68",
   "metadata": {},
   "source": [
    "## First, need to filter"
   ]
  },
  {
   "cell_type": "code",
   "execution_count": 62,
   "id": "d7d1a7b9-4c4b-439f-b12a-455e2016a5d8",
   "metadata": {},
   "outputs": [
    {
     "name": "stdout",
     "output_type": "stream",
     "text": [
      "100666\n",
      "100666\n",
      "86306\n",
      "\n",
      "100666\n",
      "86306\n",
      "85.7350048675819\n",
      "14.264995132418095\n",
      "86306\n"
     ]
    }
   ],
   "source": [
    "# keep only things from annotated protein coding genes\n",
    "p_df = p_df.loc[p_df.associated_gene_biotype=='Protein Coding']\n",
    "n = len(p_df.index)\n",
    "print(len(p_df.index))\n",
    "\n",
    "# keep only things w/ full ORFs\n",
    "p_df = p_df.loc[(p_df.protein_has_start_codon==True)&\\\n",
    "                (p_df.protein_has_stop_codon==True)]\n",
    "print(len(p_df.index))\n",
    "\n",
    "\n",
    "# remove NMD things\n",
    "p_df = p_df.loc[p_df.protein_is_nmd == False]\n",
    "print(len(p_df.index))\n",
    "n2 = len(p_df.index)\n",
    "\n",
    "print()\n",
    "print(n)\n",
    "print(n2)\n",
    "print((n2/n)*100)\n",
    "print(((n-n2)/n)*100)\n",
    "\n",
    "\n",
    "# length minimum?? maybe not\n",
    "print(len(p_df.index))"
   ]
  },
  {
   "cell_type": "markdown",
   "id": "d646222d-270f-48f5-96be-806c0722db3a",
   "metadata": {},
   "source": [
    "## Merge reference AA sequences on gid + sequence"
   ]
  },
  {
   "cell_type": "code",
   "execution_count": 63,
   "id": "66a3635f-24a4-4ba0-9dbb-0ed9815168a1",
   "metadata": {},
   "outputs": [
    {
     "name": "stdout",
     "output_type": "stream",
     "text": [
      "86306\n",
      "86306\n"
     ]
    },
    {
     "data": {
      "text/html": [
       "<div>\n",
       "<style scoped>\n",
       "    .dataframe tbody tr th:only-of-type {\n",
       "        vertical-align: middle;\n",
       "    }\n",
       "\n",
       "    .dataframe tbody tr th {\n",
       "        vertical-align: top;\n",
       "    }\n",
       "\n",
       "    .dataframe thead th {\n",
       "        text-align: right;\n",
       "    }\n",
       "</style>\n",
       "<table border=\"1\" class=\"dataframe\">\n",
       "  <thead>\n",
       "    <tr style=\"text-align: right;\">\n",
       "      <th></th>\n",
       "      <th>Chromosome</th>\n",
       "      <th>Start</th>\n",
       "      <th>Stop</th>\n",
       "      <th>Strand</th>\n",
       "      <th>Source</th>\n",
       "      <th>CDS_Source</th>\n",
       "      <th>CDS_Start</th>\n",
       "      <th>CDS_Stop</th>\n",
       "      <th>tid</th>\n",
       "      <th>pid</th>\n",
       "      <th>...</th>\n",
       "      <th>protein_has_stop_codon</th>\n",
       "      <th>protein_has_start_codon</th>\n",
       "      <th>seq</th>\n",
       "      <th>associated_gene_biotype</th>\n",
       "      <th>structural_category</th>\n",
       "      <th>associated_transcript</th>\n",
       "      <th>isoform</th>\n",
       "      <th>gid</th>\n",
       "      <th>length</th>\n",
       "      <th>annot_aa</th>\n",
       "    </tr>\n",
       "  </thead>\n",
       "  <tbody>\n",
       "    <tr>\n",
       "      <th>0</th>\n",
       "      <td>chr12</td>\n",
       "      <td>4590319</td>\n",
       "      <td>4613888</td>\n",
       "      <td>+</td>\n",
       "      <td>ENSEMBL</td>\n",
       "      <td>ORFanage</td>\n",
       "      <td>4591180</td>\n",
       "      <td>4613750</td>\n",
       "      <td>ENST00000010132.6</td>\n",
       "      <td>ENSP00000010132.5</td>\n",
       "      <td>...</td>\n",
       "      <td>True</td>\n",
       "      <td>True</td>\n",
       "      <td>MPASELKASEIPFHPSIKTQDPKAEEKSPKKQKVTLTAAEALKLFK...</td>\n",
       "      <td>Protein Coding</td>\n",
       "      <td>FSM</td>\n",
       "      <td>ENST00000010132.6</td>\n",
       "      <td>ENST00000010132.6</td>\n",
       "      <td>ENSG00000010219.14</td>\n",
       "      <td>1840</td>\n",
       "      <td>True</td>\n",
       "    </tr>\n",
       "    <tr>\n",
       "      <th>1</th>\n",
       "      <td>chr12</td>\n",
       "      <td>7919229</td>\n",
       "      <td>7936187</td>\n",
       "      <td>-</td>\n",
       "      <td>HAVANA</td>\n",
       "      <td>ORFanage</td>\n",
       "      <td>7921415</td>\n",
       "      <td>7936034</td>\n",
       "      <td>ENST00000075120.12</td>\n",
       "      <td>ENSP00000516774.1</td>\n",
       "      <td>...</td>\n",
       "      <td>True</td>\n",
       "      <td>True</td>\n",
       "      <td>MGTQKVTPALIFAITVATIGSFQFGYNTGVINAPEKIIKEFINKTL...</td>\n",
       "      <td>Protein Coding</td>\n",
       "      <td>FSM</td>\n",
       "      <td>ENST00000075120.12</td>\n",
       "      <td>ENST00000075120.12</td>\n",
       "      <td>ENSG00000059804.18</td>\n",
       "      <td>3827</td>\n",
       "      <td>True</td>\n",
       "    </tr>\n",
       "    <tr>\n",
       "      <th>2</th>\n",
       "      <td>chrY</td>\n",
       "      <td>2935380</td>\n",
       "      <td>2982506</td>\n",
       "      <td>+</td>\n",
       "      <td>HAVANA</td>\n",
       "      <td>ORFanage</td>\n",
       "      <td>2953936</td>\n",
       "      <td>2979990</td>\n",
       "      <td>ENST00000155093.8</td>\n",
       "      <td>ENSP00000155093.3</td>\n",
       "      <td>...</td>\n",
       "      <td>True</td>\n",
       "      <td>True</td>\n",
       "      <td>MDEDEFELQPQEPNSFFDGIGADATHMDGDQIVVEIQEAVFVSNIV...</td>\n",
       "      <td>Protein Coding</td>\n",
       "      <td>FSM</td>\n",
       "      <td>ENST00000155093.8</td>\n",
       "      <td>ENST00000155093.8</td>\n",
       "      <td>ENSG00000067646.12</td>\n",
       "      <td>5336</td>\n",
       "      <td>True</td>\n",
       "    </tr>\n",
       "    <tr>\n",
       "      <th>3</th>\n",
       "      <td>chrX</td>\n",
       "      <td>48922210</td>\n",
       "      <td>48957631</td>\n",
       "      <td>-</td>\n",
       "      <td>HAVANA</td>\n",
       "      <td>ORFanage</td>\n",
       "      <td>48923176</td>\n",
       "      <td>48957570</td>\n",
       "      <td>ENST00000156084.8</td>\n",
       "      <td>ENSP00000156084.4</td>\n",
       "      <td>...</td>\n",
       "      <td>True</td>\n",
       "      <td>True</td>\n",
       "      <td>MTILPKKKPPPPDADPANEPPPPGPMPPAPRRGGGVGVGGGGTGVG...</td>\n",
       "      <td>Protein Coding</td>\n",
       "      <td>FSM</td>\n",
       "      <td>ENST00000156084.8</td>\n",
       "      <td>ENST00000156084.8</td>\n",
       "      <td>ENSG00000068308.15</td>\n",
       "      <td>2740</td>\n",
       "      <td>True</td>\n",
       "    </tr>\n",
       "    <tr>\n",
       "      <th>4</th>\n",
       "      <td>chr6</td>\n",
       "      <td>155395367</td>\n",
       "      <td>155455839</td>\n",
       "      <td>-</td>\n",
       "      <td>HAVANA</td>\n",
       "      <td>ORFanage</td>\n",
       "      <td>155396838</td>\n",
       "      <td>155455800</td>\n",
       "      <td>ENST00000159060.3</td>\n",
       "      <td>ENSP00000159060.2</td>\n",
       "      <td>...</td>\n",
       "      <td>True</td>\n",
       "      <td>True</td>\n",
       "      <td>MMGCWILNEGLSTILVLSWLGINFYLFIDTFYWYEEEESFHYTRVI...</td>\n",
       "      <td>Protein Coding</td>\n",
       "      <td>FSM</td>\n",
       "      <td>ENST00000159060.3</td>\n",
       "      <td>ENST00000159060.3</td>\n",
       "      <td>ENSG00000074771.4</td>\n",
       "      <td>1980</td>\n",
       "      <td>True</td>\n",
       "    </tr>\n",
       "  </tbody>\n",
       "</table>\n",
       "<p>5 rows × 28 columns</p>\n",
       "</div>"
      ],
      "text/plain": [
       "  Chromosome      Start       Stop Strand   Source CDS_Source  CDS_Start  \\\n",
       "0      chr12    4590319    4613888      +  ENSEMBL   ORFanage    4591180   \n",
       "1      chr12    7919229    7936187      -   HAVANA   ORFanage    7921415   \n",
       "2       chrY    2935380    2982506      +   HAVANA   ORFanage    2953936   \n",
       "3       chrX   48922210   48957631      -   HAVANA   ORFanage   48923176   \n",
       "4       chr6  155395367  155455839      -   HAVANA   ORFanage  155396838   \n",
       "\n",
       "    CDS_Stop                 tid                pid  ...  \\\n",
       "0    4613750   ENST00000010132.6  ENSP00000010132.5  ...   \n",
       "1    7936034  ENST00000075120.12  ENSP00000516774.1  ...   \n",
       "2    2979990   ENST00000155093.8  ENSP00000155093.3  ...   \n",
       "3   48957570   ENST00000156084.8  ENSP00000156084.4  ...   \n",
       "4  155455800   ENST00000159060.3  ENSP00000159060.2  ...   \n",
       "\n",
       "   protein_has_stop_codon  protein_has_start_codon  \\\n",
       "0                    True                     True   \n",
       "1                    True                     True   \n",
       "2                    True                     True   \n",
       "3                    True                     True   \n",
       "4                    True                     True   \n",
       "\n",
       "                                                 seq  associated_gene_biotype  \\\n",
       "0  MPASELKASEIPFHPSIKTQDPKAEEKSPKKQKVTLTAAEALKLFK...           Protein Coding   \n",
       "1  MGTQKVTPALIFAITVATIGSFQFGYNTGVINAPEKIIKEFINKTL...           Protein Coding   \n",
       "2  MDEDEFELQPQEPNSFFDGIGADATHMDGDQIVVEIQEAVFVSNIV...           Protein Coding   \n",
       "3  MTILPKKKPPPPDADPANEPPPPGPMPPAPRRGGGVGVGGGGTGVG...           Protein Coding   \n",
       "4  MMGCWILNEGLSTILVLSWLGINFYLFIDTFYWYEEEESFHYTRVI...           Protein Coding   \n",
       "\n",
       "   structural_category  associated_transcript             isoform  \\\n",
       "0                  FSM      ENST00000010132.6   ENST00000010132.6   \n",
       "1                  FSM     ENST00000075120.12  ENST00000075120.12   \n",
       "2                  FSM      ENST00000155093.8   ENST00000155093.8   \n",
       "3                  FSM      ENST00000156084.8   ENST00000156084.8   \n",
       "4                  FSM      ENST00000159060.3   ENST00000159060.3   \n",
       "\n",
       "                  gid  length  annot_aa  \n",
       "0  ENSG00000010219.14    1840      True  \n",
       "1  ENSG00000059804.18    3827      True  \n",
       "2  ENSG00000067646.12    5336      True  \n",
       "3  ENSG00000068308.15    2740      True  \n",
       "4   ENSG00000074771.4    1980      True  \n",
       "\n",
       "[5 rows x 28 columns]"
      ]
     },
     "execution_count": 63,
     "metadata": {},
     "output_type": "execute_result"
    }
   ],
   "source": [
    "# get annotated AA sequencesa\n",
    "fasta_file = proc_cfg(config['ref']['pc'], od)\n",
    "fasta = Fasta(fasta_file)\n",
    "\n",
    "# Extract each entry's name and sequence\n",
    "ref_orfs = {\n",
    "    \"name\": [entry.name for entry in fasta],\n",
    "    \"seq\": [str(entry) for entry in fasta]\n",
    "}\n",
    "\n",
    "ref_orfs = pd.DataFrame(ref_orfs)\n",
    "ref_orfs['gid'] =  ref_orfs.name.str.split('|', expand=True)[2]\n",
    "ref_orfs = ref_orfs[['seq', 'gid']]\n",
    "ref_orfs['annot_aa'] = True\n",
    "ref_orfs.drop_duplicates(inplace=True)\n",
    "\n",
    "# just going to call novel aas as those that are not in the \n",
    "# pc translations gencode file\n",
    "print(len(p_df))\n",
    "p_df = p_df.merge(ref_orfs, how='left', on=['gid', 'seq'])\n",
    "print(len(p_df))\n",
    "p_df['annot_aa'] = p_df['annot_aa'].fillna(False)\n",
    "p_df.head()"
   ]
  },
  {
   "cell_type": "code",
   "execution_count": 65,
   "id": "a280a845-d5c0-4490-b461-9f9b21b8cc92",
   "metadata": {},
   "outputs": [
    {
     "data": {
      "text/plain": [
       "86306"
      ]
     },
     "execution_count": 65,
     "metadata": {},
     "output_type": "execute_result"
    }
   ],
   "source": [
    "len(p_df.index)"
   ]
  },
  {
   "cell_type": "code",
   "execution_count": 67,
   "id": "eb3464c5-d7bc-4db7-a8b0-a2feda630bbd",
   "metadata": {},
   "outputs": [
    {
     "data": {
      "text/plain": [
       "45907"
      ]
     },
     "execution_count": 67,
     "metadata": {},
     "output_type": "execute_result"
    }
   ],
   "source": [
    "len(p_df.loc[p_df.annot_aa==False])"
   ]
  },
  {
   "cell_type": "code",
   "execution_count": 68,
   "id": "2e5fab36-5863-46a4-b6c3-bfa0ee8ad3d4",
   "metadata": {},
   "outputs": [
    {
     "data": {
      "text/html": [
       "<div>\n",
       "<style scoped>\n",
       "    .dataframe tbody tr th:only-of-type {\n",
       "        vertical-align: middle;\n",
       "    }\n",
       "\n",
       "    .dataframe tbody tr th {\n",
       "        vertical-align: top;\n",
       "    }\n",
       "\n",
       "    .dataframe thead th {\n",
       "        text-align: right;\n",
       "    }\n",
       "</style>\n",
       "<table border=\"1\" class=\"dataframe\">\n",
       "  <thead>\n",
       "    <tr style=\"text-align: right;\">\n",
       "      <th></th>\n",
       "      <th></th>\n",
       "      <th>isoform</th>\n",
       "    </tr>\n",
       "    <tr>\n",
       "      <th>annot_aa</th>\n",
       "      <th>structural_category</th>\n",
       "      <th></th>\n",
       "    </tr>\n",
       "  </thead>\n",
       "  <tbody>\n",
       "    <tr>\n",
       "      <th rowspan=\"3\" valign=\"top\">False</th>\n",
       "      <th>FSM</th>\n",
       "      <td>23236</td>\n",
       "    </tr>\n",
       "    <tr>\n",
       "      <th>NIC</th>\n",
       "      <td>10369</td>\n",
       "    </tr>\n",
       "    <tr>\n",
       "      <th>NNC</th>\n",
       "      <td>12302</td>\n",
       "    </tr>\n",
       "    <tr>\n",
       "      <th rowspan=\"3\" valign=\"top\">True</th>\n",
       "      <th>FSM</th>\n",
       "      <td>34936</td>\n",
       "    </tr>\n",
       "    <tr>\n",
       "      <th>NIC</th>\n",
       "      <td>2647</td>\n",
       "    </tr>\n",
       "    <tr>\n",
       "      <th>NNC</th>\n",
       "      <td>2816</td>\n",
       "    </tr>\n",
       "  </tbody>\n",
       "</table>\n",
       "</div>"
      ],
      "text/plain": [
       "                              isoform\n",
       "annot_aa structural_category         \n",
       "False    FSM                    23236\n",
       "         NIC                    10369\n",
       "         NNC                    12302\n",
       "True     FSM                    34936\n",
       "         NIC                     2647\n",
       "         NNC                     2816"
      ]
     },
     "execution_count": 68,
     "metadata": {},
     "output_type": "execute_result"
    }
   ],
   "source": [
    "p_df[['isoform', 'annot_aa', 'structural_category']].groupby(['annot_aa', 'structural_category']).nunique()"
   ]
  },
  {
   "cell_type": "markdown",
   "id": "1f471b56-3e90-4d8d-af36-24ff82c6a77c",
   "metadata": {},
   "source": [
    "## Get our own protein sequence novelty categories\n",
    "1. exact AA match\n",
    "2. truncated AA match\n",
    "3. novel, non-truncation AA seq"
   ]
  },
  {
   "cell_type": "code",
   "execution_count": 69,
   "id": "f5865ead-0227-4494-9efe-1607b973356c",
   "metadata": {},
   "outputs": [],
   "source": [
    "# # 2. truncated AA match\n",
    "# def get_aa_seq_truncations(x, ref_orfs):\n",
    "#     # limit to just references from same gene\n",
    "#     temp = ref_orfs.loc[ref_orfs.gid == x.gid]\n",
    "#     for ind, entry in temp.iterrows():\n",
    "#         if x.seq in entry.seq:\n",
    "#             return True\n",
    "#     return False\n",
    "\n",
    "# p_df['trunc_annot_aa'] = p_df.apply(lambda x: get_aa_seq_truncations(x, ref_orfs), axis=1)\n",
    "\n",
    "\n",
    "# # smol_p_df = p_df.loc[p_df.annot_aa==False].head(20)\n",
    "# # smol_p_df['trunc_annot_aa'] = smol_p_df.apply(lambda x: get_aa_seq_truncations(x, ref_orfs), axis=1)\n",
    "# # pandarallel.initialize(nb_workers=8, verbose=1)\n",
    "# # p_df = p_df.parallel_apply(get_aa_seq_truncations, args=(ref_orfs), axis=1, progress_bar=False)"
   ]
  },
  {
   "cell_type": "code",
   "execution_count": 70,
   "id": "3dc898d3-aec8-483a-9ad1-69c125825edc",
   "metadata": {},
   "outputs": [],
   "source": [
    "# seq = smol_p_df.loc[smol_p_df.trunc_annot_aa==True].head(1).seq.tolist()[0]\n",
    "# gid = smol_p_df.loc[smol_p_df.trunc_annot_aa==True].head(1).gid.tolist()[0]\n",
    "# temp_ref_orfs = ref_orfs.loc[ref_orfs.gid==gid, 'seq'].tolist()"
   ]
  },
  {
   "cell_type": "code",
   "execution_count": 71,
   "id": "a4869632-556b-4a10-80b7-1fa8b9994479",
   "metadata": {},
   "outputs": [],
   "source": [
    "# 3. the rest are non-matching"
   ]
  },
  {
   "cell_type": "code",
   "execution_count": 72,
   "id": "f9406c26-ee70-4a61-85ee-38898b607587",
   "metadata": {},
   "outputs": [],
   "source": [
    "# p_df.to_csv('orf_thing.tsv', sep='\\t')"
   ]
  },
  {
   "cell_type": "code",
   "execution_count": 73,
   "id": "8e3783d1-945f-422e-94f5-37b5689ef60d",
   "metadata": {},
   "outputs": [],
   "source": [
    "p_df = pd.read_csv('orf_thing.tsv', sep='\\t')"
   ]
  },
  {
   "cell_type": "code",
   "execution_count": 74,
   "id": "fd0d0cb6-3fbe-4075-b273-86d05655cd14",
   "metadata": {},
   "outputs": [],
   "source": [
    "p_df['aa_seq_novelty'] = 'Novel'\n",
    "p_df.loc[(p_df.annot_aa==True), 'aa_seq_novelty'] = 'Known'\n",
    "p_df.loc[(p_df.annot_aa==False)&\\\n",
    "         (p_df.trunc_annot_aa==True), 'aa_seq_novelty'] = 'Truncation'"
   ]
  },
  {
   "cell_type": "code",
   "execution_count": 75,
   "id": "ed768de6-ea93-48fb-a733-0f5996a7e87d",
   "metadata": {},
   "outputs": [
    {
     "data": {
      "text/html": [
       "<div>\n",
       "<style scoped>\n",
       "    .dataframe tbody tr th:only-of-type {\n",
       "        vertical-align: middle;\n",
       "    }\n",
       "\n",
       "    .dataframe tbody tr th {\n",
       "        vertical-align: top;\n",
       "    }\n",
       "\n",
       "    .dataframe thead th {\n",
       "        text-align: right;\n",
       "    }\n",
       "</style>\n",
       "<table border=\"1\" class=\"dataframe\">\n",
       "  <thead>\n",
       "    <tr style=\"text-align: right;\">\n",
       "      <th></th>\n",
       "      <th>name</th>\n",
       "      <th>seq</th>\n",
       "      <th>gid</th>\n",
       "      <th>tid</th>\n",
       "    </tr>\n",
       "  </thead>\n",
       "  <tbody>\n",
       "    <tr>\n",
       "      <th>0</th>\n",
       "      <td>ENSP00000493376.2|ENST00000641515.2|ENSG000001...</td>\n",
       "      <td>MKKVTAEAISWNESTSETNNSMVTEFIFLGLSDSQELQTFLFMLFF...</td>\n",
       "      <td>ENSG00000186092.7</td>\n",
       "      <td>ENST00000641515.2</td>\n",
       "    </tr>\n",
       "    <tr>\n",
       "      <th>1</th>\n",
       "      <td>ENSP00000409316.1|ENST00000426406.4|ENSG000002...</td>\n",
       "      <td>MDGENHSVVSEFLFLGLTHSWEIQLLLLVFSSVLYVASITGNILIV...</td>\n",
       "      <td>ENSG00000284733.2</td>\n",
       "      <td>ENST00000426406.4</td>\n",
       "    </tr>\n",
       "    <tr>\n",
       "      <th>2</th>\n",
       "      <td>ENSP00000329982.2|ENST00000332831.5|ENSG000002...</td>\n",
       "      <td>MDGENHSVVSEFLFLGLTHSWEIQLLLLVFSSVLYVASITGNILIV...</td>\n",
       "      <td>ENSG00000284662.2</td>\n",
       "      <td>ENST00000332831.5</td>\n",
       "    </tr>\n",
       "    <tr>\n",
       "      <th>3</th>\n",
       "      <td>ENSP00000478421.2|ENST00000616016.5|ENSG000001...</td>\n",
       "      <td>MPAVKKEFPGREDLALALATFHPTLAALPLPPLPGYLAPLPAAAAL...</td>\n",
       "      <td>ENSG00000187634.13</td>\n",
       "      <td>ENST00000616016.5</td>\n",
       "    </tr>\n",
       "    <tr>\n",
       "      <th>4</th>\n",
       "      <td>ENSP00000480678.2|ENST00000618323.5|ENSG000001...</td>\n",
       "      <td>MPAVKKEFPGREDLALALATFHPTLAALPLPPLPGYLAPLPAAAAL...</td>\n",
       "      <td>ENSG00000187634.13</td>\n",
       "      <td>ENST00000618323.5</td>\n",
       "    </tr>\n",
       "  </tbody>\n",
       "</table>\n",
       "</div>"
      ],
      "text/plain": [
       "                                                name  \\\n",
       "0  ENSP00000493376.2|ENST00000641515.2|ENSG000001...   \n",
       "1  ENSP00000409316.1|ENST00000426406.4|ENSG000002...   \n",
       "2  ENSP00000329982.2|ENST00000332831.5|ENSG000002...   \n",
       "3  ENSP00000478421.2|ENST00000616016.5|ENSG000001...   \n",
       "4  ENSP00000480678.2|ENST00000618323.5|ENSG000001...   \n",
       "\n",
       "                                                 seq                 gid  \\\n",
       "0  MKKVTAEAISWNESTSETNNSMVTEFIFLGLSDSQELQTFLFMLFF...   ENSG00000186092.7   \n",
       "1  MDGENHSVVSEFLFLGLTHSWEIQLLLLVFSSVLYVASITGNILIV...   ENSG00000284733.2   \n",
       "2  MDGENHSVVSEFLFLGLTHSWEIQLLLLVFSSVLYVASITGNILIV...   ENSG00000284662.2   \n",
       "3  MPAVKKEFPGREDLALALATFHPTLAALPLPPLPGYLAPLPAAAAL...  ENSG00000187634.13   \n",
       "4  MPAVKKEFPGREDLALALATFHPTLAALPLPPLPGYLAPLPAAAAL...  ENSG00000187634.13   \n",
       "\n",
       "                 tid  \n",
       "0  ENST00000641515.2  \n",
       "1  ENST00000426406.4  \n",
       "2  ENST00000332831.5  \n",
       "3  ENST00000616016.5  \n",
       "4  ENST00000618323.5  "
      ]
     },
     "execution_count": 75,
     "metadata": {},
     "output_type": "execute_result"
    }
   ],
   "source": [
    "# add status of fsm cdss\n",
    "\n",
    "\n",
    "# get annotated AA sequencesa\n",
    "fasta_file = proc_cfg(config['ref']['pc'], od)\n",
    "fasta = Fasta(fasta_file)\n",
    "\n",
    "# Extract each entry's name and sequence\n",
    "ref_orfs = {\n",
    "    \"name\": [entry.name for entry in fasta],\n",
    "    \"seq\": [str(entry) for entry in fasta]\n",
    "}\n",
    "\n",
    "ref_orfs = pd.DataFrame(ref_orfs)\n",
    "ref_orfs['gid'] =  ref_orfs.name.str.split('|', expand=True)[2]\n",
    "ref_orfs['tid'] = ref_orfs.name.str.split('|', expand=True)[1]\n",
    "ref_orfs.head()\n"
   ]
  },
  {
   "cell_type": "code",
   "execution_count": 76,
   "id": "358657b8-8135-4aa8-998f-8b293d5e60dc",
   "metadata": {},
   "outputs": [],
   "source": [
    "# ref_orfs.loc[ref_orfs.gid=='ENSG00000099219.15']"
   ]
  },
  {
   "cell_type": "code",
   "execution_count": 77,
   "id": "5efc0a80-b204-4790-8500-02b9317dd7bb",
   "metadata": {},
   "outputs": [
    {
     "data": {
      "text/html": [
       "<div>\n",
       "<style scoped>\n",
       "    .dataframe tbody tr th:only-of-type {\n",
       "        vertical-align: middle;\n",
       "    }\n",
       "\n",
       "    .dataframe tbody tr th {\n",
       "        vertical-align: top;\n",
       "    }\n",
       "\n",
       "    .dataframe thead th {\n",
       "        text-align: right;\n",
       "    }\n",
       "</style>\n",
       "<table border=\"1\" class=\"dataframe\">\n",
       "  <thead>\n",
       "    <tr style=\"text-align: right;\">\n",
       "      <th></th>\n",
       "      <th>Unnamed: 0</th>\n",
       "      <th>Chromosome</th>\n",
       "      <th>Start</th>\n",
       "      <th>Stop</th>\n",
       "      <th>Strand</th>\n",
       "      <th>Source</th>\n",
       "      <th>CDS_Source</th>\n",
       "      <th>CDS_Start</th>\n",
       "      <th>CDS_Stop</th>\n",
       "      <th>tid</th>\n",
       "      <th>...</th>\n",
       "      <th>seq</th>\n",
       "      <th>associated_gene_biotype</th>\n",
       "      <th>structural_category</th>\n",
       "      <th>associated_transcript</th>\n",
       "      <th>isoform</th>\n",
       "      <th>gid</th>\n",
       "      <th>length</th>\n",
       "      <th>annot_aa</th>\n",
       "      <th>trunc_annot_aa</th>\n",
       "      <th>aa_seq_novelty</th>\n",
       "    </tr>\n",
       "  </thead>\n",
       "  <tbody>\n",
       "    <tr>\n",
       "      <th>9</th>\n",
       "      <td>9</td>\n",
       "      <td>chr9</td>\n",
       "      <td>5784560</td>\n",
       "      <td>5825285</td>\n",
       "      <td>-</td>\n",
       "      <td>HAVANA</td>\n",
       "      <td>ORFanage</td>\n",
       "      <td>5787146</td>\n",
       "      <td>5825187</td>\n",
       "      <td>ENST00000214893.10</td>\n",
       "      <td>...</td>\n",
       "      <td>MLEVLRVLSTSSEALHHAVIFLFNGAEENVLQASHGFITQHPWASL...</td>\n",
       "      <td>Protein Coding</td>\n",
       "      <td>FSM</td>\n",
       "      <td>ENST00000214893.10</td>\n",
       "      <td>ENST00000214893.10</td>\n",
       "      <td>ENSG00000099219.15</td>\n",
       "      <td>4724</td>\n",
       "      <td>False</td>\n",
       "      <td>True</td>\n",
       "      <td>Truncation</td>\n",
       "    </tr>\n",
       "    <tr>\n",
       "      <th>12</th>\n",
       "      <td>12</td>\n",
       "      <td>chrX</td>\n",
       "      <td>53584210</td>\n",
       "      <td>53686728</td>\n",
       "      <td>-</td>\n",
       "      <td>HAVANA</td>\n",
       "      <td>ORFanage</td>\n",
       "      <td>53584280</td>\n",
       "      <td>53654107</td>\n",
       "      <td>ENST00000218328.12</td>\n",
       "      <td>...</td>\n",
       "      <td>MKVDRTKLKKTPTEAPADCRALIDKLKVCNDEQLLLELQQIKTWNI...</td>\n",
       "      <td>Protein Coding</td>\n",
       "      <td>FSM</td>\n",
       "      <td>ENST00000218328.12</td>\n",
       "      <td>ENST00000218328.12</td>\n",
       "      <td>ENSG00000086758.17</td>\n",
       "      <td>5488</td>\n",
       "      <td>False</td>\n",
       "      <td>False</td>\n",
       "      <td>Novel</td>\n",
       "    </tr>\n",
       "    <tr>\n",
       "      <th>14</th>\n",
       "      <td>14</td>\n",
       "      <td>chr16</td>\n",
       "      <td>53235136</td>\n",
       "      <td>53327451</td>\n",
       "      <td>+</td>\n",
       "      <td>HAVANA</td>\n",
       "      <td>ORFanage</td>\n",
       "      <td>53238367</td>\n",
       "      <td>53324892</td>\n",
       "      <td>ENST00000219084.10</td>\n",
       "      <td>...</td>\n",
       "      <td>MGLGKTIQSITFLYEILLTGIRGPFLIIAPLSTIANWEREFRTWTD...</td>\n",
       "      <td>Protein Coding</td>\n",
       "      <td>FSM</td>\n",
       "      <td>ENST00000219084.10</td>\n",
       "      <td>ENST00000219084.10</td>\n",
       "      <td>ENSG00000177200.18</td>\n",
       "      <td>8739</td>\n",
       "      <td>False</td>\n",
       "      <td>True</td>\n",
       "      <td>Truncation</td>\n",
       "    </tr>\n",
       "    <tr>\n",
       "      <th>41</th>\n",
       "      <td>41</td>\n",
       "      <td>chr9</td>\n",
       "      <td>131258075</td>\n",
       "      <td>131264715</td>\n",
       "      <td>-</td>\n",
       "      <td>HAVANA</td>\n",
       "      <td>ORFanage</td>\n",
       "      <td>131260824</td>\n",
       "      <td>131261202</td>\n",
       "      <td>ENST00000247295.4</td>\n",
       "      <td>...</td>\n",
       "      <td>MNDNFYPSVTWAVPVSESNVAKLTNIYRDQSFTTWLVATNTSTNDM...</td>\n",
       "      <td>Protein Coding</td>\n",
       "      <td>FSM</td>\n",
       "      <td>ENST00000247295.4</td>\n",
       "      <td>ENST00000247295.4</td>\n",
       "      <td>ENSG00000126882.14</td>\n",
       "      <td>4560</td>\n",
       "      <td>False</td>\n",
       "      <td>True</td>\n",
       "      <td>Truncation</td>\n",
       "    </tr>\n",
       "    <tr>\n",
       "      <th>54</th>\n",
       "      <td>54</td>\n",
       "      <td>chr14</td>\n",
       "      <td>54842016</td>\n",
       "      <td>54902811</td>\n",
       "      <td>-</td>\n",
       "      <td>HAVANA</td>\n",
       "      <td>ORFanage</td>\n",
       "      <td>54844019</td>\n",
       "      <td>54902663</td>\n",
       "      <td>ENST00000254299.8</td>\n",
       "      <td>...</td>\n",
       "      <td>MEKGPVRAPAEKPRGARCSNGFPERDPPRPGPSRPAEKPPRPEAKS...</td>\n",
       "      <td>Protein Coding</td>\n",
       "      <td>FSM</td>\n",
       "      <td>ENST00000254299.8</td>\n",
       "      <td>ENST00000254299.8</td>\n",
       "      <td>ENSG00000131979.20</td>\n",
       "      <td>2901</td>\n",
       "      <td>True</td>\n",
       "      <td>True</td>\n",
       "      <td>Known</td>\n",
       "    </tr>\n",
       "    <tr>\n",
       "      <th>...</th>\n",
       "      <td>...</td>\n",
       "      <td>...</td>\n",
       "      <td>...</td>\n",
       "      <td>...</td>\n",
       "      <td>...</td>\n",
       "      <td>...</td>\n",
       "      <td>...</td>\n",
       "      <td>...</td>\n",
       "      <td>...</td>\n",
       "      <td>...</td>\n",
       "      <td>...</td>\n",
       "      <td>...</td>\n",
       "      <td>...</td>\n",
       "      <td>...</td>\n",
       "      <td>...</td>\n",
       "      <td>...</td>\n",
       "      <td>...</td>\n",
       "      <td>...</td>\n",
       "      <td>...</td>\n",
       "      <td>...</td>\n",
       "      <td>...</td>\n",
       "    </tr>\n",
       "    <tr>\n",
       "      <th>86299</th>\n",
       "      <td>86299</td>\n",
       "      <td>chr2</td>\n",
       "      <td>181457368</td>\n",
       "      <td>181476218</td>\n",
       "      <td>+</td>\n",
       "      <td>Cerberus</td>\n",
       "      <td>ORFanage</td>\n",
       "      <td>181457654</td>\n",
       "      <td>181475192</td>\n",
       "      <td>transcript_99933</td>\n",
       "      <td>...</td>\n",
       "      <td>MAWEARREPGPRRAAVRETVMLLLCLGVPTGRPYNVDTESALLYQG...</td>\n",
       "      <td>Protein Coding</td>\n",
       "      <td>FSM</td>\n",
       "      <td>ENST00000484404.1</td>\n",
       "      <td>transcript_99933</td>\n",
       "      <td>ENSG00000115232.14</td>\n",
       "      <td>1864</td>\n",
       "      <td>False</td>\n",
       "      <td>False</td>\n",
       "      <td>Novel</td>\n",
       "    </tr>\n",
       "    <tr>\n",
       "      <th>86300</th>\n",
       "      <td>86300</td>\n",
       "      <td>chr2</td>\n",
       "      <td>181457206</td>\n",
       "      <td>181476218</td>\n",
       "      <td>+</td>\n",
       "      <td>Cerberus</td>\n",
       "      <td>ORFanage</td>\n",
       "      <td>181457654</td>\n",
       "      <td>181475848</td>\n",
       "      <td>transcript_99935</td>\n",
       "      <td>...</td>\n",
       "      <td>MAWEARREPGPRRAAVRETVMLLLCLGVPTGRPYNVDTESALLYQG...</td>\n",
       "      <td>Protein Coding</td>\n",
       "      <td>FSM</td>\n",
       "      <td>ENST00000339307.8</td>\n",
       "      <td>transcript_99935</td>\n",
       "      <td>ENSG00000115232.14</td>\n",
       "      <td>1403</td>\n",
       "      <td>True</td>\n",
       "      <td>True</td>\n",
       "      <td>Known</td>\n",
       "    </tr>\n",
       "    <tr>\n",
       "      <th>86301</th>\n",
       "      <td>86301</td>\n",
       "      <td>chr2</td>\n",
       "      <td>181457369</td>\n",
       "      <td>181487876</td>\n",
       "      <td>+</td>\n",
       "      <td>Cerberus</td>\n",
       "      <td>ORFanage</td>\n",
       "      <td>181457654</td>\n",
       "      <td>181485997</td>\n",
       "      <td>transcript_99938</td>\n",
       "      <td>...</td>\n",
       "      <td>MAWEARREPGPRRAAVRETVMLLLCLGVPTGRPYNVDTESALLYQG...</td>\n",
       "      <td>Protein Coding</td>\n",
       "      <td>FSM</td>\n",
       "      <td>ENST00000465522.5</td>\n",
       "      <td>transcript_99938</td>\n",
       "      <td>ENSG00000115232.14</td>\n",
       "      <td>3322</td>\n",
       "      <td>False</td>\n",
       "      <td>False</td>\n",
       "      <td>Novel</td>\n",
       "    </tr>\n",
       "    <tr>\n",
       "      <th>86303</th>\n",
       "      <td>86303</td>\n",
       "      <td>chr2</td>\n",
       "      <td>181457385</td>\n",
       "      <td>181538940</td>\n",
       "      <td>+</td>\n",
       "      <td>Cerberus</td>\n",
       "      <td>ORFanage</td>\n",
       "      <td>181457654</td>\n",
       "      <td>181535524</td>\n",
       "      <td>transcript_99941</td>\n",
       "      <td>...</td>\n",
       "      <td>MAWEARREPGPRRAAVRETVMLLLCLGVPTGRPYNVDTESALLYQG...</td>\n",
       "      <td>Protein Coding</td>\n",
       "      <td>FSM</td>\n",
       "      <td>ENST00000397033.7</td>\n",
       "      <td>transcript_99941</td>\n",
       "      <td>ENSG00000115232.14</td>\n",
       "      <td>6781</td>\n",
       "      <td>True</td>\n",
       "      <td>True</td>\n",
       "      <td>Known</td>\n",
       "    </tr>\n",
       "    <tr>\n",
       "      <th>86305</th>\n",
       "      <td>86305</td>\n",
       "      <td>chr2</td>\n",
       "      <td>181498280</td>\n",
       "      <td>181511771</td>\n",
       "      <td>+</td>\n",
       "      <td>Cerberus</td>\n",
       "      <td>CPAT</td>\n",
       "      <td>181509661</td>\n",
       "      <td>181509793</td>\n",
       "      <td>transcript_99989</td>\n",
       "      <td>...</td>\n",
       "      <td>MCGTSSPQFRLKLLTTLVLMSSVNEVQRNSHHFSQFFSRRKKKT</td>\n",
       "      <td>Protein Coding</td>\n",
       "      <td>FSM</td>\n",
       "      <td>ENST00000490435.5</td>\n",
       "      <td>transcript_99989</td>\n",
       "      <td>ENSG00000115232.14</td>\n",
       "      <td>720</td>\n",
       "      <td>False</td>\n",
       "      <td>False</td>\n",
       "      <td>Novel</td>\n",
       "    </tr>\n",
       "  </tbody>\n",
       "</table>\n",
       "<p>54482 rows × 31 columns</p>\n",
       "</div>"
      ],
      "text/plain": [
       "       Unnamed: 0 Chromosome      Start       Stop Strand    Source  \\\n",
       "9               9       chr9    5784560    5825285      -    HAVANA   \n",
       "12             12       chrX   53584210   53686728      -    HAVANA   \n",
       "14             14      chr16   53235136   53327451      +    HAVANA   \n",
       "41             41       chr9  131258075  131264715      -    HAVANA   \n",
       "54             54      chr14   54842016   54902811      -    HAVANA   \n",
       "...           ...        ...        ...        ...    ...       ...   \n",
       "86299       86299       chr2  181457368  181476218      +  Cerberus   \n",
       "86300       86300       chr2  181457206  181476218      +  Cerberus   \n",
       "86301       86301       chr2  181457369  181487876      +  Cerberus   \n",
       "86303       86303       chr2  181457385  181538940      +  Cerberus   \n",
       "86305       86305       chr2  181498280  181511771      +  Cerberus   \n",
       "\n",
       "      CDS_Source  CDS_Start   CDS_Stop                 tid  ...  \\\n",
       "9       ORFanage    5787146    5825187  ENST00000214893.10  ...   \n",
       "12      ORFanage   53584280   53654107  ENST00000218328.12  ...   \n",
       "14      ORFanage   53238367   53324892  ENST00000219084.10  ...   \n",
       "41      ORFanage  131260824  131261202   ENST00000247295.4  ...   \n",
       "54      ORFanage   54844019   54902663   ENST00000254299.8  ...   \n",
       "...          ...        ...        ...                 ...  ...   \n",
       "86299   ORFanage  181457654  181475192    transcript_99933  ...   \n",
       "86300   ORFanage  181457654  181475848    transcript_99935  ...   \n",
       "86301   ORFanage  181457654  181485997    transcript_99938  ...   \n",
       "86303   ORFanage  181457654  181535524    transcript_99941  ...   \n",
       "86305       CPAT  181509661  181509793    transcript_99989  ...   \n",
       "\n",
       "                                                     seq  \\\n",
       "9      MLEVLRVLSTSSEALHHAVIFLFNGAEENVLQASHGFITQHPWASL...   \n",
       "12     MKVDRTKLKKTPTEAPADCRALIDKLKVCNDEQLLLELQQIKTWNI...   \n",
       "14     MGLGKTIQSITFLYEILLTGIRGPFLIIAPLSTIANWEREFRTWTD...   \n",
       "41     MNDNFYPSVTWAVPVSESNVAKLTNIYRDQSFTTWLVATNTSTNDM...   \n",
       "54     MEKGPVRAPAEKPRGARCSNGFPERDPPRPGPSRPAEKPPRPEAKS...   \n",
       "...                                                  ...   \n",
       "86299  MAWEARREPGPRRAAVRETVMLLLCLGVPTGRPYNVDTESALLYQG...   \n",
       "86300  MAWEARREPGPRRAAVRETVMLLLCLGVPTGRPYNVDTESALLYQG...   \n",
       "86301  MAWEARREPGPRRAAVRETVMLLLCLGVPTGRPYNVDTESALLYQG...   \n",
       "86303  MAWEARREPGPRRAAVRETVMLLLCLGVPTGRPYNVDTESALLYQG...   \n",
       "86305       MCGTSSPQFRLKLLTTLVLMSSVNEVQRNSHHFSQFFSRRKKKT   \n",
       "\n",
       "       associated_gene_biotype  structural_category  associated_transcript  \\\n",
       "9               Protein Coding                  FSM     ENST00000214893.10   \n",
       "12              Protein Coding                  FSM     ENST00000218328.12   \n",
       "14              Protein Coding                  FSM     ENST00000219084.10   \n",
       "41              Protein Coding                  FSM      ENST00000247295.4   \n",
       "54              Protein Coding                  FSM      ENST00000254299.8   \n",
       "...                        ...                  ...                    ...   \n",
       "86299           Protein Coding                  FSM      ENST00000484404.1   \n",
       "86300           Protein Coding                  FSM      ENST00000339307.8   \n",
       "86301           Protein Coding                  FSM      ENST00000465522.5   \n",
       "86303           Protein Coding                  FSM      ENST00000397033.7   \n",
       "86305           Protein Coding                  FSM      ENST00000490435.5   \n",
       "\n",
       "                  isoform                 gid  length annot_aa trunc_annot_aa  \\\n",
       "9      ENST00000214893.10  ENSG00000099219.15    4724    False           True   \n",
       "12     ENST00000218328.12  ENSG00000086758.17    5488    False          False   \n",
       "14     ENST00000219084.10  ENSG00000177200.18    8739    False           True   \n",
       "41      ENST00000247295.4  ENSG00000126882.14    4560    False           True   \n",
       "54      ENST00000254299.8  ENSG00000131979.20    2901     True           True   \n",
       "...                   ...                 ...     ...      ...            ...   \n",
       "86299    transcript_99933  ENSG00000115232.14    1864    False          False   \n",
       "86300    transcript_99935  ENSG00000115232.14    1403     True           True   \n",
       "86301    transcript_99938  ENSG00000115232.14    3322    False          False   \n",
       "86303    transcript_99941  ENSG00000115232.14    6781     True           True   \n",
       "86305    transcript_99989  ENSG00000115232.14     720    False          False   \n",
       "\n",
       "       aa_seq_novelty  \n",
       "9          Truncation  \n",
       "12              Novel  \n",
       "14         Truncation  \n",
       "41         Truncation  \n",
       "54              Known  \n",
       "...               ...  \n",
       "86299           Novel  \n",
       "86300           Known  \n",
       "86301           Novel  \n",
       "86303           Known  \n",
       "86305           Novel  \n",
       "\n",
       "[54482 rows x 31 columns]"
      ]
     },
     "execution_count": 77,
     "metadata": {},
     "output_type": "execute_result"
    }
   ],
   "source": [
    "p_df.loc[~(p_df.isoform.isin(ref_orfs.tid.tolist()))&\\\n",
    "         (p_df.structural_category=='FSM')]"
   ]
  },
  {
   "cell_type": "code",
   "execution_count": 78,
   "id": "665be923-00a0-4fef-b4a8-37813262a1d9",
   "metadata": {},
   "outputs": [],
   "source": [
    "p_df.loc[~(p_df.associated_transcript.isin(ref_orfs.tid.tolist()))&\\\n",
    "         (p_df.structural_category=='FSM'),'structural_category'] = 'FSM w/o CDS'\n",
    "# p_df.loc[(p_df.structural_category=='FSM')&\\\n",
    "#          (p_df.annot_cds==False), 'aa_seq_novelty'] = 'FSM w/o CDS'"
   ]
  },
  {
   "cell_type": "code",
   "execution_count": 79,
   "id": "e76528a0-a5d5-4981-8a0d-0abd5c18c5b9",
   "metadata": {},
   "outputs": [],
   "source": [
    "p_df.to_csv('241124_long_struct_cat_aa_cat.tsv', sep='\\t')"
   ]
  },
  {
   "cell_type": "code",
   "execution_count": 80,
   "id": "703cf7d4-b328-4534-a4a1-77dc916b8370",
   "metadata": {},
   "outputs": [
    {
     "data": {
      "text/html": [
       "<div>\n",
       "<style scoped>\n",
       "    .dataframe tbody tr th:only-of-type {\n",
       "        vertical-align: middle;\n",
       "    }\n",
       "\n",
       "    .dataframe tbody tr th {\n",
       "        vertical-align: top;\n",
       "    }\n",
       "\n",
       "    .dataframe thead th {\n",
       "        text-align: right;\n",
       "    }\n",
       "</style>\n",
       "<table border=\"1\" class=\"dataframe\">\n",
       "  <thead>\n",
       "    <tr style=\"text-align: right;\">\n",
       "      <th></th>\n",
       "      <th>Unnamed: 0</th>\n",
       "      <th>Chromosome</th>\n",
       "      <th>Start</th>\n",
       "      <th>Stop</th>\n",
       "      <th>Strand</th>\n",
       "      <th>Source</th>\n",
       "      <th>CDS_Source</th>\n",
       "      <th>CDS_Start</th>\n",
       "      <th>CDS_Stop</th>\n",
       "      <th>tid</th>\n",
       "      <th>...</th>\n",
       "      <th>seq</th>\n",
       "      <th>associated_gene_biotype</th>\n",
       "      <th>structural_category</th>\n",
       "      <th>associated_transcript</th>\n",
       "      <th>isoform</th>\n",
       "      <th>gid</th>\n",
       "      <th>length</th>\n",
       "      <th>annot_aa</th>\n",
       "      <th>trunc_annot_aa</th>\n",
       "      <th>aa_seq_novelty</th>\n",
       "    </tr>\n",
       "  </thead>\n",
       "  <tbody>\n",
       "    <tr>\n",
       "      <th>0</th>\n",
       "      <td>0</td>\n",
       "      <td>chr12</td>\n",
       "      <td>4590319</td>\n",
       "      <td>4613888</td>\n",
       "      <td>+</td>\n",
       "      <td>ENSEMBL</td>\n",
       "      <td>ORFanage</td>\n",
       "      <td>4591180</td>\n",
       "      <td>4613750</td>\n",
       "      <td>ENST00000010132.6</td>\n",
       "      <td>...</td>\n",
       "      <td>MPASELKASEIPFHPSIKTQDPKAEEKSPKKQKVTLTAAEALKLFK...</td>\n",
       "      <td>Protein Coding</td>\n",
       "      <td>FSM</td>\n",
       "      <td>ENST00000010132.6</td>\n",
       "      <td>ENST00000010132.6</td>\n",
       "      <td>ENSG00000010219.14</td>\n",
       "      <td>1840</td>\n",
       "      <td>True</td>\n",
       "      <td>True</td>\n",
       "      <td>Known</td>\n",
       "    </tr>\n",
       "    <tr>\n",
       "      <th>1</th>\n",
       "      <td>1</td>\n",
       "      <td>chr12</td>\n",
       "      <td>7919229</td>\n",
       "      <td>7936187</td>\n",
       "      <td>-</td>\n",
       "      <td>HAVANA</td>\n",
       "      <td>ORFanage</td>\n",
       "      <td>7921415</td>\n",
       "      <td>7936034</td>\n",
       "      <td>ENST00000075120.12</td>\n",
       "      <td>...</td>\n",
       "      <td>MGTQKVTPALIFAITVATIGSFQFGYNTGVINAPEKIIKEFINKTL...</td>\n",
       "      <td>Protein Coding</td>\n",
       "      <td>FSM</td>\n",
       "      <td>ENST00000075120.12</td>\n",
       "      <td>ENST00000075120.12</td>\n",
       "      <td>ENSG00000059804.18</td>\n",
       "      <td>3827</td>\n",
       "      <td>True</td>\n",
       "      <td>True</td>\n",
       "      <td>Known</td>\n",
       "    </tr>\n",
       "    <tr>\n",
       "      <th>2</th>\n",
       "      <td>2</td>\n",
       "      <td>chrY</td>\n",
       "      <td>2935380</td>\n",
       "      <td>2982506</td>\n",
       "      <td>+</td>\n",
       "      <td>HAVANA</td>\n",
       "      <td>ORFanage</td>\n",
       "      <td>2953936</td>\n",
       "      <td>2979990</td>\n",
       "      <td>ENST00000155093.8</td>\n",
       "      <td>...</td>\n",
       "      <td>MDEDEFELQPQEPNSFFDGIGADATHMDGDQIVVEIQEAVFVSNIV...</td>\n",
       "      <td>Protein Coding</td>\n",
       "      <td>FSM</td>\n",
       "      <td>ENST00000155093.8</td>\n",
       "      <td>ENST00000155093.8</td>\n",
       "      <td>ENSG00000067646.12</td>\n",
       "      <td>5336</td>\n",
       "      <td>True</td>\n",
       "      <td>True</td>\n",
       "      <td>Known</td>\n",
       "    </tr>\n",
       "    <tr>\n",
       "      <th>3</th>\n",
       "      <td>3</td>\n",
       "      <td>chrX</td>\n",
       "      <td>48922210</td>\n",
       "      <td>48957631</td>\n",
       "      <td>-</td>\n",
       "      <td>HAVANA</td>\n",
       "      <td>ORFanage</td>\n",
       "      <td>48923176</td>\n",
       "      <td>48957570</td>\n",
       "      <td>ENST00000156084.8</td>\n",
       "      <td>...</td>\n",
       "      <td>MTILPKKKPPPPDADPANEPPPPGPMPPAPRRGGGVGVGGGGTGVG...</td>\n",
       "      <td>Protein Coding</td>\n",
       "      <td>FSM</td>\n",
       "      <td>ENST00000156084.8</td>\n",
       "      <td>ENST00000156084.8</td>\n",
       "      <td>ENSG00000068308.15</td>\n",
       "      <td>2740</td>\n",
       "      <td>True</td>\n",
       "      <td>True</td>\n",
       "      <td>Known</td>\n",
       "    </tr>\n",
       "    <tr>\n",
       "      <th>4</th>\n",
       "      <td>4</td>\n",
       "      <td>chr6</td>\n",
       "      <td>155395367</td>\n",
       "      <td>155455839</td>\n",
       "      <td>-</td>\n",
       "      <td>HAVANA</td>\n",
       "      <td>ORFanage</td>\n",
       "      <td>155396838</td>\n",
       "      <td>155455800</td>\n",
       "      <td>ENST00000159060.3</td>\n",
       "      <td>...</td>\n",
       "      <td>MMGCWILNEGLSTILVLSWLGINFYLFIDTFYWYEEEESFHYTRVI...</td>\n",
       "      <td>Protein Coding</td>\n",
       "      <td>FSM</td>\n",
       "      <td>ENST00000159060.3</td>\n",
       "      <td>ENST00000159060.3</td>\n",
       "      <td>ENSG00000074771.4</td>\n",
       "      <td>1980</td>\n",
       "      <td>True</td>\n",
       "      <td>True</td>\n",
       "      <td>Known</td>\n",
       "    </tr>\n",
       "  </tbody>\n",
       "</table>\n",
       "<p>5 rows × 31 columns</p>\n",
       "</div>"
      ],
      "text/plain": [
       "   Unnamed: 0 Chromosome      Start       Stop Strand   Source CDS_Source  \\\n",
       "0           0      chr12    4590319    4613888      +  ENSEMBL   ORFanage   \n",
       "1           1      chr12    7919229    7936187      -   HAVANA   ORFanage   \n",
       "2           2       chrY    2935380    2982506      +   HAVANA   ORFanage   \n",
       "3           3       chrX   48922210   48957631      -   HAVANA   ORFanage   \n",
       "4           4       chr6  155395367  155455839      -   HAVANA   ORFanage   \n",
       "\n",
       "   CDS_Start   CDS_Stop                 tid  ...  \\\n",
       "0    4591180    4613750   ENST00000010132.6  ...   \n",
       "1    7921415    7936034  ENST00000075120.12  ...   \n",
       "2    2953936    2979990   ENST00000155093.8  ...   \n",
       "3   48923176   48957570   ENST00000156084.8  ...   \n",
       "4  155396838  155455800   ENST00000159060.3  ...   \n",
       "\n",
       "                                                 seq  associated_gene_biotype  \\\n",
       "0  MPASELKASEIPFHPSIKTQDPKAEEKSPKKQKVTLTAAEALKLFK...           Protein Coding   \n",
       "1  MGTQKVTPALIFAITVATIGSFQFGYNTGVINAPEKIIKEFINKTL...           Protein Coding   \n",
       "2  MDEDEFELQPQEPNSFFDGIGADATHMDGDQIVVEIQEAVFVSNIV...           Protein Coding   \n",
       "3  MTILPKKKPPPPDADPANEPPPPGPMPPAPRRGGGVGVGGGGTGVG...           Protein Coding   \n",
       "4  MMGCWILNEGLSTILVLSWLGINFYLFIDTFYWYEEEESFHYTRVI...           Protein Coding   \n",
       "\n",
       "   structural_category  associated_transcript             isoform  \\\n",
       "0                  FSM      ENST00000010132.6   ENST00000010132.6   \n",
       "1                  FSM     ENST00000075120.12  ENST00000075120.12   \n",
       "2                  FSM      ENST00000155093.8   ENST00000155093.8   \n",
       "3                  FSM      ENST00000156084.8   ENST00000156084.8   \n",
       "4                  FSM      ENST00000159060.3   ENST00000159060.3   \n",
       "\n",
       "                  gid  length annot_aa trunc_annot_aa  aa_seq_novelty  \n",
       "0  ENSG00000010219.14    1840     True           True           Known  \n",
       "1  ENSG00000059804.18    3827     True           True           Known  \n",
       "2  ENSG00000067646.12    5336     True           True           Known  \n",
       "3  ENSG00000068308.15    2740     True           True           Known  \n",
       "4   ENSG00000074771.4    1980     True           True           Known  \n",
       "\n",
       "[5 rows x 31 columns]"
      ]
     },
     "execution_count": 80,
     "metadata": {},
     "output_type": "execute_result"
    }
   ],
   "source": [
    "p_df.head()"
   ]
  },
  {
   "cell_type": "code",
   "execution_count": 81,
   "id": "16d1d2a7-7a38-498b-ab25-ac79e3789607",
   "metadata": {},
   "outputs": [
    {
     "data": {
      "text/html": [
       "<div>\n",
       "<style scoped>\n",
       "    .dataframe tbody tr th:only-of-type {\n",
       "        vertical-align: middle;\n",
       "    }\n",
       "\n",
       "    .dataframe tbody tr th {\n",
       "        vertical-align: top;\n",
       "    }\n",
       "\n",
       "    .dataframe thead th {\n",
       "        text-align: right;\n",
       "    }\n",
       "</style>\n",
       "<table border=\"1\" class=\"dataframe\">\n",
       "  <thead>\n",
       "    <tr style=\"text-align: right;\">\n",
       "      <th></th>\n",
       "      <th>aa_seq_novelty</th>\n",
       "      <th>structural_category</th>\n",
       "      <th>n_t</th>\n",
       "    </tr>\n",
       "  </thead>\n",
       "  <tbody>\n",
       "    <tr>\n",
       "      <th>0</th>\n",
       "      <td>Known</td>\n",
       "      <td>FSM</td>\n",
       "      <td>34094</td>\n",
       "    </tr>\n",
       "    <tr>\n",
       "      <th>1</th>\n",
       "      <td>Known</td>\n",
       "      <td>FSM w/o CDS</td>\n",
       "      <td>842</td>\n",
       "    </tr>\n",
       "    <tr>\n",
       "      <th>2</th>\n",
       "      <td>Known</td>\n",
       "      <td>NIC</td>\n",
       "      <td>2647</td>\n",
       "    </tr>\n",
       "    <tr>\n",
       "      <th>3</th>\n",
       "      <td>Known</td>\n",
       "      <td>NNC</td>\n",
       "      <td>2816</td>\n",
       "    </tr>\n",
       "    <tr>\n",
       "      <th>4</th>\n",
       "      <td>Novel</td>\n",
       "      <td>FSM</td>\n",
       "      <td>3039</td>\n",
       "    </tr>\n",
       "    <tr>\n",
       "      <th>5</th>\n",
       "      <td>Novel</td>\n",
       "      <td>FSM w/o CDS</td>\n",
       "      <td>11109</td>\n",
       "    </tr>\n",
       "    <tr>\n",
       "      <th>6</th>\n",
       "      <td>Novel</td>\n",
       "      <td>NIC</td>\n",
       "      <td>7325</td>\n",
       "    </tr>\n",
       "    <tr>\n",
       "      <th>7</th>\n",
       "      <td>Novel</td>\n",
       "      <td>NNC</td>\n",
       "      <td>9869</td>\n",
       "    </tr>\n",
       "    <tr>\n",
       "      <th>8</th>\n",
       "      <td>Truncation</td>\n",
       "      <td>FSM</td>\n",
       "      <td>3870</td>\n",
       "    </tr>\n",
       "    <tr>\n",
       "      <th>9</th>\n",
       "      <td>Truncation</td>\n",
       "      <td>FSM w/o CDS</td>\n",
       "      <td>5218</td>\n",
       "    </tr>\n",
       "    <tr>\n",
       "      <th>10</th>\n",
       "      <td>Truncation</td>\n",
       "      <td>NIC</td>\n",
       "      <td>3044</td>\n",
       "    </tr>\n",
       "    <tr>\n",
       "      <th>11</th>\n",
       "      <td>Truncation</td>\n",
       "      <td>NNC</td>\n",
       "      <td>2433</td>\n",
       "    </tr>\n",
       "  </tbody>\n",
       "</table>\n",
       "</div>"
      ],
      "text/plain": [
       "   aa_seq_novelty structural_category    n_t\n",
       "0           Known                 FSM  34094\n",
       "1           Known         FSM w/o CDS    842\n",
       "2           Known                 NIC   2647\n",
       "3           Known                 NNC   2816\n",
       "4           Novel                 FSM   3039\n",
       "5           Novel         FSM w/o CDS  11109\n",
       "6           Novel                 NIC   7325\n",
       "7           Novel                 NNC   9869\n",
       "8      Truncation                 FSM   3870\n",
       "9      Truncation         FSM w/o CDS   5218\n",
       "10     Truncation                 NIC   3044\n",
       "11     Truncation                 NNC   2433"
      ]
     },
     "execution_count": 81,
     "metadata": {},
     "output_type": "execute_result"
    }
   ],
   "source": [
    "temp = p_df[['isoform', 'aa_seq_novelty', 'structural_category']].groupby(['aa_seq_novelty', 'structural_category']).nunique().rename({'isoform':'n_t'}, axis=1)\n",
    "temp = temp.reset_index()\n",
    "temp"
   ]
  },
  {
   "cell_type": "code",
   "execution_count": 82,
   "id": "58aacdfc-2b07-410a-b562-9fb4c2718a89",
   "metadata": {},
   "outputs": [
    {
     "data": {
      "text/html": [
       "<div>\n",
       "<style scoped>\n",
       "    .dataframe tbody tr th:only-of-type {\n",
       "        vertical-align: middle;\n",
       "    }\n",
       "\n",
       "    .dataframe tbody tr th {\n",
       "        vertical-align: top;\n",
       "    }\n",
       "\n",
       "    .dataframe thead th {\n",
       "        text-align: right;\n",
       "    }\n",
       "</style>\n",
       "<table border=\"1\" class=\"dataframe\">\n",
       "  <thead>\n",
       "    <tr style=\"text-align: right;\">\n",
       "      <th></th>\n",
       "      <th>aa_seq_novelty</th>\n",
       "      <th>structural_category</th>\n",
       "      <th>n_t</th>\n",
       "      <th>n_total_t</th>\n",
       "      <th>perc</th>\n",
       "    </tr>\n",
       "  </thead>\n",
       "  <tbody>\n",
       "    <tr>\n",
       "      <th>0</th>\n",
       "      <td>Known</td>\n",
       "      <td>FSM</td>\n",
       "      <td>34094</td>\n",
       "      <td>41003</td>\n",
       "      <td>83.150013</td>\n",
       "    </tr>\n",
       "    <tr>\n",
       "      <th>1</th>\n",
       "      <td>Known</td>\n",
       "      <td>FSM w/o CDS</td>\n",
       "      <td>842</td>\n",
       "      <td>17169</td>\n",
       "      <td>4.904188</td>\n",
       "    </tr>\n",
       "    <tr>\n",
       "      <th>2</th>\n",
       "      <td>Known</td>\n",
       "      <td>NIC</td>\n",
       "      <td>2647</td>\n",
       "      <td>13016</td>\n",
       "      <td>20.336509</td>\n",
       "    </tr>\n",
       "    <tr>\n",
       "      <th>3</th>\n",
       "      <td>Known</td>\n",
       "      <td>NNC</td>\n",
       "      <td>2816</td>\n",
       "      <td>15118</td>\n",
       "      <td>18.626802</td>\n",
       "    </tr>\n",
       "    <tr>\n",
       "      <th>4</th>\n",
       "      <td>Novel</td>\n",
       "      <td>FSM</td>\n",
       "      <td>3039</td>\n",
       "      <td>41003</td>\n",
       "      <td>7.411653</td>\n",
       "    </tr>\n",
       "    <tr>\n",
       "      <th>5</th>\n",
       "      <td>Novel</td>\n",
       "      <td>FSM w/o CDS</td>\n",
       "      <td>11109</td>\n",
       "      <td>17169</td>\n",
       "      <td>64.703827</td>\n",
       "    </tr>\n",
       "    <tr>\n",
       "      <th>6</th>\n",
       "      <td>Novel</td>\n",
       "      <td>NIC</td>\n",
       "      <td>7325</td>\n",
       "      <td>13016</td>\n",
       "      <td>56.276890</td>\n",
       "    </tr>\n",
       "    <tr>\n",
       "      <th>7</th>\n",
       "      <td>Novel</td>\n",
       "      <td>NNC</td>\n",
       "      <td>9869</td>\n",
       "      <td>15118</td>\n",
       "      <td>65.279799</td>\n",
       "    </tr>\n",
       "    <tr>\n",
       "      <th>8</th>\n",
       "      <td>Truncation</td>\n",
       "      <td>FSM</td>\n",
       "      <td>3870</td>\n",
       "      <td>41003</td>\n",
       "      <td>9.438334</td>\n",
       "    </tr>\n",
       "    <tr>\n",
       "      <th>9</th>\n",
       "      <td>Truncation</td>\n",
       "      <td>FSM w/o CDS</td>\n",
       "      <td>5218</td>\n",
       "      <td>17169</td>\n",
       "      <td>30.391986</td>\n",
       "    </tr>\n",
       "    <tr>\n",
       "      <th>10</th>\n",
       "      <td>Truncation</td>\n",
       "      <td>NIC</td>\n",
       "      <td>3044</td>\n",
       "      <td>13016</td>\n",
       "      <td>23.386601</td>\n",
       "    </tr>\n",
       "    <tr>\n",
       "      <th>11</th>\n",
       "      <td>Truncation</td>\n",
       "      <td>NNC</td>\n",
       "      <td>2433</td>\n",
       "      <td>15118</td>\n",
       "      <td>16.093399</td>\n",
       "    </tr>\n",
       "  </tbody>\n",
       "</table>\n",
       "</div>"
      ],
      "text/plain": [
       "   aa_seq_novelty structural_category    n_t  n_total_t       perc\n",
       "0           Known                 FSM  34094      41003  83.150013\n",
       "1           Known         FSM w/o CDS    842      17169   4.904188\n",
       "2           Known                 NIC   2647      13016  20.336509\n",
       "3           Known                 NNC   2816      15118  18.626802\n",
       "4           Novel                 FSM   3039      41003   7.411653\n",
       "5           Novel         FSM w/o CDS  11109      17169  64.703827\n",
       "6           Novel                 NIC   7325      13016  56.276890\n",
       "7           Novel                 NNC   9869      15118  65.279799\n",
       "8      Truncation                 FSM   3870      41003   9.438334\n",
       "9      Truncation         FSM w/o CDS   5218      17169  30.391986\n",
       "10     Truncation                 NIC   3044      13016  23.386601\n",
       "11     Truncation                 NNC   2433      15118  16.093399"
      ]
     },
     "execution_count": 82,
     "metadata": {},
     "output_type": "execute_result"
    }
   ],
   "source": [
    "temp2 = p_df[['isoform', 'structural_category']].groupby(['structural_category']).nunique().rename({'isoform':'n_total_t'}, axis=1)\n",
    "temp = temp.merge(temp2, how='left', on='structural_category')\n",
    "temp['perc'] = (temp['n_t']/temp['n_total_t'])*100\n",
    "temp"
   ]
  },
  {
   "cell_type": "code",
   "execution_count": 86,
   "id": "81125dc3-c0a5-42de-bfc8-65e6eaa8b8fd",
   "metadata": {},
   "outputs": [
    {
     "data": {
      "text/plain": [
       "0.36314972307834914"
      ]
     },
     "execution_count": 86,
     "metadata": {},
     "output_type": "execute_result"
    }
   ],
   "source": [
    "# fully novel (not just a truncation)\n",
    "(3039+11109+7325+9869)/86306"
   ]
  },
  {
   "cell_type": "code",
   "execution_count": 83,
   "id": "0d34caf9-ae22-4ad5-bbc2-21d70a608d10",
   "metadata": {},
   "outputs": [
    {
     "data": {
      "text/plain": [
       "61.11466552925287"
      ]
     },
     "execution_count": 83,
     "metadata": {},
     "output_type": "execute_result"
    }
   ],
   "source": [
    "# % NIC and nic --> novel amino acid\n",
    "((7325+9869)/(13016+15118))*100"
   ]
  },
  {
   "cell_type": "code",
   "execution_count": 87,
   "id": "462b6e42-854b-4217-9fc4-98569ffc73e1",
   "metadata": {},
   "outputs": [
    {
     "data": {
      "text/plain": [
       "24.32097916523413"
      ]
     },
     "execution_count": 87,
     "metadata": {},
     "output_type": "execute_result"
    }
   ],
   "source": [
    "# % FSM --> novel amino acid\n",
    "((3039+11109)/(41003+17169))*100"
   ]
  },
  {
   "cell_type": "code",
   "execution_count": 88,
   "id": "ad054526-716a-4185-a20e-75c0220cc019",
   "metadata": {},
   "outputs": [
    {
     "data": {
      "text/plain": [
       "7.411652805892252"
      ]
     },
     "execution_count": 88,
     "metadata": {},
     "output_type": "execute_result"
    }
   ],
   "source": [
    "# % FSM w/ CDS--> novel amino acid\n",
    "((3039)/(41003))*100"
   ]
  },
  {
   "cell_type": "code",
   "execution_count": 84,
   "id": "d2fe311e-b881-49f3-bbde-59b8cb6e6228",
   "metadata": {},
   "outputs": [
    {
     "data": {
      "text/plain": [
       "<AxesSubplot:xlabel='structural_category', ylabel='n_t'>"
      ]
     },
     "execution_count": 84,
     "metadata": {},
     "output_type": "execute_result"
    },
    {
     "data": {
      "image/png": "[encoded data removed]",
      "text/plain": [
       "<Figure size 432x288 with 1 Axes>"
      ]
     },
     "metadata": {
      "needs_background": "light"
     },
     "output_type": "display_data"
    }
   ],
   "source": [
    "sns.barplot(temp, x='structural_category', hue='aa_seq_novelty', y='n_t')"
   ]
  },
  {
   "cell_type": "code",
   "execution_count": 24,
   "id": "bbcc07f2-06b5-4244-b022-132a6e4c2dda",
   "metadata": {},
   "outputs": [
    {
     "ename": "KeyError",
     "evalue": "'n_total_t'",
     "output_type": "error",
     "traceback": [
      "\u001b[0;31m---------------------------------------------------------------------------\u001b[0m",
      "\u001b[0;31mKeyError\u001b[0m                                  Traceback (most recent call last)",
      "\u001b[0;32m~/miniconda3/lib/python3.7/site-packages/pandas/core/indexes/base.py\u001b[0m in \u001b[0;36mget_loc\u001b[0;34m(self, key, method, tolerance)\u001b[0m\n\u001b[1;32m   3360\u001b[0m             \u001b[0;32mtry\u001b[0m\u001b[0;34m:\u001b[0m\u001b[0;34m\u001b[0m\u001b[0;34m\u001b[0m\u001b[0m\n\u001b[0;32m-> 3361\u001b[0;31m                 \u001b[0;32mreturn\u001b[0m \u001b[0mself\u001b[0m\u001b[0;34m.\u001b[0m\u001b[0m_engine\u001b[0m\u001b[0;34m.\u001b[0m\u001b[0mget_loc\u001b[0m\u001b[0;34m(\u001b[0m\u001b[0mcasted_key\u001b[0m\u001b[0;34m)\u001b[0m\u001b[0;34m\u001b[0m\u001b[0;34m\u001b[0m\u001b[0m\n\u001b[0m\u001b[1;32m   3362\u001b[0m             \u001b[0;32mexcept\u001b[0m \u001b[0mKeyError\u001b[0m \u001b[0;32mas\u001b[0m \u001b[0merr\u001b[0m\u001b[0;34m:\u001b[0m\u001b[0;34m\u001b[0m\u001b[0;34m\u001b[0m\u001b[0m\n",
      "\u001b[0;32m~/miniconda3/lib/python3.7/site-packages/pandas/_libs/index.pyx\u001b[0m in \u001b[0;36mpandas._libs.index.IndexEngine.get_loc\u001b[0;34m()\u001b[0m\n",
      "\u001b[0;32m~/miniconda3/lib/python3.7/site-packages/pandas/_libs/index.pyx\u001b[0m in \u001b[0;36mpandas._libs.index.IndexEngine.get_loc\u001b[0;34m()\u001b[0m\n",
      "\u001b[0;32mpandas/_libs/hashtable_class_helper.pxi\u001b[0m in \u001b[0;36mpandas._libs.hashtable.PyObjectHashTable.get_item\u001b[0;34m()\u001b[0m\n",
      "\u001b[0;32mpandas/_libs/hashtable_class_helper.pxi\u001b[0m in \u001b[0;36mpandas._libs.hashtable.PyObjectHashTable.get_item\u001b[0;34m()\u001b[0m\n",
      "\u001b[0;31mKeyError\u001b[0m: 'n_total_t'",
      "\nThe above exception was the direct cause of the following exception:\n",
      "\u001b[0;31mKeyError\u001b[0m                                  Traceback (most recent call last)",
      "\u001b[0;32m<ipython-input-24-aa3de5b000f6>\u001b[0m in \u001b[0;36m<module>\u001b[0;34m\u001b[0m\n\u001b[1;32m      2\u001b[0m \u001b[0mtemp2\u001b[0m \u001b[0;34m=\u001b[0m \u001b[0mp_df\u001b[0m\u001b[0;34m[\u001b[0m\u001b[0;34m[\u001b[0m\u001b[0;34m'isoform'\u001b[0m\u001b[0;34m,\u001b[0m \u001b[0;34m'structural_category'\u001b[0m\u001b[0;34m]\u001b[0m\u001b[0;34m]\u001b[0m\u001b[0;34m.\u001b[0m\u001b[0mgroupby\u001b[0m\u001b[0;34m(\u001b[0m\u001b[0;34m'structural_category'\u001b[0m\u001b[0;34m)\u001b[0m\u001b[0;34m.\u001b[0m\u001b[0mnunique\u001b[0m\u001b[0;34m(\u001b[0m\u001b[0;34m)\u001b[0m\u001b[0;34m.\u001b[0m\u001b[0mrename\u001b[0m\u001b[0;34m(\u001b[0m\u001b[0;34m{\u001b[0m\u001b[0;34m'isoform'\u001b[0m\u001b[0;34m:\u001b[0m\u001b[0;34m'n_total_t'\u001b[0m\u001b[0;34m}\u001b[0m\u001b[0;34m,\u001b[0m \u001b[0maxis\u001b[0m\u001b[0;34m=\u001b[0m\u001b[0;36m1\u001b[0m\u001b[0;34m)\u001b[0m\u001b[0;34m.\u001b[0m\u001b[0mreset_index\u001b[0m\u001b[0;34m(\u001b[0m\u001b[0;34m)\u001b[0m\u001b[0;34m\u001b[0m\u001b[0;34m\u001b[0m\u001b[0m\n\u001b[1;32m      3\u001b[0m \u001b[0mtemp\u001b[0m \u001b[0;34m=\u001b[0m \u001b[0mtemp\u001b[0m\u001b[0;34m.\u001b[0m\u001b[0mmerge\u001b[0m\u001b[0;34m(\u001b[0m\u001b[0mtemp2\u001b[0m\u001b[0;34m,\u001b[0m \u001b[0mhow\u001b[0m\u001b[0;34m=\u001b[0m\u001b[0;34m'left'\u001b[0m\u001b[0;34m,\u001b[0m \u001b[0mon\u001b[0m\u001b[0;34m=\u001b[0m\u001b[0;34m'structural_category'\u001b[0m\u001b[0;34m)\u001b[0m\u001b[0;34m\u001b[0m\u001b[0;34m\u001b[0m\u001b[0m\n\u001b[0;32m----> 4\u001b[0;31m \u001b[0mtemp\u001b[0m\u001b[0;34m[\u001b[0m\u001b[0;34m'perc'\u001b[0m\u001b[0;34m]\u001b[0m \u001b[0;34m=\u001b[0m \u001b[0;34m(\u001b[0m\u001b[0mtemp\u001b[0m\u001b[0;34m[\u001b[0m\u001b[0;34m'n_t'\u001b[0m\u001b[0;34m]\u001b[0m\u001b[0;34m/\u001b[0m\u001b[0mtemp\u001b[0m\u001b[0;34m[\u001b[0m\u001b[0;34m'n_total_t'\u001b[0m\u001b[0;34m]\u001b[0m\u001b[0;34m)\u001b[0m\u001b[0;34m*\u001b[0m\u001b[0;36m100\u001b[0m\u001b[0;34m\u001b[0m\u001b[0;34m\u001b[0m\u001b[0m\n\u001b[0m",
      "\u001b[0;32m~/miniconda3/lib/python3.7/site-packages/pandas/core/frame.py\u001b[0m in \u001b[0;36m__getitem__\u001b[0;34m(self, key)\u001b[0m\n\u001b[1;32m   3456\u001b[0m             \u001b[0;32mif\u001b[0m \u001b[0mself\u001b[0m\u001b[0;34m.\u001b[0m\u001b[0mcolumns\u001b[0m\u001b[0;34m.\u001b[0m\u001b[0mnlevels\u001b[0m \u001b[0;34m>\u001b[0m \u001b[0;36m1\u001b[0m\u001b[0;34m:\u001b[0m\u001b[0;34m\u001b[0m\u001b[0;34m\u001b[0m\u001b[0m\n\u001b[1;32m   3457\u001b[0m                 \u001b[0;32mreturn\u001b[0m \u001b[0mself\u001b[0m\u001b[0;34m.\u001b[0m\u001b[0m_getitem_multilevel\u001b[0m\u001b[0;34m(\u001b[0m\u001b[0mkey\u001b[0m\u001b[0;34m)\u001b[0m\u001b[0;34m\u001b[0m\u001b[0;34m\u001b[0m\u001b[0m\n\u001b[0;32m-> 3458\u001b[0;31m             \u001b[0mindexer\u001b[0m \u001b[0;34m=\u001b[0m \u001b[0mself\u001b[0m\u001b[0;34m.\u001b[0m\u001b[0mcolumns\u001b[0m\u001b[0;34m.\u001b[0m\u001b[0mget_loc\u001b[0m\u001b[0;34m(\u001b[0m\u001b[0mkey\u001b[0m\u001b[0;34m)\u001b[0m\u001b[0;34m\u001b[0m\u001b[0;34m\u001b[0m\u001b[0m\n\u001b[0m\u001b[1;32m   3459\u001b[0m             \u001b[0;32mif\u001b[0m \u001b[0mis_integer\u001b[0m\u001b[0;34m(\u001b[0m\u001b[0mindexer\u001b[0m\u001b[0;34m)\u001b[0m\u001b[0;34m:\u001b[0m\u001b[0;34m\u001b[0m\u001b[0;34m\u001b[0m\u001b[0m\n\u001b[1;32m   3460\u001b[0m                 \u001b[0mindexer\u001b[0m \u001b[0;34m=\u001b[0m \u001b[0;34m[\u001b[0m\u001b[0mindexer\u001b[0m\u001b[0;34m]\u001b[0m\u001b[0;34m\u001b[0m\u001b[0;34m\u001b[0m\u001b[0m\n",
      "\u001b[0;32m~/miniconda3/lib/python3.7/site-packages/pandas/core/indexes/base.py\u001b[0m in \u001b[0;36mget_loc\u001b[0;34m(self, key, method, tolerance)\u001b[0m\n\u001b[1;32m   3361\u001b[0m                 \u001b[0;32mreturn\u001b[0m \u001b[0mself\u001b[0m\u001b[0;34m.\u001b[0m\u001b[0m_engine\u001b[0m\u001b[0;34m.\u001b[0m\u001b[0mget_loc\u001b[0m\u001b[0;34m(\u001b[0m\u001b[0mcasted_key\u001b[0m\u001b[0;34m)\u001b[0m\u001b[0;34m\u001b[0m\u001b[0;34m\u001b[0m\u001b[0m\n\u001b[1;32m   3362\u001b[0m             \u001b[0;32mexcept\u001b[0m \u001b[0mKeyError\u001b[0m \u001b[0;32mas\u001b[0m \u001b[0merr\u001b[0m\u001b[0;34m:\u001b[0m\u001b[0;34m\u001b[0m\u001b[0;34m\u001b[0m\u001b[0m\n\u001b[0;32m-> 3363\u001b[0;31m                 \u001b[0;32mraise\u001b[0m \u001b[0mKeyError\u001b[0m\u001b[0;34m(\u001b[0m\u001b[0mkey\u001b[0m\u001b[0;34m)\u001b[0m \u001b[0;32mfrom\u001b[0m \u001b[0merr\u001b[0m\u001b[0;34m\u001b[0m\u001b[0;34m\u001b[0m\u001b[0m\n\u001b[0m\u001b[1;32m   3364\u001b[0m \u001b[0;34m\u001b[0m\u001b[0m\n\u001b[1;32m   3365\u001b[0m         \u001b[0;32mif\u001b[0m \u001b[0mis_scalar\u001b[0m\u001b[0;34m(\u001b[0m\u001b[0mkey\u001b[0m\u001b[0;34m)\u001b[0m \u001b[0;32mand\u001b[0m \u001b[0misna\u001b[0m\u001b[0;34m(\u001b[0m\u001b[0mkey\u001b[0m\u001b[0;34m)\u001b[0m \u001b[0;32mand\u001b[0m \u001b[0;32mnot\u001b[0m \u001b[0mself\u001b[0m\u001b[0;34m.\u001b[0m\u001b[0mhasnans\u001b[0m\u001b[0;34m:\u001b[0m\u001b[0;34m\u001b[0m\u001b[0;34m\u001b[0m\u001b[0m\n",
      "\u001b[0;31mKeyError\u001b[0m: 'n_total_t'"
     ]
    }
   ],
   "source": [
    "# what about by % from each category\n",
    "temp2 = p_df[['isoform', 'structural_category']].groupby('structural_category').nunique().rename({'isoform':'n_total_t'}, axis=1).reset_index()\n",
    "temp = temp.merge(temp2, how='left', on='structural_category')\n",
    "temp['perc'] = (temp['n_t']/temp['n_total_t'])*100"
   ]
  },
  {
   "cell_type": "code",
   "execution_count": 25,
   "id": "1cfb006b-aadd-43cd-97cf-96e2d2417295",
   "metadata": {},
   "outputs": [
    {
     "data": {
      "text/plain": [
       "<AxesSubplot:xlabel='structural_category', ylabel='perc'>"
      ]
     },
     "execution_count": 25,
     "metadata": {},
     "output_type": "execute_result"
    },
    {
     "data": {
      "image/png": "[encoded data removed]",
      "text/plain": [
       "<Figure size 432x288 with 1 Axes>"
      ]
     },
     "metadata": {
      "needs_background": "light"
     },
     "output_type": "display_data"
    }
   ],
   "source": [
    "sns.barplot(temp, x='structural_category', hue='aa_seq_novelty', y='perc')"
   ]
  },
  {
   "cell_type": "code",
   "execution_count": 26,
   "id": "08f3e6a4-a389-483b-8ae3-a7b3bc8872f9",
   "metadata": {},
   "outputs": [],
   "source": [
    "# temp.to_csv('241113_struct_cat_aa_cat.tsv', sep='\\t')\n",
    "temp.to_csv('241119_struct_cat_aa_cat.tsv', sep='\\t')"
   ]
  },
  {
   "cell_type": "markdown",
   "id": "52215368-0edc-4d57-ab0f-4004a5695825",
   "metadata": {},
   "source": [
    "## What do blastp identities look like for novel aa?"
   ]
  },
  {
   "cell_type": "code",
   "execution_count": 92,
   "id": "2f7e1e8f-c8de-4614-ac1f-3698da83136a",
   "metadata": {},
   "outputs": [
    {
     "data": {
      "text/plain": [
       "<AxesSubplot:xlabel='aa_seq_novelty', ylabel='blastp_identity'>"
      ]
     },
     "execution_count": 92,
     "metadata": {},
     "output_type": "execute_result"
    },
    {
     "data": {
      "image/png": "[encoded data removed]",
      "text/plain": [
       "<Figure size 432x288 with 1 Axes>"
      ]
     },
     "metadata": {
      "needs_background": "light"
     },
     "output_type": "display_data"
    }
   ],
   "source": [
    "sns.violinplot(p_df, y='blastp_identity', x='aa_seq_novelty')"
   ]
  },
  {
   "cell_type": "code",
   "execution_count": 95,
   "id": "aa24f953-fa92-4bc4-a6e0-750bee63ad0c",
   "metadata": {},
   "outputs": [
    {
     "data": {
      "text/plain": [
       "<seaborn.axisgrid.FacetGrid at 0x7fccb2a70310>"
      ]
     },
     "execution_count": 95,
     "metadata": {},
     "output_type": "execute_result"
    },
    {
     "data": {
      "image/png": "[encoded data removed]",
      "text/plain": [
       "<Figure size 448.125x360 with 1 Axes>"
      ]
     },
     "metadata": {
      "needs_background": "light"
     },
     "output_type": "display_data"
    }
   ],
   "source": [
    "# ecdf\n",
    "sns.displot(p_df, x='blastp_identity', hue='aa_seq_novelty', kind='ecdf')"
   ]
  },
  {
   "cell_type": "code",
   "execution_count": 93,
   "id": "4618894b-6b68-46cf-963d-0411d810e2f2",
   "metadata": {},
   "outputs": [
    {
     "data": {
      "text/plain": [
       "<AxesSubplot:xlabel='structural_category', ylabel='blastp_identity'>"
      ]
     },
     "execution_count": 93,
     "metadata": {},
     "output_type": "execute_result"
    },
    {
     "data": {
      "image/png": "[encoded data removed]",
      "text/plain": [
       "<Figure size 432x288 with 1 Axes>"
      ]
     },
     "metadata": {
      "needs_background": "light"
     },
     "output_type": "display_data"
    }
   ],
   "source": [
    "sns.violinplot(p_df, y='blastp_identity', x='structural_category')"
   ]
  },
  {
   "cell_type": "code",
   "execution_count": 98,
   "id": "9b8d2e47-ec78-4324-9fd0-e61f56ef65ea",
   "metadata": {},
   "outputs": [
    {
     "name": "stdout",
     "output_type": "stream",
     "text": [
      "77.14% (24178/31342) of novel pc non nmd aa seqs have blastp ident >= 80%\n"
     ]
    }
   ],
   "source": [
    "# how many novel have blastp > thresh?\n",
    "thresh = 80\n",
    "n = len(p_df.loc[(p_df.aa_seq_novelty=='Novel')&\\\n",
    "                 (p_df.blastp_identity>=thresh)].index)\n",
    "n_tot = len(p_df.loc[(p_df.aa_seq_novelty=='Novel')].index)\n",
    "print(f'{(n/n_tot)*100:.2f}% ({n}/{n_tot}) of novel pc non nmd aa seqs have blastp ident >= {thresh}%')"
   ]
  },
  {
   "cell_type": "code",
   "execution_count": null,
   "id": "93acbfdc-3545-406b-8b31-f7130c34b692",
   "metadata": {},
   "outputs": [],
   "source": []
  },
  {
   "cell_type": "code",
   "execution_count": null,
   "id": "38af434e-c6de-4928-941f-3bf02fa32082",
   "metadata": {},
   "outputs": [],
   "source": []
  },
  {
   "cell_type": "code",
   "execution_count": null,
   "id": "e74e07bc-7031-4adc-965b-75c71a91aba8",
   "metadata": {},
   "outputs": [],
   "source": []
  },
  {
   "cell_type": "code",
   "execution_count": null,
   "id": "80f7aca2-7ca9-4d07-9a3a-a0d354d194e7",
   "metadata": {},
   "outputs": [],
   "source": []
  },
  {
   "cell_type": "code",
   "execution_count": null,
   "id": "0083759a-1be4-4c90-a9c2-25d994e968d5",
   "metadata": {},
   "outputs": [],
   "source": []
  },
  {
   "cell_type": "code",
   "execution_count": null,
   "id": "85c28f1d-0959-4413-96a4-2c2d40769176",
   "metadata": {},
   "outputs": [],
   "source": []
  },
  {
   "cell_type": "markdown",
   "id": "09d4abf0-6bba-4efd-b356-1c640bdca70f",
   "metadata": {},
   "source": [
    "## Number of unique gene+aa combos detected by population"
   ]
  },
  {
   "cell_type": "code",
   "execution_count": 248,
   "id": "d51faccd-b849-43f3-9361-4d78c3c78865",
   "metadata": {},
   "outputs": [],
   "source": [
    "p_df['aa_id'] = p_df.gid+'_'+p_df.seq\n",
    "\n",
    "meta = load_meta()\n",
    "meta = meta.loc[meta.merged_run_mode==True]\n",
    "sample_d = dict([(entry.cell_line_id, entry['sample']) \\\n",
    "                 for ind, entry in meta.iterrows()])\n",
    "samples = [s for s in meta['sample'].tolist() if s in mt_df.columns]\n",
    "\n",
    "temp = mt_df[['isoform']+samples]\n",
    "temp.rename({'isoform': 'tid'}, axis=1, inplace=True)\n",
    "temp.set_index('tid', inplace=True)\n",
    "temp = temp.melt(ignore_index=False, var_name='sample', value_name='detected')\n",
    "temp.reset_index(inplace=True)\n",
    "temp = temp.merge(meta[['sample', 'map_reads_assemblymap']], \n",
    "                  how='left',\n",
    "                  on='sample')\n",
    "\n",
    "# remove undetected things\n",
    "temp = temp.loc[temp.detected!=0]\n",
    "\n",
    "# merge in the gid_seq key and aa novelty status from p_df\n",
    "temp = temp.merge(p_df[['annot_aa', 'tid', 'aa_id', 'aa_seq_novelty']],\n",
    "                  how='inner', #limit to only the things we care about which are already in p_df\n",
    "                  on='tid')\n",
    "\n",
    "temp.drop(['detected', 'tid'], axis=1, inplace=True)\n",
    "temp = temp.groupby(['annot_aa', 'map_reads_assemblymap', 'sample', 'aa_seq_novelty']).nunique().rename({'aa_id':'n_aa'}, axis=1).reset_index()\n",
    "temp['eur_noneur'] = 'Non-European'\n",
    "temp.loc[(temp['sample'].str.startswith('AJI'))|\\\n",
    "         (temp['sample'].str.startswith('CEU')), 'eur_noneur'] = 'European'\n",
    "temp['n_aa_per_million'] = (temp.n_aa/temp.map_reads_assemblymap)*1e6\n"
   ]
  },
  {
   "cell_type": "code",
   "execution_count": 249,
   "id": "719d5a9c-b310-4c23-a809-853ccee36a39",
   "metadata": {},
   "outputs": [
    {
     "data": {
      "text/plain": [
       "<AxesSubplot:xlabel='annot_aa', ylabel='n_aa'>"
      ]
     },
     "execution_count": 249,
     "metadata": {},
     "output_type": "execute_result"
    },
    {
     "data": {
      "image/png": "[encoded data removed]",
      "text/plain": [
       "<Figure size 432x288 with 1 Axes>"
      ]
     },
     "metadata": {
      "needs_background": "light"
     },
     "output_type": "display_data"
    }
   ],
   "source": [
    "sns.violinplot(temp, y='n_aa', x='annot_aa', hue='eur_noneur')"
   ]
  },
  {
   "cell_type": "code",
   "execution_count": 250,
   "id": "ed4f678d-55cc-48f3-9264-baf167b3a892",
   "metadata": {},
   "outputs": [
    {
     "data": {
      "text/plain": [
       "<AxesSubplot:xlabel='annot_aa', ylabel='n_aa'>"
      ]
     },
     "execution_count": 250,
     "metadata": {},
     "output_type": "execute_result"
    },
    {
     "data": {
      "image/png": "[encoded data removed]",
      "text/plain": [
       "<Figure size 432x288 with 1 Axes>"
      ]
     },
     "metadata": {
      "needs_background": "light"
     },
     "output_type": "display_data"
    }
   ],
   "source": [
    "sns.boxplot(temp, y='n_aa', x='annot_aa', hue='eur_noneur')"
   ]
  },
  {
   "cell_type": "code",
   "execution_count": 251,
   "id": "de5cb2a9-f603-446b-8069-991cc102fd14",
   "metadata": {},
   "outputs": [
    {
     "name": "stdout",
     "output_type": "stream",
     "text": [
      "Two-sided Wilcoxon rank-sum test stat: -0.04858127067234718\n",
      "pval: 0.9612529961768728\n"
     ]
    }
   ],
   "source": [
    "x = temp.loc[temp.eur_noneur=='European', 'n_aa_per_million'].tolist()\n",
    "y = temp.loc[temp.eur_noneur=='Non-European', 'n_aa_per_million'].tolist()\n",
    "stat, pval = st.ranksums(x, y, alternative='two-sided')\n",
    "print(f'Two-sided Wilcoxon rank-sum test stat: {stat}')\n",
    "print(f'pval: {pval}')"
   ]
  },
  {
   "cell_type": "code",
   "execution_count": 252,
   "id": "ee6c6747-7c61-485a-9c30-499cd42c9682",
   "metadata": {},
   "outputs": [
    {
     "data": {
      "text/plain": [
       "<AxesSubplot:xlabel='aa_seq_novelty', ylabel='n_aa'>"
      ]
     },
     "execution_count": 252,
     "metadata": {},
     "output_type": "execute_result"
    },
    {
     "data": {
      "image/png": "[encoded data removed]",
      "text/plain": [
       "<Figure size 432x288 with 1 Axes>"
      ]
     },
     "metadata": {
      "needs_background": "light"
     },
     "output_type": "display_data"
    }
   ],
   "source": [
    "sns.violinplot(temp, y='n_aa', x='aa_seq_novelty', hue='eur_noneur')"
   ]
  },
  {
   "cell_type": "code",
   "execution_count": 253,
   "id": "c5421a04-26bc-4a08-b80b-b5777560bdeb",
   "metadata": {},
   "outputs": [
    {
     "name": "stdout",
     "output_type": "stream",
     "text": [
      "Novel\n",
      "Two-sided Wilcoxon rank-sum test stat: -0.6680426571226848\n",
      "pval: 0.5041063636520798\n",
      "\n",
      "Truncation\n",
      "Two-sided Wilcoxon rank-sum test stat: 0.3340213285613424\n",
      "pval: 0.7383634642235701\n",
      "\n",
      "Known\n",
      "Two-sided Wilcoxon rank-sum test stat: 0.0\n",
      "pval: 1.0\n",
      "\n"
     ]
    }
   ],
   "source": [
    "for n in temp.aa_seq_novelty.unique().tolist():\n",
    "    temp2 = temp.loc[temp.aa_seq_novelty==n].copy(deep=True)\n",
    "    x = temp2.loc[temp2.eur_noneur=='European', 'n_aa_per_million'].tolist()\n",
    "    y = temp2.loc[temp2.eur_noneur=='Non-European', 'n_aa_per_million'].tolist()\n",
    "    stat, pval = st.ranksums(x, y, alternative='two-sided')\n",
    "    print(n)\n",
    "    print(f'Two-sided Wilcoxon rank-sum test stat: {stat}')\n",
    "    print(f'pval: {pval}')\n",
    "    print()"
   ]
  },
  {
   "cell_type": "code",
   "execution_count": 254,
   "id": "ff70ce80-2024-41a0-a2bb-73d9605acfa5",
   "metadata": {},
   "outputs": [
    {
     "name": "stdout",
     "output_type": "stream",
     "text": [
      "Novel\n",
      "Two-sided Wilcoxon rank-sum test stat: -0.6680426571226848\n",
      "pval: 0.5041063636520798\n",
      "\n",
      "Known\n",
      "Two-sided Wilcoxon rank-sum test stat: 0.11877113736973437\n",
      "pval: 0.9054566758336993\n",
      "\n"
     ]
    }
   ],
   "source": [
    "# what about combining FSMs and Knowns together?\n",
    "temp['aa_seq_novelty_2'] = 'Known'\n",
    "temp.loc[temp.aa_seq_novelty=='Novel', 'aa_seq_novelty_2'] = 'Novel'\n",
    "\n",
    "for n in temp.aa_seq_novelty_2.unique().tolist():\n",
    "    temp2 = temp.loc[temp.aa_seq_novelty_2==n].copy(deep=True)\n",
    "    x = temp2.loc[temp2.eur_noneur=='European', 'n_aa_per_million'].tolist()\n",
    "    y = temp2.loc[temp2.eur_noneur=='Non-European', 'n_aa_per_million'].tolist()\n",
    "    stat, pval = st.ranksums(x, y, alternative='two-sided')\n",
    "    print(n)\n",
    "    print(f'Two-sided Wilcoxon rank-sum test stat: {stat}')\n",
    "    print(f'pval: {pval}')\n",
    "    print()"
   ]
  },
  {
   "cell_type": "code",
   "execution_count": 255,
   "id": "106cc7ee-f60e-4601-ba90-f1f7d3473392",
   "metadata": {},
   "outputs": [
    {
     "data": {
      "text/plain": [
       "<AxesSubplot:xlabel='aa_seq_novelty_2', ylabel='n_aa'>"
      ]
     },
     "execution_count": 255,
     "metadata": {},
     "output_type": "execute_result"
    },
    {
     "data": {
      "image/png": "[encoded data removed]",
      "text/plain": [
       "<Figure size 432x288 with 1 Axes>"
      ]
     },
     "metadata": {
      "needs_background": "light"
     },
     "output_type": "display_data"
    }
   ],
   "source": [
    "sns.violinplot(temp, y='n_aa', x='aa_seq_novelty_2', hue='eur_noneur')"
   ]
  },
  {
   "cell_type": "code",
   "execution_count": 256,
   "id": "024d18af-0925-4242-8c53-c1c32f9fd9d1",
   "metadata": {},
   "outputs": [
    {
     "data": {
      "text/plain": [
       "<AxesSubplot:xlabel='aa_seq_novelty_2', ylabel='n_aa_per_million'>"
      ]
     },
     "execution_count": 256,
     "metadata": {},
     "output_type": "execute_result"
    },
    {
     "data": {
      "image/png": "[encoded data removed]",
      "text/plain": [
       "<Figure size 432x288 with 1 Axes>"
      ]
     },
     "metadata": {
      "needs_background": "light"
     },
     "output_type": "display_data"
    }
   ],
   "source": [
    "sns.violinplot(temp, y='n_aa_per_million', x='aa_seq_novelty_2', hue='eur_noneur')"
   ]
  },
  {
   "cell_type": "markdown",
   "id": "b5b5cfe9-dd68-446b-b367-f121e5402d63",
   "metadata": {},
   "source": [
    "## What % of FSM transcripts --> known AA seq? What % of novel transcripts --> novel AA seq?"
   ]
  },
  {
   "cell_type": "code",
   "execution_count": 257,
   "id": "484ae886-675d-4ad2-b210-7b65dadb16ea",
   "metadata": {},
   "outputs": [],
   "source": [
    "temp = pd.read_csv('241113_struct_cat_aa_cat.tsv', sep='\\t')"
   ]
  },
  {
   "cell_type": "code",
   "execution_count": 258,
   "id": "0aa883d8-7a85-42e6-802a-851d062f859b",
   "metadata": {},
   "outputs": [
    {
     "data": {
      "text/html": [
       "<div>\n",
       "<style scoped>\n",
       "    .dataframe tbody tr th:only-of-type {\n",
       "        vertical-align: middle;\n",
       "    }\n",
       "\n",
       "    .dataframe tbody tr th {\n",
       "        vertical-align: top;\n",
       "    }\n",
       "\n",
       "    .dataframe thead th {\n",
       "        text-align: right;\n",
       "    }\n",
       "</style>\n",
       "<table border=\"1\" class=\"dataframe\">\n",
       "  <thead>\n",
       "    <tr style=\"text-align: right;\">\n",
       "      <th></th>\n",
       "      <th>Unnamed: 0</th>\n",
       "      <th>aa_seq_novelty</th>\n",
       "      <th>structural_category</th>\n",
       "      <th>n_t</th>\n",
       "      <th>n_total_t</th>\n",
       "      <th>perc</th>\n",
       "    </tr>\n",
       "  </thead>\n",
       "  <tbody>\n",
       "    <tr>\n",
       "      <th>0</th>\n",
       "      <td>0</td>\n",
       "      <td>Known</td>\n",
       "      <td>FSM</td>\n",
       "      <td>34936</td>\n",
       "      <td>58172</td>\n",
       "      <td>60.056385</td>\n",
       "    </tr>\n",
       "    <tr>\n",
       "      <th>1</th>\n",
       "      <td>1</td>\n",
       "      <td>Known</td>\n",
       "      <td>NIC</td>\n",
       "      <td>2647</td>\n",
       "      <td>13016</td>\n",
       "      <td>20.336509</td>\n",
       "    </tr>\n",
       "    <tr>\n",
       "      <th>2</th>\n",
       "      <td>2</td>\n",
       "      <td>Known</td>\n",
       "      <td>NNC</td>\n",
       "      <td>2816</td>\n",
       "      <td>15118</td>\n",
       "      <td>18.626802</td>\n",
       "    </tr>\n",
       "    <tr>\n",
       "      <th>3</th>\n",
       "      <td>3</td>\n",
       "      <td>Novel</td>\n",
       "      <td>FSM</td>\n",
       "      <td>14148</td>\n",
       "      <td>58172</td>\n",
       "      <td>24.320979</td>\n",
       "    </tr>\n",
       "    <tr>\n",
       "      <th>4</th>\n",
       "      <td>4</td>\n",
       "      <td>Novel</td>\n",
       "      <td>NIC</td>\n",
       "      <td>7325</td>\n",
       "      <td>13016</td>\n",
       "      <td>56.276890</td>\n",
       "    </tr>\n",
       "    <tr>\n",
       "      <th>5</th>\n",
       "      <td>5</td>\n",
       "      <td>Novel</td>\n",
       "      <td>NNC</td>\n",
       "      <td>9869</td>\n",
       "      <td>15118</td>\n",
       "      <td>65.279799</td>\n",
       "    </tr>\n",
       "    <tr>\n",
       "      <th>6</th>\n",
       "      <td>6</td>\n",
       "      <td>Truncation</td>\n",
       "      <td>FSM</td>\n",
       "      <td>9088</td>\n",
       "      <td>58172</td>\n",
       "      <td>15.622636</td>\n",
       "    </tr>\n",
       "    <tr>\n",
       "      <th>7</th>\n",
       "      <td>7</td>\n",
       "      <td>Truncation</td>\n",
       "      <td>NIC</td>\n",
       "      <td>3044</td>\n",
       "      <td>13016</td>\n",
       "      <td>23.386601</td>\n",
       "    </tr>\n",
       "    <tr>\n",
       "      <th>8</th>\n",
       "      <td>8</td>\n",
       "      <td>Truncation</td>\n",
       "      <td>NNC</td>\n",
       "      <td>2433</td>\n",
       "      <td>15118</td>\n",
       "      <td>16.093399</td>\n",
       "    </tr>\n",
       "  </tbody>\n",
       "</table>\n",
       "</div>"
      ],
      "text/plain": [
       "   Unnamed: 0 aa_seq_novelty structural_category    n_t  n_total_t       perc\n",
       "0           0          Known                 FSM  34936      58172  60.056385\n",
       "1           1          Known                 NIC   2647      13016  20.336509\n",
       "2           2          Known                 NNC   2816      15118  18.626802\n",
       "3           3          Novel                 FSM  14148      58172  24.320979\n",
       "4           4          Novel                 NIC   7325      13016  56.276890\n",
       "5           5          Novel                 NNC   9869      15118  65.279799\n",
       "6           6     Truncation                 FSM   9088      58172  15.622636\n",
       "7           7     Truncation                 NIC   3044      13016  23.386601\n",
       "8           8     Truncation                 NNC   2433      15118  16.093399"
      ]
     },
     "execution_count": 258,
     "metadata": {},
     "output_type": "execute_result"
    }
   ],
   "source": [
    "temp"
   ]
  },
  {
   "cell_type": "code",
   "execution_count": 259,
   "id": "bb56e21d-f646-45c1-8087-80e4b0e64556",
   "metadata": {},
   "outputs": [
    {
     "data": {
      "text/plain": [
       "43.6"
      ]
     },
     "execution_count": 259,
     "metadata": {},
     "output_type": "execute_result"
    }
   ],
   "source": [
    "20.3+23.3"
   ]
  },
  {
   "cell_type": "markdown",
   "id": "b0e5ced9-8d1a-4ec2-8443-d14a084add72",
   "metadata": {},
   "source": [
    "## What about # ORFs / gene / population between the OOA and Afr? "
   ]
  },
  {
   "cell_type": "code",
   "execution_count": 385,
   "id": "de955a13-7d8e-4a35-a013-47cb84a29e6c",
   "metadata": {},
   "outputs": [],
   "source": [
    "# get expression levels for each transcript\n",
    "\n",
    "f = expand(proc_cfg(config['lr']['kallisto']['quant']['merge_matrix_tsv'],od))[0]\n",
    "\n",
    "meta = load_meta()\n",
    "meta = meta.loc[meta.merged_run_mode==True]\n",
    "sample_d = dict([(entry.cell_line_id, entry['sample']) \\\n",
    "                 for ind, entry in meta.iterrows()])\n",
    "\n",
    "\n",
    "df = pd.read_csv(f, sep='\\t')\n",
    "df.columns = [d if d == 'transcript_id' else d.split('_')[0] for d in df.columns]\n",
    "df.rename({'transcript_id':'tid'}, axis=1, inplace=True)\n",
    "df.rename(sample_d, axis=1, inplace=True)\n",
    "# df.set_index('tid', inplace=True)"
   ]
  },
  {
   "cell_type": "code",
   "execution_count": 386,
   "id": "bef0a0a9-6647-417a-8fd0-05c9a17325b2",
   "metadata": {},
   "outputs": [],
   "source": [
    "temp = p_df[['tid', 'aa_id']].copy(deep=True)\n",
    "temp.head()\n",
    "l1 = len(temp.index)"
   ]
  },
  {
   "cell_type": "code",
   "execution_count": 387,
   "id": "f32224cb-2ba9-4229-9e6b-bc3481d984b4",
   "metadata": {},
   "outputs": [],
   "source": [
    "temp = temp.merge(df, \n",
    "              how='inner',\n",
    "              on='tid')\n",
    "l2 = len(temp.index)\n",
    "assert l1 == l2"
   ]
  },
  {
   "cell_type": "code",
   "execution_count": 388,
   "id": "ae1c5f93-f79a-48b2-8ce6-2dda0de180a9",
   "metadata": {},
   "outputs": [
    {
     "data": {
      "text/html": [
       "<div>\n",
       "<style scoped>\n",
       "    .dataframe tbody tr th:only-of-type {\n",
       "        vertical-align: middle;\n",
       "    }\n",
       "\n",
       "    .dataframe tbody tr th {\n",
       "        vertical-align: top;\n",
       "    }\n",
       "\n",
       "    .dataframe thead th {\n",
       "        text-align: right;\n",
       "    }\n",
       "</style>\n",
       "<table border=\"1\" class=\"dataframe\">\n",
       "  <thead>\n",
       "    <tr style=\"text-align: right;\">\n",
       "      <th></th>\n",
       "      <th>aa_id</th>\n",
       "      <th>YRI5</th>\n",
       "      <th>YRI6</th>\n",
       "      <th>YRI7</th>\n",
       "      <th>HAC1</th>\n",
       "      <th>HAC2</th>\n",
       "      <th>HAC3</th>\n",
       "      <th>HAC4</th>\n",
       "      <th>HAC5</th>\n",
       "      <th>HAC6</th>\n",
       "      <th>...</th>\n",
       "      <th>AJI6</th>\n",
       "      <th>CEU1</th>\n",
       "      <th>CEU2</th>\n",
       "      <th>CEU3</th>\n",
       "      <th>CEU4</th>\n",
       "      <th>CEU5</th>\n",
       "      <th>MPC4</th>\n",
       "      <th>YRI1</th>\n",
       "      <th>YRI2</th>\n",
       "      <th>YRI3</th>\n",
       "    </tr>\n",
       "  </thead>\n",
       "  <tbody>\n",
       "    <tr>\n",
       "      <th>0</th>\n",
       "      <td>ENSG00000000003.16_MASPSRRLQTKPVITCFKSVLLIYTFI...</td>\n",
       "      <td>1.00000</td>\n",
       "      <td>0.00000</td>\n",
       "      <td>0.00000</td>\n",
       "      <td>1.00000</td>\n",
       "      <td>1.00000</td>\n",
       "      <td>1.0000</td>\n",
       "      <td>0.00000</td>\n",
       "      <td>1.00000</td>\n",
       "      <td>1.00000</td>\n",
       "      <td>...</td>\n",
       "      <td>0.00000</td>\n",
       "      <td>2.00000</td>\n",
       "      <td>1.00000</td>\n",
       "      <td>0.00000</td>\n",
       "      <td>0.00000</td>\n",
       "      <td>0.00000</td>\n",
       "      <td>0.00000</td>\n",
       "      <td>0.00000</td>\n",
       "      <td>1.00000</td>\n",
       "      <td>1.0000</td>\n",
       "    </tr>\n",
       "    <tr>\n",
       "      <th>1</th>\n",
       "      <td>ENSG00000000005.6_MAKNPPENCEDCHILNAEAFKSKKICKS...</td>\n",
       "      <td>0.00000</td>\n",
       "      <td>0.00000</td>\n",
       "      <td>0.00000</td>\n",
       "      <td>0.00000</td>\n",
       "      <td>0.00000</td>\n",
       "      <td>0.0000</td>\n",
       "      <td>0.00000</td>\n",
       "      <td>0.00000</td>\n",
       "      <td>0.00000</td>\n",
       "      <td>...</td>\n",
       "      <td>0.00000</td>\n",
       "      <td>0.00000</td>\n",
       "      <td>0.00000</td>\n",
       "      <td>0.00000</td>\n",
       "      <td>0.00000</td>\n",
       "      <td>0.00000</td>\n",
       "      <td>0.00000</td>\n",
       "      <td>0.00000</td>\n",
       "      <td>0.00000</td>\n",
       "      <td>0.0000</td>\n",
       "    </tr>\n",
       "    <tr>\n",
       "      <th>2</th>\n",
       "      <td>ENSG00000000419.14_MASLEVSRSPRRSRRELEVRSPRQNKY...</td>\n",
       "      <td>0.00000</td>\n",
       "      <td>0.00000</td>\n",
       "      <td>0.00000</td>\n",
       "      <td>2.07935</td>\n",
       "      <td>0.00000</td>\n",
       "      <td>0.0000</td>\n",
       "      <td>0.00000</td>\n",
       "      <td>2.03024</td>\n",
       "      <td>2.04269</td>\n",
       "      <td>...</td>\n",
       "      <td>1.02258</td>\n",
       "      <td>0.00000</td>\n",
       "      <td>0.00000</td>\n",
       "      <td>1.02113</td>\n",
       "      <td>0.00000</td>\n",
       "      <td>1.03420</td>\n",
       "      <td>0.00000</td>\n",
       "      <td>1.03912</td>\n",
       "      <td>1.02755</td>\n",
       "      <td>3.0654</td>\n",
       "    </tr>\n",
       "    <tr>\n",
       "      <th>3</th>\n",
       "      <td>ENSG00000000419.14_MASLEVSRSPRRSRRELEVRSPRQNKY...</td>\n",
       "      <td>18.74080</td>\n",
       "      <td>20.10130</td>\n",
       "      <td>91.01830</td>\n",
       "      <td>94.96290</td>\n",
       "      <td>26.24530</td>\n",
       "      <td>45.5997</td>\n",
       "      <td>52.41740</td>\n",
       "      <td>41.33300</td>\n",
       "      <td>53.68340</td>\n",
       "      <td>...</td>\n",
       "      <td>39.57130</td>\n",
       "      <td>54.28780</td>\n",
       "      <td>38.80330</td>\n",
       "      <td>51.71940</td>\n",
       "      <td>56.74450</td>\n",
       "      <td>42.10220</td>\n",
       "      <td>73.65610</td>\n",
       "      <td>43.17920</td>\n",
       "      <td>14.13180</td>\n",
       "      <td>83.8260</td>\n",
       "    </tr>\n",
       "    <tr>\n",
       "      <th>4</th>\n",
       "      <td>ENSG00000000419.14_MASLEVSRSPRRSRRELEVRSPRQNKY...</td>\n",
       "      <td>48.39190</td>\n",
       "      <td>20.38830</td>\n",
       "      <td>156.17700</td>\n",
       "      <td>286.31800</td>\n",
       "      <td>55.34250</td>\n",
       "      <td>71.1835</td>\n",
       "      <td>67.50010</td>\n",
       "      <td>55.72600</td>\n",
       "      <td>99.77590</td>\n",
       "      <td>...</td>\n",
       "      <td>50.12330</td>\n",
       "      <td>108.65800</td>\n",
       "      <td>41.42520</td>\n",
       "      <td>83.44990</td>\n",
       "      <td>105.20500</td>\n",
       "      <td>72.24840</td>\n",
       "      <td>97.12670</td>\n",
       "      <td>88.24560</td>\n",
       "      <td>41.40640</td>\n",
       "      <td>77.7250</td>\n",
       "    </tr>\n",
       "    <tr>\n",
       "      <th>...</th>\n",
       "      <td>...</td>\n",
       "      <td>...</td>\n",
       "      <td>...</td>\n",
       "      <td>...</td>\n",
       "      <td>...</td>\n",
       "      <td>...</td>\n",
       "      <td>...</td>\n",
       "      <td>...</td>\n",
       "      <td>...</td>\n",
       "      <td>...</td>\n",
       "      <td>...</td>\n",
       "      <td>...</td>\n",
       "      <td>...</td>\n",
       "      <td>...</td>\n",
       "      <td>...</td>\n",
       "      <td>...</td>\n",
       "      <td>...</td>\n",
       "      <td>...</td>\n",
       "      <td>...</td>\n",
       "      <td>...</td>\n",
       "      <td>...</td>\n",
       "    </tr>\n",
       "    <tr>\n",
       "      <th>67147</th>\n",
       "      <td>ENSG00000310517.1_MNPTETKAVKTEPEKKSQSTKLSVVHEK...</td>\n",
       "      <td>0.00000</td>\n",
       "      <td>0.00000</td>\n",
       "      <td>0.00000</td>\n",
       "      <td>0.00000</td>\n",
       "      <td>0.00000</td>\n",
       "      <td>6.6893</td>\n",
       "      <td>0.00000</td>\n",
       "      <td>0.00000</td>\n",
       "      <td>0.00000</td>\n",
       "      <td>...</td>\n",
       "      <td>0.00000</td>\n",
       "      <td>0.00000</td>\n",
       "      <td>0.00000</td>\n",
       "      <td>5.79749</td>\n",
       "      <td>11.83970</td>\n",
       "      <td>0.00000</td>\n",
       "      <td>0.00000</td>\n",
       "      <td>0.00000</td>\n",
       "      <td>0.00000</td>\n",
       "      <td>0.0000</td>\n",
       "    </tr>\n",
       "    <tr>\n",
       "      <th>67148</th>\n",
       "      <td>ENSG00000310517.1_MNPTETKAVKTEPEKKSQSTKPKSLPKQ...</td>\n",
       "      <td>0.00000</td>\n",
       "      <td>0.00000</td>\n",
       "      <td>0.00000</td>\n",
       "      <td>0.00000</td>\n",
       "      <td>0.00000</td>\n",
       "      <td>0.0000</td>\n",
       "      <td>0.00000</td>\n",
       "      <td>0.00000</td>\n",
       "      <td>0.00000</td>\n",
       "      <td>...</td>\n",
       "      <td>0.00000</td>\n",
       "      <td>1.28082</td>\n",
       "      <td>0.00000</td>\n",
       "      <td>0.00000</td>\n",
       "      <td>0.00000</td>\n",
       "      <td>0.00000</td>\n",
       "      <td>0.00000</td>\n",
       "      <td>0.00000</td>\n",
       "      <td>0.00000</td>\n",
       "      <td>0.0000</td>\n",
       "    </tr>\n",
       "    <tr>\n",
       "      <th>67149</th>\n",
       "      <td>ENSG00000310517.1_MNPTETKAVKTEPEKKSQSTKPKSLPKQ...</td>\n",
       "      <td>3.64927</td>\n",
       "      <td>4.42553</td>\n",
       "      <td>9.03138</td>\n",
       "      <td>53.85700</td>\n",
       "      <td>3.33249</td>\n",
       "      <td>10.0506</td>\n",
       "      <td>1.50222</td>\n",
       "      <td>0.00000</td>\n",
       "      <td>7.31558</td>\n",
       "      <td>...</td>\n",
       "      <td>10.92800</td>\n",
       "      <td>5.90564</td>\n",
       "      <td>5.10804</td>\n",
       "      <td>4.09277</td>\n",
       "      <td>0.00000</td>\n",
       "      <td>18.32300</td>\n",
       "      <td>15.34630</td>\n",
       "      <td>6.33884</td>\n",
       "      <td>1.11982</td>\n",
       "      <td>11.0737</td>\n",
       "    </tr>\n",
       "    <tr>\n",
       "      <th>67150</th>\n",
       "      <td>ENSG00000310517.1_MSDQALEALSASLGTRQAEPELDLRSIK...</td>\n",
       "      <td>1.18605</td>\n",
       "      <td>0.00000</td>\n",
       "      <td>3.47883</td>\n",
       "      <td>0.00000</td>\n",
       "      <td>0.00000</td>\n",
       "      <td>0.0000</td>\n",
       "      <td>0.00000</td>\n",
       "      <td>0.00000</td>\n",
       "      <td>0.00000</td>\n",
       "      <td>...</td>\n",
       "      <td>1.58481</td>\n",
       "      <td>0.00000</td>\n",
       "      <td>0.00000</td>\n",
       "      <td>0.00000</td>\n",
       "      <td>1.89797</td>\n",
       "      <td>0.00000</td>\n",
       "      <td>0.00000</td>\n",
       "      <td>0.00000</td>\n",
       "      <td>0.00000</td>\n",
       "      <td>0.0000</td>\n",
       "    </tr>\n",
       "    <tr>\n",
       "      <th>67151</th>\n",
       "      <td>ENSG00000310517.1_MSDQALEALSASLGTRQAEPELDLRSIK...</td>\n",
       "      <td>2.31714</td>\n",
       "      <td>0.00000</td>\n",
       "      <td>15.89180</td>\n",
       "      <td>17.55830</td>\n",
       "      <td>1.34246</td>\n",
       "      <td>0.0000</td>\n",
       "      <td>1.65043</td>\n",
       "      <td>0.00000</td>\n",
       "      <td>1.31914</td>\n",
       "      <td>...</td>\n",
       "      <td>0.00000</td>\n",
       "      <td>3.71380</td>\n",
       "      <td>4.90653</td>\n",
       "      <td>2.00020</td>\n",
       "      <td>3.48251</td>\n",
       "      <td>3.91929</td>\n",
       "      <td>3.89948</td>\n",
       "      <td>0.00000</td>\n",
       "      <td>0.00000</td>\n",
       "      <td>0.0000</td>\n",
       "    </tr>\n",
       "  </tbody>\n",
       "</table>\n",
       "<p>67152 rows × 44 columns</p>\n",
       "</div>"
      ],
      "text/plain": [
       "                                                   aa_id      YRI5      YRI6  \\\n",
       "0      ENSG00000000003.16_MASPSRRLQTKPVITCFKSVLLIYTFI...   1.00000   0.00000   \n",
       "1      ENSG00000000005.6_MAKNPPENCEDCHILNAEAFKSKKICKS...   0.00000   0.00000   \n",
       "2      ENSG00000000419.14_MASLEVSRSPRRSRRELEVRSPRQNKY...   0.00000   0.00000   \n",
       "3      ENSG00000000419.14_MASLEVSRSPRRSRRELEVRSPRQNKY...  18.74080  20.10130   \n",
       "4      ENSG00000000419.14_MASLEVSRSPRRSRRELEVRSPRQNKY...  48.39190  20.38830   \n",
       "...                                                  ...       ...       ...   \n",
       "67147  ENSG00000310517.1_MNPTETKAVKTEPEKKSQSTKLSVVHEK...   0.00000   0.00000   \n",
       "67148  ENSG00000310517.1_MNPTETKAVKTEPEKKSQSTKPKSLPKQ...   0.00000   0.00000   \n",
       "67149  ENSG00000310517.1_MNPTETKAVKTEPEKKSQSTKPKSLPKQ...   3.64927   4.42553   \n",
       "67150  ENSG00000310517.1_MSDQALEALSASLGTRQAEPELDLRSIK...   1.18605   0.00000   \n",
       "67151  ENSG00000310517.1_MSDQALEALSASLGTRQAEPELDLRSIK...   2.31714   0.00000   \n",
       "\n",
       "            YRI7       HAC1      HAC2     HAC3      HAC4      HAC5      HAC6  \\\n",
       "0        0.00000    1.00000   1.00000   1.0000   0.00000   1.00000   1.00000   \n",
       "1        0.00000    0.00000   0.00000   0.0000   0.00000   0.00000   0.00000   \n",
       "2        0.00000    2.07935   0.00000   0.0000   0.00000   2.03024   2.04269   \n",
       "3       91.01830   94.96290  26.24530  45.5997  52.41740  41.33300  53.68340   \n",
       "4      156.17700  286.31800  55.34250  71.1835  67.50010  55.72600  99.77590   \n",
       "...          ...        ...       ...      ...       ...       ...       ...   \n",
       "67147    0.00000    0.00000   0.00000   6.6893   0.00000   0.00000   0.00000   \n",
       "67148    0.00000    0.00000   0.00000   0.0000   0.00000   0.00000   0.00000   \n",
       "67149    9.03138   53.85700   3.33249  10.0506   1.50222   0.00000   7.31558   \n",
       "67150    3.47883    0.00000   0.00000   0.0000   0.00000   0.00000   0.00000   \n",
       "67151   15.89180   17.55830   1.34246   0.0000   1.65043   0.00000   1.31914   \n",
       "\n",
       "       ...      AJI6       CEU1      CEU2      CEU3       CEU4      CEU5  \\\n",
       "0      ...   0.00000    2.00000   1.00000   0.00000    0.00000   0.00000   \n",
       "1      ...   0.00000    0.00000   0.00000   0.00000    0.00000   0.00000   \n",
       "2      ...   1.02258    0.00000   0.00000   1.02113    0.00000   1.03420   \n",
       "3      ...  39.57130   54.28780  38.80330  51.71940   56.74450  42.10220   \n",
       "4      ...  50.12330  108.65800  41.42520  83.44990  105.20500  72.24840   \n",
       "...    ...       ...        ...       ...       ...        ...       ...   \n",
       "67147  ...   0.00000    0.00000   0.00000   5.79749   11.83970   0.00000   \n",
       "67148  ...   0.00000    1.28082   0.00000   0.00000    0.00000   0.00000   \n",
       "67149  ...  10.92800    5.90564   5.10804   4.09277    0.00000  18.32300   \n",
       "67150  ...   1.58481    0.00000   0.00000   0.00000    1.89797   0.00000   \n",
       "67151  ...   0.00000    3.71380   4.90653   2.00020    3.48251   3.91929   \n",
       "\n",
       "           MPC4      YRI1      YRI2     YRI3  \n",
       "0       0.00000   0.00000   1.00000   1.0000  \n",
       "1       0.00000   0.00000   0.00000   0.0000  \n",
       "2       0.00000   1.03912   1.02755   3.0654  \n",
       "3      73.65610  43.17920  14.13180  83.8260  \n",
       "4      97.12670  88.24560  41.40640  77.7250  \n",
       "...         ...       ...       ...      ...  \n",
       "67147   0.00000   0.00000   0.00000   0.0000  \n",
       "67148   0.00000   0.00000   0.00000   0.0000  \n",
       "67149  15.34630   6.33884   1.11982  11.0737  \n",
       "67150   0.00000   0.00000   0.00000   0.0000  \n",
       "67151   3.89948   0.00000   0.00000   0.0000  \n",
       "\n",
       "[67152 rows x 44 columns]"
      ]
     },
     "execution_count": 388,
     "metadata": {},
     "output_type": "execute_result"
    }
   ],
   "source": [
    "# groupby aa_id and sum up \n",
    "temp.drop('tid', axis=1, inplace=True)\n",
    "temp.groupby('aa_id').sum().reset_index()"
   ]
  },
  {
   "cell_type": "code",
   "execution_count": 389,
   "id": "e0fe8bee-8dd9-4b84-bb61-f9439070e8b5",
   "metadata": {},
   "outputs": [],
   "source": [
    "# get melted version\n",
    "temp.set_index('aa_id', inplace=True)\n",
    "temp = temp.melt(value_name='counts', var_name='sample', ignore_index=False)"
   ]
  },
  {
   "cell_type": "code",
   "execution_count": 390,
   "id": "85095af8-7554-41a0-bf0c-605e411f6398",
   "metadata": {},
   "outputs": [
    {
     "name": "stdout",
     "output_type": "stream",
     "text": [
      "3711158\n",
      "1858040\n"
     ]
    }
   ],
   "source": [
    "# remove everyting unexpressed\n",
    "print(len(temp.index))\n",
    "temp = temp.loc[temp.counts>=1]\n",
    "print(len(temp.index))"
   ]
  },
  {
   "cell_type": "code",
   "execution_count": 391,
   "id": "e00df739-a323-4526-9455-1e5adfb9818f",
   "metadata": {},
   "outputs": [
    {
     "data": {
      "text/html": [
       "<div>\n",
       "<style scoped>\n",
       "    .dataframe tbody tr th:only-of-type {\n",
       "        vertical-align: middle;\n",
       "    }\n",
       "\n",
       "    .dataframe tbody tr th {\n",
       "        vertical-align: top;\n",
       "    }\n",
       "\n",
       "    .dataframe thead th {\n",
       "        text-align: right;\n",
       "    }\n",
       "</style>\n",
       "<table border=\"1\" class=\"dataframe\">\n",
       "  <thead>\n",
       "    <tr style=\"text-align: right;\">\n",
       "      <th></th>\n",
       "      <th>aa_id</th>\n",
       "      <th>sample</th>\n",
       "      <th>counts</th>\n",
       "      <th>gid</th>\n",
       "    </tr>\n",
       "  </thead>\n",
       "  <tbody>\n",
       "    <tr>\n",
       "      <th>0</th>\n",
       "      <td>ENSG00000010219.14_MPASELKASEIPFHPSIKTQDPKAEEK...</td>\n",
       "      <td>YRI5</td>\n",
       "      <td>121.41500</td>\n",
       "      <td>ENSG00000010219.14</td>\n",
       "    </tr>\n",
       "    <tr>\n",
       "      <th>1</th>\n",
       "      <td>ENSG00000073331.18_MNNQKVVAVLLQECKQVLDQLLLEAPD...</td>\n",
       "      <td>YRI5</td>\n",
       "      <td>2.39075</td>\n",
       "      <td>ENSG00000073331.18</td>\n",
       "    </tr>\n",
       "    <tr>\n",
       "      <th>2</th>\n",
       "      <td>ENSG00000077150.21_MESCYNPGLDGIIEYDDFKLNSSIVEP...</td>\n",
       "      <td>YRI5</td>\n",
       "      <td>2.75306</td>\n",
       "      <td>ENSG00000077150.21</td>\n",
       "    </tr>\n",
       "    <tr>\n",
       "      <th>3</th>\n",
       "      <td>ENSG00000099219.15_MLEVLRVLSTSSEALHHAVIFLFNGAE...</td>\n",
       "      <td>YRI5</td>\n",
       "      <td>2.00000</td>\n",
       "      <td>ENSG00000099219.15</td>\n",
       "    </tr>\n",
       "    <tr>\n",
       "      <th>4</th>\n",
       "      <td>ENSG00000101846.9_MKIPFLLLFFLWEAESHAASRPNIILVM...</td>\n",
       "      <td>YRI5</td>\n",
       "      <td>1.66667</td>\n",
       "      <td>ENSG00000101846.9</td>\n",
       "    </tr>\n",
       "  </tbody>\n",
       "</table>\n",
       "</div>"
      ],
      "text/plain": [
       "                                               aa_id sample     counts  \\\n",
       "0  ENSG00000010219.14_MPASELKASEIPFHPSIKTQDPKAEEK...   YRI5  121.41500   \n",
       "1  ENSG00000073331.18_MNNQKVVAVLLQECKQVLDQLLLEAPD...   YRI5    2.39075   \n",
       "2  ENSG00000077150.21_MESCYNPGLDGIIEYDDFKLNSSIVEP...   YRI5    2.75306   \n",
       "3  ENSG00000099219.15_MLEVLRVLSTSSEALHHAVIFLFNGAE...   YRI5    2.00000   \n",
       "4  ENSG00000101846.9_MKIPFLLLFFLWEAESHAASRPNIILVM...   YRI5    1.66667   \n",
       "\n",
       "                  gid  \n",
       "0  ENSG00000010219.14  \n",
       "1  ENSG00000073331.18  \n",
       "2  ENSG00000077150.21  \n",
       "3  ENSG00000099219.15  \n",
       "4   ENSG00000101846.9  "
      ]
     },
     "execution_count": 391,
     "metadata": {},
     "output_type": "execute_result"
    }
   ],
   "source": [
    "# get gene id and \n",
    "temp =  temp.reset_index()\n",
    "temp['gid'] = temp.aa_id.str.split('_', expand=True)[0]\n",
    "temp.head()"
   ]
  },
  {
   "cell_type": "code",
   "execution_count": 392,
   "id": "669370a5-56de-498a-b28b-eb088d8d5862",
   "metadata": {},
   "outputs": [],
   "source": [
    "# add the metadata\n",
    "meta2 = meta[['population', 'map_reads_generalmap']].groupby(['population']).sum().reset_index()\n",
    "\n",
    "\n",
    "\n",
    "temp = temp.merge(meta[['sample', 'ooa', 'population']], \n",
    "              how='left', on='sample')\n",
    "\n",
    "# add the metadata\n",
    "temp = temp.merge(meta2, \n",
    "              how='left', on='population')"
   ]
  },
  {
   "cell_type": "code",
   "execution_count": 393,
   "id": "90abcbae-2ab7-482f-962f-99388e716781",
   "metadata": {},
   "outputs": [],
   "source": [
    "# count number of aas / gene /population\n",
    "temp = temp[['gid', 'aa_id', 'population', 'ooa', 'map_reads_generalmap']].groupby(['population', 'ooa', 'gid', 'map_reads_generalmap']).count().reset_index().rename({'aa_id':'n_aa'}, axis=1)"
   ]
  },
  {
   "cell_type": "code",
   "execution_count": 394,
   "id": "98c94887-d31f-4c27-a6db-0d16ddda643f",
   "metadata": {},
   "outputs": [
    {
     "data": {
      "text/html": [
       "<div>\n",
       "<style scoped>\n",
       "    .dataframe tbody tr th:only-of-type {\n",
       "        vertical-align: middle;\n",
       "    }\n",
       "\n",
       "    .dataframe tbody tr th {\n",
       "        vertical-align: top;\n",
       "    }\n",
       "\n",
       "    .dataframe thead th {\n",
       "        text-align: right;\n",
       "    }\n",
       "</style>\n",
       "<table border=\"1\" class=\"dataframe\">\n",
       "  <thead>\n",
       "    <tr style=\"text-align: right;\">\n",
       "      <th></th>\n",
       "      <th>population</th>\n",
       "      <th>ooa</th>\n",
       "      <th>gid</th>\n",
       "      <th>map_reads_generalmap</th>\n",
       "      <th>n_aa</th>\n",
       "      <th>n_aa_norm</th>\n",
       "    </tr>\n",
       "  </thead>\n",
       "  <tbody>\n",
       "    <tr>\n",
       "      <th>0</th>\n",
       "      <td>AJI</td>\n",
       "      <td>OOA</td>\n",
       "      <td>ENSG00000000003.16</td>\n",
       "      <td>87793724.0</td>\n",
       "      <td>2</td>\n",
       "      <td>0.022781</td>\n",
       "    </tr>\n",
       "    <tr>\n",
       "      <th>1</th>\n",
       "      <td>AJI</td>\n",
       "      <td>OOA</td>\n",
       "      <td>ENSG00000000419.14</td>\n",
       "      <td>87793724.0</td>\n",
       "      <td>47</td>\n",
       "      <td>0.535346</td>\n",
       "    </tr>\n",
       "    <tr>\n",
       "      <th>2</th>\n",
       "      <td>AJI</td>\n",
       "      <td>OOA</td>\n",
       "      <td>ENSG00000000457.14</td>\n",
       "      <td>87793724.0</td>\n",
       "      <td>13</td>\n",
       "      <td>0.148074</td>\n",
       "    </tr>\n",
       "    <tr>\n",
       "      <th>3</th>\n",
       "      <td>AJI</td>\n",
       "      <td>OOA</td>\n",
       "      <td>ENSG00000000460.17</td>\n",
       "      <td>87793724.0</td>\n",
       "      <td>16</td>\n",
       "      <td>0.182245</td>\n",
       "    </tr>\n",
       "    <tr>\n",
       "      <th>4</th>\n",
       "      <td>AJI</td>\n",
       "      <td>OOA</td>\n",
       "      <td>ENSG00000000938.13</td>\n",
       "      <td>87793724.0</td>\n",
       "      <td>23</td>\n",
       "      <td>0.261978</td>\n",
       "    </tr>\n",
       "  </tbody>\n",
       "</table>\n",
       "</div>"
      ],
      "text/plain": [
       "  population  ooa                 gid  map_reads_generalmap  n_aa  n_aa_norm\n",
       "0        AJI  OOA  ENSG00000000003.16            87793724.0     2   0.022781\n",
       "1        AJI  OOA  ENSG00000000419.14            87793724.0    47   0.535346\n",
       "2        AJI  OOA  ENSG00000000457.14            87793724.0    13   0.148074\n",
       "3        AJI  OOA  ENSG00000000460.17            87793724.0    16   0.182245\n",
       "4        AJI  OOA  ENSG00000000938.13            87793724.0    23   0.261978"
      ]
     },
     "execution_count": 394,
     "metadata": {},
     "output_type": "execute_result"
    }
   ],
   "source": [
    "# noramlize to read depth (aa / million reads)\n",
    "temp['n_aa_norm'] = (temp['n_aa']/temp['map_reads_generalmap'])*1e6\n",
    "temp.head()"
   ]
  },
  {
   "cell_type": "code",
   "execution_count": 395,
   "id": "01d65c66-cc9f-421d-b566-53d8c83b57b3",
   "metadata": {},
   "outputs": [
    {
     "name": "stdout",
     "output_type": "stream",
     "text": [
      "Wilcoxon rank-sum test statistic: -19.530772613436884\n",
      "Wilcoxon rank-sum test pval: 6.012292983207755e-85\n"
     ]
    },
    {
     "data": {
      "image/png": "[encoded data removed]",
      "text/plain": [
       "<Figure size 432x288 with 1 Axes>"
      ]
     },
     "metadata": {
      "needs_background": "light"
     },
     "output_type": "display_data"
    }
   ],
   "source": [
    "x = temp.loc[temp.ooa == 'AFR', 'n_aa'].tolist() # hypothesis is that this is greater\\n\",\n",
    "y = temp.loc[temp.ooa == 'OOA', 'n_aa'].tolist()\n",
    "    \n",
    "stat, pval = st.ranksums(x, y, alternative='two-sided')\n",
    "print(f'Wilcoxon rank-sum test statistic: {stat}')\n",
    "print(f'Wilcoxon rank-sum test pval: {pval}')\n",
    "\n",
    "ax = sns.violinplot(temp, x='ooa', y='n_aa')"
   ]
  },
  {
   "cell_type": "code",
   "execution_count": 396,
   "id": "208203a0-9968-427e-b996-c8b70eb16285",
   "metadata": {},
   "outputs": [
    {
     "name": "stdout",
     "output_type": "stream",
     "text": [
      "Wilcoxon rank-sum test statistic: 14.18045010370226\n",
      "Wilcoxon rank-sum test pval: 6.053376737273163e-46\n"
     ]
    },
    {
     "data": {
      "image/png": "[encoded data removed]",
      "text/plain": [
       "<Figure size 432x288 with 1 Axes>"
      ]
     },
     "metadata": {
      "needs_background": "light"
     },
     "output_type": "display_data"
    }
   ],
   "source": [
    "x = temp.loc[temp.ooa == 'AFR', 'n_aa_norm'].tolist() # hypothesis is that this is greater\\n\",\n",
    "y = temp.loc[temp.ooa == 'OOA', 'n_aa_norm'].tolist()\n",
    "    \n",
    "stat, pval = st.ranksums(x, y, alternative='greater')\n",
    "print(f'Wilcoxon rank-sum test statistic: {stat}')\n",
    "print(f'Wilcoxon rank-sum test pval: {pval}')\n",
    "\n",
    "ax = sns.violinplot(temp, x='ooa', y='n_aa')"
   ]
  },
  {
   "cell_type": "code",
   "execution_count": 398,
   "id": "da40d7a2-d794-4095-8c25-1ad61bb6bfe1",
   "metadata": {},
   "outputs": [],
   "source": [
    "# save\n",
    "temp.to_csv('241121_aa_per_gene_per_pop.tsv', sep='\\t')"
   ]
  },
  {
   "cell_type": "markdown",
   "id": "e2dd4ca3-fb48-4b9b-b2b7-d181104a81f4",
   "metadata": {},
   "source": [
    "## What about # ORFs / gene / sample between the OOA and Afr? "
   ]
  },
  {
   "cell_type": "code",
   "execution_count": 399,
   "id": "715ef4db-e680-42d3-801c-c053567d80a1",
   "metadata": {},
   "outputs": [],
   "source": [
    "# get expression levels for each transcript\n",
    "\n",
    "f = expand(proc_cfg(config['lr']['kallisto']['quant']['merge_matrix_tsv'],od))[0]\n",
    "\n",
    "meta = load_meta()\n",
    "meta = meta.loc[meta.merged_run_mode==True]\n",
    "sample_d = dict([(entry.cell_line_id, entry['sample']) \\\n",
    "                 for ind, entry in meta.iterrows()])\n",
    "\n",
    "\n",
    "df = pd.read_csv(f, sep='\\t')\n",
    "df.columns = [d if d == 'transcript_id' else d.split('_')[0] for d in df.columns]\n",
    "df.rename({'transcript_id':'tid'}, axis=1, inplace=True)\n",
    "df.rename(sample_d, axis=1, inplace=True)\n",
    "# df.set_index('tid', inplace=True)"
   ]
  },
  {
   "cell_type": "code",
   "execution_count": 400,
   "id": "d5f2cf80-b75c-4266-872e-a905566c150c",
   "metadata": {},
   "outputs": [],
   "source": [
    "temp = p_df[['tid', 'aa_id']].copy(deep=True)\n",
    "temp.head()\n",
    "l1 = len(temp.index)"
   ]
  },
  {
   "cell_type": "code",
   "execution_count": 401,
   "id": "30b28856-f443-4ede-84cd-0fa86203b674",
   "metadata": {},
   "outputs": [],
   "source": [
    "temp = temp.merge(df, \n",
    "              how='inner',\n",
    "              on='tid')\n",
    "l2 = len(temp.index)\n",
    "assert l1 == l2"
   ]
  },
  {
   "cell_type": "code",
   "execution_count": 402,
   "id": "d6f2f18f-36b4-4cba-90f7-cd0d6b9a1987",
   "metadata": {},
   "outputs": [
    {
     "data": {
      "text/html": [
       "<div>\n",
       "<style scoped>\n",
       "    .dataframe tbody tr th:only-of-type {\n",
       "        vertical-align: middle;\n",
       "    }\n",
       "\n",
       "    .dataframe tbody tr th {\n",
       "        vertical-align: top;\n",
       "    }\n",
       "\n",
       "    .dataframe thead th {\n",
       "        text-align: right;\n",
       "    }\n",
       "</style>\n",
       "<table border=\"1\" class=\"dataframe\">\n",
       "  <thead>\n",
       "    <tr style=\"text-align: right;\">\n",
       "      <th></th>\n",
       "      <th>aa_id</th>\n",
       "      <th>YRI5</th>\n",
       "      <th>YRI6</th>\n",
       "      <th>YRI7</th>\n",
       "      <th>HAC1</th>\n",
       "      <th>HAC2</th>\n",
       "      <th>HAC3</th>\n",
       "      <th>HAC4</th>\n",
       "      <th>HAC5</th>\n",
       "      <th>HAC6</th>\n",
       "      <th>...</th>\n",
       "      <th>AJI6</th>\n",
       "      <th>CEU1</th>\n",
       "      <th>CEU2</th>\n",
       "      <th>CEU3</th>\n",
       "      <th>CEU4</th>\n",
       "      <th>CEU5</th>\n",
       "      <th>MPC4</th>\n",
       "      <th>YRI1</th>\n",
       "      <th>YRI2</th>\n",
       "      <th>YRI3</th>\n",
       "    </tr>\n",
       "  </thead>\n",
       "  <tbody>\n",
       "    <tr>\n",
       "      <th>0</th>\n",
       "      <td>ENSG00000010219.14_MPASELKASEIPFHPSIKTQDPKAEEK...</td>\n",
       "      <td>121.415</td>\n",
       "      <td>177.8570</td>\n",
       "      <td>123.032</td>\n",
       "      <td>223.502</td>\n",
       "      <td>187.071</td>\n",
       "      <td>157.768</td>\n",
       "      <td>250.615</td>\n",
       "      <td>185.211</td>\n",
       "      <td>401.845</td>\n",
       "      <td>...</td>\n",
       "      <td>213.626</td>\n",
       "      <td>126.3090</td>\n",
       "      <td>83.361000</td>\n",
       "      <td>103.19</td>\n",
       "      <td>113.718000</td>\n",
       "      <td>177.243</td>\n",
       "      <td>127.606</td>\n",
       "      <td>157.835000</td>\n",
       "      <td>160.058</td>\n",
       "      <td>1.861810e+02</td>\n",
       "    </tr>\n",
       "    <tr>\n",
       "      <th>1</th>\n",
       "      <td>ENSG00000059804.18_MGTQKVTPALIFAITVATIGSFQFGYN...</td>\n",
       "      <td>0.000</td>\n",
       "      <td>12.9375</td>\n",
       "      <td>0.000</td>\n",
       "      <td>0.000</td>\n",
       "      <td>0.000</td>\n",
       "      <td>0.000</td>\n",
       "      <td>0.000</td>\n",
       "      <td>0.000</td>\n",
       "      <td>0.000</td>\n",
       "      <td>...</td>\n",
       "      <td>0.000</td>\n",
       "      <td>52.6313</td>\n",
       "      <td>0.000005</td>\n",
       "      <td>0.00</td>\n",
       "      <td>0.001145</td>\n",
       "      <td>0.000</td>\n",
       "      <td>0.000</td>\n",
       "      <td>0.174757</td>\n",
       "      <td>0.000</td>\n",
       "      <td>1.586700e-07</td>\n",
       "    </tr>\n",
       "    <tr>\n",
       "      <th>2</th>\n",
       "      <td>ENSG00000067646.12_MDEDEFELQPQEPNSFFDGIGADATHM...</td>\n",
       "      <td>0.000</td>\n",
       "      <td>0.0000</td>\n",
       "      <td>0.000</td>\n",
       "      <td>0.000</td>\n",
       "      <td>7.000</td>\n",
       "      <td>0.000</td>\n",
       "      <td>2.000</td>\n",
       "      <td>0.000</td>\n",
       "      <td>0.000</td>\n",
       "      <td>...</td>\n",
       "      <td>3.500</td>\n",
       "      <td>0.0000</td>\n",
       "      <td>0.000000</td>\n",
       "      <td>6.00</td>\n",
       "      <td>4.000000</td>\n",
       "      <td>0.000</td>\n",
       "      <td>0.000</td>\n",
       "      <td>0.000000</td>\n",
       "      <td>0.000</td>\n",
       "      <td>0.000000e+00</td>\n",
       "    </tr>\n",
       "    <tr>\n",
       "      <th>3</th>\n",
       "      <td>ENSG00000068308.15_MTILPKKKPPPPDADPANEPPPPGPMP...</td>\n",
       "      <td>0.000</td>\n",
       "      <td>0.0000</td>\n",
       "      <td>0.000</td>\n",
       "      <td>0.000</td>\n",
       "      <td>0.000</td>\n",
       "      <td>0.000</td>\n",
       "      <td>0.000</td>\n",
       "      <td>0.000</td>\n",
       "      <td>0.000</td>\n",
       "      <td>...</td>\n",
       "      <td>0.000</td>\n",
       "      <td>0.0000</td>\n",
       "      <td>0.000000</td>\n",
       "      <td>0.00</td>\n",
       "      <td>0.000000</td>\n",
       "      <td>0.000</td>\n",
       "      <td>0.000</td>\n",
       "      <td>0.000000</td>\n",
       "      <td>0.000</td>\n",
       "      <td>0.000000e+00</td>\n",
       "    </tr>\n",
       "    <tr>\n",
       "      <th>4</th>\n",
       "      <td>ENSG00000074771.4_MMGCWILNEGLSTILVLSWLGINFYLFI...</td>\n",
       "      <td>0.000</td>\n",
       "      <td>0.0000</td>\n",
       "      <td>1.000</td>\n",
       "      <td>0.000</td>\n",
       "      <td>0.000</td>\n",
       "      <td>0.000</td>\n",
       "      <td>0.000</td>\n",
       "      <td>0.000</td>\n",
       "      <td>0.000</td>\n",
       "      <td>...</td>\n",
       "      <td>0.000</td>\n",
       "      <td>0.0000</td>\n",
       "      <td>0.000000</td>\n",
       "      <td>0.00</td>\n",
       "      <td>0.000000</td>\n",
       "      <td>0.000</td>\n",
       "      <td>0.000</td>\n",
       "      <td>0.000000</td>\n",
       "      <td>0.000</td>\n",
       "      <td>0.000000e+00</td>\n",
       "    </tr>\n",
       "  </tbody>\n",
       "</table>\n",
       "<p>5 rows × 44 columns</p>\n",
       "</div>"
      ],
      "text/plain": [
       "                                               aa_id     YRI5      YRI6  \\\n",
       "0  ENSG00000010219.14_MPASELKASEIPFHPSIKTQDPKAEEK...  121.415  177.8570   \n",
       "1  ENSG00000059804.18_MGTQKVTPALIFAITVATIGSFQFGYN...    0.000   12.9375   \n",
       "2  ENSG00000067646.12_MDEDEFELQPQEPNSFFDGIGADATHM...    0.000    0.0000   \n",
       "3  ENSG00000068308.15_MTILPKKKPPPPDADPANEPPPPGPMP...    0.000    0.0000   \n",
       "4  ENSG00000074771.4_MMGCWILNEGLSTILVLSWLGINFYLFI...    0.000    0.0000   \n",
       "\n",
       "      YRI7     HAC1     HAC2     HAC3     HAC4     HAC5     HAC6  ...  \\\n",
       "0  123.032  223.502  187.071  157.768  250.615  185.211  401.845  ...   \n",
       "1    0.000    0.000    0.000    0.000    0.000    0.000    0.000  ...   \n",
       "2    0.000    0.000    7.000    0.000    2.000    0.000    0.000  ...   \n",
       "3    0.000    0.000    0.000    0.000    0.000    0.000    0.000  ...   \n",
       "4    1.000    0.000    0.000    0.000    0.000    0.000    0.000  ...   \n",
       "\n",
       "      AJI6      CEU1       CEU2    CEU3        CEU4     CEU5     MPC4  \\\n",
       "0  213.626  126.3090  83.361000  103.19  113.718000  177.243  127.606   \n",
       "1    0.000   52.6313   0.000005    0.00    0.001145    0.000    0.000   \n",
       "2    3.500    0.0000   0.000000    6.00    4.000000    0.000    0.000   \n",
       "3    0.000    0.0000   0.000000    0.00    0.000000    0.000    0.000   \n",
       "4    0.000    0.0000   0.000000    0.00    0.000000    0.000    0.000   \n",
       "\n",
       "         YRI1     YRI2          YRI3  \n",
       "0  157.835000  160.058  1.861810e+02  \n",
       "1    0.174757    0.000  1.586700e-07  \n",
       "2    0.000000    0.000  0.000000e+00  \n",
       "3    0.000000    0.000  0.000000e+00  \n",
       "4    0.000000    0.000  0.000000e+00  \n",
       "\n",
       "[5 rows x 44 columns]"
      ]
     },
     "execution_count": 402,
     "metadata": {},
     "output_type": "execute_result"
    }
   ],
   "source": [
    "# groupby aa_id and sum up \n",
    "temp.drop('tid', axis=1, inplace=True)\n",
    "temp.groupby('aa_id').sum().reset_index()\n",
    "temp.head()"
   ]
  },
  {
   "cell_type": "code",
   "execution_count": 403,
   "id": "7022c548-95bd-4a4e-b6ae-c684a468906c",
   "metadata": {},
   "outputs": [],
   "source": [
    "# get melted version\n",
    "temp.set_index('aa_id', inplace=True)\n",
    "temp = temp.melt(value_name='counts', var_name='sample', ignore_index=False)"
   ]
  },
  {
   "cell_type": "code",
   "execution_count": 404,
   "id": "2b684540-2279-4c35-8dec-83a0799eb7fc",
   "metadata": {},
   "outputs": [
    {
     "name": "stdout",
     "output_type": "stream",
     "text": [
      "3711158\n",
      "1858040\n"
     ]
    }
   ],
   "source": [
    "# remove everyting unexpressed\n",
    "print(len(temp.index))\n",
    "temp = temp.loc[temp.counts>=1]\n",
    "print(len(temp.index))"
   ]
  },
  {
   "cell_type": "code",
   "execution_count": 405,
   "id": "29c78832-b047-4cdf-8150-c75318938faf",
   "metadata": {},
   "outputs": [
    {
     "data": {
      "text/html": [
       "<div>\n",
       "<style scoped>\n",
       "    .dataframe tbody tr th:only-of-type {\n",
       "        vertical-align: middle;\n",
       "    }\n",
       "\n",
       "    .dataframe tbody tr th {\n",
       "        vertical-align: top;\n",
       "    }\n",
       "\n",
       "    .dataframe thead th {\n",
       "        text-align: right;\n",
       "    }\n",
       "</style>\n",
       "<table border=\"1\" class=\"dataframe\">\n",
       "  <thead>\n",
       "    <tr style=\"text-align: right;\">\n",
       "      <th></th>\n",
       "      <th>aa_id</th>\n",
       "      <th>sample</th>\n",
       "      <th>counts</th>\n",
       "      <th>gid</th>\n",
       "    </tr>\n",
       "  </thead>\n",
       "  <tbody>\n",
       "    <tr>\n",
       "      <th>0</th>\n",
       "      <td>ENSG00000010219.14_MPASELKASEIPFHPSIKTQDPKAEEK...</td>\n",
       "      <td>YRI5</td>\n",
       "      <td>121.41500</td>\n",
       "      <td>ENSG00000010219.14</td>\n",
       "    </tr>\n",
       "    <tr>\n",
       "      <th>1</th>\n",
       "      <td>ENSG00000073331.18_MNNQKVVAVLLQECKQVLDQLLLEAPD...</td>\n",
       "      <td>YRI5</td>\n",
       "      <td>2.39075</td>\n",
       "      <td>ENSG00000073331.18</td>\n",
       "    </tr>\n",
       "    <tr>\n",
       "      <th>2</th>\n",
       "      <td>ENSG00000077150.21_MESCYNPGLDGIIEYDDFKLNSSIVEP...</td>\n",
       "      <td>YRI5</td>\n",
       "      <td>2.75306</td>\n",
       "      <td>ENSG00000077150.21</td>\n",
       "    </tr>\n",
       "    <tr>\n",
       "      <th>3</th>\n",
       "      <td>ENSG00000099219.15_MLEVLRVLSTSSEALHHAVIFLFNGAE...</td>\n",
       "      <td>YRI5</td>\n",
       "      <td>2.00000</td>\n",
       "      <td>ENSG00000099219.15</td>\n",
       "    </tr>\n",
       "    <tr>\n",
       "      <th>4</th>\n",
       "      <td>ENSG00000101846.9_MKIPFLLLFFLWEAESHAASRPNIILVM...</td>\n",
       "      <td>YRI5</td>\n",
       "      <td>1.66667</td>\n",
       "      <td>ENSG00000101846.9</td>\n",
       "    </tr>\n",
       "  </tbody>\n",
       "</table>\n",
       "</div>"
      ],
      "text/plain": [
       "                                               aa_id sample     counts  \\\n",
       "0  ENSG00000010219.14_MPASELKASEIPFHPSIKTQDPKAEEK...   YRI5  121.41500   \n",
       "1  ENSG00000073331.18_MNNQKVVAVLLQECKQVLDQLLLEAPD...   YRI5    2.39075   \n",
       "2  ENSG00000077150.21_MESCYNPGLDGIIEYDDFKLNSSIVEP...   YRI5    2.75306   \n",
       "3  ENSG00000099219.15_MLEVLRVLSTSSEALHHAVIFLFNGAE...   YRI5    2.00000   \n",
       "4  ENSG00000101846.9_MKIPFLLLFFLWEAESHAASRPNIILVM...   YRI5    1.66667   \n",
       "\n",
       "                  gid  \n",
       "0  ENSG00000010219.14  \n",
       "1  ENSG00000073331.18  \n",
       "2  ENSG00000077150.21  \n",
       "3  ENSG00000099219.15  \n",
       "4   ENSG00000101846.9  "
      ]
     },
     "execution_count": 405,
     "metadata": {},
     "output_type": "execute_result"
    }
   ],
   "source": [
    "# get gene id and \n",
    "temp =  temp.reset_index()\n",
    "temp['gid'] = temp.aa_id.str.split('_', expand=True)[0]\n",
    "temp.head()"
   ]
  },
  {
   "cell_type": "code",
   "execution_count": 406,
   "id": "c2f07531-00a8-4194-aea9-f1c43c070a7b",
   "metadata": {},
   "outputs": [],
   "source": [
    "# count number of aas / gene\n",
    "temp = temp[['gid', 'aa_id', 'sample']].groupby(['sample', 'gid']).count().reset_index().rename({'aa_id':'n_aa'}, axis=1)"
   ]
  },
  {
   "cell_type": "code",
   "execution_count": 407,
   "id": "53b2bbb3-ef8d-45f9-bf32-242ed3da434a",
   "metadata": {},
   "outputs": [],
   "source": [
    "# add the metadata\n",
    "temp = temp.merge(meta[['sample', 'ooa', 'population', 'map_reads_generalmap']], \n",
    "              how='left', on='sample')"
   ]
  },
  {
   "cell_type": "code",
   "execution_count": 408,
   "id": "b36a7c28-be3b-4003-ac12-faddb05dae5d",
   "metadata": {},
   "outputs": [],
   "source": [
    "# noramlize to read depth (aa / million reads)\n",
    "temp['n_aa_norm'] = (temp['n_aa']/temp['map_reads_generalmap'])*1e6"
   ]
  },
  {
   "cell_type": "code",
   "execution_count": 409,
   "id": "2ad33bca-b0cc-411a-af67-d4239ef34c9c",
   "metadata": {},
   "outputs": [
    {
     "data": {
      "text/plain": [
       "array(['OOA', 'AFR'], dtype=object)"
      ]
     },
     "execution_count": 409,
     "metadata": {},
     "output_type": "execute_result"
    }
   ],
   "source": [
    "temp.ooa.unique()"
   ]
  },
  {
   "cell_type": "code",
   "execution_count": 410,
   "id": "69b86a4e-50ed-4645-8b76-3aaa92dd1e72",
   "metadata": {},
   "outputs": [
    {
     "name": "stdout",
     "output_type": "stream",
     "text": [
      "Wilcoxon rank-sum test statistic: -4.01700696888928\n",
      "Wilcoxon rank-sum test pval: 5.89419817196941e-05\n"
     ]
    },
    {
     "data": {
      "text/plain": [
       "<AxesSubplot:xlabel='ooa', ylabel='n_aa'>"
      ]
     },
     "execution_count": 410,
     "metadata": {},
     "output_type": "execute_result"
    },
    {
     "data": {
      "image/png": "[encoded data removed]",
      "text/plain": [
       "<Figure size 432x288 with 1 Axes>"
      ]
     },
     "metadata": {
      "needs_background": "light"
     },
     "output_type": "display_data"
    }
   ],
   "source": [
    "x = temp.loc[temp.ooa == 'AFR', 'n_aa'].tolist() # hypothesis is that this is greater\\n\",\n",
    "y = temp.loc[temp.ooa == 'OOA', 'n_aa'].tolist()\n",
    "    \n",
    "stat, pval = st.ranksums(x, y, alternative='two-sided')\n",
    "print(f'Wilcoxon rank-sum test statistic: {stat}')\n",
    "print(f'Wilcoxon rank-sum test pval: {pval}')\n",
    "\n",
    "sns.violinplot(temp, x='ooa', y='n_aa')"
   ]
  },
  {
   "cell_type": "code",
   "execution_count": 411,
   "id": "912073fd-c040-45cb-9fb2-902b4f35f01d",
   "metadata": {},
   "outputs": [
    {
     "name": "stdout",
     "output_type": "stream",
     "text": [
      "Wilcoxon rank-sum test statistic: 38.87462405542979\n",
      "Wilcoxon rank-sum test pval: 0.0\n"
     ]
    },
    {
     "data": {
      "text/plain": [
       "<AxesSubplot:xlabel='ooa', ylabel='n_aa'>"
      ]
     },
     "execution_count": 411,
     "metadata": {},
     "output_type": "execute_result"
    },
    {
     "data": {
      "image/png": "[encoded data removed]",
      "text/plain": [
       "<Figure size 432x288 with 1 Axes>"
      ]
     },
     "metadata": {
      "needs_background": "light"
     },
     "output_type": "display_data"
    }
   ],
   "source": [
    "x = temp.loc[temp.ooa == 'AFR', 'n_aa_norm'].tolist() # hypothesis is that this is greater\\n\",\n",
    "y = temp.loc[temp.ooa == 'OOA', 'n_aa_norm'].tolist()\n",
    "    \n",
    "stat, pval = st.ranksums(x, y, alternative='greater')\n",
    "print(f'Wilcoxon rank-sum test statistic: {stat}')\n",
    "print(f'Wilcoxon rank-sum test pval: {pval}')\n",
    "\n",
    "sns.violinplot(temp, x='ooa', y='n_aa')"
   ]
  },
  {
   "cell_type": "code",
   "execution_count": 412,
   "id": "5c8605b8-f413-4623-b13d-91ac1157f624",
   "metadata": {},
   "outputs": [],
   "source": [
    "temp.to_csv('241121_aa_per_gene_per_sample.tsv', sep='\\t')"
   ]
  },
  {
   "cell_type": "code",
   "execution_count": null,
   "id": "086f64b2-2e4d-4e29-abbd-36b1bfeee95c",
   "metadata": {},
   "outputs": [],
   "source": []
  }
 ],
 "metadata": {
  "kernelspec": {
   "display_name": "Python 3",
   "language": "python",
   "name": "python3"
  },
  "language_info": {
   "codemirror_mode": {
    "name": "ipython",
    "version": 3
   },
   "file_extension": ".py",
   "mimetype": "text/x-python",
   "name": "python",
   "nbconvert_exporter": "python",
   "pygments_lexer": "ipython3",
   "version": "3.7.12"
  }
 },
 "nbformat": 4,
 "nbformat_minor": 5
}
