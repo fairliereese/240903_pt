{
 "cells": [
  {
   "cell_type": "markdown",
   "id": "dacb6c12-5fde-4f2c-8976-860d795fc0be",
   "metadata": {},
   "source": [
    "## How lowly-expresed are population-specific transcripts?"
   ]
  },
  {
   "cell_type": "code",
   "execution_count": 47,
   "id": "201c62fb-4908-4473-a3c5-a534515e8d50",
   "metadata": {},
   "outputs": [],
   "source": [
    "import pandas as pd\n",
    "import numpy as np\n",
    "import scipy.stats as st\n",
    "import seaborn as sns\n",
    "import sys\n",
    "import os\n",
    "import matplotlib.pyplot as plt\n",
    "import swan_vis as swan\n",
    "import yaml\n",
    "from snakemake.io import expand\n",
    "import cerberus\n",
    "import pyranges as pr\n",
    "import upsetplot\n",
    "\n",
    "p = os.path.dirname(os.getcwd())\n",
    "sys.path.append(p)\n",
    "\n",
    "from scripts.utils import *\n",
    "from scripts.vcf_utils import *\n",
    "from scripts.plotting import *"
   ]
  },
  {
   "cell_type": "code",
   "execution_count": 48,
   "id": "547fc02f-97bb-493b-945a-65c703decdd2",
   "metadata": {},
   "outputs": [],
   "source": [
    "config = load_config()\n",
    "od = '../'\n",
    "\n",
    "def proc_cfg(entry, od):\n",
    "    entry = entry.replace('../../', '')\n",
    "    entry = od+entry\n",
    "    return entry"
   ]
  },
  {
   "cell_type": "markdown",
   "id": "00bf5953-2645-4e15-8dee-7d965dffab08",
   "metadata": {},
   "source": [
    "## How many pop-spec t?"
   ]
  },
  {
   "cell_type": "code",
   "execution_count": 53,
   "id": "8f6586a2-e75e-483e-bac6-b878f0612397",
   "metadata": {},
   "outputs": [
    {
     "name": "stdout",
     "output_type": "stream",
     "text": [
      "2267\n"
     ]
    }
   ],
   "source": [
    "mt_df = pd.read_csv('../data/05_mastertable/29102024_PODER_mastertable.tsv', sep='\\t')\n",
    "mt_df['pop_spec_t'] = (mt_df.population_sharing==1)&\\\n",
    "                      (mt_df.sample_sharing>1)\n",
    "print(len(mt_df.loc[mt_df.pop_spec_t==True, 'isoform'].unique()))"
   ]
  },
  {
   "cell_type": "markdown",
   "id": "96ce1394-6389-4de5-bd78-cb94a1e77931",
   "metadata": {},
   "source": [
    "## How many pop-spec t per pop?"
   ]
  },
  {
   "cell_type": "code",
   "execution_count": 54,
   "id": "f3b64c3c-bb8f-485d-b22b-793673e1226a",
   "metadata": {},
   "outputs": [
    {
     "name": "stdout",
     "output_type": "stream",
     "text": [
      "2267\n"
     ]
    }
   ],
   "source": [
    "mt_df = pd.read_csv('../data/05_mastertable/29102024_PODER_mastertable.tsv', sep='\\t')\n",
    "mt_df['pop_spec_t'] = (mt_df.population_sharing==1)&\\\n",
    "                      (mt_df.sample_sharing>1)\n",
    "print(len(mt_df.loc[mt_df.pop_spec_t==True, 'isoform'].unique()))"
   ]
  },
  {
   "cell_type": "code",
   "execution_count": 58,
   "id": "60c3ebdd-f449-41c2-9dda-a241826cf4b5",
   "metadata": {},
   "outputs": [],
   "source": [
    "# limit to pop-spec\n",
    "mt_df = mt_df.loc[mt_df.pop_spec_t==True]"
   ]
  },
  {
   "cell_type": "code",
   "execution_count": 59,
   "id": "1de473bc-f00b-4ea3-9857-9abc11750212",
   "metadata": {},
   "outputs": [
    {
     "data": {
      "text/plain": [
       "['AJI', 'CEU', 'HAC', 'ITU', 'LWK', 'MPC', 'PEL', 'YRI']"
      ]
     },
     "execution_count": 59,
     "metadata": {},
     "output_type": "execute_result"
    }
   ],
   "source": [
    "c_dict, order = get_population_colors()\n",
    "order"
   ]
  },
  {
   "cell_type": "code",
   "execution_count": 61,
   "id": "869e027b-2823-42ea-81c8-f9ba96b50108",
   "metadata": {},
   "outputs": [
    {
     "data": {
      "text/html": [
       "<div>\n",
       "<style scoped>\n",
       "    .dataframe tbody tr th:only-of-type {\n",
       "        vertical-align: middle;\n",
       "    }\n",
       "\n",
       "    .dataframe tbody tr th {\n",
       "        vertical-align: top;\n",
       "    }\n",
       "\n",
       "    .dataframe thead th {\n",
       "        text-align: right;\n",
       "    }\n",
       "</style>\n",
       "<table border=\"1\" class=\"dataframe\">\n",
       "  <thead>\n",
       "    <tr style=\"text-align: right;\">\n",
       "      <th></th>\n",
       "      <th>AJI</th>\n",
       "      <th>CEU</th>\n",
       "      <th>HAC</th>\n",
       "      <th>ITU</th>\n",
       "      <th>LWK</th>\n",
       "      <th>MPC</th>\n",
       "      <th>PEL</th>\n",
       "      <th>YRI</th>\n",
       "      <th>pop_spec_t_pop</th>\n",
       "    </tr>\n",
       "  </thead>\n",
       "  <tbody>\n",
       "    <tr>\n",
       "      <th>14</th>\n",
       "      <td>2</td>\n",
       "      <td>0</td>\n",
       "      <td>0</td>\n",
       "      <td>0</td>\n",
       "      <td>0</td>\n",
       "      <td>0</td>\n",
       "      <td>0</td>\n",
       "      <td>0</td>\n",
       "      <td>AJI</td>\n",
       "    </tr>\n",
       "    <tr>\n",
       "      <th>15</th>\n",
       "      <td>2</td>\n",
       "      <td>0</td>\n",
       "      <td>0</td>\n",
       "      <td>0</td>\n",
       "      <td>0</td>\n",
       "      <td>0</td>\n",
       "      <td>0</td>\n",
       "      <td>0</td>\n",
       "      <td>AJI</td>\n",
       "    </tr>\n",
       "    <tr>\n",
       "      <th>109</th>\n",
       "      <td>0</td>\n",
       "      <td>0</td>\n",
       "      <td>2</td>\n",
       "      <td>0</td>\n",
       "      <td>0</td>\n",
       "      <td>0</td>\n",
       "      <td>0</td>\n",
       "      <td>0</td>\n",
       "      <td>HAC</td>\n",
       "    </tr>\n",
       "    <tr>\n",
       "      <th>179</th>\n",
       "      <td>0</td>\n",
       "      <td>2</td>\n",
       "      <td>0</td>\n",
       "      <td>0</td>\n",
       "      <td>0</td>\n",
       "      <td>0</td>\n",
       "      <td>0</td>\n",
       "      <td>0</td>\n",
       "      <td>CEU</td>\n",
       "    </tr>\n",
       "    <tr>\n",
       "      <th>215</th>\n",
       "      <td>0</td>\n",
       "      <td>0</td>\n",
       "      <td>0</td>\n",
       "      <td>2</td>\n",
       "      <td>0</td>\n",
       "      <td>0</td>\n",
       "      <td>0</td>\n",
       "      <td>0</td>\n",
       "      <td>ITU</td>\n",
       "    </tr>\n",
       "  </tbody>\n",
       "</table>\n",
       "</div>"
      ],
      "text/plain": [
       "     AJI  CEU  HAC  ITU  LWK  MPC  PEL  YRI pop_spec_t_pop\n",
       "14     2    0    0    0    0    0    0    0            AJI\n",
       "15     2    0    0    0    0    0    0    0            AJI\n",
       "109    0    0    2    0    0    0    0    0            HAC\n",
       "179    0    2    0    0    0    0    0    0            CEU\n",
       "215    0    0    0    2    0    0    0    0            ITU"
      ]
     },
     "execution_count": 61,
     "metadata": {},
     "output_type": "execute_result"
    }
   ],
   "source": [
    "mt_df['pop_spec_t_pop'] = mt_df[order].idxmax(axis=1)\n",
    "mt_df[order+['pop_spec_t_pop']].head()"
   ]
  },
  {
   "cell_type": "code",
   "execution_count": 63,
   "id": "7021c8ac-442c-46b5-abfa-abc876ae3b77",
   "metadata": {},
   "outputs": [
    {
     "data": {
      "text/html": [
       "<div>\n",
       "<style scoped>\n",
       "    .dataframe tbody tr th:only-of-type {\n",
       "        vertical-align: middle;\n",
       "    }\n",
       "\n",
       "    .dataframe tbody tr th {\n",
       "        vertical-align: top;\n",
       "    }\n",
       "\n",
       "    .dataframe thead th {\n",
       "        text-align: right;\n",
       "    }\n",
       "</style>\n",
       "<table border=\"1\" class=\"dataframe\">\n",
       "  <thead>\n",
       "    <tr style=\"text-align: right;\">\n",
       "      <th></th>\n",
       "      <th>pop_spec_t_pop</th>\n",
       "      <th>n_pop_spec_t</th>\n",
       "    </tr>\n",
       "  </thead>\n",
       "  <tbody>\n",
       "    <tr>\n",
       "      <th>0</th>\n",
       "      <td>AJI</td>\n",
       "      <td>345</td>\n",
       "    </tr>\n",
       "    <tr>\n",
       "      <th>1</th>\n",
       "      <td>CEU</td>\n",
       "      <td>247</td>\n",
       "    </tr>\n",
       "    <tr>\n",
       "      <th>2</th>\n",
       "      <td>HAC</td>\n",
       "      <td>422</td>\n",
       "    </tr>\n",
       "    <tr>\n",
       "      <th>3</th>\n",
       "      <td>ITU</td>\n",
       "      <td>199</td>\n",
       "    </tr>\n",
       "    <tr>\n",
       "      <th>4</th>\n",
       "      <td>LWK</td>\n",
       "      <td>197</td>\n",
       "    </tr>\n",
       "    <tr>\n",
       "      <th>5</th>\n",
       "      <td>MPC</td>\n",
       "      <td>224</td>\n",
       "    </tr>\n",
       "    <tr>\n",
       "      <th>6</th>\n",
       "      <td>PEL</td>\n",
       "      <td>360</td>\n",
       "    </tr>\n",
       "    <tr>\n",
       "      <th>7</th>\n",
       "      <td>YRI</td>\n",
       "      <td>273</td>\n",
       "    </tr>\n",
       "  </tbody>\n",
       "</table>\n",
       "</div>"
      ],
      "text/plain": [
       "  pop_spec_t_pop  n_pop_spec_t\n",
       "0            AJI           345\n",
       "1            CEU           247\n",
       "2            HAC           422\n",
       "3            ITU           199\n",
       "4            LWK           197\n",
       "5            MPC           224\n",
       "6            PEL           360\n",
       "7            YRI           273"
      ]
     },
     "execution_count": 63,
     "metadata": {},
     "output_type": "execute_result"
    }
   ],
   "source": [
    "temp = mt_df[['pop_spec_t_pop', 'isoform']].groupby('pop_spec_t_pop').nunique().reset_index().rename({'isoform':'n_pop_spec_t'}, axis=1)\n",
    "temp"
   ]
  },
  {
   "cell_type": "code",
   "execution_count": 64,
   "id": "36a993a6-8edc-49d7-806c-15e7901df219",
   "metadata": {},
   "outputs": [
    {
     "data": {
      "text/plain": [
       "260.0"
      ]
     },
     "execution_count": 64,
     "metadata": {},
     "output_type": "execute_result"
    }
   ],
   "source": [
    "temp.n_pop_spec_t.median()"
   ]
  },
  {
   "cell_type": "code",
   "execution_count": null,
   "id": "bd82f52d-b6b1-4ca5-ae06-6ffffda43a98",
   "metadata": {},
   "outputs": [],
   "source": []
  },
  {
   "cell_type": "code",
   "execution_count": null,
   "id": "50668165-2366-438c-ad58-a0b095e1d395",
   "metadata": {},
   "outputs": [],
   "source": []
  },
  {
   "cell_type": "code",
   "execution_count": null,
   "id": "7629d9ab-184a-4be1-aba2-d957d5f12fdf",
   "metadata": {},
   "outputs": [],
   "source": []
  },
  {
   "cell_type": "code",
   "execution_count": 49,
   "id": "735deeb9-d9a5-4bae-8910-84ae41a5dac1",
   "metadata": {},
   "outputs": [],
   "source": [
    "meta = load_meta()\n",
    "meta = meta.loc[meta.merged_run_mode==True]\n",
    "sample_d = dict([(entry.cell_line_id, entry['sample']) \\\n",
    "                 for ind, entry in meta.iterrows()])\n",
    "    \n",
    "    \n",
    "\n",
    "f = expand(proc_cfg(config['lr']['kallisto']['quant']['merge_matrix_tpm_tsv'],od))[0]\n",
    "df = pd.read_csv(f, sep='\\t')\n",
    "df.head()\n",
    "df.columns = [d if d == 'transcript_id' else d.split('_')[0] for d in df.columns]\n",
    "df.rename({'transcript_id':'tid'}, axis=1, inplace=True)\n",
    "df.rename(sample_d, axis=1, inplace=True)"
   ]
  },
  {
   "cell_type": "code",
   "execution_count": 29,
   "id": "a9d59d8d-da20-48a1-9c6c-0dc3d82b64a4",
   "metadata": {},
   "outputs": [],
   "source": [
    "# melt \n",
    "df = df.melt(id_vars=['tid'], var_name='sample', value_name='counts')"
   ]
  },
  {
   "cell_type": "code",
   "execution_count": 30,
   "id": "69bd610e-03ea-42c2-b2bd-0a19ecf853e4",
   "metadata": {},
   "outputs": [],
   "source": [
    "# remove all unexpressed\n",
    "df = df.loc[df.counts>0]"
   ]
  },
  {
   "cell_type": "code",
   "execution_count": 31,
   "id": "2e2e8c11-1891-40d6-a73a-a62c9c70c0f2",
   "metadata": {},
   "outputs": [],
   "source": [
    "# get decile bins for overall transcripts\n",
    "df['decile'], bin_edges = pd.qcut(df['counts'], q=10, labels=False, retbins=True)"
   ]
  },
  {
   "cell_type": "code",
   "execution_count": 32,
   "id": "8aa2dc41-cc47-43eb-8fee-002fc79e0622",
   "metadata": {},
   "outputs": [
    {
     "data": {
      "text/html": [
       "<div>\n",
       "<style scoped>\n",
       "    .dataframe tbody tr th:only-of-type {\n",
       "        vertical-align: middle;\n",
       "    }\n",
       "\n",
       "    .dataframe tbody tr th {\n",
       "        vertical-align: top;\n",
       "    }\n",
       "\n",
       "    .dataframe thead th {\n",
       "        text-align: right;\n",
       "    }\n",
       "</style>\n",
       "<table border=\"1\" class=\"dataframe\">\n",
       "  <thead>\n",
       "    <tr style=\"text-align: right;\">\n",
       "      <th></th>\n",
       "      <th>tid</th>\n",
       "      <th>sample</th>\n",
       "      <th>counts</th>\n",
       "      <th>decile</th>\n",
       "    </tr>\n",
       "  </thead>\n",
       "  <tbody>\n",
       "    <tr>\n",
       "      <th>1</th>\n",
       "      <td>transcript_6675</td>\n",
       "      <td>YRI5</td>\n",
       "      <td>0.393218</td>\n",
       "      <td>5</td>\n",
       "    </tr>\n",
       "    <tr>\n",
       "      <th>2</th>\n",
       "      <td>transcript_6676</td>\n",
       "      <td>YRI5</td>\n",
       "      <td>0.956060</td>\n",
       "      <td>7</td>\n",
       "    </tr>\n",
       "    <tr>\n",
       "      <th>3</th>\n",
       "      <td>transcript_6684</td>\n",
       "      <td>YRI5</td>\n",
       "      <td>0.196609</td>\n",
       "      <td>3</td>\n",
       "    </tr>\n",
       "    <tr>\n",
       "      <th>6</th>\n",
       "      <td>transcript_11363</td>\n",
       "      <td>YRI5</td>\n",
       "      <td>0.489169</td>\n",
       "      <td>5</td>\n",
       "    </tr>\n",
       "    <tr>\n",
       "      <th>7</th>\n",
       "      <td>transcript_11364</td>\n",
       "      <td>YRI5</td>\n",
       "      <td>0.366877</td>\n",
       "      <td>5</td>\n",
       "    </tr>\n",
       "  </tbody>\n",
       "</table>\n",
       "</div>"
      ],
      "text/plain": [
       "                tid sample    counts  decile\n",
       "1   transcript_6675   YRI5  0.393218       5\n",
       "2   transcript_6676   YRI5  0.956060       7\n",
       "3   transcript_6684   YRI5  0.196609       3\n",
       "6  transcript_11363   YRI5  0.489169       5\n",
       "7  transcript_11364   YRI5  0.366877       5"
      ]
     },
     "execution_count": 32,
     "metadata": {},
     "output_type": "execute_result"
    }
   ],
   "source": [
    "df.head()"
   ]
  },
  {
   "cell_type": "code",
   "execution_count": 33,
   "id": "8ea5ed8e-4d08-4196-ad5e-93ef24d9d1e1",
   "metadata": {},
   "outputs": [
    {
     "data": {
      "text/plain": [
       "array([4.476850e-10, 7.754400e-02, 1.132000e-01, 1.630210e-01,\n",
       "       2.372280e-01, 3.477610e-01, 5.332138e-01, 8.884990e-01,\n",
       "       1.760984e+00, 5.228652e+00, 1.344310e+05])"
      ]
     },
     "execution_count": 33,
     "metadata": {},
     "output_type": "execute_result"
    }
   ],
   "source": [
    "bin_edges"
   ]
  },
  {
   "cell_type": "code",
   "execution_count": 52,
   "id": "02ee07f0-91b6-4570-aca0-716050a31927",
   "metadata": {},
   "outputs": [
    {
     "name": "stdout",
     "output_type": "stream",
     "text": [
      "2267\n"
     ]
    }
   ],
   "source": [
    "# get the population-spec transcrips\n",
    "mt_df = pd.read_csv('../data/05_mastertable/poder_master_table_fixed_genics.tsv', sep='\\t')\n",
    "mt_df['pop_spec_t'] = (mt_df.population_sharing==1)&\\\n",
    "                      (mt_df.sample_sharing>1)\n",
    "print(len(mt_df.loc[mt_df.pop_spec_t==True, 'isoform'].unique()))\n",
    "df = df.merge(mt_df[['isoform', 'pop_spec_t']],\n",
    "              how='left',\n",
    "              left_on='tid', \n",
    "              right_on='isoform')"
   ]
  },
  {
   "cell_type": "code",
   "execution_count": 42,
   "id": "db026745-eeb7-41cd-8344-cc19bb2f5a67",
   "metadata": {},
   "outputs": [],
   "source": [
    "# get max expression of each transcript \n",
    "df = df.loc[df.pop_spec_t==True]\n",
    "df = df.sort_values(by='counts', ascending=False)\n",
    "temp = df.drop_duplicates(subset='tid', keep='first')"
   ]
  },
  {
   "cell_type": "code",
   "execution_count": 43,
   "id": "88f29ccf-6297-43e9-b56a-a6a7229f680a",
   "metadata": {},
   "outputs": [
    {
     "data": {
      "text/html": [
       "<div>\n",
       "<style scoped>\n",
       "    .dataframe tbody tr th:only-of-type {\n",
       "        vertical-align: middle;\n",
       "    }\n",
       "\n",
       "    .dataframe tbody tr th {\n",
       "        vertical-align: top;\n",
       "    }\n",
       "\n",
       "    .dataframe thead th {\n",
       "        text-align: right;\n",
       "    }\n",
       "</style>\n",
       "<table border=\"1\" class=\"dataframe\">\n",
       "  <thead>\n",
       "    <tr style=\"text-align: right;\">\n",
       "      <th></th>\n",
       "      <th>tid</th>\n",
       "      <th>sample</th>\n",
       "      <th>counts</th>\n",
       "      <th>decile</th>\n",
       "      <th>isoform</th>\n",
       "      <th>pop_spec_t</th>\n",
       "    </tr>\n",
       "  </thead>\n",
       "  <tbody>\n",
       "    <tr>\n",
       "      <th>1104714</th>\n",
       "      <td>transcript_120938</td>\n",
       "      <td>AJI2</td>\n",
       "      <td>42091.8000</td>\n",
       "      <td>9</td>\n",
       "      <td>transcript_120938</td>\n",
       "      <td>True</td>\n",
       "    </tr>\n",
       "    <tr>\n",
       "      <th>2482232</th>\n",
       "      <td>transcript_185237</td>\n",
       "      <td>CEU4</td>\n",
       "      <td>15534.4000</td>\n",
       "      <td>9</td>\n",
       "      <td>transcript_185237</td>\n",
       "      <td>True</td>\n",
       "    </tr>\n",
       "    <tr>\n",
       "      <th>165693</th>\n",
       "      <td>transcript_241802</td>\n",
       "      <td>YRI7</td>\n",
       "      <td>243.1850</td>\n",
       "      <td>9</td>\n",
       "      <td>transcript_241802</td>\n",
       "      <td>True</td>\n",
       "    </tr>\n",
       "    <tr>\n",
       "      <th>1707919</th>\n",
       "      <td>transcript_121711</td>\n",
       "      <td>PEL5</td>\n",
       "      <td>162.1430</td>\n",
       "      <td>9</td>\n",
       "      <td>transcript_121711</td>\n",
       "      <td>True</td>\n",
       "    </tr>\n",
       "    <tr>\n",
       "      <th>368607</th>\n",
       "      <td>transcript_243565</td>\n",
       "      <td>HAC3</td>\n",
       "      <td>63.1865</td>\n",
       "      <td>9</td>\n",
       "      <td>transcript_243565</td>\n",
       "      <td>True</td>\n",
       "    </tr>\n",
       "  </tbody>\n",
       "</table>\n",
       "</div>"
      ],
      "text/plain": [
       "                       tid sample      counts  decile            isoform  \\\n",
       "1104714  transcript_120938   AJI2  42091.8000       9  transcript_120938   \n",
       "2482232  transcript_185237   CEU4  15534.4000       9  transcript_185237   \n",
       "165693   transcript_241802   YRI7    243.1850       9  transcript_241802   \n",
       "1707919  transcript_121711   PEL5    162.1430       9  transcript_121711   \n",
       "368607   transcript_243565   HAC3     63.1865       9  transcript_243565   \n",
       "\n",
       "         pop_spec_t  \n",
       "1104714        True  \n",
       "2482232        True  \n",
       "165693         True  \n",
       "1707919        True  \n",
       "368607         True  "
      ]
     },
     "execution_count": 43,
     "metadata": {},
     "output_type": "execute_result"
    }
   ],
   "source": [
    "temp.head()"
   ]
  },
  {
   "cell_type": "code",
   "execution_count": 45,
   "id": "e8a931e5-65fd-4fef-9bbb-ed806784ad6f",
   "metadata": {},
   "outputs": [
    {
     "data": {
      "text/html": [
       "<div>\n",
       "<style scoped>\n",
       "    .dataframe tbody tr th:only-of-type {\n",
       "        vertical-align: middle;\n",
       "    }\n",
       "\n",
       "    .dataframe tbody tr th {\n",
       "        vertical-align: top;\n",
       "    }\n",
       "\n",
       "    .dataframe thead th {\n",
       "        text-align: right;\n",
       "    }\n",
       "</style>\n",
       "<table border=\"1\" class=\"dataframe\">\n",
       "  <thead>\n",
       "    <tr style=\"text-align: right;\">\n",
       "      <th></th>\n",
       "      <th>tid</th>\n",
       "      <th>sample</th>\n",
       "      <th>counts</th>\n",
       "      <th>decile</th>\n",
       "      <th>isoform</th>\n",
       "      <th>pop_spec_t</th>\n",
       "    </tr>\n",
       "  </thead>\n",
       "  <tbody>\n",
       "    <tr>\n",
       "      <th>1104714</th>\n",
       "      <td>transcript_120938</td>\n",
       "      <td>AJI2</td>\n",
       "      <td>42091.800</td>\n",
       "      <td>9</td>\n",
       "      <td>transcript_120938</td>\n",
       "      <td>True</td>\n",
       "    </tr>\n",
       "    <tr>\n",
       "      <th>2291903</th>\n",
       "      <td>transcript_120938</td>\n",
       "      <td>CEU1</td>\n",
       "      <td>1439.720</td>\n",
       "      <td>9</td>\n",
       "      <td>transcript_120938</td>\n",
       "      <td>True</td>\n",
       "    </tr>\n",
       "    <tr>\n",
       "      <th>980833</th>\n",
       "      <td>transcript_120938</td>\n",
       "      <td>LWK5</td>\n",
       "      <td>1318.830</td>\n",
       "      <td>9</td>\n",
       "      <td>transcript_120938</td>\n",
       "      <td>True</td>\n",
       "    </tr>\n",
       "    <tr>\n",
       "      <th>1503405</th>\n",
       "      <td>transcript_120938</td>\n",
       "      <td>PEL2</td>\n",
       "      <td>942.820</td>\n",
       "      <td>9</td>\n",
       "      <td>transcript_120938</td>\n",
       "      <td>True</td>\n",
       "    </tr>\n",
       "    <tr>\n",
       "      <th>1966127</th>\n",
       "      <td>transcript_120938</td>\n",
       "      <td>ITU3</td>\n",
       "      <td>153.732</td>\n",
       "      <td>9</td>\n",
       "      <td>transcript_120938</td>\n",
       "      <td>True</td>\n",
       "    </tr>\n",
       "  </tbody>\n",
       "</table>\n",
       "</div>"
      ],
      "text/plain": [
       "                       tid sample     counts  decile            isoform  \\\n",
       "1104714  transcript_120938   AJI2  42091.800       9  transcript_120938   \n",
       "2291903  transcript_120938   CEU1   1439.720       9  transcript_120938   \n",
       "980833   transcript_120938   LWK5   1318.830       9  transcript_120938   \n",
       "1503405  transcript_120938   PEL2    942.820       9  transcript_120938   \n",
       "1966127  transcript_120938   ITU3    153.732       9  transcript_120938   \n",
       "\n",
       "         pop_spec_t  \n",
       "1104714        True  \n",
       "2291903        True  \n",
       "980833         True  \n",
       "1503405        True  \n",
       "1966127        True  "
      ]
     },
     "execution_count": 45,
     "metadata": {},
     "output_type": "execute_result"
    }
   ],
   "source": [
    "df.loc[df.tid=='transcript_120938'].head()"
   ]
  },
  {
   "cell_type": "code",
   "execution_count": 46,
   "id": "569bdf90-07a5-41a7-a299-c4b65ff8f0e1",
   "metadata": {},
   "outputs": [
    {
     "data": {
      "text/html": [
       "<div>\n",
       "<style scoped>\n",
       "    .dataframe tbody tr th:only-of-type {\n",
       "        vertical-align: middle;\n",
       "    }\n",
       "\n",
       "    .dataframe tbody tr th {\n",
       "        vertical-align: top;\n",
       "    }\n",
       "\n",
       "    .dataframe thead th {\n",
       "        text-align: right;\n",
       "    }\n",
       "</style>\n",
       "<table border=\"1\" class=\"dataframe\">\n",
       "  <thead>\n",
       "    <tr style=\"text-align: right;\">\n",
       "      <th></th>\n",
       "      <th>tid</th>\n",
       "    </tr>\n",
       "    <tr>\n",
       "      <th>decile</th>\n",
       "      <th></th>\n",
       "    </tr>\n",
       "  </thead>\n",
       "  <tbody>\n",
       "    <tr>\n",
       "      <th>0</th>\n",
       "      <td>174</td>\n",
       "    </tr>\n",
       "    <tr>\n",
       "      <th>1</th>\n",
       "      <td>204</td>\n",
       "    </tr>\n",
       "    <tr>\n",
       "      <th>2</th>\n",
       "      <td>244</td>\n",
       "    </tr>\n",
       "    <tr>\n",
       "      <th>3</th>\n",
       "      <td>269</td>\n",
       "    </tr>\n",
       "    <tr>\n",
       "      <th>4</th>\n",
       "      <td>342</td>\n",
       "    </tr>\n",
       "    <tr>\n",
       "      <th>5</th>\n",
       "      <td>295</td>\n",
       "    </tr>\n",
       "    <tr>\n",
       "      <th>6</th>\n",
       "      <td>210</td>\n",
       "    </tr>\n",
       "    <tr>\n",
       "      <th>7</th>\n",
       "      <td>133</td>\n",
       "    </tr>\n",
       "    <tr>\n",
       "      <th>8</th>\n",
       "      <td>104</td>\n",
       "    </tr>\n",
       "    <tr>\n",
       "      <th>9</th>\n",
       "      <td>40</td>\n",
       "    </tr>\n",
       "  </tbody>\n",
       "</table>\n",
       "</div>"
      ],
      "text/plain": [
       "        tid\n",
       "decile     \n",
       "0       174\n",
       "1       204\n",
       "2       244\n",
       "3       269\n",
       "4       342\n",
       "5       295\n",
       "6       210\n",
       "7       133\n",
       "8       104\n",
       "9        40"
      ]
     },
     "execution_count": 46,
     "metadata": {},
     "output_type": "execute_result"
    }
   ],
   "source": [
    "# get count of pop spec t in each decile\n",
    "temp[['decile', 'tid']].groupby('decile').count()"
   ]
  },
  {
   "cell_type": "code",
   "execution_count": 37,
   "id": "82a2a29c-3590-4336-93cb-8aabf16a4104",
   "metadata": {},
   "outputs": [
    {
     "data": {
      "text/plain": [
       "2015"
      ]
     },
     "execution_count": 37,
     "metadata": {},
     "output_type": "execute_result"
    }
   ],
   "source": [
    "len(df.tid.unique())"
   ]
  },
  {
   "cell_type": "code",
   "execution_count": 38,
   "id": "f6927c1b-88da-49cc-a7cd-e4837eaa7b10",
   "metadata": {},
   "outputs": [
    {
     "data": {
      "text/plain": [
       "23562"
      ]
     },
     "execution_count": 38,
     "metadata": {},
     "output_type": "execute_result"
    }
   ],
   "source": [
    "len(df.index)"
   ]
  },
  {
   "cell_type": "code",
   "execution_count": null,
   "id": "647e20cf-557b-44a8-9a56-98b3f8b85311",
   "metadata": {},
   "outputs": [],
   "source": []
  }
 ],
 "metadata": {
  "kernelspec": {
   "display_name": "Python 3",
   "language": "python",
   "name": "python3"
  },
  "language_info": {
   "codemirror_mode": {
    "name": "ipython",
    "version": 3
   },
   "file_extension": ".py",
   "mimetype": "text/x-python",
   "name": "python",
   "nbconvert_exporter": "python",
   "pygments_lexer": "ipython3",
   "version": "3.7.12"
  }
 },
 "nbformat": 4,
 "nbformat_minor": 5
}
