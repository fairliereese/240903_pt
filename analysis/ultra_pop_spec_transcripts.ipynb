{
 "cells": [
  {
   "cell_type": "markdown",
   "id": "037e97a2-3c95-449a-8b73-7acef8cc55ae",
   "metadata": {},
   "source": [
    "## Are there any transcripts that are expressed in all samples of one population and no samples of any other population?"
   ]
  },
  {
   "cell_type": "code",
   "execution_count": 1,
   "id": "9f6742db-3412-4001-917e-52c285f99967",
   "metadata": {},
   "outputs": [],
   "source": [
    "import pandas as pd\n",
    "import numpy as np\n",
    "import scipy.stats as st\n",
    "import seaborn as sns\n",
    "import sys\n",
    "import os\n",
    "import matplotlib.pyplot as plt\n",
    "import swan_vis as swan\n",
    "import yaml\n",
    "from snakemake.io import expand\n",
    "import cerberus\n",
    "import pyranges as pr\n",
    "import upsetplot\n",
    "\n",
    "p = os.path.dirname(os.getcwd())\n",
    "sys.path.append(p)\n",
    "\n",
    "from scripts.utils import *\n",
    "from scripts.vcf_utils import *\n",
    "from scripts.plotting import *"
   ]
  },
  {
   "cell_type": "code",
   "execution_count": 2,
   "id": "026dafbc-7a9d-4298-bce9-b2da3589417b",
   "metadata": {},
   "outputs": [],
   "source": [
    "config = load_config()\n",
    "od = '../'\n",
    "\n",
    "def proc_cfg(entry, od):\n",
    "    entry = entry.replace('../../', '')\n",
    "    entry = od+entry\n",
    "    return entry"
   ]
  },
  {
   "cell_type": "code",
   "execution_count": 69,
   "id": "847340b4-26b5-4e52-b7d5-9df53c966211",
   "metadata": {},
   "outputs": [
    {
     "data": {
      "text/html": [
       "<div>\n",
       "<style scoped>\n",
       "    .dataframe tbody tr th:only-of-type {\n",
       "        vertical-align: middle;\n",
       "    }\n",
       "\n",
       "    .dataframe tbody tr th {\n",
       "        vertical-align: top;\n",
       "    }\n",
       "\n",
       "    .dataframe thead th {\n",
       "        text-align: right;\n",
       "    }\n",
       "</style>\n",
       "<table border=\"1\" class=\"dataframe\">\n",
       "  <thead>\n",
       "    <tr style=\"text-align: right;\">\n",
       "      <th></th>\n",
       "      <th>YRI5</th>\n",
       "      <th>YRI6</th>\n",
       "      <th>YRI7</th>\n",
       "      <th>HAC1</th>\n",
       "      <th>HAC2</th>\n",
       "      <th>HAC3</th>\n",
       "      <th>HAC4</th>\n",
       "      <th>HAC5</th>\n",
       "      <th>HAC6</th>\n",
       "      <th>LWK1</th>\n",
       "      <th>...</th>\n",
       "      <th>CEU1</th>\n",
       "      <th>CEU2</th>\n",
       "      <th>CEU3</th>\n",
       "      <th>CEU4</th>\n",
       "      <th>CEU5</th>\n",
       "      <th>MPC4</th>\n",
       "      <th>YRI1</th>\n",
       "      <th>YRI2</th>\n",
       "      <th>YRI3</th>\n",
       "      <th>temp_merge</th>\n",
       "    </tr>\n",
       "    <tr>\n",
       "      <th>tid</th>\n",
       "      <th></th>\n",
       "      <th></th>\n",
       "      <th></th>\n",
       "      <th></th>\n",
       "      <th></th>\n",
       "      <th></th>\n",
       "      <th></th>\n",
       "      <th></th>\n",
       "      <th></th>\n",
       "      <th></th>\n",
       "      <th></th>\n",
       "      <th></th>\n",
       "      <th></th>\n",
       "      <th></th>\n",
       "      <th></th>\n",
       "      <th></th>\n",
       "      <th></th>\n",
       "      <th></th>\n",
       "      <th></th>\n",
       "      <th></th>\n",
       "      <th></th>\n",
       "    </tr>\n",
       "  </thead>\n",
       "  <tbody>\n",
       "    <tr>\n",
       "      <th>ENST00000413811.3</th>\n",
       "      <td>0.000000</td>\n",
       "      <td>0.000000</td>\n",
       "      <td>0.000000</td>\n",
       "      <td>0.000000</td>\n",
       "      <td>0.000000</td>\n",
       "      <td>0.000000</td>\n",
       "      <td>0.000000</td>\n",
       "      <td>0.000000</td>\n",
       "      <td>0.000000</td>\n",
       "      <td>0.000000</td>\n",
       "      <td>...</td>\n",
       "      <td>0.000000</td>\n",
       "      <td>0.000000</td>\n",
       "      <td>0.000000</td>\n",
       "      <td>0.000000</td>\n",
       "      <td>0.000000</td>\n",
       "      <td>0.000000</td>\n",
       "      <td>0.000000</td>\n",
       "      <td>0.000000</td>\n",
       "      <td>0.00000</td>\n",
       "      <td>1</td>\n",
       "    </tr>\n",
       "    <tr>\n",
       "      <th>transcript_6675</th>\n",
       "      <td>0.393218</td>\n",
       "      <td>0.000000</td>\n",
       "      <td>0.552231</td>\n",
       "      <td>0.127078</td>\n",
       "      <td>0.386482</td>\n",
       "      <td>0.313976</td>\n",
       "      <td>0.498281</td>\n",
       "      <td>0.328355</td>\n",
       "      <td>0.437621</td>\n",
       "      <td>0.385320</td>\n",
       "      <td>...</td>\n",
       "      <td>0.269962</td>\n",
       "      <td>0.108892</td>\n",
       "      <td>0.172414</td>\n",
       "      <td>0.405509</td>\n",
       "      <td>0.073628</td>\n",
       "      <td>0.835420</td>\n",
       "      <td>0.214743</td>\n",
       "      <td>0.477583</td>\n",
       "      <td>0.59838</td>\n",
       "      <td>1</td>\n",
       "    </tr>\n",
       "    <tr>\n",
       "      <th>transcript_6676</th>\n",
       "      <td>0.956060</td>\n",
       "      <td>0.438777</td>\n",
       "      <td>1.184180</td>\n",
       "      <td>0.757060</td>\n",
       "      <td>1.551000</td>\n",
       "      <td>0.266020</td>\n",
       "      <td>0.195867</td>\n",
       "      <td>0.268813</td>\n",
       "      <td>0.351186</td>\n",
       "      <td>0.504766</td>\n",
       "      <td>...</td>\n",
       "      <td>0.519386</td>\n",
       "      <td>0.566595</td>\n",
       "      <td>0.495574</td>\n",
       "      <td>1.004550</td>\n",
       "      <td>0.540054</td>\n",
       "      <td>0.397010</td>\n",
       "      <td>0.998557</td>\n",
       "      <td>0.344694</td>\n",
       "      <td>0.18226</td>\n",
       "      <td>1</td>\n",
       "    </tr>\n",
       "    <tr>\n",
       "      <th>transcript_6684</th>\n",
       "      <td>0.196609</td>\n",
       "      <td>1.245200</td>\n",
       "      <td>0.631121</td>\n",
       "      <td>0.000000</td>\n",
       "      <td>0.552185</td>\n",
       "      <td>0.444888</td>\n",
       "      <td>0.394330</td>\n",
       "      <td>0.492533</td>\n",
       "      <td>0.475874</td>\n",
       "      <td>0.481651</td>\n",
       "      <td>...</td>\n",
       "      <td>0.539923</td>\n",
       "      <td>0.000000</td>\n",
       "      <td>0.822254</td>\n",
       "      <td>0.354531</td>\n",
       "      <td>0.441766</td>\n",
       "      <td>0.858465</td>\n",
       "      <td>0.214743</td>\n",
       "      <td>0.477583</td>\n",
       "      <td>0.29919</td>\n",
       "      <td>1</td>\n",
       "    </tr>\n",
       "    <tr>\n",
       "      <th>transcript_6687</th>\n",
       "      <td>0.000000</td>\n",
       "      <td>0.000000</td>\n",
       "      <td>0.000000</td>\n",
       "      <td>0.055554</td>\n",
       "      <td>0.000000</td>\n",
       "      <td>0.088617</td>\n",
       "      <td>0.000000</td>\n",
       "      <td>0.000000</td>\n",
       "      <td>0.056812</td>\n",
       "      <td>0.000000</td>\n",
       "      <td>...</td>\n",
       "      <td>0.000000</td>\n",
       "      <td>0.247031</td>\n",
       "      <td>0.000000</td>\n",
       "      <td>0.000000</td>\n",
       "      <td>0.000000</td>\n",
       "      <td>0.000000</td>\n",
       "      <td>0.000000</td>\n",
       "      <td>0.000000</td>\n",
       "      <td>0.00000</td>\n",
       "      <td>1</td>\n",
       "    </tr>\n",
       "  </tbody>\n",
       "</table>\n",
       "<p>5 rows × 44 columns</p>\n",
       "</div>"
      ],
      "text/plain": [
       "                       YRI5      YRI6      YRI7      HAC1      HAC2      HAC3  \\\n",
       "tid                                                                             \n",
       "ENST00000413811.3  0.000000  0.000000  0.000000  0.000000  0.000000  0.000000   \n",
       "transcript_6675    0.393218  0.000000  0.552231  0.127078  0.386482  0.313976   \n",
       "transcript_6676    0.956060  0.438777  1.184180  0.757060  1.551000  0.266020   \n",
       "transcript_6684    0.196609  1.245200  0.631121  0.000000  0.552185  0.444888   \n",
       "transcript_6687    0.000000  0.000000  0.000000  0.055554  0.000000  0.088617   \n",
       "\n",
       "                       HAC4      HAC5      HAC6      LWK1  ...      CEU1  \\\n",
       "tid                                                        ...             \n",
       "ENST00000413811.3  0.000000  0.000000  0.000000  0.000000  ...  0.000000   \n",
       "transcript_6675    0.498281  0.328355  0.437621  0.385320  ...  0.269962   \n",
       "transcript_6676    0.195867  0.268813  0.351186  0.504766  ...  0.519386   \n",
       "transcript_6684    0.394330  0.492533  0.475874  0.481651  ...  0.539923   \n",
       "transcript_6687    0.000000  0.000000  0.056812  0.000000  ...  0.000000   \n",
       "\n",
       "                       CEU2      CEU3      CEU4      CEU5      MPC4      YRI1  \\\n",
       "tid                                                                             \n",
       "ENST00000413811.3  0.000000  0.000000  0.000000  0.000000  0.000000  0.000000   \n",
       "transcript_6675    0.108892  0.172414  0.405509  0.073628  0.835420  0.214743   \n",
       "transcript_6676    0.566595  0.495574  1.004550  0.540054  0.397010  0.998557   \n",
       "transcript_6684    0.000000  0.822254  0.354531  0.441766  0.858465  0.214743   \n",
       "transcript_6687    0.247031  0.000000  0.000000  0.000000  0.000000  0.000000   \n",
       "\n",
       "                       YRI2     YRI3  temp_merge  \n",
       "tid                                               \n",
       "ENST00000413811.3  0.000000  0.00000           1  \n",
       "transcript_6675    0.477583  0.59838           1  \n",
       "transcript_6676    0.344694  0.18226           1  \n",
       "transcript_6684    0.477583  0.29919           1  \n",
       "transcript_6687    0.000000  0.00000           1  \n",
       "\n",
       "[5 rows x 44 columns]"
      ]
     },
     "execution_count": 69,
     "metadata": {},
     "output_type": "execute_result"
    }
   ],
   "source": [
    "f = expand(proc_cfg(config['lr']['kallisto']['quant']['merge_matrix_tpm_tsv'],od))[0]\n",
    "\n",
    "meta = load_meta()\n",
    "meta = meta.loc[meta.merged_run_mode==True]\n",
    "sample_d = dict([(entry.cell_line_id, entry['sample']) \\\n",
    "                 for ind, entry in meta.iterrows()])\n",
    "\n",
    "df = pd.read_csv(f, sep='\\t')\n",
    "df.columns = [d if d == 'transcript_id' else d.split('_')[0] for d in df.columns]\n",
    "df.rename({'transcript_id':'tid'}, axis=1, inplace=True)\n",
    "df.rename(sample_d, axis=1, inplace=True)\n",
    "df.set_index('tid', inplace=True)\n",
    "df['temp_merge'] = 1\n",
    "df.head()"
   ]
  },
  {
   "cell_type": "code",
   "execution_count": 70,
   "id": "2e76eb5d-094e-421d-89d8-2ec786e79200",
   "metadata": {},
   "outputs": [],
   "source": [
    "# add max # samples for each pop\n",
    "exp_in_pop_cols = []\n",
    "for p in meta['population'].unique():\n",
    "    samps = meta.loc[meta.population==p, 'sample'].tolist()\n",
    "    samps = [s for s in samps if s in df.columns]\n",
    "    df[f'n_exp_{p}'] = (df[samps]>0).sum(axis=1)\n",
    "    df[f'exp_in_{p}'] = (df[samps]>0).sum(axis=1)>0\n",
    "    exp_in_pop_cols.append(f'exp_in_{p}')\n",
    "\n",
    "temp = meta[['sample', 'population']].groupby('population').nunique().rename({'sample':'n_samples'}, axis=1)\n",
    "temp = temp.transpose()\n",
    "temp.columns = [f'n_samples_{c}' for c in temp.columns]\n",
    "temp['temp_merge'] = 1"
   ]
  },
  {
   "cell_type": "code",
   "execution_count": 71,
   "id": "97a322d2-8b66-453c-9aa8-ef79f5b8928f",
   "metadata": {},
   "outputs": [],
   "source": [
    "df.reset_index(inplace=True)\n",
    "df = df.merge(temp, how='left',\n",
    "              on='temp_merge')\n",
    "df.drop('temp_merge', axis=1, inplace=True)"
   ]
  },
  {
   "cell_type": "code",
   "execution_count": 72,
   "id": "d864ae05-c9ee-469a-a933-1a6cca20b899",
   "metadata": {},
   "outputs": [],
   "source": [
    "# call things as expressed in all samples of pop or not\n",
    "exp_in_all_cols = []\n",
    "for p in meta['population'].unique():\n",
    "    samps = meta.loc[meta.population==p, 'sample'].tolist()\n",
    "    samps = [s for s in samps if s in df.columns]\n",
    "    df[f'exp_in_all_{p}'] = df[f'n_exp_{p}']==df[f'n_samples_{p}']\n",
    "    exp_in_all_cols.append(f'exp_in_all_{p}')\n"
   ]
  },
  {
   "cell_type": "code",
   "execution_count": 73,
   "id": "88623e0b-bbef-4313-9020-9ab761a1b3a2",
   "metadata": {},
   "outputs": [],
   "source": [
    "df.to_csv('test.tsv', sep='\\t')"
   ]
  },
  {
   "cell_type": "code",
   "execution_count": 77,
   "id": "65097efe-6ea4-497a-bd7c-99aa1671eafd",
   "metadata": {},
   "outputs": [],
   "source": [
    "# WRONG \n",
    "df['ultra_pop_spec'] = (df[exp_in_all_cols].sum(axis=1)==1)&\\\n",
    "                       (df[exp_in_pop_cols].sum(axis=1)==1)\n",
    "df['pop_spec'] = df[exp_in_pop_cols].sum(axis=1)==1"
   ]
  },
  {
   "cell_type": "code",
   "execution_count": 78,
   "id": "212b8fde-ac23-4200-ba89-d127c29fbc35",
   "metadata": {},
   "outputs": [],
   "source": [
    "df.to_csv('test.tsv', sep='\\t')"
   ]
  },
  {
   "cell_type": "code",
   "execution_count": 58,
   "id": "381fbb8e-a8a7-4249-bad5-24c1947911b6",
   "metadata": {},
   "outputs": [
    {
     "data": {
      "text/html": [
       "<div>\n",
       "<style scoped>\n",
       "    .dataframe tbody tr th:only-of-type {\n",
       "        vertical-align: middle;\n",
       "    }\n",
       "\n",
       "    .dataframe tbody tr th {\n",
       "        vertical-align: top;\n",
       "    }\n",
       "\n",
       "    .dataframe thead th {\n",
       "        text-align: right;\n",
       "    }\n",
       "</style>\n",
       "<table border=\"1\" class=\"dataframe\">\n",
       "  <thead>\n",
       "    <tr style=\"text-align: right;\">\n",
       "      <th></th>\n",
       "      <th>tid</th>\n",
       "      <th>YRI5</th>\n",
       "      <th>YRI6</th>\n",
       "      <th>YRI7</th>\n",
       "      <th>HAC1</th>\n",
       "      <th>HAC2</th>\n",
       "      <th>HAC3</th>\n",
       "      <th>HAC4</th>\n",
       "      <th>HAC5</th>\n",
       "      <th>HAC6</th>\n",
       "      <th>...</th>\n",
       "      <th>n_samples_YRI</th>\n",
       "      <th>exp_in_all_ITU</th>\n",
       "      <th>exp_in_all_PEL</th>\n",
       "      <th>exp_in_all_HAC</th>\n",
       "      <th>exp_in_all_AJI</th>\n",
       "      <th>exp_in_all_LWK</th>\n",
       "      <th>exp_in_all_YRI</th>\n",
       "      <th>exp_in_all_CEU</th>\n",
       "      <th>exp_in_all_MPC</th>\n",
       "      <th>ultra_pop_spec</th>\n",
       "    </tr>\n",
       "  </thead>\n",
       "  <tbody>\n",
       "    <tr>\n",
       "      <th>49</th>\n",
       "      <td>transcript_8852</td>\n",
       "      <td>0.450956</td>\n",
       "      <td>0.0</td>\n",
       "      <td>0.0</td>\n",
       "      <td>0.201096</td>\n",
       "      <td>0.340745</td>\n",
       "      <td>0.0</td>\n",
       "      <td>0.150552</td>\n",
       "      <td>0.347292</td>\n",
       "      <td>0.200877</td>\n",
       "      <td>...</td>\n",
       "      <td>7</td>\n",
       "      <td>False</td>\n",
       "      <td>False</td>\n",
       "      <td>False</td>\n",
       "      <td>True</td>\n",
       "      <td>False</td>\n",
       "      <td>False</td>\n",
       "      <td>False</td>\n",
       "      <td>False</td>\n",
       "      <td>True</td>\n",
       "    </tr>\n",
       "  </tbody>\n",
       "</table>\n",
       "<p>1 rows × 69 columns</p>\n",
       "</div>"
      ],
      "text/plain": [
       "                tid      YRI5  YRI6  YRI7      HAC1      HAC2  HAC3      HAC4  \\\n",
       "49  transcript_8852  0.450956   0.0   0.0  0.201096  0.340745   0.0  0.150552   \n",
       "\n",
       "        HAC5      HAC6  ...  n_samples_YRI  exp_in_all_ITU  exp_in_all_PEL  \\\n",
       "49  0.347292  0.200877  ...              7           False           False   \n",
       "\n",
       "    exp_in_all_HAC  exp_in_all_AJI  exp_in_all_LWK  exp_in_all_YRI  \\\n",
       "49           False            True           False           False   \n",
       "\n",
       "    exp_in_all_CEU  exp_in_all_MPC  ultra_pop_spec  \n",
       "49           False           False            True  \n",
       "\n",
       "[1 rows x 69 columns]"
      ]
     },
     "execution_count": 58,
     "metadata": {},
     "output_type": "execute_result"
    }
   ],
   "source": [
    "df.loc[df.tid=='transcript_8852']"
   ]
  },
  {
   "cell_type": "code",
   "execution_count": 76,
   "id": "41de55b1-4a68-4836-93ab-e3ccfc86aef8",
   "metadata": {},
   "outputs": [
    {
     "data": {
      "text/html": [
       "<div>\n",
       "<style scoped>\n",
       "    .dataframe tbody tr th:only-of-type {\n",
       "        vertical-align: middle;\n",
       "    }\n",
       "\n",
       "    .dataframe tbody tr th {\n",
       "        vertical-align: top;\n",
       "    }\n",
       "\n",
       "    .dataframe thead th {\n",
       "        text-align: right;\n",
       "    }\n",
       "</style>\n",
       "<table border=\"1\" class=\"dataframe\">\n",
       "  <thead>\n",
       "    <tr style=\"text-align: right;\">\n",
       "      <th></th>\n",
       "      <th>exp_in_all_ITU</th>\n",
       "      <th>exp_in_all_PEL</th>\n",
       "      <th>exp_in_all_HAC</th>\n",
       "      <th>exp_in_all_AJI</th>\n",
       "      <th>exp_in_all_LWK</th>\n",
       "      <th>exp_in_all_YRI</th>\n",
       "      <th>exp_in_all_CEU</th>\n",
       "      <th>exp_in_all_MPC</th>\n",
       "      <th>ultra_pop_spec</th>\n",
       "    </tr>\n",
       "  </thead>\n",
       "  <tbody>\n",
       "  </tbody>\n",
       "</table>\n",
       "</div>"
      ],
      "text/plain": [
       "Empty DataFrame\n",
       "Columns: [exp_in_all_ITU, exp_in_all_PEL, exp_in_all_HAC, exp_in_all_AJI, exp_in_all_LWK, exp_in_all_YRI, exp_in_all_CEU, exp_in_all_MPC, ultra_pop_spec]\n",
       "Index: []"
      ]
     },
     "execution_count": 76,
     "metadata": {},
     "output_type": "execute_result"
    }
   ],
   "source": [
    "df.loc[df.ultra_pop_spec==True][exp_in_all_cols+['ultra_pop_spec']].head()"
   ]
  },
  {
   "cell_type": "code",
   "execution_count": 84,
   "id": "805c1b87-2f4f-4617-bccb-17b039cba65e",
   "metadata": {},
   "outputs": [],
   "source": [
    "ups_df = df.loc[df.ultra_pop_spec==True]"
   ]
  },
  {
   "cell_type": "code",
   "execution_count": 85,
   "id": "cdc4015f-2e45-4493-bf19-81c1879daa9a",
   "metadata": {},
   "outputs": [
    {
     "data": {
      "text/plain": [
       "0"
      ]
     },
     "execution_count": 85,
     "metadata": {},
     "output_type": "execute_result"
    }
   ],
   "source": [
    "len(ups_df.index)"
   ]
  },
  {
   "cell_type": "code",
   "execution_count": 86,
   "id": "9ed9a679-c869-4a53-8aef-55c5a2f30d2a",
   "metadata": {},
   "outputs": [],
   "source": [
    "# there are none"
   ]
  },
  {
   "cell_type": "markdown",
   "id": "8ff4e036-62e5-445b-907d-44dd54475049",
   "metadata": {},
   "source": [
    "## What populations have UPS transcripts?"
   ]
  },
  {
   "cell_type": "code",
   "execution_count": 79,
   "id": "a11981c6-59b7-480a-80a8-ce65226d719b",
   "metadata": {},
   "outputs": [],
   "source": [
    "# ups_df['ups_pop'] = df[exp_in_all_cols].idxmax(axis=1).str.split('_',expand=True)[3]"
   ]
  },
  {
   "cell_type": "code",
   "execution_count": 81,
   "id": "23c673b9-917b-44f8-8bb0-c2ea710566b1",
   "metadata": {},
   "outputs": [],
   "source": [
    "# ups_df[['tid', 'ups_pop']].groupby('ups_pop').nunique().rename({'tid':'n_t'}, axis=1)"
   ]
  },
  {
   "cell_type": "markdown",
   "id": "6778c0d6-e78b-46f4-92a0-c312b828681f",
   "metadata": {},
   "source": [
    "## What does their expression look like?"
   ]
  },
  {
   "cell_type": "code",
   "execution_count": 82,
   "id": "ae148a38-9e7f-4954-b544-b3152c9554e6",
   "metadata": {},
   "outputs": [],
   "source": [
    "# temp = ups_df.copy(deep=True)\n",
    "# temp.drop([c for c in temp.columns if 'n_exp' in c], axis=1, inplace=True)\n",
    "# temp.drop([c for c in temp.columns if 'n_samples' in c], axis=1, inplace=True)\n",
    "# temp.drop([c for c in temp.columns if 'exp_in_all' in c], axis=1, inplace=True)\n",
    "# temp.drop('ultra_pop_spec', axis=1, inplace=True)\n",
    "# temp.head()"
   ]
  },
  {
   "cell_type": "code",
   "execution_count": 83,
   "id": "03d644f0-a1e8-401e-8dda-1384b88bf0e1",
   "metadata": {},
   "outputs": [],
   "source": [
    "# # add population info\n",
    "# df = df.transpose()\n",
    "# df = df.merge(meta[['sample', 'population']], \n",
    "#               how='left',\n",
    "#               left_index=True,\n",
    "#               right_on='sample')\n",
    "# df.drop('sample', axis=1, inplace=True)"
   ]
  },
  {
   "cell_type": "code",
   "execution_count": null,
   "id": "91e6a7b2-d944-4743-8287-47f562c51727",
   "metadata": {},
   "outputs": [],
   "source": []
  },
  {
   "cell_type": "code",
   "execution_count": null,
   "id": "4434ca03-8006-44c7-a7a7-5d3aa1c80f39",
   "metadata": {},
   "outputs": [],
   "source": []
  },
  {
   "cell_type": "markdown",
   "id": "3021abad-f686-4d4a-b0ff-a69a8e044323",
   "metadata": {},
   "source": [
    "## What biotypes are they?"
   ]
  },
  {
   "cell_type": "code",
   "execution_count": null,
   "id": "2c9f7659-93a4-465f-b14a-b31fc7512e30",
   "metadata": {},
   "outputs": [],
   "source": []
  },
  {
   "cell_type": "code",
   "execution_count": null,
   "id": "8b17f6d4-3b5b-4415-99ee-b744e7c79e61",
   "metadata": {},
   "outputs": [],
   "source": []
  },
  {
   "cell_type": "code",
   "execution_count": null,
   "id": "7758cbc5-2bbc-4a3b-934b-83e9ddc4863f",
   "metadata": {},
   "outputs": [],
   "source": []
  },
  {
   "cell_type": "code",
   "execution_count": null,
   "id": "fa7e3fde-2015-4147-b88a-0ba9b12fe9df",
   "metadata": {},
   "outputs": [],
   "source": []
  },
  {
   "cell_type": "code",
   "execution_count": null,
   "id": "2a53b140-1bb5-4d7a-9ac1-79dd5ac64a11",
   "metadata": {},
   "outputs": [],
   "source": []
  },
  {
   "cell_type": "code",
   "execution_count": null,
   "id": "3321464d-d436-4aaf-a083-d99b1d7e59ff",
   "metadata": {},
   "outputs": [],
   "source": []
  },
  {
   "cell_type": "code",
   "execution_count": null,
   "id": "16828a4e-09e8-4347-a9e9-31a2f3fe9f94",
   "metadata": {},
   "outputs": [],
   "source": []
  },
  {
   "cell_type": "code",
   "execution_count": null,
   "id": "126b6260-37e5-4ae7-b106-291f6a182a7a",
   "metadata": {},
   "outputs": [],
   "source": []
  },
  {
   "cell_type": "markdown",
   "id": "98ce31ff-1038-4153-bc3e-a300bdb8c8b6",
   "metadata": {},
   "source": [
    "## What strctural categories are they?"
   ]
  },
  {
   "cell_type": "code",
   "execution_count": null,
   "id": "a3f4380c-e713-488c-b485-5a22b4f8913f",
   "metadata": {},
   "outputs": [],
   "source": []
  },
  {
   "cell_type": "code",
   "execution_count": null,
   "id": "468c3eda-a434-4752-ae82-8c3ae0456d96",
   "metadata": {},
   "outputs": [],
   "source": []
  },
  {
   "cell_type": "code",
   "execution_count": null,
   "id": "3d7509f5-bdc4-4889-ac16-91e69a89223a",
   "metadata": {},
   "outputs": [],
   "source": []
  },
  {
   "cell_type": "code",
   "execution_count": null,
   "id": "47bdd6b9-ae28-4368-bbb9-b44ee53fda3d",
   "metadata": {},
   "outputs": [],
   "source": []
  },
  {
   "cell_type": "code",
   "execution_count": null,
   "id": "5d4e6b96-442c-4687-bcbe-f790c648094b",
   "metadata": {},
   "outputs": [],
   "source": []
  },
  {
   "cell_type": "code",
   "execution_count": null,
   "id": "0356c1ed-4693-4ab7-9bff-cd3353d76984",
   "metadata": {},
   "outputs": [],
   "source": []
  }
 ],
 "metadata": {
  "kernelspec": {
   "display_name": "Python 3",
   "language": "python",
   "name": "python3"
  },
  "language_info": {
   "codemirror_mode": {
    "name": "ipython",
    "version": 3
   },
   "file_extension": ".py",
   "mimetype": "text/x-python",
   "name": "python",
   "nbconvert_exporter": "python",
   "pygments_lexer": "ipython3",
   "version": "3.7.12"
  }
 },
 "nbformat": 4,
 "nbformat_minor": 5
}
