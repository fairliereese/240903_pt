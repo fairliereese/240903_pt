{
 "cells": [
  {
   "cell_type": "code",
   "execution_count": 1,
   "id": "2d14f771-0316-42c6-b275-b5338c4fc324",
   "metadata": {},
   "outputs": [],
   "source": [
    "import plotnine as p9\n",
    "import pandas as pd"
   ]
  },
  {
   "cell_type": "code",
   "execution_count": 4,
   "id": "6cd64122-1953-4327-83b0-a10601b5ed40",
   "metadata": {},
   "outputs": [],
   "source": [
    "f = '../data/map/mapq_0_bool_summary.tsv'"
   ]
  },
  {
   "cell_type": "code",
   "execution_count": 7,
   "id": "8557e06d-639a-4ac2-bb55-580762131831",
   "metadata": {},
   "outputs": [
    {
     "data": {
      "text/html": [
       "<div>\n",
       "<style scoped>\n",
       "    .dataframe tbody tr th:only-of-type {\n",
       "        vertical-align: middle;\n",
       "    }\n",
       "\n",
       "    .dataframe tbody tr th {\n",
       "        vertical-align: top;\n",
       "    }\n",
       "\n",
       "    .dataframe thead th {\n",
       "        text-align: right;\n",
       "    }\n",
       "</style>\n",
       "<table border=\"1\" class=\"dataframe\">\n",
       "  <thead>\n",
       "    <tr style=\"text-align: right;\">\n",
       "      <th></th>\n",
       "      <th>t2t</th>\n",
       "      <th>afr</th>\n",
       "      <th>hg38</th>\n",
       "      <th>n_reads</th>\n",
       "      <th>total_reads</th>\n",
       "      <th>perc</th>\n",
       "      <th>sample</th>\n",
       "      <th>dataset</th>\n",
       "      <th>cell_line_id</th>\n",
       "    </tr>\n",
       "  </thead>\n",
       "  <tbody>\n",
       "    <tr>\n",
       "      <th>0</th>\n",
       "      <td>False</td>\n",
       "      <td>False</td>\n",
       "      <td>False</td>\n",
       "      <td>72434</td>\n",
       "      <td>10570840</td>\n",
       "      <td>0.685225</td>\n",
       "      <td>GM19117_1</td>\n",
       "      <td>GM19117_1</td>\n",
       "      <td>GM19117</td>\n",
       "    </tr>\n",
       "    <tr>\n",
       "      <th>1</th>\n",
       "      <td>False</td>\n",
       "      <td>False</td>\n",
       "      <td>True</td>\n",
       "      <td>42620</td>\n",
       "      <td>10570840</td>\n",
       "      <td>0.403185</td>\n",
       "      <td>GM19117_1</td>\n",
       "      <td>GM19117_1</td>\n",
       "      <td>GM19117</td>\n",
       "    </tr>\n",
       "    <tr>\n",
       "      <th>2</th>\n",
       "      <td>False</td>\n",
       "      <td>True</td>\n",
       "      <td>False</td>\n",
       "      <td>3326</td>\n",
       "      <td>10570840</td>\n",
       "      <td>0.031464</td>\n",
       "      <td>GM19117_1</td>\n",
       "      <td>GM19117_1</td>\n",
       "      <td>GM19117</td>\n",
       "    </tr>\n",
       "    <tr>\n",
       "      <th>3</th>\n",
       "      <td>False</td>\n",
       "      <td>True</td>\n",
       "      <td>True</td>\n",
       "      <td>16124</td>\n",
       "      <td>10570840</td>\n",
       "      <td>0.152533</td>\n",
       "      <td>GM19117_1</td>\n",
       "      <td>GM19117_1</td>\n",
       "      <td>GM19117</td>\n",
       "    </tr>\n",
       "    <tr>\n",
       "      <th>4</th>\n",
       "      <td>True</td>\n",
       "      <td>False</td>\n",
       "      <td>False</td>\n",
       "      <td>37029</td>\n",
       "      <td>10570840</td>\n",
       "      <td>0.350294</td>\n",
       "      <td>GM19117_1</td>\n",
       "      <td>GM19117_1</td>\n",
       "      <td>GM19117</td>\n",
       "    </tr>\n",
       "  </tbody>\n",
       "</table>\n",
       "</div>"
      ],
      "text/plain": [
       "     t2t    afr   hg38  n_reads  total_reads      perc     sample    dataset  \\\n",
       "0  False  False  False    72434     10570840  0.685225  GM19117_1  GM19117_1   \n",
       "1  False  False   True    42620     10570840  0.403185  GM19117_1  GM19117_1   \n",
       "2  False   True  False     3326     10570840  0.031464  GM19117_1  GM19117_1   \n",
       "3  False   True   True    16124     10570840  0.152533  GM19117_1  GM19117_1   \n",
       "4   True  False  False    37029     10570840  0.350294  GM19117_1  GM19117_1   \n",
       "\n",
       "  cell_line_id  \n",
       "0      GM19117  \n",
       "1      GM19117  \n",
       "2      GM19117  \n",
       "3      GM19117  \n",
       "4      GM19117  "
      ]
     },
     "execution_count": 7,
     "metadata": {},
     "output_type": "execute_result"
    }
   ],
   "source": [
    "df = pd.read_csv(f, sep='\\t')\n",
    "df['cell_line_id'] = df.dataset.str.split('_', expand=True)[0]\n",
    "df.head()"
   ]
  },
  {
   "cell_type": "code",
   "execution_count": null,
   "id": "217286e9-e89a-435e-919b-4b09fa0a9909",
   "metadata": {},
   "outputs": [],
   "source": []
  }
 ],
 "metadata": {
  "kernelspec": {
   "display_name": "Python 3 (ipykernel)",
   "language": "python",
   "name": "python3"
  },
  "language_info": {
   "codemirror_mode": {
    "name": "ipython",
    "version": 3
   },
   "file_extension": ".py",
   "mimetype": "text/x-python",
   "name": "python",
   "nbconvert_exporter": "python",
   "pygments_lexer": "ipython3",
   "version": "3.12.5"
  }
 },
 "nbformat": 4,
 "nbformat_minor": 5
}
