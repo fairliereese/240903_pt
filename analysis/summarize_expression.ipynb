{
 "cells": [
  {
   "cell_type": "code",
   "execution_count": 1,
   "id": "d10628f5-a77b-4247-aa0e-2892d0a1b2bc",
   "metadata": {},
   "outputs": [],
   "source": [
    "import pandas as pd\n",
    "import numpy as np\n",
    "import scipy.stats as st\n",
    "import seaborn as sns\n",
    "import sys\n",
    "import os\n",
    "import matplotlib.pyplot as plt\n",
    "import swan_vis as swan\n",
    "import yaml\n",
    "from snakemake.io import expand\n",
    "import cerberus\n",
    "import pyranges as pr\n",
    "import upsetplot\n",
    "\n",
    "p = os.path.dirname(os.getcwd())\n",
    "sys.path.append(p)\n",
    "\n",
    "from scripts.utils import *\n",
    "from scripts.vcf_utils import *\n",
    "from scripts.plotting import *"
   ]
  },
  {
   "cell_type": "code",
   "execution_count": 2,
   "id": "3e724490-de94-46c4-83f2-8de04cf97c64",
   "metadata": {},
   "outputs": [],
   "source": [
    "config = load_config()\n",
    "od = '../'\n",
    "\n",
    "def proc_cfg(entry, od):\n",
    "    entry = entry.replace('../../', '')\n",
    "    entry = od+entry\n",
    "    return entry"
   ]
  },
  {
   "cell_type": "code",
   "execution_count": 3,
   "id": "8629ca8e-4e90-4485-9986-027756b0f556",
   "metadata": {},
   "outputs": [],
   "source": [
    "def clean_figure(ax):\n",
    "    ax.spines['right'].set_visible(False)\n",
    "    ax.spines['top'].set_visible(False)\n",
    "    ax.tick_params(axis=\"x\", rotation=45)"
   ]
  },
  {
   "cell_type": "markdown",
   "id": "00971aee-843e-42b0-a8ee-859f713448ad",
   "metadata": {},
   "source": [
    "## Median # expressed transcripts / sample"
   ]
  },
  {
   "cell_type": "code",
   "execution_count": 34,
   "id": "7ba6945c-b408-4ab1-bb89-9594680b68dd",
   "metadata": {},
   "outputs": [],
   "source": [
    "meta = load_meta()\n",
    "meta = meta.loc[meta.merged_run_mode==True]\n",
    "sample_d = dict([(entry.cell_line_id, entry['sample']) \\\n",
    "                 for ind, entry in meta.iterrows()])\n",
    "    \n",
    "    \n",
    "\n",
    "# using counts\n",
    "f = expand(proc_cfg(config['lr']['kallisto']['quant']['merge_matrix_tsv'],od))[0]\n",
    "df = pd.read_csv(f, sep='\\t')\n",
    "df.head()\n",
    "df.columns = [d if d == 'transcript_id' else d.split('_')[0] for d in df.columns]\n",
    "df.rename({'transcript_id':'tid'}, axis=1, inplace=True)\n",
    "df.rename(sample_d, axis=1, inplace=True)\n",
    "\n",
    "# melt \n",
    "df = df.melt(id_vars=['tid'], var_name='sample', value_name='counts')\n",
    "df.head()\n",
    "\n",
    "# add gene info\n",
    "mt_df = pd.read_csv('../data/05_mastertable/poder_master_table_fixed_genics.tsv', sep='\\t')\n",
    "mt_df['pop_spec_t'] = (mt_df.population_sharing==1)&\\\n",
    "                      (mt_df.sample_sharing>1)\n",
    "df = df.merge(mt_df[['isoform', 'geneid.v']],\n",
    "              how='left',\n",
    "             left_on='tid', \n",
    "             right_on='isoform')"
   ]
  },
  {
   "cell_type": "code",
   "execution_count": 35,
   "id": "b62b4917-5ab6-44c3-9f41-6f366020d6d5",
   "metadata": {},
   "outputs": [],
   "source": [
    "# impose min. count of 1\n",
    "df = df.loc[df.counts>=1]"
   ]
  },
  {
   "cell_type": "code",
   "execution_count": 36,
   "id": "766b9bfd-e040-4bec-91ff-e7b3d5c6eeec",
   "metadata": {},
   "outputs": [],
   "source": [
    "temp = df[['tid', 'sample']].groupby('sample').nunique().reset_index().rename({'tid':'n_exp_t'}, axis=1)"
   ]
  },
  {
   "cell_type": "code",
   "execution_count": 37,
   "id": "ab2de410-d92d-4a03-be8f-102da0af816c",
   "metadata": {},
   "outputs": [
    {
     "data": {
      "text/plain": [
       "63011.0"
      ]
     },
     "execution_count": 37,
     "metadata": {},
     "output_type": "execute_result"
    }
   ],
   "source": [
    "temp.n_exp_t.median()"
   ]
  },
  {
   "cell_type": "markdown",
   "id": "6103856b-ea26-4cfc-aa6f-8ecb4dc1267c",
   "metadata": {},
   "source": [
    "## Median # expressed genes / sample"
   ]
  },
  {
   "cell_type": "code",
   "execution_count": null,
   "id": "76b905c5-d061-4e9b-9f42-e41381b23922",
   "metadata": {},
   "outputs": [],
   "source": [
    "meta = load_meta()\n",
    "meta = meta.loc[meta.merged_run_mode==True]\n",
    "sample_d = dict([(entry.cell_line_id, entry['sample']) \\\n",
    "                 for ind, entry in meta.iterrows()])\n",
    "    \n",
    "    \n",
    "\n",
    "# using counts\n",
    "f = expand(proc_cfg(config['lr']['kallisto']['quant']['merge_matrix_tsv'],od))[0]\n",
    "df = pd.read_csv(f, sep='\\t')\n",
    "df.head()\n",
    "df.columns = [d if d == 'transcript_id' else d.split('_')[0] for d in df.columns]\n",
    "df.rename({'transcript_id':'tid'}, axis=1, inplace=True)\n",
    "df.rename(sample_d, axis=1, inplace=True)\n",
    "\n",
    "# melt \n",
    "df = df.melt(id_vars=['tid'], var_name='sample', value_name='counts')\n",
    "df.head()\n",
    "\n",
    "# add gene info\n",
    "mt_df = pd.read_csv('../data/05_mastertable/poder_master_table_fixed_genics.tsv', sep='\\t')\n",
    "mt_df['pop_spec_t'] = (mt_df.population_sharing==1)&\\\n",
    "                      (mt_df.sample_sharing>1)\n",
    "df = df.merge(mt_df[['isoform', 'geneid.v']],\n",
    "              how='left',\n",
    "             left_on='tid', \n",
    "             right_on='isoform')"
   ]
  },
  {
   "cell_type": "code",
   "execution_count": 38,
   "id": "c76c07fe-9078-4c0c-948d-fb81c2e04f65",
   "metadata": {},
   "outputs": [],
   "source": [
    "# sum up over genes\n",
    "df = df[['sample','geneid.v', 'counts']].groupby(['geneid.v', 'sample']).sum().reset_index()"
   ]
  },
  {
   "cell_type": "code",
   "execution_count": 39,
   "id": "2fd228e2-3abb-491b-b14d-b32375a0ec05",
   "metadata": {},
   "outputs": [],
   "source": [
    "# impose min. count of 1\n",
    "df = df.loc[df.counts>=1]"
   ]
  },
  {
   "cell_type": "code",
   "execution_count": 41,
   "id": "164180cd-de3e-4082-97ee-ec8443999c2b",
   "metadata": {},
   "outputs": [],
   "source": [
    "temp = df[['geneid.v', 'sample']].groupby('sample').nunique().reset_index().rename({'geneid.v':'n_exp_g'}, axis=1)"
   ]
  },
  {
   "cell_type": "code",
   "execution_count": 44,
   "id": "6a926658-fd1f-44e2-9be4-5ec4a5622326",
   "metadata": {},
   "outputs": [
    {
     "data": {
      "text/plain": [
       "16247.0"
      ]
     },
     "execution_count": 44,
     "metadata": {},
     "output_type": "execute_result"
    }
   ],
   "source": [
    "temp.n_exp_g.median()"
   ]
  },
  {
   "cell_type": "markdown",
   "id": "1f99451c-c029-4ab7-9155-9907648ae77d",
   "metadata": {},
   "source": [
    "## % of expressed transcripts that are PC"
   ]
  },
  {
   "cell_type": "code",
   "execution_count": 46,
   "id": "a8dd3937-aed1-4e83-a91a-aa2c79805393",
   "metadata": {},
   "outputs": [],
   "source": [
    "meta = load_meta()\n",
    "meta = meta.loc[meta.merged_run_mode==True]\n",
    "sample_d = dict([(entry.cell_line_id, entry['sample']) \\\n",
    "                 for ind, entry in meta.iterrows()])\n",
    "    \n",
    "    \n",
    "\n",
    "# using counts\n",
    "f = expand(proc_cfg(config['lr']['kallisto']['quant']['merge_matrix_tsv'],od))[0]\n",
    "df = pd.read_csv(f, sep='\\t')\n",
    "df.head()\n",
    "df.columns = [d if d == 'transcript_id' else d.split('_')[0] for d in df.columns]\n",
    "df.rename({'transcript_id':'tid'}, axis=1, inplace=True)\n",
    "df.rename(sample_d, axis=1, inplace=True)\n",
    "\n",
    "# melt \n",
    "df = df.melt(id_vars=['tid'], var_name='sample', value_name='counts')\n",
    "df.head()\n",
    "\n",
    "# add gene info\n",
    "mt_df = pd.read_csv('../data/05_mastertable/poder_master_table_fixed_genics.tsv', sep='\\t')\n",
    "mt_df['pop_spec_t'] = (mt_df.population_sharing==1)&\\\n",
    "                      (mt_df.sample_sharing>1)\n",
    "df = df.merge(mt_df[['isoform', 'geneid.v', 'associated_gene_biotype']],\n",
    "              how='left',\n",
    "             left_on='tid', \n",
    "             right_on='isoform')"
   ]
  },
  {
   "cell_type": "code",
   "execution_count": 47,
   "id": "051ee88c-f383-4777-9bdc-ee2eae583e70",
   "metadata": {},
   "outputs": [],
   "source": [
    "# impose min. count of 1\n",
    "df = df.loc[df.counts>=1]"
   ]
  },
  {
   "cell_type": "code",
   "execution_count": 49,
   "id": "756883f7-f9fb-41e9-b66f-2a023cc2fca0",
   "metadata": {},
   "outputs": [
    {
     "data": {
      "text/html": [
       "<div>\n",
       "<style scoped>\n",
       "    .dataframe tbody tr th:only-of-type {\n",
       "        vertical-align: middle;\n",
       "    }\n",
       "\n",
       "    .dataframe tbody tr th {\n",
       "        vertical-align: top;\n",
       "    }\n",
       "\n",
       "    .dataframe thead th {\n",
       "        text-align: right;\n",
       "    }\n",
       "</style>\n",
       "<table border=\"1\" class=\"dataframe\">\n",
       "  <thead>\n",
       "    <tr style=\"text-align: right;\">\n",
       "      <th></th>\n",
       "      <th>sample</th>\n",
       "      <th>n_exp_t</th>\n",
       "    </tr>\n",
       "  </thead>\n",
       "  <tbody>\n",
       "    <tr>\n",
       "      <th>0</th>\n",
       "      <td>AJI1</td>\n",
       "      <td>56339</td>\n",
       "    </tr>\n",
       "    <tr>\n",
       "      <th>1</th>\n",
       "      <td>AJI2</td>\n",
       "      <td>60238</td>\n",
       "    </tr>\n",
       "    <tr>\n",
       "      <th>2</th>\n",
       "      <td>AJI3</td>\n",
       "      <td>67098</td>\n",
       "    </tr>\n",
       "    <tr>\n",
       "      <th>3</th>\n",
       "      <td>AJI4</td>\n",
       "      <td>54866</td>\n",
       "    </tr>\n",
       "    <tr>\n",
       "      <th>4</th>\n",
       "      <td>AJI5</td>\n",
       "      <td>71210</td>\n",
       "    </tr>\n",
       "  </tbody>\n",
       "</table>\n",
       "</div>"
      ],
      "text/plain": [
       "  sample  n_exp_t\n",
       "0   AJI1    56339\n",
       "1   AJI2    60238\n",
       "2   AJI3    67098\n",
       "3   AJI4    54866\n",
       "4   AJI5    71210"
      ]
     },
     "execution_count": 49,
     "metadata": {},
     "output_type": "execute_result"
    }
   ],
   "source": [
    "temp = df[['tid', 'sample']].groupby('sample').nunique().reset_index().rename({'tid':'n_exp_t'}, axis=1)\n",
    "temp.head()"
   ]
  },
  {
   "cell_type": "code",
   "execution_count": 50,
   "id": "2fc3ceb1-e03e-414f-bcf4-5a6a5d5e5409",
   "metadata": {},
   "outputs": [
    {
     "data": {
      "text/html": [
       "<div>\n",
       "<style scoped>\n",
       "    .dataframe tbody tr th:only-of-type {\n",
       "        vertical-align: middle;\n",
       "    }\n",
       "\n",
       "    .dataframe tbody tr th {\n",
       "        vertical-align: top;\n",
       "    }\n",
       "\n",
       "    .dataframe thead th {\n",
       "        text-align: right;\n",
       "    }\n",
       "</style>\n",
       "<table border=\"1\" class=\"dataframe\">\n",
       "  <thead>\n",
       "    <tr style=\"text-align: right;\">\n",
       "      <th></th>\n",
       "      <th>sample</th>\n",
       "      <th>associated_gene_biotype</th>\n",
       "      <th>n_exp_biotype_t</th>\n",
       "    </tr>\n",
       "  </thead>\n",
       "  <tbody>\n",
       "    <tr>\n",
       "      <th>0</th>\n",
       "      <td>AJI1</td>\n",
       "      <td>Novel/Ambiguous Gene</td>\n",
       "      <td>1310</td>\n",
       "    </tr>\n",
       "    <tr>\n",
       "      <th>1</th>\n",
       "      <td>AJI1</td>\n",
       "      <td>Protein Coding</td>\n",
       "      <td>45118</td>\n",
       "    </tr>\n",
       "    <tr>\n",
       "      <th>2</th>\n",
       "      <td>AJI1</td>\n",
       "      <td>lncRNA</td>\n",
       "      <td>9911</td>\n",
       "    </tr>\n",
       "    <tr>\n",
       "      <th>3</th>\n",
       "      <td>AJI2</td>\n",
       "      <td>Novel/Ambiguous Gene</td>\n",
       "      <td>1581</td>\n",
       "    </tr>\n",
       "    <tr>\n",
       "      <th>4</th>\n",
       "      <td>AJI2</td>\n",
       "      <td>Protein Coding</td>\n",
       "      <td>46931</td>\n",
       "    </tr>\n",
       "  </tbody>\n",
       "</table>\n",
       "</div>"
      ],
      "text/plain": [
       "  sample associated_gene_biotype  n_exp_biotype_t\n",
       "0   AJI1    Novel/Ambiguous Gene             1310\n",
       "1   AJI1          Protein Coding            45118\n",
       "2   AJI1                  lncRNA             9911\n",
       "3   AJI2    Novel/Ambiguous Gene             1581\n",
       "4   AJI2          Protein Coding            46931"
      ]
     },
     "execution_count": 50,
     "metadata": {},
     "output_type": "execute_result"
    }
   ],
   "source": [
    "temp2 = df[['tid', 'associated_gene_biotype', 'sample']].groupby(['sample', 'associated_gene_biotype']).nunique().reset_index().rename({'tid':'n_exp_biotype_t'}, axis=1)"
   ]
  },
  {
   "cell_type": "code",
   "execution_count": 51,
   "id": "f59044c4-da06-4034-96d3-536ac19d5b54",
   "metadata": {},
   "outputs": [],
   "source": [
    "temp = temp.merge(temp2, \n",
    "                  how='outer',\n",
    "                  on='sample')"
   ]
  },
  {
   "cell_type": "code",
   "execution_count": 53,
   "id": "a14469b9-e958-4fad-b6c5-d804dffa88d1",
   "metadata": {},
   "outputs": [
    {
     "data": {
      "text/html": [
       "<div>\n",
       "<style scoped>\n",
       "    .dataframe tbody tr th:only-of-type {\n",
       "        vertical-align: middle;\n",
       "    }\n",
       "\n",
       "    .dataframe tbody tr th {\n",
       "        vertical-align: top;\n",
       "    }\n",
       "\n",
       "    .dataframe thead th {\n",
       "        text-align: right;\n",
       "    }\n",
       "</style>\n",
       "<table border=\"1\" class=\"dataframe\">\n",
       "  <thead>\n",
       "    <tr style=\"text-align: right;\">\n",
       "      <th></th>\n",
       "      <th>sample</th>\n",
       "      <th>n_exp_t</th>\n",
       "      <th>associated_gene_biotype</th>\n",
       "      <th>n_exp_biotype_t</th>\n",
       "      <th>perc</th>\n",
       "    </tr>\n",
       "  </thead>\n",
       "  <tbody>\n",
       "    <tr>\n",
       "      <th>0</th>\n",
       "      <td>AJI1</td>\n",
       "      <td>56339</td>\n",
       "      <td>Novel/Ambiguous Gene</td>\n",
       "      <td>1310</td>\n",
       "      <td>2.325210</td>\n",
       "    </tr>\n",
       "    <tr>\n",
       "      <th>1</th>\n",
       "      <td>AJI1</td>\n",
       "      <td>56339</td>\n",
       "      <td>Protein Coding</td>\n",
       "      <td>45118</td>\n",
       "      <td>80.083069</td>\n",
       "    </tr>\n",
       "    <tr>\n",
       "      <th>2</th>\n",
       "      <td>AJI1</td>\n",
       "      <td>56339</td>\n",
       "      <td>lncRNA</td>\n",
       "      <td>9911</td>\n",
       "      <td>17.591722</td>\n",
       "    </tr>\n",
       "    <tr>\n",
       "      <th>3</th>\n",
       "      <td>AJI2</td>\n",
       "      <td>60238</td>\n",
       "      <td>Novel/Ambiguous Gene</td>\n",
       "      <td>1581</td>\n",
       "      <td>2.624589</td>\n",
       "    </tr>\n",
       "    <tr>\n",
       "      <th>4</th>\n",
       "      <td>AJI2</td>\n",
       "      <td>60238</td>\n",
       "      <td>Protein Coding</td>\n",
       "      <td>46931</td>\n",
       "      <td>77.909293</td>\n",
       "    </tr>\n",
       "  </tbody>\n",
       "</table>\n",
       "</div>"
      ],
      "text/plain": [
       "  sample  n_exp_t associated_gene_biotype  n_exp_biotype_t       perc\n",
       "0   AJI1    56339    Novel/Ambiguous Gene             1310   2.325210\n",
       "1   AJI1    56339          Protein Coding            45118  80.083069\n",
       "2   AJI1    56339                  lncRNA             9911  17.591722\n",
       "3   AJI2    60238    Novel/Ambiguous Gene             1581   2.624589\n",
       "4   AJI2    60238          Protein Coding            46931  77.909293"
      ]
     },
     "execution_count": 53,
     "metadata": {},
     "output_type": "execute_result"
    }
   ],
   "source": [
    "temp['perc'] = (temp['n_exp_biotype_t']/temp['n_exp_t'])*100\n",
    "temp.head()"
   ]
  },
  {
   "cell_type": "code",
   "execution_count": 54,
   "id": "c2e2b2ca-b6f5-4cd3-a16d-2083481241ac",
   "metadata": {},
   "outputs": [
    {
     "data": {
      "text/html": [
       "<div>\n",
       "<style scoped>\n",
       "    .dataframe tbody tr th:only-of-type {\n",
       "        vertical-align: middle;\n",
       "    }\n",
       "\n",
       "    .dataframe tbody tr th {\n",
       "        vertical-align: top;\n",
       "    }\n",
       "\n",
       "    .dataframe thead th {\n",
       "        text-align: right;\n",
       "    }\n",
       "</style>\n",
       "<table border=\"1\" class=\"dataframe\">\n",
       "  <thead>\n",
       "    <tr style=\"text-align: right;\">\n",
       "      <th></th>\n",
       "      <th>sample</th>\n",
       "      <th>n_exp_t</th>\n",
       "      <th>associated_gene_biotype</th>\n",
       "      <th>n_exp_biotype_t</th>\n",
       "      <th>perc</th>\n",
       "    </tr>\n",
       "  </thead>\n",
       "  <tbody>\n",
       "    <tr>\n",
       "      <th>1</th>\n",
       "      <td>AJI1</td>\n",
       "      <td>56339</td>\n",
       "      <td>Protein Coding</td>\n",
       "      <td>45118</td>\n",
       "      <td>80.083069</td>\n",
       "    </tr>\n",
       "    <tr>\n",
       "      <th>4</th>\n",
       "      <td>AJI2</td>\n",
       "      <td>60238</td>\n",
       "      <td>Protein Coding</td>\n",
       "      <td>46931</td>\n",
       "      <td>77.909293</td>\n",
       "    </tr>\n",
       "    <tr>\n",
       "      <th>7</th>\n",
       "      <td>AJI3</td>\n",
       "      <td>67098</td>\n",
       "      <td>Protein Coding</td>\n",
       "      <td>53873</td>\n",
       "      <td>80.290024</td>\n",
       "    </tr>\n",
       "    <tr>\n",
       "      <th>10</th>\n",
       "      <td>AJI4</td>\n",
       "      <td>54866</td>\n",
       "      <td>Protein Coding</td>\n",
       "      <td>43822</td>\n",
       "      <td>79.870958</td>\n",
       "    </tr>\n",
       "    <tr>\n",
       "      <th>13</th>\n",
       "      <td>AJI5</td>\n",
       "      <td>71210</td>\n",
       "      <td>Protein Coding</td>\n",
       "      <td>55948</td>\n",
       "      <td>78.567617</td>\n",
       "    </tr>\n",
       "  </tbody>\n",
       "</table>\n",
       "</div>"
      ],
      "text/plain": [
       "   sample  n_exp_t associated_gene_biotype  n_exp_biotype_t       perc\n",
       "1    AJI1    56339          Protein Coding            45118  80.083069\n",
       "4    AJI2    60238          Protein Coding            46931  77.909293\n",
       "7    AJI3    67098          Protein Coding            53873  80.290024\n",
       "10   AJI4    54866          Protein Coding            43822  79.870958\n",
       "13   AJI5    71210          Protein Coding            55948  78.567617"
      ]
     },
     "execution_count": 54,
     "metadata": {},
     "output_type": "execute_result"
    }
   ],
   "source": [
    "temp = temp.loc[temp.associated_gene_biotype=='Protein Coding']\n",
    "temp.head()"
   ]
  },
  {
   "cell_type": "code",
   "execution_count": 55,
   "id": "62e4f36a-cbae-4431-b775-674bf6925bb2",
   "metadata": {},
   "outputs": [
    {
     "data": {
      "text/plain": [
       "79.19000069827527"
      ]
     },
     "execution_count": 55,
     "metadata": {},
     "output_type": "execute_result"
    }
   ],
   "source": [
    "temp.perc.median()"
   ]
  },
  {
   "cell_type": "code",
   "execution_count": null,
   "id": "b839a668-c913-4995-963e-c744f5592045",
   "metadata": {},
   "outputs": [],
   "source": []
  }
 ],
 "metadata": {
  "kernelspec": {
   "display_name": "Python 3",
   "language": "python",
   "name": "python3"
  },
  "language_info": {
   "codemirror_mode": {
    "name": "ipython",
    "version": 3
   },
   "file_extension": ".py",
   "mimetype": "text/x-python",
   "name": "python",
   "nbconvert_exporter": "python",
   "pygments_lexer": "ipython3",
   "version": "3.7.12"
  }
 },
 "nbformat": 4,
 "nbformat_minor": 5
}
