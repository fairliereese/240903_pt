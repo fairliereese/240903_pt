{
 "cells": [
  {
   "cell_type": "code",
   "execution_count": 73,
   "id": "c0e3a40b-0d94-44d5-9f5b-0960e027a4c2",
   "metadata": {},
   "outputs": [],
   "source": [
    "library(ggtranscript)\n",
    "library(dplyr)\n",
    "library(readr)\n",
    "library(ggplot2)\n",
    "library(grid)"
   ]
  },
  {
   "cell_type": "code",
   "execution_count": 44,
   "id": "5c4e7d4a-36e0-4b3e-8931-e6431da93aba",
   "metadata": {},
   "outputs": [],
   "source": [
    "mytheme <- theme_minimal() + theme(axis.text = element_text(color = \"black\"),\n",
    "                                 axis.ticks = element_line(linewidth = 0.2), \n",
    "                                 axis.title = element_text(size=7, vjust = -0.5),\n",
    "                                 legend.title = element_text(size = 7, face = \"bold\"),\n",
    "                                 legend.margin = margin(r = 0, l = 0, t = 0, b = 0),\n",
    "                                 legend.box.margin = margin(-10, 3, -10, -7),\n",
    "                                 legend.key.size = unit(0.2, \"cm\"),\n",
    "                                 panel.border = element_rect(linewidth = 0.4, fill = FALSE), \n",
    "                                 panel.background = element_blank(),   \n",
    "                                 panel.grid = element_line(linewidth =0.2),\n",
    "                                 plot.margin = margin(t = 10, r = 10, b = 10, l = 10),\n",
    "                                 plot.title = element_text(face=\"bold\", hjust=0.5),\n",
    "                                 strip.text = element_text(size=7, face=\"bold\"),   \n",
    "                                 strip.background = element_blank(),\n",
    "                                 text = element_text(family = \"Helvetica\",color=\"black\", size=7))  "
   ]
  },
  {
   "cell_type": "code",
   "execution_count": 3,
   "id": "20ea058c-84b1-41a4-a7ac-0547836e7496",
   "metadata": {},
   "outputs": [],
   "source": [
    "gtf_path = '/Users/fairliereese/Documents/programming/mele_lab/projects/240903_pt/data/poder_v1_cds.gtf'\n",
    "gtf = rtracklayer::import(gtf_path)\n",
    "gtf = gtf %>% dplyr::as_tibble()"
   ]
  },
  {
   "cell_type": "code",
   "execution_count": 16,
   "id": "5bf4701d-80bd-4b0a-b13b-d3541fbb63bf",
   "metadata": {},
   "outputs": [],
   "source": [
    "ref_gtf_path = '/Users/fairliereese/Documents/programming/mele_lab/projects/240903_pt/ref/annot.gtf'\n",
    "ref_gtf = rtracklayer::import(ref_gtf_path)\n",
    "ref_gtf = ref_gtf %>% dplyr::as_tibble()"
   ]
  },
  {
   "cell_type": "code",
   "execution_count": 55,
   "id": "34e5b0b4-d0fd-4b6a-a35f-b15094b25c85",
   "metadata": {},
   "outputs": [
    {
     "data": {
      "text/html": [
       "<style>\n",
       ".list-inline {list-style: none; margin:0; padding: 0}\n",
       ".list-inline>li {display: inline-block}\n",
       ".list-inline>li:not(:last-child)::after {content: \"\\00b7\"; padding: 0 .5ex}\n",
       "</style>\n",
       "<ol class=list-inline><li>'seqnames'</li><li>'start'</li><li>'end'</li><li>'width'</li><li>'strand'</li><li>'source'</li><li>'type'</li><li>'score'</li><li>'phase'</li><li>'gene_id'</li><li>'gene_type'</li><li>'gene_name'</li><li>'level'</li><li>'tag'</li><li>'transcript_id'</li><li>'transcript_type'</li><li>'transcript_name'</li><li>'exon_number'</li><li>'exon_id'</li><li>'transcript_support_level'</li><li>'havana_transcript'</li><li>'hgnc_id'</li><li>'havana_gene'</li><li>'ont'</li><li>'protein_id'</li><li>'ccdsid'</li><li>'artif_dupl'</li></ol>\n"
      ],
      "text/latex": [
       "\\begin{enumerate*}\n",
       "\\item 'seqnames'\n",
       "\\item 'start'\n",
       "\\item 'end'\n",
       "\\item 'width'\n",
       "\\item 'strand'\n",
       "\\item 'source'\n",
       "\\item 'type'\n",
       "\\item 'score'\n",
       "\\item 'phase'\n",
       "\\item 'gene\\_id'\n",
       "\\item 'gene\\_type'\n",
       "\\item 'gene\\_name'\n",
       "\\item 'level'\n",
       "\\item 'tag'\n",
       "\\item 'transcript\\_id'\n",
       "\\item 'transcript\\_type'\n",
       "\\item 'transcript\\_name'\n",
       "\\item 'exon\\_number'\n",
       "\\item 'exon\\_id'\n",
       "\\item 'transcript\\_support\\_level'\n",
       "\\item 'havana\\_transcript'\n",
       "\\item 'hgnc\\_id'\n",
       "\\item 'havana\\_gene'\n",
       "\\item 'ont'\n",
       "\\item 'protein\\_id'\n",
       "\\item 'ccdsid'\n",
       "\\item 'artif\\_dupl'\n",
       "\\end{enumerate*}\n"
      ],
      "text/markdown": [
       "1. 'seqnames'\n",
       "2. 'start'\n",
       "3. 'end'\n",
       "4. 'width'\n",
       "5. 'strand'\n",
       "6. 'source'\n",
       "7. 'type'\n",
       "8. 'score'\n",
       "9. 'phase'\n",
       "10. 'gene_id'\n",
       "11. 'gene_type'\n",
       "12. 'gene_name'\n",
       "13. 'level'\n",
       "14. 'tag'\n",
       "15. 'transcript_id'\n",
       "16. 'transcript_type'\n",
       "17. 'transcript_name'\n",
       "18. 'exon_number'\n",
       "19. 'exon_id'\n",
       "20. 'transcript_support_level'\n",
       "21. 'havana_transcript'\n",
       "22. 'hgnc_id'\n",
       "23. 'havana_gene'\n",
       "24. 'ont'\n",
       "25. 'protein_id'\n",
       "26. 'ccdsid'\n",
       "27. 'artif_dupl'\n",
       "\n",
       "\n"
      ],
      "text/plain": [
       " [1] \"seqnames\"                 \"start\"                   \n",
       " [3] \"end\"                      \"width\"                   \n",
       " [5] \"strand\"                   \"source\"                  \n",
       " [7] \"type\"                     \"score\"                   \n",
       " [9] \"phase\"                    \"gene_id\"                 \n",
       "[11] \"gene_type\"                \"gene_name\"               \n",
       "[13] \"level\"                    \"tag\"                     \n",
       "[15] \"transcript_id\"            \"transcript_type\"         \n",
       "[17] \"transcript_name\"          \"exon_number\"             \n",
       "[19] \"exon_id\"                  \"transcript_support_level\"\n",
       "[21] \"havana_transcript\"        \"hgnc_id\"                 \n",
       "[23] \"havana_gene\"              \"ont\"                     \n",
       "[25] \"protein_id\"               \"ccdsid\"                  \n",
       "[27] \"artif_dupl\"              "
      ]
     },
     "metadata": {},
     "output_type": "display_data"
    }
   ],
   "source": [
    "colnames(ref_gtf)"
   ]
  },
  {
   "cell_type": "code",
   "execution_count": 11,
   "id": "15f0862f-60da-4581-89d9-dc047ba56e04",
   "metadata": {},
   "outputs": [],
   "source": [
    "curr_gid = 'ENSG00000234745.14'\n",
    "nov_tids = c('transcript_345653')"
   ]
  },
  {
   "cell_type": "code",
   "execution_count": 89,
   "id": "e98426f7-fabb-4039-b632-33470be07556",
   "metadata": {},
   "outputs": [
    {
     "data": {
      "text/html": [
       "<strong>pdf:</strong> 2"
      ],
      "text/latex": [
       "\\textbf{pdf:} 2"
      ],
      "text/markdown": [
       "**pdf:** 2"
      ],
      "text/plain": [
       "pdf \n",
       "  2 "
      ]
     },
     "metadata": {},
     "output_type": "display_data"
    }
   ],
   "source": [
    "known_tids <- ref_gtf %>%\n",
    "        subset(gene_id == curr_gid) %>%\n",
    "        pull(transcript_id)\n",
    "gname <- ref_gtf %>%\n",
    "        subset(gene_id == curr_gid) %>%\n",
    "        pull(gene_name)\n",
    "\n",
    "# plot novel transcript exons and cdss\n",
    "temp_gtf <- gtf %>%\n",
    "  subset(transcript_id %in% nov_tids & type == 'exon')\n",
    "temp_gtf = temp_gtf %>% mutate(annot_source = 'PODER')\n",
    "\n",
    "temp_cds_gtf <- gtf %>%\n",
    "  subset(transcript_id %in% nov_tids & type == 'CDS')\n",
    "temp_cds_gtf = temp_cds_gtf %>% mutate(annot_source = 'PODER')\n",
    "\n",
    "# plot known transcript exons and cdss\n",
    "temp_ref_gtf <- ref_gtf %>%\n",
    "  subset(transcript_id %in% known_tids & type == 'exon')\n",
    "temp_ref_gtf = temp_ref_gtf %>% mutate(annot_source = 'GENCODE')\n",
    "\n",
    "temp_ref_cds_gtf <- ref_gtf %>%\n",
    "  subset(transcript_id %in% known_tids & type == 'CDS')\n",
    "temp_ref_cds_gtf = temp_ref_cds_gtf %>% mutate(annot_source = 'GENCODE')\n",
    "\n",
    "\n",
    "temp = bind_rows(temp_gtf, temp_ref_gtf)\n",
    "temp_cds = bind_rows(temp_cds_gtf, temp_ref_cds_gtf)\n",
    "\n",
    "c_dict = c('PODER'='#a2ae59', 'GENCODE'='#816755')\n",
    "\n",
    "p = temp %>%\n",
    "    ggplot(aes(\n",
    "        xstart = start,\n",
    "        xend = end,\n",
    "        y = transcript_id\n",
    "    )) +\n",
    "    geom_range(\n",
    "        aes(fill=annot_source),\n",
    "        height = 0.25,\n",
    "        linewidth=0\n",
    "    )+\n",
    "    geom_range(\n",
    "        data = temp_cds,\n",
    "        aes(fill=annot_source),\n",
    "        linewidth=0\n",
    "    ) +\n",
    "    geom_intron(\n",
    "        data = to_intron(temp, \"transcript_id\"),\n",
    "        aes(strand = strand),\n",
    "        arrow.min.intron.length = 500,\n",
    "        linewidth =0.25,\n",
    "        arrow=arrow(length=unit(0.025, \"inches\"))\n",
    "    )+\n",
    "        scale_fill_manual(values = c_dict)+\n",
    "    labs(fill=\"\", y=\"\")+#, title=gname)+\n",
    "    mytheme+\n",
    "    theme(legend.position = \"none\")\n",
    "\n",
    "h = 1.8658\n",
    "w = 3.6389\n",
    "\n",
    "file_name = 'hlab_example.pdf'\n",
    "pdf(file_name, width=w, height=h)\n",
    "print(p)\n",
    "dev.off()"
   ]
  },
  {
   "cell_type": "code",
   "execution_count": null,
   "id": "5cbbe90f-18c7-4df5-becb-d09e7d5315ae",
   "metadata": {},
   "outputs": [],
   "source": []
  },
  {
   "cell_type": "code",
   "execution_count": 48,
   "id": "d1154e09-f5c5-4337-8441-c717b93ad4fa",
   "metadata": {},
   "outputs": [],
   "source": [
    "# mytheme"
   ]
  },
  {
   "cell_type": "code",
   "execution_count": null,
   "id": "4eca5085-7e09-494b-be18-396c0d4b0433",
   "metadata": {},
   "outputs": [],
   "source": []
  },
  {
   "cell_type": "code",
   "execution_count": null,
   "id": "32a6e055-6456-45f4-ac49-4445788df70e",
   "metadata": {},
   "outputs": [],
   "source": []
  },
  {
   "cell_type": "code",
   "execution_count": null,
   "id": "0e9221d3-fa09-42a6-871a-4f1c4b7741a6",
   "metadata": {},
   "outputs": [],
   "source": []
  },
  {
   "cell_type": "code",
   "execution_count": 31,
   "id": "b598ea2b-8fa9-4aac-aaf3-f233bc26bb8b",
   "metadata": {},
   "outputs": [],
   "source": []
  },
  {
   "cell_type": "code",
   "execution_count": null,
   "id": "1402147a-b343-4e88-aa14-d296986c2a92",
   "metadata": {},
   "outputs": [],
   "source": []
  }
 ],
 "metadata": {
  "kernelspec": {
   "display_name": "R",
   "language": "R",
   "name": "ir"
  },
  "language_info": {
   "codemirror_mode": "r",
   "file_extension": ".r",
   "mimetype": "text/x-r-source",
   "name": "R",
   "pygments_lexer": "r",
   "version": "4.4.1"
  }
 },
 "nbformat": 4,
 "nbformat_minor": 5
}
