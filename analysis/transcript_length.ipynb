{
 "cells": [
  {
   "cell_type": "markdown",
   "id": "a9c724ad-090b-4388-a61b-aaa53fcc73a9",
   "metadata": {
    "editable": true,
    "slideshow": {
     "slide_type": ""
    },
    "tags": []
   },
   "source": [
    "## Goal: how does transcript length affect # and type of transcript detection?"
   ]
  },
  {
   "cell_type": "code",
   "execution_count": 1,
   "id": "68504fd1-3161-44ff-80e9-ad740e946fe2",
   "metadata": {},
   "outputs": [],
   "source": [
    "import pandas as pd\n",
    "import numpy as np\n",
    "import scipy.stats as st\n",
    "import seaborn as sns\n",
    "import sys\n",
    "import os\n",
    "import matplotlib.pyplot as plt\n",
    "import yaml\n",
    "from snakemake.io import expand\n",
    "import pyranges as pr\n",
    "from pyfaidx import Fasta\n",
    "from mizani.formatters import percent_format\n",
    "from scipy import stats\n",
    "\n",
    "\n",
    "p = os.path.dirname(os.getcwd())\n",
    "sys.path.append(p)\n",
    "\n",
    "from scripts.utils import *\n",
    "from scripts.vcf_utils import *\n",
    "from scripts.plotting import *\n",
    "\n",
    "from plotnine import *"
   ]
  },
  {
   "cell_type": "code",
   "execution_count": 2,
   "id": "706bdf28-b5b1-4864-a6e1-ac655d2d6386",
   "metadata": {},
   "outputs": [],
   "source": [
    "def my_theme(base_size=11, w=4, h=3):\n",
    "    \"\"\"\n",
    "    Custom plotnine theme with:\n",
    "    - White background\n",
    "    - Clean styling\n",
    "    - Axes and ticks retained\n",
    "\n",
    "    Parameters:\n",
    "    - base_size: Base font size\n",
    "\n",
    "    Returns:\n",
    "    - plotnine.theme object\n",
    "    \"\"\"\n",
    "    return (\n",
    "        theme_minimal(base_size=base_size)\n",
    "        + theme(\n",
    "            # White background\n",
    "            panel_background=element_rect(fill='white', color=None),\n",
    "            plot_background=element_rect(fill='white', color=None),\n",
    "\n",
    "            # Remove grid lines\n",
    "            panel_grid_major=element_blank(),\n",
    "            panel_grid_minor=element_blank(),\n",
    "            panel_border=element_blank(),\n",
    "\n",
    "            # Keep axis lines & ticks (don't blank them)\n",
    "            axis_line=element_line(color='black'),\n",
    "            axis_ticks=element_line(color='black'),\n",
    "\n",
    "            plot_title=element_text(hjust=0.5, family='Helvetica'),\n",
    "            axis_title_x=element_text(hjust=0.5, family='Helvetica'),\n",
    "            axis_title_y=element_text(hjust=0.5, margin={'t':0, 'r':-2, 'b':0, 'l':0}, family='Helvetica'),\n",
    "            \n",
    "            # Styling text\n",
    "            legend_title=element_blank(),\n",
    "            axis_title=element_text(size=base_size + 1, family='Helvetica'),\n",
    "            legend_text=element_text(size=base_size-2, family='Helvetica'),\n",
    "            axis_text=element_text(size=base_size, color='black', family='Helvetica'),\n",
    "            figure_size=(w, h),  # Controls plot dimensions (width x height in inches)\n",
    "            plot_margin=0.05      # Shrinks surrounding white space\n",
    "        )\n",
    "    )\n",
    "\n",
    "def clean_figure(ax):\n",
    "    ax.spines['right'].set_visible(False)\n",
    "    ax.spines['top'].set_visible(False)\n",
    "    ax.tick_params(axis=\"x\", rotation=45)"
   ]
  },
  {
   "cell_type": "code",
   "execution_count": 3,
   "id": "e6670558-a422-4d2d-bbea-500b2568eb60",
   "metadata": {},
   "outputs": [],
   "source": [
    "config = load_config()\n",
    "od = '../'\n",
    "\n",
    "def proc_cfg(entry, od):\n",
    "    entry = entry.replace('../../', '')\n",
    "    entry = od+entry\n",
    "    return entry"
   ]
  },
  {
   "cell_type": "code",
   "execution_count": 4,
   "id": "c4c531d3-9383-490d-adc7-437a523e1bde",
   "metadata": {},
   "outputs": [
    {
     "ename": "KeyboardInterrupt",
     "evalue": "",
     "output_type": "error",
     "traceback": [
      "\u001b[0;31m---------------------------------------------------------------------------\u001b[0m",
      "\u001b[0;31mKeyboardInterrupt\u001b[0m                         Traceback (most recent call last)",
      "Cell \u001b[0;32mIn[4], line 1\u001b[0m\n\u001b[0;32m----> 1\u001b[0m mt_df \u001b[38;5;241m=\u001b[39m \u001b[43mpd\u001b[49m\u001b[38;5;241;43m.\u001b[39;49m\u001b[43mread_csv\u001b[49m\u001b[43m(\u001b[49m\u001b[38;5;124;43m'\u001b[39;49m\u001b[38;5;124;43m../data/05_mastertable/poder_master_table_fixed_genics.tsv\u001b[39;49m\u001b[38;5;124;43m'\u001b[39;49m\u001b[43m,\u001b[49m\u001b[43m \u001b[49m\u001b[43msep\u001b[49m\u001b[38;5;241;43m=\u001b[39;49m\u001b[38;5;124;43m'\u001b[39;49m\u001b[38;5;130;43;01m\\t\u001b[39;49;00m\u001b[38;5;124;43m'\u001b[39;49m\u001b[43m)\u001b[49m\n\u001b[1;32m      2\u001b[0m \u001b[38;5;66;03m# mt_df = mt_df.loc[mt_df['filter']=='pass']\u001b[39;00m\n\u001b[1;32m      3\u001b[0m mt_df[\u001b[38;5;124m'\u001b[39m\u001b[38;5;124mpop_spec_t\u001b[39m\u001b[38;5;124m'\u001b[39m] \u001b[38;5;241m=\u001b[39m (mt_df\u001b[38;5;241m.\u001b[39mpopulation_sharing\u001b[38;5;241m==\u001b[39m\u001b[38;5;241m1\u001b[39m)\u001b[38;5;241m&\u001b[39m\\\n\u001b[1;32m      4\u001b[0m                       (mt_df\u001b[38;5;241m.\u001b[39msample_sharing\u001b[38;5;241m>\u001b[39m\u001b[38;5;241m1\u001b[39m)\n",
      "File \u001b[0;32m~/miniconda3/envs/plotnine_test/lib/python3.12/site-packages/pandas/io/parsers/readers.py:1026\u001b[0m, in \u001b[0;36mread_csv\u001b[0;34m(filepath_or_buffer, sep, delimiter, header, names, index_col, usecols, dtype, engine, converters, true_values, false_values, skipinitialspace, skiprows, skipfooter, nrows, na_values, keep_default_na, na_filter, verbose, skip_blank_lines, parse_dates, infer_datetime_format, keep_date_col, date_parser, date_format, dayfirst, cache_dates, iterator, chunksize, compression, thousands, decimal, lineterminator, quotechar, quoting, doublequote, escapechar, comment, encoding, encoding_errors, dialect, on_bad_lines, delim_whitespace, low_memory, memory_map, float_precision, storage_options, dtype_backend)\u001b[0m\n\u001b[1;32m   1013\u001b[0m kwds_defaults \u001b[38;5;241m=\u001b[39m _refine_defaults_read(\n\u001b[1;32m   1014\u001b[0m     dialect,\n\u001b[1;32m   1015\u001b[0m     delimiter,\n\u001b[0;32m   (...)\u001b[0m\n\u001b[1;32m   1022\u001b[0m     dtype_backend\u001b[38;5;241m=\u001b[39mdtype_backend,\n\u001b[1;32m   1023\u001b[0m )\n\u001b[1;32m   1024\u001b[0m kwds\u001b[38;5;241m.\u001b[39mupdate(kwds_defaults)\n\u001b[0;32m-> 1026\u001b[0m \u001b[38;5;28;01mreturn\u001b[39;00m \u001b[43m_read\u001b[49m\u001b[43m(\u001b[49m\u001b[43mfilepath_or_buffer\u001b[49m\u001b[43m,\u001b[49m\u001b[43m \u001b[49m\u001b[43mkwds\u001b[49m\u001b[43m)\u001b[49m\n",
      "File \u001b[0;32m~/miniconda3/envs/plotnine_test/lib/python3.12/site-packages/pandas/io/parsers/readers.py:626\u001b[0m, in \u001b[0;36m_read\u001b[0;34m(filepath_or_buffer, kwds)\u001b[0m\n\u001b[1;32m    623\u001b[0m     \u001b[38;5;28;01mreturn\u001b[39;00m parser\n\u001b[1;32m    625\u001b[0m \u001b[38;5;28;01mwith\u001b[39;00m parser:\n\u001b[0;32m--> 626\u001b[0m     \u001b[38;5;28;01mreturn\u001b[39;00m \u001b[43mparser\u001b[49m\u001b[38;5;241;43m.\u001b[39;49m\u001b[43mread\u001b[49m\u001b[43m(\u001b[49m\u001b[43mnrows\u001b[49m\u001b[43m)\u001b[49m\n",
      "File \u001b[0;32m~/miniconda3/envs/plotnine_test/lib/python3.12/site-packages/pandas/io/parsers/readers.py:1923\u001b[0m, in \u001b[0;36mTextFileReader.read\u001b[0;34m(self, nrows)\u001b[0m\n\u001b[1;32m   1916\u001b[0m nrows \u001b[38;5;241m=\u001b[39m validate_integer(\u001b[38;5;124m\"\u001b[39m\u001b[38;5;124mnrows\u001b[39m\u001b[38;5;124m\"\u001b[39m, nrows)\n\u001b[1;32m   1917\u001b[0m \u001b[38;5;28;01mtry\u001b[39;00m:\n\u001b[1;32m   1918\u001b[0m     \u001b[38;5;66;03m# error: \"ParserBase\" has no attribute \"read\"\u001b[39;00m\n\u001b[1;32m   1919\u001b[0m     (\n\u001b[1;32m   1920\u001b[0m         index,\n\u001b[1;32m   1921\u001b[0m         columns,\n\u001b[1;32m   1922\u001b[0m         col_dict,\n\u001b[0;32m-> 1923\u001b[0m     ) \u001b[38;5;241m=\u001b[39m \u001b[38;5;28;43mself\u001b[39;49m\u001b[38;5;241;43m.\u001b[39;49m\u001b[43m_engine\u001b[49m\u001b[38;5;241;43m.\u001b[39;49m\u001b[43mread\u001b[49m\u001b[43m(\u001b[49m\u001b[43m  \u001b[49m\u001b[38;5;66;43;03m# type: ignore[attr-defined]\u001b[39;49;00m\n\u001b[1;32m   1924\u001b[0m \u001b[43m        \u001b[49m\u001b[43mnrows\u001b[49m\n\u001b[1;32m   1925\u001b[0m \u001b[43m    \u001b[49m\u001b[43m)\u001b[49m\n\u001b[1;32m   1926\u001b[0m \u001b[38;5;28;01mexcept\u001b[39;00m \u001b[38;5;167;01mException\u001b[39;00m:\n\u001b[1;32m   1927\u001b[0m     \u001b[38;5;28mself\u001b[39m\u001b[38;5;241m.\u001b[39mclose()\n",
      "File \u001b[0;32m~/miniconda3/envs/plotnine_test/lib/python3.12/site-packages/pandas/io/parsers/c_parser_wrapper.py:234\u001b[0m, in \u001b[0;36mCParserWrapper.read\u001b[0;34m(self, nrows)\u001b[0m\n\u001b[1;32m    232\u001b[0m \u001b[38;5;28;01mtry\u001b[39;00m:\n\u001b[1;32m    233\u001b[0m     \u001b[38;5;28;01mif\u001b[39;00m \u001b[38;5;28mself\u001b[39m\u001b[38;5;241m.\u001b[39mlow_memory:\n\u001b[0;32m--> 234\u001b[0m         chunks \u001b[38;5;241m=\u001b[39m \u001b[38;5;28;43mself\u001b[39;49m\u001b[38;5;241;43m.\u001b[39;49m\u001b[43m_reader\u001b[49m\u001b[38;5;241;43m.\u001b[39;49m\u001b[43mread_low_memory\u001b[49m\u001b[43m(\u001b[49m\u001b[43mnrows\u001b[49m\u001b[43m)\u001b[49m\n\u001b[1;32m    235\u001b[0m         \u001b[38;5;66;03m# destructive to chunks\u001b[39;00m\n\u001b[1;32m    236\u001b[0m         data \u001b[38;5;241m=\u001b[39m _concatenate_chunks(chunks)\n",
      "File \u001b[0;32mparsers.pyx:838\u001b[0m, in \u001b[0;36mpandas._libs.parsers.TextReader.read_low_memory\u001b[0;34m()\u001b[0m\n",
      "File \u001b[0;32mparsers.pyx:905\u001b[0m, in \u001b[0;36mpandas._libs.parsers.TextReader._read_rows\u001b[0;34m()\u001b[0m\n",
      "File \u001b[0;32mparsers.pyx:874\u001b[0m, in \u001b[0;36mpandas._libs.parsers.TextReader._tokenize_rows\u001b[0;34m()\u001b[0m\n",
      "File \u001b[0;32mparsers.pyx:891\u001b[0m, in \u001b[0;36mpandas._libs.parsers.TextReader._check_tokenize_status\u001b[0;34m()\u001b[0m\n",
      "File \u001b[0;32mparsers.pyx:2053\u001b[0m, in \u001b[0;36mpandas._libs.parsers.raise_parser_error\u001b[0;34m()\u001b[0m\n",
      "File \u001b[0;32m<frozen codecs>:322\u001b[0m, in \u001b[0;36mdecode\u001b[0;34m(self, input, final)\u001b[0m\n",
      "\u001b[0;31mKeyboardInterrupt\u001b[0m: "
     ]
    }
   ],
   "source": [
    "mt_df = pd.read_csv('../data/05_mastertable/poder_master_table_fixed_genics.tsv', sep='\\t')\n",
    "# mt_df = mt_df.loc[mt_df['filter']=='pass']\n",
    "mt_df['pop_spec_t'] = (mt_df.population_sharing==1)&\\\n",
    "                      (mt_df.sample_sharing>1)\n",
    "mt_df['det_pop'] = mt_df[get_population_colors()[1]].idxmax(axis=1)"
   ]
  },
  {
   "cell_type": "code",
   "execution_count": null,
   "id": "f3790f74-36db-4a21-8bb6-03179c659aae",
   "metadata": {},
   "outputs": [],
   "source": [
    "mt_df[['isoform', 'geneid.v', 'length']].sort_values(by='geneid.v').head()"
   ]
  },
  {
   "cell_type": "markdown",
   "id": "ea27b20f-cf66-49de-91cf-482467f239ea",
   "metadata": {},
   "source": [
    "## First, general distributions"
   ]
  },
  {
   "cell_type": "code",
   "execution_count": null,
   "id": "842e3f70-d023-43aa-8664-8d2c78f5998a",
   "metadata": {},
   "outputs": [],
   "source": [
    "# biotype\n",
    "temp = mt_df[['length', 'isoform', 'associated_gene_biotype_sub']].drop_duplicates()\n",
    "init_plot_settings()\n",
    "ax = sns.displot(temp,\n",
    "                 x='length', kind='kde',\n",
    "                 hue='associated_gene_biotype_sub',\n",
    "                 linewidth=3, common_norm=False, alpha=0.5)\n",
    "ax.set(xlabel='Transcript length (bp)')"
   ]
  },
  {
   "cell_type": "code",
   "execution_count": null,
   "id": "442aba37-e069-4b38-945f-68c19758a1dd",
   "metadata": {},
   "outputs": [],
   "source": [
    "temp = mt_df[['length', 'isoform', 'associated_gene_biotype_sub']].drop_duplicates()\n",
    "temp = temp.loc[temp.length<20000]\n",
    "init_plot_settings()\n",
    "ax = sns.displot(temp,\n",
    "                 x='length', kind='kde',\n",
    "                 hue='associated_gene_biotype_sub',\n",
    "                 linewidth=3, common_norm=False, alpha=0.5)\n",
    "ax.set(xlabel='Transcript length (bp)')\n"
   ]
  },
  {
   "cell_type": "code",
   "execution_count": null,
   "id": "3f71afa5-62bb-40c9-9a7b-f8708cff67e3",
   "metadata": {},
   "outputs": [],
   "source": [
    "temp = mt_df[['length', 'isoform', 'associated_gene_biotype_sub']].drop_duplicates()\n",
    "temp = temp.loc[temp.length<10000]\n",
    "init_plot_settings()\n",
    "ax = sns.displot(temp,\n",
    "                 x='length', kind='kde',\n",
    "                 hue='associated_gene_biotype_sub',\n",
    "                 linewidth=3, common_norm=False, alpha=0.5)\n",
    "ax.set(xlabel='Transcript length (bp)')\n"
   ]
  },
  {
   "cell_type": "code",
   "execution_count": null,
   "id": "c48b3a1e-b297-4686-b872-22cdecd31abd",
   "metadata": {},
   "outputs": [],
   "source": [
    "temp = mt_df[['length', 'isoform', 'associated_gene_biotype_sub']].drop_duplicates()\n",
    "temp = temp.loc[temp.length<5000]\n",
    "init_plot_settings()\n",
    "ax = sns.displot(temp,\n",
    "                 x='length', kind='kde',\n",
    "                 hue='associated_gene_biotype_sub',\n",
    "                 linewidth=3, common_norm=False, alpha=0.5)\n",
    "ax.set(xlabel='Transcript length (bp)')\n"
   ]
  },
  {
   "cell_type": "code",
   "execution_count": null,
   "id": "445d9cfa-706a-4d6e-8564-411a194761a7",
   "metadata": {},
   "outputs": [],
   "source": [
    "init_plot_settings(aspect='square')\n",
    "ax = sns.boxplot(mt_df,\n",
    "                 y='length',\n",
    "                 x='associated_gene_biotype_sub')\n",
    "clean_figure(ax)\n",
    "ax.set(ylabel='Transcript length (bp)', xlabel='')"
   ]
  },
  {
   "cell_type": "code",
   "execution_count": null,
   "id": "de5e3fbf-aa8b-462e-aa3e-91821f12208c",
   "metadata": {},
   "outputs": [],
   "source": [
    "temp = temp.loc[temp.length<5000]\n",
    "\n",
    "init_plot_settings(aspect='square')\n",
    "ax = sns.boxplot(temp,\n",
    "                 y='length',\n",
    "                 x='associated_gene_biotype_sub')\n",
    "clean_figure(ax)\n",
    "ax.set(ylabel='Transcript length (bp)', xlabel='')"
   ]
  },
  {
   "cell_type": "markdown",
   "id": "3acd6f31-85bd-47ad-a67d-a1217eda81df",
   "metadata": {},
   "source": [
    "## Split by known / novel / promoted ISM"
   ]
  },
  {
   "cell_type": "code",
   "execution_count": null,
   "id": "b12f90c2-75a0-4f3e-ad9e-92b8d005825e",
   "metadata": {},
   "outputs": [],
   "source": [
    "uma_mt = pd.read_csv('../supp_tables/02_uma_mt.tsv', sep='\\t')\n",
    "\n",
    "# promoted genes are those that are FSMs in poder\n",
    "# but not present in uma \n",
    "promoted_fsm_ids = list(set(mt_df.loc[mt_df.structural_category=='FSM'].isoform.tolist()) -\\\n",
    "                   set(uma_mt.loc[uma_mt.structural_category=='FSM']['isoform']))\n",
    "\n",
    "mt_df['gene_len_nov'] = np.nan\n",
    "mt_df.loc[mt_df.structural_category=='FSM', 'gene_len_nov'] = 'FSM'\n",
    "mt_df.loc[mt_df.structural_category!='FSM', 'gene_len_nov'] = 'Novel'\n",
    "mt_df.loc[mt_df.isoform.isin(promoted_fsm_ids), 'gene_len_nov'] ='FSM (Promoted ISM)'\n",
    "\n",
    "assert len(promoted_fsm_ids) == 10255\n",
    "# got the number from the paper"
   ]
  },
  {
   "cell_type": "markdown",
   "id": "c247dd7d-a78b-496b-9035-54f3f36a50fb",
   "metadata": {},
   "source": [
    "## How long are the transcripts from these novelty designations?"
   ]
  },
  {
   "cell_type": "code",
   "execution_count": null,
   "id": "26401718-c223-4f17-a806-e10550552c5a",
   "metadata": {},
   "outputs": [],
   "source": [
    "init_plot_settings(aspect='square')\n",
    "ax = sns.boxplot(mt_df,\n",
    "                 y='length',\n",
    "                 x='gene_len_nov')\n",
    "ax.set(ylabel='Transcript length', xlabel='')\n",
    "clean_figure(ax)"
   ]
  },
  {
   "cell_type": "code",
   "execution_count": null,
   "id": "12bbb6ef-ed8d-4a3c-b71c-6a9ee1ec63a0",
   "metadata": {},
   "outputs": [],
   "source": [
    "# logged version\n",
    "init_plot_settings(aspect='square')\n",
    "mt_df['log10_t_len'] = np.log10(mt_df['length'])\n",
    "ax = sns.boxplot(mt_df,\n",
    "                 y='log10_t_len',\n",
    "                 x='gene_len_nov')\n",
    "ax.set(ylabel='log10(Transcript length)', xlabel='')\n",
    "clean_figure(ax)"
   ]
  },
  {
   "cell_type": "code",
   "execution_count": null,
   "id": "63cec204-7362-4af2-a0b0-50fe92024928",
   "metadata": {},
   "outputs": [],
   "source": [
    "# plotnine equivalent\n",
    "c_dict, order = get_novelty_colors(mt_df.gene_len_nov.unique().tolist())\n",
    "c_dict['FSM (Promoted ISM)'] = '#adc0a4'\n",
    "c_dict['Novel'] = '#aca6b0'\n",
    "(\n",
    "    ggplot(mt_df, aes(x='gene_len_nov', y='log10_t_len', fill='gene_len_nov'))\n",
    "    + geom_boxplot()\n",
    "    + scale_fill_manual(c_dict)\n",
    "    + labs(\n",
    "        y='log10(Transcript length)',\n",
    "        x='')\n",
    "    + my_theme(w=2.5, h=4)\n",
    "    + theme(\n",
    "        axis_text_x=element_text(rotation=45, hjust=1))\n",
    "    + theme(legend_position='none')\n",
    ")"
   ]
  },
  {
   "cell_type": "code",
   "execution_count": null,
   "id": "0aa62ba9-f6e1-4674-a945-071affdda2fe",
   "metadata": {},
   "outputs": [],
   "source": [
    "# well, they look different but also let's check \n",
    "import itertools\n",
    "for s in list(itertools.combinations(mt_df.gene_len_nov.unique().tolist(), 2)):\n",
    "    x = mt_df.loc[mt_df.gene_len_nov==s[0], 'length'].tolist()\n",
    "    y = mt_df.loc[mt_df.gene_len_nov==s[1], 'length'].tolist()\n",
    "    stat, pval = st.mannwhitneyu(x, y)\n",
    "    # print(f'{s[0]} vs {s[1]}')\n",
    "    print(f'{s[0]} median: {np.median(x)}')\n",
    "    print(f'{s[1]} median: {np.median(y)}')\n",
    "    print(stat)\n",
    "    print(pval)\n",
    "    print()"
   ]
  },
  {
   "cell_type": "code",
   "execution_count": null,
   "id": "4bb3296d-6c3c-425a-a065-e7641121af55",
   "metadata": {},
   "outputs": [],
   "source": [
    "# plotnine version faceted by gene biotype\n",
    "\n",
    "# 1. Count n per gene_len_nov per facet\n",
    "n_labels = (\n",
    "    mt_df.groupby(['associated_gene_biotype_sub', 'gene_len_nov'])\n",
    "    .size()\n",
    "    .reset_index(name='n')\n",
    ")\n",
    "\n",
    "# 2. Format label\n",
    "n_labels['label'] = 'n = ' + n_labels['n'].apply(lambda x: f\"{x:,}\")\n",
    "\n",
    "# 2. Set fixed y-position below boxes\n",
    "y_min = mt_df['log10_t_len'].min()\n",
    "n_labels['y'] = y_min - 0.2  # tweak -0.2 as needed to move lower\n",
    "\n",
    "\n",
    "(\n",
    "    ggplot(mt_df, aes(x='gene_len_nov', y='log10_t_len'))\n",
    "    + geom_boxplot()\n",
    "    + facet_wrap('~associated_gene_biotype_sub',\n",
    "                 ncol=len(mt_df.associated_gene_biotype_sub.unique().tolist()),\n",
    "                 scales='free_y')  # Adjust ncol as needed\n",
    "    + labs(\n",
    "        y='log10(Transcript length)',\n",
    "        x=''\n",
    "    )\n",
    "    + geom_text(\n",
    "        n_labels,\n",
    "        aes(x='gene_len_nov', y='y', label='label'),\n",
    "        inherit_aes=False,\n",
    "        size=6  # increase for readability if needed\n",
    "    )\n",
    "    + my_theme(w=8, h=4)\n",
    "    + theme(\n",
    "        axis_text_x=element_text(rotation=45, hjust=1))\n",
    ")"
   ]
  },
  {
   "cell_type": "code",
   "execution_count": null,
   "id": "efd8cfc6-07b6-474c-8550-67e7157b1a31",
   "metadata": {},
   "outputs": [],
   "source": [
    "# well, they look different but also let's check \n",
    "import itertools\n",
    "for c in mt_df.associated_gene_biotype_sub.unique().tolist():\n",
    "    temp = mt_df.loc[mt_df.associated_gene_biotype_sub==c]\n",
    "    for s in list(itertools.combinations(mt_df.gene_len_nov.unique().tolist(), 2)):\n",
    "        x = temp.loc[temp.gene_len_nov==s[0], 'length'].tolist()\n",
    "        y = temp.loc[temp.gene_len_nov==s[1], 'length'].tolist()\n",
    "        stat, pval = st.mannwhitneyu(x, y)\n",
    "        # print(f'{s[0]} vs {s[1]}')\n",
    "        print(c)\n",
    "        print(f'{s[0]} median: {np.median(x)}')\n",
    "        print(f'{s[1]} median: {np.median(y)}')\n",
    "        print(stat)\n",
    "        print(pval)\n",
    "        print()"
   ]
  },
  {
   "cell_type": "code",
   "execution_count": null,
   "id": "bddb39f5-104e-47db-a54b-fa4a817bcd97",
   "metadata": {},
   "outputs": [],
   "source": [
    "# limit just to pc and lnc, and just to novel vs. fsm\n",
    "temp = mt_df.loc[(mt_df.associated_gene_biotype_sub.isin(['Protein Coding', 'lncRNA']))&\\\n",
    "                 (mt_df.gene_len_nov.isin(['Novel', 'FSM']))]\n",
    "\n",
    "# plotnine version faceted by gene biotype\n",
    "\n",
    "# 1. Count n per gene_len_nov per facet\n",
    "n_labels = (\n",
    "    temp.groupby(['associated_gene_biotype_sub', 'gene_len_nov'])\n",
    "    .size()\n",
    "    .reset_index(name='n')\n",
    ")\n",
    "\n",
    "# 2. Format label\n",
    "n_labels['label'] = 'n = ' + n_labels['n'].apply(lambda x: f\"{x:,}\")\n",
    "\n",
    "# 2. Set fixed y-position below boxes\n",
    "y_min = temp['log10_t_len'].min()\n",
    "n_labels['y'] = y_min - 0.2  # tweak -0.2 as needed to move lower\n",
    "\n",
    "\n",
    "(\n",
    "    ggplot(temp, aes(x='gene_len_nov', y='log10_t_len'))\n",
    "    + geom_boxplot()\n",
    "    + facet_wrap('~associated_gene_biotype_sub',\n",
    "                 ncol=len(temp.associated_gene_biotype_sub.unique().tolist()),\n",
    "                 scales='free_y')  # Adjust ncol as needed\n",
    "    + labs(\n",
    "        y='log10(Transcript length)',\n",
    "        x=''\n",
    "    )\n",
    "    + geom_text(\n",
    "        n_labels,\n",
    "        aes(x='gene_len_nov', y='y', label='label'),\n",
    "        inherit_aes=False,\n",
    "        size=8  # increase for readability if needed\n",
    "    )\n",
    "    + my_theme(w=5, h=3)\n",
    "    + theme(\n",
    "        axis_text_x=element_text(rotation=45, hjust=1))\n",
    ")"
   ]
  },
  {
   "cell_type": "code",
   "execution_count": null,
   "id": "b0e20ff6-dacb-498c-bacf-464235009ddd",
   "metadata": {},
   "outputs": [],
   "source": [
    "# well, they look different but also let's check \n",
    "import itertools\n",
    "for c in temp.associated_gene_biotype_sub.unique().tolist():\n",
    "    temp2 = temp.loc[temp.associated_gene_biotype_sub==c]\n",
    "    for s in list(itertools.combinations(temp.gene_len_nov.unique().tolist(), 2)):\n",
    "        x = temp2.loc[temp.gene_len_nov==s[0], 'length'].tolist()\n",
    "        y = temp2.loc[temp.gene_len_nov==s[1], 'length'].tolist()\n",
    "        stat, pval = st.mannwhitneyu(x, y)\n",
    "        # print(f'{s[0]} vs {s[1]}')\n",
    "        print(c)\n",
    "        print(f'{s[0]} median: {np.median(x)}')\n",
    "        print(f'{s[1]} median: {np.median(y)}')\n",
    "        print(stat)\n",
    "        print(pval)\n",
    "        print()"
   ]
  },
  {
   "cell_type": "markdown",
   "id": "d474a7bd-09f6-4c68-9d07-24839a3ddff6",
   "metadata": {},
   "source": [
    "## Correlate transcript expression w/ transcript length"
   ]
  },
  {
   "cell_type": "code",
   "execution_count": null,
   "id": "562ee688-aee8-4f6d-8295-bbfa88db837f",
   "metadata": {},
   "outputs": [],
   "source": [
    "# read in the expression matrix\n",
    "f = expand(proc_cfg(config['lr']['kallisto']['quant']['merge_matrix_tpm_tsv'],od))[0]\n",
    "\n",
    "meta = load_meta()\n",
    "meta = meta.loc[meta.merged_run_mode==True]\n",
    "sample_d = dict([(entry.cell_line_id, entry['sample']) \\\n",
    "                 for ind, entry in meta.iterrows()])\n",
    "\n",
    "\n",
    "df = pd.read_csv(f, sep='\\t')\n",
    "df.head()\n",
    "df.columns = [d if d == 'transcript_id' else d.split('_')[0] for d in df.columns]\n",
    "df.rename({'transcript_id':'tid'}, axis=1, inplace=True)\n",
    "df.rename(sample_d, axis=1, inplace=True)\n",
    "df.set_index('tid', inplace=True)"
   ]
  },
  {
   "cell_type": "code",
   "execution_count": null,
   "id": "b327b4ee-904c-4b4e-8a7e-3018dcaba52f",
   "metadata": {},
   "outputs": [],
   "source": [
    "# get max. expression per transcript \n",
    "drop_cols = df.columns.tolist()\n",
    "df['max_tpm'] = df.max(axis=1)\n",
    "df = df.drop(drop_cols, axis=1)\n",
    "df.head()"
   ]
  },
  {
   "cell_type": "code",
   "execution_count": null,
   "id": "2d3bf887-123a-4573-8b02-8389d4f4306a",
   "metadata": {},
   "outputs": [],
   "source": [
    "# merge in max exp. w/ mt_df\n",
    "mt_df = mt_df.merge(df, \n",
    "                    how='left',\n",
    "                    left_on='isoform',\n",
    "                    right_index=True)\n",
    "mt_df['log10_max_tpm'] = np.log10(mt_df['max_tpm']+1)"
   ]
  },
  {
   "cell_type": "code",
   "execution_count": null,
   "id": "787fab0c-e43d-4e8e-ab60-fbb080f39f3c",
   "metadata": {},
   "outputs": [],
   "source": [
    "def plot_thing(df, c1, c2, hue, c_dict):\n",
    "\n",
    "        ax = sns.jointplot(data=df, x=c1, y=c2,\n",
    "                             hue=hue, palette=c_dict,\n",
    "                             # xlim=(0,xlim), ylim=(0,ylim), \n",
    "                             joint_kws={'data':df, 's':40, 'alpha':0.4})\n",
    "        ax = ax.ax_joint\n",
    "        \n",
    "        # plot regression lines and equation of regression lines\n",
    "        # https://stackoverflow.com/questions/48145924/different-colors-for-points-and-line-in-seaborn-regplot/68135585#68135585\n",
    "        # https://stackoverflow.com/questions/45902739/seaborn-annotate-the-linear-regression-equation\n",
    "        # https://stackoverflow.com/questions/62705904/add-entry-to-matplotlib-legend-without-plotting-an-object\n",
    "        lines = []\n",
    "        labels = []\n",
    "        for s in df[hue].unique().tolist():\n",
    "            temp = df.loc[df[hue] == s]\n",
    "            color = c_dict[s]\n",
    "            line_color = adjust_lightness(color, 0.5)\n",
    "            \n",
    "            # get coeffs of linear fit\n",
    "            slope, intercept, r_value, p_value, std_err = stats.linregress(temp[c1],temp[c2])\n",
    "            lines += [mpl.lines.Line2D([0], [0], color=line_color)]\n",
    "            labels += ['m={0:.1f}'.format(slope)]\n",
    "    \n",
    "            print('Slope of {} correlation: {}'.format(s, slope))\n",
    "            print(f'Pval = {p_value}')\n",
    "            print(f'n = {len(temp.index)}')\n",
    "            \n",
    "            \n",
    "            sns.regplot(data=temp, x=c1, y=c2,\n",
    "                        scatter=False, ax=ax, color=color)\n",
    "            sns.regplot(data=temp, x=c1, y=c2,\n",
    "                scatter=False, ax=ax, color=color, ci=0,\n",
    "                line_kws={'color':line_color,\n",
    "                          'linestyle':'-',\n",
    "                          'label':\"m={0:.1f}\".format(slope)})\n",
    "        \n",
    "        ax.legend(title='')\n",
    "        ax.spines['right'].set_visible(False)\n",
    "        ax.spines['top'].set_visible(False)\n",
    "        # ax.get_legend().remove()\n",
    "\n",
    "        _ = ax.set(xlabel='log10(Transcript length)', ylabel='Log10(Max. transcript TPM+1)')"
   ]
  },
  {
   "cell_type": "code",
   "execution_count": null,
   "id": "06a585fb-30db-4961-87d8-76c673a94e10",
   "metadata": {},
   "outputs": [],
   "source": [
    "# plot and correlate transcript length w/ max. expression; split by gene biotype\n",
    "c_dict = {'Protein Coding': 'k', \n",
    "      'Fusion Gene': 'b',\n",
    "      'lncRNA': 'r', \n",
    "      'Novel Gene': 'g'}\n",
    "plot_thing(mt_df, 'log10_t_len', 'log10_max_tpm', 'associated_gene_biotype_sub', c_dict)"
   ]
  },
  {
   "cell_type": "code",
   "execution_count": null,
   "id": "f4886c18-4b30-439a-a392-467006c2bcec",
   "metadata": {},
   "outputs": [],
   "source": [
    "# plot and correlate transcript length w/ max. expression; split by transcript novelty\n",
    "c_dict, order = get_novelty_colors(mt_df.structural_category.unique().tolist())\n",
    "plot_thing(mt_df, 'log10_t_len', 'log10_max_tpm', 'structural_category', c_dict)\n"
   ]
  },
  {
   "cell_type": "code",
   "execution_count": null,
   "id": "14fbd93c-7dc5-42e3-bf31-b21282b9ce2b",
   "metadata": {},
   "outputs": [],
   "source": [
    "# maybe summarize these correlations in a bar plot because it's neater\n",
    "hue = 'structural_category'\n",
    "c1 = 'log10_t_len'\n",
    "c2 = 'log10_max_tpm'\n",
    "slopes = []\n",
    "for s in mt_df[hue].unique().tolist():\n",
    "    temp = mt_df.loc[mt_df[hue] == s]\n",
    "    \n",
    "    # get coeffs of linear fit\n",
    "    slope, intercept, r_value, p_value, std_err = stats.linregress(temp[c1],temp[c2])\n",
    "    slopes += [slope]"
   ]
  },
  {
   "cell_type": "code",
   "execution_count": null,
   "id": "5ab22b43-c64d-42c3-9ce5-7df7ac4808d4",
   "metadata": {},
   "outputs": [],
   "source": [
    "temp = pd.DataFrame({'slope': slopes, \n",
    "                     hue: mt_df[hue].unique().tolist()})\n",
    "\n",
    "(ggplot(temp, aes(x='structural_category', y='slope', fill='structural_category'))\n",
    " +geom_bar(stat='identity')\n",
    " +scale_fill_manual(values=c_dict)\n",
    " +scale_x_discrete(limits=order)\n",
    " +my_theme(h=4)\n",
    " +labs(y='Slope between transcript length\\nand transcript expression',\n",
    "       x='')\n",
    " +theme(\n",
    "    axis_text_x=element_text(rotation=90))\n",
    ")"
   ]
  },
  {
   "cell_type": "code",
   "execution_count": null,
   "id": "6b1114d8-5d4f-459f-a900-b9fff7da28a4",
   "metadata": {},
   "outputs": [],
   "source": [
    "# maybe pearson or spearman correlation would be better actually\n",
    "# maybe summarize these correlations in a bar plot because it's neater\n",
    "hue = 'structural_category'\n",
    "c1 = 'log10_t_len'\n",
    "c2 = 'log10_max_tpm'\n",
    "pearsons = []\n",
    "spearmans = []\n",
    "for s in mt_df[hue].unique().tolist():\n",
    "    temp = mt_df.loc[mt_df[hue] == s]\n",
    "    \n",
    "    # get correlations\n",
    "    x = temp[c1].tolist()\n",
    "    y = temp[c2].tolist()\n",
    "    r, r_p = st.pearsonr(x, y)\n",
    "    rho, rho_p = st.spearmanr(x, y)\n",
    "\n",
    "    pearsons.append(r)\n",
    "    spearmans.append(rho)"
   ]
  },
  {
   "cell_type": "code",
   "execution_count": null,
   "id": "bc80a360-51c7-4103-be4f-23b70a639b32",
   "metadata": {},
   "outputs": [],
   "source": [
    "temp = pd.DataFrame({'pearson': pearsons, \n",
    "                     hue: mt_df[hue].unique().tolist()})\n",
    "(ggplot(temp, aes(x='structural_category', y='pearson', fill='structural_category'))\n",
    " +geom_bar(stat='identity')\n",
    " +scale_fill_manual(values=c_dict)\n",
    " +scale_x_discrete(limits=order)\n",
    " +my_theme(h=4)\n",
    " +labs(y='Pearson R correlation between\\ntranscript length and transcript expression',\n",
    "       x='')\n",
    " +theme(\n",
    "    axis_text_x=element_text(rotation=90))\n",
    ")"
   ]
  },
  {
   "cell_type": "code",
   "execution_count": null,
   "id": "966b63c1-186e-419f-a060-450401ee0c6f",
   "metadata": {},
   "outputs": [],
   "source": [
    "temp = pd.DataFrame({'spearman': spearmans, \n",
    "                     hue: mt_df[hue].unique().tolist()})\n",
    "(ggplot(temp, aes(x='structural_category', y='spearman', fill='structural_category'))\n",
    " +geom_bar(stat='identity')\n",
    " +scale_fill_manual(values=c_dict)\n",
    " +scale_x_discrete(limits=order)\n",
    " +my_theme(h=4)\n",
    " +labs(y='Spearman Rho correlation between\\ntranscript length and transcript expression',\n",
    "       x='')\n",
    " +theme(\n",
    "    axis_text_x=element_text(rotation=90))\n",
    ")"
   ]
  },
  {
   "cell_type": "markdown",
   "id": "2cdc26d6-10fa-487b-bc49-612250be89ce",
   "metadata": {},
   "source": [
    "## What if we use all samples' TPMs? "
   ]
  },
  {
   "cell_type": "code",
   "execution_count": null,
   "id": "b12ea1f9-67d1-467e-a3ee-f6d982f17f53",
   "metadata": {},
   "outputs": [],
   "source": [
    "# read in the expression matrix\n",
    "f = expand(proc_cfg(config['lr']['kallisto']['quant']['merge_matrix_tpm_tsv'],od))[0]\n",
    "\n",
    "meta = load_meta()\n",
    "meta = meta.loc[meta.merged_run_mode==True]\n",
    "sample_d = dict([(entry.cell_line_id, entry['sample']) \\\n",
    "                 for ind, entry in meta.iterrows()])\n",
    "\n",
    "\n",
    "df = pd.read_csv(f, sep='\\t')\n",
    "df.head()\n",
    "df.columns = [d if d == 'transcript_id' else d.split('_')[0] for d in df.columns]\n",
    "df.rename({'transcript_id':'tid'}, axis=1, inplace=True)\n",
    "df.rename(sample_d, axis=1, inplace=True)\n",
    "df.set_index('tid', inplace=True)"
   ]
  },
  {
   "cell_type": "code",
   "execution_count": null,
   "id": "35c8bd30-9dba-4616-8bad-6a473b45f463",
   "metadata": {},
   "outputs": [],
   "source": [
    "samples = df.columns.tolist()"
   ]
  },
  {
   "cell_type": "code",
   "execution_count": null,
   "id": "40e3b8ab-1086-4d9a-96cd-8e97b2d2406a",
   "metadata": {},
   "outputs": [],
   "source": [
    "# drop the detection columns so we can merge in the TPM columns\n",
    "mt_df = mt_df.drop(samples, axis=1)\n",
    "\n",
    "# now merge\n",
    "mt_df = mt_df.merge(df, how='left',\n",
    "                    left_on='isoform',\n",
    "                    right_index=True)"
   ]
  },
  {
   "cell_type": "code",
   "execution_count": null,
   "id": "2e88f3eb-caf1-4e30-adc7-be6ed0fa2e26",
   "metadata": {},
   "outputs": [],
   "source": [
    "\n",
    "# log transform\n",
    "log_tpm_cols = [f'{sample}_log10_tpm' for sample in samples]\n",
    "mt_df[log_tpm_cols] = np.log10(mt_df[samples])\n",
    "mt_df[log_tpm_cols] = mt_df[log_tpm_cols].replace(-np.inf, np.nan)  # or .where(df['tpm'] > 0)\n"
   ]
  },
  {
   "cell_type": "code",
   "execution_count": null,
   "id": "e87f7ab8-4da5-4c34-8f96-884391e3e07b",
   "metadata": {},
   "outputs": [],
   "source": [
    "# correlate,  make sure to ignore NaNs? \n",
    "hue = 'structural_category'\n",
    "c1 = 'log10_t_len'\n",
    "\n",
    "pearsons = []\n",
    "spearmans = []\n",
    "samples = []\n",
    "novs = []\n",
    "\n",
    "for c in log_tpm_cols:\n",
    "    for s in mt_df[hue].unique().tolist():\n",
    "        temp = mt_df.loc[mt_df[hue] == s]\n",
    "        \n",
    "        # get correlations for expressed transcripts only\n",
    "        x = temp.loc[temp[c].notnull(), c1].tolist()\n",
    "        y = temp.loc[temp[c].notnull(), c].tolist()\n",
    "        r, r_p = st.pearsonr(x, y)\n",
    "        rho, rho_p = st.spearmanr(x, y)\n",
    "    \n",
    "        pearsons.append(r)\n",
    "        spearmans.append(rho)\n",
    "        samples.append(c.split('_')[0])\n",
    "        novs.append(s)"
   ]
  },
  {
   "cell_type": "code",
   "execution_count": null,
   "id": "670d158d-91c2-4e16-9fc7-f424b79e90ab",
   "metadata": {},
   "outputs": [],
   "source": [
    "temp = pd.DataFrame({'pearson': pearsons, \n",
    "                     'spearman': spearmans,\n",
    "                     'sample': samples,\n",
    "                     hue: novs})"
   ]
  },
  {
   "cell_type": "code",
   "execution_count": null,
   "id": "51cc1a1a-d5a5-464b-9ae0-47fb9e28ab81",
   "metadata": {},
   "outputs": [],
   "source": [
    "p_c_dict, p_order = get_population_colors()\n",
    "temp['population'] = temp['sample'].str.slice(0,3)"
   ]
  },
  {
   "cell_type": "code",
   "execution_count": null,
   "id": "2ca7bdb5-b12a-4f6b-8a15-befc7264ab6e",
   "metadata": {},
   "outputs": [],
   "source": [
    "(ggplot(temp, aes(x='structural_category', y='pearson', fill='structural_category'))\n",
    " +geom_violin(alpha=0.7)\n",
    " +geom_boxplot(outlier_size=0, width=0.1)\n",
    " +geom_jitter(aes(fill='population', color='population'),\n",
    "              size=1.5, alpha=0.5, width=0.25)\n",
    " +scale_color_manual(values=p_c_dict)\n",
    " +scale_fill_manual(values=c_dict|p_c_dict)\n",
    " +scale_x_discrete(limits=order)\n",
    " +my_theme(h=4, w=5)\n",
    " +theme(legend_box='horizontal')\n",
    " +guides(fill=\"none\")\n",
    " +labs(y='Pearson R correlation between\\ntranscript length and transcript expression',\n",
    "       x='')\n",
    " +theme(\n",
    "    axis_text_x=element_text(rotation=90))\n",
    ")"
   ]
  },
  {
   "cell_type": "code",
   "execution_count": null,
   "id": "0e897b15-7d88-48ae-b010-160cb2606fde",
   "metadata": {},
   "outputs": [],
   "source": [
    "(ggplot(temp, aes(x='structural_category', y='spearman', fill='structural_category'))\n",
    " +geom_violin(alpha=0.7)\n",
    " +geom_boxplot(outlier_size=0, width=0.1)\n",
    " +geom_jitter(aes(fill='population', color='population'),\n",
    "              size=1.5, alpha=0.5, width=0.25)\n",
    " +scale_color_manual(values=p_c_dict)\n",
    " +scale_fill_manual(values=c_dict|p_c_dict)\n",
    " +scale_x_discrete(limits=order)\n",
    " +my_theme(h=4, w=5)\n",
    " +theme(legend_box='horizontal')\n",
    " +guides(fill=\"none\")\n",
    " +labs(y='Spearman Rho correlation between\\ntranscript length and transcript expression',\n",
    "       x='')\n",
    " +theme(\n",
    "    axis_text_x=element_text(rotation=90))\n",
    ")"
   ]
  },
  {
   "cell_type": "code",
   "execution_count": null,
   "id": "5c1449c1-c02f-41e8-8f9b-421b74e8f810",
   "metadata": {},
   "outputs": [],
   "source": [
    "# ones I actually care about\n",
    "temp2 = temp.loc[temp.structural_category.isin(['FSM', 'NIC', 'NNC'])]\n",
    "c_dict, order = get_novelty_colors(temp2.structural_category.unique().tolist())\n",
    "(ggplot(temp2, aes(x='structural_category', y='pearson', fill='structural_category'))\n",
    " +geom_violin(alpha=0.7)\n",
    " +geom_boxplot(outlier_size=0, width=0.1)\n",
    " +geom_jitter(aes(fill='population', color='population'),\n",
    "              size=1.5, alpha=0.5, width=0.25)\n",
    " +scale_color_manual(values=p_c_dict)\n",
    " +scale_fill_manual(values=c_dict|p_c_dict)\n",
    " +scale_x_discrete(limits=order)\n",
    " +my_theme(h=4, w=3)\n",
    " +theme(legend_box='horizontal')\n",
    " +guides(fill=\"none\")\n",
    " +labs(y='Pearson R correlation between\\ntranscript length and transcript expression',\n",
    "       x='')\n",
    " +theme(\n",
    "    axis_text_x=element_text(rotation=90))\n",
    ")"
   ]
  },
  {
   "cell_type": "code",
   "execution_count": null,
   "id": "30597751-1b26-4833-a00f-b21e6b517ef2",
   "metadata": {},
   "outputs": [],
   "source": [
    "# ones I actually care about\n",
    "temp2 = temp.loc[temp.structural_category.isin(['FSM', 'NIC', 'NNC'])]\n",
    "c_dict, order = get_novelty_colors(temp2.structural_category.unique().tolist())\n",
    "(ggplot(temp2, aes(x='structural_category', y='spearman', fill='structural_category'))\n",
    " +geom_violin(alpha=0.7)\n",
    " +geom_boxplot(outlier_size=0, width=0.1)\n",
    " +geom_jitter(aes(fill='population', color='population'),\n",
    "              size=1.5, alpha=0.5, width=0.25)\n",
    " +scale_color_manual(values=p_c_dict)\n",
    " +scale_fill_manual(values=c_dict|p_c_dict)\n",
    " +scale_x_discrete(limits=order)\n",
    " +my_theme(h=4, w=3)\n",
    " +theme(legend_box='horizontal')\n",
    " +guides(fill=\"none\")\n",
    " +labs(y='Spearman Rho correlation between\\ntranscript length and transcript expression',\n",
    "       x='')\n",
    " +theme(\n",
    "    axis_text_x=element_text(rotation=90))\n",
    ")"
   ]
  },
  {
   "cell_type": "code",
   "execution_count": null,
   "id": "5088735a-5a41-4251-94e2-619e5135cfb4",
   "metadata": {},
   "outputs": [],
   "source": [
    "# well, they look different but also let's check \n",
    "import itertools\n",
    "for s in list(itertools.combinations(temp2.structural_category.unique().tolist(), 2)):\n",
    "    x = temp2.loc[temp2.structural_category==s[0], 'pearson'].tolist()\n",
    "    y = temp2.loc[temp2.structural_category==s[1], 'pearson'].tolist()\n",
    "    stat, pval = st.mannwhitneyu(x, y)\n",
    "    # print(f'{s[0]} vs {s[1]}')\n",
    "    print(f'{s[0]} median: {np.median(x)}')\n",
    "    print(f'{s[1]} median: {np.median(y)}')\n",
    "    print(stat)\n",
    "    print(pval)\n",
    "    print()"
   ]
  },
  {
   "cell_type": "code",
   "execution_count": null,
   "id": "59a20756-02f9-4857-87af-5c43abcbe802",
   "metadata": {},
   "outputs": [],
   "source": [
    "# well, they look different but also let's check \n",
    "import itertools\n",
    "for s in list(itertools.combinations(temp2.structural_category.unique().tolist(), 2)):\n",
    "    x = temp2.loc[temp2.structural_category==s[0], 'spearman'].tolist()\n",
    "    y = temp2.loc[temp2.structural_category==s[1], 'spearman'].tolist()\n",
    "    stat, pval = st.mannwhitneyu(x, y)\n",
    "    # print(f'{s[0]} vs {s[1]}')\n",
    "    print(f'{s[0]} median: {np.median(x)}')\n",
    "    print(f'{s[1]} median: {np.median(y)}')\n",
    "    print(stat)\n",
    "    print(pval)\n",
    "    print()"
   ]
  },
  {
   "cell_type": "code",
   "execution_count": null,
   "id": "58b43883-71ec-491b-be76-0d38c217df63",
   "metadata": {},
   "outputs": [],
   "source": [
    "# so all of these are significantly different"
   ]
  },
  {
   "cell_type": "markdown",
   "id": "6ea90e16-5dea-4731-a42b-2f4f28013219",
   "metadata": {},
   "source": [
    "## Transcript length distributions by novelty"
   ]
  },
  {
   "cell_type": "code",
   "execution_count": null,
   "id": "cbbfa933-7a1b-4ea9-8b78-c36348ab8d87",
   "metadata": {},
   "outputs": [],
   "source": [
    "mt_df.head()"
   ]
  },
  {
   "cell_type": "code",
   "execution_count": null,
   "id": "c108dcdf-71ae-4f3d-9ddc-0eb017a7cb77",
   "metadata": {},
   "outputs": [],
   "source": [
    "# biotype\n",
    "temp = mt_df[['length', 'isoform', 'gene_len_nov']].drop_duplicates()\n",
    "init_plot_settings()\n",
    "ax = sns.displot(temp,\n",
    "                 x='length', kind='kde',\n",
    "                 hue='gene_len_nov',\n",
    "                 linewidth=3, common_norm=False, alpha=0.5)\n",
    "ax.set(xlabel='Transcript length (bp)')"
   ]
  },
  {
   "cell_type": "markdown",
   "id": "a91bf254-2ade-47f9-a14e-5fac1068f431",
   "metadata": {},
   "source": [
    "## Transcript length to expression correlation by category (including promoted ISM)"
   ]
  },
  {
   "cell_type": "code",
   "execution_count": null,
   "id": "33c7b013-b639-4749-9363-b88f4922e457",
   "metadata": {},
   "outputs": [],
   "source": [
    "# add new struct. cat. column \n",
    "mt_df['structural_category_2'] = mt_df.structural_category\n",
    "mt_df.loc[mt_df.gene_len_nov=='FSM (Promoted ISM)', 'structural_category_2'] = 'FSM (Promoted ISM)'\n",
    "\n",
    "c_dict, order = get_novelty_colors(mt_df.structural_category.unique().tolist())\n",
    "c_dict['FSM - Promoted ISM'] = mute_color(c_dict['FSM'], factor=1.4)\n",
    "order = [order[0]] + ['FSM (Promoted ISM)'] + order[1:]\n",
    "order"
   ]
  },
  {
   "cell_type": "code",
   "execution_count": null,
   "id": "87d94adf-292e-445a-8d29-5a64342f5b3e",
   "metadata": {},
   "outputs": [],
   "source": [
    "# correlate,  make sure to ignore NaNs? \n",
    "hue = 'structural_category_2'\n",
    "c1 = 'log10_t_len'\n",
    "\n",
    "pearsons = []\n",
    "spearmans = []\n",
    "samples = []\n",
    "novs = []\n",
    "\n",
    "for c in log_tpm_cols:\n",
    "    for s in mt_df[hue].unique().tolist():\n",
    "        temp = mt_df.loc[mt_df[hue] == s]\n",
    "        \n",
    "        # get correlations for expressed transcripts only\n",
    "        x = temp.loc[temp[c].notnull(), c1].tolist()\n",
    "        y = temp.loc[temp[c].notnull(), c].tolist()\n",
    "        r, r_p = st.pearsonr(x, y)\n",
    "        rho, rho_p = st.spearmanr(x, y)\n",
    "    \n",
    "        pearsons.append(r)\n",
    "        spearmans.append(rho)\n",
    "        samples.append(c.split('_')[0])\n",
    "        novs.append(s)"
   ]
  },
  {
   "cell_type": "code",
   "execution_count": null,
   "id": "11d07ee1-fc64-4d9d-a414-e9ffdef1db3d",
   "metadata": {},
   "outputs": [],
   "source": [
    "temp = pd.DataFrame({'pearson': pearsons, \n",
    "                     'spearman': spearmans,\n",
    "                     'sample': samples,\n",
    "                     hue: novs})"
   ]
  },
  {
   "cell_type": "code",
   "execution_count": null,
   "id": "d8903cd6-9132-4121-ad4f-cc04854c9a9e",
   "metadata": {},
   "outputs": [],
   "source": [
    "p_c_dict, p_order = get_population_colors()\n",
    "temp['population'] = temp['sample'].str.slice(0,3)"
   ]
  },
  {
   "cell_type": "code",
   "execution_count": null,
   "id": "e5493658-c40f-47f2-a95b-7c15a6bf410f",
   "metadata": {},
   "outputs": [],
   "source": [
    "(ggplot(temp, aes(x='structural_category_2', y='pearson', fill='structural_category_2'))\n",
    " +geom_violin(alpha=0.7)\n",
    " +geom_boxplot(outlier_size=0, width=0.1)\n",
    " +geom_jitter(aes(fill='population', color='population'),\n",
    "              size=1.5, alpha=0.5, width=0.25)\n",
    " +scale_color_manual(values=p_c_dict)\n",
    " +scale_fill_manual(values=c_dict|p_c_dict)\n",
    " +scale_x_discrete(limits=order)\n",
    " +my_theme(h=5, w=5)\n",
    " +theme(legend_box='horizontal')\n",
    " +guides(fill=\"none\")\n",
    " +labs(y='Pearson R correlation between\\ntranscript length and transcript expression',\n",
    "       x='')\n",
    " +theme(\n",
    "    axis_text_x=element_text(rotation=90))\n",
    ")"
   ]
  },
  {
   "cell_type": "code",
   "execution_count": null,
   "id": "9d7493f5-cadd-4fd9-b283-a350123546c4",
   "metadata": {},
   "outputs": [],
   "source": [
    "(ggplot(temp, aes(x='structural_category_2', y='spearman', fill='structural_category_2'))\n",
    " +geom_violin(alpha=0.7)\n",
    " +geom_boxplot(outlier_size=0, width=0.1)\n",
    " +geom_jitter(aes(fill='population', color='population'),\n",
    "              size=1.5, alpha=0.5, width=0.25)\n",
    " +scale_color_manual(values=p_c_dict)\n",
    " +scale_fill_manual(values=c_dict|p_c_dict)\n",
    " +scale_x_discrete(limits=order)\n",
    " +my_theme(h=4, w=5)\n",
    " +theme(legend_box='horizontal')\n",
    " +guides(fill=\"none\")\n",
    " +labs(y='Spearman Rho correlation between\\ntranscript length and transcript expression',\n",
    "       x='')\n",
    " +theme(\n",
    "    axis_text_x=element_text(rotation=90))\n",
    ")"
   ]
  },
  {
   "cell_type": "code",
   "execution_count": null,
   "id": "fa43417e-9ca9-4619-bf08-d56959d442a7",
   "metadata": {},
   "outputs": [],
   "source": [
    "# ones I actually care about\n",
    "cats = ['FSM', 'FSM (Promoted ISM)', 'NIC', 'NNC']\n",
    "temp2 = temp.loc[temp.structural_category_2.isin(cats)]\n",
    "c_dict, order = rm_color_cats(c_dict, order, cats)\n",
    "(ggplot(temp2, aes(x='structural_category_2', y='pearson', fill='structural_category_2'))\n",
    " +geom_violin(alpha=0.7)\n",
    " +geom_boxplot(outlier_size=0, width=0.1)\n",
    " +geom_jitter(aes(fill='population', color='population'),\n",
    "              size=1.5, alpha=0.5, width=0.25)\n",
    " +scale_color_manual(values=p_c_dict)\n",
    " +scale_fill_manual(values=c_dict|p_c_dict)\n",
    " +scale_x_discrete(limits=order)\n",
    " +my_theme(h=5, w=3)\n",
    " +theme(legend_box='horizontal')\n",
    " +guides(fill=\"none\")\n",
    " +labs(y='Pearson R correlation between\\ntranscript length and transcript expression',\n",
    "       x='')\n",
    " +theme(\n",
    "    axis_text_x=element_text(rotation=90))\n",
    ")"
   ]
  },
  {
   "cell_type": "code",
   "execution_count": null,
   "id": "82d4ecb6-eadc-4151-938f-7e369324af39",
   "metadata": {},
   "outputs": [],
   "source": [
    "# ones I actually care about\n",
    "# ones I actually care about\n",
    "cats = ['FSM', 'FSM (Promoted ISM)', 'NIC', 'NNC']\n",
    "temp2 = temp.loc[temp.structural_category_2.isin(cats)]\n",
    "c_dict, order = rm_color_cats(c_dict, order, cats)\n",
    "(ggplot(temp2, aes(x='structural_category_2', y='spearman', fill='structural_category_2'))\n",
    " +geom_violin(alpha=0.7)\n",
    " +geom_boxplot(outlier_size=0, width=0.1)\n",
    " +geom_jitter(aes(fill='population', color='population'),\n",
    "              size=1.5, alpha=0.5, width=0.25)\n",
    " +scale_color_manual(values=p_c_dict)\n",
    " +scale_fill_manual(values=c_dict|p_c_dict)\n",
    " +scale_x_discrete(limits=order)\n",
    " +my_theme(h=5, w=3)\n",
    " +theme(legend_box='horizontal')\n",
    " +guides(fill=\"none\")\n",
    " +labs(y='Spearman Rho correlation between\\ntranscript length and transcript expression',\n",
    "       x='')\n",
    " +theme(\n",
    "    axis_text_x=element_text(rotation=90))\n",
    ")"
   ]
  },
  {
   "cell_type": "code",
   "execution_count": null,
   "id": "f7ca81bb-4065-48ce-b19d-00fa14900137",
   "metadata": {},
   "outputs": [],
   "source": [
    "# well, they look different but also let's check \n",
    "import itertools\n",
    "for s in list(itertools.combinations(temp2.structural_category_2.unique().tolist(), 2)):\n",
    "    x = temp2.loc[temp2.structural_category_2==s[0], 'pearson'].tolist()\n",
    "    y = temp2.loc[temp2.structural_category_2==s[1], 'pearson'].tolist()\n",
    "    stat, pval = st.mannwhitneyu(x, y)\n",
    "    # print(f'{s[0]} vs {s[1]}')\n",
    "    print(f'{s[0]} median: {np.median(x)}')\n",
    "    print(f'{s[1]} median: {np.median(y)}')\n",
    "    print(stat)\n",
    "    print(pval)\n",
    "    print()"
   ]
  },
  {
   "cell_type": "code",
   "execution_count": null,
   "id": "2cb52226-4cb7-40f8-bb1b-cfe4711e7ca3",
   "metadata": {},
   "outputs": [],
   "source": [
    "# well, they look different but also let's check \n",
    "import itertools\n",
    "for s in list(itertools.combinations(temp2.structural_category_2.unique().tolist(), 2)):\n",
    "    x = temp2.loc[temp2.structural_category_2==s[0], 'spearman'].tolist()\n",
    "    y = temp2.loc[temp2.structural_category_2==s[1], 'spearman'].tolist()\n",
    "    stat, pval = st.mannwhitneyu(x, y)\n",
    "    # print(f'{s[0]} vs {s[1]}')\n",
    "    print(f'{s[0]} median: {np.median(x)}')\n",
    "    print(f'{s[1]} median: {np.median(y)}')\n",
    "    print(stat)\n",
    "    print(pval)\n",
    "    print()"
   ]
  },
  {
   "cell_type": "code",
   "execution_count": null,
   "id": "cf092951-d9d3-4b8a-bb9d-bfcee0957758",
   "metadata": {},
   "outputs": [],
   "source": []
  }
 ],
 "metadata": {
  "kernelspec": {
   "display_name": "Python 3 (ipykernel)",
   "language": "python",
   "name": "python3"
  },
  "language_info": {
   "codemirror_mode": {
    "name": "ipython",
    "version": 3
   },
   "file_extension": ".py",
   "mimetype": "text/x-python",
   "name": "python",
   "nbconvert_exporter": "python",
   "pygments_lexer": "ipython3",
   "version": "3.12.5"
  }
 },
 "nbformat": 4,
 "nbformat_minor": 5
}
