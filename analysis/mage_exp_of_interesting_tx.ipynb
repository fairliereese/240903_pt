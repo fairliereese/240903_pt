{
 "cells": [
  {
   "cell_type": "code",
   "execution_count": 1,
   "id": "a39fdd76-a879-4680-95c6-41aa7de06918",
   "metadata": {},
   "outputs": [],
   "source": [
    "import pandas as pd\n",
    "import numpy as np\n",
    "import scipy.stats as st\n",
    "import seaborn as sns\n",
    "import sys\n",
    "import os\n",
    "import matplotlib.pyplot as plt\n",
    "import swan_vis as swan\n",
    "import yaml\n",
    "from snakemake.io import expand\n",
    "import cerberus\n",
    "import pyranges as pr\n",
    "import upsetplot\n",
    "\n",
    "p = os.path.dirname(os.getcwd())\n",
    "sys.path.append(p)\n",
    "\n",
    "from scripts.utils import *\n",
    "from scripts.vcf_utils import *\n",
    "from scripts.plotting import *"
   ]
  },
  {
   "cell_type": "code",
   "execution_count": 2,
   "id": "caf3d25a-5539-4d6a-b0b9-07d04abaa31c",
   "metadata": {},
   "outputs": [
    {
     "data": {
      "text/html": [
       "<div>\n",
       "<style scoped>\n",
       "    .dataframe tbody tr th:only-of-type {\n",
       "        vertical-align: middle;\n",
       "    }\n",
       "\n",
       "    .dataframe tbody tr th {\n",
       "        vertical-align: top;\n",
       "    }\n",
       "\n",
       "    .dataframe thead th {\n",
       "        text-align: right;\n",
       "    }\n",
       "</style>\n",
       "<table border=\"1\" class=\"dataframe\">\n",
       "  <thead>\n",
       "    <tr style=\"text-align: right;\">\n",
       "      <th></th>\n",
       "      <th>run_accession</th>\n",
       "      <th>sample_accession</th>\n",
       "      <th>experiment_accession</th>\n",
       "      <th>study_accession</th>\n",
       "      <th>tax_id</th>\n",
       "      <th>scientific_name</th>\n",
       "      <th>instrument_platform</th>\n",
       "      <th>instrument_model</th>\n",
       "      <th>experiment_alias</th>\n",
       "      <th>fastq_bytes</th>\n",
       "      <th>...</th>\n",
       "      <th>bam_bytes</th>\n",
       "      <th>sampleId</th>\n",
       "      <th>indId</th>\n",
       "      <th>batch</th>\n",
       "      <th>pop</th>\n",
       "      <th>continent</th>\n",
       "      <th>sex</th>\n",
       "      <th>sth</th>\n",
       "      <th>sth2</th>\n",
       "      <th>group</th>\n",
       "    </tr>\n",
       "  </thead>\n",
       "  <tbody>\n",
       "    <tr>\n",
       "      <th>0</th>\n",
       "      <td>SRR19762167</td>\n",
       "      <td>SAMN29221552</td>\n",
       "      <td>SRX15806983</td>\n",
       "      <td>PRJNA851328</td>\n",
       "      <td>9606</td>\n",
       "      <td>Homo sapiens</td>\n",
       "      <td>ILLUMINA</td>\n",
       "      <td>Illumina NovaSeq 6000</td>\n",
       "      <td>NA19704_batch11_rep1</td>\n",
       "      <td>1579585821;1583976496</td>\n",
       "      <td>...</td>\n",
       "      <td>NaN</td>\n",
       "      <td>NA19704</td>\n",
       "      <td>NA19704</td>\n",
       "      <td>batch11</td>\n",
       "      <td>ASW</td>\n",
       "      <td>AFR</td>\n",
       "      <td>female</td>\n",
       "      <td>SAMN29221552</td>\n",
       "      <td>SRS13499000</td>\n",
       "      <td>1</td>\n",
       "    </tr>\n",
       "    <tr>\n",
       "      <th>1</th>\n",
       "      <td>SRR19762172</td>\n",
       "      <td>SAMN29221523</td>\n",
       "      <td>SRX15806979</td>\n",
       "      <td>PRJNA851328</td>\n",
       "      <td>9606</td>\n",
       "      <td>Homo sapiens</td>\n",
       "      <td>ILLUMINA</td>\n",
       "      <td>Illumina NovaSeq 6000</td>\n",
       "      <td>NA19332_batch14_rep1</td>\n",
       "      <td>1969985537;1972458971</td>\n",
       "      <td>...</td>\n",
       "      <td>NaN</td>\n",
       "      <td>NA19332</td>\n",
       "      <td>NA19332</td>\n",
       "      <td>batch14</td>\n",
       "      <td>LWK</td>\n",
       "      <td>AFR</td>\n",
       "      <td>female</td>\n",
       "      <td>SAMN29221523</td>\n",
       "      <td>SRS13498996</td>\n",
       "      <td>1</td>\n",
       "    </tr>\n",
       "    <tr>\n",
       "      <th>2</th>\n",
       "      <td>SRR19762173</td>\n",
       "      <td>SAMN29221521</td>\n",
       "      <td>SRX15806977</td>\n",
       "      <td>PRJNA851328</td>\n",
       "      <td>9606</td>\n",
       "      <td>Homo sapiens</td>\n",
       "      <td>ILLUMINA</td>\n",
       "      <td>Illumina NovaSeq 6000</td>\n",
       "      <td>NA19317_batch15_rep1</td>\n",
       "      <td>1387073734;1388216521</td>\n",
       "      <td>...</td>\n",
       "      <td>NaN</td>\n",
       "      <td>NA19317</td>\n",
       "      <td>NA19317</td>\n",
       "      <td>batch15</td>\n",
       "      <td>LWK</td>\n",
       "      <td>AFR</td>\n",
       "      <td>male</td>\n",
       "      <td>SAMN29221521</td>\n",
       "      <td>SRS13498994</td>\n",
       "      <td>1</td>\n",
       "    </tr>\n",
       "    <tr>\n",
       "      <th>3</th>\n",
       "      <td>SRR19762174</td>\n",
       "      <td>SAMN29221520</td>\n",
       "      <td>SRX15806976</td>\n",
       "      <td>PRJNA851328</td>\n",
       "      <td>9606</td>\n",
       "      <td>Homo sapiens</td>\n",
       "      <td>ILLUMINA</td>\n",
       "      <td>Illumina NovaSeq 6000</td>\n",
       "      <td>NA19312_batch05_rep1</td>\n",
       "      <td>2814206811;2808461053</td>\n",
       "      <td>...</td>\n",
       "      <td>NaN</td>\n",
       "      <td>NA19312</td>\n",
       "      <td>NA19312</td>\n",
       "      <td>batch05</td>\n",
       "      <td>LWK</td>\n",
       "      <td>AFR</td>\n",
       "      <td>male</td>\n",
       "      <td>SAMN29221520</td>\n",
       "      <td>SRS13498993</td>\n",
       "      <td>1</td>\n",
       "    </tr>\n",
       "    <tr>\n",
       "      <th>4</th>\n",
       "      <td>SRR19762175</td>\n",
       "      <td>SAMN29221522</td>\n",
       "      <td>SRX15806978</td>\n",
       "      <td>PRJNA851328</td>\n",
       "      <td>9606</td>\n",
       "      <td>Homo sapiens</td>\n",
       "      <td>ILLUMINA</td>\n",
       "      <td>Illumina NovaSeq 6000</td>\n",
       "      <td>NA19323_batch11_rep1</td>\n",
       "      <td>1589064552;1592540862</td>\n",
       "      <td>...</td>\n",
       "      <td>NaN</td>\n",
       "      <td>NA19323</td>\n",
       "      <td>NA19323</td>\n",
       "      <td>batch11</td>\n",
       "      <td>LWK</td>\n",
       "      <td>AFR</td>\n",
       "      <td>female</td>\n",
       "      <td>SAMN29221522</td>\n",
       "      <td>SRS13498995</td>\n",
       "      <td>1</td>\n",
       "    </tr>\n",
       "  </tbody>\n",
       "</table>\n",
       "<p>5 rows × 27 columns</p>\n",
       "</div>"
      ],
      "text/plain": [
       "  run_accession sample_accession experiment_accession study_accession  tax_id  \\\n",
       "0   SRR19762167     SAMN29221552          SRX15806983     PRJNA851328    9606   \n",
       "1   SRR19762172     SAMN29221523          SRX15806979     PRJNA851328    9606   \n",
       "2   SRR19762173     SAMN29221521          SRX15806977     PRJNA851328    9606   \n",
       "3   SRR19762174     SAMN29221520          SRX15806976     PRJNA851328    9606   \n",
       "4   SRR19762175     SAMN29221522          SRX15806978     PRJNA851328    9606   \n",
       "\n",
       "  scientific_name instrument_platform       instrument_model  \\\n",
       "0    Homo sapiens            ILLUMINA  Illumina NovaSeq 6000   \n",
       "1    Homo sapiens            ILLUMINA  Illumina NovaSeq 6000   \n",
       "2    Homo sapiens            ILLUMINA  Illumina NovaSeq 6000   \n",
       "3    Homo sapiens            ILLUMINA  Illumina NovaSeq 6000   \n",
       "4    Homo sapiens            ILLUMINA  Illumina NovaSeq 6000   \n",
       "\n",
       "       experiment_alias            fastq_bytes  ... bam_bytes  sampleId  \\\n",
       "0  NA19704_batch11_rep1  1579585821;1583976496  ...       NaN   NA19704   \n",
       "1  NA19332_batch14_rep1  1969985537;1972458971  ...       NaN   NA19332   \n",
       "2  NA19317_batch15_rep1  1387073734;1388216521  ...       NaN   NA19317   \n",
       "3  NA19312_batch05_rep1  2814206811;2808461053  ...       NaN   NA19312   \n",
       "4  NA19323_batch11_rep1  1589064552;1592540862  ...       NaN   NA19323   \n",
       "\n",
       "     indId    batch  pop continent     sex           sth         sth2 group  \n",
       "0  NA19704  batch11  ASW       AFR  female  SAMN29221552  SRS13499000     1  \n",
       "1  NA19332  batch14  LWK       AFR  female  SAMN29221523  SRS13498996     1  \n",
       "2  NA19317  batch15  LWK       AFR    male  SAMN29221521  SRS13498994     1  \n",
       "3  NA19312  batch05  LWK       AFR    male  SAMN29221520  SRS13498993     1  \n",
       "4  NA19323  batch11  LWK       AFR  female  SAMN29221522  SRS13498995     1  \n",
       "\n",
       "[5 rows x 27 columns]"
      ]
     },
     "execution_count": 2,
     "metadata": {},
     "output_type": "execute_result"
    }
   ],
   "source": [
    "# metadata \n",
    "# get sampleId, indId, group, batch, run from metadata tables\n",
    "meta_file = '../snakemake/mage/filereport_read_run_PRJNA851328_tsv.txt'\n",
    "meta = pd.read_csv(meta_file, sep='\\t')\n",
    "\n",
    "meta['sampleId'] = meta['indId'] = meta.experiment_alias.str.split('_', expand=True)[0]\n",
    "meta['batch'] = meta.experiment_alias.str.split('_', expand=True)[1]\n",
    "\n",
    "\n",
    "meta_file = '../snakemake/mage/sample_metadata_parsed.tsv'\n",
    "df2 = pd.read_csv(meta_file, sep=' ', header=None)\n",
    "df2.columns = ['sampleId', 'pop', 'continent', 'sex', 'sth', 'sth2']\n",
    "\n",
    "meta = meta.merge(df2, how='left',\n",
    "              on='sampleId')\n",
    "meta['group'] = 1 # all the same group because we don't want to call sqtls separately for anything\n",
    "meta[['sampleId', 'indId', 'group', 'batch', 'sex', 'pop', 'continent', 'experiment_alias']].head()\n",
    "meta.head()"
   ]
  },
  {
   "cell_type": "markdown",
   "id": "3ab76217-6859-4dd5-8e9b-3f6c6c186104",
   "metadata": {},
   "source": [
    "## Enhanced GENCODE"
   ]
  },
  {
   "cell_type": "markdown",
   "id": "a7aa762f-400d-40a5-bfad-b201ec73c26c",
   "metadata": {},
   "source": [
    "### What % of our pop-spec disc. transcripts are expressed?"
   ]
  },
  {
   "cell_type": "code",
   "execution_count": 22,
   "id": "0b9ff4c6-3e92-4744-8ba1-8078add4660c",
   "metadata": {},
   "outputs": [],
   "source": [
    "df = pd.read_csv('../data/mage/enh_v47_kallisto/matrix.abundance.tpm.tsv', sep='\\t')"
   ]
  },
  {
   "cell_type": "code",
   "execution_count": 23,
   "id": "358ddee8-4a85-4b21-83be-91a7c664bc8a",
   "metadata": {},
   "outputs": [],
   "source": [
    "df.set_index('transcript_id', inplace=True)"
   ]
  },
  {
   "cell_type": "code",
   "execution_count": 24,
   "id": "c35ca520-f978-4aea-8b61-e0142c2aa9bb",
   "metadata": {},
   "outputs": [
    {
     "name": "stdout",
     "output_type": "stream",
     "text": [
      "429241\n",
      "172599\n"
     ]
    }
   ],
   "source": [
    "min_cpm = 1\n",
    "print(len(df.index))\n",
    "df = df.loc[(df>=min_cpm).any(axis=1)]\n",
    "print(len(df.index))"
   ]
  },
  {
   "cell_type": "code",
   "execution_count": 25,
   "id": "5f6c42ce-5a22-4928-9ea7-1bded8713cb4",
   "metadata": {},
   "outputs": [],
   "source": [
    "# merge in pop spec t\n",
    "mt_df = pd.read_csv('../data/05_mastertable/poder_master_table_fixed_genics.tsv', sep='\\t')\n",
    "# mt_df = mt_df.loc[mt_df['filter']=='pass']\n",
    "mt_df['pop_spec_t'] = (mt_df.population_sharing==1)&\\\n",
    "                      (mt_df.sample_sharing>1)"
   ]
  },
  {
   "cell_type": "code",
   "execution_count": 26,
   "id": "cb1b35e5-aba2-43f4-844a-ca9917937bb6",
   "metadata": {},
   "outputs": [],
   "source": [
    "df = df.merge(mt_df[['isoform', 'pop_spec_t']], \n",
    "                      how='left', \n",
    "                      left_on='transcript_id',\n",
    "                      right_on='isoform')"
   ]
  },
  {
   "cell_type": "code",
   "execution_count": 27,
   "id": "f3d38fbc-bc1f-46f0-94f9-7e1013ee009e",
   "metadata": {},
   "outputs": [
    {
     "name": "stdout",
     "output_type": "stream",
     "text": [
      "28.41% (644/2267) LR-RNA-seq pop-spec. discovered transcripts expressed => 1 CPM in >= 1 sample\n"
     ]
    }
   ],
   "source": [
    "n_tot = len(mt_df.loc[mt_df.pop_spec_t==True])\n",
    "n = len(df.loc[df.pop_spec_t == True].index)\n",
    "print(f'{(n/n_tot)*100:.2f}% ({n}/{n_tot}) LR-RNA-seq pop-spec. discovered transcripts expressed => {min_cpm} CPM in >= 1 sample')"
   ]
  },
  {
   "cell_type": "markdown",
   "id": "c8d35cce-1638-40ca-9dea-bc01abd794a4",
   "metadata": {},
   "source": [
    "### What about just novel transcritps?"
   ]
  },
  {
   "cell_type": "code",
   "execution_count": 29,
   "id": "fe036a6a-ef2b-4411-af74-46b966899f65",
   "metadata": {},
   "outputs": [],
   "source": [
    "df = df.merge(mt_df[['isoform', 'annotated']], \n",
    "                      how='left', \n",
    "                      on='isoform')"
   ]
  },
  {
   "cell_type": "code",
   "execution_count": 33,
   "id": "a792673f-8807-4268-94a6-e4a81c5d730f",
   "metadata": {},
   "outputs": [
    {
     "name": "stdout",
     "output_type": "stream",
     "text": [
      "24.87% (36222/145620) LR-RNA-seq novel discovered transcripts expressed => 1 CPM in >= 1 sample\n"
     ]
    }
   ],
   "source": [
    "n_tot = len(mt_df.loc[mt_df.annotated=='discovered'])\n",
    "n = len(df.loc[df.annotated == 'discovered'].index)\n",
    "print(f'{(n/n_tot)*100:.2f}% ({n}/{n_tot}) LR-RNA-seq novel discovered transcripts expressed => {min_cpm} CPM in >= 1 sample')"
   ]
  },
  {
   "cell_type": "code",
   "execution_count": null,
   "id": "e4b7b047-aa44-4774-ae0f-c204a882fbf3",
   "metadata": {},
   "outputs": [],
   "source": []
  }
 ],
 "metadata": {
  "kernelspec": {
   "display_name": "Python 3",
   "language": "python",
   "name": "python3"
  },
  "language_info": {
   "codemirror_mode": {
    "name": "ipython",
    "version": 3
   },
   "file_extension": ".py",
   "mimetype": "text/x-python",
   "name": "python",
   "nbconvert_exporter": "python",
   "pygments_lexer": "ipython3",
   "version": "3.7.12"
  }
 },
 "nbformat": 4,
 "nbformat_minor": 5
}
