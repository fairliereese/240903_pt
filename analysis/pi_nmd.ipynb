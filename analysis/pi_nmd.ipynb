{
 "cells": [
  {
   "cell_type": "markdown",
   "id": "640fb2d6-2289-4406-8650-195f758eda15",
   "metadata": {},
   "source": [
    "## Compute pi values for protein coding genes for isoforms that are NMD vs. not"
   ]
  },
  {
   "cell_type": "code",
   "execution_count": 1,
   "id": "7c273d9b-472b-499d-bf6a-95973bdaf8a7",
   "metadata": {},
   "outputs": [],
   "source": [
    "import pandas as pd\n",
    "import numpy as np\n",
    "import scipy.stats as st\n",
    "import seaborn as sns\n",
    "import sys\n",
    "import os\n",
    "import matplotlib.pyplot as plt\n",
    "import swan_vis as swan\n",
    "import yaml\n",
    "from snakemake.io import expand\n",
    "import cerberus\n",
    "import pyranges as pr\n",
    "import upsetplot\n",
    "\n",
    "p = os.path.dirname(os.getcwd())\n",
    "sys.path.append(p)\n",
    "\n",
    "from scripts.utils import *\n",
    "from scripts.vcf_utils import *\n",
    "from scripts.plotting import *"
   ]
  },
  {
   "cell_type": "code",
   "execution_count": 2,
   "id": "107d5833-2581-4c46-af13-635e2154261c",
   "metadata": {},
   "outputs": [],
   "source": [
    "config = load_config()\n",
    "od = '../'\n",
    "\n",
    "def proc_cfg(entry, od):\n",
    "    entry = entry.replace('../../', '')\n",
    "    entry = od+entry\n",
    "    return entry"
   ]
  },
  {
   "cell_type": "code",
   "execution_count": 4,
   "id": "f551260c-f622-483f-bcae-b37cc679712a",
   "metadata": {},
   "outputs": [],
   "source": [
    "# master table\n",
    "mt_df = pd.read_csv('../data/05_mastertable/master_table.tsv', sep='\\t')\n",
    "mt_df = mt_df.loc[mt_df['filter']=='pass']\n",
    "mt_df['pop_spec_t'] = (mt_df.population_sharing==1)&\\\n",
    "                      (mt_df.sample_sharing>1)"
   ]
  },
  {
   "cell_type": "code",
   "execution_count": 5,
   "id": "8a721655-24e7-4942-9570-4a6c082a3ae5",
   "metadata": {},
   "outputs": [],
   "source": [
    "def get_melted_pi_counts_table(ver='poder', min_t_cpm=None):\n",
    "    assemblies = ['same_population_sample', 'afr_sample', 'european_sample']\n",
    "    meta = load_meta()\n",
    "    meta = meta.loc[meta.merged_run_mode==True]\n",
    "    sample_d = dict([(entry.cell_line_id, entry['sample']) \\\n",
    "                     for ind, entry in meta.iterrows()])\n",
    "    \n",
    "    \n",
    "    if ver == 'poder':\n",
    "        f = expand(proc_cfg(config['lr']['kallisto']['quant']['merge_matrix_tpm_tsv'],od))[0]\n",
    "    elif ver == 'v47':\n",
    "        f = expand(proc_cfg(config['lr']['v47_kallisto']['quant']['merge_matrix_tpm_tsv'],od))[0]\n",
    "    df = pd.read_csv(f, sep='\\t')\n",
    "    df.head()\n",
    "    df.columns = [d if d == 'transcript_id' else d.split('_')[0] for d in df.columns]\n",
    "    df.rename({'transcript_id':'tid'}, axis=1, inplace=True)\n",
    "    df.rename(sample_d, axis=1, inplace=True)\n",
    "\n",
    "    \n",
    "    id_vars = ['tid']\n",
    "    sample_columns = list(set(df.columns)-set(id_vars))\n",
    "    tpm_df = df.melt(id_vars=id_vars, value_vars=sample_columns, \n",
    "                      var_name='sample', value_name='t_tpm')\n",
    "    tpm_df = tpm_df.merge(meta[['sample', 'population']],\n",
    "                          how='left', on='sample')\n",
    "    tpm_df.head()\n",
    "    \n",
    "    if ver == 'poder':\n",
    "        f = '../data/analysis/04_relative_abundances_allgenes_pantrx.tsv'\n",
    "    elif ver == 'v47':\n",
    "        f = '../data/analysis/04_relative_abundances_allgenes_gencode.tsv'\n",
    "    df = pd.read_csv(f, sep='\\t')\n",
    "    df.sort_values(by='geneid.v').head()\n",
    "    df.rename({'geneid.v':'gid', 'transcriptid.v':'tid'}, axis=1, inplace=True)\n",
    "    id_vars = ['tid', 'gid']\n",
    "    sample_columns = list(set(df.columns)-set(id_vars))\n",
    "    df = df.melt(id_vars=id_vars, value_vars=sample_columns, \n",
    "                      var_name='sample', value_name='pi')\n",
    "\n",
    "    \n",
    "    # filter based on min. cpm\n",
    "    df = df.merge(tpm_df, how='left',\n",
    "                  on=['tid', 'sample'])\n",
    "    \n",
    "    \n",
    "    # add gene expression\n",
    "    ver = 'poder'\n",
    "    if ver == 'poder':\n",
    "        f = expand(proc_cfg(config['lr']['kallisto']['quant']['gene_tsv'],od))[0]\n",
    "    elif ver == 'v47':\n",
    "        f = expand(proc_cfg(config['lr']['v47_kallisto']['quant']['gene_tsv'],od))[0]\n",
    "    gene_df = pd.read_csv(f, sep='\\t')\n",
    "    gene_df.head()\n",
    "    gene_df.sort_values(by='geneid.v').head()\n",
    "    gene_df.rename({'geneid.v':'gid'}, axis=1, inplace=True)\n",
    "    id_vars = ['gid']\n",
    "    sample_columns = list(set(gene_df.columns)-set(id_vars))\n",
    "    gene_df = gene_df.melt(id_vars=id_vars, value_vars=sample_columns, \n",
    "                      var_name='sample', value_name='g_counts')\n",
    "    gene_df.head()\n",
    "    \n",
    "    # filter based on min. cpm\n",
    "    df = df.merge(gene_df, how='left',\n",
    "                  on=['gid', 'sample'])\n",
    "    \n",
    "    \n",
    "    if min_t_cpm:\n",
    "        df = df.loc[df.t_tpm >= min_t_cpm]\n",
    "        \n",
    "    return df"
   ]
  },
  {
   "cell_type": "code",
   "execution_count": null,
   "id": "169387fb-9be4-44c9-9d95-39b930283bb4",
   "metadata": {},
   "outputs": [],
   "source": [
    "df = get_melted_pi_counts_table()\n"
   ]
  }
 ],
 "metadata": {
  "kernelspec": {
   "display_name": "Python 3",
   "language": "python",
   "name": "python3"
  },
  "language_info": {
   "codemirror_mode": {
    "name": "ipython",
    "version": 3
   },
   "file_extension": ".py",
   "mimetype": "text/x-python",
   "name": "python",
   "nbconvert_exporter": "python",
   "pygments_lexer": "ipython3",
   "version": "3.7.12"
  }
 },
 "nbformat": 4,
 "nbformat_minor": 5
}
