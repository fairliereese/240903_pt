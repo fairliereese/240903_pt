{
 "cells": [
  {
   "cell_type": "code",
   "execution_count": 1,
   "id": "72d40099-e09a-4f43-b464-ddbfff02117f",
   "metadata": {},
   "outputs": [],
   "source": [
    "import pandas as pd"
   ]
  },
  {
   "cell_type": "code",
   "execution_count": 29,
   "id": "290f3b95-1c30-4ea0-80a7-c0df8fe4ea36",
   "metadata": {},
   "outputs": [
    {
     "data": {
      "text/html": [
       "<div>\n",
       "<style scoped>\n",
       "    .dataframe tbody tr th:only-of-type {\n",
       "        vertical-align: middle;\n",
       "    }\n",
       "\n",
       "    .dataframe tbody tr th {\n",
       "        vertical-align: top;\n",
       "    }\n",
       "\n",
       "    .dataframe thead th {\n",
       "        text-align: right;\n",
       "    }\n",
       "</style>\n",
       "<table border=\"1\" class=\"dataframe\">\n",
       "  <thead>\n",
       "    <tr style=\"text-align: right;\">\n",
       "      <th></th>\n",
       "      <th>chr</th>\n",
       "      <th>new_chr</th>\n",
       "      <th>suff</th>\n",
       "    </tr>\n",
       "  </thead>\n",
       "  <tbody>\n",
       "    <tr>\n",
       "      <th>0</th>\n",
       "      <td>chr1</td>\n",
       "      <td>chr1</td>\n",
       "      <td></td>\n",
       "    </tr>\n",
       "    <tr>\n",
       "      <th>1</th>\n",
       "      <td>chr10</td>\n",
       "      <td>chr10</td>\n",
       "      <td></td>\n",
       "    </tr>\n",
       "    <tr>\n",
       "      <th>2</th>\n",
       "      <td>chr11</td>\n",
       "      <td>chr11</td>\n",
       "      <td></td>\n",
       "    </tr>\n",
       "    <tr>\n",
       "      <th>3</th>\n",
       "      <td>chr11_KI270721v1_random</td>\n",
       "      <td>KI270721.1</td>\n",
       "      <td>1</td>\n",
       "    </tr>\n",
       "    <tr>\n",
       "      <th>4</th>\n",
       "      <td>chr12</td>\n",
       "      <td>chr12</td>\n",
       "      <td></td>\n",
       "    </tr>\n",
       "  </tbody>\n",
       "</table>\n",
       "</div>"
      ],
      "text/plain": [
       "                       chr     new_chr suff\n",
       "0                     chr1        chr1     \n",
       "1                    chr10       chr10     \n",
       "2                    chr11       chr11     \n",
       "3  chr11_KI270721v1_random  KI270721.1    1\n",
       "4                    chr12       chr12     "
      ]
     },
     "execution_count": 29,
     "metadata": {},
     "output_type": "execute_result"
    }
   ],
   "source": [
    "enc_chr = pd.read_csv('enc_chromosomes.txt', header=None)\n",
    "enc_chr.columns = ['chr']\n",
    "\n",
    "enc_chr.head()\n",
    "enc_chr['new_chr'] = enc_chr['chr'].tolist()\n",
    "enc_chr['suff'] = ''\n",
    "\n",
    "inds = enc_chr.loc[enc_chr.chr.str.contains('_')].index\n",
    "enc_chr.loc[inds, 'new_chr'] = enc_chr.loc[inds].new_chr.str.split('_', expand=True)[1]\n",
    "enc_chr.loc[inds, 'new_chr'] = enc_chr.loc[inds].new_chr.str.split('v', expand=True)[0]\n",
    "enc_chr.loc[inds, 'suff'] = enc_chr.loc[inds].chr.str.split('v', expand=True)[1].str.split('_', expand=True)[0]\n",
    "\n",
    "enc_chr.loc[inds, 'new_chr'] = enc_chr.loc[inds, 'new_chr']+'.'+enc_chr.loc[inds, 'suff']\n",
    "enc_chr.head()"
   ]
  },
  {
   "cell_type": "code",
   "execution_count": 30,
   "id": "32b2912a-f7bc-4147-b466-643a21299c06",
   "metadata": {},
   "outputs": [
    {
     "data": {
      "text/html": [
       "<div>\n",
       "<style scoped>\n",
       "    .dataframe tbody tr th:only-of-type {\n",
       "        vertical-align: middle;\n",
       "    }\n",
       "\n",
       "    .dataframe tbody tr th {\n",
       "        vertical-align: top;\n",
       "    }\n",
       "\n",
       "    .dataframe thead th {\n",
       "        text-align: right;\n",
       "    }\n",
       "</style>\n",
       "<table border=\"1\" class=\"dataframe\">\n",
       "  <thead>\n",
       "    <tr style=\"text-align: right;\">\n",
       "      <th></th>\n",
       "      <th>chr</th>\n",
       "    </tr>\n",
       "  </thead>\n",
       "  <tbody>\n",
       "    <tr>\n",
       "      <th>0</th>\n",
       "      <td>ERCC-00002</td>\n",
       "    </tr>\n",
       "    <tr>\n",
       "      <th>1</th>\n",
       "      <td>ERCC-00003</td>\n",
       "    </tr>\n",
       "    <tr>\n",
       "      <th>2</th>\n",
       "      <td>ERCC-00004</td>\n",
       "    </tr>\n",
       "    <tr>\n",
       "      <th>3</th>\n",
       "      <td>ERCC-00009</td>\n",
       "    </tr>\n",
       "    <tr>\n",
       "      <th>4</th>\n",
       "      <td>ERCC-00012</td>\n",
       "    </tr>\n",
       "  </tbody>\n",
       "</table>\n",
       "</div>"
      ],
      "text/plain": [
       "          chr\n",
       "0  ERCC-00002\n",
       "1  ERCC-00003\n",
       "2  ERCC-00004\n",
       "3  ERCC-00009\n",
       "4  ERCC-00012"
      ]
     },
     "execution_count": 30,
     "metadata": {},
     "output_type": "execute_result"
    }
   ],
   "source": [
    "ch = pd.read_csv('chromosomes.txt', header=None)\n",
    "ch.columns = ['chr']\n",
    "ch.head()"
   ]
  },
  {
   "cell_type": "code",
   "execution_count": 31,
   "id": "58fca1df-d138-4888-97ef-a4f0edd10eb3",
   "metadata": {},
   "outputs": [
    {
     "data": {
      "text/html": [
       "<div>\n",
       "<style scoped>\n",
       "    .dataframe tbody tr th:only-of-type {\n",
       "        vertical-align: middle;\n",
       "    }\n",
       "\n",
       "    .dataframe tbody tr th {\n",
       "        vertical-align: top;\n",
       "    }\n",
       "\n",
       "    .dataframe thead th {\n",
       "        text-align: right;\n",
       "    }\n",
       "</style>\n",
       "<table border=\"1\" class=\"dataframe\">\n",
       "  <thead>\n",
       "    <tr style=\"text-align: right;\">\n",
       "      <th></th>\n",
       "      <th>chr</th>\n",
       "      <th>new_chr</th>\n",
       "      <th>suff</th>\n",
       "    </tr>\n",
       "  </thead>\n",
       "  <tbody>\n",
       "    <tr>\n",
       "      <th>31</th>\n",
       "      <td>chrEBV</td>\n",
       "      <td>chrEBV</td>\n",
       "      <td></td>\n",
       "    </tr>\n",
       "  </tbody>\n",
       "</table>\n",
       "</div>"
      ],
      "text/plain": [
       "       chr new_chr suff\n",
       "31  chrEBV  chrEBV     "
      ]
     },
     "execution_count": 31,
     "metadata": {},
     "output_type": "execute_result"
    }
   ],
   "source": [
    "enc_chr.loc[~enc_chr.new_chr.isin(ch.chr.unique().tolist())]"
   ]
  },
  {
   "cell_type": "code",
   "execution_count": 21,
   "id": "e7c88a46-2b12-4e51-a52b-a684342e8b7b",
   "metadata": {},
   "outputs": [
    {
     "data": {
      "text/html": [
       "<div>\n",
       "<style scoped>\n",
       "    .dataframe tbody tr th:only-of-type {\n",
       "        vertical-align: middle;\n",
       "    }\n",
       "\n",
       "    .dataframe tbody tr th {\n",
       "        vertical-align: top;\n",
       "    }\n",
       "\n",
       "    .dataframe thead th {\n",
       "        text-align: right;\n",
       "    }\n",
       "</style>\n",
       "<table border=\"1\" class=\"dataframe\">\n",
       "  <thead>\n",
       "    <tr style=\"text-align: right;\">\n",
       "      <th></th>\n",
       "      <th>chr</th>\n",
       "    </tr>\n",
       "  </thead>\n",
       "  <tbody>\n",
       "    <tr>\n",
       "      <th>95</th>\n",
       "      <td>GL000195.1</td>\n",
       "    </tr>\n",
       "  </tbody>\n",
       "</table>\n",
       "</div>"
      ],
      "text/plain": [
       "           chr\n",
       "95  GL000195.1"
      ]
     },
     "execution_count": 21,
     "metadata": {},
     "output_type": "execute_result"
    }
   ],
   "source": [
    "ch.loc[ch.chr.str.contains('GL000195')]"
   ]
  },
  {
   "cell_type": "code",
   "execution_count": 16,
   "id": "93c4fba8-d428-45d4-b239-0f66f94411b3",
   "metadata": {},
   "outputs": [
    {
     "data": {
      "text/plain": [
       "array(['1'], dtype=object)"
      ]
     },
     "execution_count": 16,
     "metadata": {},
     "output_type": "execute_result"
    }
   ],
   "source": [
    "ch.loc[ch.chr.str.startswith('K'), 'chr'].str.split('.', expand=True)[1].unique()"
   ]
  },
  {
   "cell_type": "code",
   "execution_count": null,
   "id": "33ed6d5f-9393-4b9e-8c6e-7315b0558ab9",
   "metadata": {},
   "outputs": [],
   "source": [
    "enc_chr.to_csv('rename_chrom.tsv', sep='\\t')"
   ]
  }
 ],
 "metadata": {
  "kernelspec": {
   "display_name": "Python 3",
   "language": "python",
   "name": "python3"
  },
  "language_info": {
   "codemirror_mode": {
    "name": "ipython",
    "version": 3
   },
   "file_extension": ".py",
   "mimetype": "text/x-python",
   "name": "python",
   "nbconvert_exporter": "python",
   "pygments_lexer": "ipython3",
   "version": "3.7.12"
  }
 },
 "nbformat": 4,
 "nbformat_minor": 5
}
