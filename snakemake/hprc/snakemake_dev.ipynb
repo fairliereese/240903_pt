{
 "cells": [
  {
   "cell_type": "code",
   "execution_count": 1,
   "id": "2ff861a7-bb1d-4d52-b7ff-892186f18125",
   "metadata": {},
   "outputs": [],
   "source": [
    "import pandas as pd\n",
    "import numpy as np\n",
    "import scipy.stats as st\n",
    "import seaborn as sns\n",
    "import sys\n",
    "import os\n",
    "import matplotlib.pyplot as plt\n",
    "import swan_vis as swan\n",
    "import yaml\n",
    "from snakemake.io import expand\n",
    "import cerberus\n",
    "import pyranges as pr\n",
    "import upsetplot\n",
    "\n",
    "p = os.path.dirname(os.path.dirname(os.getcwd()))\n",
    "sys.path.append(p)\n",
    "\n",
    "from scripts.utils import *\n",
    "from scripts.vcf_utils import *\n",
    "from scripts.plotting import *\n",
    "from scripts.sm_utils import *"
   ]
  },
  {
   "cell_type": "code",
   "execution_count": 2,
   "id": "a43cd840-b2eb-4bc0-8c68-5a8579f0f001",
   "metadata": {},
   "outputs": [],
   "source": [
    "config = load_config()\n",
    "od = ''\n",
    "\n",
    "def proc_cfg(entry, od):\n",
    "    entry = entry.replace('../../', '')\n",
    "    entry = od+entry\n",
    "    return entry"
   ]
  },
  {
   "cell_type": "markdown",
   "id": "30d94e76-4156-41dc-81b8-dbd9bee0f266",
   "metadata": {},
   "source": [
    "## 250317 merge bams expands"
   ]
  },
  {
   "cell_type": "code",
   "execution_count": 12,
   "id": "c5198da5-9580-4903-9024-44e8c00d5868",
   "metadata": {},
   "outputs": [],
   "source": [
    "df = pd.read_csv('data_kinnex_pre_release.index.csv', sep=',')\n",
    "df['sample_rep'] = df['sample_id']+'_'+(df.sort_values(by=['sample_id']).groupby(['sample_id']).cumcount()+1).astype(str)\n",
    "\n",
    "# if there should be a 1:1 relationship\n",
    "def get_df_val(df, col1, col_dict):\n",
    "    temp = df.copy(deep=True)\n",
    "\n",
    "    for key, item in col_dict.items():\n",
    "        temp = temp.loc[temp[key] == item]\n",
    "\n",
    "    val = temp[col1].unique()\n",
    "    assert len(val) == 1\n",
    "    return val[0]\n",
    "\n",
    "# if you're doing a merge / gather\n",
    "def get_df_vals(df, col1, col_dict):\n",
    "    temp = df.copy(deep=True)\n",
    "\n",
    "    for key, item in col_dict.items():\n",
    "        temp = temp.loc[temp[key] == item]\n",
    "\n",
    "    val = temp[col1].unique()\n",
    "    return val"
   ]
  },
  {
   "cell_type": "code",
   "execution_count": 13,
   "id": "c3d56be8-39ab-4947-8ac8-07c6a5fdcc12",
   "metadata": {},
   "outputs": [
    {
     "data": {
      "text/plain": [
       "array(['HG00423_1', 'HG00423_2'], dtype=object)"
      ]
     },
     "execution_count": 13,
     "metadata": {},
     "output_type": "execute_result"
    }
   ],
   "source": [
    "wc = {'sample_id':'HG00423'}\n",
    "# lambda wc:\n",
    "expand(get_df_vals(df, 'sample_rep',\n",
    "                   {'sample_id':wc['sample_id']})"
   ]
  },
  {
   "cell_type": "code",
   "execution_count": null,
   "id": "a4cb7f57-2c96-4799-af83-133a7bf9d06f",
   "metadata": {},
   "outputs": [],
   "source": []
  },
  {
   "cell_type": "code",
   "execution_count": null,
   "id": "2f251026-84ae-4f6c-87b4-122c64164ad2",
   "metadata": {},
   "outputs": [],
   "source": []
  },
  {
   "cell_type": "code",
   "execution_count": null,
   "id": "7d4bc1e8-2b04-46ef-a1b8-76ec5a3e58ba",
   "metadata": {},
   "outputs": [],
   "source": []
  },
  {
   "cell_type": "markdown",
   "id": "48846eb4-b873-4575-92d3-fd91f88a1178",
   "metadata": {},
   "source": [
    "# config prasing"
   ]
  },
  {
   "cell_type": "code",
   "execution_count": 29,
   "id": "133900bf-f989-4704-9f9f-6bf5c7cfad56",
   "metadata": {},
   "outputs": [],
   "source": [
    "df = pd.read_csv('data_kinnex_pre_release.index.csv', sep=',')\n",
    "df['sample_rep'] = df['sample_id']+'_'+(df.sort_values(by=['sample_id']).groupby(['sample_id']).cumcount()+1).astype(str)"
   ]
  },
  {
   "cell_type": "code",
   "execution_count": 37,
   "id": "332af799-2f14-4491-896c-b4dcf27139df",
   "metadata": {},
   "outputs": [
    {
     "data": {
      "text/html": [
       "<div>\n",
       "<style scoped>\n",
       "    .dataframe tbody tr th:only-of-type {\n",
       "        vertical-align: middle;\n",
       "    }\n",
       "\n",
       "    .dataframe tbody tr th {\n",
       "        vertical-align: top;\n",
       "    }\n",
       "\n",
       "    .dataframe thead th {\n",
       "        text-align: right;\n",
       "    }\n",
       "</style>\n",
       "<table border=\"1\" class=\"dataframe\">\n",
       "  <thead>\n",
       "    <tr style=\"text-align: right;\">\n",
       "      <th></th>\n",
       "      <th>path</th>\n",
       "      <th>sample_id</th>\n",
       "      <th>total_reads</th>\n",
       "      <th>filename</th>\n",
       "      <th>title</th>\n",
       "      <th>study</th>\n",
       "      <th>bioproject_accession</th>\n",
       "      <th>accession</th>\n",
       "      <th>biosample_accession</th>\n",
       "      <th>library_id</th>\n",
       "      <th>...</th>\n",
       "      <th>size_selection</th>\n",
       "      <th>design_description</th>\n",
       "      <th>polymerase_version</th>\n",
       "      <th>seq_plate_chemistry_version</th>\n",
       "      <th>pool</th>\n",
       "      <th>ntsm_score</th>\n",
       "      <th>similarity</th>\n",
       "      <th>check-flnc reads</th>\n",
       "      <th>generator_contact</th>\n",
       "      <th>sample_rep</th>\n",
       "    </tr>\n",
       "  </thead>\n",
       "  <tbody>\n",
       "    <tr>\n",
       "      <th>0</th>\n",
       "      <td>s3://human-pangenomics/working/HPRC/HG00423/ra...</td>\n",
       "      <td>HG00423</td>\n",
       "      <td>5805662</td>\n",
       "      <td>HG00423.lymph.m84046_240713_051553_s2.flnc.bam</td>\n",
       "      <td>flnc bams of PacBio HiFi iso-seq sequencing of...</td>\n",
       "      <td>SRP305758</td>\n",
       "      <td>PRJNA701308</td>\n",
       "      <td>NaN</td>\n",
       "      <td>NaN</td>\n",
       "      <td>HG00423.lymph.m84046_240713_051553_s2</td>\n",
       "      <td>...</td>\n",
       "      <td>NaN</td>\n",
       "      <td>PacBio HiFi iso-seq sequencing of cDNA kinnex ...</td>\n",
       "      <td>P1</td>\n",
       "      <td>C1</td>\n",
       "      <td>HPRC_Pool001.KN</td>\n",
       "      <td>0.183349</td>\n",
       "      <td>1</td>\n",
       "      <td>True</td>\n",
       "      <td>iviolich@ucsc.edu</td>\n",
       "      <td>HG00423_1</td>\n",
       "    </tr>\n",
       "    <tr>\n",
       "      <th>1</th>\n",
       "      <td>s3://human-pangenomics/working/HPRC/HG00423/ra...</td>\n",
       "      <td>HG00423</td>\n",
       "      <td>6354937</td>\n",
       "      <td>HG00423.lymph.m84046_240722_012946_s4.flnc.bam</td>\n",
       "      <td>flnc bams of PacBio HiFi iso-seq sequencing of...</td>\n",
       "      <td>SRP305758</td>\n",
       "      <td>PRJNA701308</td>\n",
       "      <td>NaN</td>\n",
       "      <td>NaN</td>\n",
       "      <td>HG00423.lymph.m84046_240722_012946_s4</td>\n",
       "      <td>...</td>\n",
       "      <td>NaN</td>\n",
       "      <td>PacBio HiFi iso-seq sequencing of cDNA kinnex ...</td>\n",
       "      <td>P1</td>\n",
       "      <td>C1</td>\n",
       "      <td>HPRC_Pool001.KN</td>\n",
       "      <td>0.177367</td>\n",
       "      <td>1</td>\n",
       "      <td>True</td>\n",
       "      <td>iviolich@ucsc.edu</td>\n",
       "      <td>HG00423_2</td>\n",
       "    </tr>\n",
       "  </tbody>\n",
       "</table>\n",
       "<p>2 rows × 43 columns</p>\n",
       "</div>"
      ],
      "text/plain": [
       "                                                path sample_id  total_reads  \\\n",
       "0  s3://human-pangenomics/working/HPRC/HG00423/ra...   HG00423      5805662   \n",
       "1  s3://human-pangenomics/working/HPRC/HG00423/ra...   HG00423      6354937   \n",
       "\n",
       "                                         filename  \\\n",
       "0  HG00423.lymph.m84046_240713_051553_s2.flnc.bam   \n",
       "1  HG00423.lymph.m84046_240722_012946_s4.flnc.bam   \n",
       "\n",
       "                                               title      study  \\\n",
       "0  flnc bams of PacBio HiFi iso-seq sequencing of...  SRP305758   \n",
       "1  flnc bams of PacBio HiFi iso-seq sequencing of...  SRP305758   \n",
       "\n",
       "  bioproject_accession  accession  biosample_accession  \\\n",
       "0          PRJNA701308        NaN                  NaN   \n",
       "1          PRJNA701308        NaN                  NaN   \n",
       "\n",
       "                              library_id  ... size_selection  \\\n",
       "0  HG00423.lymph.m84046_240713_051553_s2  ...            NaN   \n",
       "1  HG00423.lymph.m84046_240722_012946_s4  ...            NaN   \n",
       "\n",
       "                                  design_description polymerase_version  \\\n",
       "0  PacBio HiFi iso-seq sequencing of cDNA kinnex ...                 P1   \n",
       "1  PacBio HiFi iso-seq sequencing of cDNA kinnex ...                 P1   \n",
       "\n",
       "  seq_plate_chemistry_version             pool ntsm_score similarity  \\\n",
       "0                          C1  HPRC_Pool001.KN   0.183349          1   \n",
       "1                          C1  HPRC_Pool001.KN   0.177367          1   \n",
       "\n",
       "  check-flnc reads  generator_contact  sample_rep  \n",
       "0             True  iviolich@ucsc.edu   HG00423_1  \n",
       "1             True  iviolich@ucsc.edu   HG00423_2  \n",
       "\n",
       "[2 rows x 43 columns]"
      ]
     },
     "execution_count": 37,
     "metadata": {},
     "output_type": "execute_result"
    }
   ],
   "source": [
    "df.loc[df.sample_id=='HG00423']"
   ]
  },
  {
   "cell_type": "code",
   "execution_count": 38,
   "id": "00a597bc-f3f4-4bb9-9875-ff5922734ca1",
   "metadata": {},
   "outputs": [
    {
     "data": {
      "text/plain": [
       "'s3://human-pangenomics/working/HPRC/HG00423/raw_data/PacBio_Kinnex/HG00423.lymph.m84046_240722_012946_s4.flnc.bam'"
      ]
     },
     "execution_count": 38,
     "metadata": {},
     "output_type": "execute_result"
    }
   ],
   "source": [
    "def get_df_val(df, col1, col_dict):\n",
    "    temp = df.copy(deep=True)\n",
    "\n",
    "    for key, item in col_dict.items():\n",
    "        temp = temp.loc[temp[key] == item]\n",
    "\n",
    "    val = temp[col1].unique()\n",
    "    assert len(val) == 1\n",
    "    return val[0]\n",
    "\n",
    "wc = {'sample_rep':'HG00423_2'}\n",
    "get_df_val(df, 'path',\n",
    "                             {'sample_rep':wc['sample_rep']})\n"
   ]
  },
  {
   "cell_type": "code",
   "execution_count": null,
   "id": "a0dbdf2c-d30b-43b1-b88d-a83b6de8f972",
   "metadata": {},
   "outputs": [],
   "source": []
  },
  {
   "cell_type": "code",
   "execution_count": null,
   "id": "7fcff61d-cd10-4341-8843-33c6fc828d45",
   "metadata": {},
   "outputs": [],
   "source": []
  },
  {
   "cell_type": "code",
   "execution_count": null,
   "id": "a2017bc3-e27d-47cd-a538-a5d09fd2d040",
   "metadata": {},
   "outputs": [],
   "source": []
  },
  {
   "cell_type": "markdown",
   "id": "241a85ee-03b0-4269-b60a-135b66ff1c01",
   "metadata": {},
   "source": [
    "## Overlap w/ our samples"
   ]
  },
  {
   "cell_type": "code",
   "execution_count": 21,
   "id": "3d744b77-2706-4444-b298-eb95c7f500b8",
   "metadata": {},
   "outputs": [],
   "source": [
    "meta = load_meta()\n",
    "meta = meta.merge(df[['sample_id']], \n",
    "                  how='left',\n",
    "                  left_on='cell_line_id',\n",
    "                  right_on='sample_id')"
   ]
  },
  {
   "cell_type": "code",
   "execution_count": 22,
   "id": "9ab3f1b2-e816-455c-9d39-ea2fbfe17d94",
   "metadata": {},
   "outputs": [],
   "source": [
    "meta = meta.merge(df[['sample_id']], \n",
    "                  how='left',\n",
    "                  left_on='hapmap_DNA_ID',\n",
    "                  right_on='sample_id')"
   ]
  },
  {
   "cell_type": "code",
   "execution_count": 23,
   "id": "536087e5-bf86-434f-8372-7a0e3b821ddd",
   "metadata": {},
   "outputs": [],
   "source": [
    "meta['in_hprc_kinnex'] = meta.sample_id_x.notnull()|meta.sample_id_y.notnull()"
   ]
  },
  {
   "cell_type": "code",
   "execution_count": 25,
   "id": "3b51e03b-7b05-46b0-b438-8c4b3732a123",
   "metadata": {},
   "outputs": [],
   "source": [
    "temp = meta.loc[meta.in_hprc_kinnex==True]\n",
    "temp = temp[['cell_line_id', 'population']].groupby('population').nunique().reset_index().rename({'cell_line_id':'n_samples'}, axis=1)"
   ]
  },
  {
   "cell_type": "code",
   "execution_count": 27,
   "id": "4478d4f2-8f16-4523-a860-43c9ebd45aad",
   "metadata": {},
   "outputs": [
    {
     "data": {
      "image/png": "[encoded data removed]",
      "text/plain": [
       "<Figure size 432x288 with 1 Axes>"
      ]
     },
     "metadata": {
      "needs_background": "light"
     },
     "output_type": "display_data"
    }
   ],
   "source": [
    "init_plot_settings(aspect='rectangle')\n",
    "c_dict, order = get_population_colors()\n",
    "ax = sns.barplot(temp, y='n_samples', \n",
    "                 x='population',\n",
    "                 order=order,\n",
    "                 palette=c_dict)"
   ]
  },
  {
   "cell_type": "code",
   "execution_count": 28,
   "id": "8fa1f594-0081-4eb7-8b66-dc60ffd3706d",
   "metadata": {},
   "outputs": [
    {
     "data": {
      "text/plain": [
       "202"
      ]
     },
     "execution_count": 28,
     "metadata": {},
     "output_type": "execute_result"
    }
   ],
   "source": [
    "len(df.sample_id.unique())"
   ]
  },
  {
   "cell_type": "code",
   "execution_count": null,
   "id": "053894d3-0560-406c-a511-b424770fbc89",
   "metadata": {},
   "outputs": [],
   "source": []
  }
 ],
 "metadata": {
  "kernelspec": {
   "display_name": "Python 3",
   "language": "python",
   "name": "python3"
  },
  "language_info": {
   "codemirror_mode": {
    "name": "ipython",
    "version": 3
   },
   "file_extension": ".py",
   "mimetype": "text/x-python",
   "name": "python",
   "nbconvert_exporter": "python",
   "pygments_lexer": "ipython3",
   "version": "3.7.12"
  }
 },
 "nbformat": 4,
 "nbformat_minor": 5
}
