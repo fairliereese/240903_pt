{
 "cells": [
  {
   "cell_type": "code",
   "execution_count": 3,
   "id": "b85044f8-c661-4e4b-926e-fe3b42bf64f6",
   "metadata": {},
   "outputs": [
    {
     "name": "stdout",
     "output_type": "stream",
     "text": [
      "CEU HAC\n",
      "CEU ITU\n",
      "CEU LWK\n",
      "CEU PEL\n",
      "CEU YRI\n",
      "HAC ITU\n",
      "HAC LWK\n",
      "HAC PEL\n",
      "HAC YRI\n",
      "ITU LWK\n",
      "ITU PEL\n",
      "ITU YRI\n",
      "LWK PEL\n",
      "LWK YRI\n",
      "PEL YRI\n"
     ]
    }
   ],
   "source": [
    "import itertools\n",
    "pops = ['CEU',\n",
    "        'HAC', 'ITU', 'LWK', 'PEL', 'YRI']\n",
    "for p1, p2 in list(itertools.combinations(pops, 2)):\n",
    "    print(p1,p2)\n",
    "  "
   ]
  },
  {
   "cell_type": "code",
   "execution_count": null,
   "id": "91bcfdde-e8b4-4a03-8a2f-9b8cb80eeed3",
   "metadata": {},
   "outputs": [],
   "source": []
  }
 ],
 "metadata": {
  "kernelspec": {
   "display_name": "Python 3",
   "language": "python",
   "name": "python3"
  },
  "language_info": {
   "codemirror_mode": {
    "name": "ipython",
    "version": 3
   },
   "file_extension": ".py",
   "mimetype": "text/x-python",
   "name": "python",
   "nbconvert_exporter": "python",
   "pygments_lexer": "ipython3",
   "version": "3.7.12"
  }
 },
 "nbformat": 4,
 "nbformat_minor": 5
}
