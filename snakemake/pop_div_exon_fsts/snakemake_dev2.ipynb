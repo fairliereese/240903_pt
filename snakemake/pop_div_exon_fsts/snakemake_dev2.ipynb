{
 "cells": [
  {
   "cell_type": "code",
   "execution_count": 3,
   "id": "b85044f8-c661-4e4b-926e-fe3b42bf64f6",
   "metadata": {},
   "outputs": [
    {
     "name": "stdout",
     "output_type": "stream",
     "text": [
      "CEU HAC\n",
      "CEU ITU\n",
      "CEU LWK\n",
      "CEU PEL\n",
      "CEU YRI\n",
      "HAC ITU\n",
      "HAC LWK\n",
      "HAC PEL\n",
      "HAC YRI\n",
      "ITU LWK\n",
      "ITU PEL\n",
      "ITU YRI\n",
      "LWK PEL\n",
      "LWK YRI\n",
      "PEL YRI\n"
     ]
    }
   ],
   "source": [
    "import itertools\n",
    "pops = ['CEU',\n",
    "        'HAC', 'ITU', 'LWK', 'PEL', 'YRI']\n",
    "for p1, p2 in list(itertools.combinations(pops, 2)):\n",
    "    print(p1,p2)\n",
    "  "
   ]
  },
  {
   "cell_type": "code",
   "execution_count": 4,
   "id": "91bcfdde-e8b4-4a03-8a2f-9b8cb80eeed3",
   "metadata": {},
   "outputs": [
    {
     "data": {
      "text/html": [
       "<div>\n",
       "<style scoped>\n",
       "    .dataframe tbody tr th:only-of-type {\n",
       "        vertical-align: middle;\n",
       "    }\n",
       "\n",
       "    .dataframe tbody tr th {\n",
       "        vertical-align: top;\n",
       "    }\n",
       "\n",
       "    .dataframe thead th {\n",
       "        text-align: right;\n",
       "    }\n",
       "</style>\n",
       "<table border=\"1\" class=\"dataframe\">\n",
       "  <thead>\n",
       "    <tr style=\"text-align: right;\">\n",
       "      <th></th>\n",
       "      <th>contrast</th>\n",
       "      <th>pop1</th>\n",
       "      <th>pop2</th>\n",
       "    </tr>\n",
       "  </thead>\n",
       "  <tbody>\n",
       "    <tr>\n",
       "      <th>0</th>\n",
       "      <td>HAC_YRI</td>\n",
       "      <td>HAC</td>\n",
       "      <td>YRI</td>\n",
       "    </tr>\n",
       "    <tr>\n",
       "      <th>1</th>\n",
       "      <td>HAC_PEL</td>\n",
       "      <td>HAC</td>\n",
       "      <td>PEL</td>\n",
       "    </tr>\n",
       "    <tr>\n",
       "      <th>2</th>\n",
       "      <td>HAC_LWK</td>\n",
       "      <td>HAC</td>\n",
       "      <td>LWK</td>\n",
       "    </tr>\n",
       "    <tr>\n",
       "      <th>3</th>\n",
       "      <td>HAC_ITU</td>\n",
       "      <td>HAC</td>\n",
       "      <td>ITU</td>\n",
       "    </tr>\n",
       "    <tr>\n",
       "      <th>4</th>\n",
       "      <td>HAC_CEU</td>\n",
       "      <td>HAC</td>\n",
       "      <td>CEU</td>\n",
       "    </tr>\n",
       "  </tbody>\n",
       "</table>\n",
       "</div>"
      ],
      "text/plain": [
       "  contrast pop1 pop2\n",
       "0  HAC_YRI  HAC  YRI\n",
       "1  HAC_PEL  HAC  PEL\n",
       "2  HAC_LWK  HAC  LWK\n",
       "3  HAC_ITU  HAC  ITU\n",
       "4  HAC_CEU  HAC  CEU"
      ]
     },
     "execution_count": 4,
     "metadata": {},
     "output_type": "execute_result"
    }
   ],
   "source": [
    "import pandas as pd\n",
    "df = pd.read_csv('fst_files.txt', header=None, names=['contrast'])\n",
    "df[['pop1','pop2']] = df.contrast.str.split('_', expand=True)\n",
    "df.head()"
   ]
  },
  {
   "cell_type": "code",
   "execution_count": null,
   "id": "5b968f41-af62-4b19-8eb1-6e27770e8a04",
   "metadata": {},
   "outputs": [],
   "source": []
  }
 ],
 "metadata": {
  "kernelspec": {
   "display_name": "Python 3",
   "language": "python",
   "name": "python3"
  },
  "language_info": {
   "codemirror_mode": {
    "name": "ipython",
    "version": 3
   },
   "file_extension": ".py",
   "mimetype": "text/x-python",
   "name": "python",
   "nbconvert_exporter": "python",
   "pygments_lexer": "ipython3",
   "version": "3.7.12"
  }
 },
 "nbformat": 4,
 "nbformat_minor": 5
}
