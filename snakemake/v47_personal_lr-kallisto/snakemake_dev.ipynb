{
 "cells": [
  {
   "cell_type": "code",
   "execution_count": 9,
   "id": "dbd41cb2-f2a6-482d-8eff-140a71042676",
   "metadata": {},
   "outputs": [],
   "source": [
    "import pandas as pd\n",
    "import numpy as np\n",
    "import scipy.stats as st\n",
    "import seaborn as sns\n",
    "import sys\n",
    "import os\n",
    "import matplotlib.pyplot as plt\n",
    "import swan_vis as swan\n",
    "import yaml\n",
    "from snakemake.io import expand\n",
    "import cerberus\n",
    "import pyranges as pr\n",
    "import upsetplot\n",
    "\n",
    "p = os.path.dirname(os.path.dirname(os.getcwd()))\n",
    "sys.path.append(p)\n",
    "\n",
    "from scripts.utils import *\n",
    "from scripts.vcf_utils import *\n",
    "from scripts.plotting import *\n",
    "from scripts.sm_utils import *"
   ]
  },
  {
   "cell_type": "code",
   "execution_count": 10,
   "id": "228dd7d1-9fab-4a14-9261-ecf18c7ebb42",
   "metadata": {},
   "outputs": [],
   "source": [
    "config = load_config()\n",
    "od = '../../'\n",
    "\n",
    "def proc_cfg(entry, od):\n",
    "    entry = entry.replace('../../', '')\n",
    "    entry = od+entry\n",
    "    return entry"
   ]
  },
  {
   "cell_type": "code",
   "execution_count": 15,
   "id": "40e3816e-36d3-4996-a0c4-8e685243db3e",
   "metadata": {},
   "outputs": [
    {
     "data": {
      "text/html": [
       "<div>\n",
       "<style scoped>\n",
       "    .dataframe tbody tr th:only-of-type {\n",
       "        vertical-align: middle;\n",
       "    }\n",
       "\n",
       "    .dataframe tbody tr th {\n",
       "        vertical-align: top;\n",
       "    }\n",
       "\n",
       "    .dataframe thead th {\n",
       "        text-align: right;\n",
       "    }\n",
       "</style>\n",
       "<table border=\"1\" class=\"dataframe\">\n",
       "  <thead>\n",
       "    <tr style=\"text-align: right;\">\n",
       "      <th></th>\n",
       "      <th>sample</th>\n",
       "      <th>haplotype</th>\n",
       "      <th>link</th>\n",
       "    </tr>\n",
       "  </thead>\n",
       "  <tbody>\n",
       "    <tr>\n",
       "      <th>0</th>\n",
       "      <td>HG00438</td>\n",
       "      <td>maternal</td>\n",
       "      <td>s3://human-pangenomics/working/HPRC/HG00438/as...</td>\n",
       "    </tr>\n",
       "    <tr>\n",
       "      <th>1</th>\n",
       "      <td>HG00621</td>\n",
       "      <td>maternal</td>\n",
       "      <td>s3://human-pangenomics/working/HPRC/HG00621/as...</td>\n",
       "    </tr>\n",
       "    <tr>\n",
       "      <th>2</th>\n",
       "      <td>HG00673</td>\n",
       "      <td>maternal</td>\n",
       "      <td>s3://human-pangenomics/working/HPRC/HG00673/as...</td>\n",
       "    </tr>\n",
       "    <tr>\n",
       "      <th>3</th>\n",
       "      <td>HG00735</td>\n",
       "      <td>maternal</td>\n",
       "      <td>s3://human-pangenomics/working/HPRC/HG00735/as...</td>\n",
       "    </tr>\n",
       "    <tr>\n",
       "      <th>4</th>\n",
       "      <td>HG00741</td>\n",
       "      <td>maternal</td>\n",
       "      <td>s3://human-pangenomics/working/HPRC/HG00741/as...</td>\n",
       "    </tr>\n",
       "  </tbody>\n",
       "</table>\n",
       "</div>"
      ],
      "text/plain": [
       "    sample haplotype                                               link\n",
       "0  HG00438  maternal  s3://human-pangenomics/working/HPRC/HG00438/as...\n",
       "1  HG00621  maternal  s3://human-pangenomics/working/HPRC/HG00621/as...\n",
       "2  HG00673  maternal  s3://human-pangenomics/working/HPRC/HG00673/as...\n",
       "3  HG00735  maternal  s3://human-pangenomics/working/HPRC/HG00735/as...\n",
       "4  HG00741  maternal  s3://human-pangenomics/working/HPRC/HG00741/as..."
      ]
     },
     "execution_count": 15,
     "metadata": {},
     "output_type": "execute_result"
    }
   ],
   "source": [
    "\n",
    "meta_file = '../config.tsv'\n",
    "meta_file_2 = 'config.tsv'\n",
    "genomes_file = 'genomes_config.tsv'\n",
    "gtfs_file = 'gtfs_config.tsv'\n",
    "\n",
    "df = parse_config(meta_file)\n",
    "df2 = pd.read_csv(meta_file_2, sep='\\t')\n",
    "df2['tech_rep'] = df2.cell_line_id+'_1'\n",
    "df2['same_sample'] = df2['pangenome_code']\n",
    "\n",
    "# TODO test\n",
    "# df2 = df2.loc[df2.cell_line_id == 'GM24385']\n",
    "\n",
    "# get the genomes to download\n",
    "g_df = pd.read_csv(genomes_file, sep='\\t')\n",
    "\n",
    "# maternal haplotypes\n",
    "g_df['aws_mat_link'] = g_df['hap2_aws_fasta']\n",
    "g_df = g_df.loc[g_df['aws_mat_link'].notnull()]\n",
    "assert len(g_df.loc[g_df['aws_mat_link'].str.contains('maternal')].index) == len(g_df.index)\n",
    "\n",
    "# paternal haplotypes\n",
    "g_df['aws_pat_link'] = g_df['hap1_aws_fasta']\n",
    "g_df = g_df.loc[g_df['aws_pat_link'].notnull()]\n",
    "assert len(g_df.loc[g_df['aws_pat_link'].str.contains('paternal')].index) == len(g_df.index)\n",
    "\n",
    "genome_cols = ['same_population_sample', 'european_sample',\t'afr_sample', 'same_sample']\n",
    "assemblies = genome_cols\n",
    "# g_df = g_df.loc[(g_df['sample'].isin(df2[genome_cols[0]]))|\n",
    "#                 (g_df['sample'].isin(df2[genome_cols[1]]))|\n",
    "#                 (g_df['sample'].isin(df2[genome_cols[2]]))|\n",
    "#                 (g_df['sample'].isin(df2[genome_cols[3]]))]\n",
    "\n",
    "# a little more df2 formatting\n",
    "df2 = df2[['tech_rep']+assemblies].melt(id_vars='tech_rep')\n",
    "df2 = df2.reset_index()\n",
    "df2 = df2.rename({'variable':'assembly_status',\n",
    "                  'value': 'assembly_sample'},\n",
    "                  axis=1)\n",
    "\n",
    "# # limit just to the samples where we'll do this\n",
    "# df = df.loc[df.tech_rep.isin(df2.tech_rep.tolist())]\n",
    "\n",
    "# get a key for assembly status, assembly sample, and actual sample\n",
    "df2['dataset_key'] = df2.assembly_status+'_'+\\\n",
    "                     df2.assembly_sample+'_'+\\\n",
    "                     df2.tech_rep\n",
    "\n",
    "g_df = g_df[['sample', 'aws_mat_link', 'aws_pat_link']]\n",
    "g_df = g_df = pd.melt(g_df, id_vars=['sample'], \n",
    "                  value_vars=['aws_mat_link', 'aws_pat_link'], \n",
    "                  var_name='haplotype', value_name='link')\n",
    "\n",
    "# Map 'haplotype' column to 'maternal' or 'paternal' based on the column name\n",
    "g_df['haplotype'] = g_df['haplotype'].map({\n",
    "    'aws_mat_link': 'maternal',\n",
    "    'aws_pat_link': 'paternal'\n",
    "})\n",
    "g_df.head()"
   ]
  },
  {
   "cell_type": "code",
   "execution_count": 17,
   "id": "0c98458a-2dae-434b-8c6f-ee6d324ae6a3",
   "metadata": {},
   "outputs": [
    {
     "data": {
      "text/html": [
       "<div>\n",
       "<style scoped>\n",
       "    .dataframe tbody tr th:only-of-type {\n",
       "        vertical-align: middle;\n",
       "    }\n",
       "\n",
       "    .dataframe tbody tr th {\n",
       "        vertical-align: top;\n",
       "    }\n",
       "\n",
       "    .dataframe thead th {\n",
       "        text-align: right;\n",
       "    }\n",
       "</style>\n",
       "<table border=\"1\" class=\"dataframe\">\n",
       "  <thead>\n",
       "    <tr style=\"text-align: right;\">\n",
       "      <th></th>\n",
       "      <th>path</th>\n",
       "      <th>annot_ver</th>\n",
       "      <th>assembly_sample</th>\n",
       "      <th>assembly_haplotype</th>\n",
       "    </tr>\n",
       "  </thead>\n",
       "  <tbody>\n",
       "    <tr>\n",
       "      <th>0</th>\n",
       "      <td>/gpfs/projects/bsc83/Projects/pantranscriptome...</td>\n",
       "      <td>PODER</td>\n",
       "      <td>HG002</td>\n",
       "      <td>maternal</td>\n",
       "    </tr>\n",
       "    <tr>\n",
       "      <th>1</th>\n",
       "      <td>/gpfs/projects/bsc83/Projects/pantranscriptome...</td>\n",
       "      <td>PODER</td>\n",
       "      <td>HG02717</td>\n",
       "      <td>maternal</td>\n",
       "    </tr>\n",
       "  </tbody>\n",
       "</table>\n",
       "</div>"
      ],
      "text/plain": [
       "                                                path annot_ver  \\\n",
       "0  /gpfs/projects/bsc83/Projects/pantranscriptome...     PODER   \n",
       "1  /gpfs/projects/bsc83/Projects/pantranscriptome...     PODER   \n",
       "\n",
       "  assembly_sample assembly_haplotype  \n",
       "0           HG002           maternal  \n",
       "1         HG02717           maternal  "
      ]
     },
     "execution_count": 17,
     "metadata": {},
     "output_type": "execute_result"
    }
   ],
   "source": [
    "# add the gtf info\n",
    "gtf_df = pd.read_csv(gtfs_file, sep='\\t')\n",
    "gtf_df.head()"
   ]
  },
  {
   "cell_type": "code",
   "execution_count": 19,
   "id": "1207e852-eac8-4784-9767-3320c0412f53",
   "metadata": {},
   "outputs": [
    {
     "data": {
      "text/plain": [
       "['../../data/personal_kallisto_quant/HG002_maternal/matrix.abundance.tpm.tsv',\n",
       " '../../data/personal_kallisto_quant/HG02717_maternal/matrix.abundance.tpm.tsv']"
      ]
     },
     "execution_count": 19,
     "metadata": {},
     "output_type": "execute_result"
    }
   ],
   "source": [
    "expand(config['lr']['personal_kallisto']['quant']['merge_matrix_tpm_tsv'],\n",
    "               zip,\n",
    "               assembly_sample=gtf_df['assembly_sample'].tolist(),\n",
    "               assembly_haplotype=gtf_df['assembly_haplotype'].tolist())"
   ]
  },
  {
   "cell_type": "code",
   "execution_count": 20,
   "id": "aef75e56-badd-4042-8d1e-2248c276bd59",
   "metadata": {},
   "outputs": [],
   "source": [
    "\n",
    "def get_df_val(df, col1, col_dict, uniq_val=True):\n",
    "    \"\"\"\n",
    "    uniq_val (b0ool) needs to return a uniq val rather\n",
    "        than a list\n",
    "    \"\"\"\n",
    "    temp = df.copy(deep=True)\n",
    "\n",
    "    for key, item in col_dict.items():\n",
    "        temp = temp.loc[temp[key] == item]\n",
    "\n",
    "    if uniq_val:\n",
    "        val = temp[col1].unique()\n",
    "        assert len(val) == 1\n",
    "        return val[0]\n",
    "    else:\n",
    "        return temp[col1].tolist()"
   ]
  },
  {
   "cell_type": "code",
   "execution_count": 22,
   "id": "ef69deb5-88f7-42b9-8829-4c21814e4858",
   "metadata": {},
   "outputs": [
    {
     "data": {
      "text/plain": [
       "'/gpfs/projects/bsc83/Projects/pantranscriptome/novelannotations/liftoff/PODER/HG002/poder.hg38_to_HG002.lifted.gtf'"
      ]
     },
     "execution_count": 22,
     "metadata": {},
     "output_type": "execute_result"
    }
   ],
   "source": [
    "assembly_sample = 'HG002'\n",
    "assembly_haplotype = 'maternal'\n",
    "get_df_val(gtf_df, 'path',\n",
    "                                    {'assembly_sample': assembly_sample,\n",
    "                                     'assembly_haplotype': assembly_haplotype})"
   ]
  },
  {
   "cell_type": "code",
   "execution_count": null,
   "id": "01538bf9-7cf4-423d-abed-41f2d5aa1207",
   "metadata": {},
   "outputs": [],
   "source": []
  }
 ],
 "metadata": {
  "kernelspec": {
   "display_name": "Python 3",
   "language": "python",
   "name": "python3"
  },
  "language_info": {
   "codemirror_mode": {
    "name": "ipython",
    "version": 3
   },
   "file_extension": ".py",
   "mimetype": "text/x-python",
   "name": "python",
   "nbconvert_exporter": "python",
   "pygments_lexer": "ipython3",
   "version": "3.7.12"
  }
 },
 "nbformat": 4,
 "nbformat_minor": 5
}
