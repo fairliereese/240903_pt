{
 "cells": [
  {
   "cell_type": "code",
   "execution_count": 1,
   "id": "c48ae1b0-34bb-4fb0-809e-2eb8afa58467",
   "metadata": {},
   "outputs": [],
   "source": [
    "import pandas as pd\n",
    "import numpy as np\n",
    "import scipy.stats as st\n",
    "import seaborn as sns\n",
    "import sys\n",
    "import os\n",
    "import matplotlib.pyplot as plt\n",
    "import swan_vis as swan\n",
    "import yaml\n",
    "from snakemake.io import expand\n",
    "import cerberus\n",
    "import pyranges as pr\n",
    "import upsetplot\n",
    "\n",
    "p = os.path.dirname(os.path.dirname(os.getcwd()))\n",
    "sys.path.append(p)\n",
    "\n",
    "from scripts.utils import *\n",
    "from scripts.vcf_utils import *\n",
    "from scripts.plotting import *\n",
    "from scripts.sm_utils import *"
   ]
  },
  {
   "cell_type": "code",
   "execution_count": 2,
   "id": "656e2c63-76e8-4f53-92eb-9f011ff738f0",
   "metadata": {},
   "outputs": [],
   "source": [
    "config = load_config()\n",
    "od = ''\n",
    "\n",
    "def proc_cfg(entry, od):\n",
    "    entry = entry.replace('../../', '')\n",
    "    entry = od+entry\n",
    "    return entry"
   ]
  },
  {
   "cell_type": "code",
   "execution_count": 20,
   "id": "32d34c90-d7db-4077-a0db-696af3589b9d",
   "metadata": {},
   "outputs": [],
   "source": [
    "meta_file = '../config.tsv'\n",
    "df = parse_config(meta_file)\n",
    "meta = load_meta()\n",
    "meta = meta.loc[meta.merged_run_mode==True]\n",
    "sample_d = dict([(entry.cell_line_id, entry['sample']) \\\n",
    "                 for ind, entry in meta.iterrows()])\n",
    "df['sample'] = df['sample'].map(sample_d)\n",
    "samples = df['sample'].unique().tolist()"
   ]
  },
  {
   "cell_type": "code",
   "execution_count": 21,
   "id": "767db40f-7462-43f2-8da1-28b20ae146d6",
   "metadata": {},
   "outputs": [],
   "source": []
  },
  {
   "cell_type": "code",
   "execution_count": 22,
   "id": "fc7b7722-fcfd-47cd-b7b6-791c15456f17",
   "metadata": {},
   "outputs": [
    {
     "data": {
      "text/plain": [
       "['YRI5',\n",
       " 'YRI6',\n",
       " 'YRI7',\n",
       " 'HAC1',\n",
       " 'HAC2',\n",
       " 'HAC3',\n",
       " 'HAC4',\n",
       " 'HAC5',\n",
       " 'HAC6',\n",
       " 'LWK1',\n",
       " 'MPC1',\n",
       " 'LWK2',\n",
       " 'LWK3',\n",
       " 'LWK4',\n",
       " 'LWK5',\n",
       " 'AJI1',\n",
       " 'AJI2',\n",
       " 'AJI3',\n",
       " 'AJI4',\n",
       " 'AJI5',\n",
       " 'PEL1',\n",
       " 'MPC2',\n",
       " 'PEL2',\n",
       " 'PEL3',\n",
       " 'PEL4',\n",
       " 'PEL5',\n",
       " 'PEL6',\n",
       " 'ITU1',\n",
       " 'ITU2',\n",
       " 'ITU3',\n",
       " 'ITU4',\n",
       " 'ITU5',\n",
       " 'MPC3',\n",
       " 'AJI6',\n",
       " 'CEU1',\n",
       " 'CEU2',\n",
       " 'CEU3',\n",
       " 'CEU4',\n",
       " 'CEU5',\n",
       " 'MPC4',\n",
       " 'YRI1',\n",
       " 'YRI2',\n",
       " 'YRI3']"
      ]
     },
     "execution_count": 22,
     "metadata": {},
     "output_type": "execute_result"
    }
   ],
   "source": [
    "samples"
   ]
  },
  {
   "cell_type": "code",
   "execution_count": 8,
   "id": "634f5402-bc9c-4014-b94d-106e85c19d03",
   "metadata": {},
   "outputs": [
    {
     "data": {
      "text/plain": [
       "{'HG04217': 'ITU5',\n",
       " 'HG04216': 'ITU4',\n",
       " 'HG03732': 'ITU3',\n",
       " 'HG03729': 'ITU2',\n",
       " 'HG03719': 'ITU1',\n",
       " 'HG02293': 'PEL6',\n",
       " 'HG02261': 'PEL5',\n",
       " 'HG01975': 'PEL4',\n",
       " 'HG01952': 'PEL3',\n",
       " 'HG01928': 'PEL2',\n",
       " 'HG01567': 'PEL1',\n",
       " 'HG00621': 'HAC6',\n",
       " 'GM24385': 'AJI6',\n",
       " 'GM22305': 'AJI5',\n",
       " 'GM22304': 'AJI4',\n",
       " 'GM22300': 'AJI3',\n",
       " 'GM22299': 'AJI2',\n",
       " 'GM22234': 'AJI1',\n",
       " 'GM19446': 'LWK5',\n",
       " 'GM19390': 'LWK4',\n",
       " 'GM19352': 'LWK3',\n",
       " 'GM19328': 'LWK2',\n",
       " 'GM19307': 'LWK1',\n",
       " 'GM19240': 'YRI7',\n",
       " 'GM19129': 'YRI6',\n",
       " 'GM19117': 'YRI5',\n",
       " 'GM19093': 'YRI4',\n",
       " 'GM18906': 'YRI3',\n",
       " 'GM18774': 'HAC5',\n",
       " 'GM18772': 'HAC4',\n",
       " 'GM18631': 'HAC3',\n",
       " 'GM18561': 'HAC2',\n",
       " 'GM18542': 'HAC1',\n",
       " 'GM18489': 'YRI2',\n",
       " 'GM18486': 'YRI1',\n",
       " 'GM12878': 'CEU5',\n",
       " 'GM12829': 'CEU4',\n",
       " 'GM12812': 'CEU3',\n",
       " 'GM12778': 'CEU2',\n",
       " 'GM12273': 'CEU1',\n",
       " 'GM10496': 'MPC5',\n",
       " 'GM10495': 'MPC4',\n",
       " 'GM10494': 'MPC3',\n",
       " 'GM10493': 'MPC2',\n",
       " 'GM10492': 'MPC1'}"
      ]
     },
     "execution_count": 8,
     "metadata": {},
     "output_type": "execute_result"
    }
   ],
   "source": [
    "sample_d"
   ]
  },
  {
   "cell_type": "code",
   "execution_count": null,
   "id": "e6bf31bf-6e8c-414e-be9c-9fc35dc295c5",
   "metadata": {},
   "outputs": [],
   "source": []
  }
 ],
 "metadata": {
  "kernelspec": {
   "display_name": "Python 3",
   "language": "python",
   "name": "python3"
  },
  "language_info": {
   "codemirror_mode": {
    "name": "ipython",
    "version": 3
   },
   "file_extension": ".py",
   "mimetype": "text/x-python",
   "name": "python",
   "nbconvert_exporter": "python",
   "pygments_lexer": "ipython3",
   "version": "3.7.12"
  }
 },
 "nbformat": 4,
 "nbformat_minor": 5
}
