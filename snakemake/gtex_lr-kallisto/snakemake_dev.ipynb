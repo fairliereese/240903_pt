{
 "cells": [
  {
   "cell_type": "code",
   "execution_count": 1,
   "id": "511dabf2-2f93-4e15-b1f3-e60e810e40ec",
   "metadata": {},
   "outputs": [],
   "source": [
    "import pandas as pd"
   ]
  },
  {
   "cell_type": "code",
   "execution_count": 7,
   "id": "6e302fb7-9cf4-457a-b0c0-c83b4b802b29",
   "metadata": {},
   "outputs": [],
   "source": [
    "df = pd.read_csv('gtex_config.tsv', sep='\\t')\n",
    "# df.columns = ['fname']"
   ]
  },
  {
   "cell_type": "code",
   "execution_count": 8,
   "id": "89d4d449-0f76-46b5-89f5-56441d4ea0fa",
   "metadata": {},
   "outputs": [
    {
     "data": {
      "text/html": [
       "<div>\n",
       "<style scoped>\n",
       "    .dataframe tbody tr th:only-of-type {\n",
       "        vertical-align: middle;\n",
       "    }\n",
       "\n",
       "    .dataframe tbody tr th {\n",
       "        vertical-align: top;\n",
       "    }\n",
       "\n",
       "    .dataframe thead th {\n",
       "        text-align: right;\n",
       "    }\n",
       "</style>\n",
       "<table border=\"1\" class=\"dataframe\">\n",
       "  <thead>\n",
       "    <tr style=\"text-align: right;\">\n",
       "      <th></th>\n",
       "      <th>path</th>\n",
       "      <th>basename</th>\n",
       "      <th>fname</th>\n",
       "    </tr>\n",
       "  </thead>\n",
       "  <tbody>\n",
       "    <tr>\n",
       "      <th>0</th>\n",
       "      <td>/gpfs/projects/bsc83/Data/GTEx_ONT</td>\n",
       "      <td>GTEx_v9_ONT_data_sequence_data_GTEX-1192X-0011...</td>\n",
       "      <td>/gpfs/projects/bsc83/Data/GTEx_ONT/GTEx_v9_ONT...</td>\n",
       "    </tr>\n",
       "    <tr>\n",
       "      <th>1</th>\n",
       "      <td>/gpfs/projects/bsc83/Data/GTEx_ONT</td>\n",
       "      <td>GTEx_v9_ONT_data_sequence_data_GTEX-11H98-0011...</td>\n",
       "      <td>/gpfs/projects/bsc83/Data/GTEx_ONT/GTEx_v9_ONT...</td>\n",
       "    </tr>\n",
       "    <tr>\n",
       "      <th>2</th>\n",
       "      <td>/gpfs/projects/bsc83/Data/GTEx_ONT</td>\n",
       "      <td>GTEx_v9_ONT_data_sequence_data_GTEX-11TTK-0011...</td>\n",
       "      <td>/gpfs/projects/bsc83/Data/GTEx_ONT/GTEx_v9_ONT...</td>\n",
       "    </tr>\n",
       "    <tr>\n",
       "      <th>3</th>\n",
       "      <td>/gpfs/projects/bsc83/Data/GTEx_ONT</td>\n",
       "      <td>GTEx_v9_ONT_data_sequence_data_GTEX-1211K-0826...</td>\n",
       "      <td>/gpfs/projects/bsc83/Data/GTEx_ONT/GTEx_v9_ONT...</td>\n",
       "    </tr>\n",
       "    <tr>\n",
       "      <th>4</th>\n",
       "      <td>/gpfs/projects/bsc83/Data/GTEx_ONT</td>\n",
       "      <td>GTEx_v9_ONT_data_sequence_data_GTEX-1313W-0011...</td>\n",
       "      <td>/gpfs/projects/bsc83/Data/GTEx_ONT/GTEx_v9_ONT...</td>\n",
       "    </tr>\n",
       "  </tbody>\n",
       "</table>\n",
       "</div>"
      ],
      "text/plain": [
       "                                 path  \\\n",
       "0  /gpfs/projects/bsc83/Data/GTEx_ONT   \n",
       "1  /gpfs/projects/bsc83/Data/GTEx_ONT   \n",
       "2  /gpfs/projects/bsc83/Data/GTEx_ONT   \n",
       "3  /gpfs/projects/bsc83/Data/GTEx_ONT   \n",
       "4  /gpfs/projects/bsc83/Data/GTEx_ONT   \n",
       "\n",
       "                                            basename  \\\n",
       "0  GTEx_v9_ONT_data_sequence_data_GTEX-1192X-0011...   \n",
       "1  GTEx_v9_ONT_data_sequence_data_GTEX-11H98-0011...   \n",
       "2  GTEx_v9_ONT_data_sequence_data_GTEX-11TTK-0011...   \n",
       "3  GTEx_v9_ONT_data_sequence_data_GTEX-1211K-0826...   \n",
       "4  GTEx_v9_ONT_data_sequence_data_GTEX-1313W-0011...   \n",
       "\n",
       "                                               fname  \n",
       "0  /gpfs/projects/bsc83/Data/GTEx_ONT/GTEx_v9_ONT...  \n",
       "1  /gpfs/projects/bsc83/Data/GTEx_ONT/GTEx_v9_ONT...  \n",
       "2  /gpfs/projects/bsc83/Data/GTEx_ONT/GTEx_v9_ONT...  \n",
       "3  /gpfs/projects/bsc83/Data/GTEx_ONT/GTEx_v9_ONT...  \n",
       "4  /gpfs/projects/bsc83/Data/GTEx_ONT/GTEx_v9_ONT...  "
      ]
     },
     "execution_count": 8,
     "metadata": {},
     "output_type": "execute_result"
    }
   ],
   "source": [
    "df.head()"
   ]
  },
  {
   "cell_type": "code",
   "execution_count": 12,
   "id": "c6706755-9dbd-4847-a448-e2d9096bb003",
   "metadata": {},
   "outputs": [
    {
     "data": {
      "text/plain": [
       "'/gpfs/projects/bsc83/Data/GTEx_ONT/GTEx_v9_ONT_data_sequence_data_GTEX-1192X-0011-R10a-SM-4RXXZ.FAK49046.fastq.gz'"
      ]
     },
     "execution_count": 12,
     "metadata": {},
     "output_type": "execute_result"
    }
   ],
   "source": [
    "df.fname.tolist()[0]"
   ]
  },
  {
   "cell_type": "code",
   "execution_count": 13,
   "id": "89840b88-f9fe-45a3-a5c2-809b9774e9ee",
   "metadata": {},
   "outputs": [
    {
     "data": {
      "text/plain": [
       "'GTEx_v9_ONT_data_sequence_data_GTEX-1192X-0011-R10a-SM-4RXXZ.FAK49046.fastq.gz'"
      ]
     },
     "execution_count": 13,
     "metadata": {},
     "output_type": "execute_result"
    }
   ],
   "source": [
    "df['basename'].tolist()[0]"
   ]
  },
  {
   "cell_type": "code",
   "execution_count": 14,
   "id": "ccc0fdf0-5dee-49cf-a304-f5364c06aae7",
   "metadata": {},
   "outputs": [
    {
     "data": {
      "text/plain": [
       "'GTEx_v9_ONT_data_sequence_data_GTEX-1192X-0011-R10a-SM-4RXXZ'"
      ]
     },
     "execution_count": 14,
     "metadata": {},
     "output_type": "execute_result"
    }
   ],
   "source": [
    "df['sample'] = df.basename.str.split('.', expand=True)[0]\n",
    "df['sample'].tolist()[0]"
   ]
  },
  {
   "cell_type": "code",
   "execution_count": null,
   "id": "602fa9db-8efb-4153-8988-32025e429919",
   "metadata": {},
   "outputs": [],
   "source": []
  }
 ],
 "metadata": {
  "kernelspec": {
   "display_name": "Python 3",
   "language": "python",
   "name": "python3"
  },
  "language_info": {
   "codemirror_mode": {
    "name": "ipython",
    "version": 3
   },
   "file_extension": ".py",
   "mimetype": "text/x-python",
   "name": "python",
   "nbconvert_exporter": "python",
   "pygments_lexer": "ipython3",
   "version": "3.7.12"
  }
 },
 "nbformat": 4,
 "nbformat_minor": 5
}
