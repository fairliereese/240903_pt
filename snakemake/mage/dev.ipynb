{
 "cells": [
  {
   "cell_type": "code",
   "execution_count": 2,
   "id": "c6cd8346-5277-469b-a34f-53d7216d39f4",
   "metadata": {},
   "outputs": [],
   "source": [
    "import pandas as pd\n",
    "import numpy as np\n",
    "import scipy.stats as st\n",
    "import seaborn as sns\n",
    "import sys\n",
    "import os\n",
    "import matplotlib.pyplot as plt\n",
    "import swan_vis as swan\n",
    "import yaml\n",
    "from snakemake.io import expand\n",
    "import cerberus\n",
    "import pyranges as pr\n",
    "import upsetplot\n",
    "\n",
    "p = os.path.dirname(os.path.dirname(os.getcwd()))\n",
    "sys.path.append(p)\n",
    "\n",
    "from scripts.utils import *\n",
    "from scripts.vcf_utils import *\n",
    "from scripts.plotting import *"
   ]
  },
  {
   "cell_type": "code",
   "execution_count": 3,
   "id": "f9fa4262-6e71-4db1-9185-404636b2452f",
   "metadata": {},
   "outputs": [],
   "source": [
    "config = load_config()\n",
    "od = '../'\n",
    "\n",
    "def proc_cfg(entry, od):\n",
    "    entry = entry.replace('../../', '')\n",
    "    entry = od+entry\n",
    "    return entry"
   ]
  },
  {
   "cell_type": "code",
   "execution_count": 4,
   "id": "4acca558-ec5c-4ae5-a73b-e320d89d5854",
   "metadata": {},
   "outputs": [],
   "source": [
    "def clean_figure(ax):\n",
    "    ax.spines['right'].set_visible(False)\n",
    "    ax.spines['top'].set_visible(False)\n",
    "    ax.tick_params(axis=\"x\", rotation=45)"
   ]
  },
  {
   "cell_type": "code",
   "execution_count": 5,
   "id": "d8ef0893-1169-44ed-b455-833d7590278c",
   "metadata": {},
   "outputs": [],
   "source": [
    "meta_file = 'filereport_read_run_PRJNA851328_tsv.txt'\n",
    "\n",
    "df = pd.read_csv(meta_file, sep='\\t')\n",
    "df[['cell_line_id', 'batch', 'rep']] = df.experiment_alias.str.split('_', expand=True)\n",
    "len(df.index)\n",
    "len(df.cell_line_id.unique())\n",
    "\n",
    "df[['r1_fq_link', 'r2_fq_link']] = df.fastq_ftp.str.split(';', expand=True)\n",
    "df['r1_verify'] = df.r1_fq_link.str.endswith('_1.fastq.gz')\n",
    "df['r2_verify'] = df.r2_fq_link.str.endswith('_2.fastq.gz')\n",
    "assert len(df.loc[df.r1_verify==False].index)==0\n",
    "assert len(df.loc[df.r2_verify==False].index)==0\n",
    "\n",
    "df['sample'] = df['experiment_alias']"
   ]
  },
  {
   "cell_type": "code",
   "execution_count": 9,
   "id": "3369bc65-182f-40ac-a799-3d8df8f770db",
   "metadata": {},
   "outputs": [
    {
     "data": {
      "text/html": [
       "<div>\n",
       "<style scoped>\n",
       "    .dataframe tbody tr th:only-of-type {\n",
       "        vertical-align: middle;\n",
       "    }\n",
       "\n",
       "    .dataframe tbody tr th {\n",
       "        vertical-align: top;\n",
       "    }\n",
       "\n",
       "    .dataframe thead th {\n",
       "        text-align: right;\n",
       "    }\n",
       "</style>\n",
       "<table border=\"1\" class=\"dataframe\">\n",
       "  <thead>\n",
       "    <tr style=\"text-align: right;\">\n",
       "      <th></th>\n",
       "      <th>sample</th>\n",
       "      <th>cell_line_id</th>\n",
       "    </tr>\n",
       "  </thead>\n",
       "  <tbody>\n",
       "    <tr>\n",
       "      <th>0</th>\n",
       "      <td>NA19704_batch11_rep1</td>\n",
       "      <td>NA19704</td>\n",
       "    </tr>\n",
       "    <tr>\n",
       "      <th>1</th>\n",
       "      <td>NA19332_batch14_rep1</td>\n",
       "      <td>NA19332</td>\n",
       "    </tr>\n",
       "    <tr>\n",
       "      <th>2</th>\n",
       "      <td>NA19317_batch15_rep1</td>\n",
       "      <td>NA19317</td>\n",
       "    </tr>\n",
       "    <tr>\n",
       "      <th>3</th>\n",
       "      <td>NA19312_batch05_rep1</td>\n",
       "      <td>NA19312</td>\n",
       "    </tr>\n",
       "    <tr>\n",
       "      <th>4</th>\n",
       "      <td>NA19323_batch11_rep1</td>\n",
       "      <td>NA19323</td>\n",
       "    </tr>\n",
       "  </tbody>\n",
       "</table>\n",
       "</div>"
      ],
      "text/plain": [
       "                 sample cell_line_id\n",
       "0  NA19704_batch11_rep1      NA19704\n",
       "1  NA19332_batch14_rep1      NA19332\n",
       "2  NA19317_batch15_rep1      NA19317\n",
       "3  NA19312_batch05_rep1      NA19312\n",
       "4  NA19323_batch11_rep1      NA19323"
      ]
     },
     "execution_count": 9,
     "metadata": {},
     "output_type": "execute_result"
    }
   ],
   "source": [
    "df['cell_line_id'] = df['sample'].str.split('_', expand=True)[0]\n",
    "df[['sample', 'cell_line_id']].head()"
   ]
  },
  {
   "cell_type": "markdown",
   "id": "1a7d4e36-fb53-4653-b5f8-34e6be5428c6",
   "metadata": {},
   "source": [
    "## try to intersect mage sample names w/ 1000G sample names"
   ]
  },
  {
   "cell_type": "code",
   "execution_count": 14,
   "id": "ea5cf075-277c-456a-8542-73c1715f4a1b",
   "metadata": {},
   "outputs": [],
   "source": [
    "meta = pd.read_csv('../1000g/1000G_metadata.tsv', sep='\\t', comment='#', header=None)\n",
    "trios_meta = pd.read_csv('../1000g/1000G_trios_metadata.tsv', sep='\\t', comment='#', header=None)"
   ]
  },
  {
   "cell_type": "code",
   "execution_count": 18,
   "id": "2599913d-476e-4fdc-b103-e519020682c3",
   "metadata": {},
   "outputs": [
    {
     "data": {
      "text/html": [
       "<div>\n",
       "<style scoped>\n",
       "    .dataframe tbody tr th:only-of-type {\n",
       "        vertical-align: middle;\n",
       "    }\n",
       "\n",
       "    .dataframe tbody tr th {\n",
       "        vertical-align: top;\n",
       "    }\n",
       "\n",
       "    .dataframe thead th {\n",
       "        text-align: right;\n",
       "    }\n",
       "</style>\n",
       "<table border=\"1\" class=\"dataframe\">\n",
       "  <thead>\n",
       "    <tr style=\"text-align: right;\">\n",
       "      <th></th>\n",
       "      <th>run_accession</th>\n",
       "      <th>sample_accession</th>\n",
       "      <th>experiment_accession</th>\n",
       "      <th>study_accession</th>\n",
       "      <th>tax_id</th>\n",
       "      <th>scientific_name</th>\n",
       "      <th>instrument_platform</th>\n",
       "      <th>instrument_model</th>\n",
       "      <th>experiment_alias</th>\n",
       "      <th>fastq_bytes</th>\n",
       "      <th>...</th>\n",
       "      <th>bam_ftp</th>\n",
       "      <th>bam_bytes</th>\n",
       "      <th>cell_line_id</th>\n",
       "      <th>batch</th>\n",
       "      <th>rep</th>\n",
       "      <th>r1_fq_link</th>\n",
       "      <th>r2_fq_link</th>\n",
       "      <th>r1_verify</th>\n",
       "      <th>r2_verify</th>\n",
       "      <th>sample</th>\n",
       "    </tr>\n",
       "  </thead>\n",
       "  <tbody>\n",
       "  </tbody>\n",
       "</table>\n",
       "<p>0 rows × 26 columns</p>\n",
       "</div>"
      ],
      "text/plain": [
       "Empty DataFrame\n",
       "Columns: [run_accession, sample_accession, experiment_accession, study_accession, tax_id, scientific_name, instrument_platform, instrument_model, experiment_alias, fastq_bytes, fastq_ftp, submitted_bytes, submitted_ftp, sra_bytes, sra_ftp, sample_alias, bam_ftp, bam_bytes, cell_line_id, batch, rep, r1_fq_link, r2_fq_link, r1_verify, r2_verify, sample]\n",
       "Index: []\n",
       "\n",
       "[0 rows x 26 columns]"
      ]
     },
     "execution_count": 18,
     "metadata": {},
     "output_type": "execute_result"
    }
   ],
   "source": [
    "# check sample correspondence between mage and 1000g\n",
    "df.loc[~(df['cell_line_id'].isin(meta[14].tolist()))&\\\n",
    "       ~(df['cell_line_id'].isin(trios_meta[14].tolist()))]"
   ]
  },
  {
   "cell_type": "code",
   "execution_count": null,
   "id": "5d2ab328-1182-492e-8f9d-553958872917",
   "metadata": {},
   "outputs": [],
   "source": [
    "# perfect"
   ]
  }
 ],
 "metadata": {
  "kernelspec": {
   "display_name": "Python 3",
   "language": "python",
   "name": "python3"
  },
  "language_info": {
   "codemirror_mode": {
    "name": "ipython",
    "version": 3
   },
   "file_extension": ".py",
   "mimetype": "text/x-python",
   "name": "python",
   "nbconvert_exporter": "python",
   "pygments_lexer": "ipython3",
   "version": "3.7.12"
  }
 },
 "nbformat": 4,
 "nbformat_minor": 5
}
