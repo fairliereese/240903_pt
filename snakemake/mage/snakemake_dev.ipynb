{
 "cells": [
  {
   "cell_type": "code",
   "execution_count": 1,
   "id": "38d94749-55b3-427e-81fb-4317b4086000",
   "metadata": {},
   "outputs": [],
   "source": [
    "import pandas as pd"
   ]
  },
  {
   "cell_type": "code",
   "execution_count": 2,
   "id": "6f637263-0b93-4255-90b3-797bfb6dcc7a",
   "metadata": {},
   "outputs": [
    {
     "data": {
      "text/html": [
       "<div>\n",
       "<style scoped>\n",
       "    .dataframe tbody tr th:only-of-type {\n",
       "        vertical-align: middle;\n",
       "    }\n",
       "\n",
       "    .dataframe tbody tr th {\n",
       "        vertical-align: top;\n",
       "    }\n",
       "\n",
       "    .dataframe thead th {\n",
       "        text-align: right;\n",
       "    }\n",
       "</style>\n",
       "<table border=\"1\" class=\"dataframe\">\n",
       "  <thead>\n",
       "    <tr style=\"text-align: right;\">\n",
       "      <th></th>\n",
       "      <th>run_accession</th>\n",
       "      <th>sample_accession</th>\n",
       "      <th>experiment_accession</th>\n",
       "      <th>study_accession</th>\n",
       "      <th>tax_id</th>\n",
       "      <th>scientific_name</th>\n",
       "      <th>instrument_platform</th>\n",
       "      <th>instrument_model</th>\n",
       "      <th>experiment_alias</th>\n",
       "      <th>fastq_bytes</th>\n",
       "      <th>fastq_ftp</th>\n",
       "      <th>submitted_bytes</th>\n",
       "      <th>submitted_ftp</th>\n",
       "      <th>sra_bytes</th>\n",
       "      <th>sra_ftp</th>\n",
       "      <th>sample_alias</th>\n",
       "      <th>bam_ftp</th>\n",
       "      <th>bam_bytes</th>\n",
       "    </tr>\n",
       "  </thead>\n",
       "  <tbody>\n",
       "    <tr>\n",
       "      <th>0</th>\n",
       "      <td>SRR19762167</td>\n",
       "      <td>SAMN29221552</td>\n",
       "      <td>SRX15806983</td>\n",
       "      <td>PRJNA851328</td>\n",
       "      <td>9606</td>\n",
       "      <td>Homo sapiens</td>\n",
       "      <td>ILLUMINA</td>\n",
       "      <td>Illumina NovaSeq 6000</td>\n",
       "      <td>NA19704_batch11_rep1</td>\n",
       "      <td>1579585821;1583976496</td>\n",
       "      <td>ftp.sra.ebi.ac.uk/vol1/fastq/SRR197/067/SRR197...</td>\n",
       "      <td>NaN</td>\n",
       "      <td>NaN</td>\n",
       "      <td>2300241946</td>\n",
       "      <td>ftp.sra.ebi.ac.uk/vol1/srr/SRR197/067/SRR19762...</td>\n",
       "      <td>NA19704</td>\n",
       "      <td>NaN</td>\n",
       "      <td>NaN</td>\n",
       "    </tr>\n",
       "    <tr>\n",
       "      <th>1</th>\n",
       "      <td>SRR19762172</td>\n",
       "      <td>SAMN29221523</td>\n",
       "      <td>SRX15806979</td>\n",
       "      <td>PRJNA851328</td>\n",
       "      <td>9606</td>\n",
       "      <td>Homo sapiens</td>\n",
       "      <td>ILLUMINA</td>\n",
       "      <td>Illumina NovaSeq 6000</td>\n",
       "      <td>NA19332_batch14_rep1</td>\n",
       "      <td>1969985537;1972458971</td>\n",
       "      <td>ftp.sra.ebi.ac.uk/vol1/fastq/SRR197/072/SRR197...</td>\n",
       "      <td>NaN</td>\n",
       "      <td>NaN</td>\n",
       "      <td>2816090845</td>\n",
       "      <td>ftp.sra.ebi.ac.uk/vol1/srr/SRR197/072/SRR19762...</td>\n",
       "      <td>NA19332</td>\n",
       "      <td>NaN</td>\n",
       "      <td>NaN</td>\n",
       "    </tr>\n",
       "    <tr>\n",
       "      <th>2</th>\n",
       "      <td>SRR19762173</td>\n",
       "      <td>SAMN29221521</td>\n",
       "      <td>SRX15806977</td>\n",
       "      <td>PRJNA851328</td>\n",
       "      <td>9606</td>\n",
       "      <td>Homo sapiens</td>\n",
       "      <td>ILLUMINA</td>\n",
       "      <td>Illumina NovaSeq 6000</td>\n",
       "      <td>NA19317_batch15_rep1</td>\n",
       "      <td>1387073734;1388216521</td>\n",
       "      <td>ftp.sra.ebi.ac.uk/vol1/fastq/SRR197/073/SRR197...</td>\n",
       "      <td>NaN</td>\n",
       "      <td>NaN</td>\n",
       "      <td>1963604975</td>\n",
       "      <td>ftp.sra.ebi.ac.uk/vol1/srr/SRR197/073/SRR19762...</td>\n",
       "      <td>NA19317</td>\n",
       "      <td>NaN</td>\n",
       "      <td>NaN</td>\n",
       "    </tr>\n",
       "    <tr>\n",
       "      <th>3</th>\n",
       "      <td>SRR19762174</td>\n",
       "      <td>SAMN29221520</td>\n",
       "      <td>SRX15806976</td>\n",
       "      <td>PRJNA851328</td>\n",
       "      <td>9606</td>\n",
       "      <td>Homo sapiens</td>\n",
       "      <td>ILLUMINA</td>\n",
       "      <td>Illumina NovaSeq 6000</td>\n",
       "      <td>NA19312_batch05_rep1</td>\n",
       "      <td>2814206811;2808461053</td>\n",
       "      <td>ftp.sra.ebi.ac.uk/vol1/fastq/SRR197/074/SRR197...</td>\n",
       "      <td>NaN</td>\n",
       "      <td>NaN</td>\n",
       "      <td>4032626102</td>\n",
       "      <td>ftp.sra.ebi.ac.uk/vol1/srr/SRR197/074/SRR19762...</td>\n",
       "      <td>NA19312</td>\n",
       "      <td>NaN</td>\n",
       "      <td>NaN</td>\n",
       "    </tr>\n",
       "    <tr>\n",
       "      <th>4</th>\n",
       "      <td>SRR19762175</td>\n",
       "      <td>SAMN29221522</td>\n",
       "      <td>SRX15806978</td>\n",
       "      <td>PRJNA851328</td>\n",
       "      <td>9606</td>\n",
       "      <td>Homo sapiens</td>\n",
       "      <td>ILLUMINA</td>\n",
       "      <td>Illumina NovaSeq 6000</td>\n",
       "      <td>NA19323_batch11_rep1</td>\n",
       "      <td>1589064552;1592540862</td>\n",
       "      <td>ftp.sra.ebi.ac.uk/vol1/fastq/SRR197/075/SRR197...</td>\n",
       "      <td>NaN</td>\n",
       "      <td>NaN</td>\n",
       "      <td>2313999948</td>\n",
       "      <td>ftp.sra.ebi.ac.uk/vol1/srr/SRR197/075/SRR19762...</td>\n",
       "      <td>NA19323</td>\n",
       "      <td>NaN</td>\n",
       "      <td>NaN</td>\n",
       "    </tr>\n",
       "  </tbody>\n",
       "</table>\n",
       "</div>"
      ],
      "text/plain": [
       "  run_accession sample_accession experiment_accession study_accession  tax_id  \\\n",
       "0   SRR19762167     SAMN29221552          SRX15806983     PRJNA851328    9606   \n",
       "1   SRR19762172     SAMN29221523          SRX15806979     PRJNA851328    9606   \n",
       "2   SRR19762173     SAMN29221521          SRX15806977     PRJNA851328    9606   \n",
       "3   SRR19762174     SAMN29221520          SRX15806976     PRJNA851328    9606   \n",
       "4   SRR19762175     SAMN29221522          SRX15806978     PRJNA851328    9606   \n",
       "\n",
       "  scientific_name instrument_platform       instrument_model  \\\n",
       "0    Homo sapiens            ILLUMINA  Illumina NovaSeq 6000   \n",
       "1    Homo sapiens            ILLUMINA  Illumina NovaSeq 6000   \n",
       "2    Homo sapiens            ILLUMINA  Illumina NovaSeq 6000   \n",
       "3    Homo sapiens            ILLUMINA  Illumina NovaSeq 6000   \n",
       "4    Homo sapiens            ILLUMINA  Illumina NovaSeq 6000   \n",
       "\n",
       "       experiment_alias            fastq_bytes  \\\n",
       "0  NA19704_batch11_rep1  1579585821;1583976496   \n",
       "1  NA19332_batch14_rep1  1969985537;1972458971   \n",
       "2  NA19317_batch15_rep1  1387073734;1388216521   \n",
       "3  NA19312_batch05_rep1  2814206811;2808461053   \n",
       "4  NA19323_batch11_rep1  1589064552;1592540862   \n",
       "\n",
       "                                           fastq_ftp  submitted_bytes  \\\n",
       "0  ftp.sra.ebi.ac.uk/vol1/fastq/SRR197/067/SRR197...              NaN   \n",
       "1  ftp.sra.ebi.ac.uk/vol1/fastq/SRR197/072/SRR197...              NaN   \n",
       "2  ftp.sra.ebi.ac.uk/vol1/fastq/SRR197/073/SRR197...              NaN   \n",
       "3  ftp.sra.ebi.ac.uk/vol1/fastq/SRR197/074/SRR197...              NaN   \n",
       "4  ftp.sra.ebi.ac.uk/vol1/fastq/SRR197/075/SRR197...              NaN   \n",
       "\n",
       "   submitted_ftp   sra_bytes  \\\n",
       "0            NaN  2300241946   \n",
       "1            NaN  2816090845   \n",
       "2            NaN  1963604975   \n",
       "3            NaN  4032626102   \n",
       "4            NaN  2313999948   \n",
       "\n",
       "                                             sra_ftp sample_alias  bam_ftp  \\\n",
       "0  ftp.sra.ebi.ac.uk/vol1/srr/SRR197/067/SRR19762...      NA19704      NaN   \n",
       "1  ftp.sra.ebi.ac.uk/vol1/srr/SRR197/072/SRR19762...      NA19332      NaN   \n",
       "2  ftp.sra.ebi.ac.uk/vol1/srr/SRR197/073/SRR19762...      NA19317      NaN   \n",
       "3  ftp.sra.ebi.ac.uk/vol1/srr/SRR197/074/SRR19762...      NA19312      NaN   \n",
       "4  ftp.sra.ebi.ac.uk/vol1/srr/SRR197/075/SRR19762...      NA19323      NaN   \n",
       "\n",
       "   bam_bytes  \n",
       "0        NaN  \n",
       "1        NaN  \n",
       "2        NaN  \n",
       "3        NaN  \n",
       "4        NaN  "
      ]
     },
     "execution_count": 2,
     "metadata": {},
     "output_type": "execute_result"
    }
   ],
   "source": [
    "df = pd.read_csv('filereport_read_run_PRJNA851328_tsv.txt', sep='\\t')\n",
    "\n",
    "df[['cell_line_id', 'batch', 'rep']] = df.experiment_alias.str.split('_', expand=True)\n",
    "len(df.index)\n",
    "len(df.cell_line_id.unique())\n",
    "\n",
    "df[['r1_fq_link', 'r2_fq_link']] = df.fastq_ftp.str.split(';', expand=True)\n",
    "df['r1_verify'] = df.r1_fq_link.str.endswith('_1.fastq.gz')\n",
    "df['r2_verify'] = df.r2_fq_link.str.endswith('_2.fastq.gz')\n",
    "assert len(df.loc[df.r1_verify==False].index)==0\n",
    "assert len(df.loc[df.r2_verify==False].index)==0\n",
    "\n",
    "df['sample'] = df['experiment_alias']"
   ]
  },
  {
   "cell_type": "code",
   "execution_count": 4,
   "id": "a2e719f1-1286-40ca-8cb8-69642d969f09",
   "metadata": {},
   "outputs": [],
   "source": []
  },
  {
   "cell_type": "code",
   "execution_count": 5,
   "id": "e66c91fd-65c3-44d5-a164-0042e5a4e4c9",
   "metadata": {},
   "outputs": [
    {
     "data": {
      "text/plain": [
       "779"
      ]
     },
     "execution_count": 5,
     "metadata": {},
     "output_type": "execute_result"
    }
   ],
   "source": []
  },
  {
   "cell_type": "code",
   "execution_count": 6,
   "id": "462c2186-8f17-4df7-823a-7a77d238b0cb",
   "metadata": {},
   "outputs": [
    {
     "data": {
      "text/plain": [
       "731"
      ]
     },
     "execution_count": 6,
     "metadata": {},
     "output_type": "execute_result"
    }
   ],
   "source": []
  },
  {
   "cell_type": "code",
   "execution_count": 7,
   "id": "2fb1da2c-9c7e-43e7-851f-e3784eae7618",
   "metadata": {},
   "outputs": [
    {
     "data": {
      "text/plain": [
       "'ftp.sra.ebi.ac.uk/vol1/fastq/SRR197/067/SRR19762167/SRR19762167_1.fastq.gz;ftp.sra.ebi.ac.uk/vol1/fastq/SRR197/067/SRR19762167/SRR19762167_2.fastq.gz'"
      ]
     },
     "execution_count": 7,
     "metadata": {},
     "output_type": "execute_result"
    }
   ],
   "source": [
    "df.fastq_ftp.values[0]"
   ]
  },
  {
   "cell_type": "code",
   "execution_count": 15,
   "id": "37ca15ec-cd28-4342-a0cd-a2280191e3c9",
   "metadata": {},
   "outputs": [],
   "source": []
  },
  {
   "cell_type": "code",
   "execution_count": 16,
   "id": "7e87eb16-a830-4d9a-a533-541950d25ca6",
   "metadata": {},
   "outputs": [],
   "source": []
  },
  {
   "cell_type": "code",
   "execution_count": null,
   "id": "9c05c7fb-58b8-4e24-bcbd-d58f950bad53",
   "metadata": {},
   "outputs": [],
   "source": []
  }
 ],
 "metadata": {
  "kernelspec": {
   "display_name": "Python 3",
   "language": "python",
   "name": "python3"
  },
  "language_info": {
   "codemirror_mode": {
    "name": "ipython",
    "version": 3
   },
   "file_extension": ".py",
   "mimetype": "text/x-python",
   "name": "python",
   "nbconvert_exporter": "python",
   "pygments_lexer": "ipython3",
   "version": "3.7.12"
  }
 },
 "nbformat": 4,
 "nbformat_minor": 5
}
