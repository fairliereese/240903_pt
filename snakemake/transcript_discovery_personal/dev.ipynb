{
 "cells": [
  {
   "cell_type": "code",
   "execution_count": 120,
   "id": "7cf6b1be-0c61-483b-951d-e74448da6a54",
   "metadata": {},
   "outputs": [],
   "source": [
    "import pandas as pd\n",
    "import numpy as np\n",
    "import scipy.stats as st\n",
    "import seaborn as sns\n",
    "import sys\n",
    "import os\n",
    "import matplotlib.pyplot as plt\n",
    "import swan_vis as swan\n",
    "import yaml\n",
    "from snakemake.io import expand\n",
    "import cerberus\n",
    "import pyranges as pr\n",
    "import upsetplot\n",
    "\n",
    "p = os.path.dirname(os.path.dirname(os.getcwd()))\n",
    "sys.path.append(p)\n",
    "\n",
    "from scripts.utils import *\n",
    "from scripts.vcf_utils import *\n",
    "from scripts.sm_utils import *\n",
    "from scripts.plotting import *"
   ]
  },
  {
   "cell_type": "code",
   "execution_count": 121,
   "id": "422c398c-7628-41fd-9b8f-3ca2a03c672e",
   "metadata": {},
   "outputs": [],
   "source": [
    "config = load_config()\n",
    "od = ''\n",
    "\n",
    "def proc_cfg(entry, od):\n",
    "    entry = entry.replace('../../', '')\n",
    "    entry = od+entry\n",
    "    return entry"
   ]
  },
  {
   "cell_type": "code",
   "execution_count": null,
   "id": "aa6ea345-fb52-4ef3-a473-b14417f7a9c9",
   "metadata": {},
   "outputs": [],
   "source": []
  },
  {
   "cell_type": "code",
   "execution_count": 126,
   "id": "0d28ab8c-0237-4b87-b061-6e7025c5ab09",
   "metadata": {},
   "outputs": [],
   "source": [
    "# sample information\n",
    "df = load_meta()\n",
    "df = df.loc[~df['sample'].str.contains('_')]\n",
    "df['lab_sample'] = df['lab_number_sample'].astype(str)+'_'+\\\n",
    "                      df['lab_sampleid'].astype(str)+'_'+\\\n",
    "                      df['cell_line_id'].astype(str)\n",
    "df = df[['cell_line_id', 'sample', 'hapmap_DNA_ID', 'lab_sample']].drop_duplicates()\n",
    "\n",
    "temp_df = pd.read_csv('cell_line_ids.txt', header=None, names=['cell_line_id'])\n",
    "\n",
    "# make a 1000g cell line id col\n",
    "df['cell_line_id_1000g'] = df.cell_line_id\n",
    "\n",
    "inds = df.loc[~df.cell_line_id_1000g.isin(temp_df.cell_line_id.tolist())].index\n",
    "df.loc[inds, 'cell_line_id_1000g'] = df.loc[inds, 'hapmap_DNA_ID']\n",
    "len(df.index)\n",
    "\n",
    "# limit to just those in 1000g\n",
    "df = df.loc[df.cell_line_id_1000g.isin(temp_df.cell_line_id.tolist())]\n",
    "assert len(df.index) == 30\n",
    "\n",
    "hap = ['hap1', 'hap2']"
   ]
  },
  {
   "cell_type": "code",
   "execution_count": 137,
   "id": "940c3031-88b2-4005-9921-2e9aca8728ec",
   "metadata": {},
   "outputs": [],
   "source": [
    "# genome information table\n",
    "sqanti_genomes = ['hap1', 'hap2', 'hg38']\n",
    "sqanti_df = df.copy(deep=True)\n",
    "sqanti_df['sqanti_genome'] = [sqanti_genomes] * len(df)\n",
    "sqanti_df = sqanti_df.explode('sqanti_genome').reset_index(drop=True)\n",
    "# sqanti_df.head()\n",
    "# sqanti_df['sqanti_genome_fa'] = config['ref']['fa']\n",
    "# for ind, entry in sqanti_df.iterrows():\n",
    "#     if entry.sqanti_genome in hap:\n",
    "#         entry.sqanti_genome_fa = expand(config['lr']['td_personal']['ref_fa'],\n",
    "#                                         hap=entry.sqanti_genome,\n",
    "#                                         cell_line_id=entry.cell_line_id_1000g)[0]\n",
    "# # check no hap things in hg38 rows\n",
    "# assert len(sqanti_df.loc[(~(sqanti_df.sqanti_genome=='hg38')&\n",
    "#                           (sqanti_df.sqanti_genome_fa.str.contains('hg38')))]) == 0"
   ]
  },
  {
   "cell_type": "code",
   "execution_count": 138,
   "id": "b2a4c75f-d017-418b-addf-83b509352d4c",
   "metadata": {},
   "outputs": [],
   "source": [
    "def get_sqanti_ref_fa(wc):\n",
    "    if wc['sqanti_genome'] == 'hg38':\n",
    "        return config['ref']['fa']\n",
    "    else:\n",
    "        return expand(config['lr']['td_personal']['ref_fa'],\n",
    "                        cell_line_id=wc['cell_line_id'],\n",
    "                        hap=wc['sqanti_genome'])[0]\n",
    "    "
   ]
  },
  {
   "cell_type": "code",
   "execution_count": 142,
   "id": "e9f259e4-5c79-4f32-aac0-025a6b6910b0",
   "metadata": {},
   "outputs": [
    {
     "name": "stdout",
     "output_type": "stream",
     "text": [
      "/gpfs/projects/bsc83/Projects/pantranscriptome/pclavell/08_allele_specifics/data/01_samples_vcf/HG04217_hap1.fa\n",
      "\n",
      "/gpfs/projects/bsc83/Projects/pantranscriptome/pclavell/08_allele_specifics/data/01_samples_vcf/HG04217_hap2.fa\n",
      "\n",
      "../../ref/hg38.fa\n",
      "\n"
     ]
    }
   ],
   "source": [
    "wc = {'cell_line_id': 'HG04217', 'sqanti_genome': 'hap1'}\n",
    "print(get_sqanti_ref_fa(wc))\n",
    "print()\n",
    "\n",
    "wc = {'cell_line_id': 'HG04217', 'sqanti_genome': 'hap2'}\n",
    "print(get_sqanti_ref_fa(wc))\n",
    "print()\n",
    "\n",
    "wc = {'cell_line_id': 'HG04217', 'sqanti_genome': 'hg38'}\n",
    "print(get_sqanti_ref_fa(wc))\n",
    "print()"
   ]
  },
  {
   "cell_type": "code",
   "execution_count": 139,
   "id": "97a81635-820c-474c-8cb7-7394a900bd2a",
   "metadata": {},
   "outputs": [
    {
     "data": {
      "text/html": [
       "<div>\n",
       "<style scoped>\n",
       "    .dataframe tbody tr th:only-of-type {\n",
       "        vertical-align: middle;\n",
       "    }\n",
       "\n",
       "    .dataframe tbody tr th {\n",
       "        vertical-align: top;\n",
       "    }\n",
       "\n",
       "    .dataframe thead th {\n",
       "        text-align: right;\n",
       "    }\n",
       "</style>\n",
       "<table border=\"1\" class=\"dataframe\">\n",
       "  <thead>\n",
       "    <tr style=\"text-align: right;\">\n",
       "      <th></th>\n",
       "      <th>cell_line_id</th>\n",
       "      <th>sample</th>\n",
       "      <th>hapmap_DNA_ID</th>\n",
       "      <th>lab_sample</th>\n",
       "      <th>cell_line_id_1000g</th>\n",
       "      <th>sqanti_genome</th>\n",
       "    </tr>\n",
       "  </thead>\n",
       "  <tbody>\n",
       "    <tr>\n",
       "      <th>0</th>\n",
       "      <td>HG04217</td>\n",
       "      <td>ITU5</td>\n",
       "      <td>no_hapmap</td>\n",
       "      <td>39_IN5_HG04217</td>\n",
       "      <td>HG04217</td>\n",
       "      <td>hap1</td>\n",
       "    </tr>\n",
       "    <tr>\n",
       "      <th>1</th>\n",
       "      <td>HG04217</td>\n",
       "      <td>ITU5</td>\n",
       "      <td>no_hapmap</td>\n",
       "      <td>39_IN5_HG04217</td>\n",
       "      <td>HG04217</td>\n",
       "      <td>hap2</td>\n",
       "    </tr>\n",
       "    <tr>\n",
       "      <th>2</th>\n",
       "      <td>HG04217</td>\n",
       "      <td>ITU5</td>\n",
       "      <td>no_hapmap</td>\n",
       "      <td>39_IN5_HG04217</td>\n",
       "      <td>HG04217</td>\n",
       "      <td>hg38</td>\n",
       "    </tr>\n",
       "    <tr>\n",
       "      <th>3</th>\n",
       "      <td>HG04216</td>\n",
       "      <td>ITU4</td>\n",
       "      <td>no_hapmap</td>\n",
       "      <td>38_IN4_HG04216</td>\n",
       "      <td>HG04216</td>\n",
       "      <td>hap1</td>\n",
       "    </tr>\n",
       "    <tr>\n",
       "      <th>4</th>\n",
       "      <td>HG04216</td>\n",
       "      <td>ITU4</td>\n",
       "      <td>no_hapmap</td>\n",
       "      <td>38_IN4_HG04216</td>\n",
       "      <td>HG04216</td>\n",
       "      <td>hap2</td>\n",
       "    </tr>\n",
       "  </tbody>\n",
       "</table>\n",
       "</div>"
      ],
      "text/plain": [
       "  cell_line_id sample hapmap_DNA_ID      lab_sample cell_line_id_1000g  \\\n",
       "0      HG04217   ITU5     no_hapmap  39_IN5_HG04217            HG04217   \n",
       "1      HG04217   ITU5     no_hapmap  39_IN5_HG04217            HG04217   \n",
       "2      HG04217   ITU5     no_hapmap  39_IN5_HG04217            HG04217   \n",
       "3      HG04216   ITU4     no_hapmap  38_IN4_HG04216            HG04216   \n",
       "4      HG04216   ITU4     no_hapmap  38_IN4_HG04216            HG04216   \n",
       "\n",
       "  sqanti_genome  \n",
       "0          hap1  \n",
       "1          hap2  \n",
       "2          hg38  \n",
       "3          hap1  \n",
       "4          hap2  "
      ]
     },
     "execution_count": 139,
     "metadata": {},
     "output_type": "execute_result"
    }
   ],
   "source": [
    "sqanti_df.head()"
   ]
  },
  {
   "cell_type": "code",
   "execution_count": null,
   "id": "d941ee99-e584-4200-a7ff-25891ccdfac6",
   "metadata": {},
   "outputs": [],
   "source": []
  },
  {
   "cell_type": "code",
   "execution_count": 123,
   "id": "ab6ad7b7-833d-4116-9177-cb04be5f8edf",
   "metadata": {},
   "outputs": [],
   "source": [
    "# df"
   ]
  },
  {
   "cell_type": "code",
   "execution_count": 124,
   "id": "a3a98fac-0307-44a3-9af4-b50c735045c3",
   "metadata": {},
   "outputs": [],
   "source": [
    "df = load_meta()\n",
    "df = df.loc[~df['sample'].str.contains('_')]\n",
    "df['lab_sample'] = df['lab_number_sample'].astype(str)+'_'+\\\n",
    "                      df['lab_sampleid'].astype(str)+'_'+\\\n",
    "                      df['cell_line_id'].astype(str)\n",
    "df = df[['cell_line_id', 'sample', 'hapmap_DNA_ID', 'lab_sample']].drop_duplicates()\n",
    "\n",
    "temp_df = pd.read_csv('cell_line_ids.txt', header=None, names=['cell_line_id'])\n",
    "\n",
    "# make a 1000g cell line id col\n",
    "df['cell_line_id_1000g'] = df.cell_line_id\n",
    "\n",
    "inds = df.loc[~df.cell_line_id_1000g.isin(temp_df.cell_line_id.tolist())].index\n",
    "df.loc[inds, 'cell_line_id_1000g'] = df.loc[inds, 'hapmap_DNA_ID']\n",
    "len(df.index)\n",
    "\n",
    "# limit to just those in 1000g\n",
    "df = df.loc[df.cell_line_id_1000g.isin(temp_df.cell_line_id.tolist())]\n",
    "assert len(df.index) == 30\n",
    "\n",
    "hap = ['hap1', 'hap2']"
   ]
  },
  {
   "cell_type": "code",
   "execution_count": 125,
   "id": "45b77c2e-cd90-4d9d-b4be-206d4c9d977e",
   "metadata": {},
   "outputs": [
    {
     "data": {
      "text/html": [
       "<div>\n",
       "<style scoped>\n",
       "    .dataframe tbody tr th:only-of-type {\n",
       "        vertical-align: middle;\n",
       "    }\n",
       "\n",
       "    .dataframe tbody tr th {\n",
       "        vertical-align: top;\n",
       "    }\n",
       "\n",
       "    .dataframe thead th {\n",
       "        text-align: right;\n",
       "    }\n",
       "</style>\n",
       "<table border=\"1\" class=\"dataframe\">\n",
       "  <thead>\n",
       "    <tr style=\"text-align: right;\">\n",
       "      <th></th>\n",
       "      <th>cell_line_id</th>\n",
       "      <th>sample</th>\n",
       "      <th>hapmap_DNA_ID</th>\n",
       "      <th>lab_sample</th>\n",
       "      <th>cell_line_id_1000g</th>\n",
       "    </tr>\n",
       "  </thead>\n",
       "  <tbody>\n",
       "    <tr>\n",
       "      <th>27</th>\n",
       "      <td>GM19328</td>\n",
       "      <td>LWK2</td>\n",
       "      <td>NA19328</td>\n",
       "      <td>20_KE2_GM19328</td>\n",
       "      <td>NA19328</td>\n",
       "    </tr>\n",
       "  </tbody>\n",
       "</table>\n",
       "</div>"
      ],
      "text/plain": [
       "   cell_line_id sample hapmap_DNA_ID      lab_sample cell_line_id_1000g\n",
       "27      GM19328   LWK2       NA19328  20_KE2_GM19328            NA19328"
      ]
     },
     "execution_count": 125,
     "metadata": {},
     "output_type": "execute_result"
    }
   ],
   "source": [
    "bad_samples = ['NA19328']\n",
    "\n",
    "df.loc[df.cell_line_id_1000g.isin(bad_samples)]"
   ]
  },
  {
   "cell_type": "code",
   "execution_count": 118,
   "id": "6bb1afca-88ef-4e4e-8c89-701c194f7e30",
   "metadata": {},
   "outputs": [
    {
     "data": {
      "text/plain": [
       "'39_IN5_HG04217'"
      ]
     },
     "execution_count": 118,
     "metadata": {},
     "output_type": "execute_result"
    }
   ],
   "source": [
    "def get_df_val(df, col1, col_dict):\n",
    "    temp = df.copy(deep=True)\n",
    "\n",
    "    for key, item in col_dict.items():\n",
    "        temp = temp.loc[temp[key] == item]\n",
    "\n",
    "    val = temp[col1].unique()\n",
    "    assert len(val) == 1\n",
    "    return val[0]\n",
    "get_df_val(df,\n",
    "                            'lab_sample',\n",
    "                            {'cell_line_id_1000g': 'HG04217'})"
   ]
  },
  {
   "cell_type": "code",
   "execution_count": 119,
   "id": "d247e100-8e13-4aa5-abe6-31f9af98981f",
   "metadata": {},
   "outputs": [
    {
     "data": {
      "text/plain": [
       "['/gpfs/projects/bsc83/Projects/pantranscriptome/novelannotations/espresso/39_IN5_HG04217_espresso.gtf']"
      ]
     },
     "execution_count": 119,
     "metadata": {},
     "output_type": "execute_result"
    }
   ],
   "source": [
    "expand(config['lr']['espresso']['gtf'],\n",
    "       lab_rep=get_df_val(df,\n",
    "                        'lab_sample',\n",
    "                        {'cell_line_id_1000g': 'HG04217'}))"
   ]
  },
  {
   "cell_type": "code",
   "execution_count": null,
   "id": "fde9757e-3fcc-431e-868e-ee579b878104",
   "metadata": {},
   "outputs": [],
   "source": []
  },
  {
   "cell_type": "code",
   "execution_count": null,
   "id": "a76c8dbc-91f3-4e52-a609-9a6bd9c0985d",
   "metadata": {},
   "outputs": [],
   "source": []
  },
  {
   "cell_type": "code",
   "execution_count": null,
   "id": "5586b4d6-a783-4dbb-bd31-e5ac4ec4731b",
   "metadata": {},
   "outputs": [],
   "source": []
  },
  {
   "cell_type": "code",
   "execution_count": null,
   "id": "b4216912-58f3-41a8-900c-f43832366f15",
   "metadata": {},
   "outputs": [],
   "source": []
  },
  {
   "cell_type": "markdown",
   "id": "055c072a-5d85-4eae-9fb1-8e9fbe72dc8d",
   "metadata": {},
   "source": [
    "## Old"
   ]
  },
  {
   "cell_type": "code",
   "execution_count": 65,
   "id": "ab0851fe-d3e0-4f83-a9ff-055f57dad4e0",
   "metadata": {},
   "outputs": [
    {
     "name": "stdout",
     "output_type": "stream",
     "text": [
      "43\n"
     ]
    },
    {
     "data": {
      "text/html": [
       "<div>\n",
       "<style scoped>\n",
       "    .dataframe tbody tr th:only-of-type {\n",
       "        vertical-align: middle;\n",
       "    }\n",
       "\n",
       "    .dataframe tbody tr th {\n",
       "        vertical-align: top;\n",
       "    }\n",
       "\n",
       "    .dataframe thead th {\n",
       "        text-align: right;\n",
       "    }\n",
       "</style>\n",
       "<table border=\"1\" class=\"dataframe\">\n",
       "  <thead>\n",
       "    <tr style=\"text-align: right;\">\n",
       "      <th></th>\n",
       "      <th>lab_rep</th>\n",
       "      <th>cell_line_id</th>\n",
       "      <th>tech_rep_num</th>\n",
       "      <th>tech_rep</th>\n",
       "    </tr>\n",
       "  </thead>\n",
       "  <tbody>\n",
       "    <tr>\n",
       "      <th>0</th>\n",
       "      <td>10_NI5_GM19117</td>\n",
       "      <td>GM19117</td>\n",
       "      <td>1</td>\n",
       "      <td>GM19117_1</td>\n",
       "    </tr>\n",
       "    <tr>\n",
       "      <th>1</th>\n",
       "      <td>11_NI6_GM19129</td>\n",
       "      <td>GM19129</td>\n",
       "      <td>1</td>\n",
       "      <td>GM19129_1</td>\n",
       "    </tr>\n",
       "    <tr>\n",
       "      <th>2</th>\n",
       "      <td>12_NI7_GM19240</td>\n",
       "      <td>GM19240</td>\n",
       "      <td>1</td>\n",
       "      <td>GM19240_1</td>\n",
       "    </tr>\n",
       "    <tr>\n",
       "      <th>3</th>\n",
       "      <td>13_CH1_GM18542</td>\n",
       "      <td>GM18542</td>\n",
       "      <td>1</td>\n",
       "      <td>GM18542_1</td>\n",
       "    </tr>\n",
       "    <tr>\n",
       "      <th>4</th>\n",
       "      <td>14_CH2_GM18561</td>\n",
       "      <td>GM18561</td>\n",
       "      <td>1</td>\n",
       "      <td>GM18561_1</td>\n",
       "    </tr>\n",
       "  </tbody>\n",
       "</table>\n",
       "</div>"
      ],
      "text/plain": [
       "          lab_rep cell_line_id  tech_rep_num   tech_rep\n",
       "0  10_NI5_GM19117      GM19117             1  GM19117_1\n",
       "1  11_NI6_GM19129      GM19129             1  GM19129_1\n",
       "2  12_NI7_GM19240      GM19240             1  GM19240_1\n",
       "3  13_CH1_GM18542      GM18542             1  GM18542_1\n",
       "4  14_CH2_GM18561      GM18561             1  GM18561_1"
      ]
     },
     "execution_count": 65,
     "metadata": {},
     "output_type": "execute_result"
    }
   ],
   "source": [
    "meta_df = parse_config(meta_file)\n",
    "print(len(meta_df.index))\n",
    "meta_df.rename({'sample':'cell_line_id'}, axis=1, inplace=True)\n",
    "meta_df.head()"
   ]
  },
  {
   "cell_type": "code",
   "execution_count": 47,
   "id": "a355e321-38bf-4a68-9203-b54c676dc9de",
   "metadata": {},
   "outputs": [],
   "source": [
    "temp_df = pd.read_csv('cell_line_ids.txt', header=None, names=['cell_line_id'])"
   ]
  },
  {
   "cell_type": "code",
   "execution_count": 48,
   "id": "3e2ed291-9b40-4c38-a55b-a00e890fc091",
   "metadata": {},
   "outputs": [
    {
     "data": {
      "text/plain": [
       "43"
      ]
     },
     "execution_count": 48,
     "metadata": {},
     "output_type": "execute_result"
    }
   ],
   "source": [
    "meta_df_2 = load_meta()\n",
    "meta_df_2 = meta_df_2.loc[~meta_df_2['sample'].str.contains('_')]\n",
    "meta_df_2[['cell_line_id', 'sample', 'hapmap_DNA_ID']].drop_duplicates()\n",
    "meta_df = meta_df.merge(meta_df_2, \n",
    "                        how='left',\n",
    "                        on='cell_line_id')\n",
    "len(meta_df.index)"
   ]
  },
  {
   "cell_type": "code",
   "execution_count": 49,
   "id": "9bda11c2-e435-446f-8d1a-cb7d03f53d16",
   "metadata": {},
   "outputs": [],
   "source": [
    "# meta_df = meta_df.loc[meta_df.cell_line_id.isin(temp_df['cell_line_id'].tolist())]\n",
    "# len(meta_df.index)"
   ]
  },
  {
   "cell_type": "code",
   "execution_count": 50,
   "id": "1c7b3079-ca05-4d13-838b-0d9706241eb9",
   "metadata": {},
   "outputs": [
    {
     "data": {
      "text/plain": [
       "43"
      ]
     },
     "execution_count": 50,
     "metadata": {},
     "output_type": "execute_result"
    }
   ],
   "source": [
    "len(meta_df['cell_line_id'].unique())"
   ]
  },
  {
   "cell_type": "code",
   "execution_count": 57,
   "id": "08c4e8f2-ebd0-4fb1-bb83-6858b8bcaf3b",
   "metadata": {},
   "outputs": [
    {
     "data": {
      "text/plain": [
       "30"
      ]
     },
     "execution_count": 57,
     "metadata": {},
     "output_type": "execute_result"
    }
   ],
   "source": [
    "meta_df = meta_df.loc[(meta_df.cell_line_id.isin(temp_df.cell_line_id.tolist()))|\n",
    "                (meta_df.hapmap_DNA_ID.isin(temp_df.cell_line_id.tolist()))]"
   ]
  },
  {
   "cell_type": "code",
   "execution_count": 58,
   "id": "5126c762-4c00-4667-897b-ef950720dcad",
   "metadata": {},
   "outputs": [
    {
     "name": "stdout",
     "output_type": "stream",
     "text": [
      "30\n"
     ]
    }
   ],
   "source": [
    "# sample information\n",
    "meta_file = '../config.tsv'\n",
    "meta_df = parse_config(meta_file)\n",
    "# meta_df.rename({'sample':'cell_line_id'}, axis=1, inplace=True)\n",
    "\n",
    "# # info about the ref files\n",
    "# temp_df = pd.read_csv('cell_line_ids.txt', header=None, names=['cell_line_id'])\n",
    "\n",
    "# meta_df_2 = load_meta()\n",
    "# meta_df_2 = meta_df_2.loc[~meta_df_2['sample'].str.contains('_')]\n",
    "# meta_df_2[['cell_line_id', 'sample', 'hapmap_DNA_ID']].drop_duplicates()\n",
    "# meta_df = meta_df.merge(meta_df_2,\n",
    "#                         how='left',\n",
    "#                         on='cell_line_id')\n",
    "\n",
    "# # limit to 1000g samples\n",
    "# meta_df = meta_df.loc[(meta_df.cell_line_id.isin(temp_df.cell_line_id.tolist()))|\n",
    "#                 (meta_df.hapmap_DNA_ID.isin(temp_df.cell_line_id.tolist()))]\n",
    "\n",
    "# hap = ['hap1', 'hap2']\n",
    "# print(len(meta_df.index))"
   ]
  },
  {
   "cell_type": "code",
   "execution_count": 60,
   "id": "6b36eb74-868e-4922-9fe3-d757ccfb0c20",
   "metadata": {},
   "outputs": [
    {
     "data": {
      "text/plain": [
       "60"
      ]
     },
     "execution_count": 60,
     "metadata": {},
     "output_type": "execute_result"
    }
   ],
   "source": [
    "meta_df = meta_df.merge(temp_df,\n",
    "                        how='left', \n",
    "                        on='cell_line_id')\n",
    "meta_df = meta_df.merge(temp_df,\n",
    "                        how='left',\n",
    "                        left_on='hapmap_DNA_ID',\n",
    "                        right_on='cell_line_id')"
   ]
  },
  {
   "cell_type": "code",
   "execution_count": 61,
   "id": "46d8d10c-2736-449a-b6de-3ef8ec5518e5",
   "metadata": {},
   "outputs": [
    {
     "data": {
      "text/html": [
       "<div>\n",
       "<style scoped>\n",
       "    .dataframe tbody tr th:only-of-type {\n",
       "        vertical-align: middle;\n",
       "    }\n",
       "\n",
       "    .dataframe tbody tr th {\n",
       "        vertical-align: top;\n",
       "    }\n",
       "\n",
       "    .dataframe thead th {\n",
       "        text-align: right;\n",
       "    }\n",
       "</style>\n",
       "<table border=\"1\" class=\"dataframe\">\n",
       "  <thead>\n",
       "    <tr style=\"text-align: right;\">\n",
       "      <th></th>\n",
       "      <th>lab_rep</th>\n",
       "      <th>cell_line_id_x</th>\n",
       "      <th>tech_rep_num</th>\n",
       "      <th>tech_rep</th>\n",
       "      <th>lab_number_sample</th>\n",
       "      <th>lab_sampleid</th>\n",
       "      <th>sample</th>\n",
       "      <th>population</th>\n",
       "      <th>color_pop</th>\n",
       "      <th>ooa</th>\n",
       "      <th>...</th>\n",
       "      <th>two_runs</th>\n",
       "      <th>was_switched_with</th>\n",
       "      <th>relabeled</th>\n",
       "      <th>family_member</th>\n",
       "      <th>family</th>\n",
       "      <th>population_full_name</th>\n",
       "      <th>population _description</th>\n",
       "      <th>extra_info</th>\n",
       "      <th>coriell_link</th>\n",
       "      <th>cell_line_id_y</th>\n",
       "    </tr>\n",
       "  </thead>\n",
       "  <tbody>\n",
       "    <tr>\n",
       "      <th>0</th>\n",
       "      <td>10_NI5_GM19117</td>\n",
       "      <td>GM19117</td>\n",
       "      <td>1</td>\n",
       "      <td>GM19117_1</td>\n",
       "      <td>10</td>\n",
       "      <td>NI5</td>\n",
       "      <td>YRI5</td>\n",
       "      <td>YRI</td>\n",
       "      <td>#DFBD00</td>\n",
       "      <td>AFR</td>\n",
       "      <td>...</td>\n",
       "      <td>False</td>\n",
       "      <td>FALSE</td>\n",
       "      <td>False</td>\n",
       "      <td>Father</td>\n",
       "      <td>Y100</td>\n",
       "      <td>Yoruba in Ibadan, Nigeria</td>\n",
       "      <td>Yoruba in Ibadan, Nigeria</td>\n",
       "      <td>Empty</td>\n",
       "      <td>https://www.coriell.org/0/Sections/Search/Samp...</td>\n",
       "      <td>NA19117</td>\n",
       "    </tr>\n",
       "    <tr>\n",
       "      <th>1</th>\n",
       "      <td>10_NI5_GM19117</td>\n",
       "      <td>GM19117</td>\n",
       "      <td>1</td>\n",
       "      <td>GM19117_1</td>\n",
       "      <td>10</td>\n",
       "      <td>NI5</td>\n",
       "      <td>YRI5</td>\n",
       "      <td>YRI</td>\n",
       "      <td>#DFBD00</td>\n",
       "      <td>AFR</td>\n",
       "      <td>...</td>\n",
       "      <td>False</td>\n",
       "      <td>FALSE</td>\n",
       "      <td>False</td>\n",
       "      <td>Father</td>\n",
       "      <td>Y100</td>\n",
       "      <td>Yoruba in Ibadan, Nigeria</td>\n",
       "      <td>Yoruba in Ibadan, Nigeria</td>\n",
       "      <td>Empty</td>\n",
       "      <td>https://www.coriell.org/0/Sections/Search/Samp...</td>\n",
       "      <td>NA19117</td>\n",
       "    </tr>\n",
       "    <tr>\n",
       "      <th>2</th>\n",
       "      <td>11_NI6_GM19129</td>\n",
       "      <td>GM19129</td>\n",
       "      <td>1</td>\n",
       "      <td>GM19129_1</td>\n",
       "      <td>11</td>\n",
       "      <td>NI6</td>\n",
       "      <td>YRI6</td>\n",
       "      <td>YRI</td>\n",
       "      <td>#DFBD00</td>\n",
       "      <td>AFR</td>\n",
       "      <td>...</td>\n",
       "      <td>False</td>\n",
       "      <td>FALSE</td>\n",
       "      <td>False</td>\n",
       "      <td>Child</td>\n",
       "      <td>Y077</td>\n",
       "      <td>Yoruba in Ibadan, Nigeria</td>\n",
       "      <td>Yoruba in Ibadan, Nigeria</td>\n",
       "      <td>Empty</td>\n",
       "      <td>https://www.coriell.org/0/Sections/Search/Samp...</td>\n",
       "      <td>NA19129</td>\n",
       "    </tr>\n",
       "    <tr>\n",
       "      <th>3</th>\n",
       "      <td>11_NI6_GM19129</td>\n",
       "      <td>GM19129</td>\n",
       "      <td>1</td>\n",
       "      <td>GM19129_1</td>\n",
       "      <td>11</td>\n",
       "      <td>NI6</td>\n",
       "      <td>YRI6</td>\n",
       "      <td>YRI</td>\n",
       "      <td>#DFBD00</td>\n",
       "      <td>AFR</td>\n",
       "      <td>...</td>\n",
       "      <td>False</td>\n",
       "      <td>FALSE</td>\n",
       "      <td>False</td>\n",
       "      <td>Child</td>\n",
       "      <td>Y077</td>\n",
       "      <td>Yoruba in Ibadan, Nigeria</td>\n",
       "      <td>Yoruba in Ibadan, Nigeria</td>\n",
       "      <td>Empty</td>\n",
       "      <td>https://www.coriell.org/0/Sections/Search/Samp...</td>\n",
       "      <td>NA19129</td>\n",
       "    </tr>\n",
       "    <tr>\n",
       "      <th>4</th>\n",
       "      <td>12_NI7_GM19240</td>\n",
       "      <td>GM19240</td>\n",
       "      <td>1</td>\n",
       "      <td>GM19240_1</td>\n",
       "      <td>12</td>\n",
       "      <td>NI7</td>\n",
       "      <td>YRI7</td>\n",
       "      <td>YRI</td>\n",
       "      <td>#DFBD00</td>\n",
       "      <td>AFR</td>\n",
       "      <td>...</td>\n",
       "      <td>False</td>\n",
       "      <td>FALSE</td>\n",
       "      <td>False</td>\n",
       "      <td>Child</td>\n",
       "      <td>Y117</td>\n",
       "      <td>Yoruba in Ibadan, Nigeria</td>\n",
       "      <td>Yoruba in Ibadan, Nigeria</td>\n",
       "      <td>Empty</td>\n",
       "      <td>https://www.coriell.org/0/Sections/Search/Samp...</td>\n",
       "      <td>NA19240</td>\n",
       "    </tr>\n",
       "  </tbody>\n",
       "</table>\n",
       "<p>5 rows × 53 columns</p>\n",
       "</div>"
      ],
      "text/plain": [
       "          lab_rep cell_line_id_x  tech_rep_num   tech_rep lab_number_sample  \\\n",
       "0  10_NI5_GM19117        GM19117             1  GM19117_1                10   \n",
       "1  10_NI5_GM19117        GM19117             1  GM19117_1                10   \n",
       "2  11_NI6_GM19129        GM19129             1  GM19129_1                11   \n",
       "3  11_NI6_GM19129        GM19129             1  GM19129_1                11   \n",
       "4  12_NI7_GM19240        GM19240             1  GM19240_1                12   \n",
       "\n",
       "  lab_sampleid sample population color_pop  ooa  ... two_runs  \\\n",
       "0          NI5   YRI5        YRI   #DFBD00  AFR  ...    False   \n",
       "1          NI5   YRI5        YRI   #DFBD00  AFR  ...    False   \n",
       "2          NI6   YRI6        YRI   #DFBD00  AFR  ...    False   \n",
       "3          NI6   YRI6        YRI   #DFBD00  AFR  ...    False   \n",
       "4          NI7   YRI7        YRI   #DFBD00  AFR  ...    False   \n",
       "\n",
       "   was_switched_with relabeled family_member  family  \\\n",
       "0              FALSE     False        Father    Y100   \n",
       "1              FALSE     False        Father    Y100   \n",
       "2              FALSE     False         Child    Y077   \n",
       "3              FALSE     False         Child    Y077   \n",
       "4              FALSE     False         Child    Y117   \n",
       "\n",
       "        population_full_name    population _description  extra_info  \\\n",
       "0  Yoruba in Ibadan, Nigeria  Yoruba in Ibadan, Nigeria       Empty   \n",
       "1  Yoruba in Ibadan, Nigeria  Yoruba in Ibadan, Nigeria       Empty   \n",
       "2  Yoruba in Ibadan, Nigeria  Yoruba in Ibadan, Nigeria       Empty   \n",
       "3  Yoruba in Ibadan, Nigeria  Yoruba in Ibadan, Nigeria       Empty   \n",
       "4  Yoruba in Ibadan, Nigeria  Yoruba in Ibadan, Nigeria       Empty   \n",
       "\n",
       "                                        coriell_link  cell_line_id_y  \n",
       "0  https://www.coriell.org/0/Sections/Search/Samp...         NA19117  \n",
       "1  https://www.coriell.org/0/Sections/Search/Samp...         NA19117  \n",
       "2  https://www.coriell.org/0/Sections/Search/Samp...         NA19129  \n",
       "3  https://www.coriell.org/0/Sections/Search/Samp...         NA19129  \n",
       "4  https://www.coriell.org/0/Sections/Search/Samp...         NA19240  \n",
       "\n",
       "[5 rows x 53 columns]"
      ]
     },
     "execution_count": 61,
     "metadata": {},
     "output_type": "execute_result"
    }
   ],
   "source": [
    "meta_df.head()"
   ]
  },
  {
   "cell_type": "code",
   "execution_count": 51,
   "id": "df51a446-4c42-481c-8e3d-b9419de612e9",
   "metadata": {},
   "outputs": [],
   "source": [
    "# print(len(meta_df.loc[meta_df['1000G']==True]['cell_line_id'].unique()))\n",
    "# print(len(meta_df.loc[(meta_df['1000G']==True)&\n",
    "#                       (meta_df['1000g_cell_line_id_x'].isnull())&\\\n",
    "#                       (meta_df['1000g_cell_line_id_y'].notnull())]['cell_line_id'].unique()))\n",
    "# print(len(meta_df.loc[(meta_df['1000G']==True)&\n",
    "#                       (meta_df['1000g_cell_line_id_y'].isnull())&\\\n",
    "#                       (meta_df['1000g_cell_line_id_x'].notnull())]['cell_line_id'].unique()))\n",
    "# print(len(meta_df.loc[(meta_df['1000G']==True)&\n",
    "#                       (meta_df['1000g_cell_line_id_y'].notnull())|\\\n",
    "#                       (meta_df['1000g_cell_line_id_x'].notnull())]['cell_line_id'].unique()))\n"
   ]
  },
  {
   "cell_type": "code",
   "execution_count": 55,
   "id": "0e503de5-a8b9-4bbf-a116-94c02726e6ce",
   "metadata": {},
   "outputs": [],
   "source": [
    "def get_df_val(df, col1, col_dict):\n",
    "    temp = df.copy(deep=True)\n",
    "\n",
    "    for key, item in col_dict.items():\n",
    "        if type(key) == tuple:\n",
    "            temp2 = pd.DataFrame()\n",
    "            for i in range(len(key)):\n",
    "                sub_key = key[i]\n",
    "                temp2 = pd.concat([temp2, temp.loc[temp[sub_key]==item]], axis=0)\n",
    "            temp = temp2.drop_duplicates()\n",
    "        else:\n",
    "            temp = temp.loc[temp[key] == item]\n",
    "\n",
    "    val = temp[col1].unique()\n",
    "    assert len(val) == 1\n",
    "    return val[0]"
   ]
  },
  {
   "cell_type": "code",
   "execution_count": null,
   "id": "02031c84-36e6-4b5f-b763-a5fb033ee27b",
   "metadata": {},
   "outputs": [],
   "source": []
  },
  {
   "cell_type": "code",
   "execution_count": 56,
   "id": "503dc945-f11a-4caa-8f4c-ce91c406d8e4",
   "metadata": {},
   "outputs": [
    {
     "name": "stdout",
     "output_type": "stream",
     "text": [
      "PEL3\n",
      "PEL5\n",
      "YRI6\n",
      "ITU3\n",
      "ITU2\n",
      "YRI5\n",
      "CEU5\n",
      "YRI3\n",
      "LWK2\n",
      "LWK1\n",
      "YRI2\n",
      "YRI1\n",
      "HAC1\n",
      "YRI7\n",
      "LWK5\n",
      "CEU1\n",
      "ITU1\n",
      "HAC3\n",
      "LWK4\n",
      "HAC6\n",
      "PEL2\n",
      "HAC2\n",
      "CEU2\n",
      "CEU3\n",
      "PEL4\n",
      "ITU5\n",
      "PEL6\n",
      "PEL1\n",
      "ITU4\n",
      "CEU4\n"
     ]
    }
   ],
   "source": [
    "for thing in temp_df['cell_line_id'].unique():\n",
    "    print(get_df_val(meta_df, 'sample', {('cell_line_id', 'hapmap_DNA_ID'):thing}))"
   ]
  },
  {
   "cell_type": "code",
   "execution_count": null,
   "id": "f691e014-14ed-4d7a-b3cb-6fb7f651c5f1",
   "metadata": {},
   "outputs": [],
   "source": []
  }
 ],
 "metadata": {
  "kernelspec": {
   "display_name": "Python 3",
   "language": "python",
   "name": "python3"
  },
  "language_info": {
   "codemirror_mode": {
    "name": "ipython",
    "version": 3
   },
   "file_extension": ".py",
   "mimetype": "text/x-python",
   "name": "python",
   "nbconvert_exporter": "python",
   "pygments_lexer": "ipython3",
   "version": "3.7.12"
  }
 },
 "nbformat": 4,
 "nbformat_minor": 5
}
