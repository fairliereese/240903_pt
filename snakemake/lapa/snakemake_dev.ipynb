{
 "cells": [
  {
   "cell_type": "code",
   "execution_count": 34,
   "id": "4646da41-1008-43fd-ae81-f2e786c6a81a",
   "metadata": {},
   "outputs": [],
   "source": [
    "import pandas as pd\n",
    "import numpy as np\n",
    "import scipy.stats as st\n",
    "import seaborn as sns\n",
    "import sys\n",
    "import os\n",
    "import matplotlib.pyplot as plt\n",
    "import swan_vis as swan\n",
    "import yaml\n",
    "from snakemake.io import expand\n",
    "import cerberus\n",
    "import pyranges as pr\n",
    "import upsetplot\n",
    "import re\n",
    "\n",
    "p = os.path.dirname(os.path.dirname(os.getcwd()))\n",
    "sys.path.append(p)\n",
    "\n",
    "from scripts.utils import *\n",
    "from scripts.vcf_utils import *\n",
    "from scripts.sm_utils import *\n",
    "from scripts.plotting import *"
   ]
  },
  {
   "cell_type": "code",
   "execution_count": 66,
   "id": "8e0ffdfe-1974-48b1-a6ad-54ecf5833240",
   "metadata": {},
   "outputs": [],
   "source": [
    "config = load_config()\n",
    "od = '../../'\n",
    "\n",
    "def proc_cfg(entry, od):\n",
    "    entry = entry.replace('../../', '')\n",
    "    entry = od+entry\n",
    "    return entry"
   ]
  },
  {
   "cell_type": "code",
   "execution_count": 64,
   "id": "4a3e818f-a0d1-4eb9-ad50-b4a8f38ccc6e",
   "metadata": {},
   "outputs": [],
   "source": [
    "df = load_meta()\n",
    "df = df.loc[~df['sample'].str.contains('_')]\n",
    "df['lab_sample'] = df['lab_number_sample'].astype(str)+'_'+\\\n",
    "                      df['lab_sampleid'].astype(str)+'_'+\\\n",
    "                      df['cell_line_id'].astype(str)\n",
    "df = df.loc[df.mixed_samples==False]\n",
    "df = df[['cell_line_id', 'sample', 'hapmap_DNA_ID', 'lab_sample']].drop_duplicates()\n"
   ]
  },
  {
   "cell_type": "code",
   "execution_count": 67,
   "id": "88724ec9-68ab-4d31-982f-d14ab5e34ec7",
   "metadata": {},
   "outputs": [
    {
     "data": {
      "text/plain": [
       "{'pls_link': 'http://users.wenglab.org/moorej3/Registry-cCREs-WG/V4-Files/GRCh38-PLS.V4.bed.gz',\n",
       " 'pls_bed': '../../ref/ccre/pls.bed.gz'}"
      ]
     },
     "execution_count": 67,
     "metadata": {},
     "output_type": "execute_result"
    }
   ],
   "source": [
    "config['ref']['ccre']"
   ]
  },
  {
   "cell_type": "code",
   "execution_count": 65,
   "id": "a03aa63a-d1f4-4048-bc0a-48ccd444bc98",
   "metadata": {},
   "outputs": [
    {
     "data": {
      "text/plain": [
       "43"
      ]
     },
     "execution_count": 65,
     "metadata": {},
     "output_type": "execute_result"
    }
   ],
   "source": [
    "len(df.index)"
   ]
  },
  {
   "cell_type": "code",
   "execution_count": 56,
   "id": "32f661c7-fc67-4bd8-b463-d82b271e8ae9",
   "metadata": {},
   "outputs": [],
   "source": [
    "# def get_df_val(df, col1, col_dict):\n",
    "#     temp = df.copy(deep=True)\n",
    "#     for key, item in col_dict.items():\n",
    "#         temp = temp.loc[temp[key] == item]\n",
    "\n",
    "#     val = temp[col1].unique()\n",
    "#     assert len(val) == 1\n",
    "#     return val[0]"
   ]
  },
  {
   "cell_type": "code",
   "execution_count": 50,
   "id": "6c318d23-a5ac-49c6-b6d1-80e632913b02",
   "metadata": {},
   "outputs": [],
   "source": [
    "# input\n",
    "files = expand(config['lr']['q10_bam'],\n",
    "               lab_sample=df['lab_sample'].tolist())\n",
    "\n"
   ]
  },
  {
   "cell_type": "code",
   "execution_count": 53,
   "id": "9a1ccdc4-661d-4d99-9218-e5b0e4308f6f",
   "metadata": {},
   "outputs": [
    {
     "data": {
      "text/plain": [
       "['39_IN5_HG04217',\n",
       " '38_IN4_HG04216',\n",
       " '37_IN3_HG03732',\n",
       " '36_IN2_HG03729',\n",
       " '35_IN1_HG03719']"
      ]
     },
     "execution_count": 53,
     "metadata": {},
     "output_type": "execute_result"
    }
   ],
   "source": [
    "# params\n",
    "samples = df['lab_sample'].tolist()"
   ]
  },
  {
   "cell_type": "code",
   "execution_count": 54,
   "id": "2fe81f6a-8015-4bfe-8612-804d001116ad",
   "metadata": {},
   "outputs": [],
   "source": []
  },
  {
   "cell_type": "code",
   "execution_count": null,
   "id": "99081171-76e0-4c08-a478-9157ae2d00ca",
   "metadata": {},
   "outputs": [],
   "source": [
    "samples_2 = []\n",
    "for f,s in zip(files, samples):\n",
    "    assert s in f\n",
    "    samples_2 += [get_df_val(df, 'sample', {'lab_sample':s})]\n",
    "\n",
    "df = pd.DataFrame()\n",
    "df['sample'] = samples_2\n",
    "df['dataset'] samples_2\n",
    "df['path'] = files\n",
    "df.to_csv(output.config, sep=',', index=False)"
   ]
  }
 ],
 "metadata": {
  "kernelspec": {
   "display_name": "Python 3",
   "language": "python",
   "name": "python3"
  },
  "language_info": {
   "codemirror_mode": {
    "name": "ipython",
    "version": 3
   },
   "file_extension": ".py",
   "mimetype": "text/x-python",
   "name": "python",
   "nbconvert_exporter": "python",
   "pygments_lexer": "ipython3",
   "version": "3.7.12"
  }
 },
 "nbformat": 4,
 "nbformat_minor": 5
}
