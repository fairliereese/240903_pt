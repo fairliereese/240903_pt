{
 "cells": [
  {
   "cell_type": "code",
   "execution_count": 4,
   "id": "8dc6da20-3bed-4a8b-8381-c569d86c7da6",
   "metadata": {},
   "outputs": [],
   "source": [
    "import pandas as pd\n",
    "import numpy as np\n",
    "import scipy.stats as st\n",
    "import seaborn as sns\n",
    "import sys\n",
    "import os\n",
    "import matplotlib.pyplot as plt\n",
    "import swan_vis as swan\n",
    "import yaml\n",
    "from snakemake.io import expand\n",
    "import cerberus\n",
    "import pyranges as pr\n",
    "import upsetplot\n",
    "import pysam\n",
    "\n",
    "p = os.path.dirname(os.path.dirname(os.getcwd()))\n",
    "sys.path.append(p)\n",
    "\n",
    "from scripts.utils import *\n",
    "from scripts.vcf_utils import *\n",
    "from scripts.plotting import *\n",
    "from scripts.sm_utils import *"
   ]
  },
  {
   "cell_type": "code",
   "execution_count": 2,
   "id": "636d8acf-2a88-46b0-805a-6d55d9b13a13",
   "metadata": {},
   "outputs": [],
   "source": [
    "config = load_config()\n",
    "od = ''\n",
    "\n",
    "def proc_cfg(entry, od):\n",
    "    entry = entry.replace('../../', '')\n",
    "    entry = od+entry\n",
    "    return entry"
   ]
  },
  {
   "cell_type": "code",
   "execution_count": 5,
   "id": "6259d788-74f7-4b61-89c8-1b8632b6a103",
   "metadata": {},
   "outputs": [],
   "source": [
    "# start from Q10 bams\n",
    "# config['lr']['q10_bam']\n",
    "bam_file = 'test.bam'\n",
    "threads = 8"
   ]
  },
  {
   "cell_type": "code",
   "execution_count": null,
   "id": "fd331456-24db-4ff6-ab5d-3d212eb4c2d9",
   "metadata": {},
   "outputs": [],
   "source": [
    "reverse_strand = {0: 16, 16: 0}\n",
    "with pysam.AlignmentFile(input.bam, \"rb\",\n",
    "        threads=resources.threads) as input_bam:\n",
    "    with pysam.AlignmentFile(output.bam, \"wb\",\n",
    "                             template=input_bam,\n",
    "                             threads=resources.threads) as output_bam:\n",
    "        for read in input_bam:\n",
    "            if read.has_tag('ts') and read.flag in reverse_strand:\n",
    "                if read.get_tag('ts') == '-':\n",
    "                    read.flag = reverse_strand[read.flag]\n",
    "                    read.set_tag('ts', '+')\n",
    "                output_bam.write(read)"
   ]
  },
  {
   "cell_type": "code",
   "execution_count": 6,
   "id": "c9e36b09-4519-48d1-9470-ba4c6d725fe6",
   "metadata": {},
   "outputs": [],
   "source": [
    "# get single bp bed coords of each read start from bam\n",
    "bam = pysam.AlignmentFile(bam_file, 'rb')\n",
    "with pysam.AlignmentFile(input.bam, \"rb\",\n",
    "                threads=threads) as input_bam:\n",
    "            with pysam.AlignmentFile(output.bam, \"wb\",\n",
    "                                     template=input_bam,\n",
    "                                     threads=resources.threads) as output_bam:\n",
    "                for read in input_bam:\n",
    "                    if read.has_tag('ts') and read.flag in reverse_strand:\n",
    "                        if read.get_tag('ts') == '-':\n",
    "                            read.flag = reverse_strand[read.flag]\n",
    "                            read.set_tag('ts', '+')\n",
    "                        output_bam.write(read)"
   ]
  },
  {
   "cell_type": "code",
   "execution_count": null,
   "id": "36f24465-60c7-4ff6-b7e4-7239e12dedc9",
   "metadata": {},
   "outputs": [],
   "source": []
  }
 ],
 "metadata": {
  "kernelspec": {
   "display_name": "Python 3",
   "language": "python",
   "name": "python3"
  },
  "language_info": {
   "codemirror_mode": {
    "name": "ipython",
    "version": 3
   },
   "file_extension": ".py",
   "mimetype": "text/x-python",
   "name": "python",
   "nbconvert_exporter": "python",
   "pygments_lexer": "ipython3",
   "version": "3.7.12"
  }
 },
 "nbformat": 4,
 "nbformat_minor": 5
}
