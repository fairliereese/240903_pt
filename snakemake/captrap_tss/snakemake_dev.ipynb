{
 "cells": [
  {
   "cell_type": "code",
   "execution_count": 4,
   "id": "8dc6da20-3bed-4a8b-8381-c569d86c7da6",
   "metadata": {},
   "outputs": [],
   "source": [
    "import pandas as pd\n",
    "import numpy as np\n",
    "import scipy.stats as st\n",
    "import seaborn as sns\n",
    "import sys\n",
    "import os\n",
    "import matplotlib.pyplot as plt\n",
    "import swan_vis as swan\n",
    "import yaml\n",
    "from snakemake.io import expand\n",
    "import cerberus\n",
    "import pyranges as pr\n",
    "import upsetplot\n",
    "import pysam\n",
    "\n",
    "p = os.path.dirname(os.path.dirname(os.getcwd()))\n",
    "sys.path.append(p)\n",
    "\n",
    "from scripts.utils import *\n",
    "from scripts.vcf_utils import *\n",
    "from scripts.plotting import *\n",
    "from scripts.sm_utils import *"
   ]
  },
  {
   "cell_type": "code",
   "execution_count": 2,
   "id": "636d8acf-2a88-46b0-805a-6d55d9b13a13",
   "metadata": {},
   "outputs": [],
   "source": [
    "config = load_config()\n",
    "od = ''\n",
    "\n",
    "def proc_cfg(entry, od):\n",
    "    entry = entry.replace('../../', '')\n",
    "    entry = od+entry\n",
    "    return entry"
   ]
  },
  {
   "cell_type": "markdown",
   "id": "032cdeb5-3714-442f-95e4-80e916e80fc8",
   "metadata": {},
   "source": [
    "## count up 5' intersecting vs. non-intersecting reads"
   ]
  },
  {
   "cell_type": "code",
   "execution_count": 32,
   "id": "0bcab2a1-076b-4055-b314-642529a4124b",
   "metadata": {},
   "outputs": [
    {
     "data": {
      "text/html": [
       "<div>\n",
       "<style scoped>\n",
       "    .dataframe tbody tr th:only-of-type {\n",
       "        vertical-align: middle;\n",
       "    }\n",
       "\n",
       "    .dataframe tbody tr th {\n",
       "        vertical-align: top;\n",
       "    }\n",
       "\n",
       "    .dataframe thead th {\n",
       "        text-align: right;\n",
       "    }\n",
       "</style>\n",
       "<table border=\"1\" class=\"dataframe\">\n",
       "  <thead>\n",
       "    <tr style=\"text-align: right;\">\n",
       "      <th></th>\n",
       "      <th>int_pls</th>\n",
       "      <th>n_reads</th>\n",
       "      <th>n_total_reads</th>\n",
       "      <th>perc_reads</th>\n",
       "    </tr>\n",
       "  </thead>\n",
       "  <tbody>\n",
       "    <tr>\n",
       "      <th>0</th>\n",
       "      <td>False</td>\n",
       "      <td>654</td>\n",
       "      <td>1000</td>\n",
       "      <td>65.4</td>\n",
       "    </tr>\n",
       "    <tr>\n",
       "      <th>1</th>\n",
       "      <td>True</td>\n",
       "      <td>346</td>\n",
       "      <td>1000</td>\n",
       "      <td>34.6</td>\n",
       "    </tr>\n",
       "  </tbody>\n",
       "</table>\n",
       "</div>"
      ],
      "text/plain": [
       "   int_pls  n_reads  n_total_reads  perc_reads\n",
       "0    False      654           1000        65.4\n",
       "1     True      346           1000        34.6"
      ]
     },
     "execution_count": 32,
     "metadata": {},
     "output_type": "execute_result"
    }
   ],
   "source": [
    "df = pd.read_csv('test.tsv', sep='\\t', header=None)\n",
    "\n",
    "df = df[[3, 7, 9]]\n",
    "df.columns = ['read_name', 'intersect', 'pls_id']\n",
    "\n",
    "# assumptions about intersection formatting \n",
    "# from bedtools are OK\n",
    "assert len(df.loc[(df.intersect==-1)&(df.pls_id!='.')].index) == 0\n",
    "\n",
    "# only reporting one per read\n",
    "assert len(df.read_name.unique()) == len(df.index)\n",
    "\n",
    "df['int_pls'] = df.pls_id!='.'\n",
    "df = df[['read_name', 'int_pls']].groupby('int_pls').nunique().reset_index()\n",
    "\n",
    "df.rename({'read_name':'n_reads'}, axis=1, inplace=True)\n",
    "df['n_total_reads'] = df.n_reads.sum(axis=0)\n",
    "df['perc_reads'] = (df['n_reads']/df['n_total_reads'])*100\n",
    "\n",
    "df.to_csv(output.tsv, sep='\\t')"
   ]
  },
  {
   "cell_type": "code",
   "execution_count": 27,
   "id": "5acf0854-0289-45d8-8402-7a8ac1c7158b",
   "metadata": {},
   "outputs": [
    {
     "data": {
      "text/html": [
       "<div>\n",
       "<style scoped>\n",
       "    .dataframe tbody tr th:only-of-type {\n",
       "        vertical-align: middle;\n",
       "    }\n",
       "\n",
       "    .dataframe tbody tr th {\n",
       "        vertical-align: top;\n",
       "    }\n",
       "\n",
       "    .dataframe thead th {\n",
       "        text-align: right;\n",
       "    }\n",
       "</style>\n",
       "<table border=\"1\" class=\"dataframe\">\n",
       "  <thead>\n",
       "    <tr style=\"text-align: right;\">\n",
       "      <th></th>\n",
       "      <th>int_pls</th>\n",
       "      <th>read_name</th>\n",
       "    </tr>\n",
       "  </thead>\n",
       "  <tbody>\n",
       "    <tr>\n",
       "      <th>0</th>\n",
       "      <td>False</td>\n",
       "      <td>654</td>\n",
       "    </tr>\n",
       "    <tr>\n",
       "      <th>1</th>\n",
       "      <td>True</td>\n",
       "      <td>346</td>\n",
       "    </tr>\n",
       "  </tbody>\n",
       "</table>\n",
       "</div>"
      ],
      "text/plain": [
       "   int_pls  read_name\n",
       "0    False        654\n",
       "1     True        346"
      ]
     },
     "execution_count": 27,
     "metadata": {},
     "output_type": "execute_result"
    }
   ],
   "source": []
  },
  {
   "cell_type": "code",
   "execution_count": null,
   "id": "17a81008-c349-4dd9-a78a-23aec212bfbf",
   "metadata": {},
   "outputs": [],
   "source": []
  },
  {
   "cell_type": "code",
   "execution_count": null,
   "id": "4ee8670e-479f-4aa5-9470-058baa74fe39",
   "metadata": {},
   "outputs": [],
   "source": [
    "## "
   ]
  },
  {
   "cell_type": "code",
   "execution_count": 5,
   "id": "6259d788-74f7-4b61-89c8-1b8632b6a103",
   "metadata": {},
   "outputs": [],
   "source": [
    "# start from Q10 bams\n",
    "# config['lr']['q10_bam']\n",
    "bam_file = 'test.bam'\n",
    "threads = 8"
   ]
  },
  {
   "cell_type": "code",
   "execution_count": null,
   "id": "fd331456-24db-4ff6-ab5d-3d212eb4c2d9",
   "metadata": {},
   "outputs": [],
   "source": [
    "reverse_strand = {0: 16, 16: 0}\n",
    "with pysam.AlignmentFile(input.bam, \"rb\",\n",
    "        threads=resources.threads) as input_bam:\n",
    "    with pysam.AlignmentFile(output.bam, \"wb\",\n",
    "                             template=input_bam,\n",
    "                             threads=resources.threads) as output_bam:\n",
    "        for read in input_bam:\n",
    "            if read.has_tag('ts') and read.flag in reverse_strand:\n",
    "                if read.get_tag('ts') == '-':\n",
    "                    read.flag = reverse_strand[read.flag]\n",
    "                    read.set_tag('ts', '+')\n",
    "                output_bam.write(read)"
   ]
  },
  {
   "cell_type": "code",
   "execution_count": 6,
   "id": "c9e36b09-4519-48d1-9470-ba4c6d725fe6",
   "metadata": {},
   "outputs": [],
   "source": [
    "# get single bp bed coords of each read start from bam\n",
    "bam = pysam.AlignmentFile(bam_file, 'rb')\n",
    "with pysam.AlignmentFile(input.bam, \"rb\",\n",
    "                threads=threads) as input_bam:\n",
    "            with pysam.AlignmentFile(output.bam, \"wb\",\n",
    "                                     template=input_bam,\n",
    "                                     threads=resources.threads) as output_bam:\n",
    "                for read in input_bam:\n",
    "                    if read.has_tag('ts') and read.flag in reverse_strand:\n",
    "                        if read.get_tag('ts') == '-':\n",
    "                            read.flag = reverse_strand[read.flag]\n",
    "                            read.set_tag('ts', '+')\n",
    "                        output_bam.write(read)"
   ]
  },
  {
   "cell_type": "code",
   "execution_count": null,
   "id": "36f24465-60c7-4ff6-b7e4-7239e12dedc9",
   "metadata": {},
   "outputs": [],
   "source": []
  }
 ],
 "metadata": {
  "kernelspec": {
   "display_name": "Python 3",
   "language": "python",
   "name": "python3"
  },
  "language_info": {
   "codemirror_mode": {
    "name": "ipython",
    "version": 3
   },
   "file_extension": ".py",
   "mimetype": "text/x-python",
   "name": "python",
   "nbconvert_exporter": "python",
   "pygments_lexer": "ipython3",
   "version": "3.7.12"
  }
 },
 "nbformat": 4,
 "nbformat_minor": 5
}
