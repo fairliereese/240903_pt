{
 "cells": [
  {
   "cell_type": "code",
   "execution_count": 1,
   "id": "58ddc030-1e94-497d-ac8d-17268ea69236",
   "metadata": {},
   "outputs": [],
   "source": [
    "import pysam\n",
    "\n",
    "bam_out = \"synthetic_test.bam\"\n",
    "sam_out = \"synthetic_test.sam\"\n",
    "\n",
    "\n",
    "# Reference header\n",
    "header = {\n",
    "    'HD': {'VN': '1.0'},\n",
    "    'SQ': [{'LN': 1000, 'SN': 'chr1'}]\n",
    "}\n",
    "\n",
    "reads = [\n",
    "    # name, flag, chrom, start, strand_tag, seq\n",
    "    ('read1', 0, 'chr1', 101, '+', 'A'*50),\n",
    "    ('read2', 0, 'chr1', 201, '+', 'T'*50),\n",
    "    ('read3', 16, 'chr1', 252, '-', 'C'*50),\n",
    "    ('read4', 16, 'chr1', 352, '-', 'G'*50),\n",
    "]\n",
    "\n",
    "with pysam.AlignmentFile(bam_out, \"wb\", header=header) as outf:\n",
    "# with pysam.AlignmentFile(sam_out, \"w\", header=header) as outf:\n",
    "    for qname, flag, rname, pos, ts_strand, seq in reads:\n",
    "        a = pysam.AlignedSegment()\n",
    "        a.query_name = qname\n",
    "        a.flag = flag\n",
    "        a.reference_id = outf.get_tid(rname)\n",
    "        a.reference_start = pos - 1  # 0-based\n",
    "        a.mapping_quality = 60\n",
    "        a.cigarstring = '50M'\n",
    "        a.query_sequence = seq\n",
    "        a.query_qualities = pysam.qualitystring_to_array('I'*50)\n",
    "\n",
    "        # Add the TS tag: transcript strand\n",
    "        a.set_tag('ts', ts_strand, value_type='A')\n",
    "\n",
    "        outf.write(a)"
   ]
  },
  {
   "cell_type": "code",
   "execution_count": 2,
   "id": "b9fff638-b9e1-4066-b3f9-6a775d307f2c",
   "metadata": {},
   "outputs": [
    {
     "data": {
      "text/plain": [
       "''"
      ]
     },
     "execution_count": 2,
     "metadata": {},
     "output_type": "execute_result"
    }
   ],
   "source": [
    "pysam.sort(\"-o\", \"synthetic_test.sorted.bam\", \"synthetic_test.bam\")\n",
    "pysam.index(\"synthetic_test.sorted.bam\")"
   ]
  },
  {
   "cell_type": "code",
   "execution_count": 3,
   "id": "d02e59f0-7ca4-42fa-9a71-972a98aef308",
   "metadata": {},
   "outputs": [
    {
     "name": "stdout",
     "output_type": "stream",
     "text": [
      "read1 [('ts', '+')]\n",
      "read2 [('ts', '+')]\n",
      "read3 [('ts', '-')]\n",
      "read4 [('ts', '-')]\n"
     ]
    }
   ],
   "source": [
    "for read in pysam.AlignmentFile(\"synthetic_test.sorted.bam\", \"rb\"):\n",
    "    print(read.query_name, read.tags)"
   ]
  },
  {
   "cell_type": "code",
   "execution_count": 4,
   "id": "62ef267a-b5a7-4e21-988e-49863951a0d7",
   "metadata": {},
   "outputs": [],
   "source": [
    "# first flip reads\n",
    "import pysam\n",
    "reverse_strand = {0: 16, 16: 0}\n",
    "with pysam.AlignmentFile(\"synthetic_test.sorted.bam\", \"rb\",\n",
    "        threads=8) as input_bam:\n",
    "    with pysam.AlignmentFile(\"synthetic_test.flipped.bam\", \"wb\",\n",
    "                             template=input_bam,\n",
    "                             threads=8) as output_bam:\n",
    "        for read in input_bam:\n",
    "            if read.has_tag('ts') and read.flag in reverse_strand:\n",
    "                if read.get_tag('ts') == '-':\n",
    "                    read.flag = reverse_strand[read.flag]\n",
    "                    read.set_tag('ts', '+')\n",
    "                output_bam.write(read)"
   ]
  },
  {
   "cell_type": "code",
   "execution_count": 5,
   "id": "7603f8c0-7f47-4e11-9cee-9733243e600a",
   "metadata": {},
   "outputs": [
    {
     "data": {
      "text/plain": [
       "''"
      ]
     },
     "execution_count": 5,
     "metadata": {},
     "output_type": "execute_result"
    }
   ],
   "source": [
    "pysam.sort(\"-o\", \"synthetic_test.flipped.sorted.bam\", \"synthetic_test.flipped.bam\")\n",
    "pysam.index(\"synthetic_test.flipped.sorted.bam\")"
   ]
  },
  {
   "cell_type": "code",
   "execution_count": null,
   "id": "2070d178-0fc6-4c60-9727-15cc9d44b9e8",
   "metadata": {},
   "outputs": [],
   "source": [
    "module load bedtools\n",
    "bedtools bamtobed -i synthetic_test.flipped.sorted.bam | awk '{{\n",
    "    print $1\"\\t\"$2\"\\t\"($2+1)\"\\t\"$4\"\\t\"$5\"\\t\"$6\n",
    "}}' > synthetic_test.bed"
   ]
  }
 ],
 "metadata": {
  "kernelspec": {
   "display_name": "Python 3",
   "language": "python",
   "name": "python3"
  },
  "language_info": {
   "codemirror_mode": {
    "name": "ipython",
    "version": 3
   },
   "file_extension": ".py",
   "mimetype": "text/x-python",
   "name": "python",
   "nbconvert_exporter": "python",
   "pygments_lexer": "ipython3",
   "version": "3.7.12"
  }
 },
 "nbformat": 4,
 "nbformat_minor": 5
}
