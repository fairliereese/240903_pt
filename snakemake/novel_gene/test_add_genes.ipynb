{
 "cells": [
  {
   "cell_type": "code",
   "execution_count": 45,
   "id": "74bb0668-d734-47f3-ad4e-4742b452f565",
   "metadata": {},
   "outputs": [],
   "source": [
    "import pyranges as pr\n",
    "import pandas as pd\n",
    "import cerberus\n",
    "\n",
    "def make_hier_entry(df, how='t'):\n",
    "    \"\"\"\n",
    "    kind {'g','t'}\n",
    "    \"\"\"\n",
    "    agg_dict = {'min_coord': 'min', 'max_coord': 'max'}\n",
    "    t_df = df.copy(deep=True)\n",
    "    t_df['min_coord'] = t_df[['Start', 'End']].min(axis=1)\n",
    "    t_df['max_coord'] = t_df[['Start', 'End']].max(axis=1)\n",
    "    if how == 't':\n",
    "        gb_cols = ['Chromosome', 'Strand', 'gene_name',\n",
    "                   'gene_id', 'transcript_id', 'transcript_name',\n",
    "                   'tss_id', 'tes_id',\n",
    "                   'new_transcript_id', 'original_transcript_id',\n",
    "                   'original_transcript_name', 'ag1', 'ag2']\n",
    "    elif how == 'g':\n",
    "        gb_cols = ['Chromosome', 'Strand', 'gene_name',\n",
    "                   'gene_id']\n",
    "    gb_cols = list(set(gb_cols)&(set(t_df.columns)))\n",
    "\n",
    "    cols = gb_cols + ['min_coord', 'max_coord']\n",
    "    t_df = t_df[cols]\n",
    "    t_df = t_df.groupby(gb_cols, observed=True).agg(agg_dict).reset_index()\n",
    "    t_df.rename({'min_coord': 'Start', 'max_coord': 'End'}, axis=1, inplace=True)\n",
    "    if how == 't':\n",
    "        t_df['Feature'] = 'transcript'\n",
    "    elif how == 'g':\n",
    "        t_df['Feature'] = 'gene'\n",
    "\n",
    "    return t_df\n",
    "\n",
    "gtf = '../../data/transcripts_novel_gene_loci.gtf'\n",
    "tsv = '../../data/240909merge_associatedgene2isoform_noambigousISM_FSM_genic.tsv'\n",
    "\n",
    "df = pd.read_csv(tsv, sep='\\t', header=None)\n",
    "df.columns = ['tid', 'gid']\n",
    "# remove \"novelGenes\" from sqanti mappings\n",
    "df = pd.read_csv(tsv, sep='\\t', header=None)\n",
    "df.columns = ['tid', 'gid']\n",
    "l1 = len(df.index)\n",
    "df = df.loc[~df.gid.str.startswith('novelGene')]\n",
    "l2 = len(df.index)\n",
    "assert l1 != l2\n",
    "\n",
    "gtf_df = pr.read_gtf(gtf).df\n",
    "\n",
    "# novel genes separate, remove gene entries\n",
    "nov_gene = gtf_df.loc[gtf_df.gene_id.notnull()].copy(deep=True)\n",
    "nov_gene['gene_name'] = nov_gene['gene_id']\n",
    "nov_gene['Source'] = 'ChatGPT'\n",
    "nov_gene = nov_gene.loc[nov_gene.Feature!='gene']\n",
    "\n",
    "# known genes\n",
    "gtf_df = gtf_df.loc[gtf_df.gene_id.isnull()].copy(deep=True)\n",
    "\n",
    "# filter based on whether transcript is even in the dataset\n",
    "gtf_df = gtf_df.loc[gtf_df.transcript_id.isin(df.tid.tolist())]\n",
    "\n",
    "# get dict mapping tid:gid\n",
    "tg_dict = dict([(entry['tid'], entry['gid']) for ind, entry in df.iterrows()])\n",
    "tg_dict[list(tg_dict.keys())[0]]\n",
    "\n",
    "# add gene id just for known genes\n",
    "gtf_df['gene_id'] = gtf_df.transcript_id.map(tg_dict)\n",
    "gtf_df['gene_name'] = gtf_df['gene_id']\n",
    "assert len(gtf_df.loc[gtf_df.gene_id.isnull()].index) == 0\n",
    "\n",
    "# cat the novel and known thing together\n",
    "gtf_df = pd.concat([gtf_df, nov_gene], axis=0)\n",
    "assert len(gtf_df.loc[gtf_df.gene_id.isnull()].index) == 0\n",
    "\n",
    "# add gene entries\n",
    "df = gtf_df.copy(deep=True)\n",
    "l1 = len(df.gene_id.unique().tolist())\n",
    "g_df = make_hier_entry(df, how='g')\n",
    "g_df['Source'] = 'ChatGPT'\n",
    "g_df['Frame'] = '.'\n",
    "g_df['Score'] = '.'\n",
    "l2 = len(g_df.loc[g_df.Feature=='gene'].index)\n",
    "assert l1 == l2\n",
    "\n",
    "print(len(gtf_df.index))\n",
    "df = pd.concat([gtf_df, g_df], axis=0)\n",
    "print(len(df.index))\n",
    "\n",
    "df = cerberus.sort_gtf(df)\n",
    "\n",
    "\n",
    "assert len(df.loc[df.Feature=='gene']) == len(df.gene_id.unique())\n",
    "\n",
    "\n",
    "# save\n",
    "out_gtf = '../../data/novel_gene/transcripts_novel_gene_loci_filt_gene_name.gtf'\n",
    "df = pr.PyRanges(df)\n",
    "df.to_gtf(out_gtf)\n"
   ]
  },
  {
   "cell_type": "code",
   "execution_count": 46,
   "id": "50141d61-ceef-4c67-b3b7-4b3ca140f8f8",
   "metadata": {},
   "outputs": [],
   "source": []
  },
  {
   "cell_type": "code",
   "execution_count": 47,
   "id": "13116cd3-a0a9-4554-acd7-521031e95a43",
   "metadata": {},
   "outputs": [
    {
     "data": {
      "text/plain": [
       "32830"
      ]
     },
     "execution_count": 47,
     "metadata": {},
     "output_type": "execute_result"
    }
   ],
   "source": [
    "len(gtf_df.gene_id.unique())"
   ]
  },
  {
   "cell_type": "code",
   "execution_count": 48,
   "id": "2a8b12bc-118d-486a-ab8e-9665aaf42356",
   "metadata": {},
   "outputs": [],
   "source": []
  },
  {
   "cell_type": "code",
   "execution_count": 49,
   "id": "e3cefb30-12f4-4d1f-bf54-19890ba37ea5",
   "metadata": {},
   "outputs": [
    {
     "data": {
      "text/plain": [
       "32830"
      ]
     },
     "execution_count": 49,
     "metadata": {},
     "output_type": "execute_result"
    }
   ],
   "source": [
    "len(g_df.index)"
   ]
  },
  {
   "cell_type": "code",
   "execution_count": 50,
   "id": "483e8db3-c3a7-41bf-8881-b85cc746d4c3",
   "metadata": {},
   "outputs": [
    {
     "name": "stdout",
     "output_type": "stream",
     "text": [
      "2306419\n",
      "2339249\n"
     ]
    }
   ],
   "source": []
  },
  {
   "cell_type": "code",
   "execution_count": 51,
   "id": "519bc8d1-3c96-413d-9aa1-105b40d0cbf2",
   "metadata": {},
   "outputs": [],
   "source": []
  },
  {
   "cell_type": "code",
   "execution_count": 52,
   "id": "19d2ff2d-e34a-4893-8096-63396c1eeb5d",
   "metadata": {},
   "outputs": [
    {
     "data": {
      "text/plain": [
       "32830"
      ]
     },
     "execution_count": 52,
     "metadata": {},
     "output_type": "execute_result"
    }
   ],
   "source": []
  },
  {
   "cell_type": "code",
   "execution_count": 53,
   "id": "1cac2bdb-b6be-4a1d-9aa8-5f588f0749bd",
   "metadata": {},
   "outputs": [
    {
     "data": {
      "text/html": [
       "<div>\n",
       "<style scoped>\n",
       "    .dataframe tbody tr th:only-of-type {\n",
       "        vertical-align: middle;\n",
       "    }\n",
       "\n",
       "    .dataframe tbody tr th {\n",
       "        vertical-align: top;\n",
       "    }\n",
       "\n",
       "    .dataframe thead th {\n",
       "        text-align: right;\n",
       "    }\n",
       "</style>\n",
       "<table border=\"1\" class=\"dataframe\">\n",
       "  <thead>\n",
       "    <tr style=\"text-align: right;\">\n",
       "      <th></th>\n",
       "      <th>Feature</th>\n",
       "      <th>gene_id</th>\n",
       "    </tr>\n",
       "  </thead>\n",
       "  <tbody>\n",
       "  </tbody>\n",
       "</table>\n",
       "</div>"
      ],
      "text/plain": [
       "Empty DataFrame\n",
       "Columns: [Feature, gene_id]\n",
       "Index: []"
      ]
     },
     "execution_count": 53,
     "metadata": {},
     "output_type": "execute_result"
    }
   ],
   "source": [
    "temp = df[['Feature', 'gene_id']]\n",
    "temp = temp.loc[temp.Feature == 'gene']\n",
    "temp.loc[temp.gene_id.duplicated(keep=False)].sort_values(by='gene_id').head()"
   ]
  },
  {
   "cell_type": "code",
   "execution_count": 34,
   "id": "60d9e601-8db3-44e6-9e5e-fa1ab7aa4464",
   "metadata": {},
   "outputs": [
    {
     "data": {
      "text/html": [
       "<div>\n",
       "<style scoped>\n",
       "    .dataframe tbody tr th:only-of-type {\n",
       "        vertical-align: middle;\n",
       "    }\n",
       "\n",
       "    .dataframe tbody tr th {\n",
       "        vertical-align: top;\n",
       "    }\n",
       "\n",
       "    .dataframe thead th {\n",
       "        text-align: right;\n",
       "    }\n",
       "</style>\n",
       "<table border=\"1\" class=\"dataframe\">\n",
       "  <thead>\n",
       "    <tr style=\"text-align: right;\">\n",
       "      <th></th>\n",
       "      <th>Feature</th>\n",
       "      <th>gene_id</th>\n",
       "    </tr>\n",
       "  </thead>\n",
       "  <tbody>\n",
       "  </tbody>\n",
       "</table>\n",
       "</div>"
      ],
      "text/plain": [
       "Empty DataFrame\n",
       "Columns: [Feature, gene_id]\n",
       "Index: []"
      ]
     },
     "execution_count": 34,
     "metadata": {},
     "output_type": "execute_result"
    }
   ],
   "source": [
    "temp = nov_gene[['Feature', 'gene_id']]\n",
    "temp = temp.loc[temp.Feature == 'gene']\n",
    "temp.loc[temp.gene_id.duplicated(keep=False)].sort_values(by='gene_id').head()"
   ]
  },
  {
   "cell_type": "code",
   "execution_count": 32,
   "id": "7c24e777-1918-4893-8a46-2da59441e99b",
   "metadata": {},
   "outputs": [
    {
     "data": {
      "text/html": [
       "<div>\n",
       "<style scoped>\n",
       "    .dataframe tbody tr th:only-of-type {\n",
       "        vertical-align: middle;\n",
       "    }\n",
       "\n",
       "    .dataframe tbody tr th {\n",
       "        vertical-align: top;\n",
       "    }\n",
       "\n",
       "    .dataframe thead th {\n",
       "        text-align: right;\n",
       "    }\n",
       "</style>\n",
       "<table border=\"1\" class=\"dataframe\">\n",
       "  <thead>\n",
       "    <tr style=\"text-align: right;\">\n",
       "      <th></th>\n",
       "      <th>Chromosome</th>\n",
       "      <th>Source</th>\n",
       "      <th>Feature</th>\n",
       "      <th>Start</th>\n",
       "      <th>End</th>\n",
       "      <th>Score</th>\n",
       "      <th>Strand</th>\n",
       "      <th>Frame</th>\n",
       "      <th>transcript_id</th>\n",
       "      <th>samples</th>\n",
       "      <th>exon_number</th>\n",
       "      <th>gene_id</th>\n",
       "      <th>gene_name</th>\n",
       "    </tr>\n",
       "  </thead>\n",
       "  <tbody>\n",
       "    <tr>\n",
       "      <th>1652629</th>\n",
       "      <td>chr14</td>\n",
       "      <td>novel_gene</td>\n",
       "      <td>gene</td>\n",
       "      <td>76978623</td>\n",
       "      <td>76979303</td>\n",
       "      <td>.</td>\n",
       "      <td>-</td>\n",
       "      <td>.</td>\n",
       "      <td>NaN</td>\n",
       "      <td>NaN</td>\n",
       "      <td>NaN</td>\n",
       "      <td>LOC_000000000000</td>\n",
       "      <td>LOC_000000000000</td>\n",
       "    </tr>\n",
       "    <tr>\n",
       "      <th>1652630</th>\n",
       "      <td>chr14</td>\n",
       "      <td>ChatGPT</td>\n",
       "      <td>gene</td>\n",
       "      <td>76978623</td>\n",
       "      <td>76979303</td>\n",
       "      <td>.</td>\n",
       "      <td>-</td>\n",
       "      <td>.</td>\n",
       "      <td>NaN</td>\n",
       "      <td>NaN</td>\n",
       "      <td>NaN</td>\n",
       "      <td>LOC_000000000000</td>\n",
       "      <td>LOC_000000000000</td>\n",
       "    </tr>\n",
       "    <tr>\n",
       "      <th>1652631</th>\n",
       "      <td>chr14</td>\n",
       "      <td>novel_gene</td>\n",
       "      <td>transcript</td>\n",
       "      <td>76978623</td>\n",
       "      <td>76979303</td>\n",
       "      <td>.</td>\n",
       "      <td>-</td>\n",
       "      <td>.</td>\n",
       "      <td>transcript_250596</td>\n",
       "      <td>NaN</td>\n",
       "      <td>NaN</td>\n",
       "      <td>LOC_000000000000</td>\n",
       "      <td>LOC_000000000000</td>\n",
       "    </tr>\n",
       "    <tr>\n",
       "      <th>1652632</th>\n",
       "      <td>chr14</td>\n",
       "      <td>ChatGPT</td>\n",
       "      <td>exon</td>\n",
       "      <td>76979193</td>\n",
       "      <td>76979303</td>\n",
       "      <td>.</td>\n",
       "      <td>-</td>\n",
       "      <td>.</td>\n",
       "      <td>transcript_250596</td>\n",
       "      <td>espresso_GM10495_1</td>\n",
       "      <td>1.0</td>\n",
       "      <td>LOC_000000000000</td>\n",
       "      <td>LOC_000000000000</td>\n",
       "    </tr>\n",
       "    <tr>\n",
       "      <th>1652633</th>\n",
       "      <td>chr14</td>\n",
       "      <td>ChatGPT</td>\n",
       "      <td>exon</td>\n",
       "      <td>76978623</td>\n",
       "      <td>76978862</td>\n",
       "      <td>.</td>\n",
       "      <td>-</td>\n",
       "      <td>.</td>\n",
       "      <td>transcript_250596</td>\n",
       "      <td>espresso_GM10495_1</td>\n",
       "      <td>2.0</td>\n",
       "      <td>LOC_000000000000</td>\n",
       "      <td>LOC_000000000000</td>\n",
       "    </tr>\n",
       "  </tbody>\n",
       "</table>\n",
       "</div>"
      ],
      "text/plain": [
       "        Chromosome      Source     Feature     Start       End Score Strand  \\\n",
       "1652629      chr14  novel_gene        gene  76978623  76979303     .      -   \n",
       "1652630      chr14     ChatGPT        gene  76978623  76979303     .      -   \n",
       "1652631      chr14  novel_gene  transcript  76978623  76979303     .      -   \n",
       "1652632      chr14     ChatGPT        exon  76979193  76979303     .      -   \n",
       "1652633      chr14     ChatGPT        exon  76978623  76978862     .      -   \n",
       "\n",
       "        Frame      transcript_id             samples exon_number  \\\n",
       "1652629     .                NaN                 NaN         NaN   \n",
       "1652630     .                NaN                 NaN         NaN   \n",
       "1652631     .  transcript_250596                 NaN         NaN   \n",
       "1652632     .  transcript_250596  espresso_GM10495_1         1.0   \n",
       "1652633     .  transcript_250596  espresso_GM10495_1         2.0   \n",
       "\n",
       "                  gene_id         gene_name  \n",
       "1652629  LOC_000000000000  LOC_000000000000  \n",
       "1652630  LOC_000000000000  LOC_000000000000  \n",
       "1652631  LOC_000000000000  LOC_000000000000  \n",
       "1652632  LOC_000000000000  LOC_000000000000  \n",
       "1652633  LOC_000000000000  LOC_000000000000  "
      ]
     },
     "execution_count": 32,
     "metadata": {},
     "output_type": "execute_result"
    }
   ],
   "source": [
    "df.loc[df.gene_id=='LOC_000000000000']"
   ]
  },
  {
   "cell_type": "code",
   "execution_count": null,
   "id": "817c3839-3515-4f1c-bc99-727a989bc281",
   "metadata": {},
   "outputs": [
    {
     "data": {
      "text/html": [
       "<div>\n",
       "<style scoped>\n",
       "    .dataframe tbody tr th:only-of-type {\n",
       "        vertical-align: middle;\n",
       "    }\n",
       "\n",
       "    .dataframe tbody tr th {\n",
       "        vertical-align: top;\n",
       "    }\n",
       "\n",
       "    .dataframe thead th {\n",
       "        text-align: right;\n",
       "    }\n",
       "</style>\n",
       "<table border=\"1\" class=\"dataframe\">\n",
       "  <thead>\n",
       "    <tr style=\"text-align: right;\">\n",
       "      <th></th>\n",
       "      <th>Chromosome</th>\n",
       "      <th>Source</th>\n",
       "      <th>Feature</th>\n",
       "      <th>Start</th>\n",
       "      <th>End</th>\n",
       "      <th>Score</th>\n",
       "      <th>Strand</th>\n",
       "      <th>Frame</th>\n",
       "      <th>transcript_id</th>\n",
       "      <th>samples</th>\n",
       "      <th>exon_number</th>\n",
       "      <th>gene_id</th>\n",
       "      <th>gene_name</th>\n",
       "    </tr>\n",
       "  </thead>\n",
       "  <tbody>\n",
       "    <tr>\n",
       "      <th>2352934</th>\n",
       "      <td>chrY</td>\n",
       "      <td>ChatGPT</td>\n",
       "      <td>exon</td>\n",
       "      <td>10902209</td>\n",
       "      <td>10902292</td>\n",
       "      <td>.</td>\n",
       "      <td>-</td>\n",
       "      <td>.</td>\n",
       "      <td>transcript_380644</td>\n",
       "      <td>lyric_GM18489_1</td>\n",
       "      <td>4.0</td>\n",
       "      <td>LOC_000000004828</td>\n",
       "      <td>LOC_000000004828</td>\n",
       "    </tr>\n",
       "    <tr>\n",
       "      <th>2352935</th>\n",
       "      <td>chrY</td>\n",
       "      <td>novel_gene</td>\n",
       "      <td>gene</td>\n",
       "      <td>3218571</td>\n",
       "      <td>3220711</td>\n",
       "      <td>.</td>\n",
       "      <td>-</td>\n",
       "      <td>.</td>\n",
       "      <td>NaN</td>\n",
       "      <td>NaN</td>\n",
       "      <td>NaN</td>\n",
       "      <td>LOC_000000007043</td>\n",
       "      <td>LOC_000000007043</td>\n",
       "    </tr>\n",
       "    <tr>\n",
       "      <th>2352936</th>\n",
       "      <td>chrY</td>\n",
       "      <td>novel_gene</td>\n",
       "      <td>transcript</td>\n",
       "      <td>3218571</td>\n",
       "      <td>3220711</td>\n",
       "      <td>.</td>\n",
       "      <td>-</td>\n",
       "      <td>.</td>\n",
       "      <td>transcript_380845</td>\n",
       "      <td>NaN</td>\n",
       "      <td>NaN</td>\n",
       "      <td>LOC_000000007043</td>\n",
       "      <td>LOC_000000007043</td>\n",
       "    </tr>\n",
       "    <tr>\n",
       "      <th>2352937</th>\n",
       "      <td>chrY</td>\n",
       "      <td>ChatGPT</td>\n",
       "      <td>exon</td>\n",
       "      <td>3220633</td>\n",
       "      <td>3220711</td>\n",
       "      <td>.</td>\n",
       "      <td>-</td>\n",
       "      <td>.</td>\n",
       "      <td>transcript_380845</td>\n",
       "      <td>espresso_HG02261_1,espresso_GM18486_1</td>\n",
       "      <td>1.0</td>\n",
       "      <td>LOC_000000007043</td>\n",
       "      <td>LOC_000000007043</td>\n",
       "    </tr>\n",
       "    <tr>\n",
       "      <th>2352938</th>\n",
       "      <td>chrY</td>\n",
       "      <td>ChatGPT</td>\n",
       "      <td>exon</td>\n",
       "      <td>3218571</td>\n",
       "      <td>3220532</td>\n",
       "      <td>.</td>\n",
       "      <td>-</td>\n",
       "      <td>.</td>\n",
       "      <td>transcript_380845</td>\n",
       "      <td>espresso_HG02261_1,espresso_GM18486_1</td>\n",
       "      <td>2.0</td>\n",
       "      <td>LOC_000000007043</td>\n",
       "      <td>LOC_000000007043</td>\n",
       "    </tr>\n",
       "  </tbody>\n",
       "</table>\n",
       "</div>"
      ],
      "text/plain": [
       "        Chromosome      Source     Feature     Start       End Score Strand  \\\n",
       "2352934       chrY     ChatGPT        exon  10902209  10902292     .      -   \n",
       "2352935       chrY  novel_gene        gene   3218571   3220711     .      -   \n",
       "2352936       chrY  novel_gene  transcript   3218571   3220711     .      -   \n",
       "2352937       chrY     ChatGPT        exon   3220633   3220711     .      -   \n",
       "2352938       chrY     ChatGPT        exon   3218571   3220532     .      -   \n",
       "\n",
       "        Frame      transcript_id                                samples  \\\n",
       "2352934     .  transcript_380644                        lyric_GM18489_1   \n",
       "2352935     .                NaN                                    NaN   \n",
       "2352936     .  transcript_380845                                    NaN   \n",
       "2352937     .  transcript_380845  espresso_HG02261_1,espresso_GM18486_1   \n",
       "2352938     .  transcript_380845  espresso_HG02261_1,espresso_GM18486_1   \n",
       "\n",
       "        exon_number           gene_id         gene_name  \n",
       "2352934         4.0  LOC_000000004828  LOC_000000004828  \n",
       "2352935         NaN  LOC_000000007043  LOC_000000007043  \n",
       "2352936         NaN  LOC_000000007043  LOC_000000007043  \n",
       "2352937         1.0  LOC_000000007043  LOC_000000007043  \n",
       "2352938         2.0  LOC_000000007043  LOC_000000007043  "
      ]
     },
     "execution_count": 38,
     "metadata": {},
     "output_type": "execute_result"
    }
   ],
   "source": [
    "gtf_df.tail()"
   ]
  },
  {
   "cell_type": "code",
   "execution_count": null,
   "id": "ffdea0fe-987c-4ac9-a3da-0143527a6370",
   "metadata": {},
   "outputs": [
    {
     "data": {
      "text/plain": [
       "32830"
      ]
     },
     "execution_count": 39,
     "metadata": {},
     "output_type": "execute_result"
    }
   ],
   "source": [
    "len(gtf_df.gene_id.unique())"
   ]
  },
  {
   "cell_type": "code",
   "execution_count": 40,
   "id": "d9f6676d-83db-42f8-b63b-a051efe29ca1",
   "metadata": {},
   "outputs": [
    {
     "data": {
      "text/plain": [
       "32830"
      ]
     },
     "execution_count": 40,
     "metadata": {},
     "output_type": "execute_result"
    }
   ],
   "source": [
    "len(g_df.gene_id.unique())"
   ]
  },
  {
   "cell_type": "code",
   "execution_count": 41,
   "id": "b216cd3f-3db9-4ef6-ad29-ad9c28816c80",
   "metadata": {},
   "outputs": [
    {
     "data": {
      "text/plain": [
       "32830"
      ]
     },
     "execution_count": 41,
     "metadata": {},
     "output_type": "execute_result"
    }
   ],
   "source": [
    "len(g_df)"
   ]
  },
  {
   "cell_type": "code",
   "execution_count": 27,
   "id": "b8ee5925-0727-4529-9c04-998b7e7ee0bb",
   "metadata": {},
   "outputs": [],
   "source": [
    "g_df['gene_id_new'] = g_df['gene_name']+'_'+\\\n",
    "                      g_df['Chromosome'].astype(str)+'_'+\\\n",
    "                      g_df.Strand.astype(str)"
   ]
  },
  {
   "cell_type": "code",
   "execution_count": 28,
   "id": "4ff30a99-e16b-4800-8f44-00c0c498ba92",
   "metadata": {},
   "outputs": [
    {
     "data": {
      "text/html": [
       "<div>\n",
       "<style scoped>\n",
       "    .dataframe tbody tr th:only-of-type {\n",
       "        vertical-align: middle;\n",
       "    }\n",
       "\n",
       "    .dataframe tbody tr th {\n",
       "        vertical-align: top;\n",
       "    }\n",
       "\n",
       "    .dataframe thead th {\n",
       "        text-align: right;\n",
       "    }\n",
       "</style>\n",
       "<table border=\"1\" class=\"dataframe\">\n",
       "  <thead>\n",
       "    <tr style=\"text-align: right;\">\n",
       "      <th></th>\n",
       "      <th>gene_id</th>\n",
       "      <th>Chromosome</th>\n",
       "      <th>gene_name</th>\n",
       "      <th>Strand</th>\n",
       "      <th>Start</th>\n",
       "      <th>End</th>\n",
       "      <th>Feature</th>\n",
       "      <th>gene_id_new</th>\n",
       "    </tr>\n",
       "  </thead>\n",
       "  <tbody>\n",
       "    <tr>\n",
       "      <th>15546</th>\n",
       "      <td>ENSG00000234394</td>\n",
       "      <td>chr9</td>\n",
       "      <td>ENSG00000234394</td>\n",
       "      <td>-</td>\n",
       "      <td>41100793</td>\n",
       "      <td>41109434</td>\n",
       "      <td>gene</td>\n",
       "      <td>ENSG00000234394_chr9_-</td>\n",
       "    </tr>\n",
       "    <tr>\n",
       "      <th>15547</th>\n",
       "      <td>ENSG00000234394</td>\n",
       "      <td>chr9</td>\n",
       "      <td>ENSG00000234394</td>\n",
       "      <td>+</td>\n",
       "      <td>68306527</td>\n",
       "      <td>68330436</td>\n",
       "      <td>gene</td>\n",
       "      <td>ENSG00000234394_chr9_+</td>\n",
       "    </tr>\n",
       "    <tr>\n",
       "      <th>19207</th>\n",
       "      <td>ENSG00000274487</td>\n",
       "      <td>chr17</td>\n",
       "      <td>ENSG00000274487</td>\n",
       "      <td>-</td>\n",
       "      <td>38153219</td>\n",
       "      <td>38257394</td>\n",
       "      <td>gene</td>\n",
       "      <td>ENSG00000274487_chr17_-</td>\n",
       "    </tr>\n",
       "    <tr>\n",
       "      <th>19208</th>\n",
       "      <td>ENSG00000274487</td>\n",
       "      <td>chr17</td>\n",
       "      <td>ENSG00000274487</td>\n",
       "      <td>+</td>\n",
       "      <td>38078261</td>\n",
       "      <td>38124770</td>\n",
       "      <td>gene</td>\n",
       "      <td>ENSG00000274487_chr17_+</td>\n",
       "    </tr>\n",
       "    <tr>\n",
       "      <th>21178</th>\n",
       "      <td>ENSG00000291150</td>\n",
       "      <td>chr1</td>\n",
       "      <td>ENSG00000291150</td>\n",
       "      <td>+</td>\n",
       "      <td>144715581</td>\n",
       "      <td>144758303</td>\n",
       "      <td>gene</td>\n",
       "      <td>ENSG00000291150_chr1_+</td>\n",
       "    </tr>\n",
       "  </tbody>\n",
       "</table>\n",
       "</div>"
      ],
      "text/plain": [
       "               gene_id Chromosome        gene_name Strand      Start  \\\n",
       "15546  ENSG00000234394       chr9  ENSG00000234394      -   41100793   \n",
       "15547  ENSG00000234394       chr9  ENSG00000234394      +   68306527   \n",
       "19207  ENSG00000274487      chr17  ENSG00000274487      -   38153219   \n",
       "19208  ENSG00000274487      chr17  ENSG00000274487      +   38078261   \n",
       "21178  ENSG00000291150       chr1  ENSG00000291150      +  144715581   \n",
       "\n",
       "             End Feature              gene_id_new  \n",
       "15546   41109434    gene   ENSG00000234394_chr9_-  \n",
       "15547   68330436    gene   ENSG00000234394_chr9_+  \n",
       "19207   38257394    gene  ENSG00000274487_chr17_-  \n",
       "19208   38124770    gene  ENSG00000274487_chr17_+  \n",
       "21178  144758303    gene   ENSG00000291150_chr1_+  "
      ]
     },
     "execution_count": 28,
     "metadata": {},
     "output_type": "execute_result"
    }
   ],
   "source": [
    "g_df.loc[g_df.gene_id.duplicated(keep=False)].sort_values(by='gene_id').head()"
   ]
  },
  {
   "cell_type": "code",
   "execution_count": 29,
   "id": "e8ef7212-e5fe-4aa0-96ae-c610350b23a3",
   "metadata": {},
   "outputs": [
    {
     "data": {
      "text/html": [
       "<div>\n",
       "<style scoped>\n",
       "    .dataframe tbody tr th:only-of-type {\n",
       "        vertical-align: middle;\n",
       "    }\n",
       "\n",
       "    .dataframe tbody tr th {\n",
       "        vertical-align: top;\n",
       "    }\n",
       "\n",
       "    .dataframe thead th {\n",
       "        text-align: right;\n",
       "    }\n",
       "</style>\n",
       "<table border=\"1\" class=\"dataframe\">\n",
       "  <thead>\n",
       "    <tr style=\"text-align: right;\">\n",
       "      <th></th>\n",
       "      <th>gene_id</th>\n",
       "      <th>Chromosome</th>\n",
       "      <th>gene_name</th>\n",
       "      <th>Strand</th>\n",
       "      <th>Start</th>\n",
       "      <th>End</th>\n",
       "      <th>Feature</th>\n",
       "      <th>gene_id_new</th>\n",
       "    </tr>\n",
       "  </thead>\n",
       "  <tbody>\n",
       "  </tbody>\n",
       "</table>\n",
       "</div>"
      ],
      "text/plain": [
       "Empty DataFrame\n",
       "Columns: [gene_id, Chromosome, gene_name, Strand, Start, End, Feature, gene_id_new]\n",
       "Index: []"
      ]
     },
     "execution_count": 29,
     "metadata": {},
     "output_type": "execute_result"
    }
   ],
   "source": [
    "# is duplication happening to \"novel\" genes? \n",
    "g_df.loc[(g_df.gene_id.duplicated(keep=False))&\\\n",
    "         (g_df.gene_id.str.startswith('LOC'))].sort_values(by='gene_id').head()"
   ]
  },
  {
   "cell_type": "code",
   "execution_count": 30,
   "id": "4e3825a9-5949-411c-a64c-fb66cf7abf0c",
   "metadata": {},
   "outputs": [],
   "source": [
    "temp = g_df[['gene_id', 'Chromosome', 'Strand']].groupby('gene_id').nunique().reset_index()"
   ]
  },
  {
   "cell_type": "code",
   "execution_count": 31,
   "id": "32a1e684-d3ef-4fb9-a8b2-0a68337717ef",
   "metadata": {},
   "outputs": [],
   "source": [
    "# only dupes\n",
    "temp = temp.loc[(temp.Chromosome>1)|(temp.Strand>1)]"
   ]
  },
  {
   "cell_type": "code",
   "execution_count": 32,
   "id": "5642b55b-cd87-460e-8169-9685b727da0d",
   "metadata": {},
   "outputs": [
    {
     "data": {
      "text/plain": [
       "29"
      ]
     },
     "execution_count": 32,
     "metadata": {},
     "output_type": "execute_result"
    }
   ],
   "source": [
    "len(temp.index)"
   ]
  },
  {
   "cell_type": "code",
   "execution_count": 33,
   "id": "ca03a46b-d197-4153-8ed8-df8ae433183d",
   "metadata": {},
   "outputs": [
    {
     "data": {
      "text/html": [
       "<div>\n",
       "<style scoped>\n",
       "    .dataframe tbody tr th:only-of-type {\n",
       "        vertical-align: middle;\n",
       "    }\n",
       "\n",
       "    .dataframe tbody tr th {\n",
       "        vertical-align: top;\n",
       "    }\n",
       "\n",
       "    .dataframe thead th {\n",
       "        text-align: right;\n",
       "    }\n",
       "</style>\n",
       "<table border=\"1\" class=\"dataframe\">\n",
       "  <thead>\n",
       "    <tr style=\"text-align: right;\">\n",
       "      <th></th>\n",
       "      <th>gene_id</th>\n",
       "      <th>Chromosome</th>\n",
       "      <th>Strand</th>\n",
       "    </tr>\n",
       "  </thead>\n",
       "  <tbody>\n",
       "    <tr>\n",
       "      <th>15546</th>\n",
       "      <td>ENSG00000234394</td>\n",
       "      <td>1</td>\n",
       "      <td>2</td>\n",
       "    </tr>\n",
       "    <tr>\n",
       "      <th>19206</th>\n",
       "      <td>ENSG00000274487</td>\n",
       "      <td>1</td>\n",
       "      <td>2</td>\n",
       "    </tr>\n",
       "    <tr>\n",
       "      <th>21176</th>\n",
       "      <td>ENSG00000291150</td>\n",
       "      <td>2</td>\n",
       "      <td>2</td>\n",
       "    </tr>\n",
       "    <tr>\n",
       "      <th>21234</th>\n",
       "      <td>ENSG00000292327</td>\n",
       "      <td>2</td>\n",
       "      <td>1</td>\n",
       "    </tr>\n",
       "    <tr>\n",
       "      <th>21235</th>\n",
       "      <td>ENSG00000292331</td>\n",
       "      <td>2</td>\n",
       "      <td>1</td>\n",
       "    </tr>\n",
       "  </tbody>\n",
       "</table>\n",
       "</div>"
      ],
      "text/plain": [
       "               gene_id  Chromosome  Strand\n",
       "15546  ENSG00000234394           1       2\n",
       "19206  ENSG00000274487           1       2\n",
       "21176  ENSG00000291150           2       2\n",
       "21234  ENSG00000292327           2       1\n",
       "21235  ENSG00000292331           2       1"
      ]
     },
     "execution_count": 33,
     "metadata": {},
     "output_type": "execute_result"
    }
   ],
   "source": [
    "temp.head()"
   ]
  },
  {
   "cell_type": "code",
   "execution_count": null,
   "id": "d27f17da-7c61-451d-a82d-718998745fca",
   "metadata": {},
   "outputs": [
    {
     "data": {
      "text/html": [
       "<div>\n",
       "<style scoped>\n",
       "    .dataframe tbody tr th:only-of-type {\n",
       "        vertical-align: middle;\n",
       "    }\n",
       "\n",
       "    .dataframe tbody tr th {\n",
       "        vertical-align: top;\n",
       "    }\n",
       "\n",
       "    .dataframe thead th {\n",
       "        text-align: right;\n",
       "    }\n",
       "</style>\n",
       "<table border=\"1\" class=\"dataframe\">\n",
       "  <thead>\n",
       "    <tr style=\"text-align: right;\">\n",
       "      <th></th>\n",
       "      <th>gene_id</th>\n",
       "      <th>Chromosome</th>\n",
       "      <th>gene_name</th>\n",
       "      <th>Strand</th>\n",
       "      <th>Start</th>\n",
       "      <th>End</th>\n",
       "      <th>Feature</th>\n",
       "      <th>gene_id_new</th>\n",
       "    </tr>\n",
       "  </thead>\n",
       "  <tbody>\n",
       "    <tr>\n",
       "      <th>21178</th>\n",
       "      <td>ENSG00000291150</td>\n",
       "      <td>chr1</td>\n",
       "      <td>ENSG00000291150</td>\n",
       "      <td>+</td>\n",
       "      <td>144715581</td>\n",
       "      <td>144758303</td>\n",
       "      <td>gene</td>\n",
       "      <td>ENSG00000291150_chr1_+</td>\n",
       "    </tr>\n",
       "    <tr>\n",
       "      <th>21179</th>\n",
       "      <td>ENSG00000291150</td>\n",
       "      <td>chr2</td>\n",
       "      <td>ENSG00000291150</td>\n",
       "      <td>-</td>\n",
       "      <td>91586930</td>\n",
       "      <td>91660038</td>\n",
       "      <td>gene</td>\n",
       "      <td>ENSG00000291150_chr2_-</td>\n",
       "    </tr>\n",
       "  </tbody>\n",
       "</table>\n",
       "</div>"
      ],
      "text/plain": [
       "               gene_id Chromosome        gene_name Strand      Start  \\\n",
       "21178  ENSG00000291150       chr1  ENSG00000291150      +  144715581   \n",
       "21179  ENSG00000291150       chr2  ENSG00000291150      -   91586930   \n",
       "\n",
       "             End Feature             gene_id_new  \n",
       "21178  144758303    gene  ENSG00000291150_chr1_+  \n",
       "21179   91660038    gene  ENSG00000291150_chr2_-  "
      ]
     },
     "execution_count": 15,
     "metadata": {},
     "output_type": "execute_result"
    }
   ],
   "source": [
    "g_df.loc[g_df.gene_id=='ENSG00000291150']"
   ]
  },
  {
   "cell_type": "code",
   "execution_count": null,
   "id": "0675686b-c95e-4a84-afbc-b7e13d2d06af",
   "metadata": {},
   "outputs": [],
   "source": [
    "# are there gene names or gene ids?\n",
    "df = pd.read_csv(tsv, sep='\\t', header=None)\n",
    "df.columns = ['tid', 'gid']"
   ]
  },
  {
   "cell_type": "code",
   "execution_count": null,
   "id": "42948307-5fbf-480b-b3bf-1ce6fde23b0d",
   "metadata": {},
   "outputs": [
    {
     "data": {
      "text/html": [
       "<div>\n",
       "<style scoped>\n",
       "    .dataframe tbody tr th:only-of-type {\n",
       "        vertical-align: middle;\n",
       "    }\n",
       "\n",
       "    .dataframe tbody tr th {\n",
       "        vertical-align: top;\n",
       "    }\n",
       "\n",
       "    .dataframe thead th {\n",
       "        text-align: right;\n",
       "    }\n",
       "</style>\n",
       "<table border=\"1\" class=\"dataframe\">\n",
       "  <thead>\n",
       "    <tr style=\"text-align: right;\">\n",
       "      <th></th>\n",
       "      <th>tid</th>\n",
       "      <th>gid</th>\n",
       "    </tr>\n",
       "  </thead>\n",
       "  <tbody>\n",
       "    <tr>\n",
       "      <th>1219</th>\n",
       "      <td>transcript_359</td>\n",
       "      <td>ISG15_ENSG00000303623</td>\n",
       "    </tr>\n",
       "    <tr>\n",
       "      <th>1332</th>\n",
       "      <td>transcript_472</td>\n",
       "      <td>DPH5-DT_SLC30A7</td>\n",
       "    </tr>\n",
       "    <tr>\n",
       "      <th>1661</th>\n",
       "      <td>transcript_801</td>\n",
       "      <td>RNPC3_AMY2B</td>\n",
       "    </tr>\n",
       "    <tr>\n",
       "      <th>1722</th>\n",
       "      <td>transcript_862</td>\n",
       "      <td>CENPS_CORT</td>\n",
       "    </tr>\n",
       "    <tr>\n",
       "      <th>1725</th>\n",
       "      <td>transcript_865</td>\n",
       "      <td>PEX14_CENPS-CORT</td>\n",
       "    </tr>\n",
       "  </tbody>\n",
       "</table>\n",
       "</div>"
      ],
      "text/plain": [
       "                 tid                    gid\n",
       "1219  transcript_359  ISG15_ENSG00000303623\n",
       "1332  transcript_472        DPH5-DT_SLC30A7\n",
       "1661  transcript_801            RNPC3_AMY2B\n",
       "1722  transcript_862             CENPS_CORT\n",
       "1725  transcript_865       PEX14_CENPS-CORT"
      ]
     },
     "execution_count": 17,
     "metadata": {},
     "output_type": "execute_result"
    }
   ],
   "source": [
    "df.loc[(~df.gid.str.startswith('ENSG'))&\\\n",
    "       (~df.gid.str.startswith('novelGene'))].head()"
   ]
  },
  {
   "cell_type": "code",
   "execution_count": null,
   "id": "fc806faf-0bdb-4b5d-9389-4675084c3e86",
   "metadata": {},
   "outputs": [
    {
     "name": "stdout",
     "output_type": "stream",
     "text": [
      "19759\n"
     ]
    },
    {
     "data": {
      "text/html": [
       "<div>\n",
       "<style scoped>\n",
       "    .dataframe tbody tr th:only-of-type {\n",
       "        vertical-align: middle;\n",
       "    }\n",
       "\n",
       "    .dataframe tbody tr th {\n",
       "        vertical-align: top;\n",
       "    }\n",
       "\n",
       "    .dataframe thead th {\n",
       "        text-align: right;\n",
       "    }\n",
       "</style>\n",
       "<table border=\"1\" class=\"dataframe\">\n",
       "  <thead>\n",
       "    <tr style=\"text-align: right;\">\n",
       "      <th></th>\n",
       "      <th>tid</th>\n",
       "      <th>gid</th>\n",
       "    </tr>\n",
       "  </thead>\n",
       "  <tbody>\n",
       "    <tr>\n",
       "      <th>39</th>\n",
       "      <td>transcript_190125</td>\n",
       "      <td>novelGene_1</td>\n",
       "    </tr>\n",
       "    <tr>\n",
       "      <th>40</th>\n",
       "      <td>transcript_190126</td>\n",
       "      <td>novelGene_2</td>\n",
       "    </tr>\n",
       "    <tr>\n",
       "      <th>216</th>\n",
       "      <td>transcript_190169</td>\n",
       "      <td>novelGene_3</td>\n",
       "    </tr>\n",
       "    <tr>\n",
       "      <th>273</th>\n",
       "      <td>transcript_161</td>\n",
       "      <td>novelGene_ENSG00000307088_AS</td>\n",
       "    </tr>\n",
       "    <tr>\n",
       "      <th>274</th>\n",
       "      <td>transcript_162</td>\n",
       "      <td>novelGene_5</td>\n",
       "    </tr>\n",
       "  </tbody>\n",
       "</table>\n",
       "</div>"
      ],
      "text/plain": [
       "                   tid                           gid\n",
       "39   transcript_190125                   novelGene_1\n",
       "40   transcript_190126                   novelGene_2\n",
       "216  transcript_190169                   novelGene_3\n",
       "273     transcript_161  novelGene_ENSG00000307088_AS\n",
       "274     transcript_162                   novelGene_5"
      ]
     },
     "execution_count": 18,
     "metadata": {},
     "output_type": "execute_result"
    }
   ],
   "source": [
    "# what are these?\n",
    "print(len(df.loc[df.gid.str.startswith('novelGene')]))\n",
    "df.loc[df.gid.str.startswith('novelGene')].head()"
   ]
  },
  {
   "cell_type": "code",
   "execution_count": null,
   "id": "20e45568-c7a7-4aae-bfa6-a636d6e1c6d2",
   "metadata": {},
   "outputs": [],
   "source": [
    "tids = df.loc[df.gid=='ENSG00000291150', 'tid'].tolist()"
   ]
  },
  {
   "cell_type": "code",
   "execution_count": 20,
   "id": "c0058219-4449-46fd-a510-9d511adf9179",
   "metadata": {},
   "outputs": [
    {
     "data": {
      "text/html": [
       "<div>\n",
       "<style scoped>\n",
       "    .dataframe tbody tr th:only-of-type {\n",
       "        vertical-align: middle;\n",
       "    }\n",
       "\n",
       "    .dataframe tbody tr th {\n",
       "        vertical-align: top;\n",
       "    }\n",
       "\n",
       "    .dataframe thead th {\n",
       "        text-align: right;\n",
       "    }\n",
       "</style>\n",
       "<table border=\"1\" class=\"dataframe\">\n",
       "  <thead>\n",
       "    <tr style=\"text-align: right;\">\n",
       "      <th></th>\n",
       "      <th>Chromosome</th>\n",
       "      <th>Strand</th>\n",
       "    </tr>\n",
       "  </thead>\n",
       "  <tbody>\n",
       "    <tr>\n",
       "      <th>20576</th>\n",
       "      <td>chr1</td>\n",
       "      <td>+</td>\n",
       "    </tr>\n",
       "    <tr>\n",
       "      <th>421396</th>\n",
       "      <td>chr2</td>\n",
       "      <td>-</td>\n",
       "    </tr>\n",
       "  </tbody>\n",
       "</table>\n",
       "</div>"
      ],
      "text/plain": [
       "       Chromosome Strand\n",
       "20576        chr1      +\n",
       "421396       chr2      -"
      ]
     },
     "execution_count": 20,
     "metadata": {},
     "output_type": "execute_result"
    }
   ],
   "source": [
    "gtf_df.loc[gtf_df.transcript_id.isin(tids)][['Chromosome', 'Strand']].drop_duplicates()"
   ]
  },
  {
   "cell_type": "code",
   "execution_count": 21,
   "id": "297515c3-fdf1-4d61-a5a7-c5f899a19dbf",
   "metadata": {},
   "outputs": [
    {
     "data": {
      "text/html": [
       "<div>\n",
       "<style scoped>\n",
       "    .dataframe tbody tr th:only-of-type {\n",
       "        vertical-align: middle;\n",
       "    }\n",
       "\n",
       "    .dataframe tbody tr th {\n",
       "        vertical-align: top;\n",
       "    }\n",
       "\n",
       "    .dataframe thead th {\n",
       "        text-align: right;\n",
       "    }\n",
       "</style>\n",
       "<table border=\"1\" class=\"dataframe\">\n",
       "  <thead>\n",
       "    <tr style=\"text-align: right;\">\n",
       "      <th></th>\n",
       "      <th>gene_id</th>\n",
       "      <th>Chromosome</th>\n",
       "      <th>Strand</th>\n",
       "    </tr>\n",
       "  </thead>\n",
       "  <tbody>\n",
       "    <tr>\n",
       "      <th>15546</th>\n",
       "      <td>ENSG00000234394</td>\n",
       "      <td>1</td>\n",
       "      <td>2</td>\n",
       "    </tr>\n",
       "    <tr>\n",
       "      <th>19206</th>\n",
       "      <td>ENSG00000274487</td>\n",
       "      <td>1</td>\n",
       "      <td>2</td>\n",
       "    </tr>\n",
       "    <tr>\n",
       "      <th>21176</th>\n",
       "      <td>ENSG00000291150</td>\n",
       "      <td>2</td>\n",
       "      <td>2</td>\n",
       "    </tr>\n",
       "    <tr>\n",
       "      <th>21234</th>\n",
       "      <td>ENSG00000292327</td>\n",
       "      <td>2</td>\n",
       "      <td>1</td>\n",
       "    </tr>\n",
       "    <tr>\n",
       "      <th>21235</th>\n",
       "      <td>ENSG00000292331</td>\n",
       "      <td>2</td>\n",
       "      <td>1</td>\n",
       "    </tr>\n",
       "  </tbody>\n",
       "</table>\n",
       "</div>"
      ],
      "text/plain": [
       "               gene_id  Chromosome  Strand\n",
       "15546  ENSG00000234394           1       2\n",
       "19206  ENSG00000274487           1       2\n",
       "21176  ENSG00000291150           2       2\n",
       "21234  ENSG00000292327           2       1\n",
       "21235  ENSG00000292331           2       1"
      ]
     },
     "execution_count": 21,
     "metadata": {},
     "output_type": "execute_result"
    }
   ],
   "source": [
    "temp.head()"
   ]
  },
  {
   "cell_type": "code",
   "execution_count": null,
   "id": "0acd9275-0346-4e1d-b2c3-e32f71fb890c",
   "metadata": {},
   "outputs": [],
   "source": []
  },
  {
   "cell_type": "code",
   "execution_count": null,
   "id": "4b55f763-d39f-486e-9497-e3804da08d4a",
   "metadata": {},
   "outputs": [],
   "source": []
  },
  {
   "cell_type": "code",
   "execution_count": null,
   "id": "e9fd8b51-411a-4667-ab1b-0c9603f9676a",
   "metadata": {},
   "outputs": [],
   "source": []
  }
 ],
 "metadata": {
  "kernelspec": {
   "display_name": "Python 3",
   "language": "python",
   "name": "python3"
  },
  "language_info": {
   "codemirror_mode": {
    "name": "ipython",
    "version": 3
   },
   "file_extension": ".py",
   "mimetype": "text/x-python",
   "name": "python",
   "nbconvert_exporter": "python",
   "pygments_lexer": "ipython3",
   "version": "3.7.12"
  }
 },
 "nbformat": 4,
 "nbformat_minor": 5
}
