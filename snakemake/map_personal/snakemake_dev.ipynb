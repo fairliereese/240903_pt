{
 "cells": [
  {
   "cell_type": "code",
   "execution_count": 2,
   "id": "dbd41cb2-f2a6-482d-8eff-140a71042676",
   "metadata": {},
   "outputs": [],
   "source": [
    "import pandas as pd\n",
    "import numpy as np\n",
    "import scipy.stats as st\n",
    "import seaborn as sns\n",
    "import sys\n",
    "import os\n",
    "import matplotlib.pyplot as plt\n",
    "import swan_vis as swan\n",
    "import yaml\n",
    "from snakemake.io import expand\n",
    "import cerberus\n",
    "import pyranges as pr\n",
    "import upsetplot\n",
    "\n",
    "p = os.path.dirname(os.path.dirname(os.getcwd()))\n",
    "sys.path.append(p)\n",
    "\n",
    "from scripts.utils import *\n",
    "from scripts.vcf_utils import *\n",
    "from scripts.plotting import *\n",
    "from scripts.sm_utils import *"
   ]
  },
  {
   "cell_type": "code",
   "execution_count": 4,
   "id": "228dd7d1-9fab-4a14-9261-ecf18c7ebb42",
   "metadata": {},
   "outputs": [],
   "source": [
    "config = load_config()\n",
    "od = '../../'\n",
    "\n",
    "def proc_cfg(entry, od):\n",
    "    entry = entry.replace('../../', '')\n",
    "    entry = od+entry\n",
    "    return entry"
   ]
  },
  {
   "cell_type": "code",
   "execution_count": 12,
   "id": "40e3816e-36d3-4996-a0c4-8e685243db3e",
   "metadata": {},
   "outputs": [],
   "source": [
    "meta_file = '../config.tsv'\n",
    "meta_file_2 = 'config.tsv'\n",
    "genomes_file = 'genomes_config.tsv'\n",
    "\n",
    "df = parse_config(meta_file)\n",
    "df2 = pd.read_csv(meta_file_2, sep='\\t')\n",
    "df2['tech_rep'] = df2.cell_line_id+'_1'\n",
    "\n",
    "# TODO test\n",
    "# df2 = df2.loc[df2.cell_line_id == 'GM24385']\n",
    "\n",
    "# get the genomes to download\n",
    "g_df = pd.read_csv(genomes_file, sep='\\t')\n",
    "\n",
    "# maternal haplotypes\n",
    "g_df['aws_mat_link'] = g_df['hap2_aws_fasta']\n",
    "g_df = g_df.loc[g_df['aws_mat_link'].notnull()]\n",
    "assert len(g_df.loc[g_df['aws_mat_link'].str.contains('maternal')].index) == len(g_df.index)\n",
    "\n",
    "# paternal haplotypes\n",
    "g_df['aws_pat_link'] = g_df['hap1_aws_fasta']\n",
    "g_df = g_df.loc[g_df['aws_pat_link'].notnull()]\n",
    "assert len(g_df.loc[g_df['aws_pat_link'].str.contains('paternal')].index) == len(g_df.index)\n",
    "\n",
    "genome_cols = ['same_population_sample', 'european_sample',\t'afr_sample']\n",
    "assemblies = genome_cols\n",
    "\n",
    "genome_cols = ['same_population_sample', 'european_sample',\t'afr_sample']\n",
    "g_df = g_df.loc[(g_df['sample'].isin(df2[genome_cols[0]]))|\n",
    "                (g_df['sample'].isin(df2[genome_cols[1]]))|\n",
    "                (g_df['sample'].isin(df2[genome_cols[2]]))]\n",
    "\n",
    "# a little more df2 formatting\n",
    "df2 = df2[['tech_rep', 'same_population_sample',\n",
    "           'european_sample', 'afr_sample']].melt(id_vars='tech_rep')\n",
    "df2 = df2.reset_index()\n",
    "df2 = df2.rename({'variable':'assembly_status',\n",
    "                  'value': 'assembly_sample'},\n",
    "                  axis=1)\n",
    "\n",
    "# limit just to the samples where we'll do this\n",
    "df = df.loc[df.tech_rep.isin(df2.tech_rep.tolist())]\n",
    "\n",
    "# get a key for assembly status, assembly sample, and actual sample\n",
    "df2['dataset_key'] = df2.assembly_status+'_'+\\\n",
    "                     df2.assembly_sample+'_'+\\\n",
    "                     df2.tech_rep\n"
   ]
  },
  {
   "cell_type": "code",
   "execution_count": 9,
   "id": "c65bb3b9-401e-4148-b209-e2874c8f2a7d",
   "metadata": {},
   "outputs": [
    {
     "data": {
      "text/html": [
       "<div>\n",
       "<style scoped>\n",
       "    .dataframe tbody tr th:only-of-type {\n",
       "        vertical-align: middle;\n",
       "    }\n",
       "\n",
       "    .dataframe tbody tr th {\n",
       "        vertical-align: top;\n",
       "    }\n",
       "\n",
       "    .dataframe thead th {\n",
       "        text-align: right;\n",
       "    }\n",
       "</style>\n",
       "<table border=\"1\" class=\"dataframe\">\n",
       "  <thead>\n",
       "    <tr style=\"text-align: right;\">\n",
       "      <th></th>\n",
       "      <th>index</th>\n",
       "      <th>tech_rep</th>\n",
       "      <th>assembly_status</th>\n",
       "      <th>assembly_sample</th>\n",
       "      <th>dataset_key</th>\n",
       "    </tr>\n",
       "  </thead>\n",
       "  <tbody>\n",
       "    <tr>\n",
       "      <th>0</th>\n",
       "      <td>0</td>\n",
       "      <td>GM24385_1</td>\n",
       "      <td>same_population_sample</td>\n",
       "      <td>HG002</td>\n",
       "      <td>same_population_sample_HG002_GM24385_1</td>\n",
       "    </tr>\n",
       "    <tr>\n",
       "      <th>1</th>\n",
       "      <td>1</td>\n",
       "      <td>GM18906_1</td>\n",
       "      <td>same_population_sample</td>\n",
       "      <td>NA19240</td>\n",
       "      <td>same_population_sample_NA19240_GM18906_1</td>\n",
       "    </tr>\n",
       "    <tr>\n",
       "      <th>2</th>\n",
       "      <td>2</td>\n",
       "      <td>GM19240_1</td>\n",
       "      <td>same_population_sample</td>\n",
       "      <td>NA18906</td>\n",
       "      <td>same_population_sample_NA18906_GM19240_1</td>\n",
       "    </tr>\n",
       "    <tr>\n",
       "      <th>3</th>\n",
       "      <td>3</td>\n",
       "      <td>HG00621_1</td>\n",
       "      <td>same_population_sample</td>\n",
       "      <td>HG00673</td>\n",
       "      <td>same_population_sample_HG00673_HG00621_1</td>\n",
       "    </tr>\n",
       "    <tr>\n",
       "      <th>4</th>\n",
       "      <td>4</td>\n",
       "      <td>HG01928_1</td>\n",
       "      <td>same_population_sample</td>\n",
       "      <td>HG01952</td>\n",
       "      <td>same_population_sample_HG01952_HG01928_1</td>\n",
       "    </tr>\n",
       "  </tbody>\n",
       "</table>\n",
       "</div>"
      ],
      "text/plain": [
       "   index   tech_rep         assembly_status assembly_sample  \\\n",
       "0      0  GM24385_1  same_population_sample           HG002   \n",
       "1      1  GM18906_1  same_population_sample         NA19240   \n",
       "2      2  GM19240_1  same_population_sample         NA18906   \n",
       "3      3  HG00621_1  same_population_sample         HG00673   \n",
       "4      4  HG01928_1  same_population_sample         HG01952   \n",
       "\n",
       "                                dataset_key  \n",
       "0    same_population_sample_HG002_GM24385_1  \n",
       "1  same_population_sample_NA19240_GM18906_1  \n",
       "2  same_population_sample_NA18906_GM19240_1  \n",
       "3  same_population_sample_HG00673_HG00621_1  \n",
       "4  same_population_sample_HG01952_HG01928_1  "
      ]
     },
     "execution_count": 9,
     "metadata": {},
     "output_type": "execute_result"
    }
   ],
   "source": [
    "df2.head()"
   ]
  },
  {
   "cell_type": "code",
   "execution_count": 7,
   "id": "bbec46a4-4a04-43bc-af5b-79eb600a3b26",
   "metadata": {},
   "outputs": [
    {
     "data": {
      "text/plain": [
       "['../../data/map_personal/max_mapq_0_bool_summary.tsv',\n",
       " '../../data/map_personal/max_mapq_10_bool_summary.tsv']"
      ]
     },
     "execution_count": 7,
     "metadata": {},
     "output_type": "execute_result"
    }
   ],
   "source": [
    "expand(config['lr']['map_personal']['max_mapq_tsv_summary'],\n",
    "               thresh=[0, 10])"
   ]
  },
  {
   "cell_type": "code",
   "execution_count": 10,
   "id": "a29f5da5-43ea-46c7-967e-f27f60b2695f",
   "metadata": {},
   "outputs": [
    {
     "data": {
      "text/plain": [
       "['../../data/map_personal/GM24385_1/mapq_0_bool.tsv',\n",
       " '../../data/map_personal/GM18906_1/mapq_0_bool.tsv',\n",
       " '../../data/map_personal/GM19240_1/mapq_0_bool.tsv',\n",
       " '../../data/map_personal/HG00621_1/mapq_0_bool.tsv',\n",
       " '../../data/map_personal/HG01928_1/mapq_0_bool.tsv',\n",
       " '../../data/map_personal/HG01952_1/mapq_0_bool.tsv',\n",
       " '../../data/map_personal/GM24385_1/mapq_0_bool.tsv',\n",
       " '../../data/map_personal/GM18906_1/mapq_0_bool.tsv',\n",
       " '../../data/map_personal/GM19240_1/mapq_0_bool.tsv',\n",
       " '../../data/map_personal/HG00621_1/mapq_0_bool.tsv',\n",
       " '../../data/map_personal/HG01928_1/mapq_0_bool.tsv',\n",
       " '../../data/map_personal/HG01952_1/mapq_0_bool.tsv',\n",
       " '../../data/map_personal/GM24385_1/mapq_0_bool.tsv',\n",
       " '../../data/map_personal/GM18906_1/mapq_0_bool.tsv',\n",
       " '../../data/map_personal/GM19240_1/mapq_0_bool.tsv',\n",
       " '../../data/map_personal/HG00621_1/mapq_0_bool.tsv',\n",
       " '../../data/map_personal/HG01928_1/mapq_0_bool.tsv',\n",
       " '../../data/map_personal/HG01952_1/mapq_0_bool.tsv']"
      ]
     },
     "execution_count": 10,
     "metadata": {},
     "output_type": "execute_result"
    }
   ],
   "source": [
    "expand(expand(config['lr']['map_personal']['mapq_tsv'],\n",
    "                               zip,\n",
    "                               assembly_status=df2.assembly_status.tolist(),\n",
    "                               assembly_sample=df2.assembly_sample.tolist(),\n",
    "                               sample=df2.tech_rep.tolist(),\n",
    "                               allow_missing=True),\n",
    "                               thresh=0)"
   ]
  },
  {
   "cell_type": "code",
   "execution_count": 23,
   "id": "99148991-7627-4383-a5e8-d7b02e445e9c",
   "metadata": {},
   "outputs": [
    {
     "data": {
      "text/plain": [
       "['../../data/map_personal/same_population_sample/HG002_GM24385_1_mapqs.txt',\n",
       " '../../data/map_personal/european_sample/HG002_GM24385_1_mapqs.txt',\n",
       " '../../data/map_personal/afr_sample/HG02717_GM24385_1_mapqs.txt']"
      ]
     },
     "execution_count": 23,
     "metadata": {},
     "output_type": "execute_result"
    }
   ],
   "source": []
  },
  {
   "cell_type": "code",
   "execution_count": 25,
   "id": "3d36a963-bb1c-4eb2-bd58-9f1643831676",
   "metadata": {},
   "outputs": [],
   "source": [
    "def get_df_val(df, col1, col_dict, uniq_val=True):\n",
    "    temp = df.copy(deep=True)\n",
    "\n",
    "    for key, item in col_dict.items():\n",
    "        temp = temp.loc[temp[key] == item]\n",
    "\n",
    "    if uniq_val:\n",
    "        val = temp[col1].unique()\n",
    "        assert len(val) == 1\n",
    "        return val[0]\n",
    "    else:\n",
    "        return temp[col1].tolist()"
   ]
  },
  {
   "cell_type": "code",
   "execution_count": 29,
   "id": "71bb53d0-b08b-4dbd-bb68-79f4fa06d6eb",
   "metadata": {},
   "outputs": [
    {
     "data": {
      "text/plain": [
       "['GM24385_1', 'GM24385_1', 'GM24385_1']"
      ]
     },
     "execution_count": 29,
     "metadata": {},
     "output_type": "execute_result"
    }
   ],
   "source": [
    "df2.loc[df2.tech_rep==sample].assembly_status.tolist()\n",
    "get_df_val(df2, 'assembly_status', {'tech_rep':sample}, uniq_val=False),\n",
    "get_df_val(df2, 'assembly_sample', {'tech_rep':sample}, uniq_val=False)\n",
    "get_df_val(df2, 'tech_rep', {'tech_rep':sample}, uniq_val=False)\n",
    "# df2.loc[df2.tech_rep==sample].assembly_sample.tolist()\n",
    "# df2.loc[df2.tech_rep==sample].tech_rep.tolist()"
   ]
  },
  {
   "cell_type": "code",
   "execution_count": null,
   "id": "6cf2ae62-e7ea-4bcd-b69f-69d11581e184",
   "metadata": {},
   "outputs": [],
   "source": [
    "sample = 'GM24385_1'\n",
    "expand(config['lr']['map_personal']['bam_mapqs'],\n",
    "               zip,\n",
    "               assembly_status=get_df_val(df2, 'assembly_status', {'tech_rep':sample}, uniq_val=False),\n",
    "               assembly_sample=get_df_val(df2, 'assembly_sample', {'tech_rep':sample}, uniq_val=False),\n",
    "               sample=df2.loc[df2.tech_rep==sample].tech_rep.tolist())"
   ]
  },
  {
   "cell_type": "code",
   "execution_count": null,
   "id": "596a7907-f8ab-4111-8c77-e9103fec8db1",
   "metadata": {},
   "outputs": [],
   "source": []
  }
 ],
 "metadata": {
  "kernelspec": {
   "display_name": "Python 3",
   "language": "python",
   "name": "python3"
  },
  "language_info": {
   "codemirror_mode": {
    "name": "ipython",
    "version": 3
   },
   "file_extension": ".py",
   "mimetype": "text/x-python",
   "name": "python",
   "nbconvert_exporter": "python",
   "pygments_lexer": "ipython3",
   "version": "3.7.12"
  }
 },
 "nbformat": 4,
 "nbformat_minor": 5
}
