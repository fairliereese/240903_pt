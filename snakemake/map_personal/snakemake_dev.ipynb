{
 "cells": [
  {
   "cell_type": "code",
   "execution_count": 2,
   "id": "dbd41cb2-f2a6-482d-8eff-140a71042676",
   "metadata": {},
   "outputs": [],
   "source": [
    "import pandas as pd\n",
    "import numpy as np\n",
    "import scipy.stats as st\n",
    "import seaborn as sns\n",
    "import sys\n",
    "import os\n",
    "import matplotlib.pyplot as plt\n",
    "import swan_vis as swan\n",
    "import yaml\n",
    "from snakemake.io import expand\n",
    "import cerberus\n",
    "import pyranges as pr\n",
    "import upsetplot\n",
    "\n",
    "p = os.path.dirname(os.path.dirname(os.getcwd()))\n",
    "sys.path.append(p)\n",
    "\n",
    "from scripts.utils import *\n",
    "from scripts.vcf_utils import *\n",
    "from scripts.plotting import *\n",
    "from scripts.sm_utils import *"
   ]
  },
  {
   "cell_type": "code",
   "execution_count": 4,
   "id": "228dd7d1-9fab-4a14-9261-ecf18c7ebb42",
   "metadata": {},
   "outputs": [],
   "source": [
    "config = load_config()\n",
    "od = '../../'\n",
    "\n",
    "def proc_cfg(entry, od):\n",
    "    entry = entry.replace('../../', '')\n",
    "    entry = od+entry\n",
    "    return entry"
   ]
  },
  {
   "cell_type": "code",
   "execution_count": 44,
   "id": "40e3816e-36d3-4996-a0c4-8e685243db3e",
   "metadata": {},
   "outputs": [],
   "source": [
    "meta_file = '../config.tsv'\n",
    "meta_file_2 = 'config.tsv'\n",
    "genomes_file = 'genomes_config.tsv'\n",
    "\n",
    "df = parse_config(meta_file)\n",
    "df2 = pd.read_csv(meta_file_2, sep='\\t')\n",
    "df2['tech_rep'] = df2.cell_line_id+'_1'\n",
    "df2['same_sample'] = df2['pangenome_code']\n",
    "\n",
    "# TODO test\n",
    "# df2 = df2.loc[df2.cell_line_id == 'GM24385']\n",
    "\n",
    "# get the genomes to download\n",
    "g_df = pd.read_csv(genomes_file, sep='\\t')\n",
    "\n",
    "# maternal haplotypes\n",
    "g_df['aws_mat_link'] = g_df['hap2_aws_fasta']\n",
    "g_df = g_df.loc[g_df['aws_mat_link'].notnull()]\n",
    "assert len(g_df.loc[g_df['aws_mat_link'].str.contains('maternal')].index) == len(g_df.index)\n",
    "\n",
    "# paternal haplotypes\n",
    "g_df['aws_pat_link'] = g_df['hap1_aws_fasta']\n",
    "g_df = g_df.loc[g_df['aws_pat_link'].notnull()]\n",
    "assert len(g_df.loc[g_df['aws_pat_link'].str.contains('paternal')].index) == len(g_df.index)\n",
    "\n",
    "\n",
    "genome_cols = ['same_population_sample', 'european_sample',\t'afr_sample', 'same_sample']\n",
    "assemblies = genome_cols\n",
    "g_df = g_df.loc[(g_df['sample'].isin(df2[genome_cols[0]]))|\n",
    "                (g_df['sample'].isin(df2[genome_cols[1]]))|\n",
    "                (g_df['sample'].isin(df2[genome_cols[2]]))|\n",
    "                (g_df['sample'].isin(df2[genome_cols[3]]))]\n",
    "\n",
    "# a little more df2 formatting\n",
    "df2 = df2[['tech_rep']+assemblies].melt(id_vars='tech_rep')\n",
    "df2 = df2.reset_index()\n",
    "df2 = df2.rename({'variable':'assembly_status',\n",
    "                  'value': 'assembly_sample'},\n",
    "                  axis=1)\n",
    "\n",
    "\n",
    "# limit just to the samples where we'll do this\n",
    "df = df.loc[df.tech_rep.isin(df2.tech_rep.tolist())]\n",
    "\n",
    "# get a key for assembly status, assembly sample, and actual sample\n",
    "df2['dataset_key'] = df2.assembly_status+'_'+\\\n",
    "                     df2.assembly_sample+'_'+\\\n",
    "                     df2.tech_rep"
   ]
  },
  {
   "cell_type": "code",
   "execution_count": 38,
   "id": "c65bb3b9-401e-4148-b209-e2874c8f2a7d",
   "metadata": {},
   "outputs": [
    {
     "data": {
      "text/html": [
       "<div>\n",
       "<style scoped>\n",
       "    .dataframe tbody tr th:only-of-type {\n",
       "        vertical-align: middle;\n",
       "    }\n",
       "\n",
       "    .dataframe tbody tr th {\n",
       "        vertical-align: top;\n",
       "    }\n",
       "\n",
       "    .dataframe thead th {\n",
       "        text-align: right;\n",
       "    }\n",
       "</style>\n",
       "<table border=\"1\" class=\"dataframe\">\n",
       "  <thead>\n",
       "    <tr style=\"text-align: right;\">\n",
       "      <th></th>\n",
       "      <th>index</th>\n",
       "      <th>tech_rep</th>\n",
       "      <th>assembly_status</th>\n",
       "      <th>assembly_sample</th>\n",
       "      <th>dataset_key</th>\n",
       "    </tr>\n",
       "  </thead>\n",
       "  <tbody>\n",
       "    <tr>\n",
       "      <th>1</th>\n",
       "      <td>1</td>\n",
       "      <td>GM18906_1</td>\n",
       "      <td>same_population_sample</td>\n",
       "      <td>NA19240</td>\n",
       "      <td>same_population_sample_NA19240_GM18906_1</td>\n",
       "    </tr>\n",
       "    <tr>\n",
       "      <th>7</th>\n",
       "      <td>7</td>\n",
       "      <td>GM18906_1</td>\n",
       "      <td>european_sample</td>\n",
       "      <td>HG002</td>\n",
       "      <td>european_sample_HG002_GM18906_1</td>\n",
       "    </tr>\n",
       "    <tr>\n",
       "      <th>13</th>\n",
       "      <td>13</td>\n",
       "      <td>GM18906_1</td>\n",
       "      <td>afr_sample</td>\n",
       "      <td>HG02717</td>\n",
       "      <td>afr_sample_HG02717_GM18906_1</td>\n",
       "    </tr>\n",
       "  </tbody>\n",
       "</table>\n",
       "</div>"
      ],
      "text/plain": [
       "    index   tech_rep         assembly_status assembly_sample  \\\n",
       "1       1  GM18906_1  same_population_sample         NA19240   \n",
       "7       7  GM18906_1         european_sample           HG002   \n",
       "13     13  GM18906_1              afr_sample         HG02717   \n",
       "\n",
       "                                 dataset_key  \n",
       "1   same_population_sample_NA19240_GM18906_1  \n",
       "7            european_sample_HG002_GM18906_1  \n",
       "13              afr_sample_HG02717_GM18906_1  "
      ]
     },
     "execution_count": 38,
     "metadata": {},
     "output_type": "execute_result"
    }
   ],
   "source": [
    "df2.loc[df2.tech_rep=='GM18906_1']"
   ]
  },
  {
   "cell_type": "code",
   "execution_count": 33,
   "id": "a4c9f25c-6f89-471c-81a9-0adc13bb8e73",
   "metadata": {},
   "outputs": [
    {
     "data": {
      "text/html": [
       "<div>\n",
       "<style scoped>\n",
       "    .dataframe tbody tr th:only-of-type {\n",
       "        vertical-align: middle;\n",
       "    }\n",
       "\n",
       "    .dataframe tbody tr th {\n",
       "        vertical-align: top;\n",
       "    }\n",
       "\n",
       "    .dataframe thead th {\n",
       "        text-align: right;\n",
       "    }\n",
       "</style>\n",
       "<table border=\"1\" class=\"dataframe\">\n",
       "  <thead>\n",
       "    <tr style=\"text-align: right;\">\n",
       "      <th></th>\n",
       "      <th>sample</th>\n",
       "      <th>hap1_aws_fasta</th>\n",
       "      <th>hap2_aws_fasta</th>\n",
       "      <th>hap1_gcp_fasta</th>\n",
       "      <th>hap2_gcp_fasta</th>\n",
       "      <th>hap1_fasta_sha256</th>\n",
       "      <th>hap2_fasta_sha256</th>\n",
       "      <th>aws_mat_link</th>\n",
       "      <th>aws_pat_link</th>\n",
       "    </tr>\n",
       "  </thead>\n",
       "  <tbody>\n",
       "    <tr>\n",
       "      <th>2</th>\n",
       "      <td>HG00673</td>\n",
       "      <td>s3://human-pangenomics/working/HPRC/HG00673/as...</td>\n",
       "      <td>s3://human-pangenomics/working/HPRC/HG00673/as...</td>\n",
       "      <td>gs://fc-4310e737-a388-4a10-8c9e-babe06aaf0cf/w...</td>\n",
       "      <td>gs://fc-4310e737-a388-4a10-8c9e-babe06aaf0cf/w...</td>\n",
       "      <td>9650cdb2f090bb94dcb81d0cf9be27e2565de0489dc0d7...</td>\n",
       "      <td>0eef54ceca964b5a65c046529e5e433f0cb1a19d6d8a19...</td>\n",
       "      <td>s3://human-pangenomics/working/HPRC/HG00673/as...</td>\n",
       "      <td>s3://human-pangenomics/working/HPRC/HG00673/as...</td>\n",
       "    </tr>\n",
       "    <tr>\n",
       "      <th>13</th>\n",
       "      <td>HG01928</td>\n",
       "      <td>s3://human-pangenomics/working/HPRC/HG01928/as...</td>\n",
       "      <td>s3://human-pangenomics/working/HPRC/HG01928/as...</td>\n",
       "      <td>gs://fc-4310e737-a388-4a10-8c9e-babe06aaf0cf/w...</td>\n",
       "      <td>gs://fc-4310e737-a388-4a10-8c9e-babe06aaf0cf/w...</td>\n",
       "      <td>f394a6900c6ba13bb2b9e91ac3d2dcc4863fa5d1fc5a6c...</td>\n",
       "      <td>58fc6831a094299d6913b7d24b495790e70195badddec4...</td>\n",
       "      <td>s3://human-pangenomics/working/HPRC/HG01928/as...</td>\n",
       "      <td>s3://human-pangenomics/working/HPRC/HG01928/as...</td>\n",
       "    </tr>\n",
       "    <tr>\n",
       "      <th>14</th>\n",
       "      <td>HG01952</td>\n",
       "      <td>s3://human-pangenomics/working/HPRC/HG01952/as...</td>\n",
       "      <td>s3://human-pangenomics/working/HPRC/HG01952/as...</td>\n",
       "      <td>gs://fc-4310e737-a388-4a10-8c9e-babe06aaf0cf/w...</td>\n",
       "      <td>gs://fc-4310e737-a388-4a10-8c9e-babe06aaf0cf/w...</td>\n",
       "      <td>c6f0b80ab52d7c58c00fb4d59b46bb18569c00b3bf887a...</td>\n",
       "      <td>5b556ba7058119a135522443eac72f1a084772da2c4209...</td>\n",
       "      <td>s3://human-pangenomics/working/HPRC/HG01952/as...</td>\n",
       "      <td>s3://human-pangenomics/working/HPRC/HG01952/as...</td>\n",
       "    </tr>\n",
       "    <tr>\n",
       "      <th>23</th>\n",
       "      <td>HG02717</td>\n",
       "      <td>s3://human-pangenomics/working/HPRC/HG02717/as...</td>\n",
       "      <td>s3://human-pangenomics/working/HPRC/HG02717/as...</td>\n",
       "      <td>gs://fc-4310e737-a388-4a10-8c9e-babe06aaf0cf/w...</td>\n",
       "      <td>gs://fc-4310e737-a388-4a10-8c9e-babe06aaf0cf/w...</td>\n",
       "      <td>6d7754c4c61594d5ea3aecf9cff9e916d17db4ec727634...</td>\n",
       "      <td>90118c064532b848c572fb9050708c8d53ccce687633ce...</td>\n",
       "      <td>s3://human-pangenomics/working/HPRC/HG02717/as...</td>\n",
       "      <td>s3://human-pangenomics/working/HPRC/HG02717/as...</td>\n",
       "    </tr>\n",
       "    <tr>\n",
       "      <th>29</th>\n",
       "      <td>HG002</td>\n",
       "      <td>s3://human-pangenomics/working/HPRC_PLUS/HG002...</td>\n",
       "      <td>s3://human-pangenomics/working/HPRC_PLUS/HG002...</td>\n",
       "      <td>gs://fc-4310e737-a388-4a10-8c9e-babe06aaf0cf/w...</td>\n",
       "      <td>gs://fc-4310e737-a388-4a10-8c9e-babe06aaf0cf/w...</td>\n",
       "      <td>ec46feb51b343f030aae3e7c4781463a36f059a031f4aa...</td>\n",
       "      <td>9e0b7ae6b0727a8828cef61c7b216eabdb2f098fcd2940...</td>\n",
       "      <td>s3://human-pangenomics/working/HPRC_PLUS/HG002...</td>\n",
       "      <td>s3://human-pangenomics/working/HPRC_PLUS/HG002...</td>\n",
       "    </tr>\n",
       "  </tbody>\n",
       "</table>\n",
       "</div>"
      ],
      "text/plain": [
       "     sample                                     hap1_aws_fasta  \\\n",
       "2   HG00673  s3://human-pangenomics/working/HPRC/HG00673/as...   \n",
       "13  HG01928  s3://human-pangenomics/working/HPRC/HG01928/as...   \n",
       "14  HG01952  s3://human-pangenomics/working/HPRC/HG01952/as...   \n",
       "23  HG02717  s3://human-pangenomics/working/HPRC/HG02717/as...   \n",
       "29    HG002  s3://human-pangenomics/working/HPRC_PLUS/HG002...   \n",
       "\n",
       "                                       hap2_aws_fasta  \\\n",
       "2   s3://human-pangenomics/working/HPRC/HG00673/as...   \n",
       "13  s3://human-pangenomics/working/HPRC/HG01928/as...   \n",
       "14  s3://human-pangenomics/working/HPRC/HG01952/as...   \n",
       "23  s3://human-pangenomics/working/HPRC/HG02717/as...   \n",
       "29  s3://human-pangenomics/working/HPRC_PLUS/HG002...   \n",
       "\n",
       "                                       hap1_gcp_fasta  \\\n",
       "2   gs://fc-4310e737-a388-4a10-8c9e-babe06aaf0cf/w...   \n",
       "13  gs://fc-4310e737-a388-4a10-8c9e-babe06aaf0cf/w...   \n",
       "14  gs://fc-4310e737-a388-4a10-8c9e-babe06aaf0cf/w...   \n",
       "23  gs://fc-4310e737-a388-4a10-8c9e-babe06aaf0cf/w...   \n",
       "29  gs://fc-4310e737-a388-4a10-8c9e-babe06aaf0cf/w...   \n",
       "\n",
       "                                       hap2_gcp_fasta  \\\n",
       "2   gs://fc-4310e737-a388-4a10-8c9e-babe06aaf0cf/w...   \n",
       "13  gs://fc-4310e737-a388-4a10-8c9e-babe06aaf0cf/w...   \n",
       "14  gs://fc-4310e737-a388-4a10-8c9e-babe06aaf0cf/w...   \n",
       "23  gs://fc-4310e737-a388-4a10-8c9e-babe06aaf0cf/w...   \n",
       "29  gs://fc-4310e737-a388-4a10-8c9e-babe06aaf0cf/w...   \n",
       "\n",
       "                                    hap1_fasta_sha256  \\\n",
       "2   9650cdb2f090bb94dcb81d0cf9be27e2565de0489dc0d7...   \n",
       "13  f394a6900c6ba13bb2b9e91ac3d2dcc4863fa5d1fc5a6c...   \n",
       "14  c6f0b80ab52d7c58c00fb4d59b46bb18569c00b3bf887a...   \n",
       "23  6d7754c4c61594d5ea3aecf9cff9e916d17db4ec727634...   \n",
       "29  ec46feb51b343f030aae3e7c4781463a36f059a031f4aa...   \n",
       "\n",
       "                                    hap2_fasta_sha256  \\\n",
       "2   0eef54ceca964b5a65c046529e5e433f0cb1a19d6d8a19...   \n",
       "13  58fc6831a094299d6913b7d24b495790e70195badddec4...   \n",
       "14  5b556ba7058119a135522443eac72f1a084772da2c4209...   \n",
       "23  90118c064532b848c572fb9050708c8d53ccce687633ce...   \n",
       "29  9e0b7ae6b0727a8828cef61c7b216eabdb2f098fcd2940...   \n",
       "\n",
       "                                         aws_mat_link  \\\n",
       "2   s3://human-pangenomics/working/HPRC/HG00673/as...   \n",
       "13  s3://human-pangenomics/working/HPRC/HG01928/as...   \n",
       "14  s3://human-pangenomics/working/HPRC/HG01952/as...   \n",
       "23  s3://human-pangenomics/working/HPRC/HG02717/as...   \n",
       "29  s3://human-pangenomics/working/HPRC_PLUS/HG002...   \n",
       "\n",
       "                                         aws_pat_link  \n",
       "2   s3://human-pangenomics/working/HPRC/HG00673/as...  \n",
       "13  s3://human-pangenomics/working/HPRC/HG01928/as...  \n",
       "14  s3://human-pangenomics/working/HPRC/HG01952/as...  \n",
       "23  s3://human-pangenomics/working/HPRC/HG02717/as...  \n",
       "29  s3://human-pangenomics/working/HPRC_PLUS/HG002...  "
      ]
     },
     "execution_count": 33,
     "metadata": {},
     "output_type": "execute_result"
    }
   ],
   "source": [
    "g_df.head()"
   ]
  },
  {
   "cell_type": "code",
   "execution_count": 7,
   "id": "bbec46a4-4a04-43bc-af5b-79eb600a3b26",
   "metadata": {},
   "outputs": [
    {
     "data": {
      "text/plain": [
       "['../../data/map_personal/max_mapq_0_bool_summary.tsv',\n",
       " '../../data/map_personal/max_mapq_10_bool_summary.tsv']"
      ]
     },
     "execution_count": 7,
     "metadata": {},
     "output_type": "execute_result"
    }
   ],
   "source": [
    "expand(config['lr']['map_personal']['max_mapq_tsv_summary'],\n",
    "               thresh=[0, 10])"
   ]
  },
  {
   "cell_type": "code",
   "execution_count": 10,
   "id": "a29f5da5-43ea-46c7-967e-f27f60b2695f",
   "metadata": {},
   "outputs": [
    {
     "data": {
      "text/plain": [
       "['../../data/map_personal/GM24385_1/mapq_0_bool.tsv',\n",
       " '../../data/map_personal/GM18906_1/mapq_0_bool.tsv',\n",
       " '../../data/map_personal/GM19240_1/mapq_0_bool.tsv',\n",
       " '../../data/map_personal/HG00621_1/mapq_0_bool.tsv',\n",
       " '../../data/map_personal/HG01928_1/mapq_0_bool.tsv',\n",
       " '../../data/map_personal/HG01952_1/mapq_0_bool.tsv',\n",
       " '../../data/map_personal/GM24385_1/mapq_0_bool.tsv',\n",
       " '../../data/map_personal/GM18906_1/mapq_0_bool.tsv',\n",
       " '../../data/map_personal/GM19240_1/mapq_0_bool.tsv',\n",
       " '../../data/map_personal/HG00621_1/mapq_0_bool.tsv',\n",
       " '../../data/map_personal/HG01928_1/mapq_0_bool.tsv',\n",
       " '../../data/map_personal/HG01952_1/mapq_0_bool.tsv',\n",
       " '../../data/map_personal/GM24385_1/mapq_0_bool.tsv',\n",
       " '../../data/map_personal/GM18906_1/mapq_0_bool.tsv',\n",
       " '../../data/map_personal/GM19240_1/mapq_0_bool.tsv',\n",
       " '../../data/map_personal/HG00621_1/mapq_0_bool.tsv',\n",
       " '../../data/map_personal/HG01928_1/mapq_0_bool.tsv',\n",
       " '../../data/map_personal/HG01952_1/mapq_0_bool.tsv']"
      ]
     },
     "execution_count": 10,
     "metadata": {},
     "output_type": "execute_result"
    }
   ],
   "source": [
    "expand(expand(config['lr']['map_personal']['mapq_tsv'],\n",
    "                               zip,\n",
    "                               assembly_status=df2.assembly_status.tolist(),\n",
    "                               assembly_sample=df2.assembly_sample.tolist(),\n",
    "                               sample=df2.tech_rep.tolist(),\n",
    "                               allow_missing=True),\n",
    "                               thresh=0)"
   ]
  },
  {
   "cell_type": "code",
   "execution_count": 23,
   "id": "99148991-7627-4383-a5e8-d7b02e445e9c",
   "metadata": {},
   "outputs": [
    {
     "data": {
      "text/plain": [
       "['../../data/map_personal/same_population_sample/HG002_GM24385_1_mapqs.txt',\n",
       " '../../data/map_personal/european_sample/HG002_GM24385_1_mapqs.txt',\n",
       " '../../data/map_personal/afr_sample/HG02717_GM24385_1_mapqs.txt']"
      ]
     },
     "execution_count": 23,
     "metadata": {},
     "output_type": "execute_result"
    }
   ],
   "source": []
  },
  {
   "cell_type": "code",
   "execution_count": 25,
   "id": "3d36a963-bb1c-4eb2-bd58-9f1643831676",
   "metadata": {},
   "outputs": [],
   "source": [
    "def get_df_val(df, col1, col_dict, uniq_val=True):\n",
    "    temp = df.copy(deep=True)\n",
    "\n",
    "    for key, item in col_dict.items():\n",
    "        temp = temp.loc[temp[key] == item]\n",
    "\n",
    "    if uniq_val:\n",
    "        val = temp[col1].unique()\n",
    "        assert len(val) == 1\n",
    "        return val[0]\n",
    "    else:\n",
    "        return temp[col1].tolist()"
   ]
  },
  {
   "cell_type": "code",
   "execution_count": 29,
   "id": "71bb53d0-b08b-4dbd-bb68-79f4fa06d6eb",
   "metadata": {},
   "outputs": [
    {
     "data": {
      "text/plain": [
       "['GM24385_1', 'GM24385_1', 'GM24385_1']"
      ]
     },
     "execution_count": 29,
     "metadata": {},
     "output_type": "execute_result"
    }
   ],
   "source": [
    "df2.loc[df2.tech_rep==sample].assembly_status.tolist()\n",
    "get_df_val(df2, 'assembly_status', {'tech_rep':sample}, uniq_val=False),\n",
    "get_df_val(df2, 'assembly_sample', {'tech_rep':sample}, uniq_val=False)\n",
    "get_df_val(df2, 'tech_rep', {'tech_rep':sample}, uniq_val=False)\n",
    "# df2.loc[df2.tech_rep==sample].assembly_sample.tolist()\n",
    "# df2.loc[df2.tech_rep==sample].tech_rep.tolist()"
   ]
  },
  {
   "cell_type": "code",
   "execution_count": 30,
   "id": "6cf2ae62-e7ea-4bcd-b69f-69d11581e184",
   "metadata": {},
   "outputs": [
    {
     "data": {
      "text/plain": [
       "['../../data/map_personal/same_population_sample/HG002_GM24385_1_mapqs.txt',\n",
       " '../../data/map_personal/european_sample/HG002_GM24385_1_mapqs.txt',\n",
       " '../../data/map_personal/afr_sample/HG02717_GM24385_1_mapqs.txt']"
      ]
     },
     "execution_count": 30,
     "metadata": {},
     "output_type": "execute_result"
    }
   ],
   "source": [
    "sample = 'GM24385_1'\n",
    "expand(config['lr']['map_personal']['bam_mapqs'],\n",
    "               zip,\n",
    "               assembly_status=get_df_val(df2, 'assembly_status', {'tech_rep':sample}, uniq_val=False),\n",
    "               assembly_sample=get_df_val(df2, 'assembly_sample', {'tech_rep':sample}, uniq_val=False),\n",
    "               sample=get_df_val(df2, 'tech_rep', {'tech_rep':sample}, uniq_val=False))"
   ]
  },
  {
   "cell_type": "code",
   "execution_count": null,
   "id": "596a7907-f8ab-4111-8c77-e9103fec8db1",
   "metadata": {},
   "outputs": [],
   "source": []
  }
 ],
 "metadata": {
  "kernelspec": {
   "display_name": "Python 3",
   "language": "python",
   "name": "python3"
  },
  "language_info": {
   "codemirror_mode": {
    "name": "ipython",
    "version": 3
   },
   "file_extension": ".py",
   "mimetype": "text/x-python",
   "name": "python",
   "nbconvert_exporter": "python",
   "pygments_lexer": "ipython3",
   "version": "3.7.12"
  }
 },
 "nbformat": 4,
 "nbformat_minor": 5
}
