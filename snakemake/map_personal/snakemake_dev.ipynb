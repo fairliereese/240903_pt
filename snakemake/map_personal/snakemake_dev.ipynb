{
 "cells": [
  {
   "cell_type": "code",
   "execution_count": 2,
   "id": "dbd41cb2-f2a6-482d-8eff-140a71042676",
   "metadata": {},
   "outputs": [],
   "source": [
    "import pandas as pd\n",
    "import numpy as np\n",
    "import scipy.stats as st\n",
    "import seaborn as sns\n",
    "import sys\n",
    "import os\n",
    "import matplotlib.pyplot as plt\n",
    "import swan_vis as swan\n",
    "import yaml\n",
    "from snakemake.io import expand\n",
    "import cerberus\n",
    "import pyranges as pr\n",
    "import upsetplot\n",
    "\n",
    "p = os.path.dirname(os.path.dirname(os.getcwd()))\n",
    "sys.path.append(p)\n",
    "\n",
    "from scripts.utils import *\n",
    "from scripts.vcf_utils import *\n",
    "from scripts.plotting import *\n",
    "from scripts.sm_utils import *"
   ]
  },
  {
   "cell_type": "code",
   "execution_count": 4,
   "id": "228dd7d1-9fab-4a14-9261-ecf18c7ebb42",
   "metadata": {},
   "outputs": [],
   "source": [
    "config = load_config()\n",
    "od = '../../'\n",
    "\n",
    "def proc_cfg(entry, od):\n",
    "    entry = entry.replace('../../', '')\n",
    "    entry = od+entry\n",
    "    return entry"
   ]
  },
  {
   "cell_type": "code",
   "execution_count": 6,
   "id": "40e3816e-36d3-4996-a0c4-8e685243db3e",
   "metadata": {},
   "outputs": [],
   "source": [
    "meta_file = '../config.tsv'\n",
    "meta_file_2 = 'config.tsv'\n",
    "genomes_file = 'genomes_config.tsv'\n",
    "\n",
    "df = parse_config(meta_file)\n",
    "df2 = pd.read_csv(meta_file_2, sep='\\t')\n",
    "df2['tech_rep'] = df2.cell_line_id+'_1'\n",
    "\n",
    "# TODO test\n",
    "# df2 = df2.loc[df2.cell_line_id == 'GM24385']\n",
    "\n",
    "# get the genomes to download\n",
    "g_df = pd.read_csv(genomes_file, sep='\\t')\n",
    "\n",
    "# maternal haplotypes\n",
    "g_df['aws_mat_link'] = g_df['hap2_aws_fasta']\n",
    "g_df = g_df.loc[g_df['aws_mat_link'].notnull()]\n",
    "assert len(g_df.loc[g_df['aws_mat_link'].str.contains('maternal')].index) == len(g_df.index)\n",
    "\n",
    "# paternal haplotypes\n",
    "g_df['aws_pat_link'] = g_df['hap1_aws_fasta']\n",
    "g_df = g_df.loc[g_df['aws_pat_link'].notnull()]\n",
    "assert len(g_df.loc[g_df['aws_pat_link'].str.contains('paternal')].index) == len(g_df.index)\n",
    "\n",
    "\n",
    "genome_cols = ['same_population_sample', 'european_sample',\t'afr_sample']\n",
    "g_df = g_df.loc[(g_df['sample'].isin(df2[genome_cols[0]]))|\n",
    "                (g_df['sample'].isin(df2[genome_cols[1]]))|\n",
    "                (g_df['sample'].isin(df2[genome_cols[2]]))]\n",
    "\n",
    "# a little more df2 formatting\n",
    "df2 = df2[['tech_rep', 'same_population_sample',\n",
    "           'european_sample', 'afr_sample']].melt(id_vars='tech_rep')\n",
    "df2 = df2.reset_index()\n",
    "df2 = df2.rename({'variable':'assembly_status',\n",
    "                  'value': 'assembly_sample'},\n",
    "                  axis=1)\n",
    "\n",
    "# limit just to the samples where we'll do this\n",
    "df = df.loc[df.tech_rep.isin(df2.tech_rep.tolist())]\n",
    "\n",
    "# get a key for assembly status, assembly sample, and actual sample\n",
    "df2['dataset_key'] = df2.assembly_status+'_'+\\\n",
    "                     df2.assembly_sample+'_'+\\\n",
    "                     df2.tech_rep\n"
   ]
  },
  {
   "cell_type": "code",
   "execution_count": 7,
   "id": "bbec46a4-4a04-43bc-af5b-79eb600a3b26",
   "metadata": {},
   "outputs": [
    {
     "data": {
      "text/plain": [
       "['../../data/map_personal/max_mapq_0_bool_summary.tsv',\n",
       " '../../data/map_personal/max_mapq_10_bool_summary.tsv']"
      ]
     },
     "execution_count": 7,
     "metadata": {},
     "output_type": "execute_result"
    }
   ],
   "source": [
    "expand(config['lr']['map_personal']['max_mapq_tsv_summary'],\n",
    "               thresh=[0, 10])"
   ]
  },
  {
   "cell_type": "code",
   "execution_count": null,
   "id": "a29f5da5-43ea-46c7-967e-f27f60b2695f",
   "metadata": {},
   "outputs": [],
   "source": []
  }
 ],
 "metadata": {
  "kernelspec": {
   "display_name": "Python 3",
   "language": "python",
   "name": "python3"
  },
  "language_info": {
   "codemirror_mode": {
    "name": "ipython",
    "version": 3
   },
   "file_extension": ".py",
   "mimetype": "text/x-python",
   "name": "python",
   "nbconvert_exporter": "python",
   "pygments_lexer": "ipython3",
   "version": "3.7.12"
  }
 },
 "nbformat": 4,
 "nbformat_minor": 5
}
