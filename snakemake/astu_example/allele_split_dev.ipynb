{
 "cells": [
  {
   "cell_type": "code",
   "execution_count": 1,
   "id": "4a22c7c2-8472-43f0-8651-fdaa7f38bfd3",
   "metadata": {},
   "outputs": [],
   "source": [
    "import pysam"
   ]
  },
  {
   "cell_type": "code",
   "execution_count": 2,
   "id": "ee85a4f3-f4b5-4624-a421-c7a93dac3bec",
   "metadata": {},
   "outputs": [],
   "source": [
    "bam = '/Users/fairliereese/Documents/programming/mele_lab/projects/240903_pt/data/03_mapping/pantrx_general_mapping/genomic/7_NI2_GM18489.bam'\n"
   ]
  },
  {
   "cell_type": "code",
   "execution_count": 3,
   "id": "9eeb3c48-a954-420d-81cd-41d520f107fc",
   "metadata": {},
   "outputs": [
    {
     "data": {
      "text/plain": [
       "'/Users/fairliereese/miniconda3/envs/pysam/lib/python3.13/site-packages/pysam/__init__.py'"
      ]
     },
     "execution_count": 3,
     "metadata": {},
     "output_type": "execute_result"
    }
   ],
   "source": [
    "pysam.__file__"
   ]
  },
  {
   "cell_type": "code",
   "execution_count": 4,
   "id": "dcdbbb05-8714-4e86-a1d0-d7dadf777a14",
   "metadata": {},
   "outputs": [],
   "source": [
    "afile = pysam.AlignmentFile(bam, 'rb')"
   ]
  },
  {
   "cell_type": "code",
   "execution_count": 12,
   "id": "4e3d29cf-da6a-4395-bc9b-a95c00d1f2d4",
   "metadata": {},
   "outputs": [],
   "source": [
    "import array \n",
    "\n",
    "def count_coverage(afile,\n",
    "                   contig,\n",
    "                   start=None,\n",
    "                   stop=None,\n",
    "                   region=None,\n",
    "                   quality_threshold=15,\n",
    "                   read_callback='all',\n",
    "                   reference=None,\n",
    "                   end=None):\n",
    "    \"\"\"count the coverage of genomic positions by reads in :term:`region`.\n",
    "\n",
    "    The region is specified by :term:`contig`, `start` and `stop`.\n",
    "    :term:`reference` and `end` are also accepted for backward\n",
    "    compatibility as synonyms for :term:`contig` and `stop`,\n",
    "    respectively.  Alternatively, a `samtools`_ :term:`region`\n",
    "    string can be supplied.  The coverage is computed per-base [ACGT].\n",
    "\n",
    "    Parameters\n",
    "    ----------\n",
    "\n",
    "    contig : string\n",
    "        reference_name of the genomic region (chromosome)\n",
    "\n",
    "    start : int\n",
    "        start of the genomic region (0-based inclusive). If not\n",
    "        given, count from the start of the chromosome.\n",
    "\n",
    "    stop : int\n",
    "        end of the genomic region (0-based exclusive). If not given,\n",
    "        count to the end of the chromosome.\n",
    "\n",
    "    region : string\n",
    "        a region string.\n",
    "\n",
    "    quality_threshold : int\n",
    "        quality_threshold is the minimum quality score (in phred) a\n",
    "        base has to reach to be counted.\n",
    "\n",
    "    read_callback: string or function\n",
    "\n",
    "        select a call-back to ignore reads when counting. It can\n",
    "        be either a string with the following values:\n",
    "\n",
    "        ``all``\n",
    "            skip reads in which any of the following\n",
    "            flags are set: BAM_FUNMAP, BAM_FSECONDARY, BAM_FQCFAIL,\n",
    "            BAM_FDUP\n",
    "\n",
    "        ``nofilter``\n",
    "            uses every single read\n",
    "\n",
    "        Alternatively, `read_callback` can be a function\n",
    "        ``check_read(read)`` that should return True only for\n",
    "        those reads that shall be included in the counting.\n",
    "\n",
    "    reference : string\n",
    "        backward compatible synonym for `contig`\n",
    "\n",
    "    end : int\n",
    "        backward compatible synonym for `stop`\n",
    "\n",
    "    Raises\n",
    "    ------\n",
    "\n",
    "    ValueError\n",
    "        if the genomic coordinates are out of range or invalid.\n",
    "\n",
    "    Returns\n",
    "    -------\n",
    "\n",
    "    four array.arrays of the same length in order A C G T : tuple\n",
    "\n",
    "    \"\"\"\n",
    "\n",
    "    # cdef uint32_t contig_length = afile.get_reference_length(contig)\n",
    "    # cdef int _start = start if start is not None else 0\n",
    "    # cdef int _stop = stop if stop is not None else contig_length\n",
    "    # _stop = _stop if _stop < contig_length else contig_length\n",
    "\n",
    "    contig_length = afile.get_reference_length(contig)\n",
    "    _start = start if start is not None else 0\n",
    "    _stop = stop if stop is not None else contig_length\n",
    "    _stop = _stop if _stop < contig_length else contig_length\n",
    "\n",
    "    if _stop == _start:\n",
    "        raise ValueError(\"interval of size 0\")\n",
    "    if _stop < _start:\n",
    "        raise ValueError(\"interval of size less than 0\")\n",
    "\n",
    "    # cdef int length = _stop - _start\n",
    "    # cdef c_array.array int_array_template = array.array('L', [])\n",
    "    # cdef c_array.array count_a\n",
    "    # cdef c_array.array count_c\n",
    "    # cdef c_array.array count_g\n",
    "    # cdef c_array.array count_t\n",
    "    # count_a = c_array.clone(int_array_template, length, zero=True)\n",
    "    # count_c = c_array.clone(int_array_template, length, zero=True)\n",
    "    # count_g = c_array.clone(int_array_template, length, zero=True)\n",
    "    # count_t = c_array.clone(int_array_template, length, zero=True)\n",
    "\n",
    "    length = _stop - _start\n",
    "    # int_array_template = ['L', 0]\n",
    "    count_a = [['L', 0] for _ in range(length)]\n",
    "    count_c = [['L', 0] for _ in range(length)]\n",
    "    count_g = [['L', 0] for _ in range(length)]\n",
    "    count_t = [['L', 0] for _ in range(length)]\n",
    "\n",
    "    # # Data structures to store read names\n",
    "    # cdef list read_names_a, read_names_c, read_names_g, read_names_t\n",
    "    # read_names_a = [[] for _ in range(length)]\n",
    "    # read_names_c = [[] for _ in range(length)]\n",
    "    # read_names_g = [[] for _ in range(length)]\n",
    "    # read_names_t = [[] for _ in range(length)]\n",
    "\n",
    "    read_names_a = [[] for _ in range(length)]\n",
    "    read_names_c = [[] for _ in range(length)]\n",
    "    read_names_g = [[] for _ in range(length)]\n",
    "    read_names_t = [[] for _ in range(length)]\n",
    "\n",
    "    # cdef AlignedSegment read\n",
    "    # cdef cython.str seq\n",
    "    # cdef c_array.array quality\n",
    "    # cdef int qpos\n",
    "    # cdef int refpos\n",
    "    # cdef int c = 0\n",
    "    # cdef int filter_method = 0\n",
    "\n",
    "    c = 0\n",
    "    filter_method = 0\n",
    "    \n",
    "    if read_callback == \"all\":\n",
    "        filter_method = 1\n",
    "    elif read_callback == \"nofilter\":\n",
    "        filter_method = 2\n",
    "\n",
    "    # cdef int _threshold = quality_threshold or 0\n",
    "    _threshold = quality_threshold or 0\n",
    "    \n",
    "    for read in afile.fetch(contig=contig,\n",
    "                           reference=reference,\n",
    "                           start=start,\n",
    "                           stop=stop,\n",
    "                           end=end,\n",
    "                           region=region):\n",
    "        # apply filter\n",
    "        if filter_method == 1:\n",
    "            # filter = \"all\"\n",
    "            if (read.flag & (0x4 | 0x100 | 0x200 | 0x400)):\n",
    "                continue\n",
    "        elif filter_method == 2:\n",
    "            # filter = \"nofilter\"\n",
    "            pass\n",
    "        else:\n",
    "            if not read_callback(read):\n",
    "                continue\n",
    "\n",
    "        # count\n",
    "        seq = read.seq\n",
    "        if seq is None:\n",
    "            continue\n",
    "        quality = read.query_qualities\n",
    "\n",
    "        for qpos, refpos in read.get_aligned_pairs(True):\n",
    "            if qpos is not None and refpos is not None and \\\n",
    "               _start <= refpos < _stop:\n",
    "\n",
    "                # only check base quality if _threshold > 0\n",
    "                if (_threshold and quality and quality[qpos] >= _threshold) or not _threshold:\n",
    "                    if seq[qpos] == 'A':\n",
    "                        count_a[refpos - _start][1] += 1\n",
    "                        read_names_a[refpos - _start].append(read.query_name)\n",
    "                    if seq[qpos] == 'C':\n",
    "                        count_c[refpos - _start][1] += 1\n",
    "                        read_names_c[refpos - _start].append(read.query_name)\n",
    "                    if seq[qpos] == 'G':\n",
    "                        count_g[refpos - _start][1] += 1\n",
    "                        read_names_g[refpos - _start].append(read.query_name)\n",
    "                    if seq[qpos] == 'T':\n",
    "                        count_t[refpos - _start][1] += 1\n",
    "                        read_names_t[refpos - _start].append(read.query_name)\n",
    "\n",
    "    return count_a, count_c, count_g, count_t, \\\n",
    "      read_names_a, read_names_c, read_names_g, read_names_t"
   ]
  },
  {
   "cell_type": "code",
   "execution_count": 15,
   "id": "a4904ed2-d18e-46a6-b466-6a0d68f473df",
   "metadata": {},
   "outputs": [
    {
     "data": {
      "text/plain": [
       "(array('L', [26]), array('L', [16342]), array('L', [14813]), array('L', [8]))"
      ]
     },
     "execution_count": 15,
     "metadata": {},
     "output_type": "execute_result"
    }
   ],
   "source": [
    "# fwd strand, does pretty good\n",
    "variant = 'chr12:6,534,825'\n",
    "sample = 'YRI2'\n",
    "# ACGT\n",
    "# A : 187 (1%, 134+, 53- )\n",
    "# C : 19435 (53%, 8406+, 11029- )\n",
    "# G : 17213 (47%, 7513+, 9700- )\n",
    "# T : 120 (0%, 46+, 74- )\n",
    "a, c, g, t, a_reads, c_reads, g_reads, t_reads = count_coverage(afile, 'chr12', start=6534825-1, stop=6534825)\n",
    "afile.count_coverage('chr12', start=6534825-1, stop=6534825)\n"
   ]
  },
  {
   "cell_type": "code",
   "execution_count": 17,
   "id": "54a3c18a-e932-4b6a-8f6e-902d1c51a856",
   "metadata": {},
   "outputs": [
    {
     "name": "stdout",
     "output_type": "stream",
     "text": [
      "[['L', 26]]\n",
      "[['L', 16342]]\n",
      "[['L', 14813]]\n",
      "[['L', 8]]\n",
      "26\n",
      "16342\n"
     ]
    }
   ],
   "source": [
    "print(a)\n",
    "print(c)\n",
    "print(g)\n",
    "print(t)\n",
    "print(len(a_reads[0]))\n",
    "print(len(c_reads[0]))"
   ]
  },
  {
   "cell_type": "code",
   "execution_count": 16,
   "id": "11932a84-f0af-4672-93b9-e3484c1a2df8",
   "metadata": {},
   "outputs": [
    {
     "data": {
      "text/plain": [
       "(array('L', [0]), array('L', [217]), array('L', [0]), array('L', [239]))"
      ]
     },
     "execution_count": 16,
     "metadata": {},
     "output_type": "execute_result"
    }
   ],
   "source": [
    "# rev strand\n",
    "variant = 'chr12:6,748,870'\n",
    "sample = 'YRI2'\n",
    "bam = '/Users/fairliereese/Documents/programming/mele_lab/projects/240903_pt/data/03_mapping/pantrx_general_mapping/genomic/7_NI2_GM18489.bam'\n",
    "afile.count_coverage('chr12', start=6748870-1, stop=6748870)\n",
    "# AGCT\n",
    "# profile from IGV\n",
    "# Total count: 597\n",
    "# A : 0\n",
    "# C : 290 (49%, 155+, 135- )\n",
    "# G : 1 (0%, 1+, 0- )\n",
    "# T : 306 (51%, 171+, 135- )\n",
    "# N : 0\n",
    "# DEL: 12\n",
    "# INS: 5"
   ]
  },
  {
   "cell_type": "code",
   "execution_count": 17,
   "id": "27789a17-e5ba-41cb-be3f-4fa412e53217",
   "metadata": {},
   "outputs": [
    {
     "data": {
      "text/plain": [
       "(array('L', [1]), array('L', [3437]), array('L', [2]), array('L', [1496]))"
      ]
     },
     "execution_count": 17,
     "metadata": {},
     "output_type": "execute_result"
    }
   ],
   "source": [
    "# rev strand from lorals\n",
    "variant = 'chr6_31268790_T_C'\n",
    "sample = 'YRI2'\n",
    "bam = '/Users/fairliereese/Documents/programming/mele_lab/projects/240903_pt/data/03_mapping/pantrx_general_mapping/genomic/7_NI2_GM18489.bam'\n",
    "afile.count_coverage('chr6', start=31268790-1, stop=31268790)\n",
    "# AGCT\n",
    "# profile from IGV\n",
    "# Total count: 5753\n",
    "# A : 27 (0%, 14+, 13- )\n",
    "# C : 3945 (69%, 2258+, 1687- )\n",
    "# G : 18 (0%, 6+, 12- )\n",
    "# T : 1763 (31%, 1008+, 755- )\n",
    "# N : 0\n",
    "# DEL: 88\n",
    "# INS: 13"
   ]
  },
  {
   "cell_type": "code",
   "execution_count": null,
   "id": "714446db-c62d-40f3-b703-946cc5046799",
   "metadata": {},
   "outputs": [],
   "source": [
    "# ok so start = pos-1, stop=pos works"
   ]
  }
 ],
 "metadata": {
  "kernelspec": {
   "display_name": "Python 3 (ipykernel)",
   "language": "python",
   "name": "python3"
  },
  "language_info": {
   "codemirror_mode": {
    "name": "ipython",
    "version": 3
   },
   "file_extension": ".py",
   "mimetype": "text/x-python",
   "name": "python",
   "nbconvert_exporter": "python",
   "pygments_lexer": "ipython3",
   "version": "3.13.0"
  }
 },
 "nbformat": 4,
 "nbformat_minor": 5
}
