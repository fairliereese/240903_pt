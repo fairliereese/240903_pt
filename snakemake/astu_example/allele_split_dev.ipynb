{
 "cells": [
  {
   "cell_type": "code",
   "execution_count": 1,
   "id": "4a22c7c2-8472-43f0-8651-fdaa7f38bfd3",
   "metadata": {},
   "outputs": [],
   "source": [
    "import pysam"
   ]
  },
  {
   "cell_type": "code",
   "execution_count": 2,
   "id": "ee85a4f3-f4b5-4624-a421-c7a93dac3bec",
   "metadata": {},
   "outputs": [],
   "source": []
  },
  {
   "cell_type": "code",
   "execution_count": 3,
   "id": "9eeb3c48-a954-420d-81cd-41d520f107fc",
   "metadata": {},
   "outputs": [
    {
     "data": {
      "text/plain": [
       "'/Users/fairliereese/miniconda3/envs/pysam/lib/python3.13/site-packages/pysam/__init__.py'"
      ]
     },
     "execution_count": 3,
     "metadata": {},
     "output_type": "execute_result"
    }
   ],
   "source": [
    "pysam.__file__"
   ]
  },
  {
   "cell_type": "code",
   "execution_count": 4,
   "id": "dcdbbb05-8714-4e86-a1d0-d7dadf777a14",
   "metadata": {},
   "outputs": [],
   "source": [
    "afile = pysam.AlignmentFile(bam, 'rb')"
   ]
  },
  {
   "cell_type": "code",
   "execution_count": 12,
   "id": "4e3d29cf-da6a-4395-bc9b-a95c00d1f2d4",
   "metadata": {},
   "outputs": [],
   "source": []
  },
  {
   "cell_type": "code",
   "execution_count": 14,
   "id": "a4904ed2-d18e-46a6-b466-6a0d68f473df",
   "metadata": {},
   "outputs": [
    {
     "data": {
      "text/plain": [
       "(array('L', [26]), array('L', [16342]), array('L', [14813]), array('L', [8]))"
      ]
     },
     "execution_count": 14,
     "metadata": {},
     "output_type": "execute_result"
    }
   ],
   "source": [
    "# fwd strand, does pretty good\n",
    "afile.count_coverage('chr12', start=6534825-1, stop=6534825)\n",
    "variant = 'chr12:6,534,825'\n",
    "sample = 'YRI2'\n",
    "bam = '/Users/fairliereese/Documents/programming/mele_lab/projects/240903_pt/data/03_mapping/pantrx_general_mapping/genomic/7_NI2_GM18489.bam'\n",
    "# ACGT\n",
    "# A : 187 (1%, 134+, 53- )\n",
    "# C : 19435 (53%, 8406+, 11029- )\n",
    "# G : 17213 (47%, 7513+, 9700- )\n",
    "# T : 120 (0%, 46+, 74- )"
   ]
  },
  {
   "cell_type": "code",
   "execution_count": 16,
   "id": "11932a84-f0af-4672-93b9-e3484c1a2df8",
   "metadata": {},
   "outputs": [
    {
     "data": {
      "text/plain": [
       "(array('L', [0]), array('L', [217]), array('L', [0]), array('L', [239]))"
      ]
     },
     "execution_count": 16,
     "metadata": {},
     "output_type": "execute_result"
    }
   ],
   "source": [
    "# rev strand\n",
    "variant = 'chr12:6,748,870'\n",
    "sample = 'YRI2'\n",
    "bam = '/Users/fairliereese/Documents/programming/mele_lab/projects/240903_pt/data/03_mapping/pantrx_general_mapping/genomic/7_NI2_GM18489.bam'\n",
    "afile.count_coverage('chr12', start=6748870-1, stop=6748870)\n",
    "# AGCT\n",
    "# profile from IGV\n",
    "# Total count: 597\n",
    "# A : 0\n",
    "# C : 290 (49%, 155+, 135- )\n",
    "# G : 1 (0%, 1+, 0- )\n",
    "# T : 306 (51%, 171+, 135- )\n",
    "# N : 0\n",
    "# DEL: 12\n",
    "# INS: 5"
   ]
  },
  {
   "cell_type": "code",
   "execution_count": 17,
   "id": "27789a17-e5ba-41cb-be3f-4fa412e53217",
   "metadata": {},
   "outputs": [
    {
     "data": {
      "text/plain": [
       "(array('L', [1]), array('L', [3437]), array('L', [2]), array('L', [1496]))"
      ]
     },
     "execution_count": 17,
     "metadata": {},
     "output_type": "execute_result"
    }
   ],
   "source": [
    "# rev strand from lorals\n",
    "variant = 'chr6_31268790_T_C'\n",
    "sample = 'YRI2'\n",
    "bam = '/Users/fairliereese/Documents/programming/mele_lab/projects/240903_pt/data/03_mapping/pantrx_general_mapping/genomic/7_NI2_GM18489.bam'\n",
    "afile.count_coverage('chr6', start=31268790-1, stop=31268790)\n",
    "# AGCT\n",
    "# profile from IGV\n",
    "# Total count: 5753\n",
    "# A : 27 (0%, 14+, 13- )\n",
    "# C : 3945 (69%, 2258+, 1687- )\n",
    "# G : 18 (0%, 6+, 12- )\n",
    "# T : 1763 (31%, 1008+, 755- )\n",
    "# N : 0\n",
    "# DEL: 88\n",
    "# INS: 13"
   ]
  },
  {
   "cell_type": "code",
   "execution_count": null,
   "id": "714446db-c62d-40f3-b703-946cc5046799",
   "metadata": {},
   "outputs": [],
   "source": [
    "# ok so start = pos-1, stop=pos works"
   ]
  }
 ],
 "metadata": {
  "kernelspec": {
   "display_name": "Python 3 (ipykernel)",
   "language": "python",
   "name": "python3"
  },
  "language_info": {
   "codemirror_mode": {
    "name": "ipython",
    "version": 3
   },
   "file_extension": ".py",
   "mimetype": "text/x-python",
   "name": "python",
   "nbconvert_exporter": "python",
   "pygments_lexer": "ipython3",
   "version": "3.13.0"
  }
 },
 "nbformat": 4,
 "nbformat_minor": 5
}
