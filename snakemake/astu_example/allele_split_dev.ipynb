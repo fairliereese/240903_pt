{
 "cells": [
  {
   "cell_type": "code",
   "execution_count": 1,
   "id": "4a22c7c2-8472-43f0-8651-fdaa7f38bfd3",
   "metadata": {},
   "outputs": [],
   "source": [
    "import pysam"
   ]
  },
  {
   "cell_type": "code",
   "execution_count": 2,
   "id": "ee85a4f3-f4b5-4624-a421-c7a93dac3bec",
   "metadata": {},
   "outputs": [],
   "source": [
    "variant = 'chr6_31268790_T_C'\n",
    "sample = 'YRI2'\n",
    "bam = '/Users/fairliereese/Documents/programming/mele_lab/projects/240903_pt/data/03_mapping/pantrx_general_mapping/genomic/7_NI2_GM18489.bam'"
   ]
  },
  {
   "cell_type": "code",
   "execution_count": 3,
   "id": "9eeb3c48-a954-420d-81cd-41d520f107fc",
   "metadata": {},
   "outputs": [
    {
     "data": {
      "text/plain": [
       "'/Users/fairliereese/miniconda3/envs/pysam/lib/python3.13/site-packages/pysam/__init__.py'"
      ]
     },
     "execution_count": 3,
     "metadata": {},
     "output_type": "execute_result"
    }
   ],
   "source": [
    "pysam.__file__"
   ]
  },
  {
   "cell_type": "code",
   "execution_count": 4,
   "id": "dcdbbb05-8714-4e86-a1d0-d7dadf777a14",
   "metadata": {},
   "outputs": [],
   "source": [
    "afile = pysam.AlignmentFile(bam, 'rb')"
   ]
  },
  {
   "cell_type": "code",
   "execution_count": 11,
   "id": "8a2de5b6-952e-47cd-a2dc-19b9fd4f795e",
   "metadata": {},
   "outputs": [
    {
     "data": {
      "text/plain": [
       "(array('L', [3]), array('L', [0]), array('L', [4864]), array('L', [0]))"
      ]
     },
     "execution_count": 11,
     "metadata": {},
     "output_type": "execute_result"
    }
   ],
   "source": [
    "afile.count_coverage('chr6', start=31268790, stop=31268791)\n",
    "afile.count_coverage('chr6', start=31268791, stop=31268792)\n",
    "\n",
    "# A C G T\n",
    "# in igv, C > T >> A > G"
   ]
  },
  {
   "cell_type": "code",
   "execution_count": 12,
   "id": "4e3d29cf-da6a-4395-bc9b-a95c00d1f2d4",
   "metadata": {},
   "outputs": [],
   "source": [
    "variant = 'chr12:6,534,825'\n",
    "sample = 'YRI2'\n",
    "bam = '/Users/fairliereese/Documents/programming/mele_lab/projects/240903_pt/data/03_mapping/pantrx_general_mapping/genomic/7_NI2_GM18489.bam'"
   ]
  },
  {
   "cell_type": "code",
   "execution_count": 14,
   "id": "a4904ed2-d18e-46a6-b466-6a0d68f473df",
   "metadata": {},
   "outputs": [
    {
     "data": {
      "text/plain": [
       "(array('L', [26]), array('L', [16342]), array('L', [14813]), array('L', [8]))"
      ]
     },
     "execution_count": 14,
     "metadata": {},
     "output_type": "execute_result"
    }
   ],
   "source": [
    "afile.count_coverage('chr12', start=6534825-1, stop=6534825)\n",
    "# ACGT\n",
    "A : 187 (1%, 134+, 53- )\n",
    "C : 19435 (53%, 8406+, 11029- )\n",
    "G : 17213 (47%, 7513+, 9700- )\n",
    "T : 120 (0%, 46+, 74- )"
   ]
  },
  {
   "cell_type": "code",
   "execution_count": null,
   "id": "11932a84-f0af-4672-93b9-e3484c1a2df8",
   "metadata": {},
   "outputs": [],
   "source": []
  }
 ],
 "metadata": {
  "kernelspec": {
   "display_name": "Python 3 (ipykernel)",
   "language": "python",
   "name": "python3"
  },
  "language_info": {
   "codemirror_mode": {
    "name": "ipython",
    "version": 3
   },
   "file_extension": ".py",
   "mimetype": "text/x-python",
   "name": "python",
   "nbconvert_exporter": "python",
   "pygments_lexer": "ipython3",
   "version": "3.13.0"
  }
 },
 "nbformat": 4,
 "nbformat_minor": 5
}
