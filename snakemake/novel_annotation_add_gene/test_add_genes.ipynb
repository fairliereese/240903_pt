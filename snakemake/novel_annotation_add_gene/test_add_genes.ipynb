{
 "cells": [
  {
   "cell_type": "code",
   "execution_count": 21,
   "id": "994a0bce-a8da-4c78-90a0-7c1d3a7c68ee",
   "metadata": {},
   "outputs": [],
   "source": [
    "import sys\n",
    "import pyranges as pr\n",
    "import cerberus\n",
    "import pandas as pd\n",
    "\n",
    "def make_hier_entry(df, how='t'):\n",
    "    \"\"\"\n",
    "    kind {'g','t'}\n",
    "    \"\"\"\n",
    "    agg_dict = {'min_coord': 'min', 'max_coord': 'max'}\n",
    "    t_df = df.copy(deep=True)\n",
    "    t_df['min_coord'] = t_df[['Start', 'End']].min(axis=1)\n",
    "    t_df['max_coord'] = t_df[['Start', 'End']].max(axis=1)\n",
    "    if how == 't':\n",
    "        gb_cols = ['Chromosome', 'Strand', 'gene_name',\n",
    "                   'gene_id', 'transcript_id', 'transcript_name',\n",
    "                   'tss_id', 'tes_id',\n",
    "                   'new_transcript_id', 'original_transcript_id',\n",
    "                   'original_transcript_name', 'ag1', 'ag2']\n",
    "    elif how == 'g':\n",
    "        gb_cols = ['Chromosome', 'Strand', 'gene_name',\n",
    "                   'gene_id']\n",
    "    gb_cols = list(set(gb_cols)&(set(t_df.columns)))\n",
    "\n",
    "    cols = gb_cols + ['min_coord', 'max_coord']\n",
    "    t_df = t_df[cols]\n",
    "    t_df = t_df.groupby(gb_cols, observed=True).agg(agg_dict).reset_index()\n",
    "    t_df.rename({'min_coord': 'Start', 'max_coord': 'End'}, axis=1, inplace=True)\n",
    "    if how == 't':\n",
    "        t_df['Feature'] = 'transcript'\n",
    "    elif how == 'g':\n",
    "        t_df['Feature'] = 'gene'\n",
    "\n",
    "    return t_df\n",
    "\n",
    "def fmt_gtf(ifile, ofile):\n",
    "    \"\"\"\n",
    "    Add gene name and transcript name\n",
    "    columns in a more sensible way.\n",
    "    \"\"\"\n",
    "\n",
    "    df = pr.read_gtf(ifile).df\n",
    "    \n",
    "    # overwrite gene names cause we have dupes\n",
    "    df['gene_name'] = df['gene_id']\n",
    "\n",
    "\n",
    "    # make new gene entries for everything\n",
    "    l1 = len(df.gene_id.unique().tolist())\n",
    "    # make gene entry\n",
    "    g_df = make_hier_entry(df, how='g')\n",
    "\n",
    "    g_df['Source'] = 'Cerberus'\n",
    "    g_df.loc[g_df.gene_id.str.startswith('ENSG'), 'Source'] = 'Cerberus'\n",
    "    g_df['Frame'] = '.'\n",
    "    g_df['Score'] = '.'\n",
    "    l2 = len(g_df.loc[g_df.Feature=='gene'].index)\n",
    "    assert l1 == l2\n",
    "\n",
    "    # concat them and then sort gtf\n",
    "    df = pd.concat([df, g_df], axis=0)\n",
    "    df = cerberus.sort_gtf(df)\n",
    "\n",
    "    # convert + save\n",
    "    df = pr.PyRanges(df)\n",
    "    df.to_gtf(ofile)"
   ]
  },
  {
   "cell_type": "code",
   "execution_count": 22,
   "id": "2ed59f78-497b-4ebc-b829-fb0a10ab1491",
   "metadata": {},
   "outputs": [],
   "source": [
    "input_file = '/Users/fairliereese/Documents/programming/mele_lab/projects/240903_pt/data/240925_filtered.gtf'\n",
    "output_file = 'temp'\n",
    "\n",
    "fmt_gtf(input_file, output_file)"
   ]
  },
  {
   "cell_type": "code",
   "execution_count": 16,
   "id": "f51fb3a1-66e7-4559-91d9-1505751cca4b",
   "metadata": {},
   "outputs": [
    {
     "data": {
      "text/html": [
       "<div>\n",
       "<style scoped>\n",
       "    .dataframe tbody tr th:only-of-type {\n",
       "        vertical-align: middle;\n",
       "    }\n",
       "\n",
       "    .dataframe tbody tr th {\n",
       "        vertical-align: top;\n",
       "    }\n",
       "\n",
       "    .dataframe thead th {\n",
       "        text-align: right;\n",
       "    }\n",
       "</style>\n",
       "<table border=\"1\" class=\"dataframe\">\n",
       "  <thead>\n",
       "    <tr style=\"text-align: right;\">\n",
       "      <th></th>\n",
       "      <th>Strand</th>\n",
       "      <th>gene_name</th>\n",
       "      <th>gene_id</th>\n",
       "      <th>Chromosome</th>\n",
       "      <th>Start</th>\n",
       "      <th>End</th>\n",
       "      <th>Feature</th>\n",
       "      <th>Source</th>\n",
       "      <th>Frame</th>\n",
       "      <th>Score</th>\n",
       "    </tr>\n",
       "  </thead>\n",
       "  <tbody>\n",
       "    <tr>\n",
       "      <th>1</th>\n",
       "      <td>-</td>\n",
       "      <td>ENSG00000000419.14</td>\n",
       "      <td>ENSG00000000419.14</td>\n",
       "      <td>chr20</td>\n",
       "      <td>50934667</td>\n",
       "      <td>50959140</td>\n",
       "      <td>gene</td>\n",
       "      <td>novel_gene</td>\n",
       "      <td>.</td>\n",
       "      <td>.</td>\n",
       "    </tr>\n",
       "  </tbody>\n",
       "</table>\n",
       "</div>"
      ],
      "text/plain": [
       "  Strand           gene_name             gene_id Chromosome     Start  \\\n",
       "1      -  ENSG00000000419.14  ENSG00000000419.14      chr20  50934667   \n",
       "\n",
       "        End Feature      Source Frame Score  \n",
       "1  50959140    gene  novel_gene     .     .  "
      ]
     },
     "execution_count": 16,
     "metadata": {},
     "output_type": "execute_result"
    }
   ],
   "source": [
    "g_df.loc[g_df.gene_id=='ENSG00000000419.14']"
   ]
  },
  {
   "cell_type": "code",
   "execution_count": null,
   "id": "fdf47bfc-0cb5-4790-a690-9b95a0dfa04d",
   "metadata": {},
   "outputs": [],
   "source": [
    "\n"
   ]
  }
 ],
 "metadata": {
  "kernelspec": {
   "display_name": "Python 3",
   "language": "python",
   "name": "python3"
  },
  "language_info": {
   "codemirror_mode": {
    "name": "ipython",
    "version": 3
   },
   "file_extension": ".py",
   "mimetype": "text/x-python",
   "name": "python",
   "nbconvert_exporter": "python",
   "pygments_lexer": "ipython3",
   "version": "3.7.12"
  }
 },
 "nbformat": 4,
 "nbformat_minor": 5
}
