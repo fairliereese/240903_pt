{
 "cells": [
  {
   "cell_type": "code",
   "execution_count": 17,
   "id": "059cba58-7672-4a55-bbaa-8970cdb479e0",
   "metadata": {},
   "outputs": [],
   "source": [
    "import pandas as pd\n",
    "import numpy as np\n",
    "import scipy.stats as st\n",
    "import seaborn as sns\n",
    "import sys\n",
    "import os\n",
    "import matplotlib.pyplot as plt\n",
    "import swan_vis as swan\n",
    "import yaml\n",
    "from snakemake.io import expand\n",
    "import cerberus\n",
    "import pyranges as pr\n",
    "import upsetplot\n",
    "\n",
    "p = os.path.dirname(os.path.dirname(os.getcwd()))\n",
    "sys.path.append(p)\n",
    "\n",
    "from scripts.utils import *\n",
    "from scripts.vcf_utils import *\n",
    "from scripts.plotting import *\n",
    "from scripts.sm_utils import *"
   ]
  },
  {
   "cell_type": "code",
   "execution_count": 18,
   "id": "12700925-8f3c-440f-8550-c247b7610e1f",
   "metadata": {},
   "outputs": [],
   "source": [
    "config = load_config()\n",
    "od = ''\n",
    "\n",
    "def proc_cfg(entry, od):\n",
    "    entry = entry.replace('../../', '')\n",
    "    entry = od+entry\n",
    "    return entry"
   ]
  },
  {
   "cell_type": "code",
   "execution_count": 19,
   "id": "fbdd6c28-ad7d-41e2-a288-63a3a573e7f0",
   "metadata": {},
   "outputs": [],
   "source": [
    "df = pd.read_csv('1000G_metadata.tsv', sep='\\t', comment='#', header=None)"
   ]
  },
  {
   "cell_type": "code",
   "execution_count": 20,
   "id": "da0f5970-391a-4936-9523-8a76df1af9a2",
   "metadata": {},
   "outputs": [],
   "source": [
    "pops = ['CEU', 'YRI']"
   ]
  },
  {
   "cell_type": "code",
   "execution_count": 21,
   "id": "16110ef4-50dd-47ff-bd2b-ac2b3c60ec91",
   "metadata": {},
   "outputs": [],
   "source": [
    "df = df[[9,10]]\n",
    "df.columns = ['cell_line_id', 'population']"
   ]
  },
  {
   "cell_type": "code",
   "execution_count": 22,
   "id": "0b32e1f5-dff6-447b-b3df-3d55e5e7c0e6",
   "metadata": {},
   "outputs": [
    {
     "data": {
      "text/html": [
       "<div>\n",
       "<style scoped>\n",
       "    .dataframe tbody tr th:only-of-type {\n",
       "        vertical-align: middle;\n",
       "    }\n",
       "\n",
       "    .dataframe tbody tr th {\n",
       "        vertical-align: top;\n",
       "    }\n",
       "\n",
       "    .dataframe thead th {\n",
       "        text-align: right;\n",
       "    }\n",
       "</style>\n",
       "<table border=\"1\" class=\"dataframe\">\n",
       "  <thead>\n",
       "    <tr style=\"text-align: right;\">\n",
       "      <th></th>\n",
       "      <th>cell_line_id</th>\n",
       "      <th>population</th>\n",
       "    </tr>\n",
       "  </thead>\n",
       "  <tbody>\n",
       "    <tr>\n",
       "      <th>0</th>\n",
       "      <td>NA12718</td>\n",
       "      <td>CEU</td>\n",
       "    </tr>\n",
       "    <tr>\n",
       "      <th>1</th>\n",
       "      <td>NA12748</td>\n",
       "      <td>CEU</td>\n",
       "    </tr>\n",
       "    <tr>\n",
       "      <th>2</th>\n",
       "      <td>NA12775</td>\n",
       "      <td>CEU</td>\n",
       "    </tr>\n",
       "    <tr>\n",
       "      <th>3</th>\n",
       "      <td>NA12777</td>\n",
       "      <td>CEU</td>\n",
       "    </tr>\n",
       "    <tr>\n",
       "      <th>4</th>\n",
       "      <td>NA12778</td>\n",
       "      <td>CEU</td>\n",
       "    </tr>\n",
       "  </tbody>\n",
       "</table>\n",
       "</div>"
      ],
      "text/plain": [
       "  cell_line_id population\n",
       "0      NA12718        CEU\n",
       "1      NA12748        CEU\n",
       "2      NA12775        CEU\n",
       "3      NA12777        CEU\n",
       "4      NA12778        CEU"
      ]
     },
     "execution_count": 22,
     "metadata": {},
     "output_type": "execute_result"
    }
   ],
   "source": [
    "df.head()"
   ]
  },
  {
   "cell_type": "code",
   "execution_count": 23,
   "id": "3a8e79dc-2e70-4b43-a884-4c8ce7158d52",
   "metadata": {},
   "outputs": [
    {
     "data": {
      "text/plain": [
       "['/gpfs/projects/bsc83/Projects/pantranscriptome/pclavell/09_other_analyses/02_prepare_vep_inputs/data/example_HLA_variants_v2.vcf']"
      ]
     },
     "execution_count": 23,
     "metadata": {},
     "output_type": "execute_result"
    }
   ],
   "source": [
    "expand(config['1000g']['hla_dpi_vars'],\n",
    "               pop=pops)"
   ]
  },
  {
   "cell_type": "code",
   "execution_count": 12,
   "id": "d55b7b68-8b1e-4766-acff-6bf1ccb9600b",
   "metadata": {},
   "outputs": [
    {
     "data": {
      "text/plain": [
       "'NA12718,NA12748,NA12775,NA12777,NA12778,NA12827,NA12829,NA12842,NA12843,NA12889,NA12890,NA06985,NA06986,NA06994,NA07000,NA07037,NA07051,NA07347,NA07357,NA10847,NA10851,NA11829,NA11830,NA11831,NA11832,NA11840,NA11881,NA11894,NA11918,NA11919,NA11920,NA11931,NA11992,NA11994,NA11995,NA12003,NA12004,NA12005,NA12006,NA07048,NA11932,NA11933,NA12046,NA12043,NA12044,NA12045,NA12144,NA12154,NA12155,NA12156,NA12234,NA12249,NA12287,NA12414,NA12489,NA12716,NA12717,NA12749,NA12750,NA12751,NA12760,NA12761,NA12762,NA12763,NA12776,NA12812,NA12813,NA12814,NA12815,NA12828,NA12872,NA12873,NA12874,NA12878,NA07056,NA06984,NA06989,NA11843,NA11892,NA11893,NA11930,NA12058,NA12272,NA12273,NA12275,NA12282,NA12283,NA12286,NA12340,NA12341,NA12342,NA12347,NA12348,NA12383,NA12399,NA12400,NA12413,NA12830,NA12546'"
      ]
     },
     "execution_count": 12,
     "metadata": {},
     "output_type": "execute_result"
    }
   ],
   "source": [
    "fmt_list_for_cli(df.loc[df.population=='CEU', 'cell_line_id'].unique())"
   ]
  },
  {
   "cell_type": "code",
   "execution_count": null,
   "id": "6b069092-7593-4b90-81b6-fc4544fdedf7",
   "metadata": {},
   "outputs": [],
   "source": []
  }
 ],
 "metadata": {
  "kernelspec": {
   "display_name": "Python 3",
   "language": "python",
   "name": "python3"
  },
  "language_info": {
   "codemirror_mode": {
    "name": "ipython",
    "version": 3
   },
   "file_extension": ".py",
   "mimetype": "text/x-python",
   "name": "python",
   "nbconvert_exporter": "python",
   "pygments_lexer": "ipython3",
   "version": "3.7.12"
  }
 },
 "nbformat": 4,
 "nbformat_minor": 5
}
